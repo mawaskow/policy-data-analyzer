{
 "cells": [
  {
   "cell_type": "code",
   "execution_count": 91,
   "id": "1c09ac97",
   "metadata": {},
   "outputs": [],
   "source": [
    "import boto3\n",
    "import csv\n",
    "import json\n",
    "import os\n",
    "import requests\n",
    "from io import BytesIO;\n",
    "from os import listdir\n",
    "from os.path import isfile, join"
   ]
  },
  {
   "cell_type": "code",
   "execution_count": 113,
   "id": "3a9a34d4",
   "metadata": {},
   "outputs": [],
   "source": [
    "path = \"/home/propietari/Documents/fitxers importants/WRI/Scraping_results/\"\n",
    "\n",
    "onlyfiles = [f for f in listdir(path) if isfile(join(path, f))]\n"
   ]
  },
  {
   "cell_type": "code",
   "execution_count": 114,
   "id": "dcaad27a",
   "metadata": {},
   "outputs": [
    {
     "data": {
      "text/plain": [
       "['ElSalvador_20210730.csv',\n",
       " 'USFR_2_20210311.csv',\n",
       " 'USFR_20210311.csv',\n",
       " 'USFR_1_20210311.csv',\n",
       " 'USFR_20210702.csv',\n",
       " 'LeyChile_20210702.csv',\n",
       " 'India_20210310.csv',\n",
       " 'Mexico_20210703.csv',\n",
       " 'USFR_20210310.csv',\n",
       " 'India_20210703.csv',\n",
       " 'El_Salvador_no_duplicates.csv']"
      ]
     },
     "execution_count": 114,
     "metadata": {},
     "output_type": "execute_result"
    }
   ],
   "source": [
    "onlyfiles"
   ]
  },
  {
   "cell_type": "code",
   "execution_count": 127,
   "id": "78849c7b",
   "metadata": {},
   "outputs": [],
   "source": [
    "# path = 'C:/Users/jordi/Documents/claus/'\n",
    "key_path = '/home/propietari/Documents/claus/'\n",
    "filename = 'AWS_S3_keys_wri.json'\n",
    "file = key_path + filename\n",
    "with open(file, 'r') as dict:\n",
    "    credentials = json.load(dict)\n",
    "                                      \n",
    "KEY = list(credentials)[0]\n",
    "SECRET = list(credentials.values())[0]\n",
    "# s3BucketName = \"wri-testing\"\n",
    "s3BucketName = \"wri-nlp-policy\"\n",
    "# region = 'eu-central-1'\n",
    "region = \"us-east-1\"\n",
    "\n",
    "s3 = boto3.resource(\n",
    "    service_name = 's3',\n",
    "    region_name = region,\n",
    "    aws_access_key_id = KEY,\n",
    "    aws_secret_access_key = SECRET\n",
    ")\n"
   ]
  },
  {
   "cell_type": "markdown",
   "id": "46f3cbf8",
   "metadata": {},
   "source": [
    "### El Salvador"
   ]
  },
  {
   "cell_type": "code",
   "execution_count": 48,
   "id": "883a1293",
   "metadata": {},
   "outputs": [],
   "source": [
    "# Loading the csv files from scraping to be compared\n",
    "file_position = 0\n",
    "with open(path + onlyfiles[file_position], 'r', encoding = \"Latin1\") as f:\n",
    "    reader = csv.reader(f)\n",
    "    ElSalvador_20210730 = [row[3] for row in reader]\n",
    "\n",
    "file_position = 10\n",
    "with open(path + onlyfiles[file_position], 'r', encoding = \"Latin1\") as f:\n",
    "    reader = csv.reader(f)\n",
    "    El_Salvador_no_duplicates = [row[7] for row in reader]"
   ]
  },
  {
   "cell_type": "code",
   "execution_count": 53,
   "id": "6b0473af",
   "metadata": {},
   "outputs": [
    {
     "name": "stdout",
     "output_type": "stream",
     "text": [
      "There are 460 items in the old file and 271 in the new one\n",
      "There are 0 duplicates in the new version\n",
      "The difference between the first scraping and the last version is of 189 entries\n",
      "There are 236 files in the old version that are not in the new version\n",
      "There are 47 files in the new version that are not in the old version\n",
      "There are 507 unique ids in the union of the files\n"
     ]
    }
   ],
   "source": [
    "ElSalvador_20210730_SET = set(ElSalvador_20210730)\n",
    "print(f\"There are {len(El_Salvador_no_duplicates)} items in the old file and {len(ElSalvador_20210730)} in the new one\")\n",
    "print(f\"There are {len(ElSalvador_20210730) - len(ElSalvador_20210730_SET)} duplicates in the new version\")\n",
    "print(f\"The difference between the first scraping and the last version is of {len(El_Salvador_no_duplicates) - len(ElSalvador_20210730)} entries\")\n",
    "not_in_newest_version = set(El_Salvador_no_duplicates) - ElSalvador_20210730_SET\n",
    "print(f\"There are {len(not_in_newest_version)} files in the old version that are not in the new version\")\n",
    "not_in_oldest_version =  ElSalvador_20210730_SET - set(El_Salvador_no_duplicates)\n",
    "print(f\"There are {len(not_in_oldest_version)} files in the new version that are not in the old version\")\n",
    "print(f\"There are {len(set(El_Salvador_no_duplicates) | ElSalvador_20210730_SET)} unique ids in the union of the files\")"
   ]
  },
  {
   "cell_type": "code",
   "execution_count": 69,
   "id": "ac9a7fc6",
   "metadata": {},
   "outputs": [],
   "source": [
    "# Going to merge the two files in one. The fields were not saved in the sae order so it is necessary to rearrange them\n",
    "\n",
    "file_position = 0\n",
    "with open(path + onlyfiles[file_position], 'r', encoding = \"Latin1\") as f:\n",
    "    reader = csv.reader(f)\n",
    "    ElSalvador_20210730 = list(reader)\n",
    "\n",
    "file_position = 10\n",
    "with open(path + onlyfiles[file_position], 'r') as f:\n",
    "    reader = csv.reader(f)\n",
    "    El_Salvador_no_duplicates = list(reader)\n",
    "    \n",
    "final_list = []\n",
    "ids = {}\n",
    "for item in El_Salvador_no_duplicates:\n",
    "    if item[7] not in ids:\n",
    "        final_item = []\n",
    "        final_item.append(item[7])\n",
    "        final_item.append('El Salvador')\n",
    "        final_item.append('Diario Oficial')\n",
    "        final_item.append(item[1])\n",
    "        final_item.append(item[4])\n",
    "        final_item.append(item[2])\n",
    "        final_item.append(item[6])\n",
    "        final_item.append(item[5])\n",
    "        final_item.append(item[3])\n",
    "        final_list.append(final_item)\n",
    "        ids[item[7]] = 0\n",
    "    \n",
    "for item in ElSalvador_20210730:\n",
    "    if item[3] not in ids:\n",
    "        final_item = []\n",
    "        final_item.append(item[3])\n",
    "        final_item.append(item[1])\n",
    "        final_item.append(item[2])\n",
    "        final_item.append(item[0])\n",
    "        final_item.append(item[7])\n",
    "        final_item.append(item[6])\n",
    "        final_item.append(item[10])\n",
    "        final_item.append(item[9])\n",
    "        final_item.append(item[4])\n",
    "        final_list.append(final_item)\n",
    "        ids[item[3]] = 0"
   ]
  },
  {
   "cell_type": "code",
   "execution_count": 81,
   "id": "a198e459",
   "metadata": {},
   "outputs": [],
   "source": [
    "# Checking the differences with bucket files\n",
    "\n",
    "language = \"spanish\"\n",
    "in_prefix = f\"{language}_documents/HSSC/sentences/\"\n",
    "ids_S3 = {}\n",
    "for i, obj in enumerate(s3.Bucket(s3BucketName).objects.all().filter(Prefix = in_prefix)):\n",
    "    if \".json\" in obj.key and \"ing\" not in obj.key:\n",
    "        name = obj.key.split(\"/\")[-1].split(\"_\")[0]\n",
    "        ids_S3[name] = 0\n",
    "        "
   ]
  },
  {
   "cell_type": "code",
   "execution_count": 84,
   "id": "c370f7b8",
   "metadata": {
    "scrolled": true
   },
   "outputs": [
    {
     "name": "stdout",
     "output_type": "stream",
     "text": [
      "The number of scraped items that are not in sentences is 236\n"
     ]
    }
   ],
   "source": [
    "print(f\"The number of scraped items that are not in sentences is {len(ids.keys() - ids_S3.keys())}\")"
   ]
  },
  {
   "cell_type": "code",
   "execution_count": 98,
   "id": "36ac6f5a",
   "metadata": {},
   "outputs": [
    {
     "name": "stdout",
     "output_type": "stream",
     "text": [
      "236\n"
     ]
    }
   ],
   "source": [
    "# Here we go and fetch the missing files and put them in the raw_pdf_updated folder\n",
    "prefix = f\"{language}_documents/raw_pdf_updated/\"\n",
    "\n",
    "\n",
    "counter = 0\n",
    "bucket = s3.Bucket(s3BucketName)\n",
    "for item in final_list:\n",
    "    if item[0] not in ids_S3:\n",
    "        counter += 1\n",
    "        key = prefix + item[0] + \".pdf\"\n",
    "        with requests.get(item[8], stream=True) as r:\n",
    "            bucket.upload_fileobj(r.raw, key)\n",
    "print(counter)"
   ]
  },
  {
   "cell_type": "markdown",
   "id": "23f9dcc7",
   "metadata": {},
   "source": [
    "### India"
   ]
  },
  {
   "cell_type": "code",
   "execution_count": 102,
   "id": "4fa6493b",
   "metadata": {},
   "outputs": [],
   "source": [
    "# Loading the csv files from scraping to be compared\n",
    "file_position = 6\n",
    "with open(path + onlyfiles[file_position], 'r', encoding = \"Latin1\") as f:\n",
    "    reader = csv.reader(f)\n",
    "    india_old = [row[3] for row in reader]\n",
    "\n",
    "file_position = 9\n",
    "with open(path + onlyfiles[file_position], 'r', encoding = \"Latin1\") as f:\n",
    "    reader = csv.reader(f)\n",
    "    india_new = [row[7] for row in reader]"
   ]
  },
  {
   "cell_type": "code",
   "execution_count": 119,
   "id": "84260dd8",
   "metadata": {},
   "outputs": [],
   "source": [
    "file_position = 6\n",
    "with open(path + onlyfiles[file_position], 'r', encoding=\"ISO-8859-1\") as f:#, encoding = \"Latin1\"\n",
    "    reader = csv.reader(f)\n",
    "    india_old = list(reader)\n",
    "\n",
    "file_position = 9\n",
    "with open(path + onlyfiles[file_position], 'r', encoding=\"ISO-8859-1\") as f:\n",
    "    reader = csv.reader(f)\n",
    "    india_new = list(reader)"
   ]
  },
  {
   "cell_type": "code",
   "execution_count": 120,
   "id": "b61d9b8a",
   "metadata": {},
   "outputs": [
    {
     "data": {
      "text/plain": [
       "['/ Department of AGRICULTURE AND MARKETING',\n",
       " 'India',\n",
       " 'India Code',\n",
       " '859644d69fdd0b1e66f1dcf5a42f2d9a3f31fe90.pdf',\n",
       " 'https://www.indiacode.nic.in/bitstream/123456789/6515/1/kishan_ayog_2016_hindi_.pdf#search=Miner OR Ore OR Pit OR Bog OR Buffer OR Corridor OR (Country planning) OR Cropland OR (Degraded land) OR Desert OR Floodplain OR Forestland OR Freshwater OR Grassland OR (Land use) OR Landowner OR Mangrove OR Marsh OR Meadow [1950 TO 2021]',\n",
       " 'Act',\n",
       " ' 2016-11-30',\n",
       " ' 201629',\n",
       " ' Uttarakhand',\n",
       " '',\n",
       " 'The Uttarakhand state farmer comission Act',\n",
       " 'https://www.indiacode.nic.in/handle/123456789/2109?view_type=search&sam_handle=123456789/1362']"
      ]
     },
     "execution_count": 120,
     "metadata": {},
     "output_type": "execute_result"
    }
   ],
   "source": [
    "india_old[0]"
   ]
  },
  {
   "cell_type": "code",
   "execution_count": 121,
   "id": "ae21cdb1",
   "metadata": {},
   "outputs": [
    {
     "data": {
      "text/plain": [
       "['',\n",
       " 'India',\n",
       " 'India Code',\n",
       " 'b6fcd452c47d5cff2bf2a492787ed56271db2e83.pdf',\n",
       " 'https://upload.indiacode.nic.in/showfile?actid=AC_CEN_16_18_00012_201638_1517807328204&type=rule&filename=caf%28ap%29_rules_2018.pdf',\n",
       " 'Rule',\n",
       " '20-11-2018',\n",
       " '',\n",
       " 'Federal',\n",
       " '',\n",
       " 'Compensatory Afforestation Fund Act 2016 Rules',\n",
       " 'https://www.indiacode.nic.in/handle/123456789/15740?view_type=search&sam_handle=123456789/2517']"
      ]
     },
     "execution_count": 121,
     "metadata": {},
     "output_type": "execute_result"
    }
   ],
   "source": [
    "india_new[0]"
   ]
  },
  {
   "cell_type": "markdown",
   "id": "70324a47",
   "metadata": {},
   "source": [
    "### Chile"
   ]
  },
  {
   "cell_type": "code",
   "execution_count": 124,
   "id": "fa200a30",
   "metadata": {},
   "outputs": [],
   "source": [
    "file_position = 5\n",
    "with open(path + onlyfiles[file_position], 'r', encoding=\"ISO-8859-1\") as f:#, encoding = \"Latin1\"\n",
    "    reader = csv.reader(f)\n",
    "    chile = list(reader)\n",
    "    \n",
    "final_list = []\n",
    "ids = {}\n",
    "for item in chile:\n",
    "    if item[7] not in ids:\n",
    "        final_item = []\n",
    "        final_item.append(item[3].split(\".\")[0])\n",
    "        final_item.append(item[1])\n",
    "        final_item.append(item[2])\n",
    "        final_item.append(item[0])\n",
    "        final_item.append(item[5])\n",
    "        final_item.append(item[6])\n",
    "        final_item.append(item[10])\n",
    "        final_item.append(item[9])\n",
    "        final_item.append(item[4])\n",
    "        final_list.append(final_item)\n",
    "        ids[item[3]] = 0\n"
   ]
  },
  {
   "cell_type": "code",
   "execution_count": 149,
   "id": "193a9155",
   "metadata": {},
   "outputs": [
    {
     "name": "stdout",
     "output_type": "stream",
     "text": [
      "3248\n"
     ]
    },
    {
     "data": {
      "text/plain": [
       "['MINISTERIO DEL MEDIO AMBIENTE; SERVICIO DE EVALUACIÓN AMBIENTAL; REGIÓN DE ÑUBLE',\n",
       " 'Chile',\n",
       " 'LeyChile',\n",
       " 'c3df19a5008129ee6de996e8027cb0eacff09b4b.txt',\n",
       " 'https://nuevo.leychile.cl/servicios/Consulta/Exportar?radioExportar=Normas&exportar_formato=txt&nombrearchivo=CHL/policy_1162116&exportar_con_notas_bcn=False&exportar_con_notas_originales=False&exportar_con_notas_al_pie=False&hddResultadoExportar=1162116.2021-07-01.0.0%23',\n",
       " 'Resolución 96 EXENTA',\n",
       " '2021-07-01',\n",
       " 'Resolución',\n",
       " 'Federal',\n",
       " 'Resolución',\n",
       " 'NOTIFICA RESOLUCIÓN DE INICIO DE PROCESO DE PARTICIPACIÓN CIUDADANA EN DECLARACIÓN DE IMPACTO AMBIENTAL PROYECTO: \"PLANTA FOTOVOLTAICA AGROVISIÓN\"',\n",
       " 'https://www.bcn.cl/leychile/navegar?idNorma=1162116']"
      ]
     },
     "execution_count": 149,
     "metadata": {},
     "output_type": "execute_result"
    }
   ],
   "source": [
    "print(len(chile))\n",
    "chile[0]"
   ]
  },
  {
   "cell_type": "code",
   "execution_count": 142,
   "id": "c1631abe",
   "metadata": {},
   "outputs": [
    {
     "name": "stdout",
     "output_type": "stream",
     "text": [
      "b'<!doctype html><html lang=\"en\" class=\"full-height\"><head><meta charset=\"utf-8\"><title>Biblioteca del Congreso Nacional | Ley Chile</title><base href=\"/leychile/\"><meta name=\"viewport\" content=\"width=device-width,initial-scale=1,maximum-scale=4\"><link rel=\"icon\" type=\"image/x-icon\" href=\"https://www.bcn.cl/static3/img/favicon.ico\"><link rel=\"preload\" href=\"https://www.bcn.cl/static3/fonts/roboto-condensed-v18-latin-300.woff2\" as=\"font\" type=\"font/woff2\" crossorigin><link rel=\"preload\" href=\"https://www.bcn.cl/static3/fonts/roboto-slab-v11-latin-700.woff2\" as=\"font\" type=\"font/woff2\" crossorigin><link rel=\"preload\" href=\"https://www.bcn.cl/static3/fonts/roboto-slab-v11-latin-regular.woff2\" as=\"font\" type=\"font/woff2\" crossorigin><link rel=\"preload\" href=\"fontawesome-webfont.af7ae505a9eed503f8b8.woff2?v=4.7.0\" as=\"font\" crossorigin><link href=\"assets/fonts.css\" rel=\"preload\" as=\"style\" onload=\"this.rel=\\'stylesheet\\'\"><noscript><link rel=\"stylesheet\" href=\"assets/fonts.css\"></noscript><link rel=\"stylesheet\" href=\"https://www.bcn.cl/static3/css/rdspk_bcn.css\"><meta name=\"description\" content=\"Ley Chile\"><meta name=\"author\" content=\"Biblioteca del Congreso Nacional\"><!-- og tags Facebook --><meta property=\"fb:admins\" content=\"12834723030\"><meta property=\"og:description\" content=\"Servicio proporcionado por la Biblioteca del Congreso Nacional (BCN), que contiene la informaci\\xc3\\xb3n jur\\xc3\\xaddico-legislativa\"><meta property=\"og:title\" content=\"Biblioteca del Congreso Nacional | Ley Chile\"><meta property=\"og:type\" content=\"website\"><meta property=\"og:url\" content=\"https://www.bcn.cl/leychile\"><meta property=\"og:site_name\" content=\"www.bcn.cl/leychile\"><meta property=\"og:image\" content=\"https://www.bcn.cl/static2/img/share-bcn.jpg\"><!-- og tags Google+ --><meta itemprop=\"description\" content=\"Biblioteca del Congreso Nacional | Ley Chile\"><!-- Twitter Cards --><meta property=\"twitter:account_id\" content=\"9662992\"><meta name=\"twitter:card\" content=\"summary_large_image\"><meta name=\"twitter:site\" content=\"@bcnchile\"><meta name=\"twitter:title\" content=\"Biblioteca del Congreso Nacional\"><meta name=\"twitter:description\" content=\"Servicio proporcionado por la Biblioteca del Congreso Nacional (BCN), que contiene la informaci\\xc3\\xb3n jur\\xc3\\xaddico-legislativa\"><meta name=\"twitter:creator\" content=\"@bcnchile\"><meta name=\"twitter:image:src\" content=\"https://www.bcn.cl/static2/img/share-bcn.jpg\"><meta name=\"twitter:domain\" content=\"www.bcn.cl/leychile\"><!--------- --><meta property=\"og:site_name\" content=\"Biblioteca del Congreso Nacional | Ley Chile\"/><meta property=\"og:locale\" content=\"es\"/><script type=\"text/javascript\">window.rsConf = {\\n            general: {usePost: true, enableSkipAlways: true}\\n        };</script><script src=\"//cdn1.readspeaker.com/script/8502/webReader/webReader.js?pids=wr\" type=\"text/javascript\"></script><link href=\"styles.76517a2005e1f4da0b50.bundle.css\" rel=\"stylesheet\"/></head><body itemscope=\"\" itemtype=\"http://schema.org/WebPage\"><span class=\"d-none\" itemprop=\"name\" style=\"display: none;\">Biblioteca del Congreso Nacional de Chile | Ley Chile</span> <span class=\"d-none\" itemprop=\"short_name\" style=\"display: none;\">Ley Chile</span><app-root><div id=\"_load_\" style=\"position: absolute; left: 50%; top: 50%; transform: translate(-50%, -50%); -webkit-transform: translate(-50%, -50%);\"><style>.lds-default {\\n                display: inline-block;\\n                position: relative;\\n                width: 64px;\\n                height: 64px\\n            }\\n\\n            .lds-default div {\\n                position: absolute;\\n                width: 5px;\\n                height: 5px;\\n                background: #333;\\n                border-radius: 50%;\\n                animation: lds-default 1.2s linear infinite\\n            }\\n\\n            .lds-default div:nth-child(1) {\\n                animation-delay: 0s;\\n                top: 29px;\\n                left: 53px\\n            }\\n\\n            .lds-default div:nth-child(2) {\\n                animation-delay: -.1s;\\n                top: 18px;\\n                left: 50px\\n            }\\n\\n            .lds-default div:nth-child(3) {\\n                animation-delay: -.2s;\\n                top: 9px;\\n                left: 41px\\n            }\\n\\n            .lds-default div:nth-child(4) {\\n                animation-delay: -.3s;\\n                top: 6px;\\n                left: 29px\\n            }\\n\\n            .lds-default div:nth-child(5) {\\n                animation-delay: -.4s;\\n                top: 9px;\\n                left: 18px\\n            }\\n\\n            .lds-default div:nth-child(6) {\\n                animation-delay: -.5s;\\n                top: 18px;\\n                left: 9px\\n            }\\n\\n            .lds-default div:nth-child(7) {\\n                animation-delay: -.6s;\\n                top: 29px;\\n                left: 6px\\n            }\\n\\n            .lds-default div:nth-child(8) {\\n                animation-delay: -.7s;\\n                top: 41px;\\n                left: 9px\\n            }\\n\\n            .lds-default div:nth-child(9) {\\n                animation-delay: -.8s;\\n                top: 50px;\\n                left: 18px\\n            }\\n\\n            .lds-default div:nth-child(10) {\\n                animation-delay: -.9s;\\n                top: 53px;\\n                left: 29px\\n            }\\n\\n            .lds-default div:nth-child(11) {\\n                animation-delay: -1s;\\n                top: 50px;\\n                left: 41px\\n            }\\n\\n            .lds-default div:nth-child(12) {\\n                animation-delay: -1.1s;\\n                top: 41px;\\n                left: 50px\\n            }\\n\\n            @keyframes lds-default {\\n                0%, 100%, 20%, 80% {\\n                    transform: scale(1)\\n                }\\n                50% {\\n                    transform: scale(1.5)\\n                }\\n            }</style><div class=\"lds-default\"><div></div><div></div><div></div><div></div><div></div><div></div><div></div><div></div><div></div><div></div><div></div><div></div></div></div><div id=\"mensaje_no_compatible\" class=\"container-fluid\" style=\"display:none;\"><div class=\"row\"><div class=\"col col-md-8\" style=\"margin: auto;margin-top:50px\"><div class=\"card testimonial-card\"><div class=\"card-up mdb-color lighten-5\"></div><div class=\"avatar\"><img class=\"rounded-circle\" src=\"./assets/img/lch/alerta.jpg\"></div><div class=\"card-body\"><h4 class=\"card-title\">Este proceso demora demasiado, es probable que su conexi\\xc3\\xb3n est\\xc3\\xa9 muy lenta o que su navegador no sea compatible con nuestra aplicaci\\xc3\\xb3n.<br></h4></div></div></div></div></div><script>setTimeout(function () {\\n        var d = document.getElementById(\\'mensaje_no_compatible\\');\\n        if (d) {\\n            d.style.display = \"block\";\\n            document.getElementById(\"_load_\").style.display = \"none\"\\n        }\\n    }, 8000);</script></app-root><script>(function (i, s, o, g, r, a, m) {\\n        i[\\'GoogleAnalyticsObject\\'] = r;\\n        i[r] = i[r] || function () {\\n            (i[r].q = i[r].q || []).push(arguments)\\n        }, i[r].l = 1 * new Date();\\n        a = s.createElement(o),\\n            m = s.getElementsByTagName(o)[0];\\n        a.async = 1;\\n        a.src = g;\\n        m.parentNode.insertBefore(a, m)\\n    })(window, document, \\'script\\', \\'https://www.google-analytics.com/analytics.js\\', \\'ga\\');\\n    ga(\\'create\\', \\'UA-27743717-1\\', \\'auto\\');// add your tracking ID here.</script><script type=\"text/javascript\">window.onscroll = function () {\\n        if (this.pageYOffset >= 300) {\\n            var hrr = document.getElementById(\"cResultados\");\\n            var hatr = document.createAttribute(\"class\");\\n            hatr.value = \"min\";\\n            if (hrr) {\\n                hrr.setAttributeNode(hatr);\\n            }\\n        } else {\\n            var el = document.getElementById(\"cResultados\");\\n            if (el) {\\n                el.removeAttribute(\"class\");\\n            }\\n        }\\n\\n        if (this.pageYOffset >= 700) {\\n            var btn = document.getElementById(\"btnSubir\");\\n            if (btn) {\\n                btn.style.display = \"block\";\\n            }\\n        } else {\\n            var btn = document.getElementById(\"btnSubir\");\\n            if (btn) {\\n                btn.style.display = \"none\";\\n            }\\n        }\\n    }</script><script type=\"text/javascript\" src=\"https://www.bcn.cl/portal/assets/js/collect.min.js\" async></script><!--script type=\"text/javascript\" src=\"https://chat.bcn.cl/lib/chat.js\" async></script>\\n<app-chat-bcn></app-chat-bcn--><script type=\"text/javascript\" src=\"inline.318b50c57b4eba3d437b.bundle.js\"></script><script type=\"text/javascript\" src=\"polyfills.5b1a482fc844f6ab34c8.bundle.js\"></script><script type=\"text/javascript\" src=\"scripts.4be978f92b615371679a.bundle.js\"></script><script type=\"text/javascript\" src=\"main.73b8cb1a3db1edcdb3dc.bundle.js\"></script></body></html>'\n"
     ]
    }
   ],
   "source": [
    "prefix = f\"Testing/\"\n",
    "\n",
    "# bucket = s3.Bucket(s3BucketName)\n",
    "with requests.get('https://www.bcn.cl/leychile/navegar?idNorma=1162116', stream=True) as r:\n",
    "    print(r.content)\n",
    "    s3.Object(s3BucketName, prefix + \"example_3.txt\").put(Body=r.content)\n",
    "\n",
    "\n",
    "# counter = 0\n",
    "# bucket = s3.Bucket(s3BucketName)\n",
    "# for item in final_list:\n",
    "#     if item[0] not in ids_S3:\n",
    "#         counter += 1\n",
    "#         key = prefix + item[0] + \".pdf\"\n",
    "#         with requests.get(item[8], stream=True) as r:\n",
    "#             bucket.upload_fileobj(r.raw, key)\n",
    "# print(counter)"
   ]
  },
  {
   "cell_type": "code",
   "execution_count": null,
   "id": "67e130ac",
   "metadata": {},
   "outputs": [],
   "source": []
  }
 ],
 "metadata": {
  "kernelspec": {
   "display_name": "Python 3",
   "language": "python",
   "name": "python3"
  },
  "language_info": {
   "codemirror_mode": {
    "name": "ipython",
    "version": 3
   },
   "file_extension": ".py",
   "mimetype": "text/x-python",
   "name": "python",
   "nbconvert_exporter": "python",
   "pygments_lexer": "ipython3",
   "version": "3.8.8"
  },
  "toc": {
   "base_numbering": 1,
   "nav_menu": {},
   "number_sections": true,
   "sideBar": true,
   "skip_h1_title": true,
   "title_cell": "Table of Contents",
   "title_sidebar": "Contents",
   "toc_cell": false,
   "toc_position": {},
   "toc_section_display": true,
   "toc_window_display": false
  }
 },
 "nbformat": 4,
 "nbformat_minor": 5
}
