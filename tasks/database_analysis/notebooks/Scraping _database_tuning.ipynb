{
 "cells": [
  {
   "cell_type": "code",
   "execution_count": 91,
   "id": "cc63234d",
   "metadata": {},
   "outputs": [],
   "source": [
    "import boto3\n",
    "import csv\n",
    "import json\n",
    "import os\n",
    "import requests\n",
    "from io import BytesIO;\n",
    "from os import listdir\n",
    "from os.path import isfile, join"
   ]
  },
  {
   "cell_type": "code",
   "execution_count": 113,
   "id": "1d652fc6",
   "metadata": {},
   "outputs": [],
   "source": [
    "path = \"/home/propietari/Documents/fitxers importants/WRI/Scraping_results/\"\n",
    "\n",
    "onlyfiles = [f for f in listdir(path) if isfile(join(path, f))]\n"
   ]
  },
  {
   "cell_type": "code",
   "execution_count": 114,
   "id": "8b3e5275",
   "metadata": {},
   "outputs": [
    {
     "data": {
      "text/plain": [
       "['ElSalvador_20210730.csv',\n",
       " 'USFR_2_20210311.csv',\n",
       " 'USFR_20210311.csv',\n",
       " 'USFR_1_20210311.csv',\n",
       " 'USFR_20210702.csv',\n",
       " 'LeyChile_20210702.csv',\n",
       " 'India_20210310.csv',\n",
       " 'Mexico_20210703.csv',\n",
       " 'USFR_20210310.csv',\n",
       " 'India_20210703.csv',\n",
       " 'El_Salvador_no_duplicates.csv']"
      ]
     },
     "execution_count": 114,
     "metadata": {},
     "output_type": "execute_result"
    }
   ],
   "source": [
    "onlyfiles"
   ]
  },
  {
   "cell_type": "code",
   "execution_count": 127,
   "id": "c057ca46",
   "metadata": {},
   "outputs": [],
   "source": [
    "# path = 'C:/Users/jordi/Documents/claus/'\n",
    "key_path = '/home/propietari/Documents/claus/'\n",
    "filename = 'AWS_S3_keys_wri.json'\n",
    "file = key_path + filename\n",
    "with open(file, 'r') as dict:\n",
    "    credentials = json.load(dict)\n",
    "                                      \n",
    "KEY = list(credentials)[0]\n",
    "SECRET = list(credentials.values())[0]\n",
    "# s3BucketName = \"wri-testing\"\n",
    "s3BucketName = \"wri-nlp-policy\"\n",
    "# region = 'eu-central-1'\n",
    "region = \"us-east-1\"\n",
    "\n",
    "s3 = boto3.resource(\n",
    "    service_name = 's3',\n",
    "    region_name = region,\n",
    "    aws_access_key_id = KEY,\n",
    "    aws_secret_access_key = SECRET\n",
    ")\n"
   ]
  },
  {
   "cell_type": "markdown",
   "id": "166bca13",
   "metadata": {},
   "source": [
    "### El Salvador"
   ]
  },
  {
   "cell_type": "code",
   "execution_count": 48,
   "id": "e50fef3a",
   "metadata": {},
   "outputs": [],
   "source": [
    "# Loading the csv files from scraping to be compared\n",
    "file_position = 0\n",
    "with open(path + onlyfiles[file_position], 'r', encoding = \"Latin1\") as f:\n",
    "    reader = csv.reader(f)\n",
    "    ElSalvador_20210730 = [row[3] for row in reader]\n",
    "\n",
    "file_position = 10\n",
    "with open(path + onlyfiles[file_position], 'r', encoding = \"Latin1\") as f:\n",
    "    reader = csv.reader(f)\n",
    "    El_Salvador_no_duplicates = [row[7] for row in reader]"
   ]
  },
  {
   "cell_type": "code",
   "execution_count": 53,
   "id": "10d22925",
   "metadata": {},
   "outputs": [
    {
     "name": "stdout",
     "output_type": "stream",
     "text": [
      "There are 460 items in the old file and 271 in the new one\n",
      "There are 0 duplicates in the new version\n",
      "The difference between the first scraping and the last version is of 189 entries\n",
      "There are 236 files in the old version that are not in the new version\n",
      "There are 47 files in the new version that are not in the old version\n",
      "There are 507 unique ids in the union of the files\n"
     ]
    }
   ],
   "source": [
    "ElSalvador_20210730_SET = set(ElSalvador_20210730)\n",
    "print(f\"There are {len(El_Salvador_no_duplicates)} items in the old file and {len(ElSalvador_20210730)} in the new one\")\n",
    "print(f\"There are {len(ElSalvador_20210730) - len(ElSalvador_20210730_SET)} duplicates in the new version\")\n",
    "print(f\"The difference between the first scraping and the last version is of {len(El_Salvador_no_duplicates) - len(ElSalvador_20210730)} entries\")\n",
    "not_in_newest_version = set(El_Salvador_no_duplicates) - ElSalvador_20210730_SET\n",
    "print(f\"There are {len(not_in_newest_version)} files in the old version that are not in the new version\")\n",
    "not_in_oldest_version =  ElSalvador_20210730_SET - set(El_Salvador_no_duplicates)\n",
    "print(f\"There are {len(not_in_oldest_version)} files in the new version that are not in the old version\")\n",
    "print(f\"There are {len(set(El_Salvador_no_duplicates) | ElSalvador_20210730_SET)} unique ids in the union of the files\")"
   ]
  },
  {
   "cell_type": "code",
   "execution_count": 69,
   "id": "7fb94e04",
   "metadata": {},
   "outputs": [],
   "source": [
    "# Going to merge the two files in one. The fields were not saved in the sae order so it is necessary to rearrange them\n",
    "\n",
    "file_position = 0\n",
    "with open(path + onlyfiles[file_position], 'r', encoding = \"Latin1\") as f:\n",
    "    reader = csv.reader(f)\n",
    "    ElSalvador_20210730 = list(reader)\n",
    "\n",
    "file_position = 10\n",
    "with open(path + onlyfiles[file_position], 'r') as f:\n",
    "    reader = csv.reader(f)\n",
    "    El_Salvador_no_duplicates = list(reader)\n",
    "    \n",
    "final_list = []\n",
    "ids = {}\n",
    "for item in El_Salvador_no_duplicates:\n",
    "    if item[7] not in ids:\n",
    "        final_item = []\n",
    "        final_item.append(item[7])\n",
    "        final_item.append('El Salvador')\n",
    "        final_item.append('Diario Oficial')\n",
    "        final_item.append(item[1])\n",
    "        final_item.append(item[4])\n",
    "        final_item.append(item[2])\n",
    "        final_item.append(item[6])\n",
    "        final_item.append(item[5])\n",
    "        final_item.append(item[3])\n",
    "        final_list.append(final_item)\n",
    "        ids[item[7]] = 0\n",
    "    \n",
    "for item in ElSalvador_20210730:\n",
    "    if item[3] not in ids:\n",
    "        final_item = []\n",
    "        final_item.append(item[3])\n",
    "        final_item.append(item[1])\n",
    "        final_item.append(item[2])\n",
    "        final_item.append(item[0])\n",
    "        final_item.append(item[7])\n",
    "        final_item.append(item[6])\n",
    "        final_item.append(item[10])\n",
    "        final_item.append(item[9])\n",
    "        final_item.append(item[4])\n",
    "        final_list.append(final_item)\n",
    "        ids[item[3]] = 0"
   ]
  },
  {
   "cell_type": "code",
   "execution_count": 81,
   "id": "2f6c5a8f",
   "metadata": {},
   "outputs": [],
   "source": [
    "# Checking the differences with bucket files\n",
    "\n",
    "language = \"spanish\"\n",
    "in_prefix = f\"{language}_documents/HSSC/sentences/\"\n",
    "ids_S3 = {}\n",
    "for i, obj in enumerate(s3.Bucket(s3BucketName).objects.all().filter(Prefix = in_prefix)):\n",
    "    if \".json\" in obj.key and \"ing\" not in obj.key:\n",
    "        name = obj.key.split(\"/\")[-1].split(\"_\")[0]\n",
    "        ids_S3[name] = 0\n",
    "        "
   ]
  },
  {
   "cell_type": "code",
   "execution_count": 84,
   "id": "56a5a178",
   "metadata": {
    "scrolled": true
   },
   "outputs": [
    {
     "name": "stdout",
     "output_type": "stream",
     "text": [
      "The number of scraped items that are not in sentences is 236\n"
     ]
    }
   ],
   "source": [
    "print(f\"The number of scraped items that are not in sentences is {len(ids.keys() - ids_S3.keys())}\")"
   ]
  },
  {
   "cell_type": "code",
   "execution_count": 98,
   "id": "7c300e94",
   "metadata": {},
   "outputs": [
    {
     "name": "stdout",
     "output_type": "stream",
     "text": [
      "236\n"
     ]
    }
   ],
   "source": [
    "# Here we go and fetch the missing files and put them in the raw_pdf_updated folder\n",
    "prefix = f\"{language}_documents/raw_pdf_updated/\"\n",
    "\n",
    "\n",
    "counter = 0\n",
    "bucket = s3.Bucket(s3BucketName)\n",
    "for item in final_list:\n",
    "    if item[0] not in ids_S3:\n",
    "        counter += 1\n",
    "        key = prefix + item[0] + \".pdf\"\n",
    "        with requests.get(item[8], stream=True) as r:\n",
    "            bucket.upload_fileobj(r.raw, key)\n",
    "print(counter)"
   ]
  },
  {
   "cell_type": "markdown",
   "id": "a147d672",
   "metadata": {},
   "source": [
    "### India"
   ]
  },
  {
   "cell_type": "code",
   "execution_count": 102,
   "id": "a128cfec",
   "metadata": {},
   "outputs": [],
   "source": [
    "# Loading the csv files from scraping to be compared\n",
    "file_position = 6\n",
    "with open(path + onlyfiles[file_position], 'r', encoding = \"Latin1\") as f:\n",
    "    reader = csv.reader(f)\n",
    "    india_old = [row[3] for row in reader]\n",
    "\n",
    "file_position = 9\n",
    "with open(path + onlyfiles[file_position], 'r', encoding = \"Latin1\") as f:\n",
    "    reader = csv.reader(f)\n",
    "    india_new = [row[7] for row in reader]"
   ]
  },
  {
   "cell_type": "code",
   "execution_count": 119,
   "id": "26c1a62a",
   "metadata": {},
   "outputs": [],
   "source": [
    "file_position = 6\n",
    "with open(path + onlyfiles[file_position], 'r', encoding=\"ISO-8859-1\") as f:#, encoding = \"Latin1\"\n",
    "    reader = csv.reader(f)\n",
    "    india_old = list(reader)\n",
    "\n",
    "file_position = 9\n",
    "with open(path + onlyfiles[file_position], 'r', encoding=\"ISO-8859-1\") as f:\n",
    "    reader = csv.reader(f)\n",
    "    india_new = list(reader)"
   ]
  },
  {
   "cell_type": "code",
   "execution_count": 120,
   "id": "37a60045",
   "metadata": {},
   "outputs": [
    {
     "data": {
      "text/plain": [
       "['/ Department of AGRICULTURE AND MARKETING',\n",
       " 'India',\n",
       " 'India Code',\n",
       " '859644d69fdd0b1e66f1dcf5a42f2d9a3f31fe90.pdf',\n",
       " 'https://www.indiacode.nic.in/bitstream/123456789/6515/1/kishan_ayog_2016_hindi_.pdf#search=Miner OR Ore OR Pit OR Bog OR Buffer OR Corridor OR (Country planning) OR Cropland OR (Degraded land) OR Desert OR Floodplain OR Forestland OR Freshwater OR Grassland OR (Land use) OR Landowner OR Mangrove OR Marsh OR Meadow [1950 TO 2021]',\n",
       " 'Act',\n",
       " ' 2016-11-30',\n",
       " ' 201629',\n",
       " ' Uttarakhand',\n",
       " '',\n",
       " 'The Uttarakhand state farmer comission Act',\n",
       " 'https://www.indiacode.nic.in/handle/123456789/2109?view_type=search&sam_handle=123456789/1362']"
      ]
     },
     "execution_count": 120,
     "metadata": {},
     "output_type": "execute_result"
    }
   ],
   "source": [
    "india_old[0]"
   ]
  },
  {
   "cell_type": "code",
   "execution_count": 121,
   "id": "a2ec7b4a",
   "metadata": {},
   "outputs": [
    {
     "data": {
      "text/plain": [
       "['',\n",
       " 'India',\n",
       " 'India Code',\n",
       " 'b6fcd452c47d5cff2bf2a492787ed56271db2e83.pdf',\n",
       " 'https://upload.indiacode.nic.in/showfile?actid=AC_CEN_16_18_00012_201638_1517807328204&type=rule&filename=caf%28ap%29_rules_2018.pdf',\n",
       " 'Rule',\n",
       " '20-11-2018',\n",
       " '',\n",
       " 'Federal',\n",
       " '',\n",
       " 'Compensatory Afforestation Fund Act 2016 Rules',\n",
       " 'https://www.indiacode.nic.in/handle/123456789/15740?view_type=search&sam_handle=123456789/2517']"
      ]
     },
     "execution_count": 121,
     "metadata": {},
     "output_type": "execute_result"
    }
   ],
   "source": [
    "india_new[0]"
   ]
  },
  {
   "cell_type": "markdown",
   "id": "7f873804",
   "metadata": {},
   "source": [
    "### Chile"
   ]
  },
  {
   "cell_type": "code",
   "execution_count": 161,
   "id": "744e781b",
   "metadata": {},
   "outputs": [],
   "source": [
    "file_position = 5\n",
    "with open(path + onlyfiles[file_position], 'r', encoding=\"ISO-8859-1\") as f:#, encoding = \"Latin1\"\n",
    "    reader = csv.reader(f)\n",
    "    chile = list(reader)\n",
    "    \n",
    "final_list = []\n",
    "ids = {}\n",
    "dates = {}\n",
    "for item in chile:\n",
    "    if item[3].split(\".\")[0] not in ids:\n",
    "        final_item = []\n",
    "        final_item.append(item[3].split(\".\")[0])\n",
    "        final_item.append(item[1])\n",
    "        final_item.append(item[2])\n",
    "        final_item.append(item[0])\n",
    "        final_item.append(item[5])\n",
    "        final_item.append(item[6])\n",
    "        dates[item[6]] = 0\n",
    "        final_item.append(item[10])\n",
    "        final_item.append(item[9])\n",
    "        final_item.append(item[4])\n",
    "        final_list.append(final_item)\n",
    "        ids[item[3].split(\".\")[0]] = 0\n"
   ]
  },
  {
   "cell_type": "code",
   "execution_count": 162,
   "id": "b81284d6",
   "metadata": {},
   "outputs": [
    {
     "name": "stdout",
     "output_type": "stream",
     "text": [
      "The original file has 3248 data points. Without duplicates there are:860\n",
      "The earliest date is 2011-01-04 and the nearest date is 2021-07-01\n"
     ]
    }
   ],
   "source": [
    "print(f\"The original file has {len(chile)} data points. Without duplicates there are:{len(ids)}\")\n",
    "print(f\"The earliest date is {min(dates.keys())} and the nearest date is {max(dates.keys())}\")"
   ]
  },
  {
   "cell_type": "code",
   "execution_count": 157,
   "id": "00db4b49",
   "metadata": {},
   "outputs": [],
   "source": [
    "# Checking the differences with bucket files\n",
    "\n",
    "language = \"spanish\"\n",
    "in_prefix = f\"{language}_documents/HSSC/sentences/\"\n",
    "ids_S3 = {}\n",
    "for i, obj in enumerate(s3.Bucket(s3BucketName).objects.all().filter(Prefix = in_prefix)):\n",
    "    if \".json\" in obj.key and \"ing\" not in obj.key:\n",
    "        name = obj.key.split(\"/\")[-1].split(\"_\")[0]\n",
    "        ids_S3[name] = 0"
   ]
  },
  {
   "cell_type": "code",
   "execution_count": 158,
   "id": "5eeef6f9",
   "metadata": {},
   "outputs": [
    {
     "name": "stdout",
     "output_type": "stream",
     "text": [
      "The number of scraped items that are not in sentences is 4\n"
     ]
    }
   ],
   "source": [
    "print(f\"The number of scraped items that are not in sentences is {len(ids.keys() - ids_S3.keys())}\")"
   ]
  },
  {
   "cell_type": "code",
   "execution_count": 163,
   "id": "71696f73",
   "metadata": {},
   "outputs": [
    {
     "name": "stdout",
     "output_type": "stream",
     "text": [
      "860\n"
     ]
    },
    {
     "data": {
      "text/plain": [
       "['c3df19a5008129ee6de996e8027cb0eacff09b4b',\n",
       " 'Chile',\n",
       " 'LeyChile',\n",
       " 'MINISTERIO DEL MEDIO AMBIENTE; SERVICIO DE EVALUACIÓN AMBIENTAL; REGIÓN DE ÑUBLE',\n",
       " 'Resolución 96 EXENTA',\n",
       " '2021-07-01',\n",
       " 'NOTIFICA RESOLUCIÓN DE INICIO DE PROCESO DE PARTICIPACIÓN CIUDADANA EN DECLARACIÓN DE IMPACTO AMBIENTAL PROYECTO: \"PLANTA FOTOVOLTAICA AGROVISIÓN\"',\n",
       " 'Resolución',\n",
       " 'https://nuevo.leychile.cl/servicios/Consulta/Exportar?radioExportar=Normas&exportar_formato=txt&nombrearchivo=CHL/policy_1162116&exportar_con_notas_bcn=False&exportar_con_notas_originales=False&exportar_con_notas_al_pie=False&hddResultadoExportar=1162116.2021-07-01.0.0%23']"
      ]
     },
     "execution_count": 163,
     "metadata": {},
     "output_type": "execute_result"
    }
   ],
   "source": [
    "print(len(final_list))\n",
    "final_list[0]"
   ]
  },
  {
   "cell_type": "code",
   "execution_count": 167,
   "id": "aa7e56f7",
   "metadata": {},
   "outputs": [
    {
     "name": "stdout",
     "output_type": "stream",
     "text": [
      "4\n"
     ]
    }
   ],
   "source": [
    "# Here we go and fetch the missing files and put them in the raw_pdf_updated folder\n",
    "prefix = f\"{language}_documents/text_files/HSSC/new/\"\n",
    "\n",
    "counter = 0\n",
    "for item in final_list:\n",
    "    if item[0] not in ids_S3:\n",
    "        counter += 1\n",
    "        key = prefix + item[0] + \".txt\"\n",
    "        with requests.get(item[8], stream=True) as r:\n",
    "            s3.Object(s3BucketName, key).put(Body=r.content)\n",
    "\n",
    "print(counter)"
   ]
  },
  {
   "cell_type": "markdown",
   "id": "bb6eba85",
   "metadata": {},
   "source": [
    "### Mexico"
   ]
  },
  {
   "cell_type": "code",
   "execution_count": null,
   "id": "9de0d759",
   "metadata": {},
   "outputs": [],
   "source": [
    "file_position = 7\n",
    "with open(path + onlyfiles[file_position], 'r', encoding=\"ISO-8859-1\") as f:#, encoding = \"Latin1\"\n",
    "    reader = csv.reader(f)\n",
    "    mexico = list(reader)\n",
    "    \n",
    "# final_list = []\n",
    "# ids = {}\n",
    "# dates = {}\n",
    "# for item in chile:\n",
    "#     if item[3].split(\".\")[0] not in ids:\n",
    "#         final_item = []\n",
    "#         final_item.append(item[3].split(\".\")[0])\n",
    "#         final_item.append(item[1])\n",
    "#         final_item.append(item[2])\n",
    "#         final_item.append(item[0])\n",
    "#         final_item.append(item[5])\n",
    "#         final_item.append(item[6])\n",
    "#         dates[item[6]] = 0\n",
    "#         final_item.append(item[10])\n",
    "#         final_item.append(item[9])\n",
    "#         final_item.append(item[4])\n",
    "#         final_list.append(final_item)\n",
    "#         ids[item[3].split(\".\")[0]] = 0\n"
   ]
  }
 ],
 "metadata": {
  "kernelspec": {
   "display_name": "Python 3",
   "language": "python",
   "name": "python3"
  },
  "language_info": {
   "codemirror_mode": {
    "name": "ipython",
    "version": 3
   },
   "file_extension": ".py",
   "mimetype": "text/x-python",
   "name": "python",
   "nbconvert_exporter": "python",
   "pygments_lexer": "ipython3",
   "version": "3.8.8"
  },
  "toc": {
   "base_numbering": 1,
   "nav_menu": {},
   "number_sections": true,
   "sideBar": true,
   "skip_h1_title": true,
   "title_cell": "Table of Contents",
   "title_sidebar": "Contents",
   "toc_cell": false,
   "toc_position": {},
   "toc_section_display": true,
   "toc_window_display": false
  }
 },
 "nbformat": 4,
 "nbformat_minor": 5
}
