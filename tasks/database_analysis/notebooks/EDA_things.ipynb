{
 "cells": [
  {
   "cell_type": "code",
   "execution_count": 6,
   "id": "a23b35b1",
   "metadata": {},
   "outputs": [],
   "source": [
    "import csv\n",
    "import json\n",
    "import pandas as pd\n",
    "import matplotlib.pyplot as plt\n"
   ]
  },
  {
   "cell_type": "code",
   "execution_count": 4,
   "id": "a693c2e0",
   "metadata": {},
   "outputs": [],
   "source": [
    "language = \"spanish\"\n",
    "model = \"\"\n",
    "\n",
    "path = 'C:/Users/hrpeg/Documents/GitHub/policy-data-analyzer/tasks/database_analysis/output/'\n",
    "file_name = f'sentence_metadata_{model.split(\"/\")[0]}_{language}.json'\n",
    "file = path + file_name\n",
    "with open(file, 'r') as fp:\n",
    "    dictionary = json.load(fp)"
   ]
  },
  {
   "cell_type": "code",
   "execution_count": 8,
   "id": "05ac8421",
   "metadata": {},
   "outputs": [
    {
     "name": "stdout",
     "output_type": "stream",
     "text": [
      "n_sentences\n",
      "min_sent_length\n",
      "max_sent_length\n",
      "avg_sent_length\n",
      "number_of_incentives\n",
      "Supplies\n",
      "Loan\n",
      "Fine\n",
      "Direct payment\n",
      "Technical assistance\n",
      "Tax benefit\n"
     ]
    }
   ],
   "source": [
    "for key in dictionary:\n",
    "    print(key)"
   ]
  },
  {
   "cell_type": "code",
   "execution_count": null,
   "id": "3353627d",
   "metadata": {},
   "outputs": [],
   "source": [
    "n_sentences = pd.Series(dictionary[\"n_sentences\"])\n"
   ]
  },
  {
   "cell_type": "code",
   "execution_count": 20,
   "id": "b60c77ac",
   "metadata": {},
   "outputs": [
    {
     "name": "stdout",
     "output_type": "stream",
     "text": [
      "21\n",
      "41\n",
      "61\n",
      "81\n",
      "101\n",
      "121\n",
      "141\n",
      "161\n",
      "181\n",
      "201\n"
     ]
    },
    {
     "data": {
      "image/png": "[encoded data removed]",
      "text/plain": [
       "<Figure size 432x288 with 1 Axes>"
      ]
     },
     "metadata": {
      "needs_background": "light"
     },
     "output_type": "display_data"
    }
   ],
   "source": [
    "range_size = 20\n",
    "j = 0\n",
    "\n",
    "for i in range(21, 220, range_size):\n",
    "    print(i)\n",
    "#     n_sentences_ = n_sentences[(n_sentences < i) & (n_sentences > j)]\n",
    "\n",
    "    n_sentences_.plot.hist(grid=True, bins=10, rwidth=0.9,\n",
    "                       color='#607c8e')\n",
    "    plt.title('Commute Times for 1,000 Commuters')\n",
    "    plt.xlabel('Counts')\n",
    "    plt.ylabel('Commute Time')\n",
    "    plt.grid(axis='y', alpha=0.75)\n",
    "    j = i - 1"
   ]
  },
  {
   "cell_type": "code",
   "execution_count": null,
   "id": "d42e0915",
   "metadata": {},
   "outputs": [],
   "source": []
  }
 ],
 "metadata": {
  "kernelspec": {
   "display_name": "Python 3",
   "language": "python",
   "name": "python3"
  },
  "language_info": {
   "codemirror_mode": {
    "name": "ipython",
    "version": 3
   },
   "file_extension": ".py",
   "mimetype": "text/x-python",
   "name": "python",
   "nbconvert_exporter": "python",
   "pygments_lexer": "ipython3",
   "version": "3.8.8"
  }
 },
 "nbformat": 4,
 "nbformat_minor": 5
}
