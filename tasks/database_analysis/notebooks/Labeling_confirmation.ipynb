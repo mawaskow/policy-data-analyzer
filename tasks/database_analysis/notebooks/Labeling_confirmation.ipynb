{
 "cells": [
  {
   "cell_type": "code",
   "execution_count": null,
   "id": "9867a810",
   "metadata": {},
   "outputs": [],
   "source": []
  },
  {
   "cell_type": "code",
   "execution_count": 12,
   "id": "6a7b42f2",
   "metadata": {},
   "outputs": [],
   "source": [
    "import boto3\n",
    "import csv\n",
    "import json\n",
    "import random"
   ]
  },
  {
   "cell_type": "code",
   "execution_count": 19,
   "id": "f04ee498",
   "metadata": {},
   "outputs": [],
   "source": [
    "# path = 'C:/Users/jordi/Documents/claus/'\n",
    "path = '/home/propietari/Documents/claus/'\n",
    "filename = 'AWS_S3_keys_wri.json'\n",
    "file = path + filename\n",
    "with open(file, 'r') as dict:\n",
    "    credentials = json.load(dict)\n",
    "                                      \n",
    "KEY = list(credentials)[0]\n",
    "SECRET = list(credentials.values())[0]\n",
    "# s3BucketName = \"wri-testing\"\n",
    "s3BucketName = \"wri-nlp-policy\"\n",
    "# region = 'eu-central-1'\n",
    "region = \"us-east-1\"\n",
    "\n",
    "s3 = boto3.resource(\n",
    "    service_name = 's3',\n",
    "    region_name = region,\n",
    "    aws_access_key_id = KEY,\n",
    "    aws_secret_access_key = SECRET\n",
    ")"
   ]
  },
  {
   "cell_type": "code",
   "execution_count": 39,
   "id": "0716580e",
   "metadata": {},
   "outputs": [],
   "source": [
    "language = \"english\"\n",
    "path = \"../out/\"\n",
    "file_name = f\"incentives_{language}.csv\"\n",
    "file = path + file_name\n",
    "\n",
    "with open(file, newline='') as f:\n",
    "    reader = csv.reader(f)\n",
    "    next(reader)\n",
    "    file_code = [row[0] for row in reader]\n",
    "\n",
    "codes = {}\n",
    "for item in random.sample(file_code, 50):\n",
    "    codes[item] = 0"
   ]
  },
  {
   "cell_type": "code",
   "execution_count": 40,
   "id": "c4b2fbbd",
   "metadata": {},
   "outputs": [],
   "source": [
    "in_prefix = f\"{language}_documents/HSSC/updated_sentences/\"  \n",
    "\n",
    "i = 0\n",
    "documents_with_incentives = 0\n",
    "results_list = [[\"Sentence_name\", \"Sentence text\", \"Label\"]]\n",
    "\n",
    "incentives = 0\n",
    "for obj in s3.Bucket(s3BucketName).objects.all().filter(Prefix = in_prefix):\n",
    "    name = obj.key.split(\"/\")[3].split(\"_\")[0]\n",
    "#     print(name)\n",
    "    if name in codes :\n",
    "        sentences = json.loads(obj.get()['Body'].read().decode('utf-8'))\n",
    "        for sentence_id in sentences[name][\"sentences\"]:\n",
    "            incentive = sentences[name][\"sentences\"][sentence_id][\"label\"]\n",
    "            if len(incentive) > 1 and incentive[0] == \"Incentive\":\n",
    "                incentives += 1\n",
    "                results_list.append([])\n",
    "                results_list[incentives].append(name)\n",
    "                results_list[incentives].append(sentences[name][\"sentences\"][sentence_id][\"text\"])\n",
    "                results_list[incentives].append(incentive[1])\n",
    "                \n",
    "with open(f\"../out/incentive_sentences_{language}.csv\", \"w\") as f:\n",
    "    writer = csv.writer(f)\n",
    "    writer.writerows(results_list)           "
   ]
  },
  {
   "cell_type": "code",
   "execution_count": 37,
   "id": "115da6b6",
   "metadata": {},
   "outputs": [
    {
     "data": {
      "text/plain": [
       "408"
      ]
     },
     "execution_count": 37,
     "metadata": {},
     "output_type": "execute_result"
    }
   ],
   "source": [
    "len(results_list)"
   ]
  },
  {
   "cell_type": "code",
   "execution_count": 38,
   "id": "6854dadb",
   "metadata": {},
   "outputs": [],
   "source": [
    "with open(f\"../out/incentive_sentences_{language}.csv\", \"w\") as f:\n",
    "    writer = csv.writer(f)\n",
    "    writer.writerows(results_list)           "
   ]
  },
  {
   "cell_type": "code",
   "execution_count": null,
   "id": "a32f289e",
   "metadata": {},
   "outputs": [],
   "source": []
  }
 ],
 "metadata": {
  "kernelspec": {
   "display_name": "Python 3",
   "language": "python",
   "name": "python3"
  },
  "language_info": {
   "codemirror_mode": {
    "name": "ipython",
    "version": 3
   },
   "file_extension": ".py",
   "mimetype": "text/x-python",
   "name": "python",
   "nbconvert_exporter": "python",
   "pygments_lexer": "ipython3",
   "version": "3.8.8"
  },
  "toc": {
   "base_numbering": 1,
   "nav_menu": {},
   "number_sections": true,
   "sideBar": true,
   "skip_h1_title": true,
   "title_cell": "Table of Contents",
   "title_sidebar": "Contents",
   "toc_cell": false,
   "toc_position": {},
   "toc_section_display": true,
   "toc_window_display": false
  }
 },
 "nbformat": 4,
 "nbformat_minor": 5
}
