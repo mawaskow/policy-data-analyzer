{
 "cells": [
  {
   "cell_type": "markdown",
   "metadata": {},
   "source": [
    "# Data compilation from database scan\n",
    "\n",
    "The trained models have been used for scaning the whole database looking for incentives.\\\n",
    "Each sentence has been firs classified into one of to categories, *Incentive* or *Not-Incentive*.\\\n",
    "Sentences which were classified as incentives were further classified into one of the six policy instruments.\n",
    "\n",
    "Thus "
   ]
  },
  {
   "cell_type": "code",
   "execution_count": 1,
   "metadata": {},
   "outputs": [],
   "source": [
    "import boto3\n",
    "import json"
   ]
  },
  {
   "cell_type": "code",
   "execution_count": 3,
   "metadata": {},
   "outputs": [],
   "source": [
    "path = 'C:/Users/jordi/Documents/claus/'\n",
    "filename = 'AWS_S3_keys_wri.json'\n",
    "file = path + filename\n",
    "with open(file, 'r') as dict:\n",
    "    credentials = json.load(dict)\n",
    "                                      \n",
    "KEY = list(credentials)[0]\n",
    "SECRET = list(credentials.values())[0]\n",
    "# s3BucketName = \"wri-testing\"\n",
    "s3BucketName = \"wri-nlp-policy\"\n",
    "# region = 'eu-central-1'\n",
    "region = \"us-east-1\"\n",
    "\n",
    "s3 = boto3.resource(\n",
    "    service_name = 's3',\n",
    "    region_name = region,\n",
    "    aws_access_key_id = KEY,\n",
    "    aws_secret_access_key = SECRET\n",
    ")"
   ]
  },
  {
   "cell_type": "code",
   "execution_count": 13,
   "metadata": {},
   "outputs": [],
   "source": [
    "def sentence_stats(sentence_text, min_sentence_length, max_sentence_length, sum_sentence_length):\n",
    "    sum_sentence_length = sum_sentence_length + len(sentence_text)\n",
    "    if len(sentence_text) < min_sentence_length:\n",
    "        min_sentence_length = len(sentence_text)\n",
    "    if len(sentence_text) > max_sentence_length:\n",
    "        max_sentence_length = len(sentence_text)\n",
    "    return min_sentence_length, max_sentence_length, sum_sentence_length"
   ]
  },
  {
   "cell_type": "code",
   "execution_count": 15,
   "metadata": {},
   "outputs": [
    {
     "name": "stdout",
     "output_type": "stream",
     "text": [
      "['Incentive', 'Direct payment'] \n",
      " M. ING. VICTOR H. GARCIA PACHECO RUBRICA.\n",
      "['Incentive', 'Supplies'] \n",
      " GERENTE DE INFRAESTRUCTURA ING. DANIEL HERNANDEZ ZAMUDIO RUBRICA.\n",
      "['Incentive', 'Loan'] \n",
      " A lo anterior se suma la entrega de una boleta de garantía a favor de la Ilustre Municipalidad de Panquehue que equivaldrá al diez por ciento (10%) del proyecto de extracción de áridos, calculado por los metros cúbicos a extraer por proyecto, y su valor consignado en la Ordenanza de Derechos Municipales.\n",
      "['Incentive', 'Loan'] \n",
      " La vigencia de la boleta mencionada anteriormente será de noventa días posterior a la fecha de término del decreto de autorización.\n",
      "['Incentive', 'Fine'] \n",
      " De ser autorizada la extracción y teniendo a mano dichos documentos se procederá a redactar el decreto alcaldicio, que será el documento y acto administrativo oficial que formalizará el otorgamiento del permiso.\n",
      "['Incentive', 'Direct payment'] \n",
      " TÍTULO VIII: DERECHOS A PAGAR Y PROCEDIMIENTOS DE COBRO Artículo 17°- Todos los permisos, ya sean personas naturales o jurídicas y cualesquiera sean las formas de extracción, artesanales o mecanizadas en un Bien Nacional de Uso Público o desde Pozos Lastreros de propiedad particular, deberán pagar mensualmente en la Tesorería Municipal el equivalente a 0021 UTM mensuales por cada metro cúbico de árido extraído.\n",
      "['Incentive', 'Fine'] \n",
      " Además si el beneficiario de un permiso efectúa Tratamiento de Áridos, deberá pagar la patente comercial o industrial correspondiente.\n",
      "['Incentive', 'Direct payment'] \n",
      " Artículo 18°- El pago del derecho por la extracción de áridos deberá efectuarse mensualmente dentro de los dos (2) primeros días hábiles posteriores a la notificación que le llegará por parte del municipio sobre el monto a pagar, en base al procedimiento de control que se señala en el artículo siguiente.\n",
      "['Incentive', 'Direct payment'] \n",
      " Artículo 19°- Para que el municipio pueda calcular los derechos a pagar por parte del beneficiario de un permiso de extracción de árido, este deberá presentar la siguiente documentación, que corresponderá al material extraído del mes anterior al mes del pago: .\n",
      "['Incentive', 'Direct payment'] \n",
      " Artículo 21°- Quedarán exentos de pago de derechos municipales las personas que gocen de permisos de extracción artesanal de subsistencia, indicado en el artículo 16° de la presente Ordenanza y todas aquellas extracciones que serán utilizadas en obras públicas y que sean extraídas por la empresa ejecutora de dicha obra.\n",
      "['Incentive', 'Fine'] \n",
      " TÍTULO X: DEL TÉRMINO DEL PERMISO, DE LAS SANCIONES Y DE LOS PROCEDIMIENTOS DE FISCALIZACIÓN Artículo 22°- El permiso, materia de la presente Ordenanza se extinguirá, en conformidad con la Ley 18695, Orgánica Constitucional de Municipalidades, por las siguientes causales: 1- Cumplimiento del plazo por el que se otorgó; 2- Incumplimiento grave de las obligaciones impuestas al beneficiario de un permiso, o; 3- Mutuo acuerdo entre la Municipalidad y beneficiario de permiso, cuando ocurran razones de interés público, calificados por la Municipalidad.\n",
      "['Incentive', 'Fine'] \n",
      " La falta indicada en la letra f) será sancionada con la caducidad del permiso de extracción.\n",
      "['Incentive', 'Fine'] \n",
      " La falta indicada en la letra h) será denunciada al Juzgado de Policía Local aplicándosele la multa máxima; la reiteración del beneficiario, dará lugar a la petición de fuerza pública al Gobernador Provincial para dar cumplimiento forzado de la clausura.\n",
      "['Incentive', 'Fine'] \n",
      " Las infracciones señaladas en este artículo serán sancionadas con multa única de cincuenta Unidades Tributarias Mensuales por cada falta que cometa el beneficiario de un permiso.\n",
      "['Incentive', 'Fine'] \n",
      " Artículo 24°- No obstante lo anterior, ante faltas que se mencionan a continuación, dará lugar a multa que no podrá exceder de la cinco Unidades Tributarias Mensuales, en conformidad con la Ley 18695 Orgánica Constitucional de Municipalidades, faltas que incluso podrán originar la suspensión de la calidad del beneficiario de un permiso, en caso de reiteración comprobada.\n",
      "['Incentive', 'Fine'] \n",
      " Artículo 25°- Personal de la Dirección de Obras Municipales e Inspectoría Municipal, revisará permanentemente la faena en terreno, verificará si el beneficiario del permiso otorgado ha dado cumplimiento con los compromisos de encauzamiento y mantención del río, y de las obligaciones que le son exigidas en el proyecto autorizado, en caso contrario, se negará cualquier nuevo permiso, sin perjuicio de las demás sanciones establecidas en este reglamento o leyes especiales que regulen la materia, de todo lo cual se informará a la Dirección de Obras Hidráulicas para los fines pertinentes.\n",
      "['Incentive', 'Technical assistance'] \n",
      " Construcción de infraestructura de apoyo a la investigación científica, educación ambiental y turismo de bajo impacto ambiental³ 7.\n",
      "['Incentive', 'Supplies'] \n",
      " Por un año, para venta de alimentos y artesanías.\n",
      "['Incentive', 'Technical assistance'] \n",
      " Filmaciones, actividades de fotografía, la captura de imágenes o sonidos por cualquier medio, con fines científicos, culturales o educativos, que requieran de equipos compuestos por más de un técnico especializado como apoyo a la persona que opera el equipo principal.\n",
      "['Incentive', 'Supplies'] \n",
      " Colecta de ejemplares, partes y derivados de vida silvestre con fines de investigación científica y propósitos de enseñanza, en todas sus modalidades.\n",
      "['Incentive', 'Fine'] \n",
      " Para la obtención de las autorizaciones y prórrogas correspondientes que se refieren en el presente capítulo, el interesado deberá cumplir con los términos y requisitos, así como sujetarse a los términos establecidos en las disposiciones jurídicas aplicables.\n",
      "['Incentive', 'Supplies'] \n",
      " Brindar el apoyo y las facilidades necesarias para que el personal de la SEMARNAT realice labores de vigilancia, protección y control, así como en situaciones de emergencia o contingencia, y VIII.\n",
      "['Incentive', 'Technical assistance'] \n",
      " Los visitantes podrán contratar los servicios de guías, preferentemente locales.\n",
      "['Incentive', 'Direct payment'] \n",
      " Quienes realicen actividades de colecta científica dentro del Parque, deberán destinar al menos un duplicado del material biológico colectado a instituciones o colecciones científicas mexicanas, en términos de lo establecido por la Ley General de Vida Silvestre.\n",
      "['Incentive', 'Fine'] \n",
      " Capítulo IX De las sanciones y recursos Regla 46.\n",
      "['Incentive', 'Fine'] \n",
      " Las violaciones al presente instrumento serán sancionadas de conformidad con lo dispuesto en la LGEEPA, en el Título Vigésimo Quinto del Código Penal Federal, en la Ley General de Desarrollo Forestal Sustentable y sus respectivos Reglamentos, y demás disposiciones legales y reglamentarias aplicables.\n",
      "['Incentive', 'Tax benefit'] \n",
      " CARLOS MIRAMONTES PEREZ, EN SU CARÁCTER DE ENCARGADO DEL DESPACHO DE LA REPRESENTACIÓN DE LA \"SADER\" EN EL ESTADO DE TLAXCALA; Y POR LA OTRA PARTE, EL PODER EJECUTIVO DEL GOBIERNO DEL ESTADO LIBRE Y SOBERANO DE TLAXCALA, A QUIEN EN LO SUCESIVO SE LE DENOMINARÁ EL \"PODER EJECUTIVO DEL ESTADO\", REPRESENTADO EN ESTE ACTO POR SU GOBERNADOR, EL LIC.\n",
      "['Incentive', 'Direct payment'] \n",
      " MARCO ANTONIO MENA RODRÍGUEZ, ASISTIDO POR EL LIC.\n",
      "['Incentive', 'Technical assistance'] \n",
      " Procurar la asistencia y orientación al personal oficial del \"PODER EJECUTIVO DEL ESTADO\" cuando éste se lo solicite; III.\n",
      "['Incentive', 'Technical assistance'] \n",
      " Proporcionar los medios necesarios para que el personal oficial estatal, asista cuando menos una vez al año, a los cursos de capacitación mencionados en la Cláusula Sexta, fracción VI del presente instrumento, de conformidad a su disponibilidad presupuestal; III.\n",
      "['Incentive', 'Fine'] \n",
      " SANCIONES DECIMOSEGUNDA- El inicio de los procedimientos administrativos derivados del presunto incumplimiento a la legislación federal en materia de sanidad agroalimentaria, o de las Normas Oficiales Mexicanas, será facultad exclusiva de la \"SADER\", por conducto del \"SENASICA\", por lo que el \"PODER EJECUTIVO DEL ESTADO\" en ningún caso podrá imponer sanciones o multas.\n",
      "['Incentive', 'Direct payment'] \n",
      " SUBDIRECTORA DE ADQUISICIONES KATHIA ACEVES GALVAN RUBRICA.\n"
     ]
    }
   ],
   "source": [
    "prefix = \"spanish_documents/HSSC/sentences/\"\n",
    "\n",
    "i = 0\n",
    "documents_with_incentives = 0\n",
    "\n",
    "for obj in s3.Bucket(s3BucketName).objects.all().filter(Prefix = prefix):#.:\n",
    "  if \".json\" in obj.key:\n",
    "    i += 1\n",
    "#     if i % 10 == 0:\n",
    "#       output.clear()\n",
    "    if i < 10:\n",
    "#         print(f\"\\n\\nFile number: {i}\\n\\n\")\n",
    "        print(i,  end='\\r')\n",
    "        name = obj.key.split(\"/\")[3].split(\"_\")[0]\n",
    "        flag = True\n",
    "        sentences = json.loads(obj.get()['Body'].read().decode('utf-8'))\n",
    "        incentive_counter = 0\n",
    "        sentences_counter = 0\n",
    "        min_sentence_length = 100000\n",
    "        max_sentence_length = 0\n",
    "        sum_sentence_length = 0\n",
    "        \n",
    "        for sentence_id in sentences[name][\"sentences\"]:\n",
    "            sentence = sentences[name][\"sentences\"][sentence_id][\"text\"]\n",
    "            min_sentence_length, max_sentence_length, sum_sentence_length = sentence_stats(sentence, min_sentence_length, max_sentence_length, sum_sentence_length)\n",
    "            incentive =sentences[name][\"sentences\"][sentence_id][\"label\"]\n",
    "            if len(incentive) > 1 and incentive[0] == \"Incentive\":\n",
    "                incentive_counter += 1\n",
    "                print(incentive, \"\\n\", sentence)"
   ]
  },
  {
   "cell_type": "code",
   "execution_count": 17,
   "metadata": {},
   "outputs": [
    {
     "data": {
      "text/plain": [
       "970"
      ]
     },
     "execution_count": 17,
     "metadata": {},
     "output_type": "execute_result"
    }
   ],
   "source": [
    "max_sentence_length"
   ]
  },
  {
   "cell_type": "code",
   "execution_count": null,
   "metadata": {},
   "outputs": [],
   "source": []
  }
 ],
 "metadata": {
  "kernelspec": {
   "display_name": "Python 3",
   "language": "python",
   "name": "python3"
  },
  "language_info": {
   "codemirror_mode": {
    "name": "ipython",
    "version": 3
   },
   "file_extension": ".py",
   "mimetype": "text/x-python",
   "name": "python",
   "nbconvert_exporter": "python",
   "pygments_lexer": "ipython3",
   "version": "3.8.5"
  }
 },
 "nbformat": 4,
 "nbformat_minor": 4
}
