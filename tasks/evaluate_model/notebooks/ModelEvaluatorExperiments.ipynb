{
 "cells": [
  {
   "cell_type": "code",
   "execution_count": 4,
   "metadata": {},
   "outputs": [],
   "source": [
    "import os\n",
    "import argparse\n",
    "\n",
    "import pandas as pd\n",
    "from tqdm import tqdm\n",
    "\n",
    "query = \"beneficio económico o asistencia técnica\"\n",
    "result_path = \"models/highlighter/sbert.csv\"\n",
    "min_paragraph_length = 60\n",
    "substring_similarity_threshold = 60\n",
    "blacklist = [\n",
    "    \"Presupuesto de Egresos de la Federación\",\n",
    "    \"Sembrando Vida\",\n",
    "    \"poseedores de terrenos forestales \"\n",
    "]\n",
    "\n",
    "\n",
    "def read_model_output():\n",
    "    pass\n",
    "\n",
    "\n",
    "def labels_from_dataset():\n",
    "    pass\n",
    "\n",
    "\n",
    "def evaluate(y_true, y_pred, metric):\n",
    "    pass\n",
    "\n",
    "\n",
    "def evaluate_model(dataset_path, model_output_path, metric):\n",
    "    ground_truth = labels_from_dataset(dataset_path)\n",
    "    model_preds = read_model_output(model_output_path)\n",
    "    results_df = evaluate(ground_truth, model_preds, metric)\n",
    "    results_plots = plot_results(results_df)\n",
    "\n",
    "    \n",
    "def plot_results(eval_results):\n",
    "    pass\n",
    "\n",
    "\n",
    "def main():\n",
    "\n",
    "    # Read command line arguments\n",
    "    parser = argparse.ArgumentParser()\n",
    "    parser.add_argument(\"-metric\", type=str)\n",
    "    parser.add_argument(\"-model_name\", type=str)\n",
    "    parser.add_argument(\"-model_output_path\", type=str)\n",
    "    parser.add_argument(\"-dataset_path\", type=str)\n",
    "    args = vars(parser.parse_args())\n",
    "\n",
    "    evaluate_model(args[\"dataset_path\"], args[\"model_output_path\"])\n",
    "    "
   ]
  },
  {
   "cell_type": "code",
   "execution_count": null,
   "metadata": {},
   "outputs": [],
   "source": []
  }
 ],
 "metadata": {
  "kernelspec": {
   "display_name": "wri-env",
   "language": "python",
   "name": "wri-env"
  },
  "language_info": {
   "codemirror_mode": {
    "name": "ipython",
    "version": 3
   },
   "file_extension": ".py",
   "mimetype": "text/x-python",
   "name": "python",
   "nbconvert_exporter": "python",
   "pygments_lexer": "ipython3",
   "version": "3.8.5"
  }
 },
 "nbformat": 4,
 "nbformat_minor": 4
}
