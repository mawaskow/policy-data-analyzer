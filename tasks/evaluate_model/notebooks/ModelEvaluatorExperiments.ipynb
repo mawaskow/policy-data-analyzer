{
 "cells": [
  {
   "cell_type": "code",
   "execution_count": 61,
   "metadata": {},
   "outputs": [],
   "source": [
    "import os\n",
    "import argparse\n",
    "\n",
    "import pandas as pd\n",
    "from tqdm import tqdm\n",
    "from sklearn.metrics import confusion_matrix, precision_recall_curve, f1_score\n",
    "import numpy as np\n",
    "import matplotlib.pyplot as plt    \n",
    "import itertools\n",
    "\n",
    "\"\"\"\n",
    "Metrics:\n",
    "- Precision recall curve\n",
    "- F1-score\n",
    "- Confusion matrix\n",
    "- Cosine similarity\n",
    "- Accuracy \n",
    "- Sensitivity/specificity\n",
    "\n",
    "\"\"\" \n",
    "\n",
    "# N_CLASSES = 6\n",
    "# def plot_precision_recall_curve(y_true, y_pred):\n",
    "\n",
    "#     precision = {}\n",
    "#     recall = {}\n",
    "#     for i in range(N_CLASSES):\n",
    "#         precision[i], recall[i], _ = precision_recall_curve(y_true[i],\n",
    "#                                                             y_pred[i])\n",
    "#         plt.plot(recall[i], precision[i], lw=2, label='class {}'.format(i))\n",
    "\n",
    "#     plt.xlabel(\"recall\")\n",
    "#     plt.ylabel(\"precision\")\n",
    "#     plt.legend(loc=\"best\")\n",
    "#     plt.title(\"precision vs. recall curve\")\n",
    "#     plt.show()\n",
    "    \n",
    "#     precision, recall, _ = precision_recall_curve(y_true, y_pred)\n",
    "#     no_skill = len(y_true[y_true==1]) / len(y_true)\n",
    "#     pyplot.plot([0, 1], [no_skill, no_skill], linestyle='--', label='No Skill')\n",
    "#     pyplot.plot(recall, precision, marker='.', label='Model')\n",
    "#     pyplot.xlabel('Recall')\n",
    "#     pyplot.ylabel('Precision')\n",
    "#     pyplot.legend()\n",
    "#     pyplot.show()\n",
    "\n",
    "def plot_confusion_matrix(cm,\n",
    "                          target_names,\n",
    "                          title='Confusion matrix',\n",
    "                          cmap=None,\n",
    "                          normalize=True):\n",
    "    \"\"\"\n",
    "    Taken from: https://stackoverflow.com/questions/19233771/sklearn-plot-confusion-matrix-with-labels\n",
    "    \n",
    "    Given a sklearn confusion matrix (cm), make a nice plot\n",
    "\n",
    "    Arguments\n",
    "    ---------\n",
    "    cm:           confusion matrix from sklearn.metrics.confusion_matrix\n",
    "\n",
    "    target_names: given classification classes such as [0, 1, 2]\n",
    "                  the class names, for example: ['high', 'medium', 'low']\n",
    "\n",
    "    title:        the text to display at the top of the matrix\n",
    "\n",
    "    cmap:         the gradient of the values displayed from matplotlib.pyplot.cm\n",
    "                  see http://matplotlib.org/examples/color/colormaps_reference.html\n",
    "                  plt.get_cmap('jet') or plt.cm.Blues\n",
    "\n",
    "    normalize:    If False, plot the raw numbers\n",
    "                  If True, plot the proportions\n",
    "\n",
    "    Usage\n",
    "    -----\n",
    "    plot_confusion_matrix(cm           = cm,                  # confusion matrix created by\n",
    "                                                              # sklearn.metrics.confusion_matrix\n",
    "                          normalize    = True,                # show proportions\n",
    "                          target_names = y_labels_vals,       # list of names of the classes\n",
    "                          title        = best_estimator_name) # title of graph\n",
    "\n",
    "    Citiation\n",
    "    ---------\n",
    "    http://scikit-learn.org/stable/auto_examples/model_selection/plot_confusion_matrix.html\n",
    "\n",
    "    \"\"\"\n",
    "\n",
    "    accuracy = np.trace(cm) / np.sum(cm).astype('float')\n",
    "    misclass = 1 - accuracy\n",
    "\n",
    "    if cmap is None:\n",
    "        cmap = plt.get_cmap('Blues')\n",
    "\n",
    "    plt.figure(figsize=(8, 6))\n",
    "    plt.imshow(cm, interpolation='nearest', cmap=cmap)\n",
    "    plt.title(title)\n",
    "    plt.colorbar()\n",
    "\n",
    "    if target_names is not None:\n",
    "        tick_marks = np.arange(len(target_names))\n",
    "        plt.xticks(tick_marks, target_names, rotation=45)\n",
    "        plt.yticks(tick_marks, target_names)\n",
    "\n",
    "    if normalize:\n",
    "        cm = cm.astype('float') / cm.sum(axis=1)[:, np.newaxis]\n",
    "\n",
    "\n",
    "    thresh = cm.max() / 1.5 if normalize else cm.max() / 2\n",
    "    for i, j in itertools.product(range(cm.shape[0]), range(cm.shape[1])):\n",
    "        if normalize:\n",
    "            plt.text(j, i, \"{:0.4f}\".format(cm[i, j]),\n",
    "                     horizontalalignment=\"center\",\n",
    "                     color=\"white\" if cm[i, j] > thresh else \"black\")\n",
    "        else:\n",
    "            plt.text(j, i, \"{:,}\".format(cm[i, j]),\n",
    "                     horizontalalignment=\"center\",\n",
    "                     color=\"white\" if cm[i, j] > thresh else \"black\")\n",
    "\n",
    "\n",
    "    plt.tight_layout()\n",
    "    plt.ylabel('True label')\n",
    "    plt.xlabel('Predicted label\\naccuracy={:0.4f}; misclass={:0.4f}'.format(accuracy, misclass))\n",
    "    plt.show()\n",
    "    \n",
    "    \n",
    "def f1_scores(y_true, y_pred):\n",
    "    scores = {}\n",
    "    scores[\"micro\"] = f1_score(y_true, y_pred, average=\"micro\")\n",
    "    scores[\"macro\"] = f1_score(y_true, y_pred, average=\"macro\")\n",
    "    scores[\"weighted\"] = f1_score(y_true, y_pred, average=\"weighted\")\n",
    "    return scores\n",
    "\n",
    "# def evaluate(y_true, y_pred, metric):\n",
    "#     pass\n",
    "\n",
    "# def full_evaluation(y_true, y_pred, experiment_name=None, store=False):\n",
    "#     plot\n",
    "\n",
    "# def evaluate_model(dataset_path, model_output_path, metric):\n",
    "#     ground_truth = labels_from_dataset(dataset_path)\n",
    "#     model_preds = read_model_output(model_output_path)\n",
    "#     results_df = evaluate(ground_truth, model_preds, metric)\n",
    "#     results_plots = plot_results(results_df)\n",
    "\n",
    "    \n",
    "# def plot_results(eval_results):\n",
    "#     pass\n",
    "\n",
    "\n",
    "# def main():\n",
    "\n",
    "#     # Read command line arguments\n",
    "#     parser = argparse.ArgumentParser()\n",
    "#     parser.add_argument(\"-metric\", type=str)\n",
    "#     parser.add_argument(\"-model_name\", type=str)\n",
    "#     parser.add_argument(\"-model_output_path\", type=str)\n",
    "#     parser.add_argument(\"-dataset_path\", type=str)\n",
    "#     args = vars(parser.parse_args())\n",
    "\n",
    "#     evaluate_model(args[\"dataset_path\"], args[\"model_output_path\"])\n",
    "    "
   ]
  },
  {
   "cell_type": "code",
   "execution_count": 52,
   "metadata": {},
   "outputs": [],
   "source": [
    "label_names = [\"Direct payment (PES)\", \"Tax deduction\", \"Credit/guarantee\", \"Technical assistance\", \"Supplies\", \"Fine\"]\n",
    "\n",
    "y_true = np.random.randint(len(label_names), size=100)\n",
    "y_pred = np.random.randint(len(label_names), size=100)"
   ]
  },
  {
   "cell_type": "code",
   "execution_count": 60,
   "metadata": {},
   "outputs": [
    {
     "data": {
      "text/plain": [
       "6"
      ]
     },
     "execution_count": 60,
     "metadata": {},
     "output_type": "execute_result"
    }
   ],
   "source": [
    "len(label_names)"
   ]
  },
  {
   "cell_type": "code",
   "execution_count": 53,
   "metadata": {},
   "outputs": [
    {
     "data": {
      "text/plain": [
       "(array([0, 5, 1, 2, 5, 4, 2, 2, 5, 5, 0, 0, 4, 3, 0, 3, 0, 3, 5, 4, 0, 4,\n",
       "        5, 2, 3, 0, 4, 5, 5, 2, 5, 5, 3, 3, 0, 4, 0, 5, 3, 3, 4, 1, 4, 2,\n",
       "        3, 1, 3, 3, 3, 4, 5, 3, 2, 0, 5, 5, 1, 5, 1, 4, 5, 0, 3, 5, 2, 4,\n",
       "        2, 1, 0, 3, 0, 0, 5, 2, 4, 3, 5, 3, 5, 5, 1, 3, 3, 2, 4, 5, 2, 1,\n",
       "        2, 2, 5, 5, 1, 2, 0, 0, 1, 4, 0, 1]),\n",
       " array([2, 3, 3, 2, 0, 5, 0, 2, 5, 4, 5, 3, 0, 4, 2, 2, 3, 2, 1, 2, 3, 0,\n",
       "        4, 4, 4, 0, 4, 4, 1, 5, 4, 4, 5, 4, 3, 0, 2, 4, 5, 2, 2, 5, 0, 1,\n",
       "        0, 5, 2, 4, 0, 3, 2, 3, 5, 5, 5, 5, 3, 5, 3, 0, 1, 1, 5, 2, 4, 3,\n",
       "        4, 3, 3, 0, 3, 3, 0, 1, 2, 2, 0, 1, 5, 3, 4, 1, 3, 0, 5, 1, 3, 5,\n",
       "        3, 1, 5, 4, 1, 4, 0, 3, 0, 3, 0, 2]))"
      ]
     },
     "execution_count": 53,
     "metadata": {},
     "output_type": "execute_result"
    }
   ],
   "source": [
    "y_true, y_pred"
   ]
  },
  {
   "cell_type": "code",
   "execution_count": 54,
   "metadata": {},
   "outputs": [],
   "source": [
    "cm = confusion_matrix(y_true, y_pred)"
   ]
  },
  {
   "cell_type": "code",
   "execution_count": 55,
   "metadata": {},
   "outputs": [
    {
     "data": {
      "text/plain": [
       "array([[3, 1, 3, 8, 0, 2],\n",
       "       [1, 1, 1, 4, 1, 3],\n",
       "       [2, 3, 2, 2, 4, 2],\n",
       "       [3, 2, 5, 2, 4, 3],\n",
       "       [5, 0, 3, 3, 1, 2],\n",
       "       [3, 4, 2, 2, 7, 6]])"
      ]
     },
     "execution_count": 55,
     "metadata": {},
     "output_type": "execute_result"
    }
   ],
   "source": [
    "cm"
   ]
  },
  {
   "cell_type": "code",
   "execution_count": 56,
   "metadata": {},
   "outputs": [
    {
     "data": {
      "image/png": "[encoded data removed]",
      "text/plain": [
       "<Figure size 576x432 with 2 Axes>"
      ]
     },
     "metadata": {
      "needs_background": "light"
     },
     "output_type": "display_data"
    }
   ],
   "source": [
    "plot_confusion_matrix(cm,\n",
    "                      label_names,\n",
    "                      title='Confusion matrix',\n",
    "                      cmap=None,\n",
    "                      normalize=False)"
   ]
  },
  {
   "cell_type": "code",
   "execution_count": 65,
   "metadata": {},
   "outputs": [
    {
     "data": {
      "text/plain": [
       "(0.15, 0.14110705865924086, 0.15595852534562213)"
      ]
     },
     "execution_count": 65,
     "metadata": {},
     "output_type": "execute_result"
    }
   ],
   "source": []
  },
  {
   "cell_type": "code",
   "execution_count": null,
   "metadata": {},
   "outputs": [],
   "source": []
  }
 ],
 "metadata": {
  "kernelspec": {
   "display_name": "wri-env",
   "language": "python",
   "name": "wri-env"
  },
  "language_info": {
   "codemirror_mode": {
    "name": "ipython",
    "version": 3
   },
   "file_extension": ".py",
   "mimetype": "text/x-python",
   "name": "python",
   "nbconvert_exporter": "python",
   "pygments_lexer": "ipython3",
   "version": "3.8.5"
  }
 },
 "nbformat": 4,
 "nbformat_minor": 4
}
