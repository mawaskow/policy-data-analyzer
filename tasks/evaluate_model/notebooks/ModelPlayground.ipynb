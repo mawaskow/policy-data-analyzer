{
 "cells": [
  {
   "cell_type": "markdown",
   "metadata": {},
   "source": [
    "## Data loading"
   ]
  },
  {
   "cell_type": "code",
   "execution_count": 148,
   "metadata": {},
   "outputs": [],
   "source": [
    "import os\n",
    "import json"
   ]
  },
  {
   "cell_type": "code",
   "execution_count": 143,
   "metadata": {},
   "outputs": [],
   "source": [
    "def load_file(file_name):\n",
    "    try:\n",
    "        with open(file_name, \"r\") as f:\n",
    "            return json.load(f)\n",
    "    except Exception as e:\n",
    "        print(\"Couldn't load file. Error: \" + e)\n",
    "        return None\n",
    "\n",
    "def labeled_sentences_from_dataset(dataset):\n",
    "    sentence_tags_map = {}\n",
    "                    \n",
    "    for document in dataset.values():\n",
    "        for section in document.values():\n",
    "            for subsection in section.values():\n",
    "                for sentence in subsection['sentences'].values():\n",
    "                    sentence_tags_map[sentence['text']] = sentence['labels'][0]\n",
    "                    \n",
    "    return sentence_tags_map\n",
    "\n",
    "def labeled_sentences_from_model_output(model_preds):\n",
    "    sentence_tags_map = {}\n",
    "    for preds in model_preds:\n",
    "        sentence_tags_map[preds[\"text\"]] = preds[\"labels\"][0]\n",
    "    return sentence_tags_map\n",
    "\n",
    "def labels_from_dataset(dataset):\n",
    "    labels = []\n",
    "                    \n",
    "    for document in dataset.values():\n",
    "        for section in document.values():\n",
    "            for subsection in section.values():\n",
    "                for sentence in subsection['sentences'].values():\n",
    "                    labels.append(sentence['labels'][0])\n",
    "                    \n",
    "    return labels\n",
    "\n",
    "def labels_from_model_output(model_preds):\n",
    "    return [preds[\"labels\"][0] for preds in model_preds]"
   ]
  },
  {
   "cell_type": "code",
   "execution_count": 144,
   "metadata": {},
   "outputs": [],
   "source": [
    "dataset_fname = \"/Users/dafirebanks/Projects/policy-data-analyzer/tasks/evaluate_model/input/sample_dataset.json\"\n",
    "model_preds_fname = \"/Users/dafirebanks/Projects/policy-data-analyzer/tasks/evaluate_model/input/sample_model_output.json\"\n",
    "\n",
    "dataset = load_file(dataset_fname)\n",
    "model_preds = load_file(model_preds_fname) "
   ]
  },
  {
   "cell_type": "code",
   "execution_count": 145,
   "metadata": {},
   "outputs": [
    {
     "data": {
      "text/plain": [
       "{'Participar en las consultas previas a la definición y aprobación de la política de bosques, áreas naturales y zonas de amortiguamiento en las formas y mecanismos establecidos en la presente ordenanza': 1,\n",
       " 'Ser informados de forma oportuna, clara y suficiente de las políticas, programas y planes de manejo de los bosques, áreas naturales y zonas de amortiguamiento': 0,\n",
       " 'Recibir capacitaciones relacionadas a los temas que desarrolla esta ordenanza.': 2,\n",
       " 'Art. 34.- Toda persona natural o jurídica que haga uso de los recursos de los Bosques, Áreas Naturales y Zonas de Amortiguamiento, en legal forma, estará obligada a:': 0,\n",
       " 'En el caso de tala, a sembrar por cada árbol talado diez de su misma especie en los mismos lugares o en aquellos donde la Unidad Ambiental Municipal les señale.': 1,\n",
       " 'A darle cuido y mantenimiento a cada uno de los árboles sembrados hasta cuando se encontraren en buenas condiciones de desarrollarse por sí mismos; estableciéndose un mínimo de tres años.': 1,\n",
       " 'Art. 35.- Es obligación de todo persona que resida en el Municipio, hacer efectiva la protección y conservación de los Bosques, Áreas Naturales y Zonas de Amortiguamiento.': 3,\n",
       " 'Art. 36.- Todos los habitantes y autoridades del municipio, están en la obligación de incorporarse a las campañas de protección y conservación de los Bosques, Áreas Naturales y Zonas de Amortiguamiento.': 4}"
      ]
     },
     "execution_count": 145,
     "metadata": {},
     "output_type": "execute_result"
    }
   ],
   "source": [
    "dataset_pairs = labeled_sentences_from_dataset(dataset)\n",
    "dataset_pairs "
   ]
  },
  {
   "cell_type": "code",
   "execution_count": 146,
   "metadata": {},
   "outputs": [
    {
     "data": {
      "text/plain": [
       "{'Participar en las consultas previas a la definición y aprobación de la política de bosques, áreas naturales y zonas de amortiguamiento en las formas y mecanismos establecidos en la presente ordenanza': 1,\n",
       " 'Ser informados de forma oportuna, clara y suficiente de las políticas, programas y planes de manejo de los bosques, áreas naturales y zonas de amortiguamiento': 0,\n",
       " 'Recibir capacitaciones relacionadas a los temas que desarrolla esta ordenanza.': 1,\n",
       " 'Art. 34.- Toda persona natural o jurídica que haga uso de los recursos de los Bosques, Áreas Naturales y Zonas de Amortiguamiento, en legal forma, estará obligada a:': 2,\n",
       " 'En el caso de tala, a sembrar por cada árbol talado diez de su misma especie en los mismos lugares o en aquellos donde la Unidad Ambiental Municipal les señale.': 1,\n",
       " 'A darle cuido y mantenimiento a cada uno de los árboles sembrados hasta cuando se encontraren en buenas condiciones de desarrollarse por sí mismos; estableciéndose un mínimo de tres años.': 2,\n",
       " 'Art. 35.- Es obligación de todo persona que resida en el Municipio, hacer efectiva la protección y conservación de los Bosques, Áreas Naturales y Zonas de Amortiguamiento.': 3,\n",
       " 'Art. 36.- Todos los habitantes y autoridades del municipio, están en la obligación de incorporarse a las campañas de protección y conservación de los Bosques, Áreas Naturales y Zonas de Amortiguamiento.': 2}"
      ]
     },
     "execution_count": 146,
     "metadata": {},
     "output_type": "execute_result"
    }
   ],
   "source": [
    "model_preds_pairs = labeled_sentences_from_model_output(model_preds)\n",
    "model_preds_pairs"
   ]
  },
  {
   "cell_type": "code",
   "execution_count": 147,
   "metadata": {},
   "outputs": [
    {
     "data": {
      "text/plain": [
       "([1, 0, 2, 0, 1, 1, 3, 4], [1, 0, 1, 2, 1, 2, 3, 2])"
      ]
     },
     "execution_count": 147,
     "metadata": {},
     "output_type": "execute_result"
    }
   ],
   "source": [
    "dataset_labels = labels_from_dataset(dataset)\n",
    "model_preds_labels = labels_from_model_output(model_preds)\n",
    "dataset_labels, model_preds_labels"
   ]
  },
  {
   "cell_type": "markdown",
   "metadata": {},
   "source": [
    "## Model setup"
   ]
  },
  {
   "cell_type": "code",
   "execution_count": null,
   "metadata": {},
   "outputs": [],
   "source": []
  },
  {
   "cell_type": "code",
   "execution_count": null,
   "metadata": {},
   "outputs": [],
   "source": []
  },
  {
   "cell_type": "code",
   "execution_count": null,
   "metadata": {},
   "outputs": [],
   "source": []
  }
 ],
 "metadata": {
  "kernelspec": {
   "display_name": "wri-env",
   "language": "python",
   "name": "wri-env"
  },
  "language_info": {
   "codemirror_mode": {
    "name": "ipython",
    "version": 3
   },
   "file_extension": ".py",
   "mimetype": "text/x-python",
   "name": "python",
   "nbconvert_exporter": "python",
   "pygments_lexer": "ipython3",
   "version": "3.8.5"
  }
 },
 "nbformat": 4,
 "nbformat_minor": 4
}
