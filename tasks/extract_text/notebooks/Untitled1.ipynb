{
 "cells": [
  {
   "cell_type": "code",
   "execution_count": 1,
   "id": "fitted-rescue",
   "metadata": {},
   "outputs": [],
   "source": [
    "import csv\n",
    "import datetime\n",
    "import holidays"
   ]
  },
  {
   "cell_type": "code",
   "execution_count": 6,
   "id": "solved-server",
   "metadata": {},
   "outputs": [],
   "source": [
    "def next_business_day(date, time_span, time_unit, country_code):\n",
    "    ONE_DAY = datetime.timedelta(days=1)\n",
    "    HOLIDAYS = holidays.CountryHoliday(country_code)\n",
    "    next_day = date + ONE_DAY\n",
    "    while next_day.weekday() in holidays.WEEKEND or next_day in HOLIDAYS:\n",
    "       next_day += ONE_DAY\n",
    "    return next_day\n",
    "\n",
    "def create_date_list(start_date, to_date, time_span, time_unit, country_code):\n",
    "    dates = []\n",
    "    start_date = datetime.datetime.strptime(start_date, '%Y-%m-%d').date()\n",
    "    to_date = datetime.datetime.strptime(to_date, '%Y-%m-%d').date()\n",
    "    while start_date < to_date:\n",
    "        start_date = next_business_day(start_date, time_span, time_unit, country_code)\n",
    "        dates.append(start_date)\n",
    "    return dates"
   ]
  },
  {
   "cell_type": "code",
   "execution_count": 21,
   "id": "iraqi-warning",
   "metadata": {},
   "outputs": [
    {
     "name": "stdout",
     "output_type": "stream",
     "text": [
      "2010-01-04\n",
      "2010-01-05\n"
     ]
    }
   ],
   "source": [
    "path = \"/home/propietari/Documents/GitHub/policy-data-analyzer/tasks/Scrapy/scrapy_official_newspapers/output/\"\n",
    "file_name = \"USFR_20210310_1.csv\"\n",
    "file = path + file_name\n",
    "\n",
    "dates_dict = {}\n",
    "\n",
    "with open(file, 'r', errors=\"surrogateescape\") as f:   \n",
    "    reader = csv.reader(f)\n",
    "    for row in reader: #unicode(reader, errors='ignore'):\n",
    "        dates_dict[datetime.datetime.strptime(row[6], '%Y-%m-%d').date()] = 0\n",
    "        \n",
    "from_date = \"2010-01-01\"\n",
    "to_date = \"2010-01-07\"\n",
    "country_code = \"US\"\n",
    "for day in create_date_list(from_date, to_date, 1, \"days\", country_code):\n",
    "    if day in dates_dict:\n",
    "        print(day)"
   ]
  },
  {
   "cell_type": "code",
   "execution_count": 9,
   "id": "wrapped-uniform",
   "metadata": {},
   "outputs": [
    {
     "data": {
      "text/plain": [
       "str"
      ]
     },
     "execution_count": 9,
     "metadata": {},
     "output_type": "execute_result"
    }
   ],
   "source": [
    "type(from_date)"
   ]
  },
  {
   "cell_type": "code",
   "execution_count": null,
   "id": "boxed-painting",
   "metadata": {},
   "outputs": [],
   "source": []
  }
 ],
 "metadata": {
  "kernelspec": {
   "display_name": "Python 3",
   "language": "python",
   "name": "python3"
  },
  "language_info": {
   "codemirror_mode": {
    "name": "ipython",
    "version": 3
   },
   "file_extension": ".py",
   "mimetype": "text/x-python",
   "name": "python",
   "nbconvert_exporter": "python",
   "pygments_lexer": "ipython3",
   "version": "3.8.8"
  }
 },
 "nbformat": 4,
 "nbformat_minor": 5
}
