{
 "cells": [
  {
   "cell_type": "code",
   "execution_count": 6,
   "metadata": {
    "colab": {
     "base_uri": "https://localhost:8080/",
     "height": 368
    },
    "id": "DGl4uKSenvb5",
    "outputId": "82cc603b-ee01-431d-d065-22e3eb168cb5"
   },
   "outputs": [],
   "source": [
    "#import libraries\n",
    "import boto3\n",
    "import json\n",
    "import os, io\n",
    "import re\n",
    "import time\n",
    "from io import StringIO\n",
    "from io import BytesIO\n",
    "from os import listdir\n",
    "from os.path import isfile, join\n",
    "\n",
    "import pytesseract\n",
    "\n",
    "import pdfminer\n",
    "\n",
    "from pdfminer.converter import TextConverter\n",
    "from pdfminer.layout import LAParams #, LTTextBox, LTTextLine\n",
    "from pdfminer.pdfdocument import PDFDocument\n",
    "from pdfminer.pdfinterp import PDFResourceManager, PDFPageInterpreter\n",
    "from pdfminer.pdfpage import PDFPage\n",
    "from pdfminer.pdfpage import PDFTextExtractionNotAllowed\n",
    "from pdfminer.pdfparser import PDFParser\n",
    "\n",
    "from PIL import Image\n",
    "\n",
    "import textract"
   ]
  },
  {
   "cell_type": "code",
   "execution_count": 2,
   "metadata": {},
   "outputs": [],
   "source": [
    "# Connection to AWS\n",
    "folder = '/home/propietari/Documents/claus/' # TODO: change to your local path\n",
    "file_name = 'AWS_S3_keys_JordiPlanas_Made_in_game.json' # TODO: Change to your filename\n",
    "file = folder + file_name\n",
    "\n",
    "with open(file, 'r') as dict:\n",
    "    credentials = json.load(dict)\n",
    "                                      \n",
    "KEY = list(credentials)[0]\n",
    "SECRET = list(credentials.values())[0]\n",
    "s3BucketName = \"wri-testing\"\n",
    "region = 'eu-central-1'\n",
    "\n",
    "s3 = boto3.resource(\n",
    "    service_name = 's3',\n",
    "    region_name = region,\n",
    "    aws_access_key_id = KEY,\n",
    "    aws_secret_access_key = SECRET\n",
    ")"
   ]
  },
  {
   "cell_type": "markdown",
   "metadata": {
    "id": "yja9BbqcyhRU"
   },
   "source": [
    "# Checking whether the files are scanned images or true pdfs"
   ]
  },
  {
   "cell_type": "code",
   "execution_count": null,
   "metadata": {},
   "outputs": [],
   "source": [
    "from io import StringIO\n",
    "import os\n",
    "s = StringIO()\n",
    "s.write(\"abc\")\n",
    "pos = s.tell()\n",
    "s.seek(0, os.SEEK_END)\n",
    "print(s.tell())\n",
    "s.seek(pos)"
   ]
  },
  {
   "cell_type": "code",
   "execution_count": null,
   "metadata": {},
   "outputs": [],
   "source": [
    "onlyfiles = [f for f in listdir('../input/') if isfile(join('../input/', f))]\n",
    "\n",
    "files = [f for f in onlyfiles if \"~\" not in f and \"git\" not in f]\n",
    "for file in files:\n",
    "    if \"doc\" in file:\n",
    "        print(\"\\n\\n### \", file, \" ###\\n\\n\")\n",
    "        try:\n",
    "            print(textract.process('../input/' + file))\n",
    "        except:\n",
    "            print(\"Problemo\")\n",
    "            pass\n",
    "        print(\"\\n\\n**************************\\n\\n\")"
   ]
  },
  {
   "cell_type": "code",
   "execution_count": null,
   "metadata": {
    "id": "mw-88hilyhpj"
   },
   "outputs": [],
   "source": [
    "\n",
    "def is_image(file):\n",
    "    fp = open(file, 'rb')\n",
    "    # Create a PDF parser object associated with the file object.\n",
    "    parser = PDFParser(fp)\n",
    "    # Create a PDF document\n",
    "    document = PDFDocument(parser)\n",
    "    if not document.is_extractable:\n",
    "        raise PDFTextExtractionNotAllowed\n",
    "    else:\n",
    "        return parser\n"
   ]
  },
  {
   "cell_type": "code",
   "execution_count": null,
   "metadata": {
    "colab": {
     "base_uri": "https://localhost:8080/",
     "height": 265
    },
    "id": "sbcIiEZM-VeX",
    "outputId": "24424171-81dd-470c-8f0f-1612a9cad7d9"
   },
   "outputs": [],
   "source": [
    "print(is_image('../input/India1.pdf'))"
   ]
  },
  {
   "cell_type": "code",
   "execution_count": null,
   "metadata": {
    "id": "nHaDF7YQKeN6"
   },
   "outputs": [],
   "source": []
  }
 ],
 "metadata": {
  "colab": {
   "collapsed_sections": [],
   "name": "OCR.ipynb",
   "provenance": []
  },
  "kernelspec": {
   "display_name": "Python 3",
   "language": "python",
   "name": "python3"
  },
  "language_info": {
   "codemirror_mode": {
    "name": "ipython",
    "version": 3
   },
   "file_extension": ".py",
   "mimetype": "text/x-python",
   "name": "python",
   "nbconvert_exporter": "python",
   "pygments_lexer": "ipython3",
   "version": "3.8.8"
  }
 },
 "nbformat": 4,
 "nbformat_minor": 1
}
