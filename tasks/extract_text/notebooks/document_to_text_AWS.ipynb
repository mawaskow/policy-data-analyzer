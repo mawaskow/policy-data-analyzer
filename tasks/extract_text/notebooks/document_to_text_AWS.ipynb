{
 "cells": [
  {
   "cell_type": "code",
   "execution_count": 1,
   "metadata": {
    "colab": {
     "base_uri": "https://localhost:8080/",
     "height": 368
    },
    "id": "DGl4uKSenvb5",
    "outputId": "82cc603b-ee01-431d-d065-22e3eb168cb5"
   },
   "outputs": [],
   "source": [
    "#import libraries\n",
    "import boto3\n",
    "import json\n",
    "import time"
   ]
  },
  {
   "cell_type": "code",
   "execution_count": 2,
   "metadata": {},
   "outputs": [],
   "source": [
    "# Connection to AWS\n",
    "folder = '/home/propietari/Documents/claus/' # TODO: change to your local path\n",
    "file_name = 'AWS_S3_keys_JordiPlanas_Made_in_game.json' # TODO: Change to your filename\n",
    "file = folder + file_name\n",
    "\n",
    "with open(file, 'r') as dict:\n",
    "    credentials = json.load(dict)\n",
    "                                      \n",
    "KEY = list(credentials)[0]\n",
    "SECRET = list(credentials.values())[0]\n",
    "s3BucketName = \"wri-testing\"\n",
    "region = 'eu-central-1'\n",
    "\n",
    "s3 = boto3.resource(\n",
    "    service_name = 's3',\n",
    "    region_name = region,\n",
    "    aws_access_key_id = KEY,\n",
    "    aws_secret_access_key = SECRET\n",
    ")"
   ]
  },
  {
   "cell_type": "code",
   "execution_count": 3,
   "metadata": {},
   "outputs": [],
   "source": [
    "def startJob(s3BucketName, objectName):\n",
    "    response = None\n",
    "    client = boto3.client('textract',\n",
    "#                           service_name = 's3',\n",
    "                          region_name = region,\n",
    "                          aws_access_key_id = KEY,\n",
    "                          aws_secret_access_key = SECRET)\n",
    "    response = client.start_document_text_detection(DocumentLocation={\n",
    "        'S3Object': {'Bucket': s3BucketName,\n",
    "                     'Name': objectName\n",
    "                    }\n",
    "        })\n",
    "    return response[\"JobId\"]\n",
    "def isJobComplete(jobId):\n",
    " # For production use cases, use SNS based notification \n",
    " # Details at: https://docs.aws.amazon.com/textract/latest/dg/api-async.html\n",
    "    time.sleep(5)\n",
    "    client = boto3.client('textract',\n",
    "#                           service_name = 's3',\n",
    "                          region_name = region,\n",
    "                          aws_access_key_id = KEY,\n",
    "                          aws_secret_access_key = SECRET)\n",
    "    response = client.get_document_text_detection(JobId=jobId)\n",
    "    status = response[\"JobStatus\"]\n",
    "    print(\"Job status: {}\".format(status))\n",
    "    while(status == \"IN_PROGRESS\"):\n",
    "        time.sleep(5)\n",
    "        response = client.get_document_text_detection(JobId=jobId)\n",
    "        status = response[\"JobStatus\"]\n",
    "        print(\"Job status: {}\".format(status))\n",
    "    return status\n",
    "def getJobResults(jobId):\n",
    "    pages = []\n",
    "    client = boto3.client('textract',\n",
    "#                           service_name = 's3',\n",
    "                          region_name = region,\n",
    "                          aws_access_key_id = KEY,\n",
    "                          aws_secret_access_key = SECRET)\n",
    "    response = client.get_document_text_detection(JobId=jobId)\n",
    "    \n",
    "    pages.append(response)\n",
    "    print(\"Resultset page recieved: {}\".format(len(pages)))\n",
    "    nextToken = None\n",
    "    if('NextToken' in response):\n",
    "        nextToken = response['NextToken']\n",
    "        while(nextToken):\n",
    "            response = client.get_document_text_detection(JobId=jobId, NextToken=nextToken)\n",
    "            pages.append(response)\n",
    "            print(\"Resultset page recieved: {}\".format(len(pages)))\n",
    "            nextToken = None\n",
    "            if('NextToken' in response):\n",
    "                nextToken = response['NextToken']\n",
    "    return pages\n",
    "\n",
    "def save_txt_file(file, file_name):\n",
    "    f = open(file_name, \"w\")\n",
    "    f.write(file)\n",
    "    f.close()"
   ]
  },
  {
   "cell_type": "code",
   "execution_count": 9,
   "metadata": {},
   "outputs": [],
   "source": [
    "def AWS_pdf_to_text(key, s3BucketName):\n",
    "    # Document\n",
    "    documentName = key\n",
    "    jobId = startJob(s3BucketName, documentName)\n",
    "    print(\"Started job with id: {}\".format(jobId))\n",
    "    if(isJobComplete(jobId)):\n",
    "        response = getJobResults(jobId)\n",
    "    #print(response)\n",
    "    # Print detected text\n",
    "    policy = \"\"\n",
    "    for resultPage in response:\n",
    "        print(resultPage)\n",
    "        for item in resultPage[\"Blocks\"]:\n",
    "            if item[\"BlockType\"] == \"LINE\":\n",
    "                policy = policy + item[\"Text\"] + \"\\n\"\n",
    "                print ('\\033[94m' + item[\"Text\"] + '\\033[0m')\n",
    "    return policy"
   ]
  },
  {
   "cell_type": "code",
   "execution_count": 12,
   "metadata": {},
   "outputs": [
    {
     "name": "stdout",
     "output_type": "stream",
     "text": [
      "17 ** dof/095157a12eca16947dd937dbd56ed8939d2967d7.txt\n",
      "Started job with id: 3b225aacabab0f719362b4b0b4e26773068327361d4b096805cb6b81abb786af\n",
      "Job status: IN_PROGRESS\n",
      "Job status: IN_PROGRESS\n",
      "Job status: IN_PROGRESS\n",
      "Job status: IN_PROGRESS\n",
      "Job status: IN_PROGRESS\n",
      "Job status: IN_PROGRESS\n",
      "Job status: FAILED\n",
      "Resultset page recieved: 1\n",
      "{'JobStatus': 'FAILED', 'StatusMessage': 'INVALID_IMAGE_TYPE', 'DetectDocumentTextModelVersion': '1.0', 'ResponseMetadata': {'RequestId': '7720a0b5-029d-4ae7-b911-40d7c8f5fc60', 'HTTPStatusCode': 200, 'HTTPHeaders': {'x-amzn-requestid': '7720a0b5-029d-4ae7-b911-40d7c8f5fc60', 'content-type': 'application/x-amz-json-1.1', 'content-length': '98', 'date': 'Sat, 06 Mar 2021 09:29:57 GMT'}, 'RetryAttempts': 0}}\n"
     ]
    }
   ],
   "source": [
    "i = 0\n",
    "keyword = \"095157a12eca16947dd937dbd56ed8939d2967d7\"\n",
    "lower_limit = 0\n",
    "upper_limit = lower_limit + 2\n",
    "for obj in s3.Bucket(s3BucketName).objects.all():#.filter(Prefix='El Salvador'):\n",
    "    if keyword in obj.key: #lower_limit < i < upper_limit:\n",
    "        print(i, \"**\", obj.key)\n",
    "        policy = AWS_pdf_to_text(obj.key, s3BucketName)\n",
    "        save_txt_file(policy, \"/home/propietari/Documents/S3/\" + obj.key[:-4] + \".txt\")\n",
    "    i += 1"
   ]
  },
  {
   "cell_type": "code",
   "execution_count": null,
   "metadata": {
    "scrolled": false
   },
   "outputs": [],
   "source": [
    "policy"
   ]
  },
  {
   "cell_type": "code",
   "execution_count": 13,
   "metadata": {},
   "outputs": [
    {
     "name": "stdout",
     "output_type": "stream",
     "text": [
      "<html>\n",
      "<head>\n",
      "<title>Federal Register, Volume 86 Issue 42 (Friday, March 5, 2021)</title>\n",
      "</head>\n",
      "<body><pre>\n",
      "[Federal Register Volume 86, Number 42 (Friday, March 5, 2021)]\n",
      "[Notices]\n",
      "[Pages 12942-12943]\n",
      "From the Federal Register Online via the Government Publishing Office [<a href=\"http://www.gpo.gov\">www.gpo.gov</a>]\n",
      "[FR Doc No: 2021-04543]\n",
      "\n",
      "\n",
      "-----------------------------------------------------------------------\n",
      "\n",
      "ENVIRONMENTAL PROTECTION AGENCY\n",
      "\n",
      "[ER-FRL-9055-5]\n",
      "\n",
      "\n",
      "Environmental Impact Statements; Notice of Availability\n",
      "\n",
      "    Responsible Agency: Office of Federal Activities, General \n",
      "Information 202-564-5632 or <a href=\"https://www.epa.gov/nepa\">https://www.epa.gov/nepa</a>.\n",
      "\n",
      "\n",
      "[[Page 12943]]\n",
      "\n",
      "\n",
      "Weekly receipt of Environmental Impact Statements (EIS)\n",
      "Filed February 22, 2021 10 a.m. EST Through March 1, 2021 10 a.m. EST\n",
      "Pursuant to 40 CFR 1506.9.\n",
      "\n",
      "    Notice: Section 309(a) of the Clean Air Act requires that EPA make \n",
      "public its comments on EISs issued by other Federal agencies. EPA's \n",
      "comment letters on EISs are available at: <a href=\"https://cdxnodengn.epa.gov/cdx-enepa-public/action/eis/search\">https://cdxnodengn.epa.gov/cdx-enepa-public/action/eis/search</a>.\n",
      "\n",
      "EIS No. 20210023, Draft Supplement, USACE, SC, Haile Gold Mine, Comment \n",
      "Period Ends: 04/23/2021, Contact: Shawn Boone 843-329-8158.\n",
      "EIS No. 20210024, Draft, FHWA, MD, Chesapeake Bay Crossing Study Tier 1 \n",
      "NEPA, Comment Period Ends: 05/10/2021, Contact: Jeanette Mar 410-779-\n",
      "7152.\n",
      "EIS No. 20210025, Draft, USACE, LA, Proposed Mid-Barataria Sediment \n",
      "Diversion Project in Plaquemines Parish, Louisiana, Comment Period \n",
      "Ends: 05/04/2021, Contact: Brad Laborde 504-862-2225.\n",
      "\n",
      "Amended Notice\n",
      "\n",
      "EIS No. 20210002, Draft, BOEM, AK, WITHDRAWN--Cook Inlet Planning Area \n",
      "Oil and Gas Lease Sale 258, Contact: Amee Howard 907-334-5200. Revision \n",
      "to FR Notice Published 01/15/2021; Officially Withdrawn per request of \n",
      "the submitting agency.\n",
      "EIS No. 20210005, Final, USFS, AZ, WITHDRAWN--Resolution Copper Project \n",
      "and Land Exchange, Contact: Mary Rasmussen 602-225-5200. Revision to FR \n",
      "Notice Published 01/15/2021; Officially Withdrawn per request of the \n",
      "submitting agency.\n",
      "\n",
      "    Dated: March 1, 2021.\n",
      "Cindy S. Barger,\n",
      "Director, NEPA Compliance Division, Office of Federal Activities.\n",
      "[FR Doc. 2021-04543 Filed 3-4-21; 8:45 am]\n",
      "BILLING CODE 6560-50-P\n",
      "\n",
      "\n",
      "</pre></body>\n",
      "</html>\n"
     ]
    }
   ],
   "source": [
    "path = \"/home/propietari/Documents/S3/\"\n",
    "file_name = \"095157a12eca16947dd937dbd56ed8939d2967d7.txt\"\n",
    "file = path + file_name\n",
    "f = open(file, \"r\")\n",
    "print(f.read())\n"
   ]
  },
  {
   "cell_type": "code",
   "execution_count": null,
   "metadata": {},
   "outputs": [],
   "source": []
  }
 ],
 "metadata": {
  "colab": {
   "collapsed_sections": [],
   "name": "OCR.ipynb",
   "provenance": []
  },
  "kernelspec": {
   "display_name": "Python 3",
   "language": "python",
   "name": "python3"
  },
  "language_info": {
   "codemirror_mode": {
    "name": "ipython",
    "version": 3
   },
   "file_extension": ".py",
   "mimetype": "text/x-python",
   "name": "python",
   "nbconvert_exporter": "python",
   "pygments_lexer": "ipython3",
   "version": "3.8.8"
  },
  "toc": {
   "base_numbering": 1,
   "nav_menu": {},
   "number_sections": true,
   "sideBar": true,
   "skip_h1_title": true,
   "title_cell": "Table of Contents",
   "title_sidebar": "Contents",
   "toc_cell": false,
   "toc_position": {},
   "toc_section_display": true,
   "toc_window_display": false
  }
 },
 "nbformat": 4,
 "nbformat_minor": 1
}
