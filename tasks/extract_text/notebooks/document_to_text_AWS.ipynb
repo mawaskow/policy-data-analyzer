{
 "cells": [
  {
   "cell_type": "code",
   "execution_count": 1,
   "metadata": {
    "colab": {
     "base_uri": "https://localhost:8080/",
     "height": 368
    },
    "id": "DGl4uKSenvb5",
    "outputId": "82cc603b-ee01-431d-d065-22e3eb168cb5"
   },
   "outputs": [],
   "source": [
    "#import libraries\n",
    "import boto3\n",
    "import json\n",
    "import time"
   ]
  },
  {
   "cell_type": "code",
   "execution_count": 2,
   "metadata": {},
   "outputs": [],
   "source": [
    "# Connection to AWS\n",
    "folder = '/home/propietari/Documents/claus/' # TODO: change to your local path\n",
    "file_name = 'AWS_S3_keys_JordiPlanas_Made_in_game.json' # TODO: Change to your filename\n",
    "file = folder + file_name\n",
    "\n",
    "with open(file, 'r') as dict:\n",
    "    credentials = json.load(dict)\n",
    "                                      \n",
    "KEY = list(credentials)[0]\n",
    "SECRET = list(credentials.values())[0]\n",
    "s3BucketName = \"wri-testing\"\n",
    "region = 'eu-central-1'\n",
    "\n",
    "s3 = boto3.resource(\n",
    "    service_name = 's3',\n",
    "    region_name = region,\n",
    "    aws_access_key_id = KEY,\n",
    "    aws_secret_access_key = SECRET\n",
    ")"
   ]
  },
  {
   "cell_type": "code",
   "execution_count": 3,
   "metadata": {},
   "outputs": [],
   "source": [
    "def startJob(s3BucketName, objectName):\n",
    "    response = None\n",
    "    client = boto3.client('textract',\n",
    "#                           service_name = 's3',\n",
    "                          region_name = region,\n",
    "                          aws_access_key_id = KEY,\n",
    "                          aws_secret_access_key = SECRET)\n",
    "    response = client.start_document_text_detection(DocumentLocation={\n",
    "        'S3Object': {'Bucket': s3BucketName,\n",
    "                     'Name': objectName\n",
    "                    }\n",
    "        })\n",
    "    return response[\"JobId\"]\n",
    "def isJobComplete(jobId):\n",
    " # For production use cases, use SNS based notification \n",
    " # Details at: https://docs.aws.amazon.com/textract/latest/dg/api-async.html\n",
    "    time.sleep(5)\n",
    "    client = boto3.client('textract',\n",
    "#                           service_name = 's3',\n",
    "                          region_name = region,\n",
    "                          aws_access_key_id = KEY,\n",
    "                          aws_secret_access_key = SECRET)\n",
    "    response = client.get_document_text_detection(JobId=jobId)\n",
    "    status = response[\"JobStatus\"]\n",
    "    print(\"Job status: {}\".format(status))\n",
    "    while(status == \"IN_PROGRESS\"):\n",
    "        time.sleep(5)\n",
    "        response = client.get_document_text_detection(JobId=jobId)\n",
    "        status = response[\"JobStatus\"]\n",
    "        print(\"Job status: {}\".format(status))\n",
    "    return status\n",
    "def getJobResults(jobId):\n",
    "    pages = []\n",
    "    client = boto3.client('textract',\n",
    "#                           service_name = 's3',\n",
    "                          region_name = region,\n",
    "                          aws_access_key_id = KEY,\n",
    "                          aws_secret_access_key = SECRET)\n",
    "    response = client.get_document_text_detection(JobId=jobId)\n",
    "    \n",
    "    pages.append(response)\n",
    "    print(\"Resultset page recieved: {}\".format(len(pages)))\n",
    "    nextToken = None\n",
    "    if('NextToken' in response):\n",
    "        nextToken = response['NextToken']\n",
    "        while(nextToken):\n",
    "            response = client.get_document_text_detection(JobId=jobId, NextToken=nextToken)\n",
    "            pages.append(response)\n",
    "            print(\"Resultset page recieved: {}\".format(len(pages)))\n",
    "            nextToken = None\n",
    "            if('NextToken' in response):\n",
    "                nextToken = response['NextToken']\n",
    "    return pages\n",
    "\n",
    "def save_txt_file(file, file_name):\n",
    "    f = open(file_name, \"w\")\n",
    "    f.write(file)\n",
    "    f.close()"
   ]
  },
  {
   "cell_type": "code",
   "execution_count": 9,
   "metadata": {},
   "outputs": [],
   "source": [
    "def AWS_pdf_to_text(key, s3BucketName):\n",
    "    # Document\n",
    "    documentName = key\n",
    "    jobId = startJob(s3BucketName, documentName)\n",
    "    print(\"Started job with id: {}\".format(jobId))\n",
    "    if(isJobComplete(jobId)):\n",
    "        response = getJobResults(jobId)\n",
    "    #print(response)\n",
    "    # Print detected text\n",
    "    policy = \"\"\n",
    "    for resultPage in response:\n",
    "        print(resultPage)\n",
    "#         for item in resultPage[\"Blocks\"]:\n",
    "#             if item[\"BlockType\"] == \"LINE\":\n",
    "#                 policy = policy + item[\"Text\"] + \"\\n\"\n",
    "#                 print ('\\033[94m' + item[\"Text\"] + '\\033[0m')\n",
    "    return policy"
   ]
  },
  {
   "cell_type": "code",
   "execution_count": 11,
   "metadata": {},
   "outputs": [
    {
     "name": "stdout",
     "output_type": "stream",
     "text": [
      "17 ** dof/0c04e6435b83298368836ce913d93455.pdf\n",
      "Started job with id: b7ae765c70073040565c25822ad26951e38a8d27890d90023f6282715792d086\n",
      "Job status: FAILED\n",
      "Resultset page recieved: 1\n",
      "{'JobStatus': 'FAILED', 'StatusMessage': 'INVALID_IMAGE_TYPE', 'DetectDocumentTextModelVersion': '1.0', 'ResponseMetadata': {'RequestId': 'f1c1583f-958a-4f2b-b32d-1e50f9416786', 'HTTPStatusCode': 200, 'HTTPHeaders': {'x-amzn-requestid': 'f1c1583f-958a-4f2b-b32d-1e50f9416786', 'content-type': 'application/x-amz-json-1.1', 'content-length': '98', 'date': 'Fri, 05 Mar 2021 12:08:52 GMT'}, 'RetryAttempts': 0}}\n"
     ]
    }
   ],
   "source": [
    "i = 0\n",
    "keyword = \"0c04e6435b83298368836ce913d93455\"\n",
    "lower_limit = 0\n",
    "upper_limit = lower_limit + 2\n",
    "for obj in s3.Bucket(s3BucketName).objects.all():#.filter(Prefix='El Salvador'):\n",
    "    if keyword in obj.key: #lower_limit < i < upper_limit:\n",
    "        print(i, \"**\", obj.key)\n",
    "        policy = AWS_pdf_to_text(obj.key, s3BucketName)\n",
    "        save_txt_file(policy, \"/home/propietari/Documents/S3/\" + obj.key[:-4] + \".txt\")\n",
    "    i += 1"
   ]
  },
  {
   "cell_type": "code",
   "execution_count": null,
   "metadata": {
    "scrolled": false
   },
   "outputs": [],
   "source": [
    "policy"
   ]
  }
 ],
 "metadata": {
  "colab": {
   "collapsed_sections": [],
   "name": "OCR.ipynb",
   "provenance": []
  },
  "kernelspec": {
   "display_name": "Python 3",
   "language": "python",
   "name": "python3"
  },
  "language_info": {
   "codemirror_mode": {
    "name": "ipython",
    "version": 3
   },
   "file_extension": ".py",
   "mimetype": "text/x-python",
   "name": "python",
   "nbconvert_exporter": "python",
   "pygments_lexer": "ipython3",
   "version": "3.8.8"
  },
  "toc": {
   "base_numbering": 1,
   "nav_menu": {},
   "number_sections": true,
   "sideBar": true,
   "skip_h1_title": true,
   "title_cell": "Table of Contents",
   "title_sidebar": "Contents",
   "toc_cell": false,
   "toc_position": {},
   "toc_section_display": true,
   "toc_window_display": false
  }
 },
 "nbformat": 4,
 "nbformat_minor": 1
}
