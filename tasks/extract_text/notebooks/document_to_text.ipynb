{
 "cells": [
  {
   "cell_type": "code",
   "execution_count": null,
   "metadata": {},
   "outputs": [],
   "source": [
    "# Short instruction to make sure we are working in the right environment\n",
    "!conda info"
   ]
  },
  {
   "cell_type": "code",
   "execution_count": 27,
   "metadata": {
    "colab": {
     "base_uri": "https://localhost:8080/",
     "height": 368
    },
    "id": "DGl4uKSenvb5",
    "outputId": "82cc603b-ee01-431d-d065-22e3eb168cb5"
   },
   "outputs": [],
   "source": [
    "#import libraries\n",
    "import os, io\n",
    "import re\n",
    "import time\n",
    "from io import StringIO\n",
    "from os import listdir\n",
    "from os.path import isfile, join\n",
    "# import pdf2image\n",
    "# from pdf2image import convert_from_path\n",
    "# from pdf2image import convert_from_bytes\n",
    "\n",
    "# from PyPDF2 import PdfFileReader\n",
    "\n",
    "# from IPython.display import display, Image\n",
    "import pytesseract\n",
    "# import tesserocr\n",
    "# import pdftotext\n",
    "\n",
    "# import pikepdf\n",
    "# from pikepdf import Pdf, Page\n",
    "import pdfminer\n",
    "# import pdfplumber\n",
    "\n",
    "from pdfminer.converter import TextConverter\n",
    "from pdfminer.layout import LAParams #, LTTextBox, LTTextLine\n",
    "from pdfminer.pdfdocument import PDFDocument\n",
    "from pdfminer.pdfinterp import PDFResourceManager, PDFPageInterpreter\n",
    "from pdfminer.pdfpage import PDFPage\n",
    "from pdfminer.pdfpage import PDFTextExtractionNotAllowed\n",
    "from pdfminer.pdfparser import PDFParser\n",
    "\n",
    "from PIL import Image"
   ]
  },
  {
   "cell_type": "markdown",
   "metadata": {
    "id": "yja9BbqcyhRU"
   },
   "source": [
    "# Checking whether the files are scanned images or true pdfs"
   ]
  },
  {
   "cell_type": "code",
   "execution_count": 23,
   "metadata": {},
   "outputs": [],
   "source": [
    "def pdf_to_text(file):\n",
    "    output_string = StringIO()\n",
    "    with open('../input/India_image.pdf', 'rb') as in_file:\n",
    "        parser = PDFParser(in_file)\n",
    "        doc = PDFDocument(parser)\n",
    "        if not doc.is_extractable:\n",
    "            raise PDFTextExtractionNotAllowed\n",
    "        rsrcmgr = PDFResourceManager()\n",
    "        device = TextConverter(rsrcmgr, output_string, laparams=LAParams())\n",
    "        interpreter = PDFPageInterpreter(rsrcmgr, device)\n",
    "        for page in PDFPage.create_pages(doc):\n",
    "            interpreter.process_page(page)\n",
    "\n",
    "    print(output_string.getvalue())"
   ]
  },
  {
   "cell_type": "code",
   "execution_count": 30,
   "metadata": {},
   "outputs": [
    {
     "data": {
      "text/plain": [
       "['dof.html',\n",
       " '.~lock.dof.doc#',\n",
       " 'dof.docx',\n",
       " 'dof.pdf',\n",
       " 'India1.pdf',\n",
       " '.gitkeep',\n",
       " 'India_image.pdf',\n",
       " 'ElSalvador_watermark.pdf']"
      ]
     },
     "execution_count": 30,
     "metadata": {},
     "output_type": "execute_result"
    }
   ],
   "source": [
    "onlyfiles = [f for f in listdir('../input/') if isfile(join('../input/', f))]\n",
    "\n",
    "onlyfiles"
   ]
  },
  {
   "cell_type": "code",
   "execution_count": 8,
   "metadata": {
    "id": "mw-88hilyhpj"
   },
   "outputs": [],
   "source": [
    "\n",
    "def is_image(file):\n",
    "    fp = open(file, 'rb')\n",
    "    # Create a PDF parser object associated with the file object.\n",
    "    parser = PDFParser(fp)\n",
    "    # Create a PDF document\n",
    "    document = PDFDocument(parser)\n",
    "    if not document.is_extractable:\n",
    "        raise PDFTextExtractionNotAllowed\n",
    "    else:\n",
    "        return parser\n"
   ]
  },
  {
   "cell_type": "code",
   "execution_count": 11,
   "metadata": {
    "colab": {
     "base_uri": "https://localhost:8080/",
     "height": 265
    },
    "id": "sbcIiEZM-VeX",
    "outputId": "24424171-81dd-470c-8f0f-1612a9cad7d9"
   },
   "outputs": [
    {
     "name": "stdout",
     "output_type": "stream",
     "text": [
      "<PDFParser: <_io.BufferedReader name='../input/India1.pdf'>, bufpos=17>\n"
     ]
    }
   ],
   "source": [
    "print(is_image('../input/India1.pdf'))"
   ]
  },
  {
   "cell_type": "markdown",
   "metadata": {
    "id": "OMi_Ls1Q9sMY"
   },
   "source": [
    "# Converting pdf to image files and improving quality"
   ]
  },
  {
   "cell_type": "code",
   "execution_count": null,
   "metadata": {
    "id": "PN_nVbz3CWQb"
   },
   "outputs": [],
   "source": [
    "def get_image1(file_path):\n",
    "  \"\"\"Get image out of pdf file_path. Splits pdf file into PIL images of each of its pages.\n",
    "  \"\"\"\n",
    "  return convert_from_path(file_path, 500)\n",
    "\n",
    "# Performance tips according to pdf2image: \n",
    "# Using an output folder is significantly faster if you are using an SSD. Otherwise i/o usually becomes the bottleneck.\n",
    "# Using multiple threads can give you some gains but avoid more than 4 as this will cause i/o bottleneck (even on my NVMe SSD!)."
   ]
  },
  {
   "cell_type": "code",
   "execution_count": null,
   "metadata": {
    "colab": {
     "base_uri": "https://localhost:8080/",
     "height": 1000
    },
    "id": "XPO6NB0V9p-F",
    "outputId": "509d222a-4e45-4b97-8a15-18ccaa16d105"
   },
   "outputs": [],
   "source": [
    "pages = get_image1(filepaths[0])\n",
    "display(pages[0])"
   ]
  },
  {
   "cell_type": "markdown",
   "metadata": {
    "id": "apdTu771Dqek"
   },
   "source": [
    "What can we do here to improve image quality? It already seems pretty good!"
   ]
  },
  {
   "cell_type": "markdown",
   "metadata": {
    "id": "zkkuw4zeqN7w"
   },
   "source": [
    "# Evaluating extraction time from each method and saving text to disk"
   ]
  },
  {
   "cell_type": "code",
   "execution_count": null,
   "metadata": {
    "id": "_ZAMmcd0Cux8"
   },
   "outputs": [],
   "source": [
    "def export_ocr(text, file, extract, out=out_path):\n",
    "  \"\"\" Export ocr output text using extract method to file at out\n",
    "  \"\"\"\n",
    "  filename = f'{os.path.splitext(os.path.basename(file))[0]}_{extract}.txt'\n",
    "  with open(os.path.join(out, filename), 'w') as the_file:\n",
    "    the_file.write(text)\n",
    "\n",
    "def wrap_pagenum(page_text, page_num):\n",
    "  \"\"\" Wrap page_text with page_num tag\n",
    "  \"\"\"\n",
    "  return f\"<p n={page_num}>\" + page_text + \"</p>\""
   ]
  },
  {
   "cell_type": "code",
   "execution_count": null,
   "metadata": {
    "colab": {
     "base_uri": "https://localhost:8080/"
    },
    "id": "QAF9v8G6upxT",
    "outputId": "2073acbb-9368-40be-9a15-7d7b0dc78d8f"
   },
   "outputs": [],
   "source": [
    "# pytesseract extraction\n",
    "start_time = time.time()\n",
    "for file in filepaths:\n",
    "  pages = get_image1(file)\n",
    "  text = \"\"\n",
    "  for pageNum, imgBlob in enumerate(pages):\n",
    "    page_text = pytesseract.image_to_string(imgBlob, lang=\"spa\")\n",
    "    text += wrap_pagenum(page_text, pageNum)\n",
    "  export_ocr(text, file, \"pytesseract\")  # write extracted text to disk\n",
    "print(\"--- %s seconds ---\" % (time.time() - start_time))"
   ]
  },
  {
   "cell_type": "code",
   "execution_count": null,
   "metadata": {
    "colab": {
     "base_uri": "https://localhost:8080/"
    },
    "id": "LU7zWd59mxJA",
    "outputId": "51099797-6607-40ec-cb3b-2c1743335c36"
   },
   "outputs": [],
   "source": [
    "# tesserocr extraction\n",
    "start_time = time.time()\n",
    "for file in filepaths:\n",
    "  pages = get_image1(file)\n",
    "  text = \"\"\n",
    "  for pageNum, imgBlob in enumerate(pages):\n",
    "    page_text = tesserocr.image_to_text(imgBlob, lang=\"spa\")\n",
    "    text += wrap_pagenum(page_text, pageNum)\n",
    "  export_ocr(text, file, \"tesserocr\")  # write extracted text to disk\n",
    "print(\"--- %s seconds ---\" % (time.time() - start_time))"
   ]
  },
  {
   "cell_type": "code",
   "execution_count": null,
   "metadata": {
    "colab": {
     "base_uri": "https://localhost:8080/"
    },
    "id": "4B0W1Sit7yLl",
    "outputId": "cdeaad92-c501-441c-fb8b-65d21d133e70"
   },
   "outputs": [],
   "source": [
    "# tesserocr extraction using the PyTessBaseAPI\n",
    "start_time = time.time()\n",
    "for file in filepaths:\n",
    "  pages = get_image1(file)\n",
    "  text = \"\"\n",
    "  with tesserocr.PyTessBaseAPI(lang=\"spa\") as api:\n",
    "    for pageNum, imgBlob in enumerate(pages):\n",
    "      api.SetImage(imgBlob)\n",
    "      page_text = api.GetUTF8Text()\n",
    "      text += wrap_pagenum(page_text, pageNum)\n",
    "    export_ocr(text, file, \"tesserocr_pytess\")  # write extracted text to disk\n",
    "print(\"--- %s seconds ---\" % (time.time() - start_time))"
   ]
  },
  {
   "cell_type": "markdown",
   "metadata": {
    "id": "0iqp1-DfqezC"
   },
   "source": [
    "It seems that the pytesseract package provides the fastest extraction and by looking at the extracted text it doesn't seem to exist any difference in the output of all the tested methods."
   ]
  },
  {
   "cell_type": "code",
   "execution_count": null,
   "metadata": {
    "colab": {
     "base_uri": "https://localhost:8080/"
    },
    "id": "sJi99vMuq0qY",
    "outputId": "241af4c3-a8ad-4660-b6b7-de341d02e8bf"
   },
   "outputs": [],
   "source": [
    "# comparison between text extracted by the different methods\n",
    "os.listdir(out_path)"
   ]
  },
  {
   "cell_type": "code",
   "execution_count": null,
   "metadata": {
    "id": "qLrB4355IW9o"
   },
   "outputs": [],
   "source": [
    "# TODO: perform a more programatical comparison between extracted texts"
   ]
  },
  {
   "cell_type": "markdown",
   "metadata": {
    "id": "keQsJEqBGG5I"
   },
   "source": [
    "# Let's look at the extracted text"
   ]
  },
  {
   "cell_type": "code",
   "execution_count": null,
   "metadata": {
    "colab": {
     "base_uri": "https://localhost:8080/",
     "height": 661
    },
    "id": "b8Yg9yO5IVzt",
    "outputId": "6ec125d5-f519-4efd-f63f-ec919fe7ad83"
   },
   "outputs": [],
   "source": [
    "with open(os.path.join(out_path, 'Decreto_ejecutivo_57_pytesseract.txt')) as text:\n",
    "  extracted_text = text.read()\n",
    "extracted_text"
   ]
  },
  {
   "cell_type": "code",
   "execution_count": null,
   "metadata": {
    "colab": {
     "base_uri": "https://localhost:8080/"
    },
    "id": "8JwnZJ8UIwgR",
    "outputId": "bf656933-9c0d-4df6-e396-7f751d0e6311"
   },
   "outputs": [],
   "source": [
    "# Replace \\x0c (page break) by \\n\n",
    "# Match 1 or more occurrences of \\n if preceeded by one occurrence of \\n OR \n",
    "# Match 1 or more occurrences of \\s (whitespace) if preceeded by one occurrence of \\n OR \n",
    "# Match one occurrence of \\n if it isn't followed by \\n\n",
    "print(re.sub(\"(?<=\\n)\\n+|(?<=\\n)\\s+|\\n(?!\\n)\", \" \", extracted_text.replace(\"\\x0c\", \"\\n\")))"
   ]
  },
  {
   "cell_type": "code",
   "execution_count": null,
   "metadata": {
    "id": "nHaDF7YQKeN6"
   },
   "outputs": [],
   "source": []
  }
 ],
 "metadata": {
  "colab": {
   "collapsed_sections": [],
   "name": "OCR.ipynb",
   "provenance": []
  },
  "kernelspec": {
   "display_name": "Python 3",
   "language": "python",
   "name": "python3"
  },
  "language_info": {
   "codemirror_mode": {
    "name": "ipython",
    "version": 3
   },
   "file_extension": ".py",
   "mimetype": "text/x-python",
   "name": "python",
   "nbconvert_exporter": "python",
   "pygments_lexer": "ipython3",
   "version": "3.8.8"
  }
 },
 "nbformat": 4,
 "nbformat_minor": 1
}
