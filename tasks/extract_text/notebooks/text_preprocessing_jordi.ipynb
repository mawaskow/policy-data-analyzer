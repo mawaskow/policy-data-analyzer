{
 "cells": [
  {
   "cell_type": "code",
   "execution_count": null,
   "metadata": {},
   "outputs": [],
   "source": [
    "from __future__ import print_function"
   ]
  },
  {
   "cell_type": "code",
   "execution_count": null,
   "metadata": {},
   "outputs": [],
   "source": [
    "# Short instruction to make sure we are working in the right environment\n",
    "!conda info"
   ]
  },
  {
   "cell_type": "code",
   "execution_count": 23,
   "metadata": {
    "colab": {
     "base_uri": "https://localhost:8080/",
     "height": 368
    },
    "id": "DGl4uKSenvb5",
    "outputId": "82cc603b-ee01-431d-d065-22e3eb168cb5"
   },
   "outputs": [],
   "source": [
    "#import libraries\n",
    "import os, io\n",
    "import tempfile\n",
    "import time\n",
    "import re\n",
    "import pdf2image\n",
    "from pdf2image import convert_from_path\n",
    "from pdf2image import convert_from_bytes\n",
    "\n",
    "from IPython.display import display, Image\n",
    "import pytesseract\n",
    "import tesserocr\n",
    "import pdftotext\n",
    "\n",
    "import pikepdf\n",
    "from pikepdf import Pdf, Page\n",
    "import pdfminer\n",
    "import pdfplumber\n",
    "\n",
    "from pdfminer.pdfparser import PDFParser\n",
    "from pdfminer.pdfdocument import PDFDocument\n",
    "from pdfminer.converter import PDFPageAggregator\n",
    "from pdfminer.pdfinterp import PDFResourceManager, PDFPageInterpreter\n",
    "from pdfminer.converter import TextConverter\n",
    "from pdfminer.layout import LAParams, LTTextBox, LTTextLine\n",
    "from pdfminer.pdfpage import PDFPage\n",
    "from pdfminer.pdfpage import PDFTextExtractionNotAllowed\n",
    "\n",
    "# to import from google drive\n",
    "import pickle\n",
    "import os.path\n",
    "from googleapiclient import discovery\n",
    "from googleapiclient.discovery import build\n",
    "from googleapiclient import errors\n",
    "from google_auth_oauthlib.flow import InstalledAppFlow\n",
    "from google.auth.transport.requests import Request\n",
    "from googleapiclient.http import MediaIoBaseDownload\n",
    "from oauth2client import client\n",
    "from oauth2client import tools\n",
    "from oauth2client.file import Storage\n",
    "from PIL import Image"
   ]
  },
  {
   "cell_type": "code",
   "execution_count": 7,
   "metadata": {
    "scrolled": true
   },
   "outputs": [
    {
     "name": "stdout",
     "output_type": "stream",
     "text": [
      "Files:\n",
      "Copy of 11255.pdf (1HdCavlCXP-tAlaAmjPOm-i7efxUsiIsw)\n",
      "Copy of Nº 004-2020-P-CE-PJ.pdf (1Y5jdAcakQfIP4A5H06c6lQoNBCFk9-me)\n",
      "Copy of 3000.pdf (1rwaPoFock58hHlWIot3KEnUTuEl1p6n7)\n",
      "Document de prova per pdf.pdf (1Z5-HSv2Ktox4UGLMM9MtJgJFCwZ5c70Z)\n",
      "Pipelines (1Swlgw1QUnpdi9_PkR2JV8l5arsJ9rncQWx64yNASQEU)\n",
      "Classification_Framework.docx (1oEhXfAjow-HPoVnqWp8mhfBfD0bwZ6H-)\n",
      "Policy Accelerator - HSBC.pptx (11OMVjX0YfFF1GSN3iFmej0XFPQs3u12a)\n",
      "Text Mining - Concept note for meetings.docx (1sFjkBNiccumsD09w5SAj5NlmChfkEAEg)\n",
      "USAID.docx (1TZ2kL4T1xDXpWAgf1wYfXBU1qL47sbrR)\n",
      "Microsoft Earth AI Draft JB.docx (1FLsFLuqnUh3nCfECotmQ56VZ8B3k45yr)\n"
     ]
    }
   ],
   "source": [
    "# If modifying these scopes, delete the file token.pickle.\n",
    "SCOPES = ['https://www.googleapis.com/auth/drive']\n",
    "\n",
    "\"\"\"Shows basic usage of the Drive v3 API.\n",
    "Prints the names and ids of the first 10 files the user has access to.\n",
    "\"\"\"\n",
    "creds = None\n",
    "# The file token.pickle stores the user's access and refresh tokens, and is\n",
    "# created automatically when the authorization flow completes for the first\n",
    "# time.\n",
    "if os.path.exists('token.pickle'):\n",
    "    with open('token.pickle', 'rb') as token:\n",
    "        creds = pickle.load(token)\n",
    "# If there are no (valid) credentials available, let the user log in.\n",
    "if not creds or not creds.valid:\n",
    "    if creds and creds.expired and creds.refresh_token:\n",
    "        creds.refresh(Request())\n",
    "    else:\n",
    "        flow = InstalledAppFlow.from_client_secrets_file(\n",
    "            'client_secret.json', SCOPES)\n",
    "        creds = flow.run_local_server(port=0)\n",
    "    # Save the credentials for the next run\n",
    "    with open('token.pickle', 'wb') as token:\n",
    "        pickle.dump(creds, token)\n",
    "\n",
    "service = build('drive', 'v3', credentials=creds)\n",
    "\n",
    "# Call the Drive v3 API\n",
    "results = service.files().list(\n",
    "    pageSize=10, fields=\"nextPageToken, files(id, name)\").execute()\n",
    "items = results.get('files', [])\n",
    "\n",
    "if not items:\n",
    "    print('No files found.')\n",
    "else:\n",
    "    print('Files:')\n",
    "    for item in items:\n",
    "        print(u'{0} ({1})'.format(item['name'], item['id']))\n"
   ]
  },
  {
   "cell_type": "code",
   "execution_count": 37,
   "metadata": {},
   "outputs": [
    {
     "name": "stdout",
     "output_type": "stream",
     "text": [
      "Found file: Programa_comision_forestal_mex.pdf (10jCcgdxWFoO0AaQXwWk7RsA0RD77n4la)\n",
      "Found file: Copy of 11255.pdf (1HdCavlCXP-tAlaAmjPOm-i7efxUsiIsw)\n",
      "Found file: Copy of Nº 004-2020-P-CE-PJ.pdf (1Y5jdAcakQfIP4A5H06c6lQoNBCFk9-me)\n",
      "Found file: Copy of 3000.pdf (1rwaPoFock58hHlWIot3KEnUTuEl1p6n7)\n",
      "Found file: Document de prova per pdf.pdf (1Z5-HSv2Ktox4UGLMM9MtJgJFCwZ5c70Z)\n",
      "Found file: Decreto_ejecutivo_57.pdf (1egVmcj6Ssiupf1mX3BEDBUkYBx7r1tfU)\n",
      "Found file: Decreto_ejecutivo.pdf (1_qryhaX0h8obAyLsYzf-u_ph0WVTrL1X)\n",
      "Found file: ORDENANZA REGULADORA DE TALA Y PODA DE NEJAPA.pdf (1QMPmYxavfGy2FiWc9yOuxRyfyEu66aj0)\n"
     ]
    }
   ],
   "source": [
    "# 'application/vnd.google-apps.spreadsheet' and parents in '{}'\".format(folder_id)\n",
    "# \"mimeType = 'application/vnd.google-apps.pdf' and parents in '{}'\".format(folder_id)\n",
    "folder_id = \"1JU2YWwn88_0hwP5EYuF5FB2LLTYVZKND\"\n",
    "filetype = \"application/pdf\"\n",
    "query = f\"'{folder_id}' in parents\"\n",
    "query = f\"mimeType='{filetype}'\"\n",
    "query = f\"'{folder_id}' in parents and mimeType='{filetype}'\"\n",
    "page_token = None\n",
    "while True:\n",
    "    response = service.files().list(q = query,\n",
    "                                    spaces=\"drive\",\n",
    "                                    fields=\"nextPageToken, files(id, name, mimeType)\",\n",
    "                                    pageToken=page_token).execute()\n",
    "    for file in response.get('files', []):\n",
    "        # Process change\n",
    "        print('Found file: %s (%s)' % (file.get('name'), file.get('id')))\n",
    "    page_token = response.get('nextPageToken', None)\n",
    "    if page_token is None:\n",
    "        break"
   ]
  },
  {
   "cell_type": "code",
   "execution_count": 38,
   "metadata": {},
   "outputs": [
    {
     "name": "stdout",
     "output_type": "stream",
     "text": [
      "Download 100%.\n"
     ]
    }
   ],
   "source": [
    "file_id = ['10jCcgdxWFoO0AaQXwWk7RsA0RD77n4la', '1egVmcj6Ssiupf1mX3BEDBUkYBx7r1tfU', '1Z5-HSv2Ktox4UGLMM9MtJgJFCwZ5c70Z', '1HdCavlCXP-tAlaAmjPOm-i7efxUsiIsw', '1Y5jdAcakQfIP4A5H06c6lQoNBCFk9-me', '1rwaPoFock58hHlWIot3KEnUTuEl1p6n7']\n",
    "filename = \"Decreto_ejecutivo_57.pdf\"\n",
    "\n",
    "request = service.files().get_media(fileId=file_id[0])\n",
    "\n",
    "fh = io.BytesIO()\n",
    "downloader = MediaIoBaseDownload(fh, request)\n",
    "done = False\n",
    "while done is False:\n",
    "    status, done = downloader.next_chunk()\n",
    "    print(\"Download %d%%.\" % int(status.progress() * 100))"
   ]
  },
  {
   "cell_type": "code",
   "execution_count": 33,
   "metadata": {},
   "outputs": [],
   "source": [
    "list_of_items = re.findall(r'<<(.*?)>>', fh.getvalue().decode('ISO-8859-1'))"
   ]
  },
  {
   "cell_type": "code",
   "execution_count": 34,
   "metadata": {},
   "outputs": [
    {
     "name": "stdout",
     "output_type": "stream",
     "text": [
      "11 -- /Type/XObject/ColorSpace/DeviceRGB/Subtype/Image/BitsPerComponent 8/Width 1274/Length 9587/Height 440/Filter/DCTDecode\n",
      "29 -- /CropBox[0 0 488.976 779.528]/Parent 12 0 R/Contents 17 0 R/Type/Page/Resources<</ExtGState 35 0 R/ProcSet[/PDF/ImageC/Text]/Font 36 0 R\n",
      "*** 34 elements\n"
     ]
    }
   ],
   "source": [
    "len(list_of_items)\n",
    "i = 0\n",
    "for item in list_of_items:\n",
    "    if \"Image\" in item or \"image\" in item:\n",
    "        print(i, \"--\", item)\n",
    "    i += 1\n",
    "print(\"***\", i, \"elements\")"
   ]
  },
  {
   "cell_type": "code",
   "execution_count": 41,
   "metadata": {},
   "outputs": [
    {
     "ename": "TypeError",
     "evalue": "unsupported operand type(s) for +=: '_io.StringIO' and 'int'",
     "output_type": "error",
     "traceback": [
      "\u001b[1;31m---------------------------------------------------------------------------\u001b[0m",
      "\u001b[1;31mTypeError\u001b[0m                                 Traceback (most recent call last)",
      "\u001b[1;32m<ipython-input-41-355d7f05864b>\u001b[0m in \u001b[0;36m<module>\u001b[1;34m\u001b[0m\n\u001b[0;32m     10\u001b[0m \u001b[0minterpreter\u001b[0m \u001b[1;33m=\u001b[0m \u001b[0mPDFPageInterpreter\u001b[0m\u001b[1;33m(\u001b[0m\u001b[0mrsrcmgr\u001b[0m\u001b[1;33m,\u001b[0m \u001b[0mdevice\u001b[0m\u001b[1;33m)\u001b[0m\u001b[1;33m\u001b[0m\u001b[1;33m\u001b[0m\u001b[0m\n\u001b[0;32m     11\u001b[0m \u001b[1;32mfor\u001b[0m \u001b[0mpage\u001b[0m \u001b[1;32min\u001b[0m \u001b[0mPDFPage\u001b[0m\u001b[1;33m.\u001b[0m\u001b[0mcreate_pages\u001b[0m\u001b[1;33m(\u001b[0m\u001b[0mdocument\u001b[0m\u001b[1;33m)\u001b[0m\u001b[1;33m:\u001b[0m\u001b[1;33m\u001b[0m\u001b[1;33m\u001b[0m\u001b[0m\n\u001b[1;32m---> 12\u001b[1;33m     \u001b[0minterpreter\u001b[0m\u001b[1;33m.\u001b[0m\u001b[0mprocess_page\u001b[0m\u001b[1;33m(\u001b[0m\u001b[0mpage\u001b[0m\u001b[1;33m)\u001b[0m\u001b[1;33m\u001b[0m\u001b[1;33m\u001b[0m\u001b[0m\n\u001b[0m\u001b[0;32m     13\u001b[0m \u001b[0mtext\u001b[0m \u001b[1;33m=\u001b[0m \u001b[0msio\u001b[0m\u001b[1;33m.\u001b[0m\u001b[0mgetvalue\u001b[0m\u001b[1;33m(\u001b[0m\u001b[1;33m)\u001b[0m\u001b[1;33m\u001b[0m\u001b[1;33m\u001b[0m\u001b[0m\n\u001b[0;32m     14\u001b[0m \u001b[1;33m\u001b[0m\u001b[0m\n",
      "\u001b[1;32m~\\anaconda3\\envs\\PdfToText\\lib\\site-packages\\pdfminer\\pdfinterp.py\u001b[0m in \u001b[0;36mprocess_page\u001b[1;34m(self, page)\u001b[0m\n\u001b[0;32m    840\u001b[0m         \u001b[0mself\u001b[0m\u001b[1;33m.\u001b[0m\u001b[0mdevice\u001b[0m\u001b[1;33m.\u001b[0m\u001b[0mbegin_page\u001b[0m\u001b[1;33m(\u001b[0m\u001b[0mpage\u001b[0m\u001b[1;33m,\u001b[0m \u001b[0mctm\u001b[0m\u001b[1;33m)\u001b[0m\u001b[1;33m\u001b[0m\u001b[1;33m\u001b[0m\u001b[0m\n\u001b[0;32m    841\u001b[0m         \u001b[0mself\u001b[0m\u001b[1;33m.\u001b[0m\u001b[0mrender_contents\u001b[0m\u001b[1;33m(\u001b[0m\u001b[0mpage\u001b[0m\u001b[1;33m.\u001b[0m\u001b[0mresources\u001b[0m\u001b[1;33m,\u001b[0m \u001b[0mpage\u001b[0m\u001b[1;33m.\u001b[0m\u001b[0mcontents\u001b[0m\u001b[1;33m,\u001b[0m \u001b[0mctm\u001b[0m\u001b[1;33m=\u001b[0m\u001b[0mctm\u001b[0m\u001b[1;33m)\u001b[0m\u001b[1;33m\u001b[0m\u001b[1;33m\u001b[0m\u001b[0m\n\u001b[1;32m--> 842\u001b[1;33m         \u001b[0mself\u001b[0m\u001b[1;33m.\u001b[0m\u001b[0mdevice\u001b[0m\u001b[1;33m.\u001b[0m\u001b[0mend_page\u001b[0m\u001b[1;33m(\u001b[0m\u001b[0mpage\u001b[0m\u001b[1;33m)\u001b[0m\u001b[1;33m\u001b[0m\u001b[1;33m\u001b[0m\u001b[0m\n\u001b[0m\u001b[0;32m    843\u001b[0m         \u001b[1;32mreturn\u001b[0m\u001b[1;33m\u001b[0m\u001b[1;33m\u001b[0m\u001b[0m\n\u001b[0;32m    844\u001b[0m \u001b[1;33m\u001b[0m\u001b[0m\n",
      "\u001b[1;32m~\\anaconda3\\envs\\PdfToText\\lib\\site-packages\\pdfminer\\converter.py\u001b[0m in \u001b[0;36mend_page\u001b[1;34m(self, page)\u001b[0m\n\u001b[0;32m     47\u001b[0m         \u001b[1;32mif\u001b[0m \u001b[0mself\u001b[0m\u001b[1;33m.\u001b[0m\u001b[0mlaparams\u001b[0m \u001b[1;32mis\u001b[0m \u001b[1;32mnot\u001b[0m \u001b[1;32mNone\u001b[0m\u001b[1;33m:\u001b[0m\u001b[1;33m\u001b[0m\u001b[1;33m\u001b[0m\u001b[0m\n\u001b[0;32m     48\u001b[0m             \u001b[0mself\u001b[0m\u001b[1;33m.\u001b[0m\u001b[0mcur_item\u001b[0m\u001b[1;33m.\u001b[0m\u001b[0manalyze\u001b[0m\u001b[1;33m(\u001b[0m\u001b[0mself\u001b[0m\u001b[1;33m.\u001b[0m\u001b[0mlaparams\u001b[0m\u001b[1;33m)\u001b[0m\u001b[1;33m\u001b[0m\u001b[1;33m\u001b[0m\u001b[0m\n\u001b[1;32m---> 49\u001b[1;33m         \u001b[0mself\u001b[0m\u001b[1;33m.\u001b[0m\u001b[0mpageno\u001b[0m \u001b[1;33m+=\u001b[0m \u001b[1;36m1\u001b[0m\u001b[1;33m\u001b[0m\u001b[1;33m\u001b[0m\u001b[0m\n\u001b[0m\u001b[0;32m     50\u001b[0m         \u001b[0mself\u001b[0m\u001b[1;33m.\u001b[0m\u001b[0mreceive_layout\u001b[0m\u001b[1;33m(\u001b[0m\u001b[0mself\u001b[0m\u001b[1;33m.\u001b[0m\u001b[0mcur_item\u001b[0m\u001b[1;33m)\u001b[0m\u001b[1;33m\u001b[0m\u001b[1;33m\u001b[0m\u001b[0m\n\u001b[0;32m     51\u001b[0m         \u001b[1;32mreturn\u001b[0m\u001b[1;33m\u001b[0m\u001b[1;33m\u001b[0m\u001b[0m\n",
      "\u001b[1;31mTypeError\u001b[0m: unsupported operand type(s) for +=: '_io.StringIO' and 'int'"
     ]
    }
   ],
   "source": [
    "extracted_text = \"\"\n",
    "parser = PDFParser(fh)\n",
    "document = PDFDocument(parser)\n",
    "if not document.is_extractable:\n",
    "    raise PDFTextExtractionNotAllowed\n",
    "sio = io.StringIO()\n",
    "rsrcmgr = PDFResourceManager()\n",
    "laparams = LAParams()\n",
    "device = PDFPageAggregator(rsrcmgr, sio, laparams=laparams)\n",
    "interpreter = PDFPageInterpreter(rsrcmgr, device)\n",
    "\n",
    "\n",
    "for page in PDFPage.create_pages(document):\n",
    "    interpreter.process_page(page)\n",
    "text = sio.getvalue()\n",
    "    \n",
    "#     layout = device.get_result()\n",
    "#     for lt_obj in layout:\n",
    "#         if isinstance(lt_obj, LTTextBox) or isinstance(lt_obj, LTTextLine):\n",
    "#             extracted_text += lt_obj.get_text()\n",
    "#         else:\n",
    "#             print(\"no text to extract\")"
   ]
  },
  {
   "cell_type": "code",
   "execution_count": null,
   "metadata": {
    "scrolled": true
   },
   "outputs": [],
   "source": [
    "file_id = '1egVmcj6Ssiupf1mX3BEDBUkYBx7r1tfU'\n",
    "filename = \"Decreto_ejecutivo_57.pdf\"\n",
    "def open_file_from_Gdrive(file_id):\n",
    "    request = service.files().get_media(fileId=file_id)\n",
    "\n",
    "    fh = io.BytesIO()\n",
    "    downloader = MediaIoBaseDownload(fh, request)\n",
    "    done = False\n",
    "    while done is False:\n",
    "        status, done = downloader.next_chunk()\n",
    "        print(\"Download %d%%.\" % int(status.progress() * 100))\n",
    "    scan = convert_from_bytes(fh.getvalue())\n",
    "    fh.close()\n",
    "    \n",
    "def check_file_content(bytesIO):\n",
    "    bytesIO.getValue()"
   ]
  },
  {
   "cell_type": "code",
   "execution_count": 31,
   "metadata": {},
   "outputs": [
    {
     "data": {
      "text/plain": [
       "'Document de prova per pdf. \\nA veure com funciona. Tres frases per provar. \\n'"
      ]
     },
     "execution_count": 31,
     "metadata": {},
     "output_type": "execute_result"
    }
   ],
   "source": [
    "extracted_text"
   ]
  },
  {
   "cell_type": "code",
   "execution_count": null,
   "metadata": {},
   "outputs": [],
   "source": [
    "fh.read()"
   ]
  },
  {
   "cell_type": "code",
   "execution_count": null,
   "metadata": {},
   "outputs": [],
   "source": [
    "    gradient = np.linspace(0, 1, 256)\n",
    "    gradient = np.vstack((gradient, gradient))\n",
    "    image_data = cmap(gradient, bytes=True)\n",
    "    image = Image.fromarray(image_data, 'RGBA')\n",
    "\n",
    "    # ostream = io.FileIO('../cmaps/' + cmap_name + '.png', 'wb')\n",
    "    # image.save(ostream, format='PNG')\n",
    "    # ostream.close()\n",
    "\n",
    "    ostream = io.BytesIO()\n",
    "    image.save(ostream, format='PNG')\n",
    "    cbar_png_bytes = ostream.getvalue()\n",
    "    ostream.close()\n",
    "\n",
    "    cbar_png_data = base64.b64encode(cbar_png_bytes)\n",
    "    cbar_png_bytes = cbar_png_data.decode('unicode_escape')\n",
    "\n",
    "    return cbar_png_bytes "
   ]
  },
  {
   "cell_type": "code",
   "execution_count": null,
   "metadata": {
    "colab": {
     "base_uri": "https://localhost:8080/"
    },
    "id": "FimvLvM-u_8l",
    "outputId": "fd4e1ae7-dd4d-4ed7-b43b-39ba08da24fb"
   },
   "outputs": [],
   "source": [
    "# Mouting drive Google Drive\n",
    "from google.colab import drive\n",
    "drive.mount('/content/drive/')"
   ]
  },
  {
   "cell_type": "code",
   "execution_count": null,
   "metadata": {
    "id": "o6ShvjPwu5D5"
   },
   "outputs": [],
   "source": [
    "filename = \"Decreto_ejecutivo_57.pdf\" \n",
    "# inp_path = \"/content/drive/MyDrive/WRI-LatinAmerica-Talent/Preprocessing/raw/\"\n",
    "# out_path = \"/content/drive/MyDrive/WRI-LatinAmerica-Talent/Preprocessing/OCR/outputs\"\n",
    "# filepaths = [os.path.join(inp_path, file) for file in os.listdir(inp_path)]\n",
    "# filepaths"
   ]
  },
  {
   "cell_type": "markdown",
   "metadata": {
    "id": "yja9BbqcyhRU"
   },
   "source": [
    "# Checking whether the files are scanned images or true pdfs"
   ]
  },
  {
   "cell_type": "code",
   "execution_count": null,
   "metadata": {
    "id": "mw-88hilyhpj"
   },
   "outputs": [],
   "source": [
    "def is_image(file_path):\n",
    "  with open(file_path, \"rb\") as f:\n",
    "    return pdftotext.PDF(f)\n",
    "    \n"
   ]
  },
  {
   "cell_type": "code",
   "execution_count": null,
   "metadata": {
    "colab": {
     "base_uri": "https://localhost:8080/",
     "height": 265
    },
    "id": "sbcIiEZM-VeX",
    "outputId": "24424171-81dd-470c-8f0f-1612a9cad7d9"
   },
   "outputs": [],
   "source": [
    "print(is_image(filename))"
   ]
  },
  {
   "cell_type": "markdown",
   "metadata": {
    "id": "OMi_Ls1Q9sMY"
   },
   "source": [
    "# Converting pdf to image files and improving quality"
   ]
  },
  {
   "cell_type": "code",
   "execution_count": null,
   "metadata": {
    "id": "PN_nVbz3CWQb"
   },
   "outputs": [],
   "source": [
    "def get_image1(file_path):\n",
    "  \"\"\"Get image out of pdf file_path. Splits pdf file into PIL images of each of its pages.\n",
    "  \"\"\"\n",
    "  return convert_from_path(file_path, 500)\n",
    "\n",
    "# Performance tips according to pdf2image: \n",
    "# Using an output folder is significantly faster if you are using an SSD. Otherwise i/o usually becomes the bottleneck.\n",
    "# Using multiple threads can give you some gains but avoid more than 4 as this will cause i/o bottleneck (even on my NVMe SSD!)."
   ]
  },
  {
   "cell_type": "code",
   "execution_count": null,
   "metadata": {
    "colab": {
     "base_uri": "https://localhost:8080/",
     "height": 1000
    },
    "id": "XPO6NB0V9p-F",
    "outputId": "509d222a-4e45-4b97-8a15-18ccaa16d105"
   },
   "outputs": [],
   "source": [
    "pages = get_image1(filepaths[0])\n",
    "display(pages[0])"
   ]
  },
  {
   "cell_type": "markdown",
   "metadata": {
    "id": "apdTu771Dqek"
   },
   "source": [
    "What can we do here to improve image quality? It already seems pretty good!"
   ]
  },
  {
   "cell_type": "markdown",
   "metadata": {
    "id": "zkkuw4zeqN7w"
   },
   "source": [
    "# Evaluating extraction time from each method and saving text to disk"
   ]
  },
  {
   "cell_type": "code",
   "execution_count": null,
   "metadata": {
    "id": "_ZAMmcd0Cux8"
   },
   "outputs": [],
   "source": [
    "def export_ocr(text, file, extract, out=out_path):\n",
    "  \"\"\" Export ocr output text using extract method to file at out\n",
    "  \"\"\"\n",
    "  filename = f'{os.path.splitext(os.path.basename(file))[0]}_{extract}.txt'\n",
    "  with open(os.path.join(out, filename), 'w') as the_file:\n",
    "    the_file.write(text)\n",
    "\n",
    "def wrap_pagenum(page_text, page_num):\n",
    "  \"\"\" Wrap page_text with page_num tag\n",
    "  \"\"\"\n",
    "  return f\"<p n={page_num}>\" + page_text + \"</p>\""
   ]
  },
  {
   "cell_type": "code",
   "execution_count": null,
   "metadata": {
    "colab": {
     "base_uri": "https://localhost:8080/"
    },
    "id": "QAF9v8G6upxT",
    "outputId": "2073acbb-9368-40be-9a15-7d7b0dc78d8f"
   },
   "outputs": [],
   "source": [
    "# pytesseract extraction\n",
    "start_time = time.time()\n",
    "for file in filepaths:\n",
    "  pages = get_image1(file)\n",
    "  text = \"\"\n",
    "  for pageNum, imgBlob in enumerate(pages):\n",
    "    page_text = pytesseract.image_to_string(imgBlob, lang=\"spa\")\n",
    "    text += wrap_pagenum(page_text, pageNum)\n",
    "  export_ocr(text, file, \"pytesseract\")  # write extracted text to disk\n",
    "print(\"--- %s seconds ---\" % (time.time() - start_time))"
   ]
  },
  {
   "cell_type": "code",
   "execution_count": null,
   "metadata": {
    "colab": {
     "base_uri": "https://localhost:8080/"
    },
    "id": "LU7zWd59mxJA",
    "outputId": "51099797-6607-40ec-cb3b-2c1743335c36"
   },
   "outputs": [],
   "source": [
    "# tesserocr extraction\n",
    "start_time = time.time()\n",
    "for file in filepaths:\n",
    "  pages = get_image1(file)\n",
    "  text = \"\"\n",
    "  for pageNum, imgBlob in enumerate(pages):\n",
    "    page_text = tesserocr.image_to_text(imgBlob, lang=\"spa\")\n",
    "    text += wrap_pagenum(page_text, pageNum)\n",
    "  export_ocr(text, file, \"tesserocr\")  # write extracted text to disk\n",
    "print(\"--- %s seconds ---\" % (time.time() - start_time))"
   ]
  },
  {
   "cell_type": "code",
   "execution_count": null,
   "metadata": {
    "colab": {
     "base_uri": "https://localhost:8080/"
    },
    "id": "4B0W1Sit7yLl",
    "outputId": "cdeaad92-c501-441c-fb8b-65d21d133e70"
   },
   "outputs": [],
   "source": [
    "# tesserocr extraction using the PyTessBaseAPI\n",
    "start_time = time.time()\n",
    "for file in filepaths:\n",
    "  pages = get_image1(file)\n",
    "  text = \"\"\n",
    "  with tesserocr.PyTessBaseAPI(lang=\"spa\") as api:\n",
    "    for pageNum, imgBlob in enumerate(pages):\n",
    "      api.SetImage(imgBlob)\n",
    "      page_text = api.GetUTF8Text()\n",
    "      text += wrap_pagenum(page_text, pageNum)\n",
    "    export_ocr(text, file, \"tesserocr_pytess\")  # write extracted text to disk\n",
    "print(\"--- %s seconds ---\" % (time.time() - start_time))"
   ]
  },
  {
   "cell_type": "markdown",
   "metadata": {
    "id": "0iqp1-DfqezC"
   },
   "source": [
    "It seems that the pytesseract package provides the fastest extraction and by looking at the extracted text it doesn't seem to exist any difference in the output of all the tested methods."
   ]
  },
  {
   "cell_type": "code",
   "execution_count": null,
   "metadata": {
    "colab": {
     "base_uri": "https://localhost:8080/"
    },
    "id": "sJi99vMuq0qY",
    "outputId": "241af4c3-a8ad-4660-b6b7-de341d02e8bf"
   },
   "outputs": [],
   "source": [
    "# comparison between text extracted by the different methods\n",
    "os.listdir(out_path)"
   ]
  },
  {
   "cell_type": "code",
   "execution_count": null,
   "metadata": {
    "id": "qLrB4355IW9o"
   },
   "outputs": [],
   "source": [
    "# TODO: perform a more programatical comparison between extracted texts"
   ]
  },
  {
   "cell_type": "markdown",
   "metadata": {
    "id": "keQsJEqBGG5I"
   },
   "source": [
    "# Let's look at the extracted text"
   ]
  },
  {
   "cell_type": "code",
   "execution_count": null,
   "metadata": {
    "colab": {
     "base_uri": "https://localhost:8080/",
     "height": 661
    },
    "id": "b8Yg9yO5IVzt",
    "outputId": "6ec125d5-f519-4efd-f63f-ec919fe7ad83"
   },
   "outputs": [],
   "source": [
    "with open(os.path.join(out_path, 'Decreto_ejecutivo_57_pytesseract.txt')) as text:\n",
    "  extracted_text = text.read()\n",
    "extracted_text"
   ]
  },
  {
   "cell_type": "code",
   "execution_count": null,
   "metadata": {
    "colab": {
     "base_uri": "https://localhost:8080/"
    },
    "id": "8JwnZJ8UIwgR",
    "outputId": "bf656933-9c0d-4df6-e396-7f751d0e6311"
   },
   "outputs": [],
   "source": [
    "# Replace \\x0c (page break) by \\n\n",
    "# Match 1 or more occurrences of \\n if preceeded by one occurrence of \\n OR \n",
    "# Match 1 or more occurrences of \\s (whitespace) if preceeded by one occurrence of \\n OR \n",
    "# Match one occurrence of \\n if it isn't followed by \\n\n",
    "print(re.sub(\"(?<=\\n)\\n+|(?<=\\n)\\s+|\\n(?!\\n)\", \" \", extracted_text.replace(\"\\x0c\", \"\\n\")))"
   ]
  },
  {
   "cell_type": "code",
   "execution_count": null,
   "metadata": {
    "id": "nHaDF7YQKeN6"
   },
   "outputs": [],
   "source": []
  }
 ],
 "metadata": {
  "colab": {
   "collapsed_sections": [],
   "name": "OCR.ipynb",
   "provenance": []
  },
  "kernelspec": {
   "display_name": "Python 3",
   "language": "python",
   "name": "python3"
  },
  "language_info": {
   "codemirror_mode": {
    "name": "ipython",
    "version": 3
   },
   "file_extension": ".py",
   "mimetype": "text/x-python",
   "name": "python",
   "nbconvert_exporter": "python",
   "pygments_lexer": "ipython3",
   "version": "3.7.9"
  }
 },
 "nbformat": 4,
 "nbformat_minor": 1
}
