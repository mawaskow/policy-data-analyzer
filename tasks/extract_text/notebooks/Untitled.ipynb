{
 "cells": [
  {
   "cell_type": "code",
   "execution_count": 43,
   "id": "lucky-window",
   "metadata": {},
   "outputs": [],
   "source": [
    "import boto3\n",
    "from bs4 import BeautifulSoup\n",
    "import io\n",
    "import json\n"
   ]
  },
  {
   "cell_type": "code",
   "execution_count": 36,
   "id": "present-replica",
   "metadata": {},
   "outputs": [
    {
     "name": "stdout",
     "output_type": "stream",
     "text": [
      " \n",
      "FINANCIERA NACIONAL DE DESARROLLO AGROPECUARIO, RURAL, FORESTAL Y PESQUERO\n",
      "DIRECCION EJECUTIVA DE RECURSOS MATERIALES Y SERVICIOS\n",
      "RESUMEN DE CONVOCATORIA\n",
      "LICITACION PUBLICA NACIONAL ELECTRONICA\n",
      "De conformidad con lo dispuesto en el artículo 30 de la Ley de Adquisiciones, Arrendamientos y Servicios del Sector Público, se informa a los interesados en participar en licitaciones públicas que la convocatoria a la licitación que contiene las bases mediante las cuales se desarrollará el procedimiento, así como la descripción de los requisitos de participación y el modelo de contrato específico, se encuentra disponible para su consulta en: http://compranet.gob.mx, o bien, en el domicilio de la convocante en: Agrarismo No. 227, Quinto Piso, Colonia Escandón, Miguel Hidalgo, C.P. 11800, Ciudad de México, Tel: 5230-1600, Exts: 1094 y 1251, los días del veintiséis de febrero al diez de marzo del año en curso de las 9:00 a 15:00 horas y cuya información relevante es:\n",
      "CIUDAD DE MEXICO, A 2 DE MARZO DE 2021.\n",
      "DIRECTOR EJECUTIVO DE RECURSOS MATERIALES Y SERVICIOS\n",
      "LIC. BERNARDO NETZAHUALCOYOTL ALCANTARA GARCIA\n",
      "RUBRICA.\n",
      "(R.- 503642)\n",
      "Carácter, medio y No. de Licitación\n",
      "Licitación Pública Nacional Electrónica No. LA-006HAN001-E44-2021\n",
      " Objeto de la Licitación\n",
      "Contratación del Servicio de Seguro de Responsabilidad Civil y Asistencia Legal para el personal de mando de la Financiera Nacional de Desarrollo Agropecuario, Rural, Forestal y Pesquero\n",
      "Volumen a adquirir\n",
      "Los detalles se determinan en la propia convocatoria\n",
      " Fecha de publicación en CompraNet\n",
      "26/02/2021\n",
      " Fecha y hora para celebrar la junta de aclaraciones\n",
      "05/03/2021, 11:00 horas\n",
      " Fecha y hora para realizar la presentación y apertura de proposiciones\n",
      "16/03/2021, 11:00 horas\n",
      " Fecha y hora para emitir el fallo\n",
      "18/03/2021, 11:00 horas\n",
      "\n",
      "\t\t\t\t\t\t\t\t\t\t\tEn el documento que usted está visualizando puede haber texto, caracteres u objetos que no se muestren debido a la conversión a formato HTML, por lo que le recomendamos tomar siempre como referencia la imagen digitalizada del DOF o el archivo PDF de la edición.\n",
      "\t\t\t\t\t\t\t\t\t\t\n",
      "\n"
     ]
    }
   ],
   "source": [
    "moretxt = \"\"\"<div id=\"DivDetalleNota\" align=\"justify\" style=\"overflow:hidden; padding-left:10px; width:695px; position: relative;\">\n",
    "\n",
    "<p align=\"justify\"><font size=\"2\" face=\"Arial\">  </font></p><p align=\"center\"><font size=\"2\" face=\"Arial\"><a name=\"_GoBack\"></a><font size=\"4\" face=\"Times New Roman\"><b>FINANCIERA NACIONAL DE DESARROLLO AGROPECUARIO, RURAL, FORESTAL Y PESQUERO</b></font></font></p><font size=\"2\" face=\"Arial\"> <p align=\"center\"><font size=\"2\" face=\"Arial\">DIRECCION EJECUTIVA DE RECURSOS MATERIALES Y SERVICIOS</font></p> <p align=\"center\"><font size=\"2\" face=\"Arial\"><b>RESUMEN DE CONVOCATORIA</b></font></p> <p align=\"center\"><font size=\"2\" face=\"Arial\"><b>LICITACION PUBLICA NACIONAL ELECTRONICA</b></font></p> <p align=\"justify\"><font size=\"2\" face=\"Arial\">De conformidad con lo dispuesto en el artículo 30 de la Ley de Adquisiciones, Arrendamientos y Servicios del Sector Público, se informa a los interesados en participar en licitaciones públicas que la convocatoria a la licitación que contiene las bases mediante las cuales se desarrollará el procedimiento, así como la descripción de los requisitos de participación y el modelo de contrato específico, se encuentra disponible para su consulta en: http://compranet.gob.mx, o bien, en el domicilio de la convocante en: Agrarismo No. 227, Quinto Piso, Colonia Escandón, Miguel Hidalgo, C.P. 11800, Ciudad de México, Tel: 5230-1600, Exts: 1094 y 1251, los días del veintiséis de febrero al diez de marzo del año en curso de las 9:00 a 15:00 horas y cuya información relevante es:</font></p> <a name=\"table01\"></a> <div align=\"left\"> <table width=\"892\" border=\"2\" cellspacing=\"0\"> <tbody><tr valign=\"top\"><td bgcolor=\"#C0C0C0\" height=\"1\"><font size=\"2\" face=\"Arial\"><b>Carácter, medio y No. de Licitación</b></font></td>   <td><font size=\"2\" face=\"Arial\"><b>Licitación Públi</b>ca Nacional Electrónica No. <b>LA-006HAN001-E44-2021</b></font></td></tr> <tr valign=\"top\"><td bgcolor=\"#C0C0C0\" height=\"1\">   <font size=\"2\" face=\"Arial\"><b>Objeto de la Licitación</b></font></td>   <td><font size=\"2\" face=\"Arial\"><b>Contratación del Servicio de Seguro de Responsabilidad Civil y Asistencia Legal para el personal de mando de la Financiera Nacional de Desarrollo Agropecuario, Rural, Forestal y Pes</b>quero</font></td></tr> <tr valign=\"top\"><td bgcolor=\"#C0C0C0\" height=\"1\"><font size=\"2\" face=\"Arial\"><b>Volumen a adquirir</b></font></td>   <td><font size=\"2\" face=\"Arial\"><b>Los detalles se determinan en la propia convocatoria</b></font></td></tr> <tr valign=\"top\"><td bgcolor=\"#C0C0C0\" height=\"1\">   <font size=\"2\" face=\"Arial\"><b>Fecha de publicación en CompraNet</b></font></td>   <td><font size=\"2\" face=\"Arial\"><b>26/02/2021</b></font></td></tr> <tr valign=\"top\"><td bgcolor=\"#C0C0C0\" height=\"1\">   <font size=\"2\" face=\"Arial\"><b>Fecha y hora para celebrar la junta de aclaraciones</b></font></td>   <td><font size=\"2\" face=\"Arial\"><b>05/03/2021, 11:00 horas</b></font></td></tr> <tr valign=\"top\"><td bgcolor=\"#C0C0C0\" height=\"1\">   <font size=\"2\" face=\"Arial\"><b>Fecha y hora para realizar la presentación y apertura de proposiciones</b></font></td>   <td><font size=\"2\" face=\"Arial\"><b>16/03/2021, 11:00 horas</b></font></td></tr> <tr valign=\"top\"><td bgcolor=\"#C0C0C0\" height=\"1\">   <font size=\"2\" face=\"Arial\"><b>Fecha y hora para emitir el fallo</b></font></td>   <td><font size=\"2\" face=\"Arial\"><b>18/03/2021, 11:00 horas</b></font></td></tr> </tbody></table> </div> <p align=\"center\"><font size=\"2\" face=\"Arial\">CIUDAD DE MEXICO, A 2 DE MARZO DE 2021.</font></p> <p align=\"center\"><font size=\"2\" face=\"Arial\">DIRECTOR EJECUTIVO DE RECURSOS MATERIALES Y SERVICIOS</font></p> <p align=\"center\"><font size=\"2\" face=\"Arial\"><b>LIC. BERNARDO NETZAHUALCOYOTL ALCANTARA GARCIA</b></font></p> <p align=\"center\"><font size=\"2\" face=\"Arial\">RUBRICA.</font></p> <p align=\"right\"><font size=\"2\" face=\"Arial (W1)\"><b>(R.- 503642)</b></font></p>                                      <br><table cellpading=\"0\" cellspacing=\"0\" border=\"0\" width=\"100%\" align=\"center\">\n",
    "\n",
    "\t\t\t\t\t\t\t\t\t\t<tbody><tr>\n",
    "\n",
    "\t\t\t\t\t\t\t\t\t\t\t<td style=\"border:1px solid #333333;padding:4px; font-size: 11px;\" class=\"txt\">\n",
    "\t\t\t\t\t\t\t\t\t\t\tEn el documento que usted está visualizando puede haber texto, caracteres u objetos que no se muestren debido a la conversión a formato HTML, por lo que le recomendamos tomar siempre como referencia la imagen digitalizada del DOF o el archivo PDF de la edición.\n",
    "\t\t\t\t\t\t\t\t\t\t</td>\n",
    "\n",
    "\t\t\t\t\t\t\t\t\t\t</tr>\n",
    "\n",
    "\t\t\t\t\t\t\t\t\t\t</tbody></table></font></div>\n",
    "\"\"\"\n",
    "soup = BeautifulSoup(moretxt)\n",
    "tags = soup.find_all(\"p\")\n",
    "tables = soup.find_all(\"td\")\n",
    "text = \"\"\n",
    "for t in tags:\n",
    "    text = text + t.text + \"\\n\"\n",
    "#     print(t.text)\n",
    "for tb in tables:\n",
    "    text = text + tb.text+ \"\\n\"\n",
    "#     print(tb.text)\n",
    "print(text)"
   ]
  },
  {
   "cell_type": "code",
   "execution_count": 37,
   "id": "driven-council",
   "metadata": {},
   "outputs": [
    {
     "data": {
      "text/plain": [
       "b'Here we have some data'"
      ]
     },
     "execution_count": 37,
     "metadata": {},
     "output_type": "execute_result"
    }
   ],
   "source": [
    "some_binary_data = b'Here we have some data'\n",
    "more_binary_data = b'Here we have some more data'\n",
    "\n",
    "some_binary_data"
   ]
  },
  {
   "cell_type": "code",
   "execution_count": 42,
   "id": "arranged-heather",
   "metadata": {},
   "outputs": [],
   "source": [
    "folder = '/home/propietari/Documents/claus/' # TODO: change to your local path\n",
    "file_name = 'AWS_S3_keys_JordiPlanas_Made_in_game.json' # TODO: Change to your filename\n",
    "file = folder + file_name\n",
    "\n",
    "with open(file, 'r') as dict:\n",
    "    credentials = json.load(dict)\n",
    "                                      \n",
    "KEY = list(credentials)[0]\n",
    "SECRET = list(credentials.values())[0]\n",
    "s3BucketName = \"wri-testing\"\n",
    "region = 'eu-central-1'\n",
    "\n",
    "s3 = boto3.resource(\n",
    "    service_name = 's3',\n",
    "    region_name = region,\n",
    "    aws_access_key_id = KEY,\n",
    "    aws_secret_access_key = SECRET\n",
    ")"
   ]
  },
  {
   "cell_type": "code",
   "execution_count": 54,
   "id": "aquatic-perception",
   "metadata": {
    "scrolled": true
   },
   "outputs": [
    {
     "data": {
      "text/plain": [
       "{'ResponseMetadata': {'RequestId': 'D8A39286CC4C18E3',\n",
       "  'HostId': 'CxLMkP0QOsgYHu97KHBnGqvsmtJwWrfhELBJy6hPWTD/7GWdeajQInm0YTpSbwnUa5t/p9LA+eA=',\n",
       "  'HTTPStatusCode': 200,\n",
       "  'HTTPHeaders': {'x-amz-id-2': 'CxLMkP0QOsgYHu97KHBnGqvsmtJwWrfhELBJy6hPWTD/7GWdeajQInm0YTpSbwnUa5t/p9LA+eA=',\n",
       "   'x-amz-request-id': 'D8A39286CC4C18E3',\n",
       "   'date': 'Sun, 07 Mar 2021 15:56:15 GMT',\n",
       "   'etag': '\"af2322426bbbc7b1a08a7534b8eb8c9e\"',\n",
       "   'content-length': '0',\n",
       "   'server': 'AmazonS3'},\n",
       "  'RetryAttempts': 0},\n",
       " 'ETag': '\"af2322426bbbc7b1a08a7534b8eb8c9e\"'}"
      ]
     },
     "execution_count": 54,
     "metadata": {},
     "output_type": "execute_result"
    }
   ],
   "source": [
    "s3.Object(s3BucketName, \"dof/test.txt\").put(Body = text)"
   ]
  },
  {
   "cell_type": "code",
   "execution_count": 49,
   "id": "steady-angle",
   "metadata": {},
   "outputs": [
    {
     "data": {
      "text/plain": [
       "' \\nFINANCIERA NACIONAL DE DESARROLLO AGROPECUARIO, RURAL, FORESTAL Y PESQUERO\\nDIRECCION EJECUTIVA DE RECURSOS MATERIALES Y SERVICIOS\\nRESUMEN DE CONVOCATORIA\\nLICITACION PUBLICA NACIONAL ELECTRONICA\\nDe conformidad con lo dispuesto en el artículo 30 de la Ley de Adquisiciones, Arrendamientos y Servicios del Sector Público, se informa a los interesados en participar en licitaciones públicas que la convocatoria a la licitación que contiene las bases mediante las cuales se desarrollará el procedimiento, así como la descripción de los requisitos de participación y el modelo de contrato específico, se encuentra disponible para su consulta en: http://compranet.gob.mx, o bien, en el domicilio de la convocante en: Agrarismo No. 227, Quinto Piso, Colonia Escandón, Miguel Hidalgo, C.P. 11800, Ciudad de México, Tel: 5230-1600, Exts: 1094 y 1251, los días del veintiséis de febrero al diez de marzo del año en curso de las 9:00 a 15:00 horas y cuya información relevante es:\\nCIUDAD DE MEXICO, A 2 DE MARZO DE 2021.\\nDIRECTOR EJECUTIVO DE RECURSOS MATERIALES Y SERVICIOS\\nLIC. BERNARDO NETZAHUALCOYOTL ALCANTARA GARCIA\\nRUBRICA.\\n(R.- 503642)\\nCarácter, medio y No. de Licitación\\nLicitación Pública Nacional Electrónica No. LA-006HAN001-E44-2021\\n Objeto de la Licitación\\nContratación del Servicio de Seguro de Responsabilidad Civil y Asistencia Legal para el personal de mando de la Financiera Nacional de Desarrollo Agropecuario, Rural, Forestal y Pesquero\\nVolumen a adquirir\\nLos detalles se determinan en la propia convocatoria\\n Fecha de publicación en CompraNet\\n26/02/2021\\n Fecha y hora para celebrar la junta de aclaraciones\\n05/03/2021, 11:00 horas\\n Fecha y hora para realizar la presentación y apertura de proposiciones\\n16/03/2021, 11:00 horas\\n Fecha y hora para emitir el fallo\\n18/03/2021, 11:00 horas\\n\\n\\t\\t\\t\\t\\t\\t\\t\\t\\t\\t\\tEn el documento que usted está visualizando puede haber texto, caracteres u objetos que no se muestren debido a la conversión a formato HTML, por lo que le recomendamos tomar siempre como referencia la imagen digitalizada del DOF o el archivo PDF de la edición.\\n\\t\\t\\t\\t\\t\\t\\t\\t\\t\\t\\n'"
      ]
     },
     "execution_count": 49,
     "metadata": {},
     "output_type": "execute_result"
    }
   ],
   "source": [
    "text"
   ]
  },
  {
   "cell_type": "code",
   "execution_count": null,
   "id": "atmospheric-setting",
   "metadata": {},
   "outputs": [],
   "source": []
  }
 ],
 "metadata": {
  "kernelspec": {
   "display_name": "Python 3",
   "language": "python",
   "name": "python3"
  },
  "language_info": {
   "codemirror_mode": {
    "name": "ipython",
    "version": 3
   },
   "file_extension": ".py",
   "mimetype": "text/x-python",
   "name": "python",
   "nbconvert_exporter": "python",
   "pygments_lexer": "ipython3",
   "version": "3.8.8"
  },
  "toc": {
   "base_numbering": 1,
   "nav_menu": {},
   "number_sections": true,
   "sideBar": true,
   "skip_h1_title": true,
   "title_cell": "Table of Contents",
   "title_sidebar": "Contents",
   "toc_cell": false,
   "toc_position": {},
   "toc_section_display": true,
   "toc_window_display": false
  }
 },
 "nbformat": 4,
 "nbformat_minor": 5
}
