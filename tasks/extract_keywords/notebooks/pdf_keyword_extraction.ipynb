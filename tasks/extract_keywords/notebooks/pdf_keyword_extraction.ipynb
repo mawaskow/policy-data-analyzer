{
 "cells": [
  {
   "cell_type": "code",
   "execution_count": 1,
   "metadata": {},
   "outputs": [
    {
     "name": "stderr",
     "output_type": "stream",
     "text": [
      "\n",
      "Bad key \"text.kerning_factor\" on line 4 in\n",
      "/Users/dafirebanks/miniconda3/envs/dsci/lib/python3.7/site-packages/matplotlib/mpl-data/stylelib/_classic_test_patch.mplstyle.\n",
      "You probably need to get an updated matplotlibrc file from\n",
      "https://github.com/matplotlib/matplotlib/blob/v3.1.3/matplotlibrc.template\n",
      "or from the matplotlib source distribution\n"
     ]
    }
   ],
   "source": [
    "from collections import defaultdict\n",
    "import json\n",
    "import os\n",
    "from string import punctuation\n",
    "\n",
    "from gensim.summarization import keywords, summarize\n",
    "import matplotlib.pyplot as plt\n",
    "from nltk.stem.snowball import SnowballStemmer\n",
    "from nltk.tokenize import word_tokenize, sent_tokenize\n",
    "from nltk.corpus import stopwords\n",
    "import numpy as np\n",
    "import pandas as pd\n",
    "from rake_nltk import Rake\n",
    "from sklearn.feature_extraction.text import CountVectorizer, TfidfVectorizer\n",
    "from wordcloud import WordCloud\n",
    "from src.preprocessing import CorpusPreprocess\n",
    "from src import PROJECT_ROOT"
   ]
  },
  {
   "cell_type": "code",
   "execution_count": 2,
   "metadata": {},
   "outputs": [],
   "source": [
    "def get_top_n_ngrams(matrix, vocab, ngram, n=20):\n",
    "    \"\"\"\n",
    "    Function to get top n-grams from from document-term matrix and corresponding vocabulary\n",
    "    \"\"\"\n",
    "    # Filter vocab to include just n-grams\n",
    "    vocab = dict(filter(lambda x: len(x[0].split()) == ngram, vocab.items()))\n",
    "    # Filter matrix to include just n-grams\n",
    "    matrix = matrix[:, list(vocab.values())]\n",
    "    # Get inverse vocab mapping: new_matrix_index -> n-gram\n",
    "    inv_vocab = {i: k for i, (k, _) in enumerate(vocab.items())}\n",
    "    # Get count of each n-gram\n",
    "    counts = np.asarray(matrix.sum(axis=0)).flatten()\n",
    "    top_ngrams = defaultdict(int)\n",
    "    # Iterate over n argmax indexes of counts\n",
    "    for i in reversed(counts.argsort()[-n:]):\n",
    "        top_ngrams[inv_vocab[i]] = counts[i]\n",
    "    return top_ngrams"
   ]
  },
  {
   "cell_type": "markdown",
   "metadata": {},
   "source": [
    "# Reading the data"
   ]
  },
  {
   "cell_type": "code",
   "execution_count": 3,
   "metadata": {},
   "outputs": [],
   "source": [
    "# Reading data\n",
    "INPUT_PATH = os.path.join(PROJECT_ROOT, \"tasks\", \"extract_text\", \"output\")\n",
    "with open(os.path.join(INPUT_PATH, \"pdf_files.json\")) as json_file:\n",
    "    data = json.load(json_file)\n",
    "    \n",
    "df = pd.DataFrame(\n",
    "    {\n",
    "        \"filename\": data.keys(),\n",
    "        \"country\": [i[\"Country\"] for i in data.values()],\n",
    "        \"text\": [i[\"Text\"] for i in data.values()]\n",
    "    }\n",
    ")"
   ]
  },
  {
   "cell_type": "code",
   "execution_count": 4,
   "metadata": {},
   "outputs": [
    {
     "data": {
      "text/plain": [
       "filename      62\n",
       "country       62\n",
       "text          62\n",
       "word_count    62\n",
       "dtype: int64"
      ]
     },
     "execution_count": 4,
     "metadata": {},
     "output_type": "execute_result"
    }
   ],
   "source": [
    "# Creating word count field\n",
    "df['word_count'] = df['text'].apply(lambda x: len(str(x).split(\" \")))\n",
    "df.count()"
   ]
  },
  {
   "cell_type": "code",
   "execution_count": 5,
   "metadata": {},
   "outputs": [
    {
     "data": {
      "text/plain": [
       "filename      61\n",
       "country       61\n",
       "text          61\n",
       "word_count    61\n",
       "dtype: int64"
      ]
     },
     "execution_count": 5,
     "metadata": {},
     "output_type": "execute_result"
    }
   ],
   "source": [
    "# Removing document without text\n",
    "df = df.drop(df.index[df['word_count'] == 1].tolist()).reset_index(drop=True)\n",
    "df.count()"
   ]
  },
  {
   "cell_type": "code",
   "execution_count": 6,
   "metadata": {},
   "outputs": [
    {
     "data": {
      "text/plain": [
       "filename      58\n",
       "country       58\n",
       "text          58\n",
       "word_count    58\n",
       "dtype: int64"
      ]
     },
     "execution_count": 6,
     "metadata": {},
     "output_type": "execute_result"
    }
   ],
   "source": [
    "# Removing badly read documents\n",
    "bad_docs = [\"CreditoGanadero_Mexico\", \"Ley Especial Cafe_ElSalvador\", \"Sembrando Vida Report\"]\n",
    "df = df.drop(df.index[df['filename'].isin(bad_docs)].tolist()).reset_index(drop=True)\n",
    "df.count()"
   ]
  },
  {
   "cell_type": "code",
   "execution_count": 7,
   "metadata": {},
   "outputs": [
    {
     "data": {
      "text/html": [
       "<div>\n",
       "<style scoped>\n",
       "    .dataframe tbody tr th:only-of-type {\n",
       "        vertical-align: middle;\n",
       "    }\n",
       "\n",
       "    .dataframe tbody tr th {\n",
       "        vertical-align: top;\n",
       "    }\n",
       "\n",
       "    .dataframe thead th {\n",
       "        text-align: right;\n",
       "    }\n",
       "</style>\n",
       "<table border=\"1\" class=\"dataframe\">\n",
       "  <thead>\n",
       "    <tr style=\"text-align: right;\">\n",
       "      <th></th>\n",
       "      <th>filename</th>\n",
       "      <th>country</th>\n",
       "      <th>text</th>\n",
       "      <th>word_count</th>\n",
       "    </tr>\n",
       "  </thead>\n",
       "  <tbody>\n",
       "    <tr>\n",
       "      <th>0</th>\n",
       "      <td>2019CVE 1713470_Chile</td>\n",
       "      <td>Chile</td>\n",
       "      <td>CVE 1713470|Director: Juan Jorge Lazo Rodrígue...</td>\n",
       "      <td>10424</td>\n",
       "    </tr>\n",
       "    <tr>\n",
       "      <th>1</th>\n",
       "      <td>Decreto 51_Chile</td>\n",
       "      <td>Chile</td>\n",
       "      <td>Biblioteca del Congreso Nacional de Chile - ww...</td>\n",
       "      <td>22478</td>\n",
       "    </tr>\n",
       "    <tr>\n",
       "      <th>2</th>\n",
       "      <td>Decreto 95_Chile</td>\n",
       "      <td>Chile</td>\n",
       "      <td>www.bcn.cl - Biblioteca del Congreso Nacional ...</td>\n",
       "      <td>6068</td>\n",
       "    </tr>\n",
       "    <tr>\n",
       "      <th>3</th>\n",
       "      <td>Decreto8_Chile</td>\n",
       "      <td>Chile</td>\n",
       "      <td>Biblioteca del Congreso Nacional de Chile - ww...</td>\n",
       "      <td>1209</td>\n",
       "    </tr>\n",
       "    <tr>\n",
       "      <th>4</th>\n",
       "      <td>Ley 20412_Chile</td>\n",
       "      <td>Chile</td>\n",
       "      <td>Biblioteca del Congreso Nacional de Chile - ww...</td>\n",
       "      <td>4349</td>\n",
       "    </tr>\n",
       "  </tbody>\n",
       "</table>\n",
       "</div>"
      ],
      "text/plain": [
       "                filename country  \\\n",
       "0  2019CVE 1713470_Chile   Chile   \n",
       "1       Decreto 51_Chile   Chile   \n",
       "2       Decreto 95_Chile   Chile   \n",
       "3         Decreto8_Chile   Chile   \n",
       "4        Ley 20412_Chile   Chile   \n",
       "\n",
       "                                                text  word_count  \n",
       "0  CVE 1713470|Director: Juan Jorge Lazo Rodrígue...       10424  \n",
       "1  Biblioteca del Congreso Nacional de Chile - ww...       22478  \n",
       "2  www.bcn.cl - Biblioteca del Congreso Nacional ...        6068  \n",
       "3  Biblioteca del Congreso Nacional de Chile - ww...        1209  \n",
       "4  Biblioteca del Congreso Nacional de Chile - ww...        4349  "
      ]
     },
     "execution_count": 7,
     "metadata": {},
     "output_type": "execute_result"
    }
   ],
   "source": [
    "df.head()"
   ]
  },
  {
   "cell_type": "code",
   "execution_count": 8,
   "metadata": {},
   "outputs": [
    {
     "data": {
      "text/plain": [
       "filename      58\n",
       "country       58\n",
       "text          58\n",
       "word_count    58\n",
       "dtype: int64"
      ]
     },
     "execution_count": 8,
     "metadata": {},
     "output_type": "execute_result"
    }
   ],
   "source": [
    "df.count()"
   ]
  },
  {
   "cell_type": "markdown",
   "metadata": {},
   "source": [
    "# Preprocessing the data"
   ]
  },
  {
   "cell_type": "markdown",
   "metadata": {},
   "source": [
    "#### Experiment: Using a stanza pipeline -> turns out that lemmatization is not as necessary for now"
   ]
  },
  {
   "cell_type": "code",
   "execution_count": 9,
   "metadata": {},
   "outputs": [],
   "source": [
    "# import stanza \n",
    "\n",
    "# nlp = stanza.Pipeline(lang='es', processors='tokenize,mwt,pos,lemma')\n",
    "# lemmatize_pipeline = stanza.Pipeline(lang='es', processors='tokenize, lemma')\n",
    "\n",
    "# def lemmatize_text(text):\n",
    "#     lemmatized_text = lemmatize_pipeline(text)\n",
    "#     return \" \".join([word.lemma for sentence in lemmatized_text.sentences for word in sentence.words])\n",
    "\n",
    "# df[\"pre_pretext\"] = df[\"pre_pretext\"].apply(lambda x: lemmatize_text(x))"
   ]
  },
  {
   "cell_type": "markdown",
   "metadata": {},
   "source": [
    "#### Mix common stopwords with words that we know are frequent, such as dates "
   ]
  },
  {
   "cell_type": "code",
   "execution_count": 10,
   "metadata": {},
   "outputs": [],
   "source": [
    "spa_stopwords = set(stopwords.words('spanish'))\n",
    "extra_stopwords = {\"ley\", \"artículo\", \"ser\", \"así\", \"según\", \"nº\", \"diario\", \n",
    "                   \"enero\", \"febrero\", \"marzo\", \"abril\", \"mayo\", \"junio\", \"julio\", \"agosto\", \"setiembre\", \"octubre\", \"noviembre\", \"diciembre\",\n",
    "                   \"lunes\", \"martes\", \"miercoles\", \"jueves\", \"viernes\", \"sabado\", \"domingo\"}\n",
    "spa_stopwords = spa_stopwords.union(extra_stopwords)"
   ]
  },
  {
   "cell_type": "code",
   "execution_count": 11,
   "metadata": {},
   "outputs": [],
   "source": [
    "prep = CorpusPreprocess(\n",
    "    language='spanish', \n",
    "    stop_words=spa_stopwords,\n",
    "    lowercase=True,\n",
    "    strip_accents=True,\n",
    "    strip_numbers=True,\n",
    "    punctuation_list=punctuation,\n",
    "    strip_urls=True,\n",
    "#     stemmer=SnowballStemmer('spanish'), \n",
    "    max_df=0.9, \n",
    "    min_df=2\n",
    ")"
   ]
  },
  {
   "cell_type": "code",
   "execution_count": 12,
   "metadata": {},
   "outputs": [],
   "source": [
    "df['prep_text'] = prep.fit_transform(df['text'], tokenize=False)"
   ]
  },
  {
   "cell_type": "code",
   "execution_count": 13,
   "metadata": {},
   "outputs": [
    {
     "data": {
      "text/html": [
       "<div>\n",
       "<style scoped>\n",
       "    .dataframe tbody tr th:only-of-type {\n",
       "        vertical-align: middle;\n",
       "    }\n",
       "\n",
       "    .dataframe tbody tr th {\n",
       "        vertical-align: top;\n",
       "    }\n",
       "\n",
       "    .dataframe thead th {\n",
       "        text-align: right;\n",
       "    }\n",
       "</style>\n",
       "<table border=\"1\" class=\"dataframe\">\n",
       "  <thead>\n",
       "    <tr style=\"text-align: right;\">\n",
       "      <th></th>\n",
       "      <th>filename</th>\n",
       "      <th>country</th>\n",
       "      <th>text</th>\n",
       "      <th>word_count</th>\n",
       "      <th>prep_text</th>\n",
       "    </tr>\n",
       "  </thead>\n",
       "  <tbody>\n",
       "    <tr>\n",
       "      <th>0</th>\n",
       "      <td>2019CVE 1713470_Chile</td>\n",
       "      <td>Chile</td>\n",
       "      <td>CVE 1713470|Director: Juan Jorge Lazo Rodrígue...</td>\n",
       "      <td>10424</td>\n",
       "      <td>cve director juan jorge lazo rodriguezsitio we...</td>\n",
       "    </tr>\n",
       "    <tr>\n",
       "      <th>1</th>\n",
       "      <td>Decreto 51_Chile</td>\n",
       "      <td>Chile</td>\n",
       "      <td>Biblioteca del Congreso Nacional de Chile - ww...</td>\n",
       "      <td>22478</td>\n",
       "      <td>biblioteca congreso nacional chile documento g...</td>\n",
       "    </tr>\n",
       "    <tr>\n",
       "      <th>2</th>\n",
       "      <td>Decreto 95_Chile</td>\n",
       "      <td>Chile</td>\n",
       "      <td>www.bcn.cl - Biblioteca del Congreso Nacional ...</td>\n",
       "      <td>6068</td>\n",
       "      <td>biblioteca congreso nacional chile tipo norma ...</td>\n",
       "    </tr>\n",
       "    <tr>\n",
       "      <th>3</th>\n",
       "      <td>Decreto8_Chile</td>\n",
       "      <td>Chile</td>\n",
       "      <td>Biblioteca del Congreso Nacional de Chile - ww...</td>\n",
       "      <td>1209</td>\n",
       "      <td>biblioteca congreso nacional chile documento g...</td>\n",
       "    </tr>\n",
       "    <tr>\n",
       "      <th>4</th>\n",
       "      <td>Ley 20412_Chile</td>\n",
       "      <td>Chile</td>\n",
       "      <td>Biblioteca del Congreso Nacional de Chile - ww...</td>\n",
       "      <td>4349</td>\n",
       "      <td>biblioteca congreso nacional chile documento g...</td>\n",
       "    </tr>\n",
       "  </tbody>\n",
       "</table>\n",
       "</div>"
      ],
      "text/plain": [
       "                filename country  \\\n",
       "0  2019CVE 1713470_Chile   Chile   \n",
       "1       Decreto 51_Chile   Chile   \n",
       "2       Decreto 95_Chile   Chile   \n",
       "3         Decreto8_Chile   Chile   \n",
       "4        Ley 20412_Chile   Chile   \n",
       "\n",
       "                                                text  word_count  \\\n",
       "0  CVE 1713470|Director: Juan Jorge Lazo Rodrígue...       10424   \n",
       "1  Biblioteca del Congreso Nacional de Chile - ww...       22478   \n",
       "2  www.bcn.cl - Biblioteca del Congreso Nacional ...        6068   \n",
       "3  Biblioteca del Congreso Nacional de Chile - ww...        1209   \n",
       "4  Biblioteca del Congreso Nacional de Chile - ww...        4349   \n",
       "\n",
       "                                           prep_text  \n",
       "0  cve director juan jorge lazo rodriguezsitio we...  \n",
       "1  biblioteca congreso nacional chile documento g...  \n",
       "2  biblioteca congreso nacional chile tipo norma ...  \n",
       "3  biblioteca congreso nacional chile documento g...  \n",
       "4  biblioteca congreso nacional chile documento g...  "
      ]
     },
     "execution_count": 13,
     "metadata": {},
     "output_type": "execute_result"
    }
   ],
   "source": [
    "df.head()"
   ]
  },
  {
   "cell_type": "markdown",
   "metadata": {},
   "source": [
    "# Word count for each document"
   ]
  },
  {
   "cell_type": "code",
   "execution_count": 14,
   "metadata": {},
   "outputs": [
    {
     "data": {
      "image/png": "[encoded data removed]",
      "text/plain": [
       "<Figure size 432x288 with 1 Axes>"
      ]
     },
     "metadata": {
      "needs_background": "light"
     },
     "output_type": "display_data"
    }
   ],
   "source": [
    "# Fetch word count for each document\n",
    "df['word_count'].plot(kind='box')\n",
    "plt.show()"
   ]
  },
  {
   "cell_type": "code",
   "execution_count": 15,
   "metadata": {
    "scrolled": true
   },
   "outputs": [
    {
     "data": {
      "text/plain": [
       "count        58.000000\n",
       "mean      17938.793103\n",
       "std       27200.201866\n",
       "min           3.000000\n",
       "25%        3149.750000\n",
       "50%        8626.500000\n",
       "75%       22386.500000\n",
       "max      160786.000000\n",
       "Name: word_count, dtype: float64"
      ]
     },
     "execution_count": 15,
     "metadata": {},
     "output_type": "execute_result"
    }
   ],
   "source": [
    "# Describe word count\n",
    "df['word_count'].describe()"
   ]
  },
  {
   "cell_type": "markdown",
   "metadata": {},
   "source": [
    "Should we weight each document? Otherwise we could find keywords that do not represent each document in the same way."
   ]
  },
  {
   "cell_type": "markdown",
   "metadata": {},
   "source": [
    "# Bag-of-Words"
   ]
  },
  {
   "cell_type": "code",
   "execution_count": 16,
   "metadata": {},
   "outputs": [],
   "source": [
    "# Count Vectorizer\n",
    "cv = CountVectorizer(max_features=20000, ngram_range=(1,7))\n",
    "bow_X = cv.fit_transform(df['prep_text'])"
   ]
  },
  {
   "cell_type": "code",
   "execution_count": 17,
   "metadata": {},
   "outputs": [
    {
     "data": {
      "image/png": "[encoded data removed]",
      "text/plain": [
       "<Figure size 432x288 with 1 Axes>"
      ]
     },
     "metadata": {
      "needs_background": "light"
     },
     "output_type": "display_data"
    }
   ],
   "source": [
    "# Get top uni-grams\n",
    "top_unigrams = get_top_n_ngrams(bow_X, cv.vocabulary_, 1, 20)\n",
    "\n",
    "plt.bar(top_unigrams.keys(), top_unigrams.values())\n",
    "plt.xticks(rotation=90)\n",
    "plt.ylabel('freq')\n",
    "plt.title('Top 20 unigrams')\n",
    "plt.show()"
   ]
  },
  {
   "cell_type": "code",
   "execution_count": 18,
   "metadata": {},
   "outputs": [
    {
     "data": {
      "image/png": "[encoded data removed]",
      "text/plain": [
       "<Figure size 432x288 with 1 Axes>"
      ]
     },
     "metadata": {
      "needs_background": "light"
     },
     "output_type": "display_data"
    }
   ],
   "source": [
    "# Get top bi-grams\n",
    "top_bigrams = get_top_n_ngrams(bow_X, cv.vocabulary_, 2, 20)\n",
    "\n",
    "plt.bar(top_bigrams.keys(), top_bigrams.values())\n",
    "plt.xticks(rotation=90)\n",
    "plt.ylabel('freq')\n",
    "plt.title('Top 20 bigrams')\n",
    "plt.show()"
   ]
  },
  {
   "cell_type": "code",
   "execution_count": 19,
   "metadata": {},
   "outputs": [
    {
     "data": {
      "image/png": "[encoded data removed]",
      "text/plain": [
       "<Figure size 432x288 with 1 Axes>"
      ]
     },
     "metadata": {
      "needs_background": "light"
     },
     "output_type": "display_data"
    }
   ],
   "source": [
    "# Get top tri-grams\n",
    "top_trigrams = get_top_n_ngrams(bow_X, cv.vocabulary_, 3, 20)\n",
    "\n",
    "plt.bar(top_trigrams.keys(), top_trigrams.values())\n",
    "plt.xticks(rotation=90)\n",
    "plt.ylabel('freq')\n",
    "plt.title('Top 20 trigrams')\n",
    "plt.show()"
   ]
  },
  {
   "cell_type": "code",
   "execution_count": 20,
   "metadata": {},
   "outputs": [
    {
     "data": {
      "text/plain": [
       "defaultdict(int,\n",
       "            {'areas naturales protegidas': 518,\n",
       "             'forestal fauna silvestre': 469,\n",
       "             'forestales fauna silvestre': 257,\n",
       "             'desarrollo forestal sustentable': 208,\n",
       "             'informe final version': 183,\n",
       "             'general secretaria servicios': 171,\n",
       "             'congreso union secretaria': 171,\n",
       "             'diputados congreso union': 171,\n",
       "             'camara diputados congreso': 171,\n",
       "             'union secretaria general': 171,\n",
       "             'secretaria general secretaria': 171,\n",
       "             'secretaria servicios parlamentarios': 171,\n",
       "             'ambiente recursos naturales': 156,\n",
       "             'recursos forestales fauna': 142,\n",
       "             'plan manejo forestal': 137,\n",
       "             'oficial segunda seccion': 131,\n",
       "             'medio ambiente recursos': 131,\n",
       "             'segunda seccion oficial': 131,\n",
       "             'asamblea legislativa republica': 131,\n",
       "             'pago derecho aprovechamiento': 127})"
      ]
     },
     "execution_count": 20,
     "metadata": {},
     "output_type": "execute_result"
    }
   ],
   "source": [
    "top_trigrams"
   ]
  },
  {
   "cell_type": "markdown",
   "metadata": {},
   "source": [
    "## What if we want to normalize by word counts?"
   ]
  },
  {
   "cell_type": "code",
   "execution_count": 21,
   "metadata": {},
   "outputs": [
    {
     "name": "stderr",
     "output_type": "stream",
     "text": [
      "/Users/dafirebanks/miniconda3/envs/dsci/lib/python3.7/site-packages/scipy/sparse/base.py:595: RuntimeWarning: invalid value encountered in true_divide\n",
      "  return np.true_divide(self.todense(), other)\n"
     ]
    }
   ],
   "source": [
    "bow_X_norm = bow_X / bow_X.sum(axis=1)"
   ]
  },
  {
   "cell_type": "code",
   "execution_count": 22,
   "metadata": {},
   "outputs": [
    {
     "data": {
      "image/png": "[encoded data removed]",
      "text/plain": [
       "<Figure size 432x288 with 1 Axes>"
      ]
     },
     "metadata": {
      "needs_background": "light"
     },
     "output_type": "display_data"
    }
   ],
   "source": [
    "# Get top uni-grams\n",
    "top_unigrams = get_top_n_ngrams(bow_X_norm, cv.vocabulary_, 1, 20)\n",
    "\n",
    "plt.bar(top_unigrams.keys(), top_unigrams.values())\n",
    "plt.xticks(rotation=90)\n",
    "plt.ylabel('freq')\n",
    "plt.title('Top 20 unigrams')\n",
    "plt.show()"
   ]
  },
  {
   "cell_type": "code",
   "execution_count": null,
   "metadata": {},
   "outputs": [],
   "source": [
    "# Get top bi-grams\n",
    "top_bigrams = get_top_n_ngrams(bow_X_norm, cv.vocabulary_, 2, 20)\n",
    "\n",
    "plt.bar(top_bigrams.keys(), top_bigrams.values())\n",
    "plt.xticks(rotation=90)\n",
    "plt.ylabel('freq')\n",
    "plt.title('Top 20 bigrams')\n",
    "plt.show()"
   ]
  },
  {
   "cell_type": "code",
   "execution_count": null,
   "metadata": {},
   "outputs": [],
   "source": [
    "# Get top tri-grams\n",
    "top_trigrams = get_top_n_ngrams(bow_X_norm, cv.vocabulary_, 3, 20)\n",
    "\n",
    "plt.bar(top_trigrams.keys(), top_trigrams.values())\n",
    "plt.xticks(rotation=90)\n",
    "plt.ylabel('freq')\n",
    "plt.title('Top 20 trigrams')\n",
    "plt.show()"
   ]
  },
  {
   "cell_type": "code",
   "execution_count": null,
   "metadata": {},
   "outputs": [],
   "source": [
    "top_trigrams"
   ]
  },
  {
   "cell_type": "markdown",
   "metadata": {},
   "source": [
    "# TF-IDF"
   ]
  },
  {
   "cell_type": "code",
   "execution_count": null,
   "metadata": {},
   "outputs": [],
   "source": [
    "# Count Vectorizer\n",
    "tv = TfidfVectorizer(max_features=20000, ngram_range=(1,3))\n",
    "tfidf_X = tv.fit_transform(df['prep_text'])"
   ]
  },
  {
   "cell_type": "code",
   "execution_count": null,
   "metadata": {},
   "outputs": [],
   "source": [
    "# Get top uni-grams\n",
    "top_unigrams = get_top_n_ngrams(tfidf_X, tv.vocabulary_, 1, 20)\n",
    "\n",
    "plt.bar(top_unigrams.keys(), top_unigrams.values())\n",
    "plt.xticks(rotation=90)\n",
    "plt.ylabel('freq')\n",
    "plt.title('Top 20 unigrams')\n",
    "plt.show()"
   ]
  },
  {
   "cell_type": "code",
   "execution_count": null,
   "metadata": {},
   "outputs": [],
   "source": [
    "# Get top bi-grams\n",
    "top_bigrams = get_top_n_ngrams(tfidf_X, cv.vocabulary_, 2, 20)\n",
    "\n",
    "plt.bar(top_bigrams.keys(), top_bigrams.values())\n",
    "plt.xticks(rotation=90)\n",
    "plt.ylabel('freq')\n",
    "plt.title('Top 20 bigrams')\n",
    "plt.show()"
   ]
  },
  {
   "cell_type": "code",
   "execution_count": null,
   "metadata": {},
   "outputs": [],
   "source": [
    "# Get top tri-grams\n",
    "top_trigrams = get_top_n_ngrams(tfidf_X, cv.vocabulary_, 3, 20)\n",
    "\n",
    "plt.bar(top_trigrams.keys(), top_trigrams.values())\n",
    "plt.xticks(rotation=90)\n",
    "plt.ylabel('freq')\n",
    "plt.title('Top 20 trigrams')\n",
    "plt.show()"
   ]
  },
  {
   "cell_type": "markdown",
   "metadata": {},
   "source": [
    "# Can we see keywords for single document?"
   ]
  },
  {
   "cell_type": "code",
   "execution_count": null,
   "metadata": {},
   "outputs": [],
   "source": [
    "print(df.loc[40, \"text\"][:1000],\"...\")\n",
    "\n",
    "print('\\nGet top uni-grams bow:')\n",
    "for k, v in get_top_n_ngrams(bow_X[40], cv.vocabulary_, 1, 10).items():\n",
    "    print(f\"\\\"{k}\\\" count: {round(v,3)}\")\n",
    "    \n",
    "print('\\nGet top uni-grams tfidf:')\n",
    "for k, v in get_top_n_ngrams(tfidf_X[40], tv.vocabulary_, 1, 10).items():\n",
    "    print(f\"\\\"{k}\\\" count: {round(v,3)}\")"
   ]
  },
  {
   "cell_type": "markdown",
   "metadata": {},
   "source": [
    "# Word cloud"
   ]
  },
  {
   "cell_type": "markdown",
   "metadata": {},
   "source": [
    "## BOW"
   ]
  },
  {
   "cell_type": "code",
   "execution_count": null,
   "metadata": {},
   "outputs": [],
   "source": [
    "sorted_vocab = {k: v for k, v in sorted(cv.vocabulary_.items(), key=lambda item: item[1])}\n",
    "frequencies = np.asarray(bow_X.sum(axis=0)).flatten()\n",
    "word_freq = {k:v for k, v in zip(sorted_vocab.keys(), frequencies)}\n",
    "\n",
    "wordcloud = WordCloud(\n",
    "    background_color='white',\n",
    "    max_words=100,\n",
    "    max_font_size=50, \n",
    "    random_state=42\n",
    ").generate_from_frequencies(word_freq)\n",
    "\n",
    "fig = plt.figure(figsize=(13, 13))\n",
    "plt.imshow(wordcloud)\n",
    "plt.axis('off')\n",
    "plt.show()\n",
    "# fig.savefig(\"word1.png\", dpi=900)"
   ]
  },
  {
   "cell_type": "markdown",
   "metadata": {},
   "source": [
    "## BOW normalized"
   ]
  },
  {
   "cell_type": "code",
   "execution_count": null,
   "metadata": {},
   "outputs": [],
   "source": [
    "sorted_vocab = {k: v for k, v in sorted(cv.vocabulary_.items(), key=lambda item: item[1])}\n",
    "frequencies = np.asarray(bow_X_norm.sum(axis=0)).flatten()\n",
    "word_freq = {k:v for k, v in zip(sorted_vocab.keys(), frequencies)}\n",
    "\n",
    "wordcloud = WordCloud(\n",
    "    background_color='white',\n",
    "    max_words=100,\n",
    "    max_font_size=50, \n",
    "    random_state=42\n",
    ").generate_from_frequencies(word_freq)\n",
    "\n",
    "fig = plt.figure(figsize=(13, 13))\n",
    "plt.imshow(wordcloud)\n",
    "plt.axis('off')\n",
    "plt.show()\n",
    "# fig.savefig(\"word1.png\", dpi=900)"
   ]
  },
  {
   "cell_type": "markdown",
   "metadata": {},
   "source": [
    "## TF-IDF"
   ]
  },
  {
   "cell_type": "code",
   "execution_count": null,
   "metadata": {},
   "outputs": [],
   "source": [
    "sorted_vocab = {k: v for k, v in sorted(tv.vocabulary_.items(), key=lambda item: item[1])}\n",
    "frequencies = np.asarray(tfidf_X.sum(axis=0)).flatten()\n",
    "word_freq = {k:v for k, v in zip(sorted_vocab.keys(), frequencies)}\n",
    "\n",
    "wordcloud = WordCloud(\n",
    "    background_color='white',\n",
    "    max_words=100,\n",
    "    max_font_size=50, \n",
    "    random_state=42\n",
    ").generate_from_frequencies(word_freq)\n",
    "\n",
    "fig = plt.figure(figsize=(13, 13))\n",
    "plt.imshow(wordcloud)\n",
    "plt.axis('off')\n",
    "plt.show()\n",
    "# fig.savefig(\"word1.png\", dpi=900)"
   ]
  },
  {
   "cell_type": "markdown",
   "metadata": {},
   "source": [
    "# Keyword extraction algorithms"
   ]
  },
  {
   "cell_type": "markdown",
   "metadata": {},
   "source": [
    "## Preprocessing (keep sentence structure)"
   ]
  },
  {
   "cell_type": "code",
   "execution_count": null,
   "metadata": {},
   "outputs": [],
   "source": [
    "sentences = df['text'].apply(lambda x: sent_tokenize(x, language='spanish')).explode()\n",
    "sentences"
   ]
  },
  {
   "cell_type": "code",
   "execution_count": null,
   "metadata": {},
   "outputs": [],
   "source": [
    "# Word count per sentence\n",
    "sentences.str.split().apply(lambda x: len(x)).describe()"
   ]
  },
  {
   "cell_type": "code",
   "execution_count": null,
   "metadata": {},
   "outputs": [],
   "source": [
    "prep = CorpusPreprocess(\n",
    "    language='spanish', \n",
    "    stop_words=spa_stopwords,\n",
    "    lowercase=True,\n",
    "    strip_accents=True,\n",
    "    strip_numbers=True,\n",
    "    strip_punctuation=punctuation,\n",
    "#   stemmer=SnowballStemmer('spanish'), \n",
    "    max_df=0.9, \n",
    "    min_df=2\n",
    ")\n",
    "\n",
    "sentences_prep = pd.Series(prep.fit_transform(sentences, tokenize=False), index=sentences.index)"
   ]
  },
  {
   "cell_type": "code",
   "execution_count": null,
   "metadata": {
    "scrolled": true
   },
   "outputs": [],
   "source": [
    "sentences_prep"
   ]
  },
  {
   "cell_type": "markdown",
   "metadata": {},
   "source": [
    "# Rake and TextRank"
   ]
  },
  {
   "cell_type": "code",
   "execution_count": null,
   "metadata": {},
   "outputs": [],
   "source": [
    "for ix in sentences_prep.index.unique():\n",
    "    # RAKE\n",
    "    rake = Rake(language=\"spanish\")\n",
    "    rake.extract_keywords_from_sentences(sentences_prep[ix])\n",
    "    rake_out = rake.get_ranked_phrases()\n",
    "    print(\"\\nRAKE OUTPUT:\\n> \", \"\\n> \".join(rake_out[:10]))\n",
    "    \n",
    "    # TextRankV1\n",
    "    textrankv1_out = keywords(\" \".join(sentences_prep[ix]), split=True)\n",
    "    print(\"\\nTEXTRANKV1 OUTPUT:\\n> \", \"\\n> \".join(textrankv1_out[:10]))\n",
    "    \n",
    "    # TextRankV2\n",
    "    textrankv2_out = summarize(\". \".join(sentences_prep[ix]), split=True)\n",
    "    print(\"\\nTEXTRANKV2 OUTPUT:\\n> \", \"\\n> \".join(textrankv2_out[:10]))\n",
    "    break"
   ]
  },
  {
   "cell_type": "markdown",
   "metadata": {},
   "source": [
    "# Look into \n",
    "https://boudinfl.github.io/pke/build/html/index.html"
   ]
  }
 ],
 "metadata": {
  "kernelspec": {
   "display_name": "Data Science",
   "language": "python",
   "name": "dsci"
  },
  "language_info": {
   "codemirror_mode": {
    "name": "ipython",
    "version": 3
   },
   "file_extension": ".py",
   "mimetype": "text/x-python",
   "name": "python",
   "nbconvert_exporter": "python",
   "pygments_lexer": "ipython3",
   "version": "3.7.7"
  }
 },
 "nbformat": 4,
 "nbformat_minor": 4
}
