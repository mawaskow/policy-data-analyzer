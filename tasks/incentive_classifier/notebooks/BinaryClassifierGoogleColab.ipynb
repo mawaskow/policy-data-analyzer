{
  "nbformat": 4,
  "nbformat_minor": 0,
  "metadata": {
    "accelerator": "GPU",
    "colab": {
      "name": "BinaryClassifierGoogleColab.ipynb",
      "provenance": [],
      "collapsed_sections": [],
      "machine_shape": "hm"
    },
    "kernelspec": {
      "display_name": "wri-env",
      "language": "python",
      "name": "wri-env"
    },
    "language_info": {
      "codemirror_mode": {
        "name": "ipython",
        "version": 3
      },
      "file_extension": ".py",
      "mimetype": "text/x-python",
      "name": "python",
      "nbconvert_exporter": "python",
      "pygments_lexer": "ipython3",
      "version": "3.8.5"
    },
    "widgets": {
      "application/vnd.jupyter.widget-state+json": {
        "1d53f6110d484945a3fbe25439e9f626": {
          "model_module": "@jupyter-widgets/controls",
          "model_name": "HBoxModel",
          "state": {
            "_view_name": "HBoxView",
            "_dom_classes": [],
            "_model_name": "HBoxModel",
            "_view_module": "@jupyter-widgets/controls",
            "_model_module_version": "1.5.0",
            "_view_count": null,
            "_view_module_version": "1.5.0",
            "box_style": "",
            "layout": "IPY_MODEL_a1f2504c7da84c378f722b26b910a511",
            "_model_module": "@jupyter-widgets/controls",
            "children": [
              "IPY_MODEL_785e2cd29a384399bc7151284e7e6107",
              "IPY_MODEL_c0aae45f623f4758a16bcd7dece4611f"
            ]
          }
        },
        "a1f2504c7da84c378f722b26b910a511": {
          "model_module": "@jupyter-widgets/base",
          "model_name": "LayoutModel",
          "state": {
            "_view_name": "LayoutView",
            "grid_template_rows": null,
            "right": null,
            "justify_content": null,
            "_view_module": "@jupyter-widgets/base",
            "overflow": null,
            "_model_module_version": "1.2.0",
            "_view_count": null,
            "flex_flow": null,
            "width": null,
            "min_width": null,
            "border": null,
            "align_items": null,
            "bottom": null,
            "_model_module": "@jupyter-widgets/base",
            "top": null,
            "grid_column": null,
            "overflow_y": null,
            "overflow_x": null,
            "grid_auto_flow": null,
            "grid_area": null,
            "grid_template_columns": null,
            "flex": null,
            "_model_name": "LayoutModel",
            "justify_items": null,
            "grid_row": null,
            "max_height": null,
            "align_content": null,
            "visibility": null,
            "align_self": null,
            "height": null,
            "min_height": null,
            "padding": null,
            "grid_auto_rows": null,
            "grid_gap": null,
            "max_width": null,
            "order": null,
            "_view_module_version": "1.2.0",
            "grid_template_areas": null,
            "object_position": null,
            "object_fit": null,
            "grid_auto_columns": null,
            "margin": null,
            "display": null,
            "left": null
          }
        },
        "785e2cd29a384399bc7151284e7e6107": {
          "model_module": "@jupyter-widgets/controls",
          "model_name": "FloatProgressModel",
          "state": {
            "_view_name": "ProgressView",
            "style": "IPY_MODEL_f2d0d43865eb4179afa0f989b0a3da5e",
            "_dom_classes": [],
            "description": "Epoch: 100%",
            "_model_name": "FloatProgressModel",
            "bar_style": "success",
            "max": 4,
            "_view_module": "@jupyter-widgets/controls",
            "_model_module_version": "1.5.0",
            "value": 4,
            "_view_count": null,
            "_view_module_version": "1.5.0",
            "orientation": "horizontal",
            "min": 0,
            "description_tooltip": null,
            "_model_module": "@jupyter-widgets/controls",
            "layout": "IPY_MODEL_90044f208d334492b79021f9c5ce2be7"
          }
        },
        "c0aae45f623f4758a16bcd7dece4611f": {
          "model_module": "@jupyter-widgets/controls",
          "model_name": "HTMLModel",
          "state": {
            "_view_name": "HTMLView",
            "style": "IPY_MODEL_cb91f8bf4c184cde9cce5274bc392f31",
            "_dom_classes": [],
            "description": "",
            "_model_name": "HTMLModel",
            "placeholder": "​",
            "_view_module": "@jupyter-widgets/controls",
            "_model_module_version": "1.5.0",
            "value": " 4/4 [00:32&lt;00:00,  8.18s/it]",
            "_view_count": null,
            "_view_module_version": "1.5.0",
            "description_tooltip": null,
            "_model_module": "@jupyter-widgets/controls",
            "layout": "IPY_MODEL_857910fb595541b6af9042494fb0455f"
          }
        },
        "f2d0d43865eb4179afa0f989b0a3da5e": {
          "model_module": "@jupyter-widgets/controls",
          "model_name": "ProgressStyleModel",
          "state": {
            "_view_name": "StyleView",
            "_model_name": "ProgressStyleModel",
            "description_width": "initial",
            "_view_module": "@jupyter-widgets/base",
            "_model_module_version": "1.5.0",
            "_view_count": null,
            "_view_module_version": "1.2.0",
            "bar_color": null,
            "_model_module": "@jupyter-widgets/controls"
          }
        },
        "90044f208d334492b79021f9c5ce2be7": {
          "model_module": "@jupyter-widgets/base",
          "model_name": "LayoutModel",
          "state": {
            "_view_name": "LayoutView",
            "grid_template_rows": null,
            "right": null,
            "justify_content": null,
            "_view_module": "@jupyter-widgets/base",
            "overflow": null,
            "_model_module_version": "1.2.0",
            "_view_count": null,
            "flex_flow": null,
            "width": null,
            "min_width": null,
            "border": null,
            "align_items": null,
            "bottom": null,
            "_model_module": "@jupyter-widgets/base",
            "top": null,
            "grid_column": null,
            "overflow_y": null,
            "overflow_x": null,
            "grid_auto_flow": null,
            "grid_area": null,
            "grid_template_columns": null,
            "flex": null,
            "_model_name": "LayoutModel",
            "justify_items": null,
            "grid_row": null,
            "max_height": null,
            "align_content": null,
            "visibility": null,
            "align_self": null,
            "height": null,
            "min_height": null,
            "padding": null,
            "grid_auto_rows": null,
            "grid_gap": null,
            "max_width": null,
            "order": null,
            "_view_module_version": "1.2.0",
            "grid_template_areas": null,
            "object_position": null,
            "object_fit": null,
            "grid_auto_columns": null,
            "margin": null,
            "display": null,
            "left": null
          }
        },
        "cb91f8bf4c184cde9cce5274bc392f31": {
          "model_module": "@jupyter-widgets/controls",
          "model_name": "DescriptionStyleModel",
          "state": {
            "_view_name": "StyleView",
            "_model_name": "DescriptionStyleModel",
            "description_width": "",
            "_view_module": "@jupyter-widgets/base",
            "_model_module_version": "1.5.0",
            "_view_count": null,
            "_view_module_version": "1.2.0",
            "_model_module": "@jupyter-widgets/controls"
          }
        },
        "857910fb595541b6af9042494fb0455f": {
          "model_module": "@jupyter-widgets/base",
          "model_name": "LayoutModel",
          "state": {
            "_view_name": "LayoutView",
            "grid_template_rows": null,
            "right": null,
            "justify_content": null,
            "_view_module": "@jupyter-widgets/base",
            "overflow": null,
            "_model_module_version": "1.2.0",
            "_view_count": null,
            "flex_flow": null,
            "width": null,
            "min_width": null,
            "border": null,
            "align_items": null,
            "bottom": null,
            "_model_module": "@jupyter-widgets/base",
            "top": null,
            "grid_column": null,
            "overflow_y": null,
            "overflow_x": null,
            "grid_auto_flow": null,
            "grid_area": null,
            "grid_template_columns": null,
            "flex": null,
            "_model_name": "LayoutModel",
            "justify_items": null,
            "grid_row": null,
            "max_height": null,
            "align_content": null,
            "visibility": null,
            "align_self": null,
            "height": null,
            "min_height": null,
            "padding": null,
            "grid_auto_rows": null,
            "grid_gap": null,
            "max_width": null,
            "order": null,
            "_view_module_version": "1.2.0",
            "grid_template_areas": null,
            "object_position": null,
            "object_fit": null,
            "grid_auto_columns": null,
            "margin": null,
            "display": null,
            "left": null
          }
        },
        "13fc0cb05e194e53861480c81ca3432f": {
          "model_module": "@jupyter-widgets/controls",
          "model_name": "HBoxModel",
          "state": {
            "_view_name": "HBoxView",
            "_dom_classes": [],
            "_model_name": "HBoxModel",
            "_view_module": "@jupyter-widgets/controls",
            "_model_module_version": "1.5.0",
            "_view_count": null,
            "_view_module_version": "1.5.0",
            "box_style": "",
            "layout": "IPY_MODEL_513810be0b1946b2aa06f020548c6dc0",
            "_model_module": "@jupyter-widgets/controls",
            "children": [
              "IPY_MODEL_c454d0505cf14a4082533d4bd2d436e2",
              "IPY_MODEL_b2dede05ef4642caa414c93d95016114"
            ]
          }
        },
        "513810be0b1946b2aa06f020548c6dc0": {
          "model_module": "@jupyter-widgets/base",
          "model_name": "LayoutModel",
          "state": {
            "_view_name": "LayoutView",
            "grid_template_rows": null,
            "right": null,
            "justify_content": null,
            "_view_module": "@jupyter-widgets/base",
            "overflow": null,
            "_model_module_version": "1.2.0",
            "_view_count": null,
            "flex_flow": null,
            "width": null,
            "min_width": null,
            "border": null,
            "align_items": null,
            "bottom": null,
            "_model_module": "@jupyter-widgets/base",
            "top": null,
            "grid_column": null,
            "overflow_y": null,
            "overflow_x": null,
            "grid_auto_flow": null,
            "grid_area": null,
            "grid_template_columns": null,
            "flex": null,
            "_model_name": "LayoutModel",
            "justify_items": null,
            "grid_row": null,
            "max_height": null,
            "align_content": null,
            "visibility": null,
            "align_self": null,
            "height": null,
            "min_height": null,
            "padding": null,
            "grid_auto_rows": null,
            "grid_gap": null,
            "max_width": null,
            "order": null,
            "_view_module_version": "1.2.0",
            "grid_template_areas": null,
            "object_position": null,
            "object_fit": null,
            "grid_auto_columns": null,
            "margin": null,
            "display": null,
            "left": null
          }
        },
        "c454d0505cf14a4082533d4bd2d436e2": {
          "model_module": "@jupyter-widgets/controls",
          "model_name": "FloatProgressModel",
          "state": {
            "_view_name": "ProgressView",
            "style": "IPY_MODEL_1ade239954084a50bceeaaa196de97fa",
            "_dom_classes": [],
            "description": "Iteration: 100%",
            "_model_name": "FloatProgressModel",
            "bar_style": "success",
            "max": 47,
            "_view_module": "@jupyter-widgets/controls",
            "_model_module_version": "1.5.0",
            "value": 47,
            "_view_count": null,
            "_view_module_version": "1.5.0",
            "orientation": "horizontal",
            "min": 0,
            "description_tooltip": null,
            "_model_module": "@jupyter-widgets/controls",
            "layout": "IPY_MODEL_9cbcfa41ed6c4ae9aacf56e66b4703ae"
          }
        },
        "b2dede05ef4642caa414c93d95016114": {
          "model_module": "@jupyter-widgets/controls",
          "model_name": "HTMLModel",
          "state": {
            "_view_name": "HTMLView",
            "style": "IPY_MODEL_0a617ea1857d4aff8dac6f3d9b17b425",
            "_dom_classes": [],
            "description": "",
            "_model_name": "HTMLModel",
            "placeholder": "​",
            "_view_module": "@jupyter-widgets/controls",
            "_model_module_version": "1.5.0",
            "value": " 47/47 [00:06&lt;00:00,  7.57it/s]",
            "_view_count": null,
            "_view_module_version": "1.5.0",
            "description_tooltip": null,
            "_model_module": "@jupyter-widgets/controls",
            "layout": "IPY_MODEL_c831fe48ba1f4f2387e6f806333d39e4"
          }
        },
        "1ade239954084a50bceeaaa196de97fa": {
          "model_module": "@jupyter-widgets/controls",
          "model_name": "ProgressStyleModel",
          "state": {
            "_view_name": "StyleView",
            "_model_name": "ProgressStyleModel",
            "description_width": "initial",
            "_view_module": "@jupyter-widgets/base",
            "_model_module_version": "1.5.0",
            "_view_count": null,
            "_view_module_version": "1.2.0",
            "bar_color": null,
            "_model_module": "@jupyter-widgets/controls"
          }
        },
        "9cbcfa41ed6c4ae9aacf56e66b4703ae": {
          "model_module": "@jupyter-widgets/base",
          "model_name": "LayoutModel",
          "state": {
            "_view_name": "LayoutView",
            "grid_template_rows": null,
            "right": null,
            "justify_content": null,
            "_view_module": "@jupyter-widgets/base",
            "overflow": null,
            "_model_module_version": "1.2.0",
            "_view_count": null,
            "flex_flow": null,
            "width": null,
            "min_width": null,
            "border": null,
            "align_items": null,
            "bottom": null,
            "_model_module": "@jupyter-widgets/base",
            "top": null,
            "grid_column": null,
            "overflow_y": null,
            "overflow_x": null,
            "grid_auto_flow": null,
            "grid_area": null,
            "grid_template_columns": null,
            "flex": null,
            "_model_name": "LayoutModel",
            "justify_items": null,
            "grid_row": null,
            "max_height": null,
            "align_content": null,
            "visibility": null,
            "align_self": null,
            "height": null,
            "min_height": null,
            "padding": null,
            "grid_auto_rows": null,
            "grid_gap": null,
            "max_width": null,
            "order": null,
            "_view_module_version": "1.2.0",
            "grid_template_areas": null,
            "object_position": null,
            "object_fit": null,
            "grid_auto_columns": null,
            "margin": null,
            "display": null,
            "left": null
          }
        },
        "0a617ea1857d4aff8dac6f3d9b17b425": {
          "model_module": "@jupyter-widgets/controls",
          "model_name": "DescriptionStyleModel",
          "state": {
            "_view_name": "StyleView",
            "_model_name": "DescriptionStyleModel",
            "description_width": "",
            "_view_module": "@jupyter-widgets/base",
            "_model_module_version": "1.5.0",
            "_view_count": null,
            "_view_module_version": "1.2.0",
            "_model_module": "@jupyter-widgets/controls"
          }
        },
        "c831fe48ba1f4f2387e6f806333d39e4": {
          "model_module": "@jupyter-widgets/base",
          "model_name": "LayoutModel",
          "state": {
            "_view_name": "LayoutView",
            "grid_template_rows": null,
            "right": null,
            "justify_content": null,
            "_view_module": "@jupyter-widgets/base",
            "overflow": null,
            "_model_module_version": "1.2.0",
            "_view_count": null,
            "flex_flow": null,
            "width": null,
            "min_width": null,
            "border": null,
            "align_items": null,
            "bottom": null,
            "_model_module": "@jupyter-widgets/base",
            "top": null,
            "grid_column": null,
            "overflow_y": null,
            "overflow_x": null,
            "grid_auto_flow": null,
            "grid_area": null,
            "grid_template_columns": null,
            "flex": null,
            "_model_name": "LayoutModel",
            "justify_items": null,
            "grid_row": null,
            "max_height": null,
            "align_content": null,
            "visibility": null,
            "align_self": null,
            "height": null,
            "min_height": null,
            "padding": null,
            "grid_auto_rows": null,
            "grid_gap": null,
            "max_width": null,
            "order": null,
            "_view_module_version": "1.2.0",
            "grid_template_areas": null,
            "object_position": null,
            "object_fit": null,
            "grid_auto_columns": null,
            "margin": null,
            "display": null,
            "left": null
          }
        },
        "8335bcb3635a4f4c85b6b4ce4388abcc": {
          "model_module": "@jupyter-widgets/controls",
          "model_name": "HBoxModel",
          "state": {
            "_view_name": "HBoxView",
            "_dom_classes": [],
            "_model_name": "HBoxModel",
            "_view_module": "@jupyter-widgets/controls",
            "_model_module_version": "1.5.0",
            "_view_count": null,
            "_view_module_version": "1.5.0",
            "box_style": "",
            "layout": "IPY_MODEL_71e928e6a9514d328c9e4ebddecbdf33",
            "_model_module": "@jupyter-widgets/controls",
            "children": [
              "IPY_MODEL_d7e6dc59d8814b318a7ec2826b16f0a9",
              "IPY_MODEL_00929f1f96374ffbab123824d23db692"
            ]
          }
        },
        "71e928e6a9514d328c9e4ebddecbdf33": {
          "model_module": "@jupyter-widgets/base",
          "model_name": "LayoutModel",
          "state": {
            "_view_name": "LayoutView",
            "grid_template_rows": null,
            "right": null,
            "justify_content": null,
            "_view_module": "@jupyter-widgets/base",
            "overflow": null,
            "_model_module_version": "1.2.0",
            "_view_count": null,
            "flex_flow": null,
            "width": null,
            "min_width": null,
            "border": null,
            "align_items": null,
            "bottom": null,
            "_model_module": "@jupyter-widgets/base",
            "top": null,
            "grid_column": null,
            "overflow_y": null,
            "overflow_x": null,
            "grid_auto_flow": null,
            "grid_area": null,
            "grid_template_columns": null,
            "flex": null,
            "_model_name": "LayoutModel",
            "justify_items": null,
            "grid_row": null,
            "max_height": null,
            "align_content": null,
            "visibility": null,
            "align_self": null,
            "height": null,
            "min_height": null,
            "padding": null,
            "grid_auto_rows": null,
            "grid_gap": null,
            "max_width": null,
            "order": null,
            "_view_module_version": "1.2.0",
            "grid_template_areas": null,
            "object_position": null,
            "object_fit": null,
            "grid_auto_columns": null,
            "margin": null,
            "display": null,
            "left": null
          }
        },
        "d7e6dc59d8814b318a7ec2826b16f0a9": {
          "model_module": "@jupyter-widgets/controls",
          "model_name": "FloatProgressModel",
          "state": {
            "_view_name": "ProgressView",
            "style": "IPY_MODEL_33cbc3a6c52f43f9b9a02f883563fdfc",
            "_dom_classes": [],
            "description": "Iteration: 100%",
            "_model_name": "FloatProgressModel",
            "bar_style": "success",
            "max": 47,
            "_view_module": "@jupyter-widgets/controls",
            "_model_module_version": "1.5.0",
            "value": 47,
            "_view_count": null,
            "_view_module_version": "1.5.0",
            "orientation": "horizontal",
            "min": 0,
            "description_tooltip": null,
            "_model_module": "@jupyter-widgets/controls",
            "layout": "IPY_MODEL_b8b0f06c94614e81a956e4dc2373db26"
          }
        },
        "00929f1f96374ffbab123824d23db692": {
          "model_module": "@jupyter-widgets/controls",
          "model_name": "HTMLModel",
          "state": {
            "_view_name": "HTMLView",
            "style": "IPY_MODEL_28e1a4f17ca04a6eb94166fd907209ff",
            "_dom_classes": [],
            "description": "",
            "_model_name": "HTMLModel",
            "placeholder": "​",
            "_view_module": "@jupyter-widgets/controls",
            "_model_module_version": "1.5.0",
            "value": " 47/47 [00:57&lt;00:00,  1.23s/it]",
            "_view_count": null,
            "_view_module_version": "1.5.0",
            "description_tooltip": null,
            "_model_module": "@jupyter-widgets/controls",
            "layout": "IPY_MODEL_24264acd3702496f982c6aeaa7e5fdd5"
          }
        },
        "33cbc3a6c52f43f9b9a02f883563fdfc": {
          "model_module": "@jupyter-widgets/controls",
          "model_name": "ProgressStyleModel",
          "state": {
            "_view_name": "StyleView",
            "_model_name": "ProgressStyleModel",
            "description_width": "initial",
            "_view_module": "@jupyter-widgets/base",
            "_model_module_version": "1.5.0",
            "_view_count": null,
            "_view_module_version": "1.2.0",
            "bar_color": null,
            "_model_module": "@jupyter-widgets/controls"
          }
        },
        "b8b0f06c94614e81a956e4dc2373db26": {
          "model_module": "@jupyter-widgets/base",
          "model_name": "LayoutModel",
          "state": {
            "_view_name": "LayoutView",
            "grid_template_rows": null,
            "right": null,
            "justify_content": null,
            "_view_module": "@jupyter-widgets/base",
            "overflow": null,
            "_model_module_version": "1.2.0",
            "_view_count": null,
            "flex_flow": null,
            "width": null,
            "min_width": null,
            "border": null,
            "align_items": null,
            "bottom": null,
            "_model_module": "@jupyter-widgets/base",
            "top": null,
            "grid_column": null,
            "overflow_y": null,
            "overflow_x": null,
            "grid_auto_flow": null,
            "grid_area": null,
            "grid_template_columns": null,
            "flex": null,
            "_model_name": "LayoutModel",
            "justify_items": null,
            "grid_row": null,
            "max_height": null,
            "align_content": null,
            "visibility": null,
            "align_self": null,
            "height": null,
            "min_height": null,
            "padding": null,
            "grid_auto_rows": null,
            "grid_gap": null,
            "max_width": null,
            "order": null,
            "_view_module_version": "1.2.0",
            "grid_template_areas": null,
            "object_position": null,
            "object_fit": null,
            "grid_auto_columns": null,
            "margin": null,
            "display": null,
            "left": null
          }
        },
        "28e1a4f17ca04a6eb94166fd907209ff": {
          "model_module": "@jupyter-widgets/controls",
          "model_name": "DescriptionStyleModel",
          "state": {
            "_view_name": "StyleView",
            "_model_name": "DescriptionStyleModel",
            "description_width": "",
            "_view_module": "@jupyter-widgets/base",
            "_model_module_version": "1.5.0",
            "_view_count": null,
            "_view_module_version": "1.2.0",
            "_model_module": "@jupyter-widgets/controls"
          }
        },
        "24264acd3702496f982c6aeaa7e5fdd5": {
          "model_module": "@jupyter-widgets/base",
          "model_name": "LayoutModel",
          "state": {
            "_view_name": "LayoutView",
            "grid_template_rows": null,
            "right": null,
            "justify_content": null,
            "_view_module": "@jupyter-widgets/base",
            "overflow": null,
            "_model_module_version": "1.2.0",
            "_view_count": null,
            "flex_flow": null,
            "width": null,
            "min_width": null,
            "border": null,
            "align_items": null,
            "bottom": null,
            "_model_module": "@jupyter-widgets/base",
            "top": null,
            "grid_column": null,
            "overflow_y": null,
            "overflow_x": null,
            "grid_auto_flow": null,
            "grid_area": null,
            "grid_template_columns": null,
            "flex": null,
            "_model_name": "LayoutModel",
            "justify_items": null,
            "grid_row": null,
            "max_height": null,
            "align_content": null,
            "visibility": null,
            "align_self": null,
            "height": null,
            "min_height": null,
            "padding": null,
            "grid_auto_rows": null,
            "grid_gap": null,
            "max_width": null,
            "order": null,
            "_view_module_version": "1.2.0",
            "grid_template_areas": null,
            "object_position": null,
            "object_fit": null,
            "grid_auto_columns": null,
            "margin": null,
            "display": null,
            "left": null
          }
        },
        "a65ce304114e4d39acce89be673e77ad": {
          "model_module": "@jupyter-widgets/controls",
          "model_name": "HBoxModel",
          "state": {
            "_view_name": "HBoxView",
            "_dom_classes": [],
            "_model_name": "HBoxModel",
            "_view_module": "@jupyter-widgets/controls",
            "_model_module_version": "1.5.0",
            "_view_count": null,
            "_view_module_version": "1.5.0",
            "box_style": "",
            "layout": "IPY_MODEL_da1db7a2eaab4794b612dc9975f341f4",
            "_model_module": "@jupyter-widgets/controls",
            "children": [
              "IPY_MODEL_d589ee47e6724124ad96c1a5a6c60b1f",
              "IPY_MODEL_46c44d58d35d4d01acfb420b93f40743"
            ]
          }
        },
        "da1db7a2eaab4794b612dc9975f341f4": {
          "model_module": "@jupyter-widgets/base",
          "model_name": "LayoutModel",
          "state": {
            "_view_name": "LayoutView",
            "grid_template_rows": null,
            "right": null,
            "justify_content": null,
            "_view_module": "@jupyter-widgets/base",
            "overflow": null,
            "_model_module_version": "1.2.0",
            "_view_count": null,
            "flex_flow": null,
            "width": null,
            "min_width": null,
            "border": null,
            "align_items": null,
            "bottom": null,
            "_model_module": "@jupyter-widgets/base",
            "top": null,
            "grid_column": null,
            "overflow_y": null,
            "overflow_x": null,
            "grid_auto_flow": null,
            "grid_area": null,
            "grid_template_columns": null,
            "flex": null,
            "_model_name": "LayoutModel",
            "justify_items": null,
            "grid_row": null,
            "max_height": null,
            "align_content": null,
            "visibility": null,
            "align_self": null,
            "height": null,
            "min_height": null,
            "padding": null,
            "grid_auto_rows": null,
            "grid_gap": null,
            "max_width": null,
            "order": null,
            "_view_module_version": "1.2.0",
            "grid_template_areas": null,
            "object_position": null,
            "object_fit": null,
            "grid_auto_columns": null,
            "margin": null,
            "display": null,
            "left": null
          }
        },
        "d589ee47e6724124ad96c1a5a6c60b1f": {
          "model_module": "@jupyter-widgets/controls",
          "model_name": "FloatProgressModel",
          "state": {
            "_view_name": "ProgressView",
            "style": "IPY_MODEL_249bcb43d279451786f3b129f35257f8",
            "_dom_classes": [],
            "description": "Iteration: 100%",
            "_model_name": "FloatProgressModel",
            "bar_style": "success",
            "max": 47,
            "_view_module": "@jupyter-widgets/controls",
            "_model_module_version": "1.5.0",
            "value": 47,
            "_view_count": null,
            "_view_module_version": "1.5.0",
            "orientation": "horizontal",
            "min": 0,
            "description_tooltip": null,
            "_model_module": "@jupyter-widgets/controls",
            "layout": "IPY_MODEL_cbdc54bdf9d044d79d292cf6bc04d1ef"
          }
        },
        "46c44d58d35d4d01acfb420b93f40743": {
          "model_module": "@jupyter-widgets/controls",
          "model_name": "HTMLModel",
          "state": {
            "_view_name": "HTMLView",
            "style": "IPY_MODEL_2580dce95bfe43f1841c8f1122f9b505",
            "_dom_classes": [],
            "description": "",
            "_model_name": "HTMLModel",
            "placeholder": "​",
            "_view_module": "@jupyter-widgets/controls",
            "_model_module_version": "1.5.0",
            "value": " 47/47 [00:51&lt;00:00,  1.09s/it]",
            "_view_count": null,
            "_view_module_version": "1.5.0",
            "description_tooltip": null,
            "_model_module": "@jupyter-widgets/controls",
            "layout": "IPY_MODEL_c875c258cb70461a81e7061c6acf97fc"
          }
        },
        "249bcb43d279451786f3b129f35257f8": {
          "model_module": "@jupyter-widgets/controls",
          "model_name": "ProgressStyleModel",
          "state": {
            "_view_name": "StyleView",
            "_model_name": "ProgressStyleModel",
            "description_width": "initial",
            "_view_module": "@jupyter-widgets/base",
            "_model_module_version": "1.5.0",
            "_view_count": null,
            "_view_module_version": "1.2.0",
            "bar_color": null,
            "_model_module": "@jupyter-widgets/controls"
          }
        },
        "cbdc54bdf9d044d79d292cf6bc04d1ef": {
          "model_module": "@jupyter-widgets/base",
          "model_name": "LayoutModel",
          "state": {
            "_view_name": "LayoutView",
            "grid_template_rows": null,
            "right": null,
            "justify_content": null,
            "_view_module": "@jupyter-widgets/base",
            "overflow": null,
            "_model_module_version": "1.2.0",
            "_view_count": null,
            "flex_flow": null,
            "width": null,
            "min_width": null,
            "border": null,
            "align_items": null,
            "bottom": null,
            "_model_module": "@jupyter-widgets/base",
            "top": null,
            "grid_column": null,
            "overflow_y": null,
            "overflow_x": null,
            "grid_auto_flow": null,
            "grid_area": null,
            "grid_template_columns": null,
            "flex": null,
            "_model_name": "LayoutModel",
            "justify_items": null,
            "grid_row": null,
            "max_height": null,
            "align_content": null,
            "visibility": null,
            "align_self": null,
            "height": null,
            "min_height": null,
            "padding": null,
            "grid_auto_rows": null,
            "grid_gap": null,
            "max_width": null,
            "order": null,
            "_view_module_version": "1.2.0",
            "grid_template_areas": null,
            "object_position": null,
            "object_fit": null,
            "grid_auto_columns": null,
            "margin": null,
            "display": null,
            "left": null
          }
        },
        "2580dce95bfe43f1841c8f1122f9b505": {
          "model_module": "@jupyter-widgets/controls",
          "model_name": "DescriptionStyleModel",
          "state": {
            "_view_name": "StyleView",
            "_model_name": "DescriptionStyleModel",
            "description_width": "",
            "_view_module": "@jupyter-widgets/base",
            "_model_module_version": "1.5.0",
            "_view_count": null,
            "_view_module_version": "1.2.0",
            "_model_module": "@jupyter-widgets/controls"
          }
        },
        "c875c258cb70461a81e7061c6acf97fc": {
          "model_module": "@jupyter-widgets/base",
          "model_name": "LayoutModel",
          "state": {
            "_view_name": "LayoutView",
            "grid_template_rows": null,
            "right": null,
            "justify_content": null,
            "_view_module": "@jupyter-widgets/base",
            "overflow": null,
            "_model_module_version": "1.2.0",
            "_view_count": null,
            "flex_flow": null,
            "width": null,
            "min_width": null,
            "border": null,
            "align_items": null,
            "bottom": null,
            "_model_module": "@jupyter-widgets/base",
            "top": null,
            "grid_column": null,
            "overflow_y": null,
            "overflow_x": null,
            "grid_auto_flow": null,
            "grid_area": null,
            "grid_template_columns": null,
            "flex": null,
            "_model_name": "LayoutModel",
            "justify_items": null,
            "grid_row": null,
            "max_height": null,
            "align_content": null,
            "visibility": null,
            "align_self": null,
            "height": null,
            "min_height": null,
            "padding": null,
            "grid_auto_rows": null,
            "grid_gap": null,
            "max_width": null,
            "order": null,
            "_view_module_version": "1.2.0",
            "grid_template_areas": null,
            "object_position": null,
            "object_fit": null,
            "grid_auto_columns": null,
            "margin": null,
            "display": null,
            "left": null
          }
        },
        "75468da3679c4f9580cc72550928e33c": {
          "model_module": "@jupyter-widgets/controls",
          "model_name": "HBoxModel",
          "state": {
            "_view_name": "HBoxView",
            "_dom_classes": [],
            "_model_name": "HBoxModel",
            "_view_module": "@jupyter-widgets/controls",
            "_model_module_version": "1.5.0",
            "_view_count": null,
            "_view_module_version": "1.5.0",
            "box_style": "",
            "layout": "IPY_MODEL_54766af9453846d6a1604e5f6a8396b7",
            "_model_module": "@jupyter-widgets/controls",
            "children": [
              "IPY_MODEL_13ea715acf284850ba89fa4eccd78c78",
              "IPY_MODEL_12bbc184f0404a7f9391bdcccec1ac6a"
            ]
          }
        },
        "54766af9453846d6a1604e5f6a8396b7": {
          "model_module": "@jupyter-widgets/base",
          "model_name": "LayoutModel",
          "state": {
            "_view_name": "LayoutView",
            "grid_template_rows": null,
            "right": null,
            "justify_content": null,
            "_view_module": "@jupyter-widgets/base",
            "overflow": null,
            "_model_module_version": "1.2.0",
            "_view_count": null,
            "flex_flow": null,
            "width": null,
            "min_width": null,
            "border": null,
            "align_items": null,
            "bottom": null,
            "_model_module": "@jupyter-widgets/base",
            "top": null,
            "grid_column": null,
            "overflow_y": null,
            "overflow_x": null,
            "grid_auto_flow": null,
            "grid_area": null,
            "grid_template_columns": null,
            "flex": null,
            "_model_name": "LayoutModel",
            "justify_items": null,
            "grid_row": null,
            "max_height": null,
            "align_content": null,
            "visibility": null,
            "align_self": null,
            "height": null,
            "min_height": null,
            "padding": null,
            "grid_auto_rows": null,
            "grid_gap": null,
            "max_width": null,
            "order": null,
            "_view_module_version": "1.2.0",
            "grid_template_areas": null,
            "object_position": null,
            "object_fit": null,
            "grid_auto_columns": null,
            "margin": null,
            "display": null,
            "left": null
          }
        },
        "13ea715acf284850ba89fa4eccd78c78": {
          "model_module": "@jupyter-widgets/controls",
          "model_name": "FloatProgressModel",
          "state": {
            "_view_name": "ProgressView",
            "style": "IPY_MODEL_760f6ebc7f4e4d54b7b8004f7312ba6b",
            "_dom_classes": [],
            "description": "Iteration: 100%",
            "_model_name": "FloatProgressModel",
            "bar_style": "success",
            "max": 47,
            "_view_module": "@jupyter-widgets/controls",
            "_model_module_version": "1.5.0",
            "value": 47,
            "_view_count": null,
            "_view_module_version": "1.5.0",
            "orientation": "horizontal",
            "min": 0,
            "description_tooltip": null,
            "_model_module": "@jupyter-widgets/controls",
            "layout": "IPY_MODEL_2b879a7978b74469a6df2e88a22f46b0"
          }
        },
        "12bbc184f0404a7f9391bdcccec1ac6a": {
          "model_module": "@jupyter-widgets/controls",
          "model_name": "HTMLModel",
          "state": {
            "_view_name": "HTMLView",
            "style": "IPY_MODEL_e2c0e66d3e00489599b3b23dcbe8b883",
            "_dom_classes": [],
            "description": "",
            "_model_name": "HTMLModel",
            "placeholder": "​",
            "_view_module": "@jupyter-widgets/controls",
            "_model_module_version": "1.5.0",
            "value": " 47/47 [00:44&lt;00:00,  1.07it/s]",
            "_view_count": null,
            "_view_module_version": "1.5.0",
            "description_tooltip": null,
            "_model_module": "@jupyter-widgets/controls",
            "layout": "IPY_MODEL_0f26fdcb0f7c44cf8d91577c4d737e01"
          }
        },
        "760f6ebc7f4e4d54b7b8004f7312ba6b": {
          "model_module": "@jupyter-widgets/controls",
          "model_name": "ProgressStyleModel",
          "state": {
            "_view_name": "StyleView",
            "_model_name": "ProgressStyleModel",
            "description_width": "initial",
            "_view_module": "@jupyter-widgets/base",
            "_model_module_version": "1.5.0",
            "_view_count": null,
            "_view_module_version": "1.2.0",
            "bar_color": null,
            "_model_module": "@jupyter-widgets/controls"
          }
        },
        "2b879a7978b74469a6df2e88a22f46b0": {
          "model_module": "@jupyter-widgets/base",
          "model_name": "LayoutModel",
          "state": {
            "_view_name": "LayoutView",
            "grid_template_rows": null,
            "right": null,
            "justify_content": null,
            "_view_module": "@jupyter-widgets/base",
            "overflow": null,
            "_model_module_version": "1.2.0",
            "_view_count": null,
            "flex_flow": null,
            "width": null,
            "min_width": null,
            "border": null,
            "align_items": null,
            "bottom": null,
            "_model_module": "@jupyter-widgets/base",
            "top": null,
            "grid_column": null,
            "overflow_y": null,
            "overflow_x": null,
            "grid_auto_flow": null,
            "grid_area": null,
            "grid_template_columns": null,
            "flex": null,
            "_model_name": "LayoutModel",
            "justify_items": null,
            "grid_row": null,
            "max_height": null,
            "align_content": null,
            "visibility": null,
            "align_self": null,
            "height": null,
            "min_height": null,
            "padding": null,
            "grid_auto_rows": null,
            "grid_gap": null,
            "max_width": null,
            "order": null,
            "_view_module_version": "1.2.0",
            "grid_template_areas": null,
            "object_position": null,
            "object_fit": null,
            "grid_auto_columns": null,
            "margin": null,
            "display": null,
            "left": null
          }
        },
        "e2c0e66d3e00489599b3b23dcbe8b883": {
          "model_module": "@jupyter-widgets/controls",
          "model_name": "DescriptionStyleModel",
          "state": {
            "_view_name": "StyleView",
            "_model_name": "DescriptionStyleModel",
            "description_width": "",
            "_view_module": "@jupyter-widgets/base",
            "_model_module_version": "1.5.0",
            "_view_count": null,
            "_view_module_version": "1.2.0",
            "_model_module": "@jupyter-widgets/controls"
          }
        },
        "0f26fdcb0f7c44cf8d91577c4d737e01": {
          "model_module": "@jupyter-widgets/base",
          "model_name": "LayoutModel",
          "state": {
            "_view_name": "LayoutView",
            "grid_template_rows": null,
            "right": null,
            "justify_content": null,
            "_view_module": "@jupyter-widgets/base",
            "overflow": null,
            "_model_module_version": "1.2.0",
            "_view_count": null,
            "flex_flow": null,
            "width": null,
            "min_width": null,
            "border": null,
            "align_items": null,
            "bottom": null,
            "_model_module": "@jupyter-widgets/base",
            "top": null,
            "grid_column": null,
            "overflow_y": null,
            "overflow_x": null,
            "grid_auto_flow": null,
            "grid_area": null,
            "grid_template_columns": null,
            "flex": null,
            "_model_name": "LayoutModel",
            "justify_items": null,
            "grid_row": null,
            "max_height": null,
            "align_content": null,
            "visibility": null,
            "align_self": null,
            "height": null,
            "min_height": null,
            "padding": null,
            "grid_auto_rows": null,
            "grid_gap": null,
            "max_width": null,
            "order": null,
            "_view_module_version": "1.2.0",
            "grid_template_areas": null,
            "object_position": null,
            "object_fit": null,
            "grid_auto_columns": null,
            "margin": null,
            "display": null,
            "left": null
          }
        }
      }
    }
  },
  "cells": [
    {
      "cell_type": "code",
      "metadata": {
        "id": "pqEZnDaKkKzF"
      },
      "source": [
        "! pip install \\\n",
        "  scprep\\\n",
        "  spacy==2.3.2 \\\n",
        "  sentence_transformers==0.4.0 \\\n",
        "  phate==1.0.4 && \\\n",
        "  python -m spacy download es_core_news_lg"
      ],
      "execution_count": null,
      "outputs": []
    },
    {
      "cell_type": "markdown",
      "metadata": {
        "id": "H41XHYlrkctL"
      },
      "source": [
        "<span style=\"color:red\"><strong>WARNING!</strong></span> Once you installed the packages in the previous cell you must restart your runtime and then import the library and load the model"
      ]
    },
    {
      "cell_type": "code",
      "metadata": {
        "colab": {
          "base_uri": "https://localhost:8080/"
        },
        "id": "RWngKIdpkPPg",
        "outputId": "9636dc48-bd02-4193-ca0d-daa6517885a6"
      },
      "source": [
        "import spacy\n",
        "if spacy.prefer_gpu():\n",
        "    print(\"Using the GPU\")\n",
        "else:\n",
        "    print(\"Using the CPU\")\n",
        "es_nlp = spacy.load('es_core_news_lg')"
      ],
      "execution_count": 1,
      "outputs": [
        {
          "output_type": "stream",
          "text": [
            "Using the GPU\n"
          ],
          "name": "stdout"
        }
      ]
    },
    {
      "cell_type": "markdown",
      "metadata": {
        "id": "55q23OCMkvD5"
      },
      "source": [
        "For development work, in case you want to update the files in your GitHub branch by rerunning the clone, you first have to empty the folder."
      ]
    },
    {
      "cell_type": "code",
      "metadata": {
        "id": "Sr1ACGUikx5K"
      },
      "source": [
        "!rm -rf policy-data-analyzer/"
      ],
      "execution_count": 56,
      "outputs": []
    },
    {
      "cell_type": "code",
      "metadata": {
        "id": "FDSRezbdkxyI",
        "colab": {
          "base_uri": "https://localhost:8080/"
        },
        "outputId": "0e480ff3-1483-4a68-d841-01991bb9b730"
      },
      "source": [
        "# Define branch to clone\n",
        "! branch_name='#49-set-up-a-binary-classifier' && \\\n",
        "  git clone --branch $branch_name https://github.com/wri-dssg/policy-data-analyzer.git"
      ],
      "execution_count": 57,
      "outputs": [
        {
          "output_type": "stream",
          "text": [
            "Cloning into 'policy-data-analyzer'...\n",
            "remote: Enumerating objects: 291, done.\u001b[K\n",
            "remote: Counting objects: 100% (291/291), done.\u001b[K\n",
            "remote: Compressing objects: 100% (205/205), done.\u001b[K\n",
            "remote: Total 3210 (delta 161), reused 212 (delta 86), pack-reused 2919\u001b[K\n",
            "Receiving objects: 100% (3210/3210), 137.38 MiB | 6.17 MiB/s, done.\n",
            "Resolving deltas: 100% (1708/1708), done.\n",
            "Checking out files: 100% (891/891), done.\n"
          ],
          "name": "stdout"
        }
      ]
    },
    {
      "cell_type": "code",
      "metadata": {
        "colab": {
          "base_uri": "https://localhost:8080/"
        },
        "id": "56PH58KwkxsS",
        "outputId": "8ce6dc1f-ea4f-49d4-b616-f46f7bcd2b30"
      },
      "source": [
        "import pandas as pd\n",
        "import sys\n",
        "import os\n",
        "import csv\n",
        "from sklearn.model_selection import train_test_split\n",
        "from sklearn.model_selection import cross_val_score\n",
        "from sklearn.metrics import classification_report\n",
        "from sklearn.ensemble import RandomForestClassifier\n",
        "from sentence_transformers import SentencesDataset, SentenceTransformer, InputExample, losses\n",
        "from sentence_transformers.evaluation import LabelAccuracyEvaluator\n",
        "from torch import nn, Tensor\n",
        "from typing import Iterable, Dict\n",
        "from torch.utils.data import DataLoader\n",
        "import math\n",
        "import time\n",
        "import cupy as cp\n",
        "import json\n",
        "\n",
        "os.chdir(\"policy-data-analyzer\") #If you run this cell more than once, comment out this line because you are ready in this folder and you will get an error\n",
        "from tasks.data_loader.src.utils import *\n",
        "from tasks.data_augmentation.src.zero_shot_classification.latent_embeddings_classifier import *\n",
        "from tasks.evaluate_model.src.model_evaluator import *\n",
        "from tasks.data_visualization.src.plotting import *\n",
        "\n",
        "from google.colab import drive\n",
        "drive.mount('/content/drive')"
      ],
      "execution_count": 58,
      "outputs": [
        {
          "output_type": "stream",
          "text": [
            "Drive already mounted at /content/drive; to attempt to forcibly remount, call drive.mount(\"/content/drive\", force_remount=True).\n"
          ],
          "name": "stdout"
        }
      ]
    },
    {
      "cell_type": "markdown",
      "metadata": {
        "id": "0E6y9u8rmllu"
      },
      "source": [
        "## 1. Fine tune SBERT on Binary Classification"
      ]
    },
    {
      "cell_type": "markdown",
      "metadata": {
        "id": "uEEBX_uPnQRN"
      },
      "source": [
        "Similar setup for fine tuning multi-class. Maybe we should have this section in the other notebook, and in this one we just load the model? \n"
      ]
    },
    {
      "cell_type": "code",
      "metadata": {
        "id": "zWb8sqiXkxme"
      },
      "source": [
        "class SoftmaxClassifier(nn.Module):\n",
        "    \"\"\"\n",
        "    This loss adds a softmax classifier on top of the output of the transformer network.\n",
        "    It takes a sentence embedding and learns a mapping between it and the corresponding category.\n",
        "    :param model: SentenceTransformer model\n",
        "    :param sentence_embedding_dimension: Dimension of your sentence embeddings\n",
        "    :param num_labels: Number of different labels\n",
        "    \"\"\"\n",
        "\n",
        "    def __init__(self,\n",
        "                 model: SentenceTransformer,\n",
        "                 sentence_embedding_dimension: int,\n",
        "                 num_labels: int):\n",
        "        super(SoftmaxClassifier, self).__init__()\n",
        "        self.model = model\n",
        "        self.num_labels = num_labels\n",
        "        self.classifier = nn.Linear(sentence_embedding_dimension, num_labels)\n",
        "\n",
        "    def forward(self, sentence_features: Iterable[Dict[str, Tensor]], labels: Tensor):\n",
        "        # Get batch sentence embeddings\n",
        "        features = self.model(sentence_features[0])['sentence_embedding']\n",
        "\n",
        "        # Get batch loss\n",
        "        output = self.classifier(features)\n",
        "        loss_fct = nn.CrossEntropyLoss()\n",
        "\n",
        "        if labels is not None:\n",
        "            loss = loss_fct(output, labels.view(-1))\n",
        "            return loss\n",
        "        else:\n",
        "            return features, output\n",
        "\n",
        "\n",
        "def grid_search_fine_tune_sbert(train_params, train_sents, train_labels, test_sents, test_labels, label_names, eval_classifier=None):\n",
        "    output_path = train_params[\"output_path\"]\n",
        "    experiment = train_params[\"experiment\"]\n",
        "    all_test_perc = train_params[\"all_test_perc\"]\n",
        "    model_names = train_params[\"model_names\"]\n",
        "    start_epochs = train_params[\"start_epochs\"]\n",
        "    max_num_epochs = train_params[\"max_num_epochs\"]\n",
        "    epochs_increment = train_params[\"epochs_increment\"]\n",
        "    numeric_labels = labels2numeric(test_labels, label_names)\n",
        "    train_params[\"eval_classifier\"] = eval_classifier.__class__.__name__\n",
        "    print(\"Grid Search Fine tuning parameters:\\n\", json.dumps(train_params, indent=4))\n",
        "\n",
        "    # Output setup - we will update the json as the fine tuning process goes so every result is stored immediately\n",
        "    with open(f\"{output_path}/{experiment}_FineTuningResults.json\", \"w\") as fw:\n",
        "        json.dump({}, fw)\n",
        "\n",
        "    for test_perc in all_test_perc:\n",
        "        with open(f\"{output_path}/{experiment}_FineTuningResults.json\", \"r\") as fr:\n",
        "            output = json.load(fr)\n",
        "\n",
        "        output[f\"test_perc={test_perc}\"] = {}\n",
        "        X_train, X_test, y_train, y_test = train_test_split(train_sents, train_labels, test_size=test_perc,\n",
        "                                                            stratify=train_labels, random_state=69420)\n",
        "\n",
        "        # Load data samples into batches\n",
        "        train_batch_size = 16\n",
        "        label2int = dict(zip(label_names, range(len(label_names))))\n",
        "        train_samples = []\n",
        "        for sent, label in zip(X_train, y_train):\n",
        "            label_id = label2int[label]\n",
        "            train_samples.append(InputExample(texts=[sent], label=label_id))\n",
        "\n",
        "        # Configure the dev set evaluator - still need to test whether this works\n",
        "        dev_samples = []\n",
        "        for sent, label in zip(X_test, y_test):\n",
        "            label_id = label2int[label]\n",
        "            dev_samples.append(InputExample(texts=[sent], label=label_id))\n",
        "\n",
        "        for model_name in model_names:\n",
        "            # Setup\n",
        "            output[f\"test_perc={test_perc}\"][model_name] = []\n",
        "\n",
        "            # Train set config\n",
        "            model = SentenceTransformer(model_name)\n",
        "            train_dataset = SentencesDataset(train_samples, model=model)\n",
        "            train_dataloader = DataLoader(train_dataset, shuffle=True, batch_size=train_batch_size)\n",
        "\n",
        "            # Define the way the loss is computed\n",
        "            classifier = SoftmaxClassifier(model=model,\n",
        "                                           sentence_embedding_dimension=model.get_sentence_embedding_dimension(),\n",
        "                                           num_labels=len(label2int))\n",
        "\n",
        "            # Dev set config\n",
        "            dev_dataset = SentencesDataset(dev_samples, model=model)\n",
        "            dev_dataloader = DataLoader(dev_dataset, shuffle=True, batch_size=train_batch_size)\n",
        "            dev_evaluator = LabelAccuracyEvaluator(dataloader=dev_dataloader, softmax_model=classifier, name='lae-dev')\n",
        "\n",
        "            for num_epochs in range(start_epochs, max_num_epochs + 2, epochs_increment):\n",
        "                warmup_steps = math.ceil(\n",
        "                    len(train_dataset) * num_epochs / train_batch_size * 0.1)  # 10% of train data for warm-up\n",
        "                model_deets = f\"model={model_name}_test-perc={test_perc}_n-epoch={num_epochs}\"\n",
        "\n",
        "                # Train the model\n",
        "                start = time.time()\n",
        "                if num_epochs == start_epochs:\n",
        "                    model.fit(train_objectives=[(train_dataloader, classifier)],\n",
        "                              evaluator=dev_evaluator,\n",
        "                              epochs=start_epochs,\n",
        "                              evaluation_steps=1000,\n",
        "                              warmup_steps=warmup_steps,\n",
        "                              )\n",
        "                else:\n",
        "                    model.fit(train_objectives=[(train_dataloader, classifier)],\n",
        "                              evaluator=dev_evaluator,\n",
        "                              epochs=epochs_increment,  # We always tune on an extra epoch to see the performance gain\n",
        "                              evaluation_steps=1000,\n",
        "                              warmup_steps=warmup_steps,\n",
        "                              )\n",
        "\n",
        "                end = time.time()\n",
        "                hours, rem = divmod(end - start, 3600)\n",
        "                minutes, seconds = divmod(rem, 60)\n",
        "                print(\"Time taken for fine-tuning:\", \"{:0>2}:{:0>2}:{:05.2f}\".format(int(hours), int(minutes), seconds))\n",
        "\n",
        "                if eval_classifier:\n",
        "                    output = evaluate_using_sklearn(eval_classifier, model, train_sents, train_labels, test_sents, test_labels,\n",
        "                                           label_names, experiment, model_deets, model_name, num_epochs, output,\n",
        "                                           test_perc, output_path)\n",
        "                else:\n",
        "                    output = evaluate_using_sbert(model, test_sents, test_labels, label_names, experiment,\n",
        "                                         model_deets, model_name, num_epochs, numeric_labels, output,\n",
        "                                         output_path, test_perc)\n",
        "\n",
        "\n",
        "def fine_tune_sbert(train_params, train_sents, train_labels, test_sents, test_labels, label_names, eval_classifier=None):\n",
        "    output_path = train_params[\"output_path\"]\n",
        "    experiment = train_params[\"experiment\"]\n",
        "    test_perc = train_params[\"test_perc\"]\n",
        "    model_name = train_params[\"model_names\"]\n",
        "    num_epochs = train_params[\"num_epochs\"]\n",
        "    numeric_labels = labels2numeric(test_labels, label_names)\n",
        "    train_params[\"eval_classifier\"] = eval_classifier.__class__.__name__\n",
        "    print(\"Fine tuning parameters:\\n\", json.dumps(train_params, indent=4))\n",
        "\n",
        "    output = {f\"test_perc={test_perc}\": {}}\n",
        "    X_train, X_test, y_train, y_test = train_test_split(train_sents, train_labels, test_size=test_perc,\n",
        "                                                        stratify=train_labels, random_state=69420)\n",
        "    # Load data samples into batches\n",
        "    train_batch_size = 16\n",
        "    label2int = dict(zip(label_names, range(len(label_names))))\n",
        "    train_samples = []\n",
        "    for sent, label in zip(X_train, y_train):\n",
        "        label_id = label2int[label]\n",
        "        train_samples.append(InputExample(texts=[sent], label=label_id))\n",
        "\n",
        "    # Configure the dev set evaluator - still need to test whether this works\n",
        "    dev_samples = []\n",
        "    for sent, label in zip(X_test, y_test):\n",
        "        label_id = label2int[label]\n",
        "        dev_samples.append(InputExample(texts=[sent], label=label_id))\n",
        "\n",
        "    # Setup\n",
        "    output[f\"test_perc={test_perc}\"][model_name] = []\n",
        "\n",
        "    # Train set config\n",
        "    model = SentenceTransformer(model_name)\n",
        "    train_dataset = SentencesDataset(train_samples, model=model)\n",
        "    train_dataloader = DataLoader(train_dataset, shuffle=True, batch_size=train_batch_size)\n",
        "\n",
        "    # Define the way the loss is computed\n",
        "    classifier = SoftmaxClassifier(model=model,\n",
        "                                   sentence_embedding_dimension=model.get_sentence_embedding_dimension(),\n",
        "                                   num_labels=len(label2int))\n",
        "\n",
        "    # Dev set config\n",
        "    dev_dataset = SentencesDataset(dev_samples, model=model)\n",
        "    dev_dataloader = DataLoader(dev_dataset, shuffle=True, batch_size=train_batch_size)\n",
        "    dev_evaluator = LabelAccuracyEvaluator(dataloader=dev_dataloader, softmax_model=classifier, name='lae-dev')\n",
        "    warmup_steps = math.ceil(\n",
        "        len(train_dataset) * num_epochs / train_batch_size * 0.1)  # 10% of train data for warm-up\n",
        "    model_deets = f\"model={model_name}_test-perc={test_perc}_n-epoch={num_epochs}\"\n",
        "\n",
        "    # Train the model\n",
        "    start = time.time()\n",
        "    model.fit(train_objectives=[(train_dataloader, classifier)],\n",
        "              evaluator=dev_evaluator,\n",
        "              epochs=num_epochs,\n",
        "              evaluation_steps=1000,\n",
        "              warmup_steps=warmup_steps,\n",
        "              output_path=output_path\n",
        "              )\n",
        "\n",
        "    end = time.time()\n",
        "    hours, rem = divmod(end - start, 3600)\n",
        "    minutes, seconds = divmod(rem, 60)\n",
        "    print(\"Time taken for fine-tuning:\", \"{:0>2}:{:0>2}:{:05.2f}\".format(int(hours), int(minutes), seconds))\n",
        "\n",
        "    if eval_classifier:\n",
        "        output = evaluate_using_sklearn(eval_classifier, model, train_sents, train_labels, test_sents, test_labels,\n",
        "                               label_names, experiment, model_deets, model_name, num_epochs, output,\n",
        "                               test_perc, output_path)\n",
        "    else:\n",
        "        output = evaluate_using_sbert(model, test_sents, test_labels, label_names, experiment,\n",
        "                             model_deets, model_name, num_epochs, numeric_labels, output,\n",
        "                             output_path, test_perc)\n",
        "\n",
        "\n",
        "def evaluate_using_sbert(model, test_sents, test_labels, label_names, experiment,\n",
        "                         model_deets, model_name, num_epochs, numeric_labels, output,\n",
        "                         output_path, test_perc):\n",
        "\n",
        "    # Projection matrix Z low-dim projection\n",
        "    print(\"Classifying sentences...\")\n",
        "    proj_matrix = cp.asnumpy(calc_proj_matrix(test_sents, 50, es_nlp, model, 0.01))\n",
        "    test_embs = encode_all_sents(test_sents, model, proj_matrix)\n",
        "    label_embs = encode_labels(label_names, model, proj_matrix)\n",
        "    visualize_embeddings_2D(np.vstack(test_embs), test_labels, tsne_perplexity=50,\n",
        "                            store_name=f\"{output_path}/{model_deets}\")\n",
        "    model_preds, model_scores = calc_all_cos_similarity(test_embs, label_embs, label_names)\n",
        "\n",
        "    print(\"Evaluating predictions...\")\n",
        "    numeric_preds = labels2numeric(model_preds, label_names)\n",
        "    evaluator = ModelEvaluator(label_names, y_true=numeric_labels, y_pred=numeric_preds)\n",
        "    output[f\"test_perc={test_perc}\"][model_name].append(\n",
        "            {\"num_epochs\": num_epochs,\n",
        "             \"avg_f1\": evaluator.avg_f1.tolist()})\n",
        "\n",
        "    with open(f\"{output_path}/{experiment}_FineTuningResults.json\", \"w\") as fw:\n",
        "        json.dump(output, fw)\n",
        "    evaluator.plot_confusion_matrix(color_map='Blues', exp_name=f\"{output_path}/{model_deets}\")\n",
        "    print(\"Macro/Weighted Avg F1-score:\", evaluator.avg_f1.tolist())\n",
        "\n",
        "    return output\n",
        "\n",
        "\n",
        "def evaluate_using_sklearn(clf, model, train_sents, train_labels, test_sents, test_labels,\n",
        "                           label_names, experiment, model_deets, model_name, num_epochs, output,\n",
        "                        test_perc, output_path):\n",
        "\n",
        "    # Sentence encoding\n",
        "    print(\"Classifying sentences...\")\n",
        "    train_embs = encode_all_sents(train_sents, model)\n",
        "    test_embs = encode_all_sents(test_sents, model)\n",
        "\n",
        "    visualize_embeddings_2D(np.vstack(train_embs), train_labels, tsne_perplexity=50,\n",
        "                            store_name=f\"{output_path}/{model_deets}\")\n",
        "\n",
        "    # Classifier training\n",
        "    clf.fit(np.vstack(train_embs), train_labels)\n",
        "\n",
        "    \n",
        "    # Classifier predictions\n",
        "    clf_preds = [clf.predict([sent_emb])[0] for sent_emb in test_embs]\n",
        "\n",
        "    print(\"Evaluating predictions...\")\n",
        "    print(classification_report(test_labels, clf_preds))\n",
        "    numeric_preds = labels2numeric(clf_preds, label_names)\n",
        "    numeric_test_labels = labels2numeric(test_labels, label_names)\n",
        "    evaluator = ModelEvaluator(label_names, y_true=numeric_test_labels, y_pred=numeric_preds)\n",
        "\n",
        "    output[f\"test_perc={test_perc}\"][model_name].append({\"num_epochs\": num_epochs, \"avg_f1\": evaluator.avg_f1.tolist()})\n",
        "    with open(f\"{output_path}/{experiment}_FineTuningResults.json\", \"w\") as fw:\n",
        "        json.dump(output, fw)\n",
        "\n",
        "    evaluator.plot_confusion_matrix(color_map='Blues', exp_name=f\"{output_path}/{clf.__class__.__name__}_{model_deets}\")\n",
        "    print(\"Macro/Weighted Avg F1-score:\", evaluator.avg_f1.tolist())\n",
        "\n",
        "    return output\n",
        "\n",
        "def load_dataset(data_path, rater, set_of_labels_string):\n",
        "  \"\"\"\n",
        "  Return the train data, train labels, test data, and test labels \n",
        "  \"\"\"\n",
        "  dataset = []\n",
        "\n",
        "  for dataset_type in [\"train\", \"test\"]:\n",
        "    for file_type in [\"sentences\", \"labels\"]:\n",
        "      filename = dataset_type + \"_\" + rater + \"_\" + set_of_labels_string + \"_\" + file_type + \".csv\"\n",
        "      file = data_path + \"/\" + filename\n",
        "      try:\n",
        "        data = pd.read_csv(file, index_col=False, header=None)\n",
        "      except Exception as e:\n",
        "        if \"can't decode byte\" in str(e):\n",
        "          data = pd.read_csv(file, index_col=False, header=None, encoding=\"ISO-8859-1\")\n",
        "        else:\n",
        "          raise Exception(\"Couldn't read file:\", file)\n",
        "      dataset.append(data[0].tolist())  # The data is always the entire first column\n",
        "  \n",
        "  return dataset[0], dataset[1], dataset[2], dataset[3]"
      ],
      "execution_count": 92,
      "outputs": []
    },
    {
      "cell_type": "markdown",
      "metadata": {
        "id": "plcg1u8kqCCR"
      },
      "source": [
        "### Load data\n",
        "\n",
        "- EXP1 = Binary classification fine tuning using the projection matrix\n",
        "- EXP3 = Binary classification fine tuning evaluated on LightGBM\n",
        "- EXP4 = Binary classification fine tuning evaluated on Support Vector Machines"
      ]
    },
    {
      "cell_type": "code",
      "metadata": {
        "id": "liOnrCm-kCVg"
      },
      "source": [
        "rater = \"Merged\"  # Options: [\"Merged\", \"Rater1\", \"Rater2\", \"Rater3\"]\n",
        "experiment = \"EXP4\" \n",
        "set_of_labels_string = \"incentive\"\n",
        "\n",
        "# This first one is the one used by David and Daniel\n",
        "base_path = \"/content/drive/MyDrive/WRI-LatinAmerica-Talent\"\n",
        "\n",
        "# This one is the one used by Jordi\n",
        "# base_path = \"/content/drive/MyDrive/Official Folder of WRI Latin America Project/WRI-LatinAmerica-Talent\"\n",
        "\n",
        "data_path =  f\"{base_path}/Cristina_Policy_Files/Tagged_sentence_lists/datasets/Binary\"\n",
        "results_save_path = f\"{base_path}/Modeling/BinaryClassificationExperiments/{experiment}\"\n",
        "\n",
        "if not os.path.exists(results_save_path):\n",
        "    os.makedirs(results_save_path)"
      ],
      "execution_count": 81,
      "outputs": []
    },
    {
      "cell_type": "code",
      "metadata": {
        "colab": {
          "base_uri": "https://localhost:8080/"
        },
        "id": "jmj6mDkxo42F",
        "outputId": "a37fa2e6-4db0-4bd2-bfcd-1cb5b2d0bd06"
      },
      "source": [
        "train_sents, train_labels, test_sents, test_labels = load_dataset(data_path, rater, set_of_labels_string)\n",
        "label_names = unique_labels(train_labels)\n",
        "label_names"
      ],
      "execution_count": 83,
      "outputs": [
        {
          "output_type": "execute_result",
          "data": {
            "text/plain": [
              "['Incentive', 'not_Incentive']"
            ]
          },
          "metadata": {
            "tags": []
          },
          "execution_count": 83
        }
      ]
    },
    {
      "cell_type": "code",
      "metadata": {
        "colab": {
          "base_uri": "https://localhost:8080/"
        },
        "id": "riEsVYAb6iDL",
        "outputId": "d921ebc4-9de8-4b08-c723-2d489a237d93"
      },
      "source": [
        "(train_sents[2], train_labels[2]), (test_sents[2], test_labels[2])"
      ],
      "execution_count": 84,
      "outputs": [
        {
          "output_type": "execute_result",
          "data": {
            "text/plain": [
              "(('- Los yacimientos a que se refiere esta Ley son bienes inmuebles distintos de los inmuebles que constituyen el terreno superficial; no asi las canteras que forman parte integrante del terreno en que se encuentran, siempre que se localicen a flor de tierra',\n",
              "  'not_Incentive'),\n",
              " ('Estos mismos porcentajes se mantendrán también para valorizar cada una de las áreas o actividades de la asistencia técnica',\n",
              "  'Incentive'))"
            ]
          },
          "metadata": {
            "tags": []
          },
          "execution_count": 84
        }
      ]
    },
    {
      "cell_type": "code",
      "metadata": {
        "colab": {
          "base_uri": "https://localhost:8080/",
          "height": 387
        },
        "id": "ij2Z9Hi4tWT4",
        "outputId": "8d19887f-5316-457c-d4b2-eefd917264a7"
      },
      "source": [
        "numeric_train_labels = labels2numeric(train_labels, label_names)\n",
        "plot_data_distribution(numeric_train_labels, label_names)"
      ],
      "execution_count": 60,
      "outputs": [
        {
          "output_type": "display_data",
          "data": {
            "image/png": "[encoded data removed]",
            "text/plain": [
              "<Figure size 432x288 with 1 Axes>"
            ]
          },
          "metadata": {
            "tags": [],
            "needs_background": "light"
          }
        },
        {
          "output_type": "stream",
          "text": [
            "Label counts:\n",
            "{'Incentive': 0.47830188679245284, 'not_Incentive': 0.5216981132075472}\n"
          ],
          "name": "stdout"
        }
      ]
    },
    {
      "cell_type": "markdown",
      "metadata": {
        "id": "Pm9OVVBXqFVj"
      },
      "source": [
        "### Fine tune SBERT\n",
        "\n"
      ]
    },
    {
      "cell_type": "code",
      "metadata": {
        "id": "7iwJ0mc8uzNH"
      },
      "source": [
        "from lightgbm import LGBMClassifier\n",
        "from sklearn import svm"
      ],
      "execution_count": 87,
      "outputs": []
    },
    {
      "cell_type": "code",
      "metadata": {
        "id": "iW1PljVfRcNr"
      },
      "source": [
        "# Configure the grid search fine tuning \n",
        "# clf = LGBMClassifier(n_estimators=2000,\n",
        "#                       feature_fraction=0.06,\n",
        "#                       bagging_fraction=0.67,\n",
        "#                       bagging_freq=1,\n",
        "#                       verbose=0,\n",
        "#                       n_jobs=6,\n",
        "#                       random_state=69420)\n",
        "\n",
        "clf = svm.SVC(gamma=0.001, C=100.)\n",
        "\n",
        "grid_search_params = {\n",
        "    \"all_test_perc\": [0.15, 0.2, 0.25, 0.3],\n",
        "    \"model_names\": ['stsb-xlm-r-multilingual', 'paraphrase-xlm-r-multilingual-v1'], #, 'quora-distilbert-multilingual''distiluse-base-multilingual-sed-v2',\n",
        "    \"output_path\": results_save_path,\n",
        "    \"experiment\": experiment,\n",
        "    # If you want to train for a set number of epochs instead of a range, set all these numbers to be equal\n",
        "    \"start_epochs\": 4, \n",
        "    \"epochs_increment\": 2,\n",
        "    \"max_num_epochs\": 12,\n",
        "}"
      ],
      "execution_count": 88,
      "outputs": []
    },
    {
      "cell_type": "code",
      "metadata": {
        "id": "0lWL2HOBRcD7"
      },
      "source": [
        "# To run a grid search over hyperparameters for fine tuning SBERT without storing the model, run:\n",
        "grid_search_fine_tune_sbert(grid_search_params, train_sents, train_labels, test_sents, test_labels, label_names, eval_classifier=clf)"
      ],
      "execution_count": null,
      "outputs": []
    },
    {
      "cell_type": "code",
      "metadata": {
        "id": "JSxy6d2cePr9"
      },
      "source": [
        "# Configure the fine tuning for one set of parameters\n",
        "clf = svm.SVC(gamma=0.001, C=100.)\n",
        "fine_tuning_params = {\n",
        "    \"test_perc\": 0.3,\n",
        "    \"model_names\": 'stsb-xlm-r-multilingual',\n",
        "    \"output_path\": results_save_path,\n",
        "    \"experiment\": experiment,\n",
        "    \"num_epochs\": 4\n",
        "}"
      ],
      "execution_count": 95,
      "outputs": []
    },
    {
      "cell_type": "code",
      "metadata": {
        "colab": {
          "base_uri": "https://localhost:8080/",
          "height": 1000,
          "referenced_widgets": [
            "1d53f6110d484945a3fbe25439e9f626",
            "a1f2504c7da84c378f722b26b910a511",
            "785e2cd29a384399bc7151284e7e6107",
            "c0aae45f623f4758a16bcd7dece4611f",
            "f2d0d43865eb4179afa0f989b0a3da5e",
            "90044f208d334492b79021f9c5ce2be7",
            "cb91f8bf4c184cde9cce5274bc392f31",
            "857910fb595541b6af9042494fb0455f",
            "13fc0cb05e194e53861480c81ca3432f",
            "513810be0b1946b2aa06f020548c6dc0",
            "c454d0505cf14a4082533d4bd2d436e2",
            "b2dede05ef4642caa414c93d95016114",
            "1ade239954084a50bceeaaa196de97fa",
            "9cbcfa41ed6c4ae9aacf56e66b4703ae",
            "0a617ea1857d4aff8dac6f3d9b17b425",
            "c831fe48ba1f4f2387e6f806333d39e4",
            "8335bcb3635a4f4c85b6b4ce4388abcc",
            "71e928e6a9514d328c9e4ebddecbdf33",
            "d7e6dc59d8814b318a7ec2826b16f0a9",
            "00929f1f96374ffbab123824d23db692",
            "33cbc3a6c52f43f9b9a02f883563fdfc",
            "b8b0f06c94614e81a956e4dc2373db26",
            "28e1a4f17ca04a6eb94166fd907209ff",
            "24264acd3702496f982c6aeaa7e5fdd5",
            "a65ce304114e4d39acce89be673e77ad",
            "da1db7a2eaab4794b612dc9975f341f4",
            "d589ee47e6724124ad96c1a5a6c60b1f",
            "46c44d58d35d4d01acfb420b93f40743",
            "249bcb43d279451786f3b129f35257f8",
            "cbdc54bdf9d044d79d292cf6bc04d1ef",
            "2580dce95bfe43f1841c8f1122f9b505",
            "c875c258cb70461a81e7061c6acf97fc",
            "75468da3679c4f9580cc72550928e33c",
            "54766af9453846d6a1604e5f6a8396b7",
            "13ea715acf284850ba89fa4eccd78c78",
            "12bbc184f0404a7f9391bdcccec1ac6a",
            "760f6ebc7f4e4d54b7b8004f7312ba6b",
            "2b879a7978b74469a6df2e88a22f46b0",
            "e2c0e66d3e00489599b3b23dcbe8b883",
            "0f26fdcb0f7c44cf8d91577c4d737e01"
          ]
        },
        "id": "61QMefoeePfq",
        "outputId": "080bcb6e-acc9-4b28-b6a3-a02f3053f348"
      },
      "source": [
        "# If you already know which configuration you want to fine tune SBERT on, and want to store the model, run:\n",
        "fine_tune_sbert(fine_tuning_params, train_sents, train_labels, test_sents, test_labels, label_names, eval_classifier=clf)"
      ],
      "execution_count": 96,
      "outputs": [
        {
          "output_type": "stream",
          "text": [
            "Fine tuning parameters:\n",
            " {\n",
            "    \"test_perc\": 0.3,\n",
            "    \"model_names\": \"stsb-xlm-r-multilingual\",\n",
            "    \"output_path\": \"/content/drive/MyDrive/WRI-LatinAmerica-Talent/Modeling/BinaryClassificationExperiments/EXP4\",\n",
            "    \"experiment\": \"EXP4\",\n",
            "    \"num_epochs\": 4,\n",
            "    \"eval_classifier\": \"SVC\"\n",
            "}\n"
          ],
          "name": "stdout"
        },
        {
          "output_type": "display_data",
          "data": {
            "application/vnd.jupyter.widget-view+json": {
              "model_id": "1d53f6110d484945a3fbe25439e9f626",
              "version_minor": 0,
              "version_major": 2
            },
            "text/plain": [
              "HBox(children=(FloatProgress(value=0.0, description='Epoch', max=4.0, style=ProgressStyle(description_width='i…"
            ]
          },
          "metadata": {
            "tags": []
          }
        },
        {
          "output_type": "display_data",
          "data": {
            "application/vnd.jupyter.widget-view+json": {
              "model_id": "13fc0cb05e194e53861480c81ca3432f",
              "version_minor": 0,
              "version_major": 2
            },
            "text/plain": [
              "HBox(children=(FloatProgress(value=0.0, description='Iteration', max=47.0, style=ProgressStyle(description_wid…"
            ]
          },
          "metadata": {
            "tags": []
          }
        },
        {
          "output_type": "stream",
          "text": [
            "\n",
            "\n",
            "Evaluating:   0%|          | 0/20 [00:00<?, ?it/s]\u001b[A\u001b[A\n",
            "\n",
            "Evaluating:  15%|█▌        | 3/20 [00:00<00:00, 28.03it/s]\u001b[A\u001b[A"
          ],
          "name": "stderr"
        },
        {
          "output_type": "stream",
          "text": [
            "\n"
          ],
          "name": "stdout"
        },
        {
          "output_type": "stream",
          "text": [
            "\n",
            "\n",
            "Evaluating:  35%|███▌      | 7/20 [00:00<00:00, 28.76it/s]\u001b[A\u001b[A\n",
            "\n",
            "Evaluating:  55%|█████▌    | 11/20 [00:00<00:00, 29.67it/s]\u001b[A\u001b[A\n",
            "\n",
            "Evaluating:  75%|███████▌  | 15/20 [00:00<00:00, 30.40it/s]\u001b[A\u001b[A\n",
            "\n",
            "Evaluating: 100%|██████████| 20/20 [00:00<00:00, 30.71it/s]\n"
          ],
          "name": "stderr"
        },
        {
          "output_type": "display_data",
          "data": {
            "application/vnd.jupyter.widget-view+json": {
              "model_id": "8335bcb3635a4f4c85b6b4ce4388abcc",
              "version_minor": 0,
              "version_major": 2
            },
            "text/plain": [
              "HBox(children=(FloatProgress(value=0.0, description='Iteration', max=47.0, style=ProgressStyle(description_wid…"
            ]
          },
          "metadata": {
            "tags": []
          }
        },
        {
          "output_type": "stream",
          "text": [
            "\n",
            "\n",
            "Evaluating:   0%|          | 0/20 [00:00<?, ?it/s]\u001b[A\u001b[A\n",
            "\n",
            "Evaluating:  20%|██        | 4/20 [00:00<00:00, 35.17it/s]\u001b[A\u001b[A"
          ],
          "name": "stderr"
        },
        {
          "output_type": "stream",
          "text": [
            "\n"
          ],
          "name": "stdout"
        },
        {
          "output_type": "stream",
          "text": [
            "\n",
            "\n",
            "Evaluating:  40%|████      | 8/20 [00:00<00:00, 35.14it/s]\u001b[A\u001b[A\n",
            "\n",
            "Evaluating:  60%|██████    | 12/20 [00:00<00:00, 34.79it/s]\u001b[A\u001b[A\n",
            "\n",
            "Evaluating: 100%|██████████| 20/20 [00:00<00:00, 37.06it/s]\n"
          ],
          "name": "stderr"
        },
        {
          "output_type": "display_data",
          "data": {
            "application/vnd.jupyter.widget-view+json": {
              "model_id": "a65ce304114e4d39acce89be673e77ad",
              "version_minor": 0,
              "version_major": 2
            },
            "text/plain": [
              "HBox(children=(FloatProgress(value=0.0, description='Iteration', max=47.0, style=ProgressStyle(description_wid…"
            ]
          },
          "metadata": {
            "tags": []
          }
        },
        {
          "output_type": "stream",
          "text": [
            "\n",
            "\n",
            "Evaluating:   0%|          | 0/20 [00:00<?, ?it/s]\u001b[A\u001b[A\n",
            "\n",
            "Evaluating:  20%|██        | 4/20 [00:00<00:00, 32.99it/s]\u001b[A\u001b[A"
          ],
          "name": "stderr"
        },
        {
          "output_type": "stream",
          "text": [
            "\n"
          ],
          "name": "stdout"
        },
        {
          "output_type": "stream",
          "text": [
            "\n",
            "\n",
            "Evaluating:  40%|████      | 8/20 [00:00<00:00, 33.40it/s]\u001b[A\u001b[A\n",
            "\n",
            "Evaluating:  55%|█████▌    | 11/20 [00:00<00:00, 31.55it/s]\u001b[A\u001b[A\n",
            "\n",
            "Evaluating:  75%|███████▌  | 15/20 [00:00<00:00, 32.21it/s]\u001b[A\u001b[A\n",
            "\n",
            "Evaluating: 100%|██████████| 20/20 [00:00<00:00, 33.62it/s]\n"
          ],
          "name": "stderr"
        },
        {
          "output_type": "display_data",
          "data": {
            "application/vnd.jupyter.widget-view+json": {
              "model_id": "75468da3679c4f9580cc72550928e33c",
              "version_minor": 0,
              "version_major": 2
            },
            "text/plain": [
              "HBox(children=(FloatProgress(value=0.0, description='Iteration', max=47.0, style=ProgressStyle(description_wid…"
            ]
          },
          "metadata": {
            "tags": []
          }
        },
        {
          "output_type": "stream",
          "text": [
            "\n",
            "\n",
            "Evaluating:   0%|          | 0/20 [00:00<?, ?it/s]\u001b[A\u001b[A\n",
            "\n",
            "Evaluating:  20%|██        | 4/20 [00:00<00:00, 38.72it/s]\u001b[A\u001b[A"
          ],
          "name": "stderr"
        },
        {
          "output_type": "stream",
          "text": [
            "\n"
          ],
          "name": "stdout"
        },
        {
          "output_type": "stream",
          "text": [
            "\n",
            "\n",
            "Evaluating:  40%|████      | 8/20 [00:00<00:00, 39.03it/s]\u001b[A\u001b[A\n",
            "\n",
            "Evaluating:  60%|██████    | 12/20 [00:00<00:00, 36.71it/s]\u001b[A\u001b[A\n",
            "\n",
            "Evaluating:  80%|████████  | 16/20 [00:00<00:00, 36.82it/s]\u001b[A\u001b[A\n",
            "\n",
            "Evaluating: 100%|██████████| 20/20 [00:00<00:00, 36.34it/s]\n"
          ],
          "name": "stderr"
        },
        {
          "output_type": "stream",
          "text": [
            "\n",
            "Time taken for fine-tuning: 00:00:32.72\n",
            "Classifying sentences...\n",
            "[t-SNE] Computing 151 nearest neighbors...\n",
            "[t-SNE] Indexed 1060 samples in 0.084s...\n",
            "[t-SNE] Computed neighbors for 1060 samples in 1.565s...\n",
            "[t-SNE] Computed conditional probabilities for sample 1000 / 1060\n",
            "[t-SNE] Computed conditional probabilities for sample 1060 / 1060\n",
            "[t-SNE] Mean sigma: 3.568902\n",
            "[t-SNE] KL divergence after 250 iterations with early exaggeration: 59.546631\n",
            "[t-SNE] KL divergence after 1000 iterations: 0.803542\n",
            "Evaluating predictions...\n",
            "               precision    recall  f1-score   support\n",
            "\n",
            "    Incentive       0.69      0.68      0.68       127\n",
            "not_Incentive       0.71      0.72      0.71       139\n",
            "\n",
            "     accuracy                           0.70       266\n",
            "    macro avg       0.70      0.70      0.70       266\n",
            " weighted avg       0.70      0.70      0.70       266\n",
            "\n",
            "Stored confusion matrix: /content/drive/MyDrive/WRI-LatinAmerica-Talent/Modeling/BinaryClassificationExperiments/EXP4/SVC_model=stsb-xlm-r-multilingual_test-perc=0.3_n-epoch=4_cm.png\n"
          ],
          "name": "stdout"
        },
        {
          "output_type": "display_data",
          "data": {
            "image/png": "[encoded data removed]",
            "text/plain": [
              "<Figure size 1728x288 with 2 Axes>"
            ]
          },
          "metadata": {
            "tags": []
          }
        },
        {
          "output_type": "display_data",
          "data": {
            "image/png": "[encoded data removed]",
            "text/plain": [
              "<Figure size 576x432 with 2 Axes>"
            ]
          },
          "metadata": {
            "tags": []
          }
        },
        {
          "output_type": "stream",
          "text": [
            "Macro/Weighted Avg F1-score: [0.6984126984126984, 0.6991287743167443]\n"
          ],
          "name": "stdout"
        }
      ]
    },
    {
      "cell_type": "markdown",
      "metadata": {
        "id": "wLx3D9nrtrDE"
      },
      "source": [
        "## 2. Load fine-tuned model and use embeddings to train a binary classifier"
      ]
    },
    {
      "cell_type": "markdown",
      "metadata": {
        "id": "TepO8Pr3wsOX"
      },
      "source": [
        "### Load model"
      ]
    },
    {
      "cell_type": "code",
      "metadata": {
        "id": "i_0lKmiGtw0N"
      },
      "source": [
        "model_name = \"stsb-xlm-r-multilingual\"\n",
        "test_perc = 0.3\n",
        "num_epochs = 4\n",
        "model_deets = f\"model={model_name}_test-perc={test_perc}_n-epoch={num_epochs}\"\n",
        "experiment = \"EXP4\"\n",
        "saved_model_path = results_save_path\n",
        "# saved_model_path = f\"/content/drive/MyDrive/Official Folder of WRI Latin America Project/WRI-LatinAmerica-Talent/Modeling/FineTuningExperiments/{Experiment}/FineTuning_{model_deets}\""
      ],
      "execution_count": 97,
      "outputs": []
    },
    {
      "cell_type": "code",
      "metadata": {
        "id": "dHYaPvP5wZc_"
      },
      "source": [
        "bin_model = SentenceTransformer(saved_model_path)"
      ],
      "execution_count": 98,
      "outputs": []
    },
    {
      "cell_type": "markdown",
      "metadata": {
        "id": "iY4NIIWbwu_M"
      },
      "source": [
        "### Encode Sentences"
      ]
    },
    {
      "cell_type": "markdown",
      "metadata": {
        "id": "t98Vpa-51t2K"
      },
      "source": [
        "First, we will check how good are the fine tuned embeddings without the projection matrix addition"
      ]
    },
    {
      "cell_type": "code",
      "metadata": {
        "colab": {
          "base_uri": "https://localhost:8080/"
        },
        "id": "7Qv5doEyw7_r",
        "outputId": "16e98bc1-6994-4996-e382-069ff6d3fe84"
      },
      "source": [
        "all_sent_embs = encode_all_sents(test_sents, bin_model)"
      ],
      "execution_count": null,
      "outputs": [
        {
          "output_type": "stream",
          "text": [
            "100%|██████████| 306/306 [00:05<00:00, 54.29it/s]\n"
          ],
          "name": "stderr"
        }
      ]
    },
    {
      "cell_type": "code",
      "metadata": {
        "colab": {
          "base_uri": "https://localhost:8080/",
          "height": 412
        },
        "id": "XcEIw-sb1sFm",
        "outputId": "0a6d1fad-c4c0-4d54-a905-c27fc005f7d7"
      },
      "source": [
        "visualize_embeddings_2D(np.vstack(all_sent_embs), test_labels, tsne_perplexity=50)"
      ],
      "execution_count": null,
      "outputs": [
        {
          "output_type": "stream",
          "text": [
            "[t-SNE] Computing 151 nearest neighbors...\n",
            "[t-SNE] Indexed 306 samples in 0.033s...\n",
            "[t-SNE] Computed neighbors for 306 samples in 0.217s...\n",
            "[t-SNE] Computed conditional probabilities for sample 306 / 306\n",
            "[t-SNE] Mean sigma: 2.491708\n",
            "[t-SNE] KL divergence after 250 iterations with early exaggeration: 59.511703\n",
            "[t-SNE] KL divergence after 1000 iterations: 0.449039\n"
          ],
          "name": "stdout"
        },
        {
          "output_type": "display_data",
          "data": {
            "image/png": "[encoded data removed]",
            "text/plain": [
              "<Figure size 1728x288 with 2 Axes>"
            ]
          },
          "metadata": {
            "tags": []
          }
        }
      ]
    },
    {
      "cell_type": "markdown",
      "metadata": {
        "id": "5m3G_4eF2Tw4"
      },
      "source": [
        "Ok, doesn't look that bad, but not perfect either... The incentives are scattered too much in the space, and the line between non-incentives and incentives is not clearly defined. ***For now, it doesn't matter - but we should experiment more with fine tuning.***.\n",
        "\n",
        "Now, let's check whether the projection matrix helps:"
      ]
    },
    {
      "cell_type": "code",
      "metadata": {
        "colab": {
          "base_uri": "https://localhost:8080/"
        },
        "id": "auWe9D9S10mD",
        "outputId": "9795754c-7182-4e75-b33b-e04c31dec83d"
      },
      "source": [
        "proj_matrix = cp.asnumpy(calc_proj_matrix(train_sents, 50, es_nlp, bin_model, 0.01))\n",
        "all_sent_embs = encode_all_sents(test_sents, bin_model, proj_matrix)"
      ],
      "execution_count": null,
      "outputs": [
        {
          "output_type": "stream",
          "text": [
            "100%|██████████| 306/306 [00:07<00:00, 40.82it/s]\n"
          ],
          "name": "stderr"
        }
      ]
    },
    {
      "cell_type": "code",
      "metadata": {
        "colab": {
          "base_uri": "https://localhost:8080/",
          "height": 412
        },
        "id": "55hNSqtS19JE",
        "outputId": "3a17d090-265b-40e0-de35-f2287f11efea"
      },
      "source": [
        "visualize_embeddings_2D(np.vstack(all_sent_embs), test_labels, tsne_perplexity=50)"
      ],
      "execution_count": null,
      "outputs": [
        {
          "output_type": "stream",
          "text": [
            "[t-SNE] Computing 151 nearest neighbors...\n",
            "[t-SNE] Indexed 306 samples in 0.006s...\n",
            "[t-SNE] Computed neighbors for 306 samples in 0.083s...\n",
            "[t-SNE] Computed conditional probabilities for sample 306 / 306\n",
            "[t-SNE] Mean sigma: 20.201386\n",
            "[t-SNE] KL divergence after 250 iterations with early exaggeration: 69.918625\n",
            "[t-SNE] KL divergence after 1000 iterations: 0.734087\n"
          ],
          "name": "stdout"
        },
        {
          "output_type": "display_data",
          "data": {
            "image/png": "[encoded data removed]",
            "text/plain": [
              "<Figure size 1728x288 with 2 Axes>"
            ]
          },
          "metadata": {
            "tags": []
          }
        }
      ]
    },
    {
      "cell_type": "markdown",
      "metadata": {
        "id": "BqqfluJR2-0B"
      },
      "source": [
        "Actually, the projection matrix makes things worse. ***Let's NOT use it for now!!!!!***"
      ]
    },
    {
      "cell_type": "code",
      "metadata": {
        "colab": {
          "base_uri": "https://localhost:8080/"
        },
        "id": "pLPUbG282_SO",
        "outputId": "57745c51-8804-4dbf-ff60-9d5b475b8440"
      },
      "source": [
        "# Simple embeddings, no projection matrix added\n",
        "all_sent_embs = encode_all_sents(train_sents, bin_model)"
      ],
      "execution_count": null,
      "outputs": [
        {
          "output_type": "stream",
          "text": [
            "100%|██████████| 1220/1220 [00:22<00:00, 54.73it/s]\n"
          ],
          "name": "stderr"
        }
      ]
    },
    {
      "cell_type": "code",
      "metadata": {
        "colab": {
          "base_uri": "https://localhost:8080/"
        },
        "id": "3lvfAZQjAHvS",
        "outputId": "41e1c935-6308-406a-bef8-014a4d941e5d"
      },
      "source": [
        "all_test_embs = encode_all_sents(test_sents, bin_model)"
      ],
      "execution_count": null,
      "outputs": [
        {
          "output_type": "stream",
          "text": [
            "100%|██████████| 306/306 [00:05<00:00, 54.31it/s]\n"
          ],
          "name": "stderr"
        }
      ]
    },
    {
      "cell_type": "markdown",
      "metadata": {
        "id": "qyLt6Pl84UHc"
      },
      "source": [
        "### Train classifiers"
      ]
    },
    {
      "cell_type": "code",
      "metadata": {
        "id": "vCR_wG18E7aC"
      },
      "source": [
        "from sklearn.model_selection import cross_val_score\n",
        "from sklearn.metrics import classification_report"
      ],
      "execution_count": null,
      "outputs": []
    },
    {
      "cell_type": "markdown",
      "metadata": {
        "id": "rQyQIFVEBZsk"
      },
      "source": [
        "1. Let's start with Random Forests!"
      ]
    },
    {
      "cell_type": "code",
      "metadata": {
        "id": "YW021S1J_JH9"
      },
      "source": [
        "from sklearn.ensemble import RandomForestClassifier"
      ],
      "execution_count": null,
      "outputs": []
    },
    {
      "cell_type": "code",
      "metadata": {
        "id": "dbQ3_grn_I82"
      },
      "source": [
        "clf = RandomForestClassifier(n_estimators=100, max_depth=3, random_state=69420)"
      ],
      "execution_count": null,
      "outputs": []
    },
    {
      "cell_type": "code",
      "metadata": {
        "colab": {
          "base_uri": "https://localhost:8080/"
        },
        "id": "fAM7nFv3_IxT",
        "outputId": "54c22d6a-7303-42d7-cdd3-819dad2633b8"
      },
      "source": [
        "clf.fit(np.vstack(all_sent_embs), all_labels)"
      ],
      "execution_count": null,
      "outputs": [
        {
          "output_type": "execute_result",
          "data": {
            "text/plain": [
              "RandomForestClassifier(bootstrap=True, ccp_alpha=0.0, class_weight=None,\n",
              "                       criterion='gini', max_depth=3, max_features='auto',\n",
              "                       max_leaf_nodes=None, max_samples=None,\n",
              "                       min_impurity_decrease=0.0, min_impurity_split=None,\n",
              "                       min_samples_leaf=1, min_samples_split=2,\n",
              "                       min_weight_fraction_leaf=0.0, n_estimators=100,\n",
              "                       n_jobs=None, oob_score=False, random_state=69420,\n",
              "                       verbose=0, warm_start=False)"
            ]
          },
          "metadata": {
            "tags": []
          },
          "execution_count": 136
        }
      ]
    },
    {
      "cell_type": "code",
      "metadata": {
        "id": "0MsZbft8_6_1"
      },
      "source": [
        "clf_preds = [clf.predict(sent_emb)[0] for sent_emb in all_test_embs]"
      ],
      "execution_count": null,
      "outputs": []
    },
    {
      "cell_type": "code",
      "metadata": {
        "colab": {
          "base_uri": "https://localhost:8080/"
        },
        "id": "2uLnsvS6GVVk",
        "outputId": "5346cb46-8f87-4a18-83d8-be9391c26027"
      },
      "source": [
        " print(classification_report(test_labels, clf_preds))"
      ],
      "execution_count": null,
      "outputs": [
        {
          "output_type": "stream",
          "text": [
            "               precision    recall  f1-score   support\n",
            "\n",
            "    Incentive       0.89      0.93      0.91       228\n",
            "not_Incentive       0.76      0.68      0.72        78\n",
            "\n",
            "     accuracy                           0.86       306\n",
            "    macro avg       0.83      0.80      0.81       306\n",
            " weighted avg       0.86      0.86      0.86       306\n",
            "\n"
          ],
          "name": "stdout"
        }
      ]
    },
    {
      "cell_type": "code",
      "metadata": {
        "id": "Y_k1CWeJATgy"
      },
      "source": [
        "numeric_preds = labels2numeric(clf_preds, label_names)\n",
        "numeric_test_labels = labels2numeric(test_labels, label_names)\n",
        "evaluator = ModelEvaluator(label_names, y_true=numeric_test_labels, y_pred=numeric_preds)"
      ],
      "execution_count": null,
      "outputs": []
    },
    {
      "cell_type": "code",
      "metadata": {
        "colab": {
          "base_uri": "https://localhost:8080/",
          "height": 455
        },
        "id": "jHI9hf6EAy_N",
        "outputId": "1544a62f-3b4c-4aaf-b98b-82d9d3044783"
      },
      "source": [
        "evaluator.plot_confusion_matrix(color_map='Blues')"
      ],
      "execution_count": null,
      "outputs": [
        {
          "output_type": "display_data",
          "data": {
            "image/png": "[encoded data removed]",
            "text/plain": [
              "<Figure size 576x432 with 2 Axes>"
            ]
          },
          "metadata": {
            "tags": []
          }
        }
      ]
    },
    {
      "cell_type": "markdown",
      "metadata": {
        "id": "yXdaChWFBrWg"
      },
      "source": [
        "Honestly, without Grid Search and 5-fold Cross Validation, these are not bad results... We should add those though!"
      ]
    },
    {
      "cell_type": "markdown",
      "metadata": {
        "id": "Y3DoYgdaDHJ6"
      },
      "source": [
        "2. Now, we're gonna try Support Vector Machines"
      ]
    },
    {
      "cell_type": "code",
      "metadata": {
        "id": "lcNVNbZVDBX_"
      },
      "source": [
        "from sklearn import svm"
      ],
      "execution_count": null,
      "outputs": []
    },
    {
      "cell_type": "code",
      "metadata": {
        "id": "vD4-V3KpAy3k"
      },
      "source": [
        "clf = svm.SVC(gamma=0.001, C=100.)"
      ],
      "execution_count": null,
      "outputs": []
    },
    {
      "cell_type": "code",
      "metadata": {
        "colab": {
          "base_uri": "https://localhost:8080/"
        },
        "id": "oeqA23VGAyoK",
        "outputId": "3d905ff1-b4e8-4d2b-8887-5a6eb5e497e1"
      },
      "source": [
        "clf.fit(np.vstack(all_sent_embs), all_labels)"
      ],
      "execution_count": null,
      "outputs": [
        {
          "output_type": "execute_result",
          "data": {
            "text/plain": [
              "SVC(C=100.0, break_ties=False, cache_size=200, class_weight=None, coef0=0.0,\n",
              "    decision_function_shape='ovr', degree=3, gamma=0.001, kernel='rbf',\n",
              "    max_iter=-1, probability=False, random_state=None, shrinking=True,\n",
              "    tol=0.001, verbose=False)"
            ]
          },
          "metadata": {
            "tags": []
          },
          "execution_count": 130
        }
      ]
    },
    {
      "cell_type": "code",
      "metadata": {
        "id": "tyytG01oEC4G"
      },
      "source": [
        "clf_preds = [clf.predict(sent_emb)[0] for sent_emb in all_test_embs]"
      ],
      "execution_count": null,
      "outputs": []
    },
    {
      "cell_type": "code",
      "metadata": {
        "id": "SEneBVYFD3DW"
      },
      "source": [
        "numeric_preds = labels2numeric(clf_preds, label_names)\n",
        "numeric_test_labels = labels2numeric(test_labels, label_names)\n",
        "evaluator = ModelEvaluator(label_names, y_true=numeric_test_labels, y_pred=numeric_preds)"
      ],
      "execution_count": null,
      "outputs": []
    },
    {
      "cell_type": "code",
      "metadata": {
        "colab": {
          "base_uri": "https://localhost:8080/"
        },
        "id": "cscCU733D664",
        "outputId": "51dd0385-c7ae-44f6-f090-936b4161136a"
      },
      "source": [
        "print(classification_report(test_labels, clf_preds))"
      ],
      "execution_count": null,
      "outputs": [
        {
          "output_type": "stream",
          "text": [
            "               precision    recall  f1-score   support\n",
            "\n",
            "    Incentive       0.91      0.92      0.92       228\n",
            "not_Incentive       0.76      0.74      0.75        78\n",
            "\n",
            "     accuracy                           0.88       306\n",
            "    macro avg       0.84      0.83      0.84       306\n",
            " weighted avg       0.87      0.88      0.88       306\n",
            "\n"
          ],
          "name": "stdout"
        }
      ]
    },
    {
      "cell_type": "code",
      "metadata": {
        "colab": {
          "base_uri": "https://localhost:8080/",
          "height": 455
        },
        "id": "oxYzT51aD60j",
        "outputId": "c7af7030-d09a-43a0-c868-5ac36af22b7a"
      },
      "source": [
        "evaluator.plot_confusion_matrix(color_map='Blues')"
      ],
      "execution_count": null,
      "outputs": [
        {
          "output_type": "display_data",
          "data": {
            "image/png": "[encoded data removed]",
            "text/plain": [
              "<Figure size 576x432 with 2 Axes>"
            ]
          },
          "metadata": {
            "tags": []
          }
        }
      ]
    },
    {
      "cell_type": "markdown",
      "metadata": {
        "id": "H-ki8dU5EUaq"
      },
      "source": [
        "Ok, so SVMs are slightly better than Random Forests at ***differentiating*** text! There's a 1-2% decrease in performance for the incentive class, but a 6% gain in non-incentives. If these results remain when doing cross validation and grid search, then I'd recommend going for the SVMs.\n",
        "\n",
        "\n",
        "**Next steps:**\n",
        "- Add Grid Search Cross Validation from sklearn"
      ]
    },
    {
      "cell_type": "code",
      "metadata": {
        "id": "9y34yQNqD6TO"
      },
      "source": [
        ""
      ],
      "execution_count": null,
      "outputs": []
    },
    {
      "cell_type": "markdown",
      "metadata": {
        "id": "mbfAvxu0-_Qi"
      },
      "source": [
        "### What about... Beto?\n",
        "I downloaded the weights and placed them in the folder below: "
      ]
    },
    {
      "cell_type": "code",
      "metadata": {
        "colab": {
          "base_uri": "https://localhost:8080/"
        },
        "id": "n8I9IyxRrCm5",
        "outputId": "82ed8f16-16d3-4b71-c0e2-31304ae96327"
      },
      "source": [
        "!pip install transformers"
      ],
      "execution_count": null,
      "outputs": [
        {
          "output_type": "stream",
          "text": [
            "Requirement already satisfied: transformers in /usr/local/lib/python3.6/dist-packages (4.2.1)\n",
            "Requirement already satisfied: importlib-metadata; python_version < \"3.8\" in /usr/local/lib/python3.6/dist-packages (from transformers) (3.3.0)\n",
            "Requirement already satisfied: regex!=2019.12.17 in /usr/local/lib/python3.6/dist-packages (from transformers) (2019.12.20)\n",
            "Requirement already satisfied: dataclasses; python_version < \"3.7\" in /usr/local/lib/python3.6/dist-packages (from transformers) (0.8)\n",
            "Requirement already satisfied: numpy in /usr/local/lib/python3.6/dist-packages (from transformers) (1.19.5)\n",
            "Requirement already satisfied: tqdm>=4.27 in /usr/local/lib/python3.6/dist-packages (from transformers) (4.41.1)\n",
            "Requirement already satisfied: tokenizers==0.9.4 in /usr/local/lib/python3.6/dist-packages (from transformers) (0.9.4)\n",
            "Requirement already satisfied: filelock in /usr/local/lib/python3.6/dist-packages (from transformers) (3.0.12)\n",
            "Requirement already satisfied: sacremoses in /usr/local/lib/python3.6/dist-packages (from transformers) (0.0.43)\n",
            "Requirement already satisfied: packaging in /usr/local/lib/python3.6/dist-packages (from transformers) (20.8)\n",
            "Requirement already satisfied: requests in /usr/local/lib/python3.6/dist-packages (from transformers) (2.23.0)\n",
            "Requirement already satisfied: typing-extensions>=3.6.4; python_version < \"3.8\" in /usr/local/lib/python3.6/dist-packages (from importlib-metadata; python_version < \"3.8\"->transformers) (3.7.4.3)\n",
            "Requirement already satisfied: zipp>=0.5 in /usr/local/lib/python3.6/dist-packages (from importlib-metadata; python_version < \"3.8\"->transformers) (3.4.0)\n",
            "Requirement already satisfied: joblib in /usr/local/lib/python3.6/dist-packages (from sacremoses->transformers) (1.0.0)\n",
            "Requirement already satisfied: click in /usr/local/lib/python3.6/dist-packages (from sacremoses->transformers) (7.1.2)\n",
            "Requirement already satisfied: six in /usr/local/lib/python3.6/dist-packages (from sacremoses->transformers) (1.15.0)\n",
            "Requirement already satisfied: pyparsing>=2.0.2 in /usr/local/lib/python3.6/dist-packages (from packaging->transformers) (2.4.7)\n",
            "Requirement already satisfied: urllib3!=1.25.0,!=1.25.1,<1.26,>=1.21.1 in /usr/local/lib/python3.6/dist-packages (from requests->transformers) (1.24.3)\n",
            "Requirement already satisfied: idna<3,>=2.5 in /usr/local/lib/python3.6/dist-packages (from requests->transformers) (2.10)\n",
            "Requirement already satisfied: certifi>=2017.4.17 in /usr/local/lib/python3.6/dist-packages (from requests->transformers) (2020.12.5)\n",
            "Requirement already satisfied: chardet<4,>=3.0.2 in /usr/local/lib/python3.6/dist-packages (from requests->transformers) (3.0.4)\n"
          ],
          "name": "stdout"
        }
      ]
    },
    {
      "cell_type": "code",
      "metadata": {
        "id": "mxk0ZHUFHnkk"
      },
      "source": [
        "beto_path = f\"{base_path}/Modeling/BETO/pytorch/\""
      ],
      "execution_count": null,
      "outputs": []
    },
    {
      "cell_type": "code",
      "metadata": {
        "id": "7lHUcXtY3PKP"
      },
      "source": [
        "from transformers import BertTokenizer, BertForSequenceClassification"
      ],
      "execution_count": null,
      "outputs": []
    },
    {
      "cell_type": "markdown",
      "metadata": {
        "id": "TI9IF0UmKYZE"
      },
      "source": [
        "***IMPORTANT:*** I was not able to figure out a way of using the fine tuning results from the models above so I'm gonna use BETO out of the box, for both encoding/classification and see how it goes.\n",
        "\n",
        "The following cells are a demo of how the model should be put to use - once you understand it, feel free to skip this part!"
      ]
    },
    {
      "cell_type": "code",
      "metadata": {
        "colab": {
          "base_uri": "https://localhost:8080/"
        },
        "id": "kmJ_mpC37ICQ",
        "outputId": "f350a9e6-e3a8-476e-846f-43b387302ce1"
      },
      "source": [
        "tokenizer = BertTokenizer.from_pretrained(beto_path)\n",
        "model = BertForSequenceClassification.from_pretrained(beto_path)"
      ],
      "execution_count": null,
      "outputs": [
        {
          "output_type": "stream",
          "text": [
            "Some weights of the model checkpoint at /content/drive/MyDrive/WRI-LatinAmerica-Talent/Modeling/BETO/pytorch/ were not used when initializing BertForSequenceClassification: ['cls.predictions.bias', 'cls.predictions.transform.dense.weight', 'cls.predictions.transform.dense.bias', 'cls.predictions.transform.LayerNorm.weight', 'cls.predictions.transform.LayerNorm.bias', 'cls.predictions.decoder.weight', 'cls.seq_relationship.weight', 'cls.seq_relationship.bias']\n",
            "- This IS expected if you are initializing BertForSequenceClassification from the checkpoint of a model trained on another task or with another architecture (e.g. initializing a BertForSequenceClassification model from a BertForPreTraining model).\n",
            "- This IS NOT expected if you are initializing BertForSequenceClassification from the checkpoint of a model that you expect to be exactly identical (initializing a BertForSequenceClassification model from a BertForSequenceClassification model).\n",
            "Some weights of BertForSequenceClassification were not initialized from the model checkpoint at /content/drive/MyDrive/WRI-LatinAmerica-Talent/Modeling/BETO/pytorch/ and are newly initialized: ['classifier.weight', 'classifier.bias']\n",
            "You should probably TRAIN this model on a down-stream task to be able to use it for predictions and inference.\n"
          ],
          "name": "stderr"
        }
      ]
    },
    {
      "cell_type": "code",
      "metadata": {
        "id": "EGRL66pBIzuy"
      },
      "source": [
        "classes = [\"no es parafrasis\", \"es parafrasis\"]\n",
        "\n",
        "sequence_0 = \"La compañia Hugging esta basada en Nueva York\"\n",
        "sequence_1 = \"Las manzanas son malas para la salud\"\n",
        "sequence_2 = \"La sede principal de Hugging esta en Manhattan\"\n",
        "\n",
        "paraphrase = tokenizer(sequence_0, sequence_2, return_tensors=\"pt\")\n",
        "not_paraphrase = tokenizer(sequence_0, sequence_1, return_tensors=\"pt\")\n",
        "\n",
        "paraphrase_classification_logits = model(**paraphrase).logits\n",
        "not_paraphrase_classification_logits = model(**not_paraphrase).logits\n",
        "\n",
        "paraphrase_results = torch.softmax(paraphrase_classification_logits, dim=1).tolist()[0]\n",
        "not_paraphrase_results = torch.softmax(not_paraphrase_classification_logits, dim=1).tolist()[0]"
      ],
      "execution_count": null,
      "outputs": []
    },
    {
      "cell_type": "code",
      "metadata": {
        "colab": {
          "base_uri": "https://localhost:8080/"
        },
        "id": "C-Pkqe-vI3ld",
        "outputId": "5d208439-c5ae-4da4-b6a1-e748c3a2f839"
      },
      "source": [
        "print(\">>> Deberia de ser parafrasis:\")\n",
        "for i in range(len(classes)):\n",
        "  print(f\"{classes[i]}: {int(round(paraphrase_results[i] * 100))}%\")\n",
        "\n",
        "print(\"\\n>>> NO deberia de ser parafrasis:\")\n",
        "for i in range(len(classes)):\n",
        "  print(f\"{classes[i]}: {int(round(not_paraphrase_results[i] * 100))}%\")"
      ],
      "execution_count": null,
      "outputs": [
        {
          "output_type": "stream",
          "text": [
            ">>> Deberia de ser parafrasis:\n",
            "no es parafrasis: 41%\n",
            "es parafrasis: 59%\n",
            "\n",
            ">>> NO deberia de ser parafrasis:\n",
            "no es parafrasis: 61%\n",
            "es parafrasis: 39%\n"
          ],
          "name": "stdout"
        }
      ]
    },
    {
      "cell_type": "markdown",
      "metadata": {
        "id": "0dRr9sJQKezT"
      },
      "source": [
        "OK! Now it's time to apply it to our data. We will try it out with our test set, just to have a fair comparison"
      ]
    },
    {
      "cell_type": "code",
      "metadata": {
        "id": "ybHMwJE-JyvG"
      },
      "source": [
        "tokenized_sents = tokenizer(test_sents, padding=True, return_tensors=\"pt\")\n",
        "clf_logits = model(**tokenized_sents).logits\n",
        "clf_results = torch.softmax(clf_logits, dim=1).tolist()[0]"
      ],
      "execution_count": null,
      "outputs": []
    },
    {
      "cell_type": "code",
      "metadata": {
        "id": "wELlB7iUJ1T3"
      },
      "source": [
        "# This stores the index of the highest score - in other words, our label\n",
        "clf_preds = [np.argmax(logits) for logits in clf_results]"
      ],
      "execution_count": null,
      "outputs": []
    },
    {
      "cell_type": "code",
      "metadata": {
        "id": "GnrG0AwcM-G5"
      },
      "source": [
        "print(classification_report(test_labels, clf_preds))"
      ],
      "execution_count": null,
      "outputs": []
    },
    {
      "cell_type": "code",
      "metadata": {
        "colab": {
          "base_uri": "https://localhost:8080/"
        },
        "id": "qdV91B4IMZdz",
        "outputId": "c6903dcb-c967-428f-a157-42717317da82"
      },
      "source": [
        "evaluator = ModelEvaluator(label_names, y_true=numeric_test_labels, y_pred=clf_preds)\n",
        "evaluator.plot_confusion_matrix(color_map='Blues')"
      ],
      "execution_count": null,
      "outputs": [
        {
          "output_type": "execute_result",
          "data": {
            "text/plain": [
              "1"
            ]
          },
          "metadata": {
            "tags": []
          },
          "execution_count": 161
        }
      ]
    },
    {
      "cell_type": "code",
      "metadata": {
        "id": "g7X-wUAY6iDc"
      },
      "source": [
        ""
      ],
      "execution_count": null,
      "outputs": []
    }
  ]
}