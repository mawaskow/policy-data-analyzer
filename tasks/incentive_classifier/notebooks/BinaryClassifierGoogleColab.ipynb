{
  "nbformat": 4,
  "nbformat_minor": 0,
  "metadata": {
    "accelerator": "GPU",
    "colab": {
      "name": "BinaryClassifierGoogleColab.ipynb",
      "provenance": [],
      "collapsed_sections": [],
      "machine_shape": "hm"
    },
    "kernelspec": {
      "display_name": "wri-env",
      "language": "python",
      "name": "wri-env"
    },
    "language_info": {
      "codemirror_mode": {
        "name": "ipython",
        "version": 3
      },
      "file_extension": ".py",
      "mimetype": "text/x-python",
      "name": "python",
      "nbconvert_exporter": "python",
      "pygments_lexer": "ipython3",
      "version": "3.8.5"
    },
    "widgets": {
      "application/vnd.jupyter.widget-state+json": {
        "adbf02ec2ce84fb2ab35260af6163bec": {
          "model_module": "@jupyter-widgets/controls",
          "model_name": "HBoxModel",
          "state": {
            "_view_name": "HBoxView",
            "_dom_classes": [],
            "_model_name": "HBoxModel",
            "_view_module": "@jupyter-widgets/controls",
            "_model_module_version": "1.5.0",
            "_view_count": null,
            "_view_module_version": "1.5.0",
            "box_style": "",
            "layout": "IPY_MODEL_362b518202534e48955be9d08d40bf3d",
            "_model_module": "@jupyter-widgets/controls",
            "children": [
              "IPY_MODEL_929c4bf6695d48f5a4c600680485a8ea",
              "IPY_MODEL_524810fda74f471984628fec926af253"
            ]
          }
        },
        "362b518202534e48955be9d08d40bf3d": {
          "model_module": "@jupyter-widgets/base",
          "model_name": "LayoutModel",
          "state": {
            "_view_name": "LayoutView",
            "grid_template_rows": null,
            "right": null,
            "justify_content": null,
            "_view_module": "@jupyter-widgets/base",
            "overflow": null,
            "_model_module_version": "1.2.0",
            "_view_count": null,
            "flex_flow": null,
            "width": null,
            "min_width": null,
            "border": null,
            "align_items": null,
            "bottom": null,
            "_model_module": "@jupyter-widgets/base",
            "top": null,
            "grid_column": null,
            "overflow_y": null,
            "overflow_x": null,
            "grid_auto_flow": null,
            "grid_area": null,
            "grid_template_columns": null,
            "flex": null,
            "_model_name": "LayoutModel",
            "justify_items": null,
            "grid_row": null,
            "max_height": null,
            "align_content": null,
            "visibility": null,
            "align_self": null,
            "height": null,
            "min_height": null,
            "padding": null,
            "grid_auto_rows": null,
            "grid_gap": null,
            "max_width": null,
            "order": null,
            "_view_module_version": "1.2.0",
            "grid_template_areas": null,
            "object_position": null,
            "object_fit": null,
            "grid_auto_columns": null,
            "margin": null,
            "display": null,
            "left": null
          }
        },
        "929c4bf6695d48f5a4c600680485a8ea": {
          "model_module": "@jupyter-widgets/controls",
          "model_name": "FloatProgressModel",
          "state": {
            "_view_name": "ProgressView",
            "style": "IPY_MODEL_4d7bdcca751c4ecba42334651b75b2d8",
            "_dom_classes": [],
            "description": "Epoch: 100%",
            "_model_name": "FloatProgressModel",
            "bar_style": "success",
            "max": 10,
            "_view_module": "@jupyter-widgets/controls",
            "_model_module_version": "1.5.0",
            "value": 10,
            "_view_count": null,
            "_view_module_version": "1.5.0",
            "orientation": "horizontal",
            "min": 0,
            "description_tooltip": null,
            "_model_module": "@jupyter-widgets/controls",
            "layout": "IPY_MODEL_2b198299d02c4398b7ab0237fe5b8452"
          }
        },
        "524810fda74f471984628fec926af253": {
          "model_module": "@jupyter-widgets/controls",
          "model_name": "HTMLModel",
          "state": {
            "_view_name": "HTMLView",
            "style": "IPY_MODEL_e5311b68f7cb4bbab981bcb0b6a5a2e0",
            "_dom_classes": [],
            "description": "",
            "_model_name": "HTMLModel",
            "placeholder": "​",
            "_view_module": "@jupyter-widgets/controls",
            "_model_module_version": "1.5.0",
            "value": " 10/10 [02:01&lt;00:00, 12.16s/it]",
            "_view_count": null,
            "_view_module_version": "1.5.0",
            "description_tooltip": null,
            "_model_module": "@jupyter-widgets/controls",
            "layout": "IPY_MODEL_aee3deed5868422b812ac18ea56f87c9"
          }
        },
        "4d7bdcca751c4ecba42334651b75b2d8": {
          "model_module": "@jupyter-widgets/controls",
          "model_name": "ProgressStyleModel",
          "state": {
            "_view_name": "StyleView",
            "_model_name": "ProgressStyleModel",
            "description_width": "initial",
            "_view_module": "@jupyter-widgets/base",
            "_model_module_version": "1.5.0",
            "_view_count": null,
            "_view_module_version": "1.2.0",
            "bar_color": null,
            "_model_module": "@jupyter-widgets/controls"
          }
        },
        "2b198299d02c4398b7ab0237fe5b8452": {
          "model_module": "@jupyter-widgets/base",
          "model_name": "LayoutModel",
          "state": {
            "_view_name": "LayoutView",
            "grid_template_rows": null,
            "right": null,
            "justify_content": null,
            "_view_module": "@jupyter-widgets/base",
            "overflow": null,
            "_model_module_version": "1.2.0",
            "_view_count": null,
            "flex_flow": null,
            "width": null,
            "min_width": null,
            "border": null,
            "align_items": null,
            "bottom": null,
            "_model_module": "@jupyter-widgets/base",
            "top": null,
            "grid_column": null,
            "overflow_y": null,
            "overflow_x": null,
            "grid_auto_flow": null,
            "grid_area": null,
            "grid_template_columns": null,
            "flex": null,
            "_model_name": "LayoutModel",
            "justify_items": null,
            "grid_row": null,
            "max_height": null,
            "align_content": null,
            "visibility": null,
            "align_self": null,
            "height": null,
            "min_height": null,
            "padding": null,
            "grid_auto_rows": null,
            "grid_gap": null,
            "max_width": null,
            "order": null,
            "_view_module_version": "1.2.0",
            "grid_template_areas": null,
            "object_position": null,
            "object_fit": null,
            "grid_auto_columns": null,
            "margin": null,
            "display": null,
            "left": null
          }
        },
        "e5311b68f7cb4bbab981bcb0b6a5a2e0": {
          "model_module": "@jupyter-widgets/controls",
          "model_name": "DescriptionStyleModel",
          "state": {
            "_view_name": "StyleView",
            "_model_name": "DescriptionStyleModel",
            "description_width": "",
            "_view_module": "@jupyter-widgets/base",
            "_model_module_version": "1.5.0",
            "_view_count": null,
            "_view_module_version": "1.2.0",
            "_model_module": "@jupyter-widgets/controls"
          }
        },
        "aee3deed5868422b812ac18ea56f87c9": {
          "model_module": "@jupyter-widgets/base",
          "model_name": "LayoutModel",
          "state": {
            "_view_name": "LayoutView",
            "grid_template_rows": null,
            "right": null,
            "justify_content": null,
            "_view_module": "@jupyter-widgets/base",
            "overflow": null,
            "_model_module_version": "1.2.0",
            "_view_count": null,
            "flex_flow": null,
            "width": null,
            "min_width": null,
            "border": null,
            "align_items": null,
            "bottom": null,
            "_model_module": "@jupyter-widgets/base",
            "top": null,
            "grid_column": null,
            "overflow_y": null,
            "overflow_x": null,
            "grid_auto_flow": null,
            "grid_area": null,
            "grid_template_columns": null,
            "flex": null,
            "_model_name": "LayoutModel",
            "justify_items": null,
            "grid_row": null,
            "max_height": null,
            "align_content": null,
            "visibility": null,
            "align_self": null,
            "height": null,
            "min_height": null,
            "padding": null,
            "grid_auto_rows": null,
            "grid_gap": null,
            "max_width": null,
            "order": null,
            "_view_module_version": "1.2.0",
            "grid_template_areas": null,
            "object_position": null,
            "object_fit": null,
            "grid_auto_columns": null,
            "margin": null,
            "display": null,
            "left": null
          }
        },
        "2fee41911fb54096a1ef532056bd1027": {
          "model_module": "@jupyter-widgets/controls",
          "model_name": "HBoxModel",
          "state": {
            "_view_name": "HBoxView",
            "_dom_classes": [],
            "_model_name": "HBoxModel",
            "_view_module": "@jupyter-widgets/controls",
            "_model_module_version": "1.5.0",
            "_view_count": null,
            "_view_module_version": "1.5.0",
            "box_style": "",
            "layout": "IPY_MODEL_65609110d0114d068968d3601126dbdd",
            "_model_module": "@jupyter-widgets/controls",
            "children": [
              "IPY_MODEL_a27ceb230d924ad5906c777c56786f45",
              "IPY_MODEL_0d88b7c7b920411cb4819ff36766d809"
            ]
          }
        },
        "65609110d0114d068968d3601126dbdd": {
          "model_module": "@jupyter-widgets/base",
          "model_name": "LayoutModel",
          "state": {
            "_view_name": "LayoutView",
            "grid_template_rows": null,
            "right": null,
            "justify_content": null,
            "_view_module": "@jupyter-widgets/base",
            "overflow": null,
            "_model_module_version": "1.2.0",
            "_view_count": null,
            "flex_flow": null,
            "width": null,
            "min_width": null,
            "border": null,
            "align_items": null,
            "bottom": null,
            "_model_module": "@jupyter-widgets/base",
            "top": null,
            "grid_column": null,
            "overflow_y": null,
            "overflow_x": null,
            "grid_auto_flow": null,
            "grid_area": null,
            "grid_template_columns": null,
            "flex": null,
            "_model_name": "LayoutModel",
            "justify_items": null,
            "grid_row": null,
            "max_height": null,
            "align_content": null,
            "visibility": null,
            "align_self": null,
            "height": null,
            "min_height": null,
            "padding": null,
            "grid_auto_rows": null,
            "grid_gap": null,
            "max_width": null,
            "order": null,
            "_view_module_version": "1.2.0",
            "grid_template_areas": null,
            "object_position": null,
            "object_fit": null,
            "grid_auto_columns": null,
            "margin": null,
            "display": null,
            "left": null
          }
        },
        "a27ceb230d924ad5906c777c56786f45": {
          "model_module": "@jupyter-widgets/controls",
          "model_name": "FloatProgressModel",
          "state": {
            "_view_name": "ProgressView",
            "style": "IPY_MODEL_74fb3131226347f68c575e4d57c4ce77",
            "_dom_classes": [],
            "description": "Iteration: 100%",
            "_model_name": "FloatProgressModel",
            "bar_style": "success",
            "max": 43,
            "_view_module": "@jupyter-widgets/controls",
            "_model_module_version": "1.5.0",
            "value": 43,
            "_view_count": null,
            "_view_module_version": "1.5.0",
            "orientation": "horizontal",
            "min": 0,
            "description_tooltip": null,
            "_model_module": "@jupyter-widgets/controls",
            "layout": "IPY_MODEL_07837dde5753438c8e00d44f35ce3807"
          }
        },
        "0d88b7c7b920411cb4819ff36766d809": {
          "model_module": "@jupyter-widgets/controls",
          "model_name": "HTMLModel",
          "state": {
            "_view_name": "HTMLView",
            "style": "IPY_MODEL_d2e745f7b3ec4765b73ad80fc17ad0ac",
            "_dom_classes": [],
            "description": "",
            "_model_name": "HTMLModel",
            "placeholder": "​",
            "_view_module": "@jupyter-widgets/controls",
            "_model_module_version": "1.5.0",
            "value": " 43/43 [00:22&lt;00:00,  1.94it/s]",
            "_view_count": null,
            "_view_module_version": "1.5.0",
            "description_tooltip": null,
            "_model_module": "@jupyter-widgets/controls",
            "layout": "IPY_MODEL_b023e315993a47d78b30b9d006033513"
          }
        },
        "74fb3131226347f68c575e4d57c4ce77": {
          "model_module": "@jupyter-widgets/controls",
          "model_name": "ProgressStyleModel",
          "state": {
            "_view_name": "StyleView",
            "_model_name": "ProgressStyleModel",
            "description_width": "initial",
            "_view_module": "@jupyter-widgets/base",
            "_model_module_version": "1.5.0",
            "_view_count": null,
            "_view_module_version": "1.2.0",
            "bar_color": null,
            "_model_module": "@jupyter-widgets/controls"
          }
        },
        "07837dde5753438c8e00d44f35ce3807": {
          "model_module": "@jupyter-widgets/base",
          "model_name": "LayoutModel",
          "state": {
            "_view_name": "LayoutView",
            "grid_template_rows": null,
            "right": null,
            "justify_content": null,
            "_view_module": "@jupyter-widgets/base",
            "overflow": null,
            "_model_module_version": "1.2.0",
            "_view_count": null,
            "flex_flow": null,
            "width": null,
            "min_width": null,
            "border": null,
            "align_items": null,
            "bottom": null,
            "_model_module": "@jupyter-widgets/base",
            "top": null,
            "grid_column": null,
            "overflow_y": null,
            "overflow_x": null,
            "grid_auto_flow": null,
            "grid_area": null,
            "grid_template_columns": null,
            "flex": null,
            "_model_name": "LayoutModel",
            "justify_items": null,
            "grid_row": null,
            "max_height": null,
            "align_content": null,
            "visibility": null,
            "align_self": null,
            "height": null,
            "min_height": null,
            "padding": null,
            "grid_auto_rows": null,
            "grid_gap": null,
            "max_width": null,
            "order": null,
            "_view_module_version": "1.2.0",
            "grid_template_areas": null,
            "object_position": null,
            "object_fit": null,
            "grid_auto_columns": null,
            "margin": null,
            "display": null,
            "left": null
          }
        },
        "d2e745f7b3ec4765b73ad80fc17ad0ac": {
          "model_module": "@jupyter-widgets/controls",
          "model_name": "DescriptionStyleModel",
          "state": {
            "_view_name": "StyleView",
            "_model_name": "DescriptionStyleModel",
            "description_width": "",
            "_view_module": "@jupyter-widgets/base",
            "_model_module_version": "1.5.0",
            "_view_count": null,
            "_view_module_version": "1.2.0",
            "_model_module": "@jupyter-widgets/controls"
          }
        },
        "b023e315993a47d78b30b9d006033513": {
          "model_module": "@jupyter-widgets/base",
          "model_name": "LayoutModel",
          "state": {
            "_view_name": "LayoutView",
            "grid_template_rows": null,
            "right": null,
            "justify_content": null,
            "_view_module": "@jupyter-widgets/base",
            "overflow": null,
            "_model_module_version": "1.2.0",
            "_view_count": null,
            "flex_flow": null,
            "width": null,
            "min_width": null,
            "border": null,
            "align_items": null,
            "bottom": null,
            "_model_module": "@jupyter-widgets/base",
            "top": null,
            "grid_column": null,
            "overflow_y": null,
            "overflow_x": null,
            "grid_auto_flow": null,
            "grid_area": null,
            "grid_template_columns": null,
            "flex": null,
            "_model_name": "LayoutModel",
            "justify_items": null,
            "grid_row": null,
            "max_height": null,
            "align_content": null,
            "visibility": null,
            "align_self": null,
            "height": null,
            "min_height": null,
            "padding": null,
            "grid_auto_rows": null,
            "grid_gap": null,
            "max_width": null,
            "order": null,
            "_view_module_version": "1.2.0",
            "grid_template_areas": null,
            "object_position": null,
            "object_fit": null,
            "grid_auto_columns": null,
            "margin": null,
            "display": null,
            "left": null
          }
        },
        "e5e3db7b7eaa4094a093399466851ddb": {
          "model_module": "@jupyter-widgets/controls",
          "model_name": "HBoxModel",
          "state": {
            "_view_name": "HBoxView",
            "_dom_classes": [],
            "_model_name": "HBoxModel",
            "_view_module": "@jupyter-widgets/controls",
            "_model_module_version": "1.5.0",
            "_view_count": null,
            "_view_module_version": "1.5.0",
            "box_style": "",
            "layout": "IPY_MODEL_ed2360ea4e24403591d9ecf8df2db872",
            "_model_module": "@jupyter-widgets/controls",
            "children": [
              "IPY_MODEL_6f627382966449b88bbe6b36e75d6e81",
              "IPY_MODEL_55f9b30df12241ef96c72d40d198e080"
            ]
          }
        },
        "ed2360ea4e24403591d9ecf8df2db872": {
          "model_module": "@jupyter-widgets/base",
          "model_name": "LayoutModel",
          "state": {
            "_view_name": "LayoutView",
            "grid_template_rows": null,
            "right": null,
            "justify_content": null,
            "_view_module": "@jupyter-widgets/base",
            "overflow": null,
            "_model_module_version": "1.2.0",
            "_view_count": null,
            "flex_flow": null,
            "width": null,
            "min_width": null,
            "border": null,
            "align_items": null,
            "bottom": null,
            "_model_module": "@jupyter-widgets/base",
            "top": null,
            "grid_column": null,
            "overflow_y": null,
            "overflow_x": null,
            "grid_auto_flow": null,
            "grid_area": null,
            "grid_template_columns": null,
            "flex": null,
            "_model_name": "LayoutModel",
            "justify_items": null,
            "grid_row": null,
            "max_height": null,
            "align_content": null,
            "visibility": null,
            "align_self": null,
            "height": null,
            "min_height": null,
            "padding": null,
            "grid_auto_rows": null,
            "grid_gap": null,
            "max_width": null,
            "order": null,
            "_view_module_version": "1.2.0",
            "grid_template_areas": null,
            "object_position": null,
            "object_fit": null,
            "grid_auto_columns": null,
            "margin": null,
            "display": null,
            "left": null
          }
        },
        "6f627382966449b88bbe6b36e75d6e81": {
          "model_module": "@jupyter-widgets/controls",
          "model_name": "FloatProgressModel",
          "state": {
            "_view_name": "ProgressView",
            "style": "IPY_MODEL_13f87646da5e4796af8fd36779f21d67",
            "_dom_classes": [],
            "description": "Iteration: 100%",
            "_model_name": "FloatProgressModel",
            "bar_style": "success",
            "max": 43,
            "_view_module": "@jupyter-widgets/controls",
            "_model_module_version": "1.5.0",
            "value": 43,
            "_view_count": null,
            "_view_module_version": "1.5.0",
            "orientation": "horizontal",
            "min": 0,
            "description_tooltip": null,
            "_model_module": "@jupyter-widgets/controls",
            "layout": "IPY_MODEL_a3e75a5fb6b94157bcd8508c80e38e63"
          }
        },
        "55f9b30df12241ef96c72d40d198e080": {
          "model_module": "@jupyter-widgets/controls",
          "model_name": "HTMLModel",
          "state": {
            "_view_name": "HTMLView",
            "style": "IPY_MODEL_b3332bfb131b4e5bb29fea21a511138f",
            "_dom_classes": [],
            "description": "",
            "_model_name": "HTMLModel",
            "placeholder": "​",
            "_view_module": "@jupyter-widgets/controls",
            "_model_module_version": "1.5.0",
            "value": " 43/43 [00:09&lt;00:00,  4.39it/s]",
            "_view_count": null,
            "_view_module_version": "1.5.0",
            "description_tooltip": null,
            "_model_module": "@jupyter-widgets/controls",
            "layout": "IPY_MODEL_487d32687bf4422882e915ea255d3b45"
          }
        },
        "13f87646da5e4796af8fd36779f21d67": {
          "model_module": "@jupyter-widgets/controls",
          "model_name": "ProgressStyleModel",
          "state": {
            "_view_name": "StyleView",
            "_model_name": "ProgressStyleModel",
            "description_width": "initial",
            "_view_module": "@jupyter-widgets/base",
            "_model_module_version": "1.5.0",
            "_view_count": null,
            "_view_module_version": "1.2.0",
            "bar_color": null,
            "_model_module": "@jupyter-widgets/controls"
          }
        },
        "a3e75a5fb6b94157bcd8508c80e38e63": {
          "model_module": "@jupyter-widgets/base",
          "model_name": "LayoutModel",
          "state": {
            "_view_name": "LayoutView",
            "grid_template_rows": null,
            "right": null,
            "justify_content": null,
            "_view_module": "@jupyter-widgets/base",
            "overflow": null,
            "_model_module_version": "1.2.0",
            "_view_count": null,
            "flex_flow": null,
            "width": null,
            "min_width": null,
            "border": null,
            "align_items": null,
            "bottom": null,
            "_model_module": "@jupyter-widgets/base",
            "top": null,
            "grid_column": null,
            "overflow_y": null,
            "overflow_x": null,
            "grid_auto_flow": null,
            "grid_area": null,
            "grid_template_columns": null,
            "flex": null,
            "_model_name": "LayoutModel",
            "justify_items": null,
            "grid_row": null,
            "max_height": null,
            "align_content": null,
            "visibility": null,
            "align_self": null,
            "height": null,
            "min_height": null,
            "padding": null,
            "grid_auto_rows": null,
            "grid_gap": null,
            "max_width": null,
            "order": null,
            "_view_module_version": "1.2.0",
            "grid_template_areas": null,
            "object_position": null,
            "object_fit": null,
            "grid_auto_columns": null,
            "margin": null,
            "display": null,
            "left": null
          }
        },
        "b3332bfb131b4e5bb29fea21a511138f": {
          "model_module": "@jupyter-widgets/controls",
          "model_name": "DescriptionStyleModel",
          "state": {
            "_view_name": "StyleView",
            "_model_name": "DescriptionStyleModel",
            "description_width": "",
            "_view_module": "@jupyter-widgets/base",
            "_model_module_version": "1.5.0",
            "_view_count": null,
            "_view_module_version": "1.2.0",
            "_model_module": "@jupyter-widgets/controls"
          }
        },
        "487d32687bf4422882e915ea255d3b45": {
          "model_module": "@jupyter-widgets/base",
          "model_name": "LayoutModel",
          "state": {
            "_view_name": "LayoutView",
            "grid_template_rows": null,
            "right": null,
            "justify_content": null,
            "_view_module": "@jupyter-widgets/base",
            "overflow": null,
            "_model_module_version": "1.2.0",
            "_view_count": null,
            "flex_flow": null,
            "width": null,
            "min_width": null,
            "border": null,
            "align_items": null,
            "bottom": null,
            "_model_module": "@jupyter-widgets/base",
            "top": null,
            "grid_column": null,
            "overflow_y": null,
            "overflow_x": null,
            "grid_auto_flow": null,
            "grid_area": null,
            "grid_template_columns": null,
            "flex": null,
            "_model_name": "LayoutModel",
            "justify_items": null,
            "grid_row": null,
            "max_height": null,
            "align_content": null,
            "visibility": null,
            "align_self": null,
            "height": null,
            "min_height": null,
            "padding": null,
            "grid_auto_rows": null,
            "grid_gap": null,
            "max_width": null,
            "order": null,
            "_view_module_version": "1.2.0",
            "grid_template_areas": null,
            "object_position": null,
            "object_fit": null,
            "grid_auto_columns": null,
            "margin": null,
            "display": null,
            "left": null
          }
        },
        "35a299ae4fc04f26a414aa028b8def99": {
          "model_module": "@jupyter-widgets/controls",
          "model_name": "HBoxModel",
          "state": {
            "_view_name": "HBoxView",
            "_dom_classes": [],
            "_model_name": "HBoxModel",
            "_view_module": "@jupyter-widgets/controls",
            "_model_module_version": "1.5.0",
            "_view_count": null,
            "_view_module_version": "1.5.0",
            "box_style": "",
            "layout": "IPY_MODEL_cbef0d1d212144f0b93046d8b849a42f",
            "_model_module": "@jupyter-widgets/controls",
            "children": [
              "IPY_MODEL_4a923782179d4e808933dd449649d0bf",
              "IPY_MODEL_f41591fc5eae4537b2521e590085c5b2"
            ]
          }
        },
        "cbef0d1d212144f0b93046d8b849a42f": {
          "model_module": "@jupyter-widgets/base",
          "model_name": "LayoutModel",
          "state": {
            "_view_name": "LayoutView",
            "grid_template_rows": null,
            "right": null,
            "justify_content": null,
            "_view_module": "@jupyter-widgets/base",
            "overflow": null,
            "_model_module_version": "1.2.0",
            "_view_count": null,
            "flex_flow": null,
            "width": null,
            "min_width": null,
            "border": null,
            "align_items": null,
            "bottom": null,
            "_model_module": "@jupyter-widgets/base",
            "top": null,
            "grid_column": null,
            "overflow_y": null,
            "overflow_x": null,
            "grid_auto_flow": null,
            "grid_area": null,
            "grid_template_columns": null,
            "flex": null,
            "_model_name": "LayoutModel",
            "justify_items": null,
            "grid_row": null,
            "max_height": null,
            "align_content": null,
            "visibility": null,
            "align_self": null,
            "height": null,
            "min_height": null,
            "padding": null,
            "grid_auto_rows": null,
            "grid_gap": null,
            "max_width": null,
            "order": null,
            "_view_module_version": "1.2.0",
            "grid_template_areas": null,
            "object_position": null,
            "object_fit": null,
            "grid_auto_columns": null,
            "margin": null,
            "display": null,
            "left": null
          }
        },
        "4a923782179d4e808933dd449649d0bf": {
          "model_module": "@jupyter-widgets/controls",
          "model_name": "FloatProgressModel",
          "state": {
            "_view_name": "ProgressView",
            "style": "IPY_MODEL_f600433ccba94aad8f30bd4c9d5a6eb4",
            "_dom_classes": [],
            "description": "Iteration: 100%",
            "_model_name": "FloatProgressModel",
            "bar_style": "success",
            "max": 43,
            "_view_module": "@jupyter-widgets/controls",
            "_model_module_version": "1.5.0",
            "value": 43,
            "_view_count": null,
            "_view_module_version": "1.5.0",
            "orientation": "horizontal",
            "min": 0,
            "description_tooltip": null,
            "_model_module": "@jupyter-widgets/controls",
            "layout": "IPY_MODEL_f0b102c7ef264078858d0233c2176d3b"
          }
        },
        "f41591fc5eae4537b2521e590085c5b2": {
          "model_module": "@jupyter-widgets/controls",
          "model_name": "HTMLModel",
          "state": {
            "_view_name": "HTMLView",
            "style": "IPY_MODEL_a578f6f2dccb48e997241ff0df44c70e",
            "_dom_classes": [],
            "description": "",
            "_model_name": "HTMLModel",
            "placeholder": "​",
            "_view_module": "@jupyter-widgets/controls",
            "_model_module_version": "1.5.0",
            "value": " 43/43 [01:28&lt;00:00,  2.05s/it]",
            "_view_count": null,
            "_view_module_version": "1.5.0",
            "description_tooltip": null,
            "_model_module": "@jupyter-widgets/controls",
            "layout": "IPY_MODEL_85fa60932e4a410a9469b184d6c2d4f3"
          }
        },
        "f600433ccba94aad8f30bd4c9d5a6eb4": {
          "model_module": "@jupyter-widgets/controls",
          "model_name": "ProgressStyleModel",
          "state": {
            "_view_name": "StyleView",
            "_model_name": "ProgressStyleModel",
            "description_width": "initial",
            "_view_module": "@jupyter-widgets/base",
            "_model_module_version": "1.5.0",
            "_view_count": null,
            "_view_module_version": "1.2.0",
            "bar_color": null,
            "_model_module": "@jupyter-widgets/controls"
          }
        },
        "f0b102c7ef264078858d0233c2176d3b": {
          "model_module": "@jupyter-widgets/base",
          "model_name": "LayoutModel",
          "state": {
            "_view_name": "LayoutView",
            "grid_template_rows": null,
            "right": null,
            "justify_content": null,
            "_view_module": "@jupyter-widgets/base",
            "overflow": null,
            "_model_module_version": "1.2.0",
            "_view_count": null,
            "flex_flow": null,
            "width": null,
            "min_width": null,
            "border": null,
            "align_items": null,
            "bottom": null,
            "_model_module": "@jupyter-widgets/base",
            "top": null,
            "grid_column": null,
            "overflow_y": null,
            "overflow_x": null,
            "grid_auto_flow": null,
            "grid_area": null,
            "grid_template_columns": null,
            "flex": null,
            "_model_name": "LayoutModel",
            "justify_items": null,
            "grid_row": null,
            "max_height": null,
            "align_content": null,
            "visibility": null,
            "align_self": null,
            "height": null,
            "min_height": null,
            "padding": null,
            "grid_auto_rows": null,
            "grid_gap": null,
            "max_width": null,
            "order": null,
            "_view_module_version": "1.2.0",
            "grid_template_areas": null,
            "object_position": null,
            "object_fit": null,
            "grid_auto_columns": null,
            "margin": null,
            "display": null,
            "left": null
          }
        },
        "a578f6f2dccb48e997241ff0df44c70e": {
          "model_module": "@jupyter-widgets/controls",
          "model_name": "DescriptionStyleModel",
          "state": {
            "_view_name": "StyleView",
            "_model_name": "DescriptionStyleModel",
            "description_width": "",
            "_view_module": "@jupyter-widgets/base",
            "_model_module_version": "1.5.0",
            "_view_count": null,
            "_view_module_version": "1.2.0",
            "_model_module": "@jupyter-widgets/controls"
          }
        },
        "85fa60932e4a410a9469b184d6c2d4f3": {
          "model_module": "@jupyter-widgets/base",
          "model_name": "LayoutModel",
          "state": {
            "_view_name": "LayoutView",
            "grid_template_rows": null,
            "right": null,
            "justify_content": null,
            "_view_module": "@jupyter-widgets/base",
            "overflow": null,
            "_model_module_version": "1.2.0",
            "_view_count": null,
            "flex_flow": null,
            "width": null,
            "min_width": null,
            "border": null,
            "align_items": null,
            "bottom": null,
            "_model_module": "@jupyter-widgets/base",
            "top": null,
            "grid_column": null,
            "overflow_y": null,
            "overflow_x": null,
            "grid_auto_flow": null,
            "grid_area": null,
            "grid_template_columns": null,
            "flex": null,
            "_model_name": "LayoutModel",
            "justify_items": null,
            "grid_row": null,
            "max_height": null,
            "align_content": null,
            "visibility": null,
            "align_self": null,
            "height": null,
            "min_height": null,
            "padding": null,
            "grid_auto_rows": null,
            "grid_gap": null,
            "max_width": null,
            "order": null,
            "_view_module_version": "1.2.0",
            "grid_template_areas": null,
            "object_position": null,
            "object_fit": null,
            "grid_auto_columns": null,
            "margin": null,
            "display": null,
            "left": null
          }
        },
        "cd225c3ffc524439acb6477c6de10595": {
          "model_module": "@jupyter-widgets/controls",
          "model_name": "HBoxModel",
          "state": {
            "_view_name": "HBoxView",
            "_dom_classes": [],
            "_model_name": "HBoxModel",
            "_view_module": "@jupyter-widgets/controls",
            "_model_module_version": "1.5.0",
            "_view_count": null,
            "_view_module_version": "1.5.0",
            "box_style": "",
            "layout": "IPY_MODEL_904fd9d36ba64b958c082c8d4bb02070",
            "_model_module": "@jupyter-widgets/controls",
            "children": [
              "IPY_MODEL_a8e6dd9a0c9148d394a886edbdbd09d5",
              "IPY_MODEL_f59850183be24521b99bf37563006028"
            ]
          }
        },
        "904fd9d36ba64b958c082c8d4bb02070": {
          "model_module": "@jupyter-widgets/base",
          "model_name": "LayoutModel",
          "state": {
            "_view_name": "LayoutView",
            "grid_template_rows": null,
            "right": null,
            "justify_content": null,
            "_view_module": "@jupyter-widgets/base",
            "overflow": null,
            "_model_module_version": "1.2.0",
            "_view_count": null,
            "flex_flow": null,
            "width": null,
            "min_width": null,
            "border": null,
            "align_items": null,
            "bottom": null,
            "_model_module": "@jupyter-widgets/base",
            "top": null,
            "grid_column": null,
            "overflow_y": null,
            "overflow_x": null,
            "grid_auto_flow": null,
            "grid_area": null,
            "grid_template_columns": null,
            "flex": null,
            "_model_name": "LayoutModel",
            "justify_items": null,
            "grid_row": null,
            "max_height": null,
            "align_content": null,
            "visibility": null,
            "align_self": null,
            "height": null,
            "min_height": null,
            "padding": null,
            "grid_auto_rows": null,
            "grid_gap": null,
            "max_width": null,
            "order": null,
            "_view_module_version": "1.2.0",
            "grid_template_areas": null,
            "object_position": null,
            "object_fit": null,
            "grid_auto_columns": null,
            "margin": null,
            "display": null,
            "left": null
          }
        },
        "a8e6dd9a0c9148d394a886edbdbd09d5": {
          "model_module": "@jupyter-widgets/controls",
          "model_name": "FloatProgressModel",
          "state": {
            "_view_name": "ProgressView",
            "style": "IPY_MODEL_671a6e5e5d05453ba5ef5bdd7edbc83f",
            "_dom_classes": [],
            "description": "Iteration: 100%",
            "_model_name": "FloatProgressModel",
            "bar_style": "success",
            "max": 43,
            "_view_module": "@jupyter-widgets/controls",
            "_model_module_version": "1.5.0",
            "value": 43,
            "_view_count": null,
            "_view_module_version": "1.5.0",
            "orientation": "horizontal",
            "min": 0,
            "description_tooltip": null,
            "_model_module": "@jupyter-widgets/controls",
            "layout": "IPY_MODEL_df18e75c8ab14ae581d075bc03d98830"
          }
        },
        "f59850183be24521b99bf37563006028": {
          "model_module": "@jupyter-widgets/controls",
          "model_name": "HTMLModel",
          "state": {
            "_view_name": "HTMLView",
            "style": "IPY_MODEL_bcf32b6d00af4a3db0800789ae6b7c55",
            "_dom_classes": [],
            "description": "",
            "_model_name": "HTMLModel",
            "placeholder": "​",
            "_view_module": "@jupyter-widgets/controls",
            "_model_module_version": "1.5.0",
            "value": " 43/43 [01:18&lt;00:00,  1.81s/it]",
            "_view_count": null,
            "_view_module_version": "1.5.0",
            "description_tooltip": null,
            "_model_module": "@jupyter-widgets/controls",
            "layout": "IPY_MODEL_8e0609fa96c947dca7e7b5bc9d226003"
          }
        },
        "671a6e5e5d05453ba5ef5bdd7edbc83f": {
          "model_module": "@jupyter-widgets/controls",
          "model_name": "ProgressStyleModel",
          "state": {
            "_view_name": "StyleView",
            "_model_name": "ProgressStyleModel",
            "description_width": "initial",
            "_view_module": "@jupyter-widgets/base",
            "_model_module_version": "1.5.0",
            "_view_count": null,
            "_view_module_version": "1.2.0",
            "bar_color": null,
            "_model_module": "@jupyter-widgets/controls"
          }
        },
        "df18e75c8ab14ae581d075bc03d98830": {
          "model_module": "@jupyter-widgets/base",
          "model_name": "LayoutModel",
          "state": {
            "_view_name": "LayoutView",
            "grid_template_rows": null,
            "right": null,
            "justify_content": null,
            "_view_module": "@jupyter-widgets/base",
            "overflow": null,
            "_model_module_version": "1.2.0",
            "_view_count": null,
            "flex_flow": null,
            "width": null,
            "min_width": null,
            "border": null,
            "align_items": null,
            "bottom": null,
            "_model_module": "@jupyter-widgets/base",
            "top": null,
            "grid_column": null,
            "overflow_y": null,
            "overflow_x": null,
            "grid_auto_flow": null,
            "grid_area": null,
            "grid_template_columns": null,
            "flex": null,
            "_model_name": "LayoutModel",
            "justify_items": null,
            "grid_row": null,
            "max_height": null,
            "align_content": null,
            "visibility": null,
            "align_self": null,
            "height": null,
            "min_height": null,
            "padding": null,
            "grid_auto_rows": null,
            "grid_gap": null,
            "max_width": null,
            "order": null,
            "_view_module_version": "1.2.0",
            "grid_template_areas": null,
            "object_position": null,
            "object_fit": null,
            "grid_auto_columns": null,
            "margin": null,
            "display": null,
            "left": null
          }
        },
        "bcf32b6d00af4a3db0800789ae6b7c55": {
          "model_module": "@jupyter-widgets/controls",
          "model_name": "DescriptionStyleModel",
          "state": {
            "_view_name": "StyleView",
            "_model_name": "DescriptionStyleModel",
            "description_width": "",
            "_view_module": "@jupyter-widgets/base",
            "_model_module_version": "1.5.0",
            "_view_count": null,
            "_view_module_version": "1.2.0",
            "_model_module": "@jupyter-widgets/controls"
          }
        },
        "8e0609fa96c947dca7e7b5bc9d226003": {
          "model_module": "@jupyter-widgets/base",
          "model_name": "LayoutModel",
          "state": {
            "_view_name": "LayoutView",
            "grid_template_rows": null,
            "right": null,
            "justify_content": null,
            "_view_module": "@jupyter-widgets/base",
            "overflow": null,
            "_model_module_version": "1.2.0",
            "_view_count": null,
            "flex_flow": null,
            "width": null,
            "min_width": null,
            "border": null,
            "align_items": null,
            "bottom": null,
            "_model_module": "@jupyter-widgets/base",
            "top": null,
            "grid_column": null,
            "overflow_y": null,
            "overflow_x": null,
            "grid_auto_flow": null,
            "grid_area": null,
            "grid_template_columns": null,
            "flex": null,
            "_model_name": "LayoutModel",
            "justify_items": null,
            "grid_row": null,
            "max_height": null,
            "align_content": null,
            "visibility": null,
            "align_self": null,
            "height": null,
            "min_height": null,
            "padding": null,
            "grid_auto_rows": null,
            "grid_gap": null,
            "max_width": null,
            "order": null,
            "_view_module_version": "1.2.0",
            "grid_template_areas": null,
            "object_position": null,
            "object_fit": null,
            "grid_auto_columns": null,
            "margin": null,
            "display": null,
            "left": null
          }
        },
        "22254578965140f3b9b21798d181fd71": {
          "model_module": "@jupyter-widgets/controls",
          "model_name": "HBoxModel",
          "state": {
            "_view_name": "HBoxView",
            "_dom_classes": [],
            "_model_name": "HBoxModel",
            "_view_module": "@jupyter-widgets/controls",
            "_model_module_version": "1.5.0",
            "_view_count": null,
            "_view_module_version": "1.5.0",
            "box_style": "",
            "layout": "IPY_MODEL_be88cd4c76814d9fb35982cf57222916",
            "_model_module": "@jupyter-widgets/controls",
            "children": [
              "IPY_MODEL_aa252e547f6e42e1be946ede0c66c72f",
              "IPY_MODEL_4fcb8dc009f845d185812c9cc3dc2ce1"
            ]
          }
        },
        "be88cd4c76814d9fb35982cf57222916": {
          "model_module": "@jupyter-widgets/base",
          "model_name": "LayoutModel",
          "state": {
            "_view_name": "LayoutView",
            "grid_template_rows": null,
            "right": null,
            "justify_content": null,
            "_view_module": "@jupyter-widgets/base",
            "overflow": null,
            "_model_module_version": "1.2.0",
            "_view_count": null,
            "flex_flow": null,
            "width": null,
            "min_width": null,
            "border": null,
            "align_items": null,
            "bottom": null,
            "_model_module": "@jupyter-widgets/base",
            "top": null,
            "grid_column": null,
            "overflow_y": null,
            "overflow_x": null,
            "grid_auto_flow": null,
            "grid_area": null,
            "grid_template_columns": null,
            "flex": null,
            "_model_name": "LayoutModel",
            "justify_items": null,
            "grid_row": null,
            "max_height": null,
            "align_content": null,
            "visibility": null,
            "align_self": null,
            "height": null,
            "min_height": null,
            "padding": null,
            "grid_auto_rows": null,
            "grid_gap": null,
            "max_width": null,
            "order": null,
            "_view_module_version": "1.2.0",
            "grid_template_areas": null,
            "object_position": null,
            "object_fit": null,
            "grid_auto_columns": null,
            "margin": null,
            "display": null,
            "left": null
          }
        },
        "aa252e547f6e42e1be946ede0c66c72f": {
          "model_module": "@jupyter-widgets/controls",
          "model_name": "FloatProgressModel",
          "state": {
            "_view_name": "ProgressView",
            "style": "IPY_MODEL_9353d54ebbf041d6ae3c252e6d7f4e8c",
            "_dom_classes": [],
            "description": "Iteration: 100%",
            "_model_name": "FloatProgressModel",
            "bar_style": "success",
            "max": 43,
            "_view_module": "@jupyter-widgets/controls",
            "_model_module_version": "1.5.0",
            "value": 43,
            "_view_count": null,
            "_view_module_version": "1.5.0",
            "orientation": "horizontal",
            "min": 0,
            "description_tooltip": null,
            "_model_module": "@jupyter-widgets/controls",
            "layout": "IPY_MODEL_47118481a1c0455c9fdd85af9d453f02"
          }
        },
        "4fcb8dc009f845d185812c9cc3dc2ce1": {
          "model_module": "@jupyter-widgets/controls",
          "model_name": "HTMLModel",
          "state": {
            "_view_name": "HTMLView",
            "style": "IPY_MODEL_76141e6350e94a4088069812c6aec578",
            "_dom_classes": [],
            "description": "",
            "_model_name": "HTMLModel",
            "placeholder": "​",
            "_view_module": "@jupyter-widgets/controls",
            "_model_module_version": "1.5.0",
            "value": " 43/43 [01:07&lt;00:00,  1.58s/it]",
            "_view_count": null,
            "_view_module_version": "1.5.0",
            "description_tooltip": null,
            "_model_module": "@jupyter-widgets/controls",
            "layout": "IPY_MODEL_a7a5783bfb044845ab2eb6307e47c4a4"
          }
        },
        "9353d54ebbf041d6ae3c252e6d7f4e8c": {
          "model_module": "@jupyter-widgets/controls",
          "model_name": "ProgressStyleModel",
          "state": {
            "_view_name": "StyleView",
            "_model_name": "ProgressStyleModel",
            "description_width": "initial",
            "_view_module": "@jupyter-widgets/base",
            "_model_module_version": "1.5.0",
            "_view_count": null,
            "_view_module_version": "1.2.0",
            "bar_color": null,
            "_model_module": "@jupyter-widgets/controls"
          }
        },
        "47118481a1c0455c9fdd85af9d453f02": {
          "model_module": "@jupyter-widgets/base",
          "model_name": "LayoutModel",
          "state": {
            "_view_name": "LayoutView",
            "grid_template_rows": null,
            "right": null,
            "justify_content": null,
            "_view_module": "@jupyter-widgets/base",
            "overflow": null,
            "_model_module_version": "1.2.0",
            "_view_count": null,
            "flex_flow": null,
            "width": null,
            "min_width": null,
            "border": null,
            "align_items": null,
            "bottom": null,
            "_model_module": "@jupyter-widgets/base",
            "top": null,
            "grid_column": null,
            "overflow_y": null,
            "overflow_x": null,
            "grid_auto_flow": null,
            "grid_area": null,
            "grid_template_columns": null,
            "flex": null,
            "_model_name": "LayoutModel",
            "justify_items": null,
            "grid_row": null,
            "max_height": null,
            "align_content": null,
            "visibility": null,
            "align_self": null,
            "height": null,
            "min_height": null,
            "padding": null,
            "grid_auto_rows": null,
            "grid_gap": null,
            "max_width": null,
            "order": null,
            "_view_module_version": "1.2.0",
            "grid_template_areas": null,
            "object_position": null,
            "object_fit": null,
            "grid_auto_columns": null,
            "margin": null,
            "display": null,
            "left": null
          }
        },
        "76141e6350e94a4088069812c6aec578": {
          "model_module": "@jupyter-widgets/controls",
          "model_name": "DescriptionStyleModel",
          "state": {
            "_view_name": "StyleView",
            "_model_name": "DescriptionStyleModel",
            "description_width": "",
            "_view_module": "@jupyter-widgets/base",
            "_model_module_version": "1.5.0",
            "_view_count": null,
            "_view_module_version": "1.2.0",
            "_model_module": "@jupyter-widgets/controls"
          }
        },
        "a7a5783bfb044845ab2eb6307e47c4a4": {
          "model_module": "@jupyter-widgets/base",
          "model_name": "LayoutModel",
          "state": {
            "_view_name": "LayoutView",
            "grid_template_rows": null,
            "right": null,
            "justify_content": null,
            "_view_module": "@jupyter-widgets/base",
            "overflow": null,
            "_model_module_version": "1.2.0",
            "_view_count": null,
            "flex_flow": null,
            "width": null,
            "min_width": null,
            "border": null,
            "align_items": null,
            "bottom": null,
            "_model_module": "@jupyter-widgets/base",
            "top": null,
            "grid_column": null,
            "overflow_y": null,
            "overflow_x": null,
            "grid_auto_flow": null,
            "grid_area": null,
            "grid_template_columns": null,
            "flex": null,
            "_model_name": "LayoutModel",
            "justify_items": null,
            "grid_row": null,
            "max_height": null,
            "align_content": null,
            "visibility": null,
            "align_self": null,
            "height": null,
            "min_height": null,
            "padding": null,
            "grid_auto_rows": null,
            "grid_gap": null,
            "max_width": null,
            "order": null,
            "_view_module_version": "1.2.0",
            "grid_template_areas": null,
            "object_position": null,
            "object_fit": null,
            "grid_auto_columns": null,
            "margin": null,
            "display": null,
            "left": null
          }
        },
        "36d0f0b32cb34f0689a24be42d9f3041": {
          "model_module": "@jupyter-widgets/controls",
          "model_name": "HBoxModel",
          "state": {
            "_view_name": "HBoxView",
            "_dom_classes": [],
            "_model_name": "HBoxModel",
            "_view_module": "@jupyter-widgets/controls",
            "_model_module_version": "1.5.0",
            "_view_count": null,
            "_view_module_version": "1.5.0",
            "box_style": "",
            "layout": "IPY_MODEL_14a3242325864106bf73cc076f113dea",
            "_model_module": "@jupyter-widgets/controls",
            "children": [
              "IPY_MODEL_d159014ebab840d2a2e09792aef67329",
              "IPY_MODEL_073bfcc4b18a46d1800c7fe4efd7bb58"
            ]
          }
        },
        "14a3242325864106bf73cc076f113dea": {
          "model_module": "@jupyter-widgets/base",
          "model_name": "LayoutModel",
          "state": {
            "_view_name": "LayoutView",
            "grid_template_rows": null,
            "right": null,
            "justify_content": null,
            "_view_module": "@jupyter-widgets/base",
            "overflow": null,
            "_model_module_version": "1.2.0",
            "_view_count": null,
            "flex_flow": null,
            "width": null,
            "min_width": null,
            "border": null,
            "align_items": null,
            "bottom": null,
            "_model_module": "@jupyter-widgets/base",
            "top": null,
            "grid_column": null,
            "overflow_y": null,
            "overflow_x": null,
            "grid_auto_flow": null,
            "grid_area": null,
            "grid_template_columns": null,
            "flex": null,
            "_model_name": "LayoutModel",
            "justify_items": null,
            "grid_row": null,
            "max_height": null,
            "align_content": null,
            "visibility": null,
            "align_self": null,
            "height": null,
            "min_height": null,
            "padding": null,
            "grid_auto_rows": null,
            "grid_gap": null,
            "max_width": null,
            "order": null,
            "_view_module_version": "1.2.0",
            "grid_template_areas": null,
            "object_position": null,
            "object_fit": null,
            "grid_auto_columns": null,
            "margin": null,
            "display": null,
            "left": null
          }
        },
        "d159014ebab840d2a2e09792aef67329": {
          "model_module": "@jupyter-widgets/controls",
          "model_name": "FloatProgressModel",
          "state": {
            "_view_name": "ProgressView",
            "style": "IPY_MODEL_0ac57b40742041089076150a2df3cc30",
            "_dom_classes": [],
            "description": "Iteration: 100%",
            "_model_name": "FloatProgressModel",
            "bar_style": "success",
            "max": 43,
            "_view_module": "@jupyter-widgets/controls",
            "_model_module_version": "1.5.0",
            "value": 43,
            "_view_count": null,
            "_view_module_version": "1.5.0",
            "orientation": "horizontal",
            "min": 0,
            "description_tooltip": null,
            "_model_module": "@jupyter-widgets/controls",
            "layout": "IPY_MODEL_f4e469c1b228482cb83c7ab74d4ce209"
          }
        },
        "073bfcc4b18a46d1800c7fe4efd7bb58": {
          "model_module": "@jupyter-widgets/controls",
          "model_name": "HTMLModel",
          "state": {
            "_view_name": "HTMLView",
            "style": "IPY_MODEL_474db93cca19441eb47edd1c89001b44",
            "_dom_classes": [],
            "description": "",
            "_model_name": "HTMLModel",
            "placeholder": "​",
            "_view_module": "@jupyter-widgets/controls",
            "_model_module_version": "1.5.0",
            "value": " 43/43 [00:57&lt;00:00,  1.34s/it]",
            "_view_count": null,
            "_view_module_version": "1.5.0",
            "description_tooltip": null,
            "_model_module": "@jupyter-widgets/controls",
            "layout": "IPY_MODEL_b0a5ccf93d8342179a0b90b491079372"
          }
        },
        "0ac57b40742041089076150a2df3cc30": {
          "model_module": "@jupyter-widgets/controls",
          "model_name": "ProgressStyleModel",
          "state": {
            "_view_name": "StyleView",
            "_model_name": "ProgressStyleModel",
            "description_width": "initial",
            "_view_module": "@jupyter-widgets/base",
            "_model_module_version": "1.5.0",
            "_view_count": null,
            "_view_module_version": "1.2.0",
            "bar_color": null,
            "_model_module": "@jupyter-widgets/controls"
          }
        },
        "f4e469c1b228482cb83c7ab74d4ce209": {
          "model_module": "@jupyter-widgets/base",
          "model_name": "LayoutModel",
          "state": {
            "_view_name": "LayoutView",
            "grid_template_rows": null,
            "right": null,
            "justify_content": null,
            "_view_module": "@jupyter-widgets/base",
            "overflow": null,
            "_model_module_version": "1.2.0",
            "_view_count": null,
            "flex_flow": null,
            "width": null,
            "min_width": null,
            "border": null,
            "align_items": null,
            "bottom": null,
            "_model_module": "@jupyter-widgets/base",
            "top": null,
            "grid_column": null,
            "overflow_y": null,
            "overflow_x": null,
            "grid_auto_flow": null,
            "grid_area": null,
            "grid_template_columns": null,
            "flex": null,
            "_model_name": "LayoutModel",
            "justify_items": null,
            "grid_row": null,
            "max_height": null,
            "align_content": null,
            "visibility": null,
            "align_self": null,
            "height": null,
            "min_height": null,
            "padding": null,
            "grid_auto_rows": null,
            "grid_gap": null,
            "max_width": null,
            "order": null,
            "_view_module_version": "1.2.0",
            "grid_template_areas": null,
            "object_position": null,
            "object_fit": null,
            "grid_auto_columns": null,
            "margin": null,
            "display": null,
            "left": null
          }
        },
        "474db93cca19441eb47edd1c89001b44": {
          "model_module": "@jupyter-widgets/controls",
          "model_name": "DescriptionStyleModel",
          "state": {
            "_view_name": "StyleView",
            "_model_name": "DescriptionStyleModel",
            "description_width": "",
            "_view_module": "@jupyter-widgets/base",
            "_model_module_version": "1.5.0",
            "_view_count": null,
            "_view_module_version": "1.2.0",
            "_model_module": "@jupyter-widgets/controls"
          }
        },
        "b0a5ccf93d8342179a0b90b491079372": {
          "model_module": "@jupyter-widgets/base",
          "model_name": "LayoutModel",
          "state": {
            "_view_name": "LayoutView",
            "grid_template_rows": null,
            "right": null,
            "justify_content": null,
            "_view_module": "@jupyter-widgets/base",
            "overflow": null,
            "_model_module_version": "1.2.0",
            "_view_count": null,
            "flex_flow": null,
            "width": null,
            "min_width": null,
            "border": null,
            "align_items": null,
            "bottom": null,
            "_model_module": "@jupyter-widgets/base",
            "top": null,
            "grid_column": null,
            "overflow_y": null,
            "overflow_x": null,
            "grid_auto_flow": null,
            "grid_area": null,
            "grid_template_columns": null,
            "flex": null,
            "_model_name": "LayoutModel",
            "justify_items": null,
            "grid_row": null,
            "max_height": null,
            "align_content": null,
            "visibility": null,
            "align_self": null,
            "height": null,
            "min_height": null,
            "padding": null,
            "grid_auto_rows": null,
            "grid_gap": null,
            "max_width": null,
            "order": null,
            "_view_module_version": "1.2.0",
            "grid_template_areas": null,
            "object_position": null,
            "object_fit": null,
            "grid_auto_columns": null,
            "margin": null,
            "display": null,
            "left": null
          }
        },
        "6afa0f9f9f6c4f129c6eac4738ad9d9b": {
          "model_module": "@jupyter-widgets/controls",
          "model_name": "HBoxModel",
          "state": {
            "_view_name": "HBoxView",
            "_dom_classes": [],
            "_model_name": "HBoxModel",
            "_view_module": "@jupyter-widgets/controls",
            "_model_module_version": "1.5.0",
            "_view_count": null,
            "_view_module_version": "1.5.0",
            "box_style": "",
            "layout": "IPY_MODEL_5d00c28fc6194769b2f6810f42598eac",
            "_model_module": "@jupyter-widgets/controls",
            "children": [
              "IPY_MODEL_9e59eea12e18419aa310e8334109b1e9",
              "IPY_MODEL_1cb6895c8ac84edd93c0dd8d14e01662"
            ]
          }
        },
        "5d00c28fc6194769b2f6810f42598eac": {
          "model_module": "@jupyter-widgets/base",
          "model_name": "LayoutModel",
          "state": {
            "_view_name": "LayoutView",
            "grid_template_rows": null,
            "right": null,
            "justify_content": null,
            "_view_module": "@jupyter-widgets/base",
            "overflow": null,
            "_model_module_version": "1.2.0",
            "_view_count": null,
            "flex_flow": null,
            "width": null,
            "min_width": null,
            "border": null,
            "align_items": null,
            "bottom": null,
            "_model_module": "@jupyter-widgets/base",
            "top": null,
            "grid_column": null,
            "overflow_y": null,
            "overflow_x": null,
            "grid_auto_flow": null,
            "grid_area": null,
            "grid_template_columns": null,
            "flex": null,
            "_model_name": "LayoutModel",
            "justify_items": null,
            "grid_row": null,
            "max_height": null,
            "align_content": null,
            "visibility": null,
            "align_self": null,
            "height": null,
            "min_height": null,
            "padding": null,
            "grid_auto_rows": null,
            "grid_gap": null,
            "max_width": null,
            "order": null,
            "_view_module_version": "1.2.0",
            "grid_template_areas": null,
            "object_position": null,
            "object_fit": null,
            "grid_auto_columns": null,
            "margin": null,
            "display": null,
            "left": null
          }
        },
        "9e59eea12e18419aa310e8334109b1e9": {
          "model_module": "@jupyter-widgets/controls",
          "model_name": "FloatProgressModel",
          "state": {
            "_view_name": "ProgressView",
            "style": "IPY_MODEL_acfabfe72e2e4d2f8160cb4e16afe89a",
            "_dom_classes": [],
            "description": "Iteration: 100%",
            "_model_name": "FloatProgressModel",
            "bar_style": "success",
            "max": 43,
            "_view_module": "@jupyter-widgets/controls",
            "_model_module_version": "1.5.0",
            "value": 43,
            "_view_count": null,
            "_view_module_version": "1.5.0",
            "orientation": "horizontal",
            "min": 0,
            "description_tooltip": null,
            "_model_module": "@jupyter-widgets/controls",
            "layout": "IPY_MODEL_ebaf70f478b64d14adecc4fbaa774cb4"
          }
        },
        "1cb6895c8ac84edd93c0dd8d14e01662": {
          "model_module": "@jupyter-widgets/controls",
          "model_name": "HTMLModel",
          "state": {
            "_view_name": "HTMLView",
            "style": "IPY_MODEL_ade654dd19da48358b52b1d11aadf8dd",
            "_dom_classes": [],
            "description": "",
            "_model_name": "HTMLModel",
            "placeholder": "​",
            "_view_module": "@jupyter-widgets/controls",
            "_model_module_version": "1.5.0",
            "value": " 43/43 [00:48&lt;00:00,  1.12s/it]",
            "_view_count": null,
            "_view_module_version": "1.5.0",
            "description_tooltip": null,
            "_model_module": "@jupyter-widgets/controls",
            "layout": "IPY_MODEL_e051d942f94b4bccb3b473c01a977930"
          }
        },
        "acfabfe72e2e4d2f8160cb4e16afe89a": {
          "model_module": "@jupyter-widgets/controls",
          "model_name": "ProgressStyleModel",
          "state": {
            "_view_name": "StyleView",
            "_model_name": "ProgressStyleModel",
            "description_width": "initial",
            "_view_module": "@jupyter-widgets/base",
            "_model_module_version": "1.5.0",
            "_view_count": null,
            "_view_module_version": "1.2.0",
            "bar_color": null,
            "_model_module": "@jupyter-widgets/controls"
          }
        },
        "ebaf70f478b64d14adecc4fbaa774cb4": {
          "model_module": "@jupyter-widgets/base",
          "model_name": "LayoutModel",
          "state": {
            "_view_name": "LayoutView",
            "grid_template_rows": null,
            "right": null,
            "justify_content": null,
            "_view_module": "@jupyter-widgets/base",
            "overflow": null,
            "_model_module_version": "1.2.0",
            "_view_count": null,
            "flex_flow": null,
            "width": null,
            "min_width": null,
            "border": null,
            "align_items": null,
            "bottom": null,
            "_model_module": "@jupyter-widgets/base",
            "top": null,
            "grid_column": null,
            "overflow_y": null,
            "overflow_x": null,
            "grid_auto_flow": null,
            "grid_area": null,
            "grid_template_columns": null,
            "flex": null,
            "_model_name": "LayoutModel",
            "justify_items": null,
            "grid_row": null,
            "max_height": null,
            "align_content": null,
            "visibility": null,
            "align_self": null,
            "height": null,
            "min_height": null,
            "padding": null,
            "grid_auto_rows": null,
            "grid_gap": null,
            "max_width": null,
            "order": null,
            "_view_module_version": "1.2.0",
            "grid_template_areas": null,
            "object_position": null,
            "object_fit": null,
            "grid_auto_columns": null,
            "margin": null,
            "display": null,
            "left": null
          }
        },
        "ade654dd19da48358b52b1d11aadf8dd": {
          "model_module": "@jupyter-widgets/controls",
          "model_name": "DescriptionStyleModel",
          "state": {
            "_view_name": "StyleView",
            "_model_name": "DescriptionStyleModel",
            "description_width": "",
            "_view_module": "@jupyter-widgets/base",
            "_model_module_version": "1.5.0",
            "_view_count": null,
            "_view_module_version": "1.2.0",
            "_model_module": "@jupyter-widgets/controls"
          }
        },
        "e051d942f94b4bccb3b473c01a977930": {
          "model_module": "@jupyter-widgets/base",
          "model_name": "LayoutModel",
          "state": {
            "_view_name": "LayoutView",
            "grid_template_rows": null,
            "right": null,
            "justify_content": null,
            "_view_module": "@jupyter-widgets/base",
            "overflow": null,
            "_model_module_version": "1.2.0",
            "_view_count": null,
            "flex_flow": null,
            "width": null,
            "min_width": null,
            "border": null,
            "align_items": null,
            "bottom": null,
            "_model_module": "@jupyter-widgets/base",
            "top": null,
            "grid_column": null,
            "overflow_y": null,
            "overflow_x": null,
            "grid_auto_flow": null,
            "grid_area": null,
            "grid_template_columns": null,
            "flex": null,
            "_model_name": "LayoutModel",
            "justify_items": null,
            "grid_row": null,
            "max_height": null,
            "align_content": null,
            "visibility": null,
            "align_self": null,
            "height": null,
            "min_height": null,
            "padding": null,
            "grid_auto_rows": null,
            "grid_gap": null,
            "max_width": null,
            "order": null,
            "_view_module_version": "1.2.0",
            "grid_template_areas": null,
            "object_position": null,
            "object_fit": null,
            "grid_auto_columns": null,
            "margin": null,
            "display": null,
            "left": null
          }
        },
        "6461b19055ab4259b167a1a51bbce334": {
          "model_module": "@jupyter-widgets/controls",
          "model_name": "HBoxModel",
          "state": {
            "_view_name": "HBoxView",
            "_dom_classes": [],
            "_model_name": "HBoxModel",
            "_view_module": "@jupyter-widgets/controls",
            "_model_module_version": "1.5.0",
            "_view_count": null,
            "_view_module_version": "1.5.0",
            "box_style": "",
            "layout": "IPY_MODEL_44288c3c54c24a2099cdf9f5af2dc501",
            "_model_module": "@jupyter-widgets/controls",
            "children": [
              "IPY_MODEL_98b0e25257954466a7afabb313244833",
              "IPY_MODEL_738949d9e4f74268896deab9d5b900a5"
            ]
          }
        },
        "44288c3c54c24a2099cdf9f5af2dc501": {
          "model_module": "@jupyter-widgets/base",
          "model_name": "LayoutModel",
          "state": {
            "_view_name": "LayoutView",
            "grid_template_rows": null,
            "right": null,
            "justify_content": null,
            "_view_module": "@jupyter-widgets/base",
            "overflow": null,
            "_model_module_version": "1.2.0",
            "_view_count": null,
            "flex_flow": null,
            "width": null,
            "min_width": null,
            "border": null,
            "align_items": null,
            "bottom": null,
            "_model_module": "@jupyter-widgets/base",
            "top": null,
            "grid_column": null,
            "overflow_y": null,
            "overflow_x": null,
            "grid_auto_flow": null,
            "grid_area": null,
            "grid_template_columns": null,
            "flex": null,
            "_model_name": "LayoutModel",
            "justify_items": null,
            "grid_row": null,
            "max_height": null,
            "align_content": null,
            "visibility": null,
            "align_self": null,
            "height": null,
            "min_height": null,
            "padding": null,
            "grid_auto_rows": null,
            "grid_gap": null,
            "max_width": null,
            "order": null,
            "_view_module_version": "1.2.0",
            "grid_template_areas": null,
            "object_position": null,
            "object_fit": null,
            "grid_auto_columns": null,
            "margin": null,
            "display": null,
            "left": null
          }
        },
        "98b0e25257954466a7afabb313244833": {
          "model_module": "@jupyter-widgets/controls",
          "model_name": "FloatProgressModel",
          "state": {
            "_view_name": "ProgressView",
            "style": "IPY_MODEL_48793e954dea4a6ab87565e431966fcf",
            "_dom_classes": [],
            "description": "Iteration: 100%",
            "_model_name": "FloatProgressModel",
            "bar_style": "success",
            "max": 43,
            "_view_module": "@jupyter-widgets/controls",
            "_model_module_version": "1.5.0",
            "value": 43,
            "_view_count": null,
            "_view_module_version": "1.5.0",
            "orientation": "horizontal",
            "min": 0,
            "description_tooltip": null,
            "_model_module": "@jupyter-widgets/controls",
            "layout": "IPY_MODEL_08ea3a8a34a947b4a149b00679a686ad"
          }
        },
        "738949d9e4f74268896deab9d5b900a5": {
          "model_module": "@jupyter-widgets/controls",
          "model_name": "HTMLModel",
          "state": {
            "_view_name": "HTMLView",
            "style": "IPY_MODEL_9ce06dccf0534ded8943c8b47fdef993",
            "_dom_classes": [],
            "description": "",
            "_model_name": "HTMLModel",
            "placeholder": "​",
            "_view_module": "@jupyter-widgets/controls",
            "_model_module_version": "1.5.0",
            "value": " 43/43 [00:38&lt;00:00,  1.12it/s]",
            "_view_count": null,
            "_view_module_version": "1.5.0",
            "description_tooltip": null,
            "_model_module": "@jupyter-widgets/controls",
            "layout": "IPY_MODEL_e573756527024b0d8dcb9355bbd22956"
          }
        },
        "48793e954dea4a6ab87565e431966fcf": {
          "model_module": "@jupyter-widgets/controls",
          "model_name": "ProgressStyleModel",
          "state": {
            "_view_name": "StyleView",
            "_model_name": "ProgressStyleModel",
            "description_width": "initial",
            "_view_module": "@jupyter-widgets/base",
            "_model_module_version": "1.5.0",
            "_view_count": null,
            "_view_module_version": "1.2.0",
            "bar_color": null,
            "_model_module": "@jupyter-widgets/controls"
          }
        },
        "08ea3a8a34a947b4a149b00679a686ad": {
          "model_module": "@jupyter-widgets/base",
          "model_name": "LayoutModel",
          "state": {
            "_view_name": "LayoutView",
            "grid_template_rows": null,
            "right": null,
            "justify_content": null,
            "_view_module": "@jupyter-widgets/base",
            "overflow": null,
            "_model_module_version": "1.2.0",
            "_view_count": null,
            "flex_flow": null,
            "width": null,
            "min_width": null,
            "border": null,
            "align_items": null,
            "bottom": null,
            "_model_module": "@jupyter-widgets/base",
            "top": null,
            "grid_column": null,
            "overflow_y": null,
            "overflow_x": null,
            "grid_auto_flow": null,
            "grid_area": null,
            "grid_template_columns": null,
            "flex": null,
            "_model_name": "LayoutModel",
            "justify_items": null,
            "grid_row": null,
            "max_height": null,
            "align_content": null,
            "visibility": null,
            "align_self": null,
            "height": null,
            "min_height": null,
            "padding": null,
            "grid_auto_rows": null,
            "grid_gap": null,
            "max_width": null,
            "order": null,
            "_view_module_version": "1.2.0",
            "grid_template_areas": null,
            "object_position": null,
            "object_fit": null,
            "grid_auto_columns": null,
            "margin": null,
            "display": null,
            "left": null
          }
        },
        "9ce06dccf0534ded8943c8b47fdef993": {
          "model_module": "@jupyter-widgets/controls",
          "model_name": "DescriptionStyleModel",
          "state": {
            "_view_name": "StyleView",
            "_model_name": "DescriptionStyleModel",
            "description_width": "",
            "_view_module": "@jupyter-widgets/base",
            "_model_module_version": "1.5.0",
            "_view_count": null,
            "_view_module_version": "1.2.0",
            "_model_module": "@jupyter-widgets/controls"
          }
        },
        "e573756527024b0d8dcb9355bbd22956": {
          "model_module": "@jupyter-widgets/base",
          "model_name": "LayoutModel",
          "state": {
            "_view_name": "LayoutView",
            "grid_template_rows": null,
            "right": null,
            "justify_content": null,
            "_view_module": "@jupyter-widgets/base",
            "overflow": null,
            "_model_module_version": "1.2.0",
            "_view_count": null,
            "flex_flow": null,
            "width": null,
            "min_width": null,
            "border": null,
            "align_items": null,
            "bottom": null,
            "_model_module": "@jupyter-widgets/base",
            "top": null,
            "grid_column": null,
            "overflow_y": null,
            "overflow_x": null,
            "grid_auto_flow": null,
            "grid_area": null,
            "grid_template_columns": null,
            "flex": null,
            "_model_name": "LayoutModel",
            "justify_items": null,
            "grid_row": null,
            "max_height": null,
            "align_content": null,
            "visibility": null,
            "align_self": null,
            "height": null,
            "min_height": null,
            "padding": null,
            "grid_auto_rows": null,
            "grid_gap": null,
            "max_width": null,
            "order": null,
            "_view_module_version": "1.2.0",
            "grid_template_areas": null,
            "object_position": null,
            "object_fit": null,
            "grid_auto_columns": null,
            "margin": null,
            "display": null,
            "left": null
          }
        },
        "b0799c5c8de84250b8d13de310fa918d": {
          "model_module": "@jupyter-widgets/controls",
          "model_name": "HBoxModel",
          "state": {
            "_view_name": "HBoxView",
            "_dom_classes": [],
            "_model_name": "HBoxModel",
            "_view_module": "@jupyter-widgets/controls",
            "_model_module_version": "1.5.0",
            "_view_count": null,
            "_view_module_version": "1.5.0",
            "box_style": "",
            "layout": "IPY_MODEL_018180ce9d0d49708ef4b88296458086",
            "_model_module": "@jupyter-widgets/controls",
            "children": [
              "IPY_MODEL_e7b39de00b614bf0beab75fe9c48d944",
              "IPY_MODEL_3c88ff620c174f17a7724cff451f87c5"
            ]
          }
        },
        "018180ce9d0d49708ef4b88296458086": {
          "model_module": "@jupyter-widgets/base",
          "model_name": "LayoutModel",
          "state": {
            "_view_name": "LayoutView",
            "grid_template_rows": null,
            "right": null,
            "justify_content": null,
            "_view_module": "@jupyter-widgets/base",
            "overflow": null,
            "_model_module_version": "1.2.0",
            "_view_count": null,
            "flex_flow": null,
            "width": null,
            "min_width": null,
            "border": null,
            "align_items": null,
            "bottom": null,
            "_model_module": "@jupyter-widgets/base",
            "top": null,
            "grid_column": null,
            "overflow_y": null,
            "overflow_x": null,
            "grid_auto_flow": null,
            "grid_area": null,
            "grid_template_columns": null,
            "flex": null,
            "_model_name": "LayoutModel",
            "justify_items": null,
            "grid_row": null,
            "max_height": null,
            "align_content": null,
            "visibility": null,
            "align_self": null,
            "height": null,
            "min_height": null,
            "padding": null,
            "grid_auto_rows": null,
            "grid_gap": null,
            "max_width": null,
            "order": null,
            "_view_module_version": "1.2.0",
            "grid_template_areas": null,
            "object_position": null,
            "object_fit": null,
            "grid_auto_columns": null,
            "margin": null,
            "display": null,
            "left": null
          }
        },
        "e7b39de00b614bf0beab75fe9c48d944": {
          "model_module": "@jupyter-widgets/controls",
          "model_name": "FloatProgressModel",
          "state": {
            "_view_name": "ProgressView",
            "style": "IPY_MODEL_16b1ee6a6b144e6c8aa9f832f2547bc6",
            "_dom_classes": [],
            "description": "Iteration: 100%",
            "_model_name": "FloatProgressModel",
            "bar_style": "success",
            "max": 43,
            "_view_module": "@jupyter-widgets/controls",
            "_model_module_version": "1.5.0",
            "value": 43,
            "_view_count": null,
            "_view_module_version": "1.5.0",
            "orientation": "horizontal",
            "min": 0,
            "description_tooltip": null,
            "_model_module": "@jupyter-widgets/controls",
            "layout": "IPY_MODEL_b31041c2551147c980c9e00e7ad9e214"
          }
        },
        "3c88ff620c174f17a7724cff451f87c5": {
          "model_module": "@jupyter-widgets/controls",
          "model_name": "HTMLModel",
          "state": {
            "_view_name": "HTMLView",
            "style": "IPY_MODEL_dd9f98eaacf242c5a910e253eaadc055",
            "_dom_classes": [],
            "description": "",
            "_model_name": "HTMLModel",
            "placeholder": "​",
            "_view_module": "@jupyter-widgets/controls",
            "_model_module_version": "1.5.0",
            "value": " 43/43 [00:28&lt;00:00,  1.52it/s]",
            "_view_count": null,
            "_view_module_version": "1.5.0",
            "description_tooltip": null,
            "_model_module": "@jupyter-widgets/controls",
            "layout": "IPY_MODEL_ba8d15e32ff54be39b71d9d4ad1ec9cf"
          }
        },
        "16b1ee6a6b144e6c8aa9f832f2547bc6": {
          "model_module": "@jupyter-widgets/controls",
          "model_name": "ProgressStyleModel",
          "state": {
            "_view_name": "StyleView",
            "_model_name": "ProgressStyleModel",
            "description_width": "initial",
            "_view_module": "@jupyter-widgets/base",
            "_model_module_version": "1.5.0",
            "_view_count": null,
            "_view_module_version": "1.2.0",
            "bar_color": null,
            "_model_module": "@jupyter-widgets/controls"
          }
        },
        "b31041c2551147c980c9e00e7ad9e214": {
          "model_module": "@jupyter-widgets/base",
          "model_name": "LayoutModel",
          "state": {
            "_view_name": "LayoutView",
            "grid_template_rows": null,
            "right": null,
            "justify_content": null,
            "_view_module": "@jupyter-widgets/base",
            "overflow": null,
            "_model_module_version": "1.2.0",
            "_view_count": null,
            "flex_flow": null,
            "width": null,
            "min_width": null,
            "border": null,
            "align_items": null,
            "bottom": null,
            "_model_module": "@jupyter-widgets/base",
            "top": null,
            "grid_column": null,
            "overflow_y": null,
            "overflow_x": null,
            "grid_auto_flow": null,
            "grid_area": null,
            "grid_template_columns": null,
            "flex": null,
            "_model_name": "LayoutModel",
            "justify_items": null,
            "grid_row": null,
            "max_height": null,
            "align_content": null,
            "visibility": null,
            "align_self": null,
            "height": null,
            "min_height": null,
            "padding": null,
            "grid_auto_rows": null,
            "grid_gap": null,
            "max_width": null,
            "order": null,
            "_view_module_version": "1.2.0",
            "grid_template_areas": null,
            "object_position": null,
            "object_fit": null,
            "grid_auto_columns": null,
            "margin": null,
            "display": null,
            "left": null
          }
        },
        "dd9f98eaacf242c5a910e253eaadc055": {
          "model_module": "@jupyter-widgets/controls",
          "model_name": "DescriptionStyleModel",
          "state": {
            "_view_name": "StyleView",
            "_model_name": "DescriptionStyleModel",
            "description_width": "",
            "_view_module": "@jupyter-widgets/base",
            "_model_module_version": "1.5.0",
            "_view_count": null,
            "_view_module_version": "1.2.0",
            "_model_module": "@jupyter-widgets/controls"
          }
        },
        "ba8d15e32ff54be39b71d9d4ad1ec9cf": {
          "model_module": "@jupyter-widgets/base",
          "model_name": "LayoutModel",
          "state": {
            "_view_name": "LayoutView",
            "grid_template_rows": null,
            "right": null,
            "justify_content": null,
            "_view_module": "@jupyter-widgets/base",
            "overflow": null,
            "_model_module_version": "1.2.0",
            "_view_count": null,
            "flex_flow": null,
            "width": null,
            "min_width": null,
            "border": null,
            "align_items": null,
            "bottom": null,
            "_model_module": "@jupyter-widgets/base",
            "top": null,
            "grid_column": null,
            "overflow_y": null,
            "overflow_x": null,
            "grid_auto_flow": null,
            "grid_area": null,
            "grid_template_columns": null,
            "flex": null,
            "_model_name": "LayoutModel",
            "justify_items": null,
            "grid_row": null,
            "max_height": null,
            "align_content": null,
            "visibility": null,
            "align_self": null,
            "height": null,
            "min_height": null,
            "padding": null,
            "grid_auto_rows": null,
            "grid_gap": null,
            "max_width": null,
            "order": null,
            "_view_module_version": "1.2.0",
            "grid_template_areas": null,
            "object_position": null,
            "object_fit": null,
            "grid_auto_columns": null,
            "margin": null,
            "display": null,
            "left": null
          }
        },
        "56b27f1d593b41a4a5cfb05834080c71": {
          "model_module": "@jupyter-widgets/controls",
          "model_name": "HBoxModel",
          "state": {
            "_view_name": "HBoxView",
            "_dom_classes": [],
            "_model_name": "HBoxModel",
            "_view_module": "@jupyter-widgets/controls",
            "_model_module_version": "1.5.0",
            "_view_count": null,
            "_view_module_version": "1.5.0",
            "box_style": "",
            "layout": "IPY_MODEL_cff987aa981b46b4a12e16ed07ec2c15",
            "_model_module": "@jupyter-widgets/controls",
            "children": [
              "IPY_MODEL_b8db90ee8c994d08866202161b446626",
              "IPY_MODEL_9c745c79fb6b4b4997c2613db4556397"
            ]
          }
        },
        "cff987aa981b46b4a12e16ed07ec2c15": {
          "model_module": "@jupyter-widgets/base",
          "model_name": "LayoutModel",
          "state": {
            "_view_name": "LayoutView",
            "grid_template_rows": null,
            "right": null,
            "justify_content": null,
            "_view_module": "@jupyter-widgets/base",
            "overflow": null,
            "_model_module_version": "1.2.0",
            "_view_count": null,
            "flex_flow": null,
            "width": null,
            "min_width": null,
            "border": null,
            "align_items": null,
            "bottom": null,
            "_model_module": "@jupyter-widgets/base",
            "top": null,
            "grid_column": null,
            "overflow_y": null,
            "overflow_x": null,
            "grid_auto_flow": null,
            "grid_area": null,
            "grid_template_columns": null,
            "flex": null,
            "_model_name": "LayoutModel",
            "justify_items": null,
            "grid_row": null,
            "max_height": null,
            "align_content": null,
            "visibility": null,
            "align_self": null,
            "height": null,
            "min_height": null,
            "padding": null,
            "grid_auto_rows": null,
            "grid_gap": null,
            "max_width": null,
            "order": null,
            "_view_module_version": "1.2.0",
            "grid_template_areas": null,
            "object_position": null,
            "object_fit": null,
            "grid_auto_columns": null,
            "margin": null,
            "display": null,
            "left": null
          }
        },
        "b8db90ee8c994d08866202161b446626": {
          "model_module": "@jupyter-widgets/controls",
          "model_name": "FloatProgressModel",
          "state": {
            "_view_name": "ProgressView",
            "style": "IPY_MODEL_835a237ee59f48af9af77bd7a50903f1",
            "_dom_classes": [],
            "description": "Iteration: 100%",
            "_model_name": "FloatProgressModel",
            "bar_style": "success",
            "max": 43,
            "_view_module": "@jupyter-widgets/controls",
            "_model_module_version": "1.5.0",
            "value": 43,
            "_view_count": null,
            "_view_module_version": "1.5.0",
            "orientation": "horizontal",
            "min": 0,
            "description_tooltip": null,
            "_model_module": "@jupyter-widgets/controls",
            "layout": "IPY_MODEL_116115888e0d436ca8f53826dacb5845"
          }
        },
        "9c745c79fb6b4b4997c2613db4556397": {
          "model_module": "@jupyter-widgets/controls",
          "model_name": "HTMLModel",
          "state": {
            "_view_name": "HTMLView",
            "style": "IPY_MODEL_8331c4de1ecc477785916c8917ab0b10",
            "_dom_classes": [],
            "description": "",
            "_model_name": "HTMLModel",
            "placeholder": "​",
            "_view_module": "@jupyter-widgets/controls",
            "_model_module_version": "1.5.0",
            "value": " 43/43 [00:18&lt;00:00,  2.34it/s]",
            "_view_count": null,
            "_view_module_version": "1.5.0",
            "description_tooltip": null,
            "_model_module": "@jupyter-widgets/controls",
            "layout": "IPY_MODEL_2805f8f21dc74dc4af8797f45a74bc6d"
          }
        },
        "835a237ee59f48af9af77bd7a50903f1": {
          "model_module": "@jupyter-widgets/controls",
          "model_name": "ProgressStyleModel",
          "state": {
            "_view_name": "StyleView",
            "_model_name": "ProgressStyleModel",
            "description_width": "initial",
            "_view_module": "@jupyter-widgets/base",
            "_model_module_version": "1.5.0",
            "_view_count": null,
            "_view_module_version": "1.2.0",
            "bar_color": null,
            "_model_module": "@jupyter-widgets/controls"
          }
        },
        "116115888e0d436ca8f53826dacb5845": {
          "model_module": "@jupyter-widgets/base",
          "model_name": "LayoutModel",
          "state": {
            "_view_name": "LayoutView",
            "grid_template_rows": null,
            "right": null,
            "justify_content": null,
            "_view_module": "@jupyter-widgets/base",
            "overflow": null,
            "_model_module_version": "1.2.0",
            "_view_count": null,
            "flex_flow": null,
            "width": null,
            "min_width": null,
            "border": null,
            "align_items": null,
            "bottom": null,
            "_model_module": "@jupyter-widgets/base",
            "top": null,
            "grid_column": null,
            "overflow_y": null,
            "overflow_x": null,
            "grid_auto_flow": null,
            "grid_area": null,
            "grid_template_columns": null,
            "flex": null,
            "_model_name": "LayoutModel",
            "justify_items": null,
            "grid_row": null,
            "max_height": null,
            "align_content": null,
            "visibility": null,
            "align_self": null,
            "height": null,
            "min_height": null,
            "padding": null,
            "grid_auto_rows": null,
            "grid_gap": null,
            "max_width": null,
            "order": null,
            "_view_module_version": "1.2.0",
            "grid_template_areas": null,
            "object_position": null,
            "object_fit": null,
            "grid_auto_columns": null,
            "margin": null,
            "display": null,
            "left": null
          }
        },
        "8331c4de1ecc477785916c8917ab0b10": {
          "model_module": "@jupyter-widgets/controls",
          "model_name": "DescriptionStyleModel",
          "state": {
            "_view_name": "StyleView",
            "_model_name": "DescriptionStyleModel",
            "description_width": "",
            "_view_module": "@jupyter-widgets/base",
            "_model_module_version": "1.5.0",
            "_view_count": null,
            "_view_module_version": "1.2.0",
            "_model_module": "@jupyter-widgets/controls"
          }
        },
        "2805f8f21dc74dc4af8797f45a74bc6d": {
          "model_module": "@jupyter-widgets/base",
          "model_name": "LayoutModel",
          "state": {
            "_view_name": "LayoutView",
            "grid_template_rows": null,
            "right": null,
            "justify_content": null,
            "_view_module": "@jupyter-widgets/base",
            "overflow": null,
            "_model_module_version": "1.2.0",
            "_view_count": null,
            "flex_flow": null,
            "width": null,
            "min_width": null,
            "border": null,
            "align_items": null,
            "bottom": null,
            "_model_module": "@jupyter-widgets/base",
            "top": null,
            "grid_column": null,
            "overflow_y": null,
            "overflow_x": null,
            "grid_auto_flow": null,
            "grid_area": null,
            "grid_template_columns": null,
            "flex": null,
            "_model_name": "LayoutModel",
            "justify_items": null,
            "grid_row": null,
            "max_height": null,
            "align_content": null,
            "visibility": null,
            "align_self": null,
            "height": null,
            "min_height": null,
            "padding": null,
            "grid_auto_rows": null,
            "grid_gap": null,
            "max_width": null,
            "order": null,
            "_view_module_version": "1.2.0",
            "grid_template_areas": null,
            "object_position": null,
            "object_fit": null,
            "grid_auto_columns": null,
            "margin": null,
            "display": null,
            "left": null
          }
        }
      }
    }
  },
  "cells": [
    {
      "cell_type": "code",
      "metadata": {
        "id": "pqEZnDaKkKzF"
      },
      "source": [
        "! pip install \\\n",
        "  scprep\\\n",
        "  spacy==2.3.2 \\\n",
        "  sentence_transformers==0.4.0 \\\n",
        "  phate==1.0.4 && \\\n",
        "  python -m spacy download es_core_news_lg"
      ],
      "execution_count": null,
      "outputs": []
    },
    {
      "cell_type": "markdown",
      "metadata": {
        "id": "H41XHYlrkctL"
      },
      "source": [
        "<span style=\"color:red\"><strong>WARNING!</strong></span> Once you installed the packages in the previous cell you must restart your runtime and then import the library and load the model"
      ]
    },
    {
      "cell_type": "code",
      "metadata": {
        "colab": {
          "base_uri": "https://localhost:8080/"
        },
        "id": "RWngKIdpkPPg",
        "outputId": "eda8c795-ec29-4cf8-b752-ea0af63e3843"
      },
      "source": [
        "import spacy\n",
        "if spacy.prefer_gpu():\n",
        "    print(\"Using the GPU\")\n",
        "else:\n",
        "    print(\"Using the CPU\")\n",
        "es_nlp = spacy.load('es_core_news_lg')"
      ],
      "execution_count": 1,
      "outputs": [
        {
          "output_type": "stream",
          "text": [
            "Using the GPU\n"
          ],
          "name": "stdout"
        }
      ]
    },
    {
      "cell_type": "markdown",
      "metadata": {
        "id": "55q23OCMkvD5"
      },
      "source": [
        "For development work, in case you want to update the files in your GitHub branch by rerunning the clone, you first have to empty the folder."
      ]
    },
    {
      "cell_type": "code",
      "metadata": {
        "id": "Sr1ACGUikx5K"
      },
      "source": [
        "!rm -rf policy-data-analyzer/"
      ],
      "execution_count": 2,
      "outputs": []
    },
    {
      "cell_type": "code",
      "metadata": {
        "id": "FDSRezbdkxyI",
        "colab": {
          "base_uri": "https://localhost:8080/"
        },
        "outputId": "ff179f42-13e2-4966-8d26-62d3892a98a7"
      },
      "source": [
        "# Define branch to clone\n",
        "! branch_name='#49-set-up-a-binary-classifier' && \\\n",
        "  git clone --branch $branch_name https://github.com/wri-dssg/policy-data-analyzer.git"
      ],
      "execution_count": 3,
      "outputs": [
        {
          "output_type": "stream",
          "text": [
            "Cloning into 'policy-data-analyzer'...\n",
            "remote: Enumerating objects: 487, done.\u001b[K\n",
            "remote: Counting objects: 100% (487/487), done.\u001b[K\n",
            "remote: Compressing objects: 100% (358/358), done.\u001b[K\n",
            "remote: Total 3406 (delta 243), reused 370 (delta 129), pack-reused 2919\u001b[K\n",
            "Receiving objects: 100% (3406/3406), 155.16 MiB | 35.28 MiB/s, done.\n",
            "Resolving deltas: 100% (1790/1790), done.\n",
            "Checking out files: 100% (957/957), done.\n"
          ],
          "name": "stdout"
        }
      ]
    },
    {
      "cell_type": "code",
      "metadata": {
        "colab": {
          "base_uri": "https://localhost:8080/"
        },
        "id": "56PH58KwkxsS",
        "outputId": "6a38fb3e-d64c-4e8b-ec9a-050588bd9b38"
      },
      "source": [
        "import pandas as pd\n",
        "import sys\n",
        "import os\n",
        "import csv\n",
        "from sklearn.model_selection import train_test_split\n",
        "from sklearn.model_selection import cross_val_score\n",
        "from sklearn.metrics import classification_report\n",
        "from sklearn.ensemble import RandomForestClassifier\n",
        "from sentence_transformers import SentencesDataset, SentenceTransformer, InputExample, losses\n",
        "from sentence_transformers.evaluation import LabelAccuracyEvaluator\n",
        "from torch import nn, Tensor\n",
        "from typing import Iterable, Dict\n",
        "from torch.utils.data import DataLoader\n",
        "import math\n",
        "import time\n",
        "import cupy as cp\n",
        "import json\n",
        "\n",
        "os.chdir(\"policy-data-analyzer\") #If you run this cell more than once, comment out this line because you are ready in this folder and you will get an error\n",
        "from tasks.data_loader.src.utils import *\n",
        "from tasks.data_augmentation.src.zero_shot_classification.latent_embeddings_classifier import *\n",
        "from tasks.evaluate_model.src.model_evaluator import *\n",
        "from tasks.data_visualization.src.plotting import *\n",
        "\n",
        "from google.colab import drive\n",
        "drive.mount('/content/drive')"
      ],
      "execution_count": 4,
      "outputs": [
        {
          "output_type": "stream",
          "text": [
            "Mounted at /content/drive\n"
          ],
          "name": "stdout"
        }
      ]
    },
    {
      "cell_type": "markdown",
      "metadata": {
        "id": "0E6y9u8rmllu"
      },
      "source": [
        "## 1. Fine tune SBERT on Binary Classification"
      ]
    },
    {
      "cell_type": "markdown",
      "metadata": {
        "id": "uEEBX_uPnQRN"
      },
      "source": [
        "Similar setup for fine tuning multi-class. Maybe we should have this section in the other notebook, and in this one we just load the model? \n"
      ]
    },
    {
      "cell_type": "code",
      "metadata": {
        "id": "zWb8sqiXkxme"
      },
      "source": [
        "class SoftmaxClassifier(nn.Module):\n",
        "    \"\"\"\n",
        "    This loss adds a softmax classifier on top of the output of the transformer network.\n",
        "    It takes a sentence embedding and learns a mapping between it and the corresponding category.\n",
        "    :param model: SentenceTransformer model\n",
        "    :param sentence_embedding_dimension: Dimension of your sentence embeddings\n",
        "    :param num_labels: Number of different labels\n",
        "    \"\"\"\n",
        "\n",
        "    def __init__(self,\n",
        "                 model: SentenceTransformer,\n",
        "                 sentence_embedding_dimension: int,\n",
        "                 num_labels: int):\n",
        "        super(SoftmaxClassifier, self).__init__()\n",
        "        self.model = model\n",
        "        self.num_labels = num_labels\n",
        "        self.classifier = nn.Linear(sentence_embedding_dimension, num_labels)\n",
        "\n",
        "    def forward(self, sentence_features: Iterable[Dict[str, Tensor]], labels: Tensor):\n",
        "        # Get batch sentence embeddings\n",
        "        features = self.model(sentence_features[0])['sentence_embedding']\n",
        "\n",
        "        # Get batch loss\n",
        "        output = self.classifier(features)\n",
        "        loss_fct = nn.CrossEntropyLoss()\n",
        "\n",
        "        if labels is not None:\n",
        "            loss = loss_fct(output, labels.view(-1))\n",
        "            return loss\n",
        "        else:\n",
        "            return features, output\n",
        "\n",
        "\n",
        "def grid_search_fine_tune_sbert(train_params, train_sents, train_labels, test_sents, test_labels, label_names, eval_classifier=None):\n",
        "    output_path = train_params[\"output_path\"]\n",
        "    experiment = train_params[\"experiment\"]\n",
        "    all_test_perc = train_params[\"all_test_perc\"]\n",
        "    model_names = train_params[\"model_names\"]\n",
        "    start_epochs = train_params[\"start_epochs\"]\n",
        "    max_num_epochs = train_params[\"max_num_epochs\"]\n",
        "    epochs_increment = train_params[\"epochs_increment\"]\n",
        "    numeric_labels = labels2numeric(test_labels, label_names)\n",
        "    train_params[\"eval_classifier\"] = eval_classifier.__class__.__name__\n",
        "    print(\"Grid Search Fine tuning parameters:\\n\", json.dumps(train_params, indent=4))\n",
        "    json_output_fname = f\"{output_path}/{experiment}_FineTuningResults.json\"\n",
        "\n",
        "    # Output setup - we will update the json as the fine tuning process goes so every result is stored immediately\n",
        "    with open(json_output_fname, \"w\") as fw:\n",
        "        json.dump({}, fw)\n",
        "\n",
        "    for test_perc in all_test_perc:\n",
        "        with open(json_output_fname, \"r\") as fr:\n",
        "            output = json.load(fr)\n",
        "\n",
        "        output[f\"test_perc={test_perc}\"] = {}\n",
        "        X_train, X_test, y_train, y_test = train_test_split(train_sents, train_labels, test_size=test_perc,\n",
        "                                                            stratify=train_labels, random_state=69420)\n",
        "\n",
        "        # Load data samples into batches\n",
        "        train_batch_size = 16\n",
        "        label2int = dict(zip(label_names, range(len(label_names))))\n",
        "        train_samples = []\n",
        "        for sent, label in zip(X_train, y_train):\n",
        "            label_id = label2int[label]\n",
        "            train_samples.append(InputExample(texts=[sent], label=label_id))\n",
        "\n",
        "        # Configure the dev set evaluator - still need to test whether this works\n",
        "        dev_samples = []\n",
        "        for sent, label in zip(X_test, y_test):\n",
        "            label_id = label2int[label]\n",
        "            dev_samples.append(InputExample(texts=[sent], label=label_id))\n",
        "\n",
        "        for model_name in model_names:\n",
        "            # Setup\n",
        "            output[f\"test_perc={test_perc}\"][model_name] = []\n",
        "\n",
        "            # Train set config\n",
        "            model = SentenceTransformer(model_name)\n",
        "            train_dataset = SentencesDataset(train_samples, model=model)\n",
        "            train_dataloader = DataLoader(train_dataset, shuffle=True, batch_size=train_batch_size)\n",
        "\n",
        "            # Define the way the loss is computed\n",
        "            classifier = SoftmaxClassifier(model=model,\n",
        "                                           sentence_embedding_dimension=model.get_sentence_embedding_dimension(),\n",
        "                                           num_labels=len(label2int))\n",
        "\n",
        "            # Dev set config\n",
        "            dev_dataset = SentencesDataset(dev_samples, model=model)\n",
        "            dev_dataloader = DataLoader(dev_dataset, shuffle=True, batch_size=train_batch_size)\n",
        "            dev_evaluator = LabelAccuracyEvaluator(dataloader=dev_dataloader, softmax_model=classifier, name='lae-dev')\n",
        "\n",
        "            for num_epochs in range(start_epochs, max_num_epochs + 2, epochs_increment):\n",
        "                warmup_steps = math.ceil(\n",
        "                    len(train_dataset) * num_epochs / train_batch_size * 0.1)  # 10% of train data for warm-up\n",
        "                model_deets = f\"{train_params['eval_classifier']}_model={model_name}_test-perc={test_perc}_n-epoch={num_epochs}\"\n",
        "\n",
        "                # Train the model\n",
        "                start = time.time()\n",
        "                if num_epochs == start_epochs:\n",
        "                    model.fit(train_objectives=[(train_dataloader, classifier)],\n",
        "                              evaluator=dev_evaluator,\n",
        "                              epochs=start_epochs,\n",
        "                              evaluation_steps=1000,\n",
        "                              warmup_steps=warmup_steps,\n",
        "                              )\n",
        "                else:\n",
        "                    model.fit(train_objectives=[(train_dataloader, classifier)],\n",
        "                              evaluator=dev_evaluator,\n",
        "                              epochs=epochs_increment,  # We always tune on an extra epoch to see the performance gain\n",
        "                              evaluation_steps=1000,\n",
        "                              warmup_steps=warmup_steps,\n",
        "                              )\n",
        "\n",
        "                end = time.time()\n",
        "                hours, rem = divmod(end - start, 3600)\n",
        "                minutes, seconds = divmod(rem, 60)\n",
        "                print(\"Time taken for fine-tuning:\", \"{:0>2}:{:0>2}:{:05.2f}\".format(int(hours), int(minutes), seconds))\n",
        "\n",
        "                if eval_classifier is None:\n",
        "                  output = evaluate_using_sbert(model, test_sents, test_labels, label_names, experiment,\n",
        "                                         model_deets, model_name, num_epochs, numeric_labels, output,\n",
        "                                         output_path, test_perc, json_output_fname)\n",
        "                else:\n",
        "                  output = evaluate_using_sklearn(eval_classifier, model, train_sents, train_labels, test_sents, test_labels,\n",
        "                                           label_names, experiment, model_deets, model_name, num_epochs, output,\n",
        "                                           test_perc, output_path, json_output_fname)\n",
        "\n",
        "\n",
        "def fine_tune_sbert(train_params, train_sents, train_labels, test_sents, test_labels, label_names, eval_classifier=None):\n",
        "    output_path = train_params[\"output_path\"]\n",
        "    experiment = train_params[\"experiment\"]\n",
        "    test_perc = train_params[\"test_perc\"]\n",
        "    model_name = train_params[\"model_names\"]\n",
        "    num_epochs = train_params[\"num_epochs\"]\n",
        "    numeric_labels = labels2numeric(test_labels, label_names)\n",
        "    train_params[\"eval_classifier\"] = eval_classifier.__class__.__name__\n",
        "    print(\"Fine tuning parameters:\\n\", json.dumps(train_params, indent=4))\n",
        "    json_output_fname = f\"{output_path}/{experiment}_FineTuningResults.json\"\n",
        "\n",
        "    output = {f\"test_perc={test_perc}\": {}}\n",
        "    X_train, X_test, y_train, y_test = train_test_split(train_sents, train_labels, test_size=test_perc,\n",
        "                                                        stratify=train_labels, random_state=69420)\n",
        "    # Load data samples into batches\n",
        "    train_batch_size = 16\n",
        "    label2int = dict(zip(label_names, range(len(label_names))))\n",
        "    train_samples = []\n",
        "    for sent, label in zip(X_train, y_train):\n",
        "        label_id = label2int[label]\n",
        "        train_samples.append(InputExample(texts=[sent], label=label_id))\n",
        "\n",
        "    # Configure the dev set evaluator - still need to test whether this works\n",
        "    dev_samples = []\n",
        "    for sent, label in zip(X_test, y_test):\n",
        "        label_id = label2int[label]\n",
        "        dev_samples.append(InputExample(texts=[sent], label=label_id))\n",
        "\n",
        "    # Setup\n",
        "    output[f\"test_perc={test_perc}\"][model_name] = []\n",
        "\n",
        "    # Train set config\n",
        "    model = SentenceTransformer(model_name)\n",
        "    train_dataset = SentencesDataset(train_samples, model=model)\n",
        "    train_dataloader = DataLoader(train_dataset, shuffle=True, batch_size=train_batch_size)\n",
        "\n",
        "    # Define the way the loss is computed\n",
        "    classifier = SoftmaxClassifier(model=model,\n",
        "                                   sentence_embedding_dimension=model.get_sentence_embedding_dimension(),\n",
        "                                   num_labels=len(label2int))\n",
        "\n",
        "    # Dev set config\n",
        "    dev_dataset = SentencesDataset(dev_samples, model=model)\n",
        "    dev_dataloader = DataLoader(dev_dataset, shuffle=True, batch_size=train_batch_size)\n",
        "    dev_evaluator = LabelAccuracyEvaluator(dataloader=dev_dataloader, softmax_model=classifier, name='lae-dev')\n",
        "    warmup_steps = math.ceil(\n",
        "        len(train_dataset) * num_epochs / train_batch_size * 0.1)  # 10% of train data for warm-up\n",
        "    model_deets = f\"{train_params['eval_classifier']}_model={model_name}_test-perc={test_perc}_n-epoch={num_epochs}\"\n",
        "\n",
        "    # Train the model\n",
        "    start = time.time()\n",
        "    model.fit(train_objectives=[(train_dataloader, classifier)],\n",
        "              evaluator=dev_evaluator,\n",
        "              epochs=num_epochs,\n",
        "              evaluation_steps=1000,\n",
        "              warmup_steps=warmup_steps,\n",
        "              output_path=output_path\n",
        "              )\n",
        "\n",
        "    end = time.time()\n",
        "    hours, rem = divmod(end - start, 3600)\n",
        "    minutes, seconds = divmod(rem, 60)\n",
        "    print(\"Time taken for fine-tuning:\", \"{:0>2}:{:0>2}:{:05.2f}\".format(int(hours), int(minutes), seconds))\n",
        "\n",
        "    if eval_classifier is None:\n",
        "      output = evaluate_using_sbert(model, test_sents, test_labels, label_names, experiment,\n",
        "                             model_deets, model_name, num_epochs, numeric_labels, output,\n",
        "                             output_path, test_perc, json_output_fname)\n",
        "    else:\n",
        "      output = evaluate_using_sklearn(eval_classifier, model, train_sents, train_labels, test_sents, test_labels,\n",
        "                               label_names, experiment, model_deets, model_name, num_epochs, output,\n",
        "                               test_perc, output_path, json_output_fname)\n",
        "\n",
        "\n",
        "def evaluate_using_sbert(model, test_sents, test_labels, label_names, experiment,\n",
        "                         model_deets, model_name, num_epochs, numeric_labels, output,\n",
        "                         output_path, test_perc, json_output_fname):\n",
        "\n",
        "    # Projection matrix Z low-dim projection\n",
        "    print(\"Classifying sentences...\")\n",
        "    proj_matrix = cp.asnumpy(calc_proj_matrix(test_sents, 50, es_nlp, model, 0.01))\n",
        "    test_embs = encode_all_sents(test_sents, model, proj_matrix)\n",
        "    label_embs = encode_labels(label_names, model, proj_matrix)\n",
        "    visualize_embeddings_2D(np.vstack(test_embs), test_labels, tsne_perplexity=50,\n",
        "                            store_name=f\"{output_path}/{model_deets}\")\n",
        "    model_preds, model_scores = calc_all_cos_similarity(test_embs, label_embs, label_names)\n",
        "\n",
        "    print(\"Evaluating predictions...\")\n",
        "    numeric_preds = labels2numeric(model_preds, label_names)\n",
        "    evaluator = ModelEvaluator(label_names, y_true=numeric_labels, y_pred=numeric_preds)\n",
        "    output[f\"test_perc={test_perc}\"][model_name].append(\n",
        "            {\"num_epochs\": num_epochs,\n",
        "             \"avg_f1\": evaluator.avg_f1.tolist()})\n",
        "\n",
        "    with open(json_output_fname, \"w\") as fw:\n",
        "        json.dump(output, fw)\n",
        "    evaluator.plot_confusion_matrix(color_map='Blues', exp_name=f\"{output_path}/{model_deets}\")\n",
        "    print(\"Macro/Weighted Avg F1-score:\", evaluator.avg_f1.tolist())\n",
        "\n",
        "    return output\n",
        "\n",
        "\n",
        "def evaluate_using_sklearn(clf, model, train_sents, train_labels, test_sents, test_labels,\n",
        "                           label_names, experiment, model_deets, model_name, num_epochs, output,\n",
        "                        test_perc, output_path, json_output_fname):\n",
        "\n",
        "    # Sentence encoding\n",
        "    print(\"Classifying sentences...\")\n",
        "    train_embs = encode_all_sents(train_sents, model)\n",
        "    test_embs = encode_all_sents(test_sents, model)\n",
        "\n",
        "    visualize_embeddings_2D(np.vstack(test_embs), test_labels, tsne_perplexity=50,\n",
        "                            store_name=f\"{output_path}/{model_deets}\")\n",
        "\n",
        "    # Classifier training\n",
        "    clf.fit(np.vstack(train_embs), train_labels)\n",
        "\n",
        "    # Classifier predictions\n",
        "    clf_preds = list(clf.predict(np.vstack(test_embs)))\n",
        "\n",
        "    print(\"Evaluating predictions...\")\n",
        "    print(classification_report(test_labels, clf_preds))\n",
        "    numeric_preds = labels2numeric(clf_preds, label_names)\n",
        "    numeric_test_labels = labels2numeric(test_labels, label_names)\n",
        "    evaluator = ModelEvaluator(label_names, y_true=numeric_test_labels, y_pred=numeric_preds)\n",
        "\n",
        "    output[f\"test_perc={test_perc}\"][model_name].append({\"num_epochs\": num_epochs, \"avg_f1\": evaluator.avg_f1.tolist()})\n",
        "    with open(json_output_fname, \"w\") as fw:\n",
        "        json.dump(output, fw)\n",
        "\n",
        "    evaluator.plot_confusion_matrix(color_map='Blues', exp_name=f\"{output_path}/{model_deets}\")\n",
        "    print(\"Macro/Weighted Avg F1-score:\", evaluator.avg_f1.tolist())\n",
        "\n",
        "    return output\n",
        "\n",
        "def load_dataset(data_path, rater, set_of_labels_string):\n",
        "  \"\"\"\n",
        "  Return the train data, train labels, test data, and test labels \n",
        "  \"\"\"\n",
        "  dataset = []\n",
        "\n",
        "  for dataset_type in [\"train\", \"test\"]:\n",
        "    for file_type in [\"sentences\", \"labels\"]:\n",
        "      filename = dataset_type + \"_\" + rater + \"_\" + set_of_labels_string + \"_\" + file_type + \".csv\"\n",
        "      file = data_path + \"/\" + filename\n",
        "      try:\n",
        "        data = pd.read_csv(file, index_col=False, header=None)\n",
        "      except Exception as e:\n",
        "        if \"can't decode byte\" in str(e):\n",
        "          data = pd.read_csv(file, index_col=False, header=None, encoding=\"ISO-8859-1\")\n",
        "        else:\n",
        "          raise Exception(\"Couldn't read file:\", file)\n",
        "      dataset.append(data[0].tolist())  # The data is always the entire first column\n",
        "  \n",
        "  return dataset[0], dataset[1], dataset[2], dataset[3]"
      ],
      "execution_count": 17,
      "outputs": []
    },
    {
      "cell_type": "markdown",
      "metadata": {
        "id": "plcg1u8kqCCR"
      },
      "source": [
        "### Load data\n",
        "\n",
        "- EXP1 = Binary classification fine tuning using the projection matrix\n",
        "- EXP3 = Binary classification fine tuning evaluated on LightGBM\n",
        "- EXP4 = Binary classification fine tuning evaluated on Support Vector Machines"
      ]
    },
    {
      "cell_type": "code",
      "metadata": {
        "id": "liOnrCm-kCVg"
      },
      "source": [
        "experiment = \"EXP30\" \n",
        "\n",
        "# This first one is the one used by David and Daniel\n",
        "base_path = \"/content/drive/MyDrive/WRI-LatinAmerica-Talent\"\n",
        "\n",
        "# This one is the one used by Jordi\n",
        "# base_path = \"/content/drive/MyDrive/Official Folder of WRI Latin America Project/WRI-LatinAmerica-Talent\"\n",
        "\n",
        "data_path =  f\"{base_path}/Cristina_Policy_Files/Tagged_sentence_lists/datasets/Binary\"\n",
        "results_save_path = f\"{base_path}/Modeling/BinaryClassificationExperiments/{experiment}\"\n",
        "\n",
        "if not os.path.exists(results_save_path):\n",
        "    os.makedirs(results_save_path)"
      ],
      "execution_count": null,
      "outputs": []
    },
    {
      "cell_type": "code",
      "metadata": {
        "colab": {
          "base_uri": "https://localhost:8080/"
        },
        "id": "jmj6mDkxo42F",
        "outputId": "9177edf1-b9ba-4a7c-d776-806c3edc22b8"
      },
      "source": [
        "train_sents, train_labels, test_sents, test_labels = load_dataset(data_path, experiment)\n",
        "label_names = unique_labels(train_labels)\n",
        "label_names"
      ],
      "execution_count": null,
      "outputs": [
        {
          "output_type": "execute_result",
          "data": {
            "text/plain": [
              "['not_Incentive', 'Incentive']"
            ]
          },
          "metadata": {
            "tags": []
          },
          "execution_count": 12
        }
      ]
    },
    {
      "cell_type": "code",
      "metadata": {
        "colab": {
          "base_uri": "https://localhost:8080/"
        },
        "id": "riEsVYAb6iDL",
        "outputId": "be546f8b-7eb4-4390-ddd9-953622659354"
      },
      "source": [
        "(train_sents[2], train_labels[2]), (test_sents[2], test_labels[2])"
      ],
      "execution_count": null,
      "outputs": [
        {
          "output_type": "execute_result",
          "data": {
            "text/plain": [
              "(('para el aprovechamiento forestal, y para la realizacion de obras y actividades relacionadas con dicho aprovechamiento',\n",
              "  'Incentive'),\n",
              " ('Se prohibe la practica de quema en los terrenos forestales y sus colindancias, asi como la instalacion de establecimientos cuyo funcionamiento puede provocar incendios forestales',\n",
              "  'Incentive'))"
            ]
          },
          "metadata": {
            "tags": []
          },
          "execution_count": 13
        }
      ]
    },
    {
      "cell_type": "code",
      "metadata": {
        "colab": {
          "base_uri": "https://localhost:8080/",
          "height": 387
        },
        "id": "ij2Z9Hi4tWT4",
        "outputId": "fc16f34f-38bb-4456-894c-9e1879af73ba"
      },
      "source": [
        "numeric_train_labels = labels2numeric(train_labels, label_names)\n",
        "plot_data_distribution(numeric_train_labels, label_names)"
      ],
      "execution_count": null,
      "outputs": [
        {
          "output_type": "display_data",
          "data": {
            "image/png": "[encoded data removed]",
            "text/plain": [
              "<Figure size 432x288 with 1 Axes>"
            ]
          },
          "metadata": {
            "tags": [],
            "needs_background": "light"
          }
        },
        {
          "output_type": "stream",
          "text": [
            "Label counts:\n",
            "{'not_Incentive': 0.4823008849557522, 'Incentive': 0.5176991150442478}\n"
          ],
          "name": "stdout"
        }
      ]
    },
    {
      "cell_type": "markdown",
      "metadata": {
        "id": "C9TVjmSxE-Av"
      },
      "source": [
        "### Temporary text loading"
      ]
    },
    {
      "cell_type": "code",
      "metadata": {
        "id": "kr6Gwom0E9G5",
        "outputId": "f1554ac5-bdcf-4bde-83db-020f75f8499a",
        "colab": {
          "base_uri": "https://localhost:8080/",
          "height": 392
        }
      },
      "source": [
        "experiment = \"EXP30\"\n",
        "classifier = \"Binary\"\n",
        "\n",
        "# This first one is the one used by David and Daniel\n",
        "base_path = \"/content/drive/MyDrive/WRI-LatinAmerica-Talent\"\n",
        "\n",
        "# This one is the one used by Jordi\n",
        "# base_path = \"/content/drive/MyDrive/Official Folder of WRI Latin America Project/WRI-LatinAmerica-Talent\"\n",
        "\n",
        "data_path = f\"{base_path}/Cristina_Policy_Files/Tagged_sentence_lists/datasets/{classifier}/\"\n",
        "results_save_path = f\"{base_path}/Modeling/MulticlassClassificationExperiments/{experiment}\"\n",
        "\n",
        "if not os.path.exists(results_save_path):\n",
        "    os.makedirs(results_save_path)\n",
        "\n",
        "filename = experiment + \"_\" + \"train\" + \"_sentences.csv\"\n",
        "file = data_path + filename\n",
        "with open(file, newline='') as f:\n",
        "    reader = csv.reader(f)\n",
        "    List = list(reader)\n",
        "    train_sents = [item[0] for item in List]\n",
        "\n",
        "filename = experiment + \"_\" + \"train\" + \"_labels.csv\"\n",
        "file = data_path + filename\n",
        "with open(file, newline='') as f:\n",
        "    reader = csv.reader(f)\n",
        "    List = list(reader)\n",
        "    train_labels = [item[0] for item in List]\n",
        "\n",
        "filename = experiment + \"_\" + \"test\" + \"_sentences.csv\"\n",
        "file = data_path + filename\n",
        "with open(file, newline='') as f:\n",
        "    reader = csv.reader(f)\n",
        "    List = list(reader)\n",
        "    test_sents = [item[0] for item in List]\n",
        "\n",
        "filename = experiment + \"_\" + \"test\" + \"_labels.csv\"\n",
        "file = data_path + filename\n",
        "with open(file, newline='') as f:\n",
        "    reader = csv.reader(f)\n",
        "    List = list(reader)\n",
        "    test_labels = [item[0] for item in List]\n",
        "    \n",
        "label_names = unique_labels(train_labels)\n",
        "numeric_labels = labels2numeric(test_labels, label_names)\n",
        "print(label_names)\n",
        "numeric_train_labels = labels2numeric(train_labels, label_names)\n",
        "plot_data_distribution(numeric_train_labels, label_names)"
      ],
      "execution_count": 19,
      "outputs": [
        {
          "output_type": "stream",
          "text": [
            "['Incentive', 'not_Incentive']\n"
          ],
          "name": "stdout"
        },
        {
          "output_type": "display_data",
          "data": {
            "image/png": "[encoded data removed]",
            "text/plain": [
              "<Figure size 432x288 with 1 Axes>"
            ]
          },
          "metadata": {
            "tags": []
          }
        },
        {
          "output_type": "stream",
          "text": [
            "Label counts:\n",
            "{'Incentive': 0.8081683168316832, 'not_Incentive': 0.19183168316831684}\n"
          ],
          "name": "stdout"
        }
      ]
    },
    {
      "cell_type": "markdown",
      "metadata": {
        "id": "Pm9OVVBXqFVj"
      },
      "source": [
        "### Fine tune SBERT\n",
        "\n"
      ]
    },
    {
      "cell_type": "code",
      "metadata": {
        "id": "7iwJ0mc8uzNH"
      },
      "source": [
        "from lightgbm import LGBMClassifier\n",
        "from sklearn import svm"
      ],
      "execution_count": 10,
      "outputs": []
    },
    {
      "cell_type": "code",
      "metadata": {
        "id": "iW1PljVfRcNr"
      },
      "source": [
        "# Configure the grid search fine tuning \n",
        "# clf = LGBMClassifier(n_estimators=2000,\n",
        "#                       feature_fraction=0.06,\n",
        "#                       bagging_fraction=0.67,\n",
        "#                       bagging_freq=1,\n",
        "#                       verbose=0,\n",
        "#                       n_jobs=6,\n",
        "#                       random_state=69420)\n",
        "\n",
        "clf = svm.SVC(gamma=0.001, C=100.)\n",
        "\n",
        "grid_search_params = {\n",
        "    \"all_test_perc\": [0.15, 0.2, 0.25, 0.3],\n",
        "    \"model_names\": ['stsb-xlm-r-multilingual', 'paraphrase-xlm-r-multilingual-v1'], #, 'quora-distilbert-multilingual''distiluse-base-multilingual-sed-v2',\n",
        "    \"output_path\": results_save_path,\n",
        "    \"experiment\": experiment,\n",
        "    # If you want to train for a set number of epochs instead of a range, set all these numbers to be equal\n",
        "    \"start_epochs\": 4, \n",
        "    \"epochs_increment\": 2,\n",
        "    \"max_num_epochs\": 12,\n",
        "}"
      ],
      "execution_count": null,
      "outputs": []
    },
    {
      "cell_type": "code",
      "metadata": {
        "id": "0lWL2HOBRcD7"
      },
      "source": [
        "# To run a grid search over hyperparameters for fine tuning SBERT without storing the model, run:\n",
        "grid_search_fine_tune_sbert(grid_search_params, train_sents, train_labels, test_sents, test_labels, label_names, eval_classifier=clf)"
      ],
      "execution_count": null,
      "outputs": []
    },
    {
      "cell_type": "code",
      "metadata": {
        "id": "JSxy6d2cePr9"
      },
      "source": [
        "# Configure the fine tuning for one set of parameters\n",
        "clf = svm.SVC(gamma=0.001, C=100.)\n",
        "fine_tuning_params = {\n",
        "    \"test_perc\": 0.15,\n",
        "    \"model_names\": 'paraphrase-xlm-r-multilingual-v1',\n",
        "    \"output_path\": results_save_path,\n",
        "    \"experiment\": experiment,\n",
        "    \"num_epochs\": 10\n",
        "}"
      ],
      "execution_count": 15,
      "outputs": []
    },
    {
      "cell_type": "code",
      "metadata": {
        "colab": {
          "base_uri": "https://localhost:8080/",
          "height": 1000,
          "referenced_widgets": [
            "adbf02ec2ce84fb2ab35260af6163bec",
            "362b518202534e48955be9d08d40bf3d",
            "929c4bf6695d48f5a4c600680485a8ea",
            "524810fda74f471984628fec926af253",
            "4d7bdcca751c4ecba42334651b75b2d8",
            "2b198299d02c4398b7ab0237fe5b8452",
            "e5311b68f7cb4bbab981bcb0b6a5a2e0",
            "aee3deed5868422b812ac18ea56f87c9",
            "2fee41911fb54096a1ef532056bd1027",
            "65609110d0114d068968d3601126dbdd",
            "a27ceb230d924ad5906c777c56786f45",
            "0d88b7c7b920411cb4819ff36766d809",
            "74fb3131226347f68c575e4d57c4ce77",
            "07837dde5753438c8e00d44f35ce3807",
            "d2e745f7b3ec4765b73ad80fc17ad0ac",
            "b023e315993a47d78b30b9d006033513",
            "e5e3db7b7eaa4094a093399466851ddb",
            "ed2360ea4e24403591d9ecf8df2db872",
            "6f627382966449b88bbe6b36e75d6e81",
            "55f9b30df12241ef96c72d40d198e080",
            "13f87646da5e4796af8fd36779f21d67",
            "a3e75a5fb6b94157bcd8508c80e38e63",
            "b3332bfb131b4e5bb29fea21a511138f",
            "487d32687bf4422882e915ea255d3b45",
            "35a299ae4fc04f26a414aa028b8def99",
            "cbef0d1d212144f0b93046d8b849a42f",
            "4a923782179d4e808933dd449649d0bf",
            "f41591fc5eae4537b2521e590085c5b2",
            "f600433ccba94aad8f30bd4c9d5a6eb4",
            "f0b102c7ef264078858d0233c2176d3b",
            "a578f6f2dccb48e997241ff0df44c70e",
            "85fa60932e4a410a9469b184d6c2d4f3",
            "cd225c3ffc524439acb6477c6de10595",
            "904fd9d36ba64b958c082c8d4bb02070",
            "a8e6dd9a0c9148d394a886edbdbd09d5",
            "f59850183be24521b99bf37563006028",
            "671a6e5e5d05453ba5ef5bdd7edbc83f",
            "df18e75c8ab14ae581d075bc03d98830",
            "bcf32b6d00af4a3db0800789ae6b7c55",
            "8e0609fa96c947dca7e7b5bc9d226003",
            "22254578965140f3b9b21798d181fd71",
            "be88cd4c76814d9fb35982cf57222916",
            "aa252e547f6e42e1be946ede0c66c72f",
            "4fcb8dc009f845d185812c9cc3dc2ce1",
            "9353d54ebbf041d6ae3c252e6d7f4e8c",
            "47118481a1c0455c9fdd85af9d453f02",
            "76141e6350e94a4088069812c6aec578",
            "a7a5783bfb044845ab2eb6307e47c4a4",
            "36d0f0b32cb34f0689a24be42d9f3041",
            "14a3242325864106bf73cc076f113dea",
            "d159014ebab840d2a2e09792aef67329",
            "073bfcc4b18a46d1800c7fe4efd7bb58",
            "0ac57b40742041089076150a2df3cc30",
            "f4e469c1b228482cb83c7ab74d4ce209",
            "474db93cca19441eb47edd1c89001b44",
            "b0a5ccf93d8342179a0b90b491079372",
            "6afa0f9f9f6c4f129c6eac4738ad9d9b",
            "5d00c28fc6194769b2f6810f42598eac",
            "9e59eea12e18419aa310e8334109b1e9",
            "1cb6895c8ac84edd93c0dd8d14e01662",
            "acfabfe72e2e4d2f8160cb4e16afe89a",
            "ebaf70f478b64d14adecc4fbaa774cb4",
            "ade654dd19da48358b52b1d11aadf8dd",
            "e051d942f94b4bccb3b473c01a977930",
            "6461b19055ab4259b167a1a51bbce334",
            "44288c3c54c24a2099cdf9f5af2dc501",
            "98b0e25257954466a7afabb313244833",
            "738949d9e4f74268896deab9d5b900a5",
            "48793e954dea4a6ab87565e431966fcf",
            "08ea3a8a34a947b4a149b00679a686ad",
            "9ce06dccf0534ded8943c8b47fdef993",
            "e573756527024b0d8dcb9355bbd22956",
            "b0799c5c8de84250b8d13de310fa918d",
            "018180ce9d0d49708ef4b88296458086",
            "e7b39de00b614bf0beab75fe9c48d944",
            "3c88ff620c174f17a7724cff451f87c5",
            "16b1ee6a6b144e6c8aa9f832f2547bc6",
            "b31041c2551147c980c9e00e7ad9e214",
            "dd9f98eaacf242c5a910e253eaadc055",
            "ba8d15e32ff54be39b71d9d4ad1ec9cf",
            "56b27f1d593b41a4a5cfb05834080c71",
            "cff987aa981b46b4a12e16ed07ec2c15",
            "b8db90ee8c994d08866202161b446626",
            "9c745c79fb6b4b4997c2613db4556397",
            "835a237ee59f48af9af77bd7a50903f1",
            "116115888e0d436ca8f53826dacb5845",
            "8331c4de1ecc477785916c8917ab0b10",
            "2805f8f21dc74dc4af8797f45a74bc6d"
          ]
        },
        "id": "61QMefoeePfq",
        "outputId": "482d52c0-9c3b-4aa1-9f6d-128b7f005133"
      },
      "source": [
        "# If you already know which configuration you want to fine tune SBERT on, and want to store the model, run:\n",
        "fine_tune_sbert(fine_tuning_params, train_sents, train_labels, test_sents, test_labels, label_names)"
      ],
      "execution_count": 16,
      "outputs": [
        {
          "output_type": "stream",
          "text": [
            "Fine tuning parameters:\n",
            " {\n",
            "    \"test_perc\": 0.15,\n",
            "    \"model_names\": \"paraphrase-xlm-r-multilingual-v1\",\n",
            "    \"output_path\": \"/content/drive/MyDrive/WRI-LatinAmerica-Talent/Modeling/MulticlassClassificationExperiments/EXP30\",\n",
            "    \"experiment\": \"EXP30\",\n",
            "    \"num_epochs\": 10,\n",
            "    \"eval_classifier\": \"NoneType\"\n",
            "}\n"
          ],
          "name": "stdout"
        },
        {
          "output_type": "display_data",
          "data": {
            "application/vnd.jupyter.widget-view+json": {
              "model_id": "adbf02ec2ce84fb2ab35260af6163bec",
              "version_minor": 0,
              "version_major": 2
            },
            "text/plain": [
              "HBox(children=(FloatProgress(value=0.0, description='Epoch', max=10.0, style=ProgressStyle(description_width='…"
            ]
          },
          "metadata": {
            "tags": []
          }
        },
        {
          "output_type": "display_data",
          "data": {
            "application/vnd.jupyter.widget-view+json": {
              "model_id": "2fee41911fb54096a1ef532056bd1027",
              "version_minor": 0,
              "version_major": 2
            },
            "text/plain": [
              "HBox(children=(FloatProgress(value=0.0, description='Iteration', max=43.0, style=ProgressStyle(description_wid…"
            ]
          },
          "metadata": {
            "tags": []
          }
        },
        {
          "output_type": "stream",
          "text": [
            "\n",
            "Evaluating:   0%|          | 0/8 [00:00<?, ?it/s]\u001b[A\n",
            "Evaluating:  25%|██▌       | 2/8 [00:00<00:00, 15.35it/s]\u001b[A"
          ],
          "name": "stderr"
        },
        {
          "output_type": "stream",
          "text": [
            "\n"
          ],
          "name": "stdout"
        },
        {
          "output_type": "stream",
          "text": [
            "\n",
            "Evaluating:  50%|█████     | 4/8 [00:00<00:00, 15.01it/s]\u001b[A\n",
            "Evaluating:  75%|███████▌  | 6/8 [00:00<00:00, 15.91it/s]\u001b[A\n",
            "Evaluating: 100%|██████████| 8/8 [00:00<00:00, 15.97it/s]\n"
          ],
          "name": "stderr"
        },
        {
          "output_type": "display_data",
          "data": {
            "application/vnd.jupyter.widget-view+json": {
              "model_id": "e5e3db7b7eaa4094a093399466851ddb",
              "version_minor": 0,
              "version_major": 2
            },
            "text/plain": [
              "HBox(children=(FloatProgress(value=0.0, description='Iteration', max=43.0, style=ProgressStyle(description_wid…"
            ]
          },
          "metadata": {
            "tags": []
          }
        },
        {
          "output_type": "stream",
          "text": [
            "\n",
            "Evaluating:   0%|          | 0/8 [00:00<?, ?it/s]\u001b[A\n",
            "Evaluating:  25%|██▌       | 2/8 [00:00<00:00, 18.43it/s]\u001b[A"
          ],
          "name": "stderr"
        },
        {
          "output_type": "stream",
          "text": [
            "\n"
          ],
          "name": "stdout"
        },
        {
          "output_type": "stream",
          "text": [
            "\n",
            "Evaluating:  50%|█████     | 4/8 [00:00<00:00, 16.62it/s]\u001b[A\n",
            "Evaluating:  75%|███████▌  | 6/8 [00:00<00:00, 16.41it/s]\u001b[A\n",
            "Evaluating: 100%|██████████| 8/8 [00:00<00:00, 16.37it/s]\n"
          ],
          "name": "stderr"
        },
        {
          "output_type": "display_data",
          "data": {
            "application/vnd.jupyter.widget-view+json": {
              "model_id": "35a299ae4fc04f26a414aa028b8def99",
              "version_minor": 0,
              "version_major": 2
            },
            "text/plain": [
              "HBox(children=(FloatProgress(value=0.0, description='Iteration', max=43.0, style=ProgressStyle(description_wid…"
            ]
          },
          "metadata": {
            "tags": []
          }
        },
        {
          "output_type": "stream",
          "text": [
            "\n",
            "Evaluating:   0%|          | 0/8 [00:00<?, ?it/s]\u001b[A\n",
            "Evaluating:  25%|██▌       | 2/8 [00:00<00:00, 15.29it/s]\u001b[A"
          ],
          "name": "stderr"
        },
        {
          "output_type": "stream",
          "text": [
            "\n"
          ],
          "name": "stdout"
        },
        {
          "output_type": "stream",
          "text": [
            "\n",
            "Evaluating:  50%|█████     | 4/8 [00:00<00:00, 16.37it/s]\u001b[A\n",
            "Evaluating: 100%|██████████| 8/8 [00:00<00:00, 17.06it/s]\n"
          ],
          "name": "stderr"
        },
        {
          "output_type": "display_data",
          "data": {
            "application/vnd.jupyter.widget-view+json": {
              "model_id": "cd225c3ffc524439acb6477c6de10595",
              "version_minor": 0,
              "version_major": 2
            },
            "text/plain": [
              "HBox(children=(FloatProgress(value=0.0, description='Iteration', max=43.0, style=ProgressStyle(description_wid…"
            ]
          },
          "metadata": {
            "tags": []
          }
        },
        {
          "output_type": "stream",
          "text": [
            "\n",
            "Evaluating:   0%|          | 0/8 [00:00<?, ?it/s]\u001b[A\n",
            "Evaluating:  38%|███▊      | 3/8 [00:00<00:00, 17.67it/s]\u001b[A"
          ],
          "name": "stderr"
        },
        {
          "output_type": "stream",
          "text": [
            "\n"
          ],
          "name": "stdout"
        },
        {
          "output_type": "stream",
          "text": [
            "\n",
            "Evaluating:  62%|██████▎   | 5/8 [00:00<00:00, 17.00it/s]\u001b[A\n",
            "Evaluating: 100%|██████████| 8/8 [00:00<00:00, 16.54it/s]\n"
          ],
          "name": "stderr"
        },
        {
          "output_type": "display_data",
          "data": {
            "application/vnd.jupyter.widget-view+json": {
              "model_id": "22254578965140f3b9b21798d181fd71",
              "version_minor": 0,
              "version_major": 2
            },
            "text/plain": [
              "HBox(children=(FloatProgress(value=0.0, description='Iteration', max=43.0, style=ProgressStyle(description_wid…"
            ]
          },
          "metadata": {
            "tags": []
          }
        },
        {
          "output_type": "stream",
          "text": [
            "\n",
            "Evaluating:   0%|          | 0/8 [00:00<?, ?it/s]\u001b[A\n",
            "Evaluating:  25%|██▌       | 2/8 [00:00<00:00, 19.90it/s]\u001b[A"
          ],
          "name": "stderr"
        },
        {
          "output_type": "stream",
          "text": [
            "\n"
          ],
          "name": "stdout"
        },
        {
          "output_type": "stream",
          "text": [
            "\n",
            "Evaluating:  50%|█████     | 4/8 [00:00<00:00, 17.49it/s]\u001b[A\n",
            "Evaluating: 100%|██████████| 8/8 [00:00<00:00, 17.25it/s]\n"
          ],
          "name": "stderr"
        },
        {
          "output_type": "display_data",
          "data": {
            "application/vnd.jupyter.widget-view+json": {
              "model_id": "36d0f0b32cb34f0689a24be42d9f3041",
              "version_minor": 0,
              "version_major": 2
            },
            "text/plain": [
              "HBox(children=(FloatProgress(value=0.0, description='Iteration', max=43.0, style=ProgressStyle(description_wid…"
            ]
          },
          "metadata": {
            "tags": []
          }
        },
        {
          "output_type": "stream",
          "text": [
            "\n",
            "Evaluating:   0%|          | 0/8 [00:00<?, ?it/s]\u001b[A\n",
            "Evaluating:  38%|███▊      | 3/8 [00:00<00:00, 22.66it/s]\u001b[A"
          ],
          "name": "stderr"
        },
        {
          "output_type": "stream",
          "text": [
            "\n"
          ],
          "name": "stdout"
        },
        {
          "output_type": "stream",
          "text": [
            "\n",
            "Evaluating:  62%|██████▎   | 5/8 [00:00<00:00, 18.83it/s]\u001b[A\n",
            "Evaluating: 100%|██████████| 8/8 [00:00<00:00, 18.02it/s]\n"
          ],
          "name": "stderr"
        },
        {
          "output_type": "display_data",
          "data": {
            "application/vnd.jupyter.widget-view+json": {
              "model_id": "6afa0f9f9f6c4f129c6eac4738ad9d9b",
              "version_minor": 0,
              "version_major": 2
            },
            "text/plain": [
              "HBox(children=(FloatProgress(value=0.0, description='Iteration', max=43.0, style=ProgressStyle(description_wid…"
            ]
          },
          "metadata": {
            "tags": []
          }
        },
        {
          "output_type": "stream",
          "text": [
            "\n",
            "Evaluating:   0%|          | 0/8 [00:00<?, ?it/s]\u001b[A\n",
            "Evaluating:  25%|██▌       | 2/8 [00:00<00:00, 15.74it/s]\u001b[A"
          ],
          "name": "stderr"
        },
        {
          "output_type": "stream",
          "text": [
            "\n"
          ],
          "name": "stdout"
        },
        {
          "output_type": "stream",
          "text": [
            "\n",
            "Evaluating:  50%|█████     | 4/8 [00:00<00:00, 16.69it/s]\u001b[A\n",
            "Evaluating: 100%|██████████| 8/8 [00:00<00:00, 17.39it/s]\n"
          ],
          "name": "stderr"
        },
        {
          "output_type": "display_data",
          "data": {
            "application/vnd.jupyter.widget-view+json": {
              "model_id": "6461b19055ab4259b167a1a51bbce334",
              "version_minor": 0,
              "version_major": 2
            },
            "text/plain": [
              "HBox(children=(FloatProgress(value=0.0, description='Iteration', max=43.0, style=ProgressStyle(description_wid…"
            ]
          },
          "metadata": {
            "tags": []
          }
        },
        {
          "output_type": "stream",
          "text": [
            "\n",
            "Evaluating:   0%|          | 0/8 [00:00<?, ?it/s]\u001b[A\n",
            "Evaluating:  25%|██▌       | 2/8 [00:00<00:00, 18.55it/s]\u001b[A"
          ],
          "name": "stderr"
        },
        {
          "output_type": "stream",
          "text": [
            "\n"
          ],
          "name": "stdout"
        },
        {
          "output_type": "stream",
          "text": [
            "\n",
            "Evaluating:  50%|█████     | 4/8 [00:00<00:00, 18.54it/s]\u001b[A\n",
            "Evaluating:  75%|███████▌  | 6/8 [00:00<00:00, 16.74it/s]\u001b[A\n",
            "Evaluating: 100%|██████████| 8/8 [00:00<00:00, 16.83it/s]\n"
          ],
          "name": "stderr"
        },
        {
          "output_type": "display_data",
          "data": {
            "application/vnd.jupyter.widget-view+json": {
              "model_id": "b0799c5c8de84250b8d13de310fa918d",
              "version_minor": 0,
              "version_major": 2
            },
            "text/plain": [
              "HBox(children=(FloatProgress(value=0.0, description='Iteration', max=43.0, style=ProgressStyle(description_wid…"
            ]
          },
          "metadata": {
            "tags": []
          }
        },
        {
          "output_type": "stream",
          "text": [
            "\n",
            "Evaluating:   0%|          | 0/8 [00:00<?, ?it/s]\u001b[A\n",
            "Evaluating:  25%|██▌       | 2/8 [00:00<00:00, 15.53it/s]\u001b[A"
          ],
          "name": "stderr"
        },
        {
          "output_type": "stream",
          "text": [
            "\n"
          ],
          "name": "stdout"
        },
        {
          "output_type": "stream",
          "text": [
            "\n",
            "Evaluating:  50%|█████     | 4/8 [00:00<00:00, 16.60it/s]\u001b[A\n",
            "Evaluating: 100%|██████████| 8/8 [00:00<00:00, 16.89it/s]\n"
          ],
          "name": "stderr"
        },
        {
          "output_type": "display_data",
          "data": {
            "application/vnd.jupyter.widget-view+json": {
              "model_id": "56b27f1d593b41a4a5cfb05834080c71",
              "version_minor": 0,
              "version_major": 2
            },
            "text/plain": [
              "HBox(children=(FloatProgress(value=0.0, description='Iteration', max=43.0, style=ProgressStyle(description_wid…"
            ]
          },
          "metadata": {
            "tags": []
          }
        },
        {
          "output_type": "stream",
          "text": [
            "\n",
            "Evaluating:   0%|          | 0/8 [00:00<?, ?it/s]\u001b[A\n",
            "Evaluating:  25%|██▌       | 2/8 [00:00<00:00, 13.72it/s]\u001b[A"
          ],
          "name": "stderr"
        },
        {
          "output_type": "stream",
          "text": [
            "\n"
          ],
          "name": "stdout"
        },
        {
          "output_type": "stream",
          "text": [
            "\n",
            "Evaluating:  50%|█████     | 4/8 [00:00<00:00, 14.76it/s]\u001b[A\n",
            "Evaluating:  75%|███████▌  | 6/8 [00:00<00:00, 15.71it/s]\u001b[A\n",
            "Evaluating: 100%|██████████| 8/8 [00:00<00:00, 16.33it/s]\n"
          ],
          "name": "stderr"
        },
        {
          "output_type": "stream",
          "text": [
            "\n",
            "Time taken for fine-tuning: 00:02:01.65\n",
            "Classifying sentences...\n"
          ],
          "name": "stdout"
        },
        {
          "output_type": "stream",
          "text": [
            "100%|██████████| 203/203 [00:05<00:00, 35.71it/s]\n"
          ],
          "name": "stderr"
        },
        {
          "output_type": "stream",
          "text": [
            "[t-SNE] Computing 151 nearest neighbors...\n",
            "[t-SNE] Indexed 203 samples in 0.000s...\n",
            "[t-SNE] Computed neighbors for 203 samples in 0.006s...\n",
            "[t-SNE] Computed conditional probabilities for sample 203 / 203\n",
            "[t-SNE] Mean sigma: 9.110739\n",
            "[t-SNE] KL divergence after 250 iterations with early exaggeration: 55.775459\n",
            "[t-SNE] KL divergence after 750 iterations: 0.429961\n"
          ],
          "name": "stdout"
        },
        {
          "output_type": "stream",
          "text": [
            "100%|██████████| 203/203 [00:00<00:00, 13603.08it/s]\n"
          ],
          "name": "stderr"
        },
        {
          "output_type": "stream",
          "text": [
            "Evaluating predictions...\n",
            "Stored confusion matrix: /content/drive/MyDrive/WRI-LatinAmerica-Talent/Modeling/MulticlassClassificationExperiments/EXP30/NoneType_model=paraphrase-xlm-r-multilingual-v1_test-perc=0.15_n-epoch=10_cm.png\n"
          ],
          "name": "stdout"
        },
        {
          "output_type": "display_data",
          "data": {
            "image/png": "[encoded data removed]",
            "text/plain": [
              "<Figure size 1728x288 with 2 Axes>"
            ]
          },
          "metadata": {
            "tags": []
          }
        },
        {
          "output_type": "display_data",
          "data": {
            "image/png": "[encoded data removed]",
            "text/plain": [
              "<Figure size 576x432 with 2 Axes>"
            ]
          },
          "metadata": {
            "tags": []
          }
        },
        {
          "output_type": "stream",
          "text": [
            "Macro/Weighted Avg F1-score: [0.37941006362058993, 0.5111813258040896]\n"
          ],
          "name": "stdout"
        }
      ]
    },
    {
      "cell_type": "markdown",
      "metadata": {
        "id": "wLx3D9nrtrDE"
      },
      "source": [
        "## 2. Load fine-tuned model and use embeddings to train a binary classifier"
      ]
    },
    {
      "cell_type": "markdown",
      "metadata": {
        "id": "TepO8Pr3wsOX"
      },
      "source": [
        "### Load model"
      ]
    },
    {
      "cell_type": "code",
      "metadata": {
        "id": "i_0lKmiGtw0N"
      },
      "source": [
        "model_name = \"stsb-xlm-r-multilingual\"\n",
        "test_perc = 0.3\n",
        "num_epochs = 4\n",
        "model_deets = f\"model={model_name}_test-perc={test_perc}_n-epoch={num_epochs}\"\n",
        "experiment = \"EXP4\"\n",
        "saved_model_path = results_save_path\n",
        "# saved_model_path = f\"/content/drive/MyDrive/Official Folder of WRI Latin America Project/WRI-LatinAmerica-Talent/Modeling/FineTuningExperiments/{Experiment}/FineTuning_{model_deets}\""
      ],
      "execution_count": null,
      "outputs": []
    },
    {
      "cell_type": "code",
      "metadata": {
        "id": "dHYaPvP5wZc_"
      },
      "source": [
        "bin_model = SentenceTransformer(saved_model_path)"
      ],
      "execution_count": null,
      "outputs": []
    },
    {
      "cell_type": "markdown",
      "metadata": {
        "id": "iY4NIIWbwu_M"
      },
      "source": [
        "### Encode Sentences"
      ]
    },
    {
      "cell_type": "markdown",
      "metadata": {
        "id": "t98Vpa-51t2K"
      },
      "source": [
        "First, we will check how good are the fine tuned embeddings without the projection matrix addition"
      ]
    },
    {
      "cell_type": "code",
      "metadata": {
        "colab": {
          "base_uri": "https://localhost:8080/"
        },
        "id": "7Qv5doEyw7_r",
        "outputId": "16e98bc1-6994-4996-e382-069ff6d3fe84"
      },
      "source": [
        "all_sent_embs = encode_all_sents(test_sents, bin_model)"
      ],
      "execution_count": null,
      "outputs": [
        {
          "output_type": "stream",
          "text": [
            "100%|██████████| 306/306 [00:05<00:00, 54.29it/s]\n"
          ],
          "name": "stderr"
        }
      ]
    },
    {
      "cell_type": "code",
      "metadata": {
        "colab": {
          "base_uri": "https://localhost:8080/",
          "height": 412
        },
        "id": "XcEIw-sb1sFm",
        "outputId": "0a6d1fad-c4c0-4d54-a905-c27fc005f7d7"
      },
      "source": [
        "visualize_embeddings_2D(np.vstack(all_sent_embs), test_labels, tsne_perplexity=50)"
      ],
      "execution_count": null,
      "outputs": [
        {
          "output_type": "stream",
          "text": [
            "[t-SNE] Computing 151 nearest neighbors...\n",
            "[t-SNE] Indexed 306 samples in 0.033s...\n",
            "[t-SNE] Computed neighbors for 306 samples in 0.217s...\n",
            "[t-SNE] Computed conditional probabilities for sample 306 / 306\n",
            "[t-SNE] Mean sigma: 2.491708\n",
            "[t-SNE] KL divergence after 250 iterations with early exaggeration: 59.511703\n",
            "[t-SNE] KL divergence after 1000 iterations: 0.449039\n"
          ],
          "name": "stdout"
        },
        {
          "output_type": "display_data",
          "data": {
            "image/png": "[encoded data removed]",
            "text/plain": [
              "<Figure size 1728x288 with 2 Axes>"
            ]
          },
          "metadata": {
            "tags": []
          }
        }
      ]
    },
    {
      "cell_type": "markdown",
      "metadata": {
        "id": "5m3G_4eF2Tw4"
      },
      "source": [
        "Ok, doesn't look that bad, but not perfect either... The incentives are scattered too much in the space, and the line between non-incentives and incentives is not clearly defined. ***For now, it doesn't matter - but we should experiment more with fine tuning.***.\n",
        "\n",
        "Now, let's check whether the projection matrix helps:"
      ]
    },
    {
      "cell_type": "code",
      "metadata": {
        "colab": {
          "base_uri": "https://localhost:8080/"
        },
        "id": "auWe9D9S10mD",
        "outputId": "9795754c-7182-4e75-b33b-e04c31dec83d"
      },
      "source": [
        "proj_matrix = cp.asnumpy(calc_proj_matrix(train_sents, 50, es_nlp, bin_model, 0.01))\n",
        "all_sent_embs = encode_all_sents(test_sents, bin_model, proj_matrix)"
      ],
      "execution_count": null,
      "outputs": [
        {
          "output_type": "stream",
          "text": [
            "100%|██████████| 306/306 [00:07<00:00, 40.82it/s]\n"
          ],
          "name": "stderr"
        }
      ]
    },
    {
      "cell_type": "code",
      "metadata": {
        "colab": {
          "base_uri": "https://localhost:8080/",
          "height": 412
        },
        "id": "55hNSqtS19JE",
        "outputId": "3a17d090-265b-40e0-de35-f2287f11efea"
      },
      "source": [
        "visualize_embeddings_2D(np.vstack(all_sent_embs), test_labels, tsne_perplexity=50)"
      ],
      "execution_count": null,
      "outputs": [
        {
          "output_type": "stream",
          "text": [
            "[t-SNE] Computing 151 nearest neighbors...\n",
            "[t-SNE] Indexed 306 samples in 0.006s...\n",
            "[t-SNE] Computed neighbors for 306 samples in 0.083s...\n",
            "[t-SNE] Computed conditional probabilities for sample 306 / 306\n",
            "[t-SNE] Mean sigma: 20.201386\n",
            "[t-SNE] KL divergence after 250 iterations with early exaggeration: 69.918625\n",
            "[t-SNE] KL divergence after 1000 iterations: 0.734087\n"
          ],
          "name": "stdout"
        },
        {
          "output_type": "display_data",
          "data": {
            "image/png": "[encoded data removed]",
            "text/plain": [
              "<Figure size 1728x288 with 2 Axes>"
            ]
          },
          "metadata": {
            "tags": []
          }
        }
      ]
    },
    {
      "cell_type": "markdown",
      "metadata": {
        "id": "BqqfluJR2-0B"
      },
      "source": [
        "Actually, the projection matrix makes things worse. ***Let's NOT use it for now!!!!!***"
      ]
    },
    {
      "cell_type": "code",
      "metadata": {
        "colab": {
          "base_uri": "https://localhost:8080/"
        },
        "id": "pLPUbG282_SO",
        "outputId": "57745c51-8804-4dbf-ff60-9d5b475b8440"
      },
      "source": [
        "# Simple embeddings, no projection matrix added\n",
        "all_sent_embs = encode_all_sents(train_sents, bin_model)"
      ],
      "execution_count": null,
      "outputs": [
        {
          "output_type": "stream",
          "text": [
            "100%|██████████| 1220/1220 [00:22<00:00, 54.73it/s]\n"
          ],
          "name": "stderr"
        }
      ]
    },
    {
      "cell_type": "code",
      "metadata": {
        "colab": {
          "base_uri": "https://localhost:8080/"
        },
        "id": "3lvfAZQjAHvS",
        "outputId": "41e1c935-6308-406a-bef8-014a4d941e5d"
      },
      "source": [
        "all_test_embs = encode_all_sents(test_sents, bin_model)"
      ],
      "execution_count": null,
      "outputs": [
        {
          "output_type": "stream",
          "text": [
            "100%|██████████| 306/306 [00:05<00:00, 54.31it/s]\n"
          ],
          "name": "stderr"
        }
      ]
    },
    {
      "cell_type": "markdown",
      "metadata": {
        "id": "qyLt6Pl84UHc"
      },
      "source": [
        "### Train classifiers"
      ]
    },
    {
      "cell_type": "code",
      "metadata": {
        "id": "vCR_wG18E7aC"
      },
      "source": [
        "from sklearn.model_selection import cross_val_score\n",
        "from sklearn.metrics import classification_report"
      ],
      "execution_count": null,
      "outputs": []
    },
    {
      "cell_type": "markdown",
      "metadata": {
        "id": "rQyQIFVEBZsk"
      },
      "source": [
        "1. Let's start with Random Forests!"
      ]
    },
    {
      "cell_type": "code",
      "metadata": {
        "id": "YW021S1J_JH9"
      },
      "source": [
        "from sklearn.ensemble import RandomForestClassifier"
      ],
      "execution_count": null,
      "outputs": []
    },
    {
      "cell_type": "code",
      "metadata": {
        "id": "dbQ3_grn_I82"
      },
      "source": [
        "clf = RandomForestClassifier(n_estimators=100, max_depth=3, random_state=69420)"
      ],
      "execution_count": null,
      "outputs": []
    },
    {
      "cell_type": "code",
      "metadata": {
        "colab": {
          "base_uri": "https://localhost:8080/"
        },
        "id": "fAM7nFv3_IxT",
        "outputId": "54c22d6a-7303-42d7-cdd3-819dad2633b8"
      },
      "source": [
        "clf.fit(np.vstack(all_sent_embs), all_labels)"
      ],
      "execution_count": null,
      "outputs": [
        {
          "output_type": "execute_result",
          "data": {
            "text/plain": [
              "RandomForestClassifier(bootstrap=True, ccp_alpha=0.0, class_weight=None,\n",
              "                       criterion='gini', max_depth=3, max_features='auto',\n",
              "                       max_leaf_nodes=None, max_samples=None,\n",
              "                       min_impurity_decrease=0.0, min_impurity_split=None,\n",
              "                       min_samples_leaf=1, min_samples_split=2,\n",
              "                       min_weight_fraction_leaf=0.0, n_estimators=100,\n",
              "                       n_jobs=None, oob_score=False, random_state=69420,\n",
              "                       verbose=0, warm_start=False)"
            ]
          },
          "metadata": {
            "tags": []
          },
          "execution_count": 136
        }
      ]
    },
    {
      "cell_type": "code",
      "metadata": {
        "id": "0MsZbft8_6_1"
      },
      "source": [
        "clf_preds = [clf.predict(sent_emb)[0] for sent_emb in all_test_embs]"
      ],
      "execution_count": null,
      "outputs": []
    },
    {
      "cell_type": "code",
      "metadata": {
        "colab": {
          "base_uri": "https://localhost:8080/"
        },
        "id": "2uLnsvS6GVVk",
        "outputId": "5346cb46-8f87-4a18-83d8-be9391c26027"
      },
      "source": [
        " print(classification_report(test_labels, clf_preds))"
      ],
      "execution_count": null,
      "outputs": [
        {
          "output_type": "stream",
          "text": [
            "               precision    recall  f1-score   support\n",
            "\n",
            "    Incentive       0.89      0.93      0.91       228\n",
            "not_Incentive       0.76      0.68      0.72        78\n",
            "\n",
            "     accuracy                           0.86       306\n",
            "    macro avg       0.83      0.80      0.81       306\n",
            " weighted avg       0.86      0.86      0.86       306\n",
            "\n"
          ],
          "name": "stdout"
        }
      ]
    },
    {
      "cell_type": "code",
      "metadata": {
        "id": "Y_k1CWeJATgy"
      },
      "source": [
        "numeric_preds = labels2numeric(clf_preds, label_names)\n",
        "numeric_test_labels = labels2numeric(test_labels, label_names)\n",
        "evaluator = ModelEvaluator(label_names, y_true=numeric_test_labels, y_pred=numeric_preds)"
      ],
      "execution_count": null,
      "outputs": []
    },
    {
      "cell_type": "code",
      "metadata": {
        "colab": {
          "base_uri": "https://localhost:8080/",
          "height": 455
        },
        "id": "jHI9hf6EAy_N",
        "outputId": "1544a62f-3b4c-4aaf-b98b-82d9d3044783"
      },
      "source": [
        "evaluator.plot_confusion_matrix(color_map='Blues')"
      ],
      "execution_count": null,
      "outputs": [
        {
          "output_type": "display_data",
          "data": {
            "image/png": "[encoded data removed]",
            "text/plain": [
              "<Figure size 576x432 with 2 Axes>"
            ]
          },
          "metadata": {
            "tags": []
          }
        }
      ]
    },
    {
      "cell_type": "markdown",
      "metadata": {
        "id": "yXdaChWFBrWg"
      },
      "source": [
        "Honestly, without Grid Search and 5-fold Cross Validation, these are not bad results... We should add those though!"
      ]
    },
    {
      "cell_type": "markdown",
      "metadata": {
        "id": "Y3DoYgdaDHJ6"
      },
      "source": [
        "2. Now, we're gonna try Support Vector Machines"
      ]
    },
    {
      "cell_type": "code",
      "metadata": {
        "id": "lcNVNbZVDBX_"
      },
      "source": [
        "from sklearn import svm"
      ],
      "execution_count": null,
      "outputs": []
    },
    {
      "cell_type": "code",
      "metadata": {
        "id": "vD4-V3KpAy3k"
      },
      "source": [
        "clf = svm.SVC(gamma=0.001, C=100.)"
      ],
      "execution_count": null,
      "outputs": []
    },
    {
      "cell_type": "code",
      "metadata": {
        "colab": {
          "base_uri": "https://localhost:8080/"
        },
        "id": "oeqA23VGAyoK",
        "outputId": "3d905ff1-b4e8-4d2b-8887-5a6eb5e497e1"
      },
      "source": [
        "clf.fit(np.vstack(all_sent_embs), all_labels)"
      ],
      "execution_count": null,
      "outputs": [
        {
          "output_type": "execute_result",
          "data": {
            "text/plain": [
              "SVC(C=100.0, break_ties=False, cache_size=200, class_weight=None, coef0=0.0,\n",
              "    decision_function_shape='ovr', degree=3, gamma=0.001, kernel='rbf',\n",
              "    max_iter=-1, probability=False, random_state=None, shrinking=True,\n",
              "    tol=0.001, verbose=False)"
            ]
          },
          "metadata": {
            "tags": []
          },
          "execution_count": 130
        }
      ]
    },
    {
      "cell_type": "code",
      "metadata": {
        "id": "tyytG01oEC4G"
      },
      "source": [
        "clf_preds = [clf.predict(sent_emb)[0] for sent_emb in all_test_embs]"
      ],
      "execution_count": null,
      "outputs": []
    },
    {
      "cell_type": "code",
      "metadata": {
        "id": "SEneBVYFD3DW"
      },
      "source": [
        "numeric_preds = labels2numeric(clf_preds, label_names)\n",
        "numeric_test_labels = labels2numeric(test_labels, label_names)\n",
        "evaluator = ModelEvaluator(label_names, y_true=numeric_test_labels, y_pred=numeric_preds)"
      ],
      "execution_count": null,
      "outputs": []
    },
    {
      "cell_type": "code",
      "metadata": {
        "colab": {
          "base_uri": "https://localhost:8080/"
        },
        "id": "cscCU733D664",
        "outputId": "51dd0385-c7ae-44f6-f090-936b4161136a"
      },
      "source": [
        "print(classification_report(test_labels, clf_preds))"
      ],
      "execution_count": null,
      "outputs": [
        {
          "output_type": "stream",
          "text": [
            "               precision    recall  f1-score   support\n",
            "\n",
            "    Incentive       0.91      0.92      0.92       228\n",
            "not_Incentive       0.76      0.74      0.75        78\n",
            "\n",
            "     accuracy                           0.88       306\n",
            "    macro avg       0.84      0.83      0.84       306\n",
            " weighted avg       0.87      0.88      0.88       306\n",
            "\n"
          ],
          "name": "stdout"
        }
      ]
    },
    {
      "cell_type": "code",
      "metadata": {
        "colab": {
          "base_uri": "https://localhost:8080/",
          "height": 455
        },
        "id": "oxYzT51aD60j",
        "outputId": "c7af7030-d09a-43a0-c868-5ac36af22b7a"
      },
      "source": [
        "evaluator.plot_confusion_matrix(color_map='Blues')"
      ],
      "execution_count": null,
      "outputs": [
        {
          "output_type": "display_data",
          "data": {
            "image/png": "[encoded data removed]",
            "text/plain": [
              "<Figure size 576x432 with 2 Axes>"
            ]
          },
          "metadata": {
            "tags": []
          }
        }
      ]
    },
    {
      "cell_type": "markdown",
      "metadata": {
        "id": "H-ki8dU5EUaq"
      },
      "source": [
        "Ok, so SVMs are slightly better than Random Forests at ***differentiating*** text! There's a 1-2% decrease in performance for the incentive class, but a 6% gain in non-incentives. If these results remain when doing cross validation and grid search, then I'd recommend going for the SVMs.\n",
        "\n",
        "\n",
        "**Next steps:**\n",
        "- Add Grid Search Cross Validation from sklearn"
      ]
    },
    {
      "cell_type": "code",
      "metadata": {
        "id": "9y34yQNqD6TO"
      },
      "source": [
        ""
      ],
      "execution_count": null,
      "outputs": []
    },
    {
      "cell_type": "markdown",
      "metadata": {
        "id": "mbfAvxu0-_Qi"
      },
      "source": [
        "### What about... Beto?\n",
        "I downloaded the weights and placed them in the folder below: "
      ]
    },
    {
      "cell_type": "code",
      "metadata": {
        "colab": {
          "base_uri": "https://localhost:8080/"
        },
        "id": "n8I9IyxRrCm5",
        "outputId": "82ed8f16-16d3-4b71-c0e2-31304ae96327"
      },
      "source": [
        "!pip install transformers"
      ],
      "execution_count": null,
      "outputs": [
        {
          "output_type": "stream",
          "text": [
            "Requirement already satisfied: transformers in /usr/local/lib/python3.6/dist-packages (4.2.1)\n",
            "Requirement already satisfied: importlib-metadata; python_version < \"3.8\" in /usr/local/lib/python3.6/dist-packages (from transformers) (3.3.0)\n",
            "Requirement already satisfied: regex!=2019.12.17 in /usr/local/lib/python3.6/dist-packages (from transformers) (2019.12.20)\n",
            "Requirement already satisfied: dataclasses; python_version < \"3.7\" in /usr/local/lib/python3.6/dist-packages (from transformers) (0.8)\n",
            "Requirement already satisfied: numpy in /usr/local/lib/python3.6/dist-packages (from transformers) (1.19.5)\n",
            "Requirement already satisfied: tqdm>=4.27 in /usr/local/lib/python3.6/dist-packages (from transformers) (4.41.1)\n",
            "Requirement already satisfied: tokenizers==0.9.4 in /usr/local/lib/python3.6/dist-packages (from transformers) (0.9.4)\n",
            "Requirement already satisfied: filelock in /usr/local/lib/python3.6/dist-packages (from transformers) (3.0.12)\n",
            "Requirement already satisfied: sacremoses in /usr/local/lib/python3.6/dist-packages (from transformers) (0.0.43)\n",
            "Requirement already satisfied: packaging in /usr/local/lib/python3.6/dist-packages (from transformers) (20.8)\n",
            "Requirement already satisfied: requests in /usr/local/lib/python3.6/dist-packages (from transformers) (2.23.0)\n",
            "Requirement already satisfied: typing-extensions>=3.6.4; python_version < \"3.8\" in /usr/local/lib/python3.6/dist-packages (from importlib-metadata; python_version < \"3.8\"->transformers) (3.7.4.3)\n",
            "Requirement already satisfied: zipp>=0.5 in /usr/local/lib/python3.6/dist-packages (from importlib-metadata; python_version < \"3.8\"->transformers) (3.4.0)\n",
            "Requirement already satisfied: joblib in /usr/local/lib/python3.6/dist-packages (from sacremoses->transformers) (1.0.0)\n",
            "Requirement already satisfied: click in /usr/local/lib/python3.6/dist-packages (from sacremoses->transformers) (7.1.2)\n",
            "Requirement already satisfied: six in /usr/local/lib/python3.6/dist-packages (from sacremoses->transformers) (1.15.0)\n",
            "Requirement already satisfied: pyparsing>=2.0.2 in /usr/local/lib/python3.6/dist-packages (from packaging->transformers) (2.4.7)\n",
            "Requirement already satisfied: urllib3!=1.25.0,!=1.25.1,<1.26,>=1.21.1 in /usr/local/lib/python3.6/dist-packages (from requests->transformers) (1.24.3)\n",
            "Requirement already satisfied: idna<3,>=2.5 in /usr/local/lib/python3.6/dist-packages (from requests->transformers) (2.10)\n",
            "Requirement already satisfied: certifi>=2017.4.17 in /usr/local/lib/python3.6/dist-packages (from requests->transformers) (2020.12.5)\n",
            "Requirement already satisfied: chardet<4,>=3.0.2 in /usr/local/lib/python3.6/dist-packages (from requests->transformers) (3.0.4)\n"
          ],
          "name": "stdout"
        }
      ]
    },
    {
      "cell_type": "code",
      "metadata": {
        "id": "mxk0ZHUFHnkk"
      },
      "source": [
        "beto_path = f\"{base_path}/Modeling/BETO/pytorch/\""
      ],
      "execution_count": null,
      "outputs": []
    },
    {
      "cell_type": "code",
      "metadata": {
        "id": "7lHUcXtY3PKP"
      },
      "source": [
        "from transformers import BertTokenizer, BertForSequenceClassification"
      ],
      "execution_count": null,
      "outputs": []
    },
    {
      "cell_type": "markdown",
      "metadata": {
        "id": "TI9IF0UmKYZE"
      },
      "source": [
        "***IMPORTANT:*** I was not able to figure out a way of using the fine tuning results from the models above so I'm gonna use BETO out of the box, for both encoding/classification and see how it goes.\n",
        "\n",
        "The following cells are a demo of how the model should be put to use - once you understand it, feel free to skip this part!"
      ]
    },
    {
      "cell_type": "code",
      "metadata": {
        "colab": {
          "base_uri": "https://localhost:8080/"
        },
        "id": "kmJ_mpC37ICQ",
        "outputId": "f350a9e6-e3a8-476e-846f-43b387302ce1"
      },
      "source": [
        "tokenizer = BertTokenizer.from_pretrained(beto_path)\n",
        "model = BertForSequenceClassification.from_pretrained(beto_path)"
      ],
      "execution_count": null,
      "outputs": [
        {
          "output_type": "stream",
          "text": [
            "Some weights of the model checkpoint at /content/drive/MyDrive/WRI-LatinAmerica-Talent/Modeling/BETO/pytorch/ were not used when initializing BertForSequenceClassification: ['cls.predictions.bias', 'cls.predictions.transform.dense.weight', 'cls.predictions.transform.dense.bias', 'cls.predictions.transform.LayerNorm.weight', 'cls.predictions.transform.LayerNorm.bias', 'cls.predictions.decoder.weight', 'cls.seq_relationship.weight', 'cls.seq_relationship.bias']\n",
            "- This IS expected if you are initializing BertForSequenceClassification from the checkpoint of a model trained on another task or with another architecture (e.g. initializing a BertForSequenceClassification model from a BertForPreTraining model).\n",
            "- This IS NOT expected if you are initializing BertForSequenceClassification from the checkpoint of a model that you expect to be exactly identical (initializing a BertForSequenceClassification model from a BertForSequenceClassification model).\n",
            "Some weights of BertForSequenceClassification were not initialized from the model checkpoint at /content/drive/MyDrive/WRI-LatinAmerica-Talent/Modeling/BETO/pytorch/ and are newly initialized: ['classifier.weight', 'classifier.bias']\n",
            "You should probably TRAIN this model on a down-stream task to be able to use it for predictions and inference.\n"
          ],
          "name": "stderr"
        }
      ]
    },
    {
      "cell_type": "code",
      "metadata": {
        "id": "EGRL66pBIzuy"
      },
      "source": [
        "classes = [\"no es parafrasis\", \"es parafrasis\"]\n",
        "\n",
        "sequence_0 = \"La compañia Hugging esta basada en Nueva York\"\n",
        "sequence_1 = \"Las manzanas son malas para la salud\"\n",
        "sequence_2 = \"La sede principal de Hugging esta en Manhattan\"\n",
        "\n",
        "paraphrase = tokenizer(sequence_0, sequence_2, return_tensors=\"pt\")\n",
        "not_paraphrase = tokenizer(sequence_0, sequence_1, return_tensors=\"pt\")\n",
        "\n",
        "paraphrase_classification_logits = model(**paraphrase).logits\n",
        "not_paraphrase_classification_logits = model(**not_paraphrase).logits\n",
        "\n",
        "paraphrase_results = torch.softmax(paraphrase_classification_logits, dim=1).tolist()[0]\n",
        "not_paraphrase_results = torch.softmax(not_paraphrase_classification_logits, dim=1).tolist()[0]"
      ],
      "execution_count": null,
      "outputs": []
    },
    {
      "cell_type": "code",
      "metadata": {
        "colab": {
          "base_uri": "https://localhost:8080/"
        },
        "id": "C-Pkqe-vI3ld",
        "outputId": "5d208439-c5ae-4da4-b6a1-e748c3a2f839"
      },
      "source": [
        "print(\">>> Deberia de ser parafrasis:\")\n",
        "for i in range(len(classes)):\n",
        "  print(f\"{classes[i]}: {int(round(paraphrase_results[i] * 100))}%\")\n",
        "\n",
        "print(\"\\n>>> NO deberia de ser parafrasis:\")\n",
        "for i in range(len(classes)):\n",
        "  print(f\"{classes[i]}: {int(round(not_paraphrase_results[i] * 100))}%\")"
      ],
      "execution_count": null,
      "outputs": [
        {
          "output_type": "stream",
          "text": [
            ">>> Deberia de ser parafrasis:\n",
            "no es parafrasis: 41%\n",
            "es parafrasis: 59%\n",
            "\n",
            ">>> NO deberia de ser parafrasis:\n",
            "no es parafrasis: 61%\n",
            "es parafrasis: 39%\n"
          ],
          "name": "stdout"
        }
      ]
    },
    {
      "cell_type": "markdown",
      "metadata": {
        "id": "0dRr9sJQKezT"
      },
      "source": [
        "OK! Now it's time to apply it to our data. We will try it out with our test set, just to have a fair comparison"
      ]
    },
    {
      "cell_type": "code",
      "metadata": {
        "id": "ybHMwJE-JyvG"
      },
      "source": [
        "tokenized_sents = tokenizer(test_sents, padding=True, return_tensors=\"pt\")\n",
        "clf_logits = model(**tokenized_sents).logits\n",
        "clf_results = torch.softmax(clf_logits, dim=1).tolist()[0]"
      ],
      "execution_count": null,
      "outputs": []
    },
    {
      "cell_type": "code",
      "metadata": {
        "id": "wELlB7iUJ1T3"
      },
      "source": [
        "# This stores the index of the highest score - in other words, our label\n",
        "clf_preds = [np.argmax(logits) for logits in clf_results]"
      ],
      "execution_count": null,
      "outputs": []
    },
    {
      "cell_type": "code",
      "metadata": {
        "id": "GnrG0AwcM-G5"
      },
      "source": [
        "print(classification_report(test_labels, clf_preds))"
      ],
      "execution_count": null,
      "outputs": []
    },
    {
      "cell_type": "code",
      "metadata": {
        "colab": {
          "base_uri": "https://localhost:8080/"
        },
        "id": "qdV91B4IMZdz",
        "outputId": "c6903dcb-c967-428f-a157-42717317da82"
      },
      "source": [
        "evaluator = ModelEvaluator(label_names, y_true=numeric_test_labels, y_pred=clf_preds)\n",
        "evaluator.plot_confusion_matrix(color_map='Blues')"
      ],
      "execution_count": null,
      "outputs": [
        {
          "output_type": "execute_result",
          "data": {
            "text/plain": [
              "1"
            ]
          },
          "metadata": {
            "tags": []
          },
          "execution_count": 161
        }
      ]
    },
    {
      "cell_type": "code",
      "metadata": {
        "id": "g7X-wUAY6iDc"
      },
      "source": [
        ""
      ],
      "execution_count": null,
      "outputs": []
    }
  ]
}