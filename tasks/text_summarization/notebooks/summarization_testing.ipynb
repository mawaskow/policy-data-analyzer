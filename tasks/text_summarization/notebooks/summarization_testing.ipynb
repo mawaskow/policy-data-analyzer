{
 "cells": [
  {
   "cell_type": "markdown",
   "id": "corporate-arthritis",
   "metadata": {},
   "source": [
    "1. pip install openai"
   ]
  },
  {
   "cell_type": "code",
   "execution_count": 2,
   "id": "indie-mixture",
   "metadata": {},
   "outputs": [],
   "source": [
    "import openai"
   ]
  },
  {
   "cell_type": "code",
   "execution_count": null,
   "id": "involved-elevation",
   "metadata": {},
   "outputs": [],
   "source": [
    "import openai\n",
    "openai.organization = \"org-BYfzvT6mDwOWUF7Ktv0FSBFn\"\n",
    "openai.api_key = \"sk-6hPoZO1uJ1YASU5pJRFxIfLNhg4IEaIVvHnOiUdX\"\n",
    "openai.Engine.list()"
   ]
  },
  {
   "cell_type": "code",
   "execution_count": null,
   "id": "increased-chick",
   "metadata": {},
   "outputs": [],
   "source": []
  },
  {
   "cell_type": "code",
   "execution_count": null,
   "id": "assigned-patent",
   "metadata": {},
   "outputs": [],
   "source": [
    "openai.organization = \"org-BYfzvT6mDwOWUF7Ktv0FSBFn\"\n",
    "openai.api_key = \"sk-6hPoZO1uJ1YASU5pJRFxIfLNhg4IEaIVvHnOiUdX\"\n",
    "openai.Engine.list()"
   ]
  }
 ],
 "metadata": {
  "kernelspec": {
   "display_name": "Python 3",
   "language": "python",
   "name": "python3"
  },
  "language_info": {
   "codemirror_mode": {
    "name": "ipython",
    "version": 3
   },
   "file_extension": ".py",
   "mimetype": "text/x-python",
   "name": "python",
   "nbconvert_exporter": "python",
   "pygments_lexer": "ipython3",
   "version": "3.8.8"
  }
 },
 "nbformat": 4,
 "nbformat_minor": 5
}
