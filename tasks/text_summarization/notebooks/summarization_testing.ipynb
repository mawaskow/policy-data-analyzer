{
 "cells": [
  {
   "cell_type": "markdown",
   "id": "corporate-arthritis",
   "metadata": {},
   "source": [
    "1. pip install openai"
   ]
  },
  {
   "cell_type": "code",
   "execution_count": 2,
   "id": "indie-mixture",
   "metadata": {},
   "outputs": [],
   "source": [
    "import openai"
   ]
  },
  {
   "cell_type": "code",
   "execution_count": 4,
   "id": "involved-elevation",
   "metadata": {},
   "outputs": [],
   "source": [
    "import openai\n",
    "import json\n"
   ]
  },
  {
   "cell_type": "code",
   "execution_count": 10,
   "id": "increased-chick",
   "metadata": {},
   "outputs": [
    {
     "name": "stdout",
     "output_type": "stream",
     "text": [
      "('org-BYfzvT6mDwOWUF7Ktv0FSBFn', 'sk-6hPoZO1uJ1YASU5pJRFxIfLNhg4IEaIVvHnOiUdX')\n"
     ]
    }
   ],
   "source": [
    "path = \"C:/Users/jordi/Google Drive/Els_meus_documents/INFORMATICA/credentials/\"\n",
    "filename = \"OpenAI_jordi_planas.json\"\n",
    "\n",
    "def aws_credentials(path, filename):\n",
    "    file = path + filename\n",
    "    with open(file, 'r') as dict:\n",
    "        key_dict = json.load(dict)\n",
    "    return list(key_dict.keys())[0], list(key_dict.values())[0]\n",
    "print(aws_credentials(path, filename))"
   ]
  },
  {
   "cell_type": "code",
   "execution_count": null,
   "id": "assigned-patent",
   "metadata": {},
   "outputs": [],
   "source": [
    "openai.organization = \"org-BYfzvT6mDwOWUF7Ktv0FSBFn\"\n",
    "openai.api_key = \"sk-6hPoZO1uJ1YASU5pJRFxIfLNhg4IEaIVvHnOiUdX\"\n",
    "openai.Engine.list()"
   ]
  }
 ],
 "metadata": {
  "kernelspec": {
   "display_name": "Python 3",
   "language": "python",
   "name": "python3"
  },
  "language_info": {
   "codemirror_mode": {
    "name": "ipython",
    "version": 3
   },
   "file_extension": ".py",
   "mimetype": "text/x-python",
   "name": "python",
   "nbconvert_exporter": "python",
   "pygments_lexer": "ipython3",
   "version": "3.8.8"
  }
 },
 "nbformat": 4,
 "nbformat_minor": 5
}
