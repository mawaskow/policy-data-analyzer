{
  "nbformat": 4,
  "nbformat_minor": 0,
  "metadata": {
    "accelerator": "GPU",
    "colab": {
      "name": "Fine_tuning_SBERT_with_callback.ipynb",
      "provenance": [],
      "collapsed_sections": []
    },
    "kernelspec": {
      "display_name": "Python 3",
      "language": "python",
      "name": "python3"
    },
    "language_info": {
      "codemirror_mode": {
        "name": "ipython",
        "version": 3
      },
      "file_extension": ".py",
      "mimetype": "text/x-python",
      "name": "python",
      "nbconvert_exporter": "python",
      "pygments_lexer": "ipython3",
      "version": "3.7.6"
    },
    "widgets": {
      "application/vnd.jupyter.widget-state+json": {
        "a428fd5cbd3848d185fc02064e8df8f7": {
          "model_module": "@jupyter-widgets/controls",
          "model_name": "HBoxModel",
          "state": {
            "_view_name": "HBoxView",
            "_dom_classes": [],
            "_model_name": "HBoxModel",
            "_view_module": "@jupyter-widgets/controls",
            "_model_module_version": "1.5.0",
            "_view_count": null,
            "_view_module_version": "1.5.0",
            "box_style": "",
            "layout": "IPY_MODEL_fcf714210d7846b89a070c29ac60b046",
            "_model_module": "@jupyter-widgets/controls",
            "children": [
              "IPY_MODEL_fd577113eae044be9a27706ee535e02f",
              "IPY_MODEL_e27f40945d3f4850932960b9a0261db0"
            ]
          }
        },
        "fcf714210d7846b89a070c29ac60b046": {
          "model_module": "@jupyter-widgets/base",
          "model_name": "LayoutModel",
          "state": {
            "_view_name": "LayoutView",
            "grid_template_rows": null,
            "right": null,
            "justify_content": null,
            "_view_module": "@jupyter-widgets/base",
            "overflow": null,
            "_model_module_version": "1.2.0",
            "_view_count": null,
            "flex_flow": null,
            "width": null,
            "min_width": null,
            "border": null,
            "align_items": null,
            "bottom": null,
            "_model_module": "@jupyter-widgets/base",
            "top": null,
            "grid_column": null,
            "overflow_y": null,
            "overflow_x": null,
            "grid_auto_flow": null,
            "grid_area": null,
            "grid_template_columns": null,
            "flex": null,
            "_model_name": "LayoutModel",
            "justify_items": null,
            "grid_row": null,
            "max_height": null,
            "align_content": null,
            "visibility": null,
            "align_self": null,
            "height": null,
            "min_height": null,
            "padding": null,
            "grid_auto_rows": null,
            "grid_gap": null,
            "max_width": null,
            "order": null,
            "_view_module_version": "1.2.0",
            "grid_template_areas": null,
            "object_position": null,
            "object_fit": null,
            "grid_auto_columns": null,
            "margin": null,
            "display": null,
            "left": null
          }
        },
        "fd577113eae044be9a27706ee535e02f": {
          "model_module": "@jupyter-widgets/controls",
          "model_name": "FloatProgressModel",
          "state": {
            "_view_name": "ProgressView",
            "style": "IPY_MODEL_8b510d14a7f44fb79d43daffff736da9",
            "_dom_classes": [],
            "description": "100%",
            "_model_name": "FloatProgressModel",
            "bar_style": "success",
            "max": 1014059776,
            "_view_module": "@jupyter-widgets/controls",
            "_model_module_version": "1.5.0",
            "value": 1014059776,
            "_view_count": null,
            "_view_module_version": "1.5.0",
            "orientation": "horizontal",
            "min": 0,
            "description_tooltip": null,
            "_model_module": "@jupyter-widgets/controls",
            "layout": "IPY_MODEL_a3b3da75c65a40a3a12c050f7b096204"
          }
        },
        "e27f40945d3f4850932960b9a0261db0": {
          "model_module": "@jupyter-widgets/controls",
          "model_name": "HTMLModel",
          "state": {
            "_view_name": "HTMLView",
            "style": "IPY_MODEL_d20bae4f76d44561b25dc9a8d117bc63",
            "_dom_classes": [],
            "description": "",
            "_model_name": "HTMLModel",
            "placeholder": "​",
            "_view_module": "@jupyter-widgets/controls",
            "_model_module_version": "1.5.0",
            "value": " 1.01G/1.01G [01:03&lt;00:00, 15.9MB/s]",
            "_view_count": null,
            "_view_module_version": "1.5.0",
            "description_tooltip": null,
            "_model_module": "@jupyter-widgets/controls",
            "layout": "IPY_MODEL_3a54edddc09c498d954ca5c5c8bf6db8"
          }
        },
        "8b510d14a7f44fb79d43daffff736da9": {
          "model_module": "@jupyter-widgets/controls",
          "model_name": "ProgressStyleModel",
          "state": {
            "_view_name": "StyleView",
            "_model_name": "ProgressStyleModel",
            "description_width": "initial",
            "_view_module": "@jupyter-widgets/base",
            "_model_module_version": "1.5.0",
            "_view_count": null,
            "_view_module_version": "1.2.0",
            "bar_color": null,
            "_model_module": "@jupyter-widgets/controls"
          }
        },
        "a3b3da75c65a40a3a12c050f7b096204": {
          "model_module": "@jupyter-widgets/base",
          "model_name": "LayoutModel",
          "state": {
            "_view_name": "LayoutView",
            "grid_template_rows": null,
            "right": null,
            "justify_content": null,
            "_view_module": "@jupyter-widgets/base",
            "overflow": null,
            "_model_module_version": "1.2.0",
            "_view_count": null,
            "flex_flow": null,
            "width": null,
            "min_width": null,
            "border": null,
            "align_items": null,
            "bottom": null,
            "_model_module": "@jupyter-widgets/base",
            "top": null,
            "grid_column": null,
            "overflow_y": null,
            "overflow_x": null,
            "grid_auto_flow": null,
            "grid_area": null,
            "grid_template_columns": null,
            "flex": null,
            "_model_name": "LayoutModel",
            "justify_items": null,
            "grid_row": null,
            "max_height": null,
            "align_content": null,
            "visibility": null,
            "align_self": null,
            "height": null,
            "min_height": null,
            "padding": null,
            "grid_auto_rows": null,
            "grid_gap": null,
            "max_width": null,
            "order": null,
            "_view_module_version": "1.2.0",
            "grid_template_areas": null,
            "object_position": null,
            "object_fit": null,
            "grid_auto_columns": null,
            "margin": null,
            "display": null,
            "left": null
          }
        },
        "d20bae4f76d44561b25dc9a8d117bc63": {
          "model_module": "@jupyter-widgets/controls",
          "model_name": "DescriptionStyleModel",
          "state": {
            "_view_name": "StyleView",
            "_model_name": "DescriptionStyleModel",
            "description_width": "",
            "_view_module": "@jupyter-widgets/base",
            "_model_module_version": "1.5.0",
            "_view_count": null,
            "_view_module_version": "1.2.0",
            "_model_module": "@jupyter-widgets/controls"
          }
        },
        "3a54edddc09c498d954ca5c5c8bf6db8": {
          "model_module": "@jupyter-widgets/base",
          "model_name": "LayoutModel",
          "state": {
            "_view_name": "LayoutView",
            "grid_template_rows": null,
            "right": null,
            "justify_content": null,
            "_view_module": "@jupyter-widgets/base",
            "overflow": null,
            "_model_module_version": "1.2.0",
            "_view_count": null,
            "flex_flow": null,
            "width": null,
            "min_width": null,
            "border": null,
            "align_items": null,
            "bottom": null,
            "_model_module": "@jupyter-widgets/base",
            "top": null,
            "grid_column": null,
            "overflow_y": null,
            "overflow_x": null,
            "grid_auto_flow": null,
            "grid_area": null,
            "grid_template_columns": null,
            "flex": null,
            "_model_name": "LayoutModel",
            "justify_items": null,
            "grid_row": null,
            "max_height": null,
            "align_content": null,
            "visibility": null,
            "align_self": null,
            "height": null,
            "min_height": null,
            "padding": null,
            "grid_auto_rows": null,
            "grid_gap": null,
            "max_width": null,
            "order": null,
            "_view_module_version": "1.2.0",
            "grid_template_areas": null,
            "object_position": null,
            "object_fit": null,
            "grid_auto_columns": null,
            "margin": null,
            "display": null,
            "left": null
          }
        },
        "f9cd2ad16ebd4224ae07a2a72ada6fb6": {
          "model_module": "@jupyter-widgets/controls",
          "model_name": "HBoxModel",
          "state": {
            "_view_name": "HBoxView",
            "_dom_classes": [],
            "_model_name": "HBoxModel",
            "_view_module": "@jupyter-widgets/controls",
            "_model_module_version": "1.5.0",
            "_view_count": null,
            "_view_module_version": "1.5.0",
            "box_style": "",
            "layout": "IPY_MODEL_6b2d796a5ec8455bb0a47391c00e2296",
            "_model_module": "@jupyter-widgets/controls",
            "children": [
              "IPY_MODEL_594cad5a99b14f11b13652d595d3ea2c",
              "IPY_MODEL_7e08a9ac094a41bba638dced5f1c8042"
            ]
          }
        },
        "6b2d796a5ec8455bb0a47391c00e2296": {
          "model_module": "@jupyter-widgets/base",
          "model_name": "LayoutModel",
          "state": {
            "_view_name": "LayoutView",
            "grid_template_rows": null,
            "right": null,
            "justify_content": null,
            "_view_module": "@jupyter-widgets/base",
            "overflow": null,
            "_model_module_version": "1.2.0",
            "_view_count": null,
            "flex_flow": null,
            "width": null,
            "min_width": null,
            "border": null,
            "align_items": null,
            "bottom": null,
            "_model_module": "@jupyter-widgets/base",
            "top": null,
            "grid_column": null,
            "overflow_y": null,
            "overflow_x": null,
            "grid_auto_flow": null,
            "grid_area": null,
            "grid_template_columns": null,
            "flex": null,
            "_model_name": "LayoutModel",
            "justify_items": null,
            "grid_row": null,
            "max_height": null,
            "align_content": null,
            "visibility": null,
            "align_self": null,
            "height": null,
            "min_height": null,
            "padding": null,
            "grid_auto_rows": null,
            "grid_gap": null,
            "max_width": null,
            "order": null,
            "_view_module_version": "1.2.0",
            "grid_template_areas": null,
            "object_position": null,
            "object_fit": null,
            "grid_auto_columns": null,
            "margin": null,
            "display": null,
            "left": null
          }
        },
        "594cad5a99b14f11b13652d595d3ea2c": {
          "model_module": "@jupyter-widgets/controls",
          "model_name": "FloatProgressModel",
          "state": {
            "_view_name": "ProgressView",
            "style": "IPY_MODEL_7215ddda699c4ca99e3dbcaf7b78eb3b",
            "_dom_classes": [],
            "description": "Epoch:  30%",
            "_model_name": "FloatProgressModel",
            "bar_style": "danger",
            "max": 10,
            "_view_module": "@jupyter-widgets/controls",
            "_model_module_version": "1.5.0",
            "value": 3,
            "_view_count": null,
            "_view_module_version": "1.5.0",
            "orientation": "horizontal",
            "min": 0,
            "description_tooltip": null,
            "_model_module": "@jupyter-widgets/controls",
            "layout": "IPY_MODEL_e2f06c9b06c34c0dadf1bfa21a06b1fc"
          }
        },
        "7e08a9ac094a41bba638dced5f1c8042": {
          "model_module": "@jupyter-widgets/controls",
          "model_name": "HTMLModel",
          "state": {
            "_view_name": "HTMLView",
            "style": "IPY_MODEL_5bf311d1ff494c80871a45303f6cab47",
            "_dom_classes": [],
            "description": "",
            "_model_name": "HTMLModel",
            "placeholder": "​",
            "_view_module": "@jupyter-widgets/controls",
            "_model_module_version": "1.5.0",
            "value": " 3/10 [02:09&lt;04:42, 40.40s/it]",
            "_view_count": null,
            "_view_module_version": "1.5.0",
            "description_tooltip": null,
            "_model_module": "@jupyter-widgets/controls",
            "layout": "IPY_MODEL_1a29acc968f547aeb2f6a0c7f6de6087"
          }
        },
        "7215ddda699c4ca99e3dbcaf7b78eb3b": {
          "model_module": "@jupyter-widgets/controls",
          "model_name": "ProgressStyleModel",
          "state": {
            "_view_name": "StyleView",
            "_model_name": "ProgressStyleModel",
            "description_width": "initial",
            "_view_module": "@jupyter-widgets/base",
            "_model_module_version": "1.5.0",
            "_view_count": null,
            "_view_module_version": "1.2.0",
            "bar_color": null,
            "_model_module": "@jupyter-widgets/controls"
          }
        },
        "e2f06c9b06c34c0dadf1bfa21a06b1fc": {
          "model_module": "@jupyter-widgets/base",
          "model_name": "LayoutModel",
          "state": {
            "_view_name": "LayoutView",
            "grid_template_rows": null,
            "right": null,
            "justify_content": null,
            "_view_module": "@jupyter-widgets/base",
            "overflow": null,
            "_model_module_version": "1.2.0",
            "_view_count": null,
            "flex_flow": null,
            "width": null,
            "min_width": null,
            "border": null,
            "align_items": null,
            "bottom": null,
            "_model_module": "@jupyter-widgets/base",
            "top": null,
            "grid_column": null,
            "overflow_y": null,
            "overflow_x": null,
            "grid_auto_flow": null,
            "grid_area": null,
            "grid_template_columns": null,
            "flex": null,
            "_model_name": "LayoutModel",
            "justify_items": null,
            "grid_row": null,
            "max_height": null,
            "align_content": null,
            "visibility": null,
            "align_self": null,
            "height": null,
            "min_height": null,
            "padding": null,
            "grid_auto_rows": null,
            "grid_gap": null,
            "max_width": null,
            "order": null,
            "_view_module_version": "1.2.0",
            "grid_template_areas": null,
            "object_position": null,
            "object_fit": null,
            "grid_auto_columns": null,
            "margin": null,
            "display": null,
            "left": null
          }
        },
        "5bf311d1ff494c80871a45303f6cab47": {
          "model_module": "@jupyter-widgets/controls",
          "model_name": "DescriptionStyleModel",
          "state": {
            "_view_name": "StyleView",
            "_model_name": "DescriptionStyleModel",
            "description_width": "",
            "_view_module": "@jupyter-widgets/base",
            "_model_module_version": "1.5.0",
            "_view_count": null,
            "_view_module_version": "1.2.0",
            "_model_module": "@jupyter-widgets/controls"
          }
        },
        "1a29acc968f547aeb2f6a0c7f6de6087": {
          "model_module": "@jupyter-widgets/base",
          "model_name": "LayoutModel",
          "state": {
            "_view_name": "LayoutView",
            "grid_template_rows": null,
            "right": null,
            "justify_content": null,
            "_view_module": "@jupyter-widgets/base",
            "overflow": null,
            "_model_module_version": "1.2.0",
            "_view_count": null,
            "flex_flow": null,
            "width": null,
            "min_width": null,
            "border": null,
            "align_items": null,
            "bottom": null,
            "_model_module": "@jupyter-widgets/base",
            "top": null,
            "grid_column": null,
            "overflow_y": null,
            "overflow_x": null,
            "grid_auto_flow": null,
            "grid_area": null,
            "grid_template_columns": null,
            "flex": null,
            "_model_name": "LayoutModel",
            "justify_items": null,
            "grid_row": null,
            "max_height": null,
            "align_content": null,
            "visibility": null,
            "align_self": null,
            "height": null,
            "min_height": null,
            "padding": null,
            "grid_auto_rows": null,
            "grid_gap": null,
            "max_width": null,
            "order": null,
            "_view_module_version": "1.2.0",
            "grid_template_areas": null,
            "object_position": null,
            "object_fit": null,
            "grid_auto_columns": null,
            "margin": null,
            "display": null,
            "left": null
          }
        },
        "3a2dbd98714f4ff5ad987e6f34573c30": {
          "model_module": "@jupyter-widgets/controls",
          "model_name": "HBoxModel",
          "state": {
            "_view_name": "HBoxView",
            "_dom_classes": [],
            "_model_name": "HBoxModel",
            "_view_module": "@jupyter-widgets/controls",
            "_model_module_version": "1.5.0",
            "_view_count": null,
            "_view_module_version": "1.5.0",
            "box_style": "",
            "layout": "IPY_MODEL_41d6cdb3ecb1496ca430e383907cdca4",
            "_model_module": "@jupyter-widgets/controls",
            "children": [
              "IPY_MODEL_4e66910e4eb34e03a4cd61687f461e9f",
              "IPY_MODEL_e7e011b4a13244f99fc39c425d18ba89"
            ]
          }
        },
        "41d6cdb3ecb1496ca430e383907cdca4": {
          "model_module": "@jupyter-widgets/base",
          "model_name": "LayoutModel",
          "state": {
            "_view_name": "LayoutView",
            "grid_template_rows": null,
            "right": null,
            "justify_content": null,
            "_view_module": "@jupyter-widgets/base",
            "overflow": null,
            "_model_module_version": "1.2.0",
            "_view_count": null,
            "flex_flow": null,
            "width": null,
            "min_width": null,
            "border": null,
            "align_items": null,
            "bottom": null,
            "_model_module": "@jupyter-widgets/base",
            "top": null,
            "grid_column": null,
            "overflow_y": null,
            "overflow_x": null,
            "grid_auto_flow": null,
            "grid_area": null,
            "grid_template_columns": null,
            "flex": null,
            "_model_name": "LayoutModel",
            "justify_items": null,
            "grid_row": null,
            "max_height": null,
            "align_content": null,
            "visibility": null,
            "align_self": null,
            "height": null,
            "min_height": null,
            "padding": null,
            "grid_auto_rows": null,
            "grid_gap": null,
            "max_width": null,
            "order": null,
            "_view_module_version": "1.2.0",
            "grid_template_areas": null,
            "object_position": null,
            "object_fit": null,
            "grid_auto_columns": null,
            "margin": null,
            "display": null,
            "left": null
          }
        },
        "4e66910e4eb34e03a4cd61687f461e9f": {
          "model_module": "@jupyter-widgets/controls",
          "model_name": "FloatProgressModel",
          "state": {
            "_view_name": "ProgressView",
            "style": "IPY_MODEL_9379ec18a72741de90a2c40139248be3",
            "_dom_classes": [],
            "description": "Iteration: 100%",
            "_model_name": "FloatProgressModel",
            "bar_style": "success",
            "max": 41,
            "_view_module": "@jupyter-widgets/controls",
            "_model_module_version": "1.5.0",
            "value": 41,
            "_view_count": null,
            "_view_module_version": "1.5.0",
            "orientation": "horizontal",
            "min": 0,
            "description_tooltip": null,
            "_model_module": "@jupyter-widgets/controls",
            "layout": "IPY_MODEL_56eb6e7ac8a94986a7050fdb47d432fa"
          }
        },
        "e7e011b4a13244f99fc39c425d18ba89": {
          "model_module": "@jupyter-widgets/controls",
          "model_name": "HTMLModel",
          "state": {
            "_view_name": "HTMLView",
            "style": "IPY_MODEL_d37063750ad14e5bbb5be287335c9c9d",
            "_dom_classes": [],
            "description": "",
            "_model_name": "HTMLModel",
            "placeholder": "​",
            "_view_module": "@jupyter-widgets/controls",
            "_model_module_version": "1.5.0",
            "value": " 41/41 [01:14&lt;00:00,  1.81s/it]",
            "_view_count": null,
            "_view_module_version": "1.5.0",
            "description_tooltip": null,
            "_model_module": "@jupyter-widgets/controls",
            "layout": "IPY_MODEL_1c2ebefa0ebb40be988e8306a79a9b57"
          }
        },
        "9379ec18a72741de90a2c40139248be3": {
          "model_module": "@jupyter-widgets/controls",
          "model_name": "ProgressStyleModel",
          "state": {
            "_view_name": "StyleView",
            "_model_name": "ProgressStyleModel",
            "description_width": "initial",
            "_view_module": "@jupyter-widgets/base",
            "_model_module_version": "1.5.0",
            "_view_count": null,
            "_view_module_version": "1.2.0",
            "bar_color": null,
            "_model_module": "@jupyter-widgets/controls"
          }
        },
        "56eb6e7ac8a94986a7050fdb47d432fa": {
          "model_module": "@jupyter-widgets/base",
          "model_name": "LayoutModel",
          "state": {
            "_view_name": "LayoutView",
            "grid_template_rows": null,
            "right": null,
            "justify_content": null,
            "_view_module": "@jupyter-widgets/base",
            "overflow": null,
            "_model_module_version": "1.2.0",
            "_view_count": null,
            "flex_flow": null,
            "width": null,
            "min_width": null,
            "border": null,
            "align_items": null,
            "bottom": null,
            "_model_module": "@jupyter-widgets/base",
            "top": null,
            "grid_column": null,
            "overflow_y": null,
            "overflow_x": null,
            "grid_auto_flow": null,
            "grid_area": null,
            "grid_template_columns": null,
            "flex": null,
            "_model_name": "LayoutModel",
            "justify_items": null,
            "grid_row": null,
            "max_height": null,
            "align_content": null,
            "visibility": null,
            "align_self": null,
            "height": null,
            "min_height": null,
            "padding": null,
            "grid_auto_rows": null,
            "grid_gap": null,
            "max_width": null,
            "order": null,
            "_view_module_version": "1.2.0",
            "grid_template_areas": null,
            "object_position": null,
            "object_fit": null,
            "grid_auto_columns": null,
            "margin": null,
            "display": null,
            "left": null
          }
        },
        "d37063750ad14e5bbb5be287335c9c9d": {
          "model_module": "@jupyter-widgets/controls",
          "model_name": "DescriptionStyleModel",
          "state": {
            "_view_name": "StyleView",
            "_model_name": "DescriptionStyleModel",
            "description_width": "",
            "_view_module": "@jupyter-widgets/base",
            "_model_module_version": "1.5.0",
            "_view_count": null,
            "_view_module_version": "1.2.0",
            "_model_module": "@jupyter-widgets/controls"
          }
        },
        "1c2ebefa0ebb40be988e8306a79a9b57": {
          "model_module": "@jupyter-widgets/base",
          "model_name": "LayoutModel",
          "state": {
            "_view_name": "LayoutView",
            "grid_template_rows": null,
            "right": null,
            "justify_content": null,
            "_view_module": "@jupyter-widgets/base",
            "overflow": null,
            "_model_module_version": "1.2.0",
            "_view_count": null,
            "flex_flow": null,
            "width": null,
            "min_width": null,
            "border": null,
            "align_items": null,
            "bottom": null,
            "_model_module": "@jupyter-widgets/base",
            "top": null,
            "grid_column": null,
            "overflow_y": null,
            "overflow_x": null,
            "grid_auto_flow": null,
            "grid_area": null,
            "grid_template_columns": null,
            "flex": null,
            "_model_name": "LayoutModel",
            "justify_items": null,
            "grid_row": null,
            "max_height": null,
            "align_content": null,
            "visibility": null,
            "align_self": null,
            "height": null,
            "min_height": null,
            "padding": null,
            "grid_auto_rows": null,
            "grid_gap": null,
            "max_width": null,
            "order": null,
            "_view_module_version": "1.2.0",
            "grid_template_areas": null,
            "object_position": null,
            "object_fit": null,
            "grid_auto_columns": null,
            "margin": null,
            "display": null,
            "left": null
          }
        },
        "fa282a63116c427c90dd7b13ae0e21d6": {
          "model_module": "@jupyter-widgets/controls",
          "model_name": "HBoxModel",
          "state": {
            "_view_name": "HBoxView",
            "_dom_classes": [],
            "_model_name": "HBoxModel",
            "_view_module": "@jupyter-widgets/controls",
            "_model_module_version": "1.5.0",
            "_view_count": null,
            "_view_module_version": "1.5.0",
            "box_style": "",
            "layout": "IPY_MODEL_a24234bdd7fc4d2098ae77710a26fa6c",
            "_model_module": "@jupyter-widgets/controls",
            "children": [
              "IPY_MODEL_a77f30d89e5b4a3caff114b1a4e4ceb0",
              "IPY_MODEL_6cef224d1224464ca7bfeac2979aa24b"
            ]
          }
        },
        "a24234bdd7fc4d2098ae77710a26fa6c": {
          "model_module": "@jupyter-widgets/base",
          "model_name": "LayoutModel",
          "state": {
            "_view_name": "LayoutView",
            "grid_template_rows": null,
            "right": null,
            "justify_content": null,
            "_view_module": "@jupyter-widgets/base",
            "overflow": null,
            "_model_module_version": "1.2.0",
            "_view_count": null,
            "flex_flow": null,
            "width": null,
            "min_width": null,
            "border": null,
            "align_items": null,
            "bottom": null,
            "_model_module": "@jupyter-widgets/base",
            "top": null,
            "grid_column": null,
            "overflow_y": null,
            "overflow_x": null,
            "grid_auto_flow": null,
            "grid_area": null,
            "grid_template_columns": null,
            "flex": null,
            "_model_name": "LayoutModel",
            "justify_items": null,
            "grid_row": null,
            "max_height": null,
            "align_content": null,
            "visibility": null,
            "align_self": null,
            "height": null,
            "min_height": null,
            "padding": null,
            "grid_auto_rows": null,
            "grid_gap": null,
            "max_width": null,
            "order": null,
            "_view_module_version": "1.2.0",
            "grid_template_areas": null,
            "object_position": null,
            "object_fit": null,
            "grid_auto_columns": null,
            "margin": null,
            "display": null,
            "left": null
          }
        },
        "a77f30d89e5b4a3caff114b1a4e4ceb0": {
          "model_module": "@jupyter-widgets/controls",
          "model_name": "FloatProgressModel",
          "state": {
            "_view_name": "ProgressView",
            "style": "IPY_MODEL_ded5e7d8475c49b68d858c5d7a28eab9",
            "_dom_classes": [],
            "description": "Iteration: 100%",
            "_model_name": "FloatProgressModel",
            "bar_style": "success",
            "max": 41,
            "_view_module": "@jupyter-widgets/controls",
            "_model_module_version": "1.5.0",
            "value": 41,
            "_view_count": null,
            "_view_module_version": "1.5.0",
            "orientation": "horizontal",
            "min": 0,
            "description_tooltip": null,
            "_model_module": "@jupyter-widgets/controls",
            "layout": "IPY_MODEL_5c31fa0a441c4a17866b05c9790ec8d1"
          }
        },
        "6cef224d1224464ca7bfeac2979aa24b": {
          "model_module": "@jupyter-widgets/controls",
          "model_name": "HTMLModel",
          "state": {
            "_view_name": "HTMLView",
            "style": "IPY_MODEL_81fdd2420d884b2b93707d8702d70ced",
            "_dom_classes": [],
            "description": "",
            "_model_name": "HTMLModel",
            "placeholder": "​",
            "_view_module": "@jupyter-widgets/controls",
            "_model_module_version": "1.5.0",
            "value": " 41/41 [00:20&lt;00:00,  2.00it/s]",
            "_view_count": null,
            "_view_module_version": "1.5.0",
            "description_tooltip": null,
            "_model_module": "@jupyter-widgets/controls",
            "layout": "IPY_MODEL_c220186721b44cfb8e8ac1b3c0a435ab"
          }
        },
        "ded5e7d8475c49b68d858c5d7a28eab9": {
          "model_module": "@jupyter-widgets/controls",
          "model_name": "ProgressStyleModel",
          "state": {
            "_view_name": "StyleView",
            "_model_name": "ProgressStyleModel",
            "description_width": "initial",
            "_view_module": "@jupyter-widgets/base",
            "_model_module_version": "1.5.0",
            "_view_count": null,
            "_view_module_version": "1.2.0",
            "bar_color": null,
            "_model_module": "@jupyter-widgets/controls"
          }
        },
        "5c31fa0a441c4a17866b05c9790ec8d1": {
          "model_module": "@jupyter-widgets/base",
          "model_name": "LayoutModel",
          "state": {
            "_view_name": "LayoutView",
            "grid_template_rows": null,
            "right": null,
            "justify_content": null,
            "_view_module": "@jupyter-widgets/base",
            "overflow": null,
            "_model_module_version": "1.2.0",
            "_view_count": null,
            "flex_flow": null,
            "width": null,
            "min_width": null,
            "border": null,
            "align_items": null,
            "bottom": null,
            "_model_module": "@jupyter-widgets/base",
            "top": null,
            "grid_column": null,
            "overflow_y": null,
            "overflow_x": null,
            "grid_auto_flow": null,
            "grid_area": null,
            "grid_template_columns": null,
            "flex": null,
            "_model_name": "LayoutModel",
            "justify_items": null,
            "grid_row": null,
            "max_height": null,
            "align_content": null,
            "visibility": null,
            "align_self": null,
            "height": null,
            "min_height": null,
            "padding": null,
            "grid_auto_rows": null,
            "grid_gap": null,
            "max_width": null,
            "order": null,
            "_view_module_version": "1.2.0",
            "grid_template_areas": null,
            "object_position": null,
            "object_fit": null,
            "grid_auto_columns": null,
            "margin": null,
            "display": null,
            "left": null
          }
        },
        "81fdd2420d884b2b93707d8702d70ced": {
          "model_module": "@jupyter-widgets/controls",
          "model_name": "DescriptionStyleModel",
          "state": {
            "_view_name": "StyleView",
            "_model_name": "DescriptionStyleModel",
            "description_width": "",
            "_view_module": "@jupyter-widgets/base",
            "_model_module_version": "1.5.0",
            "_view_count": null,
            "_view_module_version": "1.2.0",
            "_model_module": "@jupyter-widgets/controls"
          }
        },
        "c220186721b44cfb8e8ac1b3c0a435ab": {
          "model_module": "@jupyter-widgets/base",
          "model_name": "LayoutModel",
          "state": {
            "_view_name": "LayoutView",
            "grid_template_rows": null,
            "right": null,
            "justify_content": null,
            "_view_module": "@jupyter-widgets/base",
            "overflow": null,
            "_model_module_version": "1.2.0",
            "_view_count": null,
            "flex_flow": null,
            "width": null,
            "min_width": null,
            "border": null,
            "align_items": null,
            "bottom": null,
            "_model_module": "@jupyter-widgets/base",
            "top": null,
            "grid_column": null,
            "overflow_y": null,
            "overflow_x": null,
            "grid_auto_flow": null,
            "grid_area": null,
            "grid_template_columns": null,
            "flex": null,
            "_model_name": "LayoutModel",
            "justify_items": null,
            "grid_row": null,
            "max_height": null,
            "align_content": null,
            "visibility": null,
            "align_self": null,
            "height": null,
            "min_height": null,
            "padding": null,
            "grid_auto_rows": null,
            "grid_gap": null,
            "max_width": null,
            "order": null,
            "_view_module_version": "1.2.0",
            "grid_template_areas": null,
            "object_position": null,
            "object_fit": null,
            "grid_auto_columns": null,
            "margin": null,
            "display": null,
            "left": null
          }
        },
        "22bccaefee6f4e4cbfa7752c83c82e4a": {
          "model_module": "@jupyter-widgets/controls",
          "model_name": "HBoxModel",
          "state": {
            "_view_name": "HBoxView",
            "_dom_classes": [],
            "_model_name": "HBoxModel",
            "_view_module": "@jupyter-widgets/controls",
            "_model_module_version": "1.5.0",
            "_view_count": null,
            "_view_module_version": "1.5.0",
            "box_style": "",
            "layout": "IPY_MODEL_0d927dfcde974b8eb5d95f1ecc323c9f",
            "_model_module": "@jupyter-widgets/controls",
            "children": [
              "IPY_MODEL_9c18cb9e58734996b67c782b18238127",
              "IPY_MODEL_7ab58272a04a4f898a86f01d9a9e3403"
            ]
          }
        },
        "0d927dfcde974b8eb5d95f1ecc323c9f": {
          "model_module": "@jupyter-widgets/base",
          "model_name": "LayoutModel",
          "state": {
            "_view_name": "LayoutView",
            "grid_template_rows": null,
            "right": null,
            "justify_content": null,
            "_view_module": "@jupyter-widgets/base",
            "overflow": null,
            "_model_module_version": "1.2.0",
            "_view_count": null,
            "flex_flow": null,
            "width": null,
            "min_width": null,
            "border": null,
            "align_items": null,
            "bottom": null,
            "_model_module": "@jupyter-widgets/base",
            "top": null,
            "grid_column": null,
            "overflow_y": null,
            "overflow_x": null,
            "grid_auto_flow": null,
            "grid_area": null,
            "grid_template_columns": null,
            "flex": null,
            "_model_name": "LayoutModel",
            "justify_items": null,
            "grid_row": null,
            "max_height": null,
            "align_content": null,
            "visibility": null,
            "align_self": null,
            "height": null,
            "min_height": null,
            "padding": null,
            "grid_auto_rows": null,
            "grid_gap": null,
            "max_width": null,
            "order": null,
            "_view_module_version": "1.2.0",
            "grid_template_areas": null,
            "object_position": null,
            "object_fit": null,
            "grid_auto_columns": null,
            "margin": null,
            "display": null,
            "left": null
          }
        },
        "9c18cb9e58734996b67c782b18238127": {
          "model_module": "@jupyter-widgets/controls",
          "model_name": "FloatProgressModel",
          "state": {
            "_view_name": "ProgressView",
            "style": "IPY_MODEL_2d73ffa2aa25429a843eaea297345eb0",
            "_dom_classes": [],
            "description": "Iteration: 100%",
            "_model_name": "FloatProgressModel",
            "bar_style": "success",
            "max": 41,
            "_view_module": "@jupyter-widgets/controls",
            "_model_module_version": "1.5.0",
            "value": 41,
            "_view_count": null,
            "_view_module_version": "1.5.0",
            "orientation": "horizontal",
            "min": 0,
            "description_tooltip": null,
            "_model_module": "@jupyter-widgets/controls",
            "layout": "IPY_MODEL_3687e5241e2e48d294e576bc7442f056"
          }
        },
        "7ab58272a04a4f898a86f01d9a9e3403": {
          "model_module": "@jupyter-widgets/controls",
          "model_name": "HTMLModel",
          "state": {
            "_view_name": "HTMLView",
            "style": "IPY_MODEL_33029bae174f4dacbfa5fdc9d4ee2171",
            "_dom_classes": [],
            "description": "",
            "_model_name": "HTMLModel",
            "placeholder": "​",
            "_view_module": "@jupyter-widgets/controls",
            "_model_module_version": "1.5.0",
            "value": " 41/41 [00:15&lt;00:00,  2.58it/s]",
            "_view_count": null,
            "_view_module_version": "1.5.0",
            "description_tooltip": null,
            "_model_module": "@jupyter-widgets/controls",
            "layout": "IPY_MODEL_7b20ec5f9b404f4ba7951206963ab452"
          }
        },
        "2d73ffa2aa25429a843eaea297345eb0": {
          "model_module": "@jupyter-widgets/controls",
          "model_name": "ProgressStyleModel",
          "state": {
            "_view_name": "StyleView",
            "_model_name": "ProgressStyleModel",
            "description_width": "initial",
            "_view_module": "@jupyter-widgets/base",
            "_model_module_version": "1.5.0",
            "_view_count": null,
            "_view_module_version": "1.2.0",
            "bar_color": null,
            "_model_module": "@jupyter-widgets/controls"
          }
        },
        "3687e5241e2e48d294e576bc7442f056": {
          "model_module": "@jupyter-widgets/base",
          "model_name": "LayoutModel",
          "state": {
            "_view_name": "LayoutView",
            "grid_template_rows": null,
            "right": null,
            "justify_content": null,
            "_view_module": "@jupyter-widgets/base",
            "overflow": null,
            "_model_module_version": "1.2.0",
            "_view_count": null,
            "flex_flow": null,
            "width": null,
            "min_width": null,
            "border": null,
            "align_items": null,
            "bottom": null,
            "_model_module": "@jupyter-widgets/base",
            "top": null,
            "grid_column": null,
            "overflow_y": null,
            "overflow_x": null,
            "grid_auto_flow": null,
            "grid_area": null,
            "grid_template_columns": null,
            "flex": null,
            "_model_name": "LayoutModel",
            "justify_items": null,
            "grid_row": null,
            "max_height": null,
            "align_content": null,
            "visibility": null,
            "align_self": null,
            "height": null,
            "min_height": null,
            "padding": null,
            "grid_auto_rows": null,
            "grid_gap": null,
            "max_width": null,
            "order": null,
            "_view_module_version": "1.2.0",
            "grid_template_areas": null,
            "object_position": null,
            "object_fit": null,
            "grid_auto_columns": null,
            "margin": null,
            "display": null,
            "left": null
          }
        },
        "33029bae174f4dacbfa5fdc9d4ee2171": {
          "model_module": "@jupyter-widgets/controls",
          "model_name": "DescriptionStyleModel",
          "state": {
            "_view_name": "StyleView",
            "_model_name": "DescriptionStyleModel",
            "description_width": "",
            "_view_module": "@jupyter-widgets/base",
            "_model_module_version": "1.5.0",
            "_view_count": null,
            "_view_module_version": "1.2.0",
            "_model_module": "@jupyter-widgets/controls"
          }
        },
        "7b20ec5f9b404f4ba7951206963ab452": {
          "model_module": "@jupyter-widgets/base",
          "model_name": "LayoutModel",
          "state": {
            "_view_name": "LayoutView",
            "grid_template_rows": null,
            "right": null,
            "justify_content": null,
            "_view_module": "@jupyter-widgets/base",
            "overflow": null,
            "_model_module_version": "1.2.0",
            "_view_count": null,
            "flex_flow": null,
            "width": null,
            "min_width": null,
            "border": null,
            "align_items": null,
            "bottom": null,
            "_model_module": "@jupyter-widgets/base",
            "top": null,
            "grid_column": null,
            "overflow_y": null,
            "overflow_x": null,
            "grid_auto_flow": null,
            "grid_area": null,
            "grid_template_columns": null,
            "flex": null,
            "_model_name": "LayoutModel",
            "justify_items": null,
            "grid_row": null,
            "max_height": null,
            "align_content": null,
            "visibility": null,
            "align_self": null,
            "height": null,
            "min_height": null,
            "padding": null,
            "grid_auto_rows": null,
            "grid_gap": null,
            "max_width": null,
            "order": null,
            "_view_module_version": "1.2.0",
            "grid_template_areas": null,
            "object_position": null,
            "object_fit": null,
            "grid_auto_columns": null,
            "margin": null,
            "display": null,
            "left": null
          }
        },
        "74d6e0927ae64a4f8df53cff707d2ed3": {
          "model_module": "@jupyter-widgets/controls",
          "model_name": "HBoxModel",
          "state": {
            "_view_name": "HBoxView",
            "_dom_classes": [],
            "_model_name": "HBoxModel",
            "_view_module": "@jupyter-widgets/controls",
            "_model_module_version": "1.5.0",
            "_view_count": null,
            "_view_module_version": "1.5.0",
            "box_style": "",
            "layout": "IPY_MODEL_81f77e188ea9454cb87ddd3f2a973b7c",
            "_model_module": "@jupyter-widgets/controls",
            "children": [
              "IPY_MODEL_b2b6ffdf0d434301bc64c87a51b2dcff",
              "IPY_MODEL_19b73818ebe64cc99f373b4ad28114df"
            ]
          }
        },
        "81f77e188ea9454cb87ddd3f2a973b7c": {
          "model_module": "@jupyter-widgets/base",
          "model_name": "LayoutModel",
          "state": {
            "_view_name": "LayoutView",
            "grid_template_rows": null,
            "right": null,
            "justify_content": null,
            "_view_module": "@jupyter-widgets/base",
            "overflow": null,
            "_model_module_version": "1.2.0",
            "_view_count": null,
            "flex_flow": null,
            "width": null,
            "min_width": null,
            "border": null,
            "align_items": null,
            "bottom": null,
            "_model_module": "@jupyter-widgets/base",
            "top": null,
            "grid_column": null,
            "overflow_y": null,
            "overflow_x": null,
            "grid_auto_flow": null,
            "grid_area": null,
            "grid_template_columns": null,
            "flex": null,
            "_model_name": "LayoutModel",
            "justify_items": null,
            "grid_row": null,
            "max_height": null,
            "align_content": null,
            "visibility": null,
            "align_self": null,
            "height": null,
            "min_height": null,
            "padding": null,
            "grid_auto_rows": null,
            "grid_gap": null,
            "max_width": null,
            "order": null,
            "_view_module_version": "1.2.0",
            "grid_template_areas": null,
            "object_position": null,
            "object_fit": null,
            "grid_auto_columns": null,
            "margin": null,
            "display": null,
            "left": null
          }
        },
        "b2b6ffdf0d434301bc64c87a51b2dcff": {
          "model_module": "@jupyter-widgets/controls",
          "model_name": "FloatProgressModel",
          "state": {
            "_view_name": "ProgressView",
            "style": "IPY_MODEL_ac77f2659fef4e53ab2f747f0e641633",
            "_dom_classes": [],
            "description": "Iteration: 100%",
            "_model_name": "FloatProgressModel",
            "bar_style": "success",
            "max": 41,
            "_view_module": "@jupyter-widgets/controls",
            "_model_module_version": "1.5.0",
            "value": 41,
            "_view_count": null,
            "_view_module_version": "1.5.0",
            "orientation": "horizontal",
            "min": 0,
            "description_tooltip": null,
            "_model_module": "@jupyter-widgets/controls",
            "layout": "IPY_MODEL_1079136dee7d49bca5791d08d42e444c"
          }
        },
        "19b73818ebe64cc99f373b4ad28114df": {
          "model_module": "@jupyter-widgets/controls",
          "model_name": "HTMLModel",
          "state": {
            "_view_name": "HTMLView",
            "style": "IPY_MODEL_6d3129b01b244ca0857a3b3598c7d0b1",
            "_dom_classes": [],
            "description": "",
            "_model_name": "HTMLModel",
            "placeholder": "​",
            "_view_module": "@jupyter-widgets/controls",
            "_model_module_version": "1.5.0",
            "value": " 41/41 [00:15&lt;00:00,  2.63it/s]",
            "_view_count": null,
            "_view_module_version": "1.5.0",
            "description_tooltip": null,
            "_model_module": "@jupyter-widgets/controls",
            "layout": "IPY_MODEL_720b8029979c43cda485e26390d5f4b9"
          }
        },
        "ac77f2659fef4e53ab2f747f0e641633": {
          "model_module": "@jupyter-widgets/controls",
          "model_name": "ProgressStyleModel",
          "state": {
            "_view_name": "StyleView",
            "_model_name": "ProgressStyleModel",
            "description_width": "initial",
            "_view_module": "@jupyter-widgets/base",
            "_model_module_version": "1.5.0",
            "_view_count": null,
            "_view_module_version": "1.2.0",
            "bar_color": null,
            "_model_module": "@jupyter-widgets/controls"
          }
        },
        "1079136dee7d49bca5791d08d42e444c": {
          "model_module": "@jupyter-widgets/base",
          "model_name": "LayoutModel",
          "state": {
            "_view_name": "LayoutView",
            "grid_template_rows": null,
            "right": null,
            "justify_content": null,
            "_view_module": "@jupyter-widgets/base",
            "overflow": null,
            "_model_module_version": "1.2.0",
            "_view_count": null,
            "flex_flow": null,
            "width": null,
            "min_width": null,
            "border": null,
            "align_items": null,
            "bottom": null,
            "_model_module": "@jupyter-widgets/base",
            "top": null,
            "grid_column": null,
            "overflow_y": null,
            "overflow_x": null,
            "grid_auto_flow": null,
            "grid_area": null,
            "grid_template_columns": null,
            "flex": null,
            "_model_name": "LayoutModel",
            "justify_items": null,
            "grid_row": null,
            "max_height": null,
            "align_content": null,
            "visibility": null,
            "align_self": null,
            "height": null,
            "min_height": null,
            "padding": null,
            "grid_auto_rows": null,
            "grid_gap": null,
            "max_width": null,
            "order": null,
            "_view_module_version": "1.2.0",
            "grid_template_areas": null,
            "object_position": null,
            "object_fit": null,
            "grid_auto_columns": null,
            "margin": null,
            "display": null,
            "left": null
          }
        },
        "6d3129b01b244ca0857a3b3598c7d0b1": {
          "model_module": "@jupyter-widgets/controls",
          "model_name": "DescriptionStyleModel",
          "state": {
            "_view_name": "StyleView",
            "_model_name": "DescriptionStyleModel",
            "description_width": "",
            "_view_module": "@jupyter-widgets/base",
            "_model_module_version": "1.5.0",
            "_view_count": null,
            "_view_module_version": "1.2.0",
            "_model_module": "@jupyter-widgets/controls"
          }
        },
        "720b8029979c43cda485e26390d5f4b9": {
          "model_module": "@jupyter-widgets/base",
          "model_name": "LayoutModel",
          "state": {
            "_view_name": "LayoutView",
            "grid_template_rows": null,
            "right": null,
            "justify_content": null,
            "_view_module": "@jupyter-widgets/base",
            "overflow": null,
            "_model_module_version": "1.2.0",
            "_view_count": null,
            "flex_flow": null,
            "width": null,
            "min_width": null,
            "border": null,
            "align_items": null,
            "bottom": null,
            "_model_module": "@jupyter-widgets/base",
            "top": null,
            "grid_column": null,
            "overflow_y": null,
            "overflow_x": null,
            "grid_auto_flow": null,
            "grid_area": null,
            "grid_template_columns": null,
            "flex": null,
            "_model_name": "LayoutModel",
            "justify_items": null,
            "grid_row": null,
            "max_height": null,
            "align_content": null,
            "visibility": null,
            "align_self": null,
            "height": null,
            "min_height": null,
            "padding": null,
            "grid_auto_rows": null,
            "grid_gap": null,
            "max_width": null,
            "order": null,
            "_view_module_version": "1.2.0",
            "grid_template_areas": null,
            "object_position": null,
            "object_fit": null,
            "grid_auto_columns": null,
            "margin": null,
            "display": null,
            "left": null
          }
        }
      }
    }
  },
  "cells": [
    {
      "cell_type": "markdown",
      "metadata": {
        "id": "bk0XWLfMvDXU"
      },
      "source": [
        "# Fine tuning with S-BERT\n",
        "\n",
        "The models will be saved in this folder - https://drive.google.com/drive/folders/1ui5rywdrDdbBUeHph9AaA0VpfX01bbRe?usp=sharing\n"
      ]
    },
    {
      "cell_type": "markdown",
      "metadata": {
        "id": "tW6NlcIEvXbG"
      },
      "source": [
        "# Setup"
      ]
    },
    {
      "cell_type": "code",
      "metadata": {
        "collapsed": true,
        "id": "Ml7Gd4VgxW1d",
        "jupyter": {
          "outputs_hidden": true
        }
      },
      "source": [
        "# Install necessary libraries\n",
        "! pip install --quiet \\\n",
        "  scprep\\\n",
        "  spacy==3.0.5 \\\n",
        "  sentence_transformers==1.0.2 \\\n",
        "  phate==1.0.7 && \\\n",
        "  python -m spacy download es_core_news_lg\n",
        "\n",
        "# Setup connection with your own google drive\n",
        "from google.colab import drive\n",
        "drive.mount('/content/drive')\n",
        "\n",
        "# Restarting the runtime is required for the libraries to be active in the notebook\n",
        "import os\n",
        "os.kill(os.getpid(), 9)"
      ],
      "execution_count": null,
      "outputs": []
    },
    {
      "cell_type": "code",
      "metadata": {
        "colab": {
          "base_uri": "https://localhost:8080/"
        },
        "id": "TVeFAuzRLxy8",
        "outputId": "892b3969-ee88-494f-e1f6-0174b0af857b"
      },
      "source": [
        "# Clone branch from github\n",
        "!rm -rf policy-data-analyzer/\n",
        "! branch_name='refactoring_fine_tuning' && \\\n",
        "  git clone --branch $branch_name https://github.com/wri-dssg/policy-data-analyzer.git"
      ],
      "execution_count": 2,
      "outputs": [
        {
          "output_type": "stream",
          "text": [
            "Cloning into 'policy-data-analyzer'...\n",
            "remote: Enumerating objects: 211, done.\u001b[K\n",
            "remote: Counting objects: 100% (211/211), done.\u001b[K\n",
            "remote: Compressing objects: 100% (165/165), done.\u001b[K\n",
            "remote: Total 5474 (delta 104), reused 127 (delta 45), pack-reused 5263\u001b[K\n",
            "Receiving objects: 100% (5474/5474), 203.81 MiB | 32.00 MiB/s, done.\n",
            "Resolving deltas: 100% (2869/2869), done.\n",
            "Checking out files: 100% (1143/1143), done.\n"
          ],
          "name": "stdout"
        }
      ]
    },
    {
      "cell_type": "code",
      "metadata": {
        "colab": {
          "base_uri": "https://localhost:8080/"
        },
        "id": "UDjA5e9xd3Wk",
        "outputId": "4db9d0a0-0769-4470-9534-1271af274e66"
      },
      "source": [
        "#If you run this cell more than once, comment out this line because you are already in this folder and you will get an error\n",
        "import os\n",
        "os.chdir(\"policy-data-analyzer\") \n",
        "\n",
        "from tasks.fine_tuning_sbert.src.loops import *"
      ],
      "execution_count": 3,
      "outputs": [
        {
          "output_type": "stream",
          "text": [
            "Using the GPU\n"
          ],
          "name": "stdout"
        }
      ]
    },
    {
      "cell_type": "markdown",
      "metadata": {
        "id": "AlL8L6HzjeWr"
      },
      "source": [
        "# Data Loading"
      ]
    },
    {
      "cell_type": "code",
      "metadata": {
        "id": "jm-fbjB9Rkzx"
      },
      "source": [
        "\"\"\"\n",
        "MAKE SURE THAT THIS IS ALWAYS YOUR INDIVIDUAL NUMBER (FOR REASONS TO NOT OVERWRITE DATA)\n",
        "\"\"\"\n",
        "\n",
        "GLOBAL_EXPERIMENT_NUMBER = 6"
      ],
      "execution_count": 4,
      "outputs": []
    },
    {
      "cell_type": "code",
      "metadata": {
        "colab": {
          "base_uri": "https://localhost:8080/"
        },
        "id": "vBSx5aHAh4OF",
        "outputId": "344202c6-127e-4ec9-a235-b46304aaeb0e"
      },
      "source": [
        "experiment = \"EXP30\"\n",
        "classifier = \"Binary\"\n",
        "\n",
        "base_path = \"/content/drive/MyDrive/WRI-LatinAmerica-Talent\"\n",
        "\n",
        "data_path = f\"{base_path}/Cristina_Policy_Files/Tagged_sentence_lists/Spanish/datasets/{classifier}\"\n",
        "\n",
        "results_save_path = f\"{base_path}/Modeling/Model_reproducibility/Model_results/\\\n",
        "                                {classifier}ClassificationExperiments/{GLOBAL_EXPERIMENT_NUMBER}/\"\n",
        "\n",
        "if not os.path.exists(results_save_path):\n",
        "    os.makedirs(results_save_path)\n",
        "    print(f\"Making new experiment folder for experiment # {GLOBAL_EXPERIMENT_NUMBER}\")\n",
        "else:\n",
        "    print(\"Please do not overwrite existing models and their results from previous experiments\")\n",
        "    print(f\"You are writing to Experiment # {GLOBAL_EXPERIMENT_NUMBER}\")\n",
        "\n",
        "train_sents, train_labels, test_sents, test_labels = load_dataset(data_path, experiment)\n",
        "label_names = unique_labels(train_labels)\n",
        "numeric_train_labels = labels2numeric(train_labels, label_names)\n",
        "\n",
        "# plot_data_distribution(numeric_train_labels, label_names)\n",
        "# print(\"Train Sentence:\", train_sents[2], \"\\nTrain Label:\", train_labels[2])\n",
        "# print(\"Test Sentence:\", test_sents[2], \"\\nTest Label:\", test_labels[2])"
      ],
      "execution_count": 6,
      "outputs": [
        {
          "output_type": "stream",
          "text": [
            "Please do not overwrite existing models and their results from previous experiments\n",
            "You are writing to Experiment # 6\n"
          ],
          "name": "stdout"
        }
      ]
    },
    {
      "cell_type": "markdown",
      "metadata": {
        "id": "VbnqVcEzuWq5"
      },
      "source": [
        "# Grid Search Fine Tuning\n",
        "\n",
        "Stores only the parameters used in the grid search, together with the results - no model is stored"
      ]
    },
    {
      "cell_type": "code",
      "metadata": {
        "colab": {
          "base_uri": "https://localhost:8080/",
          "height": 1000,
          "referenced_widgets": [
            "a428fd5cbd3848d185fc02064e8df8f7",
            "fcf714210d7846b89a070c29ac60b046",
            "fd577113eae044be9a27706ee535e02f",
            "e27f40945d3f4850932960b9a0261db0",
            "8b510d14a7f44fb79d43daffff736da9",
            "a3b3da75c65a40a3a12c050f7b096204",
            "d20bae4f76d44561b25dc9a8d117bc63",
            "3a54edddc09c498d954ca5c5c8bf6db8",
            "f9cd2ad16ebd4224ae07a2a72ada6fb6",
            "6b2d796a5ec8455bb0a47391c00e2296",
            "594cad5a99b14f11b13652d595d3ea2c",
            "7e08a9ac094a41bba638dced5f1c8042",
            "7215ddda699c4ca99e3dbcaf7b78eb3b",
            "e2f06c9b06c34c0dadf1bfa21a06b1fc",
            "5bf311d1ff494c80871a45303f6cab47",
            "1a29acc968f547aeb2f6a0c7f6de6087",
            "3a2dbd98714f4ff5ad987e6f34573c30",
            "41d6cdb3ecb1496ca430e383907cdca4",
            "4e66910e4eb34e03a4cd61687f461e9f",
            "e7e011b4a13244f99fc39c425d18ba89",
            "9379ec18a72741de90a2c40139248be3",
            "56eb6e7ac8a94986a7050fdb47d432fa",
            "d37063750ad14e5bbb5be287335c9c9d",
            "1c2ebefa0ebb40be988e8306a79a9b57",
            "fa282a63116c427c90dd7b13ae0e21d6",
            "a24234bdd7fc4d2098ae77710a26fa6c",
            "a77f30d89e5b4a3caff114b1a4e4ceb0",
            "6cef224d1224464ca7bfeac2979aa24b",
            "ded5e7d8475c49b68d858c5d7a28eab9",
            "5c31fa0a441c4a17866b05c9790ec8d1",
            "81fdd2420d884b2b93707d8702d70ced",
            "c220186721b44cfb8e8ac1b3c0a435ab",
            "22bccaefee6f4e4cbfa7752c83c82e4a",
            "0d927dfcde974b8eb5d95f1ecc323c9f",
            "9c18cb9e58734996b67c782b18238127",
            "7ab58272a04a4f898a86f01d9a9e3403",
            "2d73ffa2aa25429a843eaea297345eb0",
            "3687e5241e2e48d294e576bc7442f056",
            "33029bae174f4dacbfa5fdc9d4ee2171",
            "7b20ec5f9b404f4ba7951206963ab452",
            "74d6e0927ae64a4f8df53cff707d2ed3",
            "81f77e188ea9454cb87ddd3f2a973b7c",
            "b2b6ffdf0d434301bc64c87a51b2dcff",
            "19b73818ebe64cc99f373b4ad28114df",
            "ac77f2659fef4e53ab2f747f0e641633",
            "1079136dee7d49bca5791d08d42e444c",
            "6d3129b01b244ca0857a3b3598c7d0b1",
            "720b8029979c43cda485e26390d5f4b9"
          ]
        },
        "collapsed": true,
        "id": "WLOlDtShj3gs",
        "jupyter": {
          "outputs_hidden": true
        },
        "outputId": "8d83a8bb-5348-4467-8691-4986bfb2f7fc"
      },
      "source": [
        "grid_search_params = {\n",
        "    \"all_test_perc\": [0.2],# 0.15, 0.25, 0.3],\n",
        "    \"model_names\": ['paraphrase-xlm-r-multilingual-v1'], #'stsb-xlm-r-multilingual', 'quora-distilbert-multilingual''distiluse-base-multilingual-sed-v2',\n",
        "    \"output_path\": results_save_path,\n",
        "    \"experiment\": GLOBAL_EXPERIMENT_NUMBER,\n",
        "    \"max_num_epochs\": 10,\n",
        "    \"baseline\": 0.001,\n",
        "    \"patience\": 5,\n",
        "    \"seeds\": [12]\n",
        "}\n",
        "\n",
        "grid_search_fine_tune_sbert(grid_search_params, train_sents, train_labels, test_sents, test_labels, label_names)"
      ],
      "execution_count": 7,
      "outputs": [
        {
          "output_type": "stream",
          "text": [
            "Grid Search Fine tuning parameters:\n",
            "{\n",
            "    \"all_test_perc\": [\n",
            "        0.2\n",
            "    ],\n",
            "    \"model_names\": [\n",
            "        \"paraphrase-xlm-r-multilingual-v1\"\n",
            "    ],\n",
            "    \"output_path\": \"/content/drive/MyDrive/WRI-LatinAmerica-Talent/Modeling/Model_reproducibility/Model_results/                                BinaryClassificationExperiments/6/\",\n",
            "    \"experiment\": 6,\n",
            "    \"max_num_epochs\": 10,\n",
            "    \"baseline\": 0.001,\n",
            "    \"patience\": 5,\n",
            "    \"seeds\": [\n",
            "        12\n",
            "    ],\n",
            "    \"eval_classifier\": \"SBERT\"\n",
            "}\n"
          ],
          "name": "stdout"
        },
        {
          "output_type": "display_data",
          "data": {
            "application/vnd.jupyter.widget-view+json": {
              "model_id": "a428fd5cbd3848d185fc02064e8df8f7",
              "version_minor": 0,
              "version_major": 2
            },
            "text/plain": [
              "HBox(children=(FloatProgress(value=0.0, max=1014059776.0), HTML(value='')))"
            ]
          },
          "metadata": {
            "tags": []
          }
        },
        {
          "output_type": "stream",
          "text": [
            "\n"
          ],
          "name": "stdout"
        },
        {
          "output_type": "display_data",
          "data": {
            "application/vnd.jupyter.widget-view+json": {
              "model_id": "f9cd2ad16ebd4224ae07a2a72ada6fb6",
              "version_minor": 0,
              "version_major": 2
            },
            "text/plain": [
              "HBox(children=(FloatProgress(value=0.0, description='Epoch', max=10.0, style=ProgressStyle(description_width='…"
            ]
          },
          "metadata": {
            "tags": []
          }
        },
        {
          "output_type": "display_data",
          "data": {
            "application/vnd.jupyter.widget-view+json": {
              "model_id": "3a2dbd98714f4ff5ad987e6f34573c30",
              "version_minor": 0,
              "version_major": 2
            },
            "text/plain": [
              "HBox(children=(FloatProgress(value=0.0, description='Iteration', max=41.0, style=ProgressStyle(description_wid…"
            ]
          },
          "metadata": {
            "tags": []
          }
        },
        {
          "output_type": "stream",
          "text": [
            "\n",
            "============================================================\n",
            "Current Score is: 0.8209876543209876\n",
            "Current ACC_LIST is: [1e-06, 0.8209876543209876]\n",
            "Epoch: 0\n",
            "Best score: 0.8209876543209876\n",
            "============================================================\n"
          ],
          "name": "stdout"
        },
        {
          "output_type": "display_data",
          "data": {
            "application/vnd.jupyter.widget-view+json": {
              "model_id": "fa282a63116c427c90dd7b13ae0e21d6",
              "version_minor": 0,
              "version_major": 2
            },
            "text/plain": [
              "HBox(children=(FloatProgress(value=0.0, description='Iteration', max=41.0, style=ProgressStyle(description_wid…"
            ]
          },
          "metadata": {
            "tags": []
          }
        },
        {
          "output_type": "stream",
          "text": [
            "\n",
            "============================================================\n",
            "Current Score is: 0.9382716049382716\n",
            "Current ACC_LIST is: [0.8209876543209876, 0.9382716049382716]\n",
            "Epoch: 1\n",
            "Best score: 0.9382716049382716\n",
            "============================================================\n"
          ],
          "name": "stdout"
        },
        {
          "output_type": "display_data",
          "data": {
            "application/vnd.jupyter.widget-view+json": {
              "model_id": "22bccaefee6f4e4cbfa7752c83c82e4a",
              "version_minor": 0,
              "version_major": 2
            },
            "text/plain": [
              "HBox(children=(FloatProgress(value=0.0, description='Iteration', max=41.0, style=ProgressStyle(description_wid…"
            ]
          },
          "metadata": {
            "tags": []
          }
        },
        {
          "output_type": "stream",
          "text": [
            "\n",
            "============================================================\n",
            "Current Score is: 0.9444444444444444\n",
            "Current ACC_LIST is: [0.8209876543209876, 0.9382716049382716, 0.9444444444444444]\n",
            "Epoch: 2\n",
            "Best score: 0.9444444444444444\n",
            "============================================================\n"
          ],
          "name": "stdout"
        },
        {
          "output_type": "display_data",
          "data": {
            "application/vnd.jupyter.widget-view+json": {
              "model_id": "74d6e0927ae64a4f8df53cff707d2ed3",
              "version_minor": 0,
              "version_major": 2
            },
            "text/plain": [
              "HBox(children=(FloatProgress(value=0.0, description='Iteration', max=41.0, style=ProgressStyle(description_wid…"
            ]
          },
          "metadata": {
            "tags": []
          }
        },
        {
          "output_type": "stream",
          "text": [
            "\n",
            "============================================================\n",
            "Current Score is: 0.9444444444444444\n",
            "Current ACC_LIST is: [0.8209876543209876, 0.9382716049382716, 0.9444444444444444, 0.9444444444444444]\n",
            "TRAINING EXITED. Best model has been found.\n",
            "Epoch: 3\n",
            "Best score: 0.9444444444444444\n",
            "============================================================\n"
          ],
          "name": "stdout"
        },
        {
          "output_type": "display_data",
          "data": {
            "image/png": "[encoded data removed]",
            "text/plain": [
              "<Figure size 432x288 with 1 Axes>"
            ]
          },
          "metadata": {
            "tags": [],
            "needs_background": "light"
          }
        },
        {
          "output_type": "stream",
          "text": [
            "Time taken for fine-tuning: 00:02:09.67\n",
            "Classifying sentences...\n"
          ],
          "name": "stdout"
        },
        {
          "output_type": "stream",
          "text": [
            "100%|██████████| 203/203 [00:04<00:00, 42.84it/s]\n"
          ],
          "name": "stderr"
        },
        {
          "output_type": "stream",
          "text": [
            "[t-SNE] Computing 151 nearest neighbors...\n",
            "[t-SNE] Indexed 203 samples in 0.001s...\n",
            "[t-SNE] Computed neighbors for 203 samples in 0.013s...\n",
            "[t-SNE] Computed conditional probabilities for sample 203 / 203\n",
            "[t-SNE] Mean sigma: 11.205881\n",
            "[t-SNE] KL divergence after 250 iterations with early exaggeration: 56.897022\n",
            "[t-SNE] KL divergence after 750 iterations: 0.422733\n"
          ],
          "name": "stdout"
        },
        {
          "output_type": "stream",
          "text": [
            "100%|██████████| 203/203 [00:00<00:00, 2810.60it/s]\n"
          ],
          "name": "stderr"
        },
        {
          "output_type": "stream",
          "text": [
            "Evaluating predictions...\n",
            "Stored confusion matrix: /content/drive/MyDrive/WRI-LatinAmerica-Talent/Modeling/Model_reproducibility/Model_results/                                BinaryClassificationExperiments/6//SBERT_model=paraphrase-xlm-r-multilingual-v1_test-perc=0.2_n-epoch=10_seed=12_cm.png\n"
          ],
          "name": "stdout"
        },
        {
          "output_type": "display_data",
          "data": {
            "image/png": "[encoded data removed]",
            "text/plain": [
              "<Figure size 1728x288 with 2 Axes>"
            ]
          },
          "metadata": {
            "tags": [],
            "needs_background": "light"
          }
        },
        {
          "output_type": "display_data",
          "data": {
            "image/png": "[encoded data removed]",
            "text/plain": [
              "<Figure size 576x432 with 2 Axes>"
            ]
          },
          "metadata": {
            "tags": [],
            "needs_background": "light"
          }
        },
        {
          "output_type": "stream",
          "text": [
            "Macro/Weighted Avg F1-score: [0.37047346958708766, 0.4010263357286059]\n"
          ],
          "name": "stdout"
        }
      ]
    },
    {
      "cell_type": "markdown",
      "metadata": {
        "id": "3ueQo9EaPr1v"
      },
      "source": [
        "## Loading saved model"
      ]
    },
    {
      "cell_type": "code",
      "metadata": {
        "colab": {
          "base_uri": "https://localhost:8080/",
          "height": 87
        },
        "collapsed": true,
        "id": "48__Sl37Ptcp",
        "jupyter": {
          "outputs_hidden": true
        },
        "outputId": "ea7bf609-2a53-4e81-daa2-ea9179852df8"
      },
      "source": [
        "saved_model = EarlyStoppingSentenceTransformer(model_name_or_path=results_save_path)\n",
        "str(saved_model)"
      ],
      "execution_count": 8,
      "outputs": [
        {
          "output_type": "execute_result",
          "data": {
            "application/vnd.google.colaboratory.intrinsic+json": {
              "type": "string"
            },
            "text/plain": [
              "'EarlyStoppingSentenceTransformer(\\n  (0): Transformer(\\n    (auto_model): XLMRobertaModel(\\n      (embeddings): RobertaEmbeddings(\\n        (word_embeddings): Embedding(250002, 768, padding_idx=1)\\n        (position_embeddings): Embedding(514, 768, padding_idx=1)\\n        (token_type_embeddings): Embedding(1, 768)\\n        (LayerNorm): LayerNorm((768,), eps=1e-05, elementwise_affine=True)\\n        (dropout): Dropout(p=0.1, inplace=False)\\n      )\\n      (encoder): RobertaEncoder(\\n        (layer): ModuleList(\\n          (0): RobertaLayer(\\n            (attention): RobertaAttention(\\n              (self): RobertaSelfAttention(\\n                (query): Linear(in_features=768, out_features=768, bias=True)\\n                (key): Linear(in_features=768, out_features=768, bias=True)\\n                (value): Linear(in_features=768, out_features=768, bias=True)\\n                (dropout): Dropout(p=0.1, inplace=False)\\n              )\\n              (output): RobertaSelfOutput(\\n                (dense): Linear(in_features=768, out_features=768, bias=True)\\n                (LayerNorm): LayerNorm((768,), eps=1e-05, elementwise_affine=True)\\n                (dropout): Dropout(p=0.1, inplace=False)\\n              )\\n            )\\n            (intermediate): RobertaIntermediate(\\n              (dense): Linear(in_features=768, out_features=3072, bias=True)\\n            )\\n            (output): RobertaOutput(\\n              (dense): Linear(in_features=3072, out_features=768, bias=True)\\n              (LayerNorm): LayerNorm((768,), eps=1e-05, elementwise_affine=True)\\n              (dropout): Dropout(p=0.1, inplace=False)\\n            )\\n          )\\n          (1): RobertaLayer(\\n            (attention): RobertaAttention(\\n              (self): RobertaSelfAttention(\\n                (query): Linear(in_features=768, out_features=768, bias=True)\\n                (key): Linear(in_features=768, out_features=768, bias=True)\\n                (value): Linear(in_features=768, out_features=768, bias=True)\\n                (dropout): Dropout(p=0.1, inplace=False)\\n              )\\n              (output): RobertaSelfOutput(\\n                (dense): Linear(in_features=768, out_features=768, bias=True)\\n                (LayerNorm): LayerNorm((768,), eps=1e-05, elementwise_affine=True)\\n                (dropout): Dropout(p=0.1, inplace=False)\\n              )\\n            )\\n            (intermediate): RobertaIntermediate(\\n              (dense): Linear(in_features=768, out_features=3072, bias=True)\\n            )\\n            (output): RobertaOutput(\\n              (dense): Linear(in_features=3072, out_features=768, bias=True)\\n              (LayerNorm): LayerNorm((768,), eps=1e-05, elementwise_affine=True)\\n              (dropout): Dropout(p=0.1, inplace=False)\\n            )\\n          )\\n          (2): RobertaLayer(\\n            (attention): RobertaAttention(\\n              (self): RobertaSelfAttention(\\n                (query): Linear(in_features=768, out_features=768, bias=True)\\n                (key): Linear(in_features=768, out_features=768, bias=True)\\n                (value): Linear(in_features=768, out_features=768, bias=True)\\n                (dropout): Dropout(p=0.1, inplace=False)\\n              )\\n              (output): RobertaSelfOutput(\\n                (dense): Linear(in_features=768, out_features=768, bias=True)\\n                (LayerNorm): LayerNorm((768,), eps=1e-05, elementwise_affine=True)\\n                (dropout): Dropout(p=0.1, inplace=False)\\n              )\\n            )\\n            (intermediate): RobertaIntermediate(\\n              (dense): Linear(in_features=768, out_features=3072, bias=True)\\n            )\\n            (output): RobertaOutput(\\n              (dense): Linear(in_features=3072, out_features=768, bias=True)\\n              (LayerNorm): LayerNorm((768,), eps=1e-05, elementwise_affine=True)\\n              (dropout): Dropout(p=0.1, inplace=False)\\n            )\\n          )\\n          (3): RobertaLayer(\\n            (attention): RobertaAttention(\\n              (self): RobertaSelfAttention(\\n                (query): Linear(in_features=768, out_features=768, bias=True)\\n                (key): Linear(in_features=768, out_features=768, bias=True)\\n                (value): Linear(in_features=768, out_features=768, bias=True)\\n                (dropout): Dropout(p=0.1, inplace=False)\\n              )\\n              (output): RobertaSelfOutput(\\n                (dense): Linear(in_features=768, out_features=768, bias=True)\\n                (LayerNorm): LayerNorm((768,), eps=1e-05, elementwise_affine=True)\\n                (dropout): Dropout(p=0.1, inplace=False)\\n              )\\n            )\\n            (intermediate): RobertaIntermediate(\\n              (dense): Linear(in_features=768, out_features=3072, bias=True)\\n            )\\n            (output): RobertaOutput(\\n              (dense): Linear(in_features=3072, out_features=768, bias=True)\\n              (LayerNorm): LayerNorm((768,), eps=1e-05, elementwise_affine=True)\\n              (dropout): Dropout(p=0.1, inplace=False)\\n            )\\n          )\\n          (4): RobertaLayer(\\n            (attention): RobertaAttention(\\n              (self): RobertaSelfAttention(\\n                (query): Linear(in_features=768, out_features=768, bias=True)\\n                (key): Linear(in_features=768, out_features=768, bias=True)\\n                (value): Linear(in_features=768, out_features=768, bias=True)\\n                (dropout): Dropout(p=0.1, inplace=False)\\n              )\\n              (output): RobertaSelfOutput(\\n                (dense): Linear(in_features=768, out_features=768, bias=True)\\n                (LayerNorm): LayerNorm((768,), eps=1e-05, elementwise_affine=True)\\n                (dropout): Dropout(p=0.1, inplace=False)\\n              )\\n            )\\n            (intermediate): RobertaIntermediate(\\n              (dense): Linear(in_features=768, out_features=3072, bias=True)\\n            )\\n            (output): RobertaOutput(\\n              (dense): Linear(in_features=3072, out_features=768, bias=True)\\n              (LayerNorm): LayerNorm((768,), eps=1e-05, elementwise_affine=True)\\n              (dropout): Dropout(p=0.1, inplace=False)\\n            )\\n          )\\n          (5): RobertaLayer(\\n            (attention): RobertaAttention(\\n              (self): RobertaSelfAttention(\\n                (query): Linear(in_features=768, out_features=768, bias=True)\\n                (key): Linear(in_features=768, out_features=768, bias=True)\\n                (value): Linear(in_features=768, out_features=768, bias=True)\\n                (dropout): Dropout(p=0.1, inplace=False)\\n              )\\n              (output): RobertaSelfOutput(\\n                (dense): Linear(in_features=768, out_features=768, bias=True)\\n                (LayerNorm): LayerNorm((768,), eps=1e-05, elementwise_affine=True)\\n                (dropout): Dropout(p=0.1, inplace=False)\\n              )\\n            )\\n            (intermediate): RobertaIntermediate(\\n              (dense): Linear(in_features=768, out_features=3072, bias=True)\\n            )\\n            (output): RobertaOutput(\\n              (dense): Linear(in_features=3072, out_features=768, bias=True)\\n              (LayerNorm): LayerNorm((768,), eps=1e-05, elementwise_affine=True)\\n              (dropout): Dropout(p=0.1, inplace=False)\\n            )\\n          )\\n          (6): RobertaLayer(\\n            (attention): RobertaAttention(\\n              (self): RobertaSelfAttention(\\n                (query): Linear(in_features=768, out_features=768, bias=True)\\n                (key): Linear(in_features=768, out_features=768, bias=True)\\n                (value): Linear(in_features=768, out_features=768, bias=True)\\n                (dropout): Dropout(p=0.1, inplace=False)\\n              )\\n              (output): RobertaSelfOutput(\\n                (dense): Linear(in_features=768, out_features=768, bias=True)\\n                (LayerNorm): LayerNorm((768,), eps=1e-05, elementwise_affine=True)\\n                (dropout): Dropout(p=0.1, inplace=False)\\n              )\\n            )\\n            (intermediate): RobertaIntermediate(\\n              (dense): Linear(in_features=768, out_features=3072, bias=True)\\n            )\\n            (output): RobertaOutput(\\n              (dense): Linear(in_features=3072, out_features=768, bias=True)\\n              (LayerNorm): LayerNorm((768,), eps=1e-05, elementwise_affine=True)\\n              (dropout): Dropout(p=0.1, inplace=False)\\n            )\\n          )\\n          (7): RobertaLayer(\\n            (attention): RobertaAttention(\\n              (self): RobertaSelfAttention(\\n                (query): Linear(in_features=768, out_features=768, bias=True)\\n                (key): Linear(in_features=768, out_features=768, bias=True)\\n                (value): Linear(in_features=768, out_features=768, bias=True)\\n                (dropout): Dropout(p=0.1, inplace=False)\\n              )\\n              (output): RobertaSelfOutput(\\n                (dense): Linear(in_features=768, out_features=768, bias=True)\\n                (LayerNorm): LayerNorm((768,), eps=1e-05, elementwise_affine=True)\\n                (dropout): Dropout(p=0.1, inplace=False)\\n              )\\n            )\\n            (intermediate): RobertaIntermediate(\\n              (dense): Linear(in_features=768, out_features=3072, bias=True)\\n            )\\n            (output): RobertaOutput(\\n              (dense): Linear(in_features=3072, out_features=768, bias=True)\\n              (LayerNorm): LayerNorm((768,), eps=1e-05, elementwise_affine=True)\\n              (dropout): Dropout(p=0.1, inplace=False)\\n            )\\n          )\\n          (8): RobertaLayer(\\n            (attention): RobertaAttention(\\n              (self): RobertaSelfAttention(\\n                (query): Linear(in_features=768, out_features=768, bias=True)\\n                (key): Linear(in_features=768, out_features=768, bias=True)\\n                (value): Linear(in_features=768, out_features=768, bias=True)\\n                (dropout): Dropout(p=0.1, inplace=False)\\n              )\\n              (output): RobertaSelfOutput(\\n                (dense): Linear(in_features=768, out_features=768, bias=True)\\n                (LayerNorm): LayerNorm((768,), eps=1e-05, elementwise_affine=True)\\n                (dropout): Dropout(p=0.1, inplace=False)\\n              )\\n            )\\n            (intermediate): RobertaIntermediate(\\n              (dense): Linear(in_features=768, out_features=3072, bias=True)\\n            )\\n            (output): RobertaOutput(\\n              (dense): Linear(in_features=3072, out_features=768, bias=True)\\n              (LayerNorm): LayerNorm((768,), eps=1e-05, elementwise_affine=True)\\n              (dropout): Dropout(p=0.1, inplace=False)\\n            )\\n          )\\n          (9): RobertaLayer(\\n            (attention): RobertaAttention(\\n              (self): RobertaSelfAttention(\\n                (query): Linear(in_features=768, out_features=768, bias=True)\\n                (key): Linear(in_features=768, out_features=768, bias=True)\\n                (value): Linear(in_features=768, out_features=768, bias=True)\\n                (dropout): Dropout(p=0.1, inplace=False)\\n              )\\n              (output): RobertaSelfOutput(\\n                (dense): Linear(in_features=768, out_features=768, bias=True)\\n                (LayerNorm): LayerNorm((768,), eps=1e-05, elementwise_affine=True)\\n                (dropout): Dropout(p=0.1, inplace=False)\\n              )\\n            )\\n            (intermediate): RobertaIntermediate(\\n              (dense): Linear(in_features=768, out_features=3072, bias=True)\\n            )\\n            (output): RobertaOutput(\\n              (dense): Linear(in_features=3072, out_features=768, bias=True)\\n              (LayerNorm): LayerNorm((768,), eps=1e-05, elementwise_affine=True)\\n              (dropout): Dropout(p=0.1, inplace=False)\\n            )\\n          )\\n          (10): RobertaLayer(\\n            (attention): RobertaAttention(\\n              (self): RobertaSelfAttention(\\n                (query): Linear(in_features=768, out_features=768, bias=True)\\n                (key): Linear(in_features=768, out_features=768, bias=True)\\n                (value): Linear(in_features=768, out_features=768, bias=True)\\n                (dropout): Dropout(p=0.1, inplace=False)\\n              )\\n              (output): RobertaSelfOutput(\\n                (dense): Linear(in_features=768, out_features=768, bias=True)\\n                (LayerNorm): LayerNorm((768,), eps=1e-05, elementwise_affine=True)\\n                (dropout): Dropout(p=0.1, inplace=False)\\n              )\\n            )\\n            (intermediate): RobertaIntermediate(\\n              (dense): Linear(in_features=768, out_features=3072, bias=True)\\n            )\\n            (output): RobertaOutput(\\n              (dense): Linear(in_features=3072, out_features=768, bias=True)\\n              (LayerNorm): LayerNorm((768,), eps=1e-05, elementwise_affine=True)\\n              (dropout): Dropout(p=0.1, inplace=False)\\n            )\\n          )\\n          (11): RobertaLayer(\\n            (attention): RobertaAttention(\\n              (self): RobertaSelfAttention(\\n                (query): Linear(in_features=768, out_features=768, bias=True)\\n                (key): Linear(in_features=768, out_features=768, bias=True)\\n                (value): Linear(in_features=768, out_features=768, bias=True)\\n                (dropout): Dropout(p=0.1, inplace=False)\\n              )\\n              (output): RobertaSelfOutput(\\n                (dense): Linear(in_features=768, out_features=768, bias=True)\\n                (LayerNorm): LayerNorm((768,), eps=1e-05, elementwise_affine=True)\\n                (dropout): Dropout(p=0.1, inplace=False)\\n              )\\n            )\\n            (intermediate): RobertaIntermediate(\\n              (dense): Linear(in_features=768, out_features=3072, bias=True)\\n            )\\n            (output): RobertaOutput(\\n              (dense): Linear(in_features=3072, out_features=768, bias=True)\\n              (LayerNorm): LayerNorm((768,), eps=1e-05, elementwise_affine=True)\\n              (dropout): Dropout(p=0.1, inplace=False)\\n            )\\n          )\\n        )\\n      )\\n      (pooler): RobertaPooler(\\n        (dense): Linear(in_features=768, out_features=768, bias=True)\\n        (activation): Tanh()\\n      )\\n    )\\n  )\\n  (1): Pooling()\\n)'"
            ]
          },
          "metadata": {
            "tags": []
          },
          "execution_count": 8
        }
      ]
    },
    {
      "cell_type": "markdown",
      "metadata": {
        "id": "yaIYp4FejuMC"
      },
      "source": [
        "## Define evaluation classifier (optional)\n",
        "If using a sklearn or other non-SBERT model as a classifier for evaluation, uncomment one of these models (or add your own and name it `clf`)"
      ]
    },
    {
      "cell_type": "code",
      "metadata": {
        "id": "ri54278ApZIA"
      },
      "source": [
        "from lightgbm import LGBMClassifier\n",
        "from sklearn import svm\n",
        "from sklearn.ensemble import RandomForestClassifier"
      ],
      "execution_count": null,
      "outputs": []
    },
    {
      "cell_type": "code",
      "metadata": {
        "id": "l9ycZoZ5yU0d"
      },
      "source": [
        "clf = LGBMClassifier(n_estimators=2000,\n",
        "                      feature_fraction=0.06,\n",
        "                      bagging_fraction=0.67,\n",
        "                      bagging_freq=1,\n",
        "                      verbose=0,\n",
        "                      n_jobs=6,\n",
        "                      random_state=69420)\n",
        "\n",
        "clf = svm.SVC(gamma=0.001, C=100.)\n",
        "\n",
        "clf = RandomForestClassifier(n_estimators=500,\n",
        "                            max_features=0.06,\n",
        "                            n_jobs=6,\n",
        "                            random_state=69420)"
      ],
      "execution_count": null,
      "outputs": []
    }
  ]
}