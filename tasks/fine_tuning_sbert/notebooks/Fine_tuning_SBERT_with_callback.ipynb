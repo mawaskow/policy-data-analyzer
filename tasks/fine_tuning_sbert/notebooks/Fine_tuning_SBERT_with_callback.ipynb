{
  "nbformat": 4,
  "nbformat_minor": 0,
  "metadata": {
    "accelerator": "GPU",
    "colab": {
      "name": "Fine_tuning_SBERT_with_callback.ipynb",
      "provenance": [],
      "collapsed_sections": []
    },
    "kernelspec": {
      "display_name": "Python 3",
      "language": "python",
      "name": "python3"
    },
    "language_info": {
      "codemirror_mode": {
        "name": "ipython",
        "version": 3
      },
      "file_extension": ".py",
      "mimetype": "text/x-python",
      "name": "python",
      "nbconvert_exporter": "python",
      "pygments_lexer": "ipython3",
      "version": "3.7.6"
    },
    "widgets": {
      "application/vnd.jupyter.widget-state+json": {
        "521472f6774441f3a2c5ec498bc7bb08": {
          "model_module": "@jupyter-widgets/controls",
          "model_name": "HBoxModel",
          "state": {
            "_view_name": "HBoxView",
            "_dom_classes": [],
            "_model_name": "HBoxModel",
            "_view_module": "@jupyter-widgets/controls",
            "_model_module_version": "1.5.0",
            "_view_count": null,
            "_view_module_version": "1.5.0",
            "box_style": "",
            "layout": "IPY_MODEL_c4c9c0a8b0734238bcfbd5f34e17c643",
            "_model_module": "@jupyter-widgets/controls",
            "children": [
              "IPY_MODEL_5f7ff7235c1d4cd1948aaa8a594feff8",
              "IPY_MODEL_bbfad485285e493c9f1c8b9f21b95249"
            ]
          }
        },
        "c4c9c0a8b0734238bcfbd5f34e17c643": {
          "model_module": "@jupyter-widgets/base",
          "model_name": "LayoutModel",
          "state": {
            "_view_name": "LayoutView",
            "grid_template_rows": null,
            "right": null,
            "justify_content": null,
            "_view_module": "@jupyter-widgets/base",
            "overflow": null,
            "_model_module_version": "1.2.0",
            "_view_count": null,
            "flex_flow": null,
            "width": null,
            "min_width": null,
            "border": null,
            "align_items": null,
            "bottom": null,
            "_model_module": "@jupyter-widgets/base",
            "top": null,
            "grid_column": null,
            "overflow_y": null,
            "overflow_x": null,
            "grid_auto_flow": null,
            "grid_area": null,
            "grid_template_columns": null,
            "flex": null,
            "_model_name": "LayoutModel",
            "justify_items": null,
            "grid_row": null,
            "max_height": null,
            "align_content": null,
            "visibility": null,
            "align_self": null,
            "height": null,
            "min_height": null,
            "padding": null,
            "grid_auto_rows": null,
            "grid_gap": null,
            "max_width": null,
            "order": null,
            "_view_module_version": "1.2.0",
            "grid_template_areas": null,
            "object_position": null,
            "object_fit": null,
            "grid_auto_columns": null,
            "margin": null,
            "display": null,
            "left": null
          }
        },
        "5f7ff7235c1d4cd1948aaa8a594feff8": {
          "model_module": "@jupyter-widgets/controls",
          "model_name": "FloatProgressModel",
          "state": {
            "_view_name": "ProgressView",
            "style": "IPY_MODEL_282a46c0433f43e8b2cdaac7ca26a42f",
            "_dom_classes": [],
            "description": "100%",
            "_model_name": "FloatProgressModel",
            "bar_style": "success",
            "max": 1014059776,
            "_view_module": "@jupyter-widgets/controls",
            "_model_module_version": "1.5.0",
            "value": 1014059776,
            "_view_count": null,
            "_view_module_version": "1.5.0",
            "orientation": "horizontal",
            "min": 0,
            "description_tooltip": null,
            "_model_module": "@jupyter-widgets/controls",
            "layout": "IPY_MODEL_990679d00d5c470698a5541b7a93f60b"
          }
        },
        "bbfad485285e493c9f1c8b9f21b95249": {
          "model_module": "@jupyter-widgets/controls",
          "model_name": "HTMLModel",
          "state": {
            "_view_name": "HTMLView",
            "style": "IPY_MODEL_408aba743d5749b2a0a9b867c6cec227",
            "_dom_classes": [],
            "description": "",
            "_model_name": "HTMLModel",
            "placeholder": "​",
            "_view_module": "@jupyter-widgets/controls",
            "_model_module_version": "1.5.0",
            "value": " 1.01G/1.01G [00:19&lt;00:00, 51.0MB/s]",
            "_view_count": null,
            "_view_module_version": "1.5.0",
            "description_tooltip": null,
            "_model_module": "@jupyter-widgets/controls",
            "layout": "IPY_MODEL_8297bdcd350741f49c3b1d41fde6e5ca"
          }
        },
        "282a46c0433f43e8b2cdaac7ca26a42f": {
          "model_module": "@jupyter-widgets/controls",
          "model_name": "ProgressStyleModel",
          "state": {
            "_view_name": "StyleView",
            "_model_name": "ProgressStyleModel",
            "description_width": "initial",
            "_view_module": "@jupyter-widgets/base",
            "_model_module_version": "1.5.0",
            "_view_count": null,
            "_view_module_version": "1.2.0",
            "bar_color": null,
            "_model_module": "@jupyter-widgets/controls"
          }
        },
        "990679d00d5c470698a5541b7a93f60b": {
          "model_module": "@jupyter-widgets/base",
          "model_name": "LayoutModel",
          "state": {
            "_view_name": "LayoutView",
            "grid_template_rows": null,
            "right": null,
            "justify_content": null,
            "_view_module": "@jupyter-widgets/base",
            "overflow": null,
            "_model_module_version": "1.2.0",
            "_view_count": null,
            "flex_flow": null,
            "width": null,
            "min_width": null,
            "border": null,
            "align_items": null,
            "bottom": null,
            "_model_module": "@jupyter-widgets/base",
            "top": null,
            "grid_column": null,
            "overflow_y": null,
            "overflow_x": null,
            "grid_auto_flow": null,
            "grid_area": null,
            "grid_template_columns": null,
            "flex": null,
            "_model_name": "LayoutModel",
            "justify_items": null,
            "grid_row": null,
            "max_height": null,
            "align_content": null,
            "visibility": null,
            "align_self": null,
            "height": null,
            "min_height": null,
            "padding": null,
            "grid_auto_rows": null,
            "grid_gap": null,
            "max_width": null,
            "order": null,
            "_view_module_version": "1.2.0",
            "grid_template_areas": null,
            "object_position": null,
            "object_fit": null,
            "grid_auto_columns": null,
            "margin": null,
            "display": null,
            "left": null
          }
        },
        "408aba743d5749b2a0a9b867c6cec227": {
          "model_module": "@jupyter-widgets/controls",
          "model_name": "DescriptionStyleModel",
          "state": {
            "_view_name": "StyleView",
            "_model_name": "DescriptionStyleModel",
            "description_width": "",
            "_view_module": "@jupyter-widgets/base",
            "_model_module_version": "1.5.0",
            "_view_count": null,
            "_view_module_version": "1.2.0",
            "_model_module": "@jupyter-widgets/controls"
          }
        },
        "8297bdcd350741f49c3b1d41fde6e5ca": {
          "model_module": "@jupyter-widgets/base",
          "model_name": "LayoutModel",
          "state": {
            "_view_name": "LayoutView",
            "grid_template_rows": null,
            "right": null,
            "justify_content": null,
            "_view_module": "@jupyter-widgets/base",
            "overflow": null,
            "_model_module_version": "1.2.0",
            "_view_count": null,
            "flex_flow": null,
            "width": null,
            "min_width": null,
            "border": null,
            "align_items": null,
            "bottom": null,
            "_model_module": "@jupyter-widgets/base",
            "top": null,
            "grid_column": null,
            "overflow_y": null,
            "overflow_x": null,
            "grid_auto_flow": null,
            "grid_area": null,
            "grid_template_columns": null,
            "flex": null,
            "_model_name": "LayoutModel",
            "justify_items": null,
            "grid_row": null,
            "max_height": null,
            "align_content": null,
            "visibility": null,
            "align_self": null,
            "height": null,
            "min_height": null,
            "padding": null,
            "grid_auto_rows": null,
            "grid_gap": null,
            "max_width": null,
            "order": null,
            "_view_module_version": "1.2.0",
            "grid_template_areas": null,
            "object_position": null,
            "object_fit": null,
            "grid_auto_columns": null,
            "margin": null,
            "display": null,
            "left": null
          }
        },
        "feb96794587249fbb888bd542381d564": {
          "model_module": "@jupyter-widgets/controls",
          "model_name": "HBoxModel",
          "state": {
            "_view_name": "HBoxView",
            "_dom_classes": [],
            "_model_name": "HBoxModel",
            "_view_module": "@jupyter-widgets/controls",
            "_model_module_version": "1.5.0",
            "_view_count": null,
            "_view_module_version": "1.5.0",
            "box_style": "",
            "layout": "IPY_MODEL_2b2534ec25164962b895e5d4f1d09afd",
            "_model_module": "@jupyter-widgets/controls",
            "children": [
              "IPY_MODEL_467163757c3a4d0aa2ec735ec5b59ee3",
              "IPY_MODEL_1dc5eedef28e426da11a79dfe8f46c58"
            ]
          }
        },
        "2b2534ec25164962b895e5d4f1d09afd": {
          "model_module": "@jupyter-widgets/base",
          "model_name": "LayoutModel",
          "state": {
            "_view_name": "LayoutView",
            "grid_template_rows": null,
            "right": null,
            "justify_content": null,
            "_view_module": "@jupyter-widgets/base",
            "overflow": null,
            "_model_module_version": "1.2.0",
            "_view_count": null,
            "flex_flow": null,
            "width": null,
            "min_width": null,
            "border": null,
            "align_items": null,
            "bottom": null,
            "_model_module": "@jupyter-widgets/base",
            "top": null,
            "grid_column": null,
            "overflow_y": null,
            "overflow_x": null,
            "grid_auto_flow": null,
            "grid_area": null,
            "grid_template_columns": null,
            "flex": null,
            "_model_name": "LayoutModel",
            "justify_items": null,
            "grid_row": null,
            "max_height": null,
            "align_content": null,
            "visibility": null,
            "align_self": null,
            "height": null,
            "min_height": null,
            "padding": null,
            "grid_auto_rows": null,
            "grid_gap": null,
            "max_width": null,
            "order": null,
            "_view_module_version": "1.2.0",
            "grid_template_areas": null,
            "object_position": null,
            "object_fit": null,
            "grid_auto_columns": null,
            "margin": null,
            "display": null,
            "left": null
          }
        },
        "467163757c3a4d0aa2ec735ec5b59ee3": {
          "model_module": "@jupyter-widgets/controls",
          "model_name": "FloatProgressModel",
          "state": {
            "_view_name": "ProgressView",
            "style": "IPY_MODEL_fa00cf3af74a4267b40f45bb0ef1b942",
            "_dom_classes": [],
            "description": "Epoch:  30%",
            "_model_name": "FloatProgressModel",
            "bar_style": "danger",
            "max": 10,
            "_view_module": "@jupyter-widgets/controls",
            "_model_module_version": "1.5.0",
            "value": 3,
            "_view_count": null,
            "_view_module_version": "1.5.0",
            "orientation": "horizontal",
            "min": 0,
            "description_tooltip": null,
            "_model_module": "@jupyter-widgets/controls",
            "layout": "IPY_MODEL_878518470a7c4202a625ef6c2927e5e6"
          }
        },
        "1dc5eedef28e426da11a79dfe8f46c58": {
          "model_module": "@jupyter-widgets/controls",
          "model_name": "HTMLModel",
          "state": {
            "_view_name": "HTMLView",
            "style": "IPY_MODEL_ede004198f7840e2b13174d32f90c4f3",
            "_dom_classes": [],
            "description": "",
            "_model_name": "HTMLModel",
            "placeholder": "​",
            "_view_module": "@jupyter-widgets/controls",
            "_model_module_version": "1.5.0",
            "value": " 3/10 [01:37&lt;03:02, 26.03s/it]",
            "_view_count": null,
            "_view_module_version": "1.5.0",
            "description_tooltip": null,
            "_model_module": "@jupyter-widgets/controls",
            "layout": "IPY_MODEL_2840a2b02f2f4bcfbbc724eee0e55236"
          }
        },
        "fa00cf3af74a4267b40f45bb0ef1b942": {
          "model_module": "@jupyter-widgets/controls",
          "model_name": "ProgressStyleModel",
          "state": {
            "_view_name": "StyleView",
            "_model_name": "ProgressStyleModel",
            "description_width": "initial",
            "_view_module": "@jupyter-widgets/base",
            "_model_module_version": "1.5.0",
            "_view_count": null,
            "_view_module_version": "1.2.0",
            "bar_color": null,
            "_model_module": "@jupyter-widgets/controls"
          }
        },
        "878518470a7c4202a625ef6c2927e5e6": {
          "model_module": "@jupyter-widgets/base",
          "model_name": "LayoutModel",
          "state": {
            "_view_name": "LayoutView",
            "grid_template_rows": null,
            "right": null,
            "justify_content": null,
            "_view_module": "@jupyter-widgets/base",
            "overflow": null,
            "_model_module_version": "1.2.0",
            "_view_count": null,
            "flex_flow": null,
            "width": null,
            "min_width": null,
            "border": null,
            "align_items": null,
            "bottom": null,
            "_model_module": "@jupyter-widgets/base",
            "top": null,
            "grid_column": null,
            "overflow_y": null,
            "overflow_x": null,
            "grid_auto_flow": null,
            "grid_area": null,
            "grid_template_columns": null,
            "flex": null,
            "_model_name": "LayoutModel",
            "justify_items": null,
            "grid_row": null,
            "max_height": null,
            "align_content": null,
            "visibility": null,
            "align_self": null,
            "height": null,
            "min_height": null,
            "padding": null,
            "grid_auto_rows": null,
            "grid_gap": null,
            "max_width": null,
            "order": null,
            "_view_module_version": "1.2.0",
            "grid_template_areas": null,
            "object_position": null,
            "object_fit": null,
            "grid_auto_columns": null,
            "margin": null,
            "display": null,
            "left": null
          }
        },
        "ede004198f7840e2b13174d32f90c4f3": {
          "model_module": "@jupyter-widgets/controls",
          "model_name": "DescriptionStyleModel",
          "state": {
            "_view_name": "StyleView",
            "_model_name": "DescriptionStyleModel",
            "description_width": "",
            "_view_module": "@jupyter-widgets/base",
            "_model_module_version": "1.5.0",
            "_view_count": null,
            "_view_module_version": "1.2.0",
            "_model_module": "@jupyter-widgets/controls"
          }
        },
        "2840a2b02f2f4bcfbbc724eee0e55236": {
          "model_module": "@jupyter-widgets/base",
          "model_name": "LayoutModel",
          "state": {
            "_view_name": "LayoutView",
            "grid_template_rows": null,
            "right": null,
            "justify_content": null,
            "_view_module": "@jupyter-widgets/base",
            "overflow": null,
            "_model_module_version": "1.2.0",
            "_view_count": null,
            "flex_flow": null,
            "width": null,
            "min_width": null,
            "border": null,
            "align_items": null,
            "bottom": null,
            "_model_module": "@jupyter-widgets/base",
            "top": null,
            "grid_column": null,
            "overflow_y": null,
            "overflow_x": null,
            "grid_auto_flow": null,
            "grid_area": null,
            "grid_template_columns": null,
            "flex": null,
            "_model_name": "LayoutModel",
            "justify_items": null,
            "grid_row": null,
            "max_height": null,
            "align_content": null,
            "visibility": null,
            "align_self": null,
            "height": null,
            "min_height": null,
            "padding": null,
            "grid_auto_rows": null,
            "grid_gap": null,
            "max_width": null,
            "order": null,
            "_view_module_version": "1.2.0",
            "grid_template_areas": null,
            "object_position": null,
            "object_fit": null,
            "grid_auto_columns": null,
            "margin": null,
            "display": null,
            "left": null
          }
        },
        "e6782b7cc37e4b6cb7206d595d628cf5": {
          "model_module": "@jupyter-widgets/controls",
          "model_name": "HBoxModel",
          "state": {
            "_view_name": "HBoxView",
            "_dom_classes": [],
            "_model_name": "HBoxModel",
            "_view_module": "@jupyter-widgets/controls",
            "_model_module_version": "1.5.0",
            "_view_count": null,
            "_view_module_version": "1.5.0",
            "box_style": "",
            "layout": "IPY_MODEL_e8719836e5e249588f8c9c0ca4c0bda5",
            "_model_module": "@jupyter-widgets/controls",
            "children": [
              "IPY_MODEL_d83e4491a0ba4b2f9ba4edb9da46f022",
              "IPY_MODEL_1cf0045463a145d79f002f02fa36150c"
            ]
          }
        },
        "e8719836e5e249588f8c9c0ca4c0bda5": {
          "model_module": "@jupyter-widgets/base",
          "model_name": "LayoutModel",
          "state": {
            "_view_name": "LayoutView",
            "grid_template_rows": null,
            "right": null,
            "justify_content": null,
            "_view_module": "@jupyter-widgets/base",
            "overflow": null,
            "_model_module_version": "1.2.0",
            "_view_count": null,
            "flex_flow": null,
            "width": null,
            "min_width": null,
            "border": null,
            "align_items": null,
            "bottom": null,
            "_model_module": "@jupyter-widgets/base",
            "top": null,
            "grid_column": null,
            "overflow_y": null,
            "overflow_x": null,
            "grid_auto_flow": null,
            "grid_area": null,
            "grid_template_columns": null,
            "flex": null,
            "_model_name": "LayoutModel",
            "justify_items": null,
            "grid_row": null,
            "max_height": null,
            "align_content": null,
            "visibility": null,
            "align_self": null,
            "height": null,
            "min_height": null,
            "padding": null,
            "grid_auto_rows": null,
            "grid_gap": null,
            "max_width": null,
            "order": null,
            "_view_module_version": "1.2.0",
            "grid_template_areas": null,
            "object_position": null,
            "object_fit": null,
            "grid_auto_columns": null,
            "margin": null,
            "display": null,
            "left": null
          }
        },
        "d83e4491a0ba4b2f9ba4edb9da46f022": {
          "model_module": "@jupyter-widgets/controls",
          "model_name": "FloatProgressModel",
          "state": {
            "_view_name": "ProgressView",
            "style": "IPY_MODEL_5d43d02a54da4cdf8423d09431f61f95",
            "_dom_classes": [],
            "description": "Iteration: 100%",
            "_model_name": "FloatProgressModel",
            "bar_style": "success",
            "max": 110,
            "_view_module": "@jupyter-widgets/controls",
            "_model_module_version": "1.5.0",
            "value": 110,
            "_view_count": null,
            "_view_module_version": "1.5.0",
            "orientation": "horizontal",
            "min": 0,
            "description_tooltip": null,
            "_model_module": "@jupyter-widgets/controls",
            "layout": "IPY_MODEL_2c1d318d39b14752946ab6e6779cf05d"
          }
        },
        "1cf0045463a145d79f002f02fa36150c": {
          "model_module": "@jupyter-widgets/controls",
          "model_name": "HTMLModel",
          "state": {
            "_view_name": "HTMLView",
            "style": "IPY_MODEL_50ce3fe350f94ca19dee8bad9c308647",
            "_dom_classes": [],
            "description": "",
            "_model_name": "HTMLModel",
            "placeholder": "​",
            "_view_module": "@jupyter-widgets/controls",
            "_model_module_version": "1.5.0",
            "value": " 110/110 [00:14&lt;00:00,  7.46it/s]",
            "_view_count": null,
            "_view_module_version": "1.5.0",
            "description_tooltip": null,
            "_model_module": "@jupyter-widgets/controls",
            "layout": "IPY_MODEL_de6fa5aefe0d4b8bb96ea221c8f8756b"
          }
        },
        "5d43d02a54da4cdf8423d09431f61f95": {
          "model_module": "@jupyter-widgets/controls",
          "model_name": "ProgressStyleModel",
          "state": {
            "_view_name": "StyleView",
            "_model_name": "ProgressStyleModel",
            "description_width": "initial",
            "_view_module": "@jupyter-widgets/base",
            "_model_module_version": "1.5.0",
            "_view_count": null,
            "_view_module_version": "1.2.0",
            "bar_color": null,
            "_model_module": "@jupyter-widgets/controls"
          }
        },
        "2c1d318d39b14752946ab6e6779cf05d": {
          "model_module": "@jupyter-widgets/base",
          "model_name": "LayoutModel",
          "state": {
            "_view_name": "LayoutView",
            "grid_template_rows": null,
            "right": null,
            "justify_content": null,
            "_view_module": "@jupyter-widgets/base",
            "overflow": null,
            "_model_module_version": "1.2.0",
            "_view_count": null,
            "flex_flow": null,
            "width": null,
            "min_width": null,
            "border": null,
            "align_items": null,
            "bottom": null,
            "_model_module": "@jupyter-widgets/base",
            "top": null,
            "grid_column": null,
            "overflow_y": null,
            "overflow_x": null,
            "grid_auto_flow": null,
            "grid_area": null,
            "grid_template_columns": null,
            "flex": null,
            "_model_name": "LayoutModel",
            "justify_items": null,
            "grid_row": null,
            "max_height": null,
            "align_content": null,
            "visibility": null,
            "align_self": null,
            "height": null,
            "min_height": null,
            "padding": null,
            "grid_auto_rows": null,
            "grid_gap": null,
            "max_width": null,
            "order": null,
            "_view_module_version": "1.2.0",
            "grid_template_areas": null,
            "object_position": null,
            "object_fit": null,
            "grid_auto_columns": null,
            "margin": null,
            "display": null,
            "left": null
          }
        },
        "50ce3fe350f94ca19dee8bad9c308647": {
          "model_module": "@jupyter-widgets/controls",
          "model_name": "DescriptionStyleModel",
          "state": {
            "_view_name": "StyleView",
            "_model_name": "DescriptionStyleModel",
            "description_width": "",
            "_view_module": "@jupyter-widgets/base",
            "_model_module_version": "1.5.0",
            "_view_count": null,
            "_view_module_version": "1.2.0",
            "_model_module": "@jupyter-widgets/controls"
          }
        },
        "de6fa5aefe0d4b8bb96ea221c8f8756b": {
          "model_module": "@jupyter-widgets/base",
          "model_name": "LayoutModel",
          "state": {
            "_view_name": "LayoutView",
            "grid_template_rows": null,
            "right": null,
            "justify_content": null,
            "_view_module": "@jupyter-widgets/base",
            "overflow": null,
            "_model_module_version": "1.2.0",
            "_view_count": null,
            "flex_flow": null,
            "width": null,
            "min_width": null,
            "border": null,
            "align_items": null,
            "bottom": null,
            "_model_module": "@jupyter-widgets/base",
            "top": null,
            "grid_column": null,
            "overflow_y": null,
            "overflow_x": null,
            "grid_auto_flow": null,
            "grid_area": null,
            "grid_template_columns": null,
            "flex": null,
            "_model_name": "LayoutModel",
            "justify_items": null,
            "grid_row": null,
            "max_height": null,
            "align_content": null,
            "visibility": null,
            "align_self": null,
            "height": null,
            "min_height": null,
            "padding": null,
            "grid_auto_rows": null,
            "grid_gap": null,
            "max_width": null,
            "order": null,
            "_view_module_version": "1.2.0",
            "grid_template_areas": null,
            "object_position": null,
            "object_fit": null,
            "grid_auto_columns": null,
            "margin": null,
            "display": null,
            "left": null
          }
        },
        "c1d273d8e9c645c7b73af082c46e54bb": {
          "model_module": "@jupyter-widgets/controls",
          "model_name": "HBoxModel",
          "state": {
            "_view_name": "HBoxView",
            "_dom_classes": [],
            "_model_name": "HBoxModel",
            "_view_module": "@jupyter-widgets/controls",
            "_model_module_version": "1.5.0",
            "_view_count": null,
            "_view_module_version": "1.5.0",
            "box_style": "",
            "layout": "IPY_MODEL_c11fc1fb33c74949b27d985370f2bd1c",
            "_model_module": "@jupyter-widgets/controls",
            "children": [
              "IPY_MODEL_47e405d663be411baa0c0154b06777e1",
              "IPY_MODEL_b0a88a95d1bc472b829f3fa0bb05eb20"
            ]
          }
        },
        "c11fc1fb33c74949b27d985370f2bd1c": {
          "model_module": "@jupyter-widgets/base",
          "model_name": "LayoutModel",
          "state": {
            "_view_name": "LayoutView",
            "grid_template_rows": null,
            "right": null,
            "justify_content": null,
            "_view_module": "@jupyter-widgets/base",
            "overflow": null,
            "_model_module_version": "1.2.0",
            "_view_count": null,
            "flex_flow": null,
            "width": null,
            "min_width": null,
            "border": null,
            "align_items": null,
            "bottom": null,
            "_model_module": "@jupyter-widgets/base",
            "top": null,
            "grid_column": null,
            "overflow_y": null,
            "overflow_x": null,
            "grid_auto_flow": null,
            "grid_area": null,
            "grid_template_columns": null,
            "flex": null,
            "_model_name": "LayoutModel",
            "justify_items": null,
            "grid_row": null,
            "max_height": null,
            "align_content": null,
            "visibility": null,
            "align_self": null,
            "height": null,
            "min_height": null,
            "padding": null,
            "grid_auto_rows": null,
            "grid_gap": null,
            "max_width": null,
            "order": null,
            "_view_module_version": "1.2.0",
            "grid_template_areas": null,
            "object_position": null,
            "object_fit": null,
            "grid_auto_columns": null,
            "margin": null,
            "display": null,
            "left": null
          }
        },
        "47e405d663be411baa0c0154b06777e1": {
          "model_module": "@jupyter-widgets/controls",
          "model_name": "FloatProgressModel",
          "state": {
            "_view_name": "ProgressView",
            "style": "IPY_MODEL_714f51a0d9034385befb348d453a3295",
            "_dom_classes": [],
            "description": "Iteration: 100%",
            "_model_name": "FloatProgressModel",
            "bar_style": "success",
            "max": 110,
            "_view_module": "@jupyter-widgets/controls",
            "_model_module_version": "1.5.0",
            "value": 110,
            "_view_count": null,
            "_view_module_version": "1.5.0",
            "orientation": "horizontal",
            "min": 0,
            "description_tooltip": null,
            "_model_module": "@jupyter-widgets/controls",
            "layout": "IPY_MODEL_7d1c02fa8a404251934639b568dab108"
          }
        },
        "b0a88a95d1bc472b829f3fa0bb05eb20": {
          "model_module": "@jupyter-widgets/controls",
          "model_name": "HTMLModel",
          "state": {
            "_view_name": "HTMLView",
            "style": "IPY_MODEL_bd026b6a27194217843f06fd58e92a4e",
            "_dom_classes": [],
            "description": "",
            "_model_name": "HTMLModel",
            "placeholder": "​",
            "_view_module": "@jupyter-widgets/controls",
            "_model_module_version": "1.5.0",
            "value": " 110/110 [00:14&lt;00:00,  7.40it/s]",
            "_view_count": null,
            "_view_module_version": "1.5.0",
            "description_tooltip": null,
            "_model_module": "@jupyter-widgets/controls",
            "layout": "IPY_MODEL_2f2d46e13dee48aaa168c6bd84576f57"
          }
        },
        "714f51a0d9034385befb348d453a3295": {
          "model_module": "@jupyter-widgets/controls",
          "model_name": "ProgressStyleModel",
          "state": {
            "_view_name": "StyleView",
            "_model_name": "ProgressStyleModel",
            "description_width": "initial",
            "_view_module": "@jupyter-widgets/base",
            "_model_module_version": "1.5.0",
            "_view_count": null,
            "_view_module_version": "1.2.0",
            "bar_color": null,
            "_model_module": "@jupyter-widgets/controls"
          }
        },
        "7d1c02fa8a404251934639b568dab108": {
          "model_module": "@jupyter-widgets/base",
          "model_name": "LayoutModel",
          "state": {
            "_view_name": "LayoutView",
            "grid_template_rows": null,
            "right": null,
            "justify_content": null,
            "_view_module": "@jupyter-widgets/base",
            "overflow": null,
            "_model_module_version": "1.2.0",
            "_view_count": null,
            "flex_flow": null,
            "width": null,
            "min_width": null,
            "border": null,
            "align_items": null,
            "bottom": null,
            "_model_module": "@jupyter-widgets/base",
            "top": null,
            "grid_column": null,
            "overflow_y": null,
            "overflow_x": null,
            "grid_auto_flow": null,
            "grid_area": null,
            "grid_template_columns": null,
            "flex": null,
            "_model_name": "LayoutModel",
            "justify_items": null,
            "grid_row": null,
            "max_height": null,
            "align_content": null,
            "visibility": null,
            "align_self": null,
            "height": null,
            "min_height": null,
            "padding": null,
            "grid_auto_rows": null,
            "grid_gap": null,
            "max_width": null,
            "order": null,
            "_view_module_version": "1.2.0",
            "grid_template_areas": null,
            "object_position": null,
            "object_fit": null,
            "grid_auto_columns": null,
            "margin": null,
            "display": null,
            "left": null
          }
        },
        "bd026b6a27194217843f06fd58e92a4e": {
          "model_module": "@jupyter-widgets/controls",
          "model_name": "DescriptionStyleModel",
          "state": {
            "_view_name": "StyleView",
            "_model_name": "DescriptionStyleModel",
            "description_width": "",
            "_view_module": "@jupyter-widgets/base",
            "_model_module_version": "1.5.0",
            "_view_count": null,
            "_view_module_version": "1.2.0",
            "_model_module": "@jupyter-widgets/controls"
          }
        },
        "2f2d46e13dee48aaa168c6bd84576f57": {
          "model_module": "@jupyter-widgets/base",
          "model_name": "LayoutModel",
          "state": {
            "_view_name": "LayoutView",
            "grid_template_rows": null,
            "right": null,
            "justify_content": null,
            "_view_module": "@jupyter-widgets/base",
            "overflow": null,
            "_model_module_version": "1.2.0",
            "_view_count": null,
            "flex_flow": null,
            "width": null,
            "min_width": null,
            "border": null,
            "align_items": null,
            "bottom": null,
            "_model_module": "@jupyter-widgets/base",
            "top": null,
            "grid_column": null,
            "overflow_y": null,
            "overflow_x": null,
            "grid_auto_flow": null,
            "grid_area": null,
            "grid_template_columns": null,
            "flex": null,
            "_model_name": "LayoutModel",
            "justify_items": null,
            "grid_row": null,
            "max_height": null,
            "align_content": null,
            "visibility": null,
            "align_self": null,
            "height": null,
            "min_height": null,
            "padding": null,
            "grid_auto_rows": null,
            "grid_gap": null,
            "max_width": null,
            "order": null,
            "_view_module_version": "1.2.0",
            "grid_template_areas": null,
            "object_position": null,
            "object_fit": null,
            "grid_auto_columns": null,
            "margin": null,
            "display": null,
            "left": null
          }
        },
        "9d904a68da084b59b2726c3548335ba6": {
          "model_module": "@jupyter-widgets/controls",
          "model_name": "HBoxModel",
          "state": {
            "_view_name": "HBoxView",
            "_dom_classes": [],
            "_model_name": "HBoxModel",
            "_view_module": "@jupyter-widgets/controls",
            "_model_module_version": "1.5.0",
            "_view_count": null,
            "_view_module_version": "1.5.0",
            "box_style": "",
            "layout": "IPY_MODEL_ca7c58bb243745fda6327ca9562dcf61",
            "_model_module": "@jupyter-widgets/controls",
            "children": [
              "IPY_MODEL_bead241b5fe444cb91f6246a182b87a4",
              "IPY_MODEL_8074ab5d9940405d84040268bc73b382"
            ]
          }
        },
        "ca7c58bb243745fda6327ca9562dcf61": {
          "model_module": "@jupyter-widgets/base",
          "model_name": "LayoutModel",
          "state": {
            "_view_name": "LayoutView",
            "grid_template_rows": null,
            "right": null,
            "justify_content": null,
            "_view_module": "@jupyter-widgets/base",
            "overflow": null,
            "_model_module_version": "1.2.0",
            "_view_count": null,
            "flex_flow": null,
            "width": null,
            "min_width": null,
            "border": null,
            "align_items": null,
            "bottom": null,
            "_model_module": "@jupyter-widgets/base",
            "top": null,
            "grid_column": null,
            "overflow_y": null,
            "overflow_x": null,
            "grid_auto_flow": null,
            "grid_area": null,
            "grid_template_columns": null,
            "flex": null,
            "_model_name": "LayoutModel",
            "justify_items": null,
            "grid_row": null,
            "max_height": null,
            "align_content": null,
            "visibility": null,
            "align_self": null,
            "height": null,
            "min_height": null,
            "padding": null,
            "grid_auto_rows": null,
            "grid_gap": null,
            "max_width": null,
            "order": null,
            "_view_module_version": "1.2.0",
            "grid_template_areas": null,
            "object_position": null,
            "object_fit": null,
            "grid_auto_columns": null,
            "margin": null,
            "display": null,
            "left": null
          }
        },
        "bead241b5fe444cb91f6246a182b87a4": {
          "model_module": "@jupyter-widgets/controls",
          "model_name": "FloatProgressModel",
          "state": {
            "_view_name": "ProgressView",
            "style": "IPY_MODEL_d17e59d8574343d4bfa75f308c857d11",
            "_dom_classes": [],
            "description": "Iteration: 100%",
            "_model_name": "FloatProgressModel",
            "bar_style": "success",
            "max": 110,
            "_view_module": "@jupyter-widgets/controls",
            "_model_module_version": "1.5.0",
            "value": 110,
            "_view_count": null,
            "_view_module_version": "1.5.0",
            "orientation": "horizontal",
            "min": 0,
            "description_tooltip": null,
            "_model_module": "@jupyter-widgets/controls",
            "layout": "IPY_MODEL_5b95039f131748ba924bf89c6286054a"
          }
        },
        "8074ab5d9940405d84040268bc73b382": {
          "model_module": "@jupyter-widgets/controls",
          "model_name": "HTMLModel",
          "state": {
            "_view_name": "HTMLView",
            "style": "IPY_MODEL_6cca75fa654a4f2a8f95354b8210cdf2",
            "_dom_classes": [],
            "description": "",
            "_model_name": "HTMLModel",
            "placeholder": "​",
            "_view_module": "@jupyter-widgets/controls",
            "_model_module_version": "1.5.0",
            "value": " 110/110 [00:19&lt;00:00,  5.51it/s]",
            "_view_count": null,
            "_view_module_version": "1.5.0",
            "description_tooltip": null,
            "_model_module": "@jupyter-widgets/controls",
            "layout": "IPY_MODEL_526c117ec1ec4c10a4486e9e9fe94ca8"
          }
        },
        "d17e59d8574343d4bfa75f308c857d11": {
          "model_module": "@jupyter-widgets/controls",
          "model_name": "ProgressStyleModel",
          "state": {
            "_view_name": "StyleView",
            "_model_name": "ProgressStyleModel",
            "description_width": "initial",
            "_view_module": "@jupyter-widgets/base",
            "_model_module_version": "1.5.0",
            "_view_count": null,
            "_view_module_version": "1.2.0",
            "bar_color": null,
            "_model_module": "@jupyter-widgets/controls"
          }
        },
        "5b95039f131748ba924bf89c6286054a": {
          "model_module": "@jupyter-widgets/base",
          "model_name": "LayoutModel",
          "state": {
            "_view_name": "LayoutView",
            "grid_template_rows": null,
            "right": null,
            "justify_content": null,
            "_view_module": "@jupyter-widgets/base",
            "overflow": null,
            "_model_module_version": "1.2.0",
            "_view_count": null,
            "flex_flow": null,
            "width": null,
            "min_width": null,
            "border": null,
            "align_items": null,
            "bottom": null,
            "_model_module": "@jupyter-widgets/base",
            "top": null,
            "grid_column": null,
            "overflow_y": null,
            "overflow_x": null,
            "grid_auto_flow": null,
            "grid_area": null,
            "grid_template_columns": null,
            "flex": null,
            "_model_name": "LayoutModel",
            "justify_items": null,
            "grid_row": null,
            "max_height": null,
            "align_content": null,
            "visibility": null,
            "align_self": null,
            "height": null,
            "min_height": null,
            "padding": null,
            "grid_auto_rows": null,
            "grid_gap": null,
            "max_width": null,
            "order": null,
            "_view_module_version": "1.2.0",
            "grid_template_areas": null,
            "object_position": null,
            "object_fit": null,
            "grid_auto_columns": null,
            "margin": null,
            "display": null,
            "left": null
          }
        },
        "6cca75fa654a4f2a8f95354b8210cdf2": {
          "model_module": "@jupyter-widgets/controls",
          "model_name": "DescriptionStyleModel",
          "state": {
            "_view_name": "StyleView",
            "_model_name": "DescriptionStyleModel",
            "description_width": "",
            "_view_module": "@jupyter-widgets/base",
            "_model_module_version": "1.5.0",
            "_view_count": null,
            "_view_module_version": "1.2.0",
            "_model_module": "@jupyter-widgets/controls"
          }
        },
        "526c117ec1ec4c10a4486e9e9fe94ca8": {
          "model_module": "@jupyter-widgets/base",
          "model_name": "LayoutModel",
          "state": {
            "_view_name": "LayoutView",
            "grid_template_rows": null,
            "right": null,
            "justify_content": null,
            "_view_module": "@jupyter-widgets/base",
            "overflow": null,
            "_model_module_version": "1.2.0",
            "_view_count": null,
            "flex_flow": null,
            "width": null,
            "min_width": null,
            "border": null,
            "align_items": null,
            "bottom": null,
            "_model_module": "@jupyter-widgets/base",
            "top": null,
            "grid_column": null,
            "overflow_y": null,
            "overflow_x": null,
            "grid_auto_flow": null,
            "grid_area": null,
            "grid_template_columns": null,
            "flex": null,
            "_model_name": "LayoutModel",
            "justify_items": null,
            "grid_row": null,
            "max_height": null,
            "align_content": null,
            "visibility": null,
            "align_self": null,
            "height": null,
            "min_height": null,
            "padding": null,
            "grid_auto_rows": null,
            "grid_gap": null,
            "max_width": null,
            "order": null,
            "_view_module_version": "1.2.0",
            "grid_template_areas": null,
            "object_position": null,
            "object_fit": null,
            "grid_auto_columns": null,
            "margin": null,
            "display": null,
            "left": null
          }
        },
        "4528a33adb014a2aa4b852a7554ffd21": {
          "model_module": "@jupyter-widgets/controls",
          "model_name": "HBoxModel",
          "state": {
            "_view_name": "HBoxView",
            "_dom_classes": [],
            "_model_name": "HBoxModel",
            "_view_module": "@jupyter-widgets/controls",
            "_model_module_version": "1.5.0",
            "_view_count": null,
            "_view_module_version": "1.5.0",
            "box_style": "",
            "layout": "IPY_MODEL_515f2f6eab094fe09bfb78fc1e6e17a2",
            "_model_module": "@jupyter-widgets/controls",
            "children": [
              "IPY_MODEL_6ea6aafd25414082a45f194df9f5d60a",
              "IPY_MODEL_15933818c0b647548e52a66f852a8962"
            ]
          }
        },
        "515f2f6eab094fe09bfb78fc1e6e17a2": {
          "model_module": "@jupyter-widgets/base",
          "model_name": "LayoutModel",
          "state": {
            "_view_name": "LayoutView",
            "grid_template_rows": null,
            "right": null,
            "justify_content": null,
            "_view_module": "@jupyter-widgets/base",
            "overflow": null,
            "_model_module_version": "1.2.0",
            "_view_count": null,
            "flex_flow": null,
            "width": null,
            "min_width": null,
            "border": null,
            "align_items": null,
            "bottom": null,
            "_model_module": "@jupyter-widgets/base",
            "top": null,
            "grid_column": null,
            "overflow_y": null,
            "overflow_x": null,
            "grid_auto_flow": null,
            "grid_area": null,
            "grid_template_columns": null,
            "flex": null,
            "_model_name": "LayoutModel",
            "justify_items": null,
            "grid_row": null,
            "max_height": null,
            "align_content": null,
            "visibility": null,
            "align_self": null,
            "height": null,
            "min_height": null,
            "padding": null,
            "grid_auto_rows": null,
            "grid_gap": null,
            "max_width": null,
            "order": null,
            "_view_module_version": "1.2.0",
            "grid_template_areas": null,
            "object_position": null,
            "object_fit": null,
            "grid_auto_columns": null,
            "margin": null,
            "display": null,
            "left": null
          }
        },
        "6ea6aafd25414082a45f194df9f5d60a": {
          "model_module": "@jupyter-widgets/controls",
          "model_name": "FloatProgressModel",
          "state": {
            "_view_name": "ProgressView",
            "style": "IPY_MODEL_2343d2cbadf14cc78f6519302899619f",
            "_dom_classes": [],
            "description": "Iteration: 100%",
            "_model_name": "FloatProgressModel",
            "bar_style": "success",
            "max": 110,
            "_view_module": "@jupyter-widgets/controls",
            "_model_module_version": "1.5.0",
            "value": 110,
            "_view_count": null,
            "_view_module_version": "1.5.0",
            "orientation": "horizontal",
            "min": 0,
            "description_tooltip": null,
            "_model_module": "@jupyter-widgets/controls",
            "layout": "IPY_MODEL_386fbd92b629474e89d9b8aea0a87bad"
          }
        },
        "15933818c0b647548e52a66f852a8962": {
          "model_module": "@jupyter-widgets/controls",
          "model_name": "HTMLModel",
          "state": {
            "_view_name": "HTMLView",
            "style": "IPY_MODEL_e63b693d0a694eddb25cb5ca22768e9e",
            "_dom_classes": [],
            "description": "",
            "_model_name": "HTMLModel",
            "placeholder": "​",
            "_view_module": "@jupyter-widgets/controls",
            "_model_module_version": "1.5.0",
            "value": " 110/110 [00:14&lt;00:00,  7.34it/s]",
            "_view_count": null,
            "_view_module_version": "1.5.0",
            "description_tooltip": null,
            "_model_module": "@jupyter-widgets/controls",
            "layout": "IPY_MODEL_06efbb33d1f34b039729c09f04484458"
          }
        },
        "2343d2cbadf14cc78f6519302899619f": {
          "model_module": "@jupyter-widgets/controls",
          "model_name": "ProgressStyleModel",
          "state": {
            "_view_name": "StyleView",
            "_model_name": "ProgressStyleModel",
            "description_width": "initial",
            "_view_module": "@jupyter-widgets/base",
            "_model_module_version": "1.5.0",
            "_view_count": null,
            "_view_module_version": "1.2.0",
            "bar_color": null,
            "_model_module": "@jupyter-widgets/controls"
          }
        },
        "386fbd92b629474e89d9b8aea0a87bad": {
          "model_module": "@jupyter-widgets/base",
          "model_name": "LayoutModel",
          "state": {
            "_view_name": "LayoutView",
            "grid_template_rows": null,
            "right": null,
            "justify_content": null,
            "_view_module": "@jupyter-widgets/base",
            "overflow": null,
            "_model_module_version": "1.2.0",
            "_view_count": null,
            "flex_flow": null,
            "width": null,
            "min_width": null,
            "border": null,
            "align_items": null,
            "bottom": null,
            "_model_module": "@jupyter-widgets/base",
            "top": null,
            "grid_column": null,
            "overflow_y": null,
            "overflow_x": null,
            "grid_auto_flow": null,
            "grid_area": null,
            "grid_template_columns": null,
            "flex": null,
            "_model_name": "LayoutModel",
            "justify_items": null,
            "grid_row": null,
            "max_height": null,
            "align_content": null,
            "visibility": null,
            "align_self": null,
            "height": null,
            "min_height": null,
            "padding": null,
            "grid_auto_rows": null,
            "grid_gap": null,
            "max_width": null,
            "order": null,
            "_view_module_version": "1.2.0",
            "grid_template_areas": null,
            "object_position": null,
            "object_fit": null,
            "grid_auto_columns": null,
            "margin": null,
            "display": null,
            "left": null
          }
        },
        "e63b693d0a694eddb25cb5ca22768e9e": {
          "model_module": "@jupyter-widgets/controls",
          "model_name": "DescriptionStyleModel",
          "state": {
            "_view_name": "StyleView",
            "_model_name": "DescriptionStyleModel",
            "description_width": "",
            "_view_module": "@jupyter-widgets/base",
            "_model_module_version": "1.5.0",
            "_view_count": null,
            "_view_module_version": "1.2.0",
            "_model_module": "@jupyter-widgets/controls"
          }
        },
        "06efbb33d1f34b039729c09f04484458": {
          "model_module": "@jupyter-widgets/base",
          "model_name": "LayoutModel",
          "state": {
            "_view_name": "LayoutView",
            "grid_template_rows": null,
            "right": null,
            "justify_content": null,
            "_view_module": "@jupyter-widgets/base",
            "overflow": null,
            "_model_module_version": "1.2.0",
            "_view_count": null,
            "flex_flow": null,
            "width": null,
            "min_width": null,
            "border": null,
            "align_items": null,
            "bottom": null,
            "_model_module": "@jupyter-widgets/base",
            "top": null,
            "grid_column": null,
            "overflow_y": null,
            "overflow_x": null,
            "grid_auto_flow": null,
            "grid_area": null,
            "grid_template_columns": null,
            "flex": null,
            "_model_name": "LayoutModel",
            "justify_items": null,
            "grid_row": null,
            "max_height": null,
            "align_content": null,
            "visibility": null,
            "align_self": null,
            "height": null,
            "min_height": null,
            "padding": null,
            "grid_auto_rows": null,
            "grid_gap": null,
            "max_width": null,
            "order": null,
            "_view_module_version": "1.2.0",
            "grid_template_areas": null,
            "object_position": null,
            "object_fit": null,
            "grid_auto_columns": null,
            "margin": null,
            "display": null,
            "left": null
          }
        },
        "f06c9cdff588481d87be92fd63da7d2f": {
          "model_module": "@jupyter-widgets/controls",
          "model_name": "VBoxModel",
          "state": {
            "_view_name": "VBoxView",
            "_dom_classes": [],
            "_model_name": "VBoxModel",
            "_view_module": "@jupyter-widgets/controls",
            "_model_module_version": "1.5.0",
            "_view_count": null,
            "_view_module_version": "1.5.0",
            "box_style": "",
            "layout": "IPY_MODEL_d721f434d6034873a78f8df071b6ce22",
            "_model_module": "@jupyter-widgets/controls",
            "children": [
              "IPY_MODEL_a77670e324e54e1d88339a294e691a12",
              "IPY_MODEL_c7a7b0754d8e4f62883ccb47f8e5ce3b"
            ]
          }
        },
        "d721f434d6034873a78f8df071b6ce22": {
          "model_module": "@jupyter-widgets/base",
          "model_name": "LayoutModel",
          "state": {
            "_view_name": "LayoutView",
            "grid_template_rows": null,
            "right": null,
            "justify_content": null,
            "_view_module": "@jupyter-widgets/base",
            "overflow": null,
            "_model_module_version": "1.2.0",
            "_view_count": null,
            "flex_flow": null,
            "width": null,
            "min_width": null,
            "border": null,
            "align_items": null,
            "bottom": null,
            "_model_module": "@jupyter-widgets/base",
            "top": null,
            "grid_column": null,
            "overflow_y": null,
            "overflow_x": null,
            "grid_auto_flow": null,
            "grid_area": null,
            "grid_template_columns": null,
            "flex": null,
            "_model_name": "LayoutModel",
            "justify_items": null,
            "grid_row": null,
            "max_height": null,
            "align_content": null,
            "visibility": null,
            "align_self": null,
            "height": null,
            "min_height": null,
            "padding": null,
            "grid_auto_rows": null,
            "grid_gap": null,
            "max_width": null,
            "order": null,
            "_view_module_version": "1.2.0",
            "grid_template_areas": null,
            "object_position": null,
            "object_fit": null,
            "grid_auto_columns": null,
            "margin": null,
            "display": null,
            "left": null
          }
        },
        "a77670e324e54e1d88339a294e691a12": {
          "model_module": "@jupyter-widgets/controls",
          "model_name": "LabelModel",
          "state": {
            "_view_name": "LabelView",
            "style": "IPY_MODEL_213839df031e493082afa7d3a5afffd6",
            "_dom_classes": [],
            "description": "",
            "_model_name": "LabelModel",
            "placeholder": "​",
            "_view_module": "@jupyter-widgets/controls",
            "_model_module_version": "1.5.0",
            "value": " 1071.39MB of 1071.39MB uploaded (0.00MB deduped)\r",
            "_view_count": null,
            "_view_module_version": "1.5.0",
            "description_tooltip": null,
            "_model_module": "@jupyter-widgets/controls",
            "layout": "IPY_MODEL_09941fdeb0e34b31b47d8efdd98219fb"
          }
        },
        "c7a7b0754d8e4f62883ccb47f8e5ce3b": {
          "model_module": "@jupyter-widgets/controls",
          "model_name": "FloatProgressModel",
          "state": {
            "_view_name": "ProgressView",
            "style": "IPY_MODEL_75ccb1ee7cb84fabaac86900a91a86ac",
            "_dom_classes": [],
            "description": "",
            "_model_name": "FloatProgressModel",
            "bar_style": "",
            "max": 1,
            "_view_module": "@jupyter-widgets/controls",
            "_model_module_version": "1.5.0",
            "value": 1,
            "_view_count": null,
            "_view_module_version": "1.5.0",
            "orientation": "horizontal",
            "min": 0,
            "description_tooltip": null,
            "_model_module": "@jupyter-widgets/controls",
            "layout": "IPY_MODEL_fa5bff059edf4357b3fec567712a4861"
          }
        },
        "213839df031e493082afa7d3a5afffd6": {
          "model_module": "@jupyter-widgets/controls",
          "model_name": "DescriptionStyleModel",
          "state": {
            "_view_name": "StyleView",
            "_model_name": "DescriptionStyleModel",
            "description_width": "",
            "_view_module": "@jupyter-widgets/base",
            "_model_module_version": "1.5.0",
            "_view_count": null,
            "_view_module_version": "1.2.0",
            "_model_module": "@jupyter-widgets/controls"
          }
        },
        "09941fdeb0e34b31b47d8efdd98219fb": {
          "model_module": "@jupyter-widgets/base",
          "model_name": "LayoutModel",
          "state": {
            "_view_name": "LayoutView",
            "grid_template_rows": null,
            "right": null,
            "justify_content": null,
            "_view_module": "@jupyter-widgets/base",
            "overflow": null,
            "_model_module_version": "1.2.0",
            "_view_count": null,
            "flex_flow": null,
            "width": null,
            "min_width": null,
            "border": null,
            "align_items": null,
            "bottom": null,
            "_model_module": "@jupyter-widgets/base",
            "top": null,
            "grid_column": null,
            "overflow_y": null,
            "overflow_x": null,
            "grid_auto_flow": null,
            "grid_area": null,
            "grid_template_columns": null,
            "flex": null,
            "_model_name": "LayoutModel",
            "justify_items": null,
            "grid_row": null,
            "max_height": null,
            "align_content": null,
            "visibility": null,
            "align_self": null,
            "height": null,
            "min_height": null,
            "padding": null,
            "grid_auto_rows": null,
            "grid_gap": null,
            "max_width": null,
            "order": null,
            "_view_module_version": "1.2.0",
            "grid_template_areas": null,
            "object_position": null,
            "object_fit": null,
            "grid_auto_columns": null,
            "margin": null,
            "display": null,
            "left": null
          }
        },
        "75ccb1ee7cb84fabaac86900a91a86ac": {
          "model_module": "@jupyter-widgets/controls",
          "model_name": "ProgressStyleModel",
          "state": {
            "_view_name": "StyleView",
            "_model_name": "ProgressStyleModel",
            "description_width": "",
            "_view_module": "@jupyter-widgets/base",
            "_model_module_version": "1.5.0",
            "_view_count": null,
            "_view_module_version": "1.2.0",
            "bar_color": null,
            "_model_module": "@jupyter-widgets/controls"
          }
        },
        "fa5bff059edf4357b3fec567712a4861": {
          "model_module": "@jupyter-widgets/base",
          "model_name": "LayoutModel",
          "state": {
            "_view_name": "LayoutView",
            "grid_template_rows": null,
            "right": null,
            "justify_content": null,
            "_view_module": "@jupyter-widgets/base",
            "overflow": null,
            "_model_module_version": "1.2.0",
            "_view_count": null,
            "flex_flow": null,
            "width": null,
            "min_width": null,
            "border": null,
            "align_items": null,
            "bottom": null,
            "_model_module": "@jupyter-widgets/base",
            "top": null,
            "grid_column": null,
            "overflow_y": null,
            "overflow_x": null,
            "grid_auto_flow": null,
            "grid_area": null,
            "grid_template_columns": null,
            "flex": null,
            "_model_name": "LayoutModel",
            "justify_items": null,
            "grid_row": null,
            "max_height": null,
            "align_content": null,
            "visibility": null,
            "align_self": null,
            "height": null,
            "min_height": null,
            "padding": null,
            "grid_auto_rows": null,
            "grid_gap": null,
            "max_width": null,
            "order": null,
            "_view_module_version": "1.2.0",
            "grid_template_areas": null,
            "object_position": null,
            "object_fit": null,
            "grid_auto_columns": null,
            "margin": null,
            "display": null,
            "left": null
          }
        }
      }
    }
  },
  "cells": [
    {
      "cell_type": "markdown",
      "metadata": {
        "id": "bk0XWLfMvDXU"
      },
      "source": [
        "# Fine tuning with S-BERT\n",
        "\n",
        "The models will be saved in this folder - https://drive.google.com/drive/folders/1ui5rywdrDdbBUeHph9AaA0VpfX01bbRe?usp=sharing\n"
      ]
    },
    {
      "cell_type": "markdown",
      "metadata": {
        "id": "tW6NlcIEvXbG"
      },
      "source": [
        "# Setup"
      ]
    },
    {
      "cell_type": "code",
      "metadata": {
        "collapsed": true,
        "id": "Ml7Gd4VgxW1d",
        "jupyter": {
          "outputs_hidden": true
        },
        "colab": {
          "base_uri": "https://localhost:8080/"
        },
        "outputId": "475d7585-2b94-435c-c32c-1061872f956d"
      },
      "source": [
        "# Install necessary libraries\n",
        "! pip install --quiet \\\n",
        "  scprep\\\n",
        "  spacy==3.0.5 \\\n",
        "  wandb \\\n",
        "  onnx \\\n",
        "  onnxruntime \\\n",
        "  sentence_transformers==1.0.2 \\\n",
        "  phate==1.0.7 && \\\n",
        "  python -m spacy download es_core_news_lg\n",
        "\n",
        "# Setup connection with your own google drive\n",
        "from google.colab import drive\n",
        "drive.mount('/content/drive')\n",
        "\n",
        "# Restarting the runtime is required for the libraries to be active in the notebook\n",
        "import os\n",
        "os.kill(os.getpid(), 9)"
      ],
      "execution_count": null,
      "outputs": [
        {
          "output_type": "stream",
          "text": [
            "\u001b[K     |████████████████████████████████| 112kB 15.8MB/s \n",
            "\u001b[K     |████████████████████████████████| 12.8MB 19.1MB/s \n",
            "\u001b[K     |████████████████████████████████| 2.1MB 49.0MB/s \n",
            "\u001b[K     |████████████████████████████████| 12.2MB 45.4MB/s \n",
            "\u001b[K     |████████████████████████████████| 4.1MB 40.5MB/s \n",
            "\u001b[K     |████████████████████████████████| 81kB 9.5MB/s \n",
            "\u001b[K     |████████████████████████████████| 51kB 8.3MB/s \n",
            "\u001b[K     |████████████████████████████████| 9.1MB 45.8MB/s \n",
            "\u001b[K     |████████████████████████████████| 460kB 52.0MB/s \n",
            "\u001b[K     |████████████████████████████████| 1.1MB 45.7MB/s \n",
            "\u001b[K     |████████████████████████████████| 163kB 56.4MB/s \n",
            "\u001b[K     |████████████████████████████████| 133kB 55.2MB/s \n",
            "\u001b[K     |████████████████████████████████| 102kB 13.1MB/s \n",
            "\u001b[K     |████████████████████████████████| 2.1MB 41.1MB/s \n",
            "\u001b[K     |████████████████████████████████| 1.2MB 47.6MB/s \n",
            "\u001b[K     |████████████████████████████████| 419kB 57.2MB/s \n",
            "\u001b[K     |████████████████████████████████| 51kB 8.6MB/s \n",
            "\u001b[K     |████████████████████████████████| 122kB 57.9MB/s \n",
            "\u001b[K     |████████████████████████████████| 71kB 9.5MB/s \n",
            "\u001b[K     |████████████████████████████████| 3.3MB 42.7MB/s \n",
            "\u001b[K     |████████████████████████████████| 901kB 46.7MB/s \n",
            "\u001b[K     |████████████████████████████████| 1.8MB 45.1MB/s \n",
            "\u001b[?25h  Building wheel for sentence-transformers (setup.py) ... \u001b[?25l\u001b[?25hdone\n",
            "  Building wheel for subprocess32 (setup.py) ... \u001b[?25l\u001b[?25hdone\n",
            "  Building wheel for pathtools (setup.py) ... \u001b[?25l\u001b[?25hdone\n",
            "  Building wheel for smart-open (setup.py) ... \u001b[?25l\u001b[?25hdone\n",
            "2021-04-26 05:10:17.814109: I tensorflow/stream_executor/platform/default/dso_loader.cc:49] Successfully opened dynamic library libcudart.so.11.0\n",
            "Collecting es-core-news-lg==3.0.0\n",
            "\u001b[?25l  Downloading https://github.com/explosion/spacy-models/releases/download/es_core_news_lg-3.0.0/es_core_news_lg-3.0.0-py3-none-any.whl (569.7MB)\n",
            "\u001b[K     |████████████████████████████████| 569.7MB 30kB/s \n",
            "\u001b[?25hRequirement already satisfied: spacy<3.1.0,>=3.0.0 in /usr/local/lib/python3.7/dist-packages (from es-core-news-lg==3.0.0) (3.0.5)\n",
            "Requirement already satisfied: catalogue<2.1.0,>=2.0.1 in /usr/local/lib/python3.7/dist-packages (from spacy<3.1.0,>=3.0.0->es-core-news-lg==3.0.0) (2.0.3)\n",
            "Requirement already satisfied: packaging>=20.0 in /usr/local/lib/python3.7/dist-packages (from spacy<3.1.0,>=3.0.0->es-core-news-lg==3.0.0) (20.9)\n",
            "Requirement already satisfied: srsly<3.0.0,>=2.4.0 in /usr/local/lib/python3.7/dist-packages (from spacy<3.1.0,>=3.0.0->es-core-news-lg==3.0.0) (2.4.1)\n",
            "Requirement already satisfied: jinja2 in /usr/local/lib/python3.7/dist-packages (from spacy<3.1.0,>=3.0.0->es-core-news-lg==3.0.0) (2.11.3)\n",
            "Requirement already satisfied: blis<0.8.0,>=0.4.0 in /usr/local/lib/python3.7/dist-packages (from spacy<3.1.0,>=3.0.0->es-core-news-lg==3.0.0) (0.4.1)\n",
            "Requirement already satisfied: typing-extensions<4.0.0.0,>=3.7.4; python_version < \"3.8\" in /usr/local/lib/python3.7/dist-packages (from spacy<3.1.0,>=3.0.0->es-core-news-lg==3.0.0) (3.7.4.3)\n",
            "Requirement already satisfied: tqdm<5.0.0,>=4.38.0 in /usr/local/lib/python3.7/dist-packages (from spacy<3.1.0,>=3.0.0->es-core-news-lg==3.0.0) (4.41.1)\n",
            "Requirement already satisfied: requests<3.0.0,>=2.13.0 in /usr/local/lib/python3.7/dist-packages (from spacy<3.1.0,>=3.0.0->es-core-news-lg==3.0.0) (2.23.0)\n",
            "Requirement already satisfied: typer<0.4.0,>=0.3.0 in /usr/local/lib/python3.7/dist-packages (from spacy<3.1.0,>=3.0.0->es-core-news-lg==3.0.0) (0.3.2)\n",
            "Requirement already satisfied: preshed<3.1.0,>=3.0.2 in /usr/local/lib/python3.7/dist-packages (from spacy<3.1.0,>=3.0.0->es-core-news-lg==3.0.0) (3.0.5)\n",
            "Requirement already satisfied: pydantic<1.8.0,>=1.7.1 in /usr/local/lib/python3.7/dist-packages (from spacy<3.1.0,>=3.0.0->es-core-news-lg==3.0.0) (1.7.3)\n",
            "Requirement already satisfied: murmurhash<1.1.0,>=0.28.0 in /usr/local/lib/python3.7/dist-packages (from spacy<3.1.0,>=3.0.0->es-core-news-lg==3.0.0) (1.0.5)\n",
            "Requirement already satisfied: numpy>=1.15.0 in /usr/local/lib/python3.7/dist-packages (from spacy<3.1.0,>=3.0.0->es-core-news-lg==3.0.0) (1.19.5)\n",
            "Requirement already satisfied: thinc<8.1.0,>=8.0.2 in /usr/local/lib/python3.7/dist-packages (from spacy<3.1.0,>=3.0.0->es-core-news-lg==3.0.0) (8.0.3)\n",
            "Requirement already satisfied: wasabi<1.1.0,>=0.8.1 in /usr/local/lib/python3.7/dist-packages (from spacy<3.1.0,>=3.0.0->es-core-news-lg==3.0.0) (0.8.2)\n",
            "Requirement already satisfied: cymem<2.1.0,>=2.0.2 in /usr/local/lib/python3.7/dist-packages (from spacy<3.1.0,>=3.0.0->es-core-news-lg==3.0.0) (2.0.5)\n",
            "Requirement already satisfied: setuptools in /usr/local/lib/python3.7/dist-packages (from spacy<3.1.0,>=3.0.0->es-core-news-lg==3.0.0) (56.0.0)\n",
            "Requirement already satisfied: spacy-legacy<3.1.0,>=3.0.0 in /usr/local/lib/python3.7/dist-packages (from spacy<3.1.0,>=3.0.0->es-core-news-lg==3.0.0) (3.0.5)\n",
            "Requirement already satisfied: pathy>=0.3.5 in /usr/local/lib/python3.7/dist-packages (from spacy<3.1.0,>=3.0.0->es-core-news-lg==3.0.0) (0.5.2)\n",
            "Requirement already satisfied: importlib-metadata>=0.20; python_version < \"3.8\" in /usr/local/lib/python3.7/dist-packages (from spacy<3.1.0,>=3.0.0->es-core-news-lg==3.0.0) (3.10.1)\n",
            "Requirement already satisfied: zipp>=0.5; python_version < \"3.8\" in /usr/local/lib/python3.7/dist-packages (from catalogue<2.1.0,>=2.0.1->spacy<3.1.0,>=3.0.0->es-core-news-lg==3.0.0) (3.4.1)\n",
            "Requirement already satisfied: pyparsing>=2.0.2 in /usr/local/lib/python3.7/dist-packages (from packaging>=20.0->spacy<3.1.0,>=3.0.0->es-core-news-lg==3.0.0) (2.4.7)\n",
            "Requirement already satisfied: MarkupSafe>=0.23 in /usr/local/lib/python3.7/dist-packages (from jinja2->spacy<3.1.0,>=3.0.0->es-core-news-lg==3.0.0) (1.1.1)\n",
            "Requirement already satisfied: certifi>=2017.4.17 in /usr/local/lib/python3.7/dist-packages (from requests<3.0.0,>=2.13.0->spacy<3.1.0,>=3.0.0->es-core-news-lg==3.0.0) (2020.12.5)\n",
            "Requirement already satisfied: idna<3,>=2.5 in /usr/local/lib/python3.7/dist-packages (from requests<3.0.0,>=2.13.0->spacy<3.1.0,>=3.0.0->es-core-news-lg==3.0.0) (2.10)\n",
            "Requirement already satisfied: chardet<4,>=3.0.2 in /usr/local/lib/python3.7/dist-packages (from requests<3.0.0,>=2.13.0->spacy<3.1.0,>=3.0.0->es-core-news-lg==3.0.0) (3.0.4)\n",
            "Requirement already satisfied: urllib3!=1.25.0,!=1.25.1,<1.26,>=1.21.1 in /usr/local/lib/python3.7/dist-packages (from requests<3.0.0,>=2.13.0->spacy<3.1.0,>=3.0.0->es-core-news-lg==3.0.0) (1.24.3)\n",
            "Requirement already satisfied: click<7.2.0,>=7.1.1 in /usr/local/lib/python3.7/dist-packages (from typer<0.4.0,>=0.3.0->spacy<3.1.0,>=3.0.0->es-core-news-lg==3.0.0) (7.1.2)\n",
            "Requirement already satisfied: smart-open<4.0.0,>=2.2.0 in /usr/local/lib/python3.7/dist-packages (from pathy>=0.3.5->spacy<3.1.0,>=3.0.0->es-core-news-lg==3.0.0) (3.0.0)\n",
            "Installing collected packages: es-core-news-lg\n",
            "Successfully installed es-core-news-lg-3.0.0\n",
            "\u001b[38;5;2m✔ Download and installation successful\u001b[0m\n",
            "You can now load the package via spacy.load('es_core_news_lg')\n"
          ],
          "name": "stdout"
        },
        {
          "output_type": "stream",
          "text": [
            "Go to this URL in a browser: https://accounts.google.com/o/oauth2/auth?client_id=947318989803-6bn6qk8qdgf4n4g3pfee6491hc0brc4i.apps.googleusercontent.com&redirect_uri=urn%3aietf%3awg%3aoauth%3a2.0%3aoob&scope=email%20https%3a%2f%2fwww.googleapis.com%2fauth%2fdocs.test%20https%3a%2f%2fwww.googleapis.com%2fauth%2fdrive%20https%3a%2f%2fwww.googleapis.com%2fauth%2fdrive.photos.readonly%20https%3a%2f%2fwww.googleapis.com%2fauth%2fpeopleapi.readonly%20https%3a%2f%2fwww.googleapis.com%2fauth%2fdrive.activity.readonly%20https%3a%2f%2fwww.googleapis.com%2fauth%2fexperimentsandconfigs%20https%3a%2f%2fwww.googleapis.com%2fauth%2fphotos.native&response_type=code\n",
            "\n",
            "Enter your authorization code:\n",
            "4/1AY0e-g6nm8m84m2L0mhy8MILXJPwp8lYDjrAL-UXPxp4dP6VfaSrkk60ebk\n"
          ],
          "name": "stdout"
        }
      ]
    },
    {
      "cell_type": "code",
      "metadata": {
        "colab": {
          "base_uri": "https://localhost:8080/"
        },
        "id": "TVeFAuzRLxy8",
        "outputId": "265d15ac-7c93-470a-89dd-b7d03aa07a5d"
      },
      "source": [
        "# Clone branch from github\n",
        "!rm -rf policy-data-analyzer/\n",
        "! branch_name='wandb-experiments' && \\\n",
        "  git clone --branch $branch_name https://github.com/wri-dssg/policy-data-analyzer.git"
      ],
      "execution_count": 1,
      "outputs": [
        {
          "output_type": "stream",
          "text": [
            "Cloning into 'policy-data-analyzer'...\n",
            "remote: Enumerating objects: 6102, done.\u001b[K\n",
            "remote: Counting objects: 100% (138/138), done.\u001b[K\n",
            "remote: Compressing objects: 100% (86/86), done.\u001b[K\n",
            "remote: Total 6102 (delta 106), reused 79 (delta 52), pack-reused 5964\u001b[K\n",
            "Receiving objects: 100% (6102/6102), 206.13 MiB | 27.86 MiB/s, done.\n",
            "Resolving deltas: 100% (3351/3351), done.\n",
            "Checking out files: 100% (1004/1004), done.\n"
          ],
          "name": "stdout"
        }
      ]
    },
    {
      "cell_type": "code",
      "metadata": {
        "colab": {
          "base_uri": "https://localhost:8080/"
        },
        "id": "UDjA5e9xd3Wk",
        "outputId": "218a9eae-8161-475d-a4cd-8bae0a879ec9"
      },
      "source": [
        "#If you run this cell more than once, comment out this line because you are already in this folder and you will get an error\n",
        "import os\n",
        "os.chdir(\"policy-data-analyzer\") \n",
        "\n",
        "from tasks.fine_tuning_sbert.src.loops import *"
      ],
      "execution_count": 2,
      "outputs": [
        {
          "output_type": "stream",
          "text": [
            "Using the GPU\n"
          ],
          "name": "stdout"
        }
      ]
    },
    {
      "cell_type": "markdown",
      "metadata": {
        "id": "AlL8L6HzjeWr"
      },
      "source": [
        "# Data Loading"
      ]
    },
    {
      "cell_type": "code",
      "metadata": {
        "id": "jm-fbjB9Rkzx"
      },
      "source": [
        "\"\"\"\n",
        "MAKE SURE THAT THIS IS ALWAYS YOUR INDIVIDUAL NUMBER (FOR REASONS TO NOT OVERWRITE DATA)\n",
        "\"\"\"\n",
        "\n",
        "GLOBAL_EXPERIMENT_NUMBER = 16"
      ],
      "execution_count": 3,
      "outputs": []
    },
    {
      "cell_type": "code",
      "metadata": {
        "colab": {
          "base_uri": "https://localhost:8080/",
          "height": 405
        },
        "id": "vBSx5aHAh4OF",
        "outputId": "08fd1a72-3688-40ca-b412-ac0d3ecf011c"
      },
      "source": [
        "experiment = \"EXP26\"\n",
        "classifier = \"Binary\"\n",
        "\n",
        "base_path = \"/content/drive/MyDrive/WRI-LatinAmerica-Talent\"\n",
        "\n",
        "data_path = f\"{base_path}/Cristina_Policy_Files/Tagged_sentence_lists/Spanish/datasets/{classifier}\"\n",
        "\n",
        "results_save_path = f\"{base_path}/Modeling/Model_reproducibility/Model_results/{classifier}ClassificationExperiments/{GLOBAL_EXPERIMENT_NUMBER}\"\n",
        "\n",
        "if not os.path.exists(results_save_path):\n",
        "    os.makedirs(results_save_path)\n",
        "    print(f\"Making new experiment folder for experiment # {GLOBAL_EXPERIMENT_NUMBER}\")\n",
        "else:\n",
        "    print(\"Please do not overwrite existing models and their results from previous experiments\")\n",
        "    print(f\"You are writing to Experiment # {GLOBAL_EXPERIMENT_NUMBER}\")\n",
        "\n",
        "train_sents, train_labels, test_sents, test_labels = load_dataset(data_path, experiment)\n",
        "label_names = unique_labels(train_labels)\n",
        "\n",
        "make_dataset_public(train_sents, train_labels, label_names)\n",
        "\n",
        "numeric_train_labels = labels2numeric(train_labels, label_names)\n",
        "\n",
        "plot_data_distribution(numeric_train_labels, label_names)"
      ],
      "execution_count": 5,
      "outputs": [
        {
          "output_type": "stream",
          "text": [
            "Making new experiment folder for experiment # 16\n"
          ],
          "name": "stdout"
        },
        {
          "output_type": "display_data",
          "data": {
            "image/png": "[encoded data removed]",
            "text/plain": [
              "<Figure size 432x288 with 1 Axes>"
            ]
          },
          "metadata": {
            "tags": [],
            "needs_background": "light"
          }
        },
        {
          "output_type": "stream",
          "text": [
            "Label counts:\n",
            "{'not_Incentive': 0.5081127241673783, 'Incentive': 0.4918872758326217}\n"
          ],
          "name": "stdout"
        }
      ]
    },
    {
      "cell_type": "code",
      "metadata": {
        "colab": {
          "base_uri": "https://localhost:8080/",
          "height": 387
        },
        "id": "Wk_SBrx6lShA",
        "outputId": "457ddbbe-1b63-417a-c308-22af49bf6874"
      },
      "source": [
        "# class balance/imbalance for test set\n",
        "label_names_test = unique_labels(test_labels)\n",
        "numeric_train_labels_test = labels2numeric(test_labels, label_names_test)\n",
        "\n",
        "plot_data_distribution(numeric_train_labels_test, label_names_test)"
      ],
      "execution_count": 6,
      "outputs": [
        {
          "output_type": "display_data",
          "data": {
            "image/png": "[encoded data removed]",
            "text/plain": [
              "<Figure size 432x288 with 1 Axes>"
            ]
          },
          "metadata": {
            "tags": [],
            "needs_background": "light"
          }
        },
        {
          "output_type": "stream",
          "text": [
            "Label counts:\n",
            "{'Incentive': 0.49146757679180886, 'not_Incentive': 0.5085324232081911}\n"
          ],
          "name": "stdout"
        }
      ]
    },
    {
      "cell_type": "code",
      "metadata": {
        "id": "v1MTStwySrYL"
      },
      "source": [
        "# PASTE YOUR WEIGHTS & BIASES KEY HERE\n",
        "wandb_key = '05b73a66f122fbefe48f986014ac18e169096014'\n",
        "group_desc = 'test_bin_exp_26'\n",
        "job_type = 'eval_results'\n",
        "\n",
        "os.environ['WANDB_JOB_TYPE'] = job_type\n",
        "os.environ['WANDB_RUN_GROUP'] = group_desc\n",
        "os.environ['WANDB_API_KEY'] = wandb_key"
      ],
      "execution_count": 7,
      "outputs": []
    },
    {
      "cell_type": "markdown",
      "metadata": {
        "id": "VbnqVcEzuWq5"
      },
      "source": [
        "## Grid Search Fine Tuning - W&B sweeps"
      ]
    },
    {
      "cell_type": "code",
      "metadata": {
        "id": "bh4kSlwglShB"
      },
      "source": [
        "# wandb sweeps\n",
        "sweep_config = {\n",
        "    'method': 'random',\n",
        "    \"name\": \"SBERT hyperparam tuning\"\n",
        "}\n",
        "\n",
        "metric = {\n",
        "    'name': 'Weighted F1 validation',\n",
        "    'goal': 'maximize'   \n",
        "}\n",
        "\n",
        "parameters_dict = {\n",
        "    \"dev_perc\": {\n",
        "        \"values\": [0.20, 0.25]\n",
        "    },\n",
        "    'model_name': {\n",
        "        'values': ['paraphrase-xlm-r-multilingual-v1', 'stsb-xlm-r-multilingual', 'quora-distilbert-multilingual']\n",
        "    },\n",
        "    'seeds': {\n",
        "        'values': [10, 11, 12]\n",
        "    },\n",
        "    # all values below are set but not varies\n",
        "    \"max_num_epochs\": {\n",
        "        \"value\": 10\n",
        "    },\n",
        "    \"baseline\": {\n",
        "        \"value\": 0.001\n",
        "    },\n",
        "    \"patience\": {\n",
        "        \"value\": 5\n",
        "    },\n",
        "    \"eval_classifier\": {\n",
        "        \"value\": \"SBERT\"\n",
        "    },\n",
        "    \"output_path\": {\n",
        "        \"value\": results_save_path\n",
        "    }\n",
        "}\n",
        "\n",
        "sweep_config['parameters'] = parameters_dict\n",
        "sweep_config['metric'] = metric\n",
        "\n",
        "import pprint\n",
        "\n",
        "pprint.pprint(sweep_config)"
      ],
      "execution_count": null,
      "outputs": []
    },
    {
      "cell_type": "code",
      "metadata": {
        "id": "ijvXrBcGlShD"
      },
      "source": [
        "sweep_id = wandb.sweep(sweep_config, project=\"WRI\", entity=\"ramanshsharma\")"
      ],
      "execution_count": null,
      "outputs": []
    },
    {
      "cell_type": "code",
      "metadata": {
        "id": "cG0F27vZlShD"
      },
      "source": [
        "wandb.agent(sweep_id, train, count=5)"
      ],
      "execution_count": null,
      "outputs": []
    },
    {
      "cell_type": "markdown",
      "metadata": {
        "id": "IT-nPon7lShD"
      },
      "source": [
        "## Running training function for only one run"
      ]
    },
    {
      "cell_type": "code",
      "metadata": {
        "colab": {
          "base_uri": "https://localhost:8080/",
          "height": 1000,
          "referenced_widgets": [
            "521472f6774441f3a2c5ec498bc7bb08",
            "c4c9c0a8b0734238bcfbd5f34e17c643",
            "5f7ff7235c1d4cd1948aaa8a594feff8",
            "bbfad485285e493c9f1c8b9f21b95249",
            "282a46c0433f43e8b2cdaac7ca26a42f",
            "990679d00d5c470698a5541b7a93f60b",
            "408aba743d5749b2a0a9b867c6cec227",
            "8297bdcd350741f49c3b1d41fde6e5ca",
            "feb96794587249fbb888bd542381d564",
            "2b2534ec25164962b895e5d4f1d09afd",
            "467163757c3a4d0aa2ec735ec5b59ee3",
            "1dc5eedef28e426da11a79dfe8f46c58",
            "fa00cf3af74a4267b40f45bb0ef1b942",
            "878518470a7c4202a625ef6c2927e5e6",
            "ede004198f7840e2b13174d32f90c4f3",
            "2840a2b02f2f4bcfbbc724eee0e55236",
            "e6782b7cc37e4b6cb7206d595d628cf5",
            "e8719836e5e249588f8c9c0ca4c0bda5",
            "d83e4491a0ba4b2f9ba4edb9da46f022",
            "1cf0045463a145d79f002f02fa36150c",
            "5d43d02a54da4cdf8423d09431f61f95",
            "2c1d318d39b14752946ab6e6779cf05d",
            "50ce3fe350f94ca19dee8bad9c308647",
            "de6fa5aefe0d4b8bb96ea221c8f8756b",
            "c1d273d8e9c645c7b73af082c46e54bb",
            "c11fc1fb33c74949b27d985370f2bd1c",
            "47e405d663be411baa0c0154b06777e1",
            "b0a88a95d1bc472b829f3fa0bb05eb20",
            "714f51a0d9034385befb348d453a3295",
            "7d1c02fa8a404251934639b568dab108",
            "bd026b6a27194217843f06fd58e92a4e",
            "2f2d46e13dee48aaa168c6bd84576f57",
            "9d904a68da084b59b2726c3548335ba6",
            "ca7c58bb243745fda6327ca9562dcf61",
            "bead241b5fe444cb91f6246a182b87a4",
            "8074ab5d9940405d84040268bc73b382",
            "d17e59d8574343d4bfa75f308c857d11",
            "5b95039f131748ba924bf89c6286054a",
            "6cca75fa654a4f2a8f95354b8210cdf2",
            "526c117ec1ec4c10a4486e9e9fe94ca8",
            "4528a33adb014a2aa4b852a7554ffd21",
            "515f2f6eab094fe09bfb78fc1e6e17a2",
            "6ea6aafd25414082a45f194df9f5d60a",
            "15933818c0b647548e52a66f852a8962",
            "2343d2cbadf14cc78f6519302899619f",
            "386fbd92b629474e89d9b8aea0a87bad",
            "e63b693d0a694eddb25cb5ca22768e9e",
            "06efbb33d1f34b039729c09f04484458",
            "f06c9cdff588481d87be92fd63da7d2f",
            "d721f434d6034873a78f8df071b6ce22",
            "a77670e324e54e1d88339a294e691a12",
            "c7a7b0754d8e4f62883ccb47f8e5ce3b",
            "213839df031e493082afa7d3a5afffd6",
            "09941fdeb0e34b31b47d8efdd98219fb",
            "75ccb1ee7cb84fabaac86900a91a86ac",
            "fa5bff059edf4357b3fec567712a4861"
          ]
        },
        "id": "Mm1_twaulShD",
        "outputId": "415fdaf1-af23-42e9-da12-5af2c7de3056"
      },
      "source": [
        "grid_search_params = {\n",
        "    \"all_dev_perc\": 0.25,\n",
        "    \"model_names\": 'paraphrase-xlm-r-multilingual-v1',\n",
        "    #'stsb-xlm-r-multilingual', 'quora-distilbert-multilingual']\n",
        "    \"output_path\": results_save_path,\n",
        "    \"max_num_epochs\": 10,\n",
        "    \"baseline\": 0.001,\n",
        "    \"patience\": 5,\n",
        "    \"seeds\": 10,\n",
        "    \"eval_classifier\": \"SBERT\"\n",
        "}\n",
        "\n",
        "grid_search_fine_tune_sbert(grid_search_params, train_sents, train_labels, label_names)"
      ],
      "execution_count": 8,
      "outputs": [
        {
          "output_type": "stream",
          "text": [
            "Grid Search Fine tuning parameters:\n",
            "{\n",
            "    \"all_dev_perc\": 0.25,\n",
            "    \"model_names\": \"paraphrase-xlm-r-multilingual-v1\",\n",
            "    \"output_path\": \"/content/drive/MyDrive/WRI-LatinAmerica-Talent/Modeling/Model_reproducibility/Model_results/BinaryClassificationExperiments/16\",\n",
            "    \"max_num_epochs\": 10,\n",
            "    \"baseline\": 0.001,\n",
            "    \"patience\": 5,\n",
            "    \"seeds\": 10,\n",
            "    \"eval_classifier\": \"SBERT\"\n",
            "}\n"
          ],
          "name": "stdout"
        },
        {
          "output_type": "display_data",
          "data": {
            "application/vnd.jupyter.widget-view+json": {
              "model_id": "521472f6774441f3a2c5ec498bc7bb08",
              "version_minor": 0,
              "version_major": 2
            },
            "text/plain": [
              "HBox(children=(FloatProgress(value=0.0, max=1014059776.0), HTML(value='')))"
            ]
          },
          "metadata": {
            "tags": []
          }
        },
        {
          "output_type": "stream",
          "text": [
            "\n"
          ],
          "name": "stdout"
        },
        {
          "output_type": "stream",
          "text": [
            "\u001b[34m\u001b[1mwandb\u001b[0m: Currently logged in as: \u001b[33mthefirebanks\u001b[0m (use `wandb login --relogin` to force relogin)\n"
          ],
          "name": "stderr"
        },
        {
          "output_type": "display_data",
          "data": {
            "text/html": [
              "\n",
              "                Tracking run with wandb version 0.10.27<br/>\n",
              "                Syncing run <strong style=\"color:#cdcd00\">youthful-disco-141</strong> to <a href=\"https://wandb.ai\" target=\"_blank\">Weights & Biases</a> <a href=\"https://docs.wandb.com/integrations/jupyter.html\" target=\"_blank\">(Documentation)</a>.<br/>\n",
              "                Project page: <a href=\"https://wandb.ai/ramanshsharma/WRI\" target=\"_blank\">https://wandb.ai/ramanshsharma/WRI</a><br/>\n",
              "                Run page: <a href=\"https://wandb.ai/ramanshsharma/WRI/runs/3oiivn99\" target=\"_blank\">https://wandb.ai/ramanshsharma/WRI/runs/3oiivn99</a><br/>\n",
              "                Run data is saved locally in <code>/content/policy-data-analyzer/wandb/run-20210426_052253-3oiivn99</code><br/><br/>\n",
              "            "
            ],
            "text/plain": [
              "<IPython.core.display.HTML object>"
            ]
          },
          "metadata": {
            "tags": []
          }
        },
        {
          "output_type": "display_data",
          "data": {
            "application/vnd.jupyter.widget-view+json": {
              "model_id": "feb96794587249fbb888bd542381d564",
              "version_minor": 0,
              "version_major": 2
            },
            "text/plain": [
              "HBox(children=(FloatProgress(value=0.0, description='Epoch', max=10.0, style=ProgressStyle(description_width='…"
            ]
          },
          "metadata": {
            "tags": []
          }
        },
        {
          "output_type": "display_data",
          "data": {
            "application/vnd.jupyter.widget-view+json": {
              "model_id": "e6782b7cc37e4b6cb7206d595d628cf5",
              "version_minor": 0,
              "version_major": 2
            },
            "text/plain": [
              "HBox(children=(FloatProgress(value=0.0, description='Iteration', max=110.0, style=ProgressStyle(description_wi…"
            ]
          },
          "metadata": {
            "tags": []
          }
        },
        {
          "output_type": "stream",
          "text": [
            "\n"
          ],
          "name": "stdout"
        },
        {
          "output_type": "stream",
          "text": [
            "Evaluating: 100%|██████████| 37/37 [00:01<00:00, 31.52it/s]\n"
          ],
          "name": "stderr"
        },
        {
          "output_type": "stream",
          "text": [
            "============================================================\n",
            "Current Score is: 0.8498293515358362\n",
            "Current ACC_LIST is: [1e-06, 0.8498293515358362]\n",
            "Epoch: 0\n",
            "Best score: 0.8498293515358362\n",
            "============================================================\n"
          ],
          "name": "stdout"
        },
        {
          "output_type": "display_data",
          "data": {
            "application/vnd.jupyter.widget-view+json": {
              "model_id": "c1d273d8e9c645c7b73af082c46e54bb",
              "version_minor": 0,
              "version_major": 2
            },
            "text/plain": [
              "HBox(children=(FloatProgress(value=0.0, description='Iteration', max=110.0, style=ProgressStyle(description_wi…"
            ]
          },
          "metadata": {
            "tags": []
          }
        },
        {
          "output_type": "stream",
          "text": [
            "\n"
          ],
          "name": "stdout"
        },
        {
          "output_type": "stream",
          "text": [
            "Evaluating: 100%|██████████| 37/37 [00:01<00:00, 30.07it/s]\n"
          ],
          "name": "stderr"
        },
        {
          "output_type": "stream",
          "text": [
            "============================================================\n",
            "Current Score is: 0.8856655290102389\n",
            "Current ACC_LIST is: [0.8498293515358362, 0.8856655290102389]\n",
            "Epoch: 1\n",
            "Best score: 0.8856655290102389\n",
            "============================================================\n"
          ],
          "name": "stdout"
        },
        {
          "output_type": "display_data",
          "data": {
            "application/vnd.jupyter.widget-view+json": {
              "model_id": "9d904a68da084b59b2726c3548335ba6",
              "version_minor": 0,
              "version_major": 2
            },
            "text/plain": [
              "HBox(children=(FloatProgress(value=0.0, description='Iteration', max=110.0, style=ProgressStyle(description_wi…"
            ]
          },
          "metadata": {
            "tags": []
          }
        },
        {
          "output_type": "stream",
          "text": [
            "\n"
          ],
          "name": "stdout"
        },
        {
          "output_type": "stream",
          "text": [
            "Evaluating: 100%|██████████| 37/37 [00:01<00:00, 31.13it/s]\n"
          ],
          "name": "stderr"
        },
        {
          "output_type": "stream",
          "text": [
            "============================================================\n",
            "Current Score is: 0.8907849829351536\n",
            "Current ACC_LIST is: [0.8498293515358362, 0.8856655290102389, 0.8907849829351536]\n",
            "Epoch: 2\n",
            "Best score: 0.8907849829351536\n",
            "============================================================\n"
          ],
          "name": "stdout"
        },
        {
          "output_type": "display_data",
          "data": {
            "application/vnd.jupyter.widget-view+json": {
              "model_id": "4528a33adb014a2aa4b852a7554ffd21",
              "version_minor": 0,
              "version_major": 2
            },
            "text/plain": [
              "HBox(children=(FloatProgress(value=0.0, description='Iteration', max=110.0, style=ProgressStyle(description_wi…"
            ]
          },
          "metadata": {
            "tags": []
          }
        },
        {
          "output_type": "stream",
          "text": [
            "\n"
          ],
          "name": "stdout"
        },
        {
          "output_type": "stream",
          "text": [
            "Evaluating: 100%|██████████| 37/37 [00:01<00:00, 30.50it/s]\n"
          ],
          "name": "stderr"
        },
        {
          "output_type": "stream",
          "text": [
            "============================================================\n",
            "Current Score is: 0.8907849829351536\n",
            "Current ACC_LIST is: [0.8498293515358362, 0.8856655290102389, 0.8907849829351536, 0.8907849829351536]\n",
            "TRAINING EXITED. Best model has been found.\n",
            "Epoch: 3\n",
            "Best score: 0.8907849829351536\n",
            "============================================================\n"
          ],
          "name": "stdout"
        },
        {
          "output_type": "stream",
          "text": [
            "\u001b[34m\u001b[1mwandb\u001b[0m: \u001b[33mWARNING\u001b[0m Saving files without folders. If you want to preserve sub directories pass base_path to wandb.save, i.e. wandb.save(\"/mnt/folder/file.h5\", base_path=\"/mnt\")\n"
          ],
          "name": "stderr"
        },
        {
          "output_type": "display_data",
          "data": {
            "text/html": [
              "<br/>Waiting for W&B process to finish, PID 562<br/>Program ended successfully."
            ],
            "text/plain": [
              "<IPython.core.display.HTML object>"
            ]
          },
          "metadata": {
            "tags": []
          }
        },
        {
          "output_type": "display_data",
          "data": {
            "application/vnd.jupyter.widget-view+json": {
              "model_id": "f06c9cdff588481d87be92fd63da7d2f",
              "version_minor": 0,
              "version_major": 2
            },
            "text/plain": [
              "VBox(children=(Label(value=' 0.08MB of 0.08MB uploaded (0.00MB deduped)\\r'), FloatProgress(value=1.0, max=1.0)…"
            ]
          },
          "metadata": {
            "tags": []
          }
        },
        {
          "output_type": "display_data",
          "data": {
            "text/html": [
              "Find user logs for this run at: <code>/content/policy-data-analyzer/wandb/run-20210426_052253-3oiivn99/logs/debug.log</code>"
            ],
            "text/plain": [
              "<IPython.core.display.HTML object>"
            ]
          },
          "metadata": {
            "tags": []
          }
        },
        {
          "output_type": "display_data",
          "data": {
            "text/html": [
              "Find internal logs for this run at: <code>/content/policy-data-analyzer/wandb/run-20210426_052253-3oiivn99/logs/debug-internal.log</code>"
            ],
            "text/plain": [
              "<IPython.core.display.HTML object>"
            ]
          },
          "metadata": {
            "tags": []
          }
        },
        {
          "output_type": "display_data",
          "data": {
            "text/html": [
              "<h3>Run summary:</h3><br/><style>\n",
              "    table.wandb td:nth-child(1) { padding: 0 10px; text-align: right }\n",
              "    </style><table class=\"wandb\">\n",
              "<tr><td>train_acc</td><td>0.98861</td></tr><tr><td>epoch</td><td>3</td></tr><tr><td>_runtime</td><td>101</td></tr><tr><td>_timestamp</td><td>1619414674</td></tr><tr><td>_step</td><td>19</td></tr><tr><td>validation_acc</td><td>0.89078</td></tr><tr><td>Macro F1 validation</td><td>0.89057</td></tr><tr><td>Weighted F1 validation</td><td>0.89065</td></tr></table>"
            ],
            "text/plain": [
              "<IPython.core.display.HTML object>"
            ]
          },
          "metadata": {
            "tags": []
          }
        },
        {
          "output_type": "display_data",
          "data": {
            "text/html": [
              "<h3>Run history:</h3><br/><style>\n",
              "    table.wandb td:nth-child(1) { padding: 0 10px; text-align: right }\n",
              "    </style><table class=\"wandb\">\n",
              "<tr><td>train_acc</td><td>▁▅▇█</td></tr><tr><td>epoch</td><td>▁▁▁▁▃▃▃▃▆▆▆▆████</td></tr><tr><td>_runtime</td><td>▁▁▁▁▁▃▃▃▃▃▆▆▆▆▆█████</td></tr><tr><td>_timestamp</td><td>▁▁▁▁▁▃▃▃▃▃▆▆▆▆▆█████</td></tr><tr><td>_step</td><td>▁▁▂▂▂▃▃▄▄▄▅▅▅▆▆▇▇▇██</td></tr><tr><td>validation_acc</td><td>▁▇██</td></tr><tr><td>Macro F1 validation</td><td>▁▇██</td></tr><tr><td>Weighted F1 validation</td><td>▁▇██</td></tr></table><br/>"
            ],
            "text/plain": [
              "<IPython.core.display.HTML object>"
            ]
          },
          "metadata": {
            "tags": []
          }
        },
        {
          "output_type": "display_data",
          "data": {
            "text/html": [
              "Synced 5 W&B file(s), 4 media file(s), 0 artifact file(s) and 1 other file(s)"
            ],
            "text/plain": [
              "<IPython.core.display.HTML object>"
            ]
          },
          "metadata": {
            "tags": []
          }
        },
        {
          "output_type": "display_data",
          "data": {
            "text/html": [
              "\n",
              "                    <br/>Synced <strong style=\"color:#cdcd00\">youthful-disco-141</strong>: <a href=\"https://wandb.ai/ramanshsharma/WRI/runs/3oiivn99\" target=\"_blank\">https://wandb.ai/ramanshsharma/WRI/runs/3oiivn99</a><br/>\n",
              "                "
            ],
            "text/plain": [
              "<IPython.core.display.HTML object>"
            ]
          },
          "metadata": {
            "tags": []
          }
        },
        {
          "output_type": "stream",
          "text": [
            "Time taken for fine-tuning: 00:02:25.33\n"
          ],
          "name": "stdout"
        }
      ]
    },
    {
      "cell_type": "markdown",
      "metadata": {
        "id": "3ueQo9EaPr1v"
      },
      "source": [
        "## Loading saved model"
      ]
    },
    {
      "cell_type": "code",
      "metadata": {
        "colab": {
          "base_uri": "https://localhost:8080/",
          "height": 87
        },
        "collapsed": true,
        "id": "48__Sl37Ptcp",
        "jupyter": {
          "outputs_hidden": true
        },
        "outputId": "9175d3bb-9a69-42f5-d012-61cbc355395e"
      },
      "source": [
        "saved_model = EarlyStoppingSentenceTransformer(model_name_or_path=results_save_path)\n",
        "str(saved_model)"
      ],
      "execution_count": 9,
      "outputs": [
        {
          "output_type": "execute_result",
          "data": {
            "application/vnd.google.colaboratory.intrinsic+json": {
              "type": "string"
            },
            "text/plain": [
              "'EarlyStoppingSentenceTransformer(\\n  (0): Transformer(\\n    (auto_model): XLMRobertaModel(\\n      (embeddings): RobertaEmbeddings(\\n        (word_embeddings): Embedding(250002, 768, padding_idx=1)\\n        (position_embeddings): Embedding(514, 768, padding_idx=1)\\n        (token_type_embeddings): Embedding(1, 768)\\n        (LayerNorm): LayerNorm((768,), eps=1e-05, elementwise_affine=True)\\n        (dropout): Dropout(p=0.1, inplace=False)\\n      )\\n      (encoder): RobertaEncoder(\\n        (layer): ModuleList(\\n          (0): RobertaLayer(\\n            (attention): RobertaAttention(\\n              (self): RobertaSelfAttention(\\n                (query): Linear(in_features=768, out_features=768, bias=True)\\n                (key): Linear(in_features=768, out_features=768, bias=True)\\n                (value): Linear(in_features=768, out_features=768, bias=True)\\n                (dropout): Dropout(p=0.1, inplace=False)\\n              )\\n              (output): RobertaSelfOutput(\\n                (dense): Linear(in_features=768, out_features=768, bias=True)\\n                (LayerNorm): LayerNorm((768,), eps=1e-05, elementwise_affine=True)\\n                (dropout): Dropout(p=0.1, inplace=False)\\n              )\\n            )\\n            (intermediate): RobertaIntermediate(\\n              (dense): Linear(in_features=768, out_features=3072, bias=True)\\n            )\\n            (output): RobertaOutput(\\n              (dense): Linear(in_features=3072, out_features=768, bias=True)\\n              (LayerNorm): LayerNorm((768,), eps=1e-05, elementwise_affine=True)\\n              (dropout): Dropout(p=0.1, inplace=False)\\n            )\\n          )\\n          (1): RobertaLayer(\\n            (attention): RobertaAttention(\\n              (self): RobertaSelfAttention(\\n                (query): Linear(in_features=768, out_features=768, bias=True)\\n                (key): Linear(in_features=768, out_features=768, bias=True)\\n                (value): Linear(in_features=768, out_features=768, bias=True)\\n                (dropout): Dropout(p=0.1, inplace=False)\\n              )\\n              (output): RobertaSelfOutput(\\n                (dense): Linear(in_features=768, out_features=768, bias=True)\\n                (LayerNorm): LayerNorm((768,), eps=1e-05, elementwise_affine=True)\\n                (dropout): Dropout(p=0.1, inplace=False)\\n              )\\n            )\\n            (intermediate): RobertaIntermediate(\\n              (dense): Linear(in_features=768, out_features=3072, bias=True)\\n            )\\n            (output): RobertaOutput(\\n              (dense): Linear(in_features=3072, out_features=768, bias=True)\\n              (LayerNorm): LayerNorm((768,), eps=1e-05, elementwise_affine=True)\\n              (dropout): Dropout(p=0.1, inplace=False)\\n            )\\n          )\\n          (2): RobertaLayer(\\n            (attention): RobertaAttention(\\n              (self): RobertaSelfAttention(\\n                (query): Linear(in_features=768, out_features=768, bias=True)\\n                (key): Linear(in_features=768, out_features=768, bias=True)\\n                (value): Linear(in_features=768, out_features=768, bias=True)\\n                (dropout): Dropout(p=0.1, inplace=False)\\n              )\\n              (output): RobertaSelfOutput(\\n                (dense): Linear(in_features=768, out_features=768, bias=True)\\n                (LayerNorm): LayerNorm((768,), eps=1e-05, elementwise_affine=True)\\n                (dropout): Dropout(p=0.1, inplace=False)\\n              )\\n            )\\n            (intermediate): RobertaIntermediate(\\n              (dense): Linear(in_features=768, out_features=3072, bias=True)\\n            )\\n            (output): RobertaOutput(\\n              (dense): Linear(in_features=3072, out_features=768, bias=True)\\n              (LayerNorm): LayerNorm((768,), eps=1e-05, elementwise_affine=True)\\n              (dropout): Dropout(p=0.1, inplace=False)\\n            )\\n          )\\n          (3): RobertaLayer(\\n            (attention): RobertaAttention(\\n              (self): RobertaSelfAttention(\\n                (query): Linear(in_features=768, out_features=768, bias=True)\\n                (key): Linear(in_features=768, out_features=768, bias=True)\\n                (value): Linear(in_features=768, out_features=768, bias=True)\\n                (dropout): Dropout(p=0.1, inplace=False)\\n              )\\n              (output): RobertaSelfOutput(\\n                (dense): Linear(in_features=768, out_features=768, bias=True)\\n                (LayerNorm): LayerNorm((768,), eps=1e-05, elementwise_affine=True)\\n                (dropout): Dropout(p=0.1, inplace=False)\\n              )\\n            )\\n            (intermediate): RobertaIntermediate(\\n              (dense): Linear(in_features=768, out_features=3072, bias=True)\\n            )\\n            (output): RobertaOutput(\\n              (dense): Linear(in_features=3072, out_features=768, bias=True)\\n              (LayerNorm): LayerNorm((768,), eps=1e-05, elementwise_affine=True)\\n              (dropout): Dropout(p=0.1, inplace=False)\\n            )\\n          )\\n          (4): RobertaLayer(\\n            (attention): RobertaAttention(\\n              (self): RobertaSelfAttention(\\n                (query): Linear(in_features=768, out_features=768, bias=True)\\n                (key): Linear(in_features=768, out_features=768, bias=True)\\n                (value): Linear(in_features=768, out_features=768, bias=True)\\n                (dropout): Dropout(p=0.1, inplace=False)\\n              )\\n              (output): RobertaSelfOutput(\\n                (dense): Linear(in_features=768, out_features=768, bias=True)\\n                (LayerNorm): LayerNorm((768,), eps=1e-05, elementwise_affine=True)\\n                (dropout): Dropout(p=0.1, inplace=False)\\n              )\\n            )\\n            (intermediate): RobertaIntermediate(\\n              (dense): Linear(in_features=768, out_features=3072, bias=True)\\n            )\\n            (output): RobertaOutput(\\n              (dense): Linear(in_features=3072, out_features=768, bias=True)\\n              (LayerNorm): LayerNorm((768,), eps=1e-05, elementwise_affine=True)\\n              (dropout): Dropout(p=0.1, inplace=False)\\n            )\\n          )\\n          (5): RobertaLayer(\\n            (attention): RobertaAttention(\\n              (self): RobertaSelfAttention(\\n                (query): Linear(in_features=768, out_features=768, bias=True)\\n                (key): Linear(in_features=768, out_features=768, bias=True)\\n                (value): Linear(in_features=768, out_features=768, bias=True)\\n                (dropout): Dropout(p=0.1, inplace=False)\\n              )\\n              (output): RobertaSelfOutput(\\n                (dense): Linear(in_features=768, out_features=768, bias=True)\\n                (LayerNorm): LayerNorm((768,), eps=1e-05, elementwise_affine=True)\\n                (dropout): Dropout(p=0.1, inplace=False)\\n              )\\n            )\\n            (intermediate): RobertaIntermediate(\\n              (dense): Linear(in_features=768, out_features=3072, bias=True)\\n            )\\n            (output): RobertaOutput(\\n              (dense): Linear(in_features=3072, out_features=768, bias=True)\\n              (LayerNorm): LayerNorm((768,), eps=1e-05, elementwise_affine=True)\\n              (dropout): Dropout(p=0.1, inplace=False)\\n            )\\n          )\\n          (6): RobertaLayer(\\n            (attention): RobertaAttention(\\n              (self): RobertaSelfAttention(\\n                (query): Linear(in_features=768, out_features=768, bias=True)\\n                (key): Linear(in_features=768, out_features=768, bias=True)\\n                (value): Linear(in_features=768, out_features=768, bias=True)\\n                (dropout): Dropout(p=0.1, inplace=False)\\n              )\\n              (output): RobertaSelfOutput(\\n                (dense): Linear(in_features=768, out_features=768, bias=True)\\n                (LayerNorm): LayerNorm((768,), eps=1e-05, elementwise_affine=True)\\n                (dropout): Dropout(p=0.1, inplace=False)\\n              )\\n            )\\n            (intermediate): RobertaIntermediate(\\n              (dense): Linear(in_features=768, out_features=3072, bias=True)\\n            )\\n            (output): RobertaOutput(\\n              (dense): Linear(in_features=3072, out_features=768, bias=True)\\n              (LayerNorm): LayerNorm((768,), eps=1e-05, elementwise_affine=True)\\n              (dropout): Dropout(p=0.1, inplace=False)\\n            )\\n          )\\n          (7): RobertaLayer(\\n            (attention): RobertaAttention(\\n              (self): RobertaSelfAttention(\\n                (query): Linear(in_features=768, out_features=768, bias=True)\\n                (key): Linear(in_features=768, out_features=768, bias=True)\\n                (value): Linear(in_features=768, out_features=768, bias=True)\\n                (dropout): Dropout(p=0.1, inplace=False)\\n              )\\n              (output): RobertaSelfOutput(\\n                (dense): Linear(in_features=768, out_features=768, bias=True)\\n                (LayerNorm): LayerNorm((768,), eps=1e-05, elementwise_affine=True)\\n                (dropout): Dropout(p=0.1, inplace=False)\\n              )\\n            )\\n            (intermediate): RobertaIntermediate(\\n              (dense): Linear(in_features=768, out_features=3072, bias=True)\\n            )\\n            (output): RobertaOutput(\\n              (dense): Linear(in_features=3072, out_features=768, bias=True)\\n              (LayerNorm): LayerNorm((768,), eps=1e-05, elementwise_affine=True)\\n              (dropout): Dropout(p=0.1, inplace=False)\\n            )\\n          )\\n          (8): RobertaLayer(\\n            (attention): RobertaAttention(\\n              (self): RobertaSelfAttention(\\n                (query): Linear(in_features=768, out_features=768, bias=True)\\n                (key): Linear(in_features=768, out_features=768, bias=True)\\n                (value): Linear(in_features=768, out_features=768, bias=True)\\n                (dropout): Dropout(p=0.1, inplace=False)\\n              )\\n              (output): RobertaSelfOutput(\\n                (dense): Linear(in_features=768, out_features=768, bias=True)\\n                (LayerNorm): LayerNorm((768,), eps=1e-05, elementwise_affine=True)\\n                (dropout): Dropout(p=0.1, inplace=False)\\n              )\\n            )\\n            (intermediate): RobertaIntermediate(\\n              (dense): Linear(in_features=768, out_features=3072, bias=True)\\n            )\\n            (output): RobertaOutput(\\n              (dense): Linear(in_features=3072, out_features=768, bias=True)\\n              (LayerNorm): LayerNorm((768,), eps=1e-05, elementwise_affine=True)\\n              (dropout): Dropout(p=0.1, inplace=False)\\n            )\\n          )\\n          (9): RobertaLayer(\\n            (attention): RobertaAttention(\\n              (self): RobertaSelfAttention(\\n                (query): Linear(in_features=768, out_features=768, bias=True)\\n                (key): Linear(in_features=768, out_features=768, bias=True)\\n                (value): Linear(in_features=768, out_features=768, bias=True)\\n                (dropout): Dropout(p=0.1, inplace=False)\\n              )\\n              (output): RobertaSelfOutput(\\n                (dense): Linear(in_features=768, out_features=768, bias=True)\\n                (LayerNorm): LayerNorm((768,), eps=1e-05, elementwise_affine=True)\\n                (dropout): Dropout(p=0.1, inplace=False)\\n              )\\n            )\\n            (intermediate): RobertaIntermediate(\\n              (dense): Linear(in_features=768, out_features=3072, bias=True)\\n            )\\n            (output): RobertaOutput(\\n              (dense): Linear(in_features=3072, out_features=768, bias=True)\\n              (LayerNorm): LayerNorm((768,), eps=1e-05, elementwise_affine=True)\\n              (dropout): Dropout(p=0.1, inplace=False)\\n            )\\n          )\\n          (10): RobertaLayer(\\n            (attention): RobertaAttention(\\n              (self): RobertaSelfAttention(\\n                (query): Linear(in_features=768, out_features=768, bias=True)\\n                (key): Linear(in_features=768, out_features=768, bias=True)\\n                (value): Linear(in_features=768, out_features=768, bias=True)\\n                (dropout): Dropout(p=0.1, inplace=False)\\n              )\\n              (output): RobertaSelfOutput(\\n                (dense): Linear(in_features=768, out_features=768, bias=True)\\n                (LayerNorm): LayerNorm((768,), eps=1e-05, elementwise_affine=True)\\n                (dropout): Dropout(p=0.1, inplace=False)\\n              )\\n            )\\n            (intermediate): RobertaIntermediate(\\n              (dense): Linear(in_features=768, out_features=3072, bias=True)\\n            )\\n            (output): RobertaOutput(\\n              (dense): Linear(in_features=3072, out_features=768, bias=True)\\n              (LayerNorm): LayerNorm((768,), eps=1e-05, elementwise_affine=True)\\n              (dropout): Dropout(p=0.1, inplace=False)\\n            )\\n          )\\n          (11): RobertaLayer(\\n            (attention): RobertaAttention(\\n              (self): RobertaSelfAttention(\\n                (query): Linear(in_features=768, out_features=768, bias=True)\\n                (key): Linear(in_features=768, out_features=768, bias=True)\\n                (value): Linear(in_features=768, out_features=768, bias=True)\\n                (dropout): Dropout(p=0.1, inplace=False)\\n              )\\n              (output): RobertaSelfOutput(\\n                (dense): Linear(in_features=768, out_features=768, bias=True)\\n                (LayerNorm): LayerNorm((768,), eps=1e-05, elementwise_affine=True)\\n                (dropout): Dropout(p=0.1, inplace=False)\\n              )\\n            )\\n            (intermediate): RobertaIntermediate(\\n              (dense): Linear(in_features=768, out_features=3072, bias=True)\\n            )\\n            (output): RobertaOutput(\\n              (dense): Linear(in_features=3072, out_features=768, bias=True)\\n              (LayerNorm): LayerNorm((768,), eps=1e-05, elementwise_affine=True)\\n              (dropout): Dropout(p=0.1, inplace=False)\\n            )\\n          )\\n        )\\n      )\\n      (pooler): RobertaPooler(\\n        (dense): Linear(in_features=768, out_features=768, bias=True)\\n        (activation): Tanh()\\n      )\\n    )\\n  )\\n  (1): Pooling()\\n)'"
            ]
          },
          "metadata": {
            "tags": []
          },
          "execution_count": 9
        }
      ]
    },
    {
      "cell_type": "code",
      "metadata": {
        "id": "D1v7B8BClShE"
      },
      "source": [
        "torch.save(saved_model, 'statedict.pt')"
      ],
      "execution_count": 10,
      "outputs": []
    },
    {
      "cell_type": "code",
      "metadata": {
        "colab": {
          "base_uri": "https://localhost:8080/",
          "height": 87
        },
        "id": "tOqgpnw5lShE",
        "outputId": "c2f547d3-af4b-4692-f14d-508476060a3e"
      },
      "source": [
        "newmodel = torch.load('statedict.pt')\n",
        "newmodel.eval()\n",
        "str(newmodel)"
      ],
      "execution_count": 11,
      "outputs": [
        {
          "output_type": "execute_result",
          "data": {
            "application/vnd.google.colaboratory.intrinsic+json": {
              "type": "string"
            },
            "text/plain": [
              "'EarlyStoppingSentenceTransformer(\\n  (0): Transformer(\\n    (auto_model): XLMRobertaModel(\\n      (embeddings): RobertaEmbeddings(\\n        (word_embeddings): Embedding(250002, 768, padding_idx=1)\\n        (position_embeddings): Embedding(514, 768, padding_idx=1)\\n        (token_type_embeddings): Embedding(1, 768)\\n        (LayerNorm): LayerNorm((768,), eps=1e-05, elementwise_affine=True)\\n        (dropout): Dropout(p=0.1, inplace=False)\\n      )\\n      (encoder): RobertaEncoder(\\n        (layer): ModuleList(\\n          (0): RobertaLayer(\\n            (attention): RobertaAttention(\\n              (self): RobertaSelfAttention(\\n                (query): Linear(in_features=768, out_features=768, bias=True)\\n                (key): Linear(in_features=768, out_features=768, bias=True)\\n                (value): Linear(in_features=768, out_features=768, bias=True)\\n                (dropout): Dropout(p=0.1, inplace=False)\\n              )\\n              (output): RobertaSelfOutput(\\n                (dense): Linear(in_features=768, out_features=768, bias=True)\\n                (LayerNorm): LayerNorm((768,), eps=1e-05, elementwise_affine=True)\\n                (dropout): Dropout(p=0.1, inplace=False)\\n              )\\n            )\\n            (intermediate): RobertaIntermediate(\\n              (dense): Linear(in_features=768, out_features=3072, bias=True)\\n            )\\n            (output): RobertaOutput(\\n              (dense): Linear(in_features=3072, out_features=768, bias=True)\\n              (LayerNorm): LayerNorm((768,), eps=1e-05, elementwise_affine=True)\\n              (dropout): Dropout(p=0.1, inplace=False)\\n            )\\n          )\\n          (1): RobertaLayer(\\n            (attention): RobertaAttention(\\n              (self): RobertaSelfAttention(\\n                (query): Linear(in_features=768, out_features=768, bias=True)\\n                (key): Linear(in_features=768, out_features=768, bias=True)\\n                (value): Linear(in_features=768, out_features=768, bias=True)\\n                (dropout): Dropout(p=0.1, inplace=False)\\n              )\\n              (output): RobertaSelfOutput(\\n                (dense): Linear(in_features=768, out_features=768, bias=True)\\n                (LayerNorm): LayerNorm((768,), eps=1e-05, elementwise_affine=True)\\n                (dropout): Dropout(p=0.1, inplace=False)\\n              )\\n            )\\n            (intermediate): RobertaIntermediate(\\n              (dense): Linear(in_features=768, out_features=3072, bias=True)\\n            )\\n            (output): RobertaOutput(\\n              (dense): Linear(in_features=3072, out_features=768, bias=True)\\n              (LayerNorm): LayerNorm((768,), eps=1e-05, elementwise_affine=True)\\n              (dropout): Dropout(p=0.1, inplace=False)\\n            )\\n          )\\n          (2): RobertaLayer(\\n            (attention): RobertaAttention(\\n              (self): RobertaSelfAttention(\\n                (query): Linear(in_features=768, out_features=768, bias=True)\\n                (key): Linear(in_features=768, out_features=768, bias=True)\\n                (value): Linear(in_features=768, out_features=768, bias=True)\\n                (dropout): Dropout(p=0.1, inplace=False)\\n              )\\n              (output): RobertaSelfOutput(\\n                (dense): Linear(in_features=768, out_features=768, bias=True)\\n                (LayerNorm): LayerNorm((768,), eps=1e-05, elementwise_affine=True)\\n                (dropout): Dropout(p=0.1, inplace=False)\\n              )\\n            )\\n            (intermediate): RobertaIntermediate(\\n              (dense): Linear(in_features=768, out_features=3072, bias=True)\\n            )\\n            (output): RobertaOutput(\\n              (dense): Linear(in_features=3072, out_features=768, bias=True)\\n              (LayerNorm): LayerNorm((768,), eps=1e-05, elementwise_affine=True)\\n              (dropout): Dropout(p=0.1, inplace=False)\\n            )\\n          )\\n          (3): RobertaLayer(\\n            (attention): RobertaAttention(\\n              (self): RobertaSelfAttention(\\n                (query): Linear(in_features=768, out_features=768, bias=True)\\n                (key): Linear(in_features=768, out_features=768, bias=True)\\n                (value): Linear(in_features=768, out_features=768, bias=True)\\n                (dropout): Dropout(p=0.1, inplace=False)\\n              )\\n              (output): RobertaSelfOutput(\\n                (dense): Linear(in_features=768, out_features=768, bias=True)\\n                (LayerNorm): LayerNorm((768,), eps=1e-05, elementwise_affine=True)\\n                (dropout): Dropout(p=0.1, inplace=False)\\n              )\\n            )\\n            (intermediate): RobertaIntermediate(\\n              (dense): Linear(in_features=768, out_features=3072, bias=True)\\n            )\\n            (output): RobertaOutput(\\n              (dense): Linear(in_features=3072, out_features=768, bias=True)\\n              (LayerNorm): LayerNorm((768,), eps=1e-05, elementwise_affine=True)\\n              (dropout): Dropout(p=0.1, inplace=False)\\n            )\\n          )\\n          (4): RobertaLayer(\\n            (attention): RobertaAttention(\\n              (self): RobertaSelfAttention(\\n                (query): Linear(in_features=768, out_features=768, bias=True)\\n                (key): Linear(in_features=768, out_features=768, bias=True)\\n                (value): Linear(in_features=768, out_features=768, bias=True)\\n                (dropout): Dropout(p=0.1, inplace=False)\\n              )\\n              (output): RobertaSelfOutput(\\n                (dense): Linear(in_features=768, out_features=768, bias=True)\\n                (LayerNorm): LayerNorm((768,), eps=1e-05, elementwise_affine=True)\\n                (dropout): Dropout(p=0.1, inplace=False)\\n              )\\n            )\\n            (intermediate): RobertaIntermediate(\\n              (dense): Linear(in_features=768, out_features=3072, bias=True)\\n            )\\n            (output): RobertaOutput(\\n              (dense): Linear(in_features=3072, out_features=768, bias=True)\\n              (LayerNorm): LayerNorm((768,), eps=1e-05, elementwise_affine=True)\\n              (dropout): Dropout(p=0.1, inplace=False)\\n            )\\n          )\\n          (5): RobertaLayer(\\n            (attention): RobertaAttention(\\n              (self): RobertaSelfAttention(\\n                (query): Linear(in_features=768, out_features=768, bias=True)\\n                (key): Linear(in_features=768, out_features=768, bias=True)\\n                (value): Linear(in_features=768, out_features=768, bias=True)\\n                (dropout): Dropout(p=0.1, inplace=False)\\n              )\\n              (output): RobertaSelfOutput(\\n                (dense): Linear(in_features=768, out_features=768, bias=True)\\n                (LayerNorm): LayerNorm((768,), eps=1e-05, elementwise_affine=True)\\n                (dropout): Dropout(p=0.1, inplace=False)\\n              )\\n            )\\n            (intermediate): RobertaIntermediate(\\n              (dense): Linear(in_features=768, out_features=3072, bias=True)\\n            )\\n            (output): RobertaOutput(\\n              (dense): Linear(in_features=3072, out_features=768, bias=True)\\n              (LayerNorm): LayerNorm((768,), eps=1e-05, elementwise_affine=True)\\n              (dropout): Dropout(p=0.1, inplace=False)\\n            )\\n          )\\n          (6): RobertaLayer(\\n            (attention): RobertaAttention(\\n              (self): RobertaSelfAttention(\\n                (query): Linear(in_features=768, out_features=768, bias=True)\\n                (key): Linear(in_features=768, out_features=768, bias=True)\\n                (value): Linear(in_features=768, out_features=768, bias=True)\\n                (dropout): Dropout(p=0.1, inplace=False)\\n              )\\n              (output): RobertaSelfOutput(\\n                (dense): Linear(in_features=768, out_features=768, bias=True)\\n                (LayerNorm): LayerNorm((768,), eps=1e-05, elementwise_affine=True)\\n                (dropout): Dropout(p=0.1, inplace=False)\\n              )\\n            )\\n            (intermediate): RobertaIntermediate(\\n              (dense): Linear(in_features=768, out_features=3072, bias=True)\\n            )\\n            (output): RobertaOutput(\\n              (dense): Linear(in_features=3072, out_features=768, bias=True)\\n              (LayerNorm): LayerNorm((768,), eps=1e-05, elementwise_affine=True)\\n              (dropout): Dropout(p=0.1, inplace=False)\\n            )\\n          )\\n          (7): RobertaLayer(\\n            (attention): RobertaAttention(\\n              (self): RobertaSelfAttention(\\n                (query): Linear(in_features=768, out_features=768, bias=True)\\n                (key): Linear(in_features=768, out_features=768, bias=True)\\n                (value): Linear(in_features=768, out_features=768, bias=True)\\n                (dropout): Dropout(p=0.1, inplace=False)\\n              )\\n              (output): RobertaSelfOutput(\\n                (dense): Linear(in_features=768, out_features=768, bias=True)\\n                (LayerNorm): LayerNorm((768,), eps=1e-05, elementwise_affine=True)\\n                (dropout): Dropout(p=0.1, inplace=False)\\n              )\\n            )\\n            (intermediate): RobertaIntermediate(\\n              (dense): Linear(in_features=768, out_features=3072, bias=True)\\n            )\\n            (output): RobertaOutput(\\n              (dense): Linear(in_features=3072, out_features=768, bias=True)\\n              (LayerNorm): LayerNorm((768,), eps=1e-05, elementwise_affine=True)\\n              (dropout): Dropout(p=0.1, inplace=False)\\n            )\\n          )\\n          (8): RobertaLayer(\\n            (attention): RobertaAttention(\\n              (self): RobertaSelfAttention(\\n                (query): Linear(in_features=768, out_features=768, bias=True)\\n                (key): Linear(in_features=768, out_features=768, bias=True)\\n                (value): Linear(in_features=768, out_features=768, bias=True)\\n                (dropout): Dropout(p=0.1, inplace=False)\\n              )\\n              (output): RobertaSelfOutput(\\n                (dense): Linear(in_features=768, out_features=768, bias=True)\\n                (LayerNorm): LayerNorm((768,), eps=1e-05, elementwise_affine=True)\\n                (dropout): Dropout(p=0.1, inplace=False)\\n              )\\n            )\\n            (intermediate): RobertaIntermediate(\\n              (dense): Linear(in_features=768, out_features=3072, bias=True)\\n            )\\n            (output): RobertaOutput(\\n              (dense): Linear(in_features=3072, out_features=768, bias=True)\\n              (LayerNorm): LayerNorm((768,), eps=1e-05, elementwise_affine=True)\\n              (dropout): Dropout(p=0.1, inplace=False)\\n            )\\n          )\\n          (9): RobertaLayer(\\n            (attention): RobertaAttention(\\n              (self): RobertaSelfAttention(\\n                (query): Linear(in_features=768, out_features=768, bias=True)\\n                (key): Linear(in_features=768, out_features=768, bias=True)\\n                (value): Linear(in_features=768, out_features=768, bias=True)\\n                (dropout): Dropout(p=0.1, inplace=False)\\n              )\\n              (output): RobertaSelfOutput(\\n                (dense): Linear(in_features=768, out_features=768, bias=True)\\n                (LayerNorm): LayerNorm((768,), eps=1e-05, elementwise_affine=True)\\n                (dropout): Dropout(p=0.1, inplace=False)\\n              )\\n            )\\n            (intermediate): RobertaIntermediate(\\n              (dense): Linear(in_features=768, out_features=3072, bias=True)\\n            )\\n            (output): RobertaOutput(\\n              (dense): Linear(in_features=3072, out_features=768, bias=True)\\n              (LayerNorm): LayerNorm((768,), eps=1e-05, elementwise_affine=True)\\n              (dropout): Dropout(p=0.1, inplace=False)\\n            )\\n          )\\n          (10): RobertaLayer(\\n            (attention): RobertaAttention(\\n              (self): RobertaSelfAttention(\\n                (query): Linear(in_features=768, out_features=768, bias=True)\\n                (key): Linear(in_features=768, out_features=768, bias=True)\\n                (value): Linear(in_features=768, out_features=768, bias=True)\\n                (dropout): Dropout(p=0.1, inplace=False)\\n              )\\n              (output): RobertaSelfOutput(\\n                (dense): Linear(in_features=768, out_features=768, bias=True)\\n                (LayerNorm): LayerNorm((768,), eps=1e-05, elementwise_affine=True)\\n                (dropout): Dropout(p=0.1, inplace=False)\\n              )\\n            )\\n            (intermediate): RobertaIntermediate(\\n              (dense): Linear(in_features=768, out_features=3072, bias=True)\\n            )\\n            (output): RobertaOutput(\\n              (dense): Linear(in_features=3072, out_features=768, bias=True)\\n              (LayerNorm): LayerNorm((768,), eps=1e-05, elementwise_affine=True)\\n              (dropout): Dropout(p=0.1, inplace=False)\\n            )\\n          )\\n          (11): RobertaLayer(\\n            (attention): RobertaAttention(\\n              (self): RobertaSelfAttention(\\n                (query): Linear(in_features=768, out_features=768, bias=True)\\n                (key): Linear(in_features=768, out_features=768, bias=True)\\n                (value): Linear(in_features=768, out_features=768, bias=True)\\n                (dropout): Dropout(p=0.1, inplace=False)\\n              )\\n              (output): RobertaSelfOutput(\\n                (dense): Linear(in_features=768, out_features=768, bias=True)\\n                (LayerNorm): LayerNorm((768,), eps=1e-05, elementwise_affine=True)\\n                (dropout): Dropout(p=0.1, inplace=False)\\n              )\\n            )\\n            (intermediate): RobertaIntermediate(\\n              (dense): Linear(in_features=768, out_features=3072, bias=True)\\n            )\\n            (output): RobertaOutput(\\n              (dense): Linear(in_features=3072, out_features=768, bias=True)\\n              (LayerNorm): LayerNorm((768,), eps=1e-05, elementwise_affine=True)\\n              (dropout): Dropout(p=0.1, inplace=False)\\n            )\\n          )\\n        )\\n      )\\n      (pooler): RobertaPooler(\\n        (dense): Linear(in_features=768, out_features=768, bias=True)\\n        (activation): Tanh()\\n      )\\n    )\\n  )\\n  (1): Pooling()\\n)'"
            ]
          },
          "metadata": {
            "tags": []
          },
          "execution_count": 11
        }
      ]
    },
    {
      "cell_type": "markdown",
      "metadata": {
        "id": "PuS3WI6ISrYN"
      },
      "source": [
        "## Testing model on test set"
      ]
    },
    {
      "cell_type": "code",
      "metadata": {
        "id": "LjYwu2nqSrYN",
        "colab": {
          "base_uri": "https://localhost:8080/"
        },
        "outputId": "6d20f44f-8192-445f-920d-9269de5f9f78"
      },
      "source": [
        "numeric_test_labels = labels2numeric(test_labels, label_names)\n",
        "evaluate_using_sbert(newmodel, test_sents, test_labels, label_names,\n",
        "                         None, numeric_test_labels, output_path=results_save_path, testing=True)"
      ],
      "execution_count": 12,
      "outputs": [
        {
          "output_type": "stream",
          "text": [
            "Classifying sentences...\n"
          ],
          "name": "stdout"
        },
        {
          "output_type": "stream",
          "text": [
            "100%|██████████| 586/586 [00:11<00:00, 50.33it/s]\n",
            "100%|██████████| 586/586 [00:00<00:00, 5886.33it/s]"
          ],
          "name": "stderr"
        },
        {
          "output_type": "stream",
          "text": [
            "Evaluating predictions...\n",
            "               precision    recall  f1-score   support\n",
            "\n",
            "    Incentive       0.78      0.35      0.48       288\n",
            "not_Incentive       0.59      0.91      0.71       298\n",
            "\n",
            "     accuracy                           0.63       586\n",
            "    macro avg       0.69      0.63      0.60       586\n",
            " weighted avg       0.68      0.63      0.60       586\n",
            "\n",
            "Visualizing...\n",
            "Macro/Weighted Avg F1-score: [0.5975274725274725, 0.5995199339909238]\n"
          ],
          "name": "stdout"
        },
        {
          "output_type": "stream",
          "text": [
            "\n"
          ],
          "name": "stderr"
        },
        {
          "output_type": "execute_result",
          "data": {
            "text/plain": [
              "[0.5975274725274725, 0.5995199339909238]"
            ]
          },
          "metadata": {
            "tags": []
          },
          "execution_count": 12
        }
      ]
    },
    {
      "cell_type": "markdown",
      "metadata": {
        "id": "btpA2taElShG"
      },
      "source": [
        "## Trying to load a model with wandb"
      ]
    },
    {
      "cell_type": "code",
      "metadata": {
        "id": "0tRqePLhlShG"
      },
      "source": [
        "run = wandb.init(project='WRI', entity='ramanshsharma')\n",
        "\n",
        "artifact = run.use_artifact('ramanshsharma/WRI/model:v0', type='model')\n",
        "artifact_dir = artifact.download()\n",
        "\n",
        "run.join()"
      ],
      "execution_count": null,
      "outputs": []
    },
    {
      "cell_type": "markdown",
      "metadata": {
        "id": "yaIYp4FejuMC"
      },
      "source": [
        "## Define evaluation classifier (optional)\n",
        "If using a sklearn or other non-SBERT model as a classifier for evaluation, uncomment one of these models (or add your own and name it `clf`)"
      ]
    },
    {
      "cell_type": "code",
      "metadata": {
        "id": "ri54278ApZIA"
      },
      "source": [
        "from lightgbm import LGBMClassifier\n",
        "from sklearn import svm\n",
        "from sklearn.ensemble import RandomForestClassifier"
      ],
      "execution_count": 13,
      "outputs": []
    },
    {
      "cell_type": "code",
      "metadata": {
        "id": "l9ycZoZ5yU0d"
      },
      "source": [
        "# clf = LGBMClassifier(n_estimators=2000,\n",
        "#                       feature_fraction=0.06,\n",
        "#                       bagging_fraction=0.67,\n",
        "#                       bagging_freq=1,\n",
        "#                       verbose=0,\n",
        "#                       n_jobs=6,\n",
        "#                       random_state=69420)\n",
        "\n",
        "# clf = svm.SVC(gamma=0.001, C=100.)\n",
        "\n",
        "clf = RandomForestClassifier(n_estimators=500,\n",
        "                            max_features=0.06,\n",
        "                            n_jobs=6,\n",
        "                            random_state=69420)"
      ],
      "execution_count": 25,
      "outputs": []
    },
    {
      "cell_type": "code",
      "metadata": {
        "colab": {
          "base_uri": "https://localhost:8080/"
        },
        "id": "SldTfNcdr_Zz",
        "outputId": "a0442aae-9069-4261-81eb-7705dc40f866"
      },
      "source": [
        "evaluate_using_sklearn(clf, newmodel, train_sents, train_labels, test_sents, test_labels,\n",
        "                           label_names, testing=True)"
      ],
      "execution_count": 27,
      "outputs": [
        {
          "output_type": "stream",
          "text": [
            "  0%|          | 8/2342 [00:00<00:32, 71.83it/s]"
          ],
          "name": "stderr"
        },
        {
          "output_type": "stream",
          "text": [
            "Classifying sentences...\n"
          ],
          "name": "stdout"
        },
        {
          "output_type": "stream",
          "text": [
            "100%|██████████| 2342/2342 [00:30<00:00, 77.21it/s]\n",
            "100%|██████████| 586/586 [00:07<00:00, 75.26it/s]\n"
          ],
          "name": "stderr"
        },
        {
          "output_type": "stream",
          "text": [
            "Evaluating predictions...\n",
            "               precision    recall  f1-score   support\n",
            "\n",
            "    Incentive       0.87      0.89      0.88       288\n",
            "not_Incentive       0.89      0.87      0.88       298\n",
            "\n",
            "     accuracy                           0.88       586\n",
            "    macro avg       0.88      0.88      0.88       586\n",
            " weighted avg       0.88      0.88      0.88       586\n",
            "\n",
            "Visualizing...\n",
            "Macro/Weighted Avg F1-score: [0.8788307690515507, 0.8788484118358215]\n"
          ],
          "name": "stdout"
        },
        {
          "output_type": "execute_result",
          "data": {
            "text/plain": [
              "[0.8788307690515507, 0.8788484118358215]"
            ]
          },
          "metadata": {
            "tags": []
          },
          "execution_count": 27
        }
      ]
    },
    {
      "cell_type": "code",
      "metadata": {
        "id": "xphm9pfmsSk6"
      },
      "source": [
        ""
      ],
      "execution_count": null,
      "outputs": []
    }
  ]
}