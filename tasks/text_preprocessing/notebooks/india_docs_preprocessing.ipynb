{
 "cells": [
  {
   "cell_type": "code",
   "execution_count": 18,
   "metadata": {},
   "outputs": [],
   "source": [
    "import pdftotext\n",
    "import matplotlib.pyplot as plt"
   ]
  },
  {
   "cell_type": "code",
   "execution_count": 19,
   "metadata": {},
   "outputs": [],
   "source": [
    "def is_image(file_path):\n",
    "    with open(file_path, \"rb\") as f:\n",
    "        return pdftotext.PDF(f)"
   ]
  },
  {
   "cell_type": "code",
   "execution_count": 21,
   "metadata": {},
   "outputs": [
    {
     "name": "stdout",
     "output_type": "stream",
     "text": [
      "<pdftotext.PDF object at 0x7fe05c716450>\n"
     ]
    }
   ],
   "source": [
    "fpath = \"../input/India/9.National Agroforestry Policy_2014.pdf\"\n",
    "print(is_image(fpath))"
   ]
  },
  {
   "cell_type": "code",
   "execution_count": 24,
   "metadata": {},
   "outputs": [],
   "source": []
  },
  {
   "cell_type": "markdown",
   "metadata": {},
   "source": [
    "## Load Data"
   ]
  },
  {
   "cell_type": "code",
   "execution_count": 99,
   "metadata": {},
   "outputs": [],
   "source": [
    "txt_path = \"../input/India/Sample_NATIONALAGROFORESTRYPOLICY.txt\"\n",
    "with open(txt_path, \"r\") as txt_file:\n",
    "    txt = txt_file.read()"
   ]
  },
  {
   "cell_type": "code",
   "execution_count": 109,
   "metadata": {},
   "outputs": [],
   "source": [
    "# Optional preprocessing\n",
    "txt = txt.replace(\"\\n\", \" \").replace(\"\\t\", \" \").strip()"
   ]
  },
  {
   "cell_type": "markdown",
   "metadata": {},
   "source": [
    "## NLTK"
   ]
  },
  {
   "cell_type": "code",
   "execution_count": 56,
   "metadata": {},
   "outputs": [],
   "source": [
    "import nltk.data"
   ]
  },
  {
   "cell_type": "code",
   "execution_count": 12,
   "metadata": {},
   "outputs": [],
   "source": [
    "tokenizer = nltk.data.load(\"tokenizers/punkt/english.pickle\")"
   ]
  },
  {
   "cell_type": "code",
   "execution_count": 110,
   "metadata": {},
   "outputs": [],
   "source": [
    "sents1 = tokenizer.tokenize(txt)"
   ]
  },
  {
   "cell_type": "code",
   "execution_count": 111,
   "metadata": {},
   "outputs": [
    {
     "data": {
      "text/plain": [
       "215"
      ]
     },
     "execution_count": 111,
     "metadata": {},
     "output_type": "execute_result"
    }
   ],
   "source": [
    "len(sents1)"
   ]
  },
  {
   "cell_type": "code",
   "execution_count": 112,
   "metadata": {},
   "outputs": [
    {
     "data": {
      "text/plain": [
       "(array([16., 49., 64., 40., 21., 12.,  7.,  2.,  1.,  3.]),\n",
       " array([  2. ,  56.2, 110.4, 164.6, 218.8, 273. , 327.2, 381.4, 435.6,\n",
       "        489.8, 544. ]),\n",
       " <BarContainer object of 10 artists>)"
      ]
     },
     "execution_count": 112,
     "metadata": {},
     "output_type": "execute_result"
    },
    {
     "data": {
      "image/png": "[encoded data removed]",
      "text/plain": [
       "<Figure size 432x288 with 1 Axes>"
      ]
     },
     "metadata": {
      "needs_background": "light"
     },
     "output_type": "display_data"
    }
   ],
   "source": [
    "sent_lengths = [len(sent) for sent in sents1]\n",
    "plt.hist(sent_lengths)"
   ]
  },
  {
   "cell_type": "markdown",
   "metadata": {},
   "source": [
    "## SpaCy"
   ]
  },
  {
   "cell_type": "code",
   "execution_count": 63,
   "metadata": {},
   "outputs": [],
   "source": [
    "import spacy "
   ]
  },
  {
   "cell_type": "code",
   "execution_count": 64,
   "metadata": {},
   "outputs": [],
   "source": [
    "nlp = spacy.load(\"en_core_web_lg\") "
   ]
  },
  {
   "cell_type": "code",
   "execution_count": 113,
   "metadata": {},
   "outputs": [],
   "source": [
    "doc = nlp(txt)"
   ]
  },
  {
   "cell_type": "code",
   "execution_count": 114,
   "metadata": {},
   "outputs": [],
   "source": [
    "sents = list(doc.sents)"
   ]
  },
  {
   "cell_type": "code",
   "execution_count": 115,
   "metadata": {},
   "outputs": [
    {
     "data": {
      "text/plain": [
       "259"
      ]
     },
     "execution_count": 115,
     "metadata": {},
     "output_type": "execute_result"
    }
   ],
   "source": [
    "len(sents)"
   ]
  },
  {
   "cell_type": "code",
   "execution_count": 116,
   "metadata": {},
   "outputs": [
    {
     "data": {
      "text/plain": [
       "(array([58., 52., 68., 36., 21., 14.,  6.,  0.,  1.,  3.]),\n",
       " array([ 1. ,  9.8, 18.6, 27.4, 36.2, 45. , 53.8, 62.6, 71.4, 80.2, 89. ]),\n",
       " <BarContainer object of 10 artists>)"
      ]
     },
     "execution_count": 116,
     "metadata": {},
     "output_type": "execute_result"
    },
    {
     "data": {
      "image/png": "[encoded data removed]",
      "text/plain": [
       "<Figure size 432x288 with 1 Axes>"
      ]
     },
     "metadata": {
      "needs_background": "light"
     },
     "output_type": "display_data"
    }
   ],
   "source": [
    "sent_lengths = [len(sent) for sent in sents]\n",
    "plt.hist(sent_lengths)"
   ]
  },
  {
   "cell_type": "code",
   "execution_count": 117,
   "metadata": {},
   "outputs": [
    {
     "name": "stdout",
     "output_type": "stream",
     "text": [
      "Spacy sentence 0: NATIONAL AGROFORESTRY POLICY 2014 GOVERNMENT OF INDIA DEPARTMENT OF AGRICULTURE & COOPERATION MINISTRY OF AGRICULTURE\n",
      "NLTK sentence 0: NATIONAL AGROFORESTRY POLICY 2014 GOVERNMENT OF INDIA DEPARTMENT OF AGRICULTURE & COOPERATION MINISTRY OF AGRICULTURE NEW DELHI   National Agroforestry Policy 1.\n",
      "-------------------------\n",
      "Spacy sentence 1: NEW DELHI   National Agroforestry Policy 1.\n",
      "NLTK sentence 1: Preamble 1.1.\n",
      "-------------------------\n",
      "Spacy sentence 2: Preamble 1.1.\n",
      "NLTK sentence 2: Agroforestry is defined as a land use system which integrate trees and shrubs on farmlands and rural landscapes to enhance productivity, profitability, diversity and ecosystem sustainability.\n",
      "-------------------------\n",
      "Spacy sentence 3: Agroforestry is defined as a land use system which integrate trees and shrubs on farmlands and rural landscapes to enhance productivity, profitability, diversity and ecosystem sustainability.\n",
      "NLTK sentence 3: It is a dynamic, ecologically based, natural resource management system that, through integration of woody perennials on farms and in the agricultural landscape, diversifies and sustains production and builds social institutions.\n",
      "-------------------------\n",
      "Spacy sentence 4: It is a dynamic, ecologically based, natural resource management system that, through integration of woody perennials on farms and in the agricultural landscape, diversifies and sustains production and builds social institutions.\n",
      "NLTK sentence 4: 1.2 Agroforestry systems include both traditional and modern land-use systems where trees are managed together with crops and or/ animal production systems in agricultural settings.\n",
      "-------------------------\n",
      "Spacy sentence 5: 1.2 Agroforestry systems include both traditional and modern land-use systems where trees are managed together with crops and or/ animal production systems in agricultural settings.\n",
      "NLTK sentence 5: Agroforestry is practiced in both irrigated and rain fed conditions where it produces food, fuel, fodder, timber, fertilizer and fibre, contributes to food, nutritional and ecological security, sustains livelihoods, alleviates poverty and promotes productive and resilient cropping and farming environments.\n",
      "-------------------------\n",
      "Spacy sentence 6: Agroforestry is practiced in both irrigated and rain fed conditions where it produces food, fuel, fodder, timber, fertilizer and fibre, contributes to food, nutritional and ecological security, sustains livelihoods, alleviates poverty and promotes productive and resilient cropping and farming environments.\n",
      "NLTK sentence 6: Agroforestry also has the potential to enhance ecosystem services through carbon storage, prevention of deforestation, biodiversity conservation, and soil and water conservation.\n",
      "-------------------------\n",
      "Spacy sentence 7: Agroforestry also has the potential to enhance ecosystem services through carbon storage, prevention of deforestation, biodiversity conservation, and soil and water conservation.\n",
      "NLTK sentence 7: In addition, when strategically applied on a large scale, with appropriate mix of species, agroforestry enables agricultural land to withstand extreme weather events, such as floods and droughts, and climate change.\n",
      "-------------------------\n",
      "Spacy sentence 8: In addition, when strategically applied on a large scale, with appropriate mix of species, agroforestry enables agricultural land to withstand extreme weather events, such as floods and droughts, and climate change.\n",
      "NLTK sentence 8: 1.3 Agroforestry has significant potential to provide employment to rural and urban population through production, industrial application and value addition ventures.\n",
      "-------------------------\n",
      "Spacy sentence 9: 1.3 Agroforestry has significant potential to provide employment to rural and urban population through production, industrial application and value addition ventures.\n",
      "NLTK sentence 9: Current estimates show that about 65 % of the country’s timber requirement is met from the trees grown on farms.\n",
      "-------------------------\n",
      "Spacy sentence 10: Current estimates show that about 65 % of the country’s timber requirement is met from the trees grown on farms.\n",
      "NLTK sentence 10: Agroforestry also generates significant employment opportunities.\n",
      "-------------------------\n",
      "Spacy sentence 11: Agroforestry also generates significant employment opportunities.\n",
      "NLTK sentence 11: 1.4 It is also recognized that agroforestry is perhaps the only alternative to meeting the target of increasing forest or tree cover to 33 per cent from the present level of less than 25 per cent, as envisaged in the National Forest Policy (1988).\n",
      "-------------------------\n",
      "Spacy sentence 12: 1.4\n",
      "NLTK sentence 12: 1.5 A major role for agroforestry is emerging in the domain of environmental services.\n",
      "-------------------------\n",
      "Spacy sentence 13: It is also recognized that agroforestry is perhaps the only alternative to meeting the target of increasing forest or tree cover to 33 per cent from the present level of less than 25 per cent, as envisaged in the National Forest Policy (1988).\n",
      "NLTK sentence 13: Agroforestry is known to have the potential to mitigate the climate change effects through microclimate moderation and natural resources conservation in the short run and through carbon sequestration in the long run.\n",
      "-------------------------\n",
      "Spacy sentence 14: 1.5 A major role for agroforestry is emerging in the domain of environmental services.\n",
      "NLTK sentence 14: Agroforestry species are known to sequester as much carbon in below ground biomass as the primary forests, and far greater than the crop and grass systems.\n",
      "-------------------------\n",
      "Spacy sentence 15: Agroforestry is known to have the potential to mitigate the climate change effects through microclimate moderation and natural resources conservation in the short run and through carbon sequestration in the long run.\n",
      "NLTK sentence 15: 1.6 Agroforestry systems offer means to address to a significant extent the present challenges of food, nutrition, energy, employment and environmental security.\n",
      "-------------------------\n",
      "Spacy sentence 16: Agroforestry species are known to sequester as much carbon in below ground biomass as the primary forests, and far greater than the crop and grass systems.\n",
      "NLTK sentence 16: However, appropriate research interventions, adequate investment, suitable extension strategies, incentives to agroforestry practitioners, enabling legal and 1   regulatory environment, marketing of agroforestry produce, post-harvest processing, development of new products, and above all a forward looking National Agroforestry Policy is required to address these issues.\n",
      "-------------------------\n",
      "Spacy sentence 17: 1.6 Agroforestry systems offer means to address to a significant extent the present challenges of food, nutrition, energy, employment and environmental security.\n",
      "NLTK sentence 17: 1.7 Given the fact that land-holding size is shrinking, tree farming combined with agriculture is perhaps the only way forward to optimize the farm productivity and thus, enhancing livelihood opportunities of small farmers, landless and the women.\n",
      "-------------------------\n",
      "Spacy sentence 18: However, appropriate research interventions, adequate investment, suitable extension strategies, incentives to agroforestry practitioners, enabling legal and 1   regulatory environment, marketing of agroforestry produce, post-harvest processing, development of new products, and above all a forward looking National Agroforestry Policy is required to address these issues.\n",
      "NLTK sentence 18: Agroforestry interventions can be a potent instrument to help achieve the 4 percent sustained growth in agriculture.\n",
      "-------------------------\n",
      "Spacy sentence 19: 1.7 Given the fact that land-holding size is shrinking, tree farming combined with agriculture is perhaps the only way forward to optimize the farm productivity and thus, enhancing livelihood opportunities of small farmers, landless and the women.\n",
      "NLTK sentence 19: In short, trees on farm or agroforestry are uniquely place for achieving multiple objectives, especially the food, nutrition, employment, health and environmental security.\n",
      "-------------------------\n"
     ]
    }
   ],
   "source": [
    "for i, (sent_spacy, sent_nltk) in enumerate(zip(sents[:20], sents1[:20])):\n",
    "    print(f\"Spacy sentence {i}: {sent_spacy}\")\n",
    "    print(f\"NLTK sentence {i}: {sent_nltk}\\n-------------------------\")"
   ]
  },
  {
   "cell_type": "markdown",
   "metadata": {},
   "source": [
    "## Observations"
   ]
  },
  {
   "cell_type": "markdown",
   "metadata": {},
   "source": [
    "- It appears that spaCy gets confused with numbers (i.e 1.4 or 3.4) and counts them as their own sentence\n",
    "- Replacing new lines, tabs and trailing spaces seem to benefit the sentence splitting for spaCy.\n",
    "\n",
    "**TODO**:\n",
    "- Check other documents\n",
    "- Compare with rule based system\n",
    "\n",
    "**General TODO**:\n",
    "- Make sure to define the PDF reading part well"
   ]
  },
  {
   "cell_type": "code",
   "execution_count": null,
   "metadata": {},
   "outputs": [],
   "source": []
  }
 ],
 "metadata": {
  "kernelspec": {
   "display_name": "wri-env",
   "language": "python",
   "name": "wri-env"
  },
  "language_info": {
   "codemirror_mode": {
    "name": "ipython",
    "version": 3
   },
   "file_extension": ".py",
   "mimetype": "text/x-python",
   "name": "python",
   "nbconvert_exporter": "python",
   "pygments_lexer": "ipython3",
   "version": "3.8.5"
  }
 },
 "nbformat": 4,
 "nbformat_minor": 4
}
