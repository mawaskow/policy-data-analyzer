{
 "cells": [
  {
   "cell_type": "code",
   "execution_count": 200,
   "metadata": {},
   "outputs": [],
   "source": [
    "import pdftotext\n",
    "import matplotlib.pyplot as plt\n",
    "import re\n",
    "import random"
   ]
  },
  {
   "cell_type": "code",
   "execution_count": 19,
   "metadata": {},
   "outputs": [],
   "source": [
    "def is_image(file_path):\n",
    "    with open(file_path, \"rb\") as f:\n",
    "        return pdftotext.PDF(f)"
   ]
  },
  {
   "cell_type": "code",
   "execution_count": 119,
   "metadata": {},
   "outputs": [
    {
     "name": "stdout",
     "output_type": "stream",
     "text": [
      "<pdftotext.PDF object at 0x7fe02e3aeea0>\n"
     ]
    }
   ],
   "source": [
    "fpath = \"../input/India/10.NMSA_Guidelines_English.pdf\"\n",
    "print(is_image(fpath))"
   ]
  },
  {
   "cell_type": "code",
   "execution_count": 24,
   "metadata": {},
   "outputs": [],
   "source": []
  },
  {
   "cell_type": "markdown",
   "metadata": {},
   "source": [
    "## NLTK"
   ]
  },
  {
   "cell_type": "code",
   "execution_count": 152,
   "metadata": {},
   "outputs": [],
   "source": [
    "import nltk.data\n",
    "tokenizer = nltk.data.load(\"tokenizers/punkt/english.pickle\")\n",
    "\n",
    "def get_nltk_sents(txt):\n",
    "    sents = tokenizer.tokenize(txt)\n",
    "    \n",
    "    return sents"
   ]
  },
  {
   "cell_type": "markdown",
   "metadata": {},
   "source": [
    "## SpaCy"
   ]
  },
  {
   "cell_type": "code",
   "execution_count": 153,
   "metadata": {},
   "outputs": [],
   "source": [
    "import spacy \n",
    "nlp = spacy.load(\"en_core_web_lg\") \n",
    "\n",
    "def get_spacy_sents(txt):\n",
    "    doc = nlp(txt)\n",
    "    sents = list(doc.sents)\n",
    "    \n",
    "    return sents"
   ]
  },
  {
   "cell_type": "markdown",
   "metadata": {},
   "source": [
    "## Comparison methods"
   ]
  },
  {
   "cell_type": "code",
   "execution_count": 193,
   "metadata": {},
   "outputs": [],
   "source": [
    "def word_count_dist(sents1, sents2):\n",
    "    sent_lengths1 = [len(str(sent).split()) for sent in sents1]\n",
    "    sent_lengths2 = [len(str(sent).split()) for sent in sents2]\n",
    "    \n",
    "    fig, (ax1, ax2) = plt.subplots(2, 1)\n",
    "    \n",
    "    fig.suptitle('# of words per sentence distributions')\n",
    "\n",
    "    ax1.hist(sent_lengths1)\n",
    "    ax1.set_ylabel('NLTK # of words ')\n",
    "    \n",
    "    ax2.hist(sent_lengths2)\n",
    "    ax2.set_xlabel('Number of sentences')\n",
    "    ax2.set_ylabel('SpaCy # of words')\n",
    "\n",
    "    plt.show()\n",
    "    \n",
    "def show_compare_sents(sents1, sents2, start_idx=0, end_idx=10):\n",
    "    for i, (sent1, sent2) in enumerate(zip(sents1[start_idx:end_idx], sents2[start_idx:end_idx])):\n",
    "        print(f\"Spacy sentence {i}: {sent1}\")\n",
    "        print(f\"NLTK sentence {i}: {sent2}\\n\\n-------------------------\\n\")"
   ]
  },
  {
   "cell_type": "markdown",
   "metadata": {},
   "source": [
    "## Load Data"
   ]
  },
  {
   "cell_type": "code",
   "execution_count": 174,
   "metadata": {},
   "outputs": [],
   "source": [
    "base_path = \"../input/USA/\"\n",
    "# test_paths = [\"Sample_NATIONALAGROFORESTRYPOLICY.txt\", \"text_PESA.txt\", \"text_MineralConcessionRules1960.txt\"]\n",
    "test_paths = [\"Federal Register, Volume 85 Issue 190 (Wednesday, September 30, 2020).htm\"]\n",
    "txt_path = base_path + test_paths[0]\n",
    "\n",
    "with open(txt_path, \"r\") as txt_file:\n",
    "    txt = txt_file.read()"
   ]
  },
  {
   "cell_type": "code",
   "execution_count": 179,
   "metadata": {},
   "outputs": [],
   "source": [
    "def remove_html_tags(text):\n",
    "    \"\"\"Remove html tags from a string\"\"\"\n",
    "    clean = re.compile('<.*?>')\n",
    "    return re.sub(clean, '', text)"
   ]
  },
  {
   "cell_type": "code",
   "execution_count": 181,
   "metadata": {},
   "outputs": [],
   "source": [
    "# Optional preprocessing\n",
    "txt = remove_html_tags(txt).replace(\"\\n\", \" \").replace(\"\\t\", \" \").strip()"
   ]
  },
  {
   "cell_type": "markdown",
   "metadata": {},
   "source": [
    "## Comparison analysis"
   ]
  },
  {
   "cell_type": "code",
   "execution_count": 194,
   "metadata": {},
   "outputs": [
    {
     "name": "stdout",
     "output_type": "stream",
     "text": [
      "Number of sentences identified by NLTK: 237\n",
      "Number of sentences identified by spaCy: 277\n"
     ]
    },
    {
     "data": {
      "image/png": "[encoded data removed]",
      "text/plain": [
       "<Figure size 432x288 with 2 Axes>"
      ]
     },
     "metadata": {
      "needs_background": "light"
     },
     "output_type": "display_data"
    }
   ],
   "source": [
    "nltk_sents = get_nltk_sents(txt)\n",
    "spacy_sents = get_spacy_sents(txt)\n",
    "\n",
    "print(\"Number of sentences identified by NLTK:\", len(nltk_sents))\n",
    "print(\"Number of sentences identified by spaCy:\", len(spacy_sents))\n",
    "word_count_dist(nltk_sents, spacy_sents)"
   ]
  },
  {
   "cell_type": "code",
   "execution_count": 173,
   "metadata": {
    "collapsed": true,
    "jupyter": {
     "outputs_hidden": true
    }
   },
   "outputs": [
    {
     "name": "stdout",
     "output_type": "stream",
     "text": [
      "Spacy sentence 0: Government of India Ministry of Mines MINERAL CONCESSION RULES, 1960 (As amended up to 26th July, 2012) Issued by CONTROLLER GENERAL, INDIAN BUREAU OF MINES,\n",
      "NLTK sentence 0: Government of India Ministry of Mines MINERAL CONCESSION RULES, 1960 (As amended up to 26th July, 2012) Issued by CONTROLLER GENERAL, INDIAN BUREAU OF MINES, NAGPUR October, 2012 Price: (Inland) Rs.\n",
      "\n",
      "-------------------------\n",
      "\n",
      "Spacy sentence 1: NAGPUR October, 2012\n",
      "NLTK sentence 1: 195.00; (Foreign) £ 2.53 or $ 4.24 _____________________________ Printed at IBM Press, 15/500/August, 2005  Rule CONTENTS I - Preliminary Page No.\n",
      "\n",
      "-------------------------\n",
      "\n",
      "Spacy sentence 2: Price:\n",
      "NLTK sentence 2: CHAPTER 1.\n",
      "\n",
      "-------------------------\n",
      "\n",
      "Spacy sentence 3: (Inland) Rs.\n",
      "NLTK sentence 3: Short title 2.\n",
      "\n",
      "-------------------------\n",
      "\n",
      "Spacy sentence 4: 195.00; (Foreign) £ 2.53 or $ 4.24\n",
      "NLTK sentence 4: Definitions 3.\n",
      "\n",
      "-------------------------\n",
      "\n",
      "Spacy sentence 5: ____\n",
      "NLTK sentence 5: Saving of Act 33 of 1962 1 CHAPTER II – Grant of Reconnaissance Permit 4.\n",
      "\n",
      "-------------------------\n",
      "\n",
      "Spacy sentence 6: __\n",
      "NLTK sentence 6: Application for reconnaissance permit 2 4A.\n",
      "\n",
      "-------------------------\n",
      "\n",
      "Spacy sentence 7: __\n",
      "NLTK sentence 7: Acknowledgement of application 3 5.\n",
      "\n",
      "-------------------------\n",
      "\n",
      "Spacy sentence 8: __\n",
      "NLTK sentence 8: Refusal of application for a reconnaissance permit 3 6.\n",
      "\n",
      "-------------------------\n",
      "\n",
      "Spacy sentence 9: __\n",
      "NLTK sentence 9: Status of grant on death of the applicant 3 for reconnaissance permit 7.\n",
      "\n",
      "-------------------------\n",
      "\n"
     ]
    }
   ],
   "source": [
    "show_compare_sents(spacy_sents, nltk_sents)"
   ]
  },
  {
   "cell_type": "code",
   "execution_count": 224,
   "metadata": {},
   "outputs": [],
   "source": [
    "# Now let's get some sample sentences with a given length\n",
    "def sample_sents_by_word_count(sents, word_count_range, sents_idx, random=False):\n",
    "    result_sents = []\n",
    "    word_counts = [len(str(sent).split()) for sent in sents]\n",
    "    \n",
    "    for sent, count in zip(sents, word_counts):\n",
    "        if word_count_range[0] <= count <= word_count_range[1]:\n",
    "            result_sents.append(sent)\n",
    "    \n",
    "    if random:\n",
    "        return random.sample(result_sents, sents_idx[1])\n",
    "    return result_sents[sents_idx[0]:sents_idx[1]]"
   ]
  },
  {
   "cell_type": "code",
   "execution_count": 230,
   "metadata": {},
   "outputs": [
    {
     "data": {
      "text/plain": [
       "['ACTION: Final rule.',\n",
       " '-----------------------------------------------------------------------  SUMMARY: We, the U.S.',\n",
       " 'DATES: This rule is effective October 30, 2020.',\n",
       " 'FWS-R4-ES-2018-0074 and at https://www.fws.gov/southeast/.',\n",
       " 'FWS-R4-ES-2018-0074.',\n",
       " 'FOR FURTHER INFORMATION CONTACT: William Pearson, Field Supervisor,  U.S.',\n",
       " '1531 et seq.).',\n",
       " 'Both documents are available at http://www.regulations.gov  under Docket No.',\n",
       " 'None of  the comments opposed the proposed 4(d) rule.',\n",
       " 'Lexis 60203 (D. Or.',\n",
       " 'Lexis 5432 (W.D.',\n",
       " 'Wash. 2002)).',\n",
       " '1988)).',\n",
       " 'Rep. No.',\n",
       " '412, 93rd Cong., 1st  Sess.',\n",
       " '1973).',\n",
       " 'This  curtails the likelihood of incidental take occurring.',\n",
       " 'Regulations governing permits are codified at 50  CFR 17.32.',\n",
       " 'OIRA has determined that  this rule is not significant.',\n",
       " 'E.O.',\n",
       " '13563 reaffirms the principles of E.O.',\n",
       " 'E.O.',\n",
       " 'Regulatory Flexibility Act (5 U.S.C.',\n",
       " '601 et seq.)',\n",
       " 'Under the Regulatory Flexibility Act (RFA; 5 U.S.C.',\n",
       " '601 et seq.',\n",
       " '801 et seq.',\n",
       " 'See 5 U.S.C.',\n",
       " '605(b).',\n",
       " 'The following discussion explains our rationale.']"
      ]
     },
     "execution_count": 230,
     "metadata": {},
     "output_type": "execute_result"
    }
   ],
   "source": [
    "sample_sents_by_word_count(nltk_sents, [1, 10], [0, 30])"
   ]
  },
  {
   "cell_type": "code",
   "execution_count": 231,
   "metadata": {},
   "outputs": [
    {
     "data": {
      "text/plain": [
       "[www.gpo.gov],\n",
       " [FR Doc,\n",
       " No: 2020-19109,\n",
       " ]   ======================================================================= -----------------------------------------------------------------------  ,\n",
       " DEPARTMENT OF,\n",
       " THE INTERIOR  Fish and Wildlife Service  50 CFR Part 17  ,\n",
       " [Docket No.,\n",
       " FWS-R4-ES-2018-0074; FF09E21000 FXES11110900000 201],\n",
       " RIN 1018-BD43   Endangered and Threatened Wildlife and Plants; Section 4(d),\n",
       " Rule  for Trispot Darter  AGENCY:,\n",
       " Fish and Wildlife Service, Interior.  ,\n",
       " ACTION:,\n",
       " Final rule.  ,\n",
       " -----------------------------------------------------------------------  ,\n",
       " SUMMARY:,\n",
       " DATES: This rule is effective October 30, 2020.  ,\n",
       " ADDRESSES:,\n",
       " Docket No.,\n",
       " FWS,\n",
       " -R4-ES-2018-0074,\n",
       " Docket No.  ,\n",
       " FWS,\n",
       " -R4-ES-2018-0074.  ,\n",
       " FOR FURTHER INFORMATION CONTACT:,\n",
       " SUPPLEMENTARY INFORMATION:  ,\n",
       " Previous Federal Actions      ,\n",
       " Summary of Changes From the Proposed Rule      ,\n",
       " Specifically, we replaced the term  ``highest-standard best management practices'',\n",
       " with the term ``State  best management practices.''     ,\n",
       " Background      ]"
      ]
     },
     "execution_count": 231,
     "metadata": {},
     "output_type": "execute_result"
    }
   ],
   "source": [
    "sample_sents_by_word_count(spacy_sents, [1, 10], [0, 30])"
   ]
  },
  {
   "cell_type": "code",
   "execution_count": null,
   "metadata": {},
   "outputs": [],
   "source": []
  },
  {
   "cell_type": "markdown",
   "metadata": {},
   "source": [
    "## Observations"
   ]
  },
  {
   "cell_type": "markdown",
   "metadata": {},
   "source": [
    "- It appears that spaCy gets confused with numbers (i.e 1.4 or 3.4) and counts them as their own sentence\n",
    "- Replacing new lines, tabs and trailing spaces seem to benefit the sentence splitting for spaCy.\n",
    "- spaCy seems to have troubles with symbols as well, such as lines --------\n",
    "\n",
    "**TODO**:\n",
    "- [ ] Try looking at examples from different parts of the distribution\n",
    "- [ ] Check other documents - also Spanish from Chile and El Salvador\n",
    "- [ ] Compare with rule based system\n",
    "\n",
    "**General TODO**:\n",
    "- Make sure to define the PDF reading part well"
   ]
  },
  {
   "cell_type": "code",
   "execution_count": null,
   "metadata": {},
   "outputs": [],
   "source": []
  }
 ],
 "metadata": {
  "kernelspec": {
   "display_name": "wri-env",
   "language": "python",
   "name": "wri-env"
  },
  "language_info": {
   "codemirror_mode": {
    "name": "ipython",
    "version": 3
   },
   "file_extension": ".py",
   "mimetype": "text/x-python",
   "name": "python",
   "nbconvert_exporter": "python",
   "pygments_lexer": "ipython3",
   "version": "3.8.5"
  }
 },
 "nbformat": 4,
 "nbformat_minor": 4
}
