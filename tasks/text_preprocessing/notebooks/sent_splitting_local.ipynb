{
 "cells": [
  {
   "cell_type": "code",
   "execution_count": 1,
   "id": "f826d2eb-897e-445b-8ece-6217b3bfc835",
   "metadata": {
    "tags": []
   },
   "outputs": [],
   "source": [
    "from typing import Dict, List, Any, Set\n",
    "import os\n",
    "\n",
    "os.chdir(\"..\")\n",
    "from src.utils import *\n",
    "\n",
    "import nltk\n",
    "#nltk.download('punkt')\n",
    "import json\n",
    "import argparse\n",
    "import unidecode\n",
    "\n",
    "EN_TOKENIZER = nltk.data.load(\"tokenizers/punkt/english.pickle\")\n",
    "ES_TOKENIZER = nltk.data.load(\"tokenizers/punkt/spanish.pickle\")"
   ]
  },
  {
   "cell_type": "code",
   "execution_count": 2,
   "id": "e976f132-5ae5-4432-ac26-439cc40e95f3",
   "metadata": {
    "tags": []
   },
   "outputs": [],
   "source": [
    "def format_sents_for_output(sents: List[str], doc_id: str) -> Dict[str, Dict[str, Any]]:\n",
    "    \"\"\"\n",
    "    Transform a list of sentences into a dict of format:\n",
    "        {\n",
    "            \"sent_id\": {\"text\": \"sentence text\", \"label\": []}\n",
    "        }\n",
    "    \"\"\"\n",
    "    formatted_sents = {}\n",
    "\n",
    "    for i, sent in enumerate(sents):\n",
    "        formatted_sents.update({f\"{doc_id}_sent_{i}\": {\"text\": sent, \"label\": []}})\n",
    "\n",
    "    return formatted_sents\n",
    "\n",
    "\n",
    "def preprocess_text(txt: str, remove_new_lines: bool = False) -> str:\n",
    "    \"\"\"\n",
    "    Steps in the preprocessing of text:\n",
    "        1. Remove HTML tags\n",
    "        2. Replace URLS by a tag [URL]\n",
    "        3. Replace new lines and tabs by normal spaces - sometimes sentences have new lines in the middle\n",
    "        4. Remove excessive spaces (more than 1 occurrence)\n",
    "        5. Parse emails and abreviations\n",
    "    \"\"\"\n",
    "    txt = replace_links(remove_html_tags(txt)).strip()\n",
    "    if remove_new_lines:\n",
    "        txt = txt.replace(\"\\n\", \" \").replace(\"\\t\", \" \").strip()\n",
    "\n",
    "    txt = remove_multiple_spaces(txt)\n",
    "    txt = parse_emails(txt)\n",
    "    txt = parse_acronyms(txt)\n",
    "\n",
    "    new_txt = \"\"\n",
    "    all_period_idx = set([indices.start() for indices in re.finditer(\"\\.\", txt)])\n",
    "\n",
    "    for i, char in enumerate(txt):\n",
    "        if i in all_period_idx:\n",
    "            # Any char following a period that is NOT a space means that we should not add that period\n",
    "            if i + 1 < len(txt) and txt[i + 1] != \" \":\n",
    "                continue\n",
    "\n",
    "            # NOTE: Any char that is a number following a period will not count.\n",
    "            # For enumerations, we're counting on docs being enumerated as \"(a)\" or \"(ii)\", and if not,\n",
    "            # they will be separated by the \".\" after the number:\n",
    "            # \"Before bullet point. 3. Bullet point text\" will just be \"Before bullet point 3.\" and \"Bullet point text\" as the sentences\n",
    "            if i + 2 < len(txt) and txt[i + 2].isnumeric():\n",
    "                continue\n",
    "\n",
    "            # If we wanted to have all numbered lists together, uncomment this, and comment out the previous condition\n",
    "            # if i + 2 < len(txt) and not txt[i + 2].isalpha():\n",
    "            #     continue\n",
    "\n",
    "        new_txt += char\n",
    "\n",
    "    return new_txt\n",
    "\n",
    "\n",
    "def preprocess_english_text(txt: str, remove_new_lines: bool = False) -> str:\n",
    "    return preprocess_text(txt, remove_new_lines)\n",
    "\n",
    "\n",
    "def preprocess_spanish_text(txt: str, remove_new_lines: bool = False) -> str:\n",
    "    return unidecode.unidecode(preprocess_text(txt, remove_new_lines))\n",
    "\n",
    "\n",
    "def remove_short_sents(sents: List[str], min_num_words: int = 4) -> List[str]:\n",
    "    \"\"\"\n",
    "    Remove sentences that are made of less than a given number of words. Default is 4\n",
    "    \"\"\"\n",
    "    return [sent for sent in sents if len(sent.split()) >= min_num_words]\n",
    "\n",
    "\n",
    "def get_nltk_sents(txt: str, tokenizer: nltk.PunktSentenceTokenizer, extra_abbreviations: Set[str] = None) -> List[str]:\n",
    "    if extra_abbreviations is not None:\n",
    "        tokenizer._params.abbrev_types.update(extra_abbreviations)\n",
    "\n",
    "    return tokenizer.tokenize(txt)"
   ]
  },
  {
   "cell_type": "code",
   "execution_count": 27,
   "id": "1c31c99d-7397-4675-b686-382ea7eea1bb",
   "metadata": {
    "tags": []
   },
   "outputs": [],
   "source": [
    "language='spanish'\n",
    "abbrevs= None\n",
    "tokenizer = ES_TOKENIZER\n",
    "min_num_words = 5\n",
    "\n",
    "with open(\"../extract_text/output/pdf_files.json\", \"r\", encoding=\"utf-8\") as f:\n",
    "    pdf_conv = json.load(f)\n"
   ]
  },
  {
   "cell_type": "code",
   "execution_count": 28,
   "id": "4ebefd11-ecd5-47af-aa2c-f3e7f775b7b0",
   "metadata": {
    "tags": []
   },
   "outputs": [],
   "source": [
    "file_lst = []\n",
    "for key in pdf_conv:\n",
    "    file_lst.append((key,pdf_conv[key]['Text']))"
   ]
  },
  {
   "cell_type": "code",
   "execution_count": 35,
   "id": "8416064a-cf99-43c2-b33e-7617dea5acea",
   "metadata": {
    "tags": []
   },
   "outputs": [
    {
     "name": "stdout",
     "output_type": "stream",
     "text": [
      "----------------------------------------------\n",
      "Processing 10 documents...\n",
      "Number of errors so far: 0\n",
      "----------------------------------------------\n",
      "----------------------------------------------\n",
      "Processing 20 documents...\n",
      "Number of errors so far: 0\n",
      "----------------------------------------------\n",
      "----------------------------------------------\n",
      "Processing 30 documents...\n",
      "Number of errors so far: 0\n",
      "----------------------------------------------\n",
      "----------------------------------------------\n",
      "Processing 40 documents...\n",
      "Number of errors so far: 0\n",
      "----------------------------------------------\n",
      "----------------------------------------------\n",
      "Processing 50 documents...\n",
      "Number of errors so far: 0\n",
      "----------------------------------------------\n",
      "----------------------------------------------\n",
      "Processing 60 documents...\n",
      "Number of errors so far: 0\n",
      "----------------------------------------------\n",
      "=============================================================\n",
      "Total documents processed: 61\n",
      "Total number of documents with errors: 0. Stored file in ../output/sentence_splitting_errors.json\n",
      "=============================================================\n"
     ]
    }
   ],
   "source": [
    "error_files={}\n",
    "i = 0\n",
    "for file_id, text in file_lst:\n",
    "    try:\n",
    "        preprocessed_text = preprocess_spanish_text(text)\n",
    "        sents = get_nltk_sents(preprocessed_text, tokenizer, abbrevs)\n",
    "        postprocessed_sents = format_sents_for_output(remove_short_sents(sents, min_num_words), file_id)\n",
    "        sents_json = {file_id: {\"metadata\":\n",
    "            {\"n_sentences\": len(postprocessed_sents),\n",
    "            \"language\": language},\n",
    "            \"sentences\": postprocessed_sents}}\n",
    "        with open(f'./output/new/{file_id}_sents.json', 'w') as f:\n",
    "            json.dump(sents_json, f)\n",
    "\n",
    "    except Exception as e:\n",
    "        error_files[str(file_id)]= str(e)\n",
    "\n",
    "    i += 1\n",
    "\n",
    "    if i % 10 == 0:\n",
    "        print(\"----------------------------------------------\")\n",
    "        print(f\"Processing {i} documents...\")\n",
    "        print(f\"Number of errors so far: {len(error_files)}\")\n",
    "        print(\"----------------------------------------------\")\n",
    "\n",
    "with open(\"./errors.json\", \"w\") as x:\n",
    "    json.dump(error_files, x)\n",
    "\n",
    "print(\"=============================================================\")\n",
    "print(f\"Total documents processed: {i}\")\n",
    "print(f\"Total number of documents with errors: {len(error_files)}. Stored file in ../output/sentence_splitting_errors.json\")\n",
    "print(\"=============================================================\")"
   ]
  }
 ],
 "metadata": {
  "kernelspec": {
   "display_name": "Python 3 (ipykernel)",
   "language": "python",
   "name": "python3"
  },
  "language_info": {
   "codemirror_mode": {
    "name": "ipython",
    "version": 3
   },
   "file_extension": ".py",
   "mimetype": "text/x-python",
   "name": "python",
   "nbconvert_exporter": "python",
   "pygments_lexer": "ipython3",
   "version": "3.11.5"
  }
 },
 "nbformat": 4,
 "nbformat_minor": 5
}
