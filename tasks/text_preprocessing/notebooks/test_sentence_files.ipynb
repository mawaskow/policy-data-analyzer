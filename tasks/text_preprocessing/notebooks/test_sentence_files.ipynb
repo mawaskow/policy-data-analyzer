{
 "cells": [
  {
   "cell_type": "markdown",
   "metadata": {},
   "source": [
    "### 1. Evauate Chile data"
   ]
  },
  {
   "cell_type": "code",
   "execution_count": 1,
   "metadata": {},
   "outputs": [],
   "source": [
    "import sys\n",
    "sys.path.append(\"../../\")\n",
    "sys.path.append(\"../../../\")\n",
    "from tasks.data_loader.src.utils import *\n",
    "import json"
   ]
  },
  {
   "cell_type": "code",
   "execution_count": 2,
   "metadata": {},
   "outputs": [],
   "source": [
    "file = load_file(\"../input/Chile_V1_210108.json\")"
   ]
  },
  {
   "cell_type": "code",
   "execution_count": 3,
   "metadata": {},
   "outputs": [],
   "source": [
    "sent_label_map = labeled_sentences_from_dataset(file)"
   ]
  },
  {
   "cell_type": "code",
   "execution_count": 4,
   "metadata": {},
   "outputs": [
    {
     "data": {
      "text/plain": [
       "188046"
      ]
     },
     "execution_count": 4,
     "metadata": {},
     "output_type": "execute_result"
    }
   ],
   "source": [
    "len(sent_label_map)"
   ]
  },
  {
   "cell_type": "code",
   "execution_count": 18,
   "metadata": {},
   "outputs": [
    {
     "data": {
      "text/plain": [
       "{'text': 'Tipo Norma :Acuerdo 51', 'labels': []}"
      ]
     },
     "execution_count": 18,
     "metadata": {},
     "output_type": "execute_result"
    }
   ],
   "source": [
    "sent_label_map['0002998_1']"
   ]
  },
  {
   "cell_type": "markdown",
   "metadata": {},
   "source": [
    "### Sentences that start with a comma"
   ]
  },
  {
   "cell_type": "code",
   "execution_count": 34,
   "metadata": {},
   "outputs": [
    {
     "data": {
      "text/plain": [
       "(1201,\n",
       " [('0058c31_89',\n",
       "   {'text': ', tendra una validez de dos años a partir de la entrada en vigencia de la presente resolucion y sera prorrogado automaticamente en la medida que no se produzcan cambios a nivel operativo en los procedimientos autorizados por este Servicio o a nivel territorial, que pudieran afectar el estatus fitosanitario del material que sera exportado a Chile',\n",
       "    'labels': []}),\n",
       "  ('0066d2d_36', {'text': ', Wodyetia bifurcata y Yucca spp', 'labels': []}),\n",
       "  ('00a4528_12',\n",
       "   {'text': ', de fecha 31 de diciembre de 2018, Fija tarifa por prestacion de servicios de contencion inicial de contaminacion en el territorio antartico',\n",
       "    'labels': []}),\n",
       "  ('00abdb9_76',\n",
       "   {'text': ', en el territorio que sera compartido', 'labels': []}),\n",
       "  ('01203a9_23',\n",
       "   {'text': ', representada por el señor Agustin de La Fuente Pedreros, con fecha 23 de julio de 2001',\n",
       "    'labels': []}),\n",
       "  ('01203a9_82',\n",
       "   {'text': ', de lunes a jueves, y de 8:30 a 16:30 hrs', 'labels': []}),\n",
       "  ('01203a9_83', {'text': ', el dia viernes', 'labels': []}),\n",
       "  ('0152182_18',\n",
       "   {'text': ', de acuerdo al convenio INN-SEC, como organismo de inspeccion en el area instalaciones interiores de gas, en el Sistema Nacional de Acreditacion del INN',\n",
       "    'labels': []}),\n",
       "  ('0152182_21', {'text': ', RUT Nº 77.199', 'labels': []}),\n",
       "  ('02e9427_14', {'text': ', RUT Nº 96.866', 'labels': []})])"
      ]
     },
     "execution_count": 34,
     "metadata": {},
     "output_type": "execute_result"
    }
   ],
   "source": [
    "starting_comma = [(sent_id, sent) for sent_id, sent in sent_label_map.items() if len(sent['text'].strip()) != 0 and sent['text'][0] == \",\"]\n",
    "len(starting_comma), starting_comma[20:30]"
   ]
  },
  {
   "cell_type": "markdown",
   "metadata": {},
   "source": [
    "### Sentences that are empty"
   ]
  },
  {
   "cell_type": "code",
   "execution_count": 44,
   "metadata": {},
   "outputs": [
    {
     "data": {
      "text/plain": [
       "(1324,\n",
       " [('04c353f_11', {'text': '', 'labels': []}),\n",
       "  ('0515f4a_11', {'text': '', 'labels': []}),\n",
       "  ('052b9ad_44', {'text': '', 'labels': []}),\n",
       "  ('056c8c3_38', {'text': '', 'labels': []}),\n",
       "  ('0584db4_19', {'text': '', 'labels': []}),\n",
       "  ('058a53c_16', {'text': '', 'labels': []}),\n",
       "  ('0594332_13', {'text': '', 'labels': []}),\n",
       "  ('05cd990_24', {'text': '', 'labels': []}),\n",
       "  ('05d75c9_19', {'text': '', 'labels': []}),\n",
       "  ('05e9e34_19', {'text': '', 'labels': []})])"
      ]
     },
     "execution_count": 44,
     "metadata": {},
     "output_type": "execute_result"
    }
   ],
   "source": [
    "empty = [(sent_id, sent) for sent_id, sent in sent_label_map.items() if len(sent['text'].strip()) == 0]\n",
    "len(empty), empty[20:30]"
   ]
  },
  {
   "cell_type": "markdown",
   "metadata": {},
   "source": [
    "### Sentences that start with a parenthesis"
   ]
  },
  {
   "cell_type": "code",
   "execution_count": 45,
   "metadata": {},
   "outputs": [
    {
     "data": {
      "text/plain": [
       "(642,\n",
       " [('1575906_230',\n",
       "   {'text': '), de 2011, del Ministerio de Vivienda y Urbanismo, dando una respuesta adecuada a las particularidades territoriales, condiciones de terreno y a los diferentes tipos de familias, en el marco de una politica integral que priorice la calidad, la equidad y la integracion social',\n",
       "    'labels': []}),\n",
       "  ('1575906_232',\n",
       "   {'text': '), de 2014, correspondiente a Subsidio Habitacional para Proyectos de Integracion Social, en especifico lo que establece el punto 8.1',\n",
       "    'labels': []}),\n",
       "  ('15c8f2b_19',\n",
       "   {'text': '), duraznero (Prunus persica) y nectarino (Prunus persica var nucipersica), procedentes de Australia',\n",
       "    'labels': []}),\n",
       "  ('15c8f2b_23', {'text': '), en la letra a', 'labels': []}),\n",
       "  ('16c1d7d_50', {'text': ') y yuyo (Brassica rapa syn', 'labels': []}),\n",
       "  ('17c4c3f_19',\n",
       "   {'text': '), la cual se regira por las disposiciones contenidas en la Norma General de Certificacion de Semillas, complementadas por la presente norma especifica',\n",
       "    'labels': []}),\n",
       "  ('18e1078_101',\n",
       "   {'text': '), el residuo generado por la actividad realizada debe ser retirado inmediatamente o en el transcurso de 24 hrs',\n",
       "    'labels': []}),\n",
       "  ('1953865_12',\n",
       "   {'text': '), el monto de los recursos comprometidos para el financiamiento del subsidio directo para la atencion de dichos postulantes seleccionados del Sistema de Subsidio Habitacional para la Atencion del Sector Rural',\n",
       "    'labels': []}),\n",
       "  ('1a10f23_26',\n",
       "   {'text': '), de 2015, se entendera de la siguiente manera: por quintil I y II el tramo del 40% de vulnerabilidad; por quintil III el tramo del 41% a 60%; por quintil IV el tramo del 61% al 80%, y por quintil V el tramo del 81% al 100%, todos del Registro Social de Hogares',\n",
       "    'labels': []}),\n",
       "  ('1a10f23_34',\n",
       "   {'text': '), de 2015, en relacion al numero maximo de dormitorios por modalidad y/o tipologia, solo podran postular a un dormitorio adicional, familias cuyo nucleo familiar este conformado por 3 o mas integrantes',\n",
       "    'labels': []})])"
      ]
     },
     "execution_count": 45,
     "metadata": {},
     "output_type": "execute_result"
    }
   ],
   "source": [
    "starting_parenthesis = [(sent_id, sent) for sent_id, sent in sent_label_map.items() if len(sent['text'].strip()) != 0 and sent['text'][0] == \")\"]\n",
    "len(starting_parenthesis), starting_parenthesis[20:30]"
   ]
  },
  {
   "cell_type": "markdown",
   "metadata": {},
   "source": [
    "### Sentences that start with a number"
   ]
  },
  {
   "cell_type": "code",
   "execution_count": 46,
   "metadata": {},
   "outputs": [
    {
     "data": {
      "text/plain": [
       "(6170,\n",
       " ('001d742_18',\n",
       "  {'text': '2º.- Fijase en el equivalente a 6.750 Unidades de Fomento (U.) el monto de los recursos que se destinaran al financiamiento del subsidio directo en el llamado extraordinario dispuesto en el numero anterior. Dicho monto se distribuira por tipo de postulacion (individual o colectiva), atendiendo al porcentaje de postulantes que se inscriban durante el \"periodo de postulacion\", segun tipo de postulacion, en relacion al total de postulantes inscritos, alcanzando el numero de postulantes seleccionados al numero de Certificados de Subsidio susceptibles de financiar con los recursos previstos para el otorgamiento del subsidio directo.',\n",
       "   'labels': []}),\n",
       " [('00abdb9_32', {'text': '12 634 5459 Fresia 4100-7315', 'labels': []}),\n",
       "  ('00abdb9_33', {'text': '13 619 5459 Collihuinco 4100-7330', 'labels': []}),\n",
       "  ('00abdb9_34', {'text': '14 610 5453 Collihuinco 4100-7330', 'labels': []}),\n",
       "  ('00abdb9_35', {'text': '15 610 5447 Collihuinco 4100-7330', 'labels': []}),\n",
       "  ('00abdb9_36', {'text': '16 614 5447 Collihuinco 4100-7330', 'labels': []}),\n",
       "  ('00abdb9_37',\n",
       "   {'text': '17 614 5432 Cordillera Zarao 4115-7330', 'labels': []}),\n",
       "  ('00abdb9_38',\n",
       "   {'text': '18 620 5432 Cordillera Zarao 4115-7330', 'labels': []}),\n",
       "  ('00abdb9_39',\n",
       "   {'text': '19 615 5415 Cordillera Zarao 4115-7330', 'labels': []}),\n",
       "  ('00abdb9_40', {'text': '20 626 5410 Los Muermos 4115-7315', 'labels': []}),\n",
       "  ('00abdb9_42',\n",
       "   {'text': '22** 622 Rivera Rio Maullin Maullin 4130-7330', 'labels': []})])"
      ]
     },
     "execution_count": 46,
     "metadata": {},
     "output_type": "execute_result"
    }
   ],
   "source": [
    "starting_num = [(sent_id, sent) for sent_id, sent in sent_label_map.items() if len(sent['text'].strip()) != 0 and sent['text'][0].isnumeric()]\n",
    "len(starting_num), starting_num[1], starting_num[20:30]"
   ]
  },
  {
   "cell_type": "markdown",
   "metadata": {},
   "source": [
    "### Sentences that end in a connector like \"de\", \"un\", \"y\", etc (also repeated sentences?)"
   ]
  },
  {
   "cell_type": "code",
   "execution_count": 65,
   "metadata": {},
   "outputs": [
    {
     "data": {
      "text/plain": [
       "(2392,\n",
       " [('013a174_36',\n",
       "   {'text': '(iii) Permitir el desarrollo de capacidades exportadoras que faciliten la realizacion de estrategias sustentables en los mercados externos, en el segmento de las pequeñas y',\n",
       "    'labels': []}),\n",
       "  ('013a174_41',\n",
       "   {'text': '(ii) Generacion y difusion de informacion, para que las empresas silvoagropecuarias chilenas tengan acceso a informacion y conocimientos pertinentes y de alta calidad, sobre las caracteristicas y condiciones de los mercados, clientes y consumidores extranjeros, y',\n",
       "    'labels': []}),\n",
       "  ('01a45df_29',\n",
       "   {'text': 'Numero de Grupo de Trabajo Minimo por', 'labels': []}),\n",
       "  ('01a45df_30',\n",
       "   {'text': 'Familias con Prestador de Servicios de', 'labels': []}),\n",
       "  ('01a45df_33', {'text': 'tiempo completo del area de la', 'labels': []}),\n",
       "  ('01a45df_35', {'text': 'legal, quien estara a cargo de la', 'labels': []}),\n",
       "  ('01a45df_37', {'text': 'mas un profesional del area de la', 'labels': []}),\n",
       "  ('01a45df_42', {'text': 'tiempo completo del area de la', 'labels': []}),\n",
       "  ('01a45df_44', {'text': 'legal, quien estara cargo de la', 'labels': []}),\n",
       "  ('01a45df_46',\n",
       "   {'text': 'mas dos profesionales del area de la', 'labels': []}),\n",
       "  ('01a45df_51', {'text': 'tiempo completo del area de la', 'labels': []}),\n",
       "  ('01a45df_53', {'text': 'legal, quien estara a cargo de la', 'labels': []}),\n",
       "  ('01a45df_55', {'text': 'mas tres profesionales del area de', 'labels': []}),\n",
       "  ('01a45df_60', {'text': 'tiempo completo del area de la', 'labels': []}),\n",
       "  ('01a45df_62', {'text': 'legal, quien estara a cargo de la', 'labels': []}),\n",
       "  ('01a45df_64', {'text': 'mas tres profesionales del area de', 'labels': []}),\n",
       "  ('01a45df_68', {'text': 'tiempo completo del area de la', 'labels': []}),\n",
       "  ('01a45df_70', {'text': 'legal, quien estara a cargo de la', 'labels': []}),\n",
       "  ('01a45df_72',\n",
       "   {'text': 'mas cuatro profesionales del area de', 'labels': []}),\n",
       "  ('01e1622_26',\n",
       "   {'text': 'incluyendo afiliados del Nivel Central de Indap, y',\n",
       "    'labels': []})])"
      ]
     },
     "execution_count": 65,
     "metadata": {},
     "output_type": "execute_result"
    }
   ],
   "source": [
    "connectors = {\"de\", \"un\", \"y\", \"que\", \"el\", \"la\", \"los\", \"lo\", \"las\", \n",
    "              \"les\", \"ellos\", \"ellas\", \"por\", \"cual\", \"una\", \"unas\", \"unos\",\n",
    "             \"en\", \"es\", \"esta\"}\n",
    "ending_connector = [(sent_id, sent) for sent_id, sent in sent_label_map.items() if len(sent['text'].strip()) != 0 and sent['text'].split()[-1] in connectors]\n",
    "len(ending_connector), ending_connector[10:30]"
   ]
  },
  {
   "cell_type": "markdown",
   "metadata": {},
   "source": [
    "# Results from data checking 2: Chile_V1_210108.json\n",
    "- Total sents: 188046\n",
    "- Empty sentences: 1324\n",
    "- Sentences that start with a comma: 1201\n",
    "- Sentences that start with a \")\": 642\n",
    "- Sentences that start with a number: 6170 (Could also include good examples, like bullet points!)\n",
    "- Sentences being cut: ~2392, tried checking for connectors (\"de\", \"un\", \"y\", \"que\", etc.) at the end of sentence and also commas "
   ]
  },
  {
   "cell_type": "code",
   "execution_count": null,
   "metadata": {},
   "outputs": [],
   "source": []
  },
  {
   "cell_type": "markdown",
   "metadata": {},
   "source": [
    "# Results from data checking 1: Chile.json\n",
    "- 154436 sentences instead of 79953\n",
    "- Sentences that start with a comma: 1018\n",
    "    - \", en el punto 4,3\"\n",
    "    - \", de 10 de julio de 2018;\"\n",
    "    - \", Empresa Eléctrica de Arica S\"\n",
    "    - \", y su aplicación será competencia del Juzgado de Policía Local de la comuna\"\n",
    "    \n",
    "- Sentences that start with a \")\": 1338\n",
    "    - \"), de fecha 19 de diciembre de 2008, y sus modificaciones, que autoriza llamados a postulación para subsidios habitacionales en sistemas y programas habitacionales que indica durante el año 2009 y señala el monto de los recursos destinados, entre otros, a la atención a través del sistema regulado por el DS Nº 145 (V\"\n",
    "    - \"), en la letra a\"\n",
    "    \n",
    "- Sentences that start with a number: 12389\n",
    "    - Bad examples:\n",
    "        - \"25 634 5414 Los Muermos 4115-7315\"\n",
    "        - \"3.815 de 2003\"\n",
    "        - \"11 Aguas Calientes 4 636365 7353860 8 y 10\"\n",
    "    - Unclear examples:\n",
    "        -  \"2018 del Director (S) del Servicio de Salud Viña del Mar - Quillota\"\n",
    "    - Good examples:\n",
    "        - \"2º Establécese el trámite: TCB1 \"Declaración de Plantas de Biogás\" para los siguientes tipos de Plantas:\"\n",
    "        - \"1) Que, el artículo 72º-19 de la Ley establece que la Comisión deberá fijar, mediante resolución exenta, las normas técnicas que rijan los aspectos económicos, de seguridad, coordinación, calidad, información y económicos del funcionamiento del sector eléctrico, debiendo establecer un plan de trabajo anual que permita proponer, facilitar y coordinar el desarrollo de tales normas, en el marco de un proceso público y participativo, cuyas normas deben ser establecidas en un reglamento;\"\n",
    "        - \"6,5 La madera de los embalajes y los pallets deberá estar libre de corteza y de daños causados por insectos\"\n",
    "        \n",
    "\n",
    "- Sentences being cut: ~8205, tried checking for connectors (\"de\", \"un\", \"y\", \"que\", etc.) at the end of sentence and also commas \n",
    "    - \"+ Se lavará el carro, en el área sucia y\"\n",
    "    - \"+ Debido al riesgo de los pacientes que en él\"\n",
    "    - \"más dos profesionales del área de la\"\n",
    "    - \"construcción, un profesional del\""
   ]
  },
  {
   "cell_type": "code",
   "execution_count": null,
   "metadata": {},
   "outputs": [],
   "source": []
  }
 ],
 "metadata": {
  "kernelspec": {
   "display_name": "wri-env",
   "language": "python",
   "name": "wri-env"
  },
  "language_info": {
   "codemirror_mode": {
    "name": "ipython",
    "version": 3
   },
   "file_extension": ".py",
   "mimetype": "text/x-python",
   "name": "python",
   "nbconvert_exporter": "python",
   "pygments_lexer": "ipython3",
   "version": "3.8.5"
  }
 },
 "nbformat": 4,
 "nbformat_minor": 4
}
