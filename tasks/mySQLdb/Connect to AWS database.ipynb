{
 "cells": [
  {
   "cell_type": "code",
   "execution_count": 1,
   "metadata": {},
   "outputs": [],
   "source": [
    "%load_ext autoreload\n",
    "%autoreload 2"
   ]
  },
  {
   "cell_type": "code",
   "execution_count": 2,
   "metadata": {},
   "outputs": [],
   "source": [
    "import sys\n",
    "from sqlalchemy import Column, ForeignKey, Integer, String, Text, Date, DateTime\n",
    "import urllib.parse\n",
    "import credentials\n",
    "import os\n",
    "\n",
    "from db_setup import Base, Policy, engine, DBSession\n"
   ]
  },
  {
   "cell_type": "code",
   "execution_count": 3,
   "metadata": {},
   "outputs": [],
   "source": [
    "from sqlalchemy.ext.declarative import declarative_base\n",
    "from sqlalchemy.orm import relationship\n",
    "from sqlalchemy import create_engine\n",
    "from sqlalchemy import inspect"
   ]
  },
  {
   "source": [
    "## IMPORTANT: \"mysql+pymysql\" gives a \"dialect\" to SQLAlchemy so that we can run this in pyhton3\n",
    "connection_string = \"mysql+pymysql://\" + credentials.username + \":\" + credentials.password + \"@\" + credentials.aws_endpoint + \":3306/\" + credentials.db_name\n",
    "#mysql+pymysql://{master username}:{db password}@{endpoint}/{db name}'"
   ],
   "cell_type": "markdown",
   "metadata": {}
  },
  {
   "cell_type": "code",
   "execution_count": 4,
   "metadata": {
    "tags": []
   },
   "outputs": [
    {
     "output_type": "execute_result",
     "data": {
      "text/plain": [
       "[{'name': 'id',\n",
       "  'type': INTEGER(),\n",
       "  'default': None,\n",
       "  'comment': None,\n",
       "  'nullable': False,\n",
       "  'autoincrement': True},\n",
       " {'name': 'country',\n",
       "  'type': VARCHAR(length=60),\n",
       "  'default': None,\n",
       "  'comment': None,\n",
       "  'nullable': False},\n",
       " {'name': 'geo_code',\n",
       "  'type': VARCHAR(length=20),\n",
       "  'default': None,\n",
       "  'comment': None,\n",
       "  'nullable': True},\n",
       " {'name': 'level',\n",
       "  'type': INTEGER(),\n",
       "  'default': None,\n",
       "  'comment': None,\n",
       "  'nullable': True,\n",
       "  'autoincrement': False},\n",
       " {'name': 'urls_to_scrape_id',\n",
       "  'type': INTEGER(),\n",
       "  'default': None,\n",
       "  'comment': None,\n",
       "  'nullable': True,\n",
       "  'autoincrement': False},\n",
       " {'name': 'data_source',\n",
       "  'type': VARCHAR(length=100),\n",
       "  'default': None,\n",
       "  'comment': None,\n",
       "  'nullable': True},\n",
       " {'name': 'title',\n",
       "  'type': VARCHAR(length=100),\n",
       "  'default': None,\n",
       "  'comment': None,\n",
       "  'nullable': True},\n",
       " {'name': 'reference',\n",
       "  'type': VARCHAR(length=100),\n",
       "  'default': None,\n",
       "  'comment': None,\n",
       "  'nullable': True},\n",
       " {'name': 'authorship',\n",
       "  'type': VARCHAR(length=50),\n",
       "  'default': None,\n",
       "  'comment': None,\n",
       "  'nullable': True},\n",
       " {'name': 'resume',\n",
       "  'type': TEXT(),\n",
       "  'default': None,\n",
       "  'comment': None,\n",
       "  'nullable': True},\n",
       " {'name': 'publication_date',\n",
       "  'type': DATE(),\n",
       "  'default': None,\n",
       "  'comment': None,\n",
       "  'nullable': True},\n",
       " {'name': 'enforcement_date',\n",
       "  'type': DATE(),\n",
       "  'default': None,\n",
       "  'comment': None,\n",
       "  'nullable': True},\n",
       " {'name': 'affected_locations',\n",
       "  'type': VARCHAR(length=200),\n",
       "  'default': None,\n",
       "  'comment': None,\n",
       "  'nullable': True},\n",
       " {'name': 'url',\n",
       "  'type': VARCHAR(length=2048),\n",
       "  'default': None,\n",
       "  'comment': None,\n",
       "  'nullable': True},\n",
       " {'name': 'doc_url',\n",
       "  'type': VARCHAR(length=2048),\n",
       "  'default': None,\n",
       "  'comment': None,\n",
       "  'nullable': True},\n",
       " {'name': 'doc_name',\n",
       "  'type': VARCHAR(length=50),\n",
       "  'default': None,\n",
       "  'comment': None,\n",
       "  'nullable': True},\n",
       " {'name': 'doc_type',\n",
       "  'type': VARCHAR(length=4),\n",
       "  'default': None,\n",
       "  'comment': None,\n",
       "  'nullable': True},\n",
       " {'name': 'doc_class',\n",
       "  'type': VARCHAR(length=30),\n",
       "  'default': None,\n",
       "  'comment': None,\n",
       "  'nullable': True},\n",
       " {'name': 'doc_tags',\n",
       "  'type': VARCHAR(length=500),\n",
       "  'default': None,\n",
       "  'comment': None,\n",
       "  'nullable': True},\n",
       " {'name': 'related_docs',\n",
       "  'type': VARCHAR(length=500),\n",
       "  'default': None,\n",
       "  'comment': None,\n",
       "  'nullable': True},\n",
       " {'name': 'comment',\n",
       "  'type': TEXT(),\n",
       "  'default': None,\n",
       "  'comment': None,\n",
       "  'nullable': True},\n",
       " {'name': 'processing_id',\n",
       "  'type': INTEGER(),\n",
       "  'default': None,\n",
       "  'comment': None,\n",
       "  'nullable': True,\n",
       "  'autoincrement': False},\n",
       " {'name': 'username',\n",
       "  'type': VARCHAR(length=20),\n",
       "  'default': None,\n",
       "  'comment': None,\n",
       "  'nullable': False},\n",
       " {'name': 'timestamp',\n",
       "  'type': DATETIME(),\n",
       "  'default': None,\n",
       "  'comment': None,\n",
       "  'nullable': True}]"
      ]
     },
     "metadata": {},
     "execution_count": 4
    }
   ],
   "source": [
    "inspector = inspect(engine)\n",
    "inspector.get_columns('policies')"
   ]
  },
  {
   "source": [
    "## Connect to the DB"
   ],
   "cell_type": "markdown",
   "metadata": {}
  },
  {
   "cell_type": "code",
   "execution_count": 7,
   "metadata": {},
   "outputs": [],
   "source": []
  },
  {
   "cell_type": "code",
   "execution_count": 5,
   "metadata": {},
   "outputs": [],
   "source": [
    "session = DBSession()"
   ]
  },
  {
   "cell_type": "code",
   "execution_count": 7,
   "metadata": {},
   "outputs": [],
   "source": [
    "my_doc = Policy(geo_code = 'MEX', url = 'https://github.com/OmdenaAI/2', reference = 'CODIGO 1234', title ='MyTitle', data_source = \"scraping\", country = 'Mexico', username = credentials.username)"
   ]
  },
  {
   "cell_type": "code",
   "execution_count": 8,
   "metadata": {
    "tags": []
   },
   "outputs": [],
   "source": [
    "session.add(my_doc)\n",
    "session.commit()"
   ]
  },
  {
   "source": [
    "## Create a db user and provide access permissions"
   ],
   "cell_type": "markdown",
   "metadata": {}
  },
  {
   "cell_type": "code",
   "execution_count": 1,
   "metadata": {},
   "outputs": [
    {
     "output_type": "error",
     "ename": "SyntaxError",
     "evalue": "invalid syntax (<ipython-input-1-9c359813fd50>, line 1)",
     "traceback": [
      "\u001b[1;36m  File \u001b[1;32m\"<ipython-input-1-9c359813fd50>\"\u001b[1;36m, line \u001b[1;32m1\u001b[0m\n\u001b[1;33m    username = #<username>\u001b[0m\n\u001b[1;37m                          ^\u001b[0m\n\u001b[1;31mSyntaxError\u001b[0m\u001b[1;31m:\u001b[0m invalid syntax\n"
     ]
    }
   ],
   "source": [
    "username = #<username>\n",
    "password = #<password>"
   ]
  },
  {
   "cell_type": "code",
   "execution_count": 7,
   "metadata": {},
   "outputs": [],
   "source": [
    "user_string = f\"CREATE USER '{username}' IDENTIFIED BY '{password}';\"\n",
    "#user_string"
   ]
  },
  {
   "cell_type": "code",
   "execution_count": 3,
   "metadata": {},
   "outputs": [],
   "source": [
    "permission_string = f\"GRANT EXECUTE, SELECT, INSERT, UPDATE, DELETE ON wri_latinamerica.* TO '{username}';\"\n",
    "permission_string"
   ]
  },
  {
   "cell_type": "code",
   "execution_count": 2,
   "metadata": {},
   "outputs": [],
   "source": [
    "grants_string = f\"SHOW GRANTS for '{username};\"\n",
    "grants_string"
   ]
  },
  {
   "cell_type": "code",
   "execution_count": 10,
   "metadata": {
    "tags": []
   },
   "outputs": [],
   "source": [
    "with engine.connect() as con:\n",
    "    rs_user = con.execute(user_string)\n",
    "    rs_perms = con.execute(permission_string)\n",
    "    con.execute(\"FLUSH privileges;\")\n",
    "    #rs_grants = con.execute(grants_string)\n",
    "    #print(rs_grants)"
   ]
  },
  {
   "cell_type": "code",
   "execution_count": 37,
   "metadata": {},
   "outputs": [],
   "source": [
    "    session.rollback()"
   ]
  },
  {
   "cell_type": "code",
   "execution_count": 64,
   "metadata": {
    "tags": []
   },
   "outputs": [],
   "source": [
    "with engine.connect() as con:\n",
    "\n",
    "    rs = con.execute(\"SELECT * FROM policies WHERE country='Mexico';\")\n",
    "\n",
    "    for row in rs:\n",
    "        print (row)"
   ]
  },
  {
   "cell_type": "code",
   "execution_count": 92,
   "metadata": {
    "tags": []
   },
   "outputs": [],
   "source": [
    "with engine.connect() as con:\n",
    "    con.execute(grants_string)\n",
    "    #print(rs_grants)"
   ]
  },
  {
   "cell_type": "code",
   "execution_count": null,
   "metadata": {},
   "outputs": [],
   "source": []
  }
 ],
 "metadata": {
  "kernelspec": {
   "display_name": "Python 3",
   "language": "python",
   "name": "python3"
  },
  "language_info": {
   "codemirror_mode": {
    "name": "ipython",
    "version": 3
   },
   "file_extension": ".py",
   "mimetype": "text/x-python",
   "name": "python",
   "nbconvert_exporter": "python",
   "pygments_lexer": "ipython3",
   "version": "3.7.9-final"
  }
 },
 "nbformat": 4,
 "nbformat_minor": 4
}
