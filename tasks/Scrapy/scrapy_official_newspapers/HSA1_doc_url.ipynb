{
 "cells": [
  {
   "cell_type": "code",
   "execution_count": 1,
   "metadata": {},
   "outputs": [],
   "source": [
    "import csv\n",
    "from pathlib import Path"
   ]
  },
  {
   "cell_type": "code",
   "execution_count": 9,
   "metadata": {},
   "outputs": [],
   "source": [
    "filename = 'ElSalvador_full.csv'\n",
    "with open(filename, newline='') as f:\n",
    "    reader = csv.reader(f, delimiter = \",\")\n",
    "    data = list(reader)"
   ]
  },
  {
   "cell_type": "code",
   "execution_count": 10,
   "metadata": {},
   "outputs": [
    {
     "data": {
      "text/plain": [
       "['0;INSTITUCIONES AUTÓNOMAS (Alcaldía Municipal);27/1/2015;https://www.jurisprudencia.gob.sv/DocumentosBoveda/D/2/2010-2019/2015/01/AC2DC.PDF;Decreto Municipal-Tamanique;La presente Ordenanza tiene por objeto',\n",
       " ' promover el desarrollo sostenible del Municipio de Tamanique',\n",
       " ' del departamento de La Libertad y de la microrregión conformada por la Asociación de Municipios del Sur de La Libertad',\n",
       " ' de la cual forma parte',\n",
       " ' por medio de la regulación en su ámbito geográfico y competencial de los usos del territorio y el control de las actuaciones urbanísticas',\n",
       " ' en la construcción del desarrollo integral y sostenible que ubique como centro de las actuaciones de la administración municipal',\n",
       " ' al ser humano y su bienestar social',\n",
       " ' económico y ambiental',\n",
       " ' velando por la preservación para las nuevas generaciones de un medio ambiente sano',\n",
       " ' que priorice la protección y el aprovechamiento efectivo de los recursos hídricos',\n",
       " ' la gestión de desarrollo local con enfoque de prevención y la mitigación de vulnerabilidades físicas',\n",
       " ' materiales y ambientales de la localidad.;ORDENANZA REGULADORA DE USOS DE SUELO Y ACTUACIONES URBANISTICAS DEL MUNICIPIO DE TAMANIQUE',\n",
       " ' DEPARTAMENTO DE LA LIBERTAD']"
      ]
     },
     "execution_count": 10,
     "metadata": {},
     "output_type": "execute_result"
    }
   ],
   "source": [
    "data[1]"
   ]
  },
  {
   "cell_type": "code",
   "execution_count": null,
   "metadata": {},
   "outputs": [],
   "source": []
  }
 ],
 "metadata": {
  "kernelspec": {
   "display_name": "Python 3",
   "language": "python",
   "name": "python3"
  },
  "language_info": {
   "codemirror_mode": {
    "name": "ipython",
    "version": 3
   },
   "file_extension": ".py",
   "mimetype": "text/x-python",
   "name": "python",
   "nbconvert_exporter": "python",
   "pygments_lexer": "ipython3",
   "version": "3.8.5"
  },
  "toc": {
   "base_numbering": 1,
   "nav_menu": {},
   "number_sections": true,
   "sideBar": true,
   "skip_h1_title": false,
   "title_cell": "Table of Contents",
   "title_sidebar": "Contents",
   "toc_cell": false,
   "toc_position": {},
   "toc_section_display": true,
   "toc_window_display": false
  }
 },
 "nbformat": 4,
 "nbformat_minor": 4
}
