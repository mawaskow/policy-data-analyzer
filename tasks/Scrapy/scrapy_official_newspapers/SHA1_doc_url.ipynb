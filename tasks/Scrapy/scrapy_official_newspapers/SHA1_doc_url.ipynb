{
 "cells": [
  {
   "cell_type": "code",
   "execution_count": 16,
   "metadata": {},
   "outputs": [],
   "source": [
    "import csv\n",
    "import hashlib\n",
    "from pathlib import Path"
   ]
  },
  {
   "cell_type": "code",
   "execution_count": 58,
   "metadata": {},
   "outputs": [],
   "source": [
    "filename = 'El_Salvador_no_duplicates.tsv'\n",
    "with open(filename, encoding = 'utf-8') as f:\n",
    "    reader = csv.reader(f, delimiter = \"\\t\")\n",
    "    data = list(reader)"
   ]
  },
  {
   "cell_type": "code",
   "execution_count": 59,
   "metadata": {},
   "outputs": [
    {
     "ename": "IndexError",
     "evalue": "pop from empty list",
     "output_type": "error",
     "traceback": [
      "\u001b[1;31m---------------------------------------------------------------------------\u001b[0m",
      "\u001b[1;31mIndexError\u001b[0m                                Traceback (most recent call last)",
      "\u001b[1;32m<ipython-input-59-1579704d758f>\u001b[0m in \u001b[0;36m<module>\u001b[1;34m\u001b[0m\n\u001b[1;32m----> 1\u001b[1;33m \u001b[1;33m[\u001b[0m\u001b[0mj\u001b[0m\u001b[1;33m.\u001b[0m\u001b[0mpop\u001b[0m\u001b[1;33m(\u001b[0m\u001b[1;36m0\u001b[0m\u001b[1;33m)\u001b[0m \u001b[1;32mfor\u001b[0m \u001b[0mj\u001b[0m \u001b[1;32min\u001b[0m \u001b[0mdata\u001b[0m\u001b[1;33m]\u001b[0m\u001b[1;33m\u001b[0m\u001b[1;33m\u001b[0m\u001b[0m\n\u001b[0m",
      "\u001b[1;32m<ipython-input-59-1579704d758f>\u001b[0m in \u001b[0;36m<listcomp>\u001b[1;34m(.0)\u001b[0m\n\u001b[1;32m----> 1\u001b[1;33m \u001b[1;33m[\u001b[0m\u001b[0mj\u001b[0m\u001b[1;33m.\u001b[0m\u001b[0mpop\u001b[0m\u001b[1;33m(\u001b[0m\u001b[1;36m0\u001b[0m\u001b[1;33m)\u001b[0m \u001b[1;32mfor\u001b[0m \u001b[0mj\u001b[0m \u001b[1;32min\u001b[0m \u001b[0mdata\u001b[0m\u001b[1;33m]\u001b[0m\u001b[1;33m\u001b[0m\u001b[1;33m\u001b[0m\u001b[0m\n\u001b[0m",
      "\u001b[1;31mIndexError\u001b[0m: pop from empty list"
     ]
    }
   ],
   "source": [
    "[j.pop(0) for j in data]"
   ]
  },
  {
   "cell_type": "code",
   "execution_count": 46,
   "metadata": {},
   "outputs": [],
   "source": [
    "def HSA1_encoding(string):\n",
    "    hash_object = hashlib.sha1(string.encode())\n",
    "    return hash_object.hexdigest()"
   ]
  },
  {
   "cell_type": "code",
   "execution_count": 49,
   "metadata": {},
   "outputs": [],
   "source": [
    "data[0].append('file name')\n",
    "for i in range(1, len(data)):\n",
    "    data[i].append(HSA1_encoding(data[i][2]))"
   ]
  },
  {
   "cell_type": "code",
   "execution_count": 56,
   "metadata": {},
   "outputs": [
    {
     "data": {
      "text/plain": [
       "['INSTITUCIONES AUTÓNOMAS (Alcaldía Municipal)',\n",
       " '27/01/2015',\n",
       " 'https://www.jurisprudencia.gob.sv/DocumentosBoveda/D/2/2010-2019/2015/01/AC2DC.PDF',\n",
       " 'Decreto Municipal-Tamanique',\n",
       " 'La presente Ordenanza tiene por objeto, promover el desarrollo sostenible del Municipio de Tamanique, del departamento de La Libertad y de la microrregión conformada por la Asociación de Municipios del Sur de La Libertad, de la cual forma parte, por medio de la regulación en su ámbito geográfico y competencial de los usos del territorio y el control de las actuaciones urbanísticas, en la construcción del desarrollo integral y sostenible que ubique como centro de las actuaciones de la administración municipal, al ser humano y su bienestar social, económico y ambiental, velando por la preservación para las nuevas generaciones de un medio ambiente sano, que priorice la protección y el aprovechamiento efectivo de los recursos hídricos, la gestión de desarrollo local con enfoque de prevención y la mitigación de vulnerabilidades físicas, materiales y ambientales de la localidad.',\n",
       " 'ORDENANZA REGULADORA DE USOS DE SUELO Y ACTUACIONES URBANISTICAS DEL MUNICIPIO DE TAMANIQUE, DEPARTAMENTO DE LA LIBERTAD',\n",
       " '765d4ea2383aaf45bb29bf75feadea6e06a80fd2']"
      ]
     },
     "execution_count": 56,
     "metadata": {},
     "output_type": "execute_result"
    }
   ],
   "source": [
    "data[1]"
   ]
  },
  {
   "cell_type": "code",
   "execution_count": 57,
   "metadata": {},
   "outputs": [],
   "source": [
    "with open(filename, 'w', encoding = 'utf-8') as f:\n",
    "     wr = csv.writer(f, delimiter = '\\t')\n",
    "     wr.writerows(data)"
   ]
  },
  {
   "cell_type": "code",
   "execution_count": null,
   "metadata": {},
   "outputs": [],
   "source": []
  }
 ],
 "metadata": {
  "kernelspec": {
   "display_name": "Python 3",
   "language": "python",
   "name": "python3"
  },
  "language_info": {
   "codemirror_mode": {
    "name": "ipython",
    "version": 3
   },
   "file_extension": ".py",
   "mimetype": "text/x-python",
   "name": "python",
   "nbconvert_exporter": "python",
   "pygments_lexer": "ipython3",
   "version": "3.8.5"
  },
  "toc": {
   "base_numbering": 1,
   "nav_menu": {},
   "number_sections": true,
   "sideBar": true,
   "skip_h1_title": false,
   "title_cell": "Table of Contents",
   "title_sidebar": "Contents",
   "toc_cell": false,
   "toc_position": {},
   "toc_section_display": true,
   "toc_window_display": false
  }
 },
 "nbformat": 4,
 "nbformat_minor": 4
}
