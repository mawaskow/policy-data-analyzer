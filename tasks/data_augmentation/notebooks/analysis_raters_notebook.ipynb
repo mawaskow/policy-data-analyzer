{
 "cells": [
  {
   "cell_type": "markdown",
   "metadata": {},
   "source": [
    "Raters dataset for analysis"
   ]
  },
  {
   "cell_type": "code",
   "execution_count": 32,
   "metadata": {},
   "outputs": [],
   "source": [
    "import pandas as pd\n",
    "import numpy as np\n",
    "from nltk import agreement"
   ]
  },
  {
   "cell_type": "code",
   "execution_count": 33,
   "metadata": {},
   "outputs": [],
   "source": [
    "# 1.import files with raters alongside\n",
    "\n",
    "\n",
    "filenames = [\n",
    "    \"Credit\",\n",
    "    \"Direct_payment\",\n",
    "    \"Fine\",\n",
    "    \"Supplies\",\n",
    "    \"Tax_deduction\",\n",
    "    \"Technical_assistance\"\n",
    "]\n",
    "\n",
    "raters = [\n",
    "    \"Rater_1\",\n",
    "    \"Rater_2\",\n",
    "    \"Rater_3\"\n",
    "]\n",
    "\n",
    "df_rater=pd.DataFrame()\n",
    "df_all_raters=pd.DataFrame()\n",
    "\n",
    "# Downloading the csv files in /data\n",
    "for filename in filenames:\n",
    "\n",
    "    df_rater=pd.DataFrame()\n",
    "    \n",
    "    for rater in raters:\n",
    "        df = pd.read_excel('data/' + rater + '/Unique_sentence_IDs_' + filename + '.xlsx', skiprows=1, index_col =\"Sentence_Id\")\n",
    "        df2=df.rename(columns = {\"Is_policy\" : rater + '_policy_tag' , \"Is_incentive\" : rater + '_incentive_tag',\\\n",
    "                                 \"Other_instrument\" : rater + '_other_instrument' , \"original_rank\" : rater + '_original_rank',\\\n",
    "                                \"Similarity _score\" : rater + '_similarity_score', \"Sentence\" : rater + '_sentence'}) \n",
    "        df3=df2.drop([\"Comments\", \"Unnamed: 8\"], axis = 1)\n",
    "\n",
    "\n",
    "        df_rater = pd.concat([df_rater, df3],axis=1)\n",
    "        df_rater[\"Tag\"]= filename\n",
    "        \n",
    "    df_all_raters = pd.concat([df_all_raters, df_rater],axis=0)   \n",
    "\n",
    " \n",
    "\n",
    "\n",
    "    \n"
   ]
  },
  {
   "cell_type": "code",
   "execution_count": 34,
   "metadata": {},
   "outputs": [],
   "source": [
    "\n",
    "df_all_raters.drop([\"Rater_2_original_rank\",\"Rater_2_similarity_score\", \"Rater_2_sentence\",\\\n",
    "                    \"Rater_3_original_rank\",\"Rater_3_similarity_score\", \"Rater_3_sentence\"], axis = 1, inplace=True)"
   ]
  },
  {
   "cell_type": "code",
   "execution_count": 35,
   "metadata": {},
   "outputs": [],
   "source": [
    "#remove NaN rows \n",
    "df_all_raters.dropna(axis=0, thresh=5, subset=None, inplace=True)\n"
   ]
  },
  {
   "cell_type": "code",
   "execution_count": 36,
   "metadata": {},
   "outputs": [],
   "source": [
    "#summarise tags - valid, positive and alternative\n",
    "df_all_raters[\"Valid_policy_tags\"]=df_all_raters[[\"Rater_1_policy_tag\",\"Rater_2_policy_tag\",\"Rater_3_policy_tag\"]].count(1)\n",
    "df_all_raters[\"Valid_incentive_tags\"]=df_all_raters[[\"Rater_1_incentive_tag\",\"Rater_2_incentive_tag\",\"Rater_3_incentive_tag\"]].count(1)\n",
    "df_all_raters[\"Pos_policy_tags\"]=df_all_raters[[\"Rater_1_policy_tag\",\"Rater_2_policy_tag\",\"Rater_3_policy_tag\"]].sum(1)\n",
    "df_all_raters[\"Pos_incentive_tags\"]=df_all_raters[[\"Rater_1_incentive_tag\",\"Rater_2_incentive_tag\",\"Rater_3_incentive_tag\"]].sum(1)\n",
    "df_all_raters[\"Alternative_tags\"]=df_all_raters[[\"Rater_1_other_instrument\",\"Rater_2_other_instrument\",\"Rater_3_other_instrument\"]].count(1)\n"
   ]
  },
  {
   "cell_type": "code",
   "execution_count": 37,
   "metadata": {},
   "outputs": [],
   "source": [
    "# summarise across all raters - any or majority\n",
    "df_all_raters[\"Incentive_tag_majority\"] = np.where((df_all_raters[\"Pos_incentive_tags\"]/df_all_raters[\"Valid_incentive_tags\"])>=0.5, 1, 0)\n",
    "df_all_raters[\"Incentive_tag_any\"] = np.where((df_all_raters[\"Pos_incentive_tags\"])>=1, 1, 0) \n",
    "df_all_raters[\"No_incentive_tag\"] = np.where((df_all_raters[\"Pos_incentive_tags\"])==0, 1, 0) \n",
    "df_all_raters[\"Policy_tag_majority\"] = np.where((df_all_raters[\"Pos_policy_tags\"]/df_all_raters[\"Valid_policy_tags\"])>=0.5, 1, 0)\n",
    "df_all_raters[\"Policy_tag_any\"] = np.where((df_all_raters[\"Pos_policy_tags\"])>=1, 1, 0) \n",
    "df_all_raters[\"No_policy_tag\"] = np.where((df_all_raters[\"Pos_policy_tags\"])==0, 1, 0) \n",
    "df_all_raters[\"Incentive_uncategorised\"] = df_all_raters[\"Incentive_tag_any\"]-df_all_raters[\"Policy_tag_any\"] \n"
   ]
  },
  {
   "cell_type": "code",
   "execution_count": 38,
   "metadata": {},
   "outputs": [],
   "source": [
    "#split the document part from the reference \n",
    "df_doc=df_all_raters.reset_index()\n",
    "refs=df_doc['index'].str.split('_', n=1, expand=True)\n",
    "df_doc['doc_ref']=refs[0]\n",
    "df_doc['sentence_ref']=refs[1]\n",
    "\n"
   ]
  },
  {
   "cell_type": "code",
   "execution_count": 39,
   "metadata": {},
   "outputs": [
    {
     "data": {
      "text/plain": [
       "Tag\n",
       "Credit                  541\n",
       "Direct_payment          512\n",
       "Fine                    691\n",
       "Supplies                447\n",
       "Tax_deduction           450\n",
       "Technical_assistance    448\n",
       "Name: doc_ref, dtype: int64"
      ]
     },
     "execution_count": 39,
     "metadata": {},
     "output_type": "execute_result"
    }
   ],
   "source": [
    "#groupby by tag\n",
    "df_grouped_inst=df_doc.groupby('Tag').count()['doc_ref']\n",
    "df_grouped_inst"
   ]
  },
  {
   "cell_type": "code",
   "execution_count": 40,
   "metadata": {},
   "outputs": [
    {
     "data": {
      "text/html": [
       "<div>\n",
       "<style scoped>\n",
       "    .dataframe tbody tr th:only-of-type {\n",
       "        vertical-align: middle;\n",
       "    }\n",
       "\n",
       "    .dataframe tbody tr th {\n",
       "        vertical-align: top;\n",
       "    }\n",
       "\n",
       "    .dataframe thead th {\n",
       "        text-align: right;\n",
       "    }\n",
       "</style>\n",
       "<table border=\"1\" class=\"dataframe\">\n",
       "  <thead>\n",
       "    <tr style=\"text-align: right;\">\n",
       "      <th></th>\n",
       "      <th>Incentive_tag_any</th>\n",
       "      <th>Policy_tag_any</th>\n",
       "      <th>Policy_tag_majority</th>\n",
       "      <th>Incentive_uncategorised</th>\n",
       "    </tr>\n",
       "    <tr>\n",
       "      <th>Tag</th>\n",
       "      <th></th>\n",
       "      <th></th>\n",
       "      <th></th>\n",
       "      <th></th>\n",
       "    </tr>\n",
       "  </thead>\n",
       "  <tbody>\n",
       "    <tr>\n",
       "      <th>Credit</th>\n",
       "      <td>302</td>\n",
       "      <td>203</td>\n",
       "      <td>191</td>\n",
       "      <td>99</td>\n",
       "    </tr>\n",
       "    <tr>\n",
       "      <th>Direct_payment</th>\n",
       "      <td>333</td>\n",
       "      <td>193</td>\n",
       "      <td>178</td>\n",
       "      <td>140</td>\n",
       "    </tr>\n",
       "    <tr>\n",
       "      <th>Fine</th>\n",
       "      <td>424</td>\n",
       "      <td>402</td>\n",
       "      <td>362</td>\n",
       "      <td>22</td>\n",
       "    </tr>\n",
       "    <tr>\n",
       "      <th>Supplies</th>\n",
       "      <td>147</td>\n",
       "      <td>32</td>\n",
       "      <td>24</td>\n",
       "      <td>115</td>\n",
       "    </tr>\n",
       "    <tr>\n",
       "      <th>Tax_deduction</th>\n",
       "      <td>186</td>\n",
       "      <td>39</td>\n",
       "      <td>31</td>\n",
       "      <td>147</td>\n",
       "    </tr>\n",
       "    <tr>\n",
       "      <th>Technical_assistance</th>\n",
       "      <td>94</td>\n",
       "      <td>84</td>\n",
       "      <td>68</td>\n",
       "      <td>10</td>\n",
       "    </tr>\n",
       "  </tbody>\n",
       "</table>\n",
       "</div>"
      ],
      "text/plain": [
       "                      Incentive_tag_any  Policy_tag_any  Policy_tag_majority  \\\n",
       "Tag                                                                            \n",
       "Credit                              302             203                  191   \n",
       "Direct_payment                      333             193                  178   \n",
       "Fine                                424             402                  362   \n",
       "Supplies                            147              32                   24   \n",
       "Tax_deduction                       186              39                   31   \n",
       "Technical_assistance                 94              84                   68   \n",
       "\n",
       "                      Incentive_uncategorised  \n",
       "Tag                                            \n",
       "Credit                                     99  \n",
       "Direct_payment                            140  \n",
       "Fine                                       22  \n",
       "Supplies                                  115  \n",
       "Tax_deduction                             147  \n",
       "Technical_assistance                       10  "
      ]
     },
     "execution_count": 40,
     "metadata": {},
     "output_type": "execute_result"
    }
   ],
   "source": [
    "#groupby by tag - transposed\n",
    "df_grouped=df_doc.groupby('Tag').sum()[[\"Incentive_tag_any\",\"Policy_tag_any\",\"Policy_tag_majority\",\"Incentive_uncategorised\"]]\n",
    "df_grouped\n"
   ]
  },
  {
   "cell_type": "code",
   "execution_count": 41,
   "metadata": {},
   "outputs": [
    {
     "data": {
      "text/plain": [
       "Tag\n",
       "Credit                  189\n",
       "Direct_payment          207\n",
       "Fine                    252\n",
       "Supplies                189\n",
       "Tax_deduction           207\n",
       "Technical_assistance    198\n",
       "Name: doc_ref, dtype: int64"
      ]
     },
     "execution_count": 41,
     "metadata": {},
     "output_type": "execute_result"
    }
   ],
   "source": [
    "#groupby by tag - unique docs\n",
    "df_grouped_doc=df_doc.groupby('Tag').doc_ref.nunique()\n",
    "df_grouped_doc"
   ]
  },
  {
   "cell_type": "code",
   "execution_count": 42,
   "metadata": {},
   "outputs": [
    {
     "data": {
      "text/plain": [
       "633"
      ]
     },
     "execution_count": 42,
     "metadata": {},
     "output_type": "execute_result"
    }
   ],
   "source": [
    "#count unique docs overall\n",
    "df_udoc=df_doc.doc_ref.nunique()\n",
    "df_udoc"
   ]
  },
  {
   "cell_type": "code",
   "execution_count": 43,
   "metadata": {},
   "outputs": [
    {
     "data": {
      "text/plain": [
       "3089"
      ]
     },
     "execution_count": 43,
     "metadata": {},
     "output_type": "execute_result"
    }
   ],
   "source": [
    "#count instances overall\n",
    "df_inst=df_doc.count()['doc_ref']\n",
    "df_inst"
   ]
  },
  {
   "cell_type": "code",
   "execution_count": 44,
   "metadata": {},
   "outputs": [
    {
     "data": {
      "text/plain": [
       "Incentive_tag_any          1486\n",
       "Policy_tag_any              953\n",
       "Policy_tag_majority         854\n",
       "Incentive_uncategorised     533\n",
       "dtype: object"
      ]
     },
     "execution_count": 44,
     "metadata": {},
     "output_type": "execute_result"
    }
   ],
   "source": [
    "##summarise by tag\n",
    "df_summary=df_doc.sum()[[\"Incentive_tag_any\",\"Policy_tag_any\",\"Policy_tag_majority\",\"Incentive_uncategorised\"]]\n",
    "df_summary\n"
   ]
  },
  {
   "cell_type": "code",
   "execution_count": 45,
   "metadata": {},
   "outputs": [
    {
     "name": "stdout",
     "output_type": "stream",
     "text": [
      "Unique_docs_Incentive_tag_any\n",
      "Incentive_tag_any\n",
      "0    513\n",
      "1    391\n",
      "Name: doc_ref, dtype: int64\n",
      "Unique_docs_policy_tag_any\n",
      "Policy_tag_any\n",
      "0    558\n",
      "1    341\n",
      "Name: doc_ref, dtype: int64\n",
      "Unique_docs_policy_tag_maj\n",
      "Policy_tag_majority\n",
      "0    563\n",
      "1    320\n",
      "Name: doc_ref, dtype: int64\n",
      "Unique_docs_incentive_uncategorised\n",
      "Incentive_uncategorised\n",
      "-1      5\n",
      " 0    612\n",
      " 1    195\n",
      "Name: doc_ref, dtype: int64\n"
     ]
    }
   ],
   "source": [
    "# summarise by unique docs -\n",
    "df_any_inc_udoc=df_doc.groupby(by=\"Incentive_tag_any\").doc_ref.nunique()\n",
    "print(\"Unique_docs_Incentive_tag_any\")\n",
    "print(df_any_inc_udoc)\n",
    "df_any_tags_udoc=df_doc.groupby(by=\"Policy_tag_any\").doc_ref.nunique()\n",
    "print(\"Unique_docs_policy_tag_any\")\n",
    "print(df_any_tags_udoc)\n",
    "df_maj_tags_udoc=df_doc.groupby(by=\"Policy_tag_majority\").doc_ref.nunique()\n",
    "print(\"Unique_docs_policy_tag_maj\")\n",
    "print(df_maj_tags_udoc)\n",
    "df_inc_uncateg=df_doc.groupby(by=\"Incentive_uncategorised\").doc_ref.nunique()\n",
    "print(\"Unique_docs_incentive_uncategorised\")\n",
    "print(df_inc_uncateg)"
   ]
  },
  {
   "cell_type": "code",
   "execution_count": 46,
   "metadata": {},
   "outputs": [
    {
     "data": {
      "text/plain": [
       "Policy_tag_any\n",
       "0    558\n",
       "1    341\n",
       "Name: doc_ref, dtype: int64"
      ]
     },
     "execution_count": 46,
     "metadata": {},
     "output_type": "execute_result"
    }
   ],
   "source": [
    "# summarise by unique docs -\n",
    "df_grouped_udoc=df_doc.groupby(by=\"Policy_tag_any\").doc_ref.nunique()\n",
    "df_grouped_udoc"
   ]
  },
  {
   "cell_type": "code",
   "execution_count": 47,
   "metadata": {},
   "outputs": [],
   "source": [
    "#2. Work on the inter-rater reliability What is the similarity in tagging incentives. base - work where instances were tagged by all three raters\n",
    "\n",
    "#get stats - how many shared sentences, how many each rater has added - start from initial dataset\n",
    "\n",
    "\n",
    "df_grouped_raters=df_all_raters.groupby('Tag',).sum()[[\"Rater_1_policy_tag\",\"Rater_2_policy_tag\",\"Rater_3_policy_tag\"]]\n",
    "\n",
    "\n"
   ]
  },
  {
   "cell_type": "code",
   "execution_count": 48,
   "metadata": {},
   "outputs": [
    {
     "data": {
      "text/html": [
       "<div>\n",
       "<style scoped>\n",
       "    .dataframe tbody tr th:only-of-type {\n",
       "        vertical-align: middle;\n",
       "    }\n",
       "\n",
       "    .dataframe tbody tr th {\n",
       "        vertical-align: top;\n",
       "    }\n",
       "\n",
       "    .dataframe thead th {\n",
       "        text-align: right;\n",
       "    }\n",
       "</style>\n",
       "<table border=\"1\" class=\"dataframe\">\n",
       "  <thead>\n",
       "    <tr style=\"text-align: right;\">\n",
       "      <th>Tag</th>\n",
       "      <th>Credit</th>\n",
       "      <th>Direct_payment</th>\n",
       "      <th>Fine</th>\n",
       "      <th>Supplies</th>\n",
       "      <th>Tax_deduction</th>\n",
       "      <th>Technical_assistance</th>\n",
       "    </tr>\n",
       "  </thead>\n",
       "  <tbody>\n",
       "    <tr>\n",
       "      <th>Rater_1_policy_tag</th>\n",
       "      <td>54.0</td>\n",
       "      <td>16.0</td>\n",
       "      <td>30.0</td>\n",
       "      <td>15.0</td>\n",
       "      <td>14.0</td>\n",
       "      <td>21.0</td>\n",
       "    </tr>\n",
       "    <tr>\n",
       "      <th>Rater_2_policy_tag</th>\n",
       "      <td>164.0</td>\n",
       "      <td>167.0</td>\n",
       "      <td>196.0</td>\n",
       "      <td>21.0</td>\n",
       "      <td>9.0</td>\n",
       "      <td>12.0</td>\n",
       "    </tr>\n",
       "    <tr>\n",
       "      <th>Rater_3_policy_tag</th>\n",
       "      <td>135.0</td>\n",
       "      <td>136.0</td>\n",
       "      <td>268.0</td>\n",
       "      <td>17.0</td>\n",
       "      <td>29.0</td>\n",
       "      <td>69.0</td>\n",
       "    </tr>\n",
       "  </tbody>\n",
       "</table>\n",
       "</div>"
      ],
      "text/plain": [
       "Tag                 Credit  Direct_payment   Fine  Supplies  Tax_deduction  \\\n",
       "Rater_1_policy_tag    54.0            16.0   30.0      15.0           14.0   \n",
       "Rater_2_policy_tag   164.0           167.0  196.0      21.0            9.0   \n",
       "Rater_3_policy_tag   135.0           136.0  268.0      17.0           29.0   \n",
       "\n",
       "Tag                 Technical_assistance  \n",
       "Rater_1_policy_tag                  21.0  \n",
       "Rater_2_policy_tag                  12.0  \n",
       "Rater_3_policy_tag                  69.0  "
      ]
     },
     "execution_count": 48,
     "metadata": {},
     "output_type": "execute_result"
    }
   ],
   "source": [
    "# transpose for table\n",
    "df_grouped_raters=df_grouped_raters.transpose()\n",
    "df_grouped_raters"
   ]
  },
  {
   "cell_type": "code",
   "execution_count": 49,
   "metadata": {},
   "outputs": [
    {
     "data": {
      "text/plain": [
       "Tag\n",
       "1    327\n",
       "2    144\n",
       "3     76\n",
       "4     46\n",
       "5     25\n",
       "6     15\n",
       "Name: doc_ref, dtype: int64"
      ]
     },
     "execution_count": 49,
     "metadata": {},
     "output_type": "execute_result"
    }
   ],
   "source": [
    "# next - shared sentences across tags, shared documents across tags, average instances per doc, max instances per doc\n",
    "\n",
    "#groupby by tag\n",
    "uni_tag_by_doc=df_doc.groupby('doc_ref').Tag.nunique()\n",
    "uni_tags_df=uni_tag_by_doc.to_frame().reset_index()\n",
    "\n",
    "sum_uniq_tag=uni_tags_df.groupby('Tag').doc_ref.nunique()\n",
    "\n",
    "uni_tags_df\n",
    "sum_uniq_tag\n",
    "\n"
   ]
  },
  {
   "cell_type": "code",
   "execution_count": 50,
   "metadata": {},
   "outputs": [
    {
     "data": {
      "text/plain": [
       "Tag\n",
       "1    2274\n",
       "2     272\n",
       "3      53\n",
       "4      28\n",
       "Name: index, dtype: int64"
      ]
     },
     "execution_count": 50,
     "metadata": {},
     "output_type": "execute_result"
    }
   ],
   "source": [
    "#tags per sentence\n",
    "\n",
    "tag_by_sent=df_doc.groupby('index').Tag.nunique()\n",
    "tag_by_sent_df=tag_by_sent.to_frame().reset_index()\n",
    "tag_by_sent_df\n",
    "\n",
    "sum_uniq_tag_sent=tag_by_sent_df.groupby('Tag').index.nunique()\n",
    "sum_uniq_tag_sent\n",
    "\n"
   ]
  },
  {
   "cell_type": "code",
   "execution_count": 51,
   "metadata": {},
   "outputs": [],
   "source": [
    "#start with df_all_raters\n",
    "df_inter=df_all_raters.drop([\"Rater_1_other_instrument\",\"Rater_2_other_instrument\", \"Rater_3_other_instrument\"], axis = 1)\n"
   ]
  },
  {
   "cell_type": "code",
   "execution_count": 52,
   "metadata": {},
   "outputs": [],
   "source": [
    "df_inter_trim=df_inter.dropna(axis=0)\n"
   ]
  },
  {
   "cell_type": "code",
   "execution_count": 53,
   "metadata": {},
   "outputs": [],
   "source": [
    "coder1=df_inter_trim[\"Rater_1_incentive_tag\"].to_list()\n",
    "coder2=df_inter_trim[\"Rater_2_incentive_tag\"].to_list()\n",
    "coder3=df_inter_trim[\"Rater_3_incentive_tag\"].to_list()\n"
   ]
  },
  {
   "cell_type": "code",
   "execution_count": 54,
   "metadata": {},
   "outputs": [
    {
     "name": "stdout",
     "output_type": "stream",
     "text": [
      " Fleiss's Kappa: 0.4950915616545709\n"
     ]
    }
   ],
   "source": [
    "#Apply inter-rater reliability on y/n tag \n",
    "\n",
    " \n",
    "formatted_codes = [[1,i,coder1[i]] for i in range(len(coder1))] + [[2,i,coder2[i]] for i in range(len(coder2))]  + [[3,i,coder3[i]] for i in range(len(coder3))]\n",
    "    \n",
    "ratingtask = agreement.AnnotationTask(data=formatted_codes)\n",
    "print(' Fleiss\\'s Kappa:',ratingtask.multi_kappa())"
   ]
  },
  {
   "cell_type": "code",
   "execution_count": 55,
   "metadata": {},
   "outputs": [],
   "source": [
    "coder1_tag=df_inter_trim[\"Rater_1_policy_tag\"].to_list()\n",
    "coder2_tag=df_inter_trim[\"Rater_2_policy_tag\"].to_list()\n",
    "coder3_tag=df_inter_trim[\"Rater_3_policy_tag\"].to_list()\n"
   ]
  },
  {
   "cell_type": "code",
   "execution_count": 56,
   "metadata": {},
   "outputs": [
    {
     "name": "stdout",
     "output_type": "stream",
     "text": [
      " Fleiss's Kappa: 0.5627594715810887\n"
     ]
    }
   ],
   "source": [
    "#Apply inter-rater reliability on policy tag\n",
    "\n",
    "  \n",
    "formatted_codes = [[1,i,coder1_tag[i]] for i in range(len(coder1_tag))] + [[2,i,coder2_tag[i]] for i in range(len(coder2_tag))]  + [[3,i,coder3_tag[i]] for i in range(len(coder3_tag))]\n",
    "    \n",
    "ratingtask = agreement.AnnotationTask(data=formatted_codes)\n",
    "print(' Fleiss\\'s Kappa:',ratingtask.multi_kappa())"
   ]
  },
  {
   "cell_type": "code",
   "execution_count": null,
   "metadata": {},
   "outputs": [],
   "source": []
  }
 ],
 "metadata": {
  "kernelspec": {
   "display_name": "Python 3",
   "language": "python",
   "name": "python3"
  },
  "language_info": {
   "codemirror_mode": {
    "name": "ipython",
    "version": 3
   },
   "file_extension": ".py",
   "mimetype": "text/x-python",
   "name": "python",
   "nbconvert_exporter": "python",
   "pygments_lexer": "ipython3",
   "version": "3.7.6"
  }
 },
 "nbformat": 4,
 "nbformat_minor": 4
}
