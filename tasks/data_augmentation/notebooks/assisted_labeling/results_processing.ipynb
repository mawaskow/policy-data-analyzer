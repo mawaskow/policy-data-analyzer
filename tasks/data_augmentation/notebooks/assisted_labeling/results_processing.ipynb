{
 "cells": [
  {
   "cell_type": "markdown",
   "id": "changing-europe",
   "metadata": {},
   "source": [
    "# Processing the results of assited labeling\n",
    "\n",
    "The assited labeling notebook yields several csv files one for each query. As the process have been parallelized, we have as many copies as threads we have run. So there is the need for merging the results in one single excel file per policy instrument."
   ]
  },
  {
   "cell_type": "code",
   "execution_count": 2,
   "id": "continued-blink",
   "metadata": {},
   "outputs": [],
   "source": [
    "import boto3\n",
    "import csv\n",
    "import json\n",
    "import numpy as np\n",
    "import pandas as pd"
   ]
  },
  {
   "cell_type": "markdown",
   "id": "innovative-dating",
   "metadata": {},
   "source": [
    "## Functions"
   ]
  },
  {
   "cell_type": "code",
   "execution_count": 6,
   "id": "mighty-deployment",
   "metadata": {},
   "outputs": [],
   "source": [
    "def aws_credentials(path, filename):\n",
    "    file = path + filename\n",
    "    with open(file, 'r') as dict:\n",
    "        key_dict = json.load(dict)\n",
    "    for key in key_dict:\n",
    "        KEY = key\n",
    "        SECRET = key_dict[key]\n",
    "    return KEY, SECRET\n",
    "\n",
    "def read_csv_from_s3(bucket_name, key, column):\n",
    "    data = client.get_object(Bucket=bucket_name, Key=key)\n",
    "\n",
    "    for row in csv.DictReader(codecs.getreader(\"utf-8\")(data[\"Body\"])):\n",
    "        print(row[column])"
   ]
  },
  {
   "cell_type": "markdown",
   "id": "disabled-mercy",
   "metadata": {},
   "source": [
    "## Connecting to S3"
   ]
  },
  {
   "cell_type": "code",
   "execution_count": 7,
   "id": "southeast-cancer",
   "metadata": {},
   "outputs": [],
   "source": [
    "path = \"C:/Users/jordi/Documents/claus/\"\n",
    "filename = \"AWS_S3_keys_wri.json\"\n",
    "aws_id, aws_secret = aws_credentials(path, filename)\n",
    "region = 'us-east-1'\n",
    "\n",
    "bucket = 'wri-nlp-policy'\n",
    "\n",
    "s3 = boto3.resource(\n",
    "    service_name = 's3',\n",
    "    region_name = region,\n",
    "    aws_access_key_id = aws_id,\n",
    "    aws_secret_access_key = aws_secret\n",
    ")"
   ]
  },
  {
   "cell_type": "markdown",
   "id": "massive-bosnia",
   "metadata": {},
   "source": [
    "## Loading the policy instruments"
   ]
  },
  {
   "cell_type": "code",
   "execution_count": 4,
   "id": "numeric-arctic",
   "metadata": {},
   "outputs": [],
   "source": [
    "# Define queries\n",
    "path = \"../../input/\"\n",
    "filename = \"English_queries.xlsx\"\n",
    "file = path + filename\n",
    "df = pd.read_excel(file, engine='openpyxl', sheet_name = \"Hoja1\", usecols = \"A:C\")\n",
    "\n",
    "policy_intrument = {}\n",
    "for index, row in df.iterrows():\n",
    "    policy_intrument[row['Policy instrument']] = 0"
   ]
  },
  {
   "cell_type": "code",
   "execution_count": null,
   "id": "painted-auction",
   "metadata": {},
   "outputs": [],
   "source": []
  }
 ],
 "metadata": {
  "kernelspec": {
   "display_name": "Python 3",
   "language": "python",
   "name": "python3"
  },
  "language_info": {
   "codemirror_mode": {
    "name": "ipython",
    "version": 3
   },
   "file_extension": ".py",
   "mimetype": "text/x-python",
   "name": "python",
   "nbconvert_exporter": "python",
   "pygments_lexer": "ipython3",
   "version": "3.8.8"
  },
  "toc": {
   "base_numbering": 1,
   "nav_menu": {},
   "number_sections": true,
   "sideBar": true,
   "skip_h1_title": true,
   "title_cell": "Table of Contents",
   "title_sidebar": "Contents",
   "toc_cell": false,
   "toc_position": {},
   "toc_section_display": true,
   "toc_window_display": true
  }
 },
 "nbformat": 4,
 "nbformat_minor": 5
}
