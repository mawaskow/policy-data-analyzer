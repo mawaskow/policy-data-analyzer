{
 "cells": [
  {
   "cell_type": "markdown",
   "metadata": {},
   "source": [
    "# Implementation of a search engine based on sBERT"
   ]
  },
  {
   "cell_type": "markdown",
   "metadata": {},
   "source": [
    "In this notebook there is a basic implementation of sBERT for searching a database of sentences with queries.\n",
    "\n",
    "The goal is to increase the amount of labeled data that we have in order to later fine tune a model to be used for sentence classification. First of all we have to find a pool of queries that represent the six labels of the six policy instruments. With these queries we can pull a set of sentences that can be automaticaly labeled with the same label of the query. In this way we can increase the diversity of labeled sentences in each label category. This approach will be complemented with a manual curation step to produce a high quality training data set.\n",
    "\n",
    "The policy instruments that we want to find and that correspond to the different labels are:\n",
    "* Direct payment (PES)\n",
    "* Tax deduction\n",
    "* Credit/guarantee\n",
    "* Technical assistance\n",
    "* Supplies\n",
    "* Fines\n",
    "\n",
    "This notebook is intended for the following purposes:\n",
    "* Try different query strategies to find the optimal retrieval of sentences in each policy instrument category\n",
    "* Try different transformers\n",
    "* Be the starting point for further enhancements"
   ]
  },
  {
   "cell_type": "markdown",
   "metadata": {},
   "source": [
    "## Import modules"
   ]
  },
  {
   "cell_type": "markdown",
   "metadata": {},
   "source": [
    "This notebook is self contained, it does not depend on any other class of the sBERT folder.\n",
    "\n",
    "You just have to create an environment where you install the external dependencies. Usually the dependencies that you have to install are:\n",
    "\n",
    "**For the basic sentence similarity calculation**\n",
    "*  pandas\n",
    "*  boto3\n",
    "*  pytorch\n",
    "*  sentence_transformers\n",
    "\n",
    "**If you want to use ngrams to generate queries**\n",
    "*  nltk\n",
    "*  plotly\n",
    "*  wordcloud\n",
    "\n",
    "**If you want to do evaluation and ploting with pyplot**\n",
    "*  matplotlib"
   ]
  },
  {
   "cell_type": "code",
   "execution_count": null,
   "metadata": {},
   "outputs": [],
   "source": [
    "# If your environment is called nlp then you execute this cell otherwise you change the name of the environment\n",
    "!conda activate nlp"
   ]
  },
  {
   "cell_type": "code",
   "execution_count": 66,
   "metadata": {},
   "outputs": [],
   "source": [
    "# General purpose libraries\n",
    "import numpy as np\n",
    "import pandas as pd\n",
    "import boto3\n",
    "import json\n",
    "import time\n",
    "import copy\n",
    "\n",
    "# Model libraries\n",
    "from sentence_transformers import SentenceTransformer\n",
    "from scipy.spatial import distance\n",
    "\n",
    "# Libraries for model evaluation\n",
    "# import matplotlib.pyplot as plt\n",
    "# from sklearn.model_selection import train_test_split\n",
    "# from sklearn.metrics import accuracy_score\n",
    "# from sklearn.metrics import confusion_matrix\n",
    "\n",
    "# Libraries to be used in the process of definig queries\n",
    "import nltk # imports the natural language toolkit\n",
    "import plotly\n",
    "from wordcloud import WordCloud\n",
    "from collections import Counter\n",
    "from nltk.util import ngrams\n",
    "import re\n",
    "\n",
    "from json import JSONEncoder\n",
    "\n",
    "class NumpyArrayEncoder(JSONEncoder):\n",
    "    def default(self, obj):\n",
    "        if isinstance(obj, np.ndarray):\n",
    "            return obj.tolist()\n",
    "        return JSONEncoder.default(self, obj)"
   ]
  },
  {
   "cell_type": "markdown",
   "metadata": {},
   "source": [
    "## Accesing documents in S3"
   ]
  },
  {
   "cell_type": "markdown",
   "metadata": {},
   "source": [
    "All documents from El Salvador have been preprocessed and their contents saved in a JSON file. In the JSON file there are the sentences of interest.\n",
    "\n",
    "Use the json file with the key and password to access the S3 bucket if necessary. \n",
    "If not, skip this section and use files in a local folder. "
   ]
  },
  {
   "cell_type": "code",
   "execution_count": 3,
   "metadata": {},
   "outputs": [],
   "source": [
    "# If you want to keep the credentials in a local folder out of GitHub, you can change the path to adapt it to your needs.\n",
    "# Please, comment out other users lines and set your own\n",
    "path = \"C:/Users/jordi/Google Drive/Els_meus_documents/projectes/CompetitiveIntelligence/WRI/Notebooks/credentials/\" # Jordi's local path in desktop\n",
    "# path = \"C:/Users/user/Google Drive/Els_meus_documents/projectes/CompetitiveIntelligence/WRI/Notebooks/credentials/\" # Jordi's local path in laptop\n",
    "# path = \"\"\n",
    "#If you put the credentials file in the same \"notebooks\" folder then you can use the following path\n",
    "# path = \"\"\n",
    "filename = \"Omdena_key_S3.json\"\n",
    "file = path + filename\n",
    "with open(file, 'r') as dict:\n",
    "    key_dict = json.load(dict)"
   ]
  },
  {
   "cell_type": "code",
   "execution_count": 4,
   "metadata": {},
   "outputs": [],
   "source": [
    "for key in key_dict:\n",
    "    KEY = key\n",
    "    SECRET = key_dict[key]"
   ]
  },
  {
   "cell_type": "code",
   "execution_count": 5,
   "metadata": {},
   "outputs": [],
   "source": [
    "s3 = boto3.resource(\n",
    "    service_name = 's3',\n",
    "    region_name = 'us-east-2',\n",
    "    aws_access_key_id = KEY,\n",
    "    aws_secret_access_key = SECRET\n",
    ")"
   ]
  },
  {
   "cell_type": "markdown",
   "metadata": {},
   "source": [
    "### Loading the sentence database"
   ]
  },
  {
   "cell_type": "code",
   "execution_count": 6,
   "metadata": {},
   "outputs": [],
   "source": [
    "filename = 'JSON/Chile.json'\n",
    "\n",
    "obj = s3.Object('wri-latin-talent',filename)\n",
    "serializedObject = obj.get()['Body'].read()\n",
    "policy_list = json.loads(serializedObject)"
   ]
  },
  {
   "cell_type": "markdown",
   "metadata": {},
   "source": [
    "### Building a list of potentially relevant sentences"
   ]
  },
  {
   "cell_type": "markdown",
   "metadata": {},
   "source": [
    "Before going through the dictionary to retrieve sentences, we define a function to reduce de number of sentences in the final \"sentences\" dictionary. This is just for testing purposes. The reason being that running the sentence embedding function takes time. So for initial testing purposes we can reduce the number of sentences in the testing dataset.\n",
    "\n",
    "The variable \"slim_by\" is the reduction factor. If it is set to 1, there will be no reduction and we will be working with the full dataset. It it is set to two, we will take one every two sentences and so one.\n",
    "\n",
    "<span style=\"color:red\"><strong>REMEMBER</strong></span> that you have to re-run the function \"get_sentences_dict\" with the \"slim_by\" variable set to 1 when you want to go for the final shoot."
   ]
  },
  {
   "cell_type": "code",
   "execution_count": 7,
   "metadata": {},
   "outputs": [],
   "source": [
    "def slim_dict(counter, slim_factor): # This is to shrink the sentences dict by a user set factor. It will pick only one sentence every \"slim_factor\"\n",
    "    if counter % slim_factor == 0:\n",
    "        return True\n",
    "    else:\n",
    "        return False\n",
    "def sentence_length_filter(sentence_text, minLength, maxLength):\n",
    "    if len(sentence_text) > minLength:#len(sentence_text) < maxLength and\n",
    "        return True\n",
    "    else:\n",
    "        return False\n",
    "    \n",
    "def get_sentences_dict(docs_dict, is_not_incentive_dict, slim_factor, minLength, maxLength):\n",
    "    count = 0\n",
    "    result = {}\n",
    "    for key, value in docs_dict.items():\n",
    "        for item in value: \n",
    "            if item in is_not_incentive_dict:\n",
    "                continue\n",
    "            else:\n",
    "                for sentence in docs_dict[key][item]['sentences']:\n",
    "                    if sentence_length_filter(docs_dict[key][item]['sentences'][sentence][\"text\"], minLength, maxLength):\n",
    "                        count += 1\n",
    "                        if slim_dict(count, slim_by):\n",
    "                            result[sentence] = docs_dict[key][item]['sentences'][sentence]\n",
    "                        else:\n",
    "                            continue\n",
    "                    else:\n",
    "                        continue\n",
    "    return result"
   ]
  },
  {
   "cell_type": "markdown",
   "metadata": {},
   "source": [
    "Here you will run the function to get your sentences list in a dictionary of this form:\n",
    "\n",
    "{\"\\<sentence id\\>\" : \"\\<text of the sentence\\>\"}."
   ]
  },
  {
   "cell_type": "code",
   "execution_count": 8,
   "metadata": {},
   "outputs": [],
   "source": [
    "# is_not_incentive = {\"CONSIDERANDO:\" : 0,\n",
    "#                     \"POR TANTO\" : 0,\n",
    "#                     \"DISPOSICIONES GENERALES\" : 0,\n",
    "#                     \"OBJETO\" : 0,\n",
    "#                     \"COMPETENCIA, PROCEDIMIENTOS Y RECURSOS.\" : 0}\n",
    "is_not_incentive = {\"CONSIDERANDO:\" : 0,\n",
    "                    \"POR TANTO\" : 0,\n",
    "                    \"DISPOSICIONES GENERALES\" : 0,\n",
    "                    \"OBJETO\" : 0,\n",
    "                    \"COMPETENCIA, PROCEDIMIENTOS Y RECURSOS.\" : 0,\n",
    "                   \"VISTO\" : 0,\n",
    "                   \"HEADING\" : 0}\n",
    "\n",
    "slim_by = 1 # REMEMBER to set this variable to the desired value.\n",
    "min_length = 50 # Just to avoid short sentences which might be fragments or headings without a lot of value\n",
    "max_length = 250 # Just to avoid long sentences which might be artifacts or long legal jargon separated by semicolons\n",
    "\n",
    "sentences = get_sentences_dict(policy_list, is_not_incentive, slim_by, min_length, max_length)\n"
   ]
  },
  {
   "cell_type": "code",
   "execution_count": 9,
   "metadata": {},
   "outputs": [
    {
     "name": "stdout",
     "output_type": "stream",
     "text": [
      "In this data set there are 4842 policies and 79953 sentences\n"
     ]
    }
   ],
   "source": [
    "# Just to check if the results look ok\n",
    "print(\"In this data set there are {} policies and {} sentences\".format(len(policy_list),len(sentences)))\n",
    "# for sentence in sentences:\n",
    "#     print(sentences[sentence]['text'])\n"
   ]
  },
  {
   "cell_type": "markdown",
   "metadata": {},
   "source": [
    "## Defining Queries"
   ]
  },
  {
   "cell_type": "markdown",
   "metadata": {},
   "source": [
    "### N-grams approach"
   ]
  },
  {
   "cell_type": "markdown",
   "metadata": {},
   "source": [
    "In the following lines, we use the excel file with the selected phrases of each country, process them and get N-grams to define basic queries for the SBERT model."
   ]
  },
  {
   "cell_type": "code",
   "execution_count": null,
   "metadata": {},
   "outputs": [],
   "source": [
    "data = pd.read_excel(r'WRI_Policy_Tags (1).xlsx', sheet_name = None)\n",
    "df = None\n",
    "\n",
    "if isinstance(data, dict):\n",
    "    for key, value in data.items():\n",
    "        if not isinstance(df,pd.DataFrame):\n",
    "            df = value\n",
    "        else:\n",
    "            df = df.append(value)\n",
    "else:\n",
    "    df = data\n",
    "df.head()"
   ]
  },
  {
   "cell_type": "code",
   "execution_count": null,
   "metadata": {},
   "outputs": [],
   "source": [
    "tagged_sentences = df[\"relevant sentences\"].apply(lambda x: x.split(\";\") if isinstance(x,str) else x)\n",
    "tagged_sentence = []\n",
    "\n",
    "for elem in tagged_sentences:\n",
    "    if isinstance(elem,float) or len(elem) == 0:\n",
    "        continue\n",
    "    elif isinstance(elem,list):\n",
    "        for i in elem:\n",
    "            if len(i.strip()) == 0:\n",
    "                continue\n",
    "            else:\n",
    "                tagged_sentence.append(i.strip())\n",
    "    else:\n",
    "        if len(elem.strip()) == 0:\n",
    "            continue\n",
    "        else:\n",
    "            tagged_sentence.append(elem.strip())\n",
    "\n",
    "tagged_sentence\n",
    "words_per_sentence = [len(x.split(\" \")) for x in tagged_sentence]\n",
    "plt.hist(words_per_sentence, bins = 50)\n",
    "plt.title(\"Histogram of number of words per sentence\")"
   ]
  },
  {
   "cell_type": "code",
   "execution_count": null,
   "metadata": {},
   "outputs": [],
   "source": [
    "def top_k_ngrams(word_tokens,n,k):\n",
    "    \n",
    "    ## Getting them as n-grams\n",
    "    n_gram_list = list(ngrams(word_tokens, n))\n",
    "\n",
    "    ### Getting each n-gram as a separate string\n",
    "    n_gram_strings = [' '.join(each) for each in n_gram_list]\n",
    "    \n",
    "    n_gram_counter = Counter(n_gram_strings)\n",
    "    most_common_k = n_gram_counter.most_common(k)\n",
    "    print(most_common_k)\n",
    "\n",
    "noise_words = []\n",
    "stopwords_corpus = nltk.corpus.stopword\n",
    "sp_stop_words = stopwords_corpus.words('spanish')\n",
    "noise_words.extend(sp_stop_words)\n",
    "print(len(noise_words))\n",
    "\n",
    "if \"no\" in noise_words:\n",
    "    noise_words.remove(\"no\")\n",
    "\n",
    "tokenized_words = nltk.word_tokenize(''.join(tagged_sentence))\n",
    "word_freq = Counter(tokenized_words)\n",
    "# word_freq.most_common(20)\n",
    "# list(ngrams(tokenized_words, 3))\n",
    "\n",
    "word_tokens_clean = [re.findall(r\"[a-zA-Z]+\",each) for each in tokenized_words if each.lower() not in noise_words and len(each.lower()) > 1]\n",
    "word_tokens_clean = [each[0].lower() for each in word_tokens_clean if len(each)>0]"
   ]
  },
  {
   "cell_type": "markdown",
   "metadata": {},
   "source": [
    "We define the size of the n-gram that we want to find. The larger it is, the less frequent it will be, unless we substantially increase the number of phrases."
   ]
  },
  {
   "cell_type": "code",
   "execution_count": null,
   "metadata": {},
   "outputs": [],
   "source": [
    "n_grams = 2\n",
    "\n",
    "top_k_ngrams(word_tokens_clean, n_grams, 20)"
   ]
  },
  {
   "cell_type": "markdown",
   "metadata": {},
   "source": [
    "### Building queries with Parts-Of-Speech\n",
    "\n",
    "The following functions take a specific word and find the next or previous words according to the POS tags.\n",
    "\n",
    "An example is shown below with the text: <br>\n",
    "\n",
    "text = \"Generar empleo y garantizara la población campesina el bienestar y su participación e incorporación en el desarrollo nacional, y fomentará la actividad agropecuaria y forestal para el óptimo uso de la tierra, con obras de infraestructura, insumos, créditos, servicios de capacitación y asistencia técnica\" <br>\n",
    "\n",
    "next_words(text, \"empleo\", 3) <br>\n",
    "prev_words(text, \"garantizara\", 6) <br>\n",
    "\n",
    "Will return: <br>\n",
    "\n",
    ">['garantizara', 'población', 'campesina'] <br>\n",
    ">['Generar', 'empleo']"
   ]
  },
  {
   "cell_type": "code",
   "execution_count": null,
   "metadata": {},
   "outputs": [],
   "source": [
    "nlp = es_core_news_md.load()\n",
    "\n",
    "def ExtractInteresting(sentence, match = [\"ADJ\",\"ADV\", \"NOUN\", \"NUM\", \"VERB\", \"AUX\"]):\n",
    "    words = nltk.word_tokenize(sentence)\n",
    "#     interesting = [k for k,v in nltk.pos_tag(words) if v in match]\n",
    "    doc = nlp(sentence)\n",
    "    interesting = [k.text for k in doc if k.pos_ in match]\n",
    "    return(interesting)\n",
    "\n",
    "def next_words(sentence, word, num_words, match = [\"ADJ\",\"ADV\", \"NOUN\", \"NUM\", \"VERB\", \"AUX\"]):\n",
    "\n",
    "    items = list()\n",
    "    doc = nlp(sentence)\n",
    "    text = [i.text for i in doc]\n",
    "\n",
    "    if word not in text: return \"\"\n",
    "    \n",
    "    idx = text.index(word)\n",
    "    for num in range(num_words):\n",
    "        \n",
    "        pos_words = [k.text for k in doc[idx:] if k.pos_ in match]\n",
    "        if len(pos_words) > 1: \n",
    "            items.append(pos_words[1])\n",
    "            idx = text.index(pos_words[1])\n",
    "    \n",
    "    return items\n",
    "    \n",
    "def prev_words(sentence, word, num_words, match = [\"ADJ\",\"ADV\", \"NOUN\", \"NUM\", \"VERB\", \"AUX\"]):\n",
    "    \n",
    "    items = list()\n",
    "    doc = nlp(sentence)\n",
    "    text = [i.text for i in doc]\n",
    "\n",
    "    if word not in text: return \"\"\n",
    "    \n",
    "    idx = text.index(word)\n",
    "    for num in range(num_words):\n",
    "        pos_words = [k.text for k in doc[:idx] if k.pos_ in match]\n",
    "        if len(pos_words) >= 1: \n",
    "            items.insert(0, pos_words[-1]) #Add element in order and take the last element since it is the one before the word\n",
    "            idx = text.index(pos_words[-1])\n",
    "    \n",
    "    return items"
   ]
  },
  {
   "cell_type": "markdown",
   "metadata": {},
   "source": [
    "### Keyword approach"
   ]
  },
  {
   "cell_type": "code",
   "execution_count": null,
   "metadata": {},
   "outputs": [],
   "source": [
    "# Regular expression to find incentive policy instruments\n",
    "keywords = re.compile(r'(asistencia tecnica)|ayuda\\s*s*\\s*\\b|\\bbono\\s*s*\\b\\s*|credito\\s*s*\\b\\s*|incentivo\\s*s*\\b\\s*|insumo\\s*s*\\b\\s*|multa\\s*s*\\b\\s*')\n",
    "# deduccion\\s*(es)*\\b\\s*|devolucion\\s*(es)*\\b\\s*|\n",
    "# Function to change accented words by non-accented counterparts. It depends on the dictionary \"accent_marks_bugs\" \n",
    "accents_out = re.compile(r'[áéíóúÁÉÍÓÚ]')\n",
    "accents_dict = {\"á\":\"a\",\"é\":\"e\",\"í\":\"i\",\"ó\":\"o\",\"ú\":\"u\",\"Á\":\"A\",\"É\":\"E\",\"Í\":\"I\",\"Ó\":\"O\",\"Ú\":\"U\"}\n",
    "def remove_accents(string):\n",
    "    for accent in accents_out.findall(string):\n",
    "        string = string.replace(accent, accents_dict[accent])\n",
    "    return string\n",
    "# Dictionary to merge variants of a word\n",
    "families = {\n",
    "    \"asistencia tecnica\" : \"asistencia técnica\",\n",
    "    \"ayuda\" : \"ayuda\",\n",
    "    \"ayudas\" : \"ayuda\",\n",
    "    \"bono\" : \"bono\",\n",
    "    \"bonos\" : \"bono\",\n",
    "    \"credito\":  \"crédito\",\n",
    "    \"creditos\":  \"crédito\",\n",
    "#     \"deduccion\" : \"deducción\",\n",
    "#     \"deducciones\" : \"deducción\",\n",
    "#     \"devolucion\" : \"devolución\",\n",
    "#     \"devoluciones\" : \"devolución\",\n",
    "    \"incentivo\" : \"incentivo\",\n",
    "    \"incentivos\" : \"incentivo\",\n",
    "    \"insumo\" : \"insumo\",\n",
    "    \"insumos\" : \"insumo\",\n",
    "    \"multa\" : \"multa\",\n",
    "    \"multas\" : \"multa\"\n",
    "}"
   ]
  },
  {
   "cell_type": "code",
   "execution_count": null,
   "metadata": {},
   "outputs": [],
   "source": [
    "keyword_in_sentences = []\n",
    "            \n",
    "for sentence in sentences:\n",
    "    line = remove_accents(sentences[sentence]['text'])\n",
    "    hit = keywords.search(line)\n",
    "    if hit:\n",
    "        keyword = hit.group(0).rstrip().lstrip()\n",
    "        keyword_in_sentences.append([families[keyword], sentence, sentences[sentence]['text']])             "
   ]
  },
  {
   "cell_type": "code",
   "execution_count": null,
   "metadata": {
    "scrolled": false
   },
   "outputs": [],
   "source": [
    "### print(len(keyword_in_sentences))\n",
    "# keyword_in_sentences = sorted(keyword_in_sentences, key = lambda x : x[0])\n",
    "# df_keyword_in_sentences = pd.DataFrame(keyword_in_sentences)\n",
    "\n",
    "# path = \"../output/\"\n",
    "# filename = \"keywords_match_labeling.csv\"\n",
    "# file = path + filename\n",
    "\n",
    "# df_keyword_in_sentences.to_csv(file)\n",
    "\n",
    "# print(keyword_in_sentences[0:20])\n",
    "filtered = [row for row in keyword_in_sentences if row[0] == \"incentivo\"]\n",
    "filtered"
   ]
  },
  {
   "cell_type": "code",
   "execution_count": null,
   "metadata": {},
   "outputs": [],
   "source": [
    "i = 0\n",
    "for key, value in families.items():\n",
    "    if i % 2 == 0:\n",
    "        print(value, \"--\", len([row for row in keyword_in_sentences if row[0] == value]))\n",
    "    i += 1\n",
    "    "
   ]
  },
  {
   "cell_type": "code",
   "execution_count": null,
   "metadata": {},
   "outputs": [],
   "source": [
    "incentives = {}\n",
    "\n",
    "for incentive in families:\n",
    "    incentives[families[incentive]] = 0\n",
    "    \n",
    "incentives"
   ]
  },
  {
   "cell_type": "markdown",
   "metadata": {},
   "source": [
    "## Initializing the model"
   ]
  },
  {
   "cell_type": "markdown",
   "metadata": {},
   "source": [
    "First, we import the sBERT model. Several transformers are available and documentation is here: https://github.com/UKPLab/sentence-transformers <br>\n",
    "\n",
    "Then we build a simple function that takes four inputs:\n",
    "1. The model as we have set it in the previous line of code\n",
    "2. A dictionary that contains the sentences {\"\\<sentence_ID\\>\" : {\"text\" : \"The actual sentence\", labels : []}\n",
    "3. A query in the form of a string\n",
    "4. A similarity treshold. It is a float that we can use to limit the results list to the most relevant.\n",
    "\n",
    "The output of the function is a list with three columns with the following content:\n",
    "1. Column 1 contains the id of the sentence\n",
    "2. Column 2 contains the similarity score\n",
    "3. Column 3 contains the text of the sentence that has been compared with the query"
   ]
  },
  {
   "cell_type": "markdown",
   "metadata": {},
   "source": [
    "### Modeling functions"
   ]
  },
  {
   "cell_type": "markdown",
   "metadata": {},
   "source": [
    "There are currently two multi language models available for sentence similarity\n",
    "\n",
    "* xlm-r-bert-base-nli-stsb-mean-tokens: Produces similar embeddings as the bert-base-nli-stsb-mean-token model. Trained on parallel data for 50+ languages.\n",
    "<span style=\"color:red\"><strong>Attention!</strong></span> Model \"xlm-r-100langs-bert-base-nli-mean-tokens\" which was the name used in the original Omdena-challenge script has changed to this \"xlm-r-bert-base-nli-stsb-mean-tokens\"\n",
    "\n",
    "* distiluse-base-multilingual-cased-v2: Multilingual knowledge distilled version of multilingual Universal Sentence Encoder. While the original mUSE model only supports 16 languages, this multilingual knowledge distilled version supports 50+ languages"
   ]
  },
  {
   "cell_type": "code",
   "execution_count": 14,
   "metadata": {},
   "outputs": [],
   "source": [
    "# This function is to create the embeddings for each transformer the embeddings in a json with the following structure:\n",
    "# INPUT PARAMETERS\n",
    "# transformers: a list with transformer names\n",
    "# sentences_dict: a dictionary with the sentences of the database with the form {\"<sentence id>\" : \"<sentence text>\"}}\n",
    "# file: the filepath and filename of the output json\n",
    "# OUTPUT\n",
    "# the embeddings of the sentences in a json with the following structure:\n",
    "# {\"<transformer name>\" : {\"<sentence id>\" : <sentence embedding>}}\n",
    "\n",
    "def create_sentence_embeddings(transformers, sentences_dict, file):\n",
    "    embeddings = {}\n",
    "    for transformer_name in transformers:\n",
    "        model = SentenceTransformer(transformer_name)\n",
    "        embeddings[transformer_name] = {}\n",
    "        for sentence in sentences_dict:\n",
    "            embeddings[transformer_name][sentence] = [model.encode(sentences_dict[sentence]['text'].lower())]\n",
    "    with open(file, 'w') as fp:\n",
    "        json.dump(embeddings, fp, cls=NumpyArrayEncoder)\n",
    "     \n",
    "   \n",
    "def highlight(transformer_name, model, sentence_emb, sentences_dict, query, similarity_treshold):\n",
    "    query_embedding = model.encode(query.lower())\n",
    "    highlights = []\n",
    "    for sentence in sentences_dict:\n",
    "        sentence_embedding = np.asarray(sentence_emb[transformer_name][sentence])[0]\n",
    "        score = 1 - distance.cosine(sentence_embedding, query_embedding)\n",
    "        if score > similarity_treshold:\n",
    "            highlights.append([sentence, score, sentences_dict[sentence]['text']])\n",
    "    highlights = sorted(highlights, key = lambda x : x[1], reverse = True)\n",
    "    return highlights\n"
   ]
  },
  {
   "cell_type": "markdown",
   "metadata": {},
   "source": [
    "### Create embeddings for sentences in the database\n",
    "\n",
    "This piece of code it's to be executed only once every time the database is chaged or we want to get the embeddings of a new database. For example, we are going to use it once for El Salvador policies and we don't need to use it again until we add new policies to this database. Instead, whenever we want to run experiments on this database, we will load the json files with the embeddings which are in the \"input\" folder.\n",
    "\n",
    "So, the next cell will be kept commented for safety reasons. Un comment it and execute it whenvere you need it."
   ]
  },
  {
   "cell_type": "code",
   "execution_count": null,
   "metadata": {},
   "outputs": [],
   "source": [
    "Ti = time.perf_counter()\n",
    "\n",
    "transformer_names =['xlm-r-bert-base-nli-stsb-mean-tokens', 'distiluse-base-multilingual-cased-v2']\n",
    "\n",
    "path = \"../input/\"\n",
    "filename = \"Embeddings_ElSalvador_201223.json\"\n",
    "file = path + filename\n",
    "\n",
    "create_sentence_embeddings(transformer_names, sentences, file)\n",
    "\n",
    "Tf = time.perf_counter()\n",
    "\n",
    "print(f\"The building of a sentence embedding database for El Salvador in the two current models has taken {Tf - Ti:0.4f} seconds\")"
   ]
  },
  {
   "cell_type": "markdown",
   "metadata": {},
   "source": [
    "### Loading the embeddings for database sentences"
   ]
  },
  {
   "cell_type": "code",
   "execution_count": 2,
   "metadata": {},
   "outputs": [],
   "source": [
    "path = \"../input/\"\n",
    "filename = \"Embeddings_Chile_201223.json\"\n",
    "file = path + filename\n",
    "\n",
    "with open(file, \"r\") as f:\n",
    "    sentence_embeddings = json.load(f)"
   ]
  },
  {
   "cell_type": "code",
   "execution_count": null,
   "metadata": {},
   "outputs": [],
   "source": [
    "len(sentence_embeddings)\n",
    "for key in sentence_embeddings:\n",
    "    print(len(sentence_embeddings[key]))"
   ]
  },
  {
   "cell_type": "markdown",
   "metadata": {},
   "source": [
    "## Basic search with single test query"
   ]
  },
  {
   "cell_type": "code",
   "execution_count": null,
   "metadata": {},
   "outputs": [],
   "source": [
    "# First load transformers into the model by choosing one model from index\n",
    "transformer_names =['xlm-r-bert-base-nli-stsb-mean-tokens', 'distiluse-base-multilingual-cased-v2']\n",
    "model_index = 0\n",
    "model = SentenceTransformer(transformer_names[model_index])"
   ]
  },
  {
   "cell_type": "code",
   "execution_count": null,
   "metadata": {},
   "outputs": [],
   "source": [
    "# Now, perform single query searches by manually writing a query in the corresponding field\n",
    "Ti = time.perf_counter()\n",
    "\n",
    "highlighter_query = \"La Policia al tener conocimiento de cualquier infraccion\"\n",
    "similarity_limit = 0.00\n",
    "\n",
    "label_1 = highlight(transformer_names[model_index], model, sentence_embeddings, sentences, highlighter_query, similarity_limit)\n",
    "\n",
    "Tf = time.perf_counter()\n",
    "\n",
    "print(f\"similarity search for El Salvador sentences done in {Tf - Ti:0.4f} seconds\")"
   ]
  },
  {
   "cell_type": "code",
   "execution_count": null,
   "metadata": {},
   "outputs": [],
   "source": [
    "print(len(label_1))\n",
    "label_1[0:10]"
   ]
  },
  {
   "cell_type": "markdown",
   "metadata": {},
   "source": [
    "### Inspecting the results"
   ]
  },
  {
   "cell_type": "code",
   "execution_count": null,
   "metadata": {},
   "outputs": [],
   "source": [
    "print(highlighter_query)\n",
    "label_1[0:40]"
   ]
  },
  {
   "cell_type": "markdown",
   "metadata": {},
   "source": [
    "### Further filtering of the results by using the similarity score"
   ]
  },
  {
   "cell_type": "code",
   "execution_count": null,
   "metadata": {},
   "outputs": [],
   "source": [
    "similarity_treshold = 0.5\n",
    "filtered = [row for row in label_1 if row[1] > similarity_treshold]\n",
    "filtered"
   ]
  },
  {
   "cell_type": "markdown",
   "metadata": {},
   "source": [
    "### Exporting results"
   ]
  },
  {
   "cell_type": "code",
   "execution_count": null,
   "metadata": {},
   "outputs": [],
   "source": [
    "# Create a dataframe\n",
    "export_query = pd.DataFrame(label_1)\n",
    "#export file \n",
    "export_query = pd.DataFrame(label_1)"
   ]
  },
  {
   "cell_type": "markdown",
   "metadata": {},
   "source": [
    "## Multiparameter search design"
   ]
  },
  {
   "cell_type": "code",
   "execution_count": null,
   "metadata": {},
   "outputs": [],
   "source": [
    "# This piece of code is just to limit the amount of items in the incentives dictionary for testing purposes\n",
    "# The \"incentives\" dictionari contains the keywords that represent policy instruments. This is to be used in\n",
    "# the following cell where we make a search based on (1) the keywords themselves (2) the first sentence found in policy documents\n",
    "# with each of the keywords.\n",
    "\n",
    "# dicti = {}\n",
    "# i= 0\n",
    "# for key in incentives:\n",
    "#     if i < 2:\n",
    "#         dicti[key] = 0\n",
    "#     i += 1\n",
    "# incentives = dicti\n",
    "    "
   ]
  },
  {
   "cell_type": "code",
   "execution_count": 12,
   "metadata": {},
   "outputs": [],
   "source": [
    "# The function below is to use a set of queries to search a database for similar sentences with different transformers.\n",
    "# The input parameters are:\n",
    "\n",
    "# Transformer_names: A list with the names of the transformers to be used. For multilingual similarity search we have two transformers\n",
    "# Queries: a list of the queries as strings, that we want to use for searching the database\n",
    "\n",
    "# Similarity_limit: The results are in the form of a similarity coefficient where 1 is a perfect match between the query embedding\n",
    "# and the sentence in the database (the two vectors overlap). If the similarity coefficient is 0 the two vectors are orthogonal,\n",
    "# they do not share anything in common. Thus, in order to restribt the number of results that are kept from the experiment we can\n",
    "# it by setting a similarity threshold.When we have a huge database a good treshold would be 0.3 to 0.5 or even higher.\n",
    "\n",
    "# Results_limit: instead of or complementary to Similarity_limit, we can limit our list of search results by the first sentences\n",
    "# in the similarity ranking. We can set the limit to high numbers in an exploration phase and then reduce this number in a \n",
    "# \"production\" phase\n",
    "\n",
    "# Filename: The results will be exported to the \"output/\" folder in json formate, we need to give it a name witout extension.\n",
    "\n",
    "def multiparameter_sentence_similarity_search(transformer_names, queries, similarity_limit, results_limit, filename):\n",
    "    results = {}\n",
    "    for transformer in transformer_names:\n",
    "        model = SentenceTransformer(transformer)\n",
    "        results[transformer] = {}\n",
    "        for query in queries:\n",
    "            Ti = time.perf_counter()\n",
    "            similarities = highlight(transformer, model, sentence_embeddings, sentences, query, similarity_limit)\n",
    "            results[transformer][query] = similarities[0:results_limit]\n",
    "            Tf = time.perf_counter()\n",
    "            print(f\"similarity search for model {transformer} and query {query} it's been done in {Tf - Ti:0.4f} seconds\")\n",
    "\n",
    "    path = \"../output/\"\n",
    "    filename = filename + \".json\"\n",
    "    file = path + filename\n",
    "    with open(file, 'w') as fp:\n",
    "        json.dump(results, fp, indent=4)\n",
    "    return results"
   ]
  },
  {
   "cell_type": "markdown",
   "metadata": {},
   "source": [
    "### Query building\n",
    "\n",
    "The code to compute sentence similarity will take two imputs:\n",
    "\n",
    "* The queries that will by input as a list of strings. \n",
    "* The embeddings of the sentences in the database. \n",
    "\n",
    "At this point all we need to run the experiment is ready but the list of queries. One can write the list manually, or one can make it from other data flows. The next cells are ment to do this."
   ]
  },
  {
   "cell_type": "markdown",
   "metadata": {},
   "source": [
    "### <strong><span style=\"color:red\">Experiment 1</span></strong> Queries extracted from the database itself\n",
    "\n",
    "What we do in this experiment is check the capacity of two models:\n",
    "\n",
    "* xlm-r-bert-base-nli-stsb-mean-tokens\n",
    "* distiluse-base-multilingual-cased-v2\n",
    "\n",
    "to find policy instruments for incentives, based in 9 categories:\n",
    "\n",
    "asistencia técnica; ayuda; bono; crédito; deducción; devolución; incentivo; insumo and multa\n",
    "\n",
    "We will compare two approaches:\n",
    "1. to perform a search with the keyword itself\n",
    "2. to perform a search with one of the sentences found in El Salvador policies which contain the keyword.\n",
    "\n",
    "User set parameters:\n",
    "<strong>Transformer names:</strong> this is a list with the different models to test. There are currently two.\n",
    "\n",
    "<strong>Similarity limit:</strong> just to filter out the search matches whith low similarity.\n",
    "\n",
    "<strong>Number of search results:</strong> the search is against all 40.000 sentences in the database, but we don't want to keep all, just the most relevant so we take 1500 as the keyword with most direct matches is \"multa\" with some 1352 matches."
   ]
  },
  {
   "cell_type": "code",
   "execution_count": null,
   "metadata": {},
   "outputs": [],
   "source": [
    "S_queries = {\"asistencia técnica\" : \"00a55af_79\", \n",
    "             \"ayuda\" : \"00a55af_61\", \n",
    "             \"bono\" : \"00a55af_80\", \n",
    "             \"crédito\" : \"1cd36a0_11\", \n",
    "             \"incentivo\" : \"51a0d9e_30\",\n",
    "             \"insumo\" : \"731dbf0_11\",\n",
    "             \"multa\" : \"029d411_88\"\n",
    "}\n",
    "incentive = \"asistencia técnica\"\n",
    "[row for row in keyword_in_sentences if row[1] == S_queries[incentive]][0][2]"
   ]
  },
  {
   "cell_type": "code",
   "execution_count": null,
   "metadata": {},
   "outputs": [],
   "source": [
    "transformers =['xlm-r-bert-base-nli-stsb-mean-tokens']#, 'distiluse-base-multilingual-cased-v2']\n",
    "queries = [\"Conceder créditos a los productores o propietarios\"]\n",
    "similarity_threshold = 0.2\n",
    "search_results_limit = 100\n",
    "name = \"test201224\"\n",
    "\n",
    "results_dict = multiparameter_sentence_similarity_search(transformers, queries, similarity_threshold, search_results_limit, name)"
   ]
  },
  {
   "cell_type": "code",
   "execution_count": null,
   "metadata": {},
   "outputs": [],
   "source": [
    "i = 0\n",
    "similarity_list = []\n",
    "for key1 in results_dict:\n",
    "    for key2 in results_dict[key1]:\n",
    "        for item in results_dict[key1][key2]:\n",
    "            similarity_list.append([i, item[1]])\n",
    "            if i == 0:\n",
    "            i += 1"
   ]
  },
  {
   "cell_type": "code",
   "execution_count": null,
   "metadata": {},
   "outputs": [],
   "source": [
    "similarity_list[0:5]"
   ]
  },
  {
   "cell_type": "markdown",
   "metadata": {},
   "source": [
    "### <strong><span style=\"color:red\">Experiment 2</span></strong> Queries from the tagged database\n",
    "\n",
    "Here we use the databse of tagged sentences to define queries. The database is structured by countries. From a list of model documents the sentences were separated and tagged with a policy instrument label. The labels that were used are:\n",
    "\n",
    "* Credit\n",
    "* Direct payment\n",
    "* Fine\n",
    "* Guarantee\n",
    "* Supplies\n",
    "* Tax deduction\n",
    "* Technical assistance\n",
    "\n",
    "Not all countries have tagged sentences for each category so we ended up with 26 queries\n"
   ]
  },
  {
   "cell_type": "code",
   "execution_count": 67,
   "metadata": {},
   "outputs": [],
   "source": [
    "queries_dict = {\n",
    "    \"Para efectos del otorgamiento de estímulos fiscales, crediticios o financieros por parte del Estado, se considerarán prioritarias las actividades relacionadas con la conservación y restauración de los hábitats, la protección del ambiente y el aprovechamiento sustentable de los recursos naturales.\" : \"Credit-México\",\n",
    "\"Obtener créditos blandos para mejorar la sostenibillidad y rentabilidad de las actividades de uso de la Diversidad Biológica. Estos créditos podrían beneficiar a sistemas productivos asociados a la pequeña y mediana producción, actividades de experimentación, investigación, producción y comercialización de la Diversidad Biológica, implementación de tecnologías de producción limpia, programas de reforestación u otros que se estipulen.\" : \"Credit-Perú\",\n",
    "\"Se asocia con créditos de enlace INDAP y Banco Estado\" : \"Credit-Chile\", \n",
    "\"El INAB establecerá un programa de garantía crediticia para la actividad forestal, mediante el cual se respaldarán los créditos que otorgue el sistema bancario para el fomento del sector forestal a los pequeños propietarios referidos en el articulo 83 de la presente ley, usando recursos del Fondo Forestal Privativo u otras fuentes, el reglamento debe regular los procedimientos del programa de garantía crediticia a la actividad forestal del pequeño propietario.\" : \"Credit-Guatemala\",\n",
    "\"El Banco Multisectorial de Inversiones establecerá líneas de crédito para que el Sistema Financiero apoye a la pequeña, mediana y microempresa, a fin de que puedan oportunamente adaptarse a las Disposiciones de la presente Ley.\" : \"Credit-El Salvador\",\n",
    "\"Dentro de los incentivos económicos se podrá crear un bono que incentive la conservación del recurso forestal por el Fondo Forestal Mexicano de acuerdo a la disponibilidad de recursos, a fin de retribuir a los propietarios o poseedores de terrenos forestales por los bienes y servicios ambientales generados.\" : \"Direct payment-México\",\n",
    "\"Los fondos forestales serviran para el pago por arbol prendido a los dos anos de su instalación en terreno definitivo, siempre que provengan de viveros certificados.\" : \"Direct payment-Perú\",\n",
    "\"El porcentaje de bonificación para pequeños propietarios forestales será del 90% de los costos de la forestación que efectúen en suelos de aptitud preferente ente forestal o en suelos degradados de cualquier clase, incluidas aquellas plantaciones con baja densidad para fines de uso silvopastoral, respecto de las primeras 15 hectáreas y de un 75% respecto de las restantes.\" : \"Direct payment-Chile\",\n",
    "\"El Estado, en un período de 20 años contados a partir de la vigencia de la presente ley, dará incentivos al establecimiento de plantaciones, su mantenimiento y el manejo de bosques naturales, este incentivo se otorgará a los propietarios de tierras con vocación forestal, una sola vez, de acuerdo al plan de manejo y/o reforestación aprobado por el INAB.\" : \"Direct payment-Guatemala\",\n",
    "\"Incentivos en dinero: para cubrir los costos directos e indirectos del establecimiento y manejo de areas con sistema agroforestal de cafe\" : \"Direct payment-El Salvador\",\n",
    "\"Toda persona física o moral que ocasione directa o indirectamente un daño a los recursos forestales, los ecosistemas y sus componentes, estará obligada a repararlo o compensarlo, de conformidad con lo dispuesto en la Ley Federal de Responsabilidad Ambiental.\" : \"Fine-México\",\n",
    "\"Disminuir los riesgos para el inversionista implementando mecanismos de aseguramiento.\" : \"Guarantee-México\",\n",
    "\"Fianza: Podrá garantizarse el cumplimiento de repoblación forestal mediante fi anza otorgada a favor del INAB por cualquiera de las afi anzadoras legalmente autorizadas para funcionar en el país, en base al cuadro siguiente\" : \"Guarantee-Guatemala\",\n",
    "\"La/el sujeto de derecho podrá recibir en especie materiales, insumos, equipos, herramientas, para la instalación y operación de viveros comunitarios.\" : \"Supplies-México\",\n",
    "\"Ello, a través de la utilización de guías, manuales, protocolos, paquetes tecnológicos, procedimientos, entre otros.\" : \"Supplies-Perú\",\n",
    "\"Incentivos en especie: insumos agrícolas, herramientas, asistencia tecnica, estudios de factibilidad y pre factibilidad, elaboracion de planes de manejo, mejoramiento de vías de acceso a las plantaciones, comercializacion y capacitaciones.\" : \"Supplies-El Salvador\",\n",
    "\"Otorgar incentivos fiscales a las plantaciones forestales comerciales, incluyendo incentivos dirigidos a promover la industria ligada a las plantaciones comerciales forestales.\" : \"Tax deduction-México\",\n",
    "\"25% de descuento en el pago del derecho de aprovechamiento, si el titular de la concesión reporte anualmente sus resultados de inventario forestal, de acuerdo a los lineamientos aprobados por el SERFOR.\" : \"Tax deduction-Perú\",\n",
    "\"Las bonificaciones percibidas o devengadas se considerarán como ingresos diferidos en el pasivo circulante y no se incluirán para el cálculo de la tasa adicional del artículo 21 de la Ley de la Renta ni constituirán renta para ningún efecto legal hasta el momento en que se efectúe la explotación o venta del bosque que originó la bonificación, oportunidad en la que se amortizará abonándola al costo de explotación a medida y en la proporción en que ésta o la venta del bosque se realicen, aplicándose a las utilidades resultantes el artículo 14°, inciso primero, del presente decreto ley.\" : \"Tax deduction-Chile\",\n",
    "\"Los contratistas que suscriban contratos de exploración y/o explotación y de sistemas estacionarios de transporte de hidrocarburos, quedan exentos de cualquier impuesto sobre los dividendos, participaciones y utilidades que el contratista remese al exterior como pago a sus accionistas, asociados, partícipes o socios, así como las remesas en efectivo y/o en especie y los créditos contables que efectúen a sus casas matríces.\" : \"Tax deduction-Guatemala\",\n",
    "\"Exención de los derechos e impuestos, incluyendo el Impuesto a la Transferencia de Bienes Muebles y a la Prestación de Servicios, en la importación de sus bienes, equipos y accesorios, maquinaria, vehículos, aeronaves o embarcaciones para cabotaje y los materiales de construcción para las edificaciones del proyecto.\" : \"Tax deduction-El Salvador\",\n",
    "\"Formación Permanente Además del acompañamiento técnico, los sujetos de derecho participarán en un proceso permanente de formación a lo largo de todo el año, que les permita enriquecer sus habilidades y capacidades en el ámbito social y productivo.\" : \"Technical assistance-México\",\n",
    "\"Contribuir en la promoción para la gestión de las plantaciones forestales y agroforestales, a través de la capacitación, asesoramiento, asistencia técnica y educación de los usuarios, en coordinación con la ARFFS.\" : \"Technical assistance-Perú\",\n",
    "\"Asesoría prestada al usuario por un operador acreditado, conducente a elaborar, acompañar y apoyar la adecuada ejecución técnica en terreno de aquellas prácticas comprometidas en el Plan de Manejo, sólo podrán postular, a esta asistencia, los pequeños productores agrícolas.\" : \"Technical assistance-Chile\",\n",
    "\"Programas de Capacitación Para la ejecución de programas de capacitación, adiestramiento y otorgamiento de becas para la preparación de personal guatemalteco, así como para el desarrollo de tecnología en actividades directamente relacionadas con las operaciones petroleras objeto del contrato, todo contratista contribuirá con las cantidades de dólares de los Estados Unidos de América que se estipulen en el contrato.\" : \"Technical assistance-Guatemala\",\n",
    "\"Apoyo técnico y en formulación de proyectos y conexión con mercados\" : \"Technical assistance-El Salvador\"}\n",
    "\n",
    "queries = []\n",
    "for query in queries_dict:\n",
    "    queries.append(query)\n",
    "        \n",
    "# print(queries)"
   ]
  },
  {
   "cell_type": "code",
   "execution_count": 68,
   "metadata": {},
   "outputs": [
    {
     "name": "stdout",
     "output_type": "stream",
     "text": [
      "similarity search for model xlm-r-bert-base-nli-stsb-mean-tokens and query Para efectos del otorgamiento de estímulos fiscales, crediticios o financieros por parte del Estado, se considerarán prioritarias las actividades relacionadas con la conservación y restauración de los hábitats, la protección del ambiente y el aprovechamiento sustentable de los recursos naturales. it's been done in 4.5357 seconds\n",
      "similarity search for model xlm-r-bert-base-nli-stsb-mean-tokens and query Obtener créditos blandos para mejorar la sostenibillidad y rentabilidad de las actividades de uso de la Diversidad Biológica. Estos créditos podrían beneficiar a sistemas productivos asociados a la pequeña y mediana producción, actividades de experimentación, investigación, producción y comercialización de la Diversidad Biológica, implementación de tecnologías de producción limpia, programas de reforestación u otros que se estipulen. it's been done in 9.8624 seconds\n",
      "similarity search for model xlm-r-bert-base-nli-stsb-mean-tokens and query Se asocia con créditos de enlace INDAP y Banco Estado it's been done in 14.3632 seconds\n",
      "similarity search for model xlm-r-bert-base-nli-stsb-mean-tokens and query El INAB establecerá un programa de garantía crediticia para la actividad forestal, mediante el cual se respaldarán los créditos que otorgue el sistema bancario para el fomento del sector forestal a los pequeños propietarios referidos en el articulo 83 de la presente ley, usando recursos del Fondo Forestal Privativo u otras fuentes, el reglamento debe regular los procedimientos del programa de garantía crediticia a la actividad forestal del pequeño propietario. it's been done in 18.9743 seconds\n",
      "similarity search for model xlm-r-bert-base-nli-stsb-mean-tokens and query El Banco Multisectorial de Inversiones establecerá líneas de crédito para que el Sistema Financiero apoye a la pequeña, mediana y microempresa, a fin de que puedan oportunamente adaptarse a las Disposiciones de la presente Ley. it's been done in 23.5900 seconds\n",
      "similarity search for model xlm-r-bert-base-nli-stsb-mean-tokens and query Dentro de los incentivos económicos se podrá crear un bono que incentive la conservación del recurso forestal por el Fondo Forestal Mexicano de acuerdo a la disponibilidad de recursos, a fin de retribuir a los propietarios o poseedores de terrenos forestales por los bienes y servicios ambientales generados. it's been done in 28.2551 seconds\n",
      "similarity search for model xlm-r-bert-base-nli-stsb-mean-tokens and query Los fondos forestales serviran para el pago por arbol prendido a los dos anos de su instalación en terreno definitivo, siempre que provengan de viveros certificados. it's been done in 33.6467 seconds\n",
      "similarity search for model xlm-r-bert-base-nli-stsb-mean-tokens and query El porcentaje de bonificación para pequeños propietarios forestales será del 90% de los costos de la forestación que efectúen en suelos de aptitud preferente ente forestal o en suelos degradados de cualquier clase, incluidas aquellas plantaciones con baja densidad para fines de uso silvopastoral, respecto de las primeras 15 hectáreas y de un 75% respecto de las restantes. it's been done in 38.2216 seconds\n",
      "similarity search for model xlm-r-bert-base-nli-stsb-mean-tokens and query El Estado, en un período de 20 años contados a partir de la vigencia de la presente ley, dará incentivos al establecimiento de plantaciones, su mantenimiento y el manejo de bosques naturales, este incentivo se otorgará a los propietarios de tierras con vocación forestal, una sola vez, de acuerdo al plan de manejo y/o reforestación aprobado por el INAB. it's been done in 42.8998 seconds\n",
      "similarity search for model xlm-r-bert-base-nli-stsb-mean-tokens and query Incentivos en dinero: para cubrir los costos directos e indirectos del establecimiento y manejo de areas con sistema agroforestal de cafe it's been done in 47.5459 seconds\n",
      "similarity search for model xlm-r-bert-base-nli-stsb-mean-tokens and query Toda persona física o moral que ocasione directa o indirectamente un daño a los recursos forestales, los ecosistemas y sus componentes, estará obligada a repararlo o compensarlo, de conformidad con lo dispuesto en la Ley Federal de Responsabilidad Ambiental. it's been done in 52.1584 seconds\n",
      "similarity search for model xlm-r-bert-base-nli-stsb-mean-tokens and query Disminuir los riesgos para el inversionista implementando mecanismos de aseguramiento. it's been done in 57.7235 seconds\n",
      "similarity search for model xlm-r-bert-base-nli-stsb-mean-tokens and query Fianza: Podrá garantizarse el cumplimiento de repoblación forestal mediante fi anza otorgada a favor del INAB por cualquiera de las afi anzadoras legalmente autorizadas para funcionar en el país, en base al cuadro siguiente it's been done in 62.3308 seconds\n",
      "similarity search for model xlm-r-bert-base-nli-stsb-mean-tokens and query La/el sujeto de derecho podrá recibir en especie materiales, insumos, equipos, herramientas, para la instalación y operación de viveros comunitarios. it's been done in 66.9929 seconds\n",
      "similarity search for model xlm-r-bert-base-nli-stsb-mean-tokens and query Ello, a través de la utilización de guías, manuales, protocolos, paquetes tecnológicos, procedimientos, entre otros. it's been done in 71.5720 seconds\n",
      "similarity search for model xlm-r-bert-base-nli-stsb-mean-tokens and query Incentivos en especie: insumos agrícolas, herramientas, asistencia tecnica, estudios de factibilidad y pre factibilidad, elaboracion de planes de manejo, mejoramiento de vías de acceso a las plantaciones, comercializacion y capacitaciones. it's been done in 76.9250 seconds\n",
      "similarity search for model xlm-r-bert-base-nli-stsb-mean-tokens and query Otorgar incentivos fiscales a las plantaciones forestales comerciales, incluyendo incentivos dirigidos a promover la industria ligada a las plantaciones comerciales forestales. it's been done in 81.5127 seconds\n",
      "similarity search for model xlm-r-bert-base-nli-stsb-mean-tokens and query 25% de descuento en el pago del derecho de aprovechamiento, si el titular de la concesión reporte anualmente sus resultados de inventario forestal, de acuerdo a los lineamientos aprobados por el SERFOR. it's been done in 86.0536 seconds\n",
      "similarity search for model xlm-r-bert-base-nli-stsb-mean-tokens and query Las bonificaciones percibidas o devengadas se considerarán como ingresos diferidos en el pasivo circulante y no se incluirán para el cálculo de la tasa adicional del artículo 21 de la Ley de la Renta ni constituirán renta para ningún efecto legal hasta el momento en que se efectúe la explotación o venta del bosque que originó la bonificación, oportunidad en la que se amortizará abonándola al costo de explotación a medida y en la proporción en que ésta o la venta del bosque se realicen, aplicándose a las utilidades resultantes el artículo 14°, inciso primero, del presente decreto ley. it's been done in 90.7199 seconds\n",
      "similarity search for model xlm-r-bert-base-nli-stsb-mean-tokens and query Los contratistas que suscriban contratos de exploración y/o explotación y de sistemas estacionarios de transporte de hidrocarburos, quedan exentos de cualquier impuesto sobre los dividendos, participaciones y utilidades que el contratista remese al exterior como pago a sus accionistas, asociados, partícipes o socios, así como las remesas en efectivo y/o en especie y los créditos contables que efectúen a sus casas matríces. it's been done in 95.3596 seconds\n",
      "similarity search for model xlm-r-bert-base-nli-stsb-mean-tokens and query Exención de los derechos e impuestos, incluyendo el Impuesto a la Transferencia de Bienes Muebles y a la Prestación de Servicios, en la importación de sus bienes, equipos y accesorios, maquinaria, vehículos, aeronaves o embarcaciones para cabotaje y los materiales de construcción para las edificaciones del proyecto. it's been done in 100.7669 seconds\n",
      "similarity search for model xlm-r-bert-base-nli-stsb-mean-tokens and query Formación Permanente Además del acompañamiento técnico, los sujetos de derecho participarán en un proceso permanente de formación a lo largo de todo el año, que les permita enriquecer sus habilidades y capacidades en el ámbito social y productivo. it's been done in 105.4089 seconds\n"
     ]
    },
    {
     "name": "stdout",
     "output_type": "stream",
     "text": [
      "similarity search for model xlm-r-bert-base-nli-stsb-mean-tokens and query Contribuir en la promoción para la gestión de las plantaciones forestales y agroforestales, a través de la capacitación, asesoramiento, asistencia técnica y educación de los usuarios, en coordinación con la ARFFS. it's been done in 110.0058 seconds\n",
      "similarity search for model xlm-r-bert-base-nli-stsb-mean-tokens and query Asesoría prestada al usuario por un operador acreditado, conducente a elaborar, acompañar y apoyar la adecuada ejecución técnica en terreno de aquellas prácticas comprometidas en el Plan de Manejo, sólo podrán postular, a esta asistencia, los pequeños productores agrícolas. it's been done in 114.6309 seconds\n",
      "similarity search for model xlm-r-bert-base-nli-stsb-mean-tokens and query Programas de Capacitación Para la ejecución de programas de capacitación, adiestramiento y otorgamiento de becas para la preparación de personal guatemalteco, así como para el desarrollo de tecnología en actividades directamente relacionadas con las operaciones petroleras objeto del contrato, todo contratista contribuirá con las cantidades de dólares de los Estados Unidos de América que se estipulen en el contrato. it's been done in 119.2786 seconds\n",
      "similarity search for model xlm-r-bert-base-nli-stsb-mean-tokens and query Apoyo técnico y en formulación de proyectos y conexión con mercados it's been done in 124.6779 seconds\n",
      "similarity search for model distiluse-base-multilingual-cased-v2 and query Para efectos del otorgamiento de estímulos fiscales, crediticios o financieros por parte del Estado, se considerarán prioritarias las actividades relacionadas con la conservación y restauración de los hábitats, la protección del ambiente y el aprovechamiento sustentable de los recursos naturales. it's been done in 3.9724 seconds\n",
      "similarity search for model distiluse-base-multilingual-cased-v2 and query Obtener créditos blandos para mejorar la sostenibillidad y rentabilidad de las actividades de uso de la Diversidad Biológica. Estos créditos podrían beneficiar a sistemas productivos asociados a la pequeña y mediana producción, actividades de experimentación, investigación, producción y comercialización de la Diversidad Biológica, implementación de tecnologías de producción limpia, programas de reforestación u otros que se estipulen. it's been done in 7.8137 seconds\n",
      "similarity search for model distiluse-base-multilingual-cased-v2 and query Se asocia con créditos de enlace INDAP y Banco Estado it's been done in 11.6808 seconds\n",
      "similarity search for model distiluse-base-multilingual-cased-v2 and query El INAB establecerá un programa de garantía crediticia para la actividad forestal, mediante el cual se respaldarán los créditos que otorgue el sistema bancario para el fomento del sector forestal a los pequeños propietarios referidos en el articulo 83 de la presente ley, usando recursos del Fondo Forestal Privativo u otras fuentes, el reglamento debe regular los procedimientos del programa de garantía crediticia a la actividad forestal del pequeño propietario. it's been done in 15.5957 seconds\n",
      "similarity search for model distiluse-base-multilingual-cased-v2 and query El Banco Multisectorial de Inversiones establecerá líneas de crédito para que el Sistema Financiero apoye a la pequeña, mediana y microempresa, a fin de que puedan oportunamente adaptarse a las Disposiciones de la presente Ley. it's been done in 19.5320 seconds\n",
      "similarity search for model distiluse-base-multilingual-cased-v2 and query Dentro de los incentivos económicos se podrá crear un bono que incentive la conservación del recurso forestal por el Fondo Forestal Mexicano de acuerdo a la disponibilidad de recursos, a fin de retribuir a los propietarios o poseedores de terrenos forestales por los bienes y servicios ambientales generados. it's been done in 23.4048 seconds\n",
      "similarity search for model distiluse-base-multilingual-cased-v2 and query Los fondos forestales serviran para el pago por arbol prendido a los dos anos de su instalación en terreno definitivo, siempre que provengan de viveros certificados. it's been done in 27.3926 seconds\n",
      "similarity search for model distiluse-base-multilingual-cased-v2 and query El porcentaje de bonificación para pequeños propietarios forestales será del 90% de los costos de la forestación que efectúen en suelos de aptitud preferente ente forestal o en suelos degradados de cualquier clase, incluidas aquellas plantaciones con baja densidad para fines de uso silvopastoral, respecto de las primeras 15 hectáreas y de un 75% respecto de las restantes. it's been done in 31.3268 seconds\n",
      "similarity search for model distiluse-base-multilingual-cased-v2 and query El Estado, en un período de 20 años contados a partir de la vigencia de la presente ley, dará incentivos al establecimiento de plantaciones, su mantenimiento y el manejo de bosques naturales, este incentivo se otorgará a los propietarios de tierras con vocación forestal, una sola vez, de acuerdo al plan de manejo y/o reforestación aprobado por el INAB. it's been done in 35.2431 seconds\n",
      "similarity search for model distiluse-base-multilingual-cased-v2 and query Incentivos en dinero: para cubrir los costos directos e indirectos del establecimiento y manejo de areas con sistema agroforestal de cafe it's been done in 39.1550 seconds\n",
      "similarity search for model distiluse-base-multilingual-cased-v2 and query Toda persona física o moral que ocasione directa o indirectamente un daño a los recursos forestales, los ecosistemas y sus componentes, estará obligada a repararlo o compensarlo, de conformidad con lo dispuesto en la Ley Federal de Responsabilidad Ambiental. it's been done in 43.0617 seconds\n",
      "similarity search for model distiluse-base-multilingual-cased-v2 and query Disminuir los riesgos para el inversionista implementando mecanismos de aseguramiento. it's been done in 46.9651 seconds\n",
      "similarity search for model distiluse-base-multilingual-cased-v2 and query Fianza: Podrá garantizarse el cumplimiento de repoblación forestal mediante fi anza otorgada a favor del INAB por cualquiera de las afi anzadoras legalmente autorizadas para funcionar en el país, en base al cuadro siguiente it's been done in 50.8723 seconds\n",
      "similarity search for model distiluse-base-multilingual-cased-v2 and query La/el sujeto de derecho podrá recibir en especie materiales, insumos, equipos, herramientas, para la instalación y operación de viveros comunitarios. it's been done in 54.7929 seconds\n",
      "similarity search for model distiluse-base-multilingual-cased-v2 and query Ello, a través de la utilización de guías, manuales, protocolos, paquetes tecnológicos, procedimientos, entre otros. it's been done in 58.6922 seconds\n",
      "similarity search for model distiluse-base-multilingual-cased-v2 and query Incentivos en especie: insumos agrícolas, herramientas, asistencia tecnica, estudios de factibilidad y pre factibilidad, elaboracion de planes de manejo, mejoramiento de vías de acceso a las plantaciones, comercializacion y capacitaciones. it's been done in 62.5910 seconds\n",
      "similarity search for model distiluse-base-multilingual-cased-v2 and query Otorgar incentivos fiscales a las plantaciones forestales comerciales, incluyendo incentivos dirigidos a promover la industria ligada a las plantaciones comerciales forestales. it's been done in 66.5235 seconds\n",
      "similarity search for model distiluse-base-multilingual-cased-v2 and query 25% de descuento en el pago del derecho de aprovechamiento, si el titular de la concesión reporte anualmente sus resultados de inventario forestal, de acuerdo a los lineamientos aprobados por el SERFOR. it's been done in 70.4020 seconds\n",
      "similarity search for model distiluse-base-multilingual-cased-v2 and query Las bonificaciones percibidas o devengadas se considerarán como ingresos diferidos en el pasivo circulante y no se incluirán para el cálculo de la tasa adicional del artículo 21 de la Ley de la Renta ni constituirán renta para ningún efecto legal hasta el momento en que se efectúe la explotación o venta del bosque que originó la bonificación, oportunidad en la que se amortizará abonándola al costo de explotación a medida y en la proporción en que ésta o la venta del bosque se realicen, aplicándose a las utilidades resultantes el artículo 14°, inciso primero, del presente decreto ley. it's been done in 74.3587 seconds\n"
     ]
    },
    {
     "name": "stdout",
     "output_type": "stream",
     "text": [
      "similarity search for model distiluse-base-multilingual-cased-v2 and query Los contratistas que suscriban contratos de exploración y/o explotación y de sistemas estacionarios de transporte de hidrocarburos, quedan exentos de cualquier impuesto sobre los dividendos, participaciones y utilidades que el contratista remese al exterior como pago a sus accionistas, asociados, partícipes o socios, así como las remesas en efectivo y/o en especie y los créditos contables que efectúen a sus casas matríces. it's been done in 78.3001 seconds\n",
      "similarity search for model distiluse-base-multilingual-cased-v2 and query Exención de los derechos e impuestos, incluyendo el Impuesto a la Transferencia de Bienes Muebles y a la Prestación de Servicios, en la importación de sus bienes, equipos y accesorios, maquinaria, vehículos, aeronaves o embarcaciones para cabotaje y los materiales de construcción para las edificaciones del proyecto. it's been done in 82.1788 seconds\n",
      "similarity search for model distiluse-base-multilingual-cased-v2 and query Formación Permanente Además del acompañamiento técnico, los sujetos de derecho participarán en un proceso permanente de formación a lo largo de todo el año, que les permita enriquecer sus habilidades y capacidades en el ámbito social y productivo. it's been done in 86.0814 seconds\n",
      "similarity search for model distiluse-base-multilingual-cased-v2 and query Contribuir en la promoción para la gestión de las plantaciones forestales y agroforestales, a través de la capacitación, asesoramiento, asistencia técnica y educación de los usuarios, en coordinación con la ARFFS. it's been done in 89.9385 seconds\n",
      "similarity search for model distiluse-base-multilingual-cased-v2 and query Asesoría prestada al usuario por un operador acreditado, conducente a elaborar, acompañar y apoyar la adecuada ejecución técnica en terreno de aquellas prácticas comprometidas en el Plan de Manejo, sólo podrán postular, a esta asistencia, los pequeños productores agrícolas. it's been done in 93.7942 seconds\n",
      "similarity search for model distiluse-base-multilingual-cased-v2 and query Programas de Capacitación Para la ejecución de programas de capacitación, adiestramiento y otorgamiento de becas para la preparación de personal guatemalteco, así como para el desarrollo de tecnología en actividades directamente relacionadas con las operaciones petroleras objeto del contrato, todo contratista contribuirá con las cantidades de dólares de los Estados Unidos de América que se estipulen en el contrato. it's been done in 97.7208 seconds\n",
      "similarity search for model distiluse-base-multilingual-cased-v2 and query Apoyo técnico y en formulación de proyectos y conexión con mercados it's been done in 101.6519 seconds\n"
     ]
    }
   ],
   "source": [
    "transformers =['xlm-r-bert-base-nli-stsb-mean-tokens', 'distiluse-base-multilingual-cased-v2']\n",
    "similarity_threshold = 0.2\n",
    "search_results_limit = 100\n",
    "name = \"Exp2_tagged_201228\"\n",
    "\n",
    "results_dict = multiparameter_sentence_similarity_search(transformers, queries, similarity_threshold, search_results_limit, name)"
   ]
  },
  {
   "cell_type": "markdown",
   "metadata": {},
   "source": [
    "### <strong><span style=\"color:red\">Experiment 3</span></strong> Queries from the tagged database with modification\n",
    "\n",
    "Here we use the databse of tagged sentences to define queries. The database is structured by countries. From a list of model documents the sentences were separated and tagged with a policy instrument label. The labels that were used are:\n",
    "\n",
    "* Credit\n",
    "* Direct payment\n",
    "* Fine\n",
    "* Guarantee\n",
    "* Supplies\n",
    "* Tax deduction\n",
    "* Technical assistance\n",
    "\n",
    "Not all countries have tagged sentences for each category so we ended up with 26 queries\n",
    "\n",
    "The difference between this experiment and experiment 2 is that here we have reformulated the query sentences by extracting the core incentive meaning from the original sentences, eliminating all the vocabulary not strictly speaking about incentives."
   ]
  },
  {
   "cell_type": "code",
   "execution_count": 75,
   "metadata": {},
   "outputs": [],
   "source": [
    "queries_dict = {\n",
    "    \"Otorgamiento de estímulos crediticios por parte de el estado.\" : \"Credit-México\",\n",
    "\"Obtener créditos blandos para beneficiar los sistemas productivos.\" : \"Credit-Perú\",\n",
    "\"Se asocia con créditos de enlace INDAP y Banco Estado\" : \"Credit-Chile\", \n",
    "\"Acceso al programa de garantía crediticia para la actividad económica.\" : \"Credit-Guatemala\",\n",
    "\"El banco establecerá líneas de crédito para que el sistema financiero apoye la pequeña, mediana y microempresa.\" : \"Credit-El Salvador\",\n",
    "\"Dentro de los incentivos económicos se podrá crear un bono para retribuir a los propietarios por los bienes y servicios generados.\" : \"Direct payment-México\",\n",
    "\"Acceso a los fondos forestales para el pago de actividad.\" : \"Direct payment-Perú\",\n",
    "\"Se bonificará el 90% de los costos de repoblación para las primeras 15 hectáreas y de un 75% respecto las restantes.\" : \"Direct payment-Chile\",\n",
    "\"El estado dará un incentivo que se pagará una sola vez a los propietarios forestales\" : \"Direct payment-Guatemala\",\n",
    "\"lncentivos en dinero para cubrir los costos directos e indirectos del establecimiento y manejo de areas de producción.\" : \"Direct payment-El Salvador\",\n",
    "\"Toda persona física o moral que cause daños estará obligada a repararlo o compensarlo.\" : \"Fine-México\",\n",
    "\"Disminuir los riesgos para el inversionista implementando mecanismos de aseguramiento.\" : \"Guarantee-México\",\n",
    "\"Podrá garantizarse el cumplimiento de la actividad mediante fianza otorgada a favor del estado por cualquiera de las afianzadoras legalmente autorizadas.\" : \"Guarantee-Guatemala\",\n",
    "\"El sujeto de derecho podrá recibir insumos para la instalación y operación de infraestructuras para la actividad económica.\" : \"Supplies-México\",\n",
    "\"Se facilitará el soporte técnico a  través de la utilización de guías, manuales, protocolos, paquetes tecnológicos, procedimientos, entre otros.\" : \"Supplies-Perú\",\n",
    "\"Se concederán incentivos en especie para fomentar la actividad en forma de insumos.\" : \"Supplies-El Salvador\",\n",
    "\"Se otorgarán incentivos fiscales para la actividad primaria y también la actividad de transformación.\" : \"Tax deduction-México\",\n",
    "\"De acuerdo con los lineamientos aprobados se concederá un 25% de descuento en el pago del derecho de aprovechamiento.\" : \"Tax deduction-Perú\",\n",
    "\"Las bonificaciones percibidas o devengadas se considerarán como ingresos diferidos en el pasivo circulante y no se incluirán para el cálculo de la tasa adicional ni constituirán renta para ningún efecto legal hasta el momento en que se efectúe la explotación o venta.\" : \"Tax deduction-Chile\",\n",
    "\"Los contratistas que suscriban contratos de exploración y/o explotación, quedan exentos de cualquier impuesto sobre los dividendos, participaciones y utilidades.\" : \"Tax deduction-Guatemala\",\n",
    "\"Exención de los derechos e impuestos, incluyendo el Impuesto a la Transferencia de Bienes Muebles y a la Prestación de Servicios, en la importación de sus bienes, equipos y accesorios, maquinaria, vehículos, aeronaves o embarcaciones.\" : \"Tax deduction-El Salvador\",\n",
    "\"Se facilitará formación Permanente Además del acompañamiento técnico, los sujetos de derecho participarán en un proceso permanente de formación a lo largo de todo el año, que les permita enriquecer sus habilidades y capacidades. \" : \"Technical assistance-México\",\n",
    "\"Contribuir en la promoción para la gestión, a través de la capacitación, asesoramiento, asistencia técnica y educación de los usuarios.\" : \"Technical assistance-Perú\",\n",
    "\"Asesoría prestada al usuario por un operador acreditado, conducente a elaborar, acompañar y apoyar la adecuada ejecución técnica en terreno de aquellas prácticas comprometidas en el Plan de Manejo.\" : \"Technical assistance-Chile\",\n",
    "\"Programas de Capacitación Para la ejecución de programas de capacitación, adiestramiento y otorgamiento de becas para la preparación de personal , así como para el desarrollo de tecnología en actividades directamente relacionadas con las operaciones objeto del contrato.\" : \"Technical assistance-Guatemala\",\n",
    "\"Apoyo técnico y en formulación de proyectos y conexión con mercados\" : \"Technical assistance-El Salvador\"}\n",
    "\n",
    "queries = []\n",
    "for query in queries_dict:\n",
    "    queries.append(query)\n",
    "        \n",
    "# print(queries)"
   ]
  },
  {
   "cell_type": "code",
   "execution_count": 76,
   "metadata": {},
   "outputs": [
    {
     "name": "stdout",
     "output_type": "stream",
     "text": [
      "similarity search for model xlm-r-bert-base-nli-stsb-mean-tokens and query Otorgamiento de estímulos crediticios por parte de el estado. it's been done in 5.0015 seconds\n",
      "similarity search for model xlm-r-bert-base-nli-stsb-mean-tokens and query Obtener créditos blandos para beneficiar los sistemas productivos. it's been done in 10.2367 seconds\n",
      "similarity search for model xlm-r-bert-base-nli-stsb-mean-tokens and query Se asocia con créditos de enlace INDAP y Banco Estado it's been done in 14.6959 seconds\n",
      "similarity search for model xlm-r-bert-base-nli-stsb-mean-tokens and query Acceso al programa de garantía crediticia para la actividad económica. it's been done in 19.2541 seconds\n",
      "similarity search for model xlm-r-bert-base-nli-stsb-mean-tokens and query El banco establecerá líneas de crédito para que el sistema financiero apoye la pequeña, mediana y microempresa. it's been done in 23.7112 seconds\n",
      "similarity search for model xlm-r-bert-base-nli-stsb-mean-tokens and query Dentro de los incentivos económicos se podrá crear un bono para retribuir a los propietarios por los bienes y servicios generados. it's been done in 28.2063 seconds\n",
      "similarity search for model xlm-r-bert-base-nli-stsb-mean-tokens and query Acceso a los fondos forestales para el pago de actividad. it's been done in 33.5113 seconds\n",
      "similarity search for model xlm-r-bert-base-nli-stsb-mean-tokens and query Se bonificará el 90% de los costos de repoblación para las primeras 15 hectáreas y de un 75% respecto las restantes. it's been done in 38.0071 seconds\n",
      "similarity search for model xlm-r-bert-base-nli-stsb-mean-tokens and query El estado dará un incentivo que se pagará una sola vez a los propietarios forestales it's been done in 42.4224 seconds\n",
      "similarity search for model xlm-r-bert-base-nli-stsb-mean-tokens and query lncentivos en dinero para cubrir los costos directos e indirectos del establecimiento y manejo de areas de producción. it's been done in 46.9371 seconds\n",
      "similarity search for model xlm-r-bert-base-nli-stsb-mean-tokens and query Toda persona física o moral que cause daños estará obligada a repararlo o compensarlo. it's been done in 51.4201 seconds\n",
      "similarity search for model xlm-r-bert-base-nli-stsb-mean-tokens and query Disminuir los riesgos para el inversionista implementando mecanismos de aseguramiento. it's been done in 55.9132 seconds\n",
      "similarity search for model xlm-r-bert-base-nli-stsb-mean-tokens and query Podrá garantizarse el cumplimiento de la actividad mediante fianza otorgada a favor del estado por cualquiera de las afianzadoras legalmente autorizadas. it's been done in 61.2375 seconds\n",
      "similarity search for model xlm-r-bert-base-nli-stsb-mean-tokens and query El sujeto de derecho podrá recibir insumos para la instalación y operación de infraestructuras para la actividad económica. it's been done in 65.9599 seconds\n",
      "similarity search for model xlm-r-bert-base-nli-stsb-mean-tokens and query Se facilitará el soporte técnico a  través de la utilización de guías, manuales, protocolos, paquetes tecnológicos, procedimientos, entre otros. it's been done in 70.5351 seconds\n",
      "similarity search for model xlm-r-bert-base-nli-stsb-mean-tokens and query Se concederán incentivos en especie para fomentar la actividad en forma de insumos. it's been done in 75.0563 seconds\n",
      "similarity search for model xlm-r-bert-base-nli-stsb-mean-tokens and query Se otorgarán incentivos fiscales para la actividad primaria y también la actividad de transformación. it's been done in 80.3461 seconds\n",
      "similarity search for model xlm-r-bert-base-nli-stsb-mean-tokens and query De acuerdo con los lineamientos aprobados se concederá un 25% de descuento en el pago del derecho de aprovechamiento. it's been done in 84.8806 seconds\n",
      "similarity search for model xlm-r-bert-base-nli-stsb-mean-tokens and query Las bonificaciones percibidas o devengadas se considerarán como ingresos diferidos en el pasivo circulante y no se incluirán para el cálculo de la tasa adicional ni constituirán renta para ningún efecto legal hasta el momento en que se efectúe la explotación o venta. it's been done in 89.4089 seconds\n",
      "similarity search for model xlm-r-bert-base-nli-stsb-mean-tokens and query Los contratistas que suscriban contratos de exploración y/o explotación, quedan exentos de cualquier impuesto sobre los dividendos, participaciones y utilidades. it's been done in 93.9189 seconds\n",
      "similarity search for model xlm-r-bert-base-nli-stsb-mean-tokens and query Exención de los derechos e impuestos, incluyendo el Impuesto a la Transferencia de Bienes Muebles y a la Prestación de Servicios, en la importación de sus bienes, equipos y accesorios, maquinaria, vehículos, aeronaves o embarcaciones. it's been done in 98.5724 seconds\n",
      "similarity search for model xlm-r-bert-base-nli-stsb-mean-tokens and query Se facilitará formación Permanente Además del acompañamiento técnico, los sujetos de derecho participarán en un proceso permanente de formación a lo largo de todo el año, que les permita enriquecer sus habilidades y capacidades.  it's been done in 103.8186 seconds\n",
      "similarity search for model xlm-r-bert-base-nli-stsb-mean-tokens and query Contribuir en la promoción para la gestión, a través de la capacitación, asesoramiento, asistencia técnica y educación de los usuarios. it's been done in 108.4194 seconds\n",
      "similarity search for model xlm-r-bert-base-nli-stsb-mean-tokens and query Asesoría prestada al usuario por un operador acreditado, conducente a elaborar, acompañar y apoyar la adecuada ejecución técnica en terreno de aquellas prácticas comprometidas en el Plan de Manejo. it's been done in 112.9815 seconds\n",
      "similarity search for model xlm-r-bert-base-nli-stsb-mean-tokens and query Programas de Capacitación Para la ejecución de programas de capacitación, adiestramiento y otorgamiento de becas para la preparación de personal , así como para el desarrollo de tecnología en actividades directamente relacionadas con las operaciones objeto del contrato. it's been done in 117.5740 seconds\n",
      "similarity search for model xlm-r-bert-base-nli-stsb-mean-tokens and query Apoyo técnico y en formulación de proyectos y conexión con mercados it's been done in 122.1159 seconds\n",
      "similarity search for model distiluse-base-multilingual-cased-v2 and query Otorgamiento de estímulos crediticios por parte de el estado. it's been done in 3.9971 seconds\n",
      "similarity search for model distiluse-base-multilingual-cased-v2 and query Obtener créditos blandos para beneficiar los sistemas productivos. it's been done in 7.8781 seconds\n",
      "similarity search for model distiluse-base-multilingual-cased-v2 and query Se asocia con créditos de enlace INDAP y Banco Estado it's been done in 11.7450 seconds\n",
      "similarity search for model distiluse-base-multilingual-cased-v2 and query Acceso al programa de garantía crediticia para la actividad económica. it's been done in 15.6656 seconds\n",
      "similarity search for model distiluse-base-multilingual-cased-v2 and query El banco establecerá líneas de crédito para que el sistema financiero apoye la pequeña, mediana y microempresa. it's been done in 19.5610 seconds\n",
      "similarity search for model distiluse-base-multilingual-cased-v2 and query Dentro de los incentivos económicos se podrá crear un bono para retribuir a los propietarios por los bienes y servicios generados. it's been done in 23.5038 seconds\n",
      "similarity search for model distiluse-base-multilingual-cased-v2 and query Acceso a los fondos forestales para el pago de actividad. it's been done in 27.3684 seconds\n",
      "similarity search for model distiluse-base-multilingual-cased-v2 and query Se bonificará el 90% de los costos de repoblación para las primeras 15 hectáreas y de un 75% respecto las restantes. it's been done in 32.0179 seconds\n",
      "similarity search for model distiluse-base-multilingual-cased-v2 and query El estado dará un incentivo que se pagará una sola vez a los propietarios forestales it's been done in 35.8621 seconds\n",
      "similarity search for model distiluse-base-multilingual-cased-v2 and query lncentivos en dinero para cubrir los costos directos e indirectos del establecimiento y manejo de areas de producción. it's been done in 39.8024 seconds\n",
      "similarity search for model distiluse-base-multilingual-cased-v2 and query Toda persona física o moral que cause daños estará obligada a repararlo o compensarlo. it's been done in 43.6018 seconds\n"
     ]
    },
    {
     "name": "stdout",
     "output_type": "stream",
     "text": [
      "similarity search for model distiluse-base-multilingual-cased-v2 and query Disminuir los riesgos para el inversionista implementando mecanismos de aseguramiento. it's been done in 47.4840 seconds\n",
      "similarity search for model distiluse-base-multilingual-cased-v2 and query Podrá garantizarse el cumplimiento de la actividad mediante fianza otorgada a favor del estado por cualquiera de las afianzadoras legalmente autorizadas. it's been done in 51.3210 seconds\n",
      "similarity search for model distiluse-base-multilingual-cased-v2 and query El sujeto de derecho podrá recibir insumos para la instalación y operación de infraestructuras para la actividad económica. it's been done in 55.2602 seconds\n",
      "similarity search for model distiluse-base-multilingual-cased-v2 and query Se facilitará el soporte técnico a  través de la utilización de guías, manuales, protocolos, paquetes tecnológicos, procedimientos, entre otros. it's been done in 59.0969 seconds\n",
      "similarity search for model distiluse-base-multilingual-cased-v2 and query Se concederán incentivos en especie para fomentar la actividad en forma de insumos. it's been done in 62.9480 seconds\n",
      "similarity search for model distiluse-base-multilingual-cased-v2 and query Se otorgarán incentivos fiscales para la actividad primaria y también la actividad de transformación. it's been done in 66.7837 seconds\n",
      "similarity search for model distiluse-base-multilingual-cased-v2 and query De acuerdo con los lineamientos aprobados se concederá un 25% de descuento en el pago del derecho de aprovechamiento. it's been done in 70.7275 seconds\n",
      "similarity search for model distiluse-base-multilingual-cased-v2 and query Las bonificaciones percibidas o devengadas se considerarán como ingresos diferidos en el pasivo circulante y no se incluirán para el cálculo de la tasa adicional ni constituirán renta para ningún efecto legal hasta el momento en que se efectúe la explotación o venta. it's been done in 74.5746 seconds\n",
      "similarity search for model distiluse-base-multilingual-cased-v2 and query Los contratistas que suscriban contratos de exploración y/o explotación, quedan exentos de cualquier impuesto sobre los dividendos, participaciones y utilidades. it's been done in 78.4167 seconds\n",
      "similarity search for model distiluse-base-multilingual-cased-v2 and query Exención de los derechos e impuestos, incluyendo el Impuesto a la Transferencia de Bienes Muebles y a la Prestación de Servicios, en la importación de sus bienes, equipos y accesorios, maquinaria, vehículos, aeronaves o embarcaciones. it's been done in 82.2311 seconds\n",
      "similarity search for model distiluse-base-multilingual-cased-v2 and query Se facilitará formación Permanente Además del acompañamiento técnico, los sujetos de derecho participarán en un proceso permanente de formación a lo largo de todo el año, que les permita enriquecer sus habilidades y capacidades.  it's been done in 86.0888 seconds\n",
      "similarity search for model distiluse-base-multilingual-cased-v2 and query Contribuir en la promoción para la gestión, a través de la capacitación, asesoramiento, asistencia técnica y educación de los usuarios. it's been done in 90.0609 seconds\n",
      "similarity search for model distiluse-base-multilingual-cased-v2 and query Asesoría prestada al usuario por un operador acreditado, conducente a elaborar, acompañar y apoyar la adecuada ejecución técnica en terreno de aquellas prácticas comprometidas en el Plan de Manejo. it's been done in 93.8726 seconds\n",
      "similarity search for model distiluse-base-multilingual-cased-v2 and query Programas de Capacitación Para la ejecución de programas de capacitación, adiestramiento y otorgamiento de becas para la preparación de personal , así como para el desarrollo de tecnología en actividades directamente relacionadas con las operaciones objeto del contrato. it's been done in 97.7162 seconds\n",
      "similarity search for model distiluse-base-multilingual-cased-v2 and query Apoyo técnico y en formulación de proyectos y conexión con mercados it's been done in 101.6068 seconds\n"
     ]
    }
   ],
   "source": [
    "transformers =['xlm-r-bert-base-nli-stsb-mean-tokens', 'distiluse-base-multilingual-cased-v2']\n",
    "similarity_threshold = 0.2\n",
    "search_results_limit = 100\n",
    "name = \"Exp3_tagged_201228\"\n",
    "\n",
    "results_dict = multiparameter_sentence_similarity_search(transformers, queries, similarity_threshold, search_results_limit, name)"
   ]
  },
  {
   "cell_type": "markdown",
   "metadata": {},
   "source": [
    "## Results analysis"
   ]
  },
  {
   "cell_type": "markdown",
   "metadata": {},
   "source": [
    "This is a temporary section to explore how to analyze the results. It is organized with the same structure as the section <strong>Defining queries</strong> as we are exploring the best search strategies based on different types of queries."
   ]
  },
  {
   "cell_type": "markdown",
   "metadata": {},
   "source": [
    "### N-grams approach"
   ]
  },
  {
   "cell_type": "markdown",
   "metadata": {},
   "source": [
    "### Parts-of-speach approach"
   ]
  },
  {
   "cell_type": "markdown",
   "metadata": {},
   "source": [
    "### Keyword approach"
   ]
  },
  {
   "cell_type": "code",
   "execution_count": 63,
   "metadata": {},
   "outputs": [],
   "source": [
    "# Loading the results\n",
    "\n",
    "# path = \"../output/\"\n",
    "# filename = \"Experiment_201215_jordi_1500.json\"\n",
    "# file = path + filename\n",
    "\n",
    "# with open(file, \"r\") as f:\n",
    "#     experiment_results = json.load(f)\n",
    "\n",
    "def show_results(results_dictionary):\n",
    "    i = 0\n",
    "    for key1 in results_dictionary:\n",
    "        for key2 in results_dictionary[key1]:\n",
    "            if i == 0:\n",
    "                print(len(results_dictionary[key1][key2]))\n",
    "                print(results_dictionary[key1][key2])\n",
    "            i += 1\n",
    "\n",
    "# Adding the rank to each result\n",
    "def add_rank(results_dictionary):\n",
    "    for model in results_dictionary:\n",
    "        for keyword in results_dictionary[model]:\n",
    "            i = 1\n",
    "            for result in results_dictionary[model][keyword]:\n",
    "                result.append(i)\n",
    "                i += 1\n",
    "    return results_dictionary"
   ]
  },
  {
   "cell_type": "markdown",
   "metadata": {},
   "source": [
    "#### Experiment 1"
   ]
  },
  {
   "cell_type": "markdown",
   "metadata": {},
   "source": [
    "First we load the results and refactor data structures to better process them."
   ]
  },
  {
   "cell_type": "code",
   "execution_count": null,
   "metadata": {},
   "outputs": [],
   "source": [
    "experiment_results = results\n",
    "\n",
    "# Building a final dictionari of the results with a extra layer with sentence IDs as keys of the last layer\n",
    "experiment_results_full_dict = {}\n",
    "for model in experiment_results:\n",
    "    experiment_results_full_dict[model] = {}\n",
    "    i = 0\n",
    "    for keyword in experiment_results[model]:\n",
    "        if i % len(experiment_results[model]) == 0:\n",
    "            key = keyword + \"_K\"\n",
    "            experiment_results_full_dict[model][key] = {}\n",
    "            for result in experiment_results[model][keyword]:\n",
    "                experiment_results_full_dict[model][key][result[0]] = result[1:len(result)]\n",
    "        else:\n",
    "            key = key[0:-2] + \"_S\"\n",
    "            experiment_results_full_dict[model][key] = {}\n",
    "            for result in experiment_results[model][keyword]:\n",
    "                experiment_results_full_dict[model][key][result[0]] = result[1:len(result)]\n",
    "        i += 1\n",
    "            \n",
    "# Building a dictionary with all sentences found by exact keyword matching. The dictionary is of the form:\n",
    "# {\"<incetive>\" : [\"<sentence_id_1>\", ... \"<sentence_id_n>\"]}\n",
    "\n",
    "keyword_hits = {}\n",
    "for item in keyword_in_sentences:\n",
    "    if item[0] in keyword_hits:\n",
    "        keyword_hits[item[0]][item[1]] = []\n",
    "    else:\n",
    "        keyword_hits[item[0]] = {}\n",
    "        keyword_hits[item[0]][item[1]] = []     "
   ]
  },
  {
   "cell_type": "code",
   "execution_count": null,
   "metadata": {},
   "outputs": [],
   "source": [
    "transformer_names =['xlm-r-bert-base-nli-stsb-mean-tokens', 'distiluse-base-multilingual-cased-v2']\n",
    "\n",
    "\n",
    "for incentive, sentence_list in keyword_hits.items():\n",
    "#     print(\"\\t\", incentive.center(25)\n",
    "    for sentence_id in sentence_list:\n",
    "        for model_name in transformer_names:\n",
    "            for key in experiment_results_full_dict[model_name]:\n",
    "                if incentive in key:\n",
    "                    if sentence_id in experiment_results_full_dict[model_name][key]:\n",
    "                        keyword_hits[incentive][sentence_id].append(experiment_results_full_dict[model_name][key][sentence_id][2])\n",
    "                        keyword_hits[incentive][sentence_id].append(round(experiment_results_full_dict[model_name][key][sentence_id][0], 2))\n",
    "                    else:\n",
    "                        keyword_hits[incentive][sentence_id].append(15000)\n",
    "                        keyword_hits[incentive][sentence_id].append(0.0)\n",
    "        i += 1\n",
    "#         for keyword in \n",
    "#             print(experiment_results_full_dict[model_name].keys())"
   ]
  },
  {
   "cell_type": "code",
   "execution_count": null,
   "metadata": {},
   "outputs": [],
   "source": [
    "keyword_hits"
   ]
  },
  {
   "cell_type": "code",
   "execution_count": null,
   "metadata": {},
   "outputs": [],
   "source": [
    "results_csv = []\n",
    "for key, value in keyword_hits.items():\n",
    "    for sentence, res in value.items():\n",
    "        results_csv.append([key, sentence, res[0], res[1], res[2], res[3], res[4], res[5], res[6], res[7]])"
   ]
  },
  {
   "cell_type": "code",
   "execution_count": null,
   "metadata": {},
   "outputs": [],
   "source": [
    "column_names = [\"keyword\", \"sentence_ID\", \"xlm_K-rank\", \"xlm_K-sim\", \"xlm_S-rank\", \"xlm_S-sim\", \"dist_K-rank\", \"dist_K-sim\", \"dist_S-rank\", \"dist_S-sim\"]\n",
    "df= pd.DataFrame(results_csv, columns = column_names)\n",
    "        \n",
    "    "
   ]
  },
  {
   "cell_type": "code",
   "execution_count": null,
   "metadata": {},
   "outputs": [],
   "source": [
    "path = \"../output/\"\n",
    "filename = \"Experiment_201217_jordi_1500.csv\"\n",
    "file = path + filename\n",
    "\n",
    "df.to_csv(file)\n",
    "df.head()"
   ]
  },
  {
   "cell_type": "markdown",
   "metadata": {},
   "source": [
    "### Tagged sentence approach"
   ]
  },
  {
   "cell_type": "code",
   "execution_count": 69,
   "metadata": {},
   "outputs": [
    {
     "name": "stdout",
     "output_type": "stream",
     "text": [
      "100\n",
      "[['9646403_24', 0.8312449643200057, 'A su vez, el lineamiento estratégico de \"Infraestructura y Gestión Territorial - Calidad de Vida\" considera entre los objetivos del eje temático Región: \"Valorizar y rescatar los recursos paisajísticos, científicos, históricos y culturales de la Región\", así como \"Proteger y desarrollar la diversidad biológica regional, reservas naturales, oasis regionales, vegas y bofedales, etc'], ['9646403_58', 0.8219322047881344, 'a) Establecer programas que contribuyan al desarrollo armónico del área silvestre protegida, con énfasis en acciones y proyectos para la protección, conservación y manejo no consuntivo de recursos naturales marinos y/o continentales, con énfasis en especies de flora y fauna endémicas con problemas de conservación;'], ['37663ef_73', 0.8187305328704828, 'Programa de fortalecimiento de la representatividad de los ecosistemas costero marinos subrepresentados del norte, centro y sur del país, y de protección de hábitats de especies amenazadas en el Sistema Nacional de Áreas Protegidas del Estado, por medio de la creación y ampliación de parques nacionales, reservas nacionales y áreas marinas protegidas, entre otros, sometidos al pronunciamiento del Consejo de Ministros para la Sustentabilidad'], ['79859b9_74', 0.8117166388328447, '* Areas de Preservación por Uso Sustentable (APUS) \"Areas previstas para determinados usos o funciones de relevancia ambiental, las que deben ser mantenidas mediante un uso sustentable del territorio\":'], ['79859b9_24', 0.8106868124754119, '* Areas de Preservación por Uso Sustentable (APUS) \"Areas previstas para determinados usos o funciones de relevancia ambiental, las que deben ser mantenidas mediante un uso sustentable del territorio\"'], ['25a3671_3', 0.808983638791358, 'Que, es deber del Estado tutelar la preservación de la naturaleza, la protección del medio ambiente y elevar el estándar de protección de las áreas existentes'], ['7c08433_4', 0.808983638791358, 'Que, es deber del Estado tutelar la preservación de la naturaleza, la protección del medio ambiente y elevar el estándar de protección de las áreas existentes'], ['ca54527_4', 0.808983638791358, 'Que, es deber del Estado tutelar la preservación de la naturaleza, la protección del medio ambiente y elevar el estándar de protección de las áreas existentes'], ['f0e75c3_3', 0.808983638791358, 'Que, es deber del Estado tutelar la preservación de la naturaleza, la protección del medio ambiente y elevar el estándar de protección de las áreas existentes'], ['26b00aa_153', 0.8041314483251488, 'En el marco del paradigma que esta Política impulsa, se considera la sustentabilidad medioambiental como un factor constitutivo indisociable del bienestar de la sociedad y del desarrollo rural, reconociendo y valorando la calidad y el potencial de los activos naturales y los ecosistemas, promoviendo su resguardo y gestión dentro de los límites de su funcionamiento'], ['b26e5ef_60', 0.8039930631619713, 'a) Creación y ampliación de parques nacionales, reservas nacionales y áreas marinas protegidas, entre otros, con énfasis en aumentar la representatividad de los ecosistemas del centro y norte del país y para la protección de hábitats de especies amenazadas, que considere el Consejo de Ministros para la Sustentabilidad (CMS)'], ['9646403_28', 0.8024871954119137, 'Que existe interés de actores territoriales públicos y privados interesados en apoyar la gestión de conservación de estos ambientes, siendo necesario protegerlos y ponerlos en valor dado su potencial ecológico, científico y cultural'], ['7c08433_24', 0.8017705927367547, 'Que lo anterior, implica un interés en la conservación de las eco-regiones terrestres involucradas, en particular una significativa protección de humedales y cuerpos de agua continentales, como también la protección a la fauna endémica y nativa presente, el que por su estado de conservación requiere continuar bajo protección en una categoría de preservación'], ['9795dfb_95', 0.8013440550561489, 'h) Identificación de las formaciones xerofíticas de alto valor ecológico o de los bosques nativos de preservación, según el catastro forestal, respecto de los cuales se realizarán las actividades bonificables, si se trata de un proyecto de plan de manejo de preservación;'], ['26b00aa_157', 0.8012769182347088, 'Considerar la protección de la biodiversidad como elemento relevante en el proceso de ordenamiento, planificación y gestión del territorio rural y en los marcos regulatorios correspondientes'], ['79859b9_81', 0.8011789847522386, 'Científico-educativo-recreacional: Se entenderán comprendidos en esta categoría aquellos usos que contribuyan a la preservación de los valores naturales, manteniendo e incrementando, entre otros, la forestación, el valor paisajístico y/o cultural, y la defensa de la flora y fauna silvestre'], ['1d447d5_8', 0.8004320360687663, 'Que es deber del Estado velar por la conservación, protección e incremento de los recursos naturales renovables, por lo que la protección del humedal La Laguna y Estero Catapilco, y áreas adyacentes, favorecen la conservación de núcleos de reproducción de numerosas especies de fauna silvestre'], ['aca085a_7', 0.7975154774916647, 'Que, de conformidad con lo dispuesto en la letra i) del artículo 70 de la ley N° 19,300, sobre Bases Generales del Medio Ambiente, el Ministerio del Medio Ambiente tiene la facultad de proponer políticas y formular planes, programas y acciones que establezcan los criterios básicos y las medidas preventivas para favorecer la recuperación y conservación de los recursos hídricos, genéticos, la flora, la fauna, los hábitats, los paisajes, ecosistemas y espacios naturales, en especial los frágiles y degradados, contribuyendo al cumplimiento de los convenios internacionales de conservación de la biodiversidad'], ['e43b9c5_1', 0.7964325729426643, 'Que para el fortalecimiento y modernización de la gestión ministerial en torno a los lineamientos programáticos de la política agroalimentaria y forestal chilena, y en especial en aquellos compromisos de la Agenda Estratégica, se requiere de orientaciones ambientales específicas y adaptadas a la realidad del sector, con el objeto de asegurar la debida consideración del principio de sustentabilidad en el uso de los recursos naturales, la protección y conservación de la diversidad biológica y el mejoramiento de la calidad de vida de las personas'], ['3cea480_8', 0.7957670827638177, 'Que es deber del Estado velar por la conservación, protección y acrecentamiento de los recursos naturales,'], ['37663ef_52', 0.7938792275369955, 'La priorización de políticas y planes en materia de biodiversidad responderá a los siguientes criterios de sustentabilidad: contribuir al cumplimiento de las metas y objetivos nacionales de protección, restauración y uso sustentable de la biodiversidad establecidas en las políticas e instrumentos nacionales; al cumplimiento de los compromisos internacionales asumidos por Chile en esta materia; y en concordancia con las prioridades definidas en el Programa de Gobierno'], ['ca54527_18', 0.7933308529673297, 'Asimismo, la incorporación de otros predios fiscales colindantes y los predios donados por las entidades relacionadas al ecologista Douglas Tompkins, constituirán una gran área de conservación y protección medioambiental de los ecosistemas existentes, de las especies de flora y fauna del lugar, así como un importante aumento de protección a los pisos vegetacionales representados en el Sistema Nacional de Áreas Protegidas del Estado'], ['25a3671_17', 0.7929573882177768, 'Asimismo, la incorporación de otros predios fiscales colindantes y por predios donados por las entidades relacionadas al ecologista Douglas Tompkins, constituirán una gran área de conservación y protección medioambiental de los ecosistemas existentes, de las especies de flora y fauna del lugar, así como un importante aumento de protección a los pisos vegetacionales representados en el Sistema Nacional de Áreas Silvestres protegidas del Estado'], ['4bde6c4_10', 0.7909189943365883, 'Que es deber del Estado velar por la conservación, protección y acrecentamiento de los recursos naturales renovables; por lo que, para ello, es necesario proteger el área del Humedal Tubul-Raqui y los sectores adyacentes, pues ellos favorecen la conservación de núcleos de reproducción de numerosas especies de fauna silvestre, así como de descanso para especies migratorias, varias de las cuales se encuentran clasificadas en categorías de conservación,'], ['1adb72b_2043', 0.7905565485533012, 'En el Estudio o Declaración de Impacto Ambiental, según sea el caso, se deberán señalar las medidas y/o condiciones ambientales adecuadas para la utilización sustentable de especímenes de la fauna silvestre'], ['b93f0ab_12', 0.7891042348933631, 'Asimismo, realiza acciones para conservar y mejorar los recursos naturales renovables que afectan la producción agrícola, ganadera y forestal, preocupándose de controlar la contaminación de las aguas de riego, conservar la flora y fauna silvestre y mejorar el recurso suelo, con el fin de prevenir la erosión y mantener su productividad, entre otras'], ['c900e7d_6', 0.7869666008666643, 'Que es función del Estado la creación, mantención y administración de un Sistema Nacional de Áreas Silvestres Protegidas (SNASPE) que tenga por objeto asegurar la diversidad biológica, tutelar la preservación de la naturaleza y conservar el patrimonio ambiental del país'], ['a48d709_14', 0.785736645666887, 'Que el área propuesta como santuario de la naturaleza forma parte del Plan Nacional de Protección de Humedales 2018-2022, cuyo objetivo central es proteger la biodiversidad y los servicios ecosistémicos en áreas prioritarias de humedales, con el objeto de asociar una categoría de área protegida que garantice su conservación y gestión a largo plazo'], ['a0c6bcf_10', 0.78563492928649, '\", que se deben \"implementar instrumentos para la gestión y el manejo sustentable de los recursos marinos y del patrimonio cultural y paisajístico de la Reserva\", mediante la elaboración en conjunto con Sernatur y la Seremi del Medio Ambiente, específicamente respecto de \"las actividades de buceo, pesca deportiva, actividades náuticas y turismo\" y la \"la observación de mamíferos y aves'], ['1adb72b_2045', 0.7850535273526066, 'En el Estudio o Declaración de Impacto Ambiental, según sea el caso, se deberán señalar las medidas y/o condiciones ambientales adecuadas para la utilización sustentable de las especies protegidas'], ['a094c4d_58', 0.7830427889492487, 'Existirán recursos monetarios que tendrán por objetivo financiar, total o parcialmente, proyectos o actividades de la comunidad orientados a la protección o reparación del medio ambiente, el desarrollo sustentable, la preservación de la naturaleza y la conservación del patrimonio ambiental dentro de la comuna'], ['9795dfb_20', 0.7822292418683061, 'Se considerarán bonificables las siguientes actividades que favorezcan la regeneración, protección o recuperación de formaciones xerofíticas de alto valor ecológico o de bosques nativos de preservación:'], ['b3e1ce7_21', 0.7818592931751448, 'Que es necesario ampliar y fortalecer las Áreas Silvestres Protegidas, a partir de las Reservas de Mocho Choshuenco, los sectores de los Parques Villarrica y Osorno; la Reserva Nacional Valdivia y toda la Zona Costera de la Región, para preservar los ecosistemas de la Cordillera de la Costa'], ['85681fe_60', 0.781241421548316, 'La priorización de políticas y planes en materia de biodiversidad responderá a los siguientes criterios de sustentabilidad: contribuir al compromiso internacional establecido bajo el marco del Convenio sobre Diversidad Biológica, de conservar al año 2020, al menos el 17% de las zonas terrestres y de aguas continentales, y el 10% de las zonas marinas y costeras, especialmente aquellas de particular importancia para la diversidad biológica y los servicios de los ecosistemas, y reducir la pérdida de biodiversidad a una situación aceptable, de manera que no se ponga en riesgo la permanencia de los servicios ecosistémicos y el bienestar humano'], ['1adb72b_1833', 0.7802234647339814, 'En el Estudio o Declaración de Impacto Ambiental, según sea el caso, se deberá señalar las medidas apropiadas de protección y conservación del estado natural del Santuario de la Naturaleza, de acuerdo a:'], ['4ff9995_3', 0.7800471901449167, 'Que, conforme lo dispone el artículo 37, 70 letra i) de la Ley sobre Bases Generales del Medio Ambiente, es atribución del Ministerio del Medio Ambiente proponer políticas y formular planes, programas y acciones que establezcan los criterios básicos y las medidas preventivas para favorecer la recuperación y conservación de los recursos hídricos, genéticos, la flora, la fauna, los hábitats, los paisajes, ecosistemas y espacios naturales, en especial los frágiles y degradados, contribuyendo al cumplimiento de los convenios internacionales de conservación de la biodiversidad'], ['a094c4d_29', 0.7783402186268614, 'Conservación del Patrimonio Ambiental: El uso y aprovechamiento racional o la reparación, en su caso, de los componentes del medio ambiente, especialmente aquellos propios del país que sean únicos, escasos o representativos, con el objeto de asegurar su permanencia y su capacidad de regeneración'], ['2e28868_20', 0.7779874410179591, 'La preservación, por su parte, requiere la mantención de las condiciones naturales del medio que hacen posible la óptima evolución y desarrollo de las especies y los ecosistemas que lo conforman'], ['90d221e_10', 0.7779874410179591, 'La preservación, por su parte, requiere la mantención de las condiciones naturales del medio que hacen posible la óptima evolución y desarrollo de las especies y los ecosistemas que lo conforman'], ['b331239_8', 0.7779874410179591, 'La preservación, por su parte, requiere la mantención de las condiciones naturales del medio que hacen posible la óptima evolución y desarrollo de las especies y los ecosistemas que lo conforman'], ['b26e5ef_49', 0.7779714213685772, 'La priorización de políticas y planes en materia de biodiversidad responderá a los siguientes criterios de sustentabilidad: contribuir al compromiso internacional establecido bajo el marco del Convenio sobre Diversidad Biológica, de conservar al año 2020, al menos el 17% de las zonas terrestres y de aguas continentales, y el 10% de las zonas marinas y costeras, especialmente aquellas de particular importancia para la diversidad biológica y los servicios de los ecosistemas; y reducir la pérdida de biodiversidad a una situación aceptable, de manera que no se ponga en riesgo la permanencia de los servicios ecosistémicos y el bienestar humano, en concordancia con las prioridades nacionales en materia de conservación y uso sustentable de la biodiversidad'], ['0185327_9', 0.7771915151297896, 'a) Actividades que favorezcan la regeneración, recuperación o protección de formaciones xerofíticas de alto valor ecológico o de bosques nativos de preservación:'], ['0f110a5_8', 0.7771915151297896, 'a) Actividades que favorezcan la regeneración, recuperación o protección de formaciones xerofíticas de alto valor ecológico o de bosques nativos de preservación:'], ['4d857da_8', 0.7771915151297896, 'a) Actividades que favorezcan la regeneración, recuperación o protección de formaciones xerofíticas de alto valor ecológico o de bosques nativos de preservación:'], ['703bda7_9', 0.7771915151297896, 'a) Actividades que favorezcan la regeneración, recuperación o protección de formaciones xerofíticas de alto valor ecológico o de bosques nativos de preservación:'], ['af64897_10', 0.7771915151297896, 'a) Actividades que favorezcan la regeneración, recuperación o protección de formaciones xerofíticas de alto valor ecológico o de bosques nativos de preservación:'], ['37663ef_78', 0.7761851220917856, 'Lo anterior debe entenderse sin perjuicio de otras iniciativas que servicios públicos, con el análisis de Comité Nacional de Áreas Protegidas, propongan sobre ecosistemas subrepresentados, y de la facultad del Consejo de Ministros para la Sustentabilidad de proponer la creación o ampliación de áreas protegidas, así como de los procesos que se inicien a solicitud de personas interesadas para la creación de santuarios de la naturaleza'], ['d29e89b_9', 0.7744768490676097, 'Apruébase los criterios de priorización de terrenos, de focalización y de asignación de las bonificaciones, en los que se encuentran implícitos los criterios de evaluación técnica y ambiental, correspondientes a los concursos para el año 2020, del Fondo de conservación, recuperación o manejo sustentable del bosque nativo, de la ley Nº 20,283, que a continuación se señalan:'], ['4024b75_19', 0.7738080389528518, ', que entrega el Servicio, sean estos financiados con recursos sectoriales como el Sistema de Incentivos para la Sustentabilidad Agroambiental de los Suelos Agropecuarios \"SIRSD\" u otros, o de programas financiados por el Gobierno Regional de Aysén'], ['2d8b308_40', 0.7731933009162991, 'Lo anterior, considerando acciones para mantener y/o recuperar las características ecológicas del humedal, controlar las amenazas físicas, químicas y biológicas que puedan perturbar las mismas, con énfasis en la preservación de las especies de flora y fauna amenazadas; así como el monitoreo de la efectividad de las medidas implementadas'], ['26b00aa_48', 0.7712938763950054, 'El cuidado de los recursos naturales y la atención a estos fenómenos constituyen uno de los desafíos de adaptación más relevantes para prevenir consecuencias negativas sobre las comunidades y el país'], ['b26e5ef_51', 0.7701214027077361, \"a) Plan nacional de restauración y acciones de recuperación de ecosistemas degradados en regiones priorizadas: Valparaíso, O'Higgins, Maule, La Araucanía y Aysén\"], ['51bf5af_20', 0.7701118092309629, 'Asimismo, existen recursos naturales de gran importancia y las características del uso actual y potencial del territorio hace que converjan diferentes intereses y actores en la protección y manejo del área protegida'], ['cb19b64_13', 0.7698127298134143, 'Que el área propuesta no solo representa hábitats únicos e importantes para un gran número de especies de vertebrados e invertebrados, sino que provee una serie de servicios ecosistémicos, entre los cuales se destacan la retención y remoción de nutrientes, la estabilización de la línea de costa, el secuestro de carbono, la contención de sedimentos, la provisión y mejoramiento de la calidad del agua y el aminoramiento del efecto de tormentas, inundaciones y otros desastres naturales'], ['5a0a8e3_8', 0.768420820441577, 'Que en cumplimiento del deber del Estado en orden a tutelar la preservación de la naturaleza, se promulgó la ley Nº 20,283 sobre Recuperación del Bosque Nativo y Fomento Forestal, cuyo objetivo al tenor de su artículo 1º es \"la protección, la recuperación y el mejoramiento de los bosques nativos, con el fin de asegurar la sustentabilidad forestal y la política ambiental'], ['1934416_10', 0.7683474569675317, '- Que resulta conveniente y necesario articular la acción en materia de conservación y utilización sustentable de fauna silvestre con los sectores académicos, de fiscalización, de investigación y productivo, contando con una instancia de alto nivel que asesore al Director Nacional,'], ['80f5263_17', 0.7680420722596074, '\"Desarrollo de Actividades\" que, \"El PGA es el instrumento que permite la conservación y protección de la biodiversidad y el medio ambiente de la Reserva, procurando minimizar las intervenciones que tengan un impacto en el medio ambiente y la biodiversidad acorde a su categoría general de área marina protegida ('], ['488a77f_8', 0.7677533616142336, 'Actividades que favorezcan la regeneración, recuperación o protección de formaciones xerofíticas de alto valor ecológico o de bosques nativos de preservación:'], ['9555cd6_5', 0.7677533616142336, 'Actividades que favorezcan la regeneración, recuperación o protección de formaciones xerofíticas de alto valor ecológico o de bosques nativos de preservación:'], ['7d43803_5', 0.7675077402904472, 'El objetivo de la Evaluación Ambiental Estratégica es la incorporación de consideraciones ambientales del desarrollo sustentable al proceso de formulación de las políticas, planes e instrumentos de ordenamiento territorial que la ley establece'], ['37663ef_108', 0.7673650891995155, 'Planes de recuperación, conservación y gestión de especies'], ['85681fe_69', 0.7673650891995155, 'Planes de recuperación, conservación y gestión de especies'], ['b26e5ef_81', 0.7673650891995155, 'Planes de recuperación, conservación y gestión de especies'], ['1edabde_13', 0.7673092586679201, '(iii) El deber de esta Secretaría de Estado de propender a una recuperación sostenible mediante la oportuna implementación de los instrumentos de gestión ambiental contemplados en la Ley N° 19,300 sobre Bases Generales del Medio Ambiente'], ['9646403_16', 0.7673041652444431, 'Que uno de los objetivos que se ha trazado este Comité, es la creación de nuevas áreas para ser incorporadas al Sistema Nacional de Áreas Silvestres Protegidas del Estado (SNASPE), con la finalidad de propender a la protección efectiva de muestras representativas de ecosistemas relevantes del territorio nacional, así como la de velar por el cumplimiento de la Estrategia Nacional de la Biodiversidad y su correspondiente Plan de Acción País;'], ['35d6c99_6', 0.7663110567414894, '- Que nuestra comuna cuenta con recursos naturales que es necesario conservar, efectuando un uso y aprovechamiento racional o la reparación, en su caso, de los componentes del medio ambiente que sean únicos, escasos o representativos, con el objeto de asegurar su permanencia y capacidad de regeneración'], ['b3e1ce7_14', 0.7661382075679154, 'Que uno de los objetivos que se ha trazado este Comité es la creación de nuevas áreas para ser incorporadas al Sistema Nacional de Áreas Silvestres Protegidas del Estado (SNASPE), con la finalidad de propender a la protección efectiva de muestras representativas de ecosistemas relevantes del territorio nacional, así como la de velar por el cumplimiento de la Estrategia Nacional de la Biodiversidad y su correspondiente Plan de Acción País'], ['39917a8_39', 0.7657636360714387, 'presentará un plan de manejo del Santuario de la Naturaleza al Ministerio del Medio Ambiente, el cual contendrá las acciones concretas para hacer efectiva la protección y conservación del área y los responsables de su ejecución'], ['8e10c01_9', 0.7656362539793412, 'Actividades que favorezcan la regeneración, recuperación o protección de formaciones xerofíticas de alto valor ecológico o de bosques nativos de preservación'], ['2c2ec8c_15', 0.7654595289530177, 'En la solicitud, el peticionario deberá adjuntar los documentos que acrediten el cumplimiento de los requisitos que hacen procedente la autorización a que se refiere el inciso anterior y un proyecto que contemple planes, medidas o acciones de reparación o de compensación que aseguren la conservación y mejora del estado de las poblaciones de las especies protegidas y produzca o genere un efecto positivo alternativo, equivalente al efecto adverso identificado'], ['51bf5af_14', 0.7652687972728258, 'Que uno de los objetivos que se ha trazado este Comité, es la creación de nuevas áreas para ser incorporadas al Sistema Nacional de Áreas Silvestres Protegidas del Estado (SNASPE), con la finalidad de propender a la protección efectiva de muestras representativas de ecosistemas relevantes del territorio nacional, así como la de velar por el cumplimiento de la Estrategia Nacional de la Biodiversidad y su correspondiente Plan de Acción País'], ['26b00aa_257', 0.7646888818473202, 'Recursos Naturales: los componentes del medio ambiente susceptibles de ser utilizados por el ser humano para la satisfacción de sus necesidades o interés espirituales, culturales, sociales y económicos'], ['7d43803_16', 0.7631611021742579, 'g) Factores Críticos de Decisión: corresponden a aquellos temas de sustentabilidad (sociales, económicos y ambientales) relevantes o esenciales, que en función del objetivo que se pretende lograr con la política, plan o instrumento de ordenamiento territorial, influyan en la evaluación'], ['b26e5ef_121', 0.7617708610343936, 'La priorización de proyectos de ley responderá a los siguientes criterios de sustentabilidad: fortalecer la gestión ambiental, promover un desarrollo que considere las dimensiones económicas, sociales y ambientales, y velar por el cumplimiento de los compromisos internacionales adquiridos por el país en la materia'], ['51bf5af_67', 0.7611224686674024, 'b) Mantener y mejorar recursos de la flora y la fauna silvestres y racionalizar su utilización;'], ['7d43803_15', 0.7597885583322606, 'f) Efectos Ambientales: Corresponden a las implicancias sobre el medio ambiente y la sustentabilidad que generarían las opciones de desarrollo planteadas por la política, plan o instrumento de ordenamiento territorial sometido a Evaluación Ambiental Estratégica'], ['ce5bbdf_7', 0.7597051863391042, 'Que la señalada ley Nº 20,283 tiene como objetivo la protección, recuperación y mejoramiento de los bosques nativos, con el fin de asegurar la sustentabilidad forestal y la política ambiental, haciendo necesario establecer diversas regulaciones y normas de protección ambiental'], ['dfe46c7_218', 0.7596830331015528, 'e) Protección de los controladores naturales mediante medidas que los favorezcan (por ejemplo: cercos vivos, nidos, cultivos trampa);'], ['703bda7_3', 0.7592685529474984, 'tiene como objetivos la protección, la recuperación y el mejoramiento de los bosques nativos, con el fin de asegurar la sustentabilidad forestal y la política ambiental'], ['9646403_63', 0.7592220963854847, 'f) desarrollar programas de educación ambiental in situ y en las zonas de amortiguamiento, respecto de los recursos naturales y culturales presentes en el área'], ['7d43803_79', 0.7589895163726806, 'b) Las políticas medio ambientales y de sustentabilidad que pudieran incidir en la política, plan o instrumento de ordenamiento territorial que se pretende implementar;'], ['7d43803_82', 0.7589790711143487, 'e) Las implicancias sobre el medio ambiente y la sustentabilidad que generarían las opciones de desarrollo planteadas en la presentación de la política, plan o instrumento de ordenamiento territorial;'], ['15f9c97_7', 0.75865028525772, 'Que la Ley Nº 20,283 tiene como objetivo la protección, recuperación y mejoramiento de los bosques nativos, con el fin de asegurar la sustentabilidad forestal y la política ambiental, haciendo necesario establecer diversas regulaciones y normas de protección ambiental'], ['51bf5af_66', 0.7584369351186913, 'a) Mantener áreas de carácter único o representativas de la diversidad ecológica natural del país o del lugar con comunidades animales o vegetales, paisajes o formaciones geológicas naturales, a fin de posibilitar la educación e investigación y de asegurar la continuidad de los procesos evolutivos, las migraciones animales, los patrones de flujo genético y la regulación del medio ambiente;'], ['086db85_27', 0.7581234643866547, 'l) Programa de conservación: Plan elaborado por el Instituto de las diferentes acciones de conservación que debe realizar el concesionario en beneficio de las instalaciones situadas en el área de la concesión'], ['2c2ec8c_5', 0.7576491065355507, 'Que se hace necesario armonizar y actualizar las normas reglamentarias sobre especies forestales declaradas monumento natural, con la ley sobre Bases Generales del Medio Ambiente y el Reglamento del Sistema de Evaluación de Impacto Ambiental, en cuanto éstos exigen que los proyectos o actividades susceptibles de causar impacto ambiental, deben someterse a dicho Sistema, garantizando la protección del medio ambiente, la preservación de la naturaleza y la conservación del patrimonio ambiental, mediante el cumplimiento de planes, medidas y acciones de mitigación, reparación y/o compensación que eliminen o mitiguen los efectos adversos que dichos proyectos o actividades pudieren tener'], ['2c2ec8c_2', 0.7575836619949647, 'Que la política ambiental para un desarrollo sustentable del supremo Gobierno, exige compatibilizar el desarrollo económico y social con la protección del medio ambiente'], ['15b1a56_7', 0.7563513564849548, 'Que el objetivo de la señalada ley es la protección, recuperación y mejoramiento de los bosques nativos, con el fin de asegurar la sustentabilidad forestal y la política ambiental'], ['c8b1297_2', 0.7562630518614506, 'Que, la ley N° 20,283, sobre Recuperación del Bosque Nativo y Fomento Forestal tiene como objetivos la protección, la recuperación y el mejoramiento de los bosques nativos, con el fin de asegurar la sustentabilidad forestal y la política ambiental'], ['26b00aa_130', 0.7555021073684903, 'En materia de inversión se considera relevante adecuar las normas y metodologías a las características de los espacios rurales, centrando las iniciativas en la competitividad y sustentabilidad de los territorios'], ['2d8b308_5', 0.7537196747590227, 'Que, una de las directrices de la resolución 70/1 de la Asamblea General de las Naciones Unidas consiste en \"proteger el planeta contra la degradación, incluso mediante el consumo y la producción sostenibles, la gestión sostenible de sus recursos naturales y medidas urgentes para hacer frente al cambio climático, de manera que pueda satisfacer las necesidades de las generaciones presentes y futuras'], ['77fd10b_57', 0.7534028543918798, 'Mantener áreas de carácter único o representativas de la diversidad ecológica natural del país o del lugar con comunidades animales o vegetales, paisajes y formaciones geológicas naturales, a fin de posibilitar la educación e investigación y de asegurar la continuidad de los procesos evolutivos, las migraciones animales, los patrones de flujo genético y la regulación del medio ambiente;'], ['60881e6_7', 0.7532819356439165, 'Que el Servicio Agrícola y Ganadero tiene por objeto la protección y conservación de los recursos naturales renovables que inciden en el ámbito de la producción agropecuaria del país'], ['739c6f2_300', 0.7527353867682754, '- El \"Parque Nacional Isla Magdalena\" tendrá como objetivo general de Protección, la preservación de una muestra de los ecosistemas de Bosques Húmedos Templados, asegurando su biodiversidad y sus procesos evolutivos'], ['ce638af_131', 0.7514591201554134, 'k) Proponer prácticas que favorezcan la biodiversidad, vinculadas directamente a las propiedades del suelo, posibles de incorporar al Programa y que contribuyan a la sustentabilidad de los suelos'], ['d38c3d2_24', 0.7514577463271802, 'Que la consagración de estos terrenos para fines de conservación y protección ofrece una valiosa oportunidad para integrar la educación ambiental y la participación ciudadana, así como valorar el trabajo desempeñado por instituciones públicas, privadas y comunitarias en el proceso de estudio y propuesta de la unidad de manejo para este predio;'], ['0185327_3', 0.7506625150311653, 'Que la Ley Nº 20,283 sobre Recuperación del Bosque Nativo y Fomento Forestal tiene como objetivos la protección, la recuperación y el mejoramiento de los bosques nativos, con el fin de asegurar la sustentabilidad forestal y la política ambiental'], ['051d513_35', 0.7503671778574805, 'Dicho plan contendrá las acciones concretas para hacer efectiva la protección y conservación del área, además de los responsables de su ejecución'], ['6556153_45', 0.7503671778574805, 'Dicho plan contendrá las acciones concretas para hacer efectiva la protección y conservación del área, además de los responsables de su ejecución'], ['874aae4_28', 0.7503671778574805, 'Dicho plan contendrá las acciones concretas para hacer efectiva la protección y conservación del área, además de los responsables de su ejecución']]\n"
     ]
    }
   ],
   "source": [
    "show_results(results_dict)"
   ]
  },
  {
   "cell_type": "code",
   "execution_count": 72,
   "metadata": {},
   "outputs": [
    {
     "name": "stdout",
     "output_type": "stream",
     "text": [
      "100\n",
      "[['9646403_24', 0.8312449643200057, 'A su vez, el lineamiento estratégico de \"Infraestructura y Gestión Territorial - Calidad de Vida\" considera entre los objetivos del eje temático Región: \"Valorizar y rescatar los recursos paisajísticos, científicos, históricos y culturales de la Región\", así como \"Proteger y desarrollar la diversidad biológica regional, reservas naturales, oasis regionales, vegas y bofedales, etc', 1], ['9646403_58', 0.8219322047881344, 'a) Establecer programas que contribuyan al desarrollo armónico del área silvestre protegida, con énfasis en acciones y proyectos para la protección, conservación y manejo no consuntivo de recursos naturales marinos y/o continentales, con énfasis en especies de flora y fauna endémicas con problemas de conservación;', 2], ['37663ef_73', 0.8187305328704828, 'Programa de fortalecimiento de la representatividad de los ecosistemas costero marinos subrepresentados del norte, centro y sur del país, y de protección de hábitats de especies amenazadas en el Sistema Nacional de Áreas Protegidas del Estado, por medio de la creación y ampliación de parques nacionales, reservas nacionales y áreas marinas protegidas, entre otros, sometidos al pronunciamiento del Consejo de Ministros para la Sustentabilidad', 3], ['79859b9_74', 0.8117166388328447, '* Areas de Preservación por Uso Sustentable (APUS) \"Areas previstas para determinados usos o funciones de relevancia ambiental, las que deben ser mantenidas mediante un uso sustentable del territorio\":', 4], ['79859b9_24', 0.8106868124754119, '* Areas de Preservación por Uso Sustentable (APUS) \"Areas previstas para determinados usos o funciones de relevancia ambiental, las que deben ser mantenidas mediante un uso sustentable del territorio\"', 5], ['25a3671_3', 0.808983638791358, 'Que, es deber del Estado tutelar la preservación de la naturaleza, la protección del medio ambiente y elevar el estándar de protección de las áreas existentes', 6], ['7c08433_4', 0.808983638791358, 'Que, es deber del Estado tutelar la preservación de la naturaleza, la protección del medio ambiente y elevar el estándar de protección de las áreas existentes', 7], ['ca54527_4', 0.808983638791358, 'Que, es deber del Estado tutelar la preservación de la naturaleza, la protección del medio ambiente y elevar el estándar de protección de las áreas existentes', 8], ['f0e75c3_3', 0.808983638791358, 'Que, es deber del Estado tutelar la preservación de la naturaleza, la protección del medio ambiente y elevar el estándar de protección de las áreas existentes', 9], ['26b00aa_153', 0.8041314483251488, 'En el marco del paradigma que esta Política impulsa, se considera la sustentabilidad medioambiental como un factor constitutivo indisociable del bienestar de la sociedad y del desarrollo rural, reconociendo y valorando la calidad y el potencial de los activos naturales y los ecosistemas, promoviendo su resguardo y gestión dentro de los límites de su funcionamiento', 10], ['b26e5ef_60', 0.8039930631619713, 'a) Creación y ampliación de parques nacionales, reservas nacionales y áreas marinas protegidas, entre otros, con énfasis en aumentar la representatividad de los ecosistemas del centro y norte del país y para la protección de hábitats de especies amenazadas, que considere el Consejo de Ministros para la Sustentabilidad (CMS)', 11], ['9646403_28', 0.8024871954119137, 'Que existe interés de actores territoriales públicos y privados interesados en apoyar la gestión de conservación de estos ambientes, siendo necesario protegerlos y ponerlos en valor dado su potencial ecológico, científico y cultural', 12], ['7c08433_24', 0.8017705927367547, 'Que lo anterior, implica un interés en la conservación de las eco-regiones terrestres involucradas, en particular una significativa protección de humedales y cuerpos de agua continentales, como también la protección a la fauna endémica y nativa presente, el que por su estado de conservación requiere continuar bajo protección en una categoría de preservación', 13], ['9795dfb_95', 0.8013440550561489, 'h) Identificación de las formaciones xerofíticas de alto valor ecológico o de los bosques nativos de preservación, según el catastro forestal, respecto de los cuales se realizarán las actividades bonificables, si se trata de un proyecto de plan de manejo de preservación;', 14], ['26b00aa_157', 0.8012769182347088, 'Considerar la protección de la biodiversidad como elemento relevante en el proceso de ordenamiento, planificación y gestión del territorio rural y en los marcos regulatorios correspondientes', 15], ['79859b9_81', 0.8011789847522386, 'Científico-educativo-recreacional: Se entenderán comprendidos en esta categoría aquellos usos que contribuyan a la preservación de los valores naturales, manteniendo e incrementando, entre otros, la forestación, el valor paisajístico y/o cultural, y la defensa de la flora y fauna silvestre', 16], ['1d447d5_8', 0.8004320360687663, 'Que es deber del Estado velar por la conservación, protección e incremento de los recursos naturales renovables, por lo que la protección del humedal La Laguna y Estero Catapilco, y áreas adyacentes, favorecen la conservación de núcleos de reproducción de numerosas especies de fauna silvestre', 17], ['aca085a_7', 0.7975154774916647, 'Que, de conformidad con lo dispuesto en la letra i) del artículo 70 de la ley N° 19,300, sobre Bases Generales del Medio Ambiente, el Ministerio del Medio Ambiente tiene la facultad de proponer políticas y formular planes, programas y acciones que establezcan los criterios básicos y las medidas preventivas para favorecer la recuperación y conservación de los recursos hídricos, genéticos, la flora, la fauna, los hábitats, los paisajes, ecosistemas y espacios naturales, en especial los frágiles y degradados, contribuyendo al cumplimiento de los convenios internacionales de conservación de la biodiversidad', 18], ['e43b9c5_1', 0.7964325729426643, 'Que para el fortalecimiento y modernización de la gestión ministerial en torno a los lineamientos programáticos de la política agroalimentaria y forestal chilena, y en especial en aquellos compromisos de la Agenda Estratégica, se requiere de orientaciones ambientales específicas y adaptadas a la realidad del sector, con el objeto de asegurar la debida consideración del principio de sustentabilidad en el uso de los recursos naturales, la protección y conservación de la diversidad biológica y el mejoramiento de la calidad de vida de las personas', 19], ['3cea480_8', 0.7957670827638177, 'Que es deber del Estado velar por la conservación, protección y acrecentamiento de los recursos naturales,', 20], ['37663ef_52', 0.7938792275369955, 'La priorización de políticas y planes en materia de biodiversidad responderá a los siguientes criterios de sustentabilidad: contribuir al cumplimiento de las metas y objetivos nacionales de protección, restauración y uso sustentable de la biodiversidad establecidas en las políticas e instrumentos nacionales; al cumplimiento de los compromisos internacionales asumidos por Chile en esta materia; y en concordancia con las prioridades definidas en el Programa de Gobierno', 21], ['ca54527_18', 0.7933308529673297, 'Asimismo, la incorporación de otros predios fiscales colindantes y los predios donados por las entidades relacionadas al ecologista Douglas Tompkins, constituirán una gran área de conservación y protección medioambiental de los ecosistemas existentes, de las especies de flora y fauna del lugar, así como un importante aumento de protección a los pisos vegetacionales representados en el Sistema Nacional de Áreas Protegidas del Estado', 22], ['25a3671_17', 0.7929573882177768, 'Asimismo, la incorporación de otros predios fiscales colindantes y por predios donados por las entidades relacionadas al ecologista Douglas Tompkins, constituirán una gran área de conservación y protección medioambiental de los ecosistemas existentes, de las especies de flora y fauna del lugar, así como un importante aumento de protección a los pisos vegetacionales representados en el Sistema Nacional de Áreas Silvestres protegidas del Estado', 23], ['4bde6c4_10', 0.7909189943365883, 'Que es deber del Estado velar por la conservación, protección y acrecentamiento de los recursos naturales renovables; por lo que, para ello, es necesario proteger el área del Humedal Tubul-Raqui y los sectores adyacentes, pues ellos favorecen la conservación de núcleos de reproducción de numerosas especies de fauna silvestre, así como de descanso para especies migratorias, varias de las cuales se encuentran clasificadas en categorías de conservación,', 24], ['1adb72b_2043', 0.7905565485533012, 'En el Estudio o Declaración de Impacto Ambiental, según sea el caso, se deberán señalar las medidas y/o condiciones ambientales adecuadas para la utilización sustentable de especímenes de la fauna silvestre', 25], ['b93f0ab_12', 0.7891042348933631, 'Asimismo, realiza acciones para conservar y mejorar los recursos naturales renovables que afectan la producción agrícola, ganadera y forestal, preocupándose de controlar la contaminación de las aguas de riego, conservar la flora y fauna silvestre y mejorar el recurso suelo, con el fin de prevenir la erosión y mantener su productividad, entre otras', 26], ['c900e7d_6', 0.7869666008666643, 'Que es función del Estado la creación, mantención y administración de un Sistema Nacional de Áreas Silvestres Protegidas (SNASPE) que tenga por objeto asegurar la diversidad biológica, tutelar la preservación de la naturaleza y conservar el patrimonio ambiental del país', 27], ['a48d709_14', 0.785736645666887, 'Que el área propuesta como santuario de la naturaleza forma parte del Plan Nacional de Protección de Humedales 2018-2022, cuyo objetivo central es proteger la biodiversidad y los servicios ecosistémicos en áreas prioritarias de humedales, con el objeto de asociar una categoría de área protegida que garantice su conservación y gestión a largo plazo', 28], ['a0c6bcf_10', 0.78563492928649, '\", que se deben \"implementar instrumentos para la gestión y el manejo sustentable de los recursos marinos y del patrimonio cultural y paisajístico de la Reserva\", mediante la elaboración en conjunto con Sernatur y la Seremi del Medio Ambiente, específicamente respecto de \"las actividades de buceo, pesca deportiva, actividades náuticas y turismo\" y la \"la observación de mamíferos y aves', 29], ['1adb72b_2045', 0.7850535273526066, 'En el Estudio o Declaración de Impacto Ambiental, según sea el caso, se deberán señalar las medidas y/o condiciones ambientales adecuadas para la utilización sustentable de las especies protegidas', 30], ['a094c4d_58', 0.7830427889492487, 'Existirán recursos monetarios que tendrán por objetivo financiar, total o parcialmente, proyectos o actividades de la comunidad orientados a la protección o reparación del medio ambiente, el desarrollo sustentable, la preservación de la naturaleza y la conservación del patrimonio ambiental dentro de la comuna', 31], ['9795dfb_20', 0.7822292418683061, 'Se considerarán bonificables las siguientes actividades que favorezcan la regeneración, protección o recuperación de formaciones xerofíticas de alto valor ecológico o de bosques nativos de preservación:', 32], ['b3e1ce7_21', 0.7818592931751448, 'Que es necesario ampliar y fortalecer las Áreas Silvestres Protegidas, a partir de las Reservas de Mocho Choshuenco, los sectores de los Parques Villarrica y Osorno; la Reserva Nacional Valdivia y toda la Zona Costera de la Región, para preservar los ecosistemas de la Cordillera de la Costa', 33], ['85681fe_60', 0.781241421548316, 'La priorización de políticas y planes en materia de biodiversidad responderá a los siguientes criterios de sustentabilidad: contribuir al compromiso internacional establecido bajo el marco del Convenio sobre Diversidad Biológica, de conservar al año 2020, al menos el 17% de las zonas terrestres y de aguas continentales, y el 10% de las zonas marinas y costeras, especialmente aquellas de particular importancia para la diversidad biológica y los servicios de los ecosistemas, y reducir la pérdida de biodiversidad a una situación aceptable, de manera que no se ponga en riesgo la permanencia de los servicios ecosistémicos y el bienestar humano', 34], ['1adb72b_1833', 0.7802234647339814, 'En el Estudio o Declaración de Impacto Ambiental, según sea el caso, se deberá señalar las medidas apropiadas de protección y conservación del estado natural del Santuario de la Naturaleza, de acuerdo a:', 35], ['4ff9995_3', 0.7800471901449167, 'Que, conforme lo dispone el artículo 37, 70 letra i) de la Ley sobre Bases Generales del Medio Ambiente, es atribución del Ministerio del Medio Ambiente proponer políticas y formular planes, programas y acciones que establezcan los criterios básicos y las medidas preventivas para favorecer la recuperación y conservación de los recursos hídricos, genéticos, la flora, la fauna, los hábitats, los paisajes, ecosistemas y espacios naturales, en especial los frágiles y degradados, contribuyendo al cumplimiento de los convenios internacionales de conservación de la biodiversidad', 36], ['a094c4d_29', 0.7783402186268614, 'Conservación del Patrimonio Ambiental: El uso y aprovechamiento racional o la reparación, en su caso, de los componentes del medio ambiente, especialmente aquellos propios del país que sean únicos, escasos o representativos, con el objeto de asegurar su permanencia y su capacidad de regeneración', 37], ['2e28868_20', 0.7779874410179591, 'La preservación, por su parte, requiere la mantención de las condiciones naturales del medio que hacen posible la óptima evolución y desarrollo de las especies y los ecosistemas que lo conforman', 38], ['90d221e_10', 0.7779874410179591, 'La preservación, por su parte, requiere la mantención de las condiciones naturales del medio que hacen posible la óptima evolución y desarrollo de las especies y los ecosistemas que lo conforman', 39], ['b331239_8', 0.7779874410179591, 'La preservación, por su parte, requiere la mantención de las condiciones naturales del medio que hacen posible la óptima evolución y desarrollo de las especies y los ecosistemas que lo conforman', 40], ['b26e5ef_49', 0.7779714213685772, 'La priorización de políticas y planes en materia de biodiversidad responderá a los siguientes criterios de sustentabilidad: contribuir al compromiso internacional establecido bajo el marco del Convenio sobre Diversidad Biológica, de conservar al año 2020, al menos el 17% de las zonas terrestres y de aguas continentales, y el 10% de las zonas marinas y costeras, especialmente aquellas de particular importancia para la diversidad biológica y los servicios de los ecosistemas; y reducir la pérdida de biodiversidad a una situación aceptable, de manera que no se ponga en riesgo la permanencia de los servicios ecosistémicos y el bienestar humano, en concordancia con las prioridades nacionales en materia de conservación y uso sustentable de la biodiversidad', 41], ['0185327_9', 0.7771915151297896, 'a) Actividades que favorezcan la regeneración, recuperación o protección de formaciones xerofíticas de alto valor ecológico o de bosques nativos de preservación:', 42], ['0f110a5_8', 0.7771915151297896, 'a) Actividades que favorezcan la regeneración, recuperación o protección de formaciones xerofíticas de alto valor ecológico o de bosques nativos de preservación:', 43], ['4d857da_8', 0.7771915151297896, 'a) Actividades que favorezcan la regeneración, recuperación o protección de formaciones xerofíticas de alto valor ecológico o de bosques nativos de preservación:', 44], ['703bda7_9', 0.7771915151297896, 'a) Actividades que favorezcan la regeneración, recuperación o protección de formaciones xerofíticas de alto valor ecológico o de bosques nativos de preservación:', 45], ['af64897_10', 0.7771915151297896, 'a) Actividades que favorezcan la regeneración, recuperación o protección de formaciones xerofíticas de alto valor ecológico o de bosques nativos de preservación:', 46], ['37663ef_78', 0.7761851220917856, 'Lo anterior debe entenderse sin perjuicio de otras iniciativas que servicios públicos, con el análisis de Comité Nacional de Áreas Protegidas, propongan sobre ecosistemas subrepresentados, y de la facultad del Consejo de Ministros para la Sustentabilidad de proponer la creación o ampliación de áreas protegidas, así como de los procesos que se inicien a solicitud de personas interesadas para la creación de santuarios de la naturaleza', 47], ['d29e89b_9', 0.7744768490676097, 'Apruébase los criterios de priorización de terrenos, de focalización y de asignación de las bonificaciones, en los que se encuentran implícitos los criterios de evaluación técnica y ambiental, correspondientes a los concursos para el año 2020, del Fondo de conservación, recuperación o manejo sustentable del bosque nativo, de la ley Nº 20,283, que a continuación se señalan:', 48], ['4024b75_19', 0.7738080389528518, ', que entrega el Servicio, sean estos financiados con recursos sectoriales como el Sistema de Incentivos para la Sustentabilidad Agroambiental de los Suelos Agropecuarios \"SIRSD\" u otros, o de programas financiados por el Gobierno Regional de Aysén', 49], ['2d8b308_40', 0.7731933009162991, 'Lo anterior, considerando acciones para mantener y/o recuperar las características ecológicas del humedal, controlar las amenazas físicas, químicas y biológicas que puedan perturbar las mismas, con énfasis en la preservación de las especies de flora y fauna amenazadas; así como el monitoreo de la efectividad de las medidas implementadas', 50], ['26b00aa_48', 0.7712938763950054, 'El cuidado de los recursos naturales y la atención a estos fenómenos constituyen uno de los desafíos de adaptación más relevantes para prevenir consecuencias negativas sobre las comunidades y el país', 51], ['b26e5ef_51', 0.7701214027077361, \"a) Plan nacional de restauración y acciones de recuperación de ecosistemas degradados en regiones priorizadas: Valparaíso, O'Higgins, Maule, La Araucanía y Aysén\", 52], ['51bf5af_20', 0.7701118092309629, 'Asimismo, existen recursos naturales de gran importancia y las características del uso actual y potencial del territorio hace que converjan diferentes intereses y actores en la protección y manejo del área protegida', 53], ['cb19b64_13', 0.7698127298134143, 'Que el área propuesta no solo representa hábitats únicos e importantes para un gran número de especies de vertebrados e invertebrados, sino que provee una serie de servicios ecosistémicos, entre los cuales se destacan la retención y remoción de nutrientes, la estabilización de la línea de costa, el secuestro de carbono, la contención de sedimentos, la provisión y mejoramiento de la calidad del agua y el aminoramiento del efecto de tormentas, inundaciones y otros desastres naturales', 54], ['5a0a8e3_8', 0.768420820441577, 'Que en cumplimiento del deber del Estado en orden a tutelar la preservación de la naturaleza, se promulgó la ley Nº 20,283 sobre Recuperación del Bosque Nativo y Fomento Forestal, cuyo objetivo al tenor de su artículo 1º es \"la protección, la recuperación y el mejoramiento de los bosques nativos, con el fin de asegurar la sustentabilidad forestal y la política ambiental', 55], ['1934416_10', 0.7683474569675317, '- Que resulta conveniente y necesario articular la acción en materia de conservación y utilización sustentable de fauna silvestre con los sectores académicos, de fiscalización, de investigación y productivo, contando con una instancia de alto nivel que asesore al Director Nacional,', 56], ['80f5263_17', 0.7680420722596074, '\"Desarrollo de Actividades\" que, \"El PGA es el instrumento que permite la conservación y protección de la biodiversidad y el medio ambiente de la Reserva, procurando minimizar las intervenciones que tengan un impacto en el medio ambiente y la biodiversidad acorde a su categoría general de área marina protegida (', 57], ['488a77f_8', 0.7677533616142336, 'Actividades que favorezcan la regeneración, recuperación o protección de formaciones xerofíticas de alto valor ecológico o de bosques nativos de preservación:', 58], ['9555cd6_5', 0.7677533616142336, 'Actividades que favorezcan la regeneración, recuperación o protección de formaciones xerofíticas de alto valor ecológico o de bosques nativos de preservación:', 59], ['7d43803_5', 0.7675077402904472, 'El objetivo de la Evaluación Ambiental Estratégica es la incorporación de consideraciones ambientales del desarrollo sustentable al proceso de formulación de las políticas, planes e instrumentos de ordenamiento territorial que la ley establece', 60], ['37663ef_108', 0.7673650891995155, 'Planes de recuperación, conservación y gestión de especies', 61], ['85681fe_69', 0.7673650891995155, 'Planes de recuperación, conservación y gestión de especies', 62], ['b26e5ef_81', 0.7673650891995155, 'Planes de recuperación, conservación y gestión de especies', 63], ['1edabde_13', 0.7673092586679201, '(iii) El deber de esta Secretaría de Estado de propender a una recuperación sostenible mediante la oportuna implementación de los instrumentos de gestión ambiental contemplados en la Ley N° 19,300 sobre Bases Generales del Medio Ambiente', 64], ['9646403_16', 0.7673041652444431, 'Que uno de los objetivos que se ha trazado este Comité, es la creación de nuevas áreas para ser incorporadas al Sistema Nacional de Áreas Silvestres Protegidas del Estado (SNASPE), con la finalidad de propender a la protección efectiva de muestras representativas de ecosistemas relevantes del territorio nacional, así como la de velar por el cumplimiento de la Estrategia Nacional de la Biodiversidad y su correspondiente Plan de Acción País;', 65], ['35d6c99_6', 0.7663110567414894, '- Que nuestra comuna cuenta con recursos naturales que es necesario conservar, efectuando un uso y aprovechamiento racional o la reparación, en su caso, de los componentes del medio ambiente que sean únicos, escasos o representativos, con el objeto de asegurar su permanencia y capacidad de regeneración', 66], ['b3e1ce7_14', 0.7661382075679154, 'Que uno de los objetivos que se ha trazado este Comité es la creación de nuevas áreas para ser incorporadas al Sistema Nacional de Áreas Silvestres Protegidas del Estado (SNASPE), con la finalidad de propender a la protección efectiva de muestras representativas de ecosistemas relevantes del territorio nacional, así como la de velar por el cumplimiento de la Estrategia Nacional de la Biodiversidad y su correspondiente Plan de Acción País', 67], ['39917a8_39', 0.7657636360714387, 'presentará un plan de manejo del Santuario de la Naturaleza al Ministerio del Medio Ambiente, el cual contendrá las acciones concretas para hacer efectiva la protección y conservación del área y los responsables de su ejecución', 68], ['8e10c01_9', 0.7656362539793412, 'Actividades que favorezcan la regeneración, recuperación o protección de formaciones xerofíticas de alto valor ecológico o de bosques nativos de preservación', 69], ['2c2ec8c_15', 0.7654595289530177, 'En la solicitud, el peticionario deberá adjuntar los documentos que acrediten el cumplimiento de los requisitos que hacen procedente la autorización a que se refiere el inciso anterior y un proyecto que contemple planes, medidas o acciones de reparación o de compensación que aseguren la conservación y mejora del estado de las poblaciones de las especies protegidas y produzca o genere un efecto positivo alternativo, equivalente al efecto adverso identificado', 70], ['51bf5af_14', 0.7652687972728258, 'Que uno de los objetivos que se ha trazado este Comité, es la creación de nuevas áreas para ser incorporadas al Sistema Nacional de Áreas Silvestres Protegidas del Estado (SNASPE), con la finalidad de propender a la protección efectiva de muestras representativas de ecosistemas relevantes del territorio nacional, así como la de velar por el cumplimiento de la Estrategia Nacional de la Biodiversidad y su correspondiente Plan de Acción País', 71], ['26b00aa_257', 0.7646888818473202, 'Recursos Naturales: los componentes del medio ambiente susceptibles de ser utilizados por el ser humano para la satisfacción de sus necesidades o interés espirituales, culturales, sociales y económicos', 72], ['7d43803_16', 0.7631611021742579, 'g) Factores Críticos de Decisión: corresponden a aquellos temas de sustentabilidad (sociales, económicos y ambientales) relevantes o esenciales, que en función del objetivo que se pretende lograr con la política, plan o instrumento de ordenamiento territorial, influyan en la evaluación', 73], ['b26e5ef_121', 0.7617708610343936, 'La priorización de proyectos de ley responderá a los siguientes criterios de sustentabilidad: fortalecer la gestión ambiental, promover un desarrollo que considere las dimensiones económicas, sociales y ambientales, y velar por el cumplimiento de los compromisos internacionales adquiridos por el país en la materia', 74], ['51bf5af_67', 0.7611224686674024, 'b) Mantener y mejorar recursos de la flora y la fauna silvestres y racionalizar su utilización;', 75], ['7d43803_15', 0.7597885583322606, 'f) Efectos Ambientales: Corresponden a las implicancias sobre el medio ambiente y la sustentabilidad que generarían las opciones de desarrollo planteadas por la política, plan o instrumento de ordenamiento territorial sometido a Evaluación Ambiental Estratégica', 76], ['ce5bbdf_7', 0.7597051863391042, 'Que la señalada ley Nº 20,283 tiene como objetivo la protección, recuperación y mejoramiento de los bosques nativos, con el fin de asegurar la sustentabilidad forestal y la política ambiental, haciendo necesario establecer diversas regulaciones y normas de protección ambiental', 77], ['dfe46c7_218', 0.7596830331015528, 'e) Protección de los controladores naturales mediante medidas que los favorezcan (por ejemplo: cercos vivos, nidos, cultivos trampa);', 78], ['703bda7_3', 0.7592685529474984, 'tiene como objetivos la protección, la recuperación y el mejoramiento de los bosques nativos, con el fin de asegurar la sustentabilidad forestal y la política ambiental', 79], ['9646403_63', 0.7592220963854847, 'f) desarrollar programas de educación ambiental in situ y en las zonas de amortiguamiento, respecto de los recursos naturales y culturales presentes en el área', 80], ['7d43803_79', 0.7589895163726806, 'b) Las políticas medio ambientales y de sustentabilidad que pudieran incidir en la política, plan o instrumento de ordenamiento territorial que se pretende implementar;', 81], ['7d43803_82', 0.7589790711143487, 'e) Las implicancias sobre el medio ambiente y la sustentabilidad que generarían las opciones de desarrollo planteadas en la presentación de la política, plan o instrumento de ordenamiento territorial;', 82], ['15f9c97_7', 0.75865028525772, 'Que la Ley Nº 20,283 tiene como objetivo la protección, recuperación y mejoramiento de los bosques nativos, con el fin de asegurar la sustentabilidad forestal y la política ambiental, haciendo necesario establecer diversas regulaciones y normas de protección ambiental', 83], ['51bf5af_66', 0.7584369351186913, 'a) Mantener áreas de carácter único o representativas de la diversidad ecológica natural del país o del lugar con comunidades animales o vegetales, paisajes o formaciones geológicas naturales, a fin de posibilitar la educación e investigación y de asegurar la continuidad de los procesos evolutivos, las migraciones animales, los patrones de flujo genético y la regulación del medio ambiente;', 84], ['086db85_27', 0.7581234643866547, 'l) Programa de conservación: Plan elaborado por el Instituto de las diferentes acciones de conservación que debe realizar el concesionario en beneficio de las instalaciones situadas en el área de la concesión', 85], ['2c2ec8c_5', 0.7576491065355507, 'Que se hace necesario armonizar y actualizar las normas reglamentarias sobre especies forestales declaradas monumento natural, con la ley sobre Bases Generales del Medio Ambiente y el Reglamento del Sistema de Evaluación de Impacto Ambiental, en cuanto éstos exigen que los proyectos o actividades susceptibles de causar impacto ambiental, deben someterse a dicho Sistema, garantizando la protección del medio ambiente, la preservación de la naturaleza y la conservación del patrimonio ambiental, mediante el cumplimiento de planes, medidas y acciones de mitigación, reparación y/o compensación que eliminen o mitiguen los efectos adversos que dichos proyectos o actividades pudieren tener', 86], ['2c2ec8c_2', 0.7575836619949647, 'Que la política ambiental para un desarrollo sustentable del supremo Gobierno, exige compatibilizar el desarrollo económico y social con la protección del medio ambiente', 87], ['15b1a56_7', 0.7563513564849548, 'Que el objetivo de la señalada ley es la protección, recuperación y mejoramiento de los bosques nativos, con el fin de asegurar la sustentabilidad forestal y la política ambiental', 88], ['c8b1297_2', 0.7562630518614506, 'Que, la ley N° 20,283, sobre Recuperación del Bosque Nativo y Fomento Forestal tiene como objetivos la protección, la recuperación y el mejoramiento de los bosques nativos, con el fin de asegurar la sustentabilidad forestal y la política ambiental', 89], ['26b00aa_130', 0.7555021073684903, 'En materia de inversión se considera relevante adecuar las normas y metodologías a las características de los espacios rurales, centrando las iniciativas en la competitividad y sustentabilidad de los territorios', 90], ['2d8b308_5', 0.7537196747590227, 'Que, una de las directrices de la resolución 70/1 de la Asamblea General de las Naciones Unidas consiste en \"proteger el planeta contra la degradación, incluso mediante el consumo y la producción sostenibles, la gestión sostenible de sus recursos naturales y medidas urgentes para hacer frente al cambio climático, de manera que pueda satisfacer las necesidades de las generaciones presentes y futuras', 91], ['77fd10b_57', 0.7534028543918798, 'Mantener áreas de carácter único o representativas de la diversidad ecológica natural del país o del lugar con comunidades animales o vegetales, paisajes y formaciones geológicas naturales, a fin de posibilitar la educación e investigación y de asegurar la continuidad de los procesos evolutivos, las migraciones animales, los patrones de flujo genético y la regulación del medio ambiente;', 92], ['60881e6_7', 0.7532819356439165, 'Que el Servicio Agrícola y Ganadero tiene por objeto la protección y conservación de los recursos naturales renovables que inciden en el ámbito de la producción agropecuaria del país', 93], ['739c6f2_300', 0.7527353867682754, '- El \"Parque Nacional Isla Magdalena\" tendrá como objetivo general de Protección, la preservación de una muestra de los ecosistemas de Bosques Húmedos Templados, asegurando su biodiversidad y sus procesos evolutivos', 94], ['ce638af_131', 0.7514591201554134, 'k) Proponer prácticas que favorezcan la biodiversidad, vinculadas directamente a las propiedades del suelo, posibles de incorporar al Programa y que contribuyan a la sustentabilidad de los suelos', 95], ['d38c3d2_24', 0.7514577463271802, 'Que la consagración de estos terrenos para fines de conservación y protección ofrece una valiosa oportunidad para integrar la educación ambiental y la participación ciudadana, así como valorar el trabajo desempeñado por instituciones públicas, privadas y comunitarias en el proceso de estudio y propuesta de la unidad de manejo para este predio;', 96], ['0185327_3', 0.7506625150311653, 'Que la Ley Nº 20,283 sobre Recuperación del Bosque Nativo y Fomento Forestal tiene como objetivos la protección, la recuperación y el mejoramiento de los bosques nativos, con el fin de asegurar la sustentabilidad forestal y la política ambiental', 97], ['051d513_35', 0.7503671778574805, 'Dicho plan contendrá las acciones concretas para hacer efectiva la protección y conservación del área, además de los responsables de su ejecución', 98], ['6556153_45', 0.7503671778574805, 'Dicho plan contendrá las acciones concretas para hacer efectiva la protección y conservación del área, además de los responsables de su ejecución', 99], ['874aae4_28', 0.7503671778574805, 'Dicho plan contendrá las acciones concretas para hacer efectiva la protección y conservación del área, además de los responsables de su ejecución', 100]]\n"
     ]
    }
   ],
   "source": [
    "results_ = copy.deepcopy(results_dict)\n",
    "results = add_rank(results_)\n",
    "show_results(results)"
   ]
  },
  {
   "cell_type": "markdown",
   "metadata": {},
   "source": [
    "### Retrieving the documents of selected sentences"
   ]
  },
  {
   "cell_type": "code",
   "execution_count": null,
   "metadata": {},
   "outputs": [],
   "source": []
  }
 ],
 "metadata": {
  "kernelspec": {
   "display_name": "Python 3",
   "language": "python",
   "name": "python3"
  },
  "language_info": {
   "codemirror_mode": {
    "name": "ipython",
    "version": 3
   },
   "file_extension": ".py",
   "mimetype": "text/x-python",
   "name": "python",
   "nbconvert_exporter": "python",
   "pygments_lexer": "ipython3",
   "version": "3.8.5"
  },
  "toc": {
   "base_numbering": 1,
   "nav_menu": {},
   "number_sections": true,
   "sideBar": true,
   "skip_h1_title": true,
   "title_cell": "Table of Contents",
   "title_sidebar": "Contents",
   "toc_cell": false,
   "toc_position": {
    "height": "757px",
    "left": "586px",
    "top": "630px",
    "width": "309px"
   },
   "toc_section_display": true,
   "toc_window_display": true
  }
 },
 "nbformat": 4,
 "nbformat_minor": 4
}
