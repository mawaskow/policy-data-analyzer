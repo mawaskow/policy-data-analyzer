{
 "cells": [
  {
   "cell_type": "markdown",
   "metadata": {},
   "source": [
    "# Zero-Shot Learning Experiments: Topic classification\n",
    "\n",
    "Using https://huggingface.co/zero-shot/ "
   ]
  },
  {
   "cell_type": "code",
   "execution_count": 5,
   "metadata": {
    "tags": []
   },
   "outputs": [],
   "source": [
    "import pandas as pd\n",
    "from tqdm import tqdm\n",
    "import numpy as np\n",
    "import matplotlib.pyplot as plt\n",
    "import sys\n",
    "import os"
   ]
  },
  {
   "cell_type": "code",
   "execution_count": 7,
   "metadata": {
    "tags": []
   },
   "outputs": [
    {
     "name": "stdout",
     "output_type": "stream",
     "text": [
      "C:\\Users\\allie\\Documents\\GitHub\\policy-data-analyzer\\tasks\\data_augmentation\\notebooks\\zero_shot_classification\n",
      "C:\\Users\\allie\\Documents\\GitHub\\policy-data-analyzer\n"
     ]
    }
   ],
   "source": [
    "print(os.getcwd())\n",
    "os.chdir(\"../../../..\")\n",
    "print(os.getcwd())"
   ]
  },
  {
   "cell_type": "code",
   "execution_count": 10,
   "metadata": {
    "tags": []
   },
   "outputs": [],
   "source": [
    "from tasks.data_loading.src.utils import *\n",
    "#from tasks.model_evaluation.src.model_evaluator import *\n",
    "from tasks.data_augmentation.src.zero_shot_classification.nli_topic_classifier import *"
   ]
  },
  {
   "cell_type": "markdown",
   "metadata": {},
   "source": [
    "### Load labeled sentences from Excel"
   ]
  },
  {
   "cell_type": "code",
   "execution_count": 6,
   "metadata": {},
   "outputs": [],
   "source": [
    "all_sents_excel = pd.read_excel(\"../../input/WRI_Policy_Tags.xlsx\", engine=\"openpyxl\")"
   ]
  },
  {
   "cell_type": "code",
   "execution_count": 7,
   "metadata": {},
   "outputs": [
    {
     "data": {
      "text/html": [
       "<div>\n",
       "<style scoped>\n",
       "    .dataframe tbody tr th:only-of-type {\n",
       "        vertical-align: middle;\n",
       "    }\n",
       "\n",
       "    .dataframe tbody tr th {\n",
       "        vertical-align: top;\n",
       "    }\n",
       "\n",
       "    .dataframe thead th {\n",
       "        text-align: right;\n",
       "    }\n",
       "</style>\n",
       "<table border=\"1\" class=\"dataframe\">\n",
       "  <thead>\n",
       "    <tr style=\"text-align: right;\">\n",
       "      <th></th>\n",
       "      <th>Document</th>\n",
       "      <th>Sentence</th>\n",
       "      <th>Primary Instrument</th>\n",
       "      <th>Other Instrument(s)</th>\n",
       "      <th>Land Use Type</th>\n",
       "      <th>Category</th>\n",
       "      <th>Unique Policy #</th>\n",
       "      <th>Key words</th>\n",
       "      <th>Unnamed: 8</th>\n",
       "      <th>Unnamed: 9</th>\n",
       "      <th>...</th>\n",
       "      <th>Unnamed: 17</th>\n",
       "      <th>Unnamed: 18</th>\n",
       "      <th>Unnamed: 19</th>\n",
       "      <th>Unnamed: 20</th>\n",
       "      <th>Unnamed: 21</th>\n",
       "      <th>Unnamed: 22</th>\n",
       "      <th>Unnamed: 23</th>\n",
       "      <th>Unnamed: 24</th>\n",
       "      <th>Unnamed: 25</th>\n",
       "      <th>Unnamed: 26</th>\n",
       "    </tr>\n",
       "  </thead>\n",
       "  <tbody>\n",
       "    <tr>\n",
       "      <th>0</th>\n",
       "      <td>2019 ACUERDO por el que se emiten los Lineamie...</td>\n",
       "      <td>Generar empleo y garantizara la población camp...</td>\n",
       "      <td>Technical assistance</td>\n",
       "      <td>Supplies, Credit, Direct payment</td>\n",
       "      <td>Forest, Agriculture (Crop)</td>\n",
       "      <td>Incentive</td>\n",
       "      <td>1 (Sembrando Vida)</td>\n",
       "      <td>insumo, crédito, capacitación, asistencia técnica</td>\n",
       "      <td>NaN</td>\n",
       "      <td>NaN</td>\n",
       "      <td>...</td>\n",
       "      <td>NaN</td>\n",
       "      <td>NaN</td>\n",
       "      <td>NaN</td>\n",
       "      <td>NaN</td>\n",
       "      <td>NaN</td>\n",
       "      <td>NaN</td>\n",
       "      <td>NaN</td>\n",
       "      <td>NaN</td>\n",
       "      <td>NaN</td>\n",
       "      <td>NaN</td>\n",
       "    </tr>\n",
       "    <tr>\n",
       "      <th>1</th>\n",
       "      <td>2019 ACUERDO por el que se emiten los Lineamie...</td>\n",
       "      <td>El Programa incentivará a los sujetos agrarios...</td>\n",
       "      <td>General incentive</td>\n",
       "      <td>NaN</td>\n",
       "      <td>Forest, Agriculture (Crop)</td>\n",
       "      <td>Incentive</td>\n",
       "      <td>1 (Sembrando Vida)</td>\n",
       "      <td>incentivar</td>\n",
       "      <td>NaN</td>\n",
       "      <td>NaN</td>\n",
       "      <td>...</td>\n",
       "      <td>NaN</td>\n",
       "      <td>NaN</td>\n",
       "      <td>NaN</td>\n",
       "      <td>NaN</td>\n",
       "      <td>NaN</td>\n",
       "      <td>NaN</td>\n",
       "      <td>NaN</td>\n",
       "      <td>NaN</td>\n",
       "      <td>NaN</td>\n",
       "      <td>NaN</td>\n",
       "    </tr>\n",
       "    <tr>\n",
       "      <th>2</th>\n",
       "      <td>2019 ACUERDO por el que se emiten los Lineamie...</td>\n",
       "      <td>Los sujetos agrarios beneficiados por el progr...</td>\n",
       "      <td>Supplies</td>\n",
       "      <td>NaN</td>\n",
       "      <td>Forest, Agriculture (Crop)</td>\n",
       "      <td>Incentive</td>\n",
       "      <td>1 (Sembrando Vida)</td>\n",
       "      <td>apoyo económico, apoyos en especie, insumos, h...</td>\n",
       "      <td>NaN</td>\n",
       "      <td>NaN</td>\n",
       "      <td>...</td>\n",
       "      <td>NaN</td>\n",
       "      <td>NaN</td>\n",
       "      <td>NaN</td>\n",
       "      <td>NaN</td>\n",
       "      <td>NaN</td>\n",
       "      <td>NaN</td>\n",
       "      <td>NaN</td>\n",
       "      <td>NaN</td>\n",
       "      <td>NaN</td>\n",
       "      <td>NaN</td>\n",
       "    </tr>\n",
       "    <tr>\n",
       "      <th>3</th>\n",
       "      <td>2019 ACUERDO por el que se emiten los Lineamie...</td>\n",
       "      <td>Adicionalmente, contarán con acompañamiento té...</td>\n",
       "      <td>Technical assistance</td>\n",
       "      <td>NaN</td>\n",
       "      <td>Forest, Agriculture (Crop)</td>\n",
       "      <td>Incentive</td>\n",
       "      <td>1 (Sembrando Vida)</td>\n",
       "      <td>None</td>\n",
       "      <td>NaN</td>\n",
       "      <td>NaN</td>\n",
       "      <td>...</td>\n",
       "      <td>NaN</td>\n",
       "      <td>NaN</td>\n",
       "      <td>NaN</td>\n",
       "      <td>NaN</td>\n",
       "      <td>NaN</td>\n",
       "      <td>NaN</td>\n",
       "      <td>NaN</td>\n",
       "      <td>NaN</td>\n",
       "      <td>NaN</td>\n",
       "      <td>NaN</td>\n",
       "    </tr>\n",
       "    <tr>\n",
       "      <th>4</th>\n",
       "      <td>2019 ACUERDO por el que se emiten los Lineamie...</td>\n",
       "      <td>El sujeto de derecho, recibirá un apoyo económ...</td>\n",
       "      <td>Direct payment</td>\n",
       "      <td>NaN</td>\n",
       "      <td>Forest, Agriculture (Crop)</td>\n",
       "      <td>Incentive</td>\n",
       "      <td>1 (Sembrando Vida)</td>\n",
       "      <td>pesos</td>\n",
       "      <td>NaN</td>\n",
       "      <td>NaN</td>\n",
       "      <td>...</td>\n",
       "      <td>NaN</td>\n",
       "      <td>NaN</td>\n",
       "      <td>NaN</td>\n",
       "      <td>NaN</td>\n",
       "      <td>NaN</td>\n",
       "      <td>NaN</td>\n",
       "      <td>NaN</td>\n",
       "      <td>NaN</td>\n",
       "      <td>NaN</td>\n",
       "      <td>NaN</td>\n",
       "    </tr>\n",
       "  </tbody>\n",
       "</table>\n",
       "<p>5 rows × 27 columns</p>\n",
       "</div>"
      ],
      "text/plain": [
       "                                            Document  \\\n",
       "0  2019 ACUERDO por el que se emiten los Lineamie...   \n",
       "1  2019 ACUERDO por el que se emiten los Lineamie...   \n",
       "2  2019 ACUERDO por el que se emiten los Lineamie...   \n",
       "3  2019 ACUERDO por el que se emiten los Lineamie...   \n",
       "4  2019 ACUERDO por el que se emiten los Lineamie...   \n",
       "\n",
       "                                            Sentence    Primary Instrument  \\\n",
       "0  Generar empleo y garantizara la población camp...  Technical assistance   \n",
       "1  El Programa incentivará a los sujetos agrarios...     General incentive   \n",
       "2  Los sujetos agrarios beneficiados por el progr...              Supplies   \n",
       "3  Adicionalmente, contarán con acompañamiento té...  Technical assistance   \n",
       "4  El sujeto de derecho, recibirá un apoyo económ...       Direct payment    \n",
       "\n",
       "                Other Instrument(s)               Land Use Type   Category  \\\n",
       "0  Supplies, Credit, Direct payment  Forest, Agriculture (Crop)  Incentive   \n",
       "1                               NaN  Forest, Agriculture (Crop)  Incentive   \n",
       "2                               NaN  Forest, Agriculture (Crop)  Incentive   \n",
       "3                               NaN  Forest, Agriculture (Crop)  Incentive   \n",
       "4                               NaN  Forest, Agriculture (Crop)  Incentive   \n",
       "\n",
       "      Unique Policy #                                          Key words  \\\n",
       "0  1 (Sembrando Vida)  insumo, crédito, capacitación, asistencia técnica   \n",
       "1  1 (Sembrando Vida)                                         incentivar   \n",
       "2  1 (Sembrando Vida)  apoyo económico, apoyos en especie, insumos, h...   \n",
       "3  1 (Sembrando Vida)                                               None   \n",
       "4  1 (Sembrando Vida)                                              pesos   \n",
       "\n",
       "   Unnamed: 8  Unnamed: 9  ...  Unnamed: 17  Unnamed: 18  Unnamed: 19  \\\n",
       "0         NaN         NaN  ...          NaN          NaN          NaN   \n",
       "1         NaN         NaN  ...          NaN          NaN          NaN   \n",
       "2         NaN         NaN  ...          NaN          NaN          NaN   \n",
       "3         NaN         NaN  ...          NaN          NaN          NaN   \n",
       "4         NaN         NaN  ...          NaN          NaN          NaN   \n",
       "\n",
       "   Unnamed: 20  Unnamed: 21  Unnamed: 22  Unnamed: 23  Unnamed: 24  \\\n",
       "0          NaN          NaN          NaN          NaN          NaN   \n",
       "1          NaN          NaN          NaN          NaN          NaN   \n",
       "2          NaN          NaN          NaN          NaN          NaN   \n",
       "3          NaN          NaN          NaN          NaN          NaN   \n",
       "4          NaN          NaN          NaN          NaN          NaN   \n",
       "\n",
       "   Unnamed: 25  Unnamed: 26  \n",
       "0          NaN          NaN  \n",
       "1          NaN          NaN  \n",
       "2          NaN          NaN  \n",
       "3          NaN          NaN  \n",
       "4          NaN          NaN  \n",
       "\n",
       "[5 rows x 27 columns]"
      ]
     },
     "execution_count": 7,
     "metadata": {},
     "output_type": "execute_result"
    }
   ],
   "source": [
    "all_sents_excel.head()"
   ]
  },
  {
   "cell_type": "markdown",
   "metadata": {},
   "source": [
    "### Try out which hypothesis template gives the \"best\" results"
   ]
  },
  {
   "cell_type": "code",
   "execution_count": 10,
   "metadata": {},
   "outputs": [
    {
     "name": "stderr",
     "output_type": "stream",
     "text": [
      "Some weights of the model checkpoint at facebook/bart-large-mnli were not used when initializing BartForSequenceClassification: ['model.encoder.version', 'model.decoder.version']\n",
      "- This IS expected if you are initializing BartForSequenceClassification from the checkpoint of a model trained on another task or with another architecture (e.g. initializing a BertForSequenceClassification model from a BertForPretraining model).\n",
      "- This IS NOT expected if you are initializing BartForSequenceClassification from the checkpoint of a model that you expect to be exactly identical (initializing a BertForSequenceClassification model from a BertForSequenceClassification model).\n"
     ]
    },
    {
     "name": "stdout",
     "output_type": "stream",
     "text": [
      "Hypothesis: This text is about {}.\n",
      "Labels and scores:\n",
      "('technical assistance', 0.6607312560081482)\n",
      "('guarantee', 0.2117200344800949)\n",
      "('credit', 0.05324256792664528)\n",
      "('supplies', 0.031038496643304825)\n",
      "('fine', 0.019294213503599167)\n",
      "('direct payment', 0.01415798719972372)\n",
      "('tax deduction', 0.009815499186515808)\n",
      "-----------------------------------------------------------\n",
      "\n",
      "Hypothesis: This text contains incentives about {}s\n",
      "Labels and scores:\n",
      "('technical assistance', 0.43722790479660034)\n",
      "('supplies', 0.185050368309021)\n",
      "('guarantee', 0.12045128643512726)\n",
      "('credit', 0.10245632380247116)\n",
      "('direct payment', 0.0627651959657669)\n",
      "('tax deduction', 0.05834724009037018)\n",
      "('fine', 0.033701688051223755)\n",
      "-----------------------------------------------------------\n",
      "\n",
      "Hypothesis: This text contains information about {}s\n",
      "Labels and scores:\n",
      "('technical assistance', 0.7476929426193237)\n",
      "('guarantee', 0.0772569328546524)\n",
      "('supplies', 0.07667051255702972)\n",
      "('credit', 0.03330483287572861)\n",
      "('fine', 0.027582256123423576)\n",
      "('direct payment', 0.023644400760531425)\n",
      "('tax deduction', 0.01384811382740736)\n",
      "-----------------------------------------------------------\n",
      "\n",
      "Hypothesis: This text contains {}\n",
      "Labels and scores:\n",
      "('technical assistance', 0.490408331155777)\n",
      "('guarantee', 0.12974661588668823)\n",
      "('supplies', 0.11620737612247467)\n",
      "('credit', 0.09212685376405716)\n",
      "('fine', 0.07676584273576736)\n",
      "('direct payment', 0.04799572750926018)\n",
      "('tax deduction', 0.04674917459487915)\n",
      "-----------------------------------------------------------\n",
      "\n"
     ]
    }
   ],
   "source": [
    "test_sent = 'Generar empleo y garantizara la población campesina el bienestar y su participación e incorporación en el desarrollo nacional, y fomentará la actividad agropecuaria y forestal para el óptimo uso de la tierra, con obras de infraestructura, insumos, créditos, servicios de capacitación y asistencia técnica'\n",
    "test_labels = ['direct payment', 'technical assistance', 'credit']\n",
    "all_labels = [\"direct payment\", \"tax deduction\", \"credit\", \"guarantee\", \"technical assistance\", \"supplies\", \"fine\"]\n",
    "hyp_template_list = ['This text is about {}.', 'This text contains incentives about {}s', \n",
    "                     \"This text contains information about {}s\", \"This text contains {}\"]\n",
    "\n",
    "results = []\n",
    "classifier = pipeline('zero-shot-classification',\n",
    "                      model='facebook/bart-large-mnli')\n",
    "\n",
    "for hyp in hyp_template_list:\n",
    "    result = classify_sentence(test_sent, all_labels,\n",
    "                        hyp, classifier, allow_multi_class=False, all_probs=True)\n",
    "    \n",
    "    print(f\"Hypothesis: {hyp}\")\n",
    "    print(f\"Labels and scores:\")\n",
    "    for pretty in result:\n",
    "        print(pretty)\n",
    "    print(\"-----------------------------------------------------------\\n\")\n",
    "    results.append(result)\n",
    "    "
   ]
  },
  {
   "cell_type": "code",
   "execution_count": 11,
   "metadata": {},
   "outputs": [],
   "source": [
    "# Load data\n",
    "data_excel = pd.read_excel(\"../../input/WRI_Policy_Tags.xlsx\", engine=\"openpyxl\", sheet_name=None)\n",
    "labeled_sents = labeled_sentences_from_excel(data_excel)\n",
    "all_sents = sentences_from_model_output(labeled_sents)\n",
    "all_labels = labels_from_model_output(labeled_sents)\n",
    "label_names = unique_labels(all_labels)"
   ]
  },
  {
   "cell_type": "markdown",
   "metadata": {},
   "source": [
    "### 3. Binary classification"
   ]
  },
  {
   "cell_type": "code",
   "execution_count": 13,
   "metadata": {},
   "outputs": [],
   "source": [
    "label_names = [\"not incentives\", \"incentives\"]\n",
    "binary_labels = list(map(lambda x: \"incentives\" if x != \"Unknown\" else \"not incentives\", all_labels))"
   ]
  },
  {
   "cell_type": "code",
   "execution_count": 15,
   "metadata": {},
   "outputs": [],
   "source": [
    "bin_numeric_labels = labels2numeric(binary_labels, label_names)\n",
    "plo"
   ]
  },
  {
   "cell_type": "code",
   "execution_count": 16,
   "metadata": {},
   "outputs": [
    {
     "data": {
      "image/png": "[encoded data removed]",
      "text/plain": [
       "<Figure size 432x288 with 1 Axes>"
      ]
     },
     "metadata": {
      "needs_background": "light"
     },
     "output_type": "display_data"
    },
    {
     "name": "stdout",
     "output_type": "stream",
     "text": [
      "Label counts:\n",
      "{'not incentives': 0.273972602739726, 'incentives': 0.726027397260274}\n"
     ]
    }
   ],
   "source": [
    "plot_data_distribution(bin_numeric_labels, label_names)"
   ]
  },
  {
   "cell_type": "code",
   "execution_count": 19,
   "metadata": {},
   "outputs": [
    {
     "name": "stderr",
     "output_type": "stream",
     "text": [
      "100%|██████████| 657/657 [20:32<00:00,  1.88s/it]\n"
     ]
    }
   ],
   "source": [
    "bin_model_preds, bin_scores = classify_sentences_topic(labeled_sents, label_names, \"This text contains information about {}s\", classifier)"
   ]
  },
  {
   "cell_type": "code",
   "execution_count": 22,
   "metadata": {},
   "outputs": [],
   "source": [
    "bin_numeric_preds = labels2numeric(bin_model_preds, label_names)"
   ]
  },
  {
   "cell_type": "code",
   "execution_count": 23,
   "metadata": {},
   "outputs": [],
   "source": [
    "evaluator = ModelEvaluator(label_names, y_true=bin_numeric_labels, y_pred=bin_numeric_preds)"
   ]
  },
  {
   "cell_type": "code",
   "execution_count": 24,
   "metadata": {},
   "outputs": [
    {
     "name": "stdout",
     "output_type": "stream",
     "text": [
      "Average weighted f1: 0.6045778252063505\n"
     ]
    }
   ],
   "source": [
    "print(\"Average weighted f1:\", evaluator.avg_f1[1])"
   ]
  },
  {
   "cell_type": "code",
   "execution_count": 25,
   "metadata": {},
   "outputs": [
    {
     "data": {
      "image/png": "[encoded data removed]",
      "text/plain": [
       "<Figure size 576x432 with 2 Axes>"
      ]
     },
     "metadata": {
      "needs_background": "light"
     },
     "output_type": "display_data"
    }
   ],
   "source": [
    "evaluator.plot_confusion_matrix(color_map='Blues')"
   ]
  },
  {
   "cell_type": "markdown",
   "metadata": {},
   "source": [
    "### 4. Multi-class classification"
   ]
  },
  {
   "cell_type": "code",
   "execution_count": 28,
   "metadata": {},
   "outputs": [],
   "source": [
    "label_names = [\"Direct payment\", \"Tax deduction\", \"Credit\", \"Guarantee\", \"Technical assistance\", \"Supplies\", \"Fine\", \"Unknown\"]"
   ]
  },
  {
   "cell_type": "code",
   "execution_count": null,
   "metadata": {},
   "outputs": [],
   "source": [
    "multi_model_preds, multi_scores = classify_sentences_topic(labeled_sents, label_names, \"This text contains information about {}s\", classifier)"
   ]
  },
  {
   "cell_type": "code",
   "execution_count": null,
   "metadata": {},
   "outputs": [],
   "source": [
    "multi_numeric_labels = labels2numeric(all_labels, label_names)\n",
    "multi_numeric_preds = labels2numeric(multi_model_preds, label_names)"
   ]
  },
  {
   "cell_type": "code",
   "execution_count": null,
   "metadata": {},
   "outputs": [],
   "source": [
    "evaluator = ModelEvaluator(label_names, y_true=multi_numeric_labels, y_pred=multi_numeric_preds)"
   ]
  },
  {
   "cell_type": "code",
   "execution_count": null,
   "metadata": {},
   "outputs": [],
   "source": [
    "print(\"Average weighted f1:\", evaluator.avg_f1[1])"
   ]
  },
  {
   "cell_type": "code",
   "execution_count": null,
   "metadata": {},
   "outputs": [],
   "source": [
    "evaluator.plot_confusion_matrix(color_map='Blues')"
   ]
  },
  {
   "cell_type": "code",
   "execution_count": null,
   "metadata": {},
   "outputs": [],
   "source": []
  },
  {
   "cell_type": "code",
   "execution_count": null,
   "metadata": {},
   "outputs": [],
   "source": []
  },
  {
   "cell_type": "code",
   "execution_count": null,
   "metadata": {},
   "outputs": [],
   "source": []
  },
  {
   "cell_type": "markdown",
   "metadata": {},
   "source": [
    "### Tangent: Separate mutliple labels into a list from JSON file"
   ]
  },
  {
   "cell_type": "code",
   "execution_count": null,
   "metadata": {},
   "outputs": [],
   "source": [
    "import json"
   ]
  },
  {
   "cell_type": "code",
   "execution_count": null,
   "metadata": {},
   "outputs": [],
   "source": [
    "with open(\"../input/tagged_sentences_all.json\", \"r\") as fjson: \n",
    "    jsents = json.load(fjson)"
   ]
  },
  {
   "cell_type": "code",
   "execution_count": null,
   "metadata": {},
   "outputs": [],
   "source": [
    "len(jsents), jsents.keys()"
   ]
  },
  {
   "cell_type": "code",
   "execution_count": null,
   "metadata": {},
   "outputs": [],
   "source": [
    "sentence_tags_dict = {}\n",
    "new_json = {}\n",
    "\n",
    "for keydoc, document in jsents.items():\n",
    "    new_json[keydoc] = {}\n",
    "    for keysec, section in document.items():\n",
    "        new_json[keydoc][keysec] = {}\n",
    "        new_json[keydoc][keysec]['tags'] = section['tags']\n",
    "        new_json[keydoc][keysec]['sentences'] = {}\n",
    "        for sentid, sentence in section['sentences'].items():\n",
    "            new_labels = [label.strip() for label in sentence['labels'].split(\", \")]\n",
    "\n",
    "            updated_labels = []\n",
    "            for label in new_labels:\n",
    "                if \"(\" in label:\n",
    "                    updated_labels.append(\"Direct payment\")\n",
    "                else:\n",
    "                    updated_labels.append(label)\n",
    "            new_json[keydoc][keysec]['sentences'][sentid] = {'text': sentence['text'], 'labels': updated_labels}"
   ]
  },
  {
   "cell_type": "code",
   "execution_count": null,
   "metadata": {},
   "outputs": [],
   "source": [
    "len(new_json), new_json.keys()"
   ]
  },
  {
   "cell_type": "code",
   "execution_count": null,
   "metadata": {},
   "outputs": [],
   "source": [
    "with open(\"allcountries_tagged_sents.json\", \"w\") as wjson:\n",
    "    json.dump(new_json, wjson)"
   ]
  },
  {
   "cell_type": "code",
   "execution_count": null,
   "metadata": {},
   "outputs": [],
   "source": [
    "data = load_file(\"allcountries_tagged_sents.json\")"
   ]
  },
  {
   "cell_type": "code",
   "execution_count": null,
   "metadata": {},
   "outputs": [],
   "source": [
    "dataset_map = labeled_sentences_from_dataset(data)"
   ]
  },
  {
   "cell_type": "code",
   "execution_count": null,
   "metadata": {},
   "outputs": [],
   "source": [
    "dataset_map['1']"
   ]
  },
  {
   "cell_type": "code",
   "execution_count": null,
   "metadata": {},
   "outputs": [],
   "source": [
    "dataset_labels = labels_from_dataset(data)\n",
    "dataset_labels[:10], set(dataset_labels)"
   ]
  },
  {
   "cell_type": "code",
   "execution_count": null,
   "metadata": {},
   "outputs": [],
   "source": [
    "numeric_labels = numeric_labels_from_dataset(data)\n",
    "numeric_labels[:10]"
   ]
  }
 ],
 "metadata": {
  "kernelspec": {
   "display_name": "Python 3 (ipykernel)",
   "language": "python",
   "name": "python3"
  },
  "language_info": {
   "codemirror_mode": {
    "name": "ipython",
    "version": 3
   },
   "file_extension": ".py",
   "mimetype": "text/x-python",
   "name": "python",
   "nbconvert_exporter": "python",
   "pygments_lexer": "ipython3",
   "version": "3.11.5"
  }
 },
 "nbformat": 4,
 "nbformat_minor": 4
}
