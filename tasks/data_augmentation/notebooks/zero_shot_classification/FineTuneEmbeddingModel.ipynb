{
 "cells": [
  {
   "cell_type": "markdown",
   "metadata": {},
   "source": [
    "# Note\n",
    "This notebook can be run on google colab for improved performance. The code changes necessary for running on this system are commented over the code."
   ]
  },
  {
   "cell_type": "markdown",
   "metadata": {},
   "source": [
    "## Data preprocessing"
   ]
  },
  {
   "cell_type": "code",
   "execution_count": null,
   "metadata": {},
   "outputs": [],
   "source": [
    "# ! pip install sentence_transformers==0.4.0"
   ]
  },
  {
   "cell_type": "code",
   "execution_count": null,
   "metadata": {},
   "outputs": [],
   "source": [
    "import pandas as pd\n",
    "import sys\n",
    "from sklearn.model_selection import train_test_split\n",
    "from sentence_transformers import SentencesDataset, SentenceTransformer, InputExample, losses\n",
    "from sentence_transformers.evaluation import LabelAccuracyEvaluator\n",
    "from torch import nn, Tensor\n",
    "from typing import Iterable, Dict\n",
    "from torch.utils.data import DataLoader\n",
    "import math\n",
    "\n",
    "# from google.colab import drive\n",
    "# drive.mount('/content/drive')"
   ]
  },
  {
   "cell_type": "code",
   "execution_count": null,
   "metadata": {},
   "outputs": [],
   "source": [
    "def country_labeled_sentences(excel_map):\n",
    "    result = {}\n",
    "    sent_num = 0\n",
    "    \n",
    "    for country, dataframe in excel_map.items():\n",
    "\n",
    "        new_sents_col = dataframe[\"Sentence\"].dropna()\n",
    "        new_labels_col= dataframe[\"Primary Instrument\"].dropna()\n",
    "        \n",
    "        sentences = list(new_sents_col.apply(lambda x: x.replace(\"\\n\", \"\").strip()))\n",
    "        label_col = new_labels_col.apply(lambda x: x.replace(\"(PES)\", \"\").replace(\"(Bond)\", \"\").strip())\n",
    "        labels = [[string.strip() for string in label.split(\", \")][0] for label in label_col]\n",
    "        result[country] = {}\n",
    "\n",
    "        for sent, label in zip(sentences, labels):\n",
    "            if sent_num not in result[country]:\n",
    "                result[country][sent_num] = {\"text\": sent, \"labels\": [label]}\n",
    "            else:\n",
    "                result[country][sent_num][\"text\"] = sent\n",
    "                result[country][sent_num][\"labels\"] = [label]\n",
    "            \n",
    "            sent_num += 1\n",
    "            \n",
    "    return result\n",
    "\n",
    "def merge_labels(all_labels, labels_to_merge):\n",
    "    return [f\"{labels_to_merge[0]} & {labels_to_merge[1]}\" if label in labels_to_merge else label for label in all_labels]"
   ]
  },
  {
   "cell_type": "code",
   "execution_count": null,
   "metadata": {},
   "outputs": [],
   "source": [
    "# Reading data from excel\n",
    "data_excel = pd.read_excel(\"../../input/WRI_Policy_Tags.xlsx\", engine=\"openpyxl\", sheet_name=None)\n",
    "# data_excel = pd.read_excel(\"/content/drive/MyDrive/WRI-LatinAmerica-Talent/Cristina_Policy_Files/WRI_Policy_Tags.xlsx\", engine=\"openpyxl\", sheet_name=None)"
   ]
  },
  {
   "cell_type": "code",
   "execution_count": null,
   "metadata": {},
   "outputs": [],
   "source": [
    "# Formatting the data\n",
    "all_labeled_sentences = country_labeled_sentences(data_excel)\n",
    "labeled_sents = dict()\n",
    "for sents in all_labeled_sentences.values():\n",
    "    labeled_sents.update(sents)\n",
    "\n",
    "# Fitlering out General Incentive and Unknown sentences\n",
    "filtered_sents_maps = [sent for sent in labeled_sents.values() if sent['labels'][0] not in [\"General incentive\", \"Unknown\"]]\n",
    "all_sents = [sent['text'] for sent in filtered_sents_maps]\n",
    "all_labels = [sent['labels'][0] for sent in filtered_sents_maps]\n",
    "all_labels = merge_labels(all_labels, [\"Credit\", \"Guarantee\"]) \n",
    "label_names = list(set(all_labels))\n",
    "label_names"
   ]
  },
  {
   "cell_type": "markdown",
   "metadata": {},
   "source": [
    "## Fine-tuning the embedding model on the labeled data"
   ]
  },
  {
   "cell_type": "markdown",
   "metadata": {},
   "source": [
    "### Something we can try out:\n",
    "https://www.sbert.net/examples/training/data_augmentation/README.html#extend-to-your-own-datasets\n",
    "\n",
    "### Links:\n",
    "https://github.com/UKPLab/sentence-transformers/issues/350\n",
    "\n",
    "https://omoindrot.github.io/triplet-loss"
   ]
  },
  {
   "cell_type": "markdown",
   "metadata": {},
   "source": [
    "### Possible tasks for fine-tuning:\n",
    "1) Given a pair of sentence embeddings, do they belong to the same category (binary)?\n",
    "\n",
    "2) Given a sentence and a category embedding, does the sentence belong to the category (binary)?\n",
    "\n",
    "3) Given a sentence embedding, use a classifier to predict its category (multiclass) [https://github.com/UKPLab/sentence-transformers/blob/master/examples/training/nli/training_nli.py](https://github.com/UKPLab/sentence-transformers/blob/master/examples/training/nli/training_nli.py)\n",
    "\n",
    "4) Use a triplet loss approach such that sentences (texts) that have the same labels will become close in vector space, while sentences with a different label will be further away [https://github.com/UKPLab/sentencetransformers/blob/master/examples/training/other/training_batch_hard_trec_continue_training.py](https://github.com/UKPLab/sentencetransformers/blob/master/examples/training/other/training_batch_hard_trec_continue_training.py)\n",
    "   \n",
    "#### In this notebook **task number 3** is used to fine-tune the model."
   ]
  },
  {
   "cell_type": "code",
   "execution_count": null,
   "metadata": {},
   "outputs": [],
   "source": [
    "# Train test split stratified\n",
    "X_train, X_test, y_train, y_test = train_test_split(all_sents, all_labels, test_size=0.15, stratify=all_labels, random_state=42)"
   ]
  },
  {
   "cell_type": "code",
   "execution_count": null,
   "metadata": {},
   "outputs": [],
   "source": [
    "# Define model to fine-tune\n",
    "model = SentenceTransformer('stsb-xlm-r-multilingual')\n",
    "# model = SentenceTransformer('xlm-r-100langs-bert-base-nli-stsb-mean-tokens')"
   ]
  },
  {
   "cell_type": "code",
   "execution_count": null,
   "metadata": {},
   "outputs": [],
   "source": [
    "class SoftmaxClassifier(nn.Module):\n",
    "    \"\"\"\n",
    "    This loss adds a softmax classifier on top of the output of the transformer network. \n",
    "    It takes a sentence embedding and learns a mapping between it and the corresponding category.\n",
    "    :param model: SentenceTransformer model\n",
    "    :param sentence_embedding_dimension: Dimension of your sentence embeddings\n",
    "    :param num_labels: Number of different labels\n",
    "    \"\"\"\n",
    "    def __init__(self,\n",
    "                 model: SentenceTransformer,\n",
    "                 sentence_embedding_dimension: int,\n",
    "                 num_labels: int):\n",
    "        super(SoftmaxClassifier, self).__init__()\n",
    "        self.model = model\n",
    "        self.num_labels = num_labels\n",
    "        self.classifier = nn.Linear(sentence_embedding_dimension, num_labels)\n",
    "\n",
    "    def forward(self, sentence_features: Iterable[Dict[str, Tensor]], labels: Tensor):\n",
    "        # Get batch sentence embeddings\n",
    "        features = self.model(sentence_features[0])['sentence_embedding']\n",
    "        \n",
    "        # Get batch loss\n",
    "        output = self.classifier(features)\n",
    "        loss_fct = nn.CrossEntropyLoss()\n",
    "\n",
    "        if labels is not None:\n",
    "            loss = loss_fct(output, labels.view(-1))\n",
    "            return loss\n",
    "        else:\n",
    "            return features, output"
   ]
  },
  {
   "cell_type": "code",
   "execution_count": null,
   "metadata": {},
   "outputs": [],
   "source": [
    "# Load data samples into batches\n",
    "train_batch_size = 16\n",
    "label2int = dict(zip(label_names, range(len(label_names))))\n",
    "train_samples = []\n",
    "for sent, label in zip(X_train, y_train):\n",
    "    label_id = label2int[label]\n",
    "    train_samples.append(InputExample(texts=[sent], label=label_id))\n",
    "train_dataset = SentencesDataset(train_samples, model=model)\n",
    "train_dataloader = DataLoader(train_dataset, shuffle=True, batch_size=train_batch_size)\n",
    "\n",
    "# Define the way the loss is computed\n",
    "classifier = SoftmaxClassifier(model=model, sentence_embedding_dimension=model.get_sentence_embedding_dimension(), num_labels=len(label2int))\n",
    "\n",
    "# Configure the dev set evaluator - still need to test whether this works\n",
    "dev_samples = []\n",
    "for sent, label in zip(X_test, y_test):\n",
    "    label_id = label2int[label]\n",
    "    dev_samples.append(InputExample(texts=[sent], label=label_id))\n",
    "dev_dataset = SentencesDataset(dev_samples, model=model)\n",
    "dev_dataloader = DataLoader(dev_dataset, shuffle=True, batch_size=train_batch_size)\n",
    "dev_evaluator = LabelAccuracyEvaluator(dataloader=dev_dataloader, softmax_model=classifier, name='lae-dev')"
   ]
  },
  {
   "cell_type": "code",
   "execution_count": null,
   "metadata": {},
   "outputs": [],
   "source": [
    "# Configure the training\n",
    "num_epochs = 1\n",
    "warmup_steps = math.ceil(len(train_dataset) * num_epochs / train_batch_size * 0.1)  # 10% of train data for warm-up\n",
    "model_save_path = \"../../output/FineTuning\"\n",
    "# model_save_path = \"/content/drive/MyDrive/WRI-LatinAmerica-Talent/Modeling/FineTuning\""
   ]
  },
  {
   "cell_type": "code",
   "execution_count": null,
   "metadata": {},
   "outputs": [],
   "source": [
    "# Train the model\n",
    "model.fit(train_objectives=[(train_dataloader, classifier)],\n",
    "          evaluator=dev_evaluator,\n",
    "          epochs=num_epochs,\n",
    "          evaluation_steps=1000,\n",
    "          warmup_steps=warmup_steps,\n",
    "          output_path=model_save_path\n",
    "          )"
   ]
  },
  {
   "cell_type": "code",
   "execution_count": null,
   "metadata": {},
   "outputs": [],
   "source": [
    "# Load the saved model and obtain random sentence embedding\n",
    "load_model = SentenceTransformer(model_save_path)\n",
    "load_model.encode(all_sents[0])"
   ]
  }
 ],
 "metadata": {
  "kernelspec": {
   "display_name": "Python 3 (ipykernel)",
   "language": "python",
   "name": "python3"
  },
  "language_info": {
   "codemirror_mode": {
    "name": "ipython",
    "version": 3
   },
   "file_extension": ".py",
   "mimetype": "text/x-python",
   "name": "python",
   "nbconvert_exporter": "python",
   "pygments_lexer": "ipython3",
   "version": "3.11.5"
  },
  "toc": {
   "base_numbering": 1,
   "nav_menu": {},
   "number_sections": true,
   "sideBar": true,
   "skip_h1_title": false,
   "title_cell": "Table of Contents",
   "title_sidebar": "Contents",
   "toc_cell": false,
   "toc_position": {},
   "toc_section_display": true,
   "toc_window_display": false
  }
 },
 "nbformat": 4,
 "nbformat_minor": 4
}
