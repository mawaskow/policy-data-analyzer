{
  "nbformat": 4,
  "nbformat_minor": 0,
  "metadata": {
    "accelerator": "GPU",
    "colab": {
      "name": "NewGoogleColabFineTuneEmbeddingModel.ipynb",
      "provenance": [],
      "collapsed_sections": []
    },
    "kernelspec": {
      "display_name": "Python 3",
      "language": "python",
      "name": "python3"
    },
    "language_info": {
      "codemirror_mode": {
        "name": "ipython",
        "version": 3
      },
      "file_extension": ".py",
      "mimetype": "text/x-python",
      "name": "python",
      "nbconvert_exporter": "python",
      "pygments_lexer": "ipython3",
      "version": "3.7.6"
    },
    "toc": {
      "base_numbering": 1,
      "nav_menu": {},
      "number_sections": true,
      "sideBar": true,
      "skip_h1_title": false,
      "title_cell": "Table of Contents",
      "title_sidebar": "Contents",
      "toc_cell": false,
      "toc_position": {},
      "toc_section_display": true,
      "toc_window_display": false
    },
    "widgets": {
      "application/vnd.jupyter.widget-state+json": {
        "55280efc04a94a24a4bddc9c840f4e88": {
          "model_module": "@jupyter-widgets/controls",
          "model_name": "HBoxModel",
          "state": {
            "_view_name": "HBoxView",
            "_dom_classes": [],
            "_model_name": "HBoxModel",
            "_view_module": "@jupyter-widgets/controls",
            "_model_module_version": "1.5.0",
            "_view_count": null,
            "_view_module_version": "1.5.0",
            "box_style": "",
            "layout": "IPY_MODEL_b2b38c5e725a41668667afc089aca888",
            "_model_module": "@jupyter-widgets/controls",
            "children": [
              "IPY_MODEL_0f6eb1625c3246ab8be185347f289632",
              "IPY_MODEL_86e081aec3374917a179cbaa7ef5e915"
            ]
          }
        },
        "b2b38c5e725a41668667afc089aca888": {
          "model_module": "@jupyter-widgets/base",
          "model_name": "LayoutModel",
          "state": {
            "_view_name": "LayoutView",
            "grid_template_rows": null,
            "right": null,
            "justify_content": null,
            "_view_module": "@jupyter-widgets/base",
            "overflow": null,
            "_model_module_version": "1.2.0",
            "_view_count": null,
            "flex_flow": null,
            "width": null,
            "min_width": null,
            "border": null,
            "align_items": null,
            "bottom": null,
            "_model_module": "@jupyter-widgets/base",
            "top": null,
            "grid_column": null,
            "overflow_y": null,
            "overflow_x": null,
            "grid_auto_flow": null,
            "grid_area": null,
            "grid_template_columns": null,
            "flex": null,
            "_model_name": "LayoutModel",
            "justify_items": null,
            "grid_row": null,
            "max_height": null,
            "align_content": null,
            "visibility": null,
            "align_self": null,
            "height": null,
            "min_height": null,
            "padding": null,
            "grid_auto_rows": null,
            "grid_gap": null,
            "max_width": null,
            "order": null,
            "_view_module_version": "1.2.0",
            "grid_template_areas": null,
            "object_position": null,
            "object_fit": null,
            "grid_auto_columns": null,
            "margin": null,
            "display": null,
            "left": null
          }
        },
        "0f6eb1625c3246ab8be185347f289632": {
          "model_module": "@jupyter-widgets/controls",
          "model_name": "FloatProgressModel",
          "state": {
            "_view_name": "ProgressView",
            "style": "IPY_MODEL_f25af3633ac24f00963c2a7122396f5d",
            "_dom_classes": [],
            "description": "Epoch: 100%",
            "_model_name": "FloatProgressModel",
            "bar_style": "success",
            "max": 2,
            "_view_module": "@jupyter-widgets/controls",
            "_model_module_version": "1.5.0",
            "value": 2,
            "_view_count": null,
            "_view_module_version": "1.5.0",
            "orientation": "horizontal",
            "min": 0,
            "description_tooltip": null,
            "_model_module": "@jupyter-widgets/controls",
            "layout": "IPY_MODEL_fdf8584b07d344e08496b993f69fa585"
          }
        },
        "86e081aec3374917a179cbaa7ef5e915": {
          "model_module": "@jupyter-widgets/controls",
          "model_name": "HTMLModel",
          "state": {
            "_view_name": "HTMLView",
            "style": "IPY_MODEL_917a5145f4844c22b0ddfff44fca00ba",
            "_dom_classes": [],
            "description": "",
            "_model_name": "HTMLModel",
            "placeholder": "​",
            "_view_module": "@jupyter-widgets/controls",
            "_model_module_version": "1.5.0",
            "value": " 2/2 [00:15&lt;00:00,  7.56s/it]",
            "_view_count": null,
            "_view_module_version": "1.5.0",
            "description_tooltip": null,
            "_model_module": "@jupyter-widgets/controls",
            "layout": "IPY_MODEL_3a44a79ca9364b3eb0647fbeb3200394"
          }
        },
        "f25af3633ac24f00963c2a7122396f5d": {
          "model_module": "@jupyter-widgets/controls",
          "model_name": "ProgressStyleModel",
          "state": {
            "_view_name": "StyleView",
            "_model_name": "ProgressStyleModel",
            "description_width": "initial",
            "_view_module": "@jupyter-widgets/base",
            "_model_module_version": "1.5.0",
            "_view_count": null,
            "_view_module_version": "1.2.0",
            "bar_color": null,
            "_model_module": "@jupyter-widgets/controls"
          }
        },
        "fdf8584b07d344e08496b993f69fa585": {
          "model_module": "@jupyter-widgets/base",
          "model_name": "LayoutModel",
          "state": {
            "_view_name": "LayoutView",
            "grid_template_rows": null,
            "right": null,
            "justify_content": null,
            "_view_module": "@jupyter-widgets/base",
            "overflow": null,
            "_model_module_version": "1.2.0",
            "_view_count": null,
            "flex_flow": null,
            "width": null,
            "min_width": null,
            "border": null,
            "align_items": null,
            "bottom": null,
            "_model_module": "@jupyter-widgets/base",
            "top": null,
            "grid_column": null,
            "overflow_y": null,
            "overflow_x": null,
            "grid_auto_flow": null,
            "grid_area": null,
            "grid_template_columns": null,
            "flex": null,
            "_model_name": "LayoutModel",
            "justify_items": null,
            "grid_row": null,
            "max_height": null,
            "align_content": null,
            "visibility": null,
            "align_self": null,
            "height": null,
            "min_height": null,
            "padding": null,
            "grid_auto_rows": null,
            "grid_gap": null,
            "max_width": null,
            "order": null,
            "_view_module_version": "1.2.0",
            "grid_template_areas": null,
            "object_position": null,
            "object_fit": null,
            "grid_auto_columns": null,
            "margin": null,
            "display": null,
            "left": null
          }
        },
        "917a5145f4844c22b0ddfff44fca00ba": {
          "model_module": "@jupyter-widgets/controls",
          "model_name": "DescriptionStyleModel",
          "state": {
            "_view_name": "StyleView",
            "_model_name": "DescriptionStyleModel",
            "description_width": "",
            "_view_module": "@jupyter-widgets/base",
            "_model_module_version": "1.5.0",
            "_view_count": null,
            "_view_module_version": "1.2.0",
            "_model_module": "@jupyter-widgets/controls"
          }
        },
        "3a44a79ca9364b3eb0647fbeb3200394": {
          "model_module": "@jupyter-widgets/base",
          "model_name": "LayoutModel",
          "state": {
            "_view_name": "LayoutView",
            "grid_template_rows": null,
            "right": null,
            "justify_content": null,
            "_view_module": "@jupyter-widgets/base",
            "overflow": null,
            "_model_module_version": "1.2.0",
            "_view_count": null,
            "flex_flow": null,
            "width": null,
            "min_width": null,
            "border": null,
            "align_items": null,
            "bottom": null,
            "_model_module": "@jupyter-widgets/base",
            "top": null,
            "grid_column": null,
            "overflow_y": null,
            "overflow_x": null,
            "grid_auto_flow": null,
            "grid_area": null,
            "grid_template_columns": null,
            "flex": null,
            "_model_name": "LayoutModel",
            "justify_items": null,
            "grid_row": null,
            "max_height": null,
            "align_content": null,
            "visibility": null,
            "align_self": null,
            "height": null,
            "min_height": null,
            "padding": null,
            "grid_auto_rows": null,
            "grid_gap": null,
            "max_width": null,
            "order": null,
            "_view_module_version": "1.2.0",
            "grid_template_areas": null,
            "object_position": null,
            "object_fit": null,
            "grid_auto_columns": null,
            "margin": null,
            "display": null,
            "left": null
          }
        },
        "6d40c3b0bea14d7c849d278d919ed089": {
          "model_module": "@jupyter-widgets/controls",
          "model_name": "HBoxModel",
          "state": {
            "_view_name": "HBoxView",
            "_dom_classes": [],
            "_model_name": "HBoxModel",
            "_view_module": "@jupyter-widgets/controls",
            "_model_module_version": "1.5.0",
            "_view_count": null,
            "_view_module_version": "1.5.0",
            "box_style": "",
            "layout": "IPY_MODEL_e41cf3fb5fe347f18dcad82b518e9790",
            "_model_module": "@jupyter-widgets/controls",
            "children": [
              "IPY_MODEL_941261fec5794b9cbd04b2cd8090b11d",
              "IPY_MODEL_895c778c9ee942f687b7eb3d4b3a4e23"
            ]
          }
        },
        "e41cf3fb5fe347f18dcad82b518e9790": {
          "model_module": "@jupyter-widgets/base",
          "model_name": "LayoutModel",
          "state": {
            "_view_name": "LayoutView",
            "grid_template_rows": null,
            "right": null,
            "justify_content": null,
            "_view_module": "@jupyter-widgets/base",
            "overflow": null,
            "_model_module_version": "1.2.0",
            "_view_count": null,
            "flex_flow": null,
            "width": null,
            "min_width": null,
            "border": null,
            "align_items": null,
            "bottom": null,
            "_model_module": "@jupyter-widgets/base",
            "top": null,
            "grid_column": null,
            "overflow_y": null,
            "overflow_x": null,
            "grid_auto_flow": null,
            "grid_area": null,
            "grid_template_columns": null,
            "flex": null,
            "_model_name": "LayoutModel",
            "justify_items": null,
            "grid_row": null,
            "max_height": null,
            "align_content": null,
            "visibility": null,
            "align_self": null,
            "height": null,
            "min_height": null,
            "padding": null,
            "grid_auto_rows": null,
            "grid_gap": null,
            "max_width": null,
            "order": null,
            "_view_module_version": "1.2.0",
            "grid_template_areas": null,
            "object_position": null,
            "object_fit": null,
            "grid_auto_columns": null,
            "margin": null,
            "display": null,
            "left": null
          }
        },
        "941261fec5794b9cbd04b2cd8090b11d": {
          "model_module": "@jupyter-widgets/controls",
          "model_name": "FloatProgressModel",
          "state": {
            "_view_name": "ProgressView",
            "style": "IPY_MODEL_b86aeef84d5f491389e4c8942a9f6bd8",
            "_dom_classes": [],
            "description": "Iteration: 100%",
            "_model_name": "FloatProgressModel",
            "bar_style": "success",
            "max": 29,
            "_view_module": "@jupyter-widgets/controls",
            "_model_module_version": "1.5.0",
            "value": 29,
            "_view_count": null,
            "_view_module_version": "1.5.0",
            "orientation": "horizontal",
            "min": 0,
            "description_tooltip": null,
            "_model_module": "@jupyter-widgets/controls",
            "layout": "IPY_MODEL_d4694b44fd944edea40a4a92c507a894"
          }
        },
        "895c778c9ee942f687b7eb3d4b3a4e23": {
          "model_module": "@jupyter-widgets/controls",
          "model_name": "HTMLModel",
          "state": {
            "_view_name": "HTMLView",
            "style": "IPY_MODEL_c88bd81f41d64f0b968e8f0399139400",
            "_dom_classes": [],
            "description": "",
            "_model_name": "HTMLModel",
            "placeholder": "​",
            "_view_module": "@jupyter-widgets/controls",
            "_model_module_version": "1.5.0",
            "value": " 29/29 [00:07&lt;00:00,  4.00it/s]",
            "_view_count": null,
            "_view_module_version": "1.5.0",
            "description_tooltip": null,
            "_model_module": "@jupyter-widgets/controls",
            "layout": "IPY_MODEL_ca11f6e2c0744b9186caa7657ff19194"
          }
        },
        "b86aeef84d5f491389e4c8942a9f6bd8": {
          "model_module": "@jupyter-widgets/controls",
          "model_name": "ProgressStyleModel",
          "state": {
            "_view_name": "StyleView",
            "_model_name": "ProgressStyleModel",
            "description_width": "initial",
            "_view_module": "@jupyter-widgets/base",
            "_model_module_version": "1.5.0",
            "_view_count": null,
            "_view_module_version": "1.2.0",
            "bar_color": null,
            "_model_module": "@jupyter-widgets/controls"
          }
        },
        "d4694b44fd944edea40a4a92c507a894": {
          "model_module": "@jupyter-widgets/base",
          "model_name": "LayoutModel",
          "state": {
            "_view_name": "LayoutView",
            "grid_template_rows": null,
            "right": null,
            "justify_content": null,
            "_view_module": "@jupyter-widgets/base",
            "overflow": null,
            "_model_module_version": "1.2.0",
            "_view_count": null,
            "flex_flow": null,
            "width": null,
            "min_width": null,
            "border": null,
            "align_items": null,
            "bottom": null,
            "_model_module": "@jupyter-widgets/base",
            "top": null,
            "grid_column": null,
            "overflow_y": null,
            "overflow_x": null,
            "grid_auto_flow": null,
            "grid_area": null,
            "grid_template_columns": null,
            "flex": null,
            "_model_name": "LayoutModel",
            "justify_items": null,
            "grid_row": null,
            "max_height": null,
            "align_content": null,
            "visibility": null,
            "align_self": null,
            "height": null,
            "min_height": null,
            "padding": null,
            "grid_auto_rows": null,
            "grid_gap": null,
            "max_width": null,
            "order": null,
            "_view_module_version": "1.2.0",
            "grid_template_areas": null,
            "object_position": null,
            "object_fit": null,
            "grid_auto_columns": null,
            "margin": null,
            "display": null,
            "left": null
          }
        },
        "c88bd81f41d64f0b968e8f0399139400": {
          "model_module": "@jupyter-widgets/controls",
          "model_name": "DescriptionStyleModel",
          "state": {
            "_view_name": "StyleView",
            "_model_name": "DescriptionStyleModel",
            "description_width": "",
            "_view_module": "@jupyter-widgets/base",
            "_model_module_version": "1.5.0",
            "_view_count": null,
            "_view_module_version": "1.2.0",
            "_model_module": "@jupyter-widgets/controls"
          }
        },
        "ca11f6e2c0744b9186caa7657ff19194": {
          "model_module": "@jupyter-widgets/base",
          "model_name": "LayoutModel",
          "state": {
            "_view_name": "LayoutView",
            "grid_template_rows": null,
            "right": null,
            "justify_content": null,
            "_view_module": "@jupyter-widgets/base",
            "overflow": null,
            "_model_module_version": "1.2.0",
            "_view_count": null,
            "flex_flow": null,
            "width": null,
            "min_width": null,
            "border": null,
            "align_items": null,
            "bottom": null,
            "_model_module": "@jupyter-widgets/base",
            "top": null,
            "grid_column": null,
            "overflow_y": null,
            "overflow_x": null,
            "grid_auto_flow": null,
            "grid_area": null,
            "grid_template_columns": null,
            "flex": null,
            "_model_name": "LayoutModel",
            "justify_items": null,
            "grid_row": null,
            "max_height": null,
            "align_content": null,
            "visibility": null,
            "align_self": null,
            "height": null,
            "min_height": null,
            "padding": null,
            "grid_auto_rows": null,
            "grid_gap": null,
            "max_width": null,
            "order": null,
            "_view_module_version": "1.2.0",
            "grid_template_areas": null,
            "object_position": null,
            "object_fit": null,
            "grid_auto_columns": null,
            "margin": null,
            "display": null,
            "left": null
          }
        },
        "5c11416d56f645fe933fda03377caf21": {
          "model_module": "@jupyter-widgets/controls",
          "model_name": "HBoxModel",
          "state": {
            "_view_name": "HBoxView",
            "_dom_classes": [],
            "_model_name": "HBoxModel",
            "_view_module": "@jupyter-widgets/controls",
            "_model_module_version": "1.5.0",
            "_view_count": null,
            "_view_module_version": "1.5.0",
            "box_style": "",
            "layout": "IPY_MODEL_4c56c72470a941e99abc9116b538c3c3",
            "_model_module": "@jupyter-widgets/controls",
            "children": [
              "IPY_MODEL_01233331186b4c84bf09ecd79f5a5a43",
              "IPY_MODEL_13804d275381409da93f4dac84de3075"
            ]
          }
        },
        "4c56c72470a941e99abc9116b538c3c3": {
          "model_module": "@jupyter-widgets/base",
          "model_name": "LayoutModel",
          "state": {
            "_view_name": "LayoutView",
            "grid_template_rows": null,
            "right": null,
            "justify_content": null,
            "_view_module": "@jupyter-widgets/base",
            "overflow": null,
            "_model_module_version": "1.2.0",
            "_view_count": null,
            "flex_flow": null,
            "width": null,
            "min_width": null,
            "border": null,
            "align_items": null,
            "bottom": null,
            "_model_module": "@jupyter-widgets/base",
            "top": null,
            "grid_column": null,
            "overflow_y": null,
            "overflow_x": null,
            "grid_auto_flow": null,
            "grid_area": null,
            "grid_template_columns": null,
            "flex": null,
            "_model_name": "LayoutModel",
            "justify_items": null,
            "grid_row": null,
            "max_height": null,
            "align_content": null,
            "visibility": null,
            "align_self": null,
            "height": null,
            "min_height": null,
            "padding": null,
            "grid_auto_rows": null,
            "grid_gap": null,
            "max_width": null,
            "order": null,
            "_view_module_version": "1.2.0",
            "grid_template_areas": null,
            "object_position": null,
            "object_fit": null,
            "grid_auto_columns": null,
            "margin": null,
            "display": null,
            "left": null
          }
        },
        "01233331186b4c84bf09ecd79f5a5a43": {
          "model_module": "@jupyter-widgets/controls",
          "model_name": "FloatProgressModel",
          "state": {
            "_view_name": "ProgressView",
            "style": "IPY_MODEL_94f6208ba64244a59e9316381a35d09c",
            "_dom_classes": [],
            "description": "Iteration: 100%",
            "_model_name": "FloatProgressModel",
            "bar_style": "success",
            "max": 29,
            "_view_module": "@jupyter-widgets/controls",
            "_model_module_version": "1.5.0",
            "value": 29,
            "_view_count": null,
            "_view_module_version": "1.5.0",
            "orientation": "horizontal",
            "min": 0,
            "description_tooltip": null,
            "_model_module": "@jupyter-widgets/controls",
            "layout": "IPY_MODEL_93655fb10caf4d4f80bca990f0239347"
          }
        },
        "13804d275381409da93f4dac84de3075": {
          "model_module": "@jupyter-widgets/controls",
          "model_name": "HTMLModel",
          "state": {
            "_view_name": "HTMLView",
            "style": "IPY_MODEL_4346ae6f36194cba839d1bffe1043747",
            "_dom_classes": [],
            "description": "",
            "_model_name": "HTMLModel",
            "placeholder": "​",
            "_view_module": "@jupyter-widgets/controls",
            "_model_module_version": "1.5.0",
            "value": " 29/29 [00:27&lt;00:00,  1.06it/s]",
            "_view_count": null,
            "_view_module_version": "1.5.0",
            "description_tooltip": null,
            "_model_module": "@jupyter-widgets/controls",
            "layout": "IPY_MODEL_ae232b7f8294492da6fd3b5537e0d50f"
          }
        },
        "94f6208ba64244a59e9316381a35d09c": {
          "model_module": "@jupyter-widgets/controls",
          "model_name": "ProgressStyleModel",
          "state": {
            "_view_name": "StyleView",
            "_model_name": "ProgressStyleModel",
            "description_width": "initial",
            "_view_module": "@jupyter-widgets/base",
            "_model_module_version": "1.5.0",
            "_view_count": null,
            "_view_module_version": "1.2.0",
            "bar_color": null,
            "_model_module": "@jupyter-widgets/controls"
          }
        },
        "93655fb10caf4d4f80bca990f0239347": {
          "model_module": "@jupyter-widgets/base",
          "model_name": "LayoutModel",
          "state": {
            "_view_name": "LayoutView",
            "grid_template_rows": null,
            "right": null,
            "justify_content": null,
            "_view_module": "@jupyter-widgets/base",
            "overflow": null,
            "_model_module_version": "1.2.0",
            "_view_count": null,
            "flex_flow": null,
            "width": null,
            "min_width": null,
            "border": null,
            "align_items": null,
            "bottom": null,
            "_model_module": "@jupyter-widgets/base",
            "top": null,
            "grid_column": null,
            "overflow_y": null,
            "overflow_x": null,
            "grid_auto_flow": null,
            "grid_area": null,
            "grid_template_columns": null,
            "flex": null,
            "_model_name": "LayoutModel",
            "justify_items": null,
            "grid_row": null,
            "max_height": null,
            "align_content": null,
            "visibility": null,
            "align_self": null,
            "height": null,
            "min_height": null,
            "padding": null,
            "grid_auto_rows": null,
            "grid_gap": null,
            "max_width": null,
            "order": null,
            "_view_module_version": "1.2.0",
            "grid_template_areas": null,
            "object_position": null,
            "object_fit": null,
            "grid_auto_columns": null,
            "margin": null,
            "display": null,
            "left": null
          }
        },
        "4346ae6f36194cba839d1bffe1043747": {
          "model_module": "@jupyter-widgets/controls",
          "model_name": "DescriptionStyleModel",
          "state": {
            "_view_name": "StyleView",
            "_model_name": "DescriptionStyleModel",
            "description_width": "",
            "_view_module": "@jupyter-widgets/base",
            "_model_module_version": "1.5.0",
            "_view_count": null,
            "_view_module_version": "1.2.0",
            "_model_module": "@jupyter-widgets/controls"
          }
        },
        "ae232b7f8294492da6fd3b5537e0d50f": {
          "model_module": "@jupyter-widgets/base",
          "model_name": "LayoutModel",
          "state": {
            "_view_name": "LayoutView",
            "grid_template_rows": null,
            "right": null,
            "justify_content": null,
            "_view_module": "@jupyter-widgets/base",
            "overflow": null,
            "_model_module_version": "1.2.0",
            "_view_count": null,
            "flex_flow": null,
            "width": null,
            "min_width": null,
            "border": null,
            "align_items": null,
            "bottom": null,
            "_model_module": "@jupyter-widgets/base",
            "top": null,
            "grid_column": null,
            "overflow_y": null,
            "overflow_x": null,
            "grid_auto_flow": null,
            "grid_area": null,
            "grid_template_columns": null,
            "flex": null,
            "_model_name": "LayoutModel",
            "justify_items": null,
            "grid_row": null,
            "max_height": null,
            "align_content": null,
            "visibility": null,
            "align_self": null,
            "height": null,
            "min_height": null,
            "padding": null,
            "grid_auto_rows": null,
            "grid_gap": null,
            "max_width": null,
            "order": null,
            "_view_module_version": "1.2.0",
            "grid_template_areas": null,
            "object_position": null,
            "object_fit": null,
            "grid_auto_columns": null,
            "margin": null,
            "display": null,
            "left": null
          }
        }
      }
    }
  },
  "cells": [
    {
      "cell_type": "markdown",
      "metadata": {
        "id": "NJAJohxxOGlc"
      },
      "source": [
        "# Fine tuning S-BERT\n",
        "\n",
        "This notebook contains the code to fine-tune S-BERT both for binary and multiclass classification.\n"
      ]
    },
    {
      "cell_type": "code",
      "metadata": {
        "id": "Ml7Gd4VgxW1d"
      },
      "source": [
        "! pip install \\\n",
        "  scprep\\\n",
        "  spacy==2.3.2 \\\n",
        "  sentence_transformers==0.4.0 \\\n",
        "  phate==1.0.4 && \\\n",
        "  python -m spacy download es_core_news_lg"
      ],
      "execution_count": null,
      "outputs": []
    },
    {
      "cell_type": "markdown",
      "metadata": {
        "id": "iH3dg-EV3JMY"
      },
      "source": [
        "<span style=\"color:red\"><strong>WARNING!</strong></span> Once you installed the packages in the previous cell you must restart your runtime and then import the library and load the model"
      ]
    },
    {
      "cell_type": "code",
      "metadata": {
        "colab": {
          "base_uri": "https://localhost:8080/"
        },
        "id": "i1eWkGLcx_yi",
        "outputId": "35901350-c9cf-471d-8628-167f25ce6d36"
      },
      "source": [
        "import spacy\n",
        "if spacy.prefer_gpu():\n",
        "    print(\"Using the GPU\")\n",
        "else:\n",
        "    print(\"Using the CPU\")\n",
        "es_nlp = spacy.load('es_core_news_lg')"
      ],
      "execution_count": 1,
      "outputs": [
        {
          "output_type": "stream",
          "text": [
            "Using the GPU\n"
          ],
          "name": "stdout"
        }
      ]
    },
    {
      "cell_type": "markdown",
      "metadata": {
        "id": "EFkH4jX4MMZX"
      },
      "source": [
        "For development work, in case you want to update the files in your GitHub branch by rerunning the clone, you first have to empty the folder."
      ]
    },
    {
      "cell_type": "code",
      "metadata": {
        "id": "TVeFAuzRLxy8"
      },
      "source": [
        "!rm -rf policy-data-analyzer/"
      ],
      "execution_count": 2,
      "outputs": []
    },
    {
      "cell_type": "code",
      "metadata": {
        "id": "ykyZ81KN7tfr",
        "outputId": "89728a70-5b22-4fd3-f844-165dfd381d5b",
        "colab": {
          "base_uri": "https://localhost:8080/"
        }
      },
      "source": [
        "# Define branch to clone\n",
        "! branch_name='master' && \\\n",
        "  git clone --branch $branch_name https://github.com/wri-dssg/policy-data-analyzer.git"
      ],
      "execution_count": 3,
      "outputs": [
        {
          "output_type": "stream",
          "text": [
            "Cloning into 'policy-data-analyzer'...\n",
            "remote: Enumerating objects: 713, done.\u001b[K\n",
            "remote: Counting objects: 100% (713/713), done.\u001b[K\n",
            "remote: Compressing objects: 100% (538/538), done.\u001b[K\n",
            "remote: Total 3633 (delta 343), reused 517 (delta 173), pack-reused 2920\u001b[K\n",
            "Receiving objects: 100% (3633/3633), 168.42 MiB | 28.04 MiB/s, done.\n",
            "Resolving deltas: 100% (1891/1891), done.\n",
            "Checking out files: 100% (865/865), done.\n"
          ],
          "name": "stdout"
        }
      ]
    },
    {
      "cell_type": "code",
      "metadata": {
        "colab": {
          "base_uri": "https://localhost:8080/"
        },
        "id": "R4UNMkgIvDXl",
        "outputId": "7b084761-c809-4676-d64d-2281253b71df"
      },
      "source": [
        "import pandas as pd\n",
        "import sys\n",
        "import os\n",
        "import csv\n",
        "from sklearn.model_selection import train_test_split\n",
        "from lightgbm import LGBMClassifier\n",
        "from sklearn import svm\n",
        "from sklearn.metrics import classification_report\n",
        "from sklearn.ensemble import RandomForestClassifier\n",
        "from sentence_transformers import SentencesDataset, SentenceTransformer, InputExample, losses\n",
        "from sentence_transformers.evaluation import LabelAccuracyEvaluator\n",
        "from torch import nn, Tensor\n",
        "from typing import Iterable, Dict\n",
        "from torch.utils.data import DataLoader\n",
        "import math\n",
        "import time\n",
        "import cupy as cp\n",
        "import json\n",
        "\n",
        "# os.chdir(\"policy-data-analyzer\") #If you run this cell more than once, comment out this line because you are ready in this folder and you will get an error\n",
        "from tasks.data_loading.src.utils import *\n",
        "from tasks.data_augmentation.src.zero_shot_classification.latent_embeddings_classifier import *\n",
        "from tasks.data_augmentation.src.zero_shot_classification.fine_tuning_sbert import *\n",
        "from tasks.model_evaluation.src.model_evaluator import *\n",
        "from tasks.data_visualization.src.plotting import *\n",
        "\n",
        "from google.colab import drive\n",
        "drive.mount('/content/drive')"
      ],
      "execution_count": 6,
      "outputs": [
        {
          "output_type": "stream",
          "text": [
            "Using the GPU\n",
            "Mounted at /content/drive\n"
          ],
          "name": "stdout"
        }
      ]
    },
    {
      "cell_type": "markdown",
      "metadata": {
        "id": "ot37jC2mxuGK"
      },
      "source": [
        "## Run fine tuning experiments"
      ]
    },
    {
      "cell_type": "markdown",
      "metadata": {
        "id": "AlL8L6HzjeWr"
      },
      "source": [
        "### Data Loading"
      ]
    },
    {
      "cell_type": "code",
      "metadata": {
        "colab": {
          "base_uri": "https://localhost:8080/",
          "height": 511
        },
        "id": "vBSx5aHAh4OF",
        "outputId": "c541947d-87b3-436c-c379-f892e18bf5cd"
      },
      "source": [
        "experiment = \"EXP30\"\n",
        "classifier = \"Binary\"\n",
        "\n",
        "# This first one is the one used by David and Daniel\n",
        "base_path = \"/content/drive/MyDrive/WRI-LatinAmerica-Talent\"\n",
        "\n",
        "# This one is the one used by Jordi\n",
        "# base_path = \"/content/drive/MyDrive/Official Folder of WRI Latin America Project/WRI-LatinAmerica-Talent\"\n",
        "\n",
        "data_path = f\"{base_path}/Cristina_Policy_Files/Tagged_sentence_lists/datasets/{classifier}/\"\n",
        "results_save_path = f\"{base_path}/Modeling/{classifier}ClassificationExperiments/TESTS/{experiment}\"\n",
        "\n",
        "if not os.path.exists(results_save_path):\n",
        "    os.makedirs(results_save_path)\n",
        "  \n",
        "train_sents, train_labels, test_sents, test_labels = load_dataset(data_path, experiment)\n",
        "label_names = unique_labels(train_labels)\n",
        "numeric_train_labels = labels2numeric(train_labels, label_names)\n",
        "plot_data_distribution(numeric_train_labels, label_names)\n",
        "print(\"Train Sentence:\", train_sents[2], \"\\nTrain Label:\", train_labels[2])\n",
        "print(\"Test Sentence:\", test_sents[2], \"\\nTest Label:\", test_labels[2])"
      ],
      "execution_count": 8,
      "outputs": [
        {
          "output_type": "display_data",
          "data": {
            "image/png": "[encoded data removed]",
            "text/plain": [
              "<Figure size 432x288 with 1 Axes>"
            ]
          },
          "metadata": {
            "tags": [],
            "needs_background": "light"
          }
        },
        {
          "output_type": "stream",
          "text": [
            "Label counts:\n",
            "{'not_Incentive': 0.19183168316831684, 'Incentive': 0.8081683168316832}\n",
            "Train Sentence: Será competencia del Órgano Ejecutivo en el Ramo de Hacienda, según sea el caso, ejercer la vigilancia y control del régimen fiscal de las actividades incentivadas.\n",
            " \n",
            "Train Label: Incentive\n",
            "Test Sentence: Los incentivos serán pagados por el Ministerio de Finanzas Públicas a las personas señaladas en el artículo 8 de esta Ley, contra la presentación del certificado emitido por el Instituto Nacional de Bosques –INAB-, que indique el cumplimiento del plan de manejo aprobado.\n",
            " \n",
            "Test Label: Incentive\n"
          ],
          "name": "stdout"
        }
      ]
    },
    {
      "cell_type": "markdown",
      "metadata": {
        "id": "yaIYp4FejuMC"
      },
      "source": [
        "### Define evaluation classifier (optional)\n",
        "If using a sklearn or other non-SBERT model as a classifier for evaluation, uncomment one of these models (or add your own and name it `clf`)"
      ]
    },
    {
      "cell_type": "code",
      "metadata": {
        "id": "l9ycZoZ5yU0d"
      },
      "source": [
        "# clf = LGBMClassifier(n_estimators=2000,\n",
        "#                       feature_fraction=0.06,\n",
        "#                       bagging_fraction=0.67,\n",
        "#                       bagging_freq=1,\n",
        "#                       verbose=0,\n",
        "#                       n_jobs=6,\n",
        "#                       random_state=69420)\n",
        "\n",
        "# clf = svm.SVC(gamma=0.001, C=100.)\n",
        "\n",
        "# clf = RandomForestClassifier(n_estimators=500,\n",
        "#                             max_features=0.06,\n",
        "#                             n_jobs=6,\n",
        "#                             random_state=69420)"
      ],
      "execution_count": null,
      "outputs": []
    },
    {
      "cell_type": "markdown",
      "metadata": {
        "id": "VbnqVcEzuWq5"
      },
      "source": [
        "### Grid Search Fine Tuning\n",
        "\n",
        "Stores only the parameters used in the grid search, together with the results - no model is stored"
      ]
    },
    {
      "cell_type": "code",
      "metadata": {
        "id": "WLOlDtShj3gs"
      },
      "source": [
        "grid_search_params = {\n",
        "    \"all_test_perc\": [0.15],# 0.2, 0.25, 0.3],\n",
        "    \"model_names\": ['stsb-xlm-r-multilingual'],# 'paraphrase-xlm-r-multilingual-v1'], #, 'quora-distilbert-multilingual''distiluse-base-multilingual-sed-v2',\n",
        "    \"output_path\": results_save_path,\n",
        "    \"experiment\": experiment,\n",
        "    # If you want to train for a set number of epochs instead of a range, set all these numbers to be equal\n",
        "    \"start_epochs\": 2, \n",
        "    \"epochs_increment\": 2,\n",
        "    \"max_num_epochs\": 2\n",
        "}"
      ],
      "execution_count": null,
      "outputs": []
    },
    {
      "cell_type": "code",
      "metadata": {
        "id": "jWmPbwmhP_cZ",
        "colab": {
          "base_uri": "https://localhost:8080/",
          "height": 1000,
          "referenced_widgets": [
            "55280efc04a94a24a4bddc9c840f4e88",
            "b2b38c5e725a41668667afc089aca888",
            "0f6eb1625c3246ab8be185347f289632",
            "86e081aec3374917a179cbaa7ef5e915",
            "f25af3633ac24f00963c2a7122396f5d",
            "fdf8584b07d344e08496b993f69fa585",
            "917a5145f4844c22b0ddfff44fca00ba",
            "3a44a79ca9364b3eb0647fbeb3200394",
            "6d40c3b0bea14d7c849d278d919ed089",
            "e41cf3fb5fe347f18dcad82b518e9790",
            "941261fec5794b9cbd04b2cd8090b11d",
            "895c778c9ee942f687b7eb3d4b3a4e23",
            "b86aeef84d5f491389e4c8942a9f6bd8",
            "d4694b44fd944edea40a4a92c507a894",
            "c88bd81f41d64f0b968e8f0399139400",
            "ca11f6e2c0744b9186caa7657ff19194",
            "5c11416d56f645fe933fda03377caf21",
            "4c56c72470a941e99abc9116b538c3c3",
            "01233331186b4c84bf09ecd79f5a5a43",
            "13804d275381409da93f4dac84de3075",
            "94f6208ba64244a59e9316381a35d09c",
            "93655fb10caf4d4f80bca990f0239347",
            "4346ae6f36194cba839d1bffe1043747",
            "ae232b7f8294492da6fd3b5537e0d50f"
          ]
        },
        "outputId": "12355c39-6fd3-4788-bcd8-be347d821ee9"
      },
      "source": [
        "grid_search_fine_tune_sbert(grid_search_params, train_sents, train_labels, test_sents, test_labels, label_names)"
      ],
      "execution_count": null,
      "outputs": [
        {
          "output_type": "stream",
          "text": [
            "Grid Search Fine tuning parameters:\n",
            " {\n",
            "    \"all_test_perc\": [\n",
            "        0.15\n",
            "    ],\n",
            "    \"model_names\": [\n",
            "        \"stsb-xlm-r-multilingual\"\n",
            "    ],\n",
            "    \"output_path\": \"/content/drive/MyDrive/WRI-LatinAmerica-Talent/Modeling/MulticlassClassificationExperiments/TESTS/EXP17\",\n",
            "    \"experiment\": \"EXP17\",\n",
            "    \"start_epochs\": 2,\n",
            "    \"epochs_increment\": 2,\n",
            "    \"max_num_epochs\": 2,\n",
            "    \"eval_classifier\": \"NoneType\"\n",
            "}\n"
          ],
          "name": "stdout"
        },
        {
          "output_type": "display_data",
          "data": {
            "application/vnd.jupyter.widget-view+json": {
              "model_id": "55280efc04a94a24a4bddc9c840f4e88",
              "version_minor": 0,
              "version_major": 2
            },
            "text/plain": [
              "HBox(children=(FloatProgress(value=0.0, description='Epoch', max=2.0, style=ProgressStyle(description_width='i…"
            ]
          },
          "metadata": {
            "tags": []
          }
        },
        {
          "output_type": "display_data",
          "data": {
            "application/vnd.jupyter.widget-view+json": {
              "model_id": "6d40c3b0bea14d7c849d278d919ed089",
              "version_minor": 0,
              "version_major": 2
            },
            "text/plain": [
              "HBox(children=(FloatProgress(value=0.0, description='Iteration', max=29.0, style=ProgressStyle(description_wid…"
            ]
          },
          "metadata": {
            "tags": []
          }
        },
        {
          "output_type": "stream",
          "text": [
            "\n",
            "Evaluating:   0%|          | 0/6 [00:00<?, ?it/s]\u001b[A\n",
            "Evaluating:  33%|███▎      | 2/6 [00:00<00:00, 16.10it/s]\u001b[A"
          ],
          "name": "stderr"
        },
        {
          "output_type": "stream",
          "text": [
            "\n"
          ],
          "name": "stdout"
        },
        {
          "output_type": "stream",
          "text": [
            "\n",
            "Evaluating:  67%|██████▋   | 4/6 [00:00<00:00, 14.92it/s]\u001b[A\n",
            "Evaluating: 100%|██████████| 6/6 [00:00<00:00, 15.44it/s]\n"
          ],
          "name": "stderr"
        },
        {
          "output_type": "display_data",
          "data": {
            "application/vnd.jupyter.widget-view+json": {
              "model_id": "5c11416d56f645fe933fda03377caf21",
              "version_minor": 0,
              "version_major": 2
            },
            "text/plain": [
              "HBox(children=(FloatProgress(value=0.0, description='Iteration', max=29.0, style=ProgressStyle(description_wid…"
            ]
          },
          "metadata": {
            "tags": []
          }
        },
        {
          "output_type": "stream",
          "text": [
            "\n",
            "Evaluating:   0%|          | 0/6 [00:00<?, ?it/s]\u001b[A\n",
            "Evaluating:  33%|███▎      | 2/6 [00:00<00:00, 13.95it/s]\u001b[A"
          ],
          "name": "stderr"
        },
        {
          "output_type": "stream",
          "text": [
            "\n"
          ],
          "name": "stdout"
        },
        {
          "output_type": "stream",
          "text": [
            "\n",
            "Evaluating:  67%|██████▋   | 4/6 [00:00<00:00, 14.39it/s]\u001b[A\n",
            "Evaluating: 100%|██████████| 6/6 [00:00<00:00, 15.93it/s]\n"
          ],
          "name": "stderr"
        },
        {
          "output_type": "stream",
          "text": [
            "\n",
            "Time taken for fine-tuning: 00:00:15.14\n",
            "Classifying sentences...\n"
          ],
          "name": "stdout"
        },
        {
          "output_type": "stream",
          "text": [
            "100%|██████████| 134/134 [00:05<00:00, 25.17it/s]\n"
          ],
          "name": "stderr"
        },
        {
          "output_type": "stream",
          "text": [
            "[t-SNE] Computing 133 nearest neighbors...\n",
            "[t-SNE] Indexed 134 samples in 0.002s...\n",
            "[t-SNE] Computed neighbors for 134 samples in 0.006s...\n",
            "[t-SNE] Computed conditional probabilities for sample 134 / 134\n",
            "[t-SNE] Mean sigma: 20.454431\n",
            "[t-SNE] KL divergence after 250 iterations with early exaggeration: 55.593891\n",
            "[t-SNE] KL divergence after 750 iterations: 0.210078\n"
          ],
          "name": "stdout"
        },
        {
          "output_type": "stream",
          "text": [
            "100%|██████████| 134/134 [00:00<00:00, 1644.77it/s]\n"
          ],
          "name": "stderr"
        },
        {
          "output_type": "stream",
          "text": [
            "Evaluating predictions...\n",
            "Stored confusion matrix: /content/drive/MyDrive/WRI-LatinAmerica-Talent/Modeling/MulticlassClassificationExperiments/TESTS/EXP17/NoneType_model=stsb-xlm-r-multilingual_test-perc=0.15_n-epoch=2_cm.png\n"
          ],
          "name": "stdout"
        },
        {
          "output_type": "display_data",
          "data": {
            "image/png": "[encoded data removed]",
            "text/plain": [
              "<Figure size 1728x288 with 2 Axes>"
            ]
          },
          "metadata": {
            "tags": [],
            "needs_background": "light"
          }
        },
        {
          "output_type": "display_data",
          "data": {
            "image/png": "[encoded data removed]",
            "text/plain": [
              "<Figure size 576x432 with 2 Axes>"
            ]
          },
          "metadata": {
            "tags": [],
            "needs_background": "light"
          }
        },
        {
          "output_type": "stream",
          "text": [
            "Macro/Weighted Avg F1-score: [0.5039263062518876, 0.5310994108286715]\n"
          ],
          "name": "stdout"
        }
      ]
    },
    {
      "cell_type": "markdown",
      "metadata": {
        "id": "m22EUP0uuaP0"
      },
      "source": [
        "### Fine tuning with set parameters \n",
        "\n",
        "If you already know which configuration you want to fine tune SBERT on, and want to store the model, run these cells\n"
      ]
    },
    {
      "cell_type": "code",
      "metadata": {
        "id": "Rf23hSr5RdYt"
      },
      "source": [
        "fine_tuning_params = {\n",
        "    \"test_perc\": 0.25,\n",
        "    \"model_names\": 'paraphrase-xlm-r-multilingual-v1',\n",
        "    \"output_path\": results_save_path,\n",
        "    \"experiment\": experiment,\n",
        "    \"num_epochs\": 2\n",
        "}"
      ],
      "execution_count": 9,
      "outputs": []
    },
    {
      "cell_type": "code",
      "metadata": {
        "id": "fVnPsq3FQLpw"
      },
      "source": [
        "fine_tune_sbert(fine_tuning_params, train_sents, train_labels, test_sents, test_labels, label_names)"
      ],
      "execution_count": null,
      "outputs": []
    },
    {
      "cell_type": "markdown",
      "metadata": {
        "id": "8KxOPUcovDXu"
      },
      "source": [
        "## Initial ideas"
      ]
    },
    {
      "cell_type": "markdown",
      "metadata": {
        "id": "GNovqbS4pyqD"
      },
      "source": [
        "### Something we can try out:\n",
        "https://www.sbert.net/examples/training/data_augmentation/README.html#extend-to-your-own-datasets\n",
        "\n",
        "### Links:\n",
        "https://github.com/UKPLab/sentence-transformers/issues/350\n",
        "\n",
        "https://omoindrot.github.io/triplet-loss\n",
        "\n",
        "\n",
        "### Possible tasks for fine-tuning:\n",
        "1) Given a pair of sentence embeddings, do they belong to the same category (binary)?\n",
        "\n",
        "2) Given a sentence and a category embedding, does the sentence belong to the category (binary)?\n",
        "\n",
        "3) Given a sentence embedding, use a classifier to predict its category (multiclass) [https://github.com/UKPLab/sentence-transformers/blob/master/examples/training/nli/training_nli.py](https://github.com/UKPLab/sentence-transformers/blob/master/examples/training/nli/training_nli.py)\n",
        "\n",
        "4) Use a triplet loss approach such that sentences (texts) that have the same labels will become close in vector space, while sentences with a different label will be further away [https://github.com/UKPLab/sentencetransformers/blob/master/examples/training/other/training_batch_hard_trec_continue_training.py](https://github.com/UKPLab/sentencetransformers/blob/master/examples/training/other/training_batch_hard_trec_continue_training.py)\n",
        "   \n",
        "#### In this notebook **task number 3** is used to fine-tune the model."
      ]
    }
  ]
}