{
 "cells": [
  {
   "cell_type": "markdown",
   "metadata": {
    "id": "bk0XWLfMvDXU"
   },
   "source": [
    "# Note\n",
    "This notebook can be run on google colab for improved performance. The code changes necessary for running on this system are commented over the code."
   ]
  },
  {
   "cell_type": "markdown",
   "metadata": {
    "id": "edvxyOpnvDXj"
   },
   "source": [
    "## Data preprocessing"
   ]
  },
  {
   "cell_type": "code",
   "execution_count": null,
   "metadata": {
    "colab": {
     "base_uri": "https://localhost:8080/"
    },
    "executionInfo": {
     "elapsed": 126510,
     "status": "ok",
     "timestamp": 1610711750831,
     "user": {
      "displayName": "Jordi Planas",
      "photoUrl": "",
      "userId": "02408961736589621402"
     },
     "user_tz": -60
    },
    "id": "Ml7Gd4VgxW1d",
    "outputId": "3e7d084c-a430-46ef-9d9e-d39377712915"
   },
   "outputs": [],
   "source": [
    "! pip install \\\n",
    "  scprep\\\n",
    "  spacy==2.3.2 \\\n",
    "  sentence_transformers==0.4.0 \\\n",
    "  phate==1.0.4 && \\\n",
    "  python -m spacy download es_core_news_lg"
   ]
  },
  {
   "cell_type": "markdown",
   "metadata": {
    "id": "iH3dg-EV3JMY"
   },
   "source": [
    "<span style=\"color:red\"><strong>WARNING!</strong></span> Once you installed the packages in the previous cell you must restart your runtime and then import the library and load the model"
   ]
  },
  {
   "cell_type": "code",
   "execution_count": null,
   "metadata": {
    "executionInfo": {
     "elapsed": 11694,
     "status": "ok",
     "timestamp": 1610711781405,
     "user": {
      "displayName": "Jordi Planas",
      "photoUrl": "",
      "userId": "02408961736589621402"
     },
     "user_tz": -60
    },
    "id": "i1eWkGLcx_yi"
   },
   "outputs": [],
   "source": [
    "import spacy\n",
    "spacy.prefer_gpu()\n",
    "es_nlp = spacy.load('es_core_news_lg')"
   ]
  },
  {
   "cell_type": "markdown",
   "metadata": {
    "id": "EFkH4jX4MMZX"
   },
   "source": [
    "For development work, in case you want to update the files in your GitHub branch by rerunning the clone, you first have to empty the folder."
   ]
  },
  {
   "cell_type": "code",
   "execution_count": null,
   "metadata": {
    "id": "TVeFAuzRLxy8"
   },
   "outputs": [],
   "source": [
    "!rm -rf policy-data-analyzer/"
   ]
  },
  {
   "cell_type": "code",
   "execution_count": null,
   "metadata": {
    "colab": {
     "base_uri": "https://localhost:8080/"
    },
    "executionInfo": {
     "elapsed": 10254,
     "status": "ok",
     "timestamp": 1610711795202,
     "user": {
      "displayName": "Jordi Planas",
      "photoUrl": "",
      "userId": "02408961736589621402"
     },
     "user_tz": -60
    },
    "id": "ykyZ81KN7tfr",
    "outputId": "cc796173-658a-4aa6-ab61-fd9b71d97553"
   },
   "outputs": [],
   "source": [
    "# Define branch to clone\n",
    "! branch_name='#50_dfq_sbert_fine_tuning' && \\\n",
    "  git clone --branch $branch_name https://github.com/wri-dssg/policy-data-analyzer.git"
   ]
  },
  {
   "cell_type": "code",
   "execution_count": null,
   "metadata": {
    "colab": {
     "base_uri": "https://localhost:8080/"
    },
    "executionInfo": {
     "elapsed": 41326,
     "status": "ok",
     "timestamp": 1610711843409,
     "user": {
      "displayName": "Jordi Planas",
      "photoUrl": "",
      "userId": "02408961736589621402"
     },
     "user_tz": -60
    },
    "id": "R4UNMkgIvDXl",
    "outputId": "0a72b302-dabb-4904-f7f1-c1181ca42f00"
   },
   "outputs": [],
   "source": [
    "import pandas as pd\n",
    "import sys\n",
    "import os\n",
    "from sklearn.model_selection import train_test_split\n",
    "from sentence_transformers import SentencesDataset, SentenceTransformer, InputExample, losses\n",
    "from sentence_transformers.evaluation import LabelAccuracyEvaluator\n",
    "from torch import nn, Tensor\n",
    "from typing import Iterable, Dict\n",
    "from torch.utils.data import DataLoader\n",
    "import math\n",
    "import time\n",
    "import cupy as cp\n",
    "\n",
    "os.chdir(\"policy-data-analyzer\") #If you run this cell more than once, comment out this line because you are ready in this folder and you will get an error\n",
    "from tasks.data_loader.src.utils import *\n",
    "from tasks.data_augmentation.src.zero_shot_classification.latent_embeddings_classifier import *\n",
    "from tasks.evaluate_model.src.model_evaluator import *\n",
    "from tasks.data_visualization.src.plotting import *\n",
    "\n",
    "from google.colab import drive\n",
    "drive.mount('/content/drive')"
   ]
  },
  {
   "cell_type": "markdown",
   "metadata": {
    "id": "P4l8oGqlvDXs"
   },
   "source": [
    "## Fine-tuning the embedding model on the labeled data"
   ]
  },
  {
   "cell_type": "markdown",
   "metadata": {
    "id": "8KxOPUcovDXu"
   },
   "source": [
    "### Something we can try out:\n",
    "https://www.sbert.net/examples/training/data_augmentation/README.html#extend-to-your-own-datasets\n",
    "\n",
    "### Links:\n",
    "https://github.com/UKPLab/sentence-transformers/issues/350\n",
    "\n",
    "https://omoindrot.github.io/triplet-loss"
   ]
  },
  {
   "cell_type": "markdown",
   "metadata": {
    "id": "_chNEXckvDXu"
   },
   "source": [
    "### Possible tasks for fine-tuning:\n",
    "1) Given a pair of sentence embeddings, do they belong to the same category (binary)?\n",
    "\n",
    "2) Given a sentence and a category embedding, does the sentence belong to the category (binary)?\n",
    "\n",
    "3) Given a sentence embedding, use a classifier to predict its category (multiclass) [https://github.com/UKPLab/sentence-transformers/blob/master/examples/training/nli/training_nli.py](https://github.com/UKPLab/sentence-transformers/blob/master/examples/training/nli/training_nli.py)\n",
    "\n",
    "4) Use a triplet loss approach such that sentences (texts) that have the same labels will become close in vector space, while sentences with a different label will be further away [https://github.com/UKPLab/sentencetransformers/blob/master/examples/training/other/training_batch_hard_trec_continue_training.py](https://github.com/UKPLab/sentencetransformers/blob/master/examples/training/other/training_batch_hard_trec_continue_training.py)\n",
    "   \n",
    "#### In this notebook **task number 3** is used to fine-tune the model."
   ]
  },
  {
   "cell_type": "code",
   "execution_count": null,
   "metadata": {
    "id": "lEhL0mw8vDXv"
   },
   "outputs": [],
   "source": [
    "# Train test split stratified\n",
    "X_train, X_test, y_train, y_test = train_test_split(all_sents, all_labels, test_size=0.15, stratify=all_labels, random_state=42)"
   ]
  },
  {
   "cell_type": "code",
   "execution_count": null,
   "metadata": {
    "id": "swPfKIanvDXv"
   },
   "outputs": [],
   "source": [
    "# Define model to fine-tune\n",
    "model = SentenceTransformer('stsb-xlm-r-multilingual')\n",
    "# model = SentenceTransformer('xlm-r-100langs-bert-base-nli-stsb-mean-tokens')"
   ]
  },
  {
   "cell_type": "code",
   "execution_count": null,
   "metadata": {
    "id": "YZ5dP4S8vDXw"
   },
   "outputs": [],
   "source": [
    "class SoftmaxClassifier(nn.Module):\n",
    "    \"\"\"\n",
    "    This loss adds a softmax classifier on top of the output of the transformer network. \n",
    "    It takes a sentence embedding and learns a mapping between it and the corresponding category.\n",
    "    :param model: SentenceTransformer model\n",
    "    :param sentence_embedding_dimension: Dimension of your sentence embeddings\n",
    "    :param num_labels: Number of different labels\n",
    "    \"\"\"\n",
    "    def __init__(self,\n",
    "                 model: SentenceTransformer,\n",
    "                 sentence_embedding_dimension: int,\n",
    "                 num_labels: int):\n",
    "        super(SoftmaxClassifier, self).__init__()\n",
    "        self.model = model\n",
    "        self.num_labels = num_labels\n",
    "        self.classifier = nn.Linear(sentence_embedding_dimension, num_labels)\n",
    "\n",
    "    def forward(self, sentence_features: Iterable[Dict[str, Tensor]], labels: Tensor):\n",
    "        # Get batch sentence embeddings\n",
    "        features = self.model(sentence_features[0])['sentence_embedding']\n",
    "        \n",
    "        # Get batch loss\n",
    "        output = self.classifier(features)\n",
    "        loss_fct = nn.CrossEntropyLoss()\n",
    "\n",
    "        if labels is not None:\n",
    "            loss = loss_fct(output, labels.view(-1))\n",
    "            return loss\n",
    "        else:\n",
    "            return features, output"
   ]
  },
  {
   "cell_type": "code",
   "execution_count": null,
   "metadata": {
    "id": "XWsN0NMTvDXx"
   },
   "outputs": [],
   "source": [
    "# Load data samples into batches\n",
    "train_batch_size = 16\n",
    "label2int = dict(zip(label_names, range(len(label_names))))\n",
    "train_samples = []\n",
    "for sent, label in zip(X_train, y_train):\n",
    "    label_id = label2int[label]\n",
    "    train_samples.append(InputExample(texts=[sent], label=label_id))\n",
    "train_dataset = SentencesDataset(train_samples, model=model)\n",
    "train_dataloader = DataLoader(train_dataset, shuffle=True, batch_size=train_batch_size)\n",
    "\n",
    "# Define the way the loss is computed\n",
    "classifier = SoftmaxClassifier(model=model, sentence_embedding_dimension=model.get_sentence_embedding_dimension(), num_labels=len(label2int))\n",
    "\n",
    "# Configure the dev set evaluator - still need to test whether this works\n",
    "dev_samples = []\n",
    "for sent, label in zip(X_test, y_test):\n",
    "    label_id = label2int[label]\n",
    "    dev_samples.append(InputExample(texts=[sent], label=label_id))\n",
    "dev_dataset = SentencesDataset(dev_samples, model=model)\n",
    "dev_dataloader = DataLoader(dev_dataset, shuffle=True, batch_size=train_batch_size)\n",
    "dev_evaluator = LabelAccuracyEvaluator(dataloader=dev_dataloader, softmax_model=classifier, name='lae-dev')"
   ]
  },
  {
   "cell_type": "code",
   "execution_count": null,
   "metadata": {
    "id": "Wog9dImLvDXy"
   },
   "outputs": [],
   "source": [
    "# Configure the training\n",
    "num_epochs = 1\n",
    "warmup_steps = math.ceil(len(train_dataset) * num_epochs / train_batch_size * 0.1)  # 10% of train data for warm-up\n",
    "model_save_path = \"../../output/FineTuning\"\n",
    "# model_save_path = \"/content/drive/MyDrive/WRI-LatinAmerica-Talent/Modeling/FineTuning\""
   ]
  },
  {
   "cell_type": "code",
   "execution_count": null,
   "metadata": {
    "id": "awzBPX5IvDXz"
   },
   "outputs": [],
   "source": [
    "# Train the model\n",
    "model.fit(train_objectives=[(train_dataloader, classifier)],\n",
    "          evaluator=dev_evaluator,\n",
    "          epochs=num_epochs,\n",
    "          evaluation_steps=1000,\n",
    "          warmup_steps=warmup_steps,\n",
    "          output_path=model_save_path\n",
    "          )"
   ]
  },
  {
   "cell_type": "code",
   "execution_count": null,
   "metadata": {
    "id": "fVsBh96ivDX0"
   },
   "outputs": [],
   "source": [
    "# Load the saved model and obtain random sentence embedding\n",
    "load_model = SentenceTransformer(model_save_path)\n",
    "load_model.encode(all_sents[0])"
   ]
  },
  {
   "cell_type": "markdown",
   "metadata": {
    "id": "ot37jC2mxuGK"
   },
   "source": [
    "## Run fine tuning experiments"
   ]
  },
  {
   "cell_type": "code",
   "execution_count": null,
   "metadata": {
    "executionInfo": {
     "elapsed": 650,
     "status": "ok",
     "timestamp": 1610711844062,
     "user": {
      "displayName": "Jordi Planas",
      "photoUrl": "",
      "userId": "02408961736589621402"
     },
     "user_tz": -60
    },
    "id": "6WhMprt8l6PO"
   },
   "outputs": [],
   "source": [
    "class SoftmaxClassifier(nn.Module):\n",
    "    \"\"\"\n",
    "    This loss adds a softmax classifier on top of the output of the transformer network. \n",
    "    It takes a sentence embedding and learns a mapping between it and the corresponding category.\n",
    "    :param model: SentenceTransformer model\n",
    "    :param sentence_embedding_dimension: Dimension of your sentence embeddings\n",
    "    :param num_labels: Number of different labels\n",
    "    \"\"\"\n",
    "    def __init__(self,\n",
    "                 model: SentenceTransformer,\n",
    "                 sentence_embedding_dimension: int,\n",
    "                 num_labels: int):\n",
    "        super(SoftmaxClassifier, self).__init__()\n",
    "        self.model = model\n",
    "        self.num_labels = num_labels\n",
    "        self.classifier = nn.Linear(sentence_embedding_dimension, num_labels)\n",
    "\n",
    "    def forward(self, sentence_features: Iterable[Dict[str, Tensor]], labels: Tensor):\n",
    "        # Get batch sentence embeddings\n",
    "        features = self.model(sentence_features[0])['sentence_embedding']\n",
    "        \n",
    "        # Get batch loss\n",
    "        output = self.classifier(features)\n",
    "        loss_fct = nn.CrossEntropyLoss()\n",
    "\n",
    "        if labels is not None:\n",
    "            loss = loss_fct(output, labels.view(-1))\n",
    "            return loss\n",
    "        else:\n",
    "            return features, output"
   ]
  },
  {
   "cell_type": "markdown",
   "metadata": {
    "id": "86SvEGSAHRp7"
   },
   "source": [
    "<span style=\"color:red\"><strong>WARNING!</strong></span> Reading from Excel.  This path is deprecated. The two cells below should not be run from this version on"
   ]
  },
  {
   "cell_type": "code",
   "execution_count": null,
   "metadata": {
    "id": "F75W2lmqxtSX"
   },
   "outputs": [],
   "source": [
    "# Reading data from excel\n",
    "data_excel = pd.read_excel(\"/content/drive/MyDrive/WRI-LatinAmerica-Talent/Cristina_Policy_Files/WRI_Policy_Tags.xlsx\", engine=\"openpyxl\", sheet_name=None)"
   ]
  },
  {
   "cell_type": "code",
   "execution_count": null,
   "metadata": {
    "id": "dIhBjg01x3z0"
   },
   "outputs": [],
   "source": [
    "# Formatting the data\n",
    "all_labeled_sentences = country_labeled_sentences(data_excel)\n",
    "labeled_sents = dict()\n",
    "for sents in all_labeled_sentences.values():\n",
    "    labeled_sents.update(sents)\n",
    "\n",
    "# Fitlering out General Incentive and Unknown sentences\n",
    "filtered_sents_maps = [sent for sent in labeled_sents.values() if sent['labels'][0] not in [\"General incentive\", \"Unknown\", \"Other\"]]\n",
    "all_sents = [sent['text'] for sent in filtered_sents_maps]\n",
    "all_labels = [sent['labels'][0] for sent in filtered_sents_maps]\n",
    "all_labels = merge_labels(all_labels, [\"Credit\", \"Guarantee\"])\n",
    "label_names = list(set(all_labels))\n",
    "numeric_labels = labels2numeric(all_labels, label_names)\n",
    "label_names"
   ]
  },
  {
   "cell_type": "markdown",
   "metadata": {
    "id": "KHLfOdQXnUhn"
   },
   "source": [
    "Reading files from JSON"
   ]
  },
  {
   "cell_type": "code",
   "execution_count": null,
   "metadata": {
    "executionInfo": {
     "elapsed": 647,
     "status": "ok",
     "timestamp": 1610711870441,
     "user": {
      "displayName": "Jordi Planas",
      "photoUrl": "",
      "userId": "02408961736589621402"
     },
     "user_tz": -60
    },
    "id": "sSVbw0YjHibv"
   },
   "outputs": [],
   "source": [
    "# This is the dictionary used to transform policy instrument labels into numeric codes. BEWARE that we have a new category which is 0. This new category might represent unknown incentive or no incentive!!!\n",
    "policy_dict = {'Credit' : 'Credit',\n",
    " 'Direct' : 'Direct payment',\n",
    " 'Fine' : 'Fine',\n",
    " 'General' : 'Unknown', \n",
    " 'Guarantee' : 'Credit', \n",
    " 'Supplies' : 'Supplies', \n",
    " 'Tax' : 'Tax deduction', \n",
    " 'Technical' : 'Technical assistance', \n",
    " 'Unknown' : 'Unknown', \n",
    " 'Other' : 'Unknown', \n",
    " 'Nan' : 'Unknown' }\n",
    " \n",
    "Three_most_common = ['Credit', 'Direct payment', 'Fine']\n",
    "All_but_unknown = ['Credit', 'Direct payment', 'Fine', 'Supplies', 'Tax deduction', 'Technical assistance']\n",
    "All = ['Credit', 'Direct payment', 'Fine', 'Supplies', 'Tax deduction', 'Technical assistance', 'Unknown']\n",
    "\n",
    "# This is the dictionary used to transform is_incentive labels into numeric codes.\n",
    "incentive_dict = {'Incentive' : 'Incentive', \n",
    "'Disincentive' : 'Incentive', \n",
    "'Unknown' : 'not_Incentive', \n",
    "'Nan' : 'not_Incentive'}"
   ]
  },
  {
   "cell_type": "code",
   "execution_count": null,
   "metadata": {
    "executionInfo": {
     "elapsed": 2335,
     "status": "ok",
     "timestamp": 1610711882406,
     "user": {
      "displayName": "Jordi Planas",
      "photoUrl": "",
      "userId": "02408961736589621402"
     },
     "user_tz": -60
    },
    "id": "fdD2Da9fnRqb"
   },
   "outputs": [],
   "source": [
    "#THIS IS THE PREFERRED PATH\n",
    "# If the json is in the format that includes headers and other titles:\n",
    "#TODO: Adapt/choose the path according to your system configuration\n",
    "\n",
    "rater = \"Rater2\" # TODO: Change accordingly to what is the dataset you want to analyze\n",
    "\n",
    "# dataset_fname = \"C:/Users/user/Google Drive/Els_meus_documents/projectes/CompetitiveIntelligence/WRI/Notebooks/Data/Final_input_data\"\n",
    "# dataset_fname = \"/content/drive/MyDrive/WRI-LatinAmerica-Talent/Cristina_Policy_Files/Tagged_sentence_lists/Rater_3_labeled.json\"\n",
    "dataset_fname = \"/content/drive/MyDrive/Official Folder of WRI Latin America Project/WRI-LatinAmerica-Talent/Cristina_Policy_Files/Tagged_sentence_lists/{}_labeled.json\".format(rater)\n",
    "\n",
    "dataset = load_file(dataset_fname)\n",
    "dataset_map = labeled_sentences_from_dataset(dataset) # Labels AND sentences\n",
    "dataset_map_target_labels =  select_labels(dataset_map, All_but_unknown) # Adjust to the labels you want to use for your analysis. In the cell above you have three pre-defined sets.\n",
    "all_sents = sentences_from_dataset(dataset) # Just sentences\n",
    "all_labels = labels_from_dataset(dataset, \"labels\") # Just labels. Use \"labels\" if you want to retrieve policy instrument tags\n",
    "                                                    # Use \"incentive\" if you want to retrieve is_incentive tags."
   ]
  },
  {
   "cell_type": "code",
   "execution_count": null,
   "metadata": {
    "colab": {
     "base_uri": "https://localhost:8080/",
     "height": 231
    },
    "executionInfo": {
     "elapsed": 1159,
     "status": "error",
     "timestamp": 1610711598562,
     "user": {
      "displayName": "Jordi Planas",
      "photoUrl": "",
      "userId": "02408961736589621402"
     },
     "user_tz": -60
    },
    "id": "HshsYQTYDDc3",
    "outputId": "d11d1ec8-bb4e-458e-b503-e5b7deed5fed"
   },
   "outputs": [],
   "source": [
    "# # If the json is in the format where it only contains sentences and labels\n",
    "# #TODO: Adapt/choose the path according to your system configuration\n",
    "\n",
    "# rater = \"Rater2\" # TODO: Change accordingly to what is the dataset you want to analyze\n",
    "\n",
    "# dataset_fname = \"/content/drive/MyDrive/Official Folder of WRI Latin America Project/WRI-LatinAmerica-Talent/Cristina_Policy_Files/Tagged_sentence_lists/{}_labeled_sentences.json\".format(rater)\n",
    "# dataset_fname = \"/content/drive/MyDrive/WRI-LatinAmerica-Talent/Cristina_Policy_Files/Tagged_sentence_lists/Rater_3_labeled_sentences.json\"\n",
    "\n",
    "\n",
    "# dataset = load_file(dataset_fname) \n",
    "# dataset_map = labels_from_model_output(dataset) # Labels AND sentences\n",
    "# all_sents = sentences_from_model_output(dataset) # Just sentences\n",
    "# all_labels = labels_from_model_output(dataset, \"labels\") # Just labels. Use \"labels\" if you want to retrieve policy instrument tags\n",
    "#                                                     # Use \"incentive\" if you want to retrieve is_incentive tags."
   ]
  },
  {
   "cell_type": "code",
   "execution_count": null,
   "metadata": {
    "colab": {
     "base_uri": "https://localhost:8080/"
    },
    "executionInfo": {
     "elapsed": 644,
     "status": "ok",
     "timestamp": 1610711892964,
     "user": {
      "displayName": "Jordi Planas",
      "photoUrl": "",
      "userId": "02408961736589621402"
     },
     "user_tz": -60
    },
    "id": "tasMxprPDgfU",
    "outputId": "9918cb9b-c912-4834-9cbc-8b72fb4b43d1"
   },
   "outputs": [],
   "source": [
    "# The rest:\n",
    "label_names = unique_labels(all_labels)\n",
    "numeric_labels = labels2numeric(all_labels, label_names)\n",
    "label_names"
   ]
  },
  {
   "cell_type": "code",
   "execution_count": null,
   "metadata": {
    "colab": {
     "base_uri": "https://localhost:8080/",
     "height": 1000,
     "referenced_widgets": [
      "77416ef1b857412fa8672423085fd6ef",
      "8179bee0272043da88a2875621ff32fb",
      "91a50a07cd454f23915953f36246ceee",
      "9d1e224c18354831bfa64a8e351168c0",
      "0caae83d9c7141409da5854c88666975",
      "c73c1ce1249d4bc1a02c3f26993332a3",
      "8ce9a10a5aa84201951fc9c3bbd21a9d",
      "7310c5b2f5bf4533bc683f613a6045bf",
      "2c4d53ec4f48481f98417f8cbd0ab272",
      "af603f4600204e6ba06e985c2b36dd29",
      "e0d19f17e45d411b834152ecdadf481d",
      "a1034ed7832944d38c8909a5ae5e0792",
      "04a7b8b0cdd9436885cb70798c2d0dce",
      "9be6bea6302c4734b8a5677ce17ceb86",
      "8691e8ca35ee41eaa1cfaf488bba9e85",
      "8645596491e7407c96959a67997d010c",
      "1deb6dd36c2e46ac826cc02f6302d18a",
      "3f0536cf46ad45b0a9584fd39b9dbef6",
      "e42f8a4c3f364cbc9c7cd4388db535d7",
      "ba9167b6660540cfa78ec809c95f4b1d",
      "f3a4a6d2ee224bfb8b57f8be405d6c4d",
      "5fc403b9becb443584635d70a42cc5ed",
      "b13b5be85d3b4c9f82b0b463f02636ce",
      "05e466cd25cb4316b695c94515cd318f"
     ]
    },
    "executionInfo": {
     "elapsed": 96411,
     "status": "error",
     "timestamp": 1610712001170,
     "user": {
      "displayName": "Jordi Planas",
      "photoUrl": "",
      "userId": "02408961736589621402"
     },
     "user_tz": -60
    },
    "id": "l9ycZoZ5yU0d",
    "outputId": "c6c71e71-00bf-46c0-d97a-6a7be533c07d"
   },
   "outputs": [],
   "source": [
    "model_names = ['distiluse-base-multilingual-cased-v2', 'stsb-xlm-r-multilingual', 'paraphrase-xlm-r-multilingual-v1', 'quora-distilbert-multilingual']\n",
    "\n",
    "# Train test split stratified\n",
    "all_test_perc = [0.15, 0.2, 0.25, 0.3]\n",
    "\n",
    "# Output setup\n",
    "output = {}\n",
    "\n",
    "for test_perc in all_test_perc:\n",
    "  output[f\"test_perc={test_perc}\"] = {}\n",
    "  X_train, X_test, y_train, y_test = train_test_split(all_sents, all_labels, test_size=test_perc, stratify=all_labels, random_state=69420)\n",
    "\n",
    "  # Load data samples into batches\n",
    "  train_batch_size = 16\n",
    "  label2int = dict(zip(label_names, range(len(label_names))))\n",
    "  train_samples = []\n",
    "  for sent, label in zip(X_train, y_train):\n",
    "      label_id = label2int[label]\n",
    "      train_samples.append(InputExample(texts=[sent], label=label_id))\n",
    "\n",
    "  # Configure the dev set evaluator - still need to test whether this works\n",
    "  dev_samples = []\n",
    "  for sent, label in zip(X_test, y_test):\n",
    "      label_id = label2int[label]\n",
    "      dev_samples.append(InputExample(texts=[sent], label=label_id))\n",
    "  \n",
    "  for model_name in model_names:\n",
    "    # Setup\n",
    "    model_preds = []\n",
    "    model_scores = []\n",
    "    output[f\"test_perc={test_perc}\"][model_name] = []\n",
    "    \n",
    "    # Train set config\n",
    "    model = SentenceTransformer(model_name)\n",
    "    train_dataset = SentencesDataset(train_samples, model=model)\n",
    "    train_dataloader = DataLoader(train_dataset, shuffle=True, batch_size=train_batch_size)\n",
    "    \n",
    "    # Define the way the loss is computed\n",
    "    classifier = SoftmaxClassifier(model=model, sentence_embedding_dimension=model.get_sentence_embedding_dimension(), num_labels=len(label2int))\n",
    "    \n",
    "    # Dev set config\n",
    "    dev_dataset = SentencesDataset(dev_samples, model=model)\n",
    "    dev_dataloader = DataLoader(dev_dataset, shuffle=True, batch_size=train_batch_size)\n",
    "    dev_evaluator = LabelAccuracyEvaluator(dataloader=dev_dataloader, softmax_model=classifier, name='lae-dev')\n",
    "\n",
    "    # Configure the training\n",
    "    max_num_epochs = 10\n",
    "        \n",
    "    for num_epochs in range(1, max_num_epochs + 2, 2):\n",
    "        print(\"Num epochs:\", num_epochs)\n",
    "        \n",
    "        warmup_steps = math.ceil(len(train_dataset) * num_epochs / train_batch_size * 0.1)  # 10% of train data for warm-up\n",
    "        model_deets = f\"model={model_name}_test-perc={test_perc}_n-epoch={num_epochs}\"\n",
    "        model_save_path = f\"/content/drive/MyDrive/WRI-LatinAmerica-Talent/Modeling/Exp2/FineTuning_{model_deets}\"\n",
    "        \n",
    "\n",
    "        # Train the model\n",
    "        start = time.time()\n",
    "        model.fit(train_objectives=[(train_dataloader, classifier)],\n",
    "                  evaluator=dev_evaluator,\n",
    "                  epochs=2, # We always tune on an extra epoch to see the performance gain\n",
    "                  evaluation_steps=1000,\n",
    "                  warmup_steps=warmup_steps,\n",
    "                  output_path=model_save_path\n",
    "                  )\n",
    "        \n",
    "        end = time.time()\n",
    "        hours, rem = divmod(end-start, 3600)\n",
    "        minutes, seconds = divmod(rem, 60)\n",
    "        print(\"Time taken for fine-tuning:\", \"{:0>2}:{:0>2}:{:05.2f}\".format(int(hours),int(minutes),seconds))\n",
    "        \n",
    "        ### Classify sentences\n",
    "        # Projection matrix Z low-dim projection\n",
    "        print(\"Classifying sentences...\")\n",
    "        proj_matrix = cp.asnumpy(calc_proj_matrix(all_sents, 50, es_nlp, model, 0.01))\n",
    "        all_sent_embs = encode_all_sents(all_sents, model, proj_matrix)\n",
    "        all_label_embs = encode_labels(label_names, model, proj_matrix)\n",
    "        visualize_embeddings_2D(np.vstack(all_sent_embs), all_labels, tsne_perplexity=50, store_name=f\"{model_save_path}/{model_deets}\")\n",
    "        model_preds, model_scores = calc_all_cos_similarity(all_sent_embs, all_label_embs, label_names)\n",
    "        \n",
    "        ### Evaluate the model\n",
    "        numeric_preds = labels2numeric(model_preds, label_names)\n",
    "        evaluator = ModelEvaluator(label_names, y_true=numeric_labels, y_pred=numeric_preds)\n",
    "        \n",
    "        output[f\"test_perc={test_perc}\"][model_name].append({\"num_epochs\": num_epochs, \"avg_f1\": evaluator.avg_f1.tolist()})\n",
    "        \n",
    "        evaluator.plot_confusion_matrix(color_map='Blues', exp_name=f\"{model_save_path}/{model_deets}\")"
   ]
  },
  {
   "cell_type": "code",
   "execution_count": null,
   "metadata": {
    "colab": {
     "base_uri": "https://localhost:8080/"
    },
    "id": "IyJSG6SIaECl",
    "outputId": "6719cb8c-1aec-412d-ed84-7e117d925000"
   },
   "outputs": [],
   "source": [
    "output.keys()"
   ]
  },
  {
   "cell_type": "code",
   "execution_count": null,
   "metadata": {
    "id": "e65BceczaDwI"
   },
   "outputs": [],
   "source": [
    "new_json = {}\n",
    "\n",
    "for key in output.keys():\n",
    "  new_json[key] = {}\n",
    "  for subkey in output[key].keys():\n",
    "    new_json[key][subkey] = []\n",
    "    for element in output[key][subkey]:\n",
    "      el_copy = {\"avg_f1\": element[\"avg_f1\"].tolist(), \"num_epochs\": element[\"num_epochs\"]}\n",
    "      new_json[key][subkey].append(el_copy)"
   ]
  },
  {
   "cell_type": "code",
   "execution_count": null,
   "metadata": {
    "id": "40gn7pZUHO4c"
   },
   "outputs": [],
   "source": [
    "import json\n",
    "with open(\"/content/drive/MyDrive/WRI-LatinAmerica-Talent/Modeling/FineTuningResults.json\", \"w\") as f:\n",
    "  json.dump(new_json, f)"
   ]
  },
  {
   "cell_type": "code",
   "execution_count": null,
   "metadata": {
    "id": "Uwxoji8ka-7N"
   },
   "outputs": [],
   "source": []
  }
 ],
 "metadata": {
  "accelerator": "GPU",
  "colab": {
   "collapsed_sections": [],
   "name": "GoogleColabFineTuneEmbeddingModel.ipynb",
   "provenance": [],
   "toc_visible": true
  },
  "kernelspec": {
   "display_name": "Python 3",
   "language": "python",
   "name": "python3"
  },
  "language_info": {
   "codemirror_mode": {
    "name": "ipython",
    "version": 3
   },
   "file_extension": ".py",
   "mimetype": "text/x-python",
   "name": "python",
   "nbconvert_exporter": "python",
   "pygments_lexer": "ipython3",
   "version": "3.7.9"
  },
  "toc": {
   "base_numbering": 1,
   "nav_menu": {},
   "number_sections": true,
   "sideBar": true,
   "skip_h1_title": false,
   "title_cell": "Table of Contents",
   "title_sidebar": "Contents",
   "toc_cell": false,
   "toc_position": {},
   "toc_section_display": true,
   "toc_window_display": false
  },
  "widgets": {
   "application/vnd.jupyter.widget-state+json": {
    "04a7b8b0cdd9436885cb70798c2d0dce": {
     "model_module": "@jupyter-widgets/controls",
     "model_name": "ProgressStyleModel",
     "state": {
      "_model_module": "@jupyter-widgets/controls",
      "_model_module_version": "1.5.0",
      "_model_name": "ProgressStyleModel",
      "_view_count": null,
      "_view_module": "@jupyter-widgets/base",
      "_view_module_version": "1.2.0",
      "_view_name": "StyleView",
      "bar_color": null,
      "description_width": "initial"
     }
    },
    "05e466cd25cb4316b695c94515cd318f": {
     "model_module": "@jupyter-widgets/base",
     "model_name": "LayoutModel",
     "state": {
      "_model_module": "@jupyter-widgets/base",
      "_model_module_version": "1.2.0",
      "_model_name": "LayoutModel",
      "_view_count": null,
      "_view_module": "@jupyter-widgets/base",
      "_view_module_version": "1.2.0",
      "_view_name": "LayoutView",
      "align_content": null,
      "align_items": null,
      "align_self": null,
      "border": null,
      "bottom": null,
      "display": null,
      "flex": null,
      "flex_flow": null,
      "grid_area": null,
      "grid_auto_columns": null,
      "grid_auto_flow": null,
      "grid_auto_rows": null,
      "grid_column": null,
      "grid_gap": null,
      "grid_row": null,
      "grid_template_areas": null,
      "grid_template_columns": null,
      "grid_template_rows": null,
      "height": null,
      "justify_content": null,
      "justify_items": null,
      "left": null,
      "margin": null,
      "max_height": null,
      "max_width": null,
      "min_height": null,
      "min_width": null,
      "object_fit": null,
      "object_position": null,
      "order": null,
      "overflow": null,
      "overflow_x": null,
      "overflow_y": null,
      "padding": null,
      "right": null,
      "top": null,
      "visibility": null,
      "width": null
     }
    },
    "0caae83d9c7141409da5854c88666975": {
     "model_module": "@jupyter-widgets/controls",
     "model_name": "ProgressStyleModel",
     "state": {
      "_model_module": "@jupyter-widgets/controls",
      "_model_module_version": "1.5.0",
      "_model_name": "ProgressStyleModel",
      "_view_count": null,
      "_view_module": "@jupyter-widgets/base",
      "_view_module_version": "1.2.0",
      "_view_name": "StyleView",
      "bar_color": null,
      "description_width": "initial"
     }
    },
    "1deb6dd36c2e46ac826cc02f6302d18a": {
     "model_module": "@jupyter-widgets/controls",
     "model_name": "HBoxModel",
     "state": {
      "_dom_classes": [],
      "_model_module": "@jupyter-widgets/controls",
      "_model_module_version": "1.5.0",
      "_model_name": "HBoxModel",
      "_view_count": null,
      "_view_module": "@jupyter-widgets/controls",
      "_view_module_version": "1.5.0",
      "_view_name": "HBoxView",
      "box_style": "",
      "children": [
       "IPY_MODEL_e42f8a4c3f364cbc9c7cd4388db535d7",
       "IPY_MODEL_ba9167b6660540cfa78ec809c95f4b1d"
      ],
      "layout": "IPY_MODEL_3f0536cf46ad45b0a9584fd39b9dbef6"
     }
    },
    "2c4d53ec4f48481f98417f8cbd0ab272": {
     "model_module": "@jupyter-widgets/controls",
     "model_name": "HBoxModel",
     "state": {
      "_dom_classes": [],
      "_model_module": "@jupyter-widgets/controls",
      "_model_module_version": "1.5.0",
      "_model_name": "HBoxModel",
      "_view_count": null,
      "_view_module": "@jupyter-widgets/controls",
      "_view_module_version": "1.5.0",
      "_view_name": "HBoxView",
      "box_style": "",
      "children": [
       "IPY_MODEL_e0d19f17e45d411b834152ecdadf481d",
       "IPY_MODEL_a1034ed7832944d38c8909a5ae5e0792"
      ],
      "layout": "IPY_MODEL_af603f4600204e6ba06e985c2b36dd29"
     }
    },
    "3f0536cf46ad45b0a9584fd39b9dbef6": {
     "model_module": "@jupyter-widgets/base",
     "model_name": "LayoutModel",
     "state": {
      "_model_module": "@jupyter-widgets/base",
      "_model_module_version": "1.2.0",
      "_model_name": "LayoutModel",
      "_view_count": null,
      "_view_module": "@jupyter-widgets/base",
      "_view_module_version": "1.2.0",
      "_view_name": "LayoutView",
      "align_content": null,
      "align_items": null,
      "align_self": null,
      "border": null,
      "bottom": null,
      "display": null,
      "flex": null,
      "flex_flow": null,
      "grid_area": null,
      "grid_auto_columns": null,
      "grid_auto_flow": null,
      "grid_auto_rows": null,
      "grid_column": null,
      "grid_gap": null,
      "grid_row": null,
      "grid_template_areas": null,
      "grid_template_columns": null,
      "grid_template_rows": null,
      "height": null,
      "justify_content": null,
      "justify_items": null,
      "left": null,
      "margin": null,
      "max_height": null,
      "max_width": null,
      "min_height": null,
      "min_width": null,
      "object_fit": null,
      "object_position": null,
      "order": null,
      "overflow": null,
      "overflow_x": null,
      "overflow_y": null,
      "padding": null,
      "right": null,
      "top": null,
      "visibility": null,
      "width": null
     }
    },
    "5fc403b9becb443584635d70a42cc5ed": {
     "model_module": "@jupyter-widgets/base",
     "model_name": "LayoutModel",
     "state": {
      "_model_module": "@jupyter-widgets/base",
      "_model_module_version": "1.2.0",
      "_model_name": "LayoutModel",
      "_view_count": null,
      "_view_module": "@jupyter-widgets/base",
      "_view_module_version": "1.2.0",
      "_view_name": "LayoutView",
      "align_content": null,
      "align_items": null,
      "align_self": null,
      "border": null,
      "bottom": null,
      "display": null,
      "flex": null,
      "flex_flow": null,
      "grid_area": null,
      "grid_auto_columns": null,
      "grid_auto_flow": null,
      "grid_auto_rows": null,
      "grid_column": null,
      "grid_gap": null,
      "grid_row": null,
      "grid_template_areas": null,
      "grid_template_columns": null,
      "grid_template_rows": null,
      "height": null,
      "justify_content": null,
      "justify_items": null,
      "left": null,
      "margin": null,
      "max_height": null,
      "max_width": null,
      "min_height": null,
      "min_width": null,
      "object_fit": null,
      "object_position": null,
      "order": null,
      "overflow": null,
      "overflow_x": null,
      "overflow_y": null,
      "padding": null,
      "right": null,
      "top": null,
      "visibility": null,
      "width": null
     }
    },
    "7310c5b2f5bf4533bc683f613a6045bf": {
     "model_module": "@jupyter-widgets/base",
     "model_name": "LayoutModel",
     "state": {
      "_model_module": "@jupyter-widgets/base",
      "_model_module_version": "1.2.0",
      "_model_name": "LayoutModel",
      "_view_count": null,
      "_view_module": "@jupyter-widgets/base",
      "_view_module_version": "1.2.0",
      "_view_name": "LayoutView",
      "align_content": null,
      "align_items": null,
      "align_self": null,
      "border": null,
      "bottom": null,
      "display": null,
      "flex": null,
      "flex_flow": null,
      "grid_area": null,
      "grid_auto_columns": null,
      "grid_auto_flow": null,
      "grid_auto_rows": null,
      "grid_column": null,
      "grid_gap": null,
      "grid_row": null,
      "grid_template_areas": null,
      "grid_template_columns": null,
      "grid_template_rows": null,
      "height": null,
      "justify_content": null,
      "justify_items": null,
      "left": null,
      "margin": null,
      "max_height": null,
      "max_width": null,
      "min_height": null,
      "min_width": null,
      "object_fit": null,
      "object_position": null,
      "order": null,
      "overflow": null,
      "overflow_x": null,
      "overflow_y": null,
      "padding": null,
      "right": null,
      "top": null,
      "visibility": null,
      "width": null
     }
    },
    "77416ef1b857412fa8672423085fd6ef": {
     "model_module": "@jupyter-widgets/controls",
     "model_name": "HBoxModel",
     "state": {
      "_dom_classes": [],
      "_model_module": "@jupyter-widgets/controls",
      "_model_module_version": "1.5.0",
      "_model_name": "HBoxModel",
      "_view_count": null,
      "_view_module": "@jupyter-widgets/controls",
      "_view_module_version": "1.5.0",
      "_view_name": "HBoxView",
      "box_style": "",
      "children": [
       "IPY_MODEL_91a50a07cd454f23915953f36246ceee",
       "IPY_MODEL_9d1e224c18354831bfa64a8e351168c0"
      ],
      "layout": "IPY_MODEL_8179bee0272043da88a2875621ff32fb"
     }
    },
    "8179bee0272043da88a2875621ff32fb": {
     "model_module": "@jupyter-widgets/base",
     "model_name": "LayoutModel",
     "state": {
      "_model_module": "@jupyter-widgets/base",
      "_model_module_version": "1.2.0",
      "_model_name": "LayoutModel",
      "_view_count": null,
      "_view_module": "@jupyter-widgets/base",
      "_view_module_version": "1.2.0",
      "_view_name": "LayoutView",
      "align_content": null,
      "align_items": null,
      "align_self": null,
      "border": null,
      "bottom": null,
      "display": null,
      "flex": null,
      "flex_flow": null,
      "grid_area": null,
      "grid_auto_columns": null,
      "grid_auto_flow": null,
      "grid_auto_rows": null,
      "grid_column": null,
      "grid_gap": null,
      "grid_row": null,
      "grid_template_areas": null,
      "grid_template_columns": null,
      "grid_template_rows": null,
      "height": null,
      "justify_content": null,
      "justify_items": null,
      "left": null,
      "margin": null,
      "max_height": null,
      "max_width": null,
      "min_height": null,
      "min_width": null,
      "object_fit": null,
      "object_position": null,
      "order": null,
      "overflow": null,
      "overflow_x": null,
      "overflow_y": null,
      "padding": null,
      "right": null,
      "top": null,
      "visibility": null,
      "width": null
     }
    },
    "8645596491e7407c96959a67997d010c": {
     "model_module": "@jupyter-widgets/base",
     "model_name": "LayoutModel",
     "state": {
      "_model_module": "@jupyter-widgets/base",
      "_model_module_version": "1.2.0",
      "_model_name": "LayoutModel",
      "_view_count": null,
      "_view_module": "@jupyter-widgets/base",
      "_view_module_version": "1.2.0",
      "_view_name": "LayoutView",
      "align_content": null,
      "align_items": null,
      "align_self": null,
      "border": null,
      "bottom": null,
      "display": null,
      "flex": null,
      "flex_flow": null,
      "grid_area": null,
      "grid_auto_columns": null,
      "grid_auto_flow": null,
      "grid_auto_rows": null,
      "grid_column": null,
      "grid_gap": null,
      "grid_row": null,
      "grid_template_areas": null,
      "grid_template_columns": null,
      "grid_template_rows": null,
      "height": null,
      "justify_content": null,
      "justify_items": null,
      "left": null,
      "margin": null,
      "max_height": null,
      "max_width": null,
      "min_height": null,
      "min_width": null,
      "object_fit": null,
      "object_position": null,
      "order": null,
      "overflow": null,
      "overflow_x": null,
      "overflow_y": null,
      "padding": null,
      "right": null,
      "top": null,
      "visibility": null,
      "width": null
     }
    },
    "8691e8ca35ee41eaa1cfaf488bba9e85": {
     "model_module": "@jupyter-widgets/controls",
     "model_name": "DescriptionStyleModel",
     "state": {
      "_model_module": "@jupyter-widgets/controls",
      "_model_module_version": "1.5.0",
      "_model_name": "DescriptionStyleModel",
      "_view_count": null,
      "_view_module": "@jupyter-widgets/base",
      "_view_module_version": "1.2.0",
      "_view_name": "StyleView",
      "description_width": ""
     }
    },
    "8ce9a10a5aa84201951fc9c3bbd21a9d": {
     "model_module": "@jupyter-widgets/controls",
     "model_name": "DescriptionStyleModel",
     "state": {
      "_model_module": "@jupyter-widgets/controls",
      "_model_module_version": "1.5.0",
      "_model_name": "DescriptionStyleModel",
      "_view_count": null,
      "_view_module": "@jupyter-widgets/base",
      "_view_module_version": "1.2.0",
      "_view_name": "StyleView",
      "description_width": ""
     }
    },
    "91a50a07cd454f23915953f36246ceee": {
     "model_module": "@jupyter-widgets/controls",
     "model_name": "FloatProgressModel",
     "state": {
      "_dom_classes": [],
      "_model_module": "@jupyter-widgets/controls",
      "_model_module_version": "1.5.0",
      "_model_name": "FloatProgressModel",
      "_view_count": null,
      "_view_module": "@jupyter-widgets/controls",
      "_view_module_version": "1.5.0",
      "_view_name": "ProgressView",
      "bar_style": "success",
      "description": "Epoch: 100%",
      "description_tooltip": null,
      "layout": "IPY_MODEL_c73c1ce1249d4bc1a02c3f26993332a3",
      "max": 2,
      "min": 0,
      "orientation": "horizontal",
      "style": "IPY_MODEL_0caae83d9c7141409da5854c88666975",
      "value": 2
     }
    },
    "9be6bea6302c4734b8a5677ce17ceb86": {
     "model_module": "@jupyter-widgets/base",
     "model_name": "LayoutModel",
     "state": {
      "_model_module": "@jupyter-widgets/base",
      "_model_module_version": "1.2.0",
      "_model_name": "LayoutModel",
      "_view_count": null,
      "_view_module": "@jupyter-widgets/base",
      "_view_module_version": "1.2.0",
      "_view_name": "LayoutView",
      "align_content": null,
      "align_items": null,
      "align_self": null,
      "border": null,
      "bottom": null,
      "display": null,
      "flex": null,
      "flex_flow": null,
      "grid_area": null,
      "grid_auto_columns": null,
      "grid_auto_flow": null,
      "grid_auto_rows": null,
      "grid_column": null,
      "grid_gap": null,
      "grid_row": null,
      "grid_template_areas": null,
      "grid_template_columns": null,
      "grid_template_rows": null,
      "height": null,
      "justify_content": null,
      "justify_items": null,
      "left": null,
      "margin": null,
      "max_height": null,
      "max_width": null,
      "min_height": null,
      "min_width": null,
      "object_fit": null,
      "object_position": null,
      "order": null,
      "overflow": null,
      "overflow_x": null,
      "overflow_y": null,
      "padding": null,
      "right": null,
      "top": null,
      "visibility": null,
      "width": null
     }
    },
    "9d1e224c18354831bfa64a8e351168c0": {
     "model_module": "@jupyter-widgets/controls",
     "model_name": "HTMLModel",
     "state": {
      "_dom_classes": [],
      "_model_module": "@jupyter-widgets/controls",
      "_model_module_version": "1.5.0",
      "_model_name": "HTMLModel",
      "_view_count": null,
      "_view_module": "@jupyter-widgets/controls",
      "_view_module_version": "1.5.0",
      "_view_name": "HTMLView",
      "description": "",
      "description_tooltip": null,
      "layout": "IPY_MODEL_7310c5b2f5bf4533bc683f613a6045bf",
      "placeholder": "​",
      "style": "IPY_MODEL_8ce9a10a5aa84201951fc9c3bbd21a9d",
      "value": " 2/2 [00:46&lt;00:00, 23.50s/it]"
     }
    },
    "a1034ed7832944d38c8909a5ae5e0792": {
     "model_module": "@jupyter-widgets/controls",
     "model_name": "HTMLModel",
     "state": {
      "_dom_classes": [],
      "_model_module": "@jupyter-widgets/controls",
      "_model_module_version": "1.5.0",
      "_model_name": "HTMLModel",
      "_view_count": null,
      "_view_module": "@jupyter-widgets/controls",
      "_view_module_version": "1.5.0",
      "_view_name": "HTMLView",
      "description": "",
      "description_tooltip": null,
      "layout": "IPY_MODEL_8645596491e7407c96959a67997d010c",
      "placeholder": "​",
      "style": "IPY_MODEL_8691e8ca35ee41eaa1cfaf488bba9e85",
      "value": " 77/77 [01:00&lt;00:00,  1.28it/s]"
     }
    },
    "af603f4600204e6ba06e985c2b36dd29": {
     "model_module": "@jupyter-widgets/base",
     "model_name": "LayoutModel",
     "state": {
      "_model_module": "@jupyter-widgets/base",
      "_model_module_version": "1.2.0",
      "_model_name": "LayoutModel",
      "_view_count": null,
      "_view_module": "@jupyter-widgets/base",
      "_view_module_version": "1.2.0",
      "_view_name": "LayoutView",
      "align_content": null,
      "align_items": null,
      "align_self": null,
      "border": null,
      "bottom": null,
      "display": null,
      "flex": null,
      "flex_flow": null,
      "grid_area": null,
      "grid_auto_columns": null,
      "grid_auto_flow": null,
      "grid_auto_rows": null,
      "grid_column": null,
      "grid_gap": null,
      "grid_row": null,
      "grid_template_areas": null,
      "grid_template_columns": null,
      "grid_template_rows": null,
      "height": null,
      "justify_content": null,
      "justify_items": null,
      "left": null,
      "margin": null,
      "max_height": null,
      "max_width": null,
      "min_height": null,
      "min_width": null,
      "object_fit": null,
      "object_position": null,
      "order": null,
      "overflow": null,
      "overflow_x": null,
      "overflow_y": null,
      "padding": null,
      "right": null,
      "top": null,
      "visibility": null,
      "width": null
     }
    },
    "b13b5be85d3b4c9f82b0b463f02636ce": {
     "model_module": "@jupyter-widgets/controls",
     "model_name": "DescriptionStyleModel",
     "state": {
      "_model_module": "@jupyter-widgets/controls",
      "_model_module_version": "1.5.0",
      "_model_name": "DescriptionStyleModel",
      "_view_count": null,
      "_view_module": "@jupyter-widgets/base",
      "_view_module_version": "1.2.0",
      "_view_name": "StyleView",
      "description_width": ""
     }
    },
    "ba9167b6660540cfa78ec809c95f4b1d": {
     "model_module": "@jupyter-widgets/controls",
     "model_name": "HTMLModel",
     "state": {
      "_dom_classes": [],
      "_model_module": "@jupyter-widgets/controls",
      "_model_module_version": "1.5.0",
      "_model_name": "HTMLModel",
      "_view_count": null,
      "_view_module": "@jupyter-widgets/controls",
      "_view_module_version": "1.5.0",
      "_view_name": "HTMLView",
      "description": "",
      "description_tooltip": null,
      "layout": "IPY_MODEL_05e466cd25cb4316b695c94515cd318f",
      "placeholder": "​",
      "style": "IPY_MODEL_b13b5be85d3b4c9f82b0b463f02636ce",
      "value": " 77/77 [00:32&lt;00:00,  2.38it/s]"
     }
    },
    "c73c1ce1249d4bc1a02c3f26993332a3": {
     "model_module": "@jupyter-widgets/base",
     "model_name": "LayoutModel",
     "state": {
      "_model_module": "@jupyter-widgets/base",
      "_model_module_version": "1.2.0",
      "_model_name": "LayoutModel",
      "_view_count": null,
      "_view_module": "@jupyter-widgets/base",
      "_view_module_version": "1.2.0",
      "_view_name": "LayoutView",
      "align_content": null,
      "align_items": null,
      "align_self": null,
      "border": null,
      "bottom": null,
      "display": null,
      "flex": null,
      "flex_flow": null,
      "grid_area": null,
      "grid_auto_columns": null,
      "grid_auto_flow": null,
      "grid_auto_rows": null,
      "grid_column": null,
      "grid_gap": null,
      "grid_row": null,
      "grid_template_areas": null,
      "grid_template_columns": null,
      "grid_template_rows": null,
      "height": null,
      "justify_content": null,
      "justify_items": null,
      "left": null,
      "margin": null,
      "max_height": null,
      "max_width": null,
      "min_height": null,
      "min_width": null,
      "object_fit": null,
      "object_position": null,
      "order": null,
      "overflow": null,
      "overflow_x": null,
      "overflow_y": null,
      "padding": null,
      "right": null,
      "top": null,
      "visibility": null,
      "width": null
     }
    },
    "e0d19f17e45d411b834152ecdadf481d": {
     "model_module": "@jupyter-widgets/controls",
     "model_name": "FloatProgressModel",
     "state": {
      "_dom_classes": [],
      "_model_module": "@jupyter-widgets/controls",
      "_model_module_version": "1.5.0",
      "_model_name": "FloatProgressModel",
      "_view_count": null,
      "_view_module": "@jupyter-widgets/controls",
      "_view_module_version": "1.5.0",
      "_view_name": "ProgressView",
      "bar_style": "success",
      "description": "Iteration: 100%",
      "description_tooltip": null,
      "layout": "IPY_MODEL_9be6bea6302c4734b8a5677ce17ceb86",
      "max": 77,
      "min": 0,
      "orientation": "horizontal",
      "style": "IPY_MODEL_04a7b8b0cdd9436885cb70798c2d0dce",
      "value": 77
     }
    },
    "e42f8a4c3f364cbc9c7cd4388db535d7": {
     "model_module": "@jupyter-widgets/controls",
     "model_name": "FloatProgressModel",
     "state": {
      "_dom_classes": [],
      "_model_module": "@jupyter-widgets/controls",
      "_model_module_version": "1.5.0",
      "_model_name": "FloatProgressModel",
      "_view_count": null,
      "_view_module": "@jupyter-widgets/controls",
      "_view_module_version": "1.5.0",
      "_view_name": "ProgressView",
      "bar_style": "success",
      "description": "Iteration: 100%",
      "description_tooltip": null,
      "layout": "IPY_MODEL_5fc403b9becb443584635d70a42cc5ed",
      "max": 77,
      "min": 0,
      "orientation": "horizontal",
      "style": "IPY_MODEL_f3a4a6d2ee224bfb8b57f8be405d6c4d",
      "value": 77
     }
    },
    "f3a4a6d2ee224bfb8b57f8be405d6c4d": {
     "model_module": "@jupyter-widgets/controls",
     "model_name": "ProgressStyleModel",
     "state": {
      "_model_module": "@jupyter-widgets/controls",
      "_model_module_version": "1.5.0",
      "_model_name": "ProgressStyleModel",
      "_view_count": null,
      "_view_module": "@jupyter-widgets/base",
      "_view_module_version": "1.2.0",
      "_view_name": "StyleView",
      "bar_color": null,
      "description_width": "initial"
     }
    }
   }
  }
 },
 "nbformat": 4,
 "nbformat_minor": 1
}
