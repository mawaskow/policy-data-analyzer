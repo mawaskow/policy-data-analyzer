{
  "nbformat": 4,
  "nbformat_minor": 0,
  "metadata": {
    "accelerator": "GPU",
    "colab": {
      "name": "NewGoogleColabFineTuneEmbeddingModel.ipynb",
      "provenance": [],
      "collapsed_sections": []
    },
    "kernelspec": {
      "display_name": "Python 3",
      "language": "python",
      "name": "python3"
    },
    "language_info": {
      "codemirror_mode": {
        "name": "ipython",
        "version": 3
      },
      "file_extension": ".py",
      "mimetype": "text/x-python",
      "name": "python",
      "nbconvert_exporter": "python",
      "pygments_lexer": "ipython3",
      "version": "3.7.6"
    },
    "toc": {
      "base_numbering": 1,
      "nav_menu": {},
      "number_sections": true,
      "sideBar": true,
      "skip_h1_title": false,
      "title_cell": "Table of Contents",
      "title_sidebar": "Contents",
      "toc_cell": false,
      "toc_position": {},
      "toc_section_display": true,
      "toc_window_display": false
    },
    "widgets": {
      "application/vnd.jupyter.widget-state+json": {
        "fca6dd1f1a0d4bdd8afe04f5f899e7f8": {
          "model_module": "@jupyter-widgets/controls",
          "model_name": "HBoxModel",
          "state": {
            "_view_name": "HBoxView",
            "_dom_classes": [],
            "_model_name": "HBoxModel",
            "_view_module": "@jupyter-widgets/controls",
            "_model_module_version": "1.5.0",
            "_view_count": null,
            "_view_module_version": "1.5.0",
            "box_style": "",
            "layout": "IPY_MODEL_c203042fd0204268a649a05daa0513bf",
            "_model_module": "@jupyter-widgets/controls",
            "children": [
              "IPY_MODEL_acf9c2fff09d46a3a62203b2980e0539",
              "IPY_MODEL_f04ce12c094a432cba7a2b2dc8fea813"
            ]
          }
        },
        "c203042fd0204268a649a05daa0513bf": {
          "model_module": "@jupyter-widgets/base",
          "model_name": "LayoutModel",
          "state": {
            "_view_name": "LayoutView",
            "grid_template_rows": null,
            "right": null,
            "justify_content": null,
            "_view_module": "@jupyter-widgets/base",
            "overflow": null,
            "_model_module_version": "1.2.0",
            "_view_count": null,
            "flex_flow": null,
            "width": null,
            "min_width": null,
            "border": null,
            "align_items": null,
            "bottom": null,
            "_model_module": "@jupyter-widgets/base",
            "top": null,
            "grid_column": null,
            "overflow_y": null,
            "overflow_x": null,
            "grid_auto_flow": null,
            "grid_area": null,
            "grid_template_columns": null,
            "flex": null,
            "_model_name": "LayoutModel",
            "justify_items": null,
            "grid_row": null,
            "max_height": null,
            "align_content": null,
            "visibility": null,
            "align_self": null,
            "height": null,
            "min_height": null,
            "padding": null,
            "grid_auto_rows": null,
            "grid_gap": null,
            "max_width": null,
            "order": null,
            "_view_module_version": "1.2.0",
            "grid_template_areas": null,
            "object_position": null,
            "object_fit": null,
            "grid_auto_columns": null,
            "margin": null,
            "display": null,
            "left": null
          }
        },
        "acf9c2fff09d46a3a62203b2980e0539": {
          "model_module": "@jupyter-widgets/controls",
          "model_name": "FloatProgressModel",
          "state": {
            "_view_name": "ProgressView",
            "style": "IPY_MODEL_77a376e6fd524e839e4017ba6d7d52a9",
            "_dom_classes": [],
            "description": "Epoch: 100%",
            "_model_name": "FloatProgressModel",
            "bar_style": "success",
            "max": 10,
            "_view_module": "@jupyter-widgets/controls",
            "_model_module_version": "1.5.0",
            "value": 10,
            "_view_count": null,
            "_view_module_version": "1.5.0",
            "orientation": "horizontal",
            "min": 0,
            "description_tooltip": null,
            "_model_module": "@jupyter-widgets/controls",
            "layout": "IPY_MODEL_8f2b826e76b44d9da1fc36c607f0fe02"
          }
        },
        "f04ce12c094a432cba7a2b2dc8fea813": {
          "model_module": "@jupyter-widgets/controls",
          "model_name": "HTMLModel",
          "state": {
            "_view_name": "HTMLView",
            "style": "IPY_MODEL_44dc88d26359459ea810213cd9c4e87c",
            "_dom_classes": [],
            "description": "",
            "_model_name": "HTMLModel",
            "placeholder": "​",
            "_view_module": "@jupyter-widgets/controls",
            "_model_module_version": "1.5.0",
            "value": " 10/10 [45:52&lt;00:00, 275.27s/it]",
            "_view_count": null,
            "_view_module_version": "1.5.0",
            "description_tooltip": null,
            "_model_module": "@jupyter-widgets/controls",
            "layout": "IPY_MODEL_53ede21cf7164a89a809bf2ac953f959"
          }
        },
        "77a376e6fd524e839e4017ba6d7d52a9": {
          "model_module": "@jupyter-widgets/controls",
          "model_name": "ProgressStyleModel",
          "state": {
            "_view_name": "StyleView",
            "_model_name": "ProgressStyleModel",
            "description_width": "initial",
            "_view_module": "@jupyter-widgets/base",
            "_model_module_version": "1.5.0",
            "_view_count": null,
            "_view_module_version": "1.2.0",
            "bar_color": null,
            "_model_module": "@jupyter-widgets/controls"
          }
        },
        "8f2b826e76b44d9da1fc36c607f0fe02": {
          "model_module": "@jupyter-widgets/base",
          "model_name": "LayoutModel",
          "state": {
            "_view_name": "LayoutView",
            "grid_template_rows": null,
            "right": null,
            "justify_content": null,
            "_view_module": "@jupyter-widgets/base",
            "overflow": null,
            "_model_module_version": "1.2.0",
            "_view_count": null,
            "flex_flow": null,
            "width": null,
            "min_width": null,
            "border": null,
            "align_items": null,
            "bottom": null,
            "_model_module": "@jupyter-widgets/base",
            "top": null,
            "grid_column": null,
            "overflow_y": null,
            "overflow_x": null,
            "grid_auto_flow": null,
            "grid_area": null,
            "grid_template_columns": null,
            "flex": null,
            "_model_name": "LayoutModel",
            "justify_items": null,
            "grid_row": null,
            "max_height": null,
            "align_content": null,
            "visibility": null,
            "align_self": null,
            "height": null,
            "min_height": null,
            "padding": null,
            "grid_auto_rows": null,
            "grid_gap": null,
            "max_width": null,
            "order": null,
            "_view_module_version": "1.2.0",
            "grid_template_areas": null,
            "object_position": null,
            "object_fit": null,
            "grid_auto_columns": null,
            "margin": null,
            "display": null,
            "left": null
          }
        },
        "44dc88d26359459ea810213cd9c4e87c": {
          "model_module": "@jupyter-widgets/controls",
          "model_name": "DescriptionStyleModel",
          "state": {
            "_view_name": "StyleView",
            "_model_name": "DescriptionStyleModel",
            "description_width": "",
            "_view_module": "@jupyter-widgets/base",
            "_model_module_version": "1.5.0",
            "_view_count": null,
            "_view_module_version": "1.2.0",
            "_model_module": "@jupyter-widgets/controls"
          }
        },
        "53ede21cf7164a89a809bf2ac953f959": {
          "model_module": "@jupyter-widgets/base",
          "model_name": "LayoutModel",
          "state": {
            "_view_name": "LayoutView",
            "grid_template_rows": null,
            "right": null,
            "justify_content": null,
            "_view_module": "@jupyter-widgets/base",
            "overflow": null,
            "_model_module_version": "1.2.0",
            "_view_count": null,
            "flex_flow": null,
            "width": null,
            "min_width": null,
            "border": null,
            "align_items": null,
            "bottom": null,
            "_model_module": "@jupyter-widgets/base",
            "top": null,
            "grid_column": null,
            "overflow_y": null,
            "overflow_x": null,
            "grid_auto_flow": null,
            "grid_area": null,
            "grid_template_columns": null,
            "flex": null,
            "_model_name": "LayoutModel",
            "justify_items": null,
            "grid_row": null,
            "max_height": null,
            "align_content": null,
            "visibility": null,
            "align_self": null,
            "height": null,
            "min_height": null,
            "padding": null,
            "grid_auto_rows": null,
            "grid_gap": null,
            "max_width": null,
            "order": null,
            "_view_module_version": "1.2.0",
            "grid_template_areas": null,
            "object_position": null,
            "object_fit": null,
            "grid_auto_columns": null,
            "margin": null,
            "display": null,
            "left": null
          }
        },
        "c12c140a024f46c7a1cfad318f8056fc": {
          "model_module": "@jupyter-widgets/controls",
          "model_name": "HBoxModel",
          "state": {
            "_view_name": "HBoxView",
            "_dom_classes": [],
            "_model_name": "HBoxModel",
            "_view_module": "@jupyter-widgets/controls",
            "_model_module_version": "1.5.0",
            "_view_count": null,
            "_view_module_version": "1.5.0",
            "box_style": "",
            "layout": "IPY_MODEL_10c77230e1b64e69af1ffc44a045ddd2",
            "_model_module": "@jupyter-widgets/controls",
            "children": [
              "IPY_MODEL_8f2f04f100a94ab8acbc84c13e5859dd",
              "IPY_MODEL_3fa00df1702a446ab57d973aba921d3c"
            ]
          }
        },
        "10c77230e1b64e69af1ffc44a045ddd2": {
          "model_module": "@jupyter-widgets/base",
          "model_name": "LayoutModel",
          "state": {
            "_view_name": "LayoutView",
            "grid_template_rows": null,
            "right": null,
            "justify_content": null,
            "_view_module": "@jupyter-widgets/base",
            "overflow": null,
            "_model_module_version": "1.2.0",
            "_view_count": null,
            "flex_flow": null,
            "width": null,
            "min_width": null,
            "border": null,
            "align_items": null,
            "bottom": null,
            "_model_module": "@jupyter-widgets/base",
            "top": null,
            "grid_column": null,
            "overflow_y": null,
            "overflow_x": null,
            "grid_auto_flow": null,
            "grid_area": null,
            "grid_template_columns": null,
            "flex": null,
            "_model_name": "LayoutModel",
            "justify_items": null,
            "grid_row": null,
            "max_height": null,
            "align_content": null,
            "visibility": null,
            "align_self": null,
            "height": null,
            "min_height": null,
            "padding": null,
            "grid_auto_rows": null,
            "grid_gap": null,
            "max_width": null,
            "order": null,
            "_view_module_version": "1.2.0",
            "grid_template_areas": null,
            "object_position": null,
            "object_fit": null,
            "grid_auto_columns": null,
            "margin": null,
            "display": null,
            "left": null
          }
        },
        "8f2f04f100a94ab8acbc84c13e5859dd": {
          "model_module": "@jupyter-widgets/controls",
          "model_name": "FloatProgressModel",
          "state": {
            "_view_name": "ProgressView",
            "style": "IPY_MODEL_779a149fd09b4c6ba2123ef11b083813",
            "_dom_classes": [],
            "description": "Iteration: 100%",
            "_model_name": "FloatProgressModel",
            "bar_style": "success",
            "max": 28,
            "_view_module": "@jupyter-widgets/controls",
            "_model_module_version": "1.5.0",
            "value": 28,
            "_view_count": null,
            "_view_module_version": "1.5.0",
            "orientation": "horizontal",
            "min": 0,
            "description_tooltip": null,
            "_model_module": "@jupyter-widgets/controls",
            "layout": "IPY_MODEL_19aa17e755464ca5b0c03d0b3873f559"
          }
        },
        "3fa00df1702a446ab57d973aba921d3c": {
          "model_module": "@jupyter-widgets/controls",
          "model_name": "HTMLModel",
          "state": {
            "_view_name": "HTMLView",
            "style": "IPY_MODEL_b4e762317b52408ca6a1fb46575efe06",
            "_dom_classes": [],
            "description": "",
            "_model_name": "HTMLModel",
            "placeholder": "​",
            "_view_module": "@jupyter-widgets/controls",
            "_model_module_version": "1.5.0",
            "value": " 28/28 [45:52&lt;00:00, 98.31s/it]",
            "_view_count": null,
            "_view_module_version": "1.5.0",
            "description_tooltip": null,
            "_model_module": "@jupyter-widgets/controls",
            "layout": "IPY_MODEL_ebf1d875a69f4d67b6d61f6815cc0655"
          }
        },
        "779a149fd09b4c6ba2123ef11b083813": {
          "model_module": "@jupyter-widgets/controls",
          "model_name": "ProgressStyleModel",
          "state": {
            "_view_name": "StyleView",
            "_model_name": "ProgressStyleModel",
            "description_width": "initial",
            "_view_module": "@jupyter-widgets/base",
            "_model_module_version": "1.5.0",
            "_view_count": null,
            "_view_module_version": "1.2.0",
            "bar_color": null,
            "_model_module": "@jupyter-widgets/controls"
          }
        },
        "19aa17e755464ca5b0c03d0b3873f559": {
          "model_module": "@jupyter-widgets/base",
          "model_name": "LayoutModel",
          "state": {
            "_view_name": "LayoutView",
            "grid_template_rows": null,
            "right": null,
            "justify_content": null,
            "_view_module": "@jupyter-widgets/base",
            "overflow": null,
            "_model_module_version": "1.2.0",
            "_view_count": null,
            "flex_flow": null,
            "width": null,
            "min_width": null,
            "border": null,
            "align_items": null,
            "bottom": null,
            "_model_module": "@jupyter-widgets/base",
            "top": null,
            "grid_column": null,
            "overflow_y": null,
            "overflow_x": null,
            "grid_auto_flow": null,
            "grid_area": null,
            "grid_template_columns": null,
            "flex": null,
            "_model_name": "LayoutModel",
            "justify_items": null,
            "grid_row": null,
            "max_height": null,
            "align_content": null,
            "visibility": null,
            "align_self": null,
            "height": null,
            "min_height": null,
            "padding": null,
            "grid_auto_rows": null,
            "grid_gap": null,
            "max_width": null,
            "order": null,
            "_view_module_version": "1.2.0",
            "grid_template_areas": null,
            "object_position": null,
            "object_fit": null,
            "grid_auto_columns": null,
            "margin": null,
            "display": null,
            "left": null
          }
        },
        "b4e762317b52408ca6a1fb46575efe06": {
          "model_module": "@jupyter-widgets/controls",
          "model_name": "DescriptionStyleModel",
          "state": {
            "_view_name": "StyleView",
            "_model_name": "DescriptionStyleModel",
            "description_width": "",
            "_view_module": "@jupyter-widgets/base",
            "_model_module_version": "1.5.0",
            "_view_count": null,
            "_view_module_version": "1.2.0",
            "_model_module": "@jupyter-widgets/controls"
          }
        },
        "ebf1d875a69f4d67b6d61f6815cc0655": {
          "model_module": "@jupyter-widgets/base",
          "model_name": "LayoutModel",
          "state": {
            "_view_name": "LayoutView",
            "grid_template_rows": null,
            "right": null,
            "justify_content": null,
            "_view_module": "@jupyter-widgets/base",
            "overflow": null,
            "_model_module_version": "1.2.0",
            "_view_count": null,
            "flex_flow": null,
            "width": null,
            "min_width": null,
            "border": null,
            "align_items": null,
            "bottom": null,
            "_model_module": "@jupyter-widgets/base",
            "top": null,
            "grid_column": null,
            "overflow_y": null,
            "overflow_x": null,
            "grid_auto_flow": null,
            "grid_area": null,
            "grid_template_columns": null,
            "flex": null,
            "_model_name": "LayoutModel",
            "justify_items": null,
            "grid_row": null,
            "max_height": null,
            "align_content": null,
            "visibility": null,
            "align_self": null,
            "height": null,
            "min_height": null,
            "padding": null,
            "grid_auto_rows": null,
            "grid_gap": null,
            "max_width": null,
            "order": null,
            "_view_module_version": "1.2.0",
            "grid_template_areas": null,
            "object_position": null,
            "object_fit": null,
            "grid_auto_columns": null,
            "margin": null,
            "display": null,
            "left": null
          }
        },
        "0043df9db81b47aead59cec69e05da8b": {
          "model_module": "@jupyter-widgets/controls",
          "model_name": "HBoxModel",
          "state": {
            "_view_name": "HBoxView",
            "_dom_classes": [],
            "_model_name": "HBoxModel",
            "_view_module": "@jupyter-widgets/controls",
            "_model_module_version": "1.5.0",
            "_view_count": null,
            "_view_module_version": "1.5.0",
            "box_style": "",
            "layout": "IPY_MODEL_f72994f47aaf4f6798d6b463cf2d8d86",
            "_model_module": "@jupyter-widgets/controls",
            "children": [
              "IPY_MODEL_0197d0350b424e1bae2a8a53dd7c26df",
              "IPY_MODEL_984ab80a4bbe42748daea5171c0db82f"
            ]
          }
        },
        "f72994f47aaf4f6798d6b463cf2d8d86": {
          "model_module": "@jupyter-widgets/base",
          "model_name": "LayoutModel",
          "state": {
            "_view_name": "LayoutView",
            "grid_template_rows": null,
            "right": null,
            "justify_content": null,
            "_view_module": "@jupyter-widgets/base",
            "overflow": null,
            "_model_module_version": "1.2.0",
            "_view_count": null,
            "flex_flow": null,
            "width": null,
            "min_width": null,
            "border": null,
            "align_items": null,
            "bottom": null,
            "_model_module": "@jupyter-widgets/base",
            "top": null,
            "grid_column": null,
            "overflow_y": null,
            "overflow_x": null,
            "grid_auto_flow": null,
            "grid_area": null,
            "grid_template_columns": null,
            "flex": null,
            "_model_name": "LayoutModel",
            "justify_items": null,
            "grid_row": null,
            "max_height": null,
            "align_content": null,
            "visibility": null,
            "align_self": null,
            "height": null,
            "min_height": null,
            "padding": null,
            "grid_auto_rows": null,
            "grid_gap": null,
            "max_width": null,
            "order": null,
            "_view_module_version": "1.2.0",
            "grid_template_areas": null,
            "object_position": null,
            "object_fit": null,
            "grid_auto_columns": null,
            "margin": null,
            "display": null,
            "left": null
          }
        },
        "0197d0350b424e1bae2a8a53dd7c26df": {
          "model_module": "@jupyter-widgets/controls",
          "model_name": "FloatProgressModel",
          "state": {
            "_view_name": "ProgressView",
            "style": "IPY_MODEL_a37d28bdc9bd4e128391c5ddb1f38852",
            "_dom_classes": [],
            "description": "Iteration: 100%",
            "_model_name": "FloatProgressModel",
            "bar_style": "success",
            "max": 28,
            "_view_module": "@jupyter-widgets/controls",
            "_model_module_version": "1.5.0",
            "value": 28,
            "_view_count": null,
            "_view_module_version": "1.5.0",
            "orientation": "horizontal",
            "min": 0,
            "description_tooltip": null,
            "_model_module": "@jupyter-widgets/controls",
            "layout": "IPY_MODEL_f96091f965d94857a16c15024ec732b5"
          }
        },
        "984ab80a4bbe42748daea5171c0db82f": {
          "model_module": "@jupyter-widgets/controls",
          "model_name": "HTMLModel",
          "state": {
            "_view_name": "HTMLView",
            "style": "IPY_MODEL_9f20f391063548b4a8987fa3c4f7d97a",
            "_dom_classes": [],
            "description": "",
            "_model_name": "HTMLModel",
            "placeholder": "​",
            "_view_module": "@jupyter-widgets/controls",
            "_model_module_version": "1.5.0",
            "value": " 28/28 [01:16&lt;00:00,  2.74s/it]",
            "_view_count": null,
            "_view_module_version": "1.5.0",
            "description_tooltip": null,
            "_model_module": "@jupyter-widgets/controls",
            "layout": "IPY_MODEL_3069cde1cbad49dfa0c34bea3ed71d08"
          }
        },
        "a37d28bdc9bd4e128391c5ddb1f38852": {
          "model_module": "@jupyter-widgets/controls",
          "model_name": "ProgressStyleModel",
          "state": {
            "_view_name": "StyleView",
            "_model_name": "ProgressStyleModel",
            "description_width": "initial",
            "_view_module": "@jupyter-widgets/base",
            "_model_module_version": "1.5.0",
            "_view_count": null,
            "_view_module_version": "1.2.0",
            "bar_color": null,
            "_model_module": "@jupyter-widgets/controls"
          }
        },
        "f96091f965d94857a16c15024ec732b5": {
          "model_module": "@jupyter-widgets/base",
          "model_name": "LayoutModel",
          "state": {
            "_view_name": "LayoutView",
            "grid_template_rows": null,
            "right": null,
            "justify_content": null,
            "_view_module": "@jupyter-widgets/base",
            "overflow": null,
            "_model_module_version": "1.2.0",
            "_view_count": null,
            "flex_flow": null,
            "width": null,
            "min_width": null,
            "border": null,
            "align_items": null,
            "bottom": null,
            "_model_module": "@jupyter-widgets/base",
            "top": null,
            "grid_column": null,
            "overflow_y": null,
            "overflow_x": null,
            "grid_auto_flow": null,
            "grid_area": null,
            "grid_template_columns": null,
            "flex": null,
            "_model_name": "LayoutModel",
            "justify_items": null,
            "grid_row": null,
            "max_height": null,
            "align_content": null,
            "visibility": null,
            "align_self": null,
            "height": null,
            "min_height": null,
            "padding": null,
            "grid_auto_rows": null,
            "grid_gap": null,
            "max_width": null,
            "order": null,
            "_view_module_version": "1.2.0",
            "grid_template_areas": null,
            "object_position": null,
            "object_fit": null,
            "grid_auto_columns": null,
            "margin": null,
            "display": null,
            "left": null
          }
        },
        "9f20f391063548b4a8987fa3c4f7d97a": {
          "model_module": "@jupyter-widgets/controls",
          "model_name": "DescriptionStyleModel",
          "state": {
            "_view_name": "StyleView",
            "_model_name": "DescriptionStyleModel",
            "description_width": "",
            "_view_module": "@jupyter-widgets/base",
            "_model_module_version": "1.5.0",
            "_view_count": null,
            "_view_module_version": "1.2.0",
            "_model_module": "@jupyter-widgets/controls"
          }
        },
        "3069cde1cbad49dfa0c34bea3ed71d08": {
          "model_module": "@jupyter-widgets/base",
          "model_name": "LayoutModel",
          "state": {
            "_view_name": "LayoutView",
            "grid_template_rows": null,
            "right": null,
            "justify_content": null,
            "_view_module": "@jupyter-widgets/base",
            "overflow": null,
            "_model_module_version": "1.2.0",
            "_view_count": null,
            "flex_flow": null,
            "width": null,
            "min_width": null,
            "border": null,
            "align_items": null,
            "bottom": null,
            "_model_module": "@jupyter-widgets/base",
            "top": null,
            "grid_column": null,
            "overflow_y": null,
            "overflow_x": null,
            "grid_auto_flow": null,
            "grid_area": null,
            "grid_template_columns": null,
            "flex": null,
            "_model_name": "LayoutModel",
            "justify_items": null,
            "grid_row": null,
            "max_height": null,
            "align_content": null,
            "visibility": null,
            "align_self": null,
            "height": null,
            "min_height": null,
            "padding": null,
            "grid_auto_rows": null,
            "grid_gap": null,
            "max_width": null,
            "order": null,
            "_view_module_version": "1.2.0",
            "grid_template_areas": null,
            "object_position": null,
            "object_fit": null,
            "grid_auto_columns": null,
            "margin": null,
            "display": null,
            "left": null
          }
        },
        "dd29ef6f6df44d44af78d04004c62f01": {
          "model_module": "@jupyter-widgets/controls",
          "model_name": "HBoxModel",
          "state": {
            "_view_name": "HBoxView",
            "_dom_classes": [],
            "_model_name": "HBoxModel",
            "_view_module": "@jupyter-widgets/controls",
            "_model_module_version": "1.5.0",
            "_view_count": null,
            "_view_module_version": "1.5.0",
            "box_style": "",
            "layout": "IPY_MODEL_6fe5ac05d47b41ceb544a5179d1ef5d4",
            "_model_module": "@jupyter-widgets/controls",
            "children": [
              "IPY_MODEL_1b9ccce5f3894cdc9158c653d41957ca",
              "IPY_MODEL_d8afbc8b25444d1483330af2b18a94d0"
            ]
          }
        },
        "6fe5ac05d47b41ceb544a5179d1ef5d4": {
          "model_module": "@jupyter-widgets/base",
          "model_name": "LayoutModel",
          "state": {
            "_view_name": "LayoutView",
            "grid_template_rows": null,
            "right": null,
            "justify_content": null,
            "_view_module": "@jupyter-widgets/base",
            "overflow": null,
            "_model_module_version": "1.2.0",
            "_view_count": null,
            "flex_flow": null,
            "width": null,
            "min_width": null,
            "border": null,
            "align_items": null,
            "bottom": null,
            "_model_module": "@jupyter-widgets/base",
            "top": null,
            "grid_column": null,
            "overflow_y": null,
            "overflow_x": null,
            "grid_auto_flow": null,
            "grid_area": null,
            "grid_template_columns": null,
            "flex": null,
            "_model_name": "LayoutModel",
            "justify_items": null,
            "grid_row": null,
            "max_height": null,
            "align_content": null,
            "visibility": null,
            "align_self": null,
            "height": null,
            "min_height": null,
            "padding": null,
            "grid_auto_rows": null,
            "grid_gap": null,
            "max_width": null,
            "order": null,
            "_view_module_version": "1.2.0",
            "grid_template_areas": null,
            "object_position": null,
            "object_fit": null,
            "grid_auto_columns": null,
            "margin": null,
            "display": null,
            "left": null
          }
        },
        "1b9ccce5f3894cdc9158c653d41957ca": {
          "model_module": "@jupyter-widgets/controls",
          "model_name": "FloatProgressModel",
          "state": {
            "_view_name": "ProgressView",
            "style": "IPY_MODEL_92a14ea822d0458583320ed461bd1a17",
            "_dom_classes": [],
            "description": "Iteration: 100%",
            "_model_name": "FloatProgressModel",
            "bar_style": "success",
            "max": 28,
            "_view_module": "@jupyter-widgets/controls",
            "_model_module_version": "1.5.0",
            "value": 28,
            "_view_count": null,
            "_view_module_version": "1.5.0",
            "orientation": "horizontal",
            "min": 0,
            "description_tooltip": null,
            "_model_module": "@jupyter-widgets/controls",
            "layout": "IPY_MODEL_d071db82958845a5947daa9eaa2ddf91"
          }
        },
        "d8afbc8b25444d1483330af2b18a94d0": {
          "model_module": "@jupyter-widgets/controls",
          "model_name": "HTMLModel",
          "state": {
            "_view_name": "HTMLView",
            "style": "IPY_MODEL_0c9c7bc3e1dc495799a4a37c990f4241",
            "_dom_classes": [],
            "description": "",
            "_model_name": "HTMLModel",
            "placeholder": "​",
            "_view_module": "@jupyter-widgets/controls",
            "_model_module_version": "1.5.0",
            "value": " 28/28 [01:01&lt;00:00,  2.20s/it]",
            "_view_count": null,
            "_view_module_version": "1.5.0",
            "description_tooltip": null,
            "_model_module": "@jupyter-widgets/controls",
            "layout": "IPY_MODEL_94c3ab21e78c405da85788eb4106db50"
          }
        },
        "92a14ea822d0458583320ed461bd1a17": {
          "model_module": "@jupyter-widgets/controls",
          "model_name": "ProgressStyleModel",
          "state": {
            "_view_name": "StyleView",
            "_model_name": "ProgressStyleModel",
            "description_width": "initial",
            "_view_module": "@jupyter-widgets/base",
            "_model_module_version": "1.5.0",
            "_view_count": null,
            "_view_module_version": "1.2.0",
            "bar_color": null,
            "_model_module": "@jupyter-widgets/controls"
          }
        },
        "d071db82958845a5947daa9eaa2ddf91": {
          "model_module": "@jupyter-widgets/base",
          "model_name": "LayoutModel",
          "state": {
            "_view_name": "LayoutView",
            "grid_template_rows": null,
            "right": null,
            "justify_content": null,
            "_view_module": "@jupyter-widgets/base",
            "overflow": null,
            "_model_module_version": "1.2.0",
            "_view_count": null,
            "flex_flow": null,
            "width": null,
            "min_width": null,
            "border": null,
            "align_items": null,
            "bottom": null,
            "_model_module": "@jupyter-widgets/base",
            "top": null,
            "grid_column": null,
            "overflow_y": null,
            "overflow_x": null,
            "grid_auto_flow": null,
            "grid_area": null,
            "grid_template_columns": null,
            "flex": null,
            "_model_name": "LayoutModel",
            "justify_items": null,
            "grid_row": null,
            "max_height": null,
            "align_content": null,
            "visibility": null,
            "align_self": null,
            "height": null,
            "min_height": null,
            "padding": null,
            "grid_auto_rows": null,
            "grid_gap": null,
            "max_width": null,
            "order": null,
            "_view_module_version": "1.2.0",
            "grid_template_areas": null,
            "object_position": null,
            "object_fit": null,
            "grid_auto_columns": null,
            "margin": null,
            "display": null,
            "left": null
          }
        },
        "0c9c7bc3e1dc495799a4a37c990f4241": {
          "model_module": "@jupyter-widgets/controls",
          "model_name": "DescriptionStyleModel",
          "state": {
            "_view_name": "StyleView",
            "_model_name": "DescriptionStyleModel",
            "description_width": "",
            "_view_module": "@jupyter-widgets/base",
            "_model_module_version": "1.5.0",
            "_view_count": null,
            "_view_module_version": "1.2.0",
            "_model_module": "@jupyter-widgets/controls"
          }
        },
        "94c3ab21e78c405da85788eb4106db50": {
          "model_module": "@jupyter-widgets/base",
          "model_name": "LayoutModel",
          "state": {
            "_view_name": "LayoutView",
            "grid_template_rows": null,
            "right": null,
            "justify_content": null,
            "_view_module": "@jupyter-widgets/base",
            "overflow": null,
            "_model_module_version": "1.2.0",
            "_view_count": null,
            "flex_flow": null,
            "width": null,
            "min_width": null,
            "border": null,
            "align_items": null,
            "bottom": null,
            "_model_module": "@jupyter-widgets/base",
            "top": null,
            "grid_column": null,
            "overflow_y": null,
            "overflow_x": null,
            "grid_auto_flow": null,
            "grid_area": null,
            "grid_template_columns": null,
            "flex": null,
            "_model_name": "LayoutModel",
            "justify_items": null,
            "grid_row": null,
            "max_height": null,
            "align_content": null,
            "visibility": null,
            "align_self": null,
            "height": null,
            "min_height": null,
            "padding": null,
            "grid_auto_rows": null,
            "grid_gap": null,
            "max_width": null,
            "order": null,
            "_view_module_version": "1.2.0",
            "grid_template_areas": null,
            "object_position": null,
            "object_fit": null,
            "grid_auto_columns": null,
            "margin": null,
            "display": null,
            "left": null
          }
        },
        "3304541393f84fefa400de83e8636a5c": {
          "model_module": "@jupyter-widgets/controls",
          "model_name": "HBoxModel",
          "state": {
            "_view_name": "HBoxView",
            "_dom_classes": [],
            "_model_name": "HBoxModel",
            "_view_module": "@jupyter-widgets/controls",
            "_model_module_version": "1.5.0",
            "_view_count": null,
            "_view_module_version": "1.5.0",
            "box_style": "",
            "layout": "IPY_MODEL_0538e8932a854ef987ce8e43ec13a719",
            "_model_module": "@jupyter-widgets/controls",
            "children": [
              "IPY_MODEL_cf3e517756074c739d2d8f0368dee1ea",
              "IPY_MODEL_0e2231e802f34971a1af2cbc0022f3eb"
            ]
          }
        },
        "0538e8932a854ef987ce8e43ec13a719": {
          "model_module": "@jupyter-widgets/base",
          "model_name": "LayoutModel",
          "state": {
            "_view_name": "LayoutView",
            "grid_template_rows": null,
            "right": null,
            "justify_content": null,
            "_view_module": "@jupyter-widgets/base",
            "overflow": null,
            "_model_module_version": "1.2.0",
            "_view_count": null,
            "flex_flow": null,
            "width": null,
            "min_width": null,
            "border": null,
            "align_items": null,
            "bottom": null,
            "_model_module": "@jupyter-widgets/base",
            "top": null,
            "grid_column": null,
            "overflow_y": null,
            "overflow_x": null,
            "grid_auto_flow": null,
            "grid_area": null,
            "grid_template_columns": null,
            "flex": null,
            "_model_name": "LayoutModel",
            "justify_items": null,
            "grid_row": null,
            "max_height": null,
            "align_content": null,
            "visibility": null,
            "align_self": null,
            "height": null,
            "min_height": null,
            "padding": null,
            "grid_auto_rows": null,
            "grid_gap": null,
            "max_width": null,
            "order": null,
            "_view_module_version": "1.2.0",
            "grid_template_areas": null,
            "object_position": null,
            "object_fit": null,
            "grid_auto_columns": null,
            "margin": null,
            "display": null,
            "left": null
          }
        },
        "cf3e517756074c739d2d8f0368dee1ea": {
          "model_module": "@jupyter-widgets/controls",
          "model_name": "FloatProgressModel",
          "state": {
            "_view_name": "ProgressView",
            "style": "IPY_MODEL_b50304c81a714aeaa58d5c8e20dee56b",
            "_dom_classes": [],
            "description": "Iteration: 100%",
            "_model_name": "FloatProgressModel",
            "bar_style": "success",
            "max": 28,
            "_view_module": "@jupyter-widgets/controls",
            "_model_module_version": "1.5.0",
            "value": 28,
            "_view_count": null,
            "_view_module_version": "1.5.0",
            "orientation": "horizontal",
            "min": 0,
            "description_tooltip": null,
            "_model_module": "@jupyter-widgets/controls",
            "layout": "IPY_MODEL_5d12b9d1dfdb48b7809111a676185d15"
          }
        },
        "0e2231e802f34971a1af2cbc0022f3eb": {
          "model_module": "@jupyter-widgets/controls",
          "model_name": "HTMLModel",
          "state": {
            "_view_name": "HTMLView",
            "style": "IPY_MODEL_d4c81c9a13a74df2a0cc7c237469b68b",
            "_dom_classes": [],
            "description": "",
            "_model_name": "HTMLModel",
            "placeholder": "​",
            "_view_module": "@jupyter-widgets/controls",
            "_model_module_version": "1.5.0",
            "value": " 28/28 [00:46&lt;00:00,  1.67s/it]",
            "_view_count": null,
            "_view_module_version": "1.5.0",
            "description_tooltip": null,
            "_model_module": "@jupyter-widgets/controls",
            "layout": "IPY_MODEL_81b6e33bbd5547e99b8dab541374f4e7"
          }
        },
        "b50304c81a714aeaa58d5c8e20dee56b": {
          "model_module": "@jupyter-widgets/controls",
          "model_name": "ProgressStyleModel",
          "state": {
            "_view_name": "StyleView",
            "_model_name": "ProgressStyleModel",
            "description_width": "initial",
            "_view_module": "@jupyter-widgets/base",
            "_model_module_version": "1.5.0",
            "_view_count": null,
            "_view_module_version": "1.2.0",
            "bar_color": null,
            "_model_module": "@jupyter-widgets/controls"
          }
        },
        "5d12b9d1dfdb48b7809111a676185d15": {
          "model_module": "@jupyter-widgets/base",
          "model_name": "LayoutModel",
          "state": {
            "_view_name": "LayoutView",
            "grid_template_rows": null,
            "right": null,
            "justify_content": null,
            "_view_module": "@jupyter-widgets/base",
            "overflow": null,
            "_model_module_version": "1.2.0",
            "_view_count": null,
            "flex_flow": null,
            "width": null,
            "min_width": null,
            "border": null,
            "align_items": null,
            "bottom": null,
            "_model_module": "@jupyter-widgets/base",
            "top": null,
            "grid_column": null,
            "overflow_y": null,
            "overflow_x": null,
            "grid_auto_flow": null,
            "grid_area": null,
            "grid_template_columns": null,
            "flex": null,
            "_model_name": "LayoutModel",
            "justify_items": null,
            "grid_row": null,
            "max_height": null,
            "align_content": null,
            "visibility": null,
            "align_self": null,
            "height": null,
            "min_height": null,
            "padding": null,
            "grid_auto_rows": null,
            "grid_gap": null,
            "max_width": null,
            "order": null,
            "_view_module_version": "1.2.0",
            "grid_template_areas": null,
            "object_position": null,
            "object_fit": null,
            "grid_auto_columns": null,
            "margin": null,
            "display": null,
            "left": null
          }
        },
        "d4c81c9a13a74df2a0cc7c237469b68b": {
          "model_module": "@jupyter-widgets/controls",
          "model_name": "DescriptionStyleModel",
          "state": {
            "_view_name": "StyleView",
            "_model_name": "DescriptionStyleModel",
            "description_width": "",
            "_view_module": "@jupyter-widgets/base",
            "_model_module_version": "1.5.0",
            "_view_count": null,
            "_view_module_version": "1.2.0",
            "_model_module": "@jupyter-widgets/controls"
          }
        },
        "81b6e33bbd5547e99b8dab541374f4e7": {
          "model_module": "@jupyter-widgets/base",
          "model_name": "LayoutModel",
          "state": {
            "_view_name": "LayoutView",
            "grid_template_rows": null,
            "right": null,
            "justify_content": null,
            "_view_module": "@jupyter-widgets/base",
            "overflow": null,
            "_model_module_version": "1.2.0",
            "_view_count": null,
            "flex_flow": null,
            "width": null,
            "min_width": null,
            "border": null,
            "align_items": null,
            "bottom": null,
            "_model_module": "@jupyter-widgets/base",
            "top": null,
            "grid_column": null,
            "overflow_y": null,
            "overflow_x": null,
            "grid_auto_flow": null,
            "grid_area": null,
            "grid_template_columns": null,
            "flex": null,
            "_model_name": "LayoutModel",
            "justify_items": null,
            "grid_row": null,
            "max_height": null,
            "align_content": null,
            "visibility": null,
            "align_self": null,
            "height": null,
            "min_height": null,
            "padding": null,
            "grid_auto_rows": null,
            "grid_gap": null,
            "max_width": null,
            "order": null,
            "_view_module_version": "1.2.0",
            "grid_template_areas": null,
            "object_position": null,
            "object_fit": null,
            "grid_auto_columns": null,
            "margin": null,
            "display": null,
            "left": null
          }
        },
        "f03fc44e573e4c799f1045c504d36b2f": {
          "model_module": "@jupyter-widgets/controls",
          "model_name": "HBoxModel",
          "state": {
            "_view_name": "HBoxView",
            "_dom_classes": [],
            "_model_name": "HBoxModel",
            "_view_module": "@jupyter-widgets/controls",
            "_model_module_version": "1.5.0",
            "_view_count": null,
            "_view_module_version": "1.5.0",
            "box_style": "",
            "layout": "IPY_MODEL_a7b74586b70244eba0782addd7a6e4d4",
            "_model_module": "@jupyter-widgets/controls",
            "children": [
              "IPY_MODEL_1f80711802bd4fd8b50d101d6df878b6",
              "IPY_MODEL_2d9c3e251af84a14b34df6160666b7ee"
            ]
          }
        },
        "a7b74586b70244eba0782addd7a6e4d4": {
          "model_module": "@jupyter-widgets/base",
          "model_name": "LayoutModel",
          "state": {
            "_view_name": "LayoutView",
            "grid_template_rows": null,
            "right": null,
            "justify_content": null,
            "_view_module": "@jupyter-widgets/base",
            "overflow": null,
            "_model_module_version": "1.2.0",
            "_view_count": null,
            "flex_flow": null,
            "width": null,
            "min_width": null,
            "border": null,
            "align_items": null,
            "bottom": null,
            "_model_module": "@jupyter-widgets/base",
            "top": null,
            "grid_column": null,
            "overflow_y": null,
            "overflow_x": null,
            "grid_auto_flow": null,
            "grid_area": null,
            "grid_template_columns": null,
            "flex": null,
            "_model_name": "LayoutModel",
            "justify_items": null,
            "grid_row": null,
            "max_height": null,
            "align_content": null,
            "visibility": null,
            "align_self": null,
            "height": null,
            "min_height": null,
            "padding": null,
            "grid_auto_rows": null,
            "grid_gap": null,
            "max_width": null,
            "order": null,
            "_view_module_version": "1.2.0",
            "grid_template_areas": null,
            "object_position": null,
            "object_fit": null,
            "grid_auto_columns": null,
            "margin": null,
            "display": null,
            "left": null
          }
        },
        "1f80711802bd4fd8b50d101d6df878b6": {
          "model_module": "@jupyter-widgets/controls",
          "model_name": "FloatProgressModel",
          "state": {
            "_view_name": "ProgressView",
            "style": "IPY_MODEL_75af76007b0b482698644fdd0ed8d571",
            "_dom_classes": [],
            "description": "Iteration: 100%",
            "_model_name": "FloatProgressModel",
            "bar_style": "success",
            "max": 28,
            "_view_module": "@jupyter-widgets/controls",
            "_model_module_version": "1.5.0",
            "value": 28,
            "_view_count": null,
            "_view_module_version": "1.5.0",
            "orientation": "horizontal",
            "min": 0,
            "description_tooltip": null,
            "_model_module": "@jupyter-widgets/controls",
            "layout": "IPY_MODEL_9ac5ff1a27824774a09ca05be8cc4857"
          }
        },
        "2d9c3e251af84a14b34df6160666b7ee": {
          "model_module": "@jupyter-widgets/controls",
          "model_name": "HTMLModel",
          "state": {
            "_view_name": "HTMLView",
            "style": "IPY_MODEL_71c8d30a19814201908f88a77ce6f46a",
            "_dom_classes": [],
            "description": "",
            "_model_name": "HTMLModel",
            "placeholder": "​",
            "_view_module": "@jupyter-widgets/controls",
            "_model_module_version": "1.5.0",
            "value": " 28/28 [00:08&lt;00:00,  3.43it/s]",
            "_view_count": null,
            "_view_module_version": "1.5.0",
            "description_tooltip": null,
            "_model_module": "@jupyter-widgets/controls",
            "layout": "IPY_MODEL_dd47cc0013c6480fa831d049940850a6"
          }
        },
        "75af76007b0b482698644fdd0ed8d571": {
          "model_module": "@jupyter-widgets/controls",
          "model_name": "ProgressStyleModel",
          "state": {
            "_view_name": "StyleView",
            "_model_name": "ProgressStyleModel",
            "description_width": "initial",
            "_view_module": "@jupyter-widgets/base",
            "_model_module_version": "1.5.0",
            "_view_count": null,
            "_view_module_version": "1.2.0",
            "bar_color": null,
            "_model_module": "@jupyter-widgets/controls"
          }
        },
        "9ac5ff1a27824774a09ca05be8cc4857": {
          "model_module": "@jupyter-widgets/base",
          "model_name": "LayoutModel",
          "state": {
            "_view_name": "LayoutView",
            "grid_template_rows": null,
            "right": null,
            "justify_content": null,
            "_view_module": "@jupyter-widgets/base",
            "overflow": null,
            "_model_module_version": "1.2.0",
            "_view_count": null,
            "flex_flow": null,
            "width": null,
            "min_width": null,
            "border": null,
            "align_items": null,
            "bottom": null,
            "_model_module": "@jupyter-widgets/base",
            "top": null,
            "grid_column": null,
            "overflow_y": null,
            "overflow_x": null,
            "grid_auto_flow": null,
            "grid_area": null,
            "grid_template_columns": null,
            "flex": null,
            "_model_name": "LayoutModel",
            "justify_items": null,
            "grid_row": null,
            "max_height": null,
            "align_content": null,
            "visibility": null,
            "align_self": null,
            "height": null,
            "min_height": null,
            "padding": null,
            "grid_auto_rows": null,
            "grid_gap": null,
            "max_width": null,
            "order": null,
            "_view_module_version": "1.2.0",
            "grid_template_areas": null,
            "object_position": null,
            "object_fit": null,
            "grid_auto_columns": null,
            "margin": null,
            "display": null,
            "left": null
          }
        },
        "71c8d30a19814201908f88a77ce6f46a": {
          "model_module": "@jupyter-widgets/controls",
          "model_name": "DescriptionStyleModel",
          "state": {
            "_view_name": "StyleView",
            "_model_name": "DescriptionStyleModel",
            "description_width": "",
            "_view_module": "@jupyter-widgets/base",
            "_model_module_version": "1.5.0",
            "_view_count": null,
            "_view_module_version": "1.2.0",
            "_model_module": "@jupyter-widgets/controls"
          }
        },
        "dd47cc0013c6480fa831d049940850a6": {
          "model_module": "@jupyter-widgets/base",
          "model_name": "LayoutModel",
          "state": {
            "_view_name": "LayoutView",
            "grid_template_rows": null,
            "right": null,
            "justify_content": null,
            "_view_module": "@jupyter-widgets/base",
            "overflow": null,
            "_model_module_version": "1.2.0",
            "_view_count": null,
            "flex_flow": null,
            "width": null,
            "min_width": null,
            "border": null,
            "align_items": null,
            "bottom": null,
            "_model_module": "@jupyter-widgets/base",
            "top": null,
            "grid_column": null,
            "overflow_y": null,
            "overflow_x": null,
            "grid_auto_flow": null,
            "grid_area": null,
            "grid_template_columns": null,
            "flex": null,
            "_model_name": "LayoutModel",
            "justify_items": null,
            "grid_row": null,
            "max_height": null,
            "align_content": null,
            "visibility": null,
            "align_self": null,
            "height": null,
            "min_height": null,
            "padding": null,
            "grid_auto_rows": null,
            "grid_gap": null,
            "max_width": null,
            "order": null,
            "_view_module_version": "1.2.0",
            "grid_template_areas": null,
            "object_position": null,
            "object_fit": null,
            "grid_auto_columns": null,
            "margin": null,
            "display": null,
            "left": null
          }
        },
        "1d385b01f10e44489b63814336181bde": {
          "model_module": "@jupyter-widgets/controls",
          "model_name": "HBoxModel",
          "state": {
            "_view_name": "HBoxView",
            "_dom_classes": [],
            "_model_name": "HBoxModel",
            "_view_module": "@jupyter-widgets/controls",
            "_model_module_version": "1.5.0",
            "_view_count": null,
            "_view_module_version": "1.5.0",
            "box_style": "",
            "layout": "IPY_MODEL_4701fb0c920d43c189eb3f36091821b7",
            "_model_module": "@jupyter-widgets/controls",
            "children": [
              "IPY_MODEL_46ef86cff22a4e88964ad11f33c943ec",
              "IPY_MODEL_6cc96dac09a6452a9ed253fb25c474b7"
            ]
          }
        },
        "4701fb0c920d43c189eb3f36091821b7": {
          "model_module": "@jupyter-widgets/base",
          "model_name": "LayoutModel",
          "state": {
            "_view_name": "LayoutView",
            "grid_template_rows": null,
            "right": null,
            "justify_content": null,
            "_view_module": "@jupyter-widgets/base",
            "overflow": null,
            "_model_module_version": "1.2.0",
            "_view_count": null,
            "flex_flow": null,
            "width": null,
            "min_width": null,
            "border": null,
            "align_items": null,
            "bottom": null,
            "_model_module": "@jupyter-widgets/base",
            "top": null,
            "grid_column": null,
            "overflow_y": null,
            "overflow_x": null,
            "grid_auto_flow": null,
            "grid_area": null,
            "grid_template_columns": null,
            "flex": null,
            "_model_name": "LayoutModel",
            "justify_items": null,
            "grid_row": null,
            "max_height": null,
            "align_content": null,
            "visibility": null,
            "align_self": null,
            "height": null,
            "min_height": null,
            "padding": null,
            "grid_auto_rows": null,
            "grid_gap": null,
            "max_width": null,
            "order": null,
            "_view_module_version": "1.2.0",
            "grid_template_areas": null,
            "object_position": null,
            "object_fit": null,
            "grid_auto_columns": null,
            "margin": null,
            "display": null,
            "left": null
          }
        },
        "46ef86cff22a4e88964ad11f33c943ec": {
          "model_module": "@jupyter-widgets/controls",
          "model_name": "FloatProgressModel",
          "state": {
            "_view_name": "ProgressView",
            "style": "IPY_MODEL_86876f890d9443dbb2f28ed6020526dd",
            "_dom_classes": [],
            "description": "Iteration: 100%",
            "_model_name": "FloatProgressModel",
            "bar_style": "success",
            "max": 28,
            "_view_module": "@jupyter-widgets/controls",
            "_model_module_version": "1.5.0",
            "value": 28,
            "_view_count": null,
            "_view_module_version": "1.5.0",
            "orientation": "horizontal",
            "min": 0,
            "description_tooltip": null,
            "_model_module": "@jupyter-widgets/controls",
            "layout": "IPY_MODEL_e473824c3f2146948bb1b8b4a0e5e5da"
          }
        },
        "6cc96dac09a6452a9ed253fb25c474b7": {
          "model_module": "@jupyter-widgets/controls",
          "model_name": "HTMLModel",
          "state": {
            "_view_name": "HTMLView",
            "style": "IPY_MODEL_7bda8650be2440588bedf1b2d577b38c",
            "_dom_classes": [],
            "description": "",
            "_model_name": "HTMLModel",
            "placeholder": "​",
            "_view_module": "@jupyter-widgets/controls",
            "_model_module_version": "1.5.0",
            "value": " 28/28 [00:31&lt;00:00,  1.11s/it]",
            "_view_count": null,
            "_view_module_version": "1.5.0",
            "description_tooltip": null,
            "_model_module": "@jupyter-widgets/controls",
            "layout": "IPY_MODEL_78ec3b4e9914430f9359f26b08105e04"
          }
        },
        "86876f890d9443dbb2f28ed6020526dd": {
          "model_module": "@jupyter-widgets/controls",
          "model_name": "ProgressStyleModel",
          "state": {
            "_view_name": "StyleView",
            "_model_name": "ProgressStyleModel",
            "description_width": "initial",
            "_view_module": "@jupyter-widgets/base",
            "_model_module_version": "1.5.0",
            "_view_count": null,
            "_view_module_version": "1.2.0",
            "bar_color": null,
            "_model_module": "@jupyter-widgets/controls"
          }
        },
        "e473824c3f2146948bb1b8b4a0e5e5da": {
          "model_module": "@jupyter-widgets/base",
          "model_name": "LayoutModel",
          "state": {
            "_view_name": "LayoutView",
            "grid_template_rows": null,
            "right": null,
            "justify_content": null,
            "_view_module": "@jupyter-widgets/base",
            "overflow": null,
            "_model_module_version": "1.2.0",
            "_view_count": null,
            "flex_flow": null,
            "width": null,
            "min_width": null,
            "border": null,
            "align_items": null,
            "bottom": null,
            "_model_module": "@jupyter-widgets/base",
            "top": null,
            "grid_column": null,
            "overflow_y": null,
            "overflow_x": null,
            "grid_auto_flow": null,
            "grid_area": null,
            "grid_template_columns": null,
            "flex": null,
            "_model_name": "LayoutModel",
            "justify_items": null,
            "grid_row": null,
            "max_height": null,
            "align_content": null,
            "visibility": null,
            "align_self": null,
            "height": null,
            "min_height": null,
            "padding": null,
            "grid_auto_rows": null,
            "grid_gap": null,
            "max_width": null,
            "order": null,
            "_view_module_version": "1.2.0",
            "grid_template_areas": null,
            "object_position": null,
            "object_fit": null,
            "grid_auto_columns": null,
            "margin": null,
            "display": null,
            "left": null
          }
        },
        "7bda8650be2440588bedf1b2d577b38c": {
          "model_module": "@jupyter-widgets/controls",
          "model_name": "DescriptionStyleModel",
          "state": {
            "_view_name": "StyleView",
            "_model_name": "DescriptionStyleModel",
            "description_width": "",
            "_view_module": "@jupyter-widgets/base",
            "_model_module_version": "1.5.0",
            "_view_count": null,
            "_view_module_version": "1.2.0",
            "_model_module": "@jupyter-widgets/controls"
          }
        },
        "78ec3b4e9914430f9359f26b08105e04": {
          "model_module": "@jupyter-widgets/base",
          "model_name": "LayoutModel",
          "state": {
            "_view_name": "LayoutView",
            "grid_template_rows": null,
            "right": null,
            "justify_content": null,
            "_view_module": "@jupyter-widgets/base",
            "overflow": null,
            "_model_module_version": "1.2.0",
            "_view_count": null,
            "flex_flow": null,
            "width": null,
            "min_width": null,
            "border": null,
            "align_items": null,
            "bottom": null,
            "_model_module": "@jupyter-widgets/base",
            "top": null,
            "grid_column": null,
            "overflow_y": null,
            "overflow_x": null,
            "grid_auto_flow": null,
            "grid_area": null,
            "grid_template_columns": null,
            "flex": null,
            "_model_name": "LayoutModel",
            "justify_items": null,
            "grid_row": null,
            "max_height": null,
            "align_content": null,
            "visibility": null,
            "align_self": null,
            "height": null,
            "min_height": null,
            "padding": null,
            "grid_auto_rows": null,
            "grid_gap": null,
            "max_width": null,
            "order": null,
            "_view_module_version": "1.2.0",
            "grid_template_areas": null,
            "object_position": null,
            "object_fit": null,
            "grid_auto_columns": null,
            "margin": null,
            "display": null,
            "left": null
          }
        },
        "492cbe734d6149c2837528e1655d662e": {
          "model_module": "@jupyter-widgets/controls",
          "model_name": "HBoxModel",
          "state": {
            "_view_name": "HBoxView",
            "_dom_classes": [],
            "_model_name": "HBoxModel",
            "_view_module": "@jupyter-widgets/controls",
            "_model_module_version": "1.5.0",
            "_view_count": null,
            "_view_module_version": "1.5.0",
            "box_style": "",
            "layout": "IPY_MODEL_97c90c47ac574ff8b9d9c00fe349da80",
            "_model_module": "@jupyter-widgets/controls",
            "children": [
              "IPY_MODEL_6d31911b685c4108a8d5e0b525613911",
              "IPY_MODEL_29ab38f03b9c4c86b18ed5608d040e49"
            ]
          }
        },
        "97c90c47ac574ff8b9d9c00fe349da80": {
          "model_module": "@jupyter-widgets/base",
          "model_name": "LayoutModel",
          "state": {
            "_view_name": "LayoutView",
            "grid_template_rows": null,
            "right": null,
            "justify_content": null,
            "_view_module": "@jupyter-widgets/base",
            "overflow": null,
            "_model_module_version": "1.2.0",
            "_view_count": null,
            "flex_flow": null,
            "width": null,
            "min_width": null,
            "border": null,
            "align_items": null,
            "bottom": null,
            "_model_module": "@jupyter-widgets/base",
            "top": null,
            "grid_column": null,
            "overflow_y": null,
            "overflow_x": null,
            "grid_auto_flow": null,
            "grid_area": null,
            "grid_template_columns": null,
            "flex": null,
            "_model_name": "LayoutModel",
            "justify_items": null,
            "grid_row": null,
            "max_height": null,
            "align_content": null,
            "visibility": null,
            "align_self": null,
            "height": null,
            "min_height": null,
            "padding": null,
            "grid_auto_rows": null,
            "grid_gap": null,
            "max_width": null,
            "order": null,
            "_view_module_version": "1.2.0",
            "grid_template_areas": null,
            "object_position": null,
            "object_fit": null,
            "grid_auto_columns": null,
            "margin": null,
            "display": null,
            "left": null
          }
        },
        "6d31911b685c4108a8d5e0b525613911": {
          "model_module": "@jupyter-widgets/controls",
          "model_name": "FloatProgressModel",
          "state": {
            "_view_name": "ProgressView",
            "style": "IPY_MODEL_c69b83d1ec9347f3b2b5375ca533738a",
            "_dom_classes": [],
            "description": "Iteration: 100%",
            "_model_name": "FloatProgressModel",
            "bar_style": "success",
            "max": 28,
            "_view_module": "@jupyter-widgets/controls",
            "_model_module_version": "1.5.0",
            "value": 28,
            "_view_count": null,
            "_view_module_version": "1.5.0",
            "orientation": "horizontal",
            "min": 0,
            "description_tooltip": null,
            "_model_module": "@jupyter-widgets/controls",
            "layout": "IPY_MODEL_d40ea82e5d4f4b149b95796005062856"
          }
        },
        "29ab38f03b9c4c86b18ed5608d040e49": {
          "model_module": "@jupyter-widgets/controls",
          "model_name": "HTMLModel",
          "state": {
            "_view_name": "HTMLView",
            "style": "IPY_MODEL_75a15fb3c013479cb5c3a45df0b2936f",
            "_dom_classes": [],
            "description": "",
            "_model_name": "HTMLModel",
            "placeholder": "​",
            "_view_module": "@jupyter-widgets/controls",
            "_model_module_version": "1.5.0",
            "value": " 28/28 [00:23&lt;00:00,  1.22it/s]",
            "_view_count": null,
            "_view_module_version": "1.5.0",
            "description_tooltip": null,
            "_model_module": "@jupyter-widgets/controls",
            "layout": "IPY_MODEL_9151a55f3f6d4db2928f2b3b279f3c0b"
          }
        },
        "c69b83d1ec9347f3b2b5375ca533738a": {
          "model_module": "@jupyter-widgets/controls",
          "model_name": "ProgressStyleModel",
          "state": {
            "_view_name": "StyleView",
            "_model_name": "ProgressStyleModel",
            "description_width": "initial",
            "_view_module": "@jupyter-widgets/base",
            "_model_module_version": "1.5.0",
            "_view_count": null,
            "_view_module_version": "1.2.0",
            "bar_color": null,
            "_model_module": "@jupyter-widgets/controls"
          }
        },
        "d40ea82e5d4f4b149b95796005062856": {
          "model_module": "@jupyter-widgets/base",
          "model_name": "LayoutModel",
          "state": {
            "_view_name": "LayoutView",
            "grid_template_rows": null,
            "right": null,
            "justify_content": null,
            "_view_module": "@jupyter-widgets/base",
            "overflow": null,
            "_model_module_version": "1.2.0",
            "_view_count": null,
            "flex_flow": null,
            "width": null,
            "min_width": null,
            "border": null,
            "align_items": null,
            "bottom": null,
            "_model_module": "@jupyter-widgets/base",
            "top": null,
            "grid_column": null,
            "overflow_y": null,
            "overflow_x": null,
            "grid_auto_flow": null,
            "grid_area": null,
            "grid_template_columns": null,
            "flex": null,
            "_model_name": "LayoutModel",
            "justify_items": null,
            "grid_row": null,
            "max_height": null,
            "align_content": null,
            "visibility": null,
            "align_self": null,
            "height": null,
            "min_height": null,
            "padding": null,
            "grid_auto_rows": null,
            "grid_gap": null,
            "max_width": null,
            "order": null,
            "_view_module_version": "1.2.0",
            "grid_template_areas": null,
            "object_position": null,
            "object_fit": null,
            "grid_auto_columns": null,
            "margin": null,
            "display": null,
            "left": null
          }
        },
        "75a15fb3c013479cb5c3a45df0b2936f": {
          "model_module": "@jupyter-widgets/controls",
          "model_name": "DescriptionStyleModel",
          "state": {
            "_view_name": "StyleView",
            "_model_name": "DescriptionStyleModel",
            "description_width": "",
            "_view_module": "@jupyter-widgets/base",
            "_model_module_version": "1.5.0",
            "_view_count": null,
            "_view_module_version": "1.2.0",
            "_model_module": "@jupyter-widgets/controls"
          }
        },
        "9151a55f3f6d4db2928f2b3b279f3c0b": {
          "model_module": "@jupyter-widgets/base",
          "model_name": "LayoutModel",
          "state": {
            "_view_name": "LayoutView",
            "grid_template_rows": null,
            "right": null,
            "justify_content": null,
            "_view_module": "@jupyter-widgets/base",
            "overflow": null,
            "_model_module_version": "1.2.0",
            "_view_count": null,
            "flex_flow": null,
            "width": null,
            "min_width": null,
            "border": null,
            "align_items": null,
            "bottom": null,
            "_model_module": "@jupyter-widgets/base",
            "top": null,
            "grid_column": null,
            "overflow_y": null,
            "overflow_x": null,
            "grid_auto_flow": null,
            "grid_area": null,
            "grid_template_columns": null,
            "flex": null,
            "_model_name": "LayoutModel",
            "justify_items": null,
            "grid_row": null,
            "max_height": null,
            "align_content": null,
            "visibility": null,
            "align_self": null,
            "height": null,
            "min_height": null,
            "padding": null,
            "grid_auto_rows": null,
            "grid_gap": null,
            "max_width": null,
            "order": null,
            "_view_module_version": "1.2.0",
            "grid_template_areas": null,
            "object_position": null,
            "object_fit": null,
            "grid_auto_columns": null,
            "margin": null,
            "display": null,
            "left": null
          }
        },
        "1e304bf241274d818ab4522828ae169c": {
          "model_module": "@jupyter-widgets/controls",
          "model_name": "HBoxModel",
          "state": {
            "_view_name": "HBoxView",
            "_dom_classes": [],
            "_model_name": "HBoxModel",
            "_view_module": "@jupyter-widgets/controls",
            "_model_module_version": "1.5.0",
            "_view_count": null,
            "_view_module_version": "1.5.0",
            "box_style": "",
            "layout": "IPY_MODEL_f65aac581b9f413589669b922fbc46a8",
            "_model_module": "@jupyter-widgets/controls",
            "children": [
              "IPY_MODEL_16336b96d0a64703bd03d5f0e48657b8",
              "IPY_MODEL_68841718d5724076a06b0dd7c0a9df69"
            ]
          }
        },
        "f65aac581b9f413589669b922fbc46a8": {
          "model_module": "@jupyter-widgets/base",
          "model_name": "LayoutModel",
          "state": {
            "_view_name": "LayoutView",
            "grid_template_rows": null,
            "right": null,
            "justify_content": null,
            "_view_module": "@jupyter-widgets/base",
            "overflow": null,
            "_model_module_version": "1.2.0",
            "_view_count": null,
            "flex_flow": null,
            "width": null,
            "min_width": null,
            "border": null,
            "align_items": null,
            "bottom": null,
            "_model_module": "@jupyter-widgets/base",
            "top": null,
            "grid_column": null,
            "overflow_y": null,
            "overflow_x": null,
            "grid_auto_flow": null,
            "grid_area": null,
            "grid_template_columns": null,
            "flex": null,
            "_model_name": "LayoutModel",
            "justify_items": null,
            "grid_row": null,
            "max_height": null,
            "align_content": null,
            "visibility": null,
            "align_self": null,
            "height": null,
            "min_height": null,
            "padding": null,
            "grid_auto_rows": null,
            "grid_gap": null,
            "max_width": null,
            "order": null,
            "_view_module_version": "1.2.0",
            "grid_template_areas": null,
            "object_position": null,
            "object_fit": null,
            "grid_auto_columns": null,
            "margin": null,
            "display": null,
            "left": null
          }
        },
        "16336b96d0a64703bd03d5f0e48657b8": {
          "model_module": "@jupyter-widgets/controls",
          "model_name": "FloatProgressModel",
          "state": {
            "_view_name": "ProgressView",
            "style": "IPY_MODEL_9eab9ea38b41459da2284fdd5aa39bbb",
            "_dom_classes": [],
            "description": "Iteration: 100%",
            "_model_name": "FloatProgressModel",
            "bar_style": "success",
            "max": 28,
            "_view_module": "@jupyter-widgets/controls",
            "_model_module_version": "1.5.0",
            "value": 28,
            "_view_count": null,
            "_view_module_version": "1.5.0",
            "orientation": "horizontal",
            "min": 0,
            "description_tooltip": null,
            "_model_module": "@jupyter-widgets/controls",
            "layout": "IPY_MODEL_65e5465691384020984635b1f6f098c2"
          }
        },
        "68841718d5724076a06b0dd7c0a9df69": {
          "model_module": "@jupyter-widgets/controls",
          "model_name": "HTMLModel",
          "state": {
            "_view_name": "HTMLView",
            "style": "IPY_MODEL_618525790f53419f886281120454efeb",
            "_dom_classes": [],
            "description": "",
            "_model_name": "HTMLModel",
            "placeholder": "​",
            "_view_module": "@jupyter-widgets/controls",
            "_model_module_version": "1.5.0",
            "value": " 28/28 [00:14&lt;00:00,  1.88it/s]",
            "_view_count": null,
            "_view_module_version": "1.5.0",
            "description_tooltip": null,
            "_model_module": "@jupyter-widgets/controls",
            "layout": "IPY_MODEL_c499b23942f9456180edc5e99ab98ca7"
          }
        },
        "9eab9ea38b41459da2284fdd5aa39bbb": {
          "model_module": "@jupyter-widgets/controls",
          "model_name": "ProgressStyleModel",
          "state": {
            "_view_name": "StyleView",
            "_model_name": "ProgressStyleModel",
            "description_width": "initial",
            "_view_module": "@jupyter-widgets/base",
            "_model_module_version": "1.5.0",
            "_view_count": null,
            "_view_module_version": "1.2.0",
            "bar_color": null,
            "_model_module": "@jupyter-widgets/controls"
          }
        },
        "65e5465691384020984635b1f6f098c2": {
          "model_module": "@jupyter-widgets/base",
          "model_name": "LayoutModel",
          "state": {
            "_view_name": "LayoutView",
            "grid_template_rows": null,
            "right": null,
            "justify_content": null,
            "_view_module": "@jupyter-widgets/base",
            "overflow": null,
            "_model_module_version": "1.2.0",
            "_view_count": null,
            "flex_flow": null,
            "width": null,
            "min_width": null,
            "border": null,
            "align_items": null,
            "bottom": null,
            "_model_module": "@jupyter-widgets/base",
            "top": null,
            "grid_column": null,
            "overflow_y": null,
            "overflow_x": null,
            "grid_auto_flow": null,
            "grid_area": null,
            "grid_template_columns": null,
            "flex": null,
            "_model_name": "LayoutModel",
            "justify_items": null,
            "grid_row": null,
            "max_height": null,
            "align_content": null,
            "visibility": null,
            "align_self": null,
            "height": null,
            "min_height": null,
            "padding": null,
            "grid_auto_rows": null,
            "grid_gap": null,
            "max_width": null,
            "order": null,
            "_view_module_version": "1.2.0",
            "grid_template_areas": null,
            "object_position": null,
            "object_fit": null,
            "grid_auto_columns": null,
            "margin": null,
            "display": null,
            "left": null
          }
        },
        "618525790f53419f886281120454efeb": {
          "model_module": "@jupyter-widgets/controls",
          "model_name": "DescriptionStyleModel",
          "state": {
            "_view_name": "StyleView",
            "_model_name": "DescriptionStyleModel",
            "description_width": "",
            "_view_module": "@jupyter-widgets/base",
            "_model_module_version": "1.5.0",
            "_view_count": null,
            "_view_module_version": "1.2.0",
            "_model_module": "@jupyter-widgets/controls"
          }
        },
        "c499b23942f9456180edc5e99ab98ca7": {
          "model_module": "@jupyter-widgets/base",
          "model_name": "LayoutModel",
          "state": {
            "_view_name": "LayoutView",
            "grid_template_rows": null,
            "right": null,
            "justify_content": null,
            "_view_module": "@jupyter-widgets/base",
            "overflow": null,
            "_model_module_version": "1.2.0",
            "_view_count": null,
            "flex_flow": null,
            "width": null,
            "min_width": null,
            "border": null,
            "align_items": null,
            "bottom": null,
            "_model_module": "@jupyter-widgets/base",
            "top": null,
            "grid_column": null,
            "overflow_y": null,
            "overflow_x": null,
            "grid_auto_flow": null,
            "grid_area": null,
            "grid_template_columns": null,
            "flex": null,
            "_model_name": "LayoutModel",
            "justify_items": null,
            "grid_row": null,
            "max_height": null,
            "align_content": null,
            "visibility": null,
            "align_self": null,
            "height": null,
            "min_height": null,
            "padding": null,
            "grid_auto_rows": null,
            "grid_gap": null,
            "max_width": null,
            "order": null,
            "_view_module_version": "1.2.0",
            "grid_template_areas": null,
            "object_position": null,
            "object_fit": null,
            "grid_auto_columns": null,
            "margin": null,
            "display": null,
            "left": null
          }
        },
        "2e98274dfc4a4535b4cf395c274f9c7c": {
          "model_module": "@jupyter-widgets/controls",
          "model_name": "HBoxModel",
          "state": {
            "_view_name": "HBoxView",
            "_dom_classes": [],
            "_model_name": "HBoxModel",
            "_view_module": "@jupyter-widgets/controls",
            "_model_module_version": "1.5.0",
            "_view_count": null,
            "_view_module_version": "1.5.0",
            "box_style": "",
            "layout": "IPY_MODEL_889c0e01503d4707abfbd344f18a33dc",
            "_model_module": "@jupyter-widgets/controls",
            "children": [
              "IPY_MODEL_59d2db0846b44fffb8eb8df09256a12b",
              "IPY_MODEL_398870e396004bd6b3df8fe40aa25818"
            ]
          }
        },
        "889c0e01503d4707abfbd344f18a33dc": {
          "model_module": "@jupyter-widgets/base",
          "model_name": "LayoutModel",
          "state": {
            "_view_name": "LayoutView",
            "grid_template_rows": null,
            "right": null,
            "justify_content": null,
            "_view_module": "@jupyter-widgets/base",
            "overflow": null,
            "_model_module_version": "1.2.0",
            "_view_count": null,
            "flex_flow": null,
            "width": null,
            "min_width": null,
            "border": null,
            "align_items": null,
            "bottom": null,
            "_model_module": "@jupyter-widgets/base",
            "top": null,
            "grid_column": null,
            "overflow_y": null,
            "overflow_x": null,
            "grid_auto_flow": null,
            "grid_area": null,
            "grid_template_columns": null,
            "flex": null,
            "_model_name": "LayoutModel",
            "justify_items": null,
            "grid_row": null,
            "max_height": null,
            "align_content": null,
            "visibility": null,
            "align_self": null,
            "height": null,
            "min_height": null,
            "padding": null,
            "grid_auto_rows": null,
            "grid_gap": null,
            "max_width": null,
            "order": null,
            "_view_module_version": "1.2.0",
            "grid_template_areas": null,
            "object_position": null,
            "object_fit": null,
            "grid_auto_columns": null,
            "margin": null,
            "display": null,
            "left": null
          }
        },
        "59d2db0846b44fffb8eb8df09256a12b": {
          "model_module": "@jupyter-widgets/controls",
          "model_name": "FloatProgressModel",
          "state": {
            "_view_name": "ProgressView",
            "style": "IPY_MODEL_c455db89759e43b49717b7c0e8cdf749",
            "_dom_classes": [],
            "description": "Iteration: 100%",
            "_model_name": "FloatProgressModel",
            "bar_style": "success",
            "max": 28,
            "_view_module": "@jupyter-widgets/controls",
            "_model_module_version": "1.5.0",
            "value": 28,
            "_view_count": null,
            "_view_module_version": "1.5.0",
            "orientation": "horizontal",
            "min": 0,
            "description_tooltip": null,
            "_model_module": "@jupyter-widgets/controls",
            "layout": "IPY_MODEL_14665e3c4ae64f5cba8465a75de16df1"
          }
        },
        "398870e396004bd6b3df8fe40aa25818": {
          "model_module": "@jupyter-widgets/controls",
          "model_name": "HTMLModel",
          "state": {
            "_view_name": "HTMLView",
            "style": "IPY_MODEL_d78e8d908d3a43eda18d7b4c26cddaaa",
            "_dom_classes": [],
            "description": "",
            "_model_name": "HTMLModel",
            "placeholder": "​",
            "_view_module": "@jupyter-widgets/controls",
            "_model_module_version": "1.5.0",
            "value": " 28/28 [44:27&lt;00:00, 95.26s/it]",
            "_view_count": null,
            "_view_module_version": "1.5.0",
            "description_tooltip": null,
            "_model_module": "@jupyter-widgets/controls",
            "layout": "IPY_MODEL_9b03ee6a937a40d99a9a112001e38ef3"
          }
        },
        "c455db89759e43b49717b7c0e8cdf749": {
          "model_module": "@jupyter-widgets/controls",
          "model_name": "ProgressStyleModel",
          "state": {
            "_view_name": "StyleView",
            "_model_name": "ProgressStyleModel",
            "description_width": "initial",
            "_view_module": "@jupyter-widgets/base",
            "_model_module_version": "1.5.0",
            "_view_count": null,
            "_view_module_version": "1.2.0",
            "bar_color": null,
            "_model_module": "@jupyter-widgets/controls"
          }
        },
        "14665e3c4ae64f5cba8465a75de16df1": {
          "model_module": "@jupyter-widgets/base",
          "model_name": "LayoutModel",
          "state": {
            "_view_name": "LayoutView",
            "grid_template_rows": null,
            "right": null,
            "justify_content": null,
            "_view_module": "@jupyter-widgets/base",
            "overflow": null,
            "_model_module_version": "1.2.0",
            "_view_count": null,
            "flex_flow": null,
            "width": null,
            "min_width": null,
            "border": null,
            "align_items": null,
            "bottom": null,
            "_model_module": "@jupyter-widgets/base",
            "top": null,
            "grid_column": null,
            "overflow_y": null,
            "overflow_x": null,
            "grid_auto_flow": null,
            "grid_area": null,
            "grid_template_columns": null,
            "flex": null,
            "_model_name": "LayoutModel",
            "justify_items": null,
            "grid_row": null,
            "max_height": null,
            "align_content": null,
            "visibility": null,
            "align_self": null,
            "height": null,
            "min_height": null,
            "padding": null,
            "grid_auto_rows": null,
            "grid_gap": null,
            "max_width": null,
            "order": null,
            "_view_module_version": "1.2.0",
            "grid_template_areas": null,
            "object_position": null,
            "object_fit": null,
            "grid_auto_columns": null,
            "margin": null,
            "display": null,
            "left": null
          }
        },
        "d78e8d908d3a43eda18d7b4c26cddaaa": {
          "model_module": "@jupyter-widgets/controls",
          "model_name": "DescriptionStyleModel",
          "state": {
            "_view_name": "StyleView",
            "_model_name": "DescriptionStyleModel",
            "description_width": "",
            "_view_module": "@jupyter-widgets/base",
            "_model_module_version": "1.5.0",
            "_view_count": null,
            "_view_module_version": "1.2.0",
            "_model_module": "@jupyter-widgets/controls"
          }
        },
        "9b03ee6a937a40d99a9a112001e38ef3": {
          "model_module": "@jupyter-widgets/base",
          "model_name": "LayoutModel",
          "state": {
            "_view_name": "LayoutView",
            "grid_template_rows": null,
            "right": null,
            "justify_content": null,
            "_view_module": "@jupyter-widgets/base",
            "overflow": null,
            "_model_module_version": "1.2.0",
            "_view_count": null,
            "flex_flow": null,
            "width": null,
            "min_width": null,
            "border": null,
            "align_items": null,
            "bottom": null,
            "_model_module": "@jupyter-widgets/base",
            "top": null,
            "grid_column": null,
            "overflow_y": null,
            "overflow_x": null,
            "grid_auto_flow": null,
            "grid_area": null,
            "grid_template_columns": null,
            "flex": null,
            "_model_name": "LayoutModel",
            "justify_items": null,
            "grid_row": null,
            "max_height": null,
            "align_content": null,
            "visibility": null,
            "align_self": null,
            "height": null,
            "min_height": null,
            "padding": null,
            "grid_auto_rows": null,
            "grid_gap": null,
            "max_width": null,
            "order": null,
            "_view_module_version": "1.2.0",
            "grid_template_areas": null,
            "object_position": null,
            "object_fit": null,
            "grid_auto_columns": null,
            "margin": null,
            "display": null,
            "left": null
          }
        },
        "def1dc1c9ea242ad9e29ff55d4a79326": {
          "model_module": "@jupyter-widgets/controls",
          "model_name": "HBoxModel",
          "state": {
            "_view_name": "HBoxView",
            "_dom_classes": [],
            "_model_name": "HBoxModel",
            "_view_module": "@jupyter-widgets/controls",
            "_model_module_version": "1.5.0",
            "_view_count": null,
            "_view_module_version": "1.5.0",
            "box_style": "",
            "layout": "IPY_MODEL_d8f685293e2d4a868eb4258d2e535659",
            "_model_module": "@jupyter-widgets/controls",
            "children": [
              "IPY_MODEL_c391454a40c342eca3479026162b4da0",
              "IPY_MODEL_645384434f4747a4b24d5b37fce6fa00"
            ]
          }
        },
        "d8f685293e2d4a868eb4258d2e535659": {
          "model_module": "@jupyter-widgets/base",
          "model_name": "LayoutModel",
          "state": {
            "_view_name": "LayoutView",
            "grid_template_rows": null,
            "right": null,
            "justify_content": null,
            "_view_module": "@jupyter-widgets/base",
            "overflow": null,
            "_model_module_version": "1.2.0",
            "_view_count": null,
            "flex_flow": null,
            "width": null,
            "min_width": null,
            "border": null,
            "align_items": null,
            "bottom": null,
            "_model_module": "@jupyter-widgets/base",
            "top": null,
            "grid_column": null,
            "overflow_y": null,
            "overflow_x": null,
            "grid_auto_flow": null,
            "grid_area": null,
            "grid_template_columns": null,
            "flex": null,
            "_model_name": "LayoutModel",
            "justify_items": null,
            "grid_row": null,
            "max_height": null,
            "align_content": null,
            "visibility": null,
            "align_self": null,
            "height": null,
            "min_height": null,
            "padding": null,
            "grid_auto_rows": null,
            "grid_gap": null,
            "max_width": null,
            "order": null,
            "_view_module_version": "1.2.0",
            "grid_template_areas": null,
            "object_position": null,
            "object_fit": null,
            "grid_auto_columns": null,
            "margin": null,
            "display": null,
            "left": null
          }
        },
        "c391454a40c342eca3479026162b4da0": {
          "model_module": "@jupyter-widgets/controls",
          "model_name": "FloatProgressModel",
          "state": {
            "_view_name": "ProgressView",
            "style": "IPY_MODEL_cc3f54299a05492a86384f062595280e",
            "_dom_classes": [],
            "description": "Iteration: 100%",
            "_model_name": "FloatProgressModel",
            "bar_style": "success",
            "max": 28,
            "_view_module": "@jupyter-widgets/controls",
            "_model_module_version": "1.5.0",
            "value": 28,
            "_view_count": null,
            "_view_module_version": "1.5.0",
            "orientation": "horizontal",
            "min": 0,
            "description_tooltip": null,
            "_model_module": "@jupyter-widgets/controls",
            "layout": "IPY_MODEL_6b334406ed0f49cd8096471a97b134b3"
          }
        },
        "645384434f4747a4b24d5b37fce6fa00": {
          "model_module": "@jupyter-widgets/controls",
          "model_name": "HTMLModel",
          "state": {
            "_view_name": "HTMLView",
            "style": "IPY_MODEL_370fa1fe3aa74ee2a94be109f96f48d0",
            "_dom_classes": [],
            "description": "",
            "_model_name": "HTMLModel",
            "placeholder": "​",
            "_view_module": "@jupyter-widgets/controls",
            "_model_module_version": "1.5.0",
            "value": " 28/28 [00:19&lt;00:00,  1.45it/s]",
            "_view_count": null,
            "_view_module_version": "1.5.0",
            "description_tooltip": null,
            "_model_module": "@jupyter-widgets/controls",
            "layout": "IPY_MODEL_f0847f77abc543c0ad4986a1abfaab91"
          }
        },
        "cc3f54299a05492a86384f062595280e": {
          "model_module": "@jupyter-widgets/controls",
          "model_name": "ProgressStyleModel",
          "state": {
            "_view_name": "StyleView",
            "_model_name": "ProgressStyleModel",
            "description_width": "initial",
            "_view_module": "@jupyter-widgets/base",
            "_model_module_version": "1.5.0",
            "_view_count": null,
            "_view_module_version": "1.2.0",
            "bar_color": null,
            "_model_module": "@jupyter-widgets/controls"
          }
        },
        "6b334406ed0f49cd8096471a97b134b3": {
          "model_module": "@jupyter-widgets/base",
          "model_name": "LayoutModel",
          "state": {
            "_view_name": "LayoutView",
            "grid_template_rows": null,
            "right": null,
            "justify_content": null,
            "_view_module": "@jupyter-widgets/base",
            "overflow": null,
            "_model_module_version": "1.2.0",
            "_view_count": null,
            "flex_flow": null,
            "width": null,
            "min_width": null,
            "border": null,
            "align_items": null,
            "bottom": null,
            "_model_module": "@jupyter-widgets/base",
            "top": null,
            "grid_column": null,
            "overflow_y": null,
            "overflow_x": null,
            "grid_auto_flow": null,
            "grid_area": null,
            "grid_template_columns": null,
            "flex": null,
            "_model_name": "LayoutModel",
            "justify_items": null,
            "grid_row": null,
            "max_height": null,
            "align_content": null,
            "visibility": null,
            "align_self": null,
            "height": null,
            "min_height": null,
            "padding": null,
            "grid_auto_rows": null,
            "grid_gap": null,
            "max_width": null,
            "order": null,
            "_view_module_version": "1.2.0",
            "grid_template_areas": null,
            "object_position": null,
            "object_fit": null,
            "grid_auto_columns": null,
            "margin": null,
            "display": null,
            "left": null
          }
        },
        "370fa1fe3aa74ee2a94be109f96f48d0": {
          "model_module": "@jupyter-widgets/controls",
          "model_name": "DescriptionStyleModel",
          "state": {
            "_view_name": "StyleView",
            "_model_name": "DescriptionStyleModel",
            "description_width": "",
            "_view_module": "@jupyter-widgets/base",
            "_model_module_version": "1.5.0",
            "_view_count": null,
            "_view_module_version": "1.2.0",
            "_model_module": "@jupyter-widgets/controls"
          }
        },
        "f0847f77abc543c0ad4986a1abfaab91": {
          "model_module": "@jupyter-widgets/base",
          "model_name": "LayoutModel",
          "state": {
            "_view_name": "LayoutView",
            "grid_template_rows": null,
            "right": null,
            "justify_content": null,
            "_view_module": "@jupyter-widgets/base",
            "overflow": null,
            "_model_module_version": "1.2.0",
            "_view_count": null,
            "flex_flow": null,
            "width": null,
            "min_width": null,
            "border": null,
            "align_items": null,
            "bottom": null,
            "_model_module": "@jupyter-widgets/base",
            "top": null,
            "grid_column": null,
            "overflow_y": null,
            "overflow_x": null,
            "grid_auto_flow": null,
            "grid_area": null,
            "grid_template_columns": null,
            "flex": null,
            "_model_name": "LayoutModel",
            "justify_items": null,
            "grid_row": null,
            "max_height": null,
            "align_content": null,
            "visibility": null,
            "align_self": null,
            "height": null,
            "min_height": null,
            "padding": null,
            "grid_auto_rows": null,
            "grid_gap": null,
            "max_width": null,
            "order": null,
            "_view_module_version": "1.2.0",
            "grid_template_areas": null,
            "object_position": null,
            "object_fit": null,
            "grid_auto_columns": null,
            "margin": null,
            "display": null,
            "left": null
          }
        }
      }
    }
  },
  "cells": [
    {
      "cell_type": "markdown",
      "metadata": {
        "id": "bk0XWLfMvDXU"
      },
      "source": [
        "# Note\n",
        "This notebook can be run on google colab for improved performance. The code changes necessary for running on this system are commented over the code."
      ]
    },
    {
      "cell_type": "markdown",
      "metadata": {
        "id": "edvxyOpnvDXj"
      },
      "source": [
        "## Data preprocessing"
      ]
    },
    {
      "cell_type": "code",
      "metadata": {
        "id": "-_KSLzO7733B"
      },
      "source": [
        ""
      ],
      "execution_count": null,
      "outputs": []
    },
    {
      "cell_type": "code",
      "metadata": {
        "id": "Ml7Gd4VgxW1d"
      },
      "source": [
        "! pip install \\\n",
        "  scprep\\\n",
        "  spacy==2.3.2 \\\n",
        "  sentence_transformers==0.4.0 \\\n",
        "  phate==1.0.4 && \\\n",
        "  python -m spacy download es_core_news_lg"
      ],
      "execution_count": null,
      "outputs": []
    },
    {
      "cell_type": "markdown",
      "metadata": {
        "id": "iH3dg-EV3JMY"
      },
      "source": [
        "<span style=\"color:red\"><strong>WARNING!</strong></span> Once you installed the packages in the previous cell you must restart your runtime and then import the library and load the model"
      ]
    },
    {
      "cell_type": "code",
      "metadata": {
        "colab": {
          "base_uri": "https://localhost:8080/"
        },
        "id": "i1eWkGLcx_yi",
        "outputId": "5138a213-1cfa-4205-da4f-277862d0c9fc"
      },
      "source": [
        "import spacy\n",
        "if spacy.prefer_gpu():\n",
        "    print(\"Using the GPU\")\n",
        "else:\n",
        "    print(\"Using the CPU\")\n",
        "es_nlp = spacy.load('es_core_news_lg')"
      ],
      "execution_count": 1,
      "outputs": [
        {
          "output_type": "stream",
          "text": [
            "Using the GPU\n"
          ],
          "name": "stdout"
        }
      ]
    },
    {
      "cell_type": "markdown",
      "metadata": {
        "id": "EFkH4jX4MMZX"
      },
      "source": [
        "For development work, in case you want to update the files in your GitHub branch by rerunning the clone, you first have to empty the folder."
      ]
    },
    {
      "cell_type": "code",
      "metadata": {
        "id": "TVeFAuzRLxy8"
      },
      "source": [
        "!rm -rf policy-data-analyzer/"
      ],
      "execution_count": 2,
      "outputs": []
    },
    {
      "cell_type": "code",
      "metadata": {
        "colab": {
          "base_uri": "https://localhost:8080/"
        },
        "id": "ykyZ81KN7tfr",
        "outputId": "858589f4-d910-40a4-ef0f-3e03b79f0109"
      },
      "source": [
        "# Define branch to clone\n",
        "! branch_name='#50_dfq_sbert_fine_tuning' && \\\n",
        "  git clone --branch $branch_name https://github.com/wri-dssg/policy-data-analyzer.git"
      ],
      "execution_count": 3,
      "outputs": [
        {
          "output_type": "stream",
          "text": [
            "Cloning into 'policy-data-analyzer'...\n",
            "remote: Enumerating objects: 174, done.\u001b[K\n",
            "remote: Counting objects: 100% (174/174), done.\u001b[K\n",
            "remote: Compressing objects: 100% (123/123), done.\u001b[K\n",
            "remote: Total 3093 (delta 94), reused 129 (delta 51), pack-reused 2919\u001b[K\n",
            "Receiving objects: 100% (3093/3093), 134.22 MiB | 18.57 MiB/s, done.\n",
            "Resolving deltas: 100% (1641/1641), done.\n",
            "Checking out files: 100% (843/843), done.\n"
          ],
          "name": "stdout"
        }
      ]
    },
    {
      "cell_type": "code",
      "metadata": {
        "colab": {
          "base_uri": "https://localhost:8080/"
        },
        "id": "R4UNMkgIvDXl",
        "outputId": "56eef288-660b-43b8-aa08-f7af7992903e"
      },
      "source": [
        "import pandas as pd\n",
        "import sys\n",
        "import os\n",
        "import csv\n",
        "from sklearn.model_selection import train_test_split\n",
        "from sentence_transformers import SentencesDataset, SentenceTransformer, InputExample, losses\n",
        "from sentence_transformers.evaluation import LabelAccuracyEvaluator\n",
        "from torch import nn, Tensor\n",
        "from typing import Iterable, Dict\n",
        "from torch.utils.data import DataLoader\n",
        "import math\n",
        "import time\n",
        "import cupy as cp\n",
        "import json\n",
        "\n",
        "# os.chdir(\"policy-data-analyzer\") #If you run this cell more than once, comment out this line because you are ready in this folder and you will get an error\n",
        "from tasks.data_loader.src.utils import *\n",
        "from tasks.data_augmentation.src.zero_shot_classification.latent_embeddings_classifier import *\n",
        "from tasks.evaluate_model.src.model_evaluator import *\n",
        "from tasks.data_visualization.src.plotting import *\n",
        "\n",
        "from google.colab import drive\n",
        "drive.mount('/content/drive')"
      ],
      "execution_count": 111,
      "outputs": [
        {
          "output_type": "stream",
          "text": [
            "Drive already mounted at /content/drive; to attempt to forcibly remount, call drive.mount(\"/content/drive\", force_remount=True).\n"
          ],
          "name": "stdout"
        }
      ]
    },
    {
      "cell_type": "markdown",
      "metadata": {
        "id": "P4l8oGqlvDXs"
      },
      "source": [
        "## Fine-tuning the embedding model on the labeled data"
      ]
    },
    {
      "cell_type": "markdown",
      "metadata": {
        "id": "8KxOPUcovDXu"
      },
      "source": [
        "### Something we can try out:\n",
        "https://www.sbert.net/examples/training/data_augmentation/README.html#extend-to-your-own-datasets\n",
        "\n",
        "### Links:\n",
        "https://github.com/UKPLab/sentence-transformers/issues/350\n",
        "\n",
        "https://omoindrot.github.io/triplet-loss"
      ]
    },
    {
      "cell_type": "markdown",
      "metadata": {
        "id": "_chNEXckvDXu"
      },
      "source": [
        "### Possible tasks for fine-tuning:\n",
        "1) Given a pair of sentence embeddings, do they belong to the same category (binary)?\n",
        "\n",
        "2) Given a sentence and a category embedding, does the sentence belong to the category (binary)?\n",
        "\n",
        "3) Given a sentence embedding, use a classifier to predict its category (multiclass) [https://github.com/UKPLab/sentence-transformers/blob/master/examples/training/nli/training_nli.py](https://github.com/UKPLab/sentence-transformers/blob/master/examples/training/nli/training_nli.py)\n",
        "\n",
        "4) Use a triplet loss approach such that sentences (texts) that have the same labels will become close in vector space, while sentences with a different label will be further away [https://github.com/UKPLab/sentencetransformers/blob/master/examples/training/other/training_batch_hard_trec_continue_training.py](https://github.com/UKPLab/sentencetransformers/blob/master/examples/training/other/training_batch_hard_trec_continue_training.py)\n",
        "   \n",
        "#### In this notebook **task number 3** is used to fine-tune the model."
      ]
    },
    {
      "cell_type": "markdown",
      "metadata": {
        "id": "ot37jC2mxuGK"
      },
      "source": [
        "## Run fine tuning experiments"
      ]
    },
    {
      "cell_type": "code",
      "metadata": {
        "id": "6WhMprt8l6PO"
      },
      "source": [
        "class SoftmaxClassifier(nn.Module):\n",
        "    \"\"\"\n",
        "    This loss adds a softmax classifier on top of the output of the transformer network. \n",
        "    It takes a sentence embedding and learns a mapping between it and the corresponding category.\n",
        "    :param model: SentenceTransformer model\n",
        "    :param sentence_embedding_dimension: Dimension of your sentence embeddings\n",
        "    :param num_labels: Number of different labels\n",
        "    \"\"\"\n",
        "    def __init__(self,\n",
        "                 model: SentenceTransformer,\n",
        "                 sentence_embedding_dimension: int,\n",
        "                 num_labels: int):\n",
        "        super(SoftmaxClassifier, self).__init__()\n",
        "        self.model = model\n",
        "        self.num_labels = num_labels\n",
        "        self.classifier = nn.Linear(sentence_embedding_dimension, num_labels)\n",
        "\n",
        "    def forward(self, sentence_features: Iterable[Dict[str, Tensor]], labels: Tensor):\n",
        "        # Get batch sentence embeddings\n",
        "        features = self.model(sentence_features[0])['sentence_embedding']\n",
        "        \n",
        "        # Get batch loss\n",
        "        output = self.classifier(features)\n",
        "        loss_fct = nn.CrossEntropyLoss()\n",
        "\n",
        "        if labels is not None:\n",
        "            loss = loss_fct(output, labels.view(-1))\n",
        "            return loss\n",
        "        else:\n",
        "            return features, output\n",
        "\n",
        "def grid_search_fine_tune_sbert(train_params, train_sents, train_labels, test_sents, test_labels, label_names):\n",
        "    output_path = train_params[\"output_path\"]\n",
        "    experiment = train_params[\"experiment\"]\n",
        "    all_test_perc = train_params[\"all_test_perc\"]\n",
        "    model_names = train_params[\"model_names\"]\n",
        "    start_epochs = train_params[\"start_epochs\"]\n",
        "    max_num_epochs = train_params[\"max_num_epochs\"]\n",
        "    epochs_increment = train_params[\"epochs_increment\"]\n",
        "    numeric_labels = labels2numeric(test_labels, label_names)\n",
        "\n",
        "    print(\"Grid Search Fine tuning parameters:\\n\", json.dumps(train_params, sort_keys=True, indent=4))\n",
        "\n",
        "    # Output setup - we will update the json as the fine tuning process goes so every result is stored immediately\n",
        "    with open(f\"{output_path}/{experiment}_FineTuningResults.json\", \"w\") as fw:\n",
        "        json.dump({}, fw)\n",
        "\n",
        "    for test_perc in all_test_perc:\n",
        "        with open(f\"{output_path}/{experiment}_FineTuningResults.json\", \"r\") as fr:\n",
        "            output = json.load(fr)\n",
        "\n",
        "        output[f\"test_perc={test_perc}\"] = {}\n",
        "        X_train, X_test, y_train, y_test = train_test_split(train_sents, train_labels, test_size=test_perc,\n",
        "                                                            stratify=train_labels, random_state=69420)\n",
        "\n",
        "        # Load data samples into batches\n",
        "        train_batch_size = 16\n",
        "        label2int = dict(zip(label_names, range(len(label_names))))\n",
        "        train_samples = []\n",
        "        for sent, label in zip(X_train, y_train):\n",
        "            label_id = label2int[label]\n",
        "            train_samples.append(InputExample(texts=[sent], label=label_id))\n",
        "\n",
        "        # Configure the dev set evaluator - still need to test whether this works\n",
        "        dev_samples = []\n",
        "        for sent, label in zip(X_test, y_test):\n",
        "            label_id = label2int[label]\n",
        "            dev_samples.append(InputExample(texts=[sent], label=label_id))\n",
        "\n",
        "        for model_name in model_names:\n",
        "            # Setup\n",
        "            output[f\"test_perc={test_perc}\"][model_name] = []\n",
        "\n",
        "            # Train set config\n",
        "            model = SentenceTransformer(model_name)\n",
        "            train_dataset = SentencesDataset(train_samples, model=model)\n",
        "            train_dataloader = DataLoader(train_dataset, shuffle=True, batch_size=train_batch_size)\n",
        "\n",
        "            # Define the way the loss is computed\n",
        "            classifier = SoftmaxClassifier(model=model,\n",
        "                                           sentence_embedding_dimension=model.get_sentence_embedding_dimension(),\n",
        "                                           num_labels=len(label2int))\n",
        "\n",
        "            # Dev set config\n",
        "            dev_dataset = SentencesDataset(dev_samples, model=model)\n",
        "            dev_dataloader = DataLoader(dev_dataset, shuffle=True, batch_size=train_batch_size)\n",
        "            dev_evaluator = LabelAccuracyEvaluator(dataloader=dev_dataloader, softmax_model=classifier, name='lae-dev')\n",
        "\n",
        "            for num_epochs in range(start_epochs, max_num_epochs + 2, epochs_increment):\n",
        "                print(\"Num epochs:\", num_epochs)\n",
        "\n",
        "                warmup_steps = math.ceil(\n",
        "                    len(train_dataset) * num_epochs / train_batch_size * 0.1)  # 10% of train data for warm-up\n",
        "                model_deets = f\"model={model_name}_test-perc={test_perc}_n-epoch={num_epochs}\"\n",
        "\n",
        "                # Train the model\n",
        "                start = time.time()\n",
        "                if num_epochs == start_epochs:\n",
        "                    model.fit(train_objectives=[(train_dataloader, classifier)],\n",
        "                              evaluator=dev_evaluator,\n",
        "                              epochs=start_epochs,\n",
        "                              evaluation_steps=1000,\n",
        "                              warmup_steps=warmup_steps,\n",
        "                              )\n",
        "                else:\n",
        "                    model.fit(train_objectives=[(train_dataloader, classifier)],\n",
        "                              evaluator=dev_evaluator,\n",
        "                              epochs=epochs_increment,  # We always tune on an extra epoch to see the performance gain\n",
        "                              evaluation_steps=1000,\n",
        "                              warmup_steps=warmup_steps,\n",
        "                              )\n",
        "\n",
        "                end = time.time()\n",
        "                hours, rem = divmod(end - start, 3600)\n",
        "                minutes, seconds = divmod(rem, 60)\n",
        "                print(\"Time taken for fine-tuning:\", \"{:0>2}:{:0>2}:{:05.2f}\".format(int(hours), int(minutes), seconds))\n",
        "\n",
        "                ### Classify sentences\n",
        "                # Projection matrix Z low-dim projection\n",
        "                print(\"Classifying sentences...\")\n",
        "                proj_matrix = cp.asnumpy(calc_proj_matrix(test_sents, 50, es_nlp, model, 0.01))\n",
        "                all_sent_embs = encode_all_sents(test_sents, model, proj_matrix)\n",
        "                all_label_embs = encode_labels(label_names, model, proj_matrix)\n",
        "                visualize_embeddings_2D(np.vstack(all_sent_embs), test_labels, tsne_perplexity=50,\n",
        "                                        store_name=f\"{output_path}/{model_deets}\")\n",
        "                model_preds, model_scores = calc_all_cos_similarity(all_sent_embs, all_label_embs, label_names)\n",
        "\n",
        "                ### Evaluate the model\n",
        "                numeric_preds = labels2numeric(model_preds, label_names)\n",
        "                evaluator = ModelEvaluator(label_names, y_true=numeric_labels, y_pred=numeric_preds)\n",
        "\n",
        "                output[f\"test_perc={test_perc}\"][model_name].append(\n",
        "                    {\"num_epochs\": num_epochs, \"avg_f1\": evaluator.avg_f1.tolist()})\n",
        "                with open(f\"{output_path}/{experiment}_FineTuningResults.json\", \"w\") as fw:\n",
        "                    json.dump(output, fw)\n",
        "\n",
        "                evaluator.plot_confusion_matrix(color_map='Blues', exp_name=f\"{output_path}/{model_deets}\")\n",
        "                print(\"Macro/Weighted Avg F1-score:\", evaluator.avg_f1.tolist())\n",
        "\n",
        "def fine_tune_sbert(train_params, train_sents, train_labels, test_sents, test_labels, label_names):\n",
        "    output_path = train_params[\"output_path\"]\n",
        "    experiment = train_params[\"experiment\"]\n",
        "    test_perc = train_params[\"test_perc\"]\n",
        "    model_name = train_params[\"model_names\"]\n",
        "    num_epochs = train_params[\"num_epochs\"]\n",
        "    numeric_labels = labels2numeric(test_labels, label_names)\n",
        "\n",
        "    print(\"Fine tuning parameters:\\n\", json.dumps(train_params, sort_keys=True, indent=4))\n",
        "\n",
        "    output = {f\"test_perc={test_perc}\": {}}\n",
        "    X_train, X_test, y_train, y_test = train_test_split(train_sents, train_labels, test_size=test_perc,\n",
        "                                                        stratify=train_labels, random_state=69420)\n",
        "    # Load data samples into batches\n",
        "    train_batch_size = 16\n",
        "    label2int = dict(zip(label_names, range(len(label_names))))\n",
        "    train_samples = []\n",
        "    for sent, label in zip(X_train, y_train):\n",
        "        label_id = label2int[label]\n",
        "        train_samples.append(InputExample(texts=[sent], label=label_id))\n",
        "\n",
        "    # Configure the dev set evaluator - still need to test whether this works\n",
        "    dev_samples = []\n",
        "    for sent, label in zip(X_test, y_test):\n",
        "        label_id = label2int[label]\n",
        "        dev_samples.append(InputExample(texts=[sent], label=label_id))\n",
        "\n",
        "    # Setup\n",
        "    output[f\"test_perc={test_perc}\"][model_name] = []\n",
        "\n",
        "    # Train set config\n",
        "    model = SentenceTransformer(model_name)\n",
        "    train_dataset = SentencesDataset(train_samples, model=model)\n",
        "    train_dataloader = DataLoader(train_dataset, shuffle=True, batch_size=train_batch_size)\n",
        "\n",
        "    # Define the way the loss is computed\n",
        "    classifier = SoftmaxClassifier(model=model,\n",
        "                                   sentence_embedding_dimension=model.get_sentence_embedding_dimension(),\n",
        "                                   num_labels=len(label2int))\n",
        "\n",
        "    # Dev set config\n",
        "    dev_dataset = SentencesDataset(dev_samples, model=model)\n",
        "    dev_dataloader = DataLoader(dev_dataset, shuffle=True, batch_size=train_batch_size)\n",
        "    dev_evaluator = LabelAccuracyEvaluator(dataloader=dev_dataloader, softmax_model=classifier, name='lae-dev')\n",
        "    warmup_steps = math.ceil(\n",
        "        len(train_dataset) * num_epochs / train_batch_size * 0.1)  # 10% of train data for warm-up\n",
        "    model_deets = f\"model={model_name}_test-perc={test_perc}_n-epoch={num_epochs}\"\n",
        "\n",
        "    # Train the model\n",
        "    start = time.time()\n",
        "    model.fit(train_objectives=[(train_dataloader, classifier)],\n",
        "              evaluator=dev_evaluator,\n",
        "              epochs=num_epochs,\n",
        "              evaluation_steps=1000,\n",
        "              warmup_steps=warmup_steps,\n",
        "              output_path=output_path\n",
        "              )\n",
        "\n",
        "    end = time.time()\n",
        "    hours, rem = divmod(end - start, 3600)\n",
        "    minutes, seconds = divmod(rem, 60)\n",
        "    print(\"Time taken for fine-tuning:\", \"{:0>2}:{:0>2}:{:05.2f}\".format(int(hours), int(minutes), seconds))\n",
        "\n",
        "    ### Classify sentences\n",
        "    # Projection matrix Z low-dim projection\n",
        "    print(\"Classifying sentences...\")\n",
        "    proj_matrix = cp.asnumpy(calc_proj_matrix(test_sents, 50, es_nlp, model, 0.01))\n",
        "    all_sent_embs = encode_all_sents(test_sents, model, proj_matrix)\n",
        "    all_label_embs = encode_labels(label_names, model, proj_matrix)\n",
        "    visualize_embeddings_2D(np.vstack(all_sent_embs), test_labels, tsne_perplexity=50,\n",
        "                            store_name=f\"{output_path}/{model_deets}\")\n",
        "    model_preds, model_scores = calc_all_cos_similarity(all_sent_embs, all_label_embs, label_names)\n",
        "\n",
        "    ### Evaluate the model\n",
        "    numeric_preds = labels2numeric(model_preds, label_names)\n",
        "    evaluator = ModelEvaluator(label_names, y_true=numeric_labels, y_pred=numeric_preds)\n",
        "\n",
        "    output[f\"test_perc={test_perc}\"][model_name].append(\n",
        "        {\"num_epochs\": num_epochs, \"avg_f1\": evaluator.avg_f1.tolist()})\n",
        "    with open(f\"{output_path}/{experiment}_FineTuningResults.json\", \"w\") as fw:\n",
        "        json.dump(output, fw)\n",
        "\n",
        "    evaluator.plot_confusion_matrix(color_map='Blues', exp_name=f\"{output_path}/{model_deets}\")\n",
        "    print(\"Macro/Weighted Avg F1-score:\", evaluator.avg_f1.tolist())"
      ],
      "execution_count": 134,
      "outputs": []
    },
    {
      "cell_type": "code",
      "metadata": {
        "id": "sSVbw0YjHibv"
      },
      "source": [
        "# This is the dictionary used to transform policy instrument labels into numeric codes. BEWARE that we have a new category which is 0. This new category might represent unknown incentive or no incentive!!!\n",
        "policy_dict = {'Credit' : 'Credit',\n",
        " 'Direct' : 'Direct payment',\n",
        " 'Fine' : 'Fine',\n",
        " 'General' : 'Unknown', \n",
        " 'Guarantee' : 'Credit', \n",
        " 'Supplies' : 'Supplies', \n",
        " 'Tax' : 'Tax deduction', \n",
        " 'Technical' : 'Technical assistance', \n",
        " 'Unknown' : 'Unknown', \n",
        " 'Other' : 'Unknown', \n",
        " 'Nan' : 'Unknown' }\n",
        " \n",
        "Three_most_common = ['Credit', 'Direct payment', 'Fine']\n",
        "All_but_unknown = ['Credit', 'Direct payment', 'Fine', 'Supplies', 'Tax deduction', 'Technical assistance']\n",
        "All = ['Credit', 'Direct payment', 'Fine', 'Supplies', 'Tax deduction', 'Technical assistance', 'Unknown']\n",
        "\n",
        "# This is the dictionary used to transform is_incentive labels into numeric codes.\n",
        "incentive_dict = {'Incentive' : 'Incentive', \n",
        "'Disincentive' : 'Incentive', \n",
        "'Unknown' : 'not_Incentive', \n",
        "'Nan' : 'not_Incentive'}"
      ],
      "execution_count": 6,
      "outputs": []
    },
    {
      "cell_type": "markdown",
      "metadata": {
        "id": "8YWlvCqkmpqS"
      },
      "source": [
        "### Experiment codes\n",
        "<strong>EXP0 -</strong> Multiclass Rater2 with all the labels\n",
        "\n",
        "<strong>EXP1 -</strong> Multiclass Cristina's old dataset all labels but unknown\n",
        "\n",
        "<strong>EXP2 -</strong> Multiclass Rater3 all labels but unknown / Evaluate All\n",
        "\n",
        "<strong>EXP3 -</strong> Multiclass Rater2 all labels but unknown / Evaluate Al\n",
        "\n",
        "<strong>EXP4 -</strong> Multiclass Rater1 all labels but unknown / Evaluate Al\n",
        "\n",
        "<strong>EXP5 -</strong> Multiclass Rater3 all Three_most_common labels / Evaluate Al\n",
        "\n",
        "<strong>EXP6 -</strong> Multiclass Rater2 all Three_most_common labels / Evaluate Al\n",
        "\n",
        "<strong>EXP7 -</strong> Multiclass Rater1 Three_most_common labels / Evaluate Al\n",
        "\n",
        "<strong>EXP8 -</strong> \n",
        "\n",
        "<strong>EXP9 -</strong>\n",
        "\n",
        "<strong>EXP10 -</strong> Multiclass Rater3 all labels but unknown / Evaluate Test\n",
        "\n",
        "<strong>EXP11 -</strong> Multiclass Rater2 all labels but unknown / Evaluate Test\n",
        "\n",
        "<strong>EXP120 -</strong> Multiclass Rater1 all labels but unknown / Evaluate Test\n",
        "\n",
        "<strong>EXP13 -</strong> Multiclass Rater3 all labels but unknown / Evaluate Test\n"
      ]
    },
    {
      "cell_type": "markdown",
      "metadata": {
        "id": "KHLfOdQXnUhn"
      },
      "source": [
        "### Set up variables\n",
        "Here you set up the main variables of the experiments:\n",
        "* <strong><i>rater</i></strong> . This is the database you want to work with. The values are:\n",
        "  * \"Rater1\" for using the labeled sentences from Daniel\n",
        "  * \"Rater2\" for using the labeled sentences from Cristina\n",
        "  * \"Rater3\" for using the labeled sentences from Jordi\n",
        "* <strong><i>Experiment</i></strong> . This is to rename folders and files to be saved in the right place. Please follow the above list to number your experients as \"EXPi\"\n",
        "* <strong><i>set_of_labels</i></strong> . In the multiclass classification you can choose to filter the dataset by label. There are three predefined categories which are defined in two cells above:\n",
        "  * <i>Three_most_common</i> for using Credit Direct Payment and Fine\n",
        "  * <i>All_but_unknown</i> \n",
        "  * <i>All</i>\n",
        "* <strong><i>set_of_labels_string</i></strong> . Just write \"All\" or \"All_but_unknown\" in agreement with the previus variable setting\n",
        "* <strong><i>dataset_fname</i></strong> . To adjust the path of the data to your particular system setting\n",
        "* <strong><i>model_names</i></strong> . You put in the list the names of the models to be used."
      ]
    },
    {
      "cell_type": "code",
      "metadata": {
        "id": "E1r1ktjdeYQF"
      },
      "source": [
        "def load_dataset(data_path, rater, set_of_labels_string):\n",
        "  \"\"\"\n",
        "  Return the train data, train labels, test data, and test labels \n",
        "  \"\"\"\n",
        "  dataset = []\n",
        "\n",
        "  for dataset_type in [\"train\", \"test\"]:\n",
        "    for file_type in [\"sentences\", \"labels\"]:\n",
        "      filename = dataset_type + \"_\" + rater + \"_\" + set_of_labels_string + \"_\" + file_type + \".csv\"\n",
        "      file = data_path + \"/\" + filename\n",
        "      data = pd.read_csv(file, index_col=False, header=None)\n",
        "      dataset.append(data[0].tolist())  # The data is always the entire first column\n",
        "  \n",
        "  return dataset[0], dataset[1], dataset[2], dataset[3]"
      ],
      "execution_count": 114,
      "outputs": []
    },
    {
      "cell_type": "code",
      "metadata": {
        "id": "rmJz1Nm8hKbP"
      },
      "source": [
        "rater = \"Rater3\" # TODO: Change accordingly to what is the dataset you want to analyze\n",
        "set_of_labels = All_but_unknown\n",
        "set_of_labels_string = \"combined_All_but_unknown\"\n",
        "experiment = \"EXP-TEST-NEW-DATA2\" \n",
        "\n",
        "# This first one is the one used by David and Daniel\n",
        "base_path = \"/content/drive/MyDrive/WRI-LatinAmerica-Talent\"\n",
        "\n",
        "# This one is the one used by Jordi\n",
        "# base_path = \"/content/drive/MyDrive/Official Folder of WRI Latin America Project/WRI-LatinAmerica-Talent\"\n",
        "\n",
        "data_path = f\"{base_path}/Cristina_Policy_Files/Tagged_sentence_lists/datasets/Raters\"\n",
        "results_save_path = f\"{base_path}/Modeling/FineTuningExperiments/{experiment}\"\n",
        "\n",
        "if not os.path.exists(results_save_path):\n",
        "    os.makedirs(results_save_path)"
      ],
      "execution_count": 140,
      "outputs": []
    },
    {
      "cell_type": "code",
      "metadata": {
        "colab": {
          "base_uri": "https://localhost:8080/"
        },
        "id": "r-eUXWHQi6TH",
        "outputId": "172fc07b-8e18-448a-c3c9-c1b29e0c52ae"
      },
      "source": [
        "train_sents, train_labels, test_sents, test_labels = load_dataset(data_path, rater, set_of_labels_string)\n",
        "label_names = unique_labels(train_labels)\n",
        "label_names"
      ],
      "execution_count": 115,
      "outputs": [
        {
          "output_type": "execute_result",
          "data": {
            "text/plain": [
              "['Technical assistance',\n",
              " 'Supplies',\n",
              " 'Credit',\n",
              " 'Direct payment',\n",
              " 'Fine',\n",
              " 'Tax deduction']"
            ]
          },
          "metadata": {
            "tags": []
          },
          "execution_count": 115
        }
      ]
    },
    {
      "cell_type": "code",
      "metadata": {
        "colab": {
          "base_uri": "https://localhost:8080/"
        },
        "id": "mT8lrfE1jiF0",
        "outputId": "80736eaf-0b0d-4c09-92f0-8067f58f7ae0"
      },
      "source": [
        "(train_sents[2], train_labels[2]), (test_sents[2], test_labels[2])"
      ],
      "execution_count": 116,
      "outputs": [
        {
          "output_type": "execute_result",
          "data": {
            "text/plain": [
              "(('Cada familia sólo tendrá derecho a un Subsidio Bono Leña, no pudiendo causar este beneficio más de una persona por grupo familiar',\n",
              "  'Direct payment'),\n",
              " ('- El pago del Subsidio se efectuará a la persona beneficiaria o al integrante de la familia beneficiaria que corresponda, de acuerdo a la información que contenga la Ficha de Protección Social o el instrumento de caracterización socioeconómica vigente\"',\n",
              "  'Direct payment'))"
            ]
          },
          "metadata": {
            "tags": []
          },
          "execution_count": 116
        }
      ]
    },
    {
      "cell_type": "markdown",
      "metadata": {
        "id": "VbnqVcEzuWq5"
      },
      "source": [
        "### Grid Search Fine Tuning"
      ]
    },
    {
      "cell_type": "code",
      "metadata": {
        "id": "l9ycZoZ5yU0d"
      },
      "source": [
        "# Configure the grid search fine tuning \n",
        "grid_search_params = {\n",
        "    \"all_test_perc\": [0.15, 0.2, 0.25, 0.3],\n",
        "    \"model_names\": ['stsb-xlm-r-multilingual', 'paraphrase-xlm-r-multilingual-v1'], #, 'quora-distilbert-multilingual''distiluse-base-multilingual-sed-v2',\n",
        "    \"output_path\": results_save_path,\n",
        "    \"experiment\": experiment,\n",
        "    # If you want to train for a set number of epochs instead of a range, set all these numbers to be equal\n",
        "    \"start_epochs\": 4, \n",
        "    \"epochs_increment\": 2,\n",
        "    \"max_num_epochs\": 12\n",
        "}"
      ],
      "execution_count": null,
      "outputs": []
    },
    {
      "cell_type": "code",
      "metadata": {
        "id": "jWmPbwmhP_cZ"
      },
      "source": [
        "# To run a grid search over hyperparameters for fine tuning SBERT without storing the model, run:\n",
        "grid_search_fine_tune_sbert(grid_search_params, train_sents, train_labels, test_sents, test_labels, label_names)"
      ],
      "execution_count": null,
      "outputs": []
    },
    {
      "cell_type": "markdown",
      "metadata": {
        "id": "m22EUP0uuaP0"
      },
      "source": [
        "### Fine tuning with set parameters"
      ]
    },
    {
      "cell_type": "code",
      "metadata": {
        "id": "Rf23hSr5RdYt"
      },
      "source": [
        "# Configure the fine tuning for one set of parameters\n",
        "fine_tuning_params = {\n",
        "    \"test_perc\": 0.25,\n",
        "    \"model_names\": 'paraphrase-xlm-r-multilingual-v1',\n",
        "    \"output_path\": results_save_path,\n",
        "    \"experiment\": experiment\",\n",
        "    \"num_epochs\": 10\n",
        "}"
      ],
      "execution_count": 141,
      "outputs": []
    },
    {
      "cell_type": "code",
      "metadata": {
        "colab": {
          "base_uri": "https://localhost:8080/",
          "height": 1000,
          "referenced_widgets": [
            "fca6dd1f1a0d4bdd8afe04f5f899e7f8",
            "c203042fd0204268a649a05daa0513bf",
            "acf9c2fff09d46a3a62203b2980e0539",
            "f04ce12c094a432cba7a2b2dc8fea813",
            "77a376e6fd524e839e4017ba6d7d52a9",
            "8f2b826e76b44d9da1fc36c607f0fe02",
            "44dc88d26359459ea810213cd9c4e87c",
            "53ede21cf7164a89a809bf2ac953f959",
            "c12c140a024f46c7a1cfad318f8056fc",
            "10c77230e1b64e69af1ffc44a045ddd2",
            "8f2f04f100a94ab8acbc84c13e5859dd",
            "3fa00df1702a446ab57d973aba921d3c",
            "779a149fd09b4c6ba2123ef11b083813",
            "19aa17e755464ca5b0c03d0b3873f559",
            "b4e762317b52408ca6a1fb46575efe06",
            "ebf1d875a69f4d67b6d61f6815cc0655",
            "0043df9db81b47aead59cec69e05da8b",
            "f72994f47aaf4f6798d6b463cf2d8d86",
            "0197d0350b424e1bae2a8a53dd7c26df",
            "984ab80a4bbe42748daea5171c0db82f",
            "a37d28bdc9bd4e128391c5ddb1f38852",
            "f96091f965d94857a16c15024ec732b5",
            "9f20f391063548b4a8987fa3c4f7d97a",
            "3069cde1cbad49dfa0c34bea3ed71d08",
            "dd29ef6f6df44d44af78d04004c62f01",
            "6fe5ac05d47b41ceb544a5179d1ef5d4",
            "1b9ccce5f3894cdc9158c653d41957ca",
            "d8afbc8b25444d1483330af2b18a94d0",
            "92a14ea822d0458583320ed461bd1a17",
            "d071db82958845a5947daa9eaa2ddf91",
            "0c9c7bc3e1dc495799a4a37c990f4241",
            "94c3ab21e78c405da85788eb4106db50",
            "3304541393f84fefa400de83e8636a5c",
            "0538e8932a854ef987ce8e43ec13a719",
            "cf3e517756074c739d2d8f0368dee1ea",
            "0e2231e802f34971a1af2cbc0022f3eb",
            "b50304c81a714aeaa58d5c8e20dee56b",
            "5d12b9d1dfdb48b7809111a676185d15",
            "d4c81c9a13a74df2a0cc7c237469b68b",
            "81b6e33bbd5547e99b8dab541374f4e7",
            "f03fc44e573e4c799f1045c504d36b2f",
            "a7b74586b70244eba0782addd7a6e4d4",
            "1f80711802bd4fd8b50d101d6df878b6",
            "2d9c3e251af84a14b34df6160666b7ee",
            "75af76007b0b482698644fdd0ed8d571",
            "9ac5ff1a27824774a09ca05be8cc4857",
            "71c8d30a19814201908f88a77ce6f46a",
            "dd47cc0013c6480fa831d049940850a6",
            "1d385b01f10e44489b63814336181bde",
            "4701fb0c920d43c189eb3f36091821b7",
            "46ef86cff22a4e88964ad11f33c943ec",
            "6cc96dac09a6452a9ed253fb25c474b7",
            "86876f890d9443dbb2f28ed6020526dd",
            "e473824c3f2146948bb1b8b4a0e5e5da",
            "7bda8650be2440588bedf1b2d577b38c",
            "78ec3b4e9914430f9359f26b08105e04",
            "492cbe734d6149c2837528e1655d662e",
            "97c90c47ac574ff8b9d9c00fe349da80",
            "6d31911b685c4108a8d5e0b525613911",
            "29ab38f03b9c4c86b18ed5608d040e49",
            "c69b83d1ec9347f3b2b5375ca533738a",
            "d40ea82e5d4f4b149b95796005062856",
            "75a15fb3c013479cb5c3a45df0b2936f",
            "9151a55f3f6d4db2928f2b3b279f3c0b",
            "1e304bf241274d818ab4522828ae169c",
            "f65aac581b9f413589669b922fbc46a8",
            "16336b96d0a64703bd03d5f0e48657b8",
            "68841718d5724076a06b0dd7c0a9df69",
            "9eab9ea38b41459da2284fdd5aa39bbb",
            "65e5465691384020984635b1f6f098c2",
            "618525790f53419f886281120454efeb",
            "c499b23942f9456180edc5e99ab98ca7",
            "2e98274dfc4a4535b4cf395c274f9c7c",
            "889c0e01503d4707abfbd344f18a33dc",
            "59d2db0846b44fffb8eb8df09256a12b",
            "398870e396004bd6b3df8fe40aa25818",
            "c455db89759e43b49717b7c0e8cdf749",
            "14665e3c4ae64f5cba8465a75de16df1",
            "d78e8d908d3a43eda18d7b4c26cddaaa",
            "9b03ee6a937a40d99a9a112001e38ef3",
            "def1dc1c9ea242ad9e29ff55d4a79326",
            "d8f685293e2d4a868eb4258d2e535659",
            "c391454a40c342eca3479026162b4da0",
            "645384434f4747a4b24d5b37fce6fa00",
            "cc3f54299a05492a86384f062595280e",
            "6b334406ed0f49cd8096471a97b134b3",
            "370fa1fe3aa74ee2a94be109f96f48d0",
            "f0847f77abc543c0ad4986a1abfaab91"
          ]
        },
        "id": "fVnPsq3FQLpw",
        "outputId": "9b2cd796-a9eb-446f-f0da-ef0655c2387b"
      },
      "source": [
        "# If you already know which configuration you want to fine tune SBERT on, and want to store the model, run:\n",
        "fine_tune_sbert(fine_tuning_params, train_sents, train_labels, test_sents, test_labels, label_names)"
      ],
      "execution_count": 142,
      "outputs": [
        {
          "output_type": "stream",
          "text": [
            "Fine tuning parameters:\n",
            " {\n",
            "    \"experiment\": \"EXP-TEST-NEW-DATA2\",\n",
            "    \"model_names\": \"paraphrase-xlm-r-multilingual-v1\",\n",
            "    \"num_epochs\": 10,\n",
            "    \"output_path\": \"/content/drive/MyDrive/WRI-LatinAmerica-Talent/Modeling/FineTuningExperiments/EXP-TEST-NEW-DATA2\",\n",
            "    \"test_perc\": 0.25\n",
            "}\n"
          ],
          "name": "stdout"
        },
        {
          "output_type": "display_data",
          "data": {
            "application/vnd.jupyter.widget-view+json": {
              "model_id": "fca6dd1f1a0d4bdd8afe04f5f899e7f8",
              "version_minor": 0,
              "version_major": 2
            },
            "text/plain": [
              "HBox(children=(FloatProgress(value=0.0, description='Epoch', max=10.0, style=ProgressStyle(description_width='…"
            ]
          },
          "metadata": {
            "tags": []
          }
        },
        {
          "output_type": "display_data",
          "data": {
            "application/vnd.jupyter.widget-view+json": {
              "model_id": "c12c140a024f46c7a1cfad318f8056fc",
              "version_minor": 0,
              "version_major": 2
            },
            "text/plain": [
              "HBox(children=(FloatProgress(value=0.0, description='Iteration', max=28.0, style=ProgressStyle(description_wid…"
            ]
          },
          "metadata": {
            "tags": []
          }
        },
        {
          "output_type": "stream",
          "text": [
            "\n",
            "\n",
            "Evaluating:   0%|          | 0/10 [00:00<?, ?it/s]\u001b[A\u001b[A\n",
            "\n",
            "Evaluating:  20%|██        | 2/10 [00:00<00:00, 16.49it/s]\u001b[A\u001b[A"
          ],
          "name": "stderr"
        },
        {
          "output_type": "stream",
          "text": [
            "\n"
          ],
          "name": "stdout"
        },
        {
          "output_type": "stream",
          "text": [
            "\n",
            "\n",
            "Evaluating:  40%|████      | 4/10 [00:00<00:00, 15.65it/s]\u001b[A\u001b[A\n",
            "\n",
            "Evaluating:  60%|██████    | 6/10 [00:00<00:00, 14.08it/s]\u001b[A\u001b[A\n",
            "\n",
            "Evaluating: 100%|██████████| 10/10 [00:00<00:00, 14.74it/s]\n"
          ],
          "name": "stderr"
        },
        {
          "output_type": "display_data",
          "data": {
            "application/vnd.jupyter.widget-view+json": {
              "model_id": "0043df9db81b47aead59cec69e05da8b",
              "version_minor": 0,
              "version_major": 2
            },
            "text/plain": [
              "HBox(children=(FloatProgress(value=0.0, description='Iteration', max=28.0, style=ProgressStyle(description_wid…"
            ]
          },
          "metadata": {
            "tags": []
          }
        },
        {
          "output_type": "stream",
          "text": [
            "\n",
            "\n",
            "Evaluating:   0%|          | 0/10 [00:00<?, ?it/s]\u001b[A\u001b[A\n",
            "\n",
            "Evaluating:  20%|██        | 2/10 [00:00<00:00, 16.35it/s]\u001b[A\u001b[A"
          ],
          "name": "stderr"
        },
        {
          "output_type": "stream",
          "text": [
            "\n"
          ],
          "name": "stdout"
        },
        {
          "output_type": "stream",
          "text": [
            "\n",
            "\n",
            "Evaluating:  40%|████      | 4/10 [00:00<00:00, 15.63it/s]\u001b[A\u001b[A\n",
            "\n",
            "Evaluating:  60%|██████    | 6/10 [00:00<00:00, 16.17it/s]\u001b[A\u001b[A\n",
            "\n",
            "Evaluating:  80%|████████  | 8/10 [00:00<00:00, 15.79it/s]\u001b[A\u001b[A\n",
            "\n",
            "Evaluating: 100%|██████████| 10/10 [00:00<00:00, 15.76it/s]\n"
          ],
          "name": "stderr"
        },
        {
          "output_type": "display_data",
          "data": {
            "application/vnd.jupyter.widget-view+json": {
              "model_id": "dd29ef6f6df44d44af78d04004c62f01",
              "version_minor": 0,
              "version_major": 2
            },
            "text/plain": [
              "HBox(children=(FloatProgress(value=0.0, description='Iteration', max=28.0, style=ProgressStyle(description_wid…"
            ]
          },
          "metadata": {
            "tags": []
          }
        },
        {
          "output_type": "stream",
          "text": [
            "\n",
            "\n",
            "Evaluating:   0%|          | 0/10 [00:00<?, ?it/s]\u001b[A\u001b[A\n",
            "\n",
            "Evaluating:  20%|██        | 2/10 [00:00<00:00, 19.28it/s]\u001b[A\u001b[A"
          ],
          "name": "stderr"
        },
        {
          "output_type": "stream",
          "text": [
            "\n"
          ],
          "name": "stdout"
        },
        {
          "output_type": "stream",
          "text": [
            "\n",
            "\n",
            "Evaluating:  40%|████      | 4/10 [00:00<00:00, 17.21it/s]\u001b[A\u001b[A\n",
            "\n",
            "Evaluating:  60%|██████    | 6/10 [00:00<00:00, 16.28it/s]\u001b[A\u001b[A\n",
            "\n",
            "Evaluating: 100%|██████████| 10/10 [00:00<00:00, 17.12it/s]\n"
          ],
          "name": "stderr"
        },
        {
          "output_type": "display_data",
          "data": {
            "application/vnd.jupyter.widget-view+json": {
              "model_id": "3304541393f84fefa400de83e8636a5c",
              "version_minor": 0,
              "version_major": 2
            },
            "text/plain": [
              "HBox(children=(FloatProgress(value=0.0, description='Iteration', max=28.0, style=ProgressStyle(description_wid…"
            ]
          },
          "metadata": {
            "tags": []
          }
        },
        {
          "output_type": "stream",
          "text": [
            "\n",
            "\n",
            "Evaluating:   0%|          | 0/10 [00:00<?, ?it/s]\u001b[A\u001b[A\n",
            "\n",
            "Evaluating:  20%|██        | 2/10 [00:00<00:00, 15.24it/s]\u001b[A\u001b[A"
          ],
          "name": "stderr"
        },
        {
          "output_type": "stream",
          "text": [
            "\n"
          ],
          "name": "stdout"
        },
        {
          "output_type": "stream",
          "text": [
            "\n",
            "\n",
            "Evaluating:  40%|████      | 4/10 [00:00<00:00, 15.11it/s]\u001b[A\u001b[A\n",
            "\n",
            "Evaluating:  70%|███████   | 7/10 [00:00<00:00, 16.31it/s]\u001b[A\u001b[A\n",
            "\n",
            "Evaluating: 100%|██████████| 10/10 [00:00<00:00, 17.10it/s]\n"
          ],
          "name": "stderr"
        },
        {
          "output_type": "display_data",
          "data": {
            "application/vnd.jupyter.widget-view+json": {
              "model_id": "f03fc44e573e4c799f1045c504d36b2f",
              "version_minor": 0,
              "version_major": 2
            },
            "text/plain": [
              "HBox(children=(FloatProgress(value=0.0, description='Iteration', max=28.0, style=ProgressStyle(description_wid…"
            ]
          },
          "metadata": {
            "tags": []
          }
        },
        {
          "output_type": "stream",
          "text": [
            "\n",
            "\n",
            "Evaluating:   0%|          | 0/10 [00:00<?, ?it/s]\u001b[A\u001b[A\n",
            "\n",
            "Evaluating:  20%|██        | 2/10 [00:00<00:00, 16.76it/s]\u001b[A\u001b[A"
          ],
          "name": "stderr"
        },
        {
          "output_type": "stream",
          "text": [
            "\n"
          ],
          "name": "stdout"
        },
        {
          "output_type": "stream",
          "text": [
            "\n",
            "\n",
            "Evaluating:  40%|████      | 4/10 [00:00<00:00, 16.66it/s]\u001b[A\u001b[A\n",
            "\n",
            "Evaluating:  60%|██████    | 6/10 [00:00<00:00, 15.59it/s]\u001b[A\u001b[A\n",
            "\n",
            "Evaluating:  80%|████████  | 8/10 [00:00<00:00, 15.11it/s]\u001b[A\u001b[A\n",
            "\n",
            "Evaluating: 100%|██████████| 10/10 [00:00<00:00, 14.73it/s]\n"
          ],
          "name": "stderr"
        },
        {
          "output_type": "display_data",
          "data": {
            "application/vnd.jupyter.widget-view+json": {
              "model_id": "1d385b01f10e44489b63814336181bde",
              "version_minor": 0,
              "version_major": 2
            },
            "text/plain": [
              "HBox(children=(FloatProgress(value=0.0, description='Iteration', max=28.0, style=ProgressStyle(description_wid…"
            ]
          },
          "metadata": {
            "tags": []
          }
        },
        {
          "output_type": "stream",
          "text": [
            "\n",
            "\n",
            "Evaluating:   0%|          | 0/10 [00:00<?, ?it/s]\u001b[A\u001b[A\n",
            "\n",
            "Evaluating:  20%|██        | 2/10 [00:00<00:00, 16.47it/s]\u001b[A\u001b[A"
          ],
          "name": "stderr"
        },
        {
          "output_type": "stream",
          "text": [
            "\n"
          ],
          "name": "stdout"
        },
        {
          "output_type": "stream",
          "text": [
            "\n",
            "\n",
            "Evaluating:  40%|████      | 4/10 [00:00<00:00, 16.36it/s]\u001b[A\u001b[A\n",
            "\n",
            "Evaluating:  60%|██████    | 6/10 [00:00<00:00, 14.67it/s]\u001b[A\u001b[A\n",
            "\n",
            "Evaluating: 100%|██████████| 10/10 [00:00<00:00, 16.24it/s]\n"
          ],
          "name": "stderr"
        },
        {
          "output_type": "display_data",
          "data": {
            "application/vnd.jupyter.widget-view+json": {
              "model_id": "492cbe734d6149c2837528e1655d662e",
              "version_minor": 0,
              "version_major": 2
            },
            "text/plain": [
              "HBox(children=(FloatProgress(value=0.0, description='Iteration', max=28.0, style=ProgressStyle(description_wid…"
            ]
          },
          "metadata": {
            "tags": []
          }
        },
        {
          "output_type": "stream",
          "text": [
            "\n",
            "\n",
            "Evaluating:   0%|          | 0/10 [00:00<?, ?it/s]\u001b[A\u001b[A\n",
            "\n",
            "Evaluating:  20%|██        | 2/10 [00:00<00:00, 18.25it/s]\u001b[A\u001b[A"
          ],
          "name": "stderr"
        },
        {
          "output_type": "stream",
          "text": [
            "\n"
          ],
          "name": "stdout"
        },
        {
          "output_type": "stream",
          "text": [
            "\n",
            "\n",
            "Evaluating:  40%|████      | 4/10 [00:00<00:00, 18.06it/s]\u001b[A\u001b[A\n",
            "\n",
            "Evaluating:  60%|██████    | 6/10 [00:00<00:00, 16.85it/s]\u001b[A\u001b[A\n",
            "\n",
            "Evaluating:  80%|████████  | 8/10 [00:00<00:00, 15.23it/s]\u001b[A\u001b[A\n",
            "\n",
            "Evaluating: 100%|██████████| 10/10 [00:00<00:00, 15.80it/s]\n"
          ],
          "name": "stderr"
        },
        {
          "output_type": "display_data",
          "data": {
            "application/vnd.jupyter.widget-view+json": {
              "model_id": "1e304bf241274d818ab4522828ae169c",
              "version_minor": 0,
              "version_major": 2
            },
            "text/plain": [
              "HBox(children=(FloatProgress(value=0.0, description='Iteration', max=28.0, style=ProgressStyle(description_wid…"
            ]
          },
          "metadata": {
            "tags": []
          }
        },
        {
          "output_type": "stream",
          "text": [
            "\n",
            "\n",
            "Evaluating:   0%|          | 0/10 [00:00<?, ?it/s]\u001b[A\u001b[A\n",
            "\n",
            "Evaluating:  10%|█         | 1/10 [00:00<00:00,  9.68it/s]\u001b[A\u001b[A"
          ],
          "name": "stderr"
        },
        {
          "output_type": "stream",
          "text": [
            "\n"
          ],
          "name": "stdout"
        },
        {
          "output_type": "stream",
          "text": [
            "\n",
            "\n",
            "Evaluating:  30%|███       | 3/10 [00:00<00:00, 11.07it/s]\u001b[A\u001b[A\n",
            "\n",
            "Evaluating:  50%|█████     | 5/10 [00:00<00:00, 11.96it/s]\u001b[A\u001b[A\n",
            "\n",
            "Evaluating:  70%|███████   | 7/10 [00:00<00:00, 12.84it/s]\u001b[A\u001b[A\n",
            "\n",
            "Evaluating: 100%|██████████| 10/10 [00:00<00:00, 15.20it/s]\n"
          ],
          "name": "stderr"
        },
        {
          "output_type": "display_data",
          "data": {
            "application/vnd.jupyter.widget-view+json": {
              "model_id": "2e98274dfc4a4535b4cf395c274f9c7c",
              "version_minor": 0,
              "version_major": 2
            },
            "text/plain": [
              "HBox(children=(FloatProgress(value=0.0, description='Iteration', max=28.0, style=ProgressStyle(description_wid…"
            ]
          },
          "metadata": {
            "tags": []
          }
        },
        {
          "output_type": "stream",
          "text": [
            "\n",
            "\n",
            "Evaluating:   0%|          | 0/10 [00:00<?, ?it/s]\u001b[A\u001b[A\n",
            "\n",
            "Evaluating:  20%|██        | 2/10 [00:00<00:00, 13.59it/s]\u001b[A\u001b[A"
          ],
          "name": "stderr"
        },
        {
          "output_type": "stream",
          "text": [
            "\n"
          ],
          "name": "stdout"
        },
        {
          "output_type": "stream",
          "text": [
            "\n",
            "\n",
            "Evaluating:  40%|████      | 4/10 [00:00<00:00, 13.74it/s]\u001b[A\u001b[A\n",
            "\n",
            "Evaluating:  60%|██████    | 6/10 [00:00<00:00, 14.59it/s]\u001b[A\u001b[A\n",
            "\n",
            "Evaluating: 100%|██████████| 10/10 [00:00<00:00, 15.79it/s]\n"
          ],
          "name": "stderr"
        },
        {
          "output_type": "display_data",
          "data": {
            "application/vnd.jupyter.widget-view+json": {
              "model_id": "def1dc1c9ea242ad9e29ff55d4a79326",
              "version_minor": 0,
              "version_major": 2
            },
            "text/plain": [
              "HBox(children=(FloatProgress(value=0.0, description='Iteration', max=28.0, style=ProgressStyle(description_wid…"
            ]
          },
          "metadata": {
            "tags": []
          }
        },
        {
          "output_type": "stream",
          "text": [
            "\n",
            "\n",
            "Evaluating:   0%|          | 0/10 [00:00<?, ?it/s]\u001b[A\u001b[A\n",
            "\n",
            "Evaluating:  20%|██        | 2/10 [00:00<00:00, 12.57it/s]\u001b[A\u001b[A"
          ],
          "name": "stderr"
        },
        {
          "output_type": "stream",
          "text": [
            "\n"
          ],
          "name": "stdout"
        },
        {
          "output_type": "stream",
          "text": [
            "\n",
            "\n",
            "Evaluating:  40%|████      | 4/10 [00:00<00:00, 13.16it/s]\u001b[A\u001b[A\n",
            "\n",
            "Evaluating:  60%|██████    | 6/10 [00:00<00:00, 14.15it/s]\u001b[A\u001b[A\n",
            "\n",
            "Evaluating:  80%|████████  | 8/10 [00:00<00:00, 14.64it/s]\u001b[A\u001b[A\n",
            "\n",
            "Evaluating: 100%|██████████| 10/10 [00:00<00:00, 15.39it/s]\n"
          ],
          "name": "stderr"
        },
        {
          "output_type": "stream",
          "text": [
            "\n",
            "Time taken for fine-tuning: 00:01:40.95\n",
            "Classifying sentences...\n"
          ],
          "name": "stdout"
        },
        {
          "output_type": "stream",
          "text": [
            "\n",
            "  0%|          | 0/150 [00:00<?, ?it/s]\u001b[A\n",
            "  2%|▏         | 3/150 [00:00<00:05, 25.23it/s]\u001b[A\n",
            "  4%|▍         | 6/150 [00:00<00:06, 23.95it/s]\u001b[A\n",
            "  5%|▌         | 8/150 [00:00<00:07, 20.06it/s]\u001b[A\n",
            "  7%|▋         | 10/150 [00:00<00:07, 19.62it/s]\u001b[A\n",
            "  9%|▊         | 13/150 [00:00<00:06, 20.12it/s]\u001b[A\n",
            " 11%|█         | 16/150 [00:00<00:06, 20.28it/s]\u001b[A\n",
            " 12%|█▏        | 18/150 [00:00<00:07, 18.54it/s]\u001b[A\n",
            " 13%|█▎        | 20/150 [00:01<00:07, 18.38it/s]\u001b[A\n",
            " 15%|█▍        | 22/150 [00:01<00:07, 18.19it/s]\u001b[A\n",
            " 16%|█▌        | 24/150 [00:01<00:07, 17.69it/s]\u001b[A\n",
            " 17%|█▋        | 26/150 [00:01<00:07, 17.61it/s]\u001b[A\n",
            " 19%|█▊        | 28/150 [00:01<00:07, 16.60it/s]\u001b[A\n",
            " 20%|██        | 30/150 [00:01<00:07, 16.71it/s]\u001b[A\n",
            " 21%|██▏       | 32/150 [00:01<00:06, 17.08it/s]\u001b[A\n",
            " 23%|██▎       | 35/150 [00:01<00:06, 18.55it/s]\u001b[A\n",
            " 25%|██▍       | 37/150 [00:01<00:06, 18.73it/s]\u001b[A\n",
            " 27%|██▋       | 40/150 [00:02<00:05, 20.00it/s]\u001b[A\n",
            " 29%|██▊       | 43/150 [00:02<00:05, 20.83it/s]\u001b[A\n",
            " 31%|███       | 46/150 [00:02<00:04, 21.63it/s]\u001b[A\n",
            " 33%|███▎      | 49/150 [00:02<00:04, 22.31it/s]\u001b[A\n",
            " 35%|███▍      | 52/150 [00:02<00:04, 20.78it/s]\u001b[A\n",
            " 37%|███▋      | 55/150 [00:02<00:04, 20.82it/s]\u001b[A\n",
            " 39%|███▊      | 58/150 [00:02<00:04, 21.45it/s]\u001b[A\n",
            " 41%|████      | 61/150 [00:03<00:04, 21.42it/s]\u001b[A\n",
            " 43%|████▎     | 64/150 [00:03<00:03, 21.63it/s]\u001b[A\n",
            " 45%|████▍     | 67/150 [00:03<00:03, 22.23it/s]\u001b[A\n",
            " 47%|████▋     | 70/150 [00:03<00:03, 22.68it/s]\u001b[A\n",
            " 49%|████▊     | 73/150 [00:03<00:03, 22.14it/s]\u001b[A\n",
            " 51%|█████     | 76/150 [00:03<00:03, 21.69it/s]\u001b[A\n",
            " 53%|█████▎    | 79/150 [00:03<00:03, 21.53it/s]\u001b[A\n",
            " 55%|█████▍    | 82/150 [00:04<00:03, 21.83it/s]\u001b[A\n",
            " 57%|█████▋    | 85/150 [00:04<00:02, 22.03it/s]\u001b[A\n",
            " 59%|█████▊    | 88/150 [00:04<00:02, 22.64it/s]\u001b[A\n",
            " 61%|██████    | 91/150 [00:04<00:02, 22.90it/s]\u001b[A\n",
            " 63%|██████▎   | 94/150 [00:04<00:02, 22.16it/s]\u001b[A\n",
            " 65%|██████▍   | 97/150 [00:04<00:02, 21.14it/s]\u001b[A\n",
            " 67%|██████▋   | 100/150 [00:04<00:02, 20.80it/s]\u001b[A\n",
            " 69%|██████▊   | 103/150 [00:04<00:02, 21.48it/s]\u001b[A\n",
            " 71%|███████   | 106/150 [00:05<00:02, 21.92it/s]\u001b[A\n",
            " 73%|███████▎  | 109/150 [00:05<00:01, 22.37it/s]\u001b[A\n",
            " 75%|███████▍  | 112/150 [00:05<00:01, 22.65it/s]\u001b[A\n",
            " 77%|███████▋  | 115/150 [00:05<00:01, 22.83it/s]\u001b[A\n",
            " 79%|███████▊  | 118/150 [00:05<00:01, 20.79it/s]\u001b[A\n",
            " 81%|████████  | 121/150 [00:05<00:01, 19.75it/s]\u001b[A\n",
            " 83%|████████▎ | 124/150 [00:06<00:01, 19.13it/s]\u001b[A\n",
            " 84%|████████▍ | 126/150 [00:06<00:01, 18.47it/s]\u001b[A\n",
            " 85%|████████▌ | 128/150 [00:06<00:01, 18.34it/s]\u001b[A\n",
            " 87%|████████▋ | 130/150 [00:06<00:01, 17.68it/s]\u001b[A\n",
            " 88%|████████▊ | 132/150 [00:06<00:01, 17.51it/s]\u001b[A\n",
            " 89%|████████▉ | 134/150 [00:06<00:00, 17.49it/s]\u001b[A\n",
            " 91%|█████████ | 136/150 [00:06<00:00, 17.16it/s]\u001b[A\n",
            " 92%|█████████▏| 138/150 [00:06<00:00, 17.77it/s]\u001b[A\n",
            " 94%|█████████▍| 141/150 [00:06<00:00, 18.68it/s]\u001b[A\n",
            " 96%|█████████▌| 144/150 [00:07<00:00, 19.90it/s]\u001b[A\n",
            " 98%|█████████▊| 147/150 [00:07<00:00, 20.76it/s]\u001b[A\n",
            "100%|██████████| 150/150 [00:07<00:00, 20.39it/s]\n"
          ],
          "name": "stderr"
        },
        {
          "output_type": "stream",
          "text": [
            "[t-SNE] Computing 149 nearest neighbors...\n",
            "[t-SNE] Indexed 150 samples in 0.000s...\n",
            "[t-SNE] Computed neighbors for 150 samples in 0.016s...\n",
            "[t-SNE] Computed conditional probabilities for sample 150 / 150\n",
            "[t-SNE] Mean sigma: 20.614611\n",
            "[t-SNE] KL divergence after 250 iterations with early exaggeration: 54.593678\n",
            "[t-SNE] KL divergence after 950 iterations: 0.092751\n"
          ],
          "name": "stdout"
        },
        {
          "output_type": "stream",
          "text": [
            "\n",
            "100%|██████████| 150/150 [00:00<00:00, 9216.63it/s]\n"
          ],
          "name": "stderr"
        },
        {
          "output_type": "stream",
          "text": [
            "Stored confusion matrix: /content/drive/MyDrive/WRI-LatinAmerica-Talent/Modeling/FineTuningExperiments/EXP-TEST-NEW-DATA2/model=paraphrase-xlm-r-multilingual-v1_test-perc=0.25_n-epoch=10_cm.png\n"
          ],
          "name": "stdout"
        },
        {
          "output_type": "display_data",
          "data": {
            "image/png": "[encoded data removed]",
            "text/plain": [
              "<Figure size 1728x288 with 2 Axes>"
            ]
          },
          "metadata": {
            "tags": []
          }
        },
        {
          "output_type": "display_data",
          "data": {
            "image/png": "[encoded data removed]",
            "text/plain": [
              "<Figure size 576x432 with 2 Axes>"
            ]
          },
          "metadata": {
            "tags": []
          }
        },
        {
          "output_type": "stream",
          "text": [
            "Macro/Weighted Avg F1-score: [0.8145452412305988, 0.8430859877700709]\n"
          ],
          "name": "stdout"
        }
      ]
    },
    {
      "cell_type": "markdown",
      "metadata": {
        "id": "fwM1PalvKsax"
      },
      "source": [
        "### Load best model from training"
      ]
    },
    {
      "cell_type": "code",
      "metadata": {
        "id": "G9rPCSzicc2Z"
      },
      "source": [
        "model_name = \"paraphrase-xlm-r-multilingual-v1\"\n",
        "test_perc = 0.25\n",
        "num_epochs = 10\n",
        "model_deets = f\"model={model_name}_test-perc={test_perc}_n-epoch={num_epochs}\"\n",
        "experiment = \"EXP-TEST-NEW-DATA2\"\n",
        "\n",
        "saved_model_path = f\"{base_path}/Modeling/FineTuningExperiments/{experiment}\"\n",
        "# saved_model_path = f\"/content/drive/MyDrive/Official Folder of WRI Latin America Project/WRI-LatinAmerica-Talent/Modeling/FineTuningExperiments/{Experiment}/FineTuning_{model_deets}\""
      ],
      "execution_count": 143,
      "outputs": []
    },
    {
      "cell_type": "code",
      "metadata": {
        "id": "pe2dWNR6LEYh"
      },
      "source": [
        "saved_model = SentenceTransformer(saved_model_path)"
      ],
      "execution_count": 144,
      "outputs": []
    },
    {
      "cell_type": "code",
      "metadata": {
        "id": "JnRYlUead3h1"
      },
      "source": [
        "# Simple embeddings, no projection matrix added\n",
        "train_sent_embs = encode_all_sents(train_sents, saved_model)\n",
        "test_sent_embs = encode_all_sents(test_sents, saved_model)"
      ],
      "execution_count": null,
      "outputs": []
    },
    {
      "cell_type": "markdown",
      "metadata": {
        "id": "IsTPFo-NcdDb"
      },
      "source": [
        "### Test multiple classifiers\n",
        "- Random Forests"
      ]
    },
    {
      "cell_type": "code",
      "metadata": {
        "id": "2PutPV-Qfd10"
      },
      "source": [
        "from sklearn.model_selection import cross_val_score\n",
        "from sklearn.metrics import classification_report"
      ],
      "execution_count": 132,
      "outputs": []
    },
    {
      "cell_type": "code",
      "metadata": {
        "id": "X3enEXNfcory"
      },
      "source": [
        "from sklearn.ensemble import RandomForestClassifier"
      ],
      "execution_count": 120,
      "outputs": []
    },
    {
      "cell_type": "code",
      "metadata": {
        "id": "0bkssDEOco5h"
      },
      "source": [
        "clf = RandomForestClassifier(n_estimators=100, max_depth=3, random_state=69420)\n",
        "clf.fit(np.vstack(train_sent_embs), train_labels)\n",
        "clf_preds = [clf.predict(sent_emb)[0] for sent_emb in test_sent_embs]\n",
        "print(classification_report(test_labels, clf_preds))"
      ],
      "execution_count": 161,
      "outputs": []
    },
    {
      "cell_type": "code",
      "metadata": {
        "colab": {
          "base_uri": "https://localhost:8080/"
        },
        "id": "wnkib30lfERf",
        "outputId": "a4bdf709-6f97-4a72-87fe-de2be695008f"
      },
      "source": [
        ""
      ],
      "execution_count": 164,
      "outputs": [
        {
          "output_type": "stream",
          "text": [
            "                      precision    recall  f1-score   support\n",
            "\n",
            "              Credit       1.00      0.77      0.87        30\n",
            "      Direct payment       0.81      0.90      0.85        52\n",
            "                Fine       0.80      0.92      0.86        26\n",
            "            Supplies       0.00      0.00      0.00        10\n",
            "       Tax deduction       0.00      0.00      0.00        10\n",
            "Technical assistance       0.49      0.86      0.62        22\n",
            "\n",
            "            accuracy                           0.75       150\n",
            "           macro avg       0.52      0.58      0.53       150\n",
            "        weighted avg       0.69      0.75      0.71       150\n",
            "\n"
          ],
          "name": "stdout"
        },
        {
          "output_type": "stream",
          "text": [
            "/usr/local/lib/python3.6/dist-packages/sklearn/metrics/_classification.py:1272: UndefinedMetricWarning: Precision and F-score are ill-defined and being set to 0.0 in labels with no predicted samples. Use `zero_division` parameter to control this behavior.\n",
            "  _warn_prf(average, modifier, msg_start, len(result))\n"
          ],
          "name": "stderr"
        }
      ]
    },
    {
      "cell_type": "code",
      "metadata": {
        "colab": {
          "base_uri": "https://localhost:8080/",
          "height": 526
        },
        "id": "3qhgRU-ggS-9",
        "outputId": "06af8e43-7c2c-4a20-814d-182796cf760e"
      },
      "source": [
        "numeric_preds = labels2numeric(clf_preds, label_names)\n",
        "numeric_test_labels = labels2numeric(test_labels, label_names)\n",
        "evaluator = ModelEvaluator(label_names, y_true=numeric_test_labels, y_pred=numeric_preds)\n",
        "evaluator.plot_confusion_matrix(color_map='Blues', exp_name=f\"{saved_model_path}/RandomForest\")"
      ],
      "execution_count": 165,
      "outputs": [
        {
          "output_type": "stream",
          "text": [
            "/usr/local/lib/python3.6/dist-packages/sklearn/metrics/_classification.py:1272: UndefinedMetricWarning: Precision is ill-defined and being set to 0.0 in labels with no predicted samples. Use `zero_division` parameter to control this behavior.\n",
            "  _warn_prf(average, modifier, msg_start, len(result))\n"
          ],
          "name": "stderr"
        },
        {
          "output_type": "stream",
          "text": [
            "Stored confusion matrix: /content/drive/MyDrive/WRI-LatinAmerica-Talent/Modeling/FineTuningExperiments/EXP-TEST-NEW-DATA2/RandomForest_cm.png\n"
          ],
          "name": "stdout"
        },
        {
          "output_type": "display_data",
          "data": {
            "image/png": "[encoded data removed]",
            "text/plain": [
              "<Figure size 576x432 with 2 Axes>"
            ]
          },
          "metadata": {
            "tags": []
          }
        }
      ]
    },
    {
      "cell_type": "markdown",
      "metadata": {
        "id": "hEnVp56BgSjo"
      },
      "source": [
        "- Support Vector Machines"
      ]
    },
    {
      "cell_type": "code",
      "metadata": {
        "id": "ceU18zCdfXgg"
      },
      "source": [
        "from sklearn import svm"
      ],
      "execution_count": 137,
      "outputs": []
    },
    {
      "cell_type": "code",
      "metadata": {
        "id": "VE34MIq1gYLF"
      },
      "source": [
        "clf = svm.SVC(gamma=0.001, C=100.)\n",
        "clf.fit(np.vstack(train_sent_embs), train_labels)\n",
        "clf_preds = [clf.predict(sent_emb)[0] for sent_emb in test_sent_embs]\n",
        "print(classification_report(test_labels, clf_preds))"
      ],
      "execution_count": 166,
      "outputs": []
    },
    {
      "cell_type": "code",
      "metadata": {
        "colab": {
          "base_uri": "https://localhost:8080/"
        },
        "id": "8MN858KOgcYs",
        "outputId": "929b6055-3c86-40c3-8bc4-59c65426e266"
      },
      "source": [
        ""
      ],
      "execution_count": 169,
      "outputs": [
        {
          "output_type": "stream",
          "text": [
            "                      precision    recall  f1-score   support\n",
            "\n",
            "              Credit       1.00      0.70      0.82        30\n",
            "      Direct payment       0.78      0.90      0.84        52\n",
            "                Fine       0.80      0.92      0.86        26\n",
            "            Supplies       0.67      0.80      0.73        10\n",
            "       Tax deduction       0.89      0.80      0.84        10\n",
            "Technical assistance       0.94      0.77      0.85        22\n",
            "\n",
            "            accuracy                           0.83       150\n",
            "           macro avg       0.85      0.82      0.82       150\n",
            "        weighted avg       0.85      0.83      0.83       150\n",
            "\n"
          ],
          "name": "stdout"
        }
      ]
    },
    {
      "cell_type": "code",
      "metadata": {
        "colab": {
          "base_uri": "https://localhost:8080/",
          "height": 472
        },
        "id": "kK5wd3aNgcVv",
        "outputId": "d087d12e-a161-4880-848e-103983987c5e"
      },
      "source": [
        "numeric_preds = labels2numeric(clf_preds, label_names)\n",
        "numeric_test_labels = labels2numeric(test_labels, label_names)\n",
        "evaluator = ModelEvaluator(label_names, y_true=numeric_test_labels, y_pred=numeric_preds)\n",
        "evaluator.plot_confusion_matrix(color_map='Blues', exp_name=f\"{saved_model_path}/SVM\")"
      ],
      "execution_count": 170,
      "outputs": [
        {
          "output_type": "stream",
          "text": [
            "Stored confusion matrix: /content/drive/MyDrive/WRI-LatinAmerica-Talent/Modeling/FineTuningExperiments/EXP-TEST-NEW-DATA2/SVM_cm.png\n"
          ],
          "name": "stdout"
        },
        {
          "output_type": "display_data",
          "data": {
            "image/png": "[encoded data removed]",
            "text/plain": [
              "<Figure size 576x432 with 2 Axes>"
            ]
          },
          "metadata": {
            "tags": []
          }
        }
      ]
    },
    {
      "cell_type": "markdown",
      "metadata": {
        "id": "6-h6EhwMnq8W"
      },
      "source": [
        "- Gradient Boosting trees"
      ]
    },
    {
      "cell_type": "code",
      "metadata": {
        "id": "P5MFJRj4nm90"
      },
      "source": [
        "!pip install xgboost \\\n",
        "  lightgbm \\\n",
        "  catboost"
      ],
      "execution_count": null,
      "outputs": []
    },
    {
      "cell_type": "code",
      "metadata": {
        "id": "trfA9gjdp3Jm"
      },
      "source": [
        "from xgboost import XGBClassifier\n",
        "from lightgbm import LGBMClassifier\n",
        "from catboost import CatBoostClassifier\n",
        "from sklearn.tree import DecisionTreeClassifier\n",
        "from sklearn.ensemble import (AdaBoostClassifier,\n",
        "                              GradientBoostingClassifier)"
      ],
      "execution_count": 173,
      "outputs": []
    },
    {
      "cell_type": "code",
      "metadata": {
        "id": "Z2fRO28hnmy4"
      },
      "source": [
        "cb = CatBoostClassifier(n_estimators=2000,\n",
        "                        colsample_bylevel=0.06,\n",
        "                        max_leaves=31,\n",
        "                        subsample=0.67,\n",
        "                        verbose=0,\n",
        "                        thread_count=6,\n",
        "                        random_state=69420,\n",
        "                        bootstrap_type='Poisson')\n",
        "\n",
        "gbm = GradientBoostingClassifier(n_estimators=2000,\n",
        "                                 subsample=0.67,\n",
        "                                 max_features=0.06,\n",
        "                                 validation_fraction=0.1,\n",
        "                                 n_iter_no_change=15,\n",
        "                                 verbose=0,\n",
        "                                 random_state=69420)\n",
        "\n",
        "lgbm = LGBMClassifier(n_estimators=2000,\n",
        "                      feature_fraction=0.06,\n",
        "                      bagging_fraction=0.67,\n",
        "                      bagging_freq=1,\n",
        "                      verbose=0,\n",
        "                      n_jobs=6,\n",
        "                      random_state=69420)\n",
        "\n",
        "xgb = XGBClassifier(n_estimators=2000,\n",
        "                    tree_method='hist',\n",
        "                    subsample=0.67,\n",
        "                    colsample_level=0.06,\n",
        "                    verbose=0,\n",
        "                    n_jobs=6,\n",
        "                    random_state=69420)\n",
        "\n",
        "base_estim = DecisionTreeClassifier(max_depth=1, max_features=0.06)                          \n",
        "ab = AdaBoostClassifier(base_estimator=base_estim,\n",
        "                        n_estimators=500,\n",
        "                        learning_rate=0.5,\n",
        "                        random_state=69420)\n"
      ],
      "execution_count": 178,
      "outputs": []
    },
    {
      "cell_type": "code",
      "metadata": {
        "colab": {
          "base_uri": "https://localhost:8080/",
          "height": 1000
        },
        "id": "OTF_EvTUqit4",
        "outputId": "9301b005-5f4f-4fa4-b8cf-f8e39caa6565"
      },
      "source": [
        "gb_classifiers = [lgbm, gbm, xgb, ab] #cb\n",
        "gb_names = [i.__class__.__name__ for i in gb_classifiers]\n",
        "\n",
        "for clf, clf_name in zip(gb_classifiers, gb_names):\n",
        "  print(\"Evaluating:\", clf_name)\n",
        "  print(\"Training...\")\n",
        "  clf.fit(np.vstack(train_sent_embs), train_labels)\n",
        "  print(\"Predicting...\")\n",
        "  clf_preds = [clf.predict(sent_emb)[0] for sent_emb in test_sent_embs]\n",
        "  print(classification_report(test_labels, clf_preds))\n",
        "  numeric_preds = labels2numeric(clf_preds, label_names)\n",
        "  numeric_test_labels = labels2numeric(test_labels, label_names)\n",
        "  evaluator = ModelEvaluator(label_names, y_true=numeric_test_labels, y_pred=numeric_preds)\n",
        "  evaluator.plot_confusion_matrix(color_map='Blues', exp_name=f\"{saved_model_path}/{clf_name}\")"
      ],
      "execution_count": 180,
      "outputs": [
        {
          "output_type": "stream",
          "text": [
            "Evaluating: LGBMClassifier\n",
            "Training...\n",
            "Predicting...\n",
            "                      precision    recall  f1-score   support\n",
            "\n",
            "              Credit       1.00      0.77      0.87        30\n",
            "      Direct payment       0.82      0.94      0.87        52\n",
            "                Fine       0.83      0.92      0.87        26\n",
            "            Supplies       0.70      0.70      0.70        10\n",
            "       Tax deduction       0.89      0.80      0.84        10\n",
            "Technical assistance       0.89      0.77      0.83        22\n",
            "\n",
            "            accuracy                           0.85       150\n",
            "           macro avg       0.85      0.82      0.83       150\n",
            "        weighted avg       0.86      0.85      0.85       150\n",
            "\n",
            "Stored confusion matrix: /content/drive/MyDrive/WRI-LatinAmerica-Talent/Modeling/FineTuningExperiments/EXP-TEST-NEW-DATA2/LGBMClassifier_cm.png\n"
          ],
          "name": "stdout"
        },
        {
          "output_type": "display_data",
          "data": {
            "image/png": "[encoded data removed]",
            "text/plain": [
              "<Figure size 576x432 with 2 Axes>"
            ]
          },
          "metadata": {
            "tags": []
          }
        },
        {
          "output_type": "stream",
          "text": [
            "Evaluating: GradientBoostingClassifier\n",
            "Training...\n",
            "Predicting...\n",
            "                      precision    recall  f1-score   support\n",
            "\n",
            "              Credit       1.00      0.73      0.85        30\n",
            "      Direct payment       0.78      0.88      0.83        52\n",
            "                Fine       0.77      0.92      0.84        26\n",
            "            Supplies       0.70      0.70      0.70        10\n",
            "       Tax deduction       0.80      0.80      0.80        10\n",
            "Technical assistance       0.94      0.77      0.85        22\n",
            "\n",
            "            accuracy                           0.83       150\n",
            "           macro avg       0.83      0.80      0.81       150\n",
            "        weighted avg       0.84      0.83      0.83       150\n",
            "\n",
            "Stored confusion matrix: /content/drive/MyDrive/WRI-LatinAmerica-Talent/Modeling/FineTuningExperiments/EXP-TEST-NEW-DATA2/GradientBoostingClassifier_cm.png\n"
          ],
          "name": "stdout"
        },
        {
          "output_type": "display_data",
          "data": {
            "image/png": "[encoded data removed]",
            "text/plain": [
              "<Figure size 576x432 with 2 Axes>"
            ]
          },
          "metadata": {
            "tags": []
          }
        },
        {
          "output_type": "stream",
          "text": [
            "Evaluating: XGBClassifier\n",
            "Training...\n",
            "Predicting...\n",
            "                      precision    recall  f1-score   support\n",
            "\n",
            "              Credit       1.00      0.73      0.85        30\n",
            "      Direct payment       0.78      0.90      0.84        52\n",
            "                Fine       0.80      0.92      0.86        26\n",
            "            Supplies       0.67      0.60      0.63        10\n",
            "       Tax deduction       0.73      0.80      0.76        10\n",
            "Technical assistance       0.94      0.77      0.85        22\n",
            "\n",
            "            accuracy                           0.83       150\n",
            "           macro avg       0.82      0.79      0.80       150\n",
            "        weighted avg       0.84      0.83      0.83       150\n",
            "\n",
            "Stored confusion matrix: /content/drive/MyDrive/WRI-LatinAmerica-Talent/Modeling/FineTuningExperiments/EXP-TEST-NEW-DATA2/XGBClassifier_cm.png\n"
          ],
          "name": "stdout"
        },
        {
          "output_type": "display_data",
          "data": {
            "image/png": "[encoded data removed]",
            "text/plain": [
              "<Figure size 576x432 with 2 Axes>"
            ]
          },
          "metadata": {
            "tags": []
          }
        },
        {
          "output_type": "stream",
          "text": [
            "Evaluating: AdaBoostClassifier\n",
            "Training...\n",
            "Predicting...\n",
            "                      precision    recall  f1-score   support\n",
            "\n",
            "              Credit       1.00      0.73      0.85        30\n",
            "      Direct payment       0.67      0.98      0.80        52\n",
            "                Fine       0.92      0.92      0.92        26\n",
            "            Supplies       1.00      0.40      0.57        10\n",
            "       Tax deduction       1.00      0.80      0.89        10\n",
            "Technical assistance       1.00      0.64      0.78        22\n",
            "\n",
            "            accuracy                           0.82       150\n",
            "           macro avg       0.93      0.75      0.80       150\n",
            "        weighted avg       0.87      0.82      0.82       150\n",
            "\n",
            "Stored confusion matrix: /content/drive/MyDrive/WRI-LatinAmerica-Talent/Modeling/FineTuningExperiments/EXP-TEST-NEW-DATA2/AdaBoostClassifier_cm.png\n"
          ],
          "name": "stdout"
        },
        {
          "output_type": "display_data",
          "data": {
            "image/png": "[encoded data removed]",
            "text/plain": [
              "<Figure size 576x432 with 2 Axes>"
            ]
          },
          "metadata": {
            "tags": []
          }
        }
      ]
    },
    {
      "cell_type": "code",
      "metadata": {
        "id": "-tgSAKOLriT2"
      },
      "source": [
        ""
      ],
      "execution_count": null,
      "outputs": []
    },
    {
      "cell_type": "markdown",
      "metadata": {
        "id": "rGPfude9amX0"
      },
      "source": [
        "### Building datasets\n",
        "\n",
        "This piece of code below has been used to build the test splits and the datasets for the fine tuning. Don't execute it unless you kow what you want :)"
      ]
    },
    {
      "cell_type": "code",
      "metadata": {
        "id": "aPFFoEUQvpMu"
      },
      "source": [
        "def labels_from_dataset(dataset, label):\n",
        "    labels = []\n",
        "\n",
        "    for sentence in dataset.values():\n",
        "        labels.append(sentence[label])\n",
        "\n",
        "    return labels"
      ],
      "execution_count": null,
      "outputs": []
    },
    {
      "cell_type": "code",
      "metadata": {
        "id": "fdD2Da9fnRqb"
      },
      "source": [
        "rater = \"Rater3\"\n",
        "set_of_labels = All\n",
        "set_of_labels_string = \"All\"\n",
        "\n",
        "dataset_fname = \"/content/drive/MyDrive/Official Folder of WRI Latin America Project/WRI-LatinAmerica-Talent/Cristina_Policy_Files/Tagged_sentence_lists/{}_labeled.json\".format(rater)\n",
        "dataset = load_file(dataset_fname)\n",
        "dataset_map = labeled_sentences_from_dataset(dataset) # Labels AND sentences\n",
        "# dataset_map_target_labels =  select_labels(dataset_map, set_of_labels) # Adjust to the labels you want to use for your analysis. In the cell above you have three pre-defined sets.\n",
        "# train_sents = sentences_from_dataset(dataset_map_target_labels) # Just sentences\n",
        "# train_labels = labels_from_dataset(dataset_map_target_labels, \"labels\") # Just labels. \n",
        "\n",
        "train_sents = sentences_from_dataset(dataset_map) # Just sentences\n",
        "train_labels = labels_from_dataset(dataset_map, \"incentive\") # Just labels."
      ],
      "execution_count": null,
      "outputs": []
    },
    {
      "cell_type": "code",
      "metadata": {
        "colab": {
          "base_uri": "https://localhost:8080/"
        },
        "id": "-sQIjw0Yx7xV",
        "outputId": "cb5e3588-f322-4c17-955a-86cce2194345"
      },
      "source": [
        "len(train_labels)"
      ],
      "execution_count": null,
      "outputs": [
        {
          "output_type": "execute_result",
          "data": {
            "text/plain": [
              "1526"
            ]
          },
          "metadata": {
            "tags": []
          },
          "execution_count": 184
        }
      ]
    },
    {
      "cell_type": "code",
      "metadata": {
        "colab": {
          "base_uri": "https://localhost:8080/"
        },
        "id": "tasMxprPDgfU",
        "outputId": "13a402e7-6f1b-438c-d508-0c9a528345d2"
      },
      "source": [
        "# # The rest:\n",
        "label_names = unique_labels(train_labels)\n",
        "numeric_labels = labels2numeric(train_labels, label_names)\n",
        "label_names"
      ],
      "execution_count": null,
      "outputs": [
        {
          "output_type": "execute_result",
          "data": {
            "text/plain": [
              "['Supplies',\n",
              " 'Technical assistance',\n",
              " 'Direct payment',\n",
              " 'Fine',\n",
              " 'Tax deduction',\n",
              " 'Credit']"
            ]
          },
          "metadata": {
            "tags": []
          },
          "execution_count": 30
        }
      ]
    },
    {
      "cell_type": "code",
      "metadata": {
        "id": "x-KrPd8YR0m5"
      },
      "source": [
        "X_train, X_test, y_train, y_test = train_test_split(train_sents, train_labels, test_size=0.2, stratify=train_labels, random_state=69420)"
      ],
      "execution_count": null,
      "outputs": []
    },
    {
      "cell_type": "code",
      "metadata": {
        "id": "qmGglxNwyU5s"
      },
      "source": [
        "# import csv\n",
        "path = \"/content/drive/MyDrive/Official Folder of WRI Latin America Project/WRI-LatinAmerica-Talent/Cristina_Policy_Files/Tagged_sentence_lists/datasets/\"\n",
        "\n",
        "filename = \"dataset_{}_incentive_sentences.csv\".format(rater)\n",
        "file = path + filename\n",
        "with open(file, 'w') as myfile:\n",
        "    wr = csv.writer(myfile, quoting=csv.QUOTE_ALL)\n",
        "    wr.writerow(X_train)\n",
        "\n",
        "filename = \"dataset_{}_incentive_labels.csv\".format(rater)\n",
        "file = path + filename\n",
        "with open(file, 'w') as myfile:\n",
        "    wr = csv.writer(myfile, quoting=csv.QUOTE_ALL)\n",
        "    wr.writerow(y_train)\n",
        "\n",
        "filename = \"testset_{}_incentive_sentences.csv\".format(rater)\n",
        "file = path + filename\n",
        "with open(file, 'w') as myfile:\n",
        "    wr = csv.writer(myfile, quoting=csv.QUOTE_ALL)\n",
        "    wr.writerow(X_test)\n",
        "\n",
        "filename = \"testset_{}_incentive_labels.csv\".format(rater)\n",
        "file = path + filename\n",
        "with open(file, 'w') as myfile:\n",
        "    wr = csv.writer(myfile, quoting=csv.QUOTE_ALL)\n",
        "    wr.writerow(y_test)\n"
      ],
      "execution_count": null,
      "outputs": []
    },
    {
      "cell_type": "code",
      "metadata": {
        "id": "cySx76TVSc0o"
      },
      "source": [
        "# import csv\n",
        "path = \"/content/drive/MyDrive/Official Folder of WRI Latin America Project/WRI-LatinAmerica-Talent/Cristina_Policy_Files/Tagged_sentence_lists/datasets/\"\n",
        "\n",
        "filename = \"dataset_{}_{}_sentences.csv\".format(rater, set_of_labels_string)\n",
        "file = path + filename\n",
        "with open(file, 'w') as myfile:\n",
        "    wr = csv.writer(myfile, quoting=csv.QUOTE_ALL)\n",
        "    wr.writerow(X_train)\n",
        "\n",
        "filename = \"dataset_{}_{}_labels.csv\".format(rater, set_of_labels_string)\n",
        "file = path + filename\n",
        "with open(file, 'w') as myfile:\n",
        "    wr = csv.writer(myfile, quoting=csv.QUOTE_ALL)\n",
        "    wr.writerow(y_train)\n",
        "\n",
        "filename = \"testset_{}_{}_sentences.csv\".format(rater, set_of_labels_string)\n",
        "file = path + filename\n",
        "with open(file, 'w') as myfile:\n",
        "    wr = csv.writer(myfile, quoting=csv.QUOTE_ALL)\n",
        "    wr.writerow(X_test)\n",
        "\n",
        "filename = \"testset_{}_{}_labels.csv\".format(rater, set_of_labels_string)\n",
        "file = path + filename\n",
        "with open(file, 'w') as myfile:\n",
        "    wr = csv.writer(myfile, quoting=csv.QUOTE_ALL)\n",
        "    wr.writerow(y_test)\n"
      ],
      "execution_count": null,
      "outputs": []
    },
    {
      "cell_type": "code",
      "metadata": {
        "id": "APO7hnHqpBg_"
      },
      "source": [
        ""
      ],
      "execution_count": null,
      "outputs": []
    }
  ]
}