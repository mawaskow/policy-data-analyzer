{
 "cells": [
  {
   "cell_type": "code",
   "execution_count": 1,
   "metadata": {},
   "outputs": [],
   "source": [
    "import json\n",
    "import os\n",
    "from os import listdir\n",
    "from os.path import isfile, join\n",
    "import random\n",
    "import time\n",
    "import datetime\n",
    "import csv"
   ]
  },
  {
   "cell_type": "code",
   "execution_count": 2,
   "metadata": {},
   "outputs": [
    {
     "name": "stderr",
     "output_type": "stream",
     "text": [
      "c:\\Users\\allie\\Documents\\GitHub\\policy-data-analyzer\\vvenv\\lib\\site-packages\\tqdm\\auto.py:21: TqdmWarning: IProgress not found. Please update jupyter and ipywidgets. See https://ipywidgets.readthedocs.io/en/stable/user_install.html\n",
      "  from .autonotebook import tqdm as notebook_tqdm\n"
     ]
    }
   ],
   "source": [
    "# Model libraries\n",
    "from sentence_transformers import SentenceTransformer\n",
    "import sentencepiece\n",
    "from scipy.spatial import distance\n",
    "import numpy as np\n",
    "\n",
    "from json import JSONEncoder\n",
    "\n",
    "class NumpyArrayEncoder(JSONEncoder):\n",
    "    def default(self, obj):\n",
    "        if isinstance(obj, np.ndarray):\n",
    "            return obj.tolist()\n",
    "        return JSONEncoder.default(self, obj)"
   ]
  },
  {
   "cell_type": "markdown",
   "metadata": {},
   "source": [
    "Loading the individual policy sentences jsons"
   ]
  },
  {
   "cell_type": "code",
   "execution_count": 3,
   "metadata": {},
   "outputs": [],
   "source": [
    "policy_dict = {}\n",
    "objs = []\n",
    "language = \"spanish\"\n",
    "os.chdir(\"C:/Users/Allie/Documents/GitHub/policy-data-analyzer/tasks/\")\n",
    "#C:\\Users\\allie\\Documents\\GitHub\\policy-data-analyzer\\tasks\\text_preprocessing\\output\\new\n",
    "mypath = \"./text_preprocessing/output/new/\"\n",
    "onlyfiles = [f for f in listdir(mypath) if isfile(join(mypath, f))]\n",
    "\n",
    "for f in onlyfiles:\n",
    "    #serializedObject = obj.get()['Body'].read()\n",
    "    #policy_dict = {**policy_dict, **json.loads(serializedObject)}\n",
    "    with open(join(mypath, f), 'r') as file:\n",
    "        data = json.load(file)\n",
    "    policy_dict = {**policy_dict, **data}\n"
   ]
  },
  {
   "cell_type": "code",
   "execution_count": 4,
   "metadata": {},
   "outputs": [
    {
     "data": {
      "text/plain": [
       "dict_keys(['2019CVE 1713470_Chile', 'CONAFOROperations_Mexico', 'Constitution_ElSalvador', 'CreditoGanadero_Mexico', 'Decreto 51_Chile', 'Decreto 95_Chile', 'DECRETO008-2005Marco-del-Sistema-Nacional-de-Gestión-Ambiental', 'Decreto101-96_Ley Forestal_Guatemal', 'Decreto102-2001_Peru', 'Decreto2-2015_PROBOSQUE_Guatemala', 'Decreto272_Cafe', 'Decreto864_ApoyoCafe', 'Decreto8_Chile', 'Decreto_109_Guatemala', 'Decreto_51_PINPEP_Guatemala', 'Decreto_MINAM_Peru', 'educacion_ambiental_el_salvador', 'gua60538', 'LEGISLATIVOS-AMERICA-LATINA', 'Ley 20412_Chile', 'Ley 29325  FISCALIZACIÓN AMBIENTAL', 'Ley de areas naturales protegidas_ElSalvador', 'Ley del medio ambiente_ElSalvador', 'Ley Especial Cafe_ElSalvador', 'Ley Forestal_ElSalvador', 'LEY GENERAL DESARROLLO FORESTAL_Mexico', 'Ley Turismo_ElSalvador', 'Ley-General-Ambiente_Peru', 'LEY-SOBRE-CHILE', 'Ley30573 - Reestructuración Agraria Especial_Peru', 'LeyAGROINDUSTRIA_ElSalvador', 'LeyCiencia_Mexico', 'LeyElectricidad_ElSalvador', 'LeyPromocion Acuicultura_ELSalvador', 'LEY_28054_Peru', 'Ley_Fauna_Silvestre_Peru', 'LEY_GANADERO_ElSalvador', 'Ley_para_Restauracion_Michoacan_Mexico', 'mex50556', 'Mexico_CONAFOR_ plan 2025', 'Michoacan_Mexico', 'NormativaForestal_Chile', 'PREP_ElSalvador', 'ProgramaGanadero_Mexico', 'Programas de recuperacion_Chile', 'Promocion del comercio algodonero', 'Regional_Junin_Peru', 'Regional_Puno_Peru', 'Resolucion047-2015-OEFA_Peru', 'Resolucion30516_Peru', 'Resolucion_1.01-2007_Guatemala', 'Resolucion_1.2-98_Guatemala', 'Resolucion_1.30_Montos_Guatemala', 'Resolucion_2.43_Guatemala', 'Resolucion_4.28_PINPEP_Guatemala', 'Resolution306_Chile', 'Sembrando Vida Brochure_Mexico', 'Sembrando Vida Operations_Mexico', 'Sembrando Vida Report', 'Sembrando Vida_Mexico', 'SUSTENTABILIDAD AGROAMBIENTAL_Chile'])"
      ]
     },
     "execution_count": 4,
     "metadata": {},
     "output_type": "execute_result"
    }
   ],
   "source": [
    "policy_dict.keys()"
   ]
  },
  {
   "cell_type": "markdown",
   "metadata": {},
   "source": [
    "List of all the sentences' names"
   ]
  },
  {
   "cell_type": "code",
   "execution_count": 5,
   "metadata": {},
   "outputs": [],
   "source": [
    "def labeled_sentences_from_dataset(dataset):\n",
    "    sentence_tags_dict = {}\n",
    "\n",
    "    for document in dataset.values():\n",
    "        sentence_tags_dict.update(document['sentences'])\n",
    "\n",
    "    return sentence_tags_dict\n",
    "\n",
    "sentences = labeled_sentences_from_dataset(policy_dict)"
   ]
  },
  {
   "cell_type": "markdown",
   "metadata": {},
   "source": [
    "Just checking that it has all 61 pdfs"
   ]
  },
  {
   "cell_type": "code",
   "execution_count": 6,
   "metadata": {},
   "outputs": [
    {
     "name": "stdout",
     "output_type": "stream",
     "text": [
      "61\n"
     ]
    }
   ],
   "source": [
    "#len(sentences.keys())\n",
    "i = 0\n",
    "for j in sentences.keys():\n",
    "    if j[-2:] == '_0':\n",
    "        i+=1\n",
    "print(i)"
   ]
  },
  {
   "cell_type": "code",
   "execution_count": 7,
   "metadata": {},
   "outputs": [],
   "source": [
    "def create_sentence_embeddings(model, sentences_dict, file):\n",
    "    embeddings = {}\n",
    "    for sentence_id, sentence_map in sentences_dict.items():\n",
    "        embeddings[sentence_id] = model.encode(sentence_map['text'].lower(), show_progress_bar=False)\n",
    "        \n",
    "    return embeddings\n",
    "    #    with open(file, 'w') as fp:\n",
    "    #        json.dump(embeddings, fp, cls = NumpyArrayEncoder)"
   ]
  },
  {
   "cell_type": "code",
   "execution_count": 8,
   "metadata": {},
   "outputs": [],
   "source": [
    "sample_sentence_ids = random.sample(list(sentences), 10)\n",
    "sample_sentences = {}\n",
    "for s_id in sample_sentence_ids:\n",
    "    sample_sentences.update({s_id: sentences[s_id]})"
   ]
  },
  {
   "cell_type": "code",
   "execution_count": 9,
   "metadata": {},
   "outputs": [
    {
     "data": {
      "text/plain": [
       "{'CONAFOROperations_Mexico_sent_2415': {'text': 'Forma parte esencial del objeto del presente instrumento juridico, el que la o el \"ASESOR(A) TECNICO(A)\" coadyuve a la ejecucion y total conclusion de \"EL PROYECTO\" , de conformidad con la normatividad aplicable a \"EL PROYECTO\" .',\n",
       "  'label': []},\n",
       " 'CONAFOROperations_Mexico_sent_2387': {'text': 'Con base en sus usos y costumbres, su(s) representante(s) acredita(n) tal caracter con el documento _____________________________ y cuentan con los permisos necesarios del pueblo o la comunidad indigena para que en su nombre y representacion se obliguen y realicen todas las acciones que se deriven del presente instrumento juridico.',\n",
       "  'label': []},\n",
       " 'LEY-SOBRE-CHILE_sent_313': {'text': 'Pronunciarse previamente sobre los proyectos de Reglamento y sus modi-ficaciones, emitir opinion sobre la eje -cucion de la ley y proponer las adecua-ciones normativas legales y reglamen-tarias que estime necesarias;c. Formular observaciones a las politicas que elabore el Ministerio de Agricultu-ra para la utilizacion de los recursos de investigacion senalados en el Titulo VI de la ley y sobre los proyectos que se proponga financiar con cargo a dichos recursos, yd.',\n",
       "  'label': []},\n",
       " 'Ley_Fauna_Silvestre_Peru_sent_2412': {'text': 'Bosque natural con composicion especifica original, carac -terizado por la abundancia de arboles maduros con especies del dosel superior o dominante, que ha evolucionado de manera natural56 Bosques Protectores.',\n",
       "  'label': []},\n",
       " 'CONAFOROperations_Mexico_sent_750': {'text': 'MFCCV 111 Practicas en predios con aprovechamiento de vida silvestre.',\n",
       "  'label': []},\n",
       " 'LEY GENERAL DESARROLLO FORESTAL_Mexico_sent_526': {'text': 'La naturaleza, caracteristicas, diversidad de los ecosistemas forestales existentes en el territorio nacional; III.',\n",
       "  'label': []},\n",
       " 'Mexico_CONAFOR_ plan 2025_sent_61': {'text': '148 103 Seguimiento y evaluacion .',\n",
       "  'label': []},\n",
       " 'LeyCiencia_Mexico_sent_437': {'text': 'Aprobar y expedir las reglas de operacion de sus programas sustantivos.',\n",
       "  'label': []},\n",
       " 'Resolucion_1.01-2007_Guatemala_sent_132': {'text': 'Se cancelara parcial o totalmente un proyecto cuando se incurra en incumplimiento al Plan de Manejo Forestal y este incumplimiento afecte en forma irreversible el desarrollo y crecimiento normal de la plantacion o bosque natural105Centro de Accion Legal - Ambiental y Social de Guatemala (CALAS)Reglamento del Programa de Incentivos Forestales, Resolucion JD01012007El procedimiento de cancelacion parcial o total del proyecto, se realizara de la forma siguiente:a) El INAB, a traves del Tecnico Subregional responsable de la evaluacion elaborara un informe tecnico de la situacion actual del proyecto en el cual indicara que se ha incumplido parcial o totalmente con la ejecucion del Plan de Manejo Forestal.',\n",
       "  'label': []},\n",
       " 'Ley_Fauna_Silvestre_Peru_sent_650': {'text': 'Elaboracion del expediente tecnico, que contiene la propuesta para la creacion de la UGFFSiv.',\n",
       "  'label': []}}"
      ]
     },
     "execution_count": 9,
     "metadata": {},
     "output_type": "execute_result"
    }
   ],
   "source": [
    "sample_sentences"
   ]
  },
  {
   "cell_type": "markdown",
   "metadata": {},
   "source": [
    "will want to update the transformer used\n",
    "originally did the sample of 10 sentences which took about 4 seconds\n",
    "Now doing all sentences which will take longer\n",
    "I wonder if im going to get a memory error?"
   ]
  },
  {
   "cell_type": "code",
   "execution_count": 27,
   "metadata": {},
   "outputs": [
    {
     "name": "stdout",
     "output_type": "stream",
     "text": [
      "25239\n",
      "The building of a sentence embedding database in the two(?) current models has taken 2.1906 seconds\n"
     ]
    }
   ],
   "source": [
    "Ti = time.perf_counter()\n",
    "\n",
    "# We will use only one transformer to compute embeddings\n",
    "transformer_name = 'xlm-r-bert-base-nli-stsb-mean-tokens'\n",
    "\n",
    "path = \"./data_augmentation/output/new/\"\n",
    "today = datetime.date.today()\n",
    "today = today.strftime('%Y-%m-%d')\n",
    "filename = \"Embeddings_\" + today + \"_ES.json\"\n",
    "file = path + filename\n",
    "\n",
    "\n",
    "model = SentenceTransformer(transformer_name, device=\"cuda\")\n",
    "embs = create_sentence_embeddings(model, sample_sentences, file)\n",
    "#embs = create_sentence_embeddings(model, sentences, file)\n",
    "\n",
    "Tf = time.perf_counter()\n",
    "\n",
    "print(f\"The building of a sentence embedding database in the two(?) current models has taken {Tf - Ti:0.4f} seconds\")"
   ]
  },
  {
   "cell_type": "code",
   "execution_count": 11,
   "metadata": {},
   "outputs": [
    {
     "data": {
      "text/plain": [
       "dict_keys(['CONAFOROperations_Mexico_sent_2415', 'CONAFOROperations_Mexico_sent_2387', 'LEY-SOBRE-CHILE_sent_313', 'Ley_Fauna_Silvestre_Peru_sent_2412', 'CONAFOROperations_Mexico_sent_750', 'LEY GENERAL DESARROLLO FORESTAL_Mexico_sent_526', 'Mexico_CONAFOR_ plan 2025_sent_61', 'LeyCiencia_Mexico_sent_437', 'Resolucion_1.01-2007_Guatemala_sent_132', 'Ley_Fauna_Silvestre_Peru_sent_650'])"
      ]
     },
     "execution_count": 11,
     "metadata": {},
     "output_type": "execute_result"
    }
   ],
   "source": [
    "embs.keys()\n",
    "#len(embs[\"Ley_Fauna_Silvestre_Peru_sent_69\"])"
   ]
  },
  {
   "cell_type": "code",
   "execution_count": 12,
   "metadata": {},
   "outputs": [],
   "source": [
    "with open(file, 'a') as fp:\n",
    "    json.dump(embs, fp, cls = NumpyArrayEncoder)"
   ]
  },
  {
   "cell_type": "code",
   "execution_count": 13,
   "metadata": {},
   "outputs": [],
   "source": [
    "def sentence_similarity_search(model, queries, sentence_embeddings, sentences, similarity_limit, results_limit, filename):\n",
    "    results = {}\n",
    "    for query in queries:\n",
    "        Ti = time.perf_counter()\n",
    "        similarities = get_distance(model, sentence_embeddings, sentences, query, similarity_limit)\n",
    "        results[query] = similarities[0:results_limit]#results[transformer][query] = similarities[0:results_limit]\n",
    "        Tf = time.perf_counter()\n",
    "        print(f\"similarity search for query {query} has been done in {Tf - Ti:0.4f} seconds\")\n",
    "\n",
    "    path = \"../output/\"\n",
    "    filename = filename + \".json\"\n",
    "    file = path + filename\n",
    "    #with open(file, 'w+') as fp:\n",
    "    #    json.dump(results, fp, indent=4)\n",
    "    return results\n",
    "\n",
    "# This function helps debugging misspelling in the values of the dictionary\n",
    "def check_dictionary_values(dictionary):\n",
    "    check_country = {}\n",
    "    check_incentive = {}\n",
    "    for key, value in dictionary.items():\n",
    "        incentive, country = value.split(\"-\")\n",
    "        check_incentive[incentive] = 0\n",
    "        check_country[country] = 0\n",
    "    print(check_incentive)\n",
    "    print(check_country)\n",
    "\n",
    "def get_distance( model, sentence_emb, sentences_dict, query, similarity_treshold):\n",
    "    query_embedding = model.encode(query.lower(), show_progress_bar=False, device='cuda')\n",
    "    highlights = []\n",
    "    for sentence in sentences_dict.keys():\n",
    "        try:\n",
    "            sentence_embedding = sentence_emb[sentence]\n",
    "            score = 1 - distance.cosine(sentence_embedding, query_embedding)\n",
    "            if score > similarity_treshold:\n",
    "                highlights.append([sentence, score, sentences_dict[sentence]['text']])\n",
    "        except KeyError as err:\n",
    "            print(sentence)\n",
    "            print(sentence_emb.keys())\n",
    "            print(err)\n",
    "    highlights = sorted(highlights, key = lambda x : x[1], reverse = True)\n",
    "    return highlights"
   ]
  },
  {
   "cell_type": "code",
   "execution_count": 14,
   "metadata": {},
   "outputs": [],
   "source": [
    "queries_dict = {\n",
    "    \"Otorgamiento de estímulos crediticios por parte de el estado\" : \"Credit-México\",\n",
    "\"Estos créditos podrían beneficiar a sistemas productivos asociados a la pequeña y mediana producción\" : \"Credit-Perú\",\n",
    "\"Se asocia con créditos de enlace del Banco del Estado\" : \"Credit-Chile\", \n",
    "\"Acceso al programa de garantía crediticia para la actividad económica\" : \"Credit-Guatemala\",\n",
    "\"El banco establecerá líneas de crédito para que el sistema financiero apoye la pequeña, mediana y microempresa\" : \"Credit-El Salvador\",\n",
    "\"Dentro de los incentivos económicos se podrá crear un bono para retribuir a los propietarios por los bienes y servicios generados.\" : \"Direct_payment-México\",\n",
    "\"Acceso a los fondos forestales para el pago de actividad\" : \"Direct_payment-Perú\",\n",
    "\"Se bonificará el 90% de los costos de repoblación para las primeras 15 hectáreas y de un 75% respecto las restantes\" : \"Direct_payment-Chile\",\n",
    "\"El estado dará un incentivo que se pagará una sola vez a los propietarios forestales\" : \"Direct_payment-Guatemala\",\n",
    "\"Incentivos en dinero para cubrir los costos directos e indirectos del establecimiento y manejo de areas de producción\" : \"Direct_payment-El Salvador\",\n",
    "\"Toda persona física o moral que cause daños estará obligada a repararlo o compensarlo\" : \"Fine-México\",\n",
    "\"Disminuir los riesgos para el inversionista implementando mecanismos de aseguramiento\" : \"Guarantee-México\",\n",
    "\"Podrá garantizarse el cumplimiento de la actividad mediante fianza otorgada a favor del estado por cualquiera de las afianzadoras legalmente autorizadas.\" : \"Guarantee-Guatemala\",\n",
    "\"El sujeto de derecho podrá recibir insumos para la instalación y operación de infraestructuras para la actividad económica.\" : \"Supplies-México\",\n",
    "\"Se facilitará el soporte técnico a  través de la utilización de guías, manuales, protocolos, paquetes tecnológicos, procedimientos, entre otros.\" : \"Supplies-Perú\",\n",
    "\"Se concederán incentivos en especie para fomentar la actividad en forma de insumos\" : \"Supplies-El Salvador\",\n",
    "\"Se otorgarán incentivos fiscales para la actividad primaria y también la actividad de transformación\" : \"Tax_deduction-México\",\n",
    "\"De acuerdo con los lineamientos aprobados se concederá un 25% de descuento en el pago del derecho de aprovechamiento\" : \"Tax_deduction-Perú\",\n",
    "\"Las bonificaciones percibidas o devengadas se considerarán como ingresos diferidos en el pasivo circulante y no se incluirán para el cálculo de la tasa adicional ni constituirán renta para ningún efecto legal hasta el momento en que se efectúe la explotación o venta\" : \"Tax_deduction-Chile\",\n",
    "\"Los contratistas que suscriban contratos de exploración y/o explotación, quedan exentos de cualquier impuesto sobre los dividendos, participaciones y utilidades\" : \"Tax_deduction-Guatemala\",\n",
    "\"Exención de los derechos e impuestos, incluyendo el Impuesto a la Transferencia de Bienes Muebles y a la Prestación de Servicios, en la importación de sus bienes, equipos y accesorios, maquinaria, vehículos, aeronaves o embarcaciones\" : \"Tax_deduction-El Salvador\",\n",
    "\"Se facilitará formación Permanente Además del acompañamiento técnico, los sujetos de derecho participarán en un proceso permanente de formación a lo largo de todo el año, que les permita enriquecer sus habilidades y capacidades \" : \"Technical_assistance-México\",\n",
    "\"Contribuir en la promoción para la gestión, a través de la capacitación, asesoramiento, asistencia técnica y educación de los usuarios\" : \"Technical_assistance-Perú\",\n",
    "\"Asesoría prestada al usuario por un operador acreditado, conducente a elaborar, acompañar y apoyar la adecuada ejecución técnica en terreno de aquellas prácticas comprometidas en el Plan de Manejo\" : \"Technical_assistance-Chile\",\n",
    "\"Para la ejecución de programas de capacitación, adiestramiento y otorgamiento de becas para la preparación de personal , así como para el desarrollo de tecnología en actividades directamente relacionadas con las operaciones objeto del contrato\" : \"Technical_assistance-Guatemala\",\n",
    "\"Apoyo técnico y en formulación de proyectos y conexión con mercados\" : \"Technical_assistance-El Salvador\"}\n",
    "\n",
    "queries = []\n",
    "for query in queries_dict:\n",
    "    queries.append(query)\n",
    "        \n",
    "# print(queries)"
   ]
  },
  {
   "cell_type": "code",
   "execution_count": 15,
   "metadata": {},
   "outputs": [
    {
     "name": "stdout",
     "output_type": "stream",
     "text": [
      "{'Credit': 0, 'Direct_payment': 0, 'Fine': 0, 'Guarantee': 0, 'Supplies': 0, 'Tax_deduction': 0, 'Technical_assistance': 0}\n",
      "{'México': 0, 'Perú': 0, 'Chile': 0, 'Guatemala': 0, 'El Salvador': 0}\n"
     ]
    }
   ],
   "source": [
    "check_dictionary_values(queries_dict)"
   ]
  },
  {
   "cell_type": "code",
   "execution_count": 16,
   "metadata": {},
   "outputs": [
    {
     "name": "stdout",
     "output_type": "stream",
     "text": [
      "similarity search for query Otorgamiento de estímulos crediticios por parte de el estado has been done in 0.1566 seconds\n",
      "similarity search for query Estos créditos podrían beneficiar a sistemas productivos asociados a la pequeña y mediana producción has been done in 0.0137 seconds\n",
      "similarity search for query Se asocia con créditos de enlace del Banco del Estado has been done in 0.0130 seconds\n",
      "similarity search for query Acceso al programa de garantía crediticia para la actividad económica has been done in 0.0129 seconds\n",
      "similarity search for query El banco establecerá líneas de crédito para que el sistema financiero apoye la pequeña, mediana y microempresa has been done in 0.0128 seconds\n",
      "similarity search for query Dentro de los incentivos económicos se podrá crear un bono para retribuir a los propietarios por los bienes y servicios generados. has been done in 0.0135 seconds\n",
      "similarity search for query Acceso a los fondos forestales para el pago de actividad has been done in 0.0179 seconds\n",
      "similarity search for query Se bonificará el 90% de los costos de repoblación para las primeras 15 hectáreas y de un 75% respecto las restantes has been done in 0.0178 seconds\n",
      "similarity search for query El estado dará un incentivo que se pagará una sola vez a los propietarios forestales has been done in 0.0178 seconds\n",
      "similarity search for query Incentivos en dinero para cubrir los costos directos e indirectos del establecimiento y manejo de areas de producción has been done in 0.0165 seconds\n",
      "similarity search for query Toda persona física o moral que cause daños estará obligada a repararlo o compensarlo has been done in 0.0131 seconds\n",
      "similarity search for query Disminuir los riesgos para el inversionista implementando mecanismos de aseguramiento has been done in 0.0130 seconds\n",
      "similarity search for query Podrá garantizarse el cumplimiento de la actividad mediante fianza otorgada a favor del estado por cualquiera de las afianzadoras legalmente autorizadas. has been done in 0.0133 seconds\n",
      "similarity search for query El sujeto de derecho podrá recibir insumos para la instalación y operación de infraestructuras para la actividad económica. has been done in 0.0131 seconds\n",
      "similarity search for query Se facilitará el soporte técnico a  través de la utilización de guías, manuales, protocolos, paquetes tecnológicos, procedimientos, entre otros. has been done in 0.0133 seconds\n",
      "similarity search for query Se concederán incentivos en especie para fomentar la actividad en forma de insumos has been done in 0.0140 seconds\n",
      "similarity search for query Se otorgarán incentivos fiscales para la actividad primaria y también la actividad de transformación has been done in 0.0137 seconds\n",
      "similarity search for query De acuerdo con los lineamientos aprobados se concederá un 25% de descuento en el pago del derecho de aprovechamiento has been done in 0.0139 seconds\n",
      "similarity search for query Las bonificaciones percibidas o devengadas se considerarán como ingresos diferidos en el pasivo circulante y no se incluirán para el cálculo de la tasa adicional ni constituirán renta para ningún efecto legal hasta el momento en que se efectúe la explotación o venta has been done in 0.0141 seconds\n",
      "similarity search for query Los contratistas que suscriban contratos de exploración y/o explotación, quedan exentos de cualquier impuesto sobre los dividendos, participaciones y utilidades has been done in 0.0136 seconds\n",
      "similarity search for query Exención de los derechos e impuestos, incluyendo el Impuesto a la Transferencia de Bienes Muebles y a la Prestación de Servicios, en la importación de sus bienes, equipos y accesorios, maquinaria, vehículos, aeronaves o embarcaciones has been done in 0.0148 seconds\n",
      "similarity search for query Se facilitará formación Permanente Además del acompañamiento técnico, los sujetos de derecho participarán en un proceso permanente de formación a lo largo de todo el año, que les permita enriquecer sus habilidades y capacidades  has been done in 0.0139 seconds\n",
      "similarity search for query Contribuir en la promoción para la gestión, a través de la capacitación, asesoramiento, asistencia técnica y educación de los usuarios has been done in 0.0135 seconds\n",
      "similarity search for query Asesoría prestada al usuario por un operador acreditado, conducente a elaborar, acompañar y apoyar la adecuada ejecución técnica en terreno de aquellas prácticas comprometidas en el Plan de Manejo has been done in 0.0140 seconds\n",
      "similarity search for query Para la ejecución de programas de capacitación, adiestramiento y otorgamiento de becas para la preparación de personal , así como para el desarrollo de tecnología en actividades directamente relacionadas con las operaciones objeto del contrato has been done in 0.0145 seconds\n",
      "similarity search for query Apoyo técnico y en formulación de proyectos y conexión con mercados has been done in 0.0135 seconds\n"
     ]
    }
   ],
   "source": [
    "transformer_name ='xlm-r-bert-base-nli-stsb-mean-tokens'\n",
    "similarity_threshold = 0.2\n",
    "search_results_limit = 1000\n",
    "today = datetime.date.today()\n",
    "today = today.strftime('%Y-%m-%d')\n",
    "# name = \"Pre_tagged_\" + today + \"_\" + filter_language\n",
    "name = \"Pre_tagged_\" + today\n",
    "\n",
    "model = SentenceTransformer(transformer_name)\n",
    "results_dict = sentence_similarity_search(model, queries, embs, sample_sentences, similarity_threshold, search_results_limit, name)"
   ]
  },
  {
   "cell_type": "code",
   "execution_count": 17,
   "metadata": {},
   "outputs": [],
   "source": [
    "path = \"./data_augmentation/output/new/\"\n",
    "fname = name + \".json\"\n",
    "file = path + fname\n",
    "with open(file, 'w+') as fp:\n",
    "    json.dump(results_dict, fp, indent=4)"
   ]
  },
  {
   "cell_type": "code",
   "execution_count": 18,
   "metadata": {},
   "outputs": [],
   "source": [
    "# To show the contents of the results dict, particularly, the length of the first element and its contents\n",
    "def show_results(results_dictionary):\n",
    "    i = 0\n",
    "    for key1 in results_dictionary:\n",
    "        for key2 in results_dictionary[key1]:\n",
    "            if i == 0:\n",
    "                print(len(results_dictionary[key1][key2]))\n",
    "                print(results_dictionary[key1][key2])\n",
    "            i += 1\n",
    "\n",
    "# Adding the rank to each result\n",
    "def add_rank(results_dictionary):\n",
    "#     for model in results_dictionary:\n",
    "    for keyword in results_dictionary:#[model]:\n",
    "        i = 1\n",
    "        for result in results_dictionary[keyword]:#[model][keyword]:\n",
    "            result.insert(1, i)\n",
    "            i += 1\n",
    "    return results_dictionary\n",
    "\n",
    "# For experiments 2 and 3 this function is to save results in separate csv files\n",
    "def save_results_as_separate_csv(results_dictionary, queries_dictionary, date):\n",
    "    path = \"C:/Users/Allie/Documents/GitHub/policy-data-analyzer/tasks/data_augmentation/output/new/\"\n",
    "#     for model, value in results_dictionary.items():\n",
    "    for exp_title, result in results_dictionary.items():#value.items():\n",
    "        filename = queries_dictionary[exp_title]\n",
    "        file = path + filename + \".csv\"\n",
    "        with open(file, 'w', newline='', encoding='utf-8') as f:\n",
    "            write = csv.writer(f)\n",
    "            write.writerows(result)\n",
    "#             print(filename)\n",
    "    "
   ]
  },
  {
   "cell_type": "code",
   "execution_count": 21,
   "metadata": {},
   "outputs": [],
   "source": [
    "path = \"C:/Users/Allie/Documents/GitHub/policy-data-analyzer/tasks/data_augmentation/output/new/\"\n",
    "file = path + name +\".json\"\n",
    "with open(file, \"r\") as f:\n",
    "    results_ = json.load(f)"
   ]
  },
  {
   "cell_type": "code",
   "execution_count": 22,
   "metadata": {},
   "outputs": [
    {
     "data": {
      "text/plain": [
       "26"
      ]
     },
     "execution_count": 22,
     "metadata": {},
     "output_type": "execute_result"
    }
   ],
   "source": [
    "results = add_rank(results_)\n",
    "len(results_)"
   ]
  },
  {
   "cell_type": "code",
   "execution_count": null,
   "metadata": {},
   "outputs": [],
   "source": [
    "# Adding the rank to the results dictionary if we use the computed version not the uploaded\n",
    "#results = copy.deepcopy(add_rank(results_dict))"
   ]
  },
  {
   "cell_type": "code",
   "execution_count": 23,
   "metadata": {},
   "outputs": [],
   "source": [
    "# Save the results as separete csv files\n",
    "\n",
    "save_results_as_separate_csv(results, queries_dict, today)"
   ]
  }
 ],
 "metadata": {
  "kernelspec": {
   "display_name": "vvenv",
   "language": "python",
   "name": "python3"
  },
  "language_info": {
   "codemirror_mode": {
    "name": "ipython",
    "version": 3
   },
   "file_extension": ".py",
   "mimetype": "text/x-python",
   "name": "python",
   "nbconvert_exporter": "python",
   "pygments_lexer": "ipython3",
   "version": "3.8.10"
  }
 },
 "nbformat": 4,
 "nbformat_minor": 2
}
