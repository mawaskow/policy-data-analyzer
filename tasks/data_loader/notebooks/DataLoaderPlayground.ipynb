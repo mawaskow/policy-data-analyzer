{
 "cells": [
  {
   "cell_type": "markdown",
   "metadata": {},
   "source": [
    "## Data loading"
   ]
  },
  {
   "cell_type": "code",
   "execution_count": 17,
   "metadata": {},
   "outputs": [],
   "source": [
    "# TODO: At some point we will have to modify this by making every folder level a package and being able to call tasks.data_loader.src.utils without appending to sys.path\n",
    "import sys\n",
    "sys.path.append(\"../../\")\n",
    "sys.path.append(\"../../../\")"
   ]
  },
  {
   "cell_type": "code",
   "execution_count": 18,
   "metadata": {},
   "outputs": [],
   "source": [
    "from tasks.data_loader.src.utils import *"
   ]
  },
  {
   "cell_type": "code",
   "execution_count": 19,
   "metadata": {},
   "outputs": [],
   "source": [
    "dataset_fname = \"../../evaluate_model/input/sample_dataset.json\"\n",
    "model_preds_fname = \"../../evaluate_model/input/sample_model_output.json\"\n",
    "\n",
    "dataset = load_file(dataset_fname)\n",
    "model_preds = load_file(model_preds_fname) "
   ]
  },
  {
   "cell_type": "code",
   "execution_count": 21,
   "metadata": {},
   "outputs": [
    {
     "data": {
      "text/plain": [
       "{'ABCD1234': {'text': 'Participar en las consultas previas a la definición y aprobación de la política de bosques, áreas naturales y zonas de amortiguamiento en las formas y mecanismos establecidos en la presente ordenanza',\n",
       "  'labels': [1]},\n",
       " 'ABCD5678': {'text': 'Ser informados de forma oportuna, clara y suficiente de las políticas, programas y planes de manejo de los bosques, áreas naturales y zonas de amortiguamiento',\n",
       "  'labels': [0]},\n",
       " 'ABCD9102': {'text': 'Recibir capacitaciones relacionadas a los temas que desarrolla esta ordenanza.',\n",
       "  'labels': [2]},\n",
       " 'EFGH1234': {'text': 'Art. 34.- Toda persona natural o jurídica que haga uso de los recursos de los Bosques, Áreas Naturales y Zonas de Amortiguamiento, en legal forma, estará obligada a:',\n",
       "  'labels': [0]},\n",
       " 'EFGH5678': {'text': 'En el caso de tala, a sembrar por cada árbol talado diez de su misma especie en los mismos lugares o en aquellos donde la Unidad Ambiental Municipal les señale.',\n",
       "  'labels': [1]},\n",
       " 'EFGH9102': {'text': 'A darle cuido y mantenimiento a cada uno de los árboles sembrados hasta cuando se encontraren en buenas condiciones de desarrollarse por sí mismos; estableciéndose un mínimo de tres años.',\n",
       "  'labels': [1]},\n",
       " 'IJKL1234': {'text': 'Art. 35.- Es obligación de todo persona que resida en el Municipio, hacer efectiva la protección y conservación de los Bosques, Áreas Naturales y Zonas de Amortiguamiento.',\n",
       "  'labels': [3]},\n",
       " 'IJKL5678': {'text': 'Art. 36.- Todos los habitantes y autoridades del municipio, están en la obligación de incorporarse a las campañas de protección y conservación de los Bosques, Áreas Naturales y Zonas de Amortiguamiento.',\n",
       "  'labels': [4]}}"
      ]
     },
     "execution_count": 21,
     "metadata": {},
     "output_type": "execute_result"
    }
   ],
   "source": [
    "dataset_map = labeled_sentences_from_dataset(dataset)\n",
    "dataset_map"
   ]
  },
  {
   "cell_type": "code",
   "execution_count": 23,
   "metadata": {},
   "outputs": [
    {
     "data": {
      "text/plain": [
       "{'EFGH9102': {'text': 'A darle cuido y mantenimiento a cada uno de los árboles sembrados hasta cuando se encontraren en buenas condiciones de desarrollarse por sí mismos; estableciéndose un mínimo de tres años.',\n",
       "  'labels': [2]},\n",
       " 'IJKL1234': {'text': 'Art. 35.- Es obligación de todo persona que resida en el Municipio, hacer efectiva la protección y conservación de los Bosques, Áreas Naturales y Zonas de Amortiguamiento.',\n",
       "  'labels': [3]},\n",
       " 'ABCD1234': {'text': 'Participar en las consultas previas a la definición y aprobación de la política de bosques, áreas naturales y zonas de amortiguamiento en las formas y mecanismos establecidos en la presente ordenanza',\n",
       "  'labels': [1]},\n",
       " 'ABCD5678': {'text': 'Ser informados de forma oportuna, clara y suficiente de las políticas, programas y planes de manejo de los bosques, áreas naturales y zonas de amortiguamiento',\n",
       "  'labels': [0]},\n",
       " 'ABCD9102': {'text': 'Recibir capacitaciones relacionadas a los temas que desarrolla esta ordenanza.',\n",
       "  'labels': [1]},\n",
       " 'EFGH1234': {'text': 'Art. 34.- Toda persona natural o jurídica que haga uso de los recursos de los Bosques, Áreas Naturales y Zonas de Amortiguamiento, en legal forma, estará obligada a:',\n",
       "  'labels': [2]},\n",
       " 'EFGH5678': {'text': 'En el caso de tala, a sembrar por cada árbol talado diez de su misma especie en los mismos lugares o en aquellos donde la Unidad Ambiental Municipal les señale.',\n",
       "  'labels': [1]},\n",
       " 'IJKL5678': {'text': 'Art. 36.- Todos los habitantes y autoridades del municipio, están en la obligación de incorporarse a las campañas de protección y conservación de los Bosques, Áreas Naturales y Zonas de Amortiguamiento.',\n",
       "  'labels': [2]}}"
      ]
     },
     "execution_count": 23,
     "metadata": {},
     "output_type": "execute_result"
    }
   ],
   "source": [
    "model_preds"
   ]
  },
  {
   "cell_type": "code",
   "execution_count": 24,
   "metadata": {},
   "outputs": [
    {
     "data": {
      "text/plain": [
       "([1, 0, 2, 0, 1, 1, 3, 4], [2, 3, 1, 0, 1, 2, 1, 2])"
      ]
     },
     "execution_count": 24,
     "metadata": {},
     "output_type": "execute_result"
    }
   ],
   "source": [
    "dataset_labels = labels_from_dataset(dataset)\n",
    "model_preds_labels = labels_from_model_output(model_preds)\n",
    "dataset_labels, model_preds_labels"
   ]
  },
  {
   "cell_type": "markdown",
   "metadata": {},
   "source": [
    "### Future work: Create a Dataset/Dataloader class"
   ]
  },
  {
   "cell_type": "code",
   "execution_count": 1,
   "metadata": {},
   "outputs": [],
   "source": [
    "from torch.utils.data import Dataset, DataLoader"
   ]
  },
  {
   "cell_type": "code",
   "execution_count": null,
   "metadata": {},
   "outputs": [],
   "source": [
    "class PolicyDocsDataset(Dataset):\n",
    "    \"\"\"Dataset of policy documents.\"\"\"\n",
    "\n",
    "    def __init__(self, json_file):\n",
    "        \"\"\"\n",
    "        Args:\n",
    "            json_file (string): Path to the JSON file with annotations.\n",
    "        \"\"\"\n",
    "        self.file = load_file(json_file)\n",
    "        self.labeled_sentences = labeled_sentences_from_dataset(dataset)\n",
    "\n",
    "    def __len__(self):\n",
    "        return len(self.labeled_sentences)\n",
    "    "
   ]
  }
 ],
 "metadata": {
  "kernelspec": {
   "display_name": "wri-env",
   "language": "python",
   "name": "wri-env"
  },
  "language_info": {
   "codemirror_mode": {
    "name": "ipython",
    "version": 3
   },
   "file_extension": ".py",
   "mimetype": "text/x-python",
   "name": "python",
   "nbconvert_exporter": "python",
   "pygments_lexer": "ipython3",
   "version": "3.8.5"
  }
 },
 "nbformat": 4,
 "nbformat_minor": 4
}
