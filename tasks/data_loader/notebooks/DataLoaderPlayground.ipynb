{
 "cells": [
  {
   "cell_type": "markdown",
   "metadata": {},
   "source": [
    "## Data loading"
   ]
  },
  {
   "cell_type": "code",
   "execution_count": null,
   "metadata": {},
   "outputs": [],
   "source": [
    "# TODO: At some point we will have to modify this by making every folder level a package and being able to call tasks.data_loader.src.utils without appending to sys.path\n",
    "import sys\n",
    "sys.path.append(\"../../\")\n",
    "sys.path.append(\"../../../\")"
   ]
  },
  {
   "cell_type": "code",
   "execution_count": null,
   "metadata": {},
   "outputs": [],
   "source": [
    "from tasks.data_loader.src.utils import *"
   ]
  },
  {
   "cell_type": "code",
   "execution_count": 3,
   "metadata": {},
   "outputs": [],
   "source": [
    "dataset_fname = \"tasks/evaluate_model/input/sample_dataset.json\"\n",
    "model_preds_fname = \"tasks/evaluate_model/input/sample_model_output.json\"\n",
    "\n",
    "dataset = load_file(dataset_fname)\n",
    "model_preds = load_file(model_preds_fname) "
   ]
  },
  {
   "cell_type": "code",
   "execution_count": 4,
   "metadata": {},
   "outputs": [
    {
     "data": {
      "text/plain": [
       "[('Participar en las consultas previas a la definición y aprobación de la política de bosques, áreas naturales y zonas de amortiguamiento en las formas y mecanismos establecidos en la presente ordenanza',\n",
       "  1),\n",
       " ('Ser informados de forma oportuna, clara y suficiente de las políticas, programas y planes de manejo de los bosques, áreas naturales y zonas de amortiguamiento',\n",
       "  0),\n",
       " ('Recibir capacitaciones relacionadas a los temas que desarrolla esta ordenanza.',\n",
       "  2),\n",
       " ('Art. 34.- Toda persona natural o jurídica que haga uso de los recursos de los Bosques, Áreas Naturales y Zonas de Amortiguamiento, en legal forma, estará obligada a:',\n",
       "  0),\n",
       " ('En el caso de tala, a sembrar por cada árbol talado diez de su misma especie en los mismos lugares o en aquellos donde la Unidad Ambiental Municipal les señale.',\n",
       "  1),\n",
       " ('A darle cuido y mantenimiento a cada uno de los árboles sembrados hasta cuando se encontraren en buenas condiciones de desarrollarse por sí mismos; estableciéndose un mínimo de tres años.',\n",
       "  1),\n",
       " ('Art. 35.- Es obligación de todo persona que resida en el Municipio, hacer efectiva la protección y conservación de los Bosques, Áreas Naturales y Zonas de Amortiguamiento.',\n",
       "  3),\n",
       " ('Art. 36.- Todos los habitantes y autoridades del municipio, están en la obligación de incorporarse a las campañas de protección y conservación de los Bosques, Áreas Naturales y Zonas de Amortiguamiento.',\n",
       "  4)]"
      ]
     },
     "execution_count": 4,
     "metadata": {},
     "output_type": "execute_result"
    }
   ],
   "source": [
    "dataset_pairs = labeled_sentences_from_dataset(dataset)\n",
    "dataset_pairs "
   ]
  },
  {
   "cell_type": "code",
   "execution_count": 5,
   "metadata": {},
   "outputs": [
    {
     "data": {
      "text/plain": [
       "[('Participar en las consultas previas a la definición y aprobación de la política de bosques, áreas naturales y zonas de amortiguamiento en las formas y mecanismos establecidos en la presente ordenanza',\n",
       "  1),\n",
       " ('Ser informados de forma oportuna, clara y suficiente de las políticas, programas y planes de manejo de los bosques, áreas naturales y zonas de amortiguamiento',\n",
       "  0),\n",
       " ('Recibir capacitaciones relacionadas a los temas que desarrolla esta ordenanza.',\n",
       "  1),\n",
       " ('Art. 34.- Toda persona natural o jurídica que haga uso de los recursos de los Bosques, Áreas Naturales y Zonas de Amortiguamiento, en legal forma, estará obligada a:',\n",
       "  2),\n",
       " ('En el caso de tala, a sembrar por cada árbol talado diez de su misma especie en los mismos lugares o en aquellos donde la Unidad Ambiental Municipal les señale.',\n",
       "  1),\n",
       " ('A darle cuido y mantenimiento a cada uno de los árboles sembrados hasta cuando se encontraren en buenas condiciones de desarrollarse por sí mismos; estableciéndose un mínimo de tres años.',\n",
       "  2),\n",
       " ('Art. 35.- Es obligación de todo persona que resida en el Municipio, hacer efectiva la protección y conservación de los Bosques, Áreas Naturales y Zonas de Amortiguamiento.',\n",
       "  3),\n",
       " ('Art. 36.- Todos los habitantes y autoridades del municipio, están en la obligación de incorporarse a las campañas de protección y conservación de los Bosques, Áreas Naturales y Zonas de Amortiguamiento.',\n",
       "  2)]"
      ]
     },
     "execution_count": 5,
     "metadata": {},
     "output_type": "execute_result"
    }
   ],
   "source": [
    "model_preds_pairs = labeled_sentences_from_model_output(model_preds)\n",
    "model_preds_pairs"
   ]
  },
  {
   "cell_type": "code",
   "execution_count": 6,
   "metadata": {},
   "outputs": [
    {
     "data": {
      "text/plain": [
       "([1, 0, 2, 0, 1, 1, 3, 4], [1, 0, 1, 2, 1, 2, 3, 2])"
      ]
     },
     "execution_count": 6,
     "metadata": {},
     "output_type": "execute_result"
    }
   ],
   "source": [
    "dataset_labels = labels_from_dataset(dataset)\n",
    "model_preds_labels = labels_from_model_output(model_preds)\n",
    "dataset_labels, model_preds_labels"
   ]
  }
 ],
 "metadata": {
  "kernelspec": {
   "display_name": "wri-env",
   "language": "python",
   "name": "wri-env"
  },
  "language_info": {
   "codemirror_mode": {
    "name": "ipython",
    "version": 3
   },
   "file_extension": ".py",
   "mimetype": "text/x-python",
   "name": "python",
   "nbconvert_exporter": "python",
   "pygments_lexer": "ipython3",
   "version": "3.8.5"
  }
 },
 "nbformat": 4,
 "nbformat_minor": 4
}
