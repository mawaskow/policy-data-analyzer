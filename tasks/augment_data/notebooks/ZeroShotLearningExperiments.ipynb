{
 "cells": [
  {
   "cell_type": "markdown",
   "metadata": {},
   "source": [
    "## Zero-Shot Learning Experiments"
   ]
  },
  {
   "cell_type": "markdown",
   "metadata": {},
   "source": [
    "### Topic classification\n",
    "\n",
    "Using https://huggingface.co/zero-shot/ "
   ]
  },
  {
   "cell_type": "markdown",
   "metadata": {},
   "source": [
    "### 1. Replicate the results from app in code"
   ]
  },
  {
   "cell_type": "code",
   "execution_count": 1,
   "metadata": {},
   "outputs": [],
   "source": [
    "from transformers import pipeline"
   ]
  },
  {
   "cell_type": "code",
   "execution_count": 2,
   "metadata": {},
   "outputs": [
    {
     "name": "stderr",
     "output_type": "stream",
     "text": [
      "Some weights of the model checkpoint at joeddav/xlm-roberta-large-xnli were not used when initializing XLMRobertaForSequenceClassification: ['roberta.pooler.dense.weight', 'roberta.pooler.dense.bias']\n",
      "- This IS expected if you are initializing XLMRobertaForSequenceClassification from the checkpoint of a model trained on another task or with another architecture (e.g. initializing a BertForSequenceClassification model from a BertForPretraining model).\n",
      "- This IS NOT expected if you are initializing XLMRobertaForSequenceClassification from the checkpoint of a model that you expect to be exactly identical (initializing a BertForSequenceClassification model from a BertForSequenceClassification model).\n"
     ]
    }
   ],
   "source": [
    "classifier = pipeline('zero-shot-classification',\n",
    "                      model='joeddav/xlm-roberta-large-xnli')"
   ]
  },
  {
   "cell_type": "code",
   "execution_count": 3,
   "metadata": {},
   "outputs": [],
   "source": [
    "sequence = \"The Avengers - Hammer Top Besetzung - Top Film endlich war es soweit. Meine Superhelden vereint in einem Film. Ich habe mich besonders auf Robert Downey Jr. und Chris Hemsworth gefreut. Robert stellt Iron Man mit einer Coolness dar, die man nicht überbieten kann. Die Rolle ist perfekt auf ihn zugeschnitten. Chris Hemsworth ist einfach eine Augenweide:-). Loki war auch super. Gegen Mark Ruffalo als Hulk hatte ich meine Bedenken, die wurden dann aber im Film widerlegt. Wenn man die einzelnen Filme vorher gesehen hat und auch die Anspielungen auf 'The Avengers' verstanden hat, ist der Film noch interessanter. Die Story war vorhersehbar, aber trotzdem gut. Was mir am besten gefallen hat, ist das jeder Charakter gleich stark vertreten war. Fazit: Unbedingt anschauen!\"\n",
    "hypothesis_template = 'This text is about {}.' \n",
    "labels = \"películas, acción, superhéroes, libros\"\n",
    "allow_multi_class = True"
   ]
  },
  {
   "cell_type": "code",
   "execution_count": 4,
   "metadata": {},
   "outputs": [
    {
     "data": {
      "text/plain": [
       "{'sequence': \"The Avengers - Hammer Top Besetzung - Top Film endlich war es soweit. Meine Superhelden vereint in einem Film. Ich habe mich besonders auf Robert Downey Jr. und Chris Hemsworth gefreut. Robert stellt Iron Man mit einer Coolness dar, die man nicht überbieten kann. Die Rolle ist perfekt auf ihn zugeschnitten. Chris Hemsworth ist einfach eine Augenweide:-). Loki war auch super. Gegen Mark Ruffalo als Hulk hatte ich meine Bedenken, die wurden dann aber im Film widerlegt. Wenn man die einzelnen Filme vorher gesehen hat und auch die Anspielungen auf 'The Avengers' verstanden hat, ist der Film noch interessanter. Die Story war vorhersehbar, aber trotzdem gut. Was mir am besten gefallen hat, ist das jeder Charakter gleich stark vertreten war. Fazit: Unbedingt anschauen!\",\n",
       " 'labels': ['superhéroes', 'películas', 'acción', 'libros'],\n",
       " 'scores': [0.9459265470504761,\n",
       "  0.6354550123214722,\n",
       "  0.593166172504425,\n",
       "  0.02965512126684189]}"
      ]
     },
     "execution_count": 4,
     "metadata": {},
     "output_type": "execute_result"
    }
   ],
   "source": [
    "result = classifier(sequence, labels,\n",
    "           hypothesis_template=hypothesis_template,\n",
    "           multi_class=allow_multi_class)\n",
    "\n",
    "result"
   ]
  },
  {
   "cell_type": "code",
   "execution_count": 5,
   "metadata": {},
   "outputs": [
    {
     "data": {
      "text/plain": [
       "('superhéroes', 0.9459265470504761)"
      ]
     },
     "execution_count": 5,
     "metadata": {},
     "output_type": "execute_result"
    }
   ],
   "source": [
    "result[\"labels\"][0], result[\"scores\"][0]"
   ]
  },
  {
   "cell_type": "markdown",
   "metadata": {},
   "source": [
    "### 2. Apply method to all the sentences from our data"
   ]
  },
  {
   "cell_type": "code",
   "execution_count": 36,
   "metadata": {},
   "outputs": [],
   "source": [
    "HYPOTHESIS_TEMPLATE = 'This text is about {}.' \n",
    "LABELS = \"Direct payment, Tax deduction, Credit/guarantee, Technical assistance, Supplies, Fines, Unknown\"\n",
    "\n",
    "def classify_sentence(sentence, labels, allow_multi_class=False, multi_class_thresh=0.5, all_probs=False):\n",
    "    result = classifier(sentence, labels,\n",
    "           hypothesis_template=HYPOTHESIS_TEMPLATE,\n",
    "           multi_class=allow_multi_class)\n",
    "    \n",
    "    if all_probs:\n",
    "        return result[\"labels\"], result[\"scores\"]\n",
    "    \n",
    "    if allow_multi_class:\n",
    "        multi_labels = []\n",
    "        multi_scores = []\n",
    "        for i, score in enumerate(result[\"scores\"]):\n",
    "            if score > multi_class_thresh:\n",
    "                multi_labels.append(result[\"labels\"][i])\n",
    "                multi_scores.append(score)\n",
    "         \n",
    "        return multi_labels, multi_scores\n",
    "    \n",
    "    return result[\"labels\"][0], result[\"scores\"][0]"
   ]
  },
  {
   "cell_type": "code",
   "execution_count": 37,
   "metadata": {},
   "outputs": [
    {
     "data": {
      "text/plain": [
       "(['Credit/guarantee'], [0.8358953595161438])"
      ]
     },
     "execution_count": 37,
     "metadata": {},
     "output_type": "execute_result"
    }
   ],
   "source": [
    "# True label: guarantee\n",
    "classify_sentence(\"Disminuir los riesgos para el inversionista implementando mecanismos de aseguramiento.\", LABELS, True)"
   ]
  },
  {
   "cell_type": "code",
   "execution_count": 38,
   "metadata": {},
   "outputs": [
    {
     "data": {
      "text/plain": [
       "('Direct payment', 0.42551904916763306)"
      ]
     },
     "execution_count": 38,
     "metadata": {},
     "output_type": "execute_result"
    }
   ],
   "source": [
    "# True label: direct payment\n",
    "classify_sentence(\"Los recursos que el Fondo Forestal Mexicano obtenga por el cobro de bienes y servicios ambientales se entregarán directamente a los proveedores de dichos servicios y una parte se destinará a cubrir los costos de esta operación.\", LABELS)"
   ]
  },
  {
   "cell_type": "code",
   "execution_count": 39,
   "metadata": {},
   "outputs": [
    {
     "data": {
      "text/plain": [
       "('Tax deduction', 0.4818664789199829)"
      ]
     },
     "execution_count": 39,
     "metadata": {},
     "output_type": "execute_result"
    }
   ],
   "source": [
    "# True label: Tax deduction\n",
    "classify_sentence(\"Otorgar incentivos fiscales a las plantaciones forestales comerciales, incluyendo incentivos dirigidos a promover la industria ligada a las plantaciones comerciales forestales.\", LABELS)"
   ]
  },
  {
   "cell_type": "code",
   "execution_count": 40,
   "metadata": {},
   "outputs": [],
   "source": [
    "import pandas as pd\n",
    "from tqdm import tqdm"
   ]
  },
  {
   "cell_type": "code",
   "execution_count": 41,
   "metadata": {},
   "outputs": [],
   "source": [
    "df = pd.read_excel(\"/Users/dafirebanks/Downloads/WRI Policy Tags Complete File phrases extraction all.xlsx\",\n",
    "                    sheet_name=None,\n",
    "                  engine='openpyxl')"
   ]
  },
  {
   "cell_type": "code",
   "execution_count": 42,
   "metadata": {},
   "outputs": [
    {
     "data": {
      "text/plain": [
       "dict_keys(['Mexico ', 'Peru ', 'Chile ', 'Guatemala ', 'El Salvador', 'El Salvador  - local'])"
      ]
     },
     "execution_count": 42,
     "metadata": {},
     "output_type": "execute_result"
    }
   ],
   "source": [
    "df.keys()"
   ]
  },
  {
   "cell_type": "code",
   "execution_count": 43,
   "metadata": {},
   "outputs": [
    {
     "data": {
      "text/html": [
       "<div>\n",
       "<style scoped>\n",
       "    .dataframe tbody tr th:only-of-type {\n",
       "        vertical-align: middle;\n",
       "    }\n",
       "\n",
       "    .dataframe tbody tr th {\n",
       "        vertical-align: top;\n",
       "    }\n",
       "\n",
       "    .dataframe thead th {\n",
       "        text-align: right;\n",
       "    }\n",
       "</style>\n",
       "<table border=\"1\" class=\"dataframe\">\n",
       "  <thead>\n",
       "    <tr style=\"text-align: right;\">\n",
       "      <th></th>\n",
       "      <th>Document</th>\n",
       "      <th>Original Text</th>\n",
       "      <th>Relevant Sentences (for Environment, Incentives, Land Type)</th>\n",
       "      <th>Relevant Phrases (for Environment, Incentives, Land Type)</th>\n",
       "      <th>Incentive Instrument</th>\n",
       "      <th>Land Use Type</th>\n",
       "      <th>Category</th>\n",
       "      <th>Unique Policy #</th>\n",
       "      <th>Key words</th>\n",
       "    </tr>\n",
       "  </thead>\n",
       "  <tbody>\n",
       "    <tr>\n",
       "      <th>0</th>\n",
       "      <td>2019 ACUERDO por el que se emiten los Lineamie...</td>\n",
       "      <td>Generar empleo y garantizara la población camp...</td>\n",
       "      <td>Generar empleo y garantizara la población camp...</td>\n",
       "      <td>garantizara la población campesina el bienesta...</td>\n",
       "      <td>Direct payment (PES), Credit, Technical assist...</td>\n",
       "      <td>Forest, Agriculture (Crop)</td>\n",
       "      <td>Incentive</td>\n",
       "      <td>1 (Sembrando Vida)</td>\n",
       "      <td>insumo, crédito, capacitación, asistencia técnica</td>\n",
       "    </tr>\n",
       "    <tr>\n",
       "      <th>1</th>\n",
       "      <td>2019 ACUERDO por el que se emiten los Lineamie...</td>\n",
       "      <td>\\nEl Programa incentivará a los sujetos agrari...</td>\n",
       "      <td>\\nEl Programa incentivará a los sujetos agrari...</td>\n",
       "      <td>incentivará a los sujetos agrarios a establece...</td>\n",
       "      <td>Direct payment (PES), Credit, Technical assist...</td>\n",
       "      <td>Forest, Agriculture (Crop)</td>\n",
       "      <td>Incentive</td>\n",
       "      <td>1 (Sembrando Vida)</td>\n",
       "      <td>incentivar</td>\n",
       "    </tr>\n",
       "    <tr>\n",
       "      <th>2</th>\n",
       "      <td>2019 ACUERDO por el que se emiten los Lineamie...</td>\n",
       "      <td>Los sujetos agrarios beneficiados por el progr...</td>\n",
       "      <td>Los sujetos agrarios beneficiados por el progr...</td>\n",
       "      <td>Los sujetos agrarios beneficiados por el progr...</td>\n",
       "      <td>Supplies, Technical assistance</td>\n",
       "      <td>Forest, Agriculture (Crop)</td>\n",
       "      <td>Incentive</td>\n",
       "      <td>1 (Sembrando Vida)</td>\n",
       "      <td>apoyo económico, apoyos en especie, insumos, h...</td>\n",
       "    </tr>\n",
       "    <tr>\n",
       "      <th>3</th>\n",
       "      <td>2019 ACUERDO por el que se emiten los Lineamie...</td>\n",
       "      <td>El sujeto de derecho, recibirá un apoyo económ...</td>\n",
       "      <td>El sujeto de derecho, recibirá un apoyo económ...</td>\n",
       "      <td>recibirá un apoyo económico de $5,000.00 (Cin...</td>\n",
       "      <td>Direct payment (PES)</td>\n",
       "      <td>Forest, Agriculture (Crop)</td>\n",
       "      <td>Incentive</td>\n",
       "      <td>1 (Sembrando Vida)</td>\n",
       "      <td>pesos</td>\n",
       "    </tr>\n",
       "    <tr>\n",
       "      <th>4</th>\n",
       "      <td>2019 ACUERDO por el que se emiten los Lineamie...</td>\n",
       "      <td>El sujeto de derecho, recibirá en especie las ...</td>\n",
       "      <td>El sujeto de derecho, recibirá en especie las ...</td>\n",
       "      <td>recibirá en especie las plantas necesarias par...</td>\n",
       "      <td>Supplies</td>\n",
       "      <td>Forest, Agriculture (Crop)</td>\n",
       "      <td>Incentive</td>\n",
       "      <td>1 (Sembrando Vida)</td>\n",
       "      <td>recibir</td>\n",
       "    </tr>\n",
       "  </tbody>\n",
       "</table>\n",
       "</div>"
      ],
      "text/plain": [
       "                                            Document  \\\n",
       "0  2019 ACUERDO por el que se emiten los Lineamie...   \n",
       "1  2019 ACUERDO por el que se emiten los Lineamie...   \n",
       "2  2019 ACUERDO por el que se emiten los Lineamie...   \n",
       "3  2019 ACUERDO por el que se emiten los Lineamie...   \n",
       "4  2019 ACUERDO por el que se emiten los Lineamie...   \n",
       "\n",
       "                                       Original Text  \\\n",
       "0  Generar empleo y garantizara la población camp...   \n",
       "1  \\nEl Programa incentivará a los sujetos agrari...   \n",
       "2  Los sujetos agrarios beneficiados por el progr...   \n",
       "3  El sujeto de derecho, recibirá un apoyo económ...   \n",
       "4  El sujeto de derecho, recibirá en especie las ...   \n",
       "\n",
       "  Relevant Sentences (for Environment, Incentives, Land Type)   \\\n",
       "0  Generar empleo y garantizara la población camp...             \n",
       "1  \\nEl Programa incentivará a los sujetos agrari...             \n",
       "2  Los sujetos agrarios beneficiados por el progr...             \n",
       "3  El sujeto de derecho, recibirá un apoyo económ...             \n",
       "4  El sujeto de derecho, recibirá en especie las ...             \n",
       "\n",
       "  Relevant Phrases (for Environment, Incentives, Land Type)   \\\n",
       "0  garantizara la población campesina el bienesta...           \n",
       "1  incentivará a los sujetos agrarios a establece...           \n",
       "2  Los sujetos agrarios beneficiados por el progr...           \n",
       "3   recibirá un apoyo económico de $5,000.00 (Cin...           \n",
       "4  recibirá en especie las plantas necesarias par...           \n",
       "\n",
       "                                Incentive Instrument  \\\n",
       "0  Direct payment (PES), Credit, Technical assist...   \n",
       "1  Direct payment (PES), Credit, Technical assist...   \n",
       "2                     Supplies, Technical assistance   \n",
       "3                              Direct payment (PES)    \n",
       "4                                         Supplies     \n",
       "\n",
       "                Land Use Type   Category     Unique Policy #  \\\n",
       "0  Forest, Agriculture (Crop)  Incentive  1 (Sembrando Vida)   \n",
       "1  Forest, Agriculture (Crop)  Incentive  1 (Sembrando Vida)   \n",
       "2  Forest, Agriculture (Crop)  Incentive  1 (Sembrando Vida)   \n",
       "3  Forest, Agriculture (Crop)  Incentive  1 (Sembrando Vida)   \n",
       "4  Forest, Agriculture (Crop)  Incentive  1 (Sembrando Vida)   \n",
       "\n",
       "                                           Key words  \n",
       "0  insumo, crédito, capacitación, asistencia técnica  \n",
       "1                                         incentivar  \n",
       "2  apoyo económico, apoyos en especie, insumos, h...  \n",
       "3                                              pesos  \n",
       "4                                            recibir  "
      ]
     },
     "execution_count": 43,
     "metadata": {},
     "output_type": "execute_result"
    }
   ],
   "source": [
    "mexico_df = df['Mexico ']\n",
    "mexico_df.head()"
   ]
  },
  {
   "cell_type": "code",
   "execution_count": 44,
   "metadata": {},
   "outputs": [
    {
     "data": {
      "text/plain": [
       "Index(['Document', 'Original Text',\n",
       "       'Relevant Sentences (for Environment, Incentives, Land Type) ',\n",
       "       'Relevant Phrases (for Environment, Incentives, Land Type) ',\n",
       "       'Incentive Instrument', 'Land Use Type', 'Category', 'Unique Policy #',\n",
       "       'Key words'],\n",
       "      dtype='object')"
      ]
     },
     "execution_count": 44,
     "metadata": {},
     "output_type": "execute_result"
    }
   ],
   "source": [
    "mexico_df.columns"
   ]
  },
  {
   "cell_type": "code",
   "execution_count": 45,
   "metadata": {},
   "outputs": [
    {
     "data": {
      "text/plain": [
       "0      Generar empleo y garantizara la población camp...\n",
       "1      \\nEl Programa incentivará a los sujetos agrari...\n",
       "2      Los sujetos agrarios beneficiados por el progr...\n",
       "3      El sujeto de derecho, recibirá un apoyo económ...\n",
       "4      El sujeto de derecho, recibirá en especie las ...\n",
       "                             ...                        \n",
       "98     Quienes aprovechen tierras de pastoreo y opten...\n",
       "99     De los apoyos e incentivos;\\n La Secretaría fo...\n",
       "100    Generación y transferencia de tecnologías, for...\n",
       "101    Los municipios y las delegaciones de las depen...\n",
       "102    El Ejecutivo Federal, por conducto de las Secr...\n",
       "Name: Relevant Sentences (for Environment, Incentives, Land Type) , Length: 103, dtype: object"
      ]
     },
     "execution_count": 45,
     "metadata": {},
     "output_type": "execute_result"
    }
   ],
   "source": [
    "sents = mexico_df['Relevant Sentences (for Environment, Incentives, Land Type) ']\n",
    "sents"
   ]
  },
  {
   "cell_type": "code",
   "execution_count": 46,
   "metadata": {},
   "outputs": [],
   "source": [
    "sents = sents.apply(lambda x : x.replace(\"\\n\", \"\").strip())"
   ]
  },
  {
   "cell_type": "code",
   "execution_count": 47,
   "metadata": {},
   "outputs": [
    {
     "data": {
      "text/plain": [
       "0      Generar empleo y garantizara la población camp...\n",
       "1      El Programa incentivará a los sujetos agrarios...\n",
       "2      Los sujetos agrarios beneficiados por el progr...\n",
       "3      El sujeto de derecho, recibirá un apoyo económ...\n",
       "4      El sujeto de derecho, recibirá en especie las ...\n",
       "                             ...                        \n",
       "98     Quienes aprovechen tierras de pastoreo y opten...\n",
       "99     De los apoyos e incentivos; La Secretaría form...\n",
       "100    Generación y transferencia de tecnologías, for...\n",
       "101    Los municipios y las delegaciones de las depen...\n",
       "102    El Ejecutivo Federal, por conducto de las Secr...\n",
       "Name: Relevant Sentences (for Environment, Incentives, Land Type) , Length: 103, dtype: object"
      ]
     },
     "execution_count": 47,
     "metadata": {},
     "output_type": "execute_result"
    }
   ],
   "source": [
    "sents"
   ]
  },
  {
   "cell_type": "markdown",
   "metadata": {},
   "source": [
    "### 3. Binary classification"
   ]
  },
  {
   "cell_type": "code",
   "execution_count": 48,
   "metadata": {},
   "outputs": [],
   "source": [
    "labels = mexico_df['Incentive Instrument']"
   ]
  },
  {
   "cell_type": "code",
   "execution_count": 49,
   "metadata": {},
   "outputs": [],
   "source": [
    "binary_labels = labels.apply(lambda x: \"incentive\" if x != \"Unknown\" else \"not incentive\")"
   ]
  },
  {
   "cell_type": "code",
   "execution_count": 50,
   "metadata": {},
   "outputs": [
    {
     "data": {
      "text/plain": [
       "incentive        60\n",
       "not incentive    43\n",
       "Name: Incentive Instrument, dtype: int64"
      ]
     },
     "execution_count": 50,
     "metadata": {},
     "output_type": "execute_result"
    }
   ],
   "source": [
    "binary_labels.value_counts()"
   ]
  },
  {
   "cell_type": "code",
   "execution_count": 51,
   "metadata": {},
   "outputs": [],
   "source": [
    "mexico_df['binary_label'] = binary_labels"
   ]
  },
  {
   "cell_type": "code",
   "execution_count": 52,
   "metadata": {},
   "outputs": [
    {
     "data": {
      "text/html": [
       "<div>\n",
       "<style scoped>\n",
       "    .dataframe tbody tr th:only-of-type {\n",
       "        vertical-align: middle;\n",
       "    }\n",
       "\n",
       "    .dataframe tbody tr th {\n",
       "        vertical-align: top;\n",
       "    }\n",
       "\n",
       "    .dataframe thead th {\n",
       "        text-align: right;\n",
       "    }\n",
       "</style>\n",
       "<table border=\"1\" class=\"dataframe\">\n",
       "  <thead>\n",
       "    <tr style=\"text-align: right;\">\n",
       "      <th></th>\n",
       "      <th>Document</th>\n",
       "      <th>Original Text</th>\n",
       "      <th>Relevant Sentences (for Environment, Incentives, Land Type)</th>\n",
       "      <th>Relevant Phrases (for Environment, Incentives, Land Type)</th>\n",
       "      <th>Incentive Instrument</th>\n",
       "      <th>Land Use Type</th>\n",
       "      <th>Category</th>\n",
       "      <th>Unique Policy #</th>\n",
       "      <th>Key words</th>\n",
       "      <th>binary_label</th>\n",
       "    </tr>\n",
       "  </thead>\n",
       "  <tbody>\n",
       "    <tr>\n",
       "      <th>0</th>\n",
       "      <td>2019 ACUERDO por el que se emiten los Lineamie...</td>\n",
       "      <td>Generar empleo y garantizara la población camp...</td>\n",
       "      <td>Generar empleo y garantizara la población camp...</td>\n",
       "      <td>garantizara la población campesina el bienesta...</td>\n",
       "      <td>Direct payment (PES), Credit, Technical assist...</td>\n",
       "      <td>Forest, Agriculture (Crop)</td>\n",
       "      <td>Incentive</td>\n",
       "      <td>1 (Sembrando Vida)</td>\n",
       "      <td>insumo, crédito, capacitación, asistencia técnica</td>\n",
       "      <td>incentive</td>\n",
       "    </tr>\n",
       "    <tr>\n",
       "      <th>1</th>\n",
       "      <td>2019 ACUERDO por el que se emiten los Lineamie...</td>\n",
       "      <td>\\nEl Programa incentivará a los sujetos agrari...</td>\n",
       "      <td>\\nEl Programa incentivará a los sujetos agrari...</td>\n",
       "      <td>incentivará a los sujetos agrarios a establece...</td>\n",
       "      <td>Direct payment (PES), Credit, Technical assist...</td>\n",
       "      <td>Forest, Agriculture (Crop)</td>\n",
       "      <td>Incentive</td>\n",
       "      <td>1 (Sembrando Vida)</td>\n",
       "      <td>incentivar</td>\n",
       "      <td>incentive</td>\n",
       "    </tr>\n",
       "    <tr>\n",
       "      <th>2</th>\n",
       "      <td>2019 ACUERDO por el que se emiten los Lineamie...</td>\n",
       "      <td>Los sujetos agrarios beneficiados por el progr...</td>\n",
       "      <td>Los sujetos agrarios beneficiados por el progr...</td>\n",
       "      <td>Los sujetos agrarios beneficiados por el progr...</td>\n",
       "      <td>Supplies, Technical assistance</td>\n",
       "      <td>Forest, Agriculture (Crop)</td>\n",
       "      <td>Incentive</td>\n",
       "      <td>1 (Sembrando Vida)</td>\n",
       "      <td>apoyo económico, apoyos en especie, insumos, h...</td>\n",
       "      <td>incentive</td>\n",
       "    </tr>\n",
       "    <tr>\n",
       "      <th>3</th>\n",
       "      <td>2019 ACUERDO por el que se emiten los Lineamie...</td>\n",
       "      <td>El sujeto de derecho, recibirá un apoyo económ...</td>\n",
       "      <td>El sujeto de derecho, recibirá un apoyo económ...</td>\n",
       "      <td>recibirá un apoyo económico de $5,000.00 (Cin...</td>\n",
       "      <td>Direct payment (PES)</td>\n",
       "      <td>Forest, Agriculture (Crop)</td>\n",
       "      <td>Incentive</td>\n",
       "      <td>1 (Sembrando Vida)</td>\n",
       "      <td>pesos</td>\n",
       "      <td>incentive</td>\n",
       "    </tr>\n",
       "    <tr>\n",
       "      <th>4</th>\n",
       "      <td>2019 ACUERDO por el que se emiten los Lineamie...</td>\n",
       "      <td>El sujeto de derecho, recibirá en especie las ...</td>\n",
       "      <td>El sujeto de derecho, recibirá en especie las ...</td>\n",
       "      <td>recibirá en especie las plantas necesarias par...</td>\n",
       "      <td>Supplies</td>\n",
       "      <td>Forest, Agriculture (Crop)</td>\n",
       "      <td>Incentive</td>\n",
       "      <td>1 (Sembrando Vida)</td>\n",
       "      <td>recibir</td>\n",
       "      <td>incentive</td>\n",
       "    </tr>\n",
       "  </tbody>\n",
       "</table>\n",
       "</div>"
      ],
      "text/plain": [
       "                                            Document  \\\n",
       "0  2019 ACUERDO por el que se emiten los Lineamie...   \n",
       "1  2019 ACUERDO por el que se emiten los Lineamie...   \n",
       "2  2019 ACUERDO por el que se emiten los Lineamie...   \n",
       "3  2019 ACUERDO por el que se emiten los Lineamie...   \n",
       "4  2019 ACUERDO por el que se emiten los Lineamie...   \n",
       "\n",
       "                                       Original Text  \\\n",
       "0  Generar empleo y garantizara la población camp...   \n",
       "1  \\nEl Programa incentivará a los sujetos agrari...   \n",
       "2  Los sujetos agrarios beneficiados por el progr...   \n",
       "3  El sujeto de derecho, recibirá un apoyo económ...   \n",
       "4  El sujeto de derecho, recibirá en especie las ...   \n",
       "\n",
       "  Relevant Sentences (for Environment, Incentives, Land Type)   \\\n",
       "0  Generar empleo y garantizara la población camp...             \n",
       "1  \\nEl Programa incentivará a los sujetos agrari...             \n",
       "2  Los sujetos agrarios beneficiados por el progr...             \n",
       "3  El sujeto de derecho, recibirá un apoyo económ...             \n",
       "4  El sujeto de derecho, recibirá en especie las ...             \n",
       "\n",
       "  Relevant Phrases (for Environment, Incentives, Land Type)   \\\n",
       "0  garantizara la población campesina el bienesta...           \n",
       "1  incentivará a los sujetos agrarios a establece...           \n",
       "2  Los sujetos agrarios beneficiados por el progr...           \n",
       "3   recibirá un apoyo económico de $5,000.00 (Cin...           \n",
       "4  recibirá en especie las plantas necesarias par...           \n",
       "\n",
       "                                Incentive Instrument  \\\n",
       "0  Direct payment (PES), Credit, Technical assist...   \n",
       "1  Direct payment (PES), Credit, Technical assist...   \n",
       "2                     Supplies, Technical assistance   \n",
       "3                              Direct payment (PES)    \n",
       "4                                         Supplies     \n",
       "\n",
       "                Land Use Type   Category     Unique Policy #  \\\n",
       "0  Forest, Agriculture (Crop)  Incentive  1 (Sembrando Vida)   \n",
       "1  Forest, Agriculture (Crop)  Incentive  1 (Sembrando Vida)   \n",
       "2  Forest, Agriculture (Crop)  Incentive  1 (Sembrando Vida)   \n",
       "3  Forest, Agriculture (Crop)  Incentive  1 (Sembrando Vida)   \n",
       "4  Forest, Agriculture (Crop)  Incentive  1 (Sembrando Vida)   \n",
       "\n",
       "                                           Key words binary_label  \n",
       "0  insumo, crédito, capacitación, asistencia técnica    incentive  \n",
       "1                                         incentivar    incentive  \n",
       "2  apoyo económico, apoyos en especie, insumos, h...    incentive  \n",
       "3                                              pesos    incentive  \n",
       "4                                            recibir    incentive  "
      ]
     },
     "execution_count": 52,
     "metadata": {},
     "output_type": "execute_result"
    }
   ],
   "source": [
    "mexico_df.head()"
   ]
  },
  {
   "cell_type": "code",
   "execution_count": 53,
   "metadata": {},
   "outputs": [
    {
     "name": "stderr",
     "output_type": "stream",
     "text": [
      "100%|██████████| 103/103 [03:46<00:00,  2.20s/it]\n"
     ]
    }
   ],
   "source": [
    "LABELS = \"Incentive, Not Incentive\"\n",
    "model_preds = []\n",
    "scores = []\n",
    "for sentence in tqdm(sents):\n",
    "    model_pred, score = classify_sentence(sentence, LABELS)\n",
    "    model_preds.append(model_pred)\n",
    "    scores.append(score)"
   ]
  },
  {
   "cell_type": "code",
   "execution_count": 72,
   "metadata": {},
   "outputs": [
    {
     "ename": "NameError",
     "evalue": "name 'plot_data_distribution' is not defined",
     "output_type": "error",
     "traceback": [
      "\u001b[0;31m---------------------------------------------------------------------------\u001b[0m",
      "\u001b[0;31mNameError\u001b[0m                                 Traceback (most recent call last)",
      "\u001b[0;32m<ipython-input-72-95a28a9a7dbe>\u001b[0m in \u001b[0;36m<module>\u001b[0;34m\u001b[0m\n\u001b[1;32m      2\u001b[0m \u001b[0mbin_preds\u001b[0m \u001b[0;34m=\u001b[0m \u001b[0;34m[\u001b[0m\u001b[0;36m1\u001b[0m \u001b[0;32mif\u001b[0m \u001b[0mlabel\u001b[0m \u001b[0;34m==\u001b[0m \u001b[0;34m\"Incentive\"\u001b[0m \u001b[0;32melse\u001b[0m \u001b[0;36m0\u001b[0m \u001b[0;32mfor\u001b[0m \u001b[0mlabel\u001b[0m \u001b[0;32min\u001b[0m \u001b[0mmodel_preds\u001b[0m\u001b[0;34m]\u001b[0m\u001b[0;34m\u001b[0m\u001b[0;34m\u001b[0m\u001b[0m\n\u001b[1;32m      3\u001b[0m \u001b[0mlabel_names\u001b[0m \u001b[0;34m=\u001b[0m \u001b[0mLABELS\u001b[0m\u001b[0;34m.\u001b[0m\u001b[0msplit\u001b[0m\u001b[0;34m(\u001b[0m\u001b[0;34m\", \"\u001b[0m\u001b[0;34m)\u001b[0m\u001b[0;34m\u001b[0m\u001b[0;34m\u001b[0m\u001b[0m\n\u001b[0;32m----> 4\u001b[0;31m \u001b[0mplot_data_distribution\u001b[0m\u001b[0;34m(\u001b[0m\u001b[0mbin_labels\u001b[0m\u001b[0;34m,\u001b[0m \u001b[0mlabel_names\u001b[0m\u001b[0;34m,\u001b[0m \u001b[0mnormalize\u001b[0m\u001b[0;34m=\u001b[0m\u001b[0;32mTrue\u001b[0m\u001b[0;34m)\u001b[0m\u001b[0;34m\u001b[0m\u001b[0;34m\u001b[0m\u001b[0m\n\u001b[0m",
      "\u001b[0;31mNameError\u001b[0m: name 'plot_data_distribution' is not defined"
     ]
    }
   ],
   "source": [
    "bin_labels = [1 if label == \"incentive\" else 0 for label in binary_labels]\n",
    "bin_preds = [1 if label == \"Incentive\" else 0 for label in model_preds]\n",
    "label_names = LABELS.split(\", \")\n",
    "plot_data_distribution(bin_labels, label_names, normalize=True)"
   ]
  },
  {
   "cell_type": "code",
   "execution_count": 71,
   "metadata": {},
   "outputs": [],
   "source": [
    "import sys\n",
    "sys.path.append(\"../\")\n",
    "sys.path.append(\"../../\")\n",
    "sys.path.append(\"../../../\")\n",
    "\n",
    "from tasks.evaluate_model.src.model_evaluator import *\n",
    "from tasks.data_loader.src.utils import *"
   ]
  },
  {
   "cell_type": "code",
   "execution_count": 44,
   "metadata": {},
   "outputs": [],
   "source": [
    "evaluator = ModelEvaluator(label_names)"
   ]
  },
  {
   "cell_type": "code",
   "execution_count": 45,
   "metadata": {},
   "outputs": [
    {
     "name": "stdout",
     "output_type": "stream",
     "text": [
      "Recall per class: [0.04651163 0.86666667]\n",
      "Average weighted precision: 0.4092076417162543\n"
     ]
    }
   ],
   "source": [
    "evaluator.update(bin_labels, bin_preds)\n",
    "print(\"Recall per class:\", evaluator.recall)\n",
    "print(\"Average weighted precision:\", evaluator.avg_precision[1])"
   ]
  },
  {
   "cell_type": "code",
   "execution_count": 47,
   "metadata": {},
   "outputs": [
    {
     "name": "stdout",
     "output_type": "stream",
     "text": [
      "Stored confusion matrix: ../output/binary_class_test_cm.png\n"
     ]
    },
    {
     "data": {
      "image/png": "[encoded data removed]",
      "text/plain": [
       "<Figure size 576x432 with 2 Axes>"
      ]
     },
     "metadata": {},
     "output_type": "display_data"
    },
    {
     "name": "stdout",
     "output_type": "stream",
     "text": [
      "Stored results: ../output/binary_class_test_results.csv\n"
     ]
    },
    {
     "data": {
      "text/html": [
       "<div>\n",
       "<style scoped>\n",
       "    .dataframe tbody tr th:only-of-type {\n",
       "        vertical-align: middle;\n",
       "    }\n",
       "\n",
       "    .dataframe tbody tr th {\n",
       "        vertical-align: top;\n",
       "    }\n",
       "\n",
       "    .dataframe thead th {\n",
       "        text-align: right;\n",
       "    }\n",
       "</style>\n",
       "<table border=\"1\" class=\"dataframe\">\n",
       "  <thead>\n",
       "    <tr style=\"text-align: right;\">\n",
       "      <th></th>\n",
       "      <th>Precision</th>\n",
       "      <th>Recall (Sensitivity)</th>\n",
       "      <th>True negative rate (Specificity)</th>\n",
       "      <th>F1-score</th>\n",
       "    </tr>\n",
       "  </thead>\n",
       "  <tbody>\n",
       "    <tr>\n",
       "      <th>Incentive</th>\n",
       "      <td>0.2</td>\n",
       "      <td>0.05</td>\n",
       "      <td>0.87</td>\n",
       "      <td>0.08</td>\n",
       "    </tr>\n",
       "    <tr>\n",
       "      <th>Not Incentive</th>\n",
       "      <td>0.56</td>\n",
       "      <td>0.87</td>\n",
       "      <td>0.05</td>\n",
       "      <td>0.68</td>\n",
       "    </tr>\n",
       "    <tr>\n",
       "      <th>Macro avg</th>\n",
       "      <td>0.38</td>\n",
       "      <td>0.46</td>\n",
       "      <td>0.46</td>\n",
       "      <td>0.38</td>\n",
       "    </tr>\n",
       "    <tr>\n",
       "      <th>Weighted avg</th>\n",
       "      <td>0.41</td>\n",
       "      <td>0.52</td>\n",
       "      <td>0.39</td>\n",
       "      <td>0.43</td>\n",
       "    </tr>\n",
       "    <tr>\n",
       "      <th>Accuracy</th>\n",
       "      <td>-----</td>\n",
       "      <td>-----</td>\n",
       "      <td>-----</td>\n",
       "      <td>0.5242718446601942</td>\n",
       "    </tr>\n",
       "    <tr>\n",
       "      <th>-----</th>\n",
       "      <td>-----</td>\n",
       "      <td>-----</td>\n",
       "      <td>-----</td>\n",
       "      <td>-----</td>\n",
       "    </tr>\n",
       "  </tbody>\n",
       "</table>\n",
       "</div>"
      ],
      "text/plain": [
       "              Precision Recall (Sensitivity) True negative rate (Specificity)  \\\n",
       "Incentive           0.2                 0.05                             0.87   \n",
       "Not Incentive      0.56                 0.87                             0.05   \n",
       "Macro avg          0.38                 0.46                             0.46   \n",
       "Weighted avg       0.41                 0.52                             0.39   \n",
       "Accuracy          -----                -----                            -----   \n",
       "-----             -----                -----                            -----   \n",
       "\n",
       "                         F1-score  \n",
       "Incentive                    0.08  \n",
       "Not Incentive                0.68  \n",
       "Macro avg                    0.38  \n",
       "Weighted avg                 0.43  \n",
       "Accuracy       0.5242718446601942  \n",
       "-----                       -----  "
      ]
     },
     "execution_count": 47,
     "metadata": {},
     "output_type": "execute_result"
    }
   ],
   "source": [
    "evaluator.evaluate(bin_labels, bin_preds, \n",
    "                   plot_cm=True, plot_prc=False, plot_prc_multi=False, normalize=True, \n",
    "                   store=True, exp_name=\"binary_class_test\")"
   ]
  },
  {
   "cell_type": "markdown",
   "metadata": {},
   "source": [
    "### 4. Multi class classification"
   ]
  },
  {
   "cell_type": "code",
   "execution_count": 67,
   "metadata": {},
   "outputs": [
    {
     "name": "stderr",
     "output_type": "stream",
     "text": [
      "100%|██████████| 103/103 [09:19<00:00,  5.43s/it]\n"
     ]
    }
   ],
   "source": [
    "LABELS = \"Direct payment, Tax deduction, Credit/guarantee, Technical assistance, Supplies, Fines, Unknown\"\n",
    "model_preds = []\n",
    "scores = []\n",
    "for sentence in tqdm(sents):\n",
    "    model_pred, score = classify_sentence(sentence, LABELS)\n",
    "    model_preds.append(model_pred)\n",
    "    scores.append(score)"
   ]
  },
  {
   "cell_type": "code",
   "execution_count": 63,
   "metadata": {},
   "outputs": [
    {
     "data": {
      "text/plain": [
       "(['Fines',\n",
       "  'Credit/guarantee',\n",
       "  'Technical assistance',\n",
       "  'Credit/guarantee',\n",
       "  'Fines',\n",
       "  'Supplies',\n",
       "  'Technical assistance',\n",
       "  'Technical assistance',\n",
       "  'Supplies',\n",
       "  'Fines'],\n",
       " 0     Direct payment (PES), Credit, Technical assist...\n",
       " 1     Direct payment (PES), Credit, Technical assist...\n",
       " 2                        Supplies, Technical assistance\n",
       " 3                                 Direct payment (PES) \n",
       " 4                                            Supplies  \n",
       " 5                                            Supplies  \n",
       " 6                                  Technical assistance\n",
       " 7                                  Technical assistance\n",
       " 8                                  Direct payment (PES)\n",
       " 9     Direct payment (PES), Credit, Technical assist...\n",
       " 10                                 Direct payment (PES)\n",
       " Name: Incentive Instrument, dtype: object)"
      ]
     },
     "execution_count": 63,
     "metadata": {},
     "output_type": "execute_result"
    }
   ],
   "source": [
    "model_preds[:10], mexico_df[\"Incentive Instrument\"].loc[:10]"
   ]
  },
  {
   "cell_type": "code",
   "execution_count": null,
   "metadata": {},
   "outputs": [],
   "source": [
    "mexico_df"
   ]
  },
  {
   "cell_type": "code",
   "execution_count": 56,
   "metadata": {},
   "outputs": [],
   "source": [
    "evaluator = ModelEvaluator(LABELS.split(\", \"))"
   ]
  },
  {
   "cell_type": "code",
   "execution_count": null,
   "metadata": {},
   "outputs": [],
   "source": [
    "evaluator.evaluate(bin_labels, bin_preds, \n",
    "                   plot_cm=True, plot_prc=False, plot_prc_multi=False, normalize=True, \n",
    "                   store=True, exp_name=\"binary_class_test\")"
   ]
  },
  {
   "cell_type": "code",
   "execution_count": 28,
   "metadata": {
    "jupyter": {
     "source_hidden": true
    }
   },
   "outputs": [],
   "source": [
    "import pandas as pd\n",
    "from sklearn.metrics import confusion_matrix, precision_recall_curve, f1_score, accuracy_score, precision_score, \\\n",
    "    recall_score, average_precision_score\n",
    "from sklearn.preprocessing import label_binarize\n",
    "import numpy as np\n",
    "import matplotlib.pyplot as plt\n",
    "import itertools\n",
    "from itertools import cycle\n",
    "import matplotlib.colors as mcolors\n",
    "\n",
    "import sys\n",
    "\n",
    "sys.path.append(\"../../\")\n",
    "\n",
    "METRICS = [\"Precision\", \"Recall (Sensitivity)\", \"True negative rate (Specificity)\", \"F1-score\"]\n",
    "\n",
    "\n",
    "class ModelEvaluator:\n",
    "    def __init__(self, label_names, output_path=\"../output/\", y_true=None, y_pred=None):\n",
    "        self.label_names = label_names\n",
    "        self.df_indices = label_names + [\"Macro avg\", \"Weighted avg\"]\n",
    "        self.output_path = output_path\n",
    "        self.n_classes = len(label_names)\n",
    "\n",
    "        if y_true is not None and y_pred is not None:\n",
    "            self.update(y_true, y_pred)\n",
    "\n",
    "    def update(self, y_true, y_pred):\n",
    "        \"\"\"\n",
    "        Given a set of true labels and model predictions, calculate and store the following metrics:\n",
    "            - Confusion matrix\n",
    "            - FP: Number of false positives\n",
    "            - FN: Number of false negatives\n",
    "            - TP: Number of true positives\n",
    "            - TN: Number of true negatives\n",
    "            - Recall\n",
    "            - Specificity\n",
    "            - Precision\n",
    "            - F1-score\n",
    "            - Accuracy\n",
    "            - FDR: False discovery rate\n",
    "            - NPV: Negative predictive value\n",
    "            - FPR: False positive rate\n",
    "            - False negative rate\n",
    "        \"\"\"\n",
    "        # Ignore division by 0 errors\n",
    "        settings = np.seterr(divide='ignore', invalid='ignore')\n",
    "\n",
    "        # ---- Set up raw components ----\n",
    "        self.cm = confusion_matrix(y_true, y_pred)\n",
    "        self.FP = self.cm.sum(axis=0) - np.diag(self.cm)\n",
    "        self.FN = self.cm.sum(axis=1) - np.diag(self.cm)\n",
    "        self.TP = np.diag(self.cm)\n",
    "        self.TN = self.cm.sum() - (self.FP + self.FN + self.TP)\n",
    "\n",
    "        # ---- Useful metrics at the class level ----\n",
    "        self.recall = self.TP / (self.TP + self.FN)\n",
    "        self.specificity = self.TN / (self.TN + self.FP)\n",
    "        self.precision = self.TP / (self.TP + self.FP)\n",
    "        self.f1 = (2 * self.precision * self.recall) / (self.precision + self.recall)\n",
    "\n",
    "        # ---- Useful metrics across all classes ----\n",
    "        self.avg_precision = np.array(\n",
    "            [precision_score(y_true, y_pred, average='macro'), precision_score(y_true, y_pred, average='weighted')])\n",
    "        self.avg_recall = np.array(\n",
    "            [recall_score(y_true, y_pred, average='macro'), recall_score(y_true, y_pred, average='weighted')])\n",
    "        self.avg_specificity = np.array([np.mean(self.specificity), self.weighted_avg(self.specificity, y_true, )])\n",
    "        self.avg_f1 = np.array(\n",
    "            [f1_score(y_true, y_pred, average='macro'), f1_score(y_true, y_pred, average='weighted')])\n",
    "        self.accuracy = accuracy_score(y_true, y_pred)\n",
    "        self.acc = np.array([\"-----\", \"-----\", \"-----\", self.accuracy])\n",
    "\n",
    "        # ---- Extra metrics at the class level ----\n",
    "        self.FDR = self.FP / (self.TP + self.FP)  # False discovery rate\n",
    "        self.NPV = self.TN / (self.TN + self.FN)  # Negative predictive value\n",
    "        self.FPR = self.FP / (self.FP + self.TN)  # Fall out or false positive rate\n",
    "        self.FNR = self.FN / (self.TP + self.FN)  # False negative rate\n",
    "\n",
    "    def evaluate(self, y_true, y_pred,\n",
    "                 plot_cm=False, plot_prc=False, plot_prc_multi=False,\n",
    "                 normalize=False, store=False, exp_name=None):\n",
    "        \"\"\"\n",
    "        Given a set of true labels and model predictions, runs a series of selected evaluation metrics:\n",
    "            - Precision\n",
    "            - Recall (Sensitivity)\n",
    "            - Accuracy\n",
    "            - Specificity\n",
    "            - Confusion matrix\n",
    "            - Precision-Recall curve\n",
    "\n",
    "        Parameters:\n",
    "            `plot_cm`: (boolean) Plot confusion matrix\n",
    "            `plot_prc`: (boolean) Plot precision-recall curve (averaged for all classes)\n",
    "            `plot_prc_multi`: (boolean) Plot the multi-class version of the precision-recall curve (`plot_prc` MUST be `True` if this is set to `True`)\n",
    "            `normalize`: (boolean) Normalize the confusion matrix content\n",
    "            `store`: (boolean) Store the plots and the results dataframe. If this is set to `True`, then `exp_name` MUST have a value and it can't be None. The files will be stored in the `evaluate_model/output/` folder.\n",
    "            `exp_name`: (str) The name of the model or the experiment, useful if we will want to store files (e.g `test_BETO_1`).\n",
    "        \"\"\"\n",
    "\n",
    "        self.update(y_true, y_pred)\n",
    "\n",
    "        data = np.stack((self.precision, self.recall, self.specificity, self.f1)).T\n",
    "        avgs = np.array([self.avg_precision, self.avg_recall, self.avg_specificity, self.avg_f1]).T\n",
    "        data_with_avgs = np.concatenate((data, avgs))\n",
    "\n",
    "        metrics_df = pd.DataFrame(data_with_avgs, index=self.df_indices, columns=METRICS)\n",
    "        metrics_df = metrics_df.applymap(lambda x: round(x, 2))\n",
    "        metrics_df.loc['Accuracy'] = self.acc\n",
    "\n",
    "        line = pd.DataFrame(dict(zip(METRICS, [\"-----\"] * len(METRICS))), index=[\"-----\"])\n",
    "        metrics_df = pd.concat([metrics_df.iloc[:6], line, metrics_df.iloc[6:]])\n",
    "        self.metrics_df = metrics_df.fillna(0)\n",
    "\n",
    "        if plot_cm:\n",
    "            self.plot_confusion_matrix(self.cm,\n",
    "                                       self.label_names,\n",
    "                                       title='Confusion matrix',\n",
    "                                       color_map=\"Blues\",\n",
    "                                       normalize=normalize,\n",
    "                                       store=store,\n",
    "                                       exp_name=self.output_path + exp_name)\n",
    "\n",
    "        if plot_prc:\n",
    "            print(y_pred)\n",
    "            self.plot_precision_recall_curve(y_true, y_pred,\n",
    "                                             multi_class=plot_prc_multi,\n",
    "                                             store=store, exp_name=self.output_path + exp_name)\n",
    "\n",
    "        if store:\n",
    "            if exp_name is None:\n",
    "                print(\n",
    "                    \"Couldn't save results because experiment name was not given! Please provide exp_name in arguments.\")\n",
    "            else:\n",
    "                fname = f\"{self.output_path + exp_name}_results.csv\"\n",
    "                self.metrics_df.to_csv(fname)\n",
    "                print(f\"Stored results: {fname}\")\n",
    "\n",
    "        return self.metrics_df\n",
    "\n",
    "    def get_counts_per_label(self, y_true):\n",
    "        \"\"\"\n",
    "        Return a map of {label: number of data points with that label} for the given list of labels\n",
    "\n",
    "        Parameters:\n",
    "            - y_true: a list of labels (integers)\n",
    "        \"\"\"\n",
    "        label_counts = [0] * self.n_classes\n",
    "        for label in y_true:\n",
    "            label_counts[label] += 1\n",
    "        return label_counts\n",
    "\n",
    "    def weighted_avg(self, metric_array, y_true):\n",
    "        \"\"\"\n",
    "        Given a numpy array of a particular metric for all classes (i.e precision for all classes),\n",
    "        return a weighted average of the metric, where the weights are the number of data points that\n",
    "        have a given label.\n",
    "\n",
    "        Parameters:\n",
    "            - metric array: a 1D-numpy array of floats representing metrics\n",
    "            - y_true: a list of labels (integers)\n",
    "        \"\"\"\n",
    "        weights = self.get_counts_per_label(y_true)\n",
    "        weighted_metrics = sum(metric_array * weights)\n",
    "        return weighted_metrics / len(y_true)\n",
    "\n",
    "    @staticmethod\n",
    "    def plot_confusion_matrix(cm,\n",
    "                              target_names,\n",
    "                              title='Confusion matrix',\n",
    "                              color_map=None,\n",
    "                              normalize=True,\n",
    "                              store=False,\n",
    "                              exp_name=None):\n",
    "        \"\"\"\n",
    "        Adapted from: https://stackoverflow.com/questions/19233771/sklearn-plot-confusion-matrix-with-labels\n",
    "        \"\"\"\n",
    "        if color_map is None:\n",
    "            color_map = plt.get_cmap('Blues')\n",
    "\n",
    "        plt.figure(figsize=(8, 6))\n",
    "        plt.imshow(cm, interpolation='nearest', cmap=color_map)\n",
    "        plt.title(title)\n",
    "        plt.colorbar()\n",
    "        plt.style.use('seaborn-white')\n",
    "\n",
    "        if target_names is not None:\n",
    "            tick_marks = np.arange(len(target_names))\n",
    "            plt.xticks(tick_marks, target_names, rotation=45)\n",
    "            plt.yticks(tick_marks, target_names)\n",
    "\n",
    "        if normalize:\n",
    "            cm = cm.astype('float') / cm.sum(axis=1)[:, np.newaxis]\n",
    "\n",
    "        thresh = cm.max() / 1.5 if normalize else cm.max() / 2\n",
    "        for i, j in itertools.product(range(cm.shape[0]), range(cm.shape[1])):\n",
    "            if normalize:\n",
    "                plt.text(j, i, \"{:0.2f}\".format(cm[i, j]),\n",
    "                         horizontalalignment=\"center\",\n",
    "                         color=\"white\" if cm[i, j] > thresh else \"black\")\n",
    "            else:\n",
    "                plt.text(j, i, \"{:,}\".format(cm[i, j]),\n",
    "                         horizontalalignment=\"center\",\n",
    "                         color=\"white\" if cm[i, j] > thresh else \"black\")\n",
    "\n",
    "        plt.tight_layout()\n",
    "        plt.xlabel('Predicted label')\n",
    "        plt.ylabel('True label')\n",
    "\n",
    "        if store:\n",
    "            if exp_name is None:\n",
    "                print(\"Couldn't save plot because experiment name was not given! Please provide exp_name in arguments.\")\n",
    "            else:\n",
    "                fname = f\"{exp_name}_cm.png\"\n",
    "                plt.savefig(fname)\n",
    "                print(f\"Stored confusion matrix: {fname}\")\n",
    "\n",
    "        plt.show()\n",
    "\n",
    "    def plot_precision_recall_curve(self, y_true, y_pred, multi_class=False, store=False, exp_name=None):\n",
    "\n",
    "        y_true_bin = label_binarize(y_true, classes=range(self.n_classes))\n",
    "        y_pred_bin = label_binarize(y_pred, classes=range(self.n_classes))\n",
    "\n",
    "        precision = dict()\n",
    "        recall = dict()\n",
    "        average_precision = dict()\n",
    "\n",
    "        for i in range(self.n_classes):\n",
    "            precision[i], recall[i], _ = precision_recall_curve(y_true_bin[:, i],\n",
    "                                                                y_pred_bin[:, i])\n",
    "            average_precision[i] = average_precision_score(y_true_bin[:, i], y_pred_bin[:, i])\n",
    "\n",
    "        # A \"micro-average\": quantifying score on all classes jointly\n",
    "        precision[\"micro\"], recall[\"micro\"], _ = precision_recall_curve(y_true_bin.ravel(),\n",
    "                                                                        y_pred_bin.ravel())\n",
    "        average_precision[\"micro\"] = average_precision_score(y_true_bin, y_pred_bin,\n",
    "                                                             average=\"micro\")\n",
    "\n",
    "        random_pred_precision = y_true_bin.mean()\n",
    "\n",
    "        if multi_class:\n",
    "\n",
    "            # Setup plot details\n",
    "            colors = cycle(list(mcolors.TABLEAU_COLORS.keys()))\n",
    "            plt.figure(figsize=(7, 8))\n",
    "            plt.style.use('seaborn-white')\n",
    "\n",
    "            # Plot f1 score lines\n",
    "            f_scores = np.linspace(0.2, 0.8, num=4)\n",
    "            lines = []\n",
    "            labels = []\n",
    "            for f_score in f_scores:\n",
    "                x = np.linspace(0.01, 1)\n",
    "                y = f_score * x / (2 * x - f_score)\n",
    "                l, = plt.plot(x[y >= 0], y[y >= 0], color='gray', alpha=0.2)\n",
    "                plt.annotate('f1={0:0.1f}'.format(f_score), xy=(0.9, y[45] + 0.02))\n",
    "\n",
    "            # Plot precision-recall lines\n",
    "            lines.append(l)\n",
    "            labels.append('iso-f1 curves')\n",
    "            l, = plt.plot(recall[\"micro\"], precision[\"micro\"], color='gold', lw=2)\n",
    "            lines.append(l)\n",
    "            labels.append('Micro-average Precision-Recall (area = {0:0.2f})'\n",
    "                          ''.format(average_precision[\"micro\"]))\n",
    "\n",
    "            for i, color in zip(range(self.n_classes), colors):\n",
    "                l, = plt.plot(recall[i], precision[i], color=color, lw=2)\n",
    "                lines.append(l)\n",
    "                labels.append('Precision-Recall for class {0} (area = {1:0.2f})'\n",
    "                              ''.format(i, average_precision[i]))\n",
    "\n",
    "            rand_l, = plt.plot([0, 1], [random_pred_precision, random_pred_precision], linestyle='--')\n",
    "            lines.append(rand_l)\n",
    "            labels.append(\"Precision-Recall for Random Classifier\")\n",
    "\n",
    "            # Final touches on plot\n",
    "            fig = plt.gcf()\n",
    "            fig.subplots_adjust(bottom=0.25)\n",
    "            plt.xlim([0.0, 1.0])\n",
    "            plt.ylim([0.0, 1.05])\n",
    "            plt.xlabel('Recall')\n",
    "            plt.ylabel('Precision')\n",
    "            plt.title('Multiclass Precision-Recall Curve')\n",
    "            plt.legend(lines, labels, loc=(0, -.68), prop=dict(size=14))\n",
    "\n",
    "            if store:\n",
    "                if exp_name is None:\n",
    "                    print(\n",
    "                        \"Couldn't save PR curve plot because experiment name was not given! Please provide exp_name in arguments.\")\n",
    "                else:\n",
    "                    fname = f\"{exp_name}_prc.png\"\n",
    "                    plt.savefig(fname)\n",
    "                    print(f\"Stored Precision-Recall Curve: {fname}\")\n",
    "\n",
    "            plt.show()\n",
    "\n",
    "        else:\n",
    "            plt.figure()\n",
    "            plt.plot([0, 1], [random_pred_precision, random_pred_precision], linestyle='--', label='Random Prediction')\n",
    "            plt.step(recall[\"micro\"], precision[\"micro\"], where='post')\n",
    "\n",
    "            plt.xlabel('Recall')\n",
    "            plt.ylabel('Precision')\n",
    "\n",
    "            plt.ylim([0.0, 1.05])\n",
    "            plt.xlim([0.0, 1.0])\n",
    "            plt.title('Averaged Precision-Recall Curve')\n",
    "\n",
    "            if store:\n",
    "                if exp_name is None:\n",
    "                    print(\n",
    "                        \"Couldn't save PR curve plot because experiment name was not given! Please provide exp_name in arguments.\")\n",
    "                else:\n",
    "                    fname = f\"{exp_name}_prc.png\"\n",
    "                    plt.savefig(fname)\n",
    "                    print(f\"Stored Precision-Recall Curve: {fname}\")\n",
    "\n",
    "            plt.show()\n",
    "\n",
    "    def plot_data_distribution(self, data, normalize=True):\n",
    "        weights = np.array(self.get_counts_per_label(data))\n",
    "        if normalize:\n",
    "            weights = weights / sum(weights)\n",
    "\n",
    "        plt.bar(self.label_names, weights)\n",
    "        plt.xticks(self.label_names, rotation=90)\n",
    "        plt.title(\"Data Distribution\")\n",
    "        plt.xlabel(\"Label\")\n",
    "        plt.ylabel(\"Percentage of label in data\")\n",
    "        plt.show()\n",
    "\n",
    "        print(\"Label counts:\")\n",
    "        print(dict(zip(self.label_names, weights)))\n"
   ]
  },
  {
   "cell_type": "markdown",
   "metadata": {},
   "source": [
    "# TODO:\n",
    "- Adapt model evaluator code for binary classification setting and multi label classification\n",
    "- Write script for evaluating in all countries, not just mexico"
   ]
  },
  {
   "cell_type": "code",
   "execution_count": 16,
   "metadata": {},
   "outputs": [
    {
     "name": "stderr",
     "output_type": "stream",
     "text": [
      "  0%|          | 0/103 [00:00<?, ?it/s]"
     ]
    },
    {
     "name": "stdout",
     "output_type": "stream",
     "text": [
      "Analyzing Mexico  ...\n"
     ]
    },
    {
     "name": "stderr",
     "output_type": "stream",
     "text": [
      "100%|██████████| 103/103 [02:42<00:00,  1.58s/it]\n",
      "  0%|          | 0/69 [00:00<?, ?it/s]"
     ]
    },
    {
     "name": "stdout",
     "output_type": "stream",
     "text": [
      "Analyzing Peru  ...\n"
     ]
    },
    {
     "name": "stderr",
     "output_type": "stream",
     "text": [
      "100%|██████████| 69/69 [02:08<00:00,  1.87s/it]\n",
      "  0%|          | 0/60 [00:00<?, ?it/s]"
     ]
    },
    {
     "name": "stdout",
     "output_type": "stream",
     "text": [
      "Analyzing Chile  ...\n"
     ]
    },
    {
     "name": "stderr",
     "output_type": "stream",
     "text": [
      "100%|██████████| 60/60 [01:45<00:00,  1.76s/it]\n",
      "  0%|          | 0/68 [00:00<?, ?it/s]"
     ]
    },
    {
     "name": "stdout",
     "output_type": "stream",
     "text": [
      "Analyzing Guatemala  ...\n"
     ]
    },
    {
     "name": "stderr",
     "output_type": "stream",
     "text": [
      "100%|██████████| 68/68 [01:47<00:00,  1.58s/it]\n",
      "  0%|          | 0/55 [00:00<?, ?it/s]"
     ]
    },
    {
     "name": "stdout",
     "output_type": "stream",
     "text": [
      "Analyzing El Salvador ...\n"
     ]
    },
    {
     "name": "stderr",
     "output_type": "stream",
     "text": [
      "100%|██████████| 55/55 [02:05<00:00,  2.28s/it]\n",
      "  0%|          | 0/30 [00:00<?, ?it/s]"
     ]
    },
    {
     "name": "stdout",
     "output_type": "stream",
     "text": [
      "Analyzing El Salvador  - local ...\n"
     ]
    },
    {
     "name": "stderr",
     "output_type": "stream",
     "text": [
      "100%|██████████| 30/30 [00:48<00:00,  1.62s/it]\n"
     ]
    }
   ],
   "source": [
    "# Binary script for all countries\n",
    "LABELS = \"incentive, not an incentive\"\n",
    "bin_all_preds = {}\n",
    "bin_all_scores = {}\n",
    "\n",
    "for country, dataframe in df.items():\n",
    "    print(\"Analyzing\", country, \"...\")\n",
    "    col_name = 'Relevant Sentences (for Environment, Incentives, Land Type) '\n",
    "    sents = dataframe[col_name].dropna()\n",
    "    sents = sents.apply(lambda x : x.replace(\"\\n\", \"\").strip())\n",
    "    \n",
    "    labels = dataframe['Incentive Instrument']\n",
    "    binary_labels = labels.apply(lambda x: \"incentive\" if x != \"Unknown\" else \"not an incentive\")\n",
    "    dataframe['binary_label'] = binary_labels\n",
    "    \n",
    "    model_preds = []\n",
    "    scores = []\n",
    "    for sentence in tqdm(sents):\n",
    "        model_pred, score = classify_sentence(sentence, LABELS)\n",
    "        model_preds.append(model_pred)\n",
    "        scores.append(score)\n",
    "    \n",
    "    bin_all_preds[country] = model_preds\n",
    "    bin_all_scores[country] = scores\n",
    "    "
   ]
  },
  {
   "cell_type": "code",
   "execution_count": 20,
   "metadata": {
    "collapsed": true,
    "jupyter": {
     "outputs_hidden": true
    }
   },
   "outputs": [
    {
     "name": "stderr",
     "output_type": "stream",
     "text": [
      " 34%|███▍      | 35/103 [05:04<09:52,  8.71s/it]\n"
     ]
    },
    {
     "ename": "KeyboardInterrupt",
     "evalue": "",
     "output_type": "error",
     "traceback": [
      "\u001b[0;31m---------------------------------------------------------------------------\u001b[0m",
      "\u001b[0;31mKeyboardInterrupt\u001b[0m                         Traceback (most recent call last)",
      "\u001b[0;32m<ipython-input-20-f23315cc430c>\u001b[0m in \u001b[0;36m<module>\u001b[0;34m\u001b[0m\n\u001b[1;32m     15\u001b[0m     \u001b[0mscores\u001b[0m \u001b[0;34m=\u001b[0m \u001b[0;34m[\u001b[0m\u001b[0;34m]\u001b[0m\u001b[0;34m\u001b[0m\u001b[0;34m\u001b[0m\u001b[0m\n\u001b[1;32m     16\u001b[0m     \u001b[0;32mfor\u001b[0m \u001b[0msentence\u001b[0m \u001b[0;32min\u001b[0m \u001b[0mtqdm\u001b[0m\u001b[0;34m(\u001b[0m\u001b[0msents\u001b[0m\u001b[0;34m)\u001b[0m\u001b[0;34m:\u001b[0m\u001b[0;34m\u001b[0m\u001b[0;34m\u001b[0m\u001b[0m\n\u001b[0;32m---> 17\u001b[0;31m         \u001b[0mmodel_pred\u001b[0m\u001b[0;34m,\u001b[0m \u001b[0mscore\u001b[0m \u001b[0;34m=\u001b[0m \u001b[0mclassify_sentence\u001b[0m\u001b[0;34m(\u001b[0m\u001b[0msentence\u001b[0m\u001b[0;34m,\u001b[0m \u001b[0mLABELS\u001b[0m\u001b[0;34m)\u001b[0m\u001b[0;34m\u001b[0m\u001b[0;34m\u001b[0m\u001b[0m\n\u001b[0m\u001b[1;32m     18\u001b[0m         \u001b[0mmodel_preds\u001b[0m\u001b[0;34m.\u001b[0m\u001b[0mappend\u001b[0m\u001b[0;34m(\u001b[0m\u001b[0mmodel_pred\u001b[0m\u001b[0;34m)\u001b[0m\u001b[0;34m\u001b[0m\u001b[0;34m\u001b[0m\u001b[0m\n\u001b[1;32m     19\u001b[0m         \u001b[0mscores\u001b[0m\u001b[0;34m.\u001b[0m\u001b[0mappend\u001b[0m\u001b[0;34m(\u001b[0m\u001b[0mscore\u001b[0m\u001b[0;34m)\u001b[0m\u001b[0;34m\u001b[0m\u001b[0;34m\u001b[0m\u001b[0m\n",
      "\u001b[0;32m<ipython-input-3-404cad946e0d>\u001b[0m in \u001b[0;36mclassify_sentence\u001b[0;34m(sentence, labels, allow_multi_class, multi_class_thresh, all_probs)\u001b[0m\n\u001b[1;32m      4\u001b[0m \u001b[0;34m\u001b[0m\u001b[0m\n\u001b[1;32m      5\u001b[0m \u001b[0;32mdef\u001b[0m \u001b[0mclassify_sentence\u001b[0m\u001b[0;34m(\u001b[0m\u001b[0msentence\u001b[0m\u001b[0;34m,\u001b[0m \u001b[0mlabels\u001b[0m\u001b[0;34m,\u001b[0m \u001b[0mallow_multi_class\u001b[0m\u001b[0;34m=\u001b[0m\u001b[0;32mFalse\u001b[0m\u001b[0;34m,\u001b[0m \u001b[0mmulti_class_thresh\u001b[0m\u001b[0;34m=\u001b[0m\u001b[0;36m0.5\u001b[0m\u001b[0;34m,\u001b[0m \u001b[0mall_probs\u001b[0m\u001b[0;34m=\u001b[0m\u001b[0;32mFalse\u001b[0m\u001b[0;34m)\u001b[0m\u001b[0;34m:\u001b[0m\u001b[0;34m\u001b[0m\u001b[0;34m\u001b[0m\u001b[0m\n\u001b[0;32m----> 6\u001b[0;31m     result = classifier(sentence, labels,\n\u001b[0m\u001b[1;32m      7\u001b[0m            \u001b[0mhypothesis_template\u001b[0m\u001b[0;34m=\u001b[0m\u001b[0mHYPOTHESIS_TEMPLATE\u001b[0m\u001b[0;34m,\u001b[0m\u001b[0;34m\u001b[0m\u001b[0;34m\u001b[0m\u001b[0m\n\u001b[1;32m      8\u001b[0m            multi_class=allow_multi_class)\n",
      "\u001b[0;32m~/miniconda3/envs/wri_env/lib/python3.8/site-packages/transformers/pipelines.py\u001b[0m in \u001b[0;36m__call__\u001b[0;34m(self, sequences, candidate_labels, hypothesis_template, multi_class)\u001b[0m\n\u001b[1;32m   1091\u001b[0m             \u001b[0;34m-\u001b[0m \u001b[0;34m**\u001b[0m\u001b[0mscores\u001b[0m\u001b[0;34m**\u001b[0m \u001b[0;34m(\u001b[0m\u001b[0;34m:\u001b[0m\u001b[0mobj\u001b[0m\u001b[0;34m:\u001b[0m\u001b[0;31m`\u001b[0m\u001b[0mList\u001b[0m\u001b[0;34m[\u001b[0m\u001b[0mfloat\u001b[0m\u001b[0;34m]\u001b[0m\u001b[0;31m`\u001b[0m\u001b[0;34m)\u001b[0m \u001b[0;34m-\u001b[0m\u001b[0;34m-\u001b[0m \u001b[0mThe\u001b[0m \u001b[0mprobabilities\u001b[0m \u001b[0;32mfor\u001b[0m \u001b[0meach\u001b[0m \u001b[0mof\u001b[0m \u001b[0mthe\u001b[0m \u001b[0mlabels\u001b[0m\u001b[0;34m.\u001b[0m\u001b[0;34m\u001b[0m\u001b[0;34m\u001b[0m\u001b[0m\n\u001b[1;32m   1092\u001b[0m         \"\"\"\n\u001b[0;32m-> 1093\u001b[0;31m         \u001b[0moutputs\u001b[0m \u001b[0;34m=\u001b[0m \u001b[0msuper\u001b[0m\u001b[0;34m(\u001b[0m\u001b[0;34m)\u001b[0m\u001b[0;34m.\u001b[0m\u001b[0m__call__\u001b[0m\u001b[0;34m(\u001b[0m\u001b[0msequences\u001b[0m\u001b[0;34m,\u001b[0m \u001b[0mcandidate_labels\u001b[0m\u001b[0;34m,\u001b[0m \u001b[0mhypothesis_template\u001b[0m\u001b[0;34m)\u001b[0m\u001b[0;34m\u001b[0m\u001b[0;34m\u001b[0m\u001b[0m\n\u001b[0m\u001b[1;32m   1094\u001b[0m         \u001b[0mnum_sequences\u001b[0m \u001b[0;34m=\u001b[0m \u001b[0;36m1\u001b[0m \u001b[0;32mif\u001b[0m \u001b[0misinstance\u001b[0m\u001b[0;34m(\u001b[0m\u001b[0msequences\u001b[0m\u001b[0;34m,\u001b[0m \u001b[0mstr\u001b[0m\u001b[0;34m)\u001b[0m \u001b[0;32melse\u001b[0m \u001b[0mlen\u001b[0m\u001b[0;34m(\u001b[0m\u001b[0msequences\u001b[0m\u001b[0;34m)\u001b[0m\u001b[0;34m\u001b[0m\u001b[0;34m\u001b[0m\u001b[0m\n\u001b[1;32m   1095\u001b[0m         \u001b[0mcandidate_labels\u001b[0m \u001b[0;34m=\u001b[0m \u001b[0mself\u001b[0m\u001b[0;34m.\u001b[0m\u001b[0m_args_parser\u001b[0m\u001b[0;34m.\u001b[0m\u001b[0m_parse_labels\u001b[0m\u001b[0;34m(\u001b[0m\u001b[0mcandidate_labels\u001b[0m\u001b[0;34m)\u001b[0m\u001b[0;34m\u001b[0m\u001b[0;34m\u001b[0m\u001b[0m\n",
      "\u001b[0;32m~/miniconda3/envs/wri_env/lib/python3.8/site-packages/transformers/pipelines.py\u001b[0m in \u001b[0;36m__call__\u001b[0;34m(self, *args, **kwargs)\u001b[0m\n\u001b[1;32m    639\u001b[0m     \u001b[0;32mdef\u001b[0m \u001b[0m__call__\u001b[0m\u001b[0;34m(\u001b[0m\u001b[0mself\u001b[0m\u001b[0;34m,\u001b[0m \u001b[0;34m*\u001b[0m\u001b[0margs\u001b[0m\u001b[0;34m,\u001b[0m \u001b[0;34m**\u001b[0m\u001b[0mkwargs\u001b[0m\u001b[0;34m)\u001b[0m\u001b[0;34m:\u001b[0m\u001b[0;34m\u001b[0m\u001b[0;34m\u001b[0m\u001b[0m\n\u001b[1;32m    640\u001b[0m         \u001b[0minputs\u001b[0m \u001b[0;34m=\u001b[0m \u001b[0mself\u001b[0m\u001b[0;34m.\u001b[0m\u001b[0m_parse_and_tokenize\u001b[0m\u001b[0;34m(\u001b[0m\u001b[0;34m*\u001b[0m\u001b[0margs\u001b[0m\u001b[0;34m,\u001b[0m \u001b[0;34m**\u001b[0m\u001b[0mkwargs\u001b[0m\u001b[0;34m)\u001b[0m\u001b[0;34m\u001b[0m\u001b[0;34m\u001b[0m\u001b[0m\n\u001b[0;32m--> 641\u001b[0;31m         \u001b[0;32mreturn\u001b[0m \u001b[0mself\u001b[0m\u001b[0;34m.\u001b[0m\u001b[0m_forward\u001b[0m\u001b[0;34m(\u001b[0m\u001b[0minputs\u001b[0m\u001b[0;34m)\u001b[0m\u001b[0;34m\u001b[0m\u001b[0;34m\u001b[0m\u001b[0m\n\u001b[0m\u001b[1;32m    642\u001b[0m \u001b[0;34m\u001b[0m\u001b[0m\n\u001b[1;32m    643\u001b[0m     \u001b[0;32mdef\u001b[0m \u001b[0m_forward\u001b[0m\u001b[0;34m(\u001b[0m\u001b[0mself\u001b[0m\u001b[0;34m,\u001b[0m \u001b[0minputs\u001b[0m\u001b[0;34m,\u001b[0m \u001b[0mreturn_tensors\u001b[0m\u001b[0;34m=\u001b[0m\u001b[0;32mFalse\u001b[0m\u001b[0;34m)\u001b[0m\u001b[0;34m:\u001b[0m\u001b[0;34m\u001b[0m\u001b[0;34m\u001b[0m\u001b[0m\n",
      "\u001b[0;32m~/miniconda3/envs/wri_env/lib/python3.8/site-packages/transformers/pipelines.py\u001b[0m in \u001b[0;36m_forward\u001b[0;34m(self, inputs, return_tensors)\u001b[0m\n\u001b[1;32m    658\u001b[0m                 \u001b[0;32mwith\u001b[0m \u001b[0mtorch\u001b[0m\u001b[0;34m.\u001b[0m\u001b[0mno_grad\u001b[0m\u001b[0;34m(\u001b[0m\u001b[0;34m)\u001b[0m\u001b[0;34m:\u001b[0m\u001b[0;34m\u001b[0m\u001b[0;34m\u001b[0m\u001b[0m\n\u001b[1;32m    659\u001b[0m                     \u001b[0minputs\u001b[0m \u001b[0;34m=\u001b[0m \u001b[0mself\u001b[0m\u001b[0;34m.\u001b[0m\u001b[0mensure_tensor_on_device\u001b[0m\u001b[0;34m(\u001b[0m\u001b[0;34m**\u001b[0m\u001b[0minputs\u001b[0m\u001b[0;34m)\u001b[0m\u001b[0;34m\u001b[0m\u001b[0;34m\u001b[0m\u001b[0m\n\u001b[0;32m--> 660\u001b[0;31m                     \u001b[0mpredictions\u001b[0m \u001b[0;34m=\u001b[0m \u001b[0mself\u001b[0m\u001b[0;34m.\u001b[0m\u001b[0mmodel\u001b[0m\u001b[0;34m(\u001b[0m\u001b[0;34m**\u001b[0m\u001b[0minputs\u001b[0m\u001b[0;34m)\u001b[0m\u001b[0;34m[\u001b[0m\u001b[0;36m0\u001b[0m\u001b[0;34m]\u001b[0m\u001b[0;34m.\u001b[0m\u001b[0mcpu\u001b[0m\u001b[0;34m(\u001b[0m\u001b[0;34m)\u001b[0m\u001b[0;34m\u001b[0m\u001b[0;34m\u001b[0m\u001b[0m\n\u001b[0m\u001b[1;32m    661\u001b[0m \u001b[0;34m\u001b[0m\u001b[0m\n\u001b[1;32m    662\u001b[0m         \u001b[0;32mif\u001b[0m \u001b[0mreturn_tensors\u001b[0m\u001b[0;34m:\u001b[0m\u001b[0;34m\u001b[0m\u001b[0;34m\u001b[0m\u001b[0m\n",
      "\u001b[0;32m~/miniconda3/envs/wri_env/lib/python3.8/site-packages/torch/nn/modules/module.py\u001b[0m in \u001b[0;36m_call_impl\u001b[0;34m(self, *input, **kwargs)\u001b[0m\n\u001b[1;32m    725\u001b[0m             \u001b[0mresult\u001b[0m \u001b[0;34m=\u001b[0m \u001b[0mself\u001b[0m\u001b[0;34m.\u001b[0m\u001b[0m_slow_forward\u001b[0m\u001b[0;34m(\u001b[0m\u001b[0;34m*\u001b[0m\u001b[0minput\u001b[0m\u001b[0;34m,\u001b[0m \u001b[0;34m**\u001b[0m\u001b[0mkwargs\u001b[0m\u001b[0;34m)\u001b[0m\u001b[0;34m\u001b[0m\u001b[0;34m\u001b[0m\u001b[0m\n\u001b[1;32m    726\u001b[0m         \u001b[0;32melse\u001b[0m\u001b[0;34m:\u001b[0m\u001b[0;34m\u001b[0m\u001b[0;34m\u001b[0m\u001b[0m\n\u001b[0;32m--> 727\u001b[0;31m             \u001b[0mresult\u001b[0m \u001b[0;34m=\u001b[0m \u001b[0mself\u001b[0m\u001b[0;34m.\u001b[0m\u001b[0mforward\u001b[0m\u001b[0;34m(\u001b[0m\u001b[0;34m*\u001b[0m\u001b[0minput\u001b[0m\u001b[0;34m,\u001b[0m \u001b[0;34m**\u001b[0m\u001b[0mkwargs\u001b[0m\u001b[0;34m)\u001b[0m\u001b[0;34m\u001b[0m\u001b[0;34m\u001b[0m\u001b[0m\n\u001b[0m\u001b[1;32m    728\u001b[0m         for hook in itertools.chain(\n\u001b[1;32m    729\u001b[0m                 \u001b[0m_global_forward_hooks\u001b[0m\u001b[0;34m.\u001b[0m\u001b[0mvalues\u001b[0m\u001b[0;34m(\u001b[0m\u001b[0;34m)\u001b[0m\u001b[0;34m,\u001b[0m\u001b[0;34m\u001b[0m\u001b[0;34m\u001b[0m\u001b[0m\n",
      "\u001b[0;32m~/miniconda3/envs/wri_env/lib/python3.8/site-packages/transformers/modeling_roberta.py\u001b[0m in \u001b[0;36mforward\u001b[0;34m(self, input_ids, attention_mask, token_type_ids, position_ids, head_mask, inputs_embeds, labels, output_attentions, output_hidden_states, return_dict)\u001b[0m\n\u001b[1;32m    987\u001b[0m         \u001b[0mreturn_dict\u001b[0m \u001b[0;34m=\u001b[0m \u001b[0mreturn_dict\u001b[0m \u001b[0;32mif\u001b[0m \u001b[0mreturn_dict\u001b[0m \u001b[0;32mis\u001b[0m \u001b[0;32mnot\u001b[0m \u001b[0;32mNone\u001b[0m \u001b[0;32melse\u001b[0m \u001b[0mself\u001b[0m\u001b[0;34m.\u001b[0m\u001b[0mconfig\u001b[0m\u001b[0;34m.\u001b[0m\u001b[0muse_return_dict\u001b[0m\u001b[0;34m\u001b[0m\u001b[0;34m\u001b[0m\u001b[0m\n\u001b[1;32m    988\u001b[0m \u001b[0;34m\u001b[0m\u001b[0m\n\u001b[0;32m--> 989\u001b[0;31m         outputs = self.roberta(\n\u001b[0m\u001b[1;32m    990\u001b[0m             \u001b[0minput_ids\u001b[0m\u001b[0;34m,\u001b[0m\u001b[0;34m\u001b[0m\u001b[0;34m\u001b[0m\u001b[0m\n\u001b[1;32m    991\u001b[0m             \u001b[0mattention_mask\u001b[0m\u001b[0;34m=\u001b[0m\u001b[0mattention_mask\u001b[0m\u001b[0;34m,\u001b[0m\u001b[0;34m\u001b[0m\u001b[0;34m\u001b[0m\u001b[0m\n",
      "\u001b[0;32m~/miniconda3/envs/wri_env/lib/python3.8/site-packages/torch/nn/modules/module.py\u001b[0m in \u001b[0;36m_call_impl\u001b[0;34m(self, *input, **kwargs)\u001b[0m\n\u001b[1;32m    725\u001b[0m             \u001b[0mresult\u001b[0m \u001b[0;34m=\u001b[0m \u001b[0mself\u001b[0m\u001b[0;34m.\u001b[0m\u001b[0m_slow_forward\u001b[0m\u001b[0;34m(\u001b[0m\u001b[0;34m*\u001b[0m\u001b[0minput\u001b[0m\u001b[0;34m,\u001b[0m \u001b[0;34m**\u001b[0m\u001b[0mkwargs\u001b[0m\u001b[0;34m)\u001b[0m\u001b[0;34m\u001b[0m\u001b[0;34m\u001b[0m\u001b[0m\n\u001b[1;32m    726\u001b[0m         \u001b[0;32melse\u001b[0m\u001b[0;34m:\u001b[0m\u001b[0;34m\u001b[0m\u001b[0;34m\u001b[0m\u001b[0m\n\u001b[0;32m--> 727\u001b[0;31m             \u001b[0mresult\u001b[0m \u001b[0;34m=\u001b[0m \u001b[0mself\u001b[0m\u001b[0;34m.\u001b[0m\u001b[0mforward\u001b[0m\u001b[0;34m(\u001b[0m\u001b[0;34m*\u001b[0m\u001b[0minput\u001b[0m\u001b[0;34m,\u001b[0m \u001b[0;34m**\u001b[0m\u001b[0mkwargs\u001b[0m\u001b[0;34m)\u001b[0m\u001b[0;34m\u001b[0m\u001b[0;34m\u001b[0m\u001b[0m\n\u001b[0m\u001b[1;32m    728\u001b[0m         for hook in itertools.chain(\n\u001b[1;32m    729\u001b[0m                 \u001b[0m_global_forward_hooks\u001b[0m\u001b[0;34m.\u001b[0m\u001b[0mvalues\u001b[0m\u001b[0;34m(\u001b[0m\u001b[0;34m)\u001b[0m\u001b[0;34m,\u001b[0m\u001b[0;34m\u001b[0m\u001b[0;34m\u001b[0m\u001b[0m\n",
      "\u001b[0;32m~/miniconda3/envs/wri_env/lib/python3.8/site-packages/transformers/modeling_roberta.py\u001b[0m in \u001b[0;36mforward\u001b[0;34m(self, input_ids, attention_mask, token_type_ids, position_ids, head_mask, inputs_embeds, encoder_hidden_states, encoder_attention_mask, output_attentions, output_hidden_states, return_dict)\u001b[0m\n\u001b[1;32m    675\u001b[0m             \u001b[0minput_ids\u001b[0m\u001b[0;34m=\u001b[0m\u001b[0minput_ids\u001b[0m\u001b[0;34m,\u001b[0m \u001b[0mposition_ids\u001b[0m\u001b[0;34m=\u001b[0m\u001b[0mposition_ids\u001b[0m\u001b[0;34m,\u001b[0m \u001b[0mtoken_type_ids\u001b[0m\u001b[0;34m=\u001b[0m\u001b[0mtoken_type_ids\u001b[0m\u001b[0;34m,\u001b[0m \u001b[0minputs_embeds\u001b[0m\u001b[0;34m=\u001b[0m\u001b[0minputs_embeds\u001b[0m\u001b[0;34m\u001b[0m\u001b[0;34m\u001b[0m\u001b[0m\n\u001b[1;32m    676\u001b[0m         )\n\u001b[0;32m--> 677\u001b[0;31m         encoder_outputs = self.encoder(\n\u001b[0m\u001b[1;32m    678\u001b[0m             \u001b[0membedding_output\u001b[0m\u001b[0;34m,\u001b[0m\u001b[0;34m\u001b[0m\u001b[0;34m\u001b[0m\u001b[0m\n\u001b[1;32m    679\u001b[0m             \u001b[0mattention_mask\u001b[0m\u001b[0;34m=\u001b[0m\u001b[0mextended_attention_mask\u001b[0m\u001b[0;34m,\u001b[0m\u001b[0;34m\u001b[0m\u001b[0;34m\u001b[0m\u001b[0m\n",
      "\u001b[0;32m~/miniconda3/envs/wri_env/lib/python3.8/site-packages/torch/nn/modules/module.py\u001b[0m in \u001b[0;36m_call_impl\u001b[0;34m(self, *input, **kwargs)\u001b[0m\n\u001b[1;32m    725\u001b[0m             \u001b[0mresult\u001b[0m \u001b[0;34m=\u001b[0m \u001b[0mself\u001b[0m\u001b[0;34m.\u001b[0m\u001b[0m_slow_forward\u001b[0m\u001b[0;34m(\u001b[0m\u001b[0;34m*\u001b[0m\u001b[0minput\u001b[0m\u001b[0;34m,\u001b[0m \u001b[0;34m**\u001b[0m\u001b[0mkwargs\u001b[0m\u001b[0;34m)\u001b[0m\u001b[0;34m\u001b[0m\u001b[0;34m\u001b[0m\u001b[0m\n\u001b[1;32m    726\u001b[0m         \u001b[0;32melse\u001b[0m\u001b[0;34m:\u001b[0m\u001b[0;34m\u001b[0m\u001b[0;34m\u001b[0m\u001b[0m\n\u001b[0;32m--> 727\u001b[0;31m             \u001b[0mresult\u001b[0m \u001b[0;34m=\u001b[0m \u001b[0mself\u001b[0m\u001b[0;34m.\u001b[0m\u001b[0mforward\u001b[0m\u001b[0;34m(\u001b[0m\u001b[0;34m*\u001b[0m\u001b[0minput\u001b[0m\u001b[0;34m,\u001b[0m \u001b[0;34m**\u001b[0m\u001b[0mkwargs\u001b[0m\u001b[0;34m)\u001b[0m\u001b[0;34m\u001b[0m\u001b[0;34m\u001b[0m\u001b[0m\n\u001b[0m\u001b[1;32m    728\u001b[0m         for hook in itertools.chain(\n\u001b[1;32m    729\u001b[0m                 \u001b[0m_global_forward_hooks\u001b[0m\u001b[0;34m.\u001b[0m\u001b[0mvalues\u001b[0m\u001b[0;34m(\u001b[0m\u001b[0;34m)\u001b[0m\u001b[0;34m,\u001b[0m\u001b[0;34m\u001b[0m\u001b[0;34m\u001b[0m\u001b[0m\n",
      "\u001b[0;32m~/miniconda3/envs/wri_env/lib/python3.8/site-packages/transformers/modeling_roberta.py\u001b[0m in \u001b[0;36mforward\u001b[0;34m(self, hidden_states, attention_mask, head_mask, encoder_hidden_states, encoder_attention_mask, output_attentions, output_hidden_states, return_dict)\u001b[0m\n\u001b[1;32m    416\u001b[0m                 )\n\u001b[1;32m    417\u001b[0m             \u001b[0;32melse\u001b[0m\u001b[0;34m:\u001b[0m\u001b[0;34m\u001b[0m\u001b[0;34m\u001b[0m\u001b[0m\n\u001b[0;32m--> 418\u001b[0;31m                 layer_outputs = layer_module(\n\u001b[0m\u001b[1;32m    419\u001b[0m                     \u001b[0mhidden_states\u001b[0m\u001b[0;34m,\u001b[0m\u001b[0;34m\u001b[0m\u001b[0;34m\u001b[0m\u001b[0m\n\u001b[1;32m    420\u001b[0m                     \u001b[0mattention_mask\u001b[0m\u001b[0;34m,\u001b[0m\u001b[0;34m\u001b[0m\u001b[0;34m\u001b[0m\u001b[0m\n",
      "\u001b[0;32m~/miniconda3/envs/wri_env/lib/python3.8/site-packages/torch/nn/modules/module.py\u001b[0m in \u001b[0;36m_call_impl\u001b[0;34m(self, *input, **kwargs)\u001b[0m\n\u001b[1;32m    725\u001b[0m             \u001b[0mresult\u001b[0m \u001b[0;34m=\u001b[0m \u001b[0mself\u001b[0m\u001b[0;34m.\u001b[0m\u001b[0m_slow_forward\u001b[0m\u001b[0;34m(\u001b[0m\u001b[0;34m*\u001b[0m\u001b[0minput\u001b[0m\u001b[0;34m,\u001b[0m \u001b[0;34m**\u001b[0m\u001b[0mkwargs\u001b[0m\u001b[0;34m)\u001b[0m\u001b[0;34m\u001b[0m\u001b[0;34m\u001b[0m\u001b[0m\n\u001b[1;32m    726\u001b[0m         \u001b[0;32melse\u001b[0m\u001b[0;34m:\u001b[0m\u001b[0;34m\u001b[0m\u001b[0;34m\u001b[0m\u001b[0m\n\u001b[0;32m--> 727\u001b[0;31m             \u001b[0mresult\u001b[0m \u001b[0;34m=\u001b[0m \u001b[0mself\u001b[0m\u001b[0;34m.\u001b[0m\u001b[0mforward\u001b[0m\u001b[0;34m(\u001b[0m\u001b[0;34m*\u001b[0m\u001b[0minput\u001b[0m\u001b[0;34m,\u001b[0m \u001b[0;34m**\u001b[0m\u001b[0mkwargs\u001b[0m\u001b[0;34m)\u001b[0m\u001b[0;34m\u001b[0m\u001b[0;34m\u001b[0m\u001b[0m\n\u001b[0m\u001b[1;32m    728\u001b[0m         for hook in itertools.chain(\n\u001b[1;32m    729\u001b[0m                 \u001b[0m_global_forward_hooks\u001b[0m\u001b[0;34m.\u001b[0m\u001b[0mvalues\u001b[0m\u001b[0;34m(\u001b[0m\u001b[0;34m)\u001b[0m\u001b[0;34m,\u001b[0m\u001b[0;34m\u001b[0m\u001b[0;34m\u001b[0m\u001b[0m\n",
      "\u001b[0;32m~/miniconda3/envs/wri_env/lib/python3.8/site-packages/transformers/modeling_roberta.py\u001b[0m in \u001b[0;36mforward\u001b[0;34m(self, hidden_states, attention_mask, head_mask, encoder_hidden_states, encoder_attention_mask, output_attentions)\u001b[0m\n\u001b[1;32m    337\u001b[0m         \u001b[0moutput_attentions\u001b[0m\u001b[0;34m=\u001b[0m\u001b[0;32mFalse\u001b[0m\u001b[0;34m,\u001b[0m\u001b[0;34m\u001b[0m\u001b[0;34m\u001b[0m\u001b[0m\n\u001b[1;32m    338\u001b[0m     ):\n\u001b[0;32m--> 339\u001b[0;31m         self_attention_outputs = self.attention(\n\u001b[0m\u001b[1;32m    340\u001b[0m             \u001b[0mhidden_states\u001b[0m\u001b[0;34m,\u001b[0m\u001b[0;34m\u001b[0m\u001b[0;34m\u001b[0m\u001b[0m\n\u001b[1;32m    341\u001b[0m             \u001b[0mattention_mask\u001b[0m\u001b[0;34m,\u001b[0m\u001b[0;34m\u001b[0m\u001b[0;34m\u001b[0m\u001b[0m\n",
      "\u001b[0;32m~/miniconda3/envs/wri_env/lib/python3.8/site-packages/torch/nn/modules/module.py\u001b[0m in \u001b[0;36m_call_impl\u001b[0;34m(self, *input, **kwargs)\u001b[0m\n\u001b[1;32m    725\u001b[0m             \u001b[0mresult\u001b[0m \u001b[0;34m=\u001b[0m \u001b[0mself\u001b[0m\u001b[0;34m.\u001b[0m\u001b[0m_slow_forward\u001b[0m\u001b[0;34m(\u001b[0m\u001b[0;34m*\u001b[0m\u001b[0minput\u001b[0m\u001b[0;34m,\u001b[0m \u001b[0;34m**\u001b[0m\u001b[0mkwargs\u001b[0m\u001b[0;34m)\u001b[0m\u001b[0;34m\u001b[0m\u001b[0;34m\u001b[0m\u001b[0m\n\u001b[1;32m    726\u001b[0m         \u001b[0;32melse\u001b[0m\u001b[0;34m:\u001b[0m\u001b[0;34m\u001b[0m\u001b[0;34m\u001b[0m\u001b[0m\n\u001b[0;32m--> 727\u001b[0;31m             \u001b[0mresult\u001b[0m \u001b[0;34m=\u001b[0m \u001b[0mself\u001b[0m\u001b[0;34m.\u001b[0m\u001b[0mforward\u001b[0m\u001b[0;34m(\u001b[0m\u001b[0;34m*\u001b[0m\u001b[0minput\u001b[0m\u001b[0;34m,\u001b[0m \u001b[0;34m**\u001b[0m\u001b[0mkwargs\u001b[0m\u001b[0;34m)\u001b[0m\u001b[0;34m\u001b[0m\u001b[0;34m\u001b[0m\u001b[0m\n\u001b[0m\u001b[1;32m    728\u001b[0m         for hook in itertools.chain(\n\u001b[1;32m    729\u001b[0m                 \u001b[0m_global_forward_hooks\u001b[0m\u001b[0;34m.\u001b[0m\u001b[0mvalues\u001b[0m\u001b[0;34m(\u001b[0m\u001b[0;34m)\u001b[0m\u001b[0;34m,\u001b[0m\u001b[0;34m\u001b[0m\u001b[0;34m\u001b[0m\u001b[0m\n",
      "\u001b[0;32m~/miniconda3/envs/wri_env/lib/python3.8/site-packages/transformers/modeling_roberta.py\u001b[0m in \u001b[0;36mforward\u001b[0;34m(self, hidden_states, attention_mask, head_mask, encoder_hidden_states, encoder_attention_mask, output_attentions)\u001b[0m\n\u001b[1;32m    269\u001b[0m         \u001b[0moutput_attentions\u001b[0m\u001b[0;34m=\u001b[0m\u001b[0;32mFalse\u001b[0m\u001b[0;34m,\u001b[0m\u001b[0;34m\u001b[0m\u001b[0;34m\u001b[0m\u001b[0m\n\u001b[1;32m    270\u001b[0m     ):\n\u001b[0;32m--> 271\u001b[0;31m         self_outputs = self.self(\n\u001b[0m\u001b[1;32m    272\u001b[0m             \u001b[0mhidden_states\u001b[0m\u001b[0;34m,\u001b[0m\u001b[0;34m\u001b[0m\u001b[0;34m\u001b[0m\u001b[0m\n\u001b[1;32m    273\u001b[0m             \u001b[0mattention_mask\u001b[0m\u001b[0;34m,\u001b[0m\u001b[0;34m\u001b[0m\u001b[0;34m\u001b[0m\u001b[0m\n",
      "\u001b[0;32m~/miniconda3/envs/wri_env/lib/python3.8/site-packages/torch/nn/modules/module.py\u001b[0m in \u001b[0;36m_call_impl\u001b[0;34m(self, *input, **kwargs)\u001b[0m\n\u001b[1;32m    725\u001b[0m             \u001b[0mresult\u001b[0m \u001b[0;34m=\u001b[0m \u001b[0mself\u001b[0m\u001b[0;34m.\u001b[0m\u001b[0m_slow_forward\u001b[0m\u001b[0;34m(\u001b[0m\u001b[0;34m*\u001b[0m\u001b[0minput\u001b[0m\u001b[0;34m,\u001b[0m \u001b[0;34m**\u001b[0m\u001b[0mkwargs\u001b[0m\u001b[0;34m)\u001b[0m\u001b[0;34m\u001b[0m\u001b[0;34m\u001b[0m\u001b[0m\n\u001b[1;32m    726\u001b[0m         \u001b[0;32melse\u001b[0m\u001b[0;34m:\u001b[0m\u001b[0;34m\u001b[0m\u001b[0;34m\u001b[0m\u001b[0m\n\u001b[0;32m--> 727\u001b[0;31m             \u001b[0mresult\u001b[0m \u001b[0;34m=\u001b[0m \u001b[0mself\u001b[0m\u001b[0;34m.\u001b[0m\u001b[0mforward\u001b[0m\u001b[0;34m(\u001b[0m\u001b[0;34m*\u001b[0m\u001b[0minput\u001b[0m\u001b[0;34m,\u001b[0m \u001b[0;34m**\u001b[0m\u001b[0mkwargs\u001b[0m\u001b[0;34m)\u001b[0m\u001b[0;34m\u001b[0m\u001b[0;34m\u001b[0m\u001b[0m\n\u001b[0m\u001b[1;32m    728\u001b[0m         for hook in itertools.chain(\n\u001b[1;32m    729\u001b[0m                 \u001b[0m_global_forward_hooks\u001b[0m\u001b[0;34m.\u001b[0m\u001b[0mvalues\u001b[0m\u001b[0;34m(\u001b[0m\u001b[0;34m)\u001b[0m\u001b[0;34m,\u001b[0m\u001b[0;34m\u001b[0m\u001b[0;34m\u001b[0m\u001b[0m\n",
      "\u001b[0;32m~/miniconda3/envs/wri_env/lib/python3.8/site-packages/transformers/modeling_roberta.py\u001b[0m in \u001b[0;36mforward\u001b[0;34m(self, hidden_states, attention_mask, head_mask, encoder_hidden_states, encoder_attention_mask, output_attentions)\u001b[0m\n\u001b[1;32m    184\u001b[0m             \u001b[0mattention_mask\u001b[0m \u001b[0;34m=\u001b[0m \u001b[0mencoder_attention_mask\u001b[0m\u001b[0;34m\u001b[0m\u001b[0;34m\u001b[0m\u001b[0m\n\u001b[1;32m    185\u001b[0m         \u001b[0;32melse\u001b[0m\u001b[0;34m:\u001b[0m\u001b[0;34m\u001b[0m\u001b[0;34m\u001b[0m\u001b[0m\n\u001b[0;32m--> 186\u001b[0;31m             \u001b[0mmixed_key_layer\u001b[0m \u001b[0;34m=\u001b[0m \u001b[0mself\u001b[0m\u001b[0;34m.\u001b[0m\u001b[0mkey\u001b[0m\u001b[0;34m(\u001b[0m\u001b[0mhidden_states\u001b[0m\u001b[0;34m)\u001b[0m\u001b[0;34m\u001b[0m\u001b[0;34m\u001b[0m\u001b[0m\n\u001b[0m\u001b[1;32m    187\u001b[0m             \u001b[0mmixed_value_layer\u001b[0m \u001b[0;34m=\u001b[0m \u001b[0mself\u001b[0m\u001b[0;34m.\u001b[0m\u001b[0mvalue\u001b[0m\u001b[0;34m(\u001b[0m\u001b[0mhidden_states\u001b[0m\u001b[0;34m)\u001b[0m\u001b[0;34m\u001b[0m\u001b[0;34m\u001b[0m\u001b[0m\n\u001b[1;32m    188\u001b[0m \u001b[0;34m\u001b[0m\u001b[0m\n",
      "\u001b[0;32m~/miniconda3/envs/wri_env/lib/python3.8/site-packages/torch/nn/modules/module.py\u001b[0m in \u001b[0;36m_call_impl\u001b[0;34m(self, *input, **kwargs)\u001b[0m\n\u001b[1;32m    725\u001b[0m             \u001b[0mresult\u001b[0m \u001b[0;34m=\u001b[0m \u001b[0mself\u001b[0m\u001b[0;34m.\u001b[0m\u001b[0m_slow_forward\u001b[0m\u001b[0;34m(\u001b[0m\u001b[0;34m*\u001b[0m\u001b[0minput\u001b[0m\u001b[0;34m,\u001b[0m \u001b[0;34m**\u001b[0m\u001b[0mkwargs\u001b[0m\u001b[0;34m)\u001b[0m\u001b[0;34m\u001b[0m\u001b[0;34m\u001b[0m\u001b[0m\n\u001b[1;32m    726\u001b[0m         \u001b[0;32melse\u001b[0m\u001b[0;34m:\u001b[0m\u001b[0;34m\u001b[0m\u001b[0;34m\u001b[0m\u001b[0m\n\u001b[0;32m--> 727\u001b[0;31m             \u001b[0mresult\u001b[0m \u001b[0;34m=\u001b[0m \u001b[0mself\u001b[0m\u001b[0;34m.\u001b[0m\u001b[0mforward\u001b[0m\u001b[0;34m(\u001b[0m\u001b[0;34m*\u001b[0m\u001b[0minput\u001b[0m\u001b[0;34m,\u001b[0m \u001b[0;34m**\u001b[0m\u001b[0mkwargs\u001b[0m\u001b[0;34m)\u001b[0m\u001b[0;34m\u001b[0m\u001b[0;34m\u001b[0m\u001b[0m\n\u001b[0m\u001b[1;32m    728\u001b[0m         for hook in itertools.chain(\n\u001b[1;32m    729\u001b[0m                 \u001b[0m_global_forward_hooks\u001b[0m\u001b[0;34m.\u001b[0m\u001b[0mvalues\u001b[0m\u001b[0;34m(\u001b[0m\u001b[0;34m)\u001b[0m\u001b[0;34m,\u001b[0m\u001b[0;34m\u001b[0m\u001b[0;34m\u001b[0m\u001b[0m\n",
      "\u001b[0;32m~/miniconda3/envs/wri_env/lib/python3.8/site-packages/torch/nn/modules/linear.py\u001b[0m in \u001b[0;36mforward\u001b[0;34m(self, input)\u001b[0m\n\u001b[1;32m     91\u001b[0m \u001b[0;34m\u001b[0m\u001b[0m\n\u001b[1;32m     92\u001b[0m     \u001b[0;32mdef\u001b[0m \u001b[0mforward\u001b[0m\u001b[0;34m(\u001b[0m\u001b[0mself\u001b[0m\u001b[0;34m,\u001b[0m \u001b[0minput\u001b[0m\u001b[0;34m:\u001b[0m \u001b[0mTensor\u001b[0m\u001b[0;34m)\u001b[0m \u001b[0;34m->\u001b[0m \u001b[0mTensor\u001b[0m\u001b[0;34m:\u001b[0m\u001b[0;34m\u001b[0m\u001b[0;34m\u001b[0m\u001b[0m\n\u001b[0;32m---> 93\u001b[0;31m         \u001b[0;32mreturn\u001b[0m \u001b[0mF\u001b[0m\u001b[0;34m.\u001b[0m\u001b[0mlinear\u001b[0m\u001b[0;34m(\u001b[0m\u001b[0minput\u001b[0m\u001b[0;34m,\u001b[0m \u001b[0mself\u001b[0m\u001b[0;34m.\u001b[0m\u001b[0mweight\u001b[0m\u001b[0;34m,\u001b[0m \u001b[0mself\u001b[0m\u001b[0;34m.\u001b[0m\u001b[0mbias\u001b[0m\u001b[0;34m)\u001b[0m\u001b[0;34m\u001b[0m\u001b[0;34m\u001b[0m\u001b[0m\n\u001b[0m\u001b[1;32m     94\u001b[0m \u001b[0;34m\u001b[0m\u001b[0m\n\u001b[1;32m     95\u001b[0m     \u001b[0;32mdef\u001b[0m \u001b[0mextra_repr\u001b[0m\u001b[0;34m(\u001b[0m\u001b[0mself\u001b[0m\u001b[0;34m)\u001b[0m \u001b[0;34m->\u001b[0m \u001b[0mstr\u001b[0m\u001b[0;34m:\u001b[0m\u001b[0;34m\u001b[0m\u001b[0;34m\u001b[0m\u001b[0m\n",
      "\u001b[0;32m~/miniconda3/envs/wri_env/lib/python3.8/site-packages/torch/nn/functional.py\u001b[0m in \u001b[0;36mlinear\u001b[0;34m(input, weight, bias)\u001b[0m\n\u001b[1;32m   1690\u001b[0m         \u001b[0mret\u001b[0m \u001b[0;34m=\u001b[0m \u001b[0mtorch\u001b[0m\u001b[0;34m.\u001b[0m\u001b[0maddmm\u001b[0m\u001b[0;34m(\u001b[0m\u001b[0mbias\u001b[0m\u001b[0;34m,\u001b[0m \u001b[0minput\u001b[0m\u001b[0;34m,\u001b[0m \u001b[0mweight\u001b[0m\u001b[0;34m.\u001b[0m\u001b[0mt\u001b[0m\u001b[0;34m(\u001b[0m\u001b[0;34m)\u001b[0m\u001b[0;34m)\u001b[0m\u001b[0;34m\u001b[0m\u001b[0;34m\u001b[0m\u001b[0m\n\u001b[1;32m   1691\u001b[0m     \u001b[0;32melse\u001b[0m\u001b[0;34m:\u001b[0m\u001b[0;34m\u001b[0m\u001b[0;34m\u001b[0m\u001b[0m\n\u001b[0;32m-> 1692\u001b[0;31m         \u001b[0moutput\u001b[0m \u001b[0;34m=\u001b[0m \u001b[0minput\u001b[0m\u001b[0;34m.\u001b[0m\u001b[0mmatmul\u001b[0m\u001b[0;34m(\u001b[0m\u001b[0mweight\u001b[0m\u001b[0;34m.\u001b[0m\u001b[0mt\u001b[0m\u001b[0;34m(\u001b[0m\u001b[0;34m)\u001b[0m\u001b[0;34m)\u001b[0m\u001b[0;34m\u001b[0m\u001b[0;34m\u001b[0m\u001b[0m\n\u001b[0m\u001b[1;32m   1693\u001b[0m         \u001b[0;32mif\u001b[0m \u001b[0mbias\u001b[0m \u001b[0;32mis\u001b[0m \u001b[0;32mnot\u001b[0m \u001b[0;32mNone\u001b[0m\u001b[0;34m:\u001b[0m\u001b[0;34m\u001b[0m\u001b[0;34m\u001b[0m\u001b[0m\n\u001b[1;32m   1694\u001b[0m             \u001b[0moutput\u001b[0m \u001b[0;34m+=\u001b[0m \u001b[0mbias\u001b[0m\u001b[0;34m\u001b[0m\u001b[0;34m\u001b[0m\u001b[0m\n",
      "\u001b[0;31mKeyboardInterrupt\u001b[0m: "
     ]
    }
   ],
   "source": [
    "# Multi-class script for all countries\n",
    "LABELS = \"direct payment, tax deduction, credit/guarantee, technical assistance, supplies, fines, unknown\"\n",
    "\n",
    "multi_all_preds = {}\n",
    "multi_all_scores = {}\n",
    "\n",
    "for country, dataframe in df.items():\n",
    "    # Check whether this column exists\n",
    "    col_name = 'Relevant Sentences (for Environment, Incentives, Land Type) '\n",
    "        \n",
    "    sents = dataframe[col_name].dropna()\n",
    "    sents = sents.apply(lambda x : x.replace(\"\\n\", \"\").strip())\n",
    "    \n",
    "    model_preds = []\n",
    "    scores = []\n",
    "    for sentence in tqdm(sents):\n",
    "        model_pred, score = classify_sentence(sentence, LABELS)\n",
    "        model_preds.append(model_pred)\n",
    "        scores.append(score)\n",
    "    \n",
    "    multi_all_preds[country] = model_preds\n",
    "    multi_all_scores[country] = scores\n",
    "    "
   ]
  },
  {
   "cell_type": "code",
   "execution_count": 119,
   "metadata": {},
   "outputs": [],
   "source": [
    "    def plot_precision_recall_curve(y_true, y_pred, bin_class=False, all_classes=False, store=False, exp_name=None):\n",
    "        \"\"\"\n",
    "        Plots the precision-recall curve for either a binary or multi-class classification model.\n",
    "\n",
    "        Parameters:\n",
    "            y_true: (np.array[int]) The true labels for the dataset\n",
    "            y_pred: If binary_class is True, y_pred should be a numpy array of floats holding the prediction probabilities,\n",
    "                else y_pred should be a numpy array of ints holding the predictions themselves\n",
    "            bin_class: (boolean) Whether we should plot the curve for a binary classification setting\n",
    "            all_classes: (boolean) In a multi-class classification problem, whether we should plot the curve for all classes or just the average\n",
    "            store: (boolean) Whether we want to store this plot or not\n",
    "            exp_name: (str) The name of the experiment, used to name the file to store the plot. Requires store=True\n",
    "        \"\"\"\n",
    "\n",
    "        if bin_class:\n",
    "            if not isinstance(y_pred.flat[0], np.floating):\n",
    "                print(\"Error: Array of predictions should contain probabilities [0.3, 0.75] instead of labels [0, 1] for binary classification problems.\")\n",
    "                return\n",
    "\n",
    "            random_pred_precision = y_true.mean()\n",
    "\n",
    "            precision, recall, _ = precision_recall_curve(y_true, y_pred)\n",
    "            average_precision = average_precision_score(y_true, y_pred)\n",
    "\n",
    "            plt.figure()\n",
    "            plt.plot([0, 1], [random_pred_precision, random_pred_precision], linestyle='--', label='Random Prediction')\n",
    "            plt.step(recall, precision, where='post')\n",
    "\n",
    "            plt.xlabel('Recall')\n",
    "            plt.ylabel('Precision')\n",
    "\n",
    "            plt.ylim([0.0, 1.05])\n",
    "            plt.xlim([0.0, 1.0])\n",
    "            plt.title('Precision-Recall Curve. Avg Precision=' + str(round(average_precision, 2)))\n",
    "\n",
    "            if store:\n",
    "                if exp_name is None:\n",
    "                    print(\n",
    "                        \"Couldn't save PR curve plot because experiment name was not given! Please provide exp_name in arguments.\")\n",
    "                else:\n",
    "                    fname = f\"{exp_name}_prc.png\"\n",
    "                    plt.savefig(fname)\n",
    "                    print(f\"Stored Precision-Recall Curve: {fname}\")\n",
    "\n",
    "            plt.show()\n",
    "\n",
    "        else:\n",
    "            y_true_bin = label_binarize(y_true, classes=range(self.n_classes))\n",
    "            y_pred_bin = label_binarize(y_pred, classes=range(self.n_classes))\n",
    "\n",
    "            precision = dict()\n",
    "            recall = dict()\n",
    "            average_precision = dict()\n",
    "\n",
    "            for i in range(self.n_classes):\n",
    "                precision[i], recall[i], _ = precision_recall_curve(y_true_bin[:, i],\n",
    "                                                                    y_pred_bin[:, i])\n",
    "                average_precision[i] = average_precision_score(y_true_bin[:, i], y_pred_bin[:, i])\n",
    "\n",
    "            # A \"micro-average\": quantifying score on all classes jointly\n",
    "            precision[\"micro\"], recall[\"micro\"], _ = precision_recall_curve(y_true_bin.ravel(),\n",
    "                                                                            y_pred_bin.ravel())\n",
    "            average_precision[\"micro\"] = average_precision_score(y_true_bin, y_pred_bin,\n",
    "                                                                 average=\"micro\")\n",
    "\n",
    "            random_pred_precision = y_true_bin.mean()\n",
    "\n",
    "            if all_classes:\n",
    "\n",
    "                # Setup plot details\n",
    "                colors = cycle(list(mcolors.TABLEAU_COLORS.keys()))\n",
    "                plt.figure(figsize=(7, 8))\n",
    "                plt.style.use('seaborn-white')\n",
    "\n",
    "                # Plot f1 score lines\n",
    "                f_scores = np.linspace(0.2, 0.8, num=4)\n",
    "                lines = []\n",
    "                labels = []\n",
    "                for f_score in f_scores:\n",
    "                    x = np.linspace(0.01, 1)\n",
    "                    y = f_score * x / (2 * x - f_score)\n",
    "                    l, = plt.plot(x[y >= 0], y[y >= 0], color='gray', alpha=0.2)\n",
    "                    plt.annotate('f1={0:0.1f}'.format(f_score), xy=(0.9, y[45] + 0.02))\n",
    "\n",
    "                # Plot precision-recall lines\n",
    "                lines.append(l)\n",
    "                labels.append('iso-f1 curves')\n",
    "                l, = plt.plot(recall[\"micro\"], precision[\"micro\"], color='gold', lw=2)\n",
    "                lines.append(l)\n",
    "                labels.append('Micro-average Precision-Recall (area = {0:0.2f})'\n",
    "                              ''.format(average_precision[\"micro\"]))\n",
    "\n",
    "                for i, color in zip(range(self.n_classes), colors):\n",
    "                    l, = plt.plot(recall[i], precision[i], color=color, lw=2)\n",
    "                    lines.append(l)\n",
    "                    labels.append('Precision-Recall for class {0} (area = {1:0.2f})'\n",
    "                                  ''.format(i, average_precision[i]))\n",
    "\n",
    "                rand_l, = plt.plot([0, 1], [random_pred_precision, random_pred_precision], linestyle='--')\n",
    "                lines.append(rand_l)\n",
    "                labels.append(\"Precision-Recall for Random Classifier\")\n",
    "\n",
    "                # Final touches on plot\n",
    "                fig = plt.gcf()\n",
    "                fig.subplots_adjust(bottom=0.25)\n",
    "                plt.xlim([0.0, 1.0])\n",
    "                plt.ylim([0.0, 1.05])\n",
    "                plt.xlabel('Recall')\n",
    "                plt.ylabel('Precision')\n",
    "                plt.title('Multiclass Precision-Recall Curve')\n",
    "                plt.legend(lines, labels, loc=(0, -.68), prop=dict(size=14))\n",
    "\n",
    "                if store:\n",
    "                    if exp_name is None:\n",
    "                        print(\n",
    "                            \"Couldn't save PR curve plot because experiment name was not given! Please provide exp_name in arguments.\")\n",
    "                    else:\n",
    "                        fname = f\"{exp_name}_prc.png\"\n",
    "                        plt.savefig(fname)\n",
    "                        print(f\"Stored Precision-Recall Curve: {fname}\")\n",
    "\n",
    "                plt.show()\n",
    "\n",
    "            else:\n",
    "                plt.figure()\n",
    "                plt.plot([0, 1], [random_pred_precision, random_pred_precision], linestyle='--', label='Random Prediction')\n",
    "                plt.step(recall[\"micro\"], precision[\"micro\"], where='post')\n",
    "\n",
    "                plt.xlabel('Recall')\n",
    "                plt.ylabel('Precision')\n",
    "\n",
    "                plt.ylim([0.0, 1.05])\n",
    "                plt.xlim([0.0, 1.0])\n",
    "                plt.title('Averaged Precision-Recall Curve')\n",
    "\n",
    "                if store:\n",
    "                    if exp_name is None:\n",
    "                        print(\n",
    "                            \"Couldn't save PR curve plot because experiment name was not given! Please provide exp_name in arguments.\")\n",
    "                    else:\n",
    "                        fname = f\"{exp_name}_prc.png\"\n",
    "                        plt.savefig(fname)\n",
    "                        print(f\"Stored Precision-Recall Curve: {fname}\")\n",
    "\n",
    "                plt.show()\n"
   ]
  },
  {
   "cell_type": "code",
   "execution_count": 120,
   "metadata": {},
   "outputs": [
    {
     "data": {
      "text/plain": [
       "([1, 1, 1, 1, 1, 1, 1, 1, 1, 1],\n",
       " [1, 1, 1, 1, 1, 1, 1, 1, 1, 1],\n",
       " [0.953530490398407,\n",
       "  0.7483525276184082,\n",
       "  0.9521909356117249,\n",
       "  0.6815758943557739,\n",
       "  0.9164557456970215,\n",
       "  0.8113843202590942,\n",
       "  0.5196174383163452,\n",
       "  0.5471493005752563,\n",
       "  0.9328253865242004,\n",
       "  0.9181025624275208])"
      ]
     },
     "execution_count": 120,
     "metadata": {},
     "output_type": "execute_result"
    }
   ],
   "source": [
    "bin_preds[:10], bin_labels[:10], scores[:10]"
   ]
  },
  {
   "cell_type": "code",
   "execution_count": 121,
   "metadata": {},
   "outputs": [
    {
     "data": {
      "image/png": "[encoded data removed]",
      "text/plain": [
       "<Figure size 432x288 with 1 Axes>"
      ]
     },
     "metadata": {
      "needs_background": "light"
     },
     "output_type": "display_data"
    }
   ],
   "source": [
    "plot_precision_recall_curve(np.array(bin_labels), np.array(scores), bin_class=True)"
   ]
  },
  {
   "cell_type": "code",
   "execution_count": 58,
   "metadata": {},
   "outputs": [],
   "source": [
    "y_true_bin = label_binarize(bin_labels, classes=range(2))\n",
    "y_pred_bin = label_binarize(bin_preds, classes=range(2))"
   ]
  },
  {
   "cell_type": "code",
   "execution_count": 74,
   "metadata": {},
   "outputs": [],
   "source": [
    "precision = dict()\n",
    "recall = dict()\n",
    "average_precision = dict()\n",
    "\n",
    "\n",
    "precision, recall, _ = precision_recall_curve(bin_labels, scores)\n",
    "average_precision = average_precision_score(bin_labels, scores)"
   ]
  },
  {
   "cell_type": "code",
   "execution_count": 75,
   "metadata": {},
   "outputs": [
    {
     "data": {
      "text/plain": [
       "(0.5332635839369971,\n",
       " array([0.58252427, 0.57843137, 0.57425743, 0.57      , 0.56565657,\n",
       "        0.56122449, 0.55670103, 0.5625    , 0.55789474, 0.55319149,\n",
       "        0.5483871 , 0.55434783, 0.56043956, 0.55555556, 0.5505618 ,\n",
       "        0.54545455, 0.54022989, 0.53488372, 0.54117647, 0.54761905,\n",
       "        0.54216867, 0.53658537, 0.54320988, 0.5375    , 0.53164557,\n",
       "        0.53846154, 0.53246753, 0.52631579, 0.52      , 0.51351351,\n",
       "        0.50684932, 0.5       , 0.49295775, 0.48571429, 0.47826087,\n",
       "        0.47058824, 0.47761194, 0.48484848, 0.47692308, 0.46875   ,\n",
       "        0.46031746, 0.4516129 , 0.44262295, 0.43333333, 0.44067797,\n",
       "        0.44827586, 0.45614035, 0.44642857, 0.45454545, 0.44444444,\n",
       "        0.45283019, 0.44230769, 0.45098039, 0.44      , 0.44897959,\n",
       "        0.4375    , 0.44680851, 0.45652174, 0.46666667, 0.47727273,\n",
       "        0.48837209, 0.5       , 0.48780488, 0.5       , 0.51282051,\n",
       "        0.52631579, 0.51351351, 0.5       , 0.51428571, 0.5       ,\n",
       "        0.48484848, 0.5       , 0.48387097, 0.46666667, 0.44827586,\n",
       "        0.46428571, 0.48148148, 0.46153846, 0.48      , 0.5       ,\n",
       "        0.47826087, 0.5       , 0.47619048, 0.5       , 0.52631579,\n",
       "        0.55555556, 0.58823529, 0.625     , 0.66666667, 0.71428571,\n",
       "        0.76923077, 0.75      , 0.72727273, 0.7       , 0.66666667,\n",
       "        0.625     , 0.57142857, 0.66666667, 0.6       , 0.5       ,\n",
       "        0.33333333, 0.        , 0.        , 1.        ]),\n",
       " array([1.        , 0.98333333, 0.96666667, 0.95      , 0.93333333,\n",
       "        0.91666667, 0.9       , 0.9       , 0.88333333, 0.86666667,\n",
       "        0.85      , 0.85      , 0.85      , 0.83333333, 0.81666667,\n",
       "        0.8       , 0.78333333, 0.76666667, 0.76666667, 0.76666667,\n",
       "        0.75      , 0.73333333, 0.73333333, 0.71666667, 0.7       ,\n",
       "        0.7       , 0.68333333, 0.66666667, 0.65      , 0.63333333,\n",
       "        0.61666667, 0.6       , 0.58333333, 0.56666667, 0.55      ,\n",
       "        0.53333333, 0.53333333, 0.53333333, 0.51666667, 0.5       ,\n",
       "        0.48333333, 0.46666667, 0.45      , 0.43333333, 0.43333333,\n",
       "        0.43333333, 0.43333333, 0.41666667, 0.41666667, 0.4       ,\n",
       "        0.4       , 0.38333333, 0.38333333, 0.36666667, 0.36666667,\n",
       "        0.35      , 0.35      , 0.35      , 0.35      , 0.35      ,\n",
       "        0.35      , 0.35      , 0.33333333, 0.33333333, 0.33333333,\n",
       "        0.33333333, 0.31666667, 0.3       , 0.3       , 0.28333333,\n",
       "        0.26666667, 0.26666667, 0.25      , 0.23333333, 0.21666667,\n",
       "        0.21666667, 0.21666667, 0.2       , 0.2       , 0.2       ,\n",
       "        0.18333333, 0.18333333, 0.16666667, 0.16666667, 0.16666667,\n",
       "        0.16666667, 0.16666667, 0.16666667, 0.16666667, 0.16666667,\n",
       "        0.16666667, 0.15      , 0.13333333, 0.11666667, 0.1       ,\n",
       "        0.08333333, 0.06666667, 0.06666667, 0.05      , 0.03333333,\n",
       "        0.01666667, 0.        , 0.        , 0.        ]))"
      ]
     },
     "execution_count": 75,
     "metadata": {},
     "output_type": "execute_result"
    }
   ],
   "source": [
    "average_precision, precision, recall"
   ]
  },
  {
   "cell_type": "code",
   "execution_count": 105,
   "metadata": {},
   "outputs": [],
   "source": [
    "npt = np.array([1, 0, 1.0, 0.0])\n",
    "npt1 = np.array([1, 0, 0.7, 0.3])"
   ]
  },
  {
   "cell_type": "code",
   "execution_count": 99,
   "metadata": {},
   "outputs": [
    {
     "data": {
      "text/plain": [
       "dtype('float64')"
      ]
     },
     "execution_count": 99,
     "metadata": {},
     "output_type": "execute_result"
    }
   ],
   "source": [
    "npt.dtype"
   ]
  },
  {
   "cell_type": "code",
   "execution_count": 97,
   "metadata": {},
   "outputs": [
    {
     "data": {
      "text/plain": [
       "False"
      ]
     },
     "execution_count": 97,
     "metadata": {},
     "output_type": "execute_result"
    }
   ],
   "source": [
    "(npt >= 0).all() and (npt <= 1).all()"
   ]
  },
  {
   "cell_type": "code",
   "execution_count": 100,
   "metadata": {},
   "outputs": [
    {
     "data": {
      "text/plain": [
       "True"
      ]
     },
     "execution_count": 100,
     "metadata": {},
     "output_type": "execute_result"
    }
   ],
   "source": [
    "(npt1 >= 0).all() and (npt1 <= 1).all()"
   ]
  },
  {
   "cell_type": "code",
   "execution_count": 106,
   "metadata": {},
   "outputs": [
    {
     "data": {
      "text/plain": [
       "numpy.float64"
      ]
     },
     "execution_count": 106,
     "metadata": {},
     "output_type": "execute_result"
    }
   ],
   "source": [
    "type(npt[0])"
   ]
  },
  {
   "cell_type": "code",
   "execution_count": null,
   "metadata": {},
   "outputs": [],
   "source": []
  }
 ],
 "metadata": {
  "kernelspec": {
   "display_name": "wri-env",
   "language": "python",
   "name": "wri-env"
  },
  "language_info": {
   "codemirror_mode": {
    "name": "ipython",
    "version": 3
   },
   "file_extension": ".py",
   "mimetype": "text/x-python",
   "name": "python",
   "nbconvert_exporter": "python",
   "pygments_lexer": "ipython3",
   "version": "3.8.5"
  }
 },
 "nbformat": 4,
 "nbformat_minor": 4
}
