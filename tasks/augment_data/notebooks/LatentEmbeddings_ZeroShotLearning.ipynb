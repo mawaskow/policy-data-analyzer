{
 "cells": [
  {
   "cell_type": "markdown",
   "metadata": {},
   "source": [
    "# Zero-Shot Learning Experiments: Latent Embeddings\n",
    "\n",
    "Using https://joeddav.github.io/blog/2020/05/29/ZSL.html#A-latent-embedding-approach"
   ]
  },
  {
   "cell_type": "markdown",
   "metadata": {},
   "source": [
    "## Today's TODOs:\n",
    "- Checkout Chile data for errors and convert it to excel for tagging\n",
    "- Write latent embedding algorithm "
   ]
  },
  {
   "cell_type": "markdown",
   "metadata": {},
   "source": [
    "### 1. Evauate Chile data"
   ]
  },
  {
   "cell_type": "code",
   "execution_count": 1,
   "metadata": {},
   "outputs": [],
   "source": [
    "import sys\n",
    "sys.path.append(\"../../\")\n",
    "sys.path.append(\"../../../\")\n",
    "from tasks.data_loader.src.utils import *\n",
    "import json"
   ]
  },
  {
   "cell_type": "code",
   "execution_count": 2,
   "metadata": {},
   "outputs": [],
   "source": [
    "file = load_file(\"../input/Chile.json\")"
   ]
  },
  {
   "cell_type": "code",
   "execution_count": 3,
   "metadata": {},
   "outputs": [],
   "source": [
    "sent_label_map = labeled_sentences_from_dataset(file)"
   ]
  },
  {
   "cell_type": "code",
   "execution_count": 4,
   "metadata": {},
   "outputs": [
    {
     "data": {
      "text/plain": [
       "154436"
      ]
     },
     "execution_count": 4,
     "metadata": {},
     "output_type": "execute_result"
    }
   ],
   "source": [
    "len(sent_label_map)"
   ]
  },
  {
   "cell_type": "code",
   "execution_count": 5,
   "metadata": {},
   "outputs": [],
   "source": [
    "sents_only = sentences_from_dataset(file)"
   ]
  },
  {
   "cell_type": "code",
   "execution_count": 6,
   "metadata": {},
   "outputs": [],
   "source": [
    "sents_with_starting = [sent for sent in sents_only if sent[0].isalpha() and sent[-1] == \",\" or sent.split()[-1] in [\"de\", \"del\", \"la\", \"el\", \"y\", \"que\", \"o\", \"a\", \"un\", \"una\", \"lo\", \"los\", \"las\", \"unos\", \"unas\", \"han\"]]\n",
    "# sents_with_starting = [sent for sent in sents_only if sent[0].isalpha()]"
   ]
  },
  {
   "cell_type": "code",
   "execution_count": 7,
   "metadata": {},
   "outputs": [
    {
     "data": {
      "text/plain": [
       "(8208,\n",
       " ['a) Título de técnico de nivel superior o su equivalente otorgado por un establecimiento de educación superior del Estado o reconocido por éste y acreditar una experiencia como técnico de nivel superior no inferior a un año, o',\n",
       "  'a) Título de técnico de nivel superior o su equivalente otorgado por un establecimiento de educación superior del Estado o reconocido por éste, o',\n",
       "  'Panel de Expertos mediante correo electrónico de fecha 5 de junio de 2018, en el marco de la Discrepancia Nº 5-2017; y',\n",
       "  'Que, de acuerdo a lo prescrito en el inciso primero del artículo 53 de la ley Nº 19,880, la autoridad administrativa podrá, de oficio o a petición de parte, invalidar los actos contrarios a derecho, previa audiencia del interesado, siempre que lo haga dentro de los dos años contados desde la notificación o publicación del acto, y',\n",
       "  'en el decreto Nº19, de 2001, del Ministerio Secretaria General de la Presidencia y en la resolucion Nº1.600, de 2008, de la Contraloria General de la Republica, y',\n",
       "  'Mininco), en línea quebrada, y',\n",
       "  'y la resolucion Nº 1.600, de 2008, de la Contraloria General de la Republica, y',\n",
       "  'Estos antecedentes y lo dispuesto en los articulos 11º y 28º del DFL Nº 1, de 1982, del Ministerio de Mineria, y en la ley Nº 18.410,',\n",
       "  '), de 2009, debido a que dicha resolución no consideró a postulantes de las comunas de Puerto Saavedra y Traiguén, con montos correspondientes a zonas ADI, y',\n",
       "  '- Modifícase el decreto exento Nº 5, de 2004, del',\n",
       "  'Ministerio de Agricultura, en el sentido de',\n",
       "  'Que se han adoptado las medidas pertinentes para el embalaje, transporte y seguro de las obras cuya salida se autoriza y que son de cargo de la Dirección de Asuntos Culturales del Ministerio de Relaciones Exteriores, y,',\n",
       "  'lo prescrito en el Decreto Supremo Nº 93 de 1995, del Ministerio Secretaria General de la Presidencia que aprueba el Reglamento para la Dictacion de Normas de Calidad Ambiental y de Emision, y',\n",
       "  'Nº 93 de 1995, del Ministerio Secretaría General de la Presidencia, corresponde a esta Dirección Ejecutiva dictar la resolución pertinente que permita dar inicio al proceso de elaboración del anteproyecto de norma,',\n",
       "  'Asimismo, la explosiva apertura hacia los mercados internacionales que ha experimentado la oferta Silvoagropecuaria nacional, a consecuencia de la firma de nuevos acuerdos comerciales, hace necesario actualizar las normas que regulan el funcionamiento de dicho Consejo y practicar algunos ajustes y cambios, a su estructura y competencias,',\n",
       "  'f) 7 representantes del sector privado y sus respectivos suplentes, de los cuales 4 deberán estar vinculados al Sector Exportador Silvoagropecuario y 3 vinculados a la Agricultura Campesina, todos designados por el Ministro de Agricultura; y,',\n",
       "  'a) Proponer la formulación y determinación de las modalidades de asignación presupuestaria del Fondo de Promoción de Exportaciones Silvoagropecuarias (FPESA), y',\n",
       "  'exportador silvoagropecuario en acciones de',\n",
       "  'promoción de exportaciones, asegurando los',\n",
       "  'principios de equidad, competitividad y',\n",
       "  'de las oportunidades que se deriven de los',\n",
       "  'Acuerdos Comerciales vigentes; y,',\n",
       "  'exportadoras que faciliten la realización de',\n",
       "  'externos, en el segmento de las pequeñas y',\n",
       "  'silvoagropecuarias, incluyendo aquellas que',\n",
       "  'pertinentes y de alta calidad, sobre las',\n",
       "  'características y condiciones de los',\n",
       "  'de identificar nichos de mercado que',\n",
       "  'permitan a nuestro país posicionarse en los',\n",
       "  'países desarrollados y en vías de',\n",
       "  'desarrollo, no sólo con materias primas,',\n",
       "  'Dicha acreditación se extiende hasta el 21 de enero de 2007,',\n",
       "  'el decreto Nº 19, de 2001, del Ministerio Secretaria General de la Presidencia y en la resolucion Nº 1.600, de 2008, de la Contraloria General de la Republica,',\n",
       "  'Lo anterior significa modificar el decreto exento Nº 355, de 2008, de la Subsecretaría de Agricultura,',\n",
       "  'Familias con Prestador de Servicios de',\n",
       "  '1 a 400 familias Un profesional universitario a',\n",
       "  'tiempo completo del área de la',\n",
       "  'construcción, del área social o',\n",
       "  'legal, quién estará a cargo de la',\n",
       "  'coordinación general del trabajo,',\n",
       "  'más un profesional del área de la',\n",
       "  'construcción, un profesional del',\n",
       "  'familias Un profesional universitario a',\n",
       "  'tiempo completo del área de la',\n",
       "  'construcción, del área social o',\n",
       "  'legal, quién estará cargo de la',\n",
       "  'coordinación general del trabajo,',\n",
       "  'más dos profesionales del área de la',\n",
       "  'construcción, un profesional del',\n",
       "  'familias Un profesional universitario a',\n",
       "  'tiempo completo del área de la',\n",
       "  'construcción, del área social o',\n",
       "  'legal, quién estará a cargo de la',\n",
       "  'coordinación general del trabajo,',\n",
       "  'más tres profesionales del área de',\n",
       "  'la construcción, un profesional del',\n",
       "  'familias Un profesional universitario a',\n",
       "  'tiempo completo del área de la',\n",
       "  'construcción, del área social o',\n",
       "  'legal, quién estará a cargo de la',\n",
       "  'coordinación general del trabajo,',\n",
       "  'más tres profesionales del área de',\n",
       "  'familias Un profesional universitario a',\n",
       "  'tiempo completo del área de la',\n",
       "  'construcción, del área social o',\n",
       "  'legal, quién estará a cargo de la',\n",
       "  'coordinación general del trabajo,',\n",
       "  'más cuatro profesionales del área de',\n",
       "  'en el DS Nº 149, de 1995, ambos de la Subsecretaria de Prevision Social del Ministerio del Trabajo y Prevision Social, y la facultad que me confiere el articulo 32 Nº 6 de la Constitucion Politica de la Republica de Chile,',\n",
       "  \"O'Higgins, Maule, Bío Bío y Metropolitana,\",\n",
       "  'incluyendo afiliados del Nivel Central de Indap, y',\n",
       "  'de Los Lagos, de Aysén del General Carlos Ibáñez del',\n",
       "  '- No ser funcionario del Servicio de Bienestar del',\n",
       "  'Nivel Central, ni cumplir la función de Encargado de',\n",
       "  'g) Las sumas provenientes de herencias, legados, donaciones y erogaciones voluntarias en su favor, y',\n",
       "  '- Las personas designadas como beneficiarias por el',\n",
       "  'propio afiliado o quien acredite haber pagado el',\n",
       "  'servicio funerario del titular, ante el',\n",
       "  'fallecimiento de afiliados excluidos de seguros de',\n",
       "  'vigentes reconocidas en el Servicio de Bienestar,',\n",
       "  'Especies Declaración adicional que',\n",
       "  'debe ser especificada en el',\n",
       "  'Cicer arigtinum Las semillas provienen de un',\n",
       "  'sometida a un tratamiento de',\n",
       "  'desinfección con cualquiera de',\n",
       "  'partida ha sido sometida a un',\n",
       "  'd) Y en el uso de las facultades que me confieren los artículos 10 y 56 de la Ley N°18,695, Orgánica Constitucional de Municipalidades,',\n",
       "  '(avena) analizados mediante técnicas de',\n",
       "  'tratada con cualquiera de los',\n",
       "  '(cebada) analizados mediante técnicas de',\n",
       "  'Adicionalmente, la partida de',\n",
       "  'Adicionalmente, la partida de',\n",
       "  '(centeno) tratada con cualquiera de los',\n",
       "  'analizados mediante técnicas de',\n",
       "  'tratada con cualquiera de los',\n",
       "  'aestivum X analizados mediante técnicas de',\n",
       "  'tratada con cualquiera de los',\n",
       "  '), de 2008 que aprueba el Manual de Procedimiento del Programa de Recuperación de Barrios, y',\n",
       "  'Titulo :ESTABLECE REGULACIONES PARA LA IMPORTACION DE PLANTAS,',\n",
       "  '(Prunus dulcis) proceden de plantas madres que han',\n",
       "  'activo, y encontradas libres de',\n",
       "  'proceden de plantas madres que han',\n",
       "  'virus y Peach Yellows phytoplasma,',\n",
       "  'El envío de plantas, estacas y',\n",
       "  '(Prunus cerasus) proceden de plantas madres que han',\n",
       "  'activo, y encontradas libres de',\n",
       "  'proceden de plantas madres que han',\n",
       "  'libres de Cherry Leaf Roll virus,',\n",
       "  'en el Certificado Fitosanitario la',\n",
       "  'técnica analítica utilizada en el',\n",
       "  'El envío de plantas, estacas y',\n",
       "  '(Prunus avium) proceden de plantas madres que han',\n",
       "  'activo, y encontradas libres de',\n",
       "  'proceden de plantas madres que han',\n",
       "  'libres de Cherry Leaf Roll virus,',\n",
       "  'y Tomato Bushy Stunt Virus,',\n",
       "  'El envío de plantas, estacas y',\n",
       "  '(Prunus mahaleb) proceden de plantas madres que han',\n",
       "  'phytoplasma, indicándose en el',\n",
       "  'Certificado Fitosanitario la',\n",
       "  'técnica analítica utilizada en el',\n",
       "  'El envío de plantas, estacas y',\n",
       "  '(Prunus cerasifera) proceden de plantas madres que han',\n",
       "  'libres de Xylella fastidiosa,',\n",
       "  'virus, indicándose en el',\n",
       "  'técnica analítica utilizada en el',\n",
       "  'El envío de plantas, estacas y',\n",
       "  '(Prunus domestica) proceden de plantas madres que han',\n",
       "  'sido inspeccionadas durante el',\n",
       "  'período de crecimiento activo, y',\n",
       "  'proceden de plantas madres que han',\n",
       "  'virus, indicándose en el',\n",
       "  'Certificado Fitosanitario la',\n",
       "  'técnica analítica utilizada en el',\n",
       "  'El envío de plantas, estacas y',\n",
       "  '(Prunus salicina) proceden de plantas madres que han',\n",
       "  'activo, y encontradas libres de',\n",
       "  'proceden de plantas madres que han',\n",
       "  'Mosaic viroid y Plum Pox virus,',\n",
       "  'El envío de plantas, estacas y',\n",
       "  '(Prunus armeniaca) proceden de plantas madres que han',\n",
       "  'activo, y encontradas libres de',\n",
       "  'proceden de plantas madres que han',\n",
       "  'Mosaic viroid y Plum Pox virus,',\n",
       "  'El envío de plantas, estacas y',\n",
       "  '(Prunus persica) proceden de plantas madres que han',\n",
       "  'durante el período de crecimiento,',\n",
       "  'y encontradas libres de',\n",
       "  '( Prunus persica proceden de plantas madres que han',\n",
       "  'Mosaic viroid y Plum Pox virus,',\n",
       "  'utilizada en el diagnóstico de',\n",
       "  'El envío de plantas, estacas y',\n",
       "  'Rusty Mottle disease Indexing,',\n",
       "  'Establecimientos emisores industriales, que se ubiquen en el listado de fuentes de MP 2,5 primer grupo prioritario, elaborado a partir de las declaraciones anuales del sistema 138/2005, o',\n",
       "  'El funcionamiento de Establecimientos Emisores Industriales, que se ubiquen en el listado de fuentes de MP 2,5 segundo grupo prioritario elaborado por la Seremi de Salud a partir de las declaraciones de emisiones en el sistema 138/2005, y',\n",
       "  'Establecimientos de Larga Estadía para Adultos Mayores (ELEAM),',\n",
       "  'Recintos asistenciales de salud públicos y privados, y',\n",
       "  '), de 2008, que llama a postulación al subsidio habitacional rural para el año 2008, y',\n",
       "  'en uso de las facultades que me confiere la ley, y',\n",
       "  'v) Un representante de la Corporación Nacional del Cobre de Chile; y',\n",
       "  'Que se ha hecho necesario sustituir el vehículo de Director Regional de la Región Metropolitana de Santiago del Instituto de Desarrollo Agropecuario, autorizados por decreto exento Nº 392 de 2009, del Ministerio de Agricultura,',\n",
       "  '- El decreto alcaldicio Nº 237/2004, del 06/12/04, mediante el cual se establece la asunción del Alcalde Titular de la Comuna de Sagrada Familia, a contar del día 06/12/04, en adelante y por un período de cuatro años, y',\n",
       "  'Nº 1/19,704, que fija el texto refundido, coordinado y sistematizado de la Ley Orgánica Constitucional de Municipalidades, he acordado y',\n",
       "  'La importación, exportación, venta, tenencia destinada a la venta,',\n",
       "  'oferta de venta y toda cesión, entrega o transmisión con fines de',\n",
       "  'explotación comercial de semillas, a título oneroso o no,',\n",
       "  'Certificado emitido por Laboratorios acreditados ya sea por la',\n",
       "  'Testing Association, ISTA), la Asociación de Analistas Oficiales de',\n",
       "  'Oficiales de Análisis de Semillas y por la organización Nacional de',\n",
       "  'Protección Fitosanitaria del país de origen, que acredite el',\n",
       "  'cumplimiento de los requerimientos de internación y de',\n",
       "  'Sinónimo de malezas prohibidas presentes en el país,',\n",
       "  'deseadas, en el marco de las actividades productivas agrícolas y',\n",
       "  'Materiales genéticos que pueden perpetuar una especie o una',\n",
       "  'Cantidad específica de semillas físicamente identificable,',\n",
       "  'Muestra que se envía al laboratorio para análisis, y que',\n",
       "  'Arenga engleri sido sometida a un',\n",
       "  'Bismarckia nobilis tratamiento de',\n",
       "  'encontrarse libre de',\n",
       "  'de acuerdo con el',\n",
       "  'resultado de un',\n",
       "  'análisis Oficial de',\n",
       "  'Butia capitata sometida a un',\n",
       "  'Butia yatay tratamiento de',\n",
       "  '(Generada por la',\n",
       "  'de Fosfina o',\n",
       "  'donde deben ser al menos 35 unidades de',\n",
       "  'En el caso de labranza tradicional,',\n",
       "  'este valor también incluye los costos derivados de',\n",
       "  'la incorporación del rastrojo al suelo y, en el',\n",
       "  'Esta práctica no es compatible con la práctica de',\n",
       "  '\"Fraccionamiento de rastrojo (ha)\" ni la de',\n",
       "  'En el caso de labranza tradicional,',\n",
       "  'este valor también incluye los costos derivados de',\n",
       "  'la incorporación del rastrojo al suelo y, en el',\n",
       "  'Esta práctica no es compatible con la práctica de',\n",
       "  '\"Fraccionamiento de rastrojo (ha)\" ni la de',\n",
       "  '- Fraccionamiento de rastrojo (ha): Consiste en la',\n",
       "  'utilización de maquinaria para el picado de los',\n",
       "  'rastrojos, aumentando la superficie de contacto de',\n",
       "  'Incluye sólo el costo de la',\n",
       "  '- Incorporación de rastrojo (ha): Considera los',\n",
       "  'consideran postes cada 6 metros y dos hebras de',\n",
       "  'consideran 2 hebras de alambre liso o electrocable,',\n",
       "  'hebras de alambre liso 14 (o mayor diámetro) y una',\n",
       "  'hebra de alambre de púas, con postes tensores de',\n",
       "  '3x4\" distanciados cada 12 metros y 3 postes de',\n",
       "  '- IV, V y Región Metropolitana: cuatro hebras de',\n",
       "  'alambre liso más dos hebras de alambre de púas,',\n",
       "  '- XI Región: corresponde a cercos de seis hebras de',\n",
       "  'Postes cada tres metros,',\n",
       "  '- XII Región: corresponde a un cerco de 7 hebras de',\n",
       "  'alambre liso 14/16, seis de alambre liso y una de',\n",
       "  'distanciamiento de postes (4 pulgadas de diámetro o',\n",
       "  'Para la construcción del cerco los',\n",
       "  'El uso de',\n",
       "  'Considera malla ursus de',\n",
       "  'malla ursus de 80 cm con tres hebras de alambre de',\n",
       "  'malla ursus de 80 cm con dos hebras de alambre de',\n",
       "  '- XIV y X Región: Estacas cada 1,5 m y malla ursus de',\n",
       "  'o una de 6 hebras de alambre más una hebra de',\n",
       "  'El uso de',\n",
       "  'plantas de tuna por kilómetro lineal, hoyadura,',\n",
       "  'protección de las plantas en sus primeros años de',\n",
       "  'brazos por km lineal, transporte y plantación de',\n",
       "  'éstos, postes cada tres metros con dos hebras de',\n",
       "  'distanciadas cada 50 cm, mano de obra y',\n",
       "  '- VI y VII Región: Consiste en excavar una noria de',\n",
       "  'aproximadamente 2x2 metros y 7 metros de',\n",
       "  'profundidad, con el objetivo de disponer de agua de',\n",
       "  '- XII Región: Esta labor consiste en excavar una',\n",
       "  'noria de un volumen de excavación mínimo de 20 m³,',\n",
       "  'técnico de la postulación deberá indicar la',\n",
       "  'distribución espacial y georreferenciada de los',\n",
       "  'distintos puntos de bebida para los animales,',\n",
       "  '- Barrera de sacos plásticos con suelo, semillas y',\n",
       "  'varas (unidad): Cada barrera contiene 10 sacos de',\n",
       "  'embargo, se puede usar cualquier especie herbácea o',\n",
       "  'Se considera aporca, rastrillado y',\n",
       "  'tagasaste la distancia entre plantas debe ser de un',\n",
       "  'El costo en este caso aumenta ya que',\n",
       "  'considera el valor de la planta, flete, gel,',\n",
       "  'fertilizante, y un par de riegos manuales para el',\n",
       "  '- Barreras de fardos (unidad): Se considera una',\n",
       "  'barrera de 2,5 m de ancho, 0,5 de espesor, 0,7 m de',\n",
       "  '- Barreras de lampazos (unidad): Se considera una',\n",
       "  'Incluye mano de obra para el',\n",
       "  'del suelo, desmalezado de pre y post plantación,',\n",
       "  'adquisición de plantas, plantación, fertilización,',\n",
       "  'riego de establecimiento y aplicación de gel en el',\n",
       "  'Considera una cobertura herbácea en base a',\n",
       "  '- Establecimiento de biofiltros para sedimentos y',\n",
       "  'filtración de contaminantes en pendientes mayores o',\n",
       "  'iguales a 15% (m²): Franja de 20 metros de ancho de',\n",
       "  'marco de plantación de 3x2 m en caso de árboles y',\n",
       "  'de un metro de diámetro, profundidad variable, y',\n",
       "  'centrados en la excavación y el borde de tierra de',\n",
       "  '- 10 metros de profundidad: Consiste en una',\n",
       "  'entre los tubos centrados en la excavación y el',\n",
       "  'a) Reemplázase el término \"artefactos\" por la expresión \"calefactores a leña\"; y',\n",
       "  'Segundo: Que de acuerdo a la resolución exenta N° 335, dictada por esta Dirección el 25 de febrero del año 2011, la Sección Medios de Cultivo forma parte del Subdepartamento de Enfermedades Infecciosas, dependiente del Jefe de Departamento de Laboratorio Biomédico Nacional y de Referencia, y',\n",
       "  'en uso de las facultades que me confiere la ley, y',\n",
       "  'Que, considerando que aún no se encuentra resuelta la situación señalada precedentemente, encontrándose pendiente la tramitación del veto presidencial al proyecto de ley aprobado que pretende modificar la materia, se estima necesario y prudente proceder a una nueva prórroga en la entrada en vigencia del Reglamento que regula el Boletín Oficial de Minería,',\n",
       "  'y en uso de las facultades que me confiere la ley, y',\n",
       "  'Que, es preocupación de las autoridades del Ministerio de Minería dotar de eficiencia y eficacia a la Oficina de Partes y Archivo de esta institución, de manera de fortalecer la recepción de documentos y correspondencia, el acceso y entrega de información pública, la gestión de archivos documentales y la atención ciudadana,',\n",
       "  ', de diciembre de 2018; en el oficio ordinario N° 3642, de 16 de agosto de 2019, del Consejo de Monumentos Nacionales; en el acuerdo N° 16/2019 del Consejo de Ministros para la Sustentabilidad, adoptado el 6 de septiembre de 2019; en la resolución N° 7, de 2019, de la Contraloría General de la República, y',\n",
       "  'b) Cada fruto deberá contar con una etiqueta autoadhesiva en la cual se indique el código de la empacadora y la leyenda \"Producto de',\n",
       "  'd) En caso de transporte marítimo, los',\n",
       "  'En atención a que los recursos constituyen parte del presupuesto del Programa de Campamentos y como tal tienen asociado un fin público especifico, regulado por la Ley de Presupuestos del Sector Público correspondiente al año 2016, es imperante que estos no ingresen al presupuesto del Servicio de Vivienda y Urbanización Región Metropolitana, y que sean rendidos al Ministerio de Vivienda y Urbanismo de acuerdo al procedimiento establecido en la resolución Nº 30, de 2015 de la Contraloría General de la República, por lo que dicto la siguiente,',\n",
       "  'b) Que no se presentaron oposiciones a la publicación, en extracto de la solicitud de modificación de concesión,',\n",
       "  'en los articulos 4º, 8º, 16 y 20 del decreto ley Nº 2.763, de 1979 y teniendo presente las facultades que me concede el articulo 32 Nº 8 de la Constitucion Politica de la Republica, y',\n",
       "  'd) La resolución exenta Nº 24, del Ministerio de Economía, Fomento y Reconstrucción, de 22 de mayo de 2007, que dictó la Norma Técnica sobre Conexión y Operación de Pequeños Medios de Generación Distribuidos en Instalaciones de Media Tensión, modificada por la resolución exenta Nº 329, de la Comisión Nacional de Energía, de 5 de junio de 2013, en adelante e indistintamente \"NTCyO\"; y',\n",
       "  'f) Que, con fecha 22 de agosto de 2014, el Ministerio de Energía dictó el decreto supremo Nº 101 que modifica al DS Nº 244, cuya entrada en vigencia se estableció a contar de los 90 días corridos siguientes a su publicación en el Diario Oficial a efectos de poder realizar las adecuaciones a la NTCyO que permitan una correcta aplicación de la referida modificación al DS Nº 244, por lo que dicha situación sumado a que esta Comisión realiza un constante monitoreo, revisión y adecuación de toda aquella normativa técnica que sea necesaria para que se dé cumplimiento a las exigencias de seguridad y calidad de servicio que deben regir a los sistemas eléctricos, en cuanto a sus instalaciones y a los servicios de generación y transporte que se presten, resulta necesario la dictación de una nueva NTCyO,',\n",
       "  'Estos antecedentes; lo dispuesto en el artículo 32 N° 6 de la Constitución Política de la República; en los artículos 1, 2, 3 y 82 del Código Sanitario, aprobado por decreto con fuerza de ley N° 725, de 1967, del Ministerio de Salud; en el decreto con fuerza de ley N° 1, de 2005, del mismo Ministerio, que fija el texto refundido, coordinado y sistematizado del decreto ley N° 2,763, de 1979, y de las leyes N° 18,933 y 18,469; en el decreto supremo N° 594, de 1999, del Ministerio de Salud, que aprueba el Reglamento sobre Condiciones Sanitarias y Ambientales Básicas en los Lugares de Trabajo; lo solicitado mediante memorando B33 / N° 162, de 2019, de la División de Políticas Públicas Saludables y Promoción del Ministerio de Salud; en la resolución N° 1,600, de 2008, de la Contraloría General de la República; y',\n",
       "  'Que, es necesario perfeccionar y actualizar las Normas Especificas de Semillas de Forrajeras gramíneas y Forrajeras leguminosas de grano chico,',\n",
       "  'en los articulos 101, 102 y 163 al 168, del Reglamento Sanitario de los Alimentos, aprobado por decreto Nº 977, de 1996, del Ministerio de Salud, y en la resolucion Nº 1.600, de 2008, de la Contraloria General de la Republica, y',\n",
       "  'Teniendo presente: Las facultades que me confiere la Ley Nº 18,695, Orgánica Constitucional de Municipalidades; el Decreto Alcaldicio Nº 1600/4142 de fecha 17 de Junio de 2009, que establece el orden de subrogancias del Secretario Municipal,',\n",
       "  'Gastos en remuneraciones y beneficios legales del',\n",
       "  'playas de estacionamiento, estaciones de',\n",
       "  'de la Ficha de Protección Social, dentro de los',\n",
       "  '2,072 a 11,734 puntos o aquel puntaje que en el',\n",
       "  'Adulto mayor de 65 años o más, jefe de hogar, que',\n",
       "  'con certificado de discapacidad e informe de la',\n",
       "  'Mujeres jefas de hogar con hijos en edad escolar o',\n",
       "  'parvularia, que habiten el inmueble en calidad de',\n",
       "  'meras tenedoras, acreditado por la Dirección de',\n",
       "  'Jóvenes entre 18 y 24 años de edad, jefes de hogar,',\n",
       "  'con hijos, que sean propietarios, arrendatarios,',\n",
       "  'usufructuarias, meras tenedoras, acreditado por la',\n",
       "  'por valor de Proporción de',\n",
       "  'El envío procede de un Estado Miembro de la',\n",
       "  'El tratamiento de frío, realizado en tránsito,',\n",
       "  'inicio tratamiento, número de contenedor y',\n",
       "  'bromuro de metilo, indicando producto, dosis,',\n",
       "  'La resolución Nº 785, del 15 de octubre de 2014, de la Secretaría Regional Ministerial de Salud de la Región de Valparaíso; y',\n",
       "  'Especie Requisito de ingreso y',\n",
       "  'Arachys hipogea (Maní) La partida ha sido sometida a',\n",
       "  'Callosobruchus chinensis y',\n",
       "  'Las semillas deben proceder de',\n",
       "  'encuentre reportada la',\n",
       "  '(remolacha azucarera) La partida ha sido sometida a',\n",
       "  'con cualquiera de los',\n",
       "  'Glycine max (soya) La partida ha sido sometida a',\n",
       "  'con cualquiera de los',\n",
       "  'Callosobruchus chinensis y',\n",
       "  'Helianthus annuus La partida ha sido sometida a',\n",
       "  '(girasol, maravilla) con cualquiera de los',\n",
       "  '(Tabaco) a un tratamiento de',\n",
       "  'orientale) a un tratamiento de',\n",
       "  'encuentran reportadas en el país de origen de la',\n",
       "  'el decreto ley Nº 1,764 de 1977 sobre semillas y',\n",
       "  'correspondiente del Certificado Fitosanitario,',\n",
       "  'funguicidas, deberán realizarse por método slurry,',\n",
       "  'nebulización, film coat o inclusión en el',\n",
       "  'Fosfamina en las siguientes dosis y tiempo de',\n",
       "  'Especie Requisito de ingreso y',\n",
       "  'Beta vulgaris var La semilla procede de un',\n",
       "  'vulgaris var durante el período de',\n",
       "  'sacharifera) crecimiento activo y',\n",
       "  'Glycine max (soya) La semilla procede de un',\n",
       "  'durante el período de',\n",
       "  'crecimiento activo y',\n",
       "  'encontrado libre de',\n",
       "  'Helianthus annuus La semilla procede de un',\n",
       "  'de Alternaria helianthi y',\n",
       "  'Nicotiana tabacum La semilla procede de un',\n",
       "  'durante el período de',\n",
       "  'crecimiento activo y',\n",
       "  'encontrado libre de',\n",
       "  'Lo dispuesto por los articulos 5 letra , 12, 63 letra , 65 letra y 79 letra de la ley Nº 18.695 de 1998, Organica Constitucional de Municipalidades, y',\n",
       "  'lo prescrito en el decreto supremo Nº93 de 1995, del Ministerio Secretaria General de la Presidencia que aprueba el Reglamento para la Dictacion de Normas de Calidad Ambiental y de Emision, y',\n",
       "  'Nº 93 de 1995, del Ministerio Secretaría General de la Presidencia, corresponde a esta Dirección Ejecutiva dictar la resolución pertinente que permita dar inicio al proceso de elaboración del anteproyecto de norma,',\n",
       "  'Seguridad, excepto bases militares, cuarteles y',\n",
       "  'Esparcimiento, excepto Parques de Entretenciones,',\n",
       "  'Aislado pareado y',\n",
       "  'continuo, sólo frente a',\n",
       "  'Se permitirá sobre la',\n",
       "  'placa continua la',\n",
       "  'aislada y pareada, la',\n",
       "  'aquella que resulte de',\n",
       "  'sobre rasantes y',\n",
       "  'previstas en el',\n",
       "  'Ordenanza General de',\n",
       "  'edificación continua la',\n",
       "  'altura máxima de la',\n",
       "  'Adosamiento : Podrán coincidir con la',\n",
       "  'Seguridad, excepto bases militares, cuarteles y',\n",
       "  'Sistema de Agrupamiento : Aislado, pareado y',\n",
       "  'aislada y pareada, la',\n",
       "  'aquella que resulte de',\n",
       "  'sobre rasantes y',\n",
       "  'previstas en el',\n",
       "  'Ordenanza General de',\n",
       "  'edificación continua la',\n",
       "  'altura máxima de la',\n",
       "  'Adosamientos : Podrán coincidir con la',\n",
       "  'resolucion Nº 2.862 de 2006 que Crea el Programa de Trazabilidad Sanitaria y la Res. Nº 6.719 de 2006 que aprueba manual de procedimientos para la vigilancia sanitaria en campos de pastoreo cordillerano,',\n",
       "  'Que por tanto resulta necesario y procedente establecer los requisitos a que quedará sujeto el uso pecuario de estos campos de pastoreo de zonas fronterizas limítrofes,',\n",
       "  'en los articulos 4º y 7º del DFL Nº 1 de 2005, del Ministerio de Salud y teniendo presente las facultades que me confiere el articulo 32 Nº 6 de la Constitucion Politica de la Republica, y',\n",
       "  'Que se dio cumplimiento a lo dispuesto en el Artículo VII del mencionado Acuerdo,',\n",
       "  'a) La administración o la construcción y',\n",
       "  'd) La ejecución de las inversiones o reinversiones que constituyen el plan de inversión del proyecto, y',\n",
       "  'c) Disolución de la persona jurídica concesionaria, cuando corresponda, y',\n",
       "  'd) Mutuo acuerdo entre el Instituto y el',\n",
       "  'en uso de las facultades que me confiere la ley,',\n",
       "  'Que, para el eficiente cumplimiento de tales labores es imprescindible que el Jefe del Proyecto Prodecop Secano pueda circular en un vehículo de Indap sin restricción de horario los días sábado, domingo y festivos, sin logotipo del Instituto de Desarrollo Agropecuario,',\n",
       "  'Vitis spp El envío fue inspeccionado y',\n",
       "  'de Raspberry ringspot virus,',\n",
       "  'Tomato black ring virus y',\n",
       "  'Vitis spp El envío fue inspeccionado y',\n",
       "  'cada caso) en el momento óptimo,',\n",
       "  'Muro de contención de',\n",
       "  'IIPC : Índice del Índice de Precios al Consumidor, o el que lo reemplace,',\n",
       "  'IIPBI: Índice del Índice de Precios de Bienes Importados Sector Manufacturero,',\n",
       "  'o el que lo reemplace, calculado como IPBI/IPBIo, en que IPBI es el',\n",
       "  'por el INE e IPBIo el correspondiente a diciembre de 2013,',\n",
       "  'IIPPI: Índice del Índice de Precios de Productor Sector Industria Manufacturera,',\n",
       "  'o el que lo reemplace, calculado como IPPI/IPPIo, en que IPPI es el',\n",
       "  'por el INE e IPPIo el correspondiente a diciembre de 2013,',\n",
       "  'Que dicha Decisión fue adoptada en virtud de lo dispuesto en el Acuerdo por el que se Establece una Asociación entre la República de Chile, por una parte, y la Comunidad Europea y sus Estados Miembros, por la otra, suscrito el 18 de noviembre de 2002, y publicado en el Diario Oficial de 1º de febrero de 2003, en particular el Artículo 16, numeral 2, del referido Anexo IV de dicho instrumento internacional,',\n",
       "  '1,1 El material procede de un programa de',\n",
       "  'producción bajo certificación oficial o de',\n",
       "  'Viveros o Centros Repositorios de Germoplasma,',\n",
       "  'que se encuentren bajo el control oficial del',\n",
       "  '1,2 El material procede de plantas madres que han',\n",
       "  'de crecimiento activo y encontradas libres de',\n",
       "  '1,3 El material se encuentra libre de los',\n",
       "  'la resolucion Nº 520/96, de Contraloria General de la Republica, y',\n",
       "  'en la resolucion Nº1.600 de fecha 30 de octubre de 2008, de la Contraloria General de la Republica y en uso de las facultades que me confiere la ley,',\n",
       "  'Teniendo presente: Las facultades que me confiere la ley Nº 18,695, de 1988, Orgánica Constitucional de Municipalidades,',\n",
       "  'Lo dispuesto en el articulo 64 de la Constitucion Politica de la Republica y la facultad que me confiere el articulo quinto transitorio de la ley Nº 20.261,',\n",
       "  'Lo dispuesto en el articulo 64 de la Constitucion Politica de la Republica y la facultad que me confiere el articulo quinto transitorio de la ley Nº 20.261,',\n",
       "  'Lo dispuesto en el artículo 64° de la Constitución Política de la República; las facultades que me confiere el artículo primero transitorio y siguientes de la ley N°21,095 y',\n",
       "  'virosas del cultivo de papa vecino, dirección de',\n",
       "  'otras evaluadas por el Servicio Agrícola y',\n",
       "  'b) De otro semillero bajo certificación, por una',\n",
       "  'a) Virosis grave: se considerarán aquellas que',\n",
       "  'severo, necrosis y alteraciones en el hábito de',\n",
       "  'a) Tubérculos no deben presentar más de 5 pústulas,',\n",
       "  'las que en conjunto no podrán exceder 1 cm² de la',\n",
       "  'total del tubérculo,',\n",
       "  'el articulo 4º de la ley Nº 18.290, el  Nº 151 de 2000 del Ministerio de Transportes y Telecomunicaciones, Subsecretaria de Transportes,',\n",
       "  'Que, el proyecto modificatorio de las Normas Generales ha sido sometido a consideración del Comité Técnico Normativo, reunido el 19 de diciembre de 2006, cumpliéndose así con lo contemplado en el artículo 57 del decreto Nº 188 ya mencionado,',\n",
       "  'la facultad que me confiere el articulo 6º transitorio de la ley Nº 19.759, y lo establecido en el inciso final del articulo 13º de la ley Nº 18.834, y',\n",
       "  'e) La resolución Nº55, de 1992, cuyo texto refundido, coordinado y sistematizado fue fijado por la resolución Nº520, de 1996, ambas de la Contraloría General de la República; y',\n",
       "  'f) Que, no habiendo acompañado la solicitante antecedente alguno para fundamentar su petición, procede tener por cumplidos los requisitos que establece el referido decreto supremo Nº50 sólo respecto de 26 localidades, por cuanto sólo en tales casos se trata de localidades beneficiadas con concesiones del Fondo de Desarrollo de las Telecomunicaciones; y en uso de mis atribuciones legales,',\n",
       "  'las facultades que me confiere el articulo septuagesimo de la ley Nº 19.882 y lo solicitado por el Director del Servicio de Salud Llanquihue - Chiloe - Palena, para los funcionarios que se mencionan en los antecedentes que se acompañan, dicto el siguiente,',\n",
       "  'Los articulos 5 letra , 12, 63 letra , de la Ley Nº 18.695, de 1988, Organica Constitucional de Municipalidades, y',\n",
       "  'Que, el Consejo de Monumentos Nacionales, en su sesión de 13 de noviembre de 2013, aprobó por mayoría, la declaratoria como Monumento Nacional en la categoría de Monumento Histórico para la tubería de madera de Pangal, y',\n",
       "  'en uso de las facultades que me confiere la ley, y',\n",
       "  'Que, a fin de resolver las mociones parlamentarias presentadas en ambas Cámaras, se conformó una Comisión Mixta la cual ha de resolver en definitiva en relación a la materia sobre la cual versa el Decreto Supremo N°6, de 2005, por lo cual se considera necesario nuevamente posponer la entrada en vigor de dicho decreto,',\n",
       "  'Que, mediante la resolución exenta N° 214, de fecha 8 de febrero de 2019, de la Superintendencia del Medio Ambiente, dio inicio el procedimiento de elaboración de los programas y subprogramas de fiscalización ambiental,',\n",
       "  'las observaciones recibidas por el municipio 6 de ellas dentro de plazo y una fuera de el',\n",
       "  'Lo dispuesto en la resolucion exenta Nº 81, de 22 de marzo de 2001 de la Secretaria Regional Ministerial de Transportes y Telecomunicaciones de la Region Metropolitana, publicada en el Diario Oficial el sabado 24 de marzo de 2001,',\n",
       "  'Lo dispuesto en el Artículo 35º de la',\n",
       "  \"El estudio contratado por la Empresa, enviado a la Comisión Nacional de Energía, en adelante e indistintamente la 'Comisión', por carta P-Nº 109, de 30 de mayo de 2008; y\",\n",
       "  'Que en el estudio contratado por la Empresa, enviado a la Comisión por carta P-N° 109, se recomienda modificar los valores de inversión y los plazos de ejecución del Proyecto; y',\n",
       "  'Que la Comisión, el 31 de julio de 2008, informó al Ministerio sobre la necesidad de realizar un nuevo proceso de licitación a fin de llevar a efecto el referido Proyecto, conforme a lo indicado en dicha comunicación, cumpliéndose de esta forma todas las disposiciones legales y reglamentarias requeridas para realizar la nueva licitación,',\n",
       "  'Tak : Tasa de Derechos Arancelarios, aplicables a',\n",
       "  'la importación de bienes de capital,',\n",
       "  'las normas contenidas en el articulo 32 Nº8 de la Constitucion Politica de la Republica,',\n",
       "  '719, que establece una patente minera especial para pequeños mineros y mineros artesanales, a la vez que condona recargos legales y concede facilidades de pago para patentes atrasadas, que modifica el artículo 142 del Código de Minería, se hace indispensable la reglamentación de sus disposiciones, de manera tal, de facilitar el acceso de las personas a los beneficios establecidos en este precepto legal, así como hacer eficiente la gestión del Servicio Nacional de Geología y Minería, como órgano llamado al discernimiento, control y fiscalización de estos mismos beneficios; y',\n",
       "  'Teniendo presente: La potestad entregada al Presidente de la República en el numeral octavo del artículo 32 de la Constitución Política de la República,',\n",
       "  'De la Patente Especial para el Amparo de las',\n",
       "  'De la Patente Especial para el Amparo de las',\n",
       "  'Pertenencias de que son Arrendatarios los Pequeños Mineros o',\n",
       "  'd) Singularizar inequívocamente la o las',\n",
       "  'Del Procedimiento de Certificación, Renovación y',\n",
       "  'De la Fiscalización del Correcto Aprovechamiento del',\n",
       "  'Que se ha acordado y suscrito entre el Servicio Agrícola y Ganadero y el Instituto Colombiano Agropecuario el \"Plan de Trabajo para la Exportación de frutos de melón (Cucumis melo), desde Colombia a Chile, desde los Departamentos que se indican, mediante la aplicación de un sistema integrado de medidas de mitigación de riesgo\",',\n",
       "  'El envío deberá estar amparado por un',\n",
       "  'Los envases deberán ser nuevos y de',\n",
       "  'En los envases se deberá indicar la',\n",
       "  'siguiente información: nombre de la',\n",
       "  'código establecido en registro de ICA),',\n",
       "  'registro de ICA) y departamento de',\n",
       "  'origen, cumpliendo con las',\n",
       "  'de melón (Cucumis melo), desde Colombia a',\n",
       "  'mediante resolución emitida por el',\n",
       "  'La madera de los embalajes y pallets,',\n",
       "  'de corteza; debiendo además ajustarse a',\n",
       "  'los requisitos establecidos en la',\n",
       "  'Regulaciones cuarentenarias para el',\n",
       "  'exclusivo para transportar envíos de',\n",
       "  'similar condición fitosanitaria de',\n",
       "  'ingreso (inspeccionado y aprobado), los',\n",
       "  'cuales deberán venir sellados por la',\n",
       "  'En caso de transporte terrestre,',\n",
       "  'fitosanitaria del embarque y la',\n",
       "  'En caso de transporte marítimo,',\n",
       "  'En caso de transporte aéreo, el',\n",
       "  'malla tipo mosquitera y',\n",
       "  'Apruébase el \"Plan de Trabajo para la',\n",
       "  'Que por estas razones, es necesario establecer medidas sanitarias y técnicas que permitan la prevención, control y erradicación de tales enfermedades,',\n",
       "  'y en uso de las atribuciones legales que me confiere el DFL Nº 1 del Ministerio del Interior, de fecha 9 de mayo de 2006, que fija el texto refundido, coordinado y sistematizado de la ley Nº 18.695, dicto el siguiente,',\n",
       "  'convenciones Salas de',\n",
       "  'concierto Casas de la',\n",
       "  'Casas de la',\n",
       "  'sociales Juntas de',\n",
       "  'y Turismo Apart-hoteles Clubes Sociales Bares,',\n",
       "  'Restaurantes Casas de',\n",
       "  'similares públicos y',\n",
       "  'de impacto Automotor, estaciones de',\n",
       "  'similar Servicio, Locales de venta de gas,',\n",
       "  'Artesanales Talleres de artesanía, lavanderías,',\n",
       "  'De los tratamientos fitosanitarios,',\n",
       "  'en uso de las facultades que nos confiere la ley, y',\n",
       "  'lo dispuesto en el articulo decimo tercero de los estatutos del Instituto de Investigaciones Agropecuarias, cuyo texto fue aprobado por Decreto Nº 1.903, de 1964, y su modificacion sancionada por el decreto Nº97, de 1999, ambos del Ministerio de Justicia, y en el Nº 10 del articulo 32º de la Constitucion Politica de la Republica,',\n",
       "  'Los Robles, Los Lingues y',\n",
       "  'Que, de conformidad con el informe técnico N° 1-CHYC-2016, citado en Vistos, es menester modificar la precitada resolución exenta N° 54, para efectos de establecer un procedimiento de conservación de los recursos destinados para consumo humano directo y/o carnada, atendidas las particularidades de su destino,',\n",
       "  'Que, la presente norma ha sido sometida a consideración del Comité Técnico Normativo,',\n",
       "  '- Capítulo 2: Prevención y control de la',\n",
       "  '- Capítulo 3: Protección de la atmósfera y salud de',\n",
       "  '- Descripción del área de influencia de la',\n",
       "  'a) Actividades previas al inicio del retiro del material pétreo,',\n",
       "  'II Volumen de material a extraer y superficie a',\n",
       "  'III Plano con indicación del ordenamiento espacial de',\n",
       "  'IV Plan de restauración continua del área a',\n",
       "  '- Los que obstruyan la visibilidad de los',\n",
       "  'en días hábiles; desde las 14:00:00 hasta las',\n",
       "  'en días sábado; y desde las',\n",
       "  'incluida aquella que',\n",
       "  'Concesionaria Cargo de',\n",
       "  'de terminación de',\n",
       "  'red Consiste en la conexión de',\n",
       "  'de red de un centro de',\n",
       "  'conmutación de la',\n",
       "  'acceden los portadores y',\n",
       "  'otras concesionarias de',\n",
       "  'servicio público de',\n",
       "  'y/o habilitación de una',\n",
       "  'necesarios para la',\n",
       "  'interconexión en el',\n",
       "  'y arriendo en el punto de',\n",
       "  'terminación de red de un',\n",
       "  'para la instalación de',\n",
       "  'y otros equipos de',\n",
       "  'y respaldada de los',\n",
       "  'equipos terminales de',\n",
       "  'de reconfiguración de',\n",
       "  'el enrutamiento del',\n",
       "  'tráfico de la',\n",
       "  'Adecuación de la',\n",
       "  'de portador Corresponde a las',\n",
       "  'de la central de',\n",
       "  'conmutación móvil y de',\n",
       "  'Medición Comprende el registro,',\n",
       "  'de información respecto de las',\n",
       "  'características de las',\n",
       "  'comunicaciones telefónicas de',\n",
       "  'concesionaria hacia el',\n",
       "  'portador, con el propósito,',\n",
       "  'Tasación Comprende la identificación,',\n",
       "  'obtenida en el proceso de',\n",
       "  'la cuenta única el detalle de',\n",
       "  'los valores a pagar por los',\n",
       "  'de larga distancia cursadas a',\n",
       "  'Cobranza Consiste en el despacho de la',\n",
       "  'cuenta única a los medios de',\n",
       "  'distribución de correspondencia,',\n",
       "  'de saldos de',\n",
       "  'y cobranza, mediante el cual la',\n",
       "  'Corresponde a toda la',\n",
       "  'relativa a sus usuarios y',\n",
       "  'a los tráficos cursados a',\n",
       "  'través de la red móvil de',\n",
       "  'Cargo habilitación de',\n",
       "  'IPMBSI : Índice de precios al por mayor para la',\n",
       "  'canasta de bienes importados (IPMBSI),',\n",
       "  'publicado por el Instituto Nacional de',\n",
       "  'IPMBSN : Índice de precios al por mayor para la',\n",
       "  'canasta de bienes nacionales (IPMBSN),',\n",
       "  'publicado por el Instituto Nacional de',\n",
       "  'IPM : Índice de precios al por mayor de',\n",
       "  'productos (IPM), publicado por el',\n",
       "  'Instituto Nacional de Estadísticas (INE),',\n",
       "  'relacionados con otros insumos o',\n",
       "  'publicado por el Instituto Nacional de',\n",
       "  'Estadísticas, para el ítem de costo de',\n",
       "  'Que el Consejo Zonal de Pesca de la XIV, X y XI Regiones, mediante Informe Técnico citado en Visto, ha recomendado la adopción de la medida de administración antes indicada,',\n",
       "  \"Teniendo presente: Lo dispuesto en el DS Nº 531, de 1967, del Ministerio de Relaciones Exteriores, que ordenó cumplir como Ley de la República la ''Convención para la Protección de la Flora, la Fauna y las Bellezas Escénicas Naturales de América'', firmada en Washington DC, el 12 de octubre de 1940; el DFL Nº 294, de 1960, Orgánico del Ministerio de Agricultura; el DL Nº 1,939, de 1977; los artículos 19, Nº 8; y 32 Nº 8, de la Constitución Política del Estado,\",\n",
       "  '4) La facultad que me confiere la letra c) del artículo 300 del Código de Aguas, y',\n",
       "  'i) reemplázase en el literal b) del inciso 1º,',\n",
       "  'urbanas de la región respectiva,',\n",
       "  'i) En el inciso 2º, letra a), agrégase el',\n",
       "  'ii) En el inciso 2º, letra c), incorpórase el',\n",
       "  'en el Registro Pesquero Artesanal o el',\n",
       "  'será requisito acompañar el listado a que',\n",
       "  'se podrán prorrogar cuando las faenas de',\n",
       "  'en áreas alejadas de las zonas urbanas de',\n",
       "  'distantes a más de un día de navegación del',\n",
       "  'sobre las normas propuestas en el programa de',\n",
       "  'que fija texto refundido, coordinado y sistematizado de la ley Nº 18.695 Organica Constitucional de Municipalidades,',\n",
       "  'Es el primer paso en el proceso de desinfección de',\n",
       "  'superficies e implica la remoción mecánica de',\n",
       "  'suciedad visible (materia orgánica e inorgánica),',\n",
       "  'que puede interferir con la inactivación de los',\n",
       "  'Por lo cual, sin la realización de',\n",
       "  'una adecuada limpieza, la desinfección de las',\n",
       "  'superficies no es factible a pesar de utilizar las',\n",
       "  'y de su enjuague antes de la aplicación de',\n",
       "  'para obtener la remoción e inactivación de',\n",
       "  'avalados por la institución, respetando las',\n",
       "  'Proceso que permite la reducción de los',\n",
       "  'este proceso existen tres niveles, alto, medio y',\n",
       "  'o superficie en que se utilizan, acorde a la',\n",
       "  'transcurre la atención directa de los pacientes,',\n",
       "  'quirúrgicos, endoscópicos o intervencionales o de',\n",
       "  'atención ambulatoria como: Toma de muestras,',\n",
       "  'donde se encuentran hospitalizados o atendidos los',\n",
       "  'o En el caso de las salas de hospitalización,',\n",
       "  'utilizado por cama, atril, velador, mesa de',\n",
       "  'o En el caso de la atención quirúrgica, la',\n",
       "  'quirúrgica, máquina de anestesia, atriles,',\n",
       "  'o En el caso de la atención ambulatoria,',\n",
       "  'individuales o delimitadas por cortinas o',\n",
       "  'de toma de muestras de los laboratorios y',\n",
       "  'identifican elementos propios de salas de',\n",
       "  'hospitalización y también de elementos de',\n",
       "  'asépticas como la preparación de medicamentos y',\n",
       "  'almacenamiento de insumos estériles y fármacos del',\n",
       "  'del servicio, corresponde a los escritorios y',\n",
       "  'estantería utilizados para el registro y',\n",
       "  'almacenamiento de las fichas médicas y de',\n",
       "  'se procede al almacenamiento de desinfectantes y',\n",
       "  'soluciones utilizados en el proceso de aseo y',\n",
       "  'Corresponde a dependencias utilizadas para el',\n",
       "  'transcurren acciones de apoyo diagnóstico y',\n",
       "  'dependencias más importantes, pero no las únicas y',\n",
       "  'realizan funciones administrativas de la gestión y',\n",
       "  'realizan funciones de tránsito o de reunión de',\n",
       "  'pacientes, familiares o visitas y funcionarios,',\n",
       "  'como es el caso de pasillos, escaleras y',\n",
       "  'de números importantes de personas como el caso de',\n",
       "  'Corresponde a labores de aseo de instalaciones que',\n",
       "  'se efectúa en forma diaria y permanente; es decir,',\n",
       "  'un aseo realizado en profundidad al inicio de la',\n",
       "  'Que posee diferencias con respecto al método de',\n",
       "  'diferencias, en relación a la capacitación del',\n",
       "  'funcionario, densidad de personal requerida,',\n",
       "  'visible, lavamanos y dispensadores de jabón,',\n",
       "  'alcohol gel y toalla desechable por parte de la',\n",
       "  'Necesita continuidad de la función para la',\n",
       "  'casos de derrame o contaminación de las',\n",
       "  'Corresponde a un tipo de aseo diario de',\n",
       "  'instalaciones que se efectúa en las áreas de',\n",
       "  'atención clínica, con la presencia de pacientes y',\n",
       "  'del piso, muro y cortinas si hay suciedad visible,',\n",
       "  'Corresponde a labores de aseo de instalaciones que',\n",
       "  'requerimientos de enfermeras jefas de sala o',\n",
       "  'de las unidades de hospitalización transitoria o',\n",
       "  'Incluye el aseo del piso, muro hasta el alcance de',\n",
       "  'Corresponde a labores de aseo de instalaciones que',\n",
       "  'se efectúa en forma calendarizada y periódica, de',\n",
       "  'Determinando diferencias en relación a la',\n",
       "  'zócalos, marcos de ventanas, ventanales, cornisas,',\n",
       "  'Mensualmente como parte del aseo y mantención de',\n",
       "  'los servicios, se deberán desincrustar las',\n",
       "  'superficies de la grifería y artefactos del',\n",
       "  'Este aseo debe realizarse en forma calendarizada,',\n",
       "  'efectuada por Subdirección de cuidados de',\n",
       "  'enfermería y Subdirección de apoyo diagnóstico y',\n",
       "  'por el proceso de atención clínica y',\n",
       "  'Estos se clasifican acorde al Plan de manejo de',\n",
       "  'Residuos peligrosos: Generados en los procesos de',\n",
       "  'residuos farmacéuticos vencidos, contaminados,',\n",
       "  'cartuchos de tinta, pilas, según descripción de',\n",
       "  'sucia será efectuado tres veces por semana,',\n",
       "  'determinado por Unidad de Higiene Ambiental,',\n",
       "  'deben solicitarse instrucciones a Unidad de',\n",
       "  'Higiene Ambiental y cumplir normativas de',\n",
       "  'humana y derivados, materiales saturados de',\n",
       "  'o El contenedor deberá ser sometido a limpieza y',\n",
       "  'ambiental, control de IAAS y prevención de',\n",
       "  'Residuos comunes: Son aquellos que no pertenecen a',\n",
       "  'gasas) no saturados con sangre y sus derivados,',\n",
       "  'o Serán eliminados cada 24 horas y cada vez que',\n",
       "  'sea necesario por funcionario de empresa de',\n",
       "  'o El contenedor deberá ser sometido a limpieza y',\n",
       "  'desinfección en forma diaria, por personal de',\n",
       "  'el piso dispersos y que serán susceptibles de',\n",
       "  'Durante la realización del procedimiento, los',\n",
       "  'momento con las precauciones estándar (lavado de',\n",
       "  'personal: guantes de procedimientos y pecheras) y',\n",
       "  'Con respecto a los materiales de limpieza y',\n",
       "  'desinfección a utilizar, actualmente en la',\n",
       "  'Los equipos a utilizar en las labores de aseo,',\n",
       "  'Paños absorbentes diferenciados por color según el',\n",
       "  'Paños desechables para limpieza de unidades de',\n",
       "  'Como concepto general a mantener en el hospital,',\n",
       "  'se han establecido distinciones para la',\n",
       "  'o El operador debe utilizar los elementos de',\n",
       "  'o Debe realizar el aseo desde lo más limpio a lo',\n",
       "  'o Sólo está permitida la utilización de',\n",
       "  'desinfectantes y antisépticos aprobados por la',\n",
       "  'o No está permitido el re-envasado de los',\n",
       "  'líquidos desinfectantes y antisépticos en el',\n",
       "  'los insumos desde su envase original (Si las',\n",
       "  'seguridad en el medio extrahospitalario en la',\n",
       "  'lo tanto no está permitido barrer en seco,',\n",
       "  'sacudir elementos, remover rejillas de',\n",
       "  'con el contenido y dilución que posee, en el',\n",
       "  '+ Se debe proceder al retiro a través de',\n",
       "  'mopeo en húmedo de los residuos de la',\n",
       "  'superficie con la solución preparada,',\n",
       "  'primero en un sector a lo largo de la',\n",
       "  'contrario y advertir a los transeúntes de',\n",
       "  '+ Posteriormente se debe enjuagar la',\n",
       "  '+ Se debe eliminar la solución en la red de',\n",
       "  'deben ser realizadas una vez finalizada la',\n",
       "  'o En los casos en que corresponda y luego de',\n",
       "  'descrito corresponde el proceso de',\n",
       "  '+ Se debe proceder a la desinfección de los',\n",
       "  '+ Se aplicará esta solución sobre las',\n",
       "  '+ Se lavará el carro, en el área sucia y',\n",
       "  'deberá ser almacenado y secado en esa área,',\n",
       "  'deben ser realizadas una vez finalizada la',\n",
       "  'intensiva, debido al riesgo inherente de los',\n",
       "  'pacientes que se encuentran en estas unidades,',\n",
       "  'poseen algunos procedimientos especiales,',\n",
       "  'para la limpieza de pacientes limpios, los',\n",
       "  'aislamiento, los que se deben utilizar y',\n",
       "  'en el servicio por el alto riesgo de',\n",
       "  'infecciones fúngicas se cuenta con set de',\n",
       "  'en el servicio por el alto riesgo de',\n",
       "  'infecciones fúngicas se cuenta con set de',\n",
       "  'paciente, por lo cual está prohibida la',\n",
       "  '+ En el caso de los baños, el aseo además de',\n",
       "  'presencia de comida traída desde el',\n",
       "  'exterior, lo cual deberá ser avisado a la',\n",
       "  'debe incluir la limpieza de superficies de',\n",
       "  'clínica de enfermería y estación de',\n",
       "  'Debe realizarse al egreso del paciente,',\n",
       "  'quedan excluidas las unidades de',\n",
       "  'hospitalización de los pacientes, las',\n",
       "  'que serán sometidas a aseo concurrente y',\n",
       "  'En forma programada, se procederá a la',\n",
       "  'limpieza de celdillas de aire acorde a',\n",
       "  'calendario establecido en el servicio,',\n",
       "  'semana, previa coordinación con el',\n",
       "  'servicio y acorde a la Norma de',\n",
       "  'pasillos de circulación, lavamanos,',\n",
       "  'realizadas por personal externo acorde a',\n",
       "  'Los pabellones son unidades complejas,',\n",
       "  'donde cada uno de ellos actúa como una',\n",
       "  'unidad de paciente, donde al egreso de',\n",
       "  'o Si bien en las áreas administrativas con pisos de',\n",
       "  'madera natural se requiere de encerado y',\n",
       "  'abrillantado, esta categoría no corresponde a',\n",
       "  'especial, acordada en conjunto con Subdirección de',\n",
       "  'por el personal debidamente capacitado y certificado,',\n",
       "  'o Los procedimientos de aseo conllevan riesgo de',\n",
       "  'accidentes cortopunzantes o contacto con residuos de',\n",
       "  'lo tanto, está prohibido realizar labores de',\n",
       "  'despapelaje con las manos, y prohibido presionar las',\n",
       "  'o Al utilizar compuestos ácidos para la',\n",
       "  'desincrustación, los funcionarios deben poseer la',\n",
       "  'Corresponde a funcionarios que reúnan las',\n",
       "  'Corresponde a funcionarios que reúnan las',\n",
       "  'Salud compatible con el nivel de exigencia de la',\n",
       "  'Escolaridad: al menos educación básica completa y',\n",
       "  'Es la efectuada regularmente por personal de',\n",
       "  'Higienista ambiental, que se realiza a través de',\n",
       "  'y sus indicadores), en caso de brotes,',\n",
       "  'para aprobar o reprobar la condición de aseo de',\n",
       "  'El número de pautas a efectuar dependerá del',\n",
       "  'número de funcionarios activos de la empresa de',\n",
       "  'aseo, del tiempo destinado a la supervisión y de',\n",
       "  'los riesgos implícitos en cada área,',\n",
       "  'Considerando lo anterior, se acordará entre la',\n",
       "  'Oficina IAAS y la Unidad de Higiene Ambiental la',\n",
       "  'focalización de la supervisión a las áreas de',\n",
       "  'a cada una de las salas del áreas: médica,',\n",
       "  'conjunta con la supervisora del servicio o',\n",
       "  'unidad de Apoyo, el representante de Unidad de',\n",
       "  'exigirá la presencia diaria y continua de un',\n",
       "  'supervisor en cada área hospitalaria, el que',\n",
       "  'trimestralmente a la oficina del Programa IAAS,',\n",
       "  'al formato entregado por IAAS, en formato Excel,',\n",
       "  'Subdirección de Operaciones, a través de',\n",
       "  'externa y enviar a la Oficina del Programa IAAS,',\n",
       "  'Que en virtud de lo anterior, se hace imprescindible fijar los lugares de estacionamiento, para dar así cumplimiento a lo dispuesto en el decreto ley Nº 799, del año 1974, y el oficio circular Nº 35,593, de 8 de noviembre de 1995, de la Contraloría General de la República, sobre el particular,',\n",
       "  'Que se ha desarrollado el Análisis de Riesgos de Plagas para Plagas Cuarentenarias, lo que ha permitido establecer los requisitos de importación para frutos frescos para consumo de melón (Cucumis melo) y sandía (Citrullus lanatus), procedentes de Panamá,',\n",
       "  'Que el Comité Técnico a que se refiere el Título XII del mencionado Reglamento, ha dado su aprobación a las modificaciones previstas en la presente resolución,',\n",
       "  'Que se dio cumplimiento a lo previsto en el Artículo 15 del Memorándum y, en consecuencia, éste entrará en vigor internacional el 23 de enero de 2009,',\n",
       "  'el oficio Nº NC-059 de la Corporacion Chilena de la Madera , de fecha 10 de marzo de 2003, lo dispuesto en el decreto Nº 159, de 1979, del Ministerio de Hacienda, en el decreto Nº 19, de 2001, del Ministerio Secretaria General de la Presidencia de la Republica y en la resolucion Nº 520, de 1996, de la Contraloria General de la Republica,',\n",
       "  'a) Usuarios cuyos predios tengan superficies iguales o inferiores a 5 hectáreas de riego básico y',\n",
       "  'g) Una ficha técnica que contenga las sugerencias del operador al agricultor en cuanto a las prácticas y labores que conduzcan al resultado esperado y demás antecedentes específicos que se señalen para cada programa, y',\n",
       "  'El plan que incluya el mayor porcentaje de superficie de uso agropecuario con práctica de conservación, en relación al total de la superficie de uso agropecuario del predio, obtendrá el máximo puntaje en esta variable y el resto de los proyectos se ordenarán en forma decreciente, según el porcentaje de la superficie de uso agropecuario considerada, y',\n",
       "  'Cuando el puntaje es directamente proporcional a la variable con la cual se calcula, esto es, a mayor valor de la variable implica mayor puntaje,',\n",
       "  'Cuando el puntaje es inversamente proporcional a la variable con la cual se calcula, esto es, a mayor valor de la variable implica menor puntaje, como es el caso del fósforo y pH,',\n",
       "  'Cuando el puntaje es constante y no depende del valor de otras variables,',\n",
       "  'Lo dispuesto en los artículos 32 Nº 6 y 35 de la Constitución Política de la República; en el decreto ley Nº 2,224, de 1978, que crea el Ministerio de Energía y la Comisión Nacional de Energía; en el decreto con fuerza de ley Nº 4/20,018, de 2006, del Ministerio de Economía, Fomento y Reconstrucción, que fija texto refundido, coordinado y sistematizado del decreto con fuerza de ley Nº 1, de Minería, de 1982, Ley General de Servicios Eléctricos, en materia de energía eléctrica, en adelante e indistintamente la \"Ley General de Servicios Eléctricos\" o la \"Ley\"; en el decreto con fuerza de ley Nº 323, de 1931, del Ministerio del Interior, que aprueba la Ley de Servicios de Gas; en el decreto con fuerza de ley Nº 1, de 1978, del Ministerio de Minería, que deroga decreto Nº 20, de 1964, y lo reemplaza por las disposiciones que indica; en el decreto supremo Nº 327, de 1997, del Ministerio de Minería, que fija el reglamento de la Ley General de Servicios Eléctricos, y sus modificaciones posteriores; en el decreto supremo Nº 244, de 2005, del Ministerio de Economía, Fomento y Reconstrucción, que aprueba reglamento para medios de generación no convencionales y pequeños medios de generación establecidos en la Ley General de Servicios Eléctricos, y sus modificaciones posteriores; en el decreto supremo Nº 71, de 2014, del Ministerio de Energía, que aprueba reglamento de la Ley Nº 20,571, que regula el pago de las tarifas eléctricas de las generadoras residenciales; en el decreto supremo Nº 291, de 2007, del Ministerio de Economía, Fomento y Reconstrucción, que aprueba reglamento que establece la estructura, funcionamiento y financiamiento de los Centros de Despacho Económico de Carga, y sus modificaciones posteriores; en el decreto supremo Nº 67, de 2004, del Ministerio de Economía, Fomento y Reconstrucción, que aprueba el reglamento de servicio de gas de red; en el decreto supremo Nº 66, de 2007, del Ministerio de Economía, Fomento y Reconstrucción, que aprueba reglamento de instalaciones interiores y medidores de gas; en el decreto supremo Nº 160, de 2008, del Ministerio de Economía, Fomento y Reconstrucción, que aprueba reglamento de seguridad para las instalaciones y operaciones de producción y refinación, transporte, almacenamiento, distribución y abastecimiento de combustibles líquidos; en el decreto supremo Nº 280, de 2009, del Ministerio de Economía, Fomento y Reconstrucción, que aprueba reglamento de seguridad para el transporte y distribución de gas de red; en el decreto supremo Nº 108, de 2013, del Ministerio de Energía, que aprueba reglamento de seguridad para las instalaciones de almacenamiento, transporte y distribución de gas licuado de petróleo y operaciones asociadas; en la resolución Nº 1,600, de 2008, de la Contraloría General de la República, y',\n",
       "  'Lo dispuesto en el decreto ley Nº 3.557 de 1980 sobre Proteccion Agricola, la ley Nº 18.755 Organica del Servicio Agricola y Ganadero de 1989, modificada por la ley 19.283 de 1994, el decreto Nº 156 de 1998, modificado por el decreto Nº 92 de 1999 del Ministerio de Agricultura, la resolucion Nº 350 de 1981 del Servicio Agricola y Ganadero y,',\n",
       "  'Que las disposiciones legales vigentes facultan al Servicio para establecer las regulaciones fitosanitarias que necesitan cumplir los artículos reglamentados, en resguardo del patrimonio fitosanitario del país,',\n",
       "  'Que el Reglamento General deberá determinar la forma y condiciones en que la Corporación autorizará las intervenciones excepcionales a que se refieren los artículos 7°, 17 y 19 de la Ley,',\n",
       "  'd) Intervención o alteración del hábitat de los individuos de especies vegetales señaladas en el inciso primero del artículo 19 de la Ley; y',\n",
       "  'c) Medidas para monitoreo, seguimiento y evaluación; y',\n",
       "  'a) Alteración de hábitat o corta, eliminación, destrucción o descepado, en cualquier tipo de terreno, con motivo de investigaciones científicas o fines sanitarios siempre que tales intervenciones sean imprescindibles y no amenacen la continuidad regenerativa de la especie a nivel de la cuenca o, excepcionalmente, fuera de ella; y',\n",
       "  'd) Actividades consecuentes a los objetivos de preservación, con su correspondiente calendarización, y',\n",
       "  'g) Copia autorizada del documento en que conste la respectiva servidumbre o concesión, en caso de intervención de bosques con motivo de la construcción de caminos, el ejercicio de concesiones o servidumbres mineras, de gas, de servicios eléctricos, de ductos u otras reguladas por Ley; y',\n",
       "  'a) Copia del RUT de la persona jurídica y de su representante legal; y,',\n",
       "  'd) Acompañar copia de inscripción de dominio del predio, con vigencia no mayor de 90 días corridos, contados desde la fecha de su expedición por parte del respectivo Conservador de Bienes Raíces; y',\n",
       "  'f) Croquis o plano del predio, con ubicación de los individuos a cortar; y',\n",
       "  'k) Vigencia del plan; y',\n",
       "  'Se excluyen de la aplicación de esta reglamentación a los beneficiarios de Indap, quienes en esa calidad acceden en forma permanente a',\n",
       "  'Nivel Regional: Director Regional o quien lo',\n",
       "  'Nivel Nacional: Director Nacional o quien lo',\n",
       "  '4° Para los efectos de lo dispuesto en el',\n",
       "  'y la resolucion Nº 520/96, de la Contraloria General de la Republica,',\n",
       "  'en la resolucion exenta Nº 4, de la Secretaria Regional Ministerial de Transportes y Telecomunicaciones de la VI Region, de 26 de septiembre de 1994, que adjudica concesion y aprueba contrato para operar una planta revisora en la ciudad de Litueche, y la solicitud del concesionario de la Planta Revisora AB 0608 de fecha 14 de abril de 2001,',\n",
       "  'en la resolucion Nº 1.600, de fecha 30 de octubre de 2008, de la Contraloria General de la Republica, y en uso de las facultades que me confiere la ley,',\n",
       "  'Directores y Jefes de Departamento,',\n",
       "  'a) Título profesional de una carrera de a lo menos 10 semestres otorgado por una Universidad o Instituto Profesional del Estado o reconocido por éste; o',\n",
       "  'b) Título profesional de una carrera de a lo menos 8 semestres otorgado por una Universidad o Instituto Profesional del Estado o reconocido por éste y grado académico de magíster o experiencia profesional de a lo menos 2 años en la Administración del Estado; o',\n",
       "  'Jefes de Sección, alternativamente,',\n",
       "  'a) Título profesional de una carrera de a lo menos 8 semestres otorgado por una Universidad o Instituto Profesional del Estado o reconocido por éste; o',\n",
       "  'Profesionales grados 4º, 5º y 7º EUS,',\n",
       "  'a) Título profesional de una carrera de a lo menos 8 semestres otorgado por una Universidad o Instituto Profesional del Estado o reconocido por éste; o',\n",
       "  'Profesionales grados 9º, 11º y 13º EUS,',\n",
       "  'a) Título profesional de una carrera de a lo menos 8 semestres otorgado por una Universidad o Instituto Profesional del Estado o reconocido por éste; o',\n",
       "  'a) Título de Técnico de nivel superior otorgado por un Establecimiento de Educación Superior del Estado o reconocido por éste; o',\n",
       "  'b) Título de Técnico de nivel medio otorgado por un Establecimiento de Educación Media Técnico Profesional del Estado o reconocido por éste y curso de perfeccionamiento de a lo menos 800 horas de duración, debidamente acreditado, que habilite para cumplir funciones como técnico en la Dirección General de Relaciones Económicas Internacionales o experiencia laboral como técnico de nivel medio, de a lo menos 2 años en la Administración del Estado; o',\n",
       "  'Administrativos grados 10º, 12º y 15º EUS,',\n",
       "  'a) Licencia de Educación Media o equivalente y contar con curso de secretariado u otro afín, de a lo menos 300 horas de duración, debidamente acreditado, que habilite para cumplir funciones administrativas requeridas por la Dirección General de Relaciones Económicas Internacionales; o',\n",
       "  'b) Licencia de Educación Media o equivalente y experiencia mínima de a lo menos 2 años en la Administración del Estado; o',\n",
       "  'a) Licencia de Educación Media o equivalente; o',\n",
       "  'Jefes de Departamentos y',\n",
       "  'El oficio Nº 1903, de 28 de aril de 2015, del señor Intendente de la Región Metropolitana; lo dispuesto en el artículo 32, número 10 de la Constitución Política de la República; en la ley Nº 20,798 de Presupuestos para el Sector Público, correspondiente al año 2015; el DFL Nº 29, de 16 de junio de 2004, que fija el texto refundido, coordinado y sistematizado de la Ley Nº 18,834, sobre Estatuto Administrativo; en la Ley Nº 18,575, Orgánica Constitucional de Bases Generales de la Administración del Estado; en la Ley Nº 19,175, Orgánica Constitucional sobre Gobierno y Administración Regional; en el DFL Nº 1, de 2009, que modifica el DFL Nº6, de 1990, ambos del Ministerio de Minería; en la resolución Nº 1,600, de fecha 30 de octubre de 2008, de la Contraloría General de la República y en uso de las facultades que me confiere la ley,',\n",
       "  'las observaciones recibidas por el municipio 6 de ellas dentro de plazo y una fuera de el',\n",
       "  'fungicidas del grupo de los',\n",
       "  'fungicidas del grupo de los',\n",
       "  'fungicidas del grupo de los',\n",
       "  'fungicidas del grupo de los',\n",
       "  'fungicidas del grupo de los',\n",
       "  'Las semillas provienen de',\n",
       "  'inspeccionado durante período de',\n",
       "  'fungicidas del grupo de los',\n",
       "  '(excepto Las semillas provienen de',\n",
       "  'inspeccionado durante período de',\n",
       "  'venir con tratamiento de',\n",
       "  'fumigación contra insectos de la',\n",
       "  'de desinfección con los',\n",
       "  'en forma alternativa: Benomyl,',\n",
       "  'Adicionalmente las semillas han',\n",
       "  'sido desinfectadas con los',\n",
       "  'en forma alternativa: Benomyl,',\n",
       "  'fungicidas del grupo de los',\n",
       "  'azoles recomendados para el',\n",
       "  'Las semillas provienen de',\n",
       "  'truncatula inspeccionado durante período de',\n",
       "  'La partida se encuentra libre de',\n",
       "  'venir con tratamiento de',\n",
       "  'Las semillas provienen de',\n",
       "  'inspeccionado durante período de',\n",
       "  'venir con tratamiento de',\n",
       "  'fumigación contra insectos de la',\n",
       "  'de desinfección con los',\n",
       "  'en forma alternativa: Benomyl,',\n",
       "  'se encuentra libre de',\n",
       "  'Aphelenchoides besseyi y',\n",
       "  'Adicionalmente las semillas han',\n",
       "  'sido desinfectadas con los',\n",
       "  'en forma alternativa: Carboxin,',\n",
       "  'fungicidas del grupo de los',\n",
       "  'fungicidas del grupo de los',\n",
       "  'Adicionalmente las semillas han',\n",
       "  'sido desinfectadas con los',\n",
       "  'en forma alternativa: Carboxin,',\n",
       "  'fungicidas del grupo de los',\n",
       "  'Adicionalmente las semillas han',\n",
       "  'sido desinfectadas con los',\n",
       "  'en forma alternativa: Carboxin,',\n",
       "  'fungicidas del grupo de los',\n",
       "  'Adicionalmente las semillas han',\n",
       "  'sido desinfectadas con los',\n",
       "  'en forma alternativa: Carboxin,',\n",
       "  'fungicidas del grupo de los',\n",
       "  'se encuentra libre de',\n",
       "  'Aphelenchoides besseyi y',\n",
       "  'Adicionalmente las semillas han',\n",
       "  'sido desinfectadas con los',\n",
       "  'en forma alternativa: Carboxin,',\n",
       "  'fungicidas del grupo de los',\n",
       "  'venir con tratamiento de',\n",
       "  'Las semillas provienen de',\n",
       "  'inspeccionado durante período de',\n",
       "  'La partida se encuentra libre de',\n",
       "  'Apion africans, Apion aestivum y',\n",
       "  'venir con tratamiento de',\n",
       "  'fumigación contra insectos de la',\n",
       "  'de desinfección con los',\n",
       "  'en forma alternativa: Benomyl,',\n",
       "  'La partida se encuentra libre de',\n",
       "  'analizado y encontrado libre de',\n",
       "  '/m3) Tiempo de exposición Temperatura del',\n",
       "  'la resolucion Nº520/96 de la Contraloria General de la Republica, y',\n",
       "  'Razones de buen servicio,',\n",
       "  'las facultades que me confiere el articulo septuagesimo de la ley Nº 19.882 y lo solicitado por el Director del Servicio de Salud Metropolitano Central, para los funcionarios que se mencionan en los antecedentes que se acompañan, dicto el siguiente,',\n",
       "  'en uso de las facultades que me confiere la ley, y',\n",
       "  '- Compactación y definición de pendientes de',\n",
       "  '- Caracterización química y mineralógica de los',\n",
       "  'transferencia de instalaciones, edificios,',\n",
       "  '- Construcción de muro de protección al pie del',\n",
       "  '- Caracterización química y mineralógica de los',\n",
       "  '- Compactación y definición de pendientes de',\n",
       "  '- Caracterización química y mineralógica de los',\n",
       "  '- Definir caminos que se dejarán transitables y',\n",
       "  'Mantención de sistemas de monitoreo, captura y',\n",
       "  'Establecimiento de sistemas de captación de',\n",
       "  'drenajes, evaporación y/o tratamiento de',\n",
       "  'Definir caminos que se dejarán transitables y los',\n",
       "  'Estos antecedentes; lo dispuesto en los artículos 1, 4 y 7 del DFL Nº 1, de 2005, del Ministerio de Salud, que fija el texto refundido, coordinado y sistematizado del decreto ley Nº 2,763, de 1979, y de las leyes Nº 18,933 y Nº 18,469; en el artículo 5º del decreto supremo Nº 43, de 2015, del Ministerio de Salud, Reglamento de Almacenamiento de Sustancias Peligrosas; lo solicitado mediante memorándum Nº 1187, del 8 de noviembre de 2016, por la División de Políticas Públicas, Saludables y Promoción y',\n",
       "  'Que, en base a lo señalado anteriormente dicto la siguiente,',\n",
       "  '- Título Profesional de una carrera de a lo menos 8 semestres o grado académico de licenciado otorgados por Universidades o Institutos Profesionales del Estado o reconocidos por éste y, en ambos casos, experiencia profesional de a lo menos 3 años, o',\n",
       "  '- Título de Técnico de a lo menos 6 semestres de duración otorgado por instituciones de Educación Superior del Estado o reconocidas por éste , o',\n",
       "  '- Título de Técnico de a lo menos 4 semestres otorgado por instituciones de Educación Superior del Estado o reconocidas por éste, o',\n",
       "  '- Título de Técnico de a lo menos 4 semestres otorgado por instituciones de Educación Superior del Estado o reconocidas por éste, o',\n",
       "  'Jefe Departamento de',\n",
       "  'Que es de alto interés nacional, que se mantenga la condición de país libre de la citada enfermedad,',\n",
       "  'Lo dispuesto en la ley Nº 16,391; el DL Nº 1,305, de 1975; la ley 20,798, de Presupuestos del Sector Público para el año 2015; la resolución Nº 1,600, de 2008, de la Contraloría General de la República, y',\n",
       "  'Otras especies no contempladas en la letra a',\n",
       "  'Tetranychidae); Argyrotaenia citrana y',\n",
       "  'iii) En el caso de que el tratamiento de frío, para el',\n",
       "  'inicial, fecha inicio tratamiento, número de',\n",
       "  ': Tortricidae), en el caso que',\n",
       "  'el DS Nº 46, de 1978, del Ministerio de Agricultura y sus modificaciones, y los articulos 3º y 8º de la ley Nº 18.755, y',\n",
       "  'Prohíbese el uso de los campos de pastoreo de pre y alta cordillera que a continuación se indican,',\n",
       "  'Facultad de Agronomía, Laboratorio de',\n",
       "  'Dirección Parcela 7B, Fundo Santa Herminia,',\n",
       "  'Centro de Investigación Agrícola y',\n",
       "  'Agua Santa 7055, Campus Rodelillo,',\n",
       "  'Parque Antonio Rabat Sur N° 6165,',\n",
       "  'Dirección Vicuña Mackenna N° 4860, Macul,',\n",
       "  'Laboratorio: UNIVERSIDAD DE CONCEPCIÓN,',\n",
       "  'Facultad de Agronomía, Laboratorio de',\n",
       "  '), en la letra a',\n",
       "  'nucipersica), la letra a',\n",
       "  'las observaciones recibidas por el municipio 6 de ellas dentro de plazo y una fuera de el',\n",
       "  'a) Proporcionar asistencia médica, social o económica a sus afiliados y a',\n",
       "  'b) Fomentar mediante acciones concretas, el perfeccionamiento social y',\n",
       "  'c) Fomentar actividades recreativas, culturales, deportivas y de',\n",
       "  'b) El Jefe de la División Administración y Finanzas del Servicio de',\n",
       "  'c) El Jefe del Departamento Desarrollo de las Personas del Servicio de',\n",
       "  'por la Asociación de Funcionarios, cuando proceda, conforme a lo',\n",
       "  'a) Fijar anualmente el mecanismo de reajustabilidad y los intereses que',\n",
       "  'b) Informar a la Superioridad del Servicio los requerimientos de',\n",
       "  'a) Las sumas que anualmente se consulten para el Servicio en el',\n",
       "  'Presupuesto del Servicio de Evaluación Ambiental, en conformidad a la',\n",
       "  'Se cancelará por una sola vez y no podrá ser superior al 1,5% de la',\n",
       "  'd) Los aportes o cuotas extraordinarias de los afiliados acordadas por el',\n",
       "  'En ningún caso éstos podrán exceder del 1,0% de',\n",
       "  'las remuneraciones mensuales imponibles para pensiones o de las',\n",
       "  'j) Consulta y tratamientos especializados para la recuperación de la',\n",
       "  'salud, efectuados por personal profesional o técnico autorizado de',\n",
       "  'k) Adquisición de lentes ópticos, lentes ópticos de contacto, audífonos y',\n",
       "  'fueren afiliados al Servicio, ambos tendrán derecho a solicitar el',\n",
       "  'el respectivo certificado, el nacimiento de cada hijo, o copia de la',\n",
       "  'c) Estudios: Se concederá una asignación de escolaridad a todos los',\n",
       "  'regulares en los niveles prebásico (Kinder) básico, medio, técnico o de',\n",
       "  'excelencia académica a las cargas familiares legalmente acreditadas de',\n",
       "  'los afiliados, que se encuentren cursando estudios regulares en los',\n",
       "  'calificación de excelencia académica será establecida anualmente por el',\n",
       "  'optar a este beneficio el Consejo llamará a concurso en los plazos y',\n",
       "  'e) Fallecimiento: Se concederá esta ayuda por el fallecimiento del',\n",
       "  'pagará a quien expresamente haya designado el afiliado al momento de',\n",
       "  'En el caso de que a la fecha del',\n",
       "  'Se otorgará el mismo subsidio por fallecimiento del hijo recién nacido,',\n",
       "  'situaciones imprevistas o de fuerza mayor derivados de siniestros,',\n",
       "  'En caso de enfermedad crónica, catastrófica y tratamiento médico de',\n",
       "  'alto costo, el Servicio podrá otorgar una ayuda económica, destinada a',\n",
       "  'a) Préstamos médicos y odontológicos: Se otorgarán como complemento de las',\n",
       "  'habitacionales, tales como constituir ahorro previo para el',\n",
       "  'a) Desarrollar actividades culturales, sociales, físicas, recreacionales y',\n",
       "  'd) Organizar la Fiesta de Navidad para los afiliados del Servicio de',\n",
       "  'e) El Servicio podrá celebrar convenios con otros Servicios de Bienestar,',\n",
       "  'social, cultural, social, física, recreacional y deportiva,',\n",
       "  'f) El Servicio podrá administrar colonias, refugios, casas de huéspedes,',\n",
       "  'expresamente excluida de dicha facultad la contratación de personal,',\n",
       "  'Hormigón Obras de Edificación y',\n",
       "  'Que dicho Acuerdo de Revisión fue adoptado en el marco del Acuerdo Básico sobre Asistencia Técnica, suscrito con las Naciones Unidas y diversas Agencias Especializadas de esa Organización, y del Acuerdo suscrito con el Fondo Especial de las Naciones Unidas sobre Asistencia del Fondo Especial, ambos publicados en el Diario Oficial de 24 de octubre de 1960,',\n",
       "  'el informe emitido mediante certificado Nº 003 de 26.07.2007 del Director de Transito de la Municipalidad de Tierra Amarilla, y el Ordinario Nº 368 de 27.07.2007 del Suboficial Jefe de Reten de Carabineros de Chile de Tierra Amarilla, y',\n",
       "  '- Fíjanse los siguientes trazados de acceso y',\n",
       "  'salida, que deben utilizar los servicios rurales de',\n",
       "  'de Capital de Riesgo para el Fomento Forestal y',\n",
       "  'Extracto de Constitución,',\n",
       "  '- Resolución de CONAF que apruebe los Planes de Forestación asociados a cada uno de',\n",
       "  '- Informe de plazos y recursos necesarios para desarrollar los Planes de Forestación de',\n",
       "  'y medianos propietarios según lo definido en el programa, mediante un certificado del',\n",
       "  '- Declaración Jurada del Gerente General de la Administradora, en donde conste que la',\n",
       "  'Por esa razón, y en base a la experiencia acumulada durante estos años, para el periodo 2018 se ha trabajado en la programación de actividades de fiscalización de resoluciones de calificación ambiental en base a la categoría de unidad fiscalizable, para luego informar, al final del periodo de evaluación, el número de actividades efectivamente realizadas,',\n",
       "  'las facultades que me confiere el articulo septuagesimo de la ley Nº 19.882 y lo solicitado por el Director del Servicio de Salud Bio Bio, para los funcionarios que se mencionan en los antecedentes que se acompañan, dicto el siguiente,',\n",
       "  'Discusión que consta en actas de 28 de octubre de 2009, 29 de enero de 2010 y 16 de junio de 2010,',\n",
       "  'c) que en el área intervenida se desarrollen condiciones bajo las cuales se generen flujos relevantes de agua superficial que puedan arrastrar volúmenes significativos de sedimentos en dirección a los manantiales, cuerpos y cursos naturales de agua y humedales; y',\n",
       "  'Que dicho Convenio fue adoptado en el marco del Convenio Marco Relativo a la Ejecución de la Ayuda Financiera y Técnica y de la Cooperación Económica en Chile en virtud del Reglamento \"ALA\", sus Anexos y Protocolos, suscrito, en Bruselas, Bélgica, el 24 de noviembre de 1998, y publicado en el Diario Oficial de 12 de junio de 2001,',\n",
       "  'El Superintendente podrá ordenar la adopción de algunas de las medidas provisionales, las cuales deberán ser proporcionales a la eventual infracción y a las circunstancias establecidas en el artículo 40 de la Ley,',\n",
       "  'El Encargado de las Actividades de Inspección Ambiental, deberá remitir el Acta, en conjunto con los antecedentes que se hubieren obtenido durante las actividades de Inspección Ambiental propiamente tal, a la Superintendencia, dentro del plazo de 3 días hábiles, contados desde la fecha del Acta, o de la última Acta, en caso que fuesen más de una',\n",
       "  'Que, se hace preciso el nombramiento de un nuevo director de Enami en representación del Presidente de la República, para un periodo de tres años; por tanto,',\n",
       "  'el  Nº 46, de 1978, del Ministerio de Agricultura y sus modificaciones, y los articulos 3º y 8º de la ley Nº 18.755, y',\n",
       "  'k) La resolución exenta Nº 346, de 8 de septiembre de 2020, que \"Aprueba Informe Consolidado de Respuestas correspondiente al Procedimiento Normativo de Elaboración del Anexo Técnico Exigencias Mínimas de Diseño de Instalaciones de Transmisión de la Norma Técnica Seguridad y Calidad de Servicio, de conformidad a lo establecido en el artículo 34 del decreto supremo Nº 11 del Ministerio de Energía, de 31 de enero de 2017\", en adelante, \"Resolución exenta Nº 346\", y',\n",
       "  '7) Que, por su parte, de conformidad a lo dispuesto en el artículo 35 del Reglamento, la Comisión, finalizado el proceso normativo respectivo, debe fijar la norma definitiva, disponiendo su publicación en el Portal Normativo y el Diario Oficial, y',\n",
       "  'Lo dispuesto en el artículo 238 de la ley Nº 18,248 que aprobó el Código de Minería; lo dispuesto en el decreto con fuerza de ley N° 302 de 1960, del Ministerio de Hacienda, que Aprueba Disposiciones Orgánicas y Reglamentarias del Ministerio de Minería; lo señalado en el artículo 2º transitorio del decreto supremo Nº 1 de 1986, que aprobó el Reglamento del Código de Minería; lo prescrito en el artículo 32 Nº 6 de la Constitución Política de la República; los decretos supremos Nos 6 y 40, ambos de 2005; los decretos supremos N os 45 y 185, ambos de 2006; los decretos supremos N os 39 y 246, ambos de 2007; los decretos supremos N os 121 y 233, ambos de 2008; los decretos supremos N os 86 y 201 ambos de 2009; el decreto supremo 93 de 2010; el decreto supremo Nº 33 de 2011, el decreto supremo N° 29 de 2012, el decreto supremo N° 21 de 2013, el decreto supremo N° 64 de 2014 y el decreto supremo N° 21 de 2015, todos del Ministerio de Minería; el decreto supremo Nº 22 de 2016 del Ministerio del Interior y Seguridad Pública; y la resolución 1,600 de 2008 de la Contraloría General de la República, y',\n",
       "  'Que, por lo anterior, este Ministerio invita a postular para el año 2011 a los profesores y profesoras de escuelas rurales multigrado, a la convocatoria a presentar propuestas para el \"Concurso de Experiencias Pedagógicas en escuelas rurales multigrado 2011\"; y',\n",
       "  'Evaluadora Regional, que será integrada por el',\n",
       "  'Secretario Regional Ministerial de Educación, o',\n",
       "  'el profesional que este designe para el efecto,',\n",
       "  'en el Nivel Regional, mediante la aplicación de',\n",
       "  'una pauta de criterios ponderados de 1 a 7, que',\n",
       "  'elaborará el Programa de Educación Rural de la',\n",
       "  'Una vez hecha la evaluación de las propuestas, la',\n",
       "  'elaborará un ranking con los puntajes obtenidos,',\n",
       "  'de Evaluación Final, enviará al Programa de',\n",
       "  'La División de Educación General elaborará un',\n",
       "  'ranking con las propuestas seleccionadas por las',\n",
       "  'con mayor puntaje nacional, a fin de editarlas y',\n",
       "  'del Ministro de Educación, se procederá a',\n",
       "  'El Programa de Educación Rural, en jornadas de',\n",
       "  'trabajo, procederá a entregar los premios a los',\n",
       "  'tres primeros lugares de cada Región,',\n",
       "  'consistentes en materiales educativos,',\n",
       "  'pedagógica postulada, privilegiando tanto los',\n",
       "  'aspectos innovadores y diferenciadores, como los',\n",
       "  'principales aportes que contribuyan a mejorar la',\n",
       "  'Incorporar información referida a las',\n",
       "  'tradicionalmente, antes de la implementación de la',\n",
       "  'experiencia; a situaciones desafiantes que',\n",
       "  'Describir el problema o situación que dio origen a',\n",
       "  'la experiencia; cómo surgió la idea de',\n",
       "  'Propuesta para desarrollar el proceso de',\n",
       "  'diagnóstico, con clara referencia al contexto y a',\n",
       "  'las características de las y los estudiantes; a',\n",
       "  'que se han desarrollado para lograr los',\n",
       "  'resultados, que consideren la participación de la',\n",
       "  'Coordinaciones en el territorio y otros aportes a',\n",
       "  'relevantes de esta experiencia con las y los',\n",
       "  'técnico a la enseñanza rural multigrado; los',\n",
       "  'resultados de los aprendizajes de las y los',\n",
       "  'estudiantes y los logros relativos al compromiso y',\n",
       "  'Incluir todas las especificaciones técnicas que, a',\n",
       "  'complementar la presentación de la experiencia,',\n",
       "  ...])"
      ]
     },
     "execution_count": 7,
     "metadata": {},
     "output_type": "execute_result"
    }
   ],
   "source": [
    "len(sents_with_starting), sents_with_starting"
   ]
  },
  {
   "cell_type": "code",
   "execution_count": null,
   "metadata": {},
   "outputs": [],
   "source": []
  },
  {
   "cell_type": "markdown",
   "metadata": {},
   "source": [
    "# Results from data checking:\n",
    "- 154436 sentences instead of 79953\n",
    "- Sentences that start with a comma: 1018\n",
    "    - \", en el punto 4,3\"\n",
    "    - \", de 10 de julio de 2018;\"\n",
    "    - \", Empresa Eléctrica de Arica S\"\n",
    "    - \", y su aplicación será competencia del Juzgado de Policía Local de la comuna\"\n",
    "    \n",
    "- Sentences that start with a \")\": 1338\n",
    "    - \"), de fecha 19 de diciembre de 2008, y sus modificaciones, que autoriza llamados a postulación para subsidios habitacionales en sistemas y programas habitacionales que indica durante el año 2009 y señala el monto de los recursos destinados, entre otros, a la atención a través del sistema regulado por el DS Nº 145 (V\"\n",
    "    - \"), en la letra a\"\n",
    "    \n",
    "- Sentences that start with a number: 12389\n",
    "    - Bad examples:\n",
    "        - \"25 634 5414 Los Muermos 4115-7315\"\n",
    "        - \"3.815 de 2003\"\n",
    "        - \"11 Aguas Calientes 4 636365 7353860 8 y 10\"\n",
    "    - Unclear examples:\n",
    "        -  \"2018 del Director (S) del Servicio de Salud Viña del Mar - Quillota\"\n",
    "    - Good examples:\n",
    "        - \"2º Establécese el trámite: TCB1 \"Declaración de Plantas de Biogás\" para los siguientes tipos de Plantas:\"\n",
    "        - \"1) Que, el artículo 72º-19 de la Ley establece que la Comisión deberá fijar, mediante resolución exenta, las normas técnicas que rijan los aspectos económicos, de seguridad, coordinación, calidad, información y económicos del funcionamiento del sector eléctrico, debiendo establecer un plan de trabajo anual que permita proponer, facilitar y coordinar el desarrollo de tales normas, en el marco de un proceso público y participativo, cuyas normas deben ser establecidas en un reglamento;\"\n",
    "        - \"6,5 La madera de los embalajes y los pallets deberá estar libre de corteza y de daños causados por insectos\"\n",
    "        \n",
    "\n",
    "- Sentences being cut: ~8205, tried checking for connectors (\"de\", \"un\", \"y\", \"que\", etc.) at the end of sentence and also commas \n",
    "    - \"+ Se lavará el carro, en el área sucia y\"\n",
    "    - \"+ Debido al riesgo de los pacientes que en él\"\n",
    "    - \"más dos profesionales del área de la\"\n",
    "    - \"construcción, un profesional del\""
   ]
  },
  {
   "cell_type": "markdown",
   "metadata": {},
   "source": [
    "### 2. Load 5 countries' sentences"
   ]
  },
  {
   "cell_type": "code",
   "execution_count": 9,
   "metadata": {},
   "outputs": [],
   "source": [
    "import pandas as pd\n",
    "import sys\n",
    "\n",
    "sys.path.append(\"../../\")\n",
    "sys.path.append(\"../../../\")\n",
    "from tasks.data_loader.src.utils import *"
   ]
  },
  {
   "cell_type": "code",
   "execution_count": 10,
   "metadata": {},
   "outputs": [],
   "source": [
    "def country_labeled_sentences(excel_map):\n",
    "    result = {}\n",
    "    for country, dataframe in excel_map.items():\n",
    "\n",
    "        new_sents_col = dataframe[\"Sentence\"].dropna()\n",
    "        new_labels_col= dataframe[\"Primary Instrument\"].dropna()\n",
    "        \n",
    "        sentences = list(new_sents_col.apply(lambda x: x.replace(\"\\n\", \"\").strip()))\n",
    "        label_col = new_labels_col.apply(lambda x: x.replace(\"(PES)\", \"\").replace(\"(Bond)\", \"\").strip())\n",
    "        labels = [[string.strip() for string in label.split(\", \")][0] for label in label_col]\n",
    "        result[country] = {}\n",
    "\n",
    "        for i, (sent, label) in enumerate(zip(sentences, labels)):\n",
    "            if i not in result[country]:\n",
    "                result[country][i] = {\"text\": sent, \"labels\": [label]}\n",
    "            else:\n",
    "                result[country][i][\"text\"] = sent\n",
    "                result[country][i][\"labels\"] = [label]\n",
    "\n",
    "    return result\n",
    "\n",
    "def sentences_from_model_output(model_preds):\n",
    "    return [preds[\"text\"] for preds in model_preds.values()]"
   ]
  },
  {
   "cell_type": "code",
   "execution_count": 11,
   "metadata": {},
   "outputs": [],
   "source": [
    "data_excel = pd.read_excel(\"../input/WRI_Policy_Tags.xlsx\", engine=\"openpyxl\", sheet_name=None)"
   ]
  },
  {
   "cell_type": "code",
   "execution_count": 12,
   "metadata": {},
   "outputs": [
    {
     "data": {
      "text/plain": [
       "Index(['Document', 'Sentence', 'Primary Instrument', 'Other Instrument(s)',\n",
       "       'Land Use Type', 'Category', 'Unique Policy #', 'Key words',\n",
       "       'Unnamed: 8', 'Unnamed: 9', 'Unnamed: 10', 'Unnamed: 11', 'Unnamed: 12',\n",
       "       'Unnamed: 13', 'Unnamed: 14', 'Unnamed: 15', 'Unnamed: 16',\n",
       "       'Unnamed: 17', 'Unnamed: 18', 'Unnamed: 19', 'Unnamed: 20',\n",
       "       'Unnamed: 21', 'Unnamed: 22', 'Unnamed: 23', 'Unnamed: 24',\n",
       "       'Unnamed: 25', 'Unnamed: 26'],\n",
       "      dtype='object')"
      ]
     },
     "execution_count": 12,
     "metadata": {},
     "output_type": "execute_result"
    }
   ],
   "source": [
    "data_excel[\"Mexico\"].columns"
   ]
  },
  {
   "cell_type": "code",
   "execution_count": 13,
   "metadata": {},
   "outputs": [],
   "source": [
    "all_labeled_sentences = country_labeled_sentences(data_excel)\n",
    "label_names = ['Credit',\n",
    " 'Direct payment',\n",
    " 'Fine',\n",
    " 'General incentive',\n",
    " 'Guarantee',\n",
    " 'Supplies',\n",
    " 'Tax deduction',\n",
    " 'Technical assistance',\n",
    " 'Unknown']"
   ]
  },
  {
   "cell_type": "code",
   "execution_count": 14,
   "metadata": {},
   "outputs": [],
   "source": [
    "mexico_sents = sentences_from_model_output(all_labeled_sentences['Mexico'])"
   ]
  },
  {
   "cell_type": "code",
   "execution_count": 201,
   "metadata": {},
   "outputs": [],
   "source": [
    "mexico_labels = labels_from_model_output(all_labeled_sentences['Mexico'])"
   ]
  },
  {
   "cell_type": "markdown",
   "metadata": {},
   "source": [
    "### 3. Write out latent embedding algorithm"
   ]
  },
  {
   "cell_type": "code",
   "execution_count": 55,
   "metadata": {},
   "outputs": [
    {
     "data": {
      "application/vnd.jupyter.widget-view+json": {
       "model_id": "ccdd8b8cb55140269a0cab1e989b6142",
       "version_major": 2,
       "version_minor": 0
      },
      "text/plain": [
       "HBox(children=(HTML(value='Downloading'), FloatProgress(value=0.0, max=541.0), HTML(value='')))"
      ]
     },
     "metadata": {},
     "output_type": "display_data"
    },
    {
     "name": "stdout",
     "output_type": "stream",
     "text": [
      "\n"
     ]
    },
    {
     "data": {
      "application/vnd.jupyter.widget-view+json": {
       "model_id": "4ae04bcbdf964b82af35ae7f59deda08",
       "version_major": 2,
       "version_minor": 0
      },
      "text/plain": [
       "HBox(children=(HTML(value='Downloading'), FloatProgress(value=0.0, max=5069051.0), HTML(value='')))"
      ]
     },
     "metadata": {},
     "output_type": "display_data"
    },
    {
     "name": "stdout",
     "output_type": "stream",
     "text": [
      "\n"
     ]
    },
    {
     "data": {
      "application/vnd.jupyter.widget-view+json": {
       "model_id": "0a10c87639f84ec4914e8cfcc91fe606",
       "version_major": 2,
       "version_minor": 0
      },
      "text/plain": [
       "HBox(children=(HTML(value='Downloading'), FloatProgress(value=0.0, max=150.0), HTML(value='')))"
      ]
     },
     "metadata": {},
     "output_type": "display_data"
    },
    {
     "name": "stdout",
     "output_type": "stream",
     "text": [
      "\n"
     ]
    },
    {
     "data": {
      "application/vnd.jupyter.widget-view+json": {
       "model_id": "b777973b1c8844b7a4fa2f350ccc1106",
       "version_major": 2,
       "version_minor": 0
      },
      "text/plain": [
       "HBox(children=(HTML(value='Downloading'), FloatProgress(value=0.0, max=152.0), HTML(value='')))"
      ]
     },
     "metadata": {},
     "output_type": "display_data"
    },
    {
     "name": "stdout",
     "output_type": "stream",
     "text": [
      "\n"
     ]
    },
    {
     "data": {
      "application/vnd.jupyter.widget-view+json": {
       "model_id": "30e04ce4cdd24abcbf4f463fbcc0dafe",
       "version_major": 2,
       "version_minor": 0
      },
      "text/plain": [
       "HBox(children=(HTML(value='Downloading'), FloatProgress(value=0.0, max=1112256686.0), HTML(value='')))"
      ]
     },
     "metadata": {},
     "output_type": "display_data"
    },
    {
     "name": "stdout",
     "output_type": "stream",
     "text": [
      "\n"
     ]
    }
   ],
   "source": [
    "from transformers import AutoTokenizer, AutoModel\n",
    "from torch.nn import functional as F\n",
    "\n",
    "\n",
    "tokenizer = AutoTokenizer.from_pretrained('sentence-transformers/xlm-r-100langs-bert-base-nli-stsb-mean-tokens')\n",
    "model = AutoModel.from_pretrained('sentence-transformers/xlm-r-100langs-bert-base-nli-stsb-mean-tokens')"
   ]
  },
  {
   "cell_type": "markdown",
   "metadata": {},
   "source": [
    "#### Step 1. Take the top K most frequent words V in the vocabulary of a word2vec model"
   ]
  },
  {
   "cell_type": "code",
   "execution_count": 16,
   "metadata": {},
   "outputs": [],
   "source": [
    "import spacy\n",
    "from collections import Counter"
   ]
  },
  {
   "cell_type": "code",
   "execution_count": 17,
   "metadata": {},
   "outputs": [],
   "source": [
    "en_nlp = spacy.load('en_core_web_md')\n",
    "es_nlp = spacy.load('es_core_news_md')"
   ]
  },
  {
   "cell_type": "code",
   "execution_count": 21,
   "metadata": {},
   "outputs": [],
   "source": [
    "sents_as_str = \". \".join(mexico_sents)"
   ]
  },
  {
   "cell_type": "code",
   "execution_count": 22,
   "metadata": {},
   "outputs": [],
   "source": [
    "doc = es_nlp(sents_as_str)"
   ]
  },
  {
   "cell_type": "code",
   "execution_count": 35,
   "metadata": {},
   "outputs": [],
   "source": [
    "# all tokens that arent stop words or punctuations\n",
    "words = [token.text.lower() for token in doc if not token.is_stop and not token.is_punct and len(token.text) > 3]"
   ]
  },
  {
   "cell_type": "code",
   "execution_count": 36,
   "metadata": {},
   "outputs": [],
   "source": [
    "# 20 most common tokens\n",
    "word_freq = Counter(words)\n",
    "common_words = word_freq.most_common(20)"
   ]
  },
  {
   "cell_type": "code",
   "execution_count": 39,
   "metadata": {},
   "outputs": [],
   "source": [
    "top_20_words = list(list(zip(*common_words))[0])"
   ]
  },
  {
   "cell_type": "markdown",
   "metadata": {},
   "source": [
    "#### Step 2. Obtain embeddings for each word using word2vec, $\\Phi_{word}(V)$"
   ]
  },
  {
   "cell_type": "code",
   "execution_count": 56,
   "metadata": {},
   "outputs": [],
   "source": [
    "from sentence_transformers import SentenceTransformer"
   ]
  },
  {
   "cell_type": "code",
   "execution_count": 167,
   "metadata": {},
   "outputs": [],
   "source": [
    "model = SentenceTransformer('xlm-r-100langs-bert-base-nli-stsb-mean-tokens')"
   ]
  },
  {
   "cell_type": "code",
   "execution_count": 75,
   "metadata": {},
   "outputs": [],
   "source": [
    "word2vec_embeddings = []\n",
    "\n",
    "for word in top_20_words:\n",
    "    doc = es_nlp(word)\n",
    "    vector = doc.vector\n",
    "    word2vec_embeddings.append(vector.reshape(1, 300))"
   ]
  },
  {
   "cell_type": "code",
   "execution_count": 76,
   "metadata": {},
   "outputs": [
    {
     "data": {
      "text/plain": [
       "(1, 300)"
      ]
     },
     "execution_count": 76,
     "metadata": {},
     "output_type": "execute_result"
    }
   ],
   "source": [
    "word2vec_embeddings[5].shape"
   ]
  },
  {
   "cell_type": "markdown",
   "metadata": {},
   "source": [
    "#### Step 3. Obtain embeddings for each word using S-BERT, $\\Phi_{sent}(V)$"
   ]
  },
  {
   "cell_type": "code",
   "execution_count": 77,
   "metadata": {},
   "outputs": [],
   "source": [
    "sbert_embeddings = []\n",
    "\n",
    "for word in top_20_words:\n",
    "    vector = model.encode([word], convert_to_numpy=True)\n",
    "    sbert_embeddings.append(vector)"
   ]
  },
  {
   "cell_type": "code",
   "execution_count": 78,
   "metadata": {},
   "outputs": [
    {
     "data": {
      "text/plain": [
       "(1, 768)"
      ]
     },
     "execution_count": 78,
     "metadata": {},
     "output_type": "execute_result"
    }
   ],
   "source": [
    "sbert_embeddings[5].shape"
   ]
  },
  {
   "cell_type": "markdown",
   "metadata": {},
   "source": [
    "#### Step 4. Learn a least-squares linear projection matrix Z with L2 regularization from $\\Phi_{sent}(V)$ to $\\Phi_{word}(V)$"
   ]
  },
  {
   "cell_type": "code",
   "execution_count": 79,
   "metadata": {},
   "outputs": [],
   "source": [
    "import numpy as np"
   ]
  },
  {
   "cell_type": "code",
   "execution_count": 92,
   "metadata": {},
   "outputs": [],
   "source": [
    "stacked_sbert = np.vstack(sbert_embeddings)\n",
    "stacked_word2vec = np.vstack(word2vec_embeddings)"
   ]
  },
  {
   "cell_type": "code",
   "execution_count": 93,
   "metadata": {},
   "outputs": [
    {
     "data": {
      "text/plain": [
       "((20, 768), (20, 300))"
      ]
     },
     "execution_count": 93,
     "metadata": {},
     "output_type": "execute_result"
    }
   ],
   "source": [
    "stacked_sbert.shape, stacked_word2vec.shape"
   ]
  },
  {
   "cell_type": "code",
   "execution_count": 126,
   "metadata": {},
   "outputs": [],
   "source": [
    "# Help from: https://stackoverflow.com/questions/27476933/numpy-linear-regression-with-regularization and https://www.kdnuggets.com/2016/11/linear-regression-least-squares-matrix-multiplication-concise-technical-overview.html\n",
    "lamda = 0.01\n",
    "Z = np.linalg.inv(stacked_sbert.T.dot(stacked_sbert) + lamda*np.eye(stacked_sbert.shape[1])).dot(stacked_sbert.T).dot(stacked_word2vec)"
   ]
  },
  {
   "cell_type": "code",
   "execution_count": 130,
   "metadata": {},
   "outputs": [
    {
     "data": {
      "text/plain": [
       "(array([[-0.05295929,  0.05582195,  0.05235754, ..., -0.04080104,\n",
       "          0.04818443, -0.04947441],\n",
       "        [-0.04507161,  0.04924799,  0.04927182, ...,  0.02818311,\n",
       "         -0.00224583,  0.01607599],\n",
       "        [ 0.03529566, -0.01392265,  0.02100322, ...,  0.01322018,\n",
       "         -0.04029205,  0.00166583],\n",
       "        ...,\n",
       "        [-0.02402003,  0.0106964 , -0.01340842, ..., -0.01896193,\n",
       "          0.02472302,  0.00564555],\n",
       "        [-0.01577198, -0.039034  , -0.04086349, ..., -0.01778074,\n",
       "         -0.02431414,  0.00515939],\n",
       "        [ 0.02128232, -0.02752294, -0.02670326, ...,  0.00878873,\n",
       "          0.00394322,  0.01953093]]),\n",
       " (768, 300))"
      ]
     },
     "execution_count": 130,
     "metadata": {},
     "output_type": "execute_result"
    }
   ],
   "source": [
    "Z, Z.shape"
   ]
  },
  {
   "cell_type": "markdown",
   "metadata": {},
   "source": [
    "#### Step 5. Use $Z$ in our classification as an additional transformation to S-BERT embeddings\n",
    "\n",
    "$$ \\hat{c} = arg\\,min\\,cos(\\Phi_{sent}(x)Z, \\Phi_{sent}(c)Z)$$"
   ]
  },
  {
   "cell_type": "code",
   "execution_count": 151,
   "metadata": {},
   "outputs": [],
   "source": [
    "import torch\n",
    "from torch.nn import functional as F"
   ]
  },
  {
   "cell_type": "code",
   "execution_count": 183,
   "metadata": {},
   "outputs": [],
   "source": [
    "sentence = 'Quien sera el presidente en 2020?'\n",
    "labels = ['negocios', 'cultura', 'politica']"
   ]
  },
  {
   "cell_type": "code",
   "execution_count": 184,
   "metadata": {},
   "outputs": [],
   "source": [
    "sentence_rep = torch.from_numpy(np.matmul(model.encode(sentence), Z)).reshape(1,300)\n",
    "label_reps = torch.from_numpy(np.matmul(model.encode(labels), Z))"
   ]
  },
  {
   "cell_type": "code",
   "execution_count": 185,
   "metadata": {},
   "outputs": [
    {
     "data": {
      "text/plain": [
       "(torch.Size([1, 300]), torch.Size([3, 300]))"
      ]
     },
     "execution_count": 185,
     "metadata": {},
     "output_type": "execute_result"
    }
   ],
   "source": [
    "sentence_rep.shape, label_reps.shape"
   ]
  },
  {
   "cell_type": "code",
   "execution_count": 186,
   "metadata": {},
   "outputs": [
    {
     "name": "stdout",
     "output_type": "stream",
     "text": [
      "label: cultura \t similarity: 0.18005858935166874\n",
      "label: politica \t similarity: -0.05537103742702351\n",
      "label: negocios \t similarity: -0.13347387625607443\n"
     ]
    }
   ],
   "source": [
    "similarities = F.cosine_similarity(sentence_rep, label_reps)\n",
    "closest = similarities.argsort(descending=True)\n",
    "for ind in closest:\n",
    "    print(f'label: {labels[ind]} \\t similarity: {similarities[ind]}')"
   ]
  },
  {
   "cell_type": "code",
   "execution_count": 187,
   "metadata": {},
   "outputs": [
    {
     "name": "stdout",
     "output_type": "stream",
     "text": [
      "tensor([1, 2, 0])\n"
     ]
    }
   ],
   "source": [
    "print(closest)"
   ]
  },
  {
   "cell_type": "markdown",
   "metadata": {},
   "source": [
    "#### Step 6. Build functions for the process!"
   ]
  },
  {
   "cell_type": "code",
   "execution_count": 199,
   "metadata": {},
   "outputs": [],
   "source": [
    "def top_k_words(k, document, spacy_model):\n",
    "    doc = spacy_model(sents_as_str)\n",
    "    \n",
    "    # all tokens that arent stop words or punctuations and are longer than 3 letters\n",
    "    words = [token.text.lower() for token in doc if not token.is_stop and not token.is_punct and len(token.text) > 3]\n",
    "    \n",
    "    # k most common tokens\n",
    "    word_freq = Counter(words)\n",
    "    common_words = word_freq.most_common(k)\n",
    "    \n",
    "    return list(list(zip(*common_words))[0])\n",
    "\n",
    "\n",
    "def top_k_word_embeddings(top_k_words, spacy_model):\n",
    "    word_embeddings = []\n",
    "\n",
    "    for word in top_k_words:\n",
    "        doc = spacy_model(word)\n",
    "        vector = doc.vector\n",
    "        word_embeddings.append(vector.reshape(1, vector.shape[0]))\n",
    "        \n",
    "    return word_embeddings\n",
    "\n",
    "\n",
    "def top_k_sbert_embeddings(top_k_words, sbert_model):\n",
    "    sbert_embeddings = []\n",
    "\n",
    "    for word in top_k_words:\n",
    "        vector = sbert_model.encode([word], convert_to_numpy=True)\n",
    "        sbert_embeddings.append(vector)\n",
    "    \n",
    "    return sbert_embeddings\n",
    "\n",
    "\n",
    "def calc_proj_matrix(X, y, lamda=0.01):\n",
    "    # Help from: https://stackoverflow.com/questions/27476933/numpy-linear-regression-with-regularization and https://www.kdnuggets.com/2016/11/linear-regression-least-squares-matrix-multiplication-concise-technical-overview.html\n",
    "    return np.linalg.inv(X.T.dot(X) + lamda*np.eye(X.shape[1])).dot(X.T).dot(y)\n",
    "\n",
    "\n",
    "def classify_sentence(sentence, labels, model, Z):\n",
    "    sentence_rep = torch.from_numpy(np.matmul(model.encode(sentence), Z))\n",
    "    sentence_rep = sentence_rep.reshape(1, sentence_rep.shape[0])\n",
    "    label_reps = torch.from_numpy(np.matmul(model.encode(labels), Z))\n",
    "    \n",
    "    similarities = F.cosine_similarity(sentence_rep, label_reps)\n",
    "    closest = similarities.argsort(descending=True)\n",
    "    \n",
    "    top_index = closest[0]\n",
    "    return labels[top_index], similarities[top_index]"
   ]
  },
  {
   "cell_type": "markdown",
   "metadata": {},
   "source": [
    "#### Step 7. Time to play on our data!"
   ]
  },
  {
   "cell_type": "code",
   "execution_count": 197,
   "metadata": {},
   "outputs": [],
   "source": [
    "from tqdm import tqdm\n",
    "from tasks.evaluate_model.src.model_evaluator import *"
   ]
  },
  {
   "cell_type": "code",
   "execution_count": 191,
   "metadata": {},
   "outputs": [],
   "source": [
    "sbert_model = SentenceTransformer('xlm-r-100langs-bert-base-nli-stsb-mean-tokens')"
   ]
  },
  {
   "cell_type": "code",
   "execution_count": 200,
   "metadata": {},
   "outputs": [
    {
     "name": "stderr",
     "output_type": "stream",
     "text": [
      "100%|██████████| 211/211 [01:10<00:00,  3.00it/s]\n"
     ]
    }
   ],
   "source": [
    "model_preds, model_scores = [], []\n",
    "\n",
    "for mexico_sent in tqdm(mexico_sents):\n",
    "    pred, score = classify_sentence(mexico_sent, label_names, sbert_model, Z)\n",
    "    model_preds.append(pred)\n",
    "    model_scores.append(score)"
   ]
  },
  {
   "cell_type": "code",
   "execution_count": 202,
   "metadata": {},
   "outputs": [],
   "source": [
    "evaluator = ModelEvaluator(label_names)"
   ]
  },
  {
   "cell_type": "code",
   "execution_count": 203,
   "metadata": {},
   "outputs": [],
   "source": [
    "num_multi_labels = labels_to_numeric(mexico_labels, label_names)\n",
    "num_multi_preds = labels_to_numeric(model_preds, label_names)"
   ]
  },
  {
   "cell_type": "code",
   "execution_count": 204,
   "metadata": {},
   "outputs": [
    {
     "data": {
      "text/plain": [
       "([7, 3, 5, 7, 1, 1, 5, 3, 7, 7], [6, 6, 5, 7, 6, 5, 6, 6, 4, 7])"
      ]
     },
     "execution_count": 204,
     "metadata": {},
     "output_type": "execute_result"
    }
   ],
   "source": [
    "num_multi_labels[:10], num_multi_preds[:10]"
   ]
  },
  {
   "cell_type": "code",
   "execution_count": 207,
   "metadata": {},
   "outputs": [
    {
     "data": {
      "image/png": "[encoded data removed]",
      "text/plain": [
       "<Figure size 432x288 with 1 Axes>"
      ]
     },
     "metadata": {},
     "output_type": "display_data"
    },
    {
     "name": "stdout",
     "output_type": "stream",
     "text": [
      "Label counts:\n",
      "{'Credit': 0.014218009478672985, 'Direct payment': 0.22748815165876776, 'Fine': 0.018957345971563982, 'General incentive': 0.14218009478672985, 'Guarantee': 0.014218009478672985, 'Supplies': 0.10900473933649289, 'Tax deduction': 0.004739336492890996, 'Technical assistance': 0.1848341232227488, 'Unknown': 0.2843601895734597}\n"
     ]
    }
   ],
   "source": [
    "plot_data_distribution(num_multi_labels, label_names)"
   ]
  },
  {
   "cell_type": "code",
   "execution_count": 205,
   "metadata": {},
   "outputs": [
    {
     "name": "stderr",
     "output_type": "stream",
     "text": [
      "/Users/dafirebanks/miniconda3/envs/wri_env/lib/python3.8/site-packages/sklearn/metrics/_classification.py:1221: UndefinedMetricWarning: Precision is ill-defined and being set to 0.0 in labels with no predicted samples. Use `zero_division` parameter to control this behavior.\n",
      "  _warn_prf(average, modifier, msg_start, len(result))\n"
     ]
    },
    {
     "name": "stdout",
     "output_type": "stream",
     "text": [
      "Stored confusion matrix: ../output/multi_class_test_cm.png\n"
     ]
    },
    {
     "data": {
      "image/png": "[encoded data removed]",
      "text/plain": [
       "<Figure size 576x432 with 2 Axes>"
      ]
     },
     "metadata": {
      "needs_background": "light"
     },
     "output_type": "display_data"
    },
    {
     "name": "stdout",
     "output_type": "stream",
     "text": [
      "Stored results: ../output/multi_class_test_results.csv\n"
     ]
    },
    {
     "data": {
      "text/html": [
       "<div>\n",
       "<style scoped>\n",
       "    .dataframe tbody tr th:only-of-type {\n",
       "        vertical-align: middle;\n",
       "    }\n",
       "\n",
       "    .dataframe tbody tr th {\n",
       "        vertical-align: top;\n",
       "    }\n",
       "\n",
       "    .dataframe thead th {\n",
       "        text-align: right;\n",
       "    }\n",
       "</style>\n",
       "<table border=\"1\" class=\"dataframe\">\n",
       "  <thead>\n",
       "    <tr style=\"text-align: right;\">\n",
       "      <th></th>\n",
       "      <th>Precision</th>\n",
       "      <th>Recall (Sensitivity)</th>\n",
       "      <th>True negative rate (Specificity)</th>\n",
       "      <th>F1-score</th>\n",
       "    </tr>\n",
       "  </thead>\n",
       "  <tbody>\n",
       "    <tr>\n",
       "      <th>Credit</th>\n",
       "      <td>0</td>\n",
       "      <td>0</td>\n",
       "      <td>1</td>\n",
       "      <td>0</td>\n",
       "    </tr>\n",
       "    <tr>\n",
       "      <th>Direct payment</th>\n",
       "      <td>0</td>\n",
       "      <td>0</td>\n",
       "      <td>1</td>\n",
       "      <td>0</td>\n",
       "    </tr>\n",
       "    <tr>\n",
       "      <th>Fine</th>\n",
       "      <td>0</td>\n",
       "      <td>0</td>\n",
       "      <td>1</td>\n",
       "      <td>0</td>\n",
       "    </tr>\n",
       "    <tr>\n",
       "      <th>General incentive</th>\n",
       "      <td>0.67</td>\n",
       "      <td>0.13</td>\n",
       "      <td>0.99</td>\n",
       "      <td>0.22</td>\n",
       "    </tr>\n",
       "    <tr>\n",
       "      <th>Guarantee</th>\n",
       "      <td>0</td>\n",
       "      <td>0</td>\n",
       "      <td>0.99</td>\n",
       "      <td>0</td>\n",
       "    </tr>\n",
       "    <tr>\n",
       "      <th>Supplies</th>\n",
       "      <td>0.24</td>\n",
       "      <td>0.35</td>\n",
       "      <td>0.87</td>\n",
       "      <td>0.29</td>\n",
       "    </tr>\n",
       "    <tr>\n",
       "      <th>-----</th>\n",
       "      <td>-----</td>\n",
       "      <td>-----</td>\n",
       "      <td>-----</td>\n",
       "      <td>-----</td>\n",
       "    </tr>\n",
       "    <tr>\n",
       "      <th>Tax deduction</th>\n",
       "      <td>0.01</td>\n",
       "      <td>1</td>\n",
       "      <td>0.55</td>\n",
       "      <td>0.02</td>\n",
       "    </tr>\n",
       "    <tr>\n",
       "      <th>Technical assistance</th>\n",
       "      <td>0.39</td>\n",
       "      <td>0.74</td>\n",
       "      <td>0.73</td>\n",
       "      <td>0.51</td>\n",
       "    </tr>\n",
       "    <tr>\n",
       "      <th>Unknown</th>\n",
       "      <td>0</td>\n",
       "      <td>0</td>\n",
       "      <td>1</td>\n",
       "      <td>0</td>\n",
       "    </tr>\n",
       "    <tr>\n",
       "      <th>Macro avg</th>\n",
       "      <td>0.15</td>\n",
       "      <td>0.25</td>\n",
       "      <td>0.9</td>\n",
       "      <td>0.12</td>\n",
       "    </tr>\n",
       "    <tr>\n",
       "      <th>Weighted avg</th>\n",
       "      <td>0.19</td>\n",
       "      <td>0.2</td>\n",
       "      <td>0.93</td>\n",
       "      <td>0.16</td>\n",
       "    </tr>\n",
       "    <tr>\n",
       "      <th>Accuracy</th>\n",
       "      <td>-----</td>\n",
       "      <td>-----</td>\n",
       "      <td>-----</td>\n",
       "      <td>0.1990521327014218</td>\n",
       "    </tr>\n",
       "  </tbody>\n",
       "</table>\n",
       "</div>"
      ],
      "text/plain": [
       "                     Precision Recall (Sensitivity)  \\\n",
       "Credit                       0                    0   \n",
       "Direct payment               0                    0   \n",
       "Fine                         0                    0   \n",
       "General incentive         0.67                 0.13   \n",
       "Guarantee                    0                    0   \n",
       "Supplies                  0.24                 0.35   \n",
       "-----                    -----                -----   \n",
       "Tax deduction             0.01                    1   \n",
       "Technical assistance      0.39                 0.74   \n",
       "Unknown                      0                    0   \n",
       "Macro avg                 0.15                 0.25   \n",
       "Weighted avg              0.19                  0.2   \n",
       "Accuracy                 -----                -----   \n",
       "\n",
       "                     True negative rate (Specificity)            F1-score  \n",
       "Credit                                              1                   0  \n",
       "Direct payment                                      1                   0  \n",
       "Fine                                                1                   0  \n",
       "General incentive                                0.99                0.22  \n",
       "Guarantee                                        0.99                   0  \n",
       "Supplies                                         0.87                0.29  \n",
       "-----                                           -----               -----  \n",
       "Tax deduction                                    0.55                0.02  \n",
       "Technical assistance                             0.73                0.51  \n",
       "Unknown                                             1                   0  \n",
       "Macro avg                                         0.9                0.12  \n",
       "Weighted avg                                     0.93                0.16  \n",
       "Accuracy                                        -----  0.1990521327014218  "
      ]
     },
     "execution_count": 205,
     "metadata": {},
     "output_type": "execute_result"
    }
   ],
   "source": [
    "evaluator.evaluate(num_multi_labels, num_multi_preds, \n",
    "                   plot_cm=True, normalize=True, \n",
    "                   store=True, exp_name=\"multi_class_test\")"
   ]
  },
  {
   "cell_type": "code",
   "execution_count": 206,
   "metadata": {},
   "outputs": [
    {
     "name": "stdout",
     "output_type": "stream",
     "text": [
      "Stored Precision-Recall Curve: multi_class_test_prc.png\n"
     ]
    },
    {
     "data": {
      "image/png": "[encoded data removed]",
      "text/plain": [
       "<Figure size 504x576 with 1 Axes>"
      ]
     },
     "metadata": {},
     "output_type": "display_data"
    }
   ],
   "source": [
    "evaluator.plot_precision_recall_curve(num_multi_labels, num_multi_preds, bin_class=False, all_classes=True, store=True, exp_name=\"multi_class_test\")"
   ]
  },
  {
   "cell_type": "code",
   "execution_count": null,
   "metadata": {},
   "outputs": [],
   "source": []
  }
 ],
 "metadata": {
  "kernelspec": {
   "display_name": "wri-env",
   "language": "python",
   "name": "wri-env"
  },
  "language_info": {
   "codemirror_mode": {
    "name": "ipython",
    "version": 3
   },
   "file_extension": ".py",
   "mimetype": "text/x-python",
   "name": "python",
   "nbconvert_exporter": "python",
   "pygments_lexer": "ipython3",
   "version": "3.8.5"
  }
 },
 "nbformat": 4,
 "nbformat_minor": 4
}
