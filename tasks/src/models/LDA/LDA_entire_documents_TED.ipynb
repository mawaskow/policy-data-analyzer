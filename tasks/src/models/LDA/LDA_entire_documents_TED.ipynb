{
 "cells": [
  {
   "cell_type": "markdown",
   "metadata": {},
   "source": [
    "# Topic Modelling (LDA) over entire documents - TED Talks\n",
    "\n",
    "This notebook contain a workflow of a first exploration with LDA method implemented in *gensim* package. We store in a list  each  all the 61 `*.txt` files from Google Drive folder of Task 1, then we clean the corpus and passed it to ``."
   ]
  },
  {
   "cell_type": "markdown",
   "metadata": {},
   "source": [
    "## Packages used"
   ]
  },
  {
   "cell_type": "code",
   "execution_count": 131,
   "metadata": {},
   "outputs": [],
   "source": [
    "# Importing modules\n",
    "import pandas as pd\n",
    "import os\n",
    "from pathlib import Path\n",
    "os.chdir('..')\n",
    "import glob\n",
    "import unidecode\n",
    "import pathlib\n",
    "\n",
    "# Load the library with the CountVectorizer method\n",
    "import nltk\n",
    "from nltk import word_tokenize\n",
    "from nltk.data import load\n",
    "from nltk.stem import SnowballStemmer\n",
    "from string import punctuation\n",
    "import es_core_news_sm\n",
    "import unidecode\n",
    "import string\n",
    "\n",
    "# Gensim\n",
    "import gensim\n",
    "import gensim.corpora as corpora\n",
    "from gensim.utils import simple_preprocess\n",
    "from gensim.models import CoherenceModel\n",
    "\n",
    "# spacy for lemmatization\n",
    "import spacy\n",
    "\n",
    "# Plotting tools\n",
    "import pyLDAvis\n",
    "import pyLDAvis.gensim  # don't skip this\n",
    "import matplotlib.pyplot as plt\n",
    "\n",
    "from sklearn.feature_extraction.text import CountVectorizer\n",
    "import numpy as np\n",
    "import matplotlib.pyplot as plt\n",
    "import seaborn as sns"
   ]
  },
  {
   "cell_type": "code",
   "execution_count": 132,
   "metadata": {},
   "outputs": [],
   "source": [
    "## Download stopwords if you do not have it\n",
    "# nltk.download()"
   ]
  },
  {
   "cell_type": "code",
   "execution_count": 133,
   "metadata": {},
   "outputs": [],
   "source": [
    "from nltk.corpus import stopwords\n",
    "# stop_words = stopwords.words('spanish')\n",
    "stop_words = spacy.lang.es.stop_words.STOP_WORDS"
   ]
  },
  {
   "cell_type": "markdown",
   "metadata": {},
   "source": [
    "## Set the path"
   ]
  },
  {
   "cell_type": "markdown",
   "metadata": {},
   "source": [
    "Set your workspace in the right location:\n",
    "\n",
    "    `%cd Your_paht/wrilatinamerica`\n",
    "\n",
    "Type your path in the next cell."
   ]
  },
  {
   "cell_type": "code",
   "execution_count": 134,
   "metadata": {},
   "outputs": [
    {
     "name": "stdout",
     "output_type": "stream",
     "text": [
      "C:\\Users\\dcalle.MATONE\\Documents\\GitHub\\wrilatinamerica\n"
     ]
    },
    {
     "data": {
      "text/plain": [
       "'C:\\\\Users\\\\dcalle.MATONE\\\\Documents\\\\GitHub\\\\wrilatinamerica'"
      ]
     },
     "execution_count": 134,
     "metadata": {},
     "output_type": "execute_result"
    }
   ],
   "source": [
    "%cd C:\\Users\\dcalle.MATONE\\Documents\\GitHub\\wrilatinamerica\n",
    "%pwd"
   ]
  },
  {
   "cell_type": "markdown",
   "metadata": {},
   "source": [
    "## Load the data\n",
    "\n",
    "We navigated through folders to locate the preprocessed `*.txt` files. `documents` is a list with all the documents, labebeld with the corresponding country and file name."
   ]
  },
  {
   "cell_type": "code",
   "execution_count": 135,
   "metadata": {},
   "outputs": [
    {
     "name": "stdout",
     "output_type": "stream",
     "text": [
      "Index(['talk_id', 'title', 'speaker_1', 'all_speakers', 'occupations',\n",
      "       'about_speakers', 'views', 'recorded_date', 'published_date', 'event',\n",
      "       'native_lang', 'available_lang', 'comments', 'duration', 'topics',\n",
      "       'related_talks', 'url', 'description', 'transcript'],\n",
      "      dtype='object')\n",
      "Casi todos formamos parte de una comunidad en el mundo, grande o pequeña. Y todas estas comunidades tienen necesidades muy parecidas. Necesitan luz, necesitan calor, necesitan refrigeración. La gente no funciona demasiado bien si hace mucho calor o mucho frío. Necesitan cultivar o producir alimentos, y distribuirlos y almacenarlos de forma segura. Los desechos deben recolectarse, eliminarse y procesarse. En una comunidad, la gente necesita trasladarse de un lugar a otro de la forma más rápida po\n",
      "(39, 19)\n"
     ]
    },
    {
     "data": {
      "text/html": [
       "<div>\n",
       "<style scoped>\n",
       "    .dataframe tbody tr th:only-of-type {\n",
       "        vertical-align: middle;\n",
       "    }\n",
       "\n",
       "    .dataframe tbody tr th {\n",
       "        vertical-align: top;\n",
       "    }\n",
       "\n",
       "    .dataframe thead th {\n",
       "        text-align: right;\n",
       "    }\n",
       "</style>\n",
       "<table border=\"1\" class=\"dataframe\">\n",
       "  <thead>\n",
       "    <tr style=\"text-align: right;\">\n",
       "      <th></th>\n",
       "      <th>talk_id</th>\n",
       "      <th>title</th>\n",
       "      <th>speaker_1</th>\n",
       "      <th>all_speakers</th>\n",
       "      <th>occupations</th>\n",
       "      <th>about_speakers</th>\n",
       "      <th>views</th>\n",
       "      <th>recorded_date</th>\n",
       "      <th>published_date</th>\n",
       "      <th>event</th>\n",
       "      <th>native_lang</th>\n",
       "      <th>available_lang</th>\n",
       "      <th>comments</th>\n",
       "      <th>duration</th>\n",
       "      <th>topics</th>\n",
       "      <th>related_talks</th>\n",
       "      <th>url</th>\n",
       "      <th>description</th>\n",
       "      <th>transcript</th>\n",
       "    </tr>\n",
       "  </thead>\n",
       "  <tbody>\n",
       "    <tr>\n",
       "      <th>1061</th>\n",
       "      <td>1324</td>\n",
       "      <td>El torio: un combustible nuclear alternativo</td>\n",
       "      <td>Kirk Sorensen</td>\n",
       "      <td>{0: 'Kirk Sorensen'}</td>\n",
       "      <td>{0: ['engineer', 'nuclear technologist']}</td>\n",
       "      <td>{0: 'Kirk Sorensen stumbled across thorium whi...</td>\n",
       "      <td>606386</td>\n",
       "      <td>2011-04-01</td>\n",
       "      <td>2012-01-14</td>\n",
       "      <td>TEDxYYC</td>\n",
       "      <td>en</td>\n",
       "      <td>['ar', 'da', 'en', 'es', 'fa', 'fr', 'hu', 'id...</td>\n",
       "      <td>341.0</td>\n",
       "      <td>599</td>\n",
       "      <td>['TEDx', 'alternative energy', 'nuclear energy...</td>\n",
       "      <td>{862: 'Planning for the end of oil', 718: \"Fus...</td>\n",
       "      <td>https://www.ted.com/talks/kirk_sorensen_thoriu...</td>\n",
       "      <td>Kirk Sorensen nos muestra el reactor de torio ...</td>\n",
       "      <td>Casi todos formamos parte de una comunidad en ...</td>\n",
       "    </tr>\n",
       "    <tr>\n",
       "      <th>235</th>\n",
       "      <td>279</td>\n",
       "      <td>Chris Jordan muestra unas sorprendentes estadí...</td>\n",
       "      <td>Chris Jordan</td>\n",
       "      <td>{0: 'Chris Jordan'}</td>\n",
       "      <td>{0: ['artist']}</td>\n",
       "      <td>{0: 'Chris Jordan runs the numbers on modern A...</td>\n",
       "      <td>1930761</td>\n",
       "      <td>2008-02-02</td>\n",
       "      <td>2008-06-15</td>\n",
       "      <td>TED2008</td>\n",
       "      <td>en</td>\n",
       "      <td>['ar', 'bg', 'de', 'el', 'en', 'es', 'et', 'fa...</td>\n",
       "      <td>230.0</td>\n",
       "      <td>674</td>\n",
       "      <td>['art', 'beauty', 'business', 'culture', 'phot...</td>\n",
       "      <td>{56: 'My wish: Manufactured landscapes and gre...</td>\n",
       "      <td>https://www.ted.com/talks/chris_jordan_turning...</td>\n",
       "      <td>El artista Chris Jordan nos muestra una perspe...</td>\n",
       "      <td>Mi trabajo es acerca de la comportamientos que...</td>\n",
       "    </tr>\n",
       "  </tbody>\n",
       "</table>\n",
       "</div>"
      ],
      "text/plain": [
       "      talk_id                                              title  \\\n",
       "1061     1324       El torio: un combustible nuclear alternativo   \n",
       "235       279  Chris Jordan muestra unas sorprendentes estadí...   \n",
       "\n",
       "          speaker_1          all_speakers  \\\n",
       "1061  Kirk Sorensen  {0: 'Kirk Sorensen'}   \n",
       "235    Chris Jordan   {0: 'Chris Jordan'}   \n",
       "\n",
       "                                    occupations  \\\n",
       "1061  {0: ['engineer', 'nuclear technologist']}   \n",
       "235                             {0: ['artist']}   \n",
       "\n",
       "                                         about_speakers    views  \\\n",
       "1061  {0: 'Kirk Sorensen stumbled across thorium whi...   606386   \n",
       "235   {0: 'Chris Jordan runs the numbers on modern A...  1930761   \n",
       "\n",
       "     recorded_date published_date    event native_lang  \\\n",
       "1061    2011-04-01     2012-01-14  TEDxYYC          en   \n",
       "235     2008-02-02     2008-06-15  TED2008          en   \n",
       "\n",
       "                                         available_lang  comments  duration  \\\n",
       "1061  ['ar', 'da', 'en', 'es', 'fa', 'fr', 'hu', 'id...     341.0       599   \n",
       "235   ['ar', 'bg', 'de', 'el', 'en', 'es', 'et', 'fa...     230.0       674   \n",
       "\n",
       "                                                 topics  \\\n",
       "1061  ['TEDx', 'alternative energy', 'nuclear energy...   \n",
       "235   ['art', 'beauty', 'business', 'culture', 'phot...   \n",
       "\n",
       "                                          related_talks  \\\n",
       "1061  {862: 'Planning for the end of oil', 718: \"Fus...   \n",
       "235   {56: 'My wish: Manufactured landscapes and gre...   \n",
       "\n",
       "                                                    url  \\\n",
       "1061  https://www.ted.com/talks/kirk_sorensen_thoriu...   \n",
       "235   https://www.ted.com/talks/chris_jordan_turning...   \n",
       "\n",
       "                                            description  \\\n",
       "1061  Kirk Sorensen nos muestra el reactor de torio ...   \n",
       "235   El artista Chris Jordan nos muestra una perspe...   \n",
       "\n",
       "                                             transcript  \n",
       "1061  Casi todos formamos parte de una comunidad en ...  \n",
       "235   Mi trabajo es acerca de la comportamientos que...  "
      ]
     },
     "execution_count": 135,
     "metadata": {},
     "output_type": "execute_result"
    }
   ],
   "source": [
    "TED_talks_all = pd.read_csv('src/data/docs/ted_talks_es.csv')\n",
    "TED_talks = TED_talks_all.sample(frac=0.01, replace=True, random_state=1)\n",
    "print(TED_talks.columns)\n",
    "TED_content = TED_talks.transcript.tolist()\n",
    "print(TED_content[0][:500])\n",
    "print(TED_talks.shape)\n",
    "TED_talks.head(2)"
   ]
  },
  {
   "cell_type": "code",
   "execution_count": null,
   "metadata": {},
   "outputs": [],
   "source": []
  },
  {
   "cell_type": "code",
   "execution_count": 136,
   "metadata": {},
   "outputs": [
    {
     "name": "stdout",
     "output_type": "stream",
     "text": [
      "src\\data\\docs\\Mexico\\CONAFOR_ plan 2025_preprocessed.txt\n",
      "src\\data\\docs\\Mexico\\Folleto_Sembrando_Vida_-_Espa_ol (1)_preprocessed.txt\n",
      "src\\data\\docs\\Mexico\\Lineamientos_de_Operaci_n_del_Programa_Sembrando_Vida_preprocessed.txt\n",
      "src\\data\\docs\\Mexico\\Mexico_LGDFS_050618_preprocessed.txt\n",
      "src\\data\\docs\\Mexico\\Normasde Operacion CONAFOR_preprocessed.txt\n",
      "src\\data\\docs\\Mexico\\reglas de operacion DOF - Diario Oficial de la Federación_preprocessed.txt\n",
      "src\\data\\docs\\Mexico\\SembrandovidaReportefeb2019Febrero-1_preprocessed.txt\n",
      "src\\data\\docs\\Peru\\007-2015_preprocessed.txt\n",
      "src\\data\\docs\\Peru\\1633_preprocessed.txt\n",
      "src\\data\\docs\\Peru\\19-politica_nacional_forestal_y_de_fauna_silvestre_-_edicion_de_bolsillo_2017_-_serfor_preprocessed.txt\n",
      "src\\data\\docs\\Peru\\2061_preprocessed.txt\n",
      "src\\data\\docs\\Peru\\2063_preprocessed.txt\n",
      "src\\data\\docs\\Peru\\2065_preprocessed.txt\n",
      "src\\data\\docs\\Peru\\3119_preprocessed.txt\n",
      "src\\data\\docs\\Peru\\aportes_leg_cc_preprocessed.txt\n",
      "src\\data\\docs\\Peru\\ley_n_preprocessed.txt\n",
      "src\\data\\docs\\Peru\\LFFS-Y-SUS-REGLAMENTOS_preprocessed.txt\n",
      "src\\data\\docs\\Peru\\nl20161125-4-6_preprocessed.txt\n",
      "src\\data\\docs\\Peru\\rcd_047-2015-oefa_preprocessed.txt\n",
      "src\\data\\docs\\Peru\\res_011-2015-os_cd_preprocessed.txt\n",
      "src\\data\\docs\\Chile\\1368741650LibroLey_Bosque_NativoReglamentos_preprocessed.txt\n",
      "src\\data\\docs\\Chile\\1396624740REGLAMENTOGENERALDELALEYSOBRERECUPERACIONDELBOSQUE_2012_preprocessed.txt\n",
      "src\\data\\docs\\Chile\\1396624849DTO28_19OCT2013_preprocessed.txt\n",
      "src\\data\\docs\\Chile\\1465240427NormativaForestal_preprocessed.txt\n",
      "src\\data\\docs\\Chile\\1586361107ProcedimientocontingenciaCOVID19_preprocessed.txt\n",
      "src\\data\\docs\\Chile\\Chile_preprocessed.txt\n",
      "src\\data\\docs\\Chile\\decreto-24-2020-del-minagri-que-establece-tabla-de-costos-2019-del-programa-sirsd-s_preprocessed.txt\n",
      "src\\data\\docs\\Chile\\DTO-4363_31-JUL-1931_preprocessed.txt\n",
      "src\\data\\docs\\Chile\\DTO-490_05-SEP-1977_preprocessed.txt\n",
      "src\\data\\docs\\Chile\\DTO-95_05-OCT-2009_preprocessed.txt\n",
      "src\\data\\docs\\Chile\\informeSuelos2018_preprocessed.txt\n",
      "src\\data\\docs\\Chile\\Tabla Costos SIRSD Chile decreto-24-2020-del-minagri-que-establece-tabla-de-costos-2019-del-programa-sirsd-s_preprocessed.txt\n",
      "src\\data\\docs\\Guatemala\\01 Politica Marco_preprocessed.txt\n",
      "src\\data\\docs\\Guatemala\\03 Politica de Equidad de Género_preprocessed.txt\n",
      "src\\data\\docs\\Guatemala\\04 politica educación_preprocessed.txt\n",
      "src\\data\\docs\\Guatemala\\06 Politica Marino Costera_preprocessed.txt\n",
      "src\\data\\docs\\Guatemala\\07 politica cambio climatico_preprocessed.txt\n",
      "src\\data\\docs\\Guatemala\\12 Política Nacional de Productos Químicos_preprocessed.txt\n",
      "src\\data\\docs\\Guatemala\\4739_preprocessed.txt\n",
      "src\\data\\docs\\Guatemala\\Compendio de legislacion ambiental Guatemala_preprocessed.txt\n",
      "src\\data\\docs\\Guatemala\\gt_-_ley_68-86_de_proteccion_y_mejoramiento_del_medio_ambiente_1986_preprocessed.txt\n",
      "src\\data\\docs\\Guatemala\\LeyCambioCliatico_preprocessed.txt\n",
      "src\\data\\docs\\Guatemala\\Ley_Forestal_Guatemala_preprocessed.txt\n",
      "src\\data\\docs\\Guatemala\\trifoliar_probosque_preprocessed.txt\n",
      "src\\data\\docs\\El Salvador\\171117_072857074_archivo_documento_legislativo_preprocessed.txt\n",
      "src\\data\\docs\\El Salvador\\BC0CB563-BD88-4711-B579-13426A05EECF_preprocessed.txt\n",
      "src\\data\\docs\\El Salvador\\Documento conceptual PREP_preprocessed.txt\n",
      "src\\data\\docs\\El Salvador\\Ley de areas naturales protegidas_preprocessed.txt\n",
      "src\\data\\docs\\El Salvador\\Ley de las Semillas (1)_preprocessed.txt\n",
      "src\\data\\docs\\El Salvador\\Ley de Ordenamiento Territorial_preprocessed.txt\n",
      "src\\data\\docs\\El Salvador\\Ley de Urbanismo y Construccion_preprocessed.txt\n",
      "src\\data\\docs\\El Salvador\\Ley Decreto Comision Ejecutiva Hidroelectrica del Rio Lempa_preprocessed.txt\n",
      "src\\data\\docs\\El Salvador\\Ley del medio ambiente_preprocessed.txt\n",
      "src\\data\\docs\\El Salvador\\Ley Especial Café_preprocessed.txt\n",
      "src\\data\\docs\\El Salvador\\Ley Forestal_preprocessed.txt\n",
      "src\\data\\docs\\El Salvador\\Ley General Electricidad_preprocessed.txt\n",
      "src\\data\\docs\\El Salvador\\Ley Ordenacion y Promocion de la Acuicultura_preprocessed.txt\n",
      "src\\data\\docs\\El Salvador\\Ley Turismo_preprocessed.txt\n",
      "src\\data\\docs\\El Salvador\\LEY-DE-CREACION-DEL-CONSAA1_preprocessed.txt\n",
      "src\\data\\docs\\El Salvador\\LEY_FOMENTO_DESARROLLO_GANADERO_preprocessed.txt\n",
      "src\\data\\docs\\El Salvador\\politica_nacional_de_educacion_ambiental_el_salvador_preprocessed.txt\n"
     ]
    }
   ],
   "source": [
    "countries = ['mexico','peru','chile','guatemala', 'el salvador']\n",
    "docs_path = Path(\"src/data/docs\")\n",
    "\n",
    "documents = list()\n",
    "big_files = 0\n",
    "\n",
    "for country in countries:\n",
    "\n",
    "    txt_path = docs_path / country.title()\n",
    "    files = os.listdir(txt_path)\n",
    "    files = [file for file in files if '.txt' in file]\n",
    "    \n",
    "    for elem in files:\n",
    "        if type(elem) == str:\n",
    "            file_name = elem.split('/')[-1].split('.')[0]\n",
    "        else: continue \n",
    "        open_path = os.path.join(txt_path, file_name + \".txt\")\n",
    "        print(open_path)\n",
    "        \n",
    "        try:\n",
    "            with open(open_path, 'rb') as text:\n",
    "                decoded = text.read()\n",
    "                decoded = decoded.decode('UTF-8').replace('\\n', ' ')\n",
    "                \n",
    "            # Avoiding too large texts (for processing whole documents)\n",
    "            if len(decoded)>1000000:\n",
    "                text.close\n",
    "                big_files += 1\n",
    "            else:\n",
    "                documents.append((country.title(),file_name,decoded))\n",
    "                text.close\n",
    "        except: \n",
    "            print(\"This file must be included locally \", file_name)\n",
    "            continue"
   ]
  },
  {
   "cell_type": "markdown",
   "metadata": {},
   "source": [
    "## Preprocessing\n",
    "\n",
    "In the first place, we perform tokenization with `sent_to_words` function over the corpus. We then implemented some functions:\n",
    "\n",
    "0. `sent_to_words`: function for tokenization.\n",
    "\n",
    "1. `make_bigrams`/`make_trigrams`: They build unigrams/bigrams/trigrams combinations for not miss useful expressions not covered by simple unigrams.\n",
    "\n",
    "3. `lemmatization`: a *spaCy* function that lemmatize our tokens."
   ]
  },
  {
   "cell_type": "code",
   "execution_count": 137,
   "metadata": {},
   "outputs": [
    {
     "data": {
      "text/plain": [
       "97"
      ]
     },
     "execution_count": 137,
     "metadata": {},
     "output_type": "execute_result"
    }
   ],
   "source": [
    "all_docs = [k for _,_,k in documents]\n",
    "all_docs.extend(TED_content)\n",
    "all_docs[-1][:100]\n",
    "len(all_docs)"
   ]
  },
  {
   "cell_type": "code",
   "execution_count": 138,
   "metadata": {},
   "outputs": [
    {
     "name": "stdout",
     "output_type": "stream",
     "text": [
      "['indice', 'lista', 'cuadros', 'figurasiv', 'lista', 'anexosv', 'acronimos', 'abreviaturasv', 'presentacion', 'introduccion']\n"
     ]
    }
   ],
   "source": [
    "def sent_to_words(sentences):\n",
    "    for sentence in sentences:\n",
    "        yield(gensim.utils.simple_preprocess(str(sentence), deacc=True))  # deacc=True removes punctuations\n",
    "\n",
    "data_words = list(sent_to_words(all_docs))\n",
    "\n",
    "# Some tokens of the first document\n",
    "print(data_words[0][:10])"
   ]
  },
  {
   "cell_type": "code",
   "execution_count": 139,
   "metadata": {},
   "outputs": [],
   "source": [
    "# Build the bigram and trigram models\n",
    "bigram = gensim.models.Phrases(data_words, min_count=2, threshold=100) # higher threshold fewer phrases.\n",
    "trigram = gensim.models.Phrases(bigram[data_words], threshold=100)  \n",
    "\n",
    "# Faster way to get a sentence clubbed as a trigram/bigram\n",
    "bigram_mod = gensim.models.phrases.Phraser(bigram)\n",
    "trigram_mod = gensim.models.phrases.Phraser(trigram)"
   ]
  },
  {
   "cell_type": "code",
   "execution_count": 140,
   "metadata": {},
   "outputs": [
    {
     "name": "stdout",
     "output_type": "stream",
     "text": [
      "['indice', 'lista', 'cuadros', 'figurasiv', 'lista', 'anexosv', 'acronimos', 'abreviaturasv', 'presentacion', 'introduccion', 'antecedentes', 'organizacion', 'proyecto', 'objetivo', 'programa', 'estrategico', 'forestal', 'mexico', 'proceso', 'elaboracion', 'plan', 'diagnostico', 'recursos', 'naturales', 'marco', 'referencia', 'degradacion', 'recursos', 'manejo', 'forestal', 'plantaciones', 'forestales', 'germoplasma', 'aprovechamiento', 'industria', 'forestal', 'bioenergia', 'servicios', 'ambientales', 'recursos', 'maderables', 'biodiversidad', 'mecanismos', 'financieros', 'marco', 'institucional', 'servicios', 'tecnicos', 'inspeccion_vigilancia', 'sistema', 'nacional', 'informacion', 'forestal', 'inventario', 'nacional', 'forestal', 'educacion', 'capacitacion', 'investigacion', 'cultura', 'forestal', 'marco_juridico', 'fortalezas_debilidades', 'comparativas', 'sector', 'forestal', 'maderable', 'implicaciones', 'sociales', 'objetivos', 'del', 'desarrollo', 'forestal', 'sustentable', 'objetivo', 'resultados_esperados', 'vision', 'sector', 'forestal', 'contribucion', 'plan', 'puebla_panama', 'estrategia', 'general', 'para', 'el', 'desarrollo', 'forestal', 'sustentable', 'manejo', 'forestal', 'sustentable', 'principios_generales', 'lineamientos', 'especificos', 'escenarios', 'perspectivas', 'desarrollo', 'forestal', 'sustentable']\n"
     ]
    }
   ],
   "source": [
    "# See trigram example\n",
    "print(trigram_mod[bigram_mod[data_words[0]]][:100])"
   ]
  },
  {
   "cell_type": "code",
   "execution_count": 141,
   "metadata": {},
   "outputs": [],
   "source": [
    "# Define functions for stopwords, bigrams, trigrams and lemmatization\n",
    "def remove_stopwords(texts):\n",
    "    return [[word for word in simple_preprocess(str(doc)) if word not in stop_words] for doc in texts]\n",
    "\n",
    "def make_bigrams(texts):\n",
    "    return [bigram_mod[doc] for doc in texts]\n",
    "\n",
    "def make_trigrams(texts):\n",
    "    return [trigram_mod[bigram_mod[doc]] for doc in texts]\n",
    "#-----------------------------------------------------------------------------------------------------------\n",
    "def lemmatization(texts, allowed_postags=['NOUN', 'ADJ', 'VERB', 'ADV']):\n",
    "    \"\"\"https://spacy.io/api/annotation\"\"\"\n",
    "    texts_out = []\n",
    "    for sent in texts:\n",
    "        doc = nlp(\" \".join(sent)) \n",
    "        texts_out.append([token.lemma_ for token in doc if token.pos_ in allowed_postags])\n",
    "    return texts_out"
   ]
  },
  {
   "cell_type": "markdown",
   "metadata": {},
   "source": [
    "Now, let's run the preprocessing."
   ]
  },
  {
   "cell_type": "code",
   "execution_count": 142,
   "metadata": {},
   "outputs": [],
   "source": [
    "# !python -m spacy download es_core_news_md\n",
    "\n",
    "# If fails, please, uncomment the preceeding line\n",
    "nlp = spacy.load('es_core_news_md', disable=['parser', 'ner'])"
   ]
  },
  {
   "cell_type": "code",
   "execution_count": 143,
   "metadata": {},
   "outputs": [],
   "source": [
    "added_stopwords = [\"ley\",\"casar\", \"nacion\", \"republica\", \"decreto\", \"pagina\", \"resolución\", \"resolucion\", \"decir\", \"siguiente\", \"terminos\", \"presidente\", \n",
    " \"decretar\", \"ministro\", \"respectivo\", \"fecho\", \"caracter\", \"ano\", \"secretario\", \"asamblea\", \"senado\", \"deberan\", \"anexo\", \"informacion\", \"enmienda\",\n",
    " \"deberian\", \"signatario\", \"inclusive\"]\n",
    "\n",
    "for w in added_stopwords:\n",
    "    stop_words.add(w)\n",
    "    \n",
    "for w in stopwords.words('spanish'):\n",
    "    stop_words.add(w)\n",
    "\n",
    "# Remove Stop Words\n",
    "data_words_nostops = remove_stopwords(data_words)\n",
    "\n",
    "# Form Bigrams\n",
    "data_words_bigrams = make_bigrams(data_words_nostops)\n",
    "\n",
    "# Do lemmatization keeping only noun, adj, vb, adv\n",
    "data_lemmatized = lemmatization(data_words_bigrams, allowed_postags=['NOUN', 'ADJ', 'VERB', 'ADV'])"
   ]
  },
  {
   "cell_type": "code",
   "execution_count": 144,
   "metadata": {},
   "outputs": [
    {
     "name": "stdout",
     "output_type": "stream",
     "text": [
      "['cuadro', 'listo', 'anexosv', 'acronimos', 'objetivar']\n"
     ]
    }
   ],
   "source": [
    "print(data_lemmatized[0][:5])"
   ]
  },
  {
   "cell_type": "markdown",
   "metadata": {},
   "source": [
    "# Model fitting"
   ]
  },
  {
   "cell_type": "markdown",
   "metadata": {},
   "source": [
    "Then, we crated the bag of words. It is an input needed for the model."
   ]
  },
  {
   "cell_type": "code",
   "execution_count": 145,
   "metadata": {},
   "outputs": [],
   "source": [
    "# Create Dictionary\n",
    "id2word = corpora.Dictionary(data_lemmatized)\n",
    "\n",
    "# Create Corpus\n",
    "texts = data_lemmatized\n",
    "\n",
    "# Term Document Frequency\n",
    "corpus = [id2word.doc2bow(text) for text in texts]"
   ]
  },
  {
   "cell_type": "code",
   "execution_count": 146,
   "metadata": {},
   "outputs": [
    {
     "name": "stdout",
     "output_type": "stream",
     "text": [
      "[(0, 1), (1, 2), (2, 1), (3, 1), (4, 1), (5, 1), (6, 10), (7, 13), (8, 1), (9, 1)]\n"
     ]
    }
   ],
   "source": [
    "# View\n",
    "print(corpus[0][:10])"
   ]
  },
  {
   "cell_type": "markdown",
   "metadata": {},
   "source": [
    "And we search for the better value of `num_topics`. We used the following functions:\n",
    "\n",
    "4. `compute_coherence values`: this function computes models with different number of topics and return their coherence so that a best model can be defined.\n",
    "\n",
    "5. `format_topic_paragraphs`: it creates a dataframe that relates the most relevant topic to each document, its title and the corresponding country."
   ]
  },
  {
   "cell_type": "code",
   "execution_count": 147,
   "metadata": {},
   "outputs": [],
   "source": [
    "def compute_coherence_values(dictionary, corpus, texts, limit, start=2, step=3):\n",
    "    \"\"\"\n",
    "    Compute c_v coherence for various number of topics\n",
    "\n",
    "    Parameters:\n",
    "    ----------\n",
    "    dictionary : Gensim dictionary\n",
    "    corpus : Gensim corpus\n",
    "    texts : List of input texts\n",
    "    limit : Max num of topics\n",
    "\n",
    "    Returns:\n",
    "    -------\n",
    "    model_list : List of LDA topic models\n",
    "    coherence_values : Coherence values corresponding to the LDA model with respective number of topics\n",
    "    \"\"\"\n",
    "    coherence_values = []\n",
    "    model_list = []\n",
    "    for num_topics in range(start, limit, step):\n",
    "#         model = gensim.models.wrappers.LdaMallet(mallet_path, corpus=corpus, num_topics=num_topics, id2word=id2word)\n",
    "\n",
    "        model = gensim.models.ldamodel.LdaModel(corpus=corpus,\n",
    "                                           id2word=id2word,\n",
    "                                           num_topics=num_topics, \n",
    "                                           random_state=100,\n",
    "                                           update_every=1,\n",
    "                                           chunksize=100,\n",
    "                                           passes=10,\n",
    "                                           alpha='auto',\n",
    "                                           per_word_topics=True)\n",
    "        \n",
    "        model_list.append(model)\n",
    "        coherencemodel = CoherenceModel(model=model, texts=texts, dictionary=dictionary, coherence='c_v')\n",
    "        coherence_values.append(coherencemodel.get_coherence())\n",
    "\n",
    "    return model_list, coherence_values\n",
    "#-----------------------------------------------------------------------------------------------------------\n",
    "def format_topics_sentences(ldamodel, corpus, texts):\n",
    "    # Init output\n",
    "    sent_topics_df = pd.DataFrame()\n",
    "\n",
    "    # Get main topic in each document\n",
    "    for i, row in enumerate(ldamodel[corpus]):\n",
    "#         try:\n",
    "        row = sorted(row[0], key=lambda x: (x[1]), reverse=True)\n",
    "#         except: print(row)\n",
    "        # Get the Dominant topic, Perc Contribution and Keywords for each document\n",
    "        for j, topic_info in enumerate(row): #(topic_num, prop_topic)\n",
    "            topic_num = topic_info[0]\n",
    "            prop_topic = topic_info[1]\n",
    "            if j == 0:  # => dominant topic\n",
    "                wp = ldamodel.show_topic(topic_num)\n",
    "                topic_keywords = \", \".join([word for word, prop in wp])\n",
    "                sent_topics_df = sent_topics_df.append(pd.Series([int(topic_num), round(prop_topic,4), topic_keywords]), ignore_index=True)\n",
    "            else:\n",
    "                break\n",
    "    sent_topics_df.columns = ['Dominant_Topic', 'Perc_Contribution', 'Topic_Keywords']\n",
    "\n",
    "    # Add original text to the end of the output\n",
    "    contents = pd.Series(texts)\n",
    "    sent_topics_df = pd.concat([sent_topics_df, contents], axis=1)\n",
    "    return(sent_topics_df)"
   ]
  },
  {
   "cell_type": "markdown",
   "metadata": {},
   "source": [
    "In the following cell, the search is performed."
   ]
  },
  {
   "cell_type": "code",
   "execution_count": 148,
   "metadata": {},
   "outputs": [],
   "source": [
    "# Can take a long time to run.\n",
    "model_list, coherence_values = compute_coherence_values(dictionary=id2word, corpus=corpus, \n",
    "                                                        texts=data_lemmatized, start=20, \n",
    "                                                        limit=80, step=5)"
   ]
  },
  {
   "cell_type": "code",
   "execution_count": 149,
   "metadata": {},
   "outputs": [
    {
     "data": {
      "image/png": "[encoded data removed]",
      "text/plain": [
       "<Figure size 432x288 with 1 Axes>"
      ]
     },
     "metadata": {
      "needs_background": "light"
     },
     "output_type": "display_data"
    }
   ],
   "source": [
    "# Show graph\n",
    "limit=80; start=20; step=5;\n",
    "x = range(start, limit, step)\n",
    "plt.plot(x, coherence_values)\n",
    "plt.xlabel(\"Num Topics\")\n",
    "plt.ylabel(\"Coherence score\")\n",
    "plt.legend((\"coherence_values\"), loc='best')\n",
    "plt.show()"
   ]
  },
  {
   "cell_type": "code",
   "execution_count": 150,
   "metadata": {},
   "outputs": [
    {
     "name": "stdout",
     "output_type": "stream",
     "text": [
      "Num Topics = 20  has Coherence Value of 0.4308\n",
      "Num Topics = 25  has Coherence Value of 0.4755\n",
      "Num Topics = 30  has Coherence Value of 0.4283\n",
      "Num Topics = 35  has Coherence Value of 0.445\n",
      "Num Topics = 40  has Coherence Value of 0.4503\n",
      "Num Topics = 45  has Coherence Value of 0.4664\n",
      "Num Topics = 50  has Coherence Value of 0.4581\n",
      "Num Topics = 55  has Coherence Value of 0.4445\n",
      "Num Topics = 60  has Coherence Value of 0.4438\n",
      "Num Topics = 65  has Coherence Value of 0.4457\n",
      "Num Topics = 70  has Coherence Value of 0.4612\n",
      "Num Topics = 75  has Coherence Value of 0.446\n"
     ]
    }
   ],
   "source": [
    "for m, cv in zip(x, coherence_values):\n",
    "    print(\"Num Topics =\", m, \" has Coherence Value of\", round(cv, 4))"
   ]
  },
  {
   "cell_type": "code",
   "execution_count": 153,
   "metadata": {},
   "outputs": [],
   "source": [
    "import pickle\n",
    "# save the model to disk\n",
    "optimal_model = model_list[5]\n",
    "filename = r'par_TED_LDA_45_topic_model.sav'\n",
    "pickle.dump(optimal_model, open(filename, 'wb'))"
   ]
  },
  {
   "cell_type": "markdown",
   "metadata": {},
   "source": [
    "# Outputs"
   ]
  },
  {
   "cell_type": "markdown",
   "metadata": {},
   "source": [
    "So, we chose the model with highst coherence"
   ]
  },
  {
   "cell_type": "code",
   "execution_count": 124,
   "metadata": {},
   "outputs": [],
   "source": [
    "# Select the model and print the topics\n",
    "optimal_model = model_list[1]\n",
    "model_topics = optimal_model.show_topics(formatted=False)"
   ]
  },
  {
   "cell_type": "code",
   "execution_count": null,
   "metadata": {},
   "outputs": [],
   "source": []
  },
  {
   "cell_type": "code",
   "execution_count": null,
   "metadata": {},
   "outputs": [],
   "source": []
  },
  {
   "cell_type": "markdown",
   "metadata": {},
   "source": [
    "and exported the output:"
   ]
  },
  {
   "cell_type": "code",
   "execution_count": 121,
   "metadata": {},
   "outputs": [
    {
     "data": {
      "text/html": [
       "<div>\n",
       "<style scoped>\n",
       "    .dataframe tbody tr th:only-of-type {\n",
       "        vertical-align: middle;\n",
       "    }\n",
       "\n",
       "    .dataframe tbody tr th {\n",
       "        vertical-align: top;\n",
       "    }\n",
       "\n",
       "    .dataframe thead th {\n",
       "        text-align: right;\n",
       "    }\n",
       "</style>\n",
       "<table border=\"1\" class=\"dataframe\">\n",
       "  <thead>\n",
       "    <tr style=\"text-align: right;\">\n",
       "      <th></th>\n",
       "      <th>Document_No</th>\n",
       "      <th>Dominant_Topic</th>\n",
       "      <th>Topic_Perc_Contrib</th>\n",
       "      <th>Keywords</th>\n",
       "      <th>Text</th>\n",
       "      <th>Document_name</th>\n",
       "      <th>Country</th>\n",
       "    </tr>\n",
       "  </thead>\n",
       "  <tbody>\n",
       "    <tr>\n",
       "      <th>0</th>\n",
       "      <td>0</td>\n",
       "      <td>24.0</td>\n",
       "      <td>0.6799</td>\n",
       "      <td>aguar, desarrollar, plantar, ciudad, sistema, ...</td>\n",
       "      <td>ÍNDICE\\r \\r Lista cuadros figurasiv\\r Lista an...</td>\n",
       "      <td>CONAFOR_ plan 2025_preprocessed</td>\n",
       "      <td>Mexico</td>\n",
       "    </tr>\n",
       "    <tr>\n",
       "      <th>1</th>\n",
       "      <td>1</td>\n",
       "      <td>26.0</td>\n",
       "      <td>0.4270</td>\n",
       "      <td>personar, ser, decir, hacer, mas, mujer, ano, ...</td>\n",
       "      <td>EN EL CORAZÓN DE NUESTRA TIERRA\\r SEMBRAREMOS ...</td>\n",
       "      <td>Folleto_Sembrando_Vida_-_Espa_ol (1)_preprocessed</td>\n",
       "      <td>Mexico</td>\n",
       "    </tr>\n",
       "    <tr>\n",
       "      <th>2</th>\n",
       "      <td>2</td>\n",
       "      <td>24.0</td>\n",
       "      <td>0.4920</td>\n",
       "      <td>aguar, desarrollar, plantar, ciudad, sistema, ...</td>\n",
       "      <td>DOF 24 01 2019\\r \\r ACUERDO emiten Lineamiento...</td>\n",
       "      <td>Lineamientos_de_Operaci_n_del_Programa_Sembran...</td>\n",
       "      <td>Mexico</td>\n",
       "    </tr>\n",
       "    <tr>\n",
       "      <th>3</th>\n",
       "      <td>3</td>\n",
       "      <td>24.0</td>\n",
       "      <td>0.6838</td>\n",
       "      <td>aguar, desarrollar, plantar, ciudad, sistema, ...</td>\n",
       "      <td>LEY GENERAL DE DESARROLLO FORESTAL SUSTENTABLE...</td>\n",
       "      <td>Mexico_LGDFS_050618_preprocessed</td>\n",
       "      <td>Mexico</td>\n",
       "    </tr>\n",
       "    <tr>\n",
       "      <th>4</th>\n",
       "      <td>4</td>\n",
       "      <td>24.0</td>\n",
       "      <td>0.5266</td>\n",
       "      <td>aguar, desarrollar, plantar, ciudad, sistema, ...</td>\n",
       "      <td>Jueves 16 enero 2020\\r \\r DIARIO OFICIAL\\r \\r ...</td>\n",
       "      <td>Normasde Operacion CONAFOR_preprocessed</td>\n",
       "      <td>Mexico</td>\n",
       "    </tr>\n",
       "    <tr>\n",
       "      <th>5</th>\n",
       "      <td>5</td>\n",
       "      <td>24.0</td>\n",
       "      <td>0.4888</td>\n",
       "      <td>aguar, desarrollar, plantar, ciudad, sistema, ...</td>\n",
       "      <td>4 27 2020\\r \\r DOF Diario Oficial Federación\\r...</td>\n",
       "      <td>reglas de operacion DOF - Diario Oficial de la...</td>\n",
       "      <td>Mexico</td>\n",
       "    </tr>\n",
       "    <tr>\n",
       "      <th>6</th>\n",
       "      <td>6</td>\n",
       "      <td>26.0</td>\n",
       "      <td>0.5323</td>\n",
       "      <td>personar, ser, decir, hacer, mas, mujer, ano, ...</td>\n",
       "      <td>Viernes 1 febrero 2019\\r \\r “ Levántate sacúde...</td>\n",
       "      <td>SembrandovidaReportefeb2019Febrero-1_preprocessed</td>\n",
       "      <td>Mexico</td>\n",
       "    </tr>\n",
       "    <tr>\n",
       "      <th>7</th>\n",
       "      <td>7</td>\n",
       "      <td>14.0</td>\n",
       "      <td>0.4562</td>\n",
       "      <td>mas, hacer, poder, ver, solo, ser, ano, formar...</td>\n",
       "      <td>\\r \\r \\r \\r \\r Resolución Directoral\\r Nº 007 ...</td>\n",
       "      <td>007-2015_preprocessed</td>\n",
       "      <td>Peru</td>\n",
       "    </tr>\n",
       "    <tr>\n",
       "      <th>8</th>\n",
       "      <td>8</td>\n",
       "      <td>24.0</td>\n",
       "      <td>0.7257</td>\n",
       "      <td>aguar, desarrollar, plantar, ciudad, sistema, ...</td>\n",
       "      <td>POLITICA NACIONAL\\r DEL\\r AMBIENTE\\r \\r Decret...</td>\n",
       "      <td>1633_preprocessed</td>\n",
       "      <td>Peru</td>\n",
       "    </tr>\n",
       "    <tr>\n",
       "      <th>9</th>\n",
       "      <td>9</td>\n",
       "      <td>24.0</td>\n",
       "      <td>0.6885</td>\n",
       "      <td>aguar, desarrollar, plantar, ciudad, sistema, ...</td>\n",
       "      <td>POLÍTICA NACIONAL\\r FORESTAL Y DE\\r FAUNA SILV...</td>\n",
       "      <td>19-politica_nacional_forestal_y_de_fauna_silve...</td>\n",
       "      <td>Peru</td>\n",
       "    </tr>\n",
       "  </tbody>\n",
       "</table>\n",
       "</div>"
      ],
      "text/plain": [
       "   Document_No  Dominant_Topic  Topic_Perc_Contrib  \\\n",
       "0            0            24.0              0.6799   \n",
       "1            1            26.0              0.4270   \n",
       "2            2            24.0              0.4920   \n",
       "3            3            24.0              0.6838   \n",
       "4            4            24.0              0.5266   \n",
       "5            5            24.0              0.4888   \n",
       "6            6            26.0              0.5323   \n",
       "7            7            14.0              0.4562   \n",
       "8            8            24.0              0.7257   \n",
       "9            9            24.0              0.6885   \n",
       "\n",
       "                                            Keywords  \\\n",
       "0  aguar, desarrollar, plantar, ciudad, sistema, ...   \n",
       "1  personar, ser, decir, hacer, mas, mujer, ano, ...   \n",
       "2  aguar, desarrollar, plantar, ciudad, sistema, ...   \n",
       "3  aguar, desarrollar, plantar, ciudad, sistema, ...   \n",
       "4  aguar, desarrollar, plantar, ciudad, sistema, ...   \n",
       "5  aguar, desarrollar, plantar, ciudad, sistema, ...   \n",
       "6  personar, ser, decir, hacer, mas, mujer, ano, ...   \n",
       "7  mas, hacer, poder, ver, solo, ser, ano, formar...   \n",
       "8  aguar, desarrollar, plantar, ciudad, sistema, ...   \n",
       "9  aguar, desarrollar, plantar, ciudad, sistema, ...   \n",
       "\n",
       "                                                Text  \\\n",
       "0  ÍNDICE\\r \\r Lista cuadros figurasiv\\r Lista an...   \n",
       "1  EN EL CORAZÓN DE NUESTRA TIERRA\\r SEMBRAREMOS ...   \n",
       "2  DOF 24 01 2019\\r \\r ACUERDO emiten Lineamiento...   \n",
       "3  LEY GENERAL DE DESARROLLO FORESTAL SUSTENTABLE...   \n",
       "4  Jueves 16 enero 2020\\r \\r DIARIO OFICIAL\\r \\r ...   \n",
       "5  4 27 2020\\r \\r DOF Diario Oficial Federación\\r...   \n",
       "6  Viernes 1 febrero 2019\\r \\r “ Levántate sacúde...   \n",
       "7  \\r \\r \\r \\r \\r Resolución Directoral\\r Nº 007 ...   \n",
       "8  POLITICA NACIONAL\\r DEL\\r AMBIENTE\\r \\r Decret...   \n",
       "9  POLÍTICA NACIONAL\\r FORESTAL Y DE\\r FAUNA SILV...   \n",
       "\n",
       "                                       Document_name Country  \n",
       "0                    CONAFOR_ plan 2025_preprocessed  Mexico  \n",
       "1  Folleto_Sembrando_Vida_-_Espa_ol (1)_preprocessed  Mexico  \n",
       "2  Lineamientos_de_Operaci_n_del_Programa_Sembran...  Mexico  \n",
       "3                   Mexico_LGDFS_050618_preprocessed  Mexico  \n",
       "4            Normasde Operacion CONAFOR_preprocessed  Mexico  \n",
       "5  reglas de operacion DOF - Diario Oficial de la...  Mexico  \n",
       "6  SembrandovidaReportefeb2019Febrero-1_preprocessed  Mexico  \n",
       "7                              007-2015_preprocessed    Peru  \n",
       "8                                  1633_preprocessed    Peru  \n",
       "9  19-politica_nacional_forestal_y_de_fauna_silve...    Peru  "
      ]
     },
     "execution_count": 121,
     "metadata": {},
     "output_type": "execute_result"
    }
   ],
   "source": [
    "df_topic_sents_keywords = format_topics_sentences(ldamodel=optimal_model, corpus=corpus, texts=all_docs)\n",
    "\n",
    "# Format\n",
    "df_dominant_topic = df_topic_sents_keywords.reset_index()\n",
    "\n",
    "# Adding country and name of document\n",
    "ted_list = TED_talks.title.tolist()\n",
    "tmp_docs = [j for _,j,_ in documents]\n",
    "tmp_country = [i for i,_,_ in documents]\n",
    "\n",
    "for elem in ted_list:\n",
    "    tmp_docs.append(elem)\n",
    "    tmp_country.append(\"TED\")\n",
    "\n",
    "doc_names = pd.Series(tmp_docs)\n",
    "doc_country = pd.Series(tmp_country)\n",
    "df_dominant_topic = pd.concat([df_dominant_topic, doc_names, doc_country], axis = 1)\n",
    "\n",
    "# doc_names = TED_talks.title.tolist()\n",
    "# df_dominant_topic = pd.concat([df_dominant_topic, doc_names], axis = 1)\n",
    "\n",
    "df_dominant_topic.columns = ['Document_No', 'Dominant_Topic', 'Topic_Perc_Contrib', 'Keywords', 'Text', \n",
    "                             'Document_name','Country']\n",
    "\n",
    "# Show\n",
    "df_dominant_topic.to_csv('src/models/LDA/entire_TED_topics.csv')\n",
    "df_dominant_topic.head(10)"
   ]
  },
  {
   "cell_type": "code",
   "execution_count": 127,
   "metadata": {},
   "outputs": [
    {
     "data": {
      "text/plain": [
       "[(0,\n",
       "  '0.016*\"aguar\" + 0.010*\"empresa\" + 0.010*\"desarrollar\" + 0.008*\"sistema\" + 0.008*\"ano\" + 0.008*\"plantar\" + 0.007*\"ciudad\" + 0.006*\"millón\" + 0.006*\"riesgo\" + 0.006*\"aumentar\"'),\n",
       " (1,\n",
       "  '0.000*\"seguira_siendo\" + 0.000*\"multirracial\" + 0.000*\"cap_crunch\" + 0.000*\"ayudeme\" + 0.000*\"vers\" + 0.000*\"sonambulo\" + 0.000*\"darmouth\" + 0.000*\"recortarse\" + 0.000*\"indonesia_brasil\" + 0.000*\"irrespetuoso\"'),\n",
       " (2,\n",
       "  '0.015*\"escandinavo\" + 0.010*\"interceptar\" + 0.001*\"dinamismo\" + 0.000*\"remo\" + 0.000*\"vikingo\" + 0.000*\"druida\" + 0.000*\"harapo\" + 0.000*\"clavo\" + 0.000*\"imperio_romano\" + 0.000*\"movilidad_social\"'),\n",
       " (3,\n",
       "  '0.000*\"seguira_siendo\" + 0.000*\"multirracial\" + 0.000*\"cap_crunch\" + 0.000*\"ayudeme\" + 0.000*\"vers\" + 0.000*\"sonambulo\" + 0.000*\"darmouth\" + 0.000*\"recortarse\" + 0.000*\"indonesia_brasil\" + 0.000*\"irrespetuoso\"'),\n",
       " (4,\n",
       "  '0.000*\"seguira_siendo\" + 0.000*\"multirracial\" + 0.000*\"cap_crunch\" + 0.000*\"ayudeme\" + 0.000*\"vers\" + 0.000*\"sonambulo\" + 0.000*\"darmouth\" + 0.000*\"recortarse\" + 0.000*\"indonesia_brasil\" + 0.000*\"irrespetuoso\"'),\n",
       " (5,\n",
       "  '0.000*\"seguira_siendo\" + 0.000*\"multirracial\" + 0.000*\"cap_crunch\" + 0.000*\"ayudeme\" + 0.000*\"vers\" + 0.000*\"sonambulo\" + 0.000*\"darmouth\" + 0.000*\"recortarse\" + 0.000*\"indonesia_brasil\" + 0.000*\"irrespetuoso\"'),\n",
       " (6,\n",
       "  '0.013*\"indagar\" + 0.004*\"desarrollandose\" + 0.000*\"sonambulo\" + 0.000*\"recortarse\" + 0.000*\"cap_crunch\" + 0.000*\"ayudeme\" + 0.000*\"vers\" + 0.000*\"darmouth\" + 0.000*\"seguira_siendo\" + 0.000*\"intruso\"'),\n",
       " (7,\n",
       "  '0.000*\"seguira_siendo\" + 0.000*\"multirracial\" + 0.000*\"cap_crunch\" + 0.000*\"ayudeme\" + 0.000*\"vers\" + 0.000*\"sonambulo\" + 0.000*\"darmouth\" + 0.000*\"recortarse\" + 0.000*\"indonesia_brasil\" + 0.000*\"irrespetuoso\"'),\n",
       " (8,\n",
       "  '0.000*\"seguira_siendo\" + 0.000*\"multirracial\" + 0.000*\"cap_crunch\" + 0.000*\"ayudeme\" + 0.000*\"vers\" + 0.000*\"sonambulo\" + 0.000*\"darmouth\" + 0.000*\"recortarse\" + 0.000*\"indonesia_brasil\" + 0.000*\"irrespetuoso\"'),\n",
       " (9,\n",
       "  '0.008*\"agua_contaminada\" + 0.000*\"seguira_siendo\" + 0.000*\"multirracial\" + 0.000*\"ayudeme\" + 0.000*\"vers\" + 0.000*\"sonambulo\" + 0.000*\"comeras\" + 0.000*\"recortarse\" + 0.000*\"indonesia_brasil\" + 0.000*\"irrespetuoso\"'),\n",
       " (10,\n",
       "  '0.000*\"seguira_siendo\" + 0.000*\"multirracial\" + 0.000*\"cap_crunch\" + 0.000*\"ayudeme\" + 0.000*\"vers\" + 0.000*\"sonambulo\" + 0.000*\"darmouth\" + 0.000*\"recortarse\" + 0.000*\"indonesia_brasil\" + 0.000*\"irrespetuoso\"'),\n",
       " (11,\n",
       "  '0.015*\"navegador\" + 0.013*\"papel_higienico\" + 0.004*\"gasolinero\" + 0.000*\"brave\" + 0.000*\"ayudeme\" + 0.000*\"vers\" + 0.000*\"sonambulo\" + 0.000*\"comeras\" + 0.000*\"seguira_siendo\" + 0.000*\"japon_corea\"'),\n",
       " (12,\n",
       "  '0.000*\"seguira_siendo\" + 0.000*\"multirracial\" + 0.000*\"cap_crunch\" + 0.000*\"ayudeme\" + 0.000*\"vers\" + 0.000*\"sonambulo\" + 0.000*\"darmouth\" + 0.000*\"recortarse\" + 0.000*\"indonesia_brasil\" + 0.000*\"irrespetuoso\"'),\n",
       " (13,\n",
       "  '0.023*\"contradictorio\" + 0.015*\"teorico\" + 0.009*\"atmosferico\" + 0.006*\"puntajes\" + 0.006*\"periodicamente\" + 0.002*\"torio\" + 0.000*\"reactor\" + 0.000*\"pared_celular\" + 0.000*\"celulas_ciliadas\" + 0.000*\"sesgo\"'),\n",
       " (14,\n",
       "  '0.016*\"mas\" + 0.016*\"hacer\" + 0.010*\"poder\" + 0.010*\"ser\" + 0.008*\"decir\" + 0.008*\"solo\" + 0.008*\"ano\" + 0.008*\"ver\" + 0.007*\"personar\" + 0.005*\"trabajar\"'),\n",
       " (15,\n",
       "  '0.000*\"seguira_siendo\" + 0.000*\"multirracial\" + 0.000*\"cap_crunch\" + 0.000*\"ayudeme\" + 0.000*\"vers\" + 0.000*\"sonambulo\" + 0.000*\"darmouth\" + 0.000*\"recortarse\" + 0.000*\"indonesia_brasil\" + 0.000*\"irrespetuoso\"'),\n",
       " (16,\n",
       "  '0.308*\"celulas\" + 0.122*\"tratamiento\" + 0.036*\"tumor\" + 0.032*\"organos\" + 0.023*\"cancer\" + 0.015*\"vasos_sanguineos\" + 0.011*\"celulas_cancerosas\" + 0.010*\"lesion\" + 0.005*\"tuneles\" + 0.003*\"metastasis\"'),\n",
       " (17,\n",
       "  '0.000*\"seguira_siendo\" + 0.000*\"multirracial\" + 0.000*\"cap_crunch\" + 0.000*\"ayudeme\" + 0.000*\"vers\" + 0.000*\"sonambulo\" + 0.000*\"darmouth\" + 0.000*\"recortarse\" + 0.000*\"indonesia_brasil\" + 0.000*\"irrespetuoso\"'),\n",
       " (18,\n",
       "  '0.000*\"seguira_siendo\" + 0.000*\"multirracial\" + 0.000*\"cap_crunch\" + 0.000*\"ayudeme\" + 0.000*\"vers\" + 0.000*\"sonambulo\" + 0.000*\"darmouth\" + 0.000*\"recortarse\" + 0.000*\"indonesia_brasil\" + 0.000*\"irrespetuoso\"'),\n",
       " (19,\n",
       "  '0.000*\"seguira_siendo\" + 0.000*\"multirracial\" + 0.000*\"cap_crunch\" + 0.000*\"ayudeme\" + 0.000*\"vers\" + 0.000*\"sonambulo\" + 0.000*\"darmouth\" + 0.000*\"recortarse\" + 0.000*\"indonesia_brasil\" + 0.000*\"irrespetuoso\"'),\n",
       " (20,\n",
       "  '0.000*\"seguira_siendo\" + 0.000*\"multirracial\" + 0.000*\"cap_crunch\" + 0.000*\"ayudeme\" + 0.000*\"vers\" + 0.000*\"sonambulo\" + 0.000*\"darmouth\" + 0.000*\"recortarse\" + 0.000*\"indonesia_brasil\" + 0.000*\"irrespetuoso\"'),\n",
       " (21,\n",
       "  '0.000*\"seguira_siendo\" + 0.000*\"multirracial\" + 0.000*\"cap_crunch\" + 0.000*\"ayudeme\" + 0.000*\"vers\" + 0.000*\"sonambulo\" + 0.000*\"darmouth\" + 0.000*\"recortarse\" + 0.000*\"indonesia_brasil\" + 0.000*\"irrespetuoso\"'),\n",
       " (22,\n",
       "  '0.000*\"seguira_siendo\" + 0.000*\"multirracial\" + 0.000*\"cap_crunch\" + 0.000*\"ayudeme\" + 0.000*\"vers\" + 0.000*\"sonambulo\" + 0.000*\"darmouth\" + 0.000*\"recortarse\" + 0.000*\"indonesia_brasil\" + 0.000*\"irrespetuoso\"'),\n",
       " (23,\n",
       "  '0.000*\"seguira_siendo\" + 0.000*\"multirracial\" + 0.000*\"cap_crunch\" + 0.000*\"ayudeme\" + 0.000*\"vers\" + 0.000*\"sonambulo\" + 0.000*\"darmouth\" + 0.000*\"recortarse\" + 0.000*\"indonesia_brasil\" + 0.000*\"irrespetuoso\"'),\n",
       " (24,\n",
       "  '0.068*\"mujer\" + 0.021*\"personar\" + 0.019*\"ley\" + 0.018*\"hombre\" + 0.016*\"politica\" + 0.015*\"publicar\" + 0.015*\"comunidad\" + 0.014*\"derecho\" + 0.013*\"violencia\" + 0.013*\"apoyar\"')]"
      ]
     },
     "execution_count": 127,
     "metadata": {},
     "output_type": "execute_result"
    }
   ],
   "source": [
    "optimal_model.show_topics(25)"
   ]
  },
  {
   "cell_type": "markdown",
   "metadata": {},
   "source": [
    "And finally, we implemented a visualization:"
   ]
  },
  {
   "cell_type": "code",
   "execution_count": 125,
   "metadata": {},
   "outputs": [
    {
     "ename": "TypeError",
     "evalue": "Object of type complex is not JSON serializable",
     "output_type": "error",
     "traceback": [
      "\u001b[1;31m---------------------------------------------------------------------------\u001b[0m",
      "\u001b[1;31mTypeError\u001b[0m                                 Traceback (most recent call last)",
      "\u001b[1;32mC:\\Conda\\lib\\site-packages\\IPython\\core\\formatters.py\u001b[0m in \u001b[0;36m__call__\u001b[1;34m(self, obj)\u001b[0m\n\u001b[0;32m    339\u001b[0m                 \u001b[1;32mpass\u001b[0m\u001b[1;33m\u001b[0m\u001b[1;33m\u001b[0m\u001b[0m\n\u001b[0;32m    340\u001b[0m             \u001b[1;32melse\u001b[0m\u001b[1;33m:\u001b[0m\u001b[1;33m\u001b[0m\u001b[1;33m\u001b[0m\u001b[0m\n\u001b[1;32m--> 341\u001b[1;33m                 \u001b[1;32mreturn\u001b[0m \u001b[0mprinter\u001b[0m\u001b[1;33m(\u001b[0m\u001b[0mobj\u001b[0m\u001b[1;33m)\u001b[0m\u001b[1;33m\u001b[0m\u001b[1;33m\u001b[0m\u001b[0m\n\u001b[0m\u001b[0;32m    342\u001b[0m             \u001b[1;31m# Finally look for special method names\u001b[0m\u001b[1;33m\u001b[0m\u001b[1;33m\u001b[0m\u001b[1;33m\u001b[0m\u001b[0m\n\u001b[0;32m    343\u001b[0m             \u001b[0mmethod\u001b[0m \u001b[1;33m=\u001b[0m \u001b[0mget_real_method\u001b[0m\u001b[1;33m(\u001b[0m\u001b[0mobj\u001b[0m\u001b[1;33m,\u001b[0m \u001b[0mself\u001b[0m\u001b[1;33m.\u001b[0m\u001b[0mprint_method\u001b[0m\u001b[1;33m)\u001b[0m\u001b[1;33m\u001b[0m\u001b[1;33m\u001b[0m\u001b[0m\n",
      "\u001b[1;32mC:\\Conda\\lib\\site-packages\\pyLDAvis\\_display.py\u001b[0m in \u001b[0;36m<lambda>\u001b[1;34m(data, kwds)\u001b[0m\n\u001b[0;32m    311\u001b[0m     \u001b[0mformatter\u001b[0m \u001b[1;33m=\u001b[0m \u001b[0mip\u001b[0m\u001b[1;33m.\u001b[0m\u001b[0mdisplay_formatter\u001b[0m\u001b[1;33m.\u001b[0m\u001b[0mformatters\u001b[0m\u001b[1;33m[\u001b[0m\u001b[1;34m'text/html'\u001b[0m\u001b[1;33m]\u001b[0m\u001b[1;33m\u001b[0m\u001b[1;33m\u001b[0m\u001b[0m\n\u001b[0;32m    312\u001b[0m     formatter.for_type(PreparedData,\n\u001b[1;32m--> 313\u001b[1;33m                        lambda data, kwds=kwargs: prepared_data_to_html(data, **kwds))\n\u001b[0m\u001b[0;32m    314\u001b[0m \u001b[1;33m\u001b[0m\u001b[0m\n\u001b[0;32m    315\u001b[0m \u001b[1;33m\u001b[0m\u001b[0m\n",
      "\u001b[1;32mC:\\Conda\\lib\\site-packages\\pyLDAvis\\_display.py\u001b[0m in \u001b[0;36mprepared_data_to_html\u001b[1;34m(data, d3_url, ldavis_url, ldavis_css_url, template_type, visid, use_http)\u001b[0m\n\u001b[0;32m    176\u001b[0m                            \u001b[0md3_url\u001b[0m\u001b[1;33m=\u001b[0m\u001b[0md3_url\u001b[0m\u001b[1;33m,\u001b[0m\u001b[1;33m\u001b[0m\u001b[1;33m\u001b[0m\u001b[0m\n\u001b[0;32m    177\u001b[0m                            \u001b[0mldavis_url\u001b[0m\u001b[1;33m=\u001b[0m\u001b[0mldavis_url\u001b[0m\u001b[1;33m,\u001b[0m\u001b[1;33m\u001b[0m\u001b[1;33m\u001b[0m\u001b[0m\n\u001b[1;32m--> 178\u001b[1;33m                            \u001b[0mvis_json\u001b[0m\u001b[1;33m=\u001b[0m\u001b[0mdata\u001b[0m\u001b[1;33m.\u001b[0m\u001b[0mto_json\u001b[0m\u001b[1;33m(\u001b[0m\u001b[1;33m)\u001b[0m\u001b[1;33m,\u001b[0m\u001b[1;33m\u001b[0m\u001b[1;33m\u001b[0m\u001b[0m\n\u001b[0m\u001b[0;32m    179\u001b[0m                            ldavis_css_url=ldavis_css_url)\n\u001b[0;32m    180\u001b[0m \u001b[1;33m\u001b[0m\u001b[0m\n",
      "\u001b[1;32mC:\\Conda\\lib\\site-packages\\pyLDAvis\\_prepare.py\u001b[0m in \u001b[0;36mto_json\u001b[1;34m(self)\u001b[0m\n\u001b[0;32m    415\u001b[0m \u001b[1;33m\u001b[0m\u001b[0m\n\u001b[0;32m    416\u001b[0m     \u001b[1;32mdef\u001b[0m \u001b[0mto_json\u001b[0m\u001b[1;33m(\u001b[0m\u001b[0mself\u001b[0m\u001b[1;33m)\u001b[0m\u001b[1;33m:\u001b[0m\u001b[1;33m\u001b[0m\u001b[1;33m\u001b[0m\u001b[0m\n\u001b[1;32m--> 417\u001b[1;33m        \u001b[1;32mreturn\u001b[0m \u001b[0mjson\u001b[0m\u001b[1;33m.\u001b[0m\u001b[0mdumps\u001b[0m\u001b[1;33m(\u001b[0m\u001b[0mself\u001b[0m\u001b[1;33m.\u001b[0m\u001b[0mto_dict\u001b[0m\u001b[1;33m(\u001b[0m\u001b[1;33m)\u001b[0m\u001b[1;33m,\u001b[0m \u001b[0mcls\u001b[0m\u001b[1;33m=\u001b[0m\u001b[0mNumPyEncoder\u001b[0m\u001b[1;33m)\u001b[0m\u001b[1;33m\u001b[0m\u001b[1;33m\u001b[0m\u001b[0m\n\u001b[0m",
      "\u001b[1;32mC:\\Conda\\lib\\json\\__init__.py\u001b[0m in \u001b[0;36mdumps\u001b[1;34m(obj, skipkeys, ensure_ascii, check_circular, allow_nan, cls, indent, separators, default, sort_keys, **kw)\u001b[0m\n\u001b[0;32m    236\u001b[0m         \u001b[0mcheck_circular\u001b[0m\u001b[1;33m=\u001b[0m\u001b[0mcheck_circular\u001b[0m\u001b[1;33m,\u001b[0m \u001b[0mallow_nan\u001b[0m\u001b[1;33m=\u001b[0m\u001b[0mallow_nan\u001b[0m\u001b[1;33m,\u001b[0m \u001b[0mindent\u001b[0m\u001b[1;33m=\u001b[0m\u001b[0mindent\u001b[0m\u001b[1;33m,\u001b[0m\u001b[1;33m\u001b[0m\u001b[1;33m\u001b[0m\u001b[0m\n\u001b[0;32m    237\u001b[0m         \u001b[0mseparators\u001b[0m\u001b[1;33m=\u001b[0m\u001b[0mseparators\u001b[0m\u001b[1;33m,\u001b[0m \u001b[0mdefault\u001b[0m\u001b[1;33m=\u001b[0m\u001b[0mdefault\u001b[0m\u001b[1;33m,\u001b[0m \u001b[0msort_keys\u001b[0m\u001b[1;33m=\u001b[0m\u001b[0msort_keys\u001b[0m\u001b[1;33m,\u001b[0m\u001b[1;33m\u001b[0m\u001b[1;33m\u001b[0m\u001b[0m\n\u001b[1;32m--> 238\u001b[1;33m         **kw).encode(obj)\n\u001b[0m\u001b[0;32m    239\u001b[0m \u001b[1;33m\u001b[0m\u001b[0m\n\u001b[0;32m    240\u001b[0m \u001b[1;33m\u001b[0m\u001b[0m\n",
      "\u001b[1;32mC:\\Conda\\lib\\json\\encoder.py\u001b[0m in \u001b[0;36mencode\u001b[1;34m(self, o)\u001b[0m\n\u001b[0;32m    197\u001b[0m         \u001b[1;31m# exceptions aren't as detailed.  The list call should be roughly\u001b[0m\u001b[1;33m\u001b[0m\u001b[1;33m\u001b[0m\u001b[1;33m\u001b[0m\u001b[0m\n\u001b[0;32m    198\u001b[0m         \u001b[1;31m# equivalent to the PySequence_Fast that ''.join() would do.\u001b[0m\u001b[1;33m\u001b[0m\u001b[1;33m\u001b[0m\u001b[1;33m\u001b[0m\u001b[0m\n\u001b[1;32m--> 199\u001b[1;33m         \u001b[0mchunks\u001b[0m \u001b[1;33m=\u001b[0m \u001b[0mself\u001b[0m\u001b[1;33m.\u001b[0m\u001b[0miterencode\u001b[0m\u001b[1;33m(\u001b[0m\u001b[0mo\u001b[0m\u001b[1;33m,\u001b[0m \u001b[0m_one_shot\u001b[0m\u001b[1;33m=\u001b[0m\u001b[1;32mTrue\u001b[0m\u001b[1;33m)\u001b[0m\u001b[1;33m\u001b[0m\u001b[1;33m\u001b[0m\u001b[0m\n\u001b[0m\u001b[0;32m    200\u001b[0m         \u001b[1;32mif\u001b[0m \u001b[1;32mnot\u001b[0m \u001b[0misinstance\u001b[0m\u001b[1;33m(\u001b[0m\u001b[0mchunks\u001b[0m\u001b[1;33m,\u001b[0m \u001b[1;33m(\u001b[0m\u001b[0mlist\u001b[0m\u001b[1;33m,\u001b[0m \u001b[0mtuple\u001b[0m\u001b[1;33m)\u001b[0m\u001b[1;33m)\u001b[0m\u001b[1;33m:\u001b[0m\u001b[1;33m\u001b[0m\u001b[1;33m\u001b[0m\u001b[0m\n\u001b[0;32m    201\u001b[0m             \u001b[0mchunks\u001b[0m \u001b[1;33m=\u001b[0m \u001b[0mlist\u001b[0m\u001b[1;33m(\u001b[0m\u001b[0mchunks\u001b[0m\u001b[1;33m)\u001b[0m\u001b[1;33m\u001b[0m\u001b[1;33m\u001b[0m\u001b[0m\n",
      "\u001b[1;32mC:\\Conda\\lib\\json\\encoder.py\u001b[0m in \u001b[0;36miterencode\u001b[1;34m(self, o, _one_shot)\u001b[0m\n\u001b[0;32m    255\u001b[0m                 \u001b[0mself\u001b[0m\u001b[1;33m.\u001b[0m\u001b[0mkey_separator\u001b[0m\u001b[1;33m,\u001b[0m \u001b[0mself\u001b[0m\u001b[1;33m.\u001b[0m\u001b[0mitem_separator\u001b[0m\u001b[1;33m,\u001b[0m \u001b[0mself\u001b[0m\u001b[1;33m.\u001b[0m\u001b[0msort_keys\u001b[0m\u001b[1;33m,\u001b[0m\u001b[1;33m\u001b[0m\u001b[1;33m\u001b[0m\u001b[0m\n\u001b[0;32m    256\u001b[0m                 self.skipkeys, _one_shot)\n\u001b[1;32m--> 257\u001b[1;33m         \u001b[1;32mreturn\u001b[0m \u001b[0m_iterencode\u001b[0m\u001b[1;33m(\u001b[0m\u001b[0mo\u001b[0m\u001b[1;33m,\u001b[0m \u001b[1;36m0\u001b[0m\u001b[1;33m)\u001b[0m\u001b[1;33m\u001b[0m\u001b[1;33m\u001b[0m\u001b[0m\n\u001b[0m\u001b[0;32m    258\u001b[0m \u001b[1;33m\u001b[0m\u001b[0m\n\u001b[0;32m    259\u001b[0m def _make_iterencode(markers, _default, _encoder, _indent, _floatstr,\n",
      "\u001b[1;32mC:\\Conda\\lib\\site-packages\\pyLDAvis\\utils.py\u001b[0m in \u001b[0;36mdefault\u001b[1;34m(self, obj)\u001b[0m\n\u001b[0;32m    144\u001b[0m         \u001b[1;32mif\u001b[0m \u001b[0misinstance\u001b[0m\u001b[1;33m(\u001b[0m\u001b[0mobj\u001b[0m\u001b[1;33m,\u001b[0m \u001b[0mnp\u001b[0m\u001b[1;33m.\u001b[0m\u001b[0mfloat64\u001b[0m\u001b[1;33m)\u001b[0m \u001b[1;32mor\u001b[0m \u001b[0misinstance\u001b[0m\u001b[1;33m(\u001b[0m\u001b[0mobj\u001b[0m\u001b[1;33m,\u001b[0m \u001b[0mnp\u001b[0m\u001b[1;33m.\u001b[0m\u001b[0mfloat32\u001b[0m\u001b[1;33m)\u001b[0m\u001b[1;33m:\u001b[0m\u001b[1;33m\u001b[0m\u001b[1;33m\u001b[0m\u001b[0m\n\u001b[0;32m    145\u001b[0m             \u001b[1;32mreturn\u001b[0m \u001b[0mfloat\u001b[0m\u001b[1;33m(\u001b[0m\u001b[0mobj\u001b[0m\u001b[1;33m)\u001b[0m\u001b[1;33m\u001b[0m\u001b[1;33m\u001b[0m\u001b[0m\n\u001b[1;32m--> 146\u001b[1;33m         \u001b[1;32mreturn\u001b[0m \u001b[0mjson\u001b[0m\u001b[1;33m.\u001b[0m\u001b[0mJSONEncoder\u001b[0m\u001b[1;33m.\u001b[0m\u001b[0mdefault\u001b[0m\u001b[1;33m(\u001b[0m\u001b[0mself\u001b[0m\u001b[1;33m,\u001b[0m \u001b[0mobj\u001b[0m\u001b[1;33m)\u001b[0m\u001b[1;33m\u001b[0m\u001b[1;33m\u001b[0m\u001b[0m\n\u001b[0m",
      "\u001b[1;32mC:\\Conda\\lib\\json\\encoder.py\u001b[0m in \u001b[0;36mdefault\u001b[1;34m(self, o)\u001b[0m\n\u001b[0;32m    177\u001b[0m \u001b[1;33m\u001b[0m\u001b[0m\n\u001b[0;32m    178\u001b[0m         \"\"\"\n\u001b[1;32m--> 179\u001b[1;33m         raise TypeError(f'Object of type {o.__class__.__name__} '\n\u001b[0m\u001b[0;32m    180\u001b[0m                         f'is not JSON serializable')\n\u001b[0;32m    181\u001b[0m \u001b[1;33m\u001b[0m\u001b[0m\n",
      "\u001b[1;31mTypeError\u001b[0m: Object of type complex is not JSON serializable"
     ]
    },
    {
     "data": {
      "text/plain": [
       "PreparedData(topic_coordinates=                        x                   y  topics  cluster       Freq\n",
       "topic                                                                    \n",
       "14    -0.426324+0.000000j -0.220605+0.000000j       1        1  82.576515\n",
       "0     -0.485374+0.000000j -0.089500+0.000000j       2        1  12.876002\n",
       "24    -0.395176+0.000000j  0.341917+0.000000j       3        1   4.374382\n",
       "16     0.043909+0.000000j  0.028670+0.000000j       4        1   0.144357\n",
       "13     0.063111+0.000000j -0.001681+0.000000j       5        1   0.010233\n",
       "11     0.061526+0.000000j -0.002364+0.000000j       6        1   0.003697\n",
       "2      0.061250+0.000000j -0.002472+0.000000j       7        1   0.003571\n",
       "6      0.060759+0.000000j -0.002661+0.000000j       8        1   0.002793\n",
       "9      0.060220+0.000000j -0.002861+0.000000j       9        1   0.001260\n",
       "5      0.059756+0.000000j -0.003028+0.000000j      10        1   0.000454\n",
       "4      0.059756+0.000000j -0.003028+0.000000j      11        1   0.000450\n",
       "8      0.059756+0.000000j -0.003028+0.000000j      12        1   0.000449\n",
       "10     0.059756+0.000000j -0.003028+0.000000j      13        1   0.000449\n",
       "23     0.059756+0.000000j -0.003028+0.000000j      14        1   0.000449\n",
       "7      0.059756+0.000000j -0.003028+0.000000j      15        1   0.000449\n",
       "17     0.059756+0.000000j -0.003028+0.000000j      16        1   0.000449\n",
       "21     0.059756+0.000000j -0.003028+0.000000j      17        1   0.000449\n",
       "18     0.059756+0.000000j -0.003028+0.000000j      18        1   0.000449\n",
       "15     0.059756+0.000000j -0.003028+0.000000j      19        1   0.000449\n",
       "19     0.059756+0.000000j -0.003028+0.000000j      20        1   0.000449\n",
       "20     0.059756+0.000000j -0.003028+0.000000j      21        1   0.000449\n",
       "1      0.059756+0.000000j -0.003028+0.000000j      22        1   0.000449\n",
       "12     0.059756+0.000000j -0.003028+0.000000j      23        1   0.000449\n",
       "3      0.059756+0.000000j -0.003028+0.000000j      24        1   0.000449\n",
       "22     0.059756+0.000000j -0.003028+0.000000j      25        1   0.000448, topic_info=                    Term          Freq         Total Category  logprob  \\\n",
       "2185            personar  18660.000000  18660.000000  Default  30.0000   \n",
       "1960               mujer  10414.000000  10414.000000  Default  29.0000   \n",
       "1495              hombre   5583.000000   5583.000000  Default  28.0000   \n",
       "117                aguar   7187.000000   7187.000000  Default  27.0000   \n",
       "444                casar   5583.000000   5583.000000  Default  26.0000   \n",
       "...                  ...           ...           ...      ...      ...   \n",
       "20610  sensores_tactiles      0.000197      0.298031  Topic25 -11.0329   \n",
       "20609             sensor      0.000197    447.891908  Topic25 -11.0329   \n",
       "20608     salvapantallas      0.000197      0.298031  Topic25 -11.0329   \n",
       "20607            pizarra      0.000197     43.849976  Topic25 -11.0329   \n",
       "20634        caricaturar      0.000197    223.012388  Topic25 -11.0329   \n",
       "\n",
       "       loglift  \n",
       "2185   30.0000  \n",
       "1960   29.0000  \n",
       "1495   28.0000  \n",
       "117    27.0000  \n",
       "444    26.0000  \n",
       "...        ...  \n",
       "20610   4.9910  \n",
       "20609  -2.3241  \n",
       "20608   4.9910  \n",
       "20607  -0.0004  \n",
       "20634  -1.6268  \n",
       "\n",
       "[1494 rows x 6 columns], token_table=       Topic      Freq        Term\n",
       "term                              \n",
       "13194      1  0.195658      abogar\n",
       "13194      3  0.804516      abogar\n",
       "105        2  0.997926    agricola\n",
       "106        2  0.995886   agricolas\n",
       "108        2  0.999904  agricultor\n",
       "...      ...       ...         ...\n",
       "3980       1  0.026092       votar\n",
       "3980       3  0.973802       votar\n",
       "9556       1  0.025723        voto\n",
       "9556       3  0.977461        voto\n",
       "20613      1  1.007866        zoom\n",
       "\n",
       "[365 rows x 3 columns], R=30, lambda_step=0.01, plot_opts={'xlab': 'PC1', 'ylab': 'PC2'}, topic_order=[15, 1, 25, 17, 14, 12, 3, 7, 10, 6, 5, 9, 11, 24, 8, 18, 22, 19, 16, 20, 21, 2, 13, 4, 23])"
      ]
     },
     "execution_count": 125,
     "metadata": {},
     "output_type": "execute_result"
    }
   ],
   "source": [
    "pyLDAvis.enable_notebook()\n",
    "vis = pyLDAvis.gensim.prepare(optimal_model, corpus, id2word)\n",
    "# pldavis_path = \"src/models/LDA/visualization_LDA_entire_documents\"\n",
    "# pyLDAvis.save_html(vis, pldavis_path + '.html')\n",
    "vis"
   ]
  }
 ],
 "metadata": {
  "kernelspec": {
   "display_name": "Python 3",
   "language": "python",
   "name": "python3"
  },
  "language_info": {
   "codemirror_mode": {
    "name": "ipython",
    "version": 3
   },
   "file_extension": ".py",
   "mimetype": "text/x-python",
   "name": "python",
   "nbconvert_exporter": "python",
   "pygments_lexer": "ipython3",
   "version": "3.7.3"
  }
 },
 "nbformat": 4,
 "nbformat_minor": 4
}
