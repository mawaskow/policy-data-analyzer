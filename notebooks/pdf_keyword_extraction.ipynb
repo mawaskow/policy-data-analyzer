{
 "cells": [
  {
   "cell_type": "code",
   "execution_count": 1,
   "metadata": {},
   "outputs": [],
   "source": [
    "import os\n",
    "import json\n",
    "import nltk\n",
    "from nltk.probability import FreqDist\n",
    "from nltk.tokenize import word_tokenize\n",
    "from nltk.tokenize import sent_tokenize\n",
    "from nltk.corpus import stopwords"
   ]
  },
  {
   "cell_type": "code",
   "execution_count": 2,
   "metadata": {},
   "outputs": [
    {
     "data": {
      "text/plain": [
       "dict_keys(['2019CVE 1713470_Chile', 'Decreto 51_Chile', 'Decreto 95_Chile', 'Decreto8_Chile', 'Ley 20412_Chile', 'LEY-SOBRE-CHILE', 'NormativaForestal_Chile', 'Programas de recuperacion_Chile', 'Resolution306_Chile', 'SUSTENTABILIDAD AGROAMBIENTAL_Chile', 'Constitution_ElSalvador', 'Decreto233_ElSalvador', 'Decreto272_Cafe', 'Decreto864_ApoyoCafe', 'educacion_ambiental_el_salvador', 'Ley de areas naturales protegidas_ElSalvador', 'Ley del medio ambiente_ElSalvador', 'Ley Especial Cafe_ElSalvador', 'Ley Forestal_ElSalvador', 'Ley Turismo_ElSalvador', 'LeyAGROINDUSTRIA_ElSalvador', 'LeyElectricidad_ElSalvador', 'LeyPromocion Acuicultura_ELSalvador', 'LEY_GANADERO_ElSalvador', 'PREP_ElSalvador', 'Decreto101-96_Ley Forestal_Guatemal', 'Decreto2-2015_PROBOSQUE_Guatemala', 'Decreto_109_Guatemala', 'Decreto_51_PINPEP_Guatemala', 'gua60538', 'Resolucion_1.01-2007_Guatemala', 'Resolucion_1.2-98_Guatemala', 'Resolucion_1.30_Montos_Guatemala', 'Resolucion_2.43_Guatemala', 'Resolucion_4.28_PINPEP_Guatemala', 'CONAFOROperations_Mexico', 'CreditoGanadero_Mexico', 'LEY GENERAL DESARROLLO FORESTAL_Mexico', 'LeyCiencia_Mexico', 'Ley_para_Restauracion_Michoacan_Mexico', 'mex50556', 'Mexico_CONAFOR_ plan 2025', 'Michoacan_Mexico', 'ProgramaGanadero_Mexico', 'Sembrando Vida Brochure_Mexico', 'Sembrando Vida Operations_Mexico', 'Sembrando Vida Report', 'Sembrando Vida_Mexico', 'DECRETO008-2005Marco-del-Sistema-Nacional-de-Gestión-Ambiental', 'Decreto102-2001_Peru', 'Decreto_MINAM_Peru', 'LEGISLATIVOS-AMERICA-LATINA', 'Ley 29325  FISCALIZACIÓN AMBIENTAL', 'Ley-General-Ambiente_Peru', 'Ley30573 - Reestructuración Agraria Especial_Peru', 'LEY_28054_Peru', 'Ley_Fauna_Silvestre_Peru', 'Promocion del comercio algodonero', 'Regional_Junin_Peru', 'Regional_Puno_Peru', 'Resolucion047-2015-OEFA_Peru', 'Resolucion30516_Peru'])"
      ]
     },
     "execution_count": 2,
     "metadata": {},
     "output_type": "execute_result"
    }
   ],
   "source": [
    "os.chdir(\"..\")\n",
    "INTER_PATH = os.path.join(\"data\", \"interim\")\n",
    "with open(os.path.join(INTER_PATH, \"pdf_files.json\")) as json_file:\n",
    "    data = json.load(json_file)\n",
    "    \n",
    "data.keys()"
   ]
  },
  {
   "cell_type": "code",
   "execution_count": 3,
   "metadata": {},
   "outputs": [],
   "source": [
    "spa_stopwords = set(stopwords.words('spanish'))"
   ]
  },
  {
   "cell_type": "code",
   "execution_count": 70,
   "metadata": {},
   "outputs": [],
   "source": [
    "def most_freq_words(doc_list, stopwords_set, num_freq_words):\n",
    "    filtered_words = list()\n",
    "    for doc in doc_list:\n",
    "        tokens = [word.lower() for word in word_tokenize(doc)]\n",
    "        filtered_words.extend([word for word in tokens if word.isalpha() and word not in stopwords_set and len(word) > 1])\n",
    "    \n",
    "    return FreqDist(filtered_words).most_common(num_freq_words)"
   ]
  },
  {
   "cell_type": "code",
   "execution_count": 61,
   "metadata": {},
   "outputs": [],
   "source": [
    "def docs_from_json(data):\n",
    "    doc_list = list()\n",
    "    for doc_json in data.values():\n",
    "        doc_list.append(doc_json[\"Text\"])\n",
    "    \n",
    "    return doc_list"
   ]
  },
  {
   "cell_type": "code",
   "execution_count": 62,
   "metadata": {},
   "outputs": [],
   "source": [
    "all_docs = docs_from_json(data)"
   ]
  },
  {
   "cell_type": "code",
   "execution_count": 66,
   "metadata": {},
   "outputs": [],
   "source": [
    "spa_stopwords.add('ley')\n",
    "spa_stopwords.add('artículo')\n",
    "freq_words_map = most_freq_words(all_docs, spa_stopwords, 50)"
   ]
  },
  {
   "cell_type": "code",
   "execution_count": 67,
   "metadata": {},
   "outputs": [
    {
     "data": {
      "text/plain": [
       "[('forestal', 3889),\n",
       " ('manejo', 3106),\n",
       " ('nacional', 2984),\n",
       " ('ambiental', 2807),\n",
       " ('recursos', 2688),\n",
       " ('forestales', 2665),\n",
       " ('desarrollo', 2038),\n",
       " ('naturales', 1913),\n",
       " ('actividades', 1874),\n",
       " ('fauna', 1851),\n",
       " ('áreas', 1624),\n",
       " ('caso', 1594),\n",
       " ('silvestre', 1574),\n",
       " ('ser', 1538),\n",
       " ('ambiente', 1493),\n",
       " ('uso', 1433),\n",
       " ('presente', 1398),\n",
       " ('plan', 1383),\n",
       " ('gestión', 1353),\n",
       " ('conservación', 1305),\n",
       " ('ambientales', 1302),\n",
       " ('especies', 1301),\n",
       " ('servicios', 1298),\n",
       " ('así', 1296),\n",
       " ('deberá', 1286),\n",
       " ('reglamento', 1233),\n",
       " ('aprovechamiento', 1209),\n",
       " ('acuerdo', 1164),\n",
       " ('programa', 1160),\n",
       " ('cambio', 1143),\n",
       " ('ministerio', 1119),\n",
       " ('información', 1101),\n",
       " ('general', 1075),\n",
       " ('sistema', 1063),\n",
       " ('protección', 1032),\n",
       " ('siguientes', 1004),\n",
       " ('dentro', 988),\n",
       " ('plazo', 970),\n",
       " ('productos', 962),\n",
       " ('cada', 959),\n",
       " ('medio', 959),\n",
       " ('según', 942),\n",
       " ('apoyo', 923),\n",
       " ('autoridad', 920),\n",
       " ('decreto', 917),\n",
       " ('acciones', 914),\n",
       " ('planes', 902),\n",
       " ('art', 896),\n",
       " ('podrá', 890),\n",
       " ('regional', 890)]"
      ]
     },
     "execution_count": 67,
     "metadata": {},
     "output_type": "execute_result"
    }
   ],
   "source": [
    "freq_words_map"
   ]
  },
  {
   "cell_type": "code",
   "execution_count": 68,
   "metadata": {},
   "outputs": [],
   "source": [
    "sents = [sent.lower() for sent in sent_tokenize(sample_txt)]\n",
    "filtered_sents = [\" \".join([word for word in sent.split() if word.isalpha() and word not in spa_stopwords]) for sent in sents]"
   ]
  },
  {
   "cell_type": "code",
   "execution_count": 69,
   "metadata": {},
   "outputs": [
    {
     "data": {
      "text/plain": [
       "FreqDist({'': 45, 'modificado letra': 17, 'reemplazado': 16, 'ministerio publicado': 15, 'promulgado publicado': 10, 'modificado': 10, 'sustituido letra': 10, 'reemplazado letra': 7, 'agregado letra': 5, 'agregado': 5, ...})"
      ]
     },
     "execution_count": 69,
     "metadata": {},
     "output_type": "execute_result"
    }
   ],
   "source": [
    "FreqDist(filtered_sents)"
   ]
  },
  {
   "cell_type": "code",
   "execution_count": null,
   "metadata": {},
   "outputs": [],
   "source": []
  }
 ],
 "metadata": {
  "kernelspec": {
   "display_name": "Data Science",
   "language": "python",
   "name": "dsci"
  },
  "language_info": {
   "codemirror_mode": {
    "name": "ipython",
    "version": 3
   },
   "file_extension": ".py",
   "mimetype": "text/x-python",
   "name": "python",
   "nbconvert_exporter": "python",
   "pygments_lexer": "ipython3",
   "version": "3.7.7"
  }
 },
 "nbformat": 4,
 "nbformat_minor": 4
}
